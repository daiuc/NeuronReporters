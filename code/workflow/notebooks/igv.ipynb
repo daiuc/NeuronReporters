{
 "cells": [
  {
   "cell_type": "code",
   "execution_count": 1,
   "id": "d684dd3d-458c-44d9-85c6-4177b1754478",
   "metadata": {},
   "outputs": [],
   "source": [
    "import igv"
   ]
  },
  {
   "cell_type": "code",
   "execution_count": 2,
   "id": "d2e3bfd3-4839-4ee4-b27e-62ba737e33b1",
   "metadata": {},
   "outputs": [],
   "source": [
    "import pandas as pd"
   ]
  },
  {
   "cell_type": "code",
   "execution_count": 3,
   "id": "993a96e7-3246-4bf5-94c0-0e24680a1a20",
   "metadata": {},
   "outputs": [],
   "source": [
    "rna = (pd.read_csv('../../config/rna.tsv', sep='\\t', \n",
    "                   dtype={'treatment': str, 'timepoint':str, 'time':str, 'rep': str, 'batch': str, 'sample':str, 'fastq': str})\n",
    "      .set_index(['treatment', 'timepoint', 'rep', 'batch'], drop=False)\n",
    "      )\n",
    "\n",
    "atac = (pd.read_csv('../../config/atac.tsv', sep='\\t', \n",
    "                   dtype={'time': str, 'timepoint':str, 'rep': str, 'read':str, 'fastq': str})\n",
    "      .set_index(['timepoint', 'rep', 'read'], drop=False)\n",
    "      )"
   ]
  },
  {
   "cell_type": "code",
   "execution_count": 4,
   "id": "f4b6545b-4eba-49d4-be65-39e0882cc167",
   "metadata": {},
   "outputs": [],
   "source": [
    "def getTime(timepoint, df):\n",
    "    return list(set(df.query(' timepoint == @timepoint ').time))[0]"
   ]
  },
  {
   "cell_type": "code",
   "execution_count": 6,
   "id": "59fba0f8-d79e-4c13-b481-08d016ca855b",
   "metadata": {},
   "outputs": [
    {
     "data": {
      "text/plain": [
       "'es'"
      ]
     },
     "execution_count": 6,
     "metadata": {},
     "output_type": "execute_result"
    }
   ],
   "source": [
    "getTime('t0', atac)"
   ]
  },
  {
   "cell_type": "code",
   "execution_count": 7,
   "id": "83badc12-8cbd-4559-b45b-a2c4f999b530",
   "metadata": {},
   "outputs": [],
   "source": [
    "tp = ['t' + str(i) for i in range(6)]\n",
    "\n",
    "atac_url  = ['../../Results/ATACseq/bigwig/' + t + '_1.bw' for t in tp]\n",
    "\n",
    "rna_url = [ '../../Results/RNAseq/bigwig/wt_' + t + '_1_A.bw' for t in tp]\n",
    "\n",
    "atac_labels = [ 'atac:' + getTime(t, atac)  for t in tp]\n",
    "\n",
    "rna_labels = [ 'rna:' + getTime(t, rna)  for t in tp]\n",
    "\n",
    "fmt = ['bigwig']\n",
    "vmax_atac = ['50']\n",
    "vmax_rna = ['100']\n",
    "autoscale = ['true']\n",
    "\n",
    "atac_tracks = [ {'name': a, 'url': b, 'format': c, 'max': d, 'autoscale': e} for a,b,c,d,e in  zip(atac_labels, atac_url, fmt*len(atac_url), vmax_atac*len(atac_url), autoscale*len(atac_url) ) ]\n",
    "\n",
    "rna_tracks = [ {'name': a, 'url': b, 'format': c, 'max': d, 'autoscale': e} for a,b,c,d,e in  zip(rna_labels, rna_url, fmt*len(rna_url), vmax_rna*len(atac_url), autoscale*len(atac_url) ) ]"
   ]
  },
  {
   "cell_type": "code",
   "execution_count": 8,
   "id": "ffd5a3ad-8a08-4f51-a488-43def2658ecf",
   "metadata": {},
   "outputs": [
    {
     "data": {
      "text/plain": [
       "['t0', 't1', 't2', 't3', 't4', 't5']"
      ]
     },
     "execution_count": 8,
     "metadata": {},
     "output_type": "execute_result"
    }
   ],
   "source": [
    "tp"
   ]
  },
  {
   "cell_type": "code",
   "execution_count": 9,
   "id": "32b89311-da14-41b5-ac4f-5d5b56f27ded",
   "metadata": {
    "collapsed": true,
    "jupyter": {
     "outputs_hidden": true
    },
    "tags": []
   },
   "outputs": [
    {
     "data": {
      "text/plain": [
       "[{'name': 'atac:es',\n",
       "  'url': '../../Results/ATACseq/bigwig/t0_1.bw',\n",
       "  'format': 'bigwig',\n",
       "  'max': '50',\n",
       "  'autoscale': 'true'},\n",
       " {'name': 'atac:h1',\n",
       "  'url': '../../Results/ATACseq/bigwig/t1_1.bw',\n",
       "  'format': 'bigwig',\n",
       "  'max': '50',\n",
       "  'autoscale': 'true'},\n",
       " {'name': 'atac:h4',\n",
       "  'url': '../../Results/ATACseq/bigwig/t2_1.bw',\n",
       "  'format': 'bigwig',\n",
       "  'max': '50',\n",
       "  'autoscale': 'true'},\n",
       " {'name': 'atac:h16',\n",
       "  'url': '../../Results/ATACseq/bigwig/t3_1.bw',\n",
       "  'format': 'bigwig',\n",
       "  'max': '50',\n",
       "  'autoscale': 'true'},\n",
       " {'name': 'atac:d1',\n",
       "  'url': '../../Results/ATACseq/bigwig/t4_1.bw',\n",
       "  'format': 'bigwig',\n",
       "  'max': '50',\n",
       "  'autoscale': 'true'},\n",
       " {'name': 'atac:d5',\n",
       "  'url': '../../Results/ATACseq/bigwig/t5_1.bw',\n",
       "  'format': 'bigwig',\n",
       "  'max': '50',\n",
       "  'autoscale': 'true'},\n",
       " {'name': 'rna:es',\n",
       "  'url': '../../Results/RNAseq/bigwig/wt_t0_1_A.bw',\n",
       "  'format': 'bigwig',\n",
       "  'max': '100',\n",
       "  'autoscale': 'true'},\n",
       " {'name': 'rna:h15',\n",
       "  'url': '../../Results/RNAseq/bigwig/wt_t1_1_A.bw',\n",
       "  'format': 'bigwig',\n",
       "  'max': '100',\n",
       "  'autoscale': 'true'},\n",
       " {'name': 'rna:d1',\n",
       "  'url': '../../Results/RNAseq/bigwig/wt_t2_1_A.bw',\n",
       "  'format': 'bigwig',\n",
       "  'max': '100',\n",
       "  'autoscale': 'true'},\n",
       " {'name': 'rna:d2',\n",
       "  'url': '../../Results/RNAseq/bigwig/wt_t3_1_A.bw',\n",
       "  'format': 'bigwig',\n",
       "  'max': '100',\n",
       "  'autoscale': 'true'},\n",
       " {'name': 'rna:d4',\n",
       "  'url': '../../Results/RNAseq/bigwig/wt_t4_1_A.bw',\n",
       "  'format': 'bigwig',\n",
       "  'max': '100',\n",
       "  'autoscale': 'true'},\n",
       " {'name': 'rna:d7',\n",
       "  'url': '../../Results/RNAseq/bigwig/wt_t5_1_A.bw',\n",
       "  'format': 'bigwig',\n",
       "  'max': '100',\n",
       "  'autoscale': 'true'}]"
      ]
     },
     "execution_count": 9,
     "metadata": {},
     "output_type": "execute_result"
    }
   ],
   "source": [
    "atac_tracks + rna_tracks"
   ]
  },
  {
   "cell_type": "markdown",
   "id": "9ad51266-8116-4178-81bc-0bbe3eb218ff",
   "metadata": {},
   "source": [
    "---"
   ]
  },
  {
   "cell_type": "markdown",
   "id": "756cd96b-6b3f-42bb-bc60-4fee0c33a4a0",
   "metadata": {},
   "source": [
    "# IGV"
   ]
  },
  {
   "cell_type": "code",
   "execution_count": 10,
   "id": "c7a9bf5a-f040-43df-85a3-3b183fd58e91",
   "metadata": {},
   "outputs": [],
   "source": [
    "b = igv.Browser({\"genome\": \"hg38\"})"
   ]
  },
  {
   "cell_type": "code",
   "execution_count": 11,
   "id": "9ecc9e74-f000-4f35-a591-c06f8f927cf2",
   "metadata": {},
   "outputs": [
    {
     "data": {
      "text/html": [
       "<div class=\"igv-navbar\"></div><div id=\"igv_9528785\"></div>"
      ],
      "text/plain": [
       "<IPython.core.display.HTML object>"
      ]
     },
     "metadata": {},
     "output_type": "display_data"
    }
   ],
   "source": [
    "b.show()"
   ]
  },
  {
   "cell_type": "markdown",
   "id": "d0fa1140-7f61-43cf-af2f-298386b473c6",
   "metadata": {},
   "source": [
    "---"
   ]
  },
  {
   "cell_type": "code",
   "execution_count": 43,
   "id": "261b2685-efc0-4c4e-95e9-842af2a80edc",
   "metadata": {},
   "outputs": [],
   "source": [
    "b.remove()"
   ]
  },
  {
   "cell_type": "markdown",
   "id": "d2a19112-8b3e-4324-a3db-17314a60bf8f",
   "metadata": {},
   "source": [
    "## Load tracks"
   ]
  },
  {
   "cell_type": "code",
   "execution_count": 12,
   "id": "feeb610e-6455-4c69-8408-b9c24b65d07b",
   "metadata": {},
   "outputs": [
    {
     "name": "stdout",
     "output_type": "stream",
     "text": [
      "{'name': 'atac:es', 'url': '../../Results/ATACseq/bigwig/t0_1.bw', 'format': 'bigwig', 'max': '50', 'autoscale': 'true'}\n",
      "{'name': 'atac:h1', 'url': '../../Results/ATACseq/bigwig/t1_1.bw', 'format': 'bigwig', 'max': '50', 'autoscale': 'true'}\n",
      "{'name': 'atac:h4', 'url': '../../Results/ATACseq/bigwig/t2_1.bw', 'format': 'bigwig', 'max': '50', 'autoscale': 'true'}\n",
      "{'name': 'atac:h16', 'url': '../../Results/ATACseq/bigwig/t3_1.bw', 'format': 'bigwig', 'max': '50', 'autoscale': 'true'}\n",
      "{'name': 'atac:d1', 'url': '../../Results/ATACseq/bigwig/t4_1.bw', 'format': 'bigwig', 'max': '50', 'autoscale': 'true'}\n",
      "{'name': 'atac:d5', 'url': '../../Results/ATACseq/bigwig/t5_1.bw', 'format': 'bigwig', 'max': '50', 'autoscale': 'true'}\n",
      "{'name': 'rna:es', 'url': '../../Results/RNAseq/bigwig/wt_t0_1_A.bw', 'format': 'bigwig', 'max': '100', 'autoscale': 'true'}\n",
      "{'name': 'rna:h15', 'url': '../../Results/RNAseq/bigwig/wt_t1_1_A.bw', 'format': 'bigwig', 'max': '100', 'autoscale': 'true'}\n",
      "{'name': 'rna:d1', 'url': '../../Results/RNAseq/bigwig/wt_t2_1_A.bw', 'format': 'bigwig', 'max': '100', 'autoscale': 'true'}\n",
      "{'name': 'rna:d2', 'url': '../../Results/RNAseq/bigwig/wt_t3_1_A.bw', 'format': 'bigwig', 'max': '100', 'autoscale': 'true'}\n",
      "{'name': 'rna:d4', 'url': '../../Results/RNAseq/bigwig/wt_t4_1_A.bw', 'format': 'bigwig', 'max': '100', 'autoscale': 'true'}\n",
      "{'name': 'rna:d7', 'url': '../../Results/RNAseq/bigwig/wt_t5_1_A.bw', 'format': 'bigwig', 'max': '100', 'autoscale': 'true'}\n"
     ]
    }
   ],
   "source": [
    "for track in atac_tracks + rna_tracks:\n",
    "    print(track)\n",
    "    b.load_track(track)"
   ]
  },
  {
   "cell_type": "code",
   "execution_count": 36,
   "id": "7061e917-8fa4-4765-afb1-c8cd3ae03d58",
   "metadata": {},
   "outputs": [
    {
     "data": {
      "text/html": [
       "<div>\n",
       "<style scoped>\n",
       "    .dataframe tbody tr th:only-of-type {\n",
       "        vertical-align: middle;\n",
       "    }\n",
       "\n",
       "    .dataframe tbody tr th {\n",
       "        vertical-align: top;\n",
       "    }\n",
       "\n",
       "    .dataframe thead th {\n",
       "        text-align: right;\n",
       "    }\n",
       "</style>\n",
       "<table border=\"1\" class=\"dataframe\">\n",
       "  <thead>\n",
       "    <tr style=\"text-align: right;\">\n",
       "      <th></th>\n",
       "      <th></th>\n",
       "      <th></th>\n",
       "      <th>time</th>\n",
       "      <th>timepoint</th>\n",
       "      <th>rep</th>\n",
       "      <th>read</th>\n",
       "      <th>fastq</th>\n",
       "    </tr>\n",
       "    <tr>\n",
       "      <th>timepoint</th>\n",
       "      <th>rep</th>\n",
       "      <th>read</th>\n",
       "      <th></th>\n",
       "      <th></th>\n",
       "      <th></th>\n",
       "      <th></th>\n",
       "      <th></th>\n",
       "    </tr>\n",
       "  </thead>\n",
       "  <tbody>\n",
       "    <tr>\n",
       "      <th rowspan=\"4\" valign=\"top\">t0</th>\n",
       "      <th rowspan=\"2\" valign=\"top\">1</th>\n",
       "      <th>R1</th>\n",
       "      <td>es</td>\n",
       "      <td>t0</td>\n",
       "      <td>1</td>\n",
       "      <td>R1</td>\n",
       "      <td>HG7FNBGX9_n01_ATAC01_11-14-18.fastq.gz</td>\n",
       "    </tr>\n",
       "    <tr>\n",
       "      <th>R2</th>\n",
       "      <td>es</td>\n",
       "      <td>t0</td>\n",
       "      <td>1</td>\n",
       "      <td>R2</td>\n",
       "      <td>HG7FNBGX9_n02_ATAC01_11-14-18.fastq.gz</td>\n",
       "    </tr>\n",
       "    <tr>\n",
       "      <th rowspan=\"2\" valign=\"top\">2</th>\n",
       "      <th>R1</th>\n",
       "      <td>es</td>\n",
       "      <td>t0</td>\n",
       "      <td>2</td>\n",
       "      <td>R1</td>\n",
       "      <td>HG7FNBGX9_n01_ATAC02_11-14-18.fastq.gz</td>\n",
       "    </tr>\n",
       "    <tr>\n",
       "      <th>R2</th>\n",
       "      <td>es</td>\n",
       "      <td>t0</td>\n",
       "      <td>2</td>\n",
       "      <td>R2</td>\n",
       "      <td>HG7FNBGX9_n02_ATAC02_11-14-18.fastq.gz</td>\n",
       "    </tr>\n",
       "    <tr>\n",
       "      <th rowspan=\"4\" valign=\"top\">t1</th>\n",
       "      <th rowspan=\"2\" valign=\"top\">1</th>\n",
       "      <th>R1</th>\n",
       "      <td>h1</td>\n",
       "      <td>t1</td>\n",
       "      <td>1</td>\n",
       "      <td>R1</td>\n",
       "      <td>HG7FNBGX9_n01_ATAC03_11-14-18.fastq.gz</td>\n",
       "    </tr>\n",
       "    <tr>\n",
       "      <th>R2</th>\n",
       "      <td>h1</td>\n",
       "      <td>t1</td>\n",
       "      <td>1</td>\n",
       "      <td>R2</td>\n",
       "      <td>HG7FNBGX9_n02_ATAC03_11-14-18.fastq.gz</td>\n",
       "    </tr>\n",
       "    <tr>\n",
       "      <th rowspan=\"2\" valign=\"top\">2</th>\n",
       "      <th>R1</th>\n",
       "      <td>h1</td>\n",
       "      <td>t1</td>\n",
       "      <td>2</td>\n",
       "      <td>R1</td>\n",
       "      <td>HG7FNBGX9_n01_ATAC04_11-14-18.fastq.gz</td>\n",
       "    </tr>\n",
       "    <tr>\n",
       "      <th>R2</th>\n",
       "      <td>h1</td>\n",
       "      <td>t1</td>\n",
       "      <td>2</td>\n",
       "      <td>R2</td>\n",
       "      <td>HG7FNBGX9_n02_ATAC04_11-14-18.fastq.gz</td>\n",
       "    </tr>\n",
       "    <tr>\n",
       "      <th rowspan=\"4\" valign=\"top\">t2</th>\n",
       "      <th rowspan=\"2\" valign=\"top\">1</th>\n",
       "      <th>R1</th>\n",
       "      <td>h4</td>\n",
       "      <td>t2</td>\n",
       "      <td>1</td>\n",
       "      <td>R1</td>\n",
       "      <td>HG7FNBGX9_n01_ATAC05_11-14-18.fastq.gz</td>\n",
       "    </tr>\n",
       "    <tr>\n",
       "      <th>R2</th>\n",
       "      <td>h4</td>\n",
       "      <td>t2</td>\n",
       "      <td>1</td>\n",
       "      <td>R2</td>\n",
       "      <td>HG7FNBGX9_n02_ATAC05_11-14-18.fastq.gz</td>\n",
       "    </tr>\n",
       "    <tr>\n",
       "      <th rowspan=\"2\" valign=\"top\">2</th>\n",
       "      <th>R1</th>\n",
       "      <td>h4</td>\n",
       "      <td>t2</td>\n",
       "      <td>2</td>\n",
       "      <td>R1</td>\n",
       "      <td>HG7FNBGX9_n01_ATAC06_11-14-18.fastq.gz</td>\n",
       "    </tr>\n",
       "    <tr>\n",
       "      <th>R2</th>\n",
       "      <td>h4</td>\n",
       "      <td>t2</td>\n",
       "      <td>2</td>\n",
       "      <td>R2</td>\n",
       "      <td>HG7FNBGX9_n02_ATAC06_11-14-18.fastq.gz</td>\n",
       "    </tr>\n",
       "    <tr>\n",
       "      <th rowspan=\"4\" valign=\"top\">t3</th>\n",
       "      <th rowspan=\"2\" valign=\"top\">1</th>\n",
       "      <th>R1</th>\n",
       "      <td>h16</td>\n",
       "      <td>t3</td>\n",
       "      <td>1</td>\n",
       "      <td>R1</td>\n",
       "      <td>HG7FNBGX9_n01_ATAC07_11-14-18.fastq.gz</td>\n",
       "    </tr>\n",
       "    <tr>\n",
       "      <th>R2</th>\n",
       "      <td>h16</td>\n",
       "      <td>t3</td>\n",
       "      <td>1</td>\n",
       "      <td>R2</td>\n",
       "      <td>HG7FNBGX9_n02_ATAC07_11-14-18.fastq.gz</td>\n",
       "    </tr>\n",
       "    <tr>\n",
       "      <th rowspan=\"2\" valign=\"top\">2</th>\n",
       "      <th>R1</th>\n",
       "      <td>h16</td>\n",
       "      <td>t3</td>\n",
       "      <td>2</td>\n",
       "      <td>R1</td>\n",
       "      <td>HG7FNBGX9_n01_ATAC08_11-14-18.fastq.gz</td>\n",
       "    </tr>\n",
       "    <tr>\n",
       "      <th>R2</th>\n",
       "      <td>h16</td>\n",
       "      <td>t3</td>\n",
       "      <td>2</td>\n",
       "      <td>R2</td>\n",
       "      <td>HG7FNBGX9_n02_ATAC08_11-14-18.fastq.gz</td>\n",
       "    </tr>\n",
       "    <tr>\n",
       "      <th rowspan=\"4\" valign=\"top\">t4</th>\n",
       "      <th rowspan=\"2\" valign=\"top\">1</th>\n",
       "      <th>R1</th>\n",
       "      <td>d1</td>\n",
       "      <td>t4</td>\n",
       "      <td>1</td>\n",
       "      <td>R1</td>\n",
       "      <td>HG7FNBGX9_n01_ATAC09_11-14-18.fastq.gz</td>\n",
       "    </tr>\n",
       "    <tr>\n",
       "      <th>R2</th>\n",
       "      <td>d1</td>\n",
       "      <td>t4</td>\n",
       "      <td>1</td>\n",
       "      <td>R2</td>\n",
       "      <td>HG7FNBGX9_n02_ATAC09_11-14-18.fastq.gz</td>\n",
       "    </tr>\n",
       "    <tr>\n",
       "      <th rowspan=\"2\" valign=\"top\">2</th>\n",
       "      <th>R1</th>\n",
       "      <td>d1</td>\n",
       "      <td>t4</td>\n",
       "      <td>2</td>\n",
       "      <td>R1</td>\n",
       "      <td>HG7FNBGX9_n01_ATAC10_11-14-18.fastq.gz</td>\n",
       "    </tr>\n",
       "    <tr>\n",
       "      <th>R2</th>\n",
       "      <td>d1</td>\n",
       "      <td>t4</td>\n",
       "      <td>2</td>\n",
       "      <td>R2</td>\n",
       "      <td>HG7FNBGX9_n02_ATAC10_11-14-18.fastq.gz</td>\n",
       "    </tr>\n",
       "    <tr>\n",
       "      <th rowspan=\"4\" valign=\"top\">t5</th>\n",
       "      <th rowspan=\"2\" valign=\"top\">1</th>\n",
       "      <th>R1</th>\n",
       "      <td>d5</td>\n",
       "      <td>t5</td>\n",
       "      <td>1</td>\n",
       "      <td>R1</td>\n",
       "      <td>HG7FNBGX9_n01_ATAC11_11-14-18.fastq.gz</td>\n",
       "    </tr>\n",
       "    <tr>\n",
       "      <th>R2</th>\n",
       "      <td>d5</td>\n",
       "      <td>t5</td>\n",
       "      <td>1</td>\n",
       "      <td>R2</td>\n",
       "      <td>HG7FNBGX9_n02_ATAC11_11-14-18.fastq.gz</td>\n",
       "    </tr>\n",
       "    <tr>\n",
       "      <th rowspan=\"2\" valign=\"top\">2</th>\n",
       "      <th>R1</th>\n",
       "      <td>d5</td>\n",
       "      <td>t5</td>\n",
       "      <td>2</td>\n",
       "      <td>R1</td>\n",
       "      <td>HG7FNBGX9_n01_ATAC12_11-14-18.fastq.gz</td>\n",
       "    </tr>\n",
       "    <tr>\n",
       "      <th>R2</th>\n",
       "      <td>d5</td>\n",
       "      <td>t5</td>\n",
       "      <td>2</td>\n",
       "      <td>R2</td>\n",
       "      <td>HG7FNBGX9_n02_ATAC12_11-14-18.fastq.gz</td>\n",
       "    </tr>\n",
       "  </tbody>\n",
       "</table>\n",
       "</div>"
      ],
      "text/plain": [
       "                   time timepoint rep read  \\\n",
       "timepoint rep read                           \n",
       "t0        1   R1     es        t0   1   R1   \n",
       "              R2     es        t0   1   R2   \n",
       "          2   R1     es        t0   2   R1   \n",
       "              R2     es        t0   2   R2   \n",
       "t1        1   R1     h1        t1   1   R1   \n",
       "              R2     h1        t1   1   R2   \n",
       "          2   R1     h1        t1   2   R1   \n",
       "              R2     h1        t1   2   R2   \n",
       "t2        1   R1     h4        t2   1   R1   \n",
       "              R2     h4        t2   1   R2   \n",
       "          2   R1     h4        t2   2   R1   \n",
       "              R2     h4        t2   2   R2   \n",
       "t3        1   R1    h16        t3   1   R1   \n",
       "              R2    h16        t3   1   R2   \n",
       "          2   R1    h16        t3   2   R1   \n",
       "              R2    h16        t3   2   R2   \n",
       "t4        1   R1     d1        t4   1   R1   \n",
       "              R2     d1        t4   1   R2   \n",
       "          2   R1     d1        t4   2   R1   \n",
       "              R2     d1        t4   2   R2   \n",
       "t5        1   R1     d5        t5   1   R1   \n",
       "              R2     d5        t5   1   R2   \n",
       "          2   R1     d5        t5   2   R1   \n",
       "              R2     d5        t5   2   R2   \n",
       "\n",
       "                                                     fastq  \n",
       "timepoint rep read                                          \n",
       "t0        1   R1    HG7FNBGX9_n01_ATAC01_11-14-18.fastq.gz  \n",
       "              R2    HG7FNBGX9_n02_ATAC01_11-14-18.fastq.gz  \n",
       "          2   R1    HG7FNBGX9_n01_ATAC02_11-14-18.fastq.gz  \n",
       "              R2    HG7FNBGX9_n02_ATAC02_11-14-18.fastq.gz  \n",
       "t1        1   R1    HG7FNBGX9_n01_ATAC03_11-14-18.fastq.gz  \n",
       "              R2    HG7FNBGX9_n02_ATAC03_11-14-18.fastq.gz  \n",
       "          2   R1    HG7FNBGX9_n01_ATAC04_11-14-18.fastq.gz  \n",
       "              R2    HG7FNBGX9_n02_ATAC04_11-14-18.fastq.gz  \n",
       "t2        1   R1    HG7FNBGX9_n01_ATAC05_11-14-18.fastq.gz  \n",
       "              R2    HG7FNBGX9_n02_ATAC05_11-14-18.fastq.gz  \n",
       "          2   R1    HG7FNBGX9_n01_ATAC06_11-14-18.fastq.gz  \n",
       "              R2    HG7FNBGX9_n02_ATAC06_11-14-18.fastq.gz  \n",
       "t3        1   R1    HG7FNBGX9_n01_ATAC07_11-14-18.fastq.gz  \n",
       "              R2    HG7FNBGX9_n02_ATAC07_11-14-18.fastq.gz  \n",
       "          2   R1    HG7FNBGX9_n01_ATAC08_11-14-18.fastq.gz  \n",
       "              R2    HG7FNBGX9_n02_ATAC08_11-14-18.fastq.gz  \n",
       "t4        1   R1    HG7FNBGX9_n01_ATAC09_11-14-18.fastq.gz  \n",
       "              R2    HG7FNBGX9_n02_ATAC09_11-14-18.fastq.gz  \n",
       "          2   R1    HG7FNBGX9_n01_ATAC10_11-14-18.fastq.gz  \n",
       "              R2    HG7FNBGX9_n02_ATAC10_11-14-18.fastq.gz  \n",
       "t5        1   R1    HG7FNBGX9_n01_ATAC11_11-14-18.fastq.gz  \n",
       "              R2    HG7FNBGX9_n02_ATAC11_11-14-18.fastq.gz  \n",
       "          2   R1    HG7FNBGX9_n01_ATAC12_11-14-18.fastq.gz  \n",
       "              R2    HG7FNBGX9_n02_ATAC12_11-14-18.fastq.gz  "
      ]
     },
     "execution_count": 36,
     "metadata": {},
     "output_type": "execute_result"
    }
   ],
   "source": [
    "atac"
   ]
  },
  {
   "cell_type": "code",
   "execution_count": null,
   "id": "412e1b83-d849-421b-8452-3a70fe8994d5",
   "metadata": {},
   "outputs": [],
   "source": []
  }
 ],
 "metadata": {
  "kernelspec": {
   "display_name": "Python 3 (ipykernel)",
   "language": "python",
   "name": "python3"
  },
  "language_info": {
   "codemirror_mode": {
    "name": "ipython",
    "version": 3
   },
   "file_extension": ".py",
   "mimetype": "text/x-python",
   "name": "python",
   "nbconvert_exporter": "python",
   "pygments_lexer": "ipython3",
   "version": "3.9.9"
  }
 },
 "nbformat": 4,
 "nbformat_minor": 5
}
