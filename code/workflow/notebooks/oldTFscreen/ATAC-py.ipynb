{
 "cells": [
  {
   "cell_type": "markdown",
   "metadata": {},
   "source": [
    "# Formatting stuff"
   ]
  },
  {
   "cell_type": "code",
   "execution_count": 257,
   "metadata": {
    "ExecuteTime": {
     "end_time": "2019-08-14T12:41:36.104188Z",
     "start_time": "2019-08-14T12:41:33.488312Z"
    },
    "slideshow": {
     "slide_type": "-"
    }
   },
   "outputs": [],
   "source": [
    "#housekeeping and essential imports\n",
    "import pandas as pd\n",
    "import os\n",
    "\n",
    "pd.set_option('display.max_rows', 500)\n",
    "pd.set_option('display.width', 1800)\n",
    "pd.set_option ('display.max_colwidth', 150)\n",
    "pd.set_option('display.max_columns', 50)\n",
    "\n",
    "from IPython.core.interactiveshell import InteractiveShell\n",
    "InteractiveShell.ast_node_interactivity = \"all\""
   ]
  },
  {
   "cell_type": "code",
   "execution_count": 258,
   "metadata": {
    "ExecuteTime": {
     "end_time": "2019-08-14T19:40:23.175462Z",
     "start_time": "2019-08-14T19:40:23.171646Z"
    }
   },
   "outputs": [],
   "source": [
    "# surpress warnings\n",
    "import warnings\n",
    "warnings.filterwarnings('ignore')"
   ]
  },
  {
   "cell_type": "code",
   "execution_count": 361,
   "metadata": {
    "ExecuteTime": {
     "end_time": "2019-08-14T12:42:07.846043Z",
     "start_time": "2019-08-14T12:42:07.842041Z"
    },
    "slideshow": {
     "slide_type": "-"
    }
   },
   "outputs": [
    {
     "data": {
      "text/html": [
       "<style>.container { width:99% !important; }</style>"
      ],
      "text/plain": [
       "<IPython.core.display.HTML object>"
      ]
     },
     "metadata": {},
     "output_type": "display_data"
    }
   ],
   "source": [
    "from IPython.core.display import display, HTML\n",
    "display(HTML(\"<style>.container { width:99% !important; }</style>\"))"
   ]
  },
  {
   "cell_type": "code",
   "execution_count": 360,
   "metadata": {
    "ExecuteTime": {
     "end_time": "2019-08-14T12:42:12.065934Z",
     "start_time": "2019-08-14T12:42:11.336896Z"
    },
    "slideshow": {
     "slide_type": "-"
    }
   },
   "outputs": [],
   "source": [
    "import matplotlib.pyplot as plt\n",
    "from matplotlib.ticker import FuncFormatter\n",
    "%matplotlib inline\n",
    "import seaborn as sns\n",
    "plt.style.use('ggplot')\n",
    "#plt.style.use('seaborn-dark-palette')\n",
    "#plt.style.use('seaborn')"
   ]
  },
  {
   "cell_type": "markdown",
   "metadata": {},
   "source": [
    "---"
   ]
  },
  {
   "cell_type": "markdown",
   "metadata": {},
   "source": [
    "# Pipeline summary\n",
    "0. **ACTION ITEM**: normalize bams. make sure all samples must have the same amountof reads/alignements, but within 2 replicates, they can vary.\n",
    "1. Get *annotation:*\n",
    "    - make `BED` of protein coding genes (__`/gpfs/commons/groups/sanjana_lab/cdai/TFscreen/atac/Protein_coding_genes.bed`__):\n",
    "    - makde `BED` of promoter region of protein coding genes(__`/gpfs/commons/groups/sanjana_lab/cdai/TFscreen/atac/Protein_coding_gene_promoters.bed`__):\n",
    "        - expand TSS up 2000 down 500: `slobBed -i input -g genomesize -l 2000 -r 500 -s` -s for stranded expansion. I ended up using python script instead\n",
    "2. annotate each peak (__`/gpfs/commons/groups/sanjana_lab/cdai/TFscreen/atac/macs2/v6/*.broadPeak`__) with both promoter region and gene body (bash script __`annotate_peaks.sh`__)\n",
    "    \n",
    "3. Get peak counts and read counts per feature (gene body or gene promoter region). python script below. \n",
    "\n",
    "4. Use R scripts to do downstream analysis."
   ]
  },
  {
   "cell_type": "markdown",
   "metadata": {},
   "source": [
    "---"
   ]
  },
  {
   "cell_type": "markdown",
   "metadata": {},
   "source": [
    "## Python Script\n",
    "\n",
    "### get TSS and gene body annotation from gencode GTF"
   ]
  },
  {
   "cell_type": "code",
   "execution_count": 12,
   "metadata": {},
   "outputs": [],
   "source": [
    "gtf = pd.read_csv('/c/groups/sanjana_lab/cdai/ref_genome/gencode.v31.primary_assembly.annotation.pandas.df.txt', sep='\\t')"
   ]
  },
  {
   "cell_type": "code",
   "execution_count": 19,
   "metadata": {},
   "outputs": [],
   "source": [
    "gtfColNames=['seqname', 'start', 'end', 'gene_id', 'gene_name' , 'strand']"
   ]
  },
  {
   "cell_type": "code",
   "execution_count": 112,
   "metadata": {},
   "outputs": [],
   "source": [
    "# protein coding genes only\n",
    "protein_coding_genes = gtf[(gtf.feature == 'gene') & (gtf.gene_type.isin(['protein_coding']) & \n",
    "                           (gtf.seqname.str.len() <6)) & (gtf.seqname != 'chrM')][gtfColNames]"
   ]
  },
  {
   "cell_type": "code",
   "execution_count": null,
   "metadata": {},
   "outputs": [],
   "source": [
    "# get promoter regions\n",
    "promoters = gtf[(gtf.feature == 'gene') & (gtf.gene_type.isin(['protein_coding']) & \n",
    "                           (gtf.seqname.str.len() <6)) & (gtf.seqname != 'chrM')][gtfColNames] # first get list of protein coding genes\n",
    "promoters['TSS'] = promoters.apply(lambda x: x.start if x.strand == '+' else x.end, axis=1) # then get exact Transcription START coordinate\n",
    "\n",
    "# get range of promoter region based on the gene's strandedness\n",
    "promoters['start'] = promoters.apply(lambda x: x.TSS - 2000 if x.strand == '+' else x.TSS + 2000, axis=1)\n",
    "promoters['end'] = promoters.apply(lambda x: x.TSS + 500 if x.strand == '+' else x.TSS - 500, axis=1)\n",
    "\n",
    "# correct [start, end] coordinates, smaller value on the left (otherwise, pedtools intersect won't give any result)\n",
    "start = [min(x[0],x[1]) for x in list(zip(promoters['start'], promoters['end']))]\n",
    "end = [max(x[0],x[1]) for x in list(zip(promoters['start'], promoters['end']))]\n",
    "promoters['start'] = start\n",
    "promoters['end'] = end\n",
    "\n",
    "promoters = promoters[gtfColNames]"
   ]
  },
  {
   "cell_type": "code",
   "execution_count": 121,
   "metadata": {},
   "outputs": [],
   "source": [
    "promoters.to_csv('Protein_coding_gene_promoters.bed', index=False, header=None, sep='\\t')\n",
    "protein_coding_genes.to_csv('Protein_coding_genes.bed', index=False, header=None, sep='\\t')"
   ]
  },
  {
   "cell_type": "markdown",
   "metadata": {},
   "source": [
    "---"
   ]
  },
  {
   "cell_type": "markdown",
   "metadata": {},
   "source": [
    "## BASH script\n",
    "\n",
    "`/c/groups/sanjana_lab/cdai/TFscreen/atac/macs2/v6/annotate_peaks.sh`"
   ]
  },
  {
   "cell_type": "raw",
   "metadata": {},
   "source": [
    "# %load annotate_peaks.sh\n",
    "#!/bin/bash\n",
    "#\n",
    "#$ -N BED \n",
    "#$ -t 1-12\n",
    "#$ -j y\n",
    "#$ -cwd\n",
    "#$ -V\n",
    "#$ -pe smp 1\n",
    "#$ -l h_vmem=10G\n",
    "\n",
    "\n",
    "\n",
    "module purge\n",
    "module load bedtools\n",
    "\n",
    "PEAKFILES=(/gpfs/commons/groups/sanjana_lab/cdai/TFscreen/atac/macs2/v6/ATAC*.counts.bed)\n",
    "GENES=\"/gpfs/commons/groups/sanjana_lab/cdai/TFscreen/atac/Protein_coding_genes.bed\"\n",
    "PROMOTERS=\"/gpfs/commons/groups/sanjana_lab/cdai/TFscreen/atac/Protein_coding_gene_promoters.bed\"\n",
    "\n",
    "echo \"Current working directory: $(pwd)\"\n",
    "echo \"Current task: $SGE_TASK_ID\"\n",
    "echo \"Started at $(date)\"\n",
    "\n",
    "\n",
    "peak=${PEAKFILES[SGE_TASK_ID - 1]}\n",
    "sample=$(basename -s .counts.bed $peak)\n",
    "\n",
    "echo \"Working on $peak\"\n",
    "\n",
    "### intersect with genes\n",
    "# write both beds, average length of peak is 300, forcing min ~10 bp overlap\n",
    "echo \"intersectBed -a $peak -b $GENES -wa -wb -f 0.03 > ${sample}_x_gene.bed\"\n",
    "intersectBed -a $peak -b $GENES -wa -wb > ${sample}_x_gene.bed\n",
    "\n",
    "\n",
    "### intersect with promoter region\n",
    "echo \"intersectBed -a $peak -b $PROMOTERS -wa -wb -f 0.03 > ${sample}_x_promoter.bed\"\n",
    "intersectBed -a $peak -b $PROMOTERS -wa -wb -f 0.03  > ${sample}_x_promoter.bed\n",
    "\n",
    "echo \"Success!\"\n",
    "echo \"Ended at $(date)\""
   ]
  },
  {
   "cell_type": "markdown",
   "metadata": {},
   "source": [
    "---"
   ]
  },
  {
   "cell_type": "markdown",
   "metadata": {},
   "source": [
    "## Python Script\n",
    "\n",
    "### Generate readcount / peakcount matrix:"
   ]
  },
  {
   "cell_type": "code",
   "execution_count": 126,
   "metadata": {},
   "outputs": [],
   "source": [
    "import pandas as pd\n",
    "import os\n",
    "import glob"
   ]
  },
  {
   "cell_type": "code",
   "execution_count": 125,
   "metadata": {},
   "outputs": [],
   "source": [
    "os.chdir('/c/groups/sanjana_lab/cdai/TFscreen/atac/macs2/v6')"
   ]
  },
  {
   "cell_type": "code",
   "execution_count": 242,
   "metadata": {},
   "outputs": [],
   "source": [
    "gtf = pd.read_csv('/c/groups/sanjana_lab/cdai/ref_genome/gencode.v31.primary_assembly.annotation.pandas.df.txt', sep='\\t')\n",
    "gencode_gene_list = gtf[gtf.feature == 'gene'].gene_id # get gencode gene only gene-id"
   ]
  },
  {
   "cell_type": "code",
   "execution_count": 335,
   "metadata": {},
   "outputs": [],
   "source": [
    "def getAtacCountMatrix(filenames, samplenames, Nsamples, gene_list):\n",
    "    \"\"\"Provide a list of filenames, and extracted sample names. Return 2 dataframes:\n",
    "    1. 60622 rows of gene_id, n columns of samples, each column is read counts of all peaks in the gene region or promoter region\n",
    "    2. 60622 rows of gene_id, n columns of samples, each column is number of peaks of the gene region or promoter region\"\"\"\n",
    "    \n",
    "    readcounts_df = pd.DataFrame(gene_list)\n",
    "    peakcounts_df = pd.DataFrame(gene_list)\n",
    "\n",
    "    for f,a in zip(filenames,samplenames):\n",
    "        quantReads = pd.read_csv(f,sep='\\t', header=None) # read peak calling file\n",
    "        quantReads.rename(columns={3:'peak_name', 9:'readcount' , 13:'gene_id', 14:'gene_name'}, inplace=True) # rename a few columns to make it more readable\n",
    "        reads_per_gene = quantReads.groupby(by=['gene_id'])['readcount'].sum().reset_index().rename(columns={'readcount':a}) # sum reads per gene, name column by sample name\n",
    "        peaks_per_gene = quantReads.groupby(by=['gene_id'])['peak_name'].size().reset_index().rename(columns={'peak_name':a}) # sum number of peaks per gene\n",
    "        readcounts_df = pd.merge(readcounts_df, reads_per_gene, how='left', on='gene_id', ) # add column of sample data\n",
    "        peakcounts_df = pd.merge(peakcounts_df, peaks_per_gene, how='left', on='gene_id') # add column of sample data\n",
    "\n",
    "    column_order = ['gene_id'] + ['A'+str(x) for x in range(1,Nsamples+1)]\n",
    "    readcounts_df = readcounts_df[column_order]\n",
    "    peakcounts_df = peakcounts_df[column_order]\n",
    "    \n",
    "    return readcounts_df, peakcounts_df"
   ]
  },
  {
   "cell_type": "markdown",
   "metadata": {},
   "source": [
    "##### get ATAC-seq promoter region readcounts and peak counts"
   ]
  },
  {
   "cell_type": "code",
   "execution_count": 334,
   "metadata": {},
   "outputs": [],
   "source": [
    "filenames = glob.glob('*_x_promoter.bed') # get filenames of ATACseq \n",
    "samplenames = ['A'+ x.split('.')[0].split('_')[0].strip('ATAC') for x in filenames] # extract sample names from file names"
   ]
  },
  {
   "cell_type": "code",
   "execution_count": 336,
   "metadata": {},
   "outputs": [],
   "source": [
    "readcounts_df, peakcounts_df = getAtacCountMatrix(filenames, samplenames, 12, gencode_gene_list)"
   ]
  },
  {
   "cell_type": "code",
   "execution_count": 332,
   "metadata": {},
   "outputs": [],
   "source": [
    "readcounts_df.to_csv('ATAC_Promoter_Peak_rawreadcounts.txt', sep='\\t', header=True, index=False)\n",
    "peakcounts_df.to_csv('ATAC_Promoter_NumberofPeaks.txt', sep='\\t', header=True, index=False)"
   ]
  },
  {
   "cell_type": "markdown",
   "metadata": {},
   "source": [
    "##### get ATAC-seq gene body region (gene code feature=gene coordinates) readcounts and peak counts"
   ]
  },
  {
   "cell_type": "code",
   "execution_count": 339,
   "metadata": {},
   "outputs": [],
   "source": [
    "fn = glob.glob('*_x_gene.bed')"
   ]
  },
  {
   "cell_type": "code",
   "execution_count": 341,
   "metadata": {},
   "outputs": [],
   "source": [
    "sn = ['A'+ x.split('.')[0].split('_')[0].strip('ATAC') for x in fn] # extract sample names from file names"
   ]
  },
  {
   "cell_type": "code",
   "execution_count": 345,
   "metadata": {},
   "outputs": [],
   "source": [
    "readcounts_df2, peakcounts_df2 = getAtacCountMatrix(fn, sn, 12, gencode_gene_list)"
   ]
  },
  {
   "cell_type": "code",
   "execution_count": 350,
   "metadata": {},
   "outputs": [],
   "source": [
    "readcounts_df2.to_csv('ATAC_genebody_Peak_rawreadcounts.txt', sep='\\t', header=True, index=False)\n",
    "peakcounts_df2.to_csv('ATAC_genebody_NumberofPeaks.txt', sep='\\t', header=True, index=False)"
   ]
  },
  {
   "cell_type": "markdown",
   "metadata": {},
   "source": [
    "---"
   ]
  },
  {
   "cell_type": "code",
   "execution_count": null,
   "metadata": {},
   "outputs": [],
   "source": []
  }
 ],
 "metadata": {
  "kernelspec": {
   "display_name": "Python 3",
   "language": "python",
   "name": "python3"
  },
  "language_info": {
   "codemirror_mode": {
    "name": "ipython",
    "version": 3
   },
   "file_extension": ".py",
   "mimetype": "text/x-python",
   "name": "python",
   "nbconvert_exporter": "python",
   "pygments_lexer": "ipython3",
   "version": "3.9.5"
  },
  "toc": {
   "base_numbering": 1,
   "nav_menu": {},
   "number_sections": true,
   "sideBar": true,
   "skip_h1_title": false,
   "title_cell": "Table of Contents",
   "title_sidebar": "Contents",
   "toc_cell": false,
   "toc_position": {},
   "toc_section_display": true,
   "toc_window_display": false
  }
 },
 "nbformat": 4,
 "nbformat_minor": 4
}
