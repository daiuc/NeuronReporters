{
 "cells": [
  {
   "cell_type": "markdown",
   "metadata": {},
   "source": [
    "# This Notebook uses RSEM coutns"
   ]
  },
  {
   "cell_type": "code",
   "execution_count": 1,
   "metadata": {
    "ExecuteTime": {
     "end_time": "2019-09-24T22:26:12.241253Z",
     "start_time": "2019-09-24T22:26:12.774Z"
    }
   },
   "outputs": [],
   "source": [
    "library(repr)\n",
    "options(repr.plot.width=7, repr.plot.height=7)"
   ]
  },
  {
   "cell_type": "raw",
   "metadata": {
    "ExecuteTime": {
     "end_time": "2019-08-25T20:11:13.790787Z",
     "start_time": "2019-08-25T20:11:11.794Z"
    }
   },
   "source": [
    "if (!requireNamespace(\"BiocManager\", quietly = TRUE))\n",
    "    install.packages(\"BiocManager\")\n",
    "\n",
    "BiocManager::install(\"tmm\")"
   ]
  },
  {
   "cell_type": "code",
   "execution_count": 6,
   "metadata": {
    "ExecuteTime": {
     "end_time": "2019-09-24T22:26:24.555976Z",
     "start_time": "2019-09-24T22:26:18.269Z"
    },
    "scrolled": true
   },
   "outputs": [],
   "source": [
    "library(dplyr)\n",
    "library(tidyverse)\n",
    "library(WriteXLS)\n",
    "library(stringr)"
   ]
  },
  {
   "cell_type": "code",
   "execution_count": 7,
   "metadata": {
    "ExecuteTime": {
     "end_time": "2019-09-24T22:26:24.578772Z",
     "start_time": "2019-09-24T22:26:18.554Z"
    }
   },
   "outputs": [],
   "source": [
    "library(DESeq2)\n",
    "library(apeglm)\n",
    "library(EnhancedVolcano)\n",
    "library(ggplot2)"
   ]
  },
  {
   "cell_type": "code",
   "execution_count": 8,
   "metadata": {
    "ExecuteTime": {
     "end_time": "2019-09-24T22:26:24.594671Z",
     "start_time": "2019-09-24T22:26:18.816Z"
    }
   },
   "outputs": [],
   "source": [
    "quadroot <- function (x) { # function to help decrease range of read counts. Easier for heatmap visulization\n",
    "    return(x^(1/4))\n",
    "}"
   ]
  },
  {
   "cell_type": "code",
   "execution_count": 9,
   "metadata": {
    "ExecuteTime": {
     "end_time": "2019-09-24T22:26:24.610078Z",
     "start_time": "2019-09-24T22:26:19.954Z"
    }
   },
   "outputs": [],
   "source": [
    "library(pheatmap)"
   ]
  },
  {
   "cell_type": "code",
   "execution_count": 10,
   "metadata": {
    "ExecuteTime": {
     "end_time": "2019-09-24T22:26:26.989669Z",
     "start_time": "2019-09-24T22:26:27.880Z"
    }
   },
   "outputs": [],
   "source": [
    "setwd('/gpfs/commons/groups/sanjana_lab/cdai/TFscreen/')"
   ]
  },
  {
   "cell_type": "code",
   "execution_count": 11,
   "metadata": {
    "ExecuteTime": {
     "end_time": "2019-09-24T22:26:27.863288Z",
     "start_time": "2019-09-24T22:26:28.754Z"
    }
   },
   "outputs": [
    {
     "data": {
      "text/html": [
       "<ol class=list-inline>\n",
       "\t<li>'conditions_group1.csv'</li>\n",
       "\t<li>'conditions_group2.csv'</li>\n",
       "\t<li>'conditions_group3.csv'</li>\n",
       "\t<li>'Day4_WT_vs_ZBTB18_KO_sigGenes.csv'</li>\n",
       "\t<li>'ES_WT_vs_ZBTB18_KO_Sig_Genes.csv'</li>\n",
       "\t<li>'FoldChangeByTimePoints.csv'</li>\n",
       "\t<li>'HitGeneCount.csv'</li>\n",
       "\t<li>'HitGeneCountMM.csv'</li>\n",
       "\t<li>'HS_td-VStd+_td-VSdox120.csv'</li>\n",
       "\t<li>'intersection_output.csv'</li>\n",
       "\t<li>'Mouse ESC screen.csv'</li>\n",
       "\t<li>'plot_screen_data_sqrt.csv'</li>\n",
       "\t<li>'plot_screen_data.csv'</li>\n",
       "\t<li>'plot_screenMM_data.csv'</li>\n",
       "\t<li>'RCmNorRatioLog2.lu.csv'</li>\n",
       "\t<li>'RNASeqSampleNames.csv'</li>\n",
       "\t<li>'rsem_counts_B1B2_combined.csv'</li>\n",
       "\t<li>'Significant_genes_DOXvsES.csv'</li>\n",
       "\t<li>'Significant_genes_WTvsZBTB18KO.csv'</li>\n",
       "\t<li>'TF_Screen_FC_Pval_15HvsES.csv'</li>\n",
       "\t<li>'TF_Screen_FC_Pval_1DvsES.csv'</li>\n",
       "\t<li>'TF_Screen_FC_Pval_2DvsES.csv'</li>\n",
       "\t<li>'TF_Screen_FC_Pval_4DvsES.csv'</li>\n",
       "\t<li>'TF_Screen_FC_Pval_7DvsES.csv'</li>\n",
       "\t<li>'TF_ScreenSelectedNormalizedCounts.csv'</li>\n",
       "\t<li>'tf.heatmap.genes.csv'</li>\n",
       "\t<li>'tf.heatmap.genes.down.csv'</li>\n",
       "\t<li>'tf.heatmap.genes.up.csv'</li>\n",
       "\t<li>'TFlist.csv'</li>\n",
       "</ol>\n"
      ],
      "text/latex": [
       "\\begin{enumerate*}\n",
       "\\item 'conditions\\_group1.csv'\n",
       "\\item 'conditions\\_group2.csv'\n",
       "\\item 'conditions\\_group3.csv'\n",
       "\\item 'Day4\\_WT\\_vs\\_ZBTB18\\_KO\\_sigGenes.csv'\n",
       "\\item 'ES\\_WT\\_vs\\_ZBTB18\\_KO\\_Sig\\_Genes.csv'\n",
       "\\item 'FoldChangeByTimePoints.csv'\n",
       "\\item 'HitGeneCount.csv'\n",
       "\\item 'HitGeneCountMM.csv'\n",
       "\\item 'HS\\_td-VStd+\\_td-VSdox120.csv'\n",
       "\\item 'intersection\\_output.csv'\n",
       "\\item 'Mouse ESC screen.csv'\n",
       "\\item 'plot\\_screen\\_data\\_sqrt.csv'\n",
       "\\item 'plot\\_screen\\_data.csv'\n",
       "\\item 'plot\\_screenMM\\_data.csv'\n",
       "\\item 'RCmNorRatioLog2.lu.csv'\n",
       "\\item 'RNASeqSampleNames.csv'\n",
       "\\item 'rsem\\_counts\\_B1B2\\_combined.csv'\n",
       "\\item 'Significant\\_genes\\_DOXvsES.csv'\n",
       "\\item 'Significant\\_genes\\_WTvsZBTB18KO.csv'\n",
       "\\item 'TF\\_Screen\\_FC\\_Pval\\_15HvsES.csv'\n",
       "\\item 'TF\\_Screen\\_FC\\_Pval\\_1DvsES.csv'\n",
       "\\item 'TF\\_Screen\\_FC\\_Pval\\_2DvsES.csv'\n",
       "\\item 'TF\\_Screen\\_FC\\_Pval\\_4DvsES.csv'\n",
       "\\item 'TF\\_Screen\\_FC\\_Pval\\_7DvsES.csv'\n",
       "\\item 'TF\\_ScreenSelectedNormalizedCounts.csv'\n",
       "\\item 'tf.heatmap.genes.csv'\n",
       "\\item 'tf.heatmap.genes.down.csv'\n",
       "\\item 'tf.heatmap.genes.up.csv'\n",
       "\\item 'TFlist.csv'\n",
       "\\end{enumerate*}\n"
      ],
      "text/markdown": [
       "1. 'conditions_group1.csv'\n",
       "2. 'conditions_group2.csv'\n",
       "3. 'conditions_group3.csv'\n",
       "4. 'Day4_WT_vs_ZBTB18_KO_sigGenes.csv'\n",
       "5. 'ES_WT_vs_ZBTB18_KO_Sig_Genes.csv'\n",
       "6. 'FoldChangeByTimePoints.csv'\n",
       "7. 'HitGeneCount.csv'\n",
       "8. 'HitGeneCountMM.csv'\n",
       "9. 'HS_td-VStd+_td-VSdox120.csv'\n",
       "10. 'intersection_output.csv'\n",
       "11. 'Mouse ESC screen.csv'\n",
       "12. 'plot_screen_data_sqrt.csv'\n",
       "13. 'plot_screen_data.csv'\n",
       "14. 'plot_screenMM_data.csv'\n",
       "15. 'RCmNorRatioLog2.lu.csv'\n",
       "16. 'RNASeqSampleNames.csv'\n",
       "17. 'rsem_counts_B1B2_combined.csv'\n",
       "18. 'Significant_genes_DOXvsES.csv'\n",
       "19. 'Significant_genes_WTvsZBTB18KO.csv'\n",
       "20. 'TF_Screen_FC_Pval_15HvsES.csv'\n",
       "21. 'TF_Screen_FC_Pval_1DvsES.csv'\n",
       "22. 'TF_Screen_FC_Pval_2DvsES.csv'\n",
       "23. 'TF_Screen_FC_Pval_4DvsES.csv'\n",
       "24. 'TF_Screen_FC_Pval_7DvsES.csv'\n",
       "25. 'TF_ScreenSelectedNormalizedCounts.csv'\n",
       "26. 'tf.heatmap.genes.csv'\n",
       "27. 'tf.heatmap.genes.down.csv'\n",
       "28. 'tf.heatmap.genes.up.csv'\n",
       "29. 'TFlist.csv'\n",
       "\n",
       "\n"
      ],
      "text/plain": [
       " [1] \"conditions_group1.csv\"                \n",
       " [2] \"conditions_group2.csv\"                \n",
       " [3] \"conditions_group3.csv\"                \n",
       " [4] \"Day4_WT_vs_ZBTB18_KO_sigGenes.csv\"    \n",
       " [5] \"ES_WT_vs_ZBTB18_KO_Sig_Genes.csv\"     \n",
       " [6] \"FoldChangeByTimePoints.csv\"           \n",
       " [7] \"HitGeneCount.csv\"                     \n",
       " [8] \"HitGeneCountMM.csv\"                   \n",
       " [9] \"HS_td-VStd+_td-VSdox120.csv\"          \n",
       "[10] \"intersection_output.csv\"              \n",
       "[11] \"Mouse ESC screen.csv\"                 \n",
       "[12] \"plot_screen_data_sqrt.csv\"            \n",
       "[13] \"plot_screen_data.csv\"                 \n",
       "[14] \"plot_screenMM_data.csv\"               \n",
       "[15] \"RCmNorRatioLog2.lu.csv\"               \n",
       "[16] \"RNASeqSampleNames.csv\"                \n",
       "[17] \"rsem_counts_B1B2_combined.csv\"        \n",
       "[18] \"Significant_genes_DOXvsES.csv\"        \n",
       "[19] \"Significant_genes_WTvsZBTB18KO.csv\"   \n",
       "[20] \"TF_Screen_FC_Pval_15HvsES.csv\"        \n",
       "[21] \"TF_Screen_FC_Pval_1DvsES.csv\"         \n",
       "[22] \"TF_Screen_FC_Pval_2DvsES.csv\"         \n",
       "[23] \"TF_Screen_FC_Pval_4DvsES.csv\"         \n",
       "[24] \"TF_Screen_FC_Pval_7DvsES.csv\"         \n",
       "[25] \"TF_ScreenSelectedNormalizedCounts.csv\"\n",
       "[26] \"tf.heatmap.genes.csv\"                 \n",
       "[27] \"tf.heatmap.genes.down.csv\"            \n",
       "[28] \"tf.heatmap.genes.up.csv\"              \n",
       "[29] \"TFlist.csv\"                           "
      ]
     },
     "metadata": {},
     "output_type": "display_data"
    }
   ],
   "source": [
    "list.files('.', c('csv'))"
   ]
  },
  {
   "cell_type": "code",
   "execution_count": 12,
   "metadata": {
    "ExecuteTime": {
     "end_time": "2019-09-24T22:26:34.486557Z",
     "start_time": "2019-09-24T22:26:31.654Z"
    }
   },
   "outputs": [],
   "source": [
    "cnts <- read.csv(file = 'rsem_counts_B1B2_combined.csv')"
   ]
  },
  {
   "cell_type": "code",
   "execution_count": 13,
   "metadata": {
    "ExecuteTime": {
     "end_time": "2019-09-24T22:26:34.552176Z",
     "start_time": "2019-09-24T22:26:32.018Z"
    }
   },
   "outputs": [
    {
     "data": {
      "text/html": [
       "<table>\n",
       "<caption>A data.frame: 6 × 46</caption>\n",
       "<thead>\n",
       "\t<tr><th scope=col>gene_id</th><th scope=col>gene_name</th><th scope=col>S01_B1</th><th scope=col>S01_B2</th><th scope=col>S02_B1</th><th scope=col>S02_B2</th><th scope=col>S03_B1</th><th scope=col>S03_B2</th><th scope=col>S04_B1</th><th scope=col>S04_B2</th><th scope=col>⋯</th><th scope=col>S18_B1</th><th scope=col>S18_B2</th><th scope=col>S19_B1</th><th scope=col>S19_B2</th><th scope=col>S20_B1</th><th scope=col>S20_B2</th><th scope=col>S21_B1</th><th scope=col>S21_B2</th><th scope=col>S22_B1</th><th scope=col>S22_B2</th></tr>\n",
       "\t<tr><th scope=col>&lt;fct&gt;</th><th scope=col>&lt;fct&gt;</th><th scope=col>&lt;dbl&gt;</th><th scope=col>&lt;dbl&gt;</th><th scope=col>&lt;dbl&gt;</th><th scope=col>&lt;dbl&gt;</th><th scope=col>&lt;dbl&gt;</th><th scope=col>&lt;dbl&gt;</th><th scope=col>&lt;dbl&gt;</th><th scope=col>&lt;dbl&gt;</th><th scope=col>⋯</th><th scope=col>&lt;dbl&gt;</th><th scope=col>&lt;dbl&gt;</th><th scope=col>&lt;dbl&gt;</th><th scope=col>&lt;dbl&gt;</th><th scope=col>&lt;dbl&gt;</th><th scope=col>&lt;dbl&gt;</th><th scope=col>&lt;dbl&gt;</th><th scope=col>&lt;dbl&gt;</th><th scope=col>&lt;dbl&gt;</th><th scope=col>&lt;dbl&gt;</th></tr>\n",
       "</thead>\n",
       "<tbody>\n",
       "\t<tr><td>ENSG00000000003.14</td><td>TSPAN6  </td><td>817.0001</td><td>966.0001</td><td>789.0001</td><td>1226.0001</td><td>757.0001</td><td>723.0001</td><td>991.0001</td><td>1400.0001</td><td>⋯</td><td>1262.0001</td><td>2215.0001</td><td>1604.0001</td><td>2076.0001</td><td>1064.0001</td><td>2301.0001</td><td>175.0001</td><td>457.0001</td><td>294.0001</td><td>584.0001</td></tr>\n",
       "\t<tr><td>ENSG00000000005.6 </td><td>TNMD    </td><td> 19.0001</td><td>  0.0001</td><td>  0.0001</td><td>  11.0001</td><td> 11.0001</td><td> 14.0001</td><td>  1.0001</td><td>  11.0001</td><td>⋯</td><td>   0.0001</td><td>   2.0001</td><td>   0.0001</td><td>   0.0001</td><td>   0.0001</td><td>   1.0001</td><td>  0.0001</td><td>  0.0001</td><td>  0.0001</td><td>  0.0001</td></tr>\n",
       "\t<tr><td>ENSG00000000419.12</td><td>DPM1    </td><td>762.0001</td><td>731.0001</td><td>746.0001</td><td> 908.0001</td><td>809.0001</td><td>644.0001</td><td>516.0001</td><td>1264.0001</td><td>⋯</td><td> 853.0001</td><td> 901.0001</td><td> 797.0001</td><td> 791.0001</td><td> 345.0001</td><td>1147.0001</td><td>378.0001</td><td>400.0001</td><td>255.0001</td><td>567.0001</td></tr>\n",
       "\t<tr><td>ENSG00000000457.14</td><td>SCYL3   </td><td> 20.5201</td><td> 67.4201</td><td> 49.0501</td><td>  70.2001</td><td> 28.5701</td><td> 27.2601</td><td> 56.7901</td><td>  14.3201</td><td>⋯</td><td>   0.0001</td><td>  58.1201</td><td> 129.1501</td><td>  46.1601</td><td>  82.9401</td><td>  80.7301</td><td> 46.0801</td><td> 31.0001</td><td>111.0001</td><td>124.8201</td></tr>\n",
       "\t<tr><td>ENSG00000000460.17</td><td>C1orf112</td><td>114.4801</td><td>211.6401</td><td>160.9501</td><td> 266.8001</td><td>153.4301</td><td>145.7401</td><td>101.2101</td><td> 253.6701</td><td>⋯</td><td> 146.0001</td><td> 165.8801</td><td> 114.8501</td><td> 187.8401</td><td> 118.0601</td><td> 126.2701</td><td> 54.9201</td><td>  0.0001</td><td>  0.0001</td><td>  1.1801</td></tr>\n",
       "\t<tr><td>ENSG00000000938.13</td><td>FGR     </td><td>  0.0001</td><td>  0.0001</td><td>  0.0001</td><td>   0.0001</td><td>  0.0001</td><td>  0.0001</td><td>  0.0001</td><td>   0.0001</td><td>⋯</td><td>   0.0001</td><td>   0.0001</td><td>   0.0001</td><td>   0.0001</td><td>   0.0001</td><td>   2.0001</td><td>  0.0001</td><td>  0.0001</td><td>  0.0001</td><td>  0.0001</td></tr>\n",
       "</tbody>\n",
       "</table>\n"
      ],
      "text/latex": [
       "A data.frame: 6 × 46\n",
       "\\begin{tabular}{r|llllllllllllllllllllllllllllllllllllllllllllll}\n",
       " gene\\_id & gene\\_name & S01\\_B1 & S01\\_B2 & S02\\_B1 & S02\\_B2 & S03\\_B1 & S03\\_B2 & S04\\_B1 & S04\\_B2 & S05\\_B1 & S05\\_B2 & S06\\_B1 & S06\\_B2 & S07\\_B1 & S07\\_B2 & S08\\_B1 & S08\\_B2 & S09\\_B1 & S09\\_B2 & S10\\_B1 & S10\\_B2 & S11\\_B1 & S11\\_B2 & S12\\_B1 & S12\\_B2 & S13\\_B1 & S13\\_B2 & S14\\_B1 & S14\\_B2 & S15\\_B1 & S15\\_B2 & S16\\_B1 & S16\\_B2 & S17\\_B1 & S17\\_B2 & S18\\_B1 & S18\\_B2 & S19\\_B1 & S19\\_B2 & S20\\_B1 & S20\\_B2 & S21\\_B1 & S21\\_B2 & S22\\_B1 & S22\\_B2\\\\\n",
       " <fct> & <fct> & <dbl> & <dbl> & <dbl> & <dbl> & <dbl> & <dbl> & <dbl> & <dbl> & <dbl> & <dbl> & <dbl> & <dbl> & <dbl> & <dbl> & <dbl> & <dbl> & <dbl> & <dbl> & <dbl> & <dbl> & <dbl> & <dbl> & <dbl> & <dbl> & <dbl> & <dbl> & <dbl> & <dbl> & <dbl> & <dbl> & <dbl> & <dbl> & <dbl> & <dbl> & <dbl> & <dbl> & <dbl> & <dbl> & <dbl> & <dbl> & <dbl> & <dbl> & <dbl> & <dbl>\\\\\n",
       "\\hline\n",
       "\t ENSG00000000003.14 & TSPAN6   & 817.0001 & 966.0001 & 789.0001 & 1226.0001 & 757.0001 & 723.0001 & 991.0001 & 1400.0001 & 1194.0001 & 1732.0001 & 1093.0001 & 2456.0001 & 739.0001 & 359.0001 & 998.0001 & 1247.0001 & 1311.0001 & 1344.0001 & 558.0001 & 1677.0001 & 775.0001 & 1004.0001 & 1346.0001 & 2009.0001 & 1228.0001 & 1891.0001 & 1066.0001 & 1879.0001 & 1317.0001 & 2179.0001 & 1210.0001 & 1967.0001 & 1070.0001 & 1871.0001 & 1262.0001 & 2215.0001 & 1604.0001 & 2076.0001 & 1064.0001 & 2301.0001 & 175.0001 & 457.0001 & 294.0001 & 584.0001\\\\\n",
       "\t ENSG00000000005.6  & TNMD     &  19.0001 &   0.0001 &   0.0001 &   11.0001 &  11.0001 &  14.0001 &   1.0001 &   11.0001 &    0.0001 &   14.0001 &    0.0001 &   19.0001 &   0.0001 &   0.0001 &   0.0001 &    1.0001 &    0.0001 &    0.0001 &   0.0001 &    0.0001 &  10.0001 &    0.0001 &   14.0001 &    1.0001 &   25.0001 &   36.0001 &    0.0001 &    6.0001 &    0.0001 &    0.0001 &   19.0001 &   14.0001 &    0.0001 &   11.0001 &    0.0001 &    2.0001 &    0.0001 &    0.0001 &    0.0001 &    1.0001 &   0.0001 &   0.0001 &   0.0001 &   0.0001\\\\\n",
       "\t ENSG00000000419.12 & DPM1     & 762.0001 & 731.0001 & 746.0001 &  908.0001 & 809.0001 & 644.0001 & 516.0001 & 1264.0001 &  340.0001 & 1031.0001 &  597.0001 & 1772.0001 & 390.0001 & 235.0001 & 513.0001 &  774.0001 &  515.0001 & 1046.0001 & 191.0001 &  551.0001 & 407.0001 &  522.0001 &  482.0001 & 1289.0001 &  770.0001 &  932.0001 &  326.0001 &  693.0001 &  455.0001 &  471.0001 &  530.0001 &  774.0001 &  151.0001 &  723.0001 &  853.0001 &  901.0001 &  797.0001 &  791.0001 &  345.0001 & 1147.0001 & 378.0001 & 400.0001 & 255.0001 & 567.0001\\\\\n",
       "\t ENSG00000000457.14 & SCYL3    &  20.5201 &  67.4201 &  49.0501 &   70.2001 &  28.5701 &  27.2601 &  56.7901 &   14.3201 &   65.6601 &   37.3601 &   40.8801 &   41.3701 & 138.0001 &  29.6001 & 168.3501 &   43.3901 &   70.4101 &   71.6301 &  26.8001 &   26.3201 &  73.5901 &   60.1401 &  111.1001 &  119.8801 &   90.0101 &   96.8201 &   34.4501 &    4.6601 &   23.7301 &   68.6101 &    0.0001 &   65.4901 &  205.0001 &   60.1201 &    0.0001 &   58.1201 &  129.1501 &   46.1601 &   82.9401 &   80.7301 &  46.0801 &  31.0001 & 111.0001 & 124.8201\\\\\n",
       "\t ENSG00000000460.17 & C1orf112 & 114.4801 & 211.6401 & 160.9501 &  266.8001 & 153.4301 & 145.7401 & 101.2101 &  253.6701 &  148.3401 &  271.6401 &   94.1201 &  361.6301 &   0.0001 &  14.4001 &  70.6501 &   38.6101 &  107.5901 &  114.6901 &  42.2001 &   16.6801 &  83.4101 &   58.8601 &   51.9001 &  155.1201 &  136.9301 &  368.1801 &  142.5501 &  274.3901 &  413.2701 &  282.3901 &  194.0001 &  305.5101 &  211.0001 &  148.8801 &  146.0001 &  165.8801 &  114.8501 &  187.8401 &  118.0601 &  126.2701 &  54.9201 &   0.0001 &   0.0001 &   1.1801\\\\\n",
       "\t ENSG00000000938.13 & FGR      &   0.0001 &   0.0001 &   0.0001 &    0.0001 &   0.0001 &   0.0001 &   0.0001 &    0.0001 &    0.0001 &    0.0001 &    0.0001 &    0.0001 &   0.0001 &   0.0001 &   0.0001 &    0.0001 &    0.0001 &    0.0001 &   0.0001 &    0.0001 &   0.0001 &    0.0001 &    0.0001 &    0.0001 &    0.0001 &    0.0001 &    0.0001 &    0.0001 &    0.0001 &    0.0001 &    0.0001 &    3.0001 &    0.0001 &   10.0001 &    0.0001 &    0.0001 &    0.0001 &    0.0001 &    0.0001 &    2.0001 &   0.0001 &   0.0001 &   0.0001 &   0.0001\\\\\n",
       "\\end{tabular}\n"
      ],
      "text/markdown": [
       "\n",
       "A data.frame: 6 × 46\n",
       "\n",
       "| gene_id &lt;fct&gt; | gene_name &lt;fct&gt; | S01_B1 &lt;dbl&gt; | S01_B2 &lt;dbl&gt; | S02_B1 &lt;dbl&gt; | S02_B2 &lt;dbl&gt; | S03_B1 &lt;dbl&gt; | S03_B2 &lt;dbl&gt; | S04_B1 &lt;dbl&gt; | S04_B2 &lt;dbl&gt; | ⋯ ⋯ | S18_B1 &lt;dbl&gt; | S18_B2 &lt;dbl&gt; | S19_B1 &lt;dbl&gt; | S19_B2 &lt;dbl&gt; | S20_B1 &lt;dbl&gt; | S20_B2 &lt;dbl&gt; | S21_B1 &lt;dbl&gt; | S21_B2 &lt;dbl&gt; | S22_B1 &lt;dbl&gt; | S22_B2 &lt;dbl&gt; |\n",
       "|---|---|---|---|---|---|---|---|---|---|---|---|---|---|---|---|---|---|---|---|---|\n",
       "| ENSG00000000003.14 | TSPAN6   | 817.0001 | 966.0001 | 789.0001 | 1226.0001 | 757.0001 | 723.0001 | 991.0001 | 1400.0001 | ⋯ | 1262.0001 | 2215.0001 | 1604.0001 | 2076.0001 | 1064.0001 | 2301.0001 | 175.0001 | 457.0001 | 294.0001 | 584.0001 |\n",
       "| ENSG00000000005.6  | TNMD     |  19.0001 |   0.0001 |   0.0001 |   11.0001 |  11.0001 |  14.0001 |   1.0001 |   11.0001 | ⋯ |    0.0001 |    2.0001 |    0.0001 |    0.0001 |    0.0001 |    1.0001 |   0.0001 |   0.0001 |   0.0001 |   0.0001 |\n",
       "| ENSG00000000419.12 | DPM1     | 762.0001 | 731.0001 | 746.0001 |  908.0001 | 809.0001 | 644.0001 | 516.0001 | 1264.0001 | ⋯ |  853.0001 |  901.0001 |  797.0001 |  791.0001 |  345.0001 | 1147.0001 | 378.0001 | 400.0001 | 255.0001 | 567.0001 |\n",
       "| ENSG00000000457.14 | SCYL3    |  20.5201 |  67.4201 |  49.0501 |   70.2001 |  28.5701 |  27.2601 |  56.7901 |   14.3201 | ⋯ |    0.0001 |   58.1201 |  129.1501 |   46.1601 |   82.9401 |   80.7301 |  46.0801 |  31.0001 | 111.0001 | 124.8201 |\n",
       "| ENSG00000000460.17 | C1orf112 | 114.4801 | 211.6401 | 160.9501 |  266.8001 | 153.4301 | 145.7401 | 101.2101 |  253.6701 | ⋯ |  146.0001 |  165.8801 |  114.8501 |  187.8401 |  118.0601 |  126.2701 |  54.9201 |   0.0001 |   0.0001 |   1.1801 |\n",
       "| ENSG00000000938.13 | FGR      |   0.0001 |   0.0001 |   0.0001 |    0.0001 |   0.0001 |   0.0001 |   0.0001 |    0.0001 | ⋯ |    0.0001 |    0.0001 |    0.0001 |    0.0001 |    0.0001 |    2.0001 |   0.0001 |   0.0001 |   0.0001 |   0.0001 |\n",
       "\n"
      ],
      "text/plain": [
       "  gene_id            gene_name S01_B1   S01_B2   S02_B1   S02_B2    S03_B1  \n",
       "1 ENSG00000000003.14 TSPAN6    817.0001 966.0001 789.0001 1226.0001 757.0001\n",
       "2 ENSG00000000005.6  TNMD       19.0001   0.0001   0.0001   11.0001  11.0001\n",
       "3 ENSG00000000419.12 DPM1      762.0001 731.0001 746.0001  908.0001 809.0001\n",
       "4 ENSG00000000457.14 SCYL3      20.5201  67.4201  49.0501   70.2001  28.5701\n",
       "5 ENSG00000000460.17 C1orf112  114.4801 211.6401 160.9501  266.8001 153.4301\n",
       "6 ENSG00000000938.13 FGR         0.0001   0.0001   0.0001    0.0001   0.0001\n",
       "  S03_B2   S04_B1   S04_B2    ⋯ S18_B1    S18_B2    S19_B1    S19_B2   \n",
       "1 723.0001 991.0001 1400.0001 ⋯ 1262.0001 2215.0001 1604.0001 2076.0001\n",
       "2  14.0001   1.0001   11.0001 ⋯    0.0001    2.0001    0.0001    0.0001\n",
       "3 644.0001 516.0001 1264.0001 ⋯  853.0001  901.0001  797.0001  791.0001\n",
       "4  27.2601  56.7901   14.3201 ⋯    0.0001   58.1201  129.1501   46.1601\n",
       "5 145.7401 101.2101  253.6701 ⋯  146.0001  165.8801  114.8501  187.8401\n",
       "6   0.0001   0.0001    0.0001 ⋯    0.0001    0.0001    0.0001    0.0001\n",
       "  S20_B1    S20_B2    S21_B1   S21_B2   S22_B1   S22_B2  \n",
       "1 1064.0001 2301.0001 175.0001 457.0001 294.0001 584.0001\n",
       "2    0.0001    1.0001   0.0001   0.0001   0.0001   0.0001\n",
       "3  345.0001 1147.0001 378.0001 400.0001 255.0001 567.0001\n",
       "4   82.9401   80.7301  46.0801  31.0001 111.0001 124.8201\n",
       "5  118.0601  126.2701  54.9201   0.0001   0.0001   1.1801\n",
       "6    0.0001    2.0001   0.0001   0.0001   0.0001   0.0001"
      ]
     },
     "metadata": {},
     "output_type": "display_data"
    },
    {
     "data": {
      "text/html": [
       "<ol class=list-inline>\n",
       "\t<li>60662</li>\n",
       "\t<li>46</li>\n",
       "</ol>\n"
      ],
      "text/latex": [
       "\\begin{enumerate*}\n",
       "\\item 60662\n",
       "\\item 46\n",
       "\\end{enumerate*}\n"
      ],
      "text/markdown": [
       "1. 60662\n",
       "2. 46\n",
       "\n",
       "\n"
      ],
      "text/plain": [
       "[1] 60662    46"
      ]
     },
     "metadata": {},
     "output_type": "display_data"
    }
   ],
   "source": [
    "cnts %>% head\n",
    "cnts %>% dim"
   ]
  },
  {
   "cell_type": "code",
   "execution_count": 14,
   "metadata": {
    "ExecuteTime": {
     "end_time": "2019-09-24T22:26:36.534774Z",
     "start_time": "2019-09-24T22:26:33.179Z"
    }
   },
   "outputs": [],
   "source": [
    "cnts[,3:46] <- apply(cnts[,3:46],2, as.integer) # convert rsem floating data to integer"
   ]
  },
  {
   "cell_type": "code",
   "execution_count": 15,
   "metadata": {
    "ExecuteTime": {
     "end_time": "2019-09-24T22:26:36.578289Z",
     "start_time": "2019-09-24T22:26:33.705Z"
    }
   },
   "outputs": [
    {
     "data": {
      "text/html": [
       "<table>\n",
       "<caption>A data.frame: 6 × 46</caption>\n",
       "<thead>\n",
       "\t<tr><th scope=col>gene_id</th><th scope=col>gene_name</th><th scope=col>S01_B1</th><th scope=col>S01_B2</th><th scope=col>S02_B1</th><th scope=col>S02_B2</th><th scope=col>S03_B1</th><th scope=col>S03_B2</th><th scope=col>S04_B1</th><th scope=col>S04_B2</th><th scope=col>⋯</th><th scope=col>S18_B1</th><th scope=col>S18_B2</th><th scope=col>S19_B1</th><th scope=col>S19_B2</th><th scope=col>S20_B1</th><th scope=col>S20_B2</th><th scope=col>S21_B1</th><th scope=col>S21_B2</th><th scope=col>S22_B1</th><th scope=col>S22_B2</th></tr>\n",
       "\t<tr><th scope=col>&lt;fct&gt;</th><th scope=col>&lt;fct&gt;</th><th scope=col>&lt;int&gt;</th><th scope=col>&lt;int&gt;</th><th scope=col>&lt;int&gt;</th><th scope=col>&lt;int&gt;</th><th scope=col>&lt;int&gt;</th><th scope=col>&lt;int&gt;</th><th scope=col>&lt;int&gt;</th><th scope=col>&lt;int&gt;</th><th scope=col>⋯</th><th scope=col>&lt;int&gt;</th><th scope=col>&lt;int&gt;</th><th scope=col>&lt;int&gt;</th><th scope=col>&lt;int&gt;</th><th scope=col>&lt;int&gt;</th><th scope=col>&lt;int&gt;</th><th scope=col>&lt;int&gt;</th><th scope=col>&lt;int&gt;</th><th scope=col>&lt;int&gt;</th><th scope=col>&lt;int&gt;</th></tr>\n",
       "</thead>\n",
       "<tbody>\n",
       "\t<tr><td>ENSG00000000003.14</td><td>TSPAN6  </td><td>817</td><td>966</td><td>789</td><td>1226</td><td>757</td><td>723</td><td>991</td><td>1400</td><td>⋯</td><td>1262</td><td>2215</td><td>1604</td><td>2076</td><td>1064</td><td>2301</td><td>175</td><td>457</td><td>294</td><td>584</td></tr>\n",
       "\t<tr><td>ENSG00000000005.6 </td><td>TNMD    </td><td> 19</td><td>  0</td><td>  0</td><td>  11</td><td> 11</td><td> 14</td><td>  1</td><td>  11</td><td>⋯</td><td>   0</td><td>   2</td><td>   0</td><td>   0</td><td>   0</td><td>   1</td><td>  0</td><td>  0</td><td>  0</td><td>  0</td></tr>\n",
       "\t<tr><td>ENSG00000000419.12</td><td>DPM1    </td><td>762</td><td>731</td><td>746</td><td> 908</td><td>809</td><td>644</td><td>516</td><td>1264</td><td>⋯</td><td> 853</td><td> 901</td><td> 797</td><td> 791</td><td> 345</td><td>1147</td><td>378</td><td>400</td><td>255</td><td>567</td></tr>\n",
       "\t<tr><td>ENSG00000000457.14</td><td>SCYL3   </td><td> 20</td><td> 67</td><td> 49</td><td>  70</td><td> 28</td><td> 27</td><td> 56</td><td>  14</td><td>⋯</td><td>   0</td><td>  58</td><td> 129</td><td>  46</td><td>  82</td><td>  80</td><td> 46</td><td> 31</td><td>111</td><td>124</td></tr>\n",
       "\t<tr><td>ENSG00000000460.17</td><td>C1orf112</td><td>114</td><td>211</td><td>160</td><td> 266</td><td>153</td><td>145</td><td>101</td><td> 253</td><td>⋯</td><td> 146</td><td> 165</td><td> 114</td><td> 187</td><td> 118</td><td> 126</td><td> 54</td><td>  0</td><td>  0</td><td>  1</td></tr>\n",
       "\t<tr><td>ENSG00000000938.13</td><td>FGR     </td><td>  0</td><td>  0</td><td>  0</td><td>   0</td><td>  0</td><td>  0</td><td>  0</td><td>   0</td><td>⋯</td><td>   0</td><td>   0</td><td>   0</td><td>   0</td><td>   0</td><td>   2</td><td>  0</td><td>  0</td><td>  0</td><td>  0</td></tr>\n",
       "</tbody>\n",
       "</table>\n"
      ],
      "text/latex": [
       "A data.frame: 6 × 46\n",
       "\\begin{tabular}{r|llllllllllllllllllllllllllllllllllllllllllllll}\n",
       " gene\\_id & gene\\_name & S01\\_B1 & S01\\_B2 & S02\\_B1 & S02\\_B2 & S03\\_B1 & S03\\_B2 & S04\\_B1 & S04\\_B2 & S05\\_B1 & S05\\_B2 & S06\\_B1 & S06\\_B2 & S07\\_B1 & S07\\_B2 & S08\\_B1 & S08\\_B2 & S09\\_B1 & S09\\_B2 & S10\\_B1 & S10\\_B2 & S11\\_B1 & S11\\_B2 & S12\\_B1 & S12\\_B2 & S13\\_B1 & S13\\_B2 & S14\\_B1 & S14\\_B2 & S15\\_B1 & S15\\_B2 & S16\\_B1 & S16\\_B2 & S17\\_B1 & S17\\_B2 & S18\\_B1 & S18\\_B2 & S19\\_B1 & S19\\_B2 & S20\\_B1 & S20\\_B2 & S21\\_B1 & S21\\_B2 & S22\\_B1 & S22\\_B2\\\\\n",
       " <fct> & <fct> & <int> & <int> & <int> & <int> & <int> & <int> & <int> & <int> & <int> & <int> & <int> & <int> & <int> & <int> & <int> & <int> & <int> & <int> & <int> & <int> & <int> & <int> & <int> & <int> & <int> & <int> & <int> & <int> & <int> & <int> & <int> & <int> & <int> & <int> & <int> & <int> & <int> & <int> & <int> & <int> & <int> & <int> & <int> & <int>\\\\\n",
       "\\hline\n",
       "\t ENSG00000000003.14 & TSPAN6   & 817 & 966 & 789 & 1226 & 757 & 723 & 991 & 1400 & 1194 & 1732 & 1093 & 2456 & 739 & 359 & 998 & 1247 & 1311 & 1344 & 558 & 1677 & 775 & 1004 & 1346 & 2009 & 1228 & 1891 & 1066 & 1879 & 1317 & 2179 & 1210 & 1967 & 1070 & 1871 & 1262 & 2215 & 1604 & 2076 & 1064 & 2301 & 175 & 457 & 294 & 584\\\\\n",
       "\t ENSG00000000005.6  & TNMD     &  19 &   0 &   0 &   11 &  11 &  14 &   1 &   11 &    0 &   14 &    0 &   19 &   0 &   0 &   0 &    1 &    0 &    0 &   0 &    0 &  10 &    0 &   14 &    1 &   25 &   36 &    0 &    6 &    0 &    0 &   19 &   14 &    0 &   11 &    0 &    2 &    0 &    0 &    0 &    1 &   0 &   0 &   0 &   0\\\\\n",
       "\t ENSG00000000419.12 & DPM1     & 762 & 731 & 746 &  908 & 809 & 644 & 516 & 1264 &  340 & 1031 &  597 & 1772 & 390 & 235 & 513 &  774 &  515 & 1046 & 191 &  551 & 407 &  522 &  482 & 1289 &  770 &  932 &  326 &  693 &  455 &  471 &  530 &  774 &  151 &  723 &  853 &  901 &  797 &  791 &  345 & 1147 & 378 & 400 & 255 & 567\\\\\n",
       "\t ENSG00000000457.14 & SCYL3    &  20 &  67 &  49 &   70 &  28 &  27 &  56 &   14 &   65 &   37 &   40 &   41 & 138 &  29 & 168 &   43 &   70 &   71 &  26 &   26 &  73 &   60 &  111 &  119 &   90 &   96 &   34 &    4 &   23 &   68 &    0 &   65 &  205 &   60 &    0 &   58 &  129 &   46 &   82 &   80 &  46 &  31 & 111 & 124\\\\\n",
       "\t ENSG00000000460.17 & C1orf112 & 114 & 211 & 160 &  266 & 153 & 145 & 101 &  253 &  148 &  271 &   94 &  361 &   0 &  14 &  70 &   38 &  107 &  114 &  42 &   16 &  83 &   58 &   51 &  155 &  136 &  368 &  142 &  274 &  413 &  282 &  194 &  305 &  211 &  148 &  146 &  165 &  114 &  187 &  118 &  126 &  54 &   0 &   0 &   1\\\\\n",
       "\t ENSG00000000938.13 & FGR      &   0 &   0 &   0 &    0 &   0 &   0 &   0 &    0 &    0 &    0 &    0 &    0 &   0 &   0 &   0 &    0 &    0 &    0 &   0 &    0 &   0 &    0 &    0 &    0 &    0 &    0 &    0 &    0 &    0 &    0 &    0 &    3 &    0 &   10 &    0 &    0 &    0 &    0 &    0 &    2 &   0 &   0 &   0 &   0\\\\\n",
       "\\end{tabular}\n"
      ],
      "text/markdown": [
       "\n",
       "A data.frame: 6 × 46\n",
       "\n",
       "| gene_id &lt;fct&gt; | gene_name &lt;fct&gt; | S01_B1 &lt;int&gt; | S01_B2 &lt;int&gt; | S02_B1 &lt;int&gt; | S02_B2 &lt;int&gt; | S03_B1 &lt;int&gt; | S03_B2 &lt;int&gt; | S04_B1 &lt;int&gt; | S04_B2 &lt;int&gt; | ⋯ ⋯ | S18_B1 &lt;int&gt; | S18_B2 &lt;int&gt; | S19_B1 &lt;int&gt; | S19_B2 &lt;int&gt; | S20_B1 &lt;int&gt; | S20_B2 &lt;int&gt; | S21_B1 &lt;int&gt; | S21_B2 &lt;int&gt; | S22_B1 &lt;int&gt; | S22_B2 &lt;int&gt; |\n",
       "|---|---|---|---|---|---|---|---|---|---|---|---|---|---|---|---|---|---|---|---|---|\n",
       "| ENSG00000000003.14 | TSPAN6   | 817 | 966 | 789 | 1226 | 757 | 723 | 991 | 1400 | ⋯ | 1262 | 2215 | 1604 | 2076 | 1064 | 2301 | 175 | 457 | 294 | 584 |\n",
       "| ENSG00000000005.6  | TNMD     |  19 |   0 |   0 |   11 |  11 |  14 |   1 |   11 | ⋯ |    0 |    2 |    0 |    0 |    0 |    1 |   0 |   0 |   0 |   0 |\n",
       "| ENSG00000000419.12 | DPM1     | 762 | 731 | 746 |  908 | 809 | 644 | 516 | 1264 | ⋯ |  853 |  901 |  797 |  791 |  345 | 1147 | 378 | 400 | 255 | 567 |\n",
       "| ENSG00000000457.14 | SCYL3    |  20 |  67 |  49 |   70 |  28 |  27 |  56 |   14 | ⋯ |    0 |   58 |  129 |   46 |   82 |   80 |  46 |  31 | 111 | 124 |\n",
       "| ENSG00000000460.17 | C1orf112 | 114 | 211 | 160 |  266 | 153 | 145 | 101 |  253 | ⋯ |  146 |  165 |  114 |  187 |  118 |  126 |  54 |   0 |   0 |   1 |\n",
       "| ENSG00000000938.13 | FGR      |   0 |   0 |   0 |    0 |   0 |   0 |   0 |    0 | ⋯ |    0 |    0 |    0 |    0 |    0 |    2 |   0 |   0 |   0 |   0 |\n",
       "\n"
      ],
      "text/plain": [
       "  gene_id            gene_name S01_B1 S01_B2 S02_B1 S02_B2 S03_B1 S03_B2 S04_B1\n",
       "1 ENSG00000000003.14 TSPAN6    817    966    789    1226   757    723    991   \n",
       "2 ENSG00000000005.6  TNMD       19      0      0      11    11     14      1   \n",
       "3 ENSG00000000419.12 DPM1      762    731    746     908   809    644    516   \n",
       "4 ENSG00000000457.14 SCYL3      20     67     49      70    28     27     56   \n",
       "5 ENSG00000000460.17 C1orf112  114    211    160     266   153    145    101   \n",
       "6 ENSG00000000938.13 FGR         0      0      0       0     0      0      0   \n",
       "  S04_B2 ⋯ S18_B1 S18_B2 S19_B1 S19_B2 S20_B1 S20_B2 S21_B1 S21_B2 S22_B1\n",
       "1 1400   ⋯ 1262   2215   1604   2076   1064   2301   175    457    294   \n",
       "2   11   ⋯    0      2      0      0      0      1     0      0      0   \n",
       "3 1264   ⋯  853    901    797    791    345   1147   378    400    255   \n",
       "4   14   ⋯    0     58    129     46     82     80    46     31    111   \n",
       "5  253   ⋯  146    165    114    187    118    126    54      0      0   \n",
       "6    0   ⋯    0      0      0      0      0      2     0      0      0   \n",
       "  S22_B2\n",
       "1 584   \n",
       "2   0   \n",
       "3 567   \n",
       "4 124   \n",
       "5   1   \n",
       "6   0   "
      ]
     },
     "metadata": {},
     "output_type": "display_data"
    }
   ],
   "source": [
    "cnts %>% head"
   ]
  },
  {
   "cell_type": "code",
   "execution_count": 16,
   "metadata": {
    "ExecuteTime": {
     "end_time": "2019-09-24T22:26:36.597759Z",
     "start_time": "2019-09-24T22:26:35.129Z"
    }
   },
   "outputs": [],
   "source": [
    "cnts <- cnts %>% column_to_rownames('gene_id') "
   ]
  },
  {
   "cell_type": "code",
   "execution_count": 17,
   "metadata": {
    "ExecuteTime": {
     "end_time": "2019-09-24T22:26:42.055865Z",
     "start_time": "2019-09-24T22:26:42.869Z"
    },
    "scrolled": true
   },
   "outputs": [
    {
     "name": "stdout",
     "output_type": "stream",
     "text": [
      "'data.frame':\t60662 obs. of  45 variables:\n",
      " $ gene_name: Factor w/ 59087 levels \"A1BG\",\"A1BG-AS1\",..: 56274 55506 27106 51433 23392 28996 24837 29441 29754 40808 ...\n",
      " $ S01_B1   : int  817 19 762 20 114 0 0 229 146 168 ...\n",
      " $ S01_B2   : int  966 0 731 67 211 0 1 396 60 237 ...\n",
      " $ S02_B1   : int  789 0 746 49 160 0 0 190 177 145 ...\n",
      " $ S02_B2   : int  1226 11 908 70 266 0 0 409 330 248 ...\n",
      " $ S03_B1   : int  757 11 809 28 153 0 0 277 202 72 ...\n",
      " $ S03_B2   : int  723 14 644 27 145 0 0 140 205 206 ...\n",
      " $ S04_B1   : int  991 1 516 56 101 0 0 229 39 148 ...\n",
      " $ S04_B2   : int  1400 11 1264 14 253 0 1 523 401 194 ...\n",
      " $ S05_B1   : int  1194 0 340 65 148 0 0 313 131 292 ...\n",
      " $ S05_B2   : int  1732 14 1031 37 271 0 0 557 366 247 ...\n",
      " $ S06_B1   : int  1093 0 597 40 94 0 0 546 78 202 ...\n",
      " $ S06_B2   : int  2456 19 1772 41 361 0 4 691 579 471 ...\n",
      " $ S07_B1   : int  739 0 390 138 0 0 0 80 54 166 ...\n",
      " $ S07_B2   : int  359 0 235 29 14 0 0 69 29 91 ...\n",
      " $ S08_B1   : int  998 0 513 168 70 0 1 209 32 224 ...\n",
      " $ S08_B2   : int  1247 1 774 43 38 0 0 212 44 379 ...\n",
      " $ S09_B1   : int  1311 0 515 70 107 0 2 297 103 186 ...\n",
      " $ S09_B2   : int  1344 0 1046 71 114 0 4 263 182 289 ...\n",
      " $ S10_B1   : int  558 0 191 26 42 0 0 119 35 80 ...\n",
      " $ S10_B2   : int  1677 0 551 26 16 0 0 201 38 359 ...\n",
      " $ S11_B1   : int  775 10 407 73 83 0 0 219 130 193 ...\n",
      " $ S11_B2   : int  1004 0 522 60 58 0 10 181 80 225 ...\n",
      " $ S12_B1   : int  1346 14 482 111 51 0 0 267 81 207 ...\n",
      " $ S12_B2   : int  2009 1 1289 119 155 0 0 352 96 265 ...\n",
      " $ S13_B1   : int  1228 25 770 90 136 0 0 403 298 398 ...\n",
      " $ S13_B2   : int  1891 36 932 96 368 0 0 539 443 322 ...\n",
      " $ S14_B1   : int  1066 0 326 34 142 0 0 102 188 184 ...\n",
      " $ S14_B2   : int  1879 6 693 4 274 0 0 353 444 273 ...\n",
      " $ S15_B1   : int  1317 0 455 23 413 0 7 159 237 285 ...\n",
      " $ S15_B2   : int  2179 0 471 68 282 0 0 406 135 429 ...\n",
      " $ S16_B1   : int  1210 19 530 0 194 0 0 184 178 129 ...\n",
      " $ S16_B2   : int  1967 14 774 65 305 3 0 249 184 368 ...\n",
      " $ S17_B1   : int  1070 0 151 205 211 0 2 201 0 632 ...\n",
      " $ S17_B2   : int  1871 11 723 60 148 10 2 280 285 276 ...\n",
      " $ S18_B1   : int  1262 0 853 0 146 0 0 206 101 247 ...\n",
      " $ S18_B2   : int  2215 2 901 58 165 0 1 331 192 294 ...\n",
      " $ S19_B1   : int  1604 0 797 129 114 0 0 372 103 264 ...\n",
      " $ S19_B2   : int  2076 0 791 46 187 0 0 371 99 174 ...\n",
      " $ S20_B1   : int  1064 0 345 82 118 0 0 211 239 312 ...\n",
      " $ S20_B2   : int  2301 1 1147 80 126 2 0 396 137 316 ...\n",
      " $ S21_B1   : int  175 0 378 46 54 0 1 174 0 295 ...\n",
      " $ S21_B2   : int  457 0 400 31 0 0 24 110 76 253 ...\n",
      " $ S22_B1   : int  294 0 255 111 0 0 0 136 85 133 ...\n",
      " $ S22_B2   : int  584 0 567 124 1 0 0 197 143 153 ...\n"
     ]
    },
    {
     "data": {
      "text/html": [
       "<table>\n",
       "<caption>A data.frame: 6 × 45</caption>\n",
       "<thead>\n",
       "\t<tr><th></th><th scope=col>gene_name</th><th scope=col>S01_B1</th><th scope=col>S01_B2</th><th scope=col>S02_B1</th><th scope=col>S02_B2</th><th scope=col>S03_B1</th><th scope=col>S03_B2</th><th scope=col>S04_B1</th><th scope=col>S04_B2</th><th scope=col>S05_B1</th><th scope=col>⋯</th><th scope=col>S18_B1</th><th scope=col>S18_B2</th><th scope=col>S19_B1</th><th scope=col>S19_B2</th><th scope=col>S20_B1</th><th scope=col>S20_B2</th><th scope=col>S21_B1</th><th scope=col>S21_B2</th><th scope=col>S22_B1</th><th scope=col>S22_B2</th></tr>\n",
       "\t<tr><th></th><th scope=col>&lt;fct&gt;</th><th scope=col>&lt;int&gt;</th><th scope=col>&lt;int&gt;</th><th scope=col>&lt;int&gt;</th><th scope=col>&lt;int&gt;</th><th scope=col>&lt;int&gt;</th><th scope=col>&lt;int&gt;</th><th scope=col>&lt;int&gt;</th><th scope=col>&lt;int&gt;</th><th scope=col>&lt;int&gt;</th><th scope=col>⋯</th><th scope=col>&lt;int&gt;</th><th scope=col>&lt;int&gt;</th><th scope=col>&lt;int&gt;</th><th scope=col>&lt;int&gt;</th><th scope=col>&lt;int&gt;</th><th scope=col>&lt;int&gt;</th><th scope=col>&lt;int&gt;</th><th scope=col>&lt;int&gt;</th><th scope=col>&lt;int&gt;</th><th scope=col>&lt;int&gt;</th></tr>\n",
       "</thead>\n",
       "<tbody>\n",
       "\t<tr><th scope=row>ENSG00000000003.14</th><td>TSPAN6  </td><td>817</td><td>966</td><td>789</td><td>1226</td><td>757</td><td>723</td><td>991</td><td>1400</td><td>1194</td><td>⋯</td><td>1262</td><td>2215</td><td>1604</td><td>2076</td><td>1064</td><td>2301</td><td>175</td><td>457</td><td>294</td><td>584</td></tr>\n",
       "\t<tr><th scope=row>ENSG00000000005.6</th><td>TNMD    </td><td> 19</td><td>  0</td><td>  0</td><td>  11</td><td> 11</td><td> 14</td><td>  1</td><td>  11</td><td>   0</td><td>⋯</td><td>   0</td><td>   2</td><td>   0</td><td>   0</td><td>   0</td><td>   1</td><td>  0</td><td>  0</td><td>  0</td><td>  0</td></tr>\n",
       "\t<tr><th scope=row>ENSG00000000419.12</th><td>DPM1    </td><td>762</td><td>731</td><td>746</td><td> 908</td><td>809</td><td>644</td><td>516</td><td>1264</td><td> 340</td><td>⋯</td><td> 853</td><td> 901</td><td> 797</td><td> 791</td><td> 345</td><td>1147</td><td>378</td><td>400</td><td>255</td><td>567</td></tr>\n",
       "\t<tr><th scope=row>ENSG00000000457.14</th><td>SCYL3   </td><td> 20</td><td> 67</td><td> 49</td><td>  70</td><td> 28</td><td> 27</td><td> 56</td><td>  14</td><td>  65</td><td>⋯</td><td>   0</td><td>  58</td><td> 129</td><td>  46</td><td>  82</td><td>  80</td><td> 46</td><td> 31</td><td>111</td><td>124</td></tr>\n",
       "\t<tr><th scope=row>ENSG00000000460.17</th><td>C1orf112</td><td>114</td><td>211</td><td>160</td><td> 266</td><td>153</td><td>145</td><td>101</td><td> 253</td><td> 148</td><td>⋯</td><td> 146</td><td> 165</td><td> 114</td><td> 187</td><td> 118</td><td> 126</td><td> 54</td><td>  0</td><td>  0</td><td>  1</td></tr>\n",
       "\t<tr><th scope=row>ENSG00000000938.13</th><td>FGR     </td><td>  0</td><td>  0</td><td>  0</td><td>   0</td><td>  0</td><td>  0</td><td>  0</td><td>   0</td><td>   0</td><td>⋯</td><td>   0</td><td>   0</td><td>   0</td><td>   0</td><td>   0</td><td>   2</td><td>  0</td><td>  0</td><td>  0</td><td>  0</td></tr>\n",
       "</tbody>\n",
       "</table>\n"
      ],
      "text/latex": [
       "A data.frame: 6 × 45\n",
       "\\begin{tabular}{r|lllllllllllllllllllllllllllllllllllllllllllll}\n",
       "  & gene\\_name & S01\\_B1 & S01\\_B2 & S02\\_B1 & S02\\_B2 & S03\\_B1 & S03\\_B2 & S04\\_B1 & S04\\_B2 & S05\\_B1 & S05\\_B2 & S06\\_B1 & S06\\_B2 & S07\\_B1 & S07\\_B2 & S08\\_B1 & S08\\_B2 & S09\\_B1 & S09\\_B2 & S10\\_B1 & S10\\_B2 & S11\\_B1 & S11\\_B2 & S12\\_B1 & S12\\_B2 & S13\\_B1 & S13\\_B2 & S14\\_B1 & S14\\_B2 & S15\\_B1 & S15\\_B2 & S16\\_B1 & S16\\_B2 & S17\\_B1 & S17\\_B2 & S18\\_B1 & S18\\_B2 & S19\\_B1 & S19\\_B2 & S20\\_B1 & S20\\_B2 & S21\\_B1 & S21\\_B2 & S22\\_B1 & S22\\_B2\\\\\n",
       "  & <fct> & <int> & <int> & <int> & <int> & <int> & <int> & <int> & <int> & <int> & <int> & <int> & <int> & <int> & <int> & <int> & <int> & <int> & <int> & <int> & <int> & <int> & <int> & <int> & <int> & <int> & <int> & <int> & <int> & <int> & <int> & <int> & <int> & <int> & <int> & <int> & <int> & <int> & <int> & <int> & <int> & <int> & <int> & <int> & <int>\\\\\n",
       "\\hline\n",
       "\tENSG00000000003.14 & TSPAN6   & 817 & 966 & 789 & 1226 & 757 & 723 & 991 & 1400 & 1194 & 1732 & 1093 & 2456 & 739 & 359 & 998 & 1247 & 1311 & 1344 & 558 & 1677 & 775 & 1004 & 1346 & 2009 & 1228 & 1891 & 1066 & 1879 & 1317 & 2179 & 1210 & 1967 & 1070 & 1871 & 1262 & 2215 & 1604 & 2076 & 1064 & 2301 & 175 & 457 & 294 & 584\\\\\n",
       "\tENSG00000000005.6 & TNMD     &  19 &   0 &   0 &   11 &  11 &  14 &   1 &   11 &    0 &   14 &    0 &   19 &   0 &   0 &   0 &    1 &    0 &    0 &   0 &    0 &  10 &    0 &   14 &    1 &   25 &   36 &    0 &    6 &    0 &    0 &   19 &   14 &    0 &   11 &    0 &    2 &    0 &    0 &    0 &    1 &   0 &   0 &   0 &   0\\\\\n",
       "\tENSG00000000419.12 & DPM1     & 762 & 731 & 746 &  908 & 809 & 644 & 516 & 1264 &  340 & 1031 &  597 & 1772 & 390 & 235 & 513 &  774 &  515 & 1046 & 191 &  551 & 407 &  522 &  482 & 1289 &  770 &  932 &  326 &  693 &  455 &  471 &  530 &  774 &  151 &  723 &  853 &  901 &  797 &  791 &  345 & 1147 & 378 & 400 & 255 & 567\\\\\n",
       "\tENSG00000000457.14 & SCYL3    &  20 &  67 &  49 &   70 &  28 &  27 &  56 &   14 &   65 &   37 &   40 &   41 & 138 &  29 & 168 &   43 &   70 &   71 &  26 &   26 &  73 &   60 &  111 &  119 &   90 &   96 &   34 &    4 &   23 &   68 &    0 &   65 &  205 &   60 &    0 &   58 &  129 &   46 &   82 &   80 &  46 &  31 & 111 & 124\\\\\n",
       "\tENSG00000000460.17 & C1orf112 & 114 & 211 & 160 &  266 & 153 & 145 & 101 &  253 &  148 &  271 &   94 &  361 &   0 &  14 &  70 &   38 &  107 &  114 &  42 &   16 &  83 &   58 &   51 &  155 &  136 &  368 &  142 &  274 &  413 &  282 &  194 &  305 &  211 &  148 &  146 &  165 &  114 &  187 &  118 &  126 &  54 &   0 &   0 &   1\\\\\n",
       "\tENSG00000000938.13 & FGR      &   0 &   0 &   0 &    0 &   0 &   0 &   0 &    0 &    0 &    0 &    0 &    0 &   0 &   0 &   0 &    0 &    0 &    0 &   0 &    0 &   0 &    0 &    0 &    0 &    0 &    0 &    0 &    0 &    0 &    0 &    0 &    3 &    0 &   10 &    0 &    0 &    0 &    0 &    0 &    2 &   0 &   0 &   0 &   0\\\\\n",
       "\\end{tabular}\n"
      ],
      "text/markdown": [
       "\n",
       "A data.frame: 6 × 45\n",
       "\n",
       "| <!--/--> | gene_name &lt;fct&gt; | S01_B1 &lt;int&gt; | S01_B2 &lt;int&gt; | S02_B1 &lt;int&gt; | S02_B2 &lt;int&gt; | S03_B1 &lt;int&gt; | S03_B2 &lt;int&gt; | S04_B1 &lt;int&gt; | S04_B2 &lt;int&gt; | S05_B1 &lt;int&gt; | ⋯ ⋯ | S18_B1 &lt;int&gt; | S18_B2 &lt;int&gt; | S19_B1 &lt;int&gt; | S19_B2 &lt;int&gt; | S20_B1 &lt;int&gt; | S20_B2 &lt;int&gt; | S21_B1 &lt;int&gt; | S21_B2 &lt;int&gt; | S22_B1 &lt;int&gt; | S22_B2 &lt;int&gt; |\n",
       "|---|---|---|---|---|---|---|---|---|---|---|---|---|---|---|---|---|---|---|---|---|---|\n",
       "| ENSG00000000003.14 | TSPAN6   | 817 | 966 | 789 | 1226 | 757 | 723 | 991 | 1400 | 1194 | ⋯ | 1262 | 2215 | 1604 | 2076 | 1064 | 2301 | 175 | 457 | 294 | 584 |\n",
       "| ENSG00000000005.6 | TNMD     |  19 |   0 |   0 |   11 |  11 |  14 |   1 |   11 |    0 | ⋯ |    0 |    2 |    0 |    0 |    0 |    1 |   0 |   0 |   0 |   0 |\n",
       "| ENSG00000000419.12 | DPM1     | 762 | 731 | 746 |  908 | 809 | 644 | 516 | 1264 |  340 | ⋯ |  853 |  901 |  797 |  791 |  345 | 1147 | 378 | 400 | 255 | 567 |\n",
       "| ENSG00000000457.14 | SCYL3    |  20 |  67 |  49 |   70 |  28 |  27 |  56 |   14 |   65 | ⋯ |    0 |   58 |  129 |   46 |   82 |   80 |  46 |  31 | 111 | 124 |\n",
       "| ENSG00000000460.17 | C1orf112 | 114 | 211 | 160 |  266 | 153 | 145 | 101 |  253 |  148 | ⋯ |  146 |  165 |  114 |  187 |  118 |  126 |  54 |   0 |   0 |   1 |\n",
       "| ENSG00000000938.13 | FGR      |   0 |   0 |   0 |    0 |   0 |   0 |   0 |    0 |    0 | ⋯ |    0 |    0 |    0 |    0 |    0 |    2 |   0 |   0 |   0 |   0 |\n",
       "\n"
      ],
      "text/plain": [
       "                   gene_name S01_B1 S01_B2 S02_B1 S02_B2 S03_B1 S03_B2 S04_B1\n",
       "ENSG00000000003.14 TSPAN6    817    966    789    1226   757    723    991   \n",
       "ENSG00000000005.6  TNMD       19      0      0      11    11     14      1   \n",
       "ENSG00000000419.12 DPM1      762    731    746     908   809    644    516   \n",
       "ENSG00000000457.14 SCYL3      20     67     49      70    28     27     56   \n",
       "ENSG00000000460.17 C1orf112  114    211    160     266   153    145    101   \n",
       "ENSG00000000938.13 FGR         0      0      0       0     0      0      0   \n",
       "                   S04_B2 S05_B1 ⋯ S18_B1 S18_B2 S19_B1 S19_B2 S20_B1 S20_B2\n",
       "ENSG00000000003.14 1400   1194   ⋯ 1262   2215   1604   2076   1064   2301  \n",
       "ENSG00000000005.6    11      0   ⋯    0      2      0      0      0      1  \n",
       "ENSG00000000419.12 1264    340   ⋯  853    901    797    791    345   1147  \n",
       "ENSG00000000457.14   14     65   ⋯    0     58    129     46     82     80  \n",
       "ENSG00000000460.17  253    148   ⋯  146    165    114    187    118    126  \n",
       "ENSG00000000938.13    0      0   ⋯    0      0      0      0      0      2  \n",
       "                   S21_B1 S21_B2 S22_B1 S22_B2\n",
       "ENSG00000000003.14 175    457    294    584   \n",
       "ENSG00000000005.6    0      0      0      0   \n",
       "ENSG00000000419.12 378    400    255    567   \n",
       "ENSG00000000457.14  46     31    111    124   \n",
       "ENSG00000000460.17  54      0      0      1   \n",
       "ENSG00000000938.13   0      0      0      0   "
      ]
     },
     "metadata": {},
     "output_type": "display_data"
    }
   ],
   "source": [
    "str(cnts)\n",
    "head(cnts)"
   ]
  },
  {
   "cell_type": "markdown",
   "metadata": {},
   "source": [
    "# WT compared to ZBTB18KO, sample sheet.\n",
    "\n",
    "Condition  |  Sample    \n",
    ":---------:|:-------:\n",
    "WT.ES  |  1, 2    \n",
    "108.ES |   3, 4    \n",
    "112.ES |   5, 6    \n",
    "WT.Day4  |  7,8    \n",
    "108.Day4 |   9, 10    \n",
    "112.Day4 |   11, 12"
   ]
  },
  {
   "cell_type": "markdown",
   "metadata": {},
   "source": [
    "# Comparison 1: ES WT vs. ES ZBTB18 knockout.\n",
    "\n",
    "- WT.ES vs. 108.ES\n",
    "- WT.ES vs. 112.ES"
   ]
  },
  {
   "cell_type": "code",
   "execution_count": 18,
   "metadata": {
    "ExecuteTime": {
     "end_time": "2019-09-24T22:26:56.593579Z",
     "start_time": "2019-09-24T22:26:57.492Z"
    }
   },
   "outputs": [],
   "source": [
    "all.sample.annotation <- read.csv('RNASeqSampleNames.csv', header = F)"
   ]
  },
  {
   "cell_type": "code",
   "execution_count": 19,
   "metadata": {
    "ExecuteTime": {
     "end_time": "2019-09-24T22:26:57.586384Z",
     "start_time": "2019-09-24T22:26:58.457Z"
    },
    "scrolled": true
   },
   "outputs": [
    {
     "data": {
      "text/html": [
       "<table>\n",
       "<caption>A data.frame: 44 × 3</caption>\n",
       "<thead>\n",
       "\t<tr><th scope=col>V1</th><th scope=col>V2</th><th scope=col>V3</th></tr>\n",
       "\t<tr><th scope=col>&lt;fct&gt;</th><th scope=col>&lt;fct&gt;</th><th scope=col>&lt;fct&gt;</th></tr>\n",
       "</thead>\n",
       "<tbody>\n",
       "\t<tr><td>S01_B1</td><td>WT.ES  </td><td>ES   </td></tr>\n",
       "\t<tr><td>S01_B2</td><td>WT.ES  </td><td>ES   </td></tr>\n",
       "\t<tr><td>S02_B1</td><td>WT.ES  </td><td>ES   </td></tr>\n",
       "\t<tr><td>S02_B2</td><td>WT.ES  </td><td>ES   </td></tr>\n",
       "\t<tr><td>S03_B1</td><td>K108.ES</td><td>KO.ES</td></tr>\n",
       "\t<tr><td>S03_B2</td><td>K108.ES</td><td>KO.ES</td></tr>\n",
       "\t<tr><td>S04_B1</td><td>K108.ES</td><td>KO.ES</td></tr>\n",
       "\t<tr><td>S04_B2</td><td>K108.ES</td><td>KO.ES</td></tr>\n",
       "\t<tr><td>S05_B1</td><td>K112.ES</td><td>KO.ES</td></tr>\n",
       "\t<tr><td>S05_B2</td><td>K112.ES</td><td>KO.ES</td></tr>\n",
       "\t<tr><td>S06_B1</td><td>K112.ES</td><td>KO.ES</td></tr>\n",
       "\t<tr><td>S06_B2</td><td>K112.ES</td><td>KO.ES</td></tr>\n",
       "\t<tr><td>S07_B1</td><td>WT.D4  </td><td>D4   </td></tr>\n",
       "\t<tr><td>S07_B2</td><td>WT.D4  </td><td>D4   </td></tr>\n",
       "\t<tr><td>S08_B1</td><td>WT.D4  </td><td>D4   </td></tr>\n",
       "\t<tr><td>S08_B2</td><td>WT.D4  </td><td>D4   </td></tr>\n",
       "\t<tr><td>S09_B1</td><td>K108.D4</td><td>KO.D4</td></tr>\n",
       "\t<tr><td>S09_B2</td><td>K108.D4</td><td>KO.D4</td></tr>\n",
       "\t<tr><td>S10_B1</td><td>K108.D4</td><td>KO.D4</td></tr>\n",
       "\t<tr><td>S10_B2</td><td>K108.D4</td><td>KO.D4</td></tr>\n",
       "\t<tr><td>S11_B1</td><td>K112.D4</td><td>KO.D4</td></tr>\n",
       "\t<tr><td>S11_B2</td><td>K112.D4</td><td>KO.D4</td></tr>\n",
       "\t<tr><td>S12_B1</td><td>K112.D4</td><td>KO.D4</td></tr>\n",
       "\t<tr><td>S12_B2</td><td>K112.D4</td><td>KO.D4</td></tr>\n",
       "\t<tr><td>S13_B1</td><td>WT.ES  </td><td>ES   </td></tr>\n",
       "\t<tr><td>S13_B2</td><td>WT.ES  </td><td>ES   </td></tr>\n",
       "\t<tr><td>S14_B1</td><td>WT.ES  </td><td>ES   </td></tr>\n",
       "\t<tr><td>S14_B2</td><td>WT.ES  </td><td>ES   </td></tr>\n",
       "\t<tr><td>S15_B1</td><td>WT.H15 </td><td>H15  </td></tr>\n",
       "\t<tr><td>S15_B2</td><td>WT.H15 </td><td>H15  </td></tr>\n",
       "\t<tr><td>S16_B1</td><td>WT.H15 </td><td>H15  </td></tr>\n",
       "\t<tr><td>S16_B2</td><td>WT.H15 </td><td>H15  </td></tr>\n",
       "\t<tr><td>S17_B1</td><td>WT.D1  </td><td>D1   </td></tr>\n",
       "\t<tr><td>S17_B2</td><td>WT.D1  </td><td>D1   </td></tr>\n",
       "\t<tr><td>S18_B1</td><td>WT.D1  </td><td>D1   </td></tr>\n",
       "\t<tr><td>S18_B2</td><td>WT.D1  </td><td>D1   </td></tr>\n",
       "\t<tr><td>S19_B1</td><td>WT.D2  </td><td>D2   </td></tr>\n",
       "\t<tr><td>S19_B2</td><td>WT.D2  </td><td>D2   </td></tr>\n",
       "\t<tr><td>S20_B1</td><td>WT.D2  </td><td>D2   </td></tr>\n",
       "\t<tr><td>S20_B2</td><td>WT.D2  </td><td>D2   </td></tr>\n",
       "\t<tr><td>S21_B1</td><td>WT.D7  </td><td>D7   </td></tr>\n",
       "\t<tr><td>S21_B2</td><td>WT.D7  </td><td>D7   </td></tr>\n",
       "\t<tr><td>S22_B1</td><td>WT.D7  </td><td>D7   </td></tr>\n",
       "\t<tr><td>S22_B2</td><td>WT.D7  </td><td>D7   </td></tr>\n",
       "</tbody>\n",
       "</table>\n"
      ],
      "text/latex": [
       "A data.frame: 44 × 3\n",
       "\\begin{tabular}{r|lll}\n",
       " V1 & V2 & V3\\\\\n",
       " <fct> & <fct> & <fct>\\\\\n",
       "\\hline\n",
       "\t S01\\_B1 & WT.ES   & ES   \\\\\n",
       "\t S01\\_B2 & WT.ES   & ES   \\\\\n",
       "\t S02\\_B1 & WT.ES   & ES   \\\\\n",
       "\t S02\\_B2 & WT.ES   & ES   \\\\\n",
       "\t S03\\_B1 & K108.ES & KO.ES\\\\\n",
       "\t S03\\_B2 & K108.ES & KO.ES\\\\\n",
       "\t S04\\_B1 & K108.ES & KO.ES\\\\\n",
       "\t S04\\_B2 & K108.ES & KO.ES\\\\\n",
       "\t S05\\_B1 & K112.ES & KO.ES\\\\\n",
       "\t S05\\_B2 & K112.ES & KO.ES\\\\\n",
       "\t S06\\_B1 & K112.ES & KO.ES\\\\\n",
       "\t S06\\_B2 & K112.ES & KO.ES\\\\\n",
       "\t S07\\_B1 & WT.D4   & D4   \\\\\n",
       "\t S07\\_B2 & WT.D4   & D4   \\\\\n",
       "\t S08\\_B1 & WT.D4   & D4   \\\\\n",
       "\t S08\\_B2 & WT.D4   & D4   \\\\\n",
       "\t S09\\_B1 & K108.D4 & KO.D4\\\\\n",
       "\t S09\\_B2 & K108.D4 & KO.D4\\\\\n",
       "\t S10\\_B1 & K108.D4 & KO.D4\\\\\n",
       "\t S10\\_B2 & K108.D4 & KO.D4\\\\\n",
       "\t S11\\_B1 & K112.D4 & KO.D4\\\\\n",
       "\t S11\\_B2 & K112.D4 & KO.D4\\\\\n",
       "\t S12\\_B1 & K112.D4 & KO.D4\\\\\n",
       "\t S12\\_B2 & K112.D4 & KO.D4\\\\\n",
       "\t S13\\_B1 & WT.ES   & ES   \\\\\n",
       "\t S13\\_B2 & WT.ES   & ES   \\\\\n",
       "\t S14\\_B1 & WT.ES   & ES   \\\\\n",
       "\t S14\\_B2 & WT.ES   & ES   \\\\\n",
       "\t S15\\_B1 & WT.H15  & H15  \\\\\n",
       "\t S15\\_B2 & WT.H15  & H15  \\\\\n",
       "\t S16\\_B1 & WT.H15  & H15  \\\\\n",
       "\t S16\\_B2 & WT.H15  & H15  \\\\\n",
       "\t S17\\_B1 & WT.D1   & D1   \\\\\n",
       "\t S17\\_B2 & WT.D1   & D1   \\\\\n",
       "\t S18\\_B1 & WT.D1   & D1   \\\\\n",
       "\t S18\\_B2 & WT.D1   & D1   \\\\\n",
       "\t S19\\_B1 & WT.D2   & D2   \\\\\n",
       "\t S19\\_B2 & WT.D2   & D2   \\\\\n",
       "\t S20\\_B1 & WT.D2   & D2   \\\\\n",
       "\t S20\\_B2 & WT.D2   & D2   \\\\\n",
       "\t S21\\_B1 & WT.D7   & D7   \\\\\n",
       "\t S21\\_B2 & WT.D7   & D7   \\\\\n",
       "\t S22\\_B1 & WT.D7   & D7   \\\\\n",
       "\t S22\\_B2 & WT.D7   & D7   \\\\\n",
       "\\end{tabular}\n"
      ],
      "text/markdown": [
       "\n",
       "A data.frame: 44 × 3\n",
       "\n",
       "| V1 &lt;fct&gt; | V2 &lt;fct&gt; | V3 &lt;fct&gt; |\n",
       "|---|---|---|\n",
       "| S01_B1 | WT.ES   | ES    |\n",
       "| S01_B2 | WT.ES   | ES    |\n",
       "| S02_B1 | WT.ES   | ES    |\n",
       "| S02_B2 | WT.ES   | ES    |\n",
       "| S03_B1 | K108.ES | KO.ES |\n",
       "| S03_B2 | K108.ES | KO.ES |\n",
       "| S04_B1 | K108.ES | KO.ES |\n",
       "| S04_B2 | K108.ES | KO.ES |\n",
       "| S05_B1 | K112.ES | KO.ES |\n",
       "| S05_B2 | K112.ES | KO.ES |\n",
       "| S06_B1 | K112.ES | KO.ES |\n",
       "| S06_B2 | K112.ES | KO.ES |\n",
       "| S07_B1 | WT.D4   | D4    |\n",
       "| S07_B2 | WT.D4   | D4    |\n",
       "| S08_B1 | WT.D4   | D4    |\n",
       "| S08_B2 | WT.D4   | D4    |\n",
       "| S09_B1 | K108.D4 | KO.D4 |\n",
       "| S09_B2 | K108.D4 | KO.D4 |\n",
       "| S10_B1 | K108.D4 | KO.D4 |\n",
       "| S10_B2 | K108.D4 | KO.D4 |\n",
       "| S11_B1 | K112.D4 | KO.D4 |\n",
       "| S11_B2 | K112.D4 | KO.D4 |\n",
       "| S12_B1 | K112.D4 | KO.D4 |\n",
       "| S12_B2 | K112.D4 | KO.D4 |\n",
       "| S13_B1 | WT.ES   | ES    |\n",
       "| S13_B2 | WT.ES   | ES    |\n",
       "| S14_B1 | WT.ES   | ES    |\n",
       "| S14_B2 | WT.ES   | ES    |\n",
       "| S15_B1 | WT.H15  | H15   |\n",
       "| S15_B2 | WT.H15  | H15   |\n",
       "| S16_B1 | WT.H15  | H15   |\n",
       "| S16_B2 | WT.H15  | H15   |\n",
       "| S17_B1 | WT.D1   | D1    |\n",
       "| S17_B2 | WT.D1   | D1    |\n",
       "| S18_B1 | WT.D1   | D1    |\n",
       "| S18_B2 | WT.D1   | D1    |\n",
       "| S19_B1 | WT.D2   | D2    |\n",
       "| S19_B2 | WT.D2   | D2    |\n",
       "| S20_B1 | WT.D2   | D2    |\n",
       "| S20_B2 | WT.D2   | D2    |\n",
       "| S21_B1 | WT.D7   | D7    |\n",
       "| S21_B2 | WT.D7   | D7    |\n",
       "| S22_B1 | WT.D7   | D7    |\n",
       "| S22_B2 | WT.D7   | D7    |\n",
       "\n"
      ],
      "text/plain": [
       "   V1     V2      V3   \n",
       "1  S01_B1 WT.ES   ES   \n",
       "2  S01_B2 WT.ES   ES   \n",
       "3  S02_B1 WT.ES   ES   \n",
       "4  S02_B2 WT.ES   ES   \n",
       "5  S03_B1 K108.ES KO.ES\n",
       "6  S03_B2 K108.ES KO.ES\n",
       "7  S04_B1 K108.ES KO.ES\n",
       "8  S04_B2 K108.ES KO.ES\n",
       "9  S05_B1 K112.ES KO.ES\n",
       "10 S05_B2 K112.ES KO.ES\n",
       "11 S06_B1 K112.ES KO.ES\n",
       "12 S06_B2 K112.ES KO.ES\n",
       "13 S07_B1 WT.D4   D4   \n",
       "14 S07_B2 WT.D4   D4   \n",
       "15 S08_B1 WT.D4   D4   \n",
       "16 S08_B2 WT.D4   D4   \n",
       "17 S09_B1 K108.D4 KO.D4\n",
       "18 S09_B2 K108.D4 KO.D4\n",
       "19 S10_B1 K108.D4 KO.D4\n",
       "20 S10_B2 K108.D4 KO.D4\n",
       "21 S11_B1 K112.D4 KO.D4\n",
       "22 S11_B2 K112.D4 KO.D4\n",
       "23 S12_B1 K112.D4 KO.D4\n",
       "24 S12_B2 K112.D4 KO.D4\n",
       "25 S13_B1 WT.ES   ES   \n",
       "26 S13_B2 WT.ES   ES   \n",
       "27 S14_B1 WT.ES   ES   \n",
       "28 S14_B2 WT.ES   ES   \n",
       "29 S15_B1 WT.H15  H15  \n",
       "30 S15_B2 WT.H15  H15  \n",
       "31 S16_B1 WT.H15  H15  \n",
       "32 S16_B2 WT.H15  H15  \n",
       "33 S17_B1 WT.D1   D1   \n",
       "34 S17_B2 WT.D1   D1   \n",
       "35 S18_B1 WT.D1   D1   \n",
       "36 S18_B2 WT.D1   D1   \n",
       "37 S19_B1 WT.D2   D2   \n",
       "38 S19_B2 WT.D2   D2   \n",
       "39 S20_B1 WT.D2   D2   \n",
       "40 S20_B2 WT.D2   D2   \n",
       "41 S21_B1 WT.D7   D7   \n",
       "42 S21_B2 WT.D7   D7   \n",
       "43 S22_B1 WT.D7   D7   \n",
       "44 S22_B2 WT.D7   D7   "
      ]
     },
     "metadata": {},
     "output_type": "display_data"
    }
   ],
   "source": [
    "all.sample.annotation"
   ]
  },
  {
   "cell_type": "code",
   "execution_count": 24,
   "metadata": {
    "ExecuteTime": {
     "end_time": "2019-09-24T22:28:31.155777Z",
     "start_time": "2019-09-24T22:28:32.056Z"
    }
   },
   "outputs": [],
   "source": [
    "sample_in <- all.sample.annotation %>% \n",
    "        filter(V3 %in% c('ES', 'KO.ES', 'D4', 'KO.D4') & !(str_detect(V1, 'S13') | str_detect(V1, 'S14'))) %>%\n",
    "        pull(V1)"
   ]
  },
  {
   "cell_type": "code",
   "execution_count": 56,
   "metadata": {
    "ExecuteTime": {
     "end_time": "2019-09-25T17:47:06.939572Z",
     "start_time": "2019-09-25T17:47:06.453Z"
    }
   },
   "outputs": [],
   "source": [
    "?which"
   ]
  },
  {
   "cell_type": "code",
   "execution_count": 25,
   "metadata": {
    "ExecuteTime": {
     "end_time": "2019-09-24T22:28:34.089852Z",
     "start_time": "2019-09-24T22:28:34.981Z"
    }
   },
   "outputs": [
    {
     "data": {
      "text/html": [
       "<ol class=list-inline>\n",
       "\t<li>S01_B1</li>\n",
       "\t<li>S01_B2</li>\n",
       "\t<li>S02_B1</li>\n",
       "\t<li>S02_B2</li>\n",
       "\t<li>S03_B1</li>\n",
       "\t<li>S03_B2</li>\n",
       "\t<li>S04_B1</li>\n",
       "\t<li>S04_B2</li>\n",
       "\t<li>S05_B1</li>\n",
       "\t<li>S05_B2</li>\n",
       "\t<li>S06_B1</li>\n",
       "\t<li>S06_B2</li>\n",
       "\t<li>S07_B1</li>\n",
       "\t<li>S07_B2</li>\n",
       "\t<li>S08_B1</li>\n",
       "\t<li>S08_B2</li>\n",
       "\t<li>S09_B1</li>\n",
       "\t<li>S09_B2</li>\n",
       "\t<li>S10_B1</li>\n",
       "\t<li>S10_B2</li>\n",
       "\t<li>S11_B1</li>\n",
       "\t<li>S11_B2</li>\n",
       "\t<li>S12_B1</li>\n",
       "\t<li>S12_B2</li>\n",
       "</ol>\n",
       "\n",
       "<details>\n",
       "\t<summary style=display:list-item;cursor:pointer>\n",
       "\t\t<strong>Levels</strong>:\n",
       "\t</summary>\n",
       "\t<ol class=list-inline>\n",
       "\t\t<li>'S01_B1'</li>\n",
       "\t\t<li>'S01_B2'</li>\n",
       "\t\t<li>'S02_B1'</li>\n",
       "\t\t<li>'S02_B2'</li>\n",
       "\t\t<li>'S03_B1'</li>\n",
       "\t\t<li>'S03_B2'</li>\n",
       "\t\t<li>'S04_B1'</li>\n",
       "\t\t<li>'S04_B2'</li>\n",
       "\t\t<li>'S05_B1'</li>\n",
       "\t\t<li>'S05_B2'</li>\n",
       "\t\t<li>'S06_B1'</li>\n",
       "\t\t<li>'S06_B2'</li>\n",
       "\t\t<li>'S07_B1'</li>\n",
       "\t\t<li>'S07_B2'</li>\n",
       "\t\t<li>'S08_B1'</li>\n",
       "\t\t<li>'S08_B2'</li>\n",
       "\t\t<li>'S09_B1'</li>\n",
       "\t\t<li>'S09_B2'</li>\n",
       "\t\t<li>'S10_B1'</li>\n",
       "\t\t<li>'S10_B2'</li>\n",
       "\t\t<li>'S11_B1'</li>\n",
       "\t\t<li>'S11_B2'</li>\n",
       "\t\t<li>'S12_B1'</li>\n",
       "\t\t<li>'S12_B2'</li>\n",
       "\t\t<li>'S13_B1'</li>\n",
       "\t\t<li>'S13_B2'</li>\n",
       "\t\t<li>'S14_B1'</li>\n",
       "\t\t<li>'S14_B2'</li>\n",
       "\t\t<li>'S15_B1'</li>\n",
       "\t\t<li>'S15_B2'</li>\n",
       "\t\t<li>'S16_B1'</li>\n",
       "\t\t<li>'S16_B2'</li>\n",
       "\t\t<li>'S17_B1'</li>\n",
       "\t\t<li>'S17_B2'</li>\n",
       "\t\t<li>'S18_B1'</li>\n",
       "\t\t<li>'S18_B2'</li>\n",
       "\t\t<li>'S19_B1'</li>\n",
       "\t\t<li>'S19_B2'</li>\n",
       "\t\t<li>'S20_B1'</li>\n",
       "\t\t<li>'S20_B2'</li>\n",
       "\t\t<li>'S21_B1'</li>\n",
       "\t\t<li>'S21_B2'</li>\n",
       "\t\t<li>'S22_B1'</li>\n",
       "\t\t<li>'S22_B2'</li>\n",
       "\t</ol>\n",
       "</details>"
      ],
      "text/latex": [
       "\\begin{enumerate*}\n",
       "\\item S01\\_B1\n",
       "\\item S01\\_B2\n",
       "\\item S02\\_B1\n",
       "\\item S02\\_B2\n",
       "\\item S03\\_B1\n",
       "\\item S03\\_B2\n",
       "\\item S04\\_B1\n",
       "\\item S04\\_B2\n",
       "\\item S05\\_B1\n",
       "\\item S05\\_B2\n",
       "\\item S06\\_B1\n",
       "\\item S06\\_B2\n",
       "\\item S07\\_B1\n",
       "\\item S07\\_B2\n",
       "\\item S08\\_B1\n",
       "\\item S08\\_B2\n",
       "\\item S09\\_B1\n",
       "\\item S09\\_B2\n",
       "\\item S10\\_B1\n",
       "\\item S10\\_B2\n",
       "\\item S11\\_B1\n",
       "\\item S11\\_B2\n",
       "\\item S12\\_B1\n",
       "\\item S12\\_B2\n",
       "\\end{enumerate*}\n",
       "\n",
       "\\emph{Levels}: \\begin{enumerate*}\n",
       "\\item 'S01\\_B1'\n",
       "\\item 'S01\\_B2'\n",
       "\\item 'S02\\_B1'\n",
       "\\item 'S02\\_B2'\n",
       "\\item 'S03\\_B1'\n",
       "\\item 'S03\\_B2'\n",
       "\\item 'S04\\_B1'\n",
       "\\item 'S04\\_B2'\n",
       "\\item 'S05\\_B1'\n",
       "\\item 'S05\\_B2'\n",
       "\\item 'S06\\_B1'\n",
       "\\item 'S06\\_B2'\n",
       "\\item 'S07\\_B1'\n",
       "\\item 'S07\\_B2'\n",
       "\\item 'S08\\_B1'\n",
       "\\item 'S08\\_B2'\n",
       "\\item 'S09\\_B1'\n",
       "\\item 'S09\\_B2'\n",
       "\\item 'S10\\_B1'\n",
       "\\item 'S10\\_B2'\n",
       "\\item 'S11\\_B1'\n",
       "\\item 'S11\\_B2'\n",
       "\\item 'S12\\_B1'\n",
       "\\item 'S12\\_B2'\n",
       "\\item 'S13\\_B1'\n",
       "\\item 'S13\\_B2'\n",
       "\\item 'S14\\_B1'\n",
       "\\item 'S14\\_B2'\n",
       "\\item 'S15\\_B1'\n",
       "\\item 'S15\\_B2'\n",
       "\\item 'S16\\_B1'\n",
       "\\item 'S16\\_B2'\n",
       "\\item 'S17\\_B1'\n",
       "\\item 'S17\\_B2'\n",
       "\\item 'S18\\_B1'\n",
       "\\item 'S18\\_B2'\n",
       "\\item 'S19\\_B1'\n",
       "\\item 'S19\\_B2'\n",
       "\\item 'S20\\_B1'\n",
       "\\item 'S20\\_B2'\n",
       "\\item 'S21\\_B1'\n",
       "\\item 'S21\\_B2'\n",
       "\\item 'S22\\_B1'\n",
       "\\item 'S22\\_B2'\n",
       "\\end{enumerate*}\n"
      ],
      "text/markdown": [
       "1. S01_B1\n",
       "2. S01_B2\n",
       "3. S02_B1\n",
       "4. S02_B2\n",
       "5. S03_B1\n",
       "6. S03_B2\n",
       "7. S04_B1\n",
       "8. S04_B2\n",
       "9. S05_B1\n",
       "10. S05_B2\n",
       "11. S06_B1\n",
       "12. S06_B2\n",
       "13. S07_B1\n",
       "14. S07_B2\n",
       "15. S08_B1\n",
       "16. S08_B2\n",
       "17. S09_B1\n",
       "18. S09_B2\n",
       "19. S10_B1\n",
       "20. S10_B2\n",
       "21. S11_B1\n",
       "22. S11_B2\n",
       "23. S12_B1\n",
       "24. S12_B2\n",
       "\n",
       "\n",
       "\n",
       "**Levels**: 1. 'S01_B1'\n",
       "2. 'S01_B2'\n",
       "3. 'S02_B1'\n",
       "4. 'S02_B2'\n",
       "5. 'S03_B1'\n",
       "6. 'S03_B2'\n",
       "7. 'S04_B1'\n",
       "8. 'S04_B2'\n",
       "9. 'S05_B1'\n",
       "10. 'S05_B2'\n",
       "11. 'S06_B1'\n",
       "12. 'S06_B2'\n",
       "13. 'S07_B1'\n",
       "14. 'S07_B2'\n",
       "15. 'S08_B1'\n",
       "16. 'S08_B2'\n",
       "17. 'S09_B1'\n",
       "18. 'S09_B2'\n",
       "19. 'S10_B1'\n",
       "20. 'S10_B2'\n",
       "21. 'S11_B1'\n",
       "22. 'S11_B2'\n",
       "23. 'S12_B1'\n",
       "24. 'S12_B2'\n",
       "25. 'S13_B1'\n",
       "26. 'S13_B2'\n",
       "27. 'S14_B1'\n",
       "28. 'S14_B2'\n",
       "29. 'S15_B1'\n",
       "30. 'S15_B2'\n",
       "31. 'S16_B1'\n",
       "32. 'S16_B2'\n",
       "33. 'S17_B1'\n",
       "34. 'S17_B2'\n",
       "35. 'S18_B1'\n",
       "36. 'S18_B2'\n",
       "37. 'S19_B1'\n",
       "38. 'S19_B2'\n",
       "39. 'S20_B1'\n",
       "40. 'S20_B2'\n",
       "41. 'S21_B1'\n",
       "42. 'S21_B2'\n",
       "43. 'S22_B1'\n",
       "44. 'S22_B2'\n",
       "\n",
       "\n"
      ],
      "text/plain": [
       " [1] S01_B1 S01_B2 S02_B1 S02_B2 S03_B1 S03_B2 S04_B1 S04_B2 S05_B1 S05_B2\n",
       "[11] S06_B1 S06_B2 S07_B1 S07_B2 S08_B1 S08_B2 S09_B1 S09_B2 S10_B1 S10_B2\n",
       "[21] S11_B1 S11_B2 S12_B1 S12_B2\n",
       "44 Levels: S01_B1 S01_B2 S02_B1 S02_B2 S03_B1 S03_B2 S04_B1 S04_B2 ... S22_B2"
      ]
     },
     "metadata": {},
     "output_type": "display_data"
    }
   ],
   "source": [
    "sample_in"
   ]
  },
  {
   "cell_type": "code",
   "execution_count": 26,
   "metadata": {
    "ExecuteTime": {
     "end_time": "2019-09-24T22:28:42.243711Z",
     "start_time": "2019-09-24T22:28:43.131Z"
    }
   },
   "outputs": [],
   "source": [
    "# relevant samples\n",
    "cols.ES <- all.sample.annotation %>% filter((V1 %in% sample_in) & str_detect(V3,'ES')) %>% pull(V1)"
   ]
  },
  {
   "cell_type": "code",
   "execution_count": 27,
   "metadata": {
    "ExecuteTime": {
     "end_time": "2019-09-24T22:28:48.836585Z",
     "start_time": "2019-09-24T22:28:49.730Z"
    }
   },
   "outputs": [
    {
     "data": {
      "text/html": [
       "<ol class=list-inline>\n",
       "\t<li>S01_B1</li>\n",
       "\t<li>S01_B2</li>\n",
       "\t<li>S02_B1</li>\n",
       "\t<li>S02_B2</li>\n",
       "\t<li>S03_B1</li>\n",
       "\t<li>S03_B2</li>\n",
       "\t<li>S04_B1</li>\n",
       "\t<li>S04_B2</li>\n",
       "\t<li>S05_B1</li>\n",
       "\t<li>S05_B2</li>\n",
       "\t<li>S06_B1</li>\n",
       "\t<li>S06_B2</li>\n",
       "</ol>\n",
       "\n",
       "<details>\n",
       "\t<summary style=display:list-item;cursor:pointer>\n",
       "\t\t<strong>Levels</strong>:\n",
       "\t</summary>\n",
       "\t<ol class=list-inline>\n",
       "\t\t<li>'S01_B1'</li>\n",
       "\t\t<li>'S01_B2'</li>\n",
       "\t\t<li>'S02_B1'</li>\n",
       "\t\t<li>'S02_B2'</li>\n",
       "\t\t<li>'S03_B1'</li>\n",
       "\t\t<li>'S03_B2'</li>\n",
       "\t\t<li>'S04_B1'</li>\n",
       "\t\t<li>'S04_B2'</li>\n",
       "\t\t<li>'S05_B1'</li>\n",
       "\t\t<li>'S05_B2'</li>\n",
       "\t\t<li>'S06_B1'</li>\n",
       "\t\t<li>'S06_B2'</li>\n",
       "\t\t<li>'S07_B1'</li>\n",
       "\t\t<li>'S07_B2'</li>\n",
       "\t\t<li>'S08_B1'</li>\n",
       "\t\t<li>'S08_B2'</li>\n",
       "\t\t<li>'S09_B1'</li>\n",
       "\t\t<li>'S09_B2'</li>\n",
       "\t\t<li>'S10_B1'</li>\n",
       "\t\t<li>'S10_B2'</li>\n",
       "\t\t<li>'S11_B1'</li>\n",
       "\t\t<li>'S11_B2'</li>\n",
       "\t\t<li>'S12_B1'</li>\n",
       "\t\t<li>'S12_B2'</li>\n",
       "\t\t<li>'S13_B1'</li>\n",
       "\t\t<li>'S13_B2'</li>\n",
       "\t\t<li>'S14_B1'</li>\n",
       "\t\t<li>'S14_B2'</li>\n",
       "\t\t<li>'S15_B1'</li>\n",
       "\t\t<li>'S15_B2'</li>\n",
       "\t\t<li>'S16_B1'</li>\n",
       "\t\t<li>'S16_B2'</li>\n",
       "\t\t<li>'S17_B1'</li>\n",
       "\t\t<li>'S17_B2'</li>\n",
       "\t\t<li>'S18_B1'</li>\n",
       "\t\t<li>'S18_B2'</li>\n",
       "\t\t<li>'S19_B1'</li>\n",
       "\t\t<li>'S19_B2'</li>\n",
       "\t\t<li>'S20_B1'</li>\n",
       "\t\t<li>'S20_B2'</li>\n",
       "\t\t<li>'S21_B1'</li>\n",
       "\t\t<li>'S21_B2'</li>\n",
       "\t\t<li>'S22_B1'</li>\n",
       "\t\t<li>'S22_B2'</li>\n",
       "\t</ol>\n",
       "</details>"
      ],
      "text/latex": [
       "\\begin{enumerate*}\n",
       "\\item S01\\_B1\n",
       "\\item S01\\_B2\n",
       "\\item S02\\_B1\n",
       "\\item S02\\_B2\n",
       "\\item S03\\_B1\n",
       "\\item S03\\_B2\n",
       "\\item S04\\_B1\n",
       "\\item S04\\_B2\n",
       "\\item S05\\_B1\n",
       "\\item S05\\_B2\n",
       "\\item S06\\_B1\n",
       "\\item S06\\_B2\n",
       "\\end{enumerate*}\n",
       "\n",
       "\\emph{Levels}: \\begin{enumerate*}\n",
       "\\item 'S01\\_B1'\n",
       "\\item 'S01\\_B2'\n",
       "\\item 'S02\\_B1'\n",
       "\\item 'S02\\_B2'\n",
       "\\item 'S03\\_B1'\n",
       "\\item 'S03\\_B2'\n",
       "\\item 'S04\\_B1'\n",
       "\\item 'S04\\_B2'\n",
       "\\item 'S05\\_B1'\n",
       "\\item 'S05\\_B2'\n",
       "\\item 'S06\\_B1'\n",
       "\\item 'S06\\_B2'\n",
       "\\item 'S07\\_B1'\n",
       "\\item 'S07\\_B2'\n",
       "\\item 'S08\\_B1'\n",
       "\\item 'S08\\_B2'\n",
       "\\item 'S09\\_B1'\n",
       "\\item 'S09\\_B2'\n",
       "\\item 'S10\\_B1'\n",
       "\\item 'S10\\_B2'\n",
       "\\item 'S11\\_B1'\n",
       "\\item 'S11\\_B2'\n",
       "\\item 'S12\\_B1'\n",
       "\\item 'S12\\_B2'\n",
       "\\item 'S13\\_B1'\n",
       "\\item 'S13\\_B2'\n",
       "\\item 'S14\\_B1'\n",
       "\\item 'S14\\_B2'\n",
       "\\item 'S15\\_B1'\n",
       "\\item 'S15\\_B2'\n",
       "\\item 'S16\\_B1'\n",
       "\\item 'S16\\_B2'\n",
       "\\item 'S17\\_B1'\n",
       "\\item 'S17\\_B2'\n",
       "\\item 'S18\\_B1'\n",
       "\\item 'S18\\_B2'\n",
       "\\item 'S19\\_B1'\n",
       "\\item 'S19\\_B2'\n",
       "\\item 'S20\\_B1'\n",
       "\\item 'S20\\_B2'\n",
       "\\item 'S21\\_B1'\n",
       "\\item 'S21\\_B2'\n",
       "\\item 'S22\\_B1'\n",
       "\\item 'S22\\_B2'\n",
       "\\end{enumerate*}\n"
      ],
      "text/markdown": [
       "1. S01_B1\n",
       "2. S01_B2\n",
       "3. S02_B1\n",
       "4. S02_B2\n",
       "5. S03_B1\n",
       "6. S03_B2\n",
       "7. S04_B1\n",
       "8. S04_B2\n",
       "9. S05_B1\n",
       "10. S05_B2\n",
       "11. S06_B1\n",
       "12. S06_B2\n",
       "\n",
       "\n",
       "\n",
       "**Levels**: 1. 'S01_B1'\n",
       "2. 'S01_B2'\n",
       "3. 'S02_B1'\n",
       "4. 'S02_B2'\n",
       "5. 'S03_B1'\n",
       "6. 'S03_B2'\n",
       "7. 'S04_B1'\n",
       "8. 'S04_B2'\n",
       "9. 'S05_B1'\n",
       "10. 'S05_B2'\n",
       "11. 'S06_B1'\n",
       "12. 'S06_B2'\n",
       "13. 'S07_B1'\n",
       "14. 'S07_B2'\n",
       "15. 'S08_B1'\n",
       "16. 'S08_B2'\n",
       "17. 'S09_B1'\n",
       "18. 'S09_B2'\n",
       "19. 'S10_B1'\n",
       "20. 'S10_B2'\n",
       "21. 'S11_B1'\n",
       "22. 'S11_B2'\n",
       "23. 'S12_B1'\n",
       "24. 'S12_B2'\n",
       "25. 'S13_B1'\n",
       "26. 'S13_B2'\n",
       "27. 'S14_B1'\n",
       "28. 'S14_B2'\n",
       "29. 'S15_B1'\n",
       "30. 'S15_B2'\n",
       "31. 'S16_B1'\n",
       "32. 'S16_B2'\n",
       "33. 'S17_B1'\n",
       "34. 'S17_B2'\n",
       "35. 'S18_B1'\n",
       "36. 'S18_B2'\n",
       "37. 'S19_B1'\n",
       "38. 'S19_B2'\n",
       "39. 'S20_B1'\n",
       "40. 'S20_B2'\n",
       "41. 'S21_B1'\n",
       "42. 'S21_B2'\n",
       "43. 'S22_B1'\n",
       "44. 'S22_B2'\n",
       "\n",
       "\n"
      ],
      "text/plain": [
       " [1] S01_B1 S01_B2 S02_B1 S02_B2 S03_B1 S03_B2 S04_B1 S04_B2 S05_B1 S05_B2\n",
       "[11] S06_B1 S06_B2\n",
       "44 Levels: S01_B1 S01_B2 S02_B1 S02_B2 S03_B1 S03_B2 S04_B1 S04_B2 ... S22_B2"
      ]
     },
     "metadata": {},
     "output_type": "display_data"
    }
   ],
   "source": [
    "cols.ES"
   ]
  },
  {
   "cell_type": "code",
   "execution_count": 28,
   "metadata": {
    "ExecuteTime": {
     "end_time": "2019-09-24T22:28:59.658326Z",
     "start_time": "2019-09-24T22:29:00.559Z"
    }
   },
   "outputs": [],
   "source": [
    "cnts.ES <- cnts[,cols.ES]"
   ]
  },
  {
   "cell_type": "code",
   "execution_count": 53,
   "metadata": {
    "ExecuteTime": {
     "end_time": "2019-09-24T22:39:49.807802Z",
     "start_time": "2019-09-24T22:39:50.702Z"
    }
   },
   "outputs": [
    {
     "data": {
      "text/html": [
       "<table>\n",
       "<caption>A data.frame: 0 × 12</caption>\n",
       "<thead>\n",
       "\t<tr><th scope=col>gene_name</th><th scope=col>S01_B1</th><th scope=col>S01_B2</th><th scope=col>S02_B1</th><th scope=col>S02_B2</th><th scope=col>S03_B1</th><th scope=col>S03_B2</th><th scope=col>S04_B1</th><th scope=col>S04_B2</th><th scope=col>S05_B1</th><th scope=col>S05_B2</th><th scope=col>S06_B1</th></tr>\n",
       "\t<tr><th scope=col>&lt;fct&gt;</th><th scope=col>&lt;int&gt;</th><th scope=col>&lt;int&gt;</th><th scope=col>&lt;int&gt;</th><th scope=col>&lt;int&gt;</th><th scope=col>&lt;int&gt;</th><th scope=col>&lt;int&gt;</th><th scope=col>&lt;int&gt;</th><th scope=col>&lt;int&gt;</th><th scope=col>&lt;int&gt;</th><th scope=col>&lt;int&gt;</th><th scope=col>&lt;int&gt;</th></tr>\n",
       "</thead>\n",
       "<tbody>\n",
       "</tbody>\n",
       "</table>\n"
      ],
      "text/latex": [
       "A data.frame: 0 × 12\n",
       "\\begin{tabular}{r|llllllllllll}\n",
       " gene\\_name & S01\\_B1 & S01\\_B2 & S02\\_B1 & S02\\_B2 & S03\\_B1 & S03\\_B2 & S04\\_B1 & S04\\_B2 & S05\\_B1 & S05\\_B2 & S06\\_B1\\\\\n",
       " <fct> & <int> & <int> & <int> & <int> & <int> & <int> & <int> & <int> & <int> & <int> & <int>\\\\\n",
       "\\hline\n",
       "\\end{tabular}\n"
      ],
      "text/markdown": [
       "\n",
       "A data.frame: 0 × 12\n",
       "\n",
       "| gene_name &lt;fct&gt; | S01_B1 &lt;int&gt; | S01_B2 &lt;int&gt; | S02_B1 &lt;int&gt; | S02_B2 &lt;int&gt; | S03_B1 &lt;int&gt; | S03_B2 &lt;int&gt; | S04_B1 &lt;int&gt; | S04_B2 &lt;int&gt; | S05_B1 &lt;int&gt; | S05_B2 &lt;int&gt; | S06_B1 &lt;int&gt; |\n",
       "|---|---|---|---|---|---|---|---|---|---|---|---|\n",
       "\n"
      ],
      "text/plain": [
       "     gene_name S01_B1 S01_B2 S02_B1 S02_B2 S03_B1 S03_B2 S04_B1 S04_B2 S05_B1\n",
       "     S05_B2 S06_B1"
      ]
     },
     "metadata": {},
     "output_type": "display_data"
    }
   ],
   "source": [
    "cnts.ES[which(cnts.ES$S01_B1 < 0),]"
   ]
  },
  {
   "cell_type": "code",
   "execution_count": 29,
   "metadata": {
    "ExecuteTime": {
     "end_time": "2019-09-24T22:29:02.130243Z",
     "start_time": "2019-09-24T22:29:03.006Z"
    },
    "scrolled": true
   },
   "outputs": [
    {
     "data": {
      "text/html": [
       "<ol class=list-inline>\n",
       "\t<li>'gene_name'</li>\n",
       "\t<li>'S01_B1'</li>\n",
       "\t<li>'S01_B2'</li>\n",
       "\t<li>'S02_B1'</li>\n",
       "\t<li>'S02_B2'</li>\n",
       "\t<li>'S03_B1'</li>\n",
       "\t<li>'S03_B2'</li>\n",
       "\t<li>'S04_B1'</li>\n",
       "\t<li>'S04_B2'</li>\n",
       "\t<li>'S05_B1'</li>\n",
       "\t<li>'S05_B2'</li>\n",
       "\t<li>'S06_B1'</li>\n",
       "</ol>\n"
      ],
      "text/latex": [
       "\\begin{enumerate*}\n",
       "\\item 'gene\\_name'\n",
       "\\item 'S01\\_B1'\n",
       "\\item 'S01\\_B2'\n",
       "\\item 'S02\\_B1'\n",
       "\\item 'S02\\_B2'\n",
       "\\item 'S03\\_B1'\n",
       "\\item 'S03\\_B2'\n",
       "\\item 'S04\\_B1'\n",
       "\\item 'S04\\_B2'\n",
       "\\item 'S05\\_B1'\n",
       "\\item 'S05\\_B2'\n",
       "\\item 'S06\\_B1'\n",
       "\\end{enumerate*}\n"
      ],
      "text/markdown": [
       "1. 'gene_name'\n",
       "2. 'S01_B1'\n",
       "3. 'S01_B2'\n",
       "4. 'S02_B1'\n",
       "5. 'S02_B2'\n",
       "6. 'S03_B1'\n",
       "7. 'S03_B2'\n",
       "8. 'S04_B1'\n",
       "9. 'S04_B2'\n",
       "10. 'S05_B1'\n",
       "11. 'S05_B2'\n",
       "12. 'S06_B1'\n",
       "\n",
       "\n"
      ],
      "text/plain": [
       " [1] \"gene_name\" \"S01_B1\"    \"S01_B2\"    \"S02_B1\"    \"S02_B2\"    \"S03_B1\"   \n",
       " [7] \"S03_B2\"    \"S04_B1\"    \"S04_B2\"    \"S05_B1\"    \"S05_B2\"    \"S06_B1\"   "
      ]
     },
     "metadata": {},
     "output_type": "display_data"
    },
    {
     "data": {
      "text/html": [
       "<table>\n",
       "<caption>A data.frame: 6 × 12</caption>\n",
       "<thead>\n",
       "\t<tr><th></th><th scope=col>gene_name</th><th scope=col>S01_B1</th><th scope=col>S01_B2</th><th scope=col>S02_B1</th><th scope=col>S02_B2</th><th scope=col>S03_B1</th><th scope=col>S03_B2</th><th scope=col>S04_B1</th><th scope=col>S04_B2</th><th scope=col>S05_B1</th><th scope=col>S05_B2</th><th scope=col>S06_B1</th></tr>\n",
       "\t<tr><th></th><th scope=col>&lt;fct&gt;</th><th scope=col>&lt;int&gt;</th><th scope=col>&lt;int&gt;</th><th scope=col>&lt;int&gt;</th><th scope=col>&lt;int&gt;</th><th scope=col>&lt;int&gt;</th><th scope=col>&lt;int&gt;</th><th scope=col>&lt;int&gt;</th><th scope=col>&lt;int&gt;</th><th scope=col>&lt;int&gt;</th><th scope=col>&lt;int&gt;</th><th scope=col>&lt;int&gt;</th></tr>\n",
       "</thead>\n",
       "<tbody>\n",
       "\t<tr><th scope=row>ENSG00000000003.14</th><td>TSPAN6  </td><td>817</td><td>966</td><td>789</td><td>1226</td><td>757</td><td>723</td><td>991</td><td>1400</td><td>1194</td><td>1732</td><td>1093</td></tr>\n",
       "\t<tr><th scope=row>ENSG00000000005.6</th><td>TNMD    </td><td> 19</td><td>  0</td><td>  0</td><td>  11</td><td> 11</td><td> 14</td><td>  1</td><td>  11</td><td>   0</td><td>  14</td><td>   0</td></tr>\n",
       "\t<tr><th scope=row>ENSG00000000419.12</th><td>DPM1    </td><td>762</td><td>731</td><td>746</td><td> 908</td><td>809</td><td>644</td><td>516</td><td>1264</td><td> 340</td><td>1031</td><td> 597</td></tr>\n",
       "\t<tr><th scope=row>ENSG00000000457.14</th><td>SCYL3   </td><td> 20</td><td> 67</td><td> 49</td><td>  70</td><td> 28</td><td> 27</td><td> 56</td><td>  14</td><td>  65</td><td>  37</td><td>  40</td></tr>\n",
       "\t<tr><th scope=row>ENSG00000000460.17</th><td>C1orf112</td><td>114</td><td>211</td><td>160</td><td> 266</td><td>153</td><td>145</td><td>101</td><td> 253</td><td> 148</td><td> 271</td><td>  94</td></tr>\n",
       "\t<tr><th scope=row>ENSG00000000938.13</th><td>FGR     </td><td>  0</td><td>  0</td><td>  0</td><td>   0</td><td>  0</td><td>  0</td><td>  0</td><td>   0</td><td>   0</td><td>   0</td><td>   0</td></tr>\n",
       "</tbody>\n",
       "</table>\n"
      ],
      "text/latex": [
       "A data.frame: 6 × 12\n",
       "\\begin{tabular}{r|llllllllllll}\n",
       "  & gene\\_name & S01\\_B1 & S01\\_B2 & S02\\_B1 & S02\\_B2 & S03\\_B1 & S03\\_B2 & S04\\_B1 & S04\\_B2 & S05\\_B1 & S05\\_B2 & S06\\_B1\\\\\n",
       "  & <fct> & <int> & <int> & <int> & <int> & <int> & <int> & <int> & <int> & <int> & <int> & <int>\\\\\n",
       "\\hline\n",
       "\tENSG00000000003.14 & TSPAN6   & 817 & 966 & 789 & 1226 & 757 & 723 & 991 & 1400 & 1194 & 1732 & 1093\\\\\n",
       "\tENSG00000000005.6 & TNMD     &  19 &   0 &   0 &   11 &  11 &  14 &   1 &   11 &    0 &   14 &    0\\\\\n",
       "\tENSG00000000419.12 & DPM1     & 762 & 731 & 746 &  908 & 809 & 644 & 516 & 1264 &  340 & 1031 &  597\\\\\n",
       "\tENSG00000000457.14 & SCYL3    &  20 &  67 &  49 &   70 &  28 &  27 &  56 &   14 &   65 &   37 &   40\\\\\n",
       "\tENSG00000000460.17 & C1orf112 & 114 & 211 & 160 &  266 & 153 & 145 & 101 &  253 &  148 &  271 &   94\\\\\n",
       "\tENSG00000000938.13 & FGR      &   0 &   0 &   0 &    0 &   0 &   0 &   0 &    0 &    0 &    0 &    0\\\\\n",
       "\\end{tabular}\n"
      ],
      "text/markdown": [
       "\n",
       "A data.frame: 6 × 12\n",
       "\n",
       "| <!--/--> | gene_name &lt;fct&gt; | S01_B1 &lt;int&gt; | S01_B2 &lt;int&gt; | S02_B1 &lt;int&gt; | S02_B2 &lt;int&gt; | S03_B1 &lt;int&gt; | S03_B2 &lt;int&gt; | S04_B1 &lt;int&gt; | S04_B2 &lt;int&gt; | S05_B1 &lt;int&gt; | S05_B2 &lt;int&gt; | S06_B1 &lt;int&gt; |\n",
       "|---|---|---|---|---|---|---|---|---|---|---|---|---|\n",
       "| ENSG00000000003.14 | TSPAN6   | 817 | 966 | 789 | 1226 | 757 | 723 | 991 | 1400 | 1194 | 1732 | 1093 |\n",
       "| ENSG00000000005.6 | TNMD     |  19 |   0 |   0 |   11 |  11 |  14 |   1 |   11 |    0 |   14 |    0 |\n",
       "| ENSG00000000419.12 | DPM1     | 762 | 731 | 746 |  908 | 809 | 644 | 516 | 1264 |  340 | 1031 |  597 |\n",
       "| ENSG00000000457.14 | SCYL3    |  20 |  67 |  49 |   70 |  28 |  27 |  56 |   14 |   65 |   37 |   40 |\n",
       "| ENSG00000000460.17 | C1orf112 | 114 | 211 | 160 |  266 | 153 | 145 | 101 |  253 |  148 |  271 |   94 |\n",
       "| ENSG00000000938.13 | FGR      |   0 |   0 |   0 |    0 |   0 |   0 |   0 |    0 |    0 |    0 |    0 |\n",
       "\n"
      ],
      "text/plain": [
       "                   gene_name S01_B1 S01_B2 S02_B1 S02_B2 S03_B1 S03_B2 S04_B1\n",
       "ENSG00000000003.14 TSPAN6    817    966    789    1226   757    723    991   \n",
       "ENSG00000000005.6  TNMD       19      0      0      11    11     14      1   \n",
       "ENSG00000000419.12 DPM1      762    731    746     908   809    644    516   \n",
       "ENSG00000000457.14 SCYL3      20     67     49      70    28     27     56   \n",
       "ENSG00000000460.17 C1orf112  114    211    160     266   153    145    101   \n",
       "ENSG00000000938.13 FGR         0      0      0       0     0      0      0   \n",
       "                   S04_B2 S05_B1 S05_B2 S06_B1\n",
       "ENSG00000000003.14 1400   1194   1732   1093  \n",
       "ENSG00000000005.6    11      0     14      0  \n",
       "ENSG00000000419.12 1264    340   1031    597  \n",
       "ENSG00000000457.14   14     65     37     40  \n",
       "ENSG00000000460.17  253    148    271     94  \n",
       "ENSG00000000938.13    0      0      0      0  "
      ]
     },
     "metadata": {},
     "output_type": "display_data"
    }
   ],
   "source": [
    "colnames(cnts.ES)\n",
    "head(cnts.ES)"
   ]
  },
  {
   "cell_type": "raw",
   "metadata": {
    "ExecuteTime": {
     "end_time": "2019-09-24T22:29:23.792303Z",
     "start_time": "2019-09-24T22:29:22.342Z"
    }
   },
   "source": [
    "gtf_lookup = read.csv('/gpfs/commons/groups/sanjana_lab/cdai/ref_genome/gencode.v31.primary_assembly.annotation.gene_idTOgene_name.txt')"
   ]
  },
  {
   "cell_type": "code",
   "execution_count": 20,
   "metadata": {
    "ExecuteTime": {
     "end_time": "2019-09-10T19:44:51.118600Z",
     "start_time": "2019-09-10T19:44:51.052Z"
    }
   },
   "outputs": [],
   "source": [
    "# get gene_names\n",
    "gene_ids.ES = rownames_to_column(cnts.ES, 'gene_id')[,1:2] # list of gene IDs specific to ES dataset\n",
    "gtf_lookup$gene_id <- as.character(gtf_lookup$gene_id)\n",
    "gene_names.ES = left_join(gene_ids.ES, gtf_lookup, 'gene_id')[,c(3)] %>% as.character # join to get gene names"
   ]
  },
  {
   "cell_type": "code",
   "execution_count": 21,
   "metadata": {
    "ExecuteTime": {
     "end_time": "2019-09-10T19:44:53.203730Z",
     "start_time": "2019-09-10T19:44:53.220Z"
    }
   },
   "outputs": [
    {
     "data": {
      "text/html": [
       "<ol class=list-inline>\n",
       "\t<li>'conditions_group1.csv'</li>\n",
       "\t<li>'conditions_group2.csv'</li>\n",
       "\t<li>'conditions_group3.csv'</li>\n",
       "\t<li>'HitGeneCount.csv'</li>\n",
       "\t<li>'HitGeneCountMM.csv'</li>\n",
       "\t<li>'HS_td-VStd+_td-VSdox120.csv'</li>\n",
       "\t<li>'intersection_output.csv'</li>\n",
       "\t<li>'Mouse ESC screen.csv'</li>\n",
       "\t<li>'plot_screen_data_sqrt.csv'</li>\n",
       "\t<li>'plot_screen_data.csv'</li>\n",
       "\t<li>'plot_screenMM_data.csv'</li>\n",
       "\t<li>'RCmNorRatioLog2.lu.csv'</li>\n",
       "\t<li>'Significant_genes_DOXvsES.csv'</li>\n",
       "\t<li>'Significant_genes_WTvsZBTB18KO.csv'</li>\n",
       "\t<li>'TF_Screen_FC_Pval_15HvsES.csv'</li>\n",
       "\t<li>'TF_Screen_FC_Pval_1DvsES.csv'</li>\n",
       "\t<li>'TF_Screen_FC_Pval_2DvsES.csv'</li>\n",
       "\t<li>'TF_Screen_FC_Pval_4DvsES.csv'</li>\n",
       "\t<li>'TF_Screen_FC_Pval_7DvsES.csv'</li>\n",
       "\t<li>'TF_ScreenSelectedNormalizedCounts.csv'</li>\n",
       "\t<li>'tf.heatmap.genes.csv'</li>\n",
       "\t<li>'tf.heatmap.genes.down.csv'</li>\n",
       "\t<li>'tf.heatmap.genes.up.csv'</li>\n",
       "\t<li>'TFlist.csv'</li>\n",
       "</ol>\n"
      ],
      "text/latex": [
       "\\begin{enumerate*}\n",
       "\\item 'conditions\\_group1.csv'\n",
       "\\item 'conditions\\_group2.csv'\n",
       "\\item 'conditions\\_group3.csv'\n",
       "\\item 'HitGeneCount.csv'\n",
       "\\item 'HitGeneCountMM.csv'\n",
       "\\item 'HS\\_td-VStd+\\_td-VSdox120.csv'\n",
       "\\item 'intersection\\_output.csv'\n",
       "\\item 'Mouse ESC screen.csv'\n",
       "\\item 'plot\\_screen\\_data\\_sqrt.csv'\n",
       "\\item 'plot\\_screen\\_data.csv'\n",
       "\\item 'plot\\_screenMM\\_data.csv'\n",
       "\\item 'RCmNorRatioLog2.lu.csv'\n",
       "\\item 'Significant\\_genes\\_DOXvsES.csv'\n",
       "\\item 'Significant\\_genes\\_WTvsZBTB18KO.csv'\n",
       "\\item 'TF\\_Screen\\_FC\\_Pval\\_15HvsES.csv'\n",
       "\\item 'TF\\_Screen\\_FC\\_Pval\\_1DvsES.csv'\n",
       "\\item 'TF\\_Screen\\_FC\\_Pval\\_2DvsES.csv'\n",
       "\\item 'TF\\_Screen\\_FC\\_Pval\\_4DvsES.csv'\n",
       "\\item 'TF\\_Screen\\_FC\\_Pval\\_7DvsES.csv'\n",
       "\\item 'TF\\_ScreenSelectedNormalizedCounts.csv'\n",
       "\\item 'tf.heatmap.genes.csv'\n",
       "\\item 'tf.heatmap.genes.down.csv'\n",
       "\\item 'tf.heatmap.genes.up.csv'\n",
       "\\item 'TFlist.csv'\n",
       "\\end{enumerate*}\n"
      ],
      "text/markdown": [
       "1. 'conditions_group1.csv'\n",
       "2. 'conditions_group2.csv'\n",
       "3. 'conditions_group3.csv'\n",
       "4. 'HitGeneCount.csv'\n",
       "5. 'HitGeneCountMM.csv'\n",
       "6. 'HS_td-VStd+_td-VSdox120.csv'\n",
       "7. 'intersection_output.csv'\n",
       "8. 'Mouse ESC screen.csv'\n",
       "9. 'plot_screen_data_sqrt.csv'\n",
       "10. 'plot_screen_data.csv'\n",
       "11. 'plot_screenMM_data.csv'\n",
       "12. 'RCmNorRatioLog2.lu.csv'\n",
       "13. 'Significant_genes_DOXvsES.csv'\n",
       "14. 'Significant_genes_WTvsZBTB18KO.csv'\n",
       "15. 'TF_Screen_FC_Pval_15HvsES.csv'\n",
       "16. 'TF_Screen_FC_Pval_1DvsES.csv'\n",
       "17. 'TF_Screen_FC_Pval_2DvsES.csv'\n",
       "18. 'TF_Screen_FC_Pval_4DvsES.csv'\n",
       "19. 'TF_Screen_FC_Pval_7DvsES.csv'\n",
       "20. 'TF_ScreenSelectedNormalizedCounts.csv'\n",
       "21. 'tf.heatmap.genes.csv'\n",
       "22. 'tf.heatmap.genes.down.csv'\n",
       "23. 'tf.heatmap.genes.up.csv'\n",
       "24. 'TFlist.csv'\n",
       "\n",
       "\n"
      ],
      "text/plain": [
       " [1] \"conditions_group1.csv\"                \n",
       " [2] \"conditions_group2.csv\"                \n",
       " [3] \"conditions_group3.csv\"                \n",
       " [4] \"HitGeneCount.csv\"                     \n",
       " [5] \"HitGeneCountMM.csv\"                   \n",
       " [6] \"HS_td-VStd+_td-VSdox120.csv\"          \n",
       " [7] \"intersection_output.csv\"              \n",
       " [8] \"Mouse ESC screen.csv\"                 \n",
       " [9] \"plot_screen_data_sqrt.csv\"            \n",
       "[10] \"plot_screen_data.csv\"                 \n",
       "[11] \"plot_screenMM_data.csv\"               \n",
       "[12] \"RCmNorRatioLog2.lu.csv\"               \n",
       "[13] \"Significant_genes_DOXvsES.csv\"        \n",
       "[14] \"Significant_genes_WTvsZBTB18KO.csv\"   \n",
       "[15] \"TF_Screen_FC_Pval_15HvsES.csv\"        \n",
       "[16] \"TF_Screen_FC_Pval_1DvsES.csv\"         \n",
       "[17] \"TF_Screen_FC_Pval_2DvsES.csv\"         \n",
       "[18] \"TF_Screen_FC_Pval_4DvsES.csv\"         \n",
       "[19] \"TF_Screen_FC_Pval_7DvsES.csv\"         \n",
       "[20] \"TF_ScreenSelectedNormalizedCounts.csv\"\n",
       "[21] \"tf.heatmap.genes.csv\"                 \n",
       "[22] \"tf.heatmap.genes.down.csv\"            \n",
       "[23] \"tf.heatmap.genes.up.csv\"              \n",
       "[24] \"TFlist.csv\"                           "
      ]
     },
     "metadata": {},
     "output_type": "display_data"
    }
   ],
   "source": [
    "dir('.','.csv')"
   ]
  },
  {
   "cell_type": "code",
   "execution_count": 31,
   "metadata": {
    "ExecuteTime": {
     "end_time": "2019-09-24T22:30:06.985308Z",
     "start_time": "2019-09-24T22:30:07.881Z"
    }
   },
   "outputs": [
    {
     "data": {
      "text/html": [
       "<ol class=list-inline>\n",
       "\t<li>S01_B1</li>\n",
       "\t<li>S01_B2</li>\n",
       "\t<li>S02_B1</li>\n",
       "\t<li>S02_B2</li>\n",
       "\t<li>S03_B1</li>\n",
       "\t<li>S03_B2</li>\n",
       "\t<li>S04_B1</li>\n",
       "\t<li>S04_B2</li>\n",
       "\t<li>S05_B1</li>\n",
       "\t<li>S05_B2</li>\n",
       "\t<li>S06_B1</li>\n",
       "\t<li>S06_B2</li>\n",
       "</ol>\n",
       "\n",
       "<details>\n",
       "\t<summary style=display:list-item;cursor:pointer>\n",
       "\t\t<strong>Levels</strong>:\n",
       "\t</summary>\n",
       "\t<ol class=list-inline>\n",
       "\t\t<li>'S01_B1'</li>\n",
       "\t\t<li>'S01_B2'</li>\n",
       "\t\t<li>'S02_B1'</li>\n",
       "\t\t<li>'S02_B2'</li>\n",
       "\t\t<li>'S03_B1'</li>\n",
       "\t\t<li>'S03_B2'</li>\n",
       "\t\t<li>'S04_B1'</li>\n",
       "\t\t<li>'S04_B2'</li>\n",
       "\t\t<li>'S05_B1'</li>\n",
       "\t\t<li>'S05_B2'</li>\n",
       "\t\t<li>'S06_B1'</li>\n",
       "\t\t<li>'S06_B2'</li>\n",
       "\t\t<li>'S07_B1'</li>\n",
       "\t\t<li>'S07_B2'</li>\n",
       "\t\t<li>'S08_B1'</li>\n",
       "\t\t<li>'S08_B2'</li>\n",
       "\t\t<li>'S09_B1'</li>\n",
       "\t\t<li>'S09_B2'</li>\n",
       "\t\t<li>'S10_B1'</li>\n",
       "\t\t<li>'S10_B2'</li>\n",
       "\t\t<li>'S11_B1'</li>\n",
       "\t\t<li>'S11_B2'</li>\n",
       "\t\t<li>'S12_B1'</li>\n",
       "\t\t<li>'S12_B2'</li>\n",
       "\t\t<li>'S13_B1'</li>\n",
       "\t\t<li>'S13_B2'</li>\n",
       "\t\t<li>'S14_B1'</li>\n",
       "\t\t<li>'S14_B2'</li>\n",
       "\t\t<li>'S15_B1'</li>\n",
       "\t\t<li>'S15_B2'</li>\n",
       "\t\t<li>'S16_B1'</li>\n",
       "\t\t<li>'S16_B2'</li>\n",
       "\t\t<li>'S17_B1'</li>\n",
       "\t\t<li>'S17_B2'</li>\n",
       "\t\t<li>'S18_B1'</li>\n",
       "\t\t<li>'S18_B2'</li>\n",
       "\t\t<li>'S19_B1'</li>\n",
       "\t\t<li>'S19_B2'</li>\n",
       "\t\t<li>'S20_B1'</li>\n",
       "\t\t<li>'S20_B2'</li>\n",
       "\t\t<li>'S21_B1'</li>\n",
       "\t\t<li>'S21_B2'</li>\n",
       "\t\t<li>'S22_B1'</li>\n",
       "\t\t<li>'S22_B2'</li>\n",
       "\t</ol>\n",
       "</details>"
      ],
      "text/latex": [
       "\\begin{enumerate*}\n",
       "\\item S01\\_B1\n",
       "\\item S01\\_B2\n",
       "\\item S02\\_B1\n",
       "\\item S02\\_B2\n",
       "\\item S03\\_B1\n",
       "\\item S03\\_B2\n",
       "\\item S04\\_B1\n",
       "\\item S04\\_B2\n",
       "\\item S05\\_B1\n",
       "\\item S05\\_B2\n",
       "\\item S06\\_B1\n",
       "\\item S06\\_B2\n",
       "\\end{enumerate*}\n",
       "\n",
       "\\emph{Levels}: \\begin{enumerate*}\n",
       "\\item 'S01\\_B1'\n",
       "\\item 'S01\\_B2'\n",
       "\\item 'S02\\_B1'\n",
       "\\item 'S02\\_B2'\n",
       "\\item 'S03\\_B1'\n",
       "\\item 'S03\\_B2'\n",
       "\\item 'S04\\_B1'\n",
       "\\item 'S04\\_B2'\n",
       "\\item 'S05\\_B1'\n",
       "\\item 'S05\\_B2'\n",
       "\\item 'S06\\_B1'\n",
       "\\item 'S06\\_B2'\n",
       "\\item 'S07\\_B1'\n",
       "\\item 'S07\\_B2'\n",
       "\\item 'S08\\_B1'\n",
       "\\item 'S08\\_B2'\n",
       "\\item 'S09\\_B1'\n",
       "\\item 'S09\\_B2'\n",
       "\\item 'S10\\_B1'\n",
       "\\item 'S10\\_B2'\n",
       "\\item 'S11\\_B1'\n",
       "\\item 'S11\\_B2'\n",
       "\\item 'S12\\_B1'\n",
       "\\item 'S12\\_B2'\n",
       "\\item 'S13\\_B1'\n",
       "\\item 'S13\\_B2'\n",
       "\\item 'S14\\_B1'\n",
       "\\item 'S14\\_B2'\n",
       "\\item 'S15\\_B1'\n",
       "\\item 'S15\\_B2'\n",
       "\\item 'S16\\_B1'\n",
       "\\item 'S16\\_B2'\n",
       "\\item 'S17\\_B1'\n",
       "\\item 'S17\\_B2'\n",
       "\\item 'S18\\_B1'\n",
       "\\item 'S18\\_B2'\n",
       "\\item 'S19\\_B1'\n",
       "\\item 'S19\\_B2'\n",
       "\\item 'S20\\_B1'\n",
       "\\item 'S20\\_B2'\n",
       "\\item 'S21\\_B1'\n",
       "\\item 'S21\\_B2'\n",
       "\\item 'S22\\_B1'\n",
       "\\item 'S22\\_B2'\n",
       "\\end{enumerate*}\n"
      ],
      "text/markdown": [
       "1. S01_B1\n",
       "2. S01_B2\n",
       "3. S02_B1\n",
       "4. S02_B2\n",
       "5. S03_B1\n",
       "6. S03_B2\n",
       "7. S04_B1\n",
       "8. S04_B2\n",
       "9. S05_B1\n",
       "10. S05_B2\n",
       "11. S06_B1\n",
       "12. S06_B2\n",
       "\n",
       "\n",
       "\n",
       "**Levels**: 1. 'S01_B1'\n",
       "2. 'S01_B2'\n",
       "3. 'S02_B1'\n",
       "4. 'S02_B2'\n",
       "5. 'S03_B1'\n",
       "6. 'S03_B2'\n",
       "7. 'S04_B1'\n",
       "8. 'S04_B2'\n",
       "9. 'S05_B1'\n",
       "10. 'S05_B2'\n",
       "11. 'S06_B1'\n",
       "12. 'S06_B2'\n",
       "13. 'S07_B1'\n",
       "14. 'S07_B2'\n",
       "15. 'S08_B1'\n",
       "16. 'S08_B2'\n",
       "17. 'S09_B1'\n",
       "18. 'S09_B2'\n",
       "19. 'S10_B1'\n",
       "20. 'S10_B2'\n",
       "21. 'S11_B1'\n",
       "22. 'S11_B2'\n",
       "23. 'S12_B1'\n",
       "24. 'S12_B2'\n",
       "25. 'S13_B1'\n",
       "26. 'S13_B2'\n",
       "27. 'S14_B1'\n",
       "28. 'S14_B2'\n",
       "29. 'S15_B1'\n",
       "30. 'S15_B2'\n",
       "31. 'S16_B1'\n",
       "32. 'S16_B2'\n",
       "33. 'S17_B1'\n",
       "34. 'S17_B2'\n",
       "35. 'S18_B1'\n",
       "36. 'S18_B2'\n",
       "37. 'S19_B1'\n",
       "38. 'S19_B2'\n",
       "39. 'S20_B1'\n",
       "40. 'S20_B2'\n",
       "41. 'S21_B1'\n",
       "42. 'S21_B2'\n",
       "43. 'S22_B1'\n",
       "44. 'S22_B2'\n",
       "\n",
       "\n"
      ],
      "text/plain": [
       " [1] S01_B1 S01_B2 S02_B1 S02_B2 S03_B1 S03_B2 S04_B1 S04_B2 S05_B1 S05_B2\n",
       "[11] S06_B1 S06_B2\n",
       "44 Levels: S01_B1 S01_B2 S02_B1 S02_B2 S03_B1 S03_B2 S04_B1 S04_B2 ... S22_B2"
      ]
     },
     "metadata": {},
     "output_type": "display_data"
    }
   ],
   "source": [
    "cols.ES"
   ]
  },
  {
   "cell_type": "code",
   "execution_count": 47,
   "metadata": {
    "ExecuteTime": {
     "end_time": "2019-09-24T22:37:54.161167Z",
     "start_time": "2019-09-24T22:37:55.056Z"
    }
   },
   "outputs": [],
   "source": [
    "coldata.ES <- all.sample.annotation %>% filter(V1 %in% cols.ES) %>% select(V2,V3) %>% \n",
    "            rename('V2'='Condition', 'V3'='group')"
   ]
  },
  {
   "cell_type": "code",
   "execution_count": 48,
   "metadata": {
    "ExecuteTime": {
     "end_time": "2019-09-24T22:37:55.337543Z",
     "start_time": "2019-09-24T22:37:56.238Z"
    }
   },
   "outputs": [
    {
     "data": {
      "text/html": [
       "<ol class=list-inline>\n",
       "\t<li>S01_B1</li>\n",
       "\t<li>S01_B2</li>\n",
       "\t<li>S02_B1</li>\n",
       "\t<li>S02_B2</li>\n",
       "\t<li>S03_B1</li>\n",
       "\t<li>S03_B2</li>\n",
       "\t<li>S04_B1</li>\n",
       "\t<li>S04_B2</li>\n",
       "\t<li>S05_B1</li>\n",
       "\t<li>S05_B2</li>\n",
       "\t<li>S06_B1</li>\n",
       "\t<li>S06_B2</li>\n",
       "</ol>\n",
       "\n",
       "<details>\n",
       "\t<summary style=display:list-item;cursor:pointer>\n",
       "\t\t<strong>Levels</strong>:\n",
       "\t</summary>\n",
       "\t<ol class=list-inline>\n",
       "\t\t<li>'S01_B1'</li>\n",
       "\t\t<li>'S01_B2'</li>\n",
       "\t\t<li>'S02_B1'</li>\n",
       "\t\t<li>'S02_B2'</li>\n",
       "\t\t<li>'S03_B1'</li>\n",
       "\t\t<li>'S03_B2'</li>\n",
       "\t\t<li>'S04_B1'</li>\n",
       "\t\t<li>'S04_B2'</li>\n",
       "\t\t<li>'S05_B1'</li>\n",
       "\t\t<li>'S05_B2'</li>\n",
       "\t\t<li>'S06_B1'</li>\n",
       "\t\t<li>'S06_B2'</li>\n",
       "\t\t<li>'S07_B1'</li>\n",
       "\t\t<li>'S07_B2'</li>\n",
       "\t\t<li>'S08_B1'</li>\n",
       "\t\t<li>'S08_B2'</li>\n",
       "\t\t<li>'S09_B1'</li>\n",
       "\t\t<li>'S09_B2'</li>\n",
       "\t\t<li>'S10_B1'</li>\n",
       "\t\t<li>'S10_B2'</li>\n",
       "\t\t<li>'S11_B1'</li>\n",
       "\t\t<li>'S11_B2'</li>\n",
       "\t\t<li>'S12_B1'</li>\n",
       "\t\t<li>'S12_B2'</li>\n",
       "\t\t<li>'S13_B1'</li>\n",
       "\t\t<li>'S13_B2'</li>\n",
       "\t\t<li>'S14_B1'</li>\n",
       "\t\t<li>'S14_B2'</li>\n",
       "\t\t<li>'S15_B1'</li>\n",
       "\t\t<li>'S15_B2'</li>\n",
       "\t\t<li>'S16_B1'</li>\n",
       "\t\t<li>'S16_B2'</li>\n",
       "\t\t<li>'S17_B1'</li>\n",
       "\t\t<li>'S17_B2'</li>\n",
       "\t\t<li>'S18_B1'</li>\n",
       "\t\t<li>'S18_B2'</li>\n",
       "\t\t<li>'S19_B1'</li>\n",
       "\t\t<li>'S19_B2'</li>\n",
       "\t\t<li>'S20_B1'</li>\n",
       "\t\t<li>'S20_B2'</li>\n",
       "\t\t<li>'S21_B1'</li>\n",
       "\t\t<li>'S21_B2'</li>\n",
       "\t\t<li>'S22_B1'</li>\n",
       "\t\t<li>'S22_B2'</li>\n",
       "\t</ol>\n",
       "</details>"
      ],
      "text/latex": [
       "\\begin{enumerate*}\n",
       "\\item S01\\_B1\n",
       "\\item S01\\_B2\n",
       "\\item S02\\_B1\n",
       "\\item S02\\_B2\n",
       "\\item S03\\_B1\n",
       "\\item S03\\_B2\n",
       "\\item S04\\_B1\n",
       "\\item S04\\_B2\n",
       "\\item S05\\_B1\n",
       "\\item S05\\_B2\n",
       "\\item S06\\_B1\n",
       "\\item S06\\_B2\n",
       "\\end{enumerate*}\n",
       "\n",
       "\\emph{Levels}: \\begin{enumerate*}\n",
       "\\item 'S01\\_B1'\n",
       "\\item 'S01\\_B2'\n",
       "\\item 'S02\\_B1'\n",
       "\\item 'S02\\_B2'\n",
       "\\item 'S03\\_B1'\n",
       "\\item 'S03\\_B2'\n",
       "\\item 'S04\\_B1'\n",
       "\\item 'S04\\_B2'\n",
       "\\item 'S05\\_B1'\n",
       "\\item 'S05\\_B2'\n",
       "\\item 'S06\\_B1'\n",
       "\\item 'S06\\_B2'\n",
       "\\item 'S07\\_B1'\n",
       "\\item 'S07\\_B2'\n",
       "\\item 'S08\\_B1'\n",
       "\\item 'S08\\_B2'\n",
       "\\item 'S09\\_B1'\n",
       "\\item 'S09\\_B2'\n",
       "\\item 'S10\\_B1'\n",
       "\\item 'S10\\_B2'\n",
       "\\item 'S11\\_B1'\n",
       "\\item 'S11\\_B2'\n",
       "\\item 'S12\\_B1'\n",
       "\\item 'S12\\_B2'\n",
       "\\item 'S13\\_B1'\n",
       "\\item 'S13\\_B2'\n",
       "\\item 'S14\\_B1'\n",
       "\\item 'S14\\_B2'\n",
       "\\item 'S15\\_B1'\n",
       "\\item 'S15\\_B2'\n",
       "\\item 'S16\\_B1'\n",
       "\\item 'S16\\_B2'\n",
       "\\item 'S17\\_B1'\n",
       "\\item 'S17\\_B2'\n",
       "\\item 'S18\\_B1'\n",
       "\\item 'S18\\_B2'\n",
       "\\item 'S19\\_B1'\n",
       "\\item 'S19\\_B2'\n",
       "\\item 'S20\\_B1'\n",
       "\\item 'S20\\_B2'\n",
       "\\item 'S21\\_B1'\n",
       "\\item 'S21\\_B2'\n",
       "\\item 'S22\\_B1'\n",
       "\\item 'S22\\_B2'\n",
       "\\end{enumerate*}\n"
      ],
      "text/markdown": [
       "1. S01_B1\n",
       "2. S01_B2\n",
       "3. S02_B1\n",
       "4. S02_B2\n",
       "5. S03_B1\n",
       "6. S03_B2\n",
       "7. S04_B1\n",
       "8. S04_B2\n",
       "9. S05_B1\n",
       "10. S05_B2\n",
       "11. S06_B1\n",
       "12. S06_B2\n",
       "\n",
       "\n",
       "\n",
       "**Levels**: 1. 'S01_B1'\n",
       "2. 'S01_B2'\n",
       "3. 'S02_B1'\n",
       "4. 'S02_B2'\n",
       "5. 'S03_B1'\n",
       "6. 'S03_B2'\n",
       "7. 'S04_B1'\n",
       "8. 'S04_B2'\n",
       "9. 'S05_B1'\n",
       "10. 'S05_B2'\n",
       "11. 'S06_B1'\n",
       "12. 'S06_B2'\n",
       "13. 'S07_B1'\n",
       "14. 'S07_B2'\n",
       "15. 'S08_B1'\n",
       "16. 'S08_B2'\n",
       "17. 'S09_B1'\n",
       "18. 'S09_B2'\n",
       "19. 'S10_B1'\n",
       "20. 'S10_B2'\n",
       "21. 'S11_B1'\n",
       "22. 'S11_B2'\n",
       "23. 'S12_B1'\n",
       "24. 'S12_B2'\n",
       "25. 'S13_B1'\n",
       "26. 'S13_B2'\n",
       "27. 'S14_B1'\n",
       "28. 'S14_B2'\n",
       "29. 'S15_B1'\n",
       "30. 'S15_B2'\n",
       "31. 'S16_B1'\n",
       "32. 'S16_B2'\n",
       "33. 'S17_B1'\n",
       "34. 'S17_B2'\n",
       "35. 'S18_B1'\n",
       "36. 'S18_B2'\n",
       "37. 'S19_B1'\n",
       "38. 'S19_B2'\n",
       "39. 'S20_B1'\n",
       "40. 'S20_B2'\n",
       "41. 'S21_B1'\n",
       "42. 'S21_B2'\n",
       "43. 'S22_B1'\n",
       "44. 'S22_B2'\n",
       "\n",
       "\n"
      ],
      "text/plain": [
       " [1] S01_B1 S01_B2 S02_B1 S02_B2 S03_B1 S03_B2 S04_B1 S04_B2 S05_B1 S05_B2\n",
       "[11] S06_B1 S06_B2\n",
       "44 Levels: S01_B1 S01_B2 S02_B1 S02_B2 S03_B1 S03_B2 S04_B1 S04_B2 ... S22_B2"
      ]
     },
     "metadata": {},
     "output_type": "display_data"
    }
   ],
   "source": [
    "cols.ES"
   ]
  },
  {
   "cell_type": "code",
   "execution_count": 50,
   "metadata": {
    "ExecuteTime": {
     "end_time": "2019-09-24T22:38:20.876444Z",
     "start_time": "2019-09-24T22:38:21.763Z"
    }
   },
   "outputs": [
    {
     "data": {
      "text/html": [
       "<table>\n",
       "<caption>A data.frame: 12 × 2</caption>\n",
       "<thead>\n",
       "\t<tr><th scope=col>Condition</th><th scope=col>group</th></tr>\n",
       "\t<tr><th scope=col>&lt;fct&gt;</th><th scope=col>&lt;fct&gt;</th></tr>\n",
       "</thead>\n",
       "<tbody>\n",
       "\t<tr><td>WT.ES  </td><td>ES   </td></tr>\n",
       "\t<tr><td>WT.ES  </td><td>ES   </td></tr>\n",
       "\t<tr><td>WT.ES  </td><td>ES   </td></tr>\n",
       "\t<tr><td>WT.ES  </td><td>ES   </td></tr>\n",
       "\t<tr><td>K108.ES</td><td>KO.ES</td></tr>\n",
       "\t<tr><td>K108.ES</td><td>KO.ES</td></tr>\n",
       "\t<tr><td>K108.ES</td><td>KO.ES</td></tr>\n",
       "\t<tr><td>K108.ES</td><td>KO.ES</td></tr>\n",
       "\t<tr><td>K112.ES</td><td>KO.ES</td></tr>\n",
       "\t<tr><td>K112.ES</td><td>KO.ES</td></tr>\n",
       "\t<tr><td>K112.ES</td><td>KO.ES</td></tr>\n",
       "\t<tr><td>K112.ES</td><td>KO.ES</td></tr>\n",
       "</tbody>\n",
       "</table>\n"
      ],
      "text/latex": [
       "A data.frame: 12 × 2\n",
       "\\begin{tabular}{r|ll}\n",
       " Condition & group\\\\\n",
       " <fct> & <fct>\\\\\n",
       "\\hline\n",
       "\t WT.ES   & ES   \\\\\n",
       "\t WT.ES   & ES   \\\\\n",
       "\t WT.ES   & ES   \\\\\n",
       "\t WT.ES   & ES   \\\\\n",
       "\t K108.ES & KO.ES\\\\\n",
       "\t K108.ES & KO.ES\\\\\n",
       "\t K108.ES & KO.ES\\\\\n",
       "\t K108.ES & KO.ES\\\\\n",
       "\t K112.ES & KO.ES\\\\\n",
       "\t K112.ES & KO.ES\\\\\n",
       "\t K112.ES & KO.ES\\\\\n",
       "\t K112.ES & KO.ES\\\\\n",
       "\\end{tabular}\n"
      ],
      "text/markdown": [
       "\n",
       "A data.frame: 12 × 2\n",
       "\n",
       "| Condition &lt;fct&gt; | group &lt;fct&gt; |\n",
       "|---|---|\n",
       "| WT.ES   | ES    |\n",
       "| WT.ES   | ES    |\n",
       "| WT.ES   | ES    |\n",
       "| WT.ES   | ES    |\n",
       "| K108.ES | KO.ES |\n",
       "| K108.ES | KO.ES |\n",
       "| K108.ES | KO.ES |\n",
       "| K108.ES | KO.ES |\n",
       "| K112.ES | KO.ES |\n",
       "| K112.ES | KO.ES |\n",
       "| K112.ES | KO.ES |\n",
       "| K112.ES | KO.ES |\n",
       "\n"
      ],
      "text/plain": [
       "   Condition group\n",
       "1  WT.ES     ES   \n",
       "2  WT.ES     ES   \n",
       "3  WT.ES     ES   \n",
       "4  WT.ES     ES   \n",
       "5  K108.ES   KO.ES\n",
       "6  K108.ES   KO.ES\n",
       "7  K108.ES   KO.ES\n",
       "8  K108.ES   KO.ES\n",
       "9  K112.ES   KO.ES\n",
       "10 K112.ES   KO.ES\n",
       "11 K112.ES   KO.ES\n",
       "12 K112.ES   KO.ES"
      ]
     },
     "metadata": {},
     "output_type": "display_data"
    }
   ],
   "source": [
    "coldata.ES"
   ]
  },
  {
   "cell_type": "code",
   "execution_count": 52,
   "metadata": {
    "ExecuteTime": {
     "end_time": "2019-09-24T22:38:52.332416Z",
     "start_time": "2019-09-24T22:38:52.751Z"
    }
   },
   "outputs": [
    {
     "ename": "ERROR",
     "evalue": "Error in DESeqDataSet(se, design = design, ignoreRank): some values in assay are negative\n",
     "output_type": "error",
     "traceback": [
      "Error in DESeqDataSet(se, design = design, ignoreRank): some values in assay are negative\nTraceback:\n",
      "1. DESeqDataSetFromMatrix(countData = cnts.ES, colData = coldata.ES, \n .     design = ~group)",
      "2. DESeqDataSet(se, design = design, ignoreRank)",
      "3. stop(\"some values in assay are negative\")"
     ]
    }
   ],
   "source": [
    "dds.ES <- DESeqDataSetFromMatrix(countData = cnts.ES, colData = coldata.ES, design = ~ group) "
   ]
  },
  {
   "cell_type": "code",
   "execution_count": 27,
   "metadata": {
    "ExecuteTime": {
     "end_time": "2019-09-10T19:51:06.766812Z",
     "start_time": "2019-09-10T19:51:06.795Z"
    }
   },
   "outputs": [
    {
     "data": {
      "text/html": [
       "TRUE"
      ],
      "text/latex": [
       "TRUE"
      ],
      "text/markdown": [
       "TRUE"
      ],
      "text/plain": [
       "[1] TRUE"
      ]
     },
     "metadata": {},
     "output_type": "display_data"
    }
   ],
   "source": [
    "all(rownames(dds.ES) == gene_ids.ES$gene_id) # make sure all gene_ids are the same as the gene ids in dds"
   ]
  },
  {
   "cell_type": "code",
   "execution_count": 29,
   "metadata": {
    "ExecuteTime": {
     "end_time": "2019-09-10T19:51:47.246900Z",
     "start_time": "2019-09-10T19:51:47.207Z"
    }
   },
   "outputs": [],
   "source": [
    "mcols(dds.ES) <- cbind(mcols(dds.ES), 'gene_name' = gene_names.ES) # adding gene_names to counts dds"
   ]
  },
  {
   "cell_type": "code",
   "execution_count": 30,
   "metadata": {
    "ExecuteTime": {
     "end_time": "2019-09-10T19:52:10.719826Z",
     "start_time": "2019-09-10T19:52:10.670Z"
    }
   },
   "outputs": [],
   "source": [
    "keep.ES <- rowSums(counts(dds.ES)) >= 10 # pre-analysis filter to remove very low read count genes\n",
    "dds.ES <- dds.ES[keep.ES,]"
   ]
  },
  {
   "cell_type": "code",
   "execution_count": 31,
   "metadata": {
    "ExecuteTime": {
     "end_time": "2019-09-10T19:52:14.698700Z",
     "start_time": "2019-09-10T19:52:14.733Z"
    }
   },
   "outputs": [
    {
     "data": {
      "text/html": [
       "<ol class=list-inline>\n",
       "\t<li>20898</li>\n",
       "\t<li>6</li>\n",
       "</ol>\n"
      ],
      "text/latex": [
       "\\begin{enumerate*}\n",
       "\\item 20898\n",
       "\\item 6\n",
       "\\end{enumerate*}\n"
      ],
      "text/markdown": [
       "1. 20898\n",
       "2. 6\n",
       "\n",
       "\n"
      ],
      "text/plain": [
       "[1] 20898     6"
      ]
     },
     "metadata": {},
     "output_type": "display_data"
    }
   ],
   "source": [
    "dim(dds.ES)"
   ]
  },
  {
   "cell_type": "code",
   "execution_count": 32,
   "metadata": {
    "ExecuteTime": {
     "end_time": "2019-09-10T19:52:56.002882Z",
     "start_time": "2019-09-10T19:52:55.859Z"
    }
   },
   "outputs": [],
   "source": [
    "# specify factor level (instead of letting R to decide)\n",
    "dds.ES$condition <- factor(dds.ES$condition, levels = unique(as.vector(coldata.ES$condition)))\n",
    "dds.ES$group <- factor(dds.ES$group, levels = unique(as.vector(coldata.ES$group)))"
   ]
  },
  {
   "cell_type": "code",
   "execution_count": 33,
   "metadata": {
    "ExecuteTime": {
     "end_time": "2019-09-10T19:52:59.709514Z",
     "start_time": "2019-09-10T19:52:59.721Z"
    }
   },
   "outputs": [
    {
     "data": {
      "text/html": [
       "<table>\n",
       "<caption>A matrix: 6 × 6 of type int</caption>\n",
       "<thead>\n",
       "\t<tr><th></th><th scope=col>S01</th><th scope=col>S02</th><th scope=col>S03</th><th scope=col>S04</th><th scope=col>S05</th><th scope=col>S06</th></tr>\n",
       "</thead>\n",
       "<tbody>\n",
       "\t<tr><th scope=row>ENSG00000000003.14</th><td>817</td><td>789</td><td>757</td><td>991</td><td>1194</td><td>1093</td></tr>\n",
       "\t<tr><th scope=row>ENSG00000000005.6</th><td> 19</td><td>  0</td><td> 11</td><td>  1</td><td>   0</td><td>   0</td></tr>\n",
       "\t<tr><th scope=row>ENSG00000000419.12</th><td>762</td><td>746</td><td>809</td><td>516</td><td> 340</td><td> 597</td></tr>\n",
       "\t<tr><th scope=row>ENSG00000000457.14</th><td> 20</td><td> 49</td><td> 28</td><td> 56</td><td>  65</td><td>  40</td></tr>\n",
       "\t<tr><th scope=row>ENSG00000000460.17</th><td>114</td><td>160</td><td>153</td><td>101</td><td> 148</td><td>  94</td></tr>\n",
       "\t<tr><th scope=row>ENSG00000001036.13</th><td>229</td><td>190</td><td>277</td><td>229</td><td> 313</td><td> 546</td></tr>\n",
       "</tbody>\n",
       "</table>\n"
      ],
      "text/latex": [
       "A matrix: 6 × 6 of type int\n",
       "\\begin{tabular}{r|llllll}\n",
       "  & S01 & S02 & S03 & S04 & S05 & S06\\\\\n",
       "\\hline\n",
       "\tENSG00000000003.14 & 817 & 789 & 757 & 991 & 1194 & 1093\\\\\n",
       "\tENSG00000000005.6 &  19 &   0 &  11 &   1 &    0 &    0\\\\\n",
       "\tENSG00000000419.12 & 762 & 746 & 809 & 516 &  340 &  597\\\\\n",
       "\tENSG00000000457.14 &  20 &  49 &  28 &  56 &   65 &   40\\\\\n",
       "\tENSG00000000460.17 & 114 & 160 & 153 & 101 &  148 &   94\\\\\n",
       "\tENSG00000001036.13 & 229 & 190 & 277 & 229 &  313 &  546\\\\\n",
       "\\end{tabular}\n"
      ],
      "text/markdown": [
       "\n",
       "A matrix: 6 × 6 of type int\n",
       "\n",
       "| <!--/--> | S01 | S02 | S03 | S04 | S05 | S06 |\n",
       "|---|---|---|---|---|---|---|\n",
       "| ENSG00000000003.14 | 817 | 789 | 757 | 991 | 1194 | 1093 |\n",
       "| ENSG00000000005.6 |  19 |   0 |  11 |   1 |    0 |    0 |\n",
       "| ENSG00000000419.12 | 762 | 746 | 809 | 516 |  340 |  597 |\n",
       "| ENSG00000000457.14 |  20 |  49 |  28 |  56 |   65 |   40 |\n",
       "| ENSG00000000460.17 | 114 | 160 | 153 | 101 |  148 |   94 |\n",
       "| ENSG00000001036.13 | 229 | 190 | 277 | 229 |  313 |  546 |\n",
       "\n"
      ],
      "text/plain": [
       "                   S01 S02 S03 S04 S05  S06 \n",
       "ENSG00000000003.14 817 789 757 991 1194 1093\n",
       "ENSG00000000005.6   19   0  11   1    0    0\n",
       "ENSG00000000419.12 762 746 809 516  340  597\n",
       "ENSG00000000457.14  20  49  28  56   65   40\n",
       "ENSG00000000460.17 114 160 153 101  148   94\n",
       "ENSG00000001036.13 229 190 277 229  313  546"
      ]
     },
     "metadata": {},
     "output_type": "display_data"
    }
   ],
   "source": [
    "counts(dds.ES) %>% head()"
   ]
  },
  {
   "cell_type": "code",
   "execution_count": 34,
   "metadata": {
    "ExecuteTime": {
     "end_time": "2019-09-10T19:53:43.906286Z",
     "start_time": "2019-09-10T19:53:32.345Z"
    }
   },
   "outputs": [
    {
     "name": "stderr",
     "output_type": "stream",
     "text": [
      "estimating size factors\n",
      "estimating dispersions\n",
      "gene-wise dispersion estimates\n",
      "mean-dispersion relationship\n",
      "final dispersion estimates\n",
      "fitting model and testing\n"
     ]
    }
   ],
   "source": [
    "dds.ES <- DESeq(dds.ES) # fit DESeq mdoel"
   ]
  },
  {
   "cell_type": "code",
   "execution_count": 35,
   "metadata": {
    "ExecuteTime": {
     "end_time": "2019-09-10T19:53:52.452606Z",
     "start_time": "2019-09-10T19:53:52.482Z"
    }
   },
   "outputs": [
    {
     "data": {
      "text/html": [
       "<ol class=list-inline>\n",
       "\t<li>'Intercept'</li>\n",
       "\t<li>'group_ZBTB18_KO_vs_WT'</li>\n",
       "</ol>\n"
      ],
      "text/latex": [
       "\\begin{enumerate*}\n",
       "\\item 'Intercept'\n",
       "\\item 'group\\_ZBTB18\\_KO\\_vs\\_WT'\n",
       "\\end{enumerate*}\n"
      ],
      "text/markdown": [
       "1. 'Intercept'\n",
       "2. 'group_ZBTB18_KO_vs_WT'\n",
       "\n",
       "\n"
      ],
      "text/plain": [
       "[1] \"Intercept\"             \"group_ZBTB18_KO_vs_WT\""
      ]
     },
     "metadata": {},
     "output_type": "display_data"
    }
   ],
   "source": [
    "resultsNames(dds.ES)"
   ]
  },
  {
   "cell_type": "code",
   "execution_count": 36,
   "metadata": {
    "ExecuteTime": {
     "end_time": "2019-09-10T19:54:11.984133Z",
     "start_time": "2019-09-10T19:54:10.457Z"
    }
   },
   "outputs": [],
   "source": [
    "res.ES <- results(dds.ES) # modelling D0 vs. D4"
   ]
  },
  {
   "cell_type": "code",
   "execution_count": 38,
   "metadata": {
    "ExecuteTime": {
     "end_time": "2019-09-10T19:55:00.984412Z",
     "start_time": "2019-09-10T19:55:01.010Z"
    }
   },
   "outputs": [
    {
     "data": {
      "text/plain": [
       "log2 fold change (MLE): group ZBTB18 KO vs WT \n",
       "Wald test p-value: group ZBTB18 KO vs WT \n",
       "DataFrame with 6 rows and 6 columns\n",
       "                           baseMean     log2FoldChange             lfcSE\n",
       "                          <numeric>          <numeric>         <numeric>\n",
       "ENSG00000000003.14 913.248353963115  0.310705466902337 0.222606626610875\n",
       "ENSG00000000005.6  5.19582450357961  -1.61002357994206  2.67662858836255\n",
       "ENSG00000000419.12 619.189654795312 -0.402899480852613  0.33227523763705\n",
       "ENSG00000000457.14 41.8450354970858  0.447161989632532 0.769998993118694\n",
       "ENSG00000000460.17 125.162735704992 -0.151583214920731 0.458639984388863\n",
       "ENSG00000001036.13 285.910339142177  0.666870740085112 0.364964432062796\n",
       "                                 stat            pvalue              padj\n",
       "                            <numeric>         <numeric>         <numeric>\n",
       "ENSG00000000003.14   1.39576018752336 0.162786722970473  0.99946089285179\n",
       "ENSG00000000005.6  -0.601511762574056 0.547499179714834                NA\n",
       "ENSG00000000419.12  -1.21254741616559 0.225302903579615  0.99946089285179\n",
       "ENSG00000000457.14  0.580730616051082 0.561422024060308  0.99946089285179\n",
       "ENSG00000000460.17 -0.330505887145264 0.741017745028614  0.99946089285179\n",
       "ENSG00000001036.13   1.82722117965284 0.067666520638024 0.968850703653664"
      ]
     },
     "metadata": {},
     "output_type": "display_data"
    }
   ],
   "source": [
    "res.ES%>% head"
   ]
  },
  {
   "cell_type": "markdown",
   "metadata": {},
   "source": [
    "#### Log fold change shrinkage LFC for visulaization and ranking (for easier/cleaner visulization)"
   ]
  },
  {
   "cell_type": "code",
   "execution_count": 39,
   "metadata": {
    "ExecuteTime": {
     "end_time": "2019-09-10T19:55:10.225015Z",
     "start_time": "2019-09-10T19:55:10.261Z"
    }
   },
   "outputs": [
    {
     "data": {
      "text/html": [
       "<ol class=list-inline>\n",
       "\t<li>'Intercept'</li>\n",
       "\t<li>'group_ZBTB18_KO_vs_WT'</li>\n",
       "</ol>\n"
      ],
      "text/latex": [
       "\\begin{enumerate*}\n",
       "\\item 'Intercept'\n",
       "\\item 'group\\_ZBTB18\\_KO\\_vs\\_WT'\n",
       "\\end{enumerate*}\n"
      ],
      "text/markdown": [
       "1. 'Intercept'\n",
       "2. 'group_ZBTB18_KO_vs_WT'\n",
       "\n",
       "\n"
      ],
      "text/plain": [
       "[1] \"Intercept\"             \"group_ZBTB18_KO_vs_WT\""
      ]
     },
     "metadata": {},
     "output_type": "display_data"
    }
   ],
   "source": [
    "resultsNames(dds.ES)"
   ]
  },
  {
   "cell_type": "code",
   "execution_count": 40,
   "metadata": {
    "ExecuteTime": {
     "end_time": "2019-09-10T19:55:39.312367Z",
     "start_time": "2019-09-10T19:55:26.566Z"
    }
   },
   "outputs": [
    {
     "name": "stderr",
     "output_type": "stream",
     "text": [
      "using 'apeglm' for LFC shrinkage. If used in published research, please cite:\n",
      "    Zhu, A., Ibrahim, J.G., Love, M.I. (2018) Heavy-tailed prior distributions for\n",
      "    sequence count data: removing the noise and preserving large differences.\n",
      "    Bioinformatics. https://doi.org/10.1093/bioinformatics/bty895\n"
     ]
    }
   ],
   "source": [
    "resLFC.ES <- lfcShrink(dds.ES, coef='group_ZBTB18_KO_vs_WT', type='apeglm')"
   ]
  },
  {
   "cell_type": "code",
   "execution_count": 41,
   "metadata": {
    "ExecuteTime": {
     "end_time": "2019-09-10T19:55:41.414010Z",
     "start_time": "2019-09-10T19:55:41.428Z"
    }
   },
   "outputs": [
    {
     "data": {
      "text/plain": [
       "log2 fold change (MAP): group ZBTB18 KO vs WT \n",
       "Wald test p-value: group ZBTB18 KO vs WT \n",
       "DataFrame with 6 rows and 5 columns\n",
       "                           baseMean        log2FoldChange               lfcSE\n",
       "                          <numeric>             <numeric>           <numeric>\n",
       "ENSG00000000003.14 913.248353963115  6.45728857990519e-06 0.00144267409946254\n",
       "ENSG00000000005.6  5.19582450357961 -2.52362092038694e-07 0.00144269482356289\n",
       "ENSG00000000419.12 619.189654795312 -1.49009159262246e-05 0.00144271890287719\n",
       "ENSG00000000457.14 41.8450354970858  7.55430630091847e-07 0.00144269285894544\n",
       "ENSG00000000460.17 125.162735704992 -7.47905784943778e-07 0.00144268778648099\n",
       "ENSG00000001036.13 285.910339142177  4.78140070211583e-06 0.00144268957194288\n",
       "                              pvalue              padj\n",
       "                           <numeric>         <numeric>\n",
       "ENSG00000000003.14 0.162786722970473  0.99946089285179\n",
       "ENSG00000000005.6  0.547499179714834                NA\n",
       "ENSG00000000419.12 0.225302903579615  0.99946089285179\n",
       "ENSG00000000457.14 0.561422024060308  0.99946089285179\n",
       "ENSG00000000460.17 0.741017745028614  0.99946089285179\n",
       "ENSG00000001036.13 0.067666520638024 0.968850703653664"
      ]
     },
     "metadata": {},
     "output_type": "display_data"
    }
   ],
   "source": [
    "resLFC.ES %>% head"
   ]
  },
  {
   "cell_type": "markdown",
   "metadata": {},
   "source": [
    "### MA-plot"
   ]
  },
  {
   "cell_type": "code",
   "execution_count": 43,
   "metadata": {
    "ExecuteTime": {
     "end_time": "2019-09-10T19:56:32.747716Z",
     "start_time": "2019-09-10T19:56:32.275Z"
    }
   },
   "outputs": [
    {
     "data": {
      "image/png": "[encoded data removed]",
      "text/plain": [
       "Plot with title “”"
      ]
     },
     "metadata": {},
     "output_type": "display_data"
    }
   ],
   "source": [
    "plotMA(resLFC.ES, ylim=c(-10,10))\n",
    "#idx <- identify(res1$baseMean, res$log2FoldChange)\n",
    "#rownames(res)[idx]"
   ]
  },
  {
   "cell_type": "markdown",
   "metadata": {},
   "source": [
    "Number of hit genes given `FDR`"
   ]
  },
  {
   "cell_type": "code",
   "execution_count": 232,
   "metadata": {
    "ExecuteTime": {
     "end_time": "2019-09-11T17:48:26.748648Z",
     "start_time": "2019-09-11T17:48:27.553Z"
    }
   },
   "outputs": [],
   "source": [
    "fdr.ES <- 0.05\n",
    "FC.ES <- 2"
   ]
  },
  {
   "cell_type": "code",
   "execution_count": 234,
   "metadata": {
    "ExecuteTime": {
     "end_time": "2019-09-11T17:48:33.999978Z",
     "start_time": "2019-09-11T17:48:34.795Z"
    }
   },
   "outputs": [
    {
     "data": {
      "text/html": [
       "24"
      ],
      "text/latex": [
       "24"
      ],
      "text/markdown": [
       "24"
      ],
      "text/plain": [
       "[1] 24"
      ]
     },
     "metadata": {},
     "output_type": "display_data"
    }
   ],
   "source": [
    "sum(res.ES$padj < fdr.ES, na.rm=T)"
   ]
  },
  {
   "cell_type": "code",
   "execution_count": 235,
   "metadata": {
    "ExecuteTime": {
     "end_time": "2019-09-11T17:48:43.835742Z",
     "start_time": "2019-09-11T17:48:44.619Z"
    }
   },
   "outputs": [],
   "source": [
    "# get significant genes by removing NA values, and select for padj < FDR, this is used to get the gene IDs\n",
    "# which then used to get normalized counts for heatmap purposes\n",
    "sigID.ES <- res.ES[!is.na(res.ES$padj) & res.ES$padj < fdr.ES,] %>% as.data.frame %>% rownames_to_column('gene_id')  "
   ]
  },
  {
   "cell_type": "code",
   "execution_count": 236,
   "metadata": {
    "ExecuteTime": {
     "end_time": "2019-09-11T17:48:45.468473Z",
     "start_time": "2019-09-11T17:48:46.256Z"
    }
   },
   "outputs": [
    {
     "data": {
      "text/html": [
       "<table>\n",
       "<caption>A data.frame: 6 × 7</caption>\n",
       "<thead>\n",
       "\t<tr><th scope=col>gene_id</th><th scope=col>baseMean</th><th scope=col>log2FoldChange</th><th scope=col>lfcSE</th><th scope=col>stat</th><th scope=col>pvalue</th><th scope=col>padj</th></tr>\n",
       "\t<tr><th scope=col>&lt;chr&gt;</th><th scope=col>&lt;dbl&gt;</th><th scope=col>&lt;dbl&gt;</th><th scope=col>&lt;dbl&gt;</th><th scope=col>&lt;dbl&gt;</th><th scope=col>&lt;dbl&gt;</th><th scope=col>&lt;dbl&gt;</th></tr>\n",
       "</thead>\n",
       "<tbody>\n",
       "\t<tr><td>ENSG00000006128.12</td><td> 23.22873</td><td> 7.593136</td><td>1.8459033</td><td> 4.113507</td><td>3.896931e-05</td><td>3.576007e-02</td></tr>\n",
       "\t<tr><td>ENSG00000078401.7 </td><td> 40.49310</td><td> 4.922870</td><td>1.1863940</td><td> 4.149440</td><td>3.332901e-05</td><td>3.466217e-02</td></tr>\n",
       "\t<tr><td>ENSG00000102181.21</td><td> 33.31916</td><td> 5.064411</td><td>1.1814785</td><td> 4.286503</td><td>1.815081e-05</td><td>2.592699e-02</td></tr>\n",
       "\t<tr><td>ENSG00000119673.14</td><td> 35.03801</td><td> 8.186404</td><td>1.6776802</td><td> 4.879598</td><td>1.063026e-06</td><td>2.763867e-03</td></tr>\n",
       "\t<tr><td>ENSG00000125144.13</td><td>196.72001</td><td>-2.879285</td><td>0.4117668</td><td>-6.992515</td><td>2.700020e-12</td><td>4.212032e-08</td></tr>\n",
       "\t<tr><td>ENSG00000127399.15</td><td> 11.61909</td><td>-7.605408</td><td>1.8807389</td><td>-4.043840</td><td>5.258270e-05</td><td>3.728592e-02</td></tr>\n",
       "</tbody>\n",
       "</table>\n"
      ],
      "text/latex": [
       "A data.frame: 6 × 7\n",
       "\\begin{tabular}{r|lllllll}\n",
       " gene\\_id & baseMean & log2FoldChange & lfcSE & stat & pvalue & padj\\\\\n",
       " <chr> & <dbl> & <dbl> & <dbl> & <dbl> & <dbl> & <dbl>\\\\\n",
       "\\hline\n",
       "\t ENSG00000006128.12 &  23.22873 &  7.593136 & 1.8459033 &  4.113507 & 3.896931e-05 & 3.576007e-02\\\\\n",
       "\t ENSG00000078401.7  &  40.49310 &  4.922870 & 1.1863940 &  4.149440 & 3.332901e-05 & 3.466217e-02\\\\\n",
       "\t ENSG00000102181.21 &  33.31916 &  5.064411 & 1.1814785 &  4.286503 & 1.815081e-05 & 2.592699e-02\\\\\n",
       "\t ENSG00000119673.14 &  35.03801 &  8.186404 & 1.6776802 &  4.879598 & 1.063026e-06 & 2.763867e-03\\\\\n",
       "\t ENSG00000125144.13 & 196.72001 & -2.879285 & 0.4117668 & -6.992515 & 2.700020e-12 & 4.212032e-08\\\\\n",
       "\t ENSG00000127399.15 &  11.61909 & -7.605408 & 1.8807389 & -4.043840 & 5.258270e-05 & 3.728592e-02\\\\\n",
       "\\end{tabular}\n"
      ],
      "text/markdown": [
       "\n",
       "A data.frame: 6 × 7\n",
       "\n",
       "| gene_id &lt;chr&gt; | baseMean &lt;dbl&gt; | log2FoldChange &lt;dbl&gt; | lfcSE &lt;dbl&gt; | stat &lt;dbl&gt; | pvalue &lt;dbl&gt; | padj &lt;dbl&gt; |\n",
       "|---|---|---|---|---|---|---|\n",
       "| ENSG00000006128.12 |  23.22873 |  7.593136 | 1.8459033 |  4.113507 | 3.896931e-05 | 3.576007e-02 |\n",
       "| ENSG00000078401.7  |  40.49310 |  4.922870 | 1.1863940 |  4.149440 | 3.332901e-05 | 3.466217e-02 |\n",
       "| ENSG00000102181.21 |  33.31916 |  5.064411 | 1.1814785 |  4.286503 | 1.815081e-05 | 2.592699e-02 |\n",
       "| ENSG00000119673.14 |  35.03801 |  8.186404 | 1.6776802 |  4.879598 | 1.063026e-06 | 2.763867e-03 |\n",
       "| ENSG00000125144.13 | 196.72001 | -2.879285 | 0.4117668 | -6.992515 | 2.700020e-12 | 4.212032e-08 |\n",
       "| ENSG00000127399.15 |  11.61909 | -7.605408 | 1.8807389 | -4.043840 | 5.258270e-05 | 3.728592e-02 |\n",
       "\n"
      ],
      "text/plain": [
       "  gene_id            baseMean  log2FoldChange lfcSE     stat      pvalue      \n",
       "1 ENSG00000006128.12  23.22873  7.593136      1.8459033  4.113507 3.896931e-05\n",
       "2 ENSG00000078401.7   40.49310  4.922870      1.1863940  4.149440 3.332901e-05\n",
       "3 ENSG00000102181.21  33.31916  5.064411      1.1814785  4.286503 1.815081e-05\n",
       "4 ENSG00000119673.14  35.03801  8.186404      1.6776802  4.879598 1.063026e-06\n",
       "5 ENSG00000125144.13 196.72001 -2.879285      0.4117668 -6.992515 2.700020e-12\n",
       "6 ENSG00000127399.15  11.61909 -7.605408      1.8807389 -4.043840 5.258270e-05\n",
       "  padj        \n",
       "1 3.576007e-02\n",
       "2 3.466217e-02\n",
       "3 2.592699e-02\n",
       "4 2.763867e-03\n",
       "5 4.212032e-08\n",
       "6 3.728592e-02"
      ]
     },
     "metadata": {},
     "output_type": "display_data"
    }
   ],
   "source": [
    "sigID.ES %>% head"
   ]
  },
  {
   "cell_type": "code",
   "execution_count": 237,
   "metadata": {
    "ExecuteTime": {
     "end_time": "2019-09-11T17:48:55.552885Z",
     "start_time": "2019-09-11T17:48:56.331Z"
    }
   },
   "outputs": [],
   "source": [
    "# get the normalized counts of all genes, also add gene name in this step\n",
    "# this is later joined with the list significant genes\n",
    "sigGenes.ES <- counts(dds.ES, normalized=T) %>% as.data.frame %>% \n",
    "                add_column(.before=1,'gene'=mcols(dds.ES)$gene_name) %>% rownames_to_column('gene_id')# add gene_name"
   ]
  },
  {
   "cell_type": "code",
   "execution_count": 238,
   "metadata": {
    "ExecuteTime": {
     "end_time": "2019-09-11T17:48:56.999592Z",
     "start_time": "2019-09-11T17:48:57.781Z"
    }
   },
   "outputs": [],
   "source": [
    "# using 'gene_id' and the previous DESeq2 results, get significant genes, and their normalized counts, and padj\n",
    "sigGenes.ES <- left_join(sigID.ES[,c('gene_id','padj', 'log2FoldChange')], sigGenes.ES, by = 'gene_id') %>%\n",
    "               arrange(padj)"
   ]
  },
  {
   "cell_type": "code",
   "execution_count": 241,
   "metadata": {
    "ExecuteTime": {
     "end_time": "2019-09-11T17:49:03.158304Z",
     "start_time": "2019-09-11T17:49:03.944Z"
    }
   },
   "outputs": [
    {
     "data": {
      "text/html": [
       "<table>\n",
       "<caption>A data.frame: 6 × 10</caption>\n",
       "<thead>\n",
       "\t<tr><th scope=col>gene_id</th><th scope=col>gene</th><th scope=col>padj</th><th scope=col>log2FoldChange</th><th scope=col>S01</th><th scope=col>S02</th><th scope=col>S03</th><th scope=col>S04</th><th scope=col>S05</th><th scope=col>S06</th></tr>\n",
       "\t<tr><th scope=col>&lt;chr&gt;</th><th scope=col>&lt;chr&gt;</th><th scope=col>&lt;dbl&gt;</th><th scope=col>&lt;dbl&gt;</th><th scope=col>&lt;dbl&gt;</th><th scope=col>&lt;dbl&gt;</th><th scope=col>&lt;dbl&gt;</th><th scope=col>&lt;dbl&gt;</th><th scope=col>&lt;dbl&gt;</th><th scope=col>&lt;dbl&gt;</th></tr>\n",
       "</thead>\n",
       "<tbody>\n",
       "\t<tr><td>ENSG00000125144.13</td><td>MT1G     </td><td>4.212032e-08</td><td>-2.879285</td><td>625.6458</td><td>302.71335</td><td>56.28068</td><td> 55.49202</td><td> 75.124923</td><td> 65.063287</td></tr>\n",
       "\t<tr><td>ENSG00000148826.9 </td><td>NKX6-2   </td><td>2.747099e-05</td><td> 9.399429</td><td>  0.0000</td><td>  0.00000</td><td>34.79169</td><td>169.80557</td><td>145.882119</td><td>136.452172</td></tr>\n",
       "\t<tr><td>ENSG00000261780.3 </td><td>LINC02582</td><td>7.051113e-05</td><td>-3.127039</td><td>191.0596</td><td>237.70760</td><td>26.60541</td><td> 26.63617</td><td> 31.447642</td><td> 13.554851</td></tr>\n",
       "\t<tr><td>ENSG00000205670.11</td><td>SMIM11A  </td><td>1.257303e-04</td><td>-5.295755</td><td>262.3357</td><td> 32.98799</td><td> 2.04657</td><td>  1.10984</td><td>  3.494182</td><td>  8.132911</td></tr>\n",
       "\t<tr><td>ENSG00000198417.7 </td><td>MT1F     </td><td>1.336562e-04</td><td>-2.274482</td><td>691.9722</td><td>623.86116</td><td>69.58338</td><td> 98.77579</td><td>227.995407</td><td>146.392396</td></tr>\n",
       "\t<tr><td>ENSG00000119673.14</td><td>ACOT2    </td><td>2.763867e-03</td><td> 8.186404</td><td>  0.0000</td><td>  0.00000</td><td>35.81498</td><td> 84.34787</td><td> 61.148193</td><td> 28.917017</td></tr>\n",
       "</tbody>\n",
       "</table>\n"
      ],
      "text/latex": [
       "A data.frame: 6 × 10\n",
       "\\begin{tabular}{r|llllllllll}\n",
       " gene\\_id & gene & padj & log2FoldChange & S01 & S02 & S03 & S04 & S05 & S06\\\\\n",
       " <chr> & <chr> & <dbl> & <dbl> & <dbl> & <dbl> & <dbl> & <dbl> & <dbl> & <dbl>\\\\\n",
       "\\hline\n",
       "\t ENSG00000125144.13 & MT1G      & 4.212032e-08 & -2.879285 & 625.6458 & 302.71335 & 56.28068 &  55.49202 &  75.124923 &  65.063287\\\\\n",
       "\t ENSG00000148826.9  & NKX6-2    & 2.747099e-05 &  9.399429 &   0.0000 &   0.00000 & 34.79169 & 169.80557 & 145.882119 & 136.452172\\\\\n",
       "\t ENSG00000261780.3  & LINC02582 & 7.051113e-05 & -3.127039 & 191.0596 & 237.70760 & 26.60541 &  26.63617 &  31.447642 &  13.554851\\\\\n",
       "\t ENSG00000205670.11 & SMIM11A   & 1.257303e-04 & -5.295755 & 262.3357 &  32.98799 &  2.04657 &   1.10984 &   3.494182 &   8.132911\\\\\n",
       "\t ENSG00000198417.7  & MT1F      & 1.336562e-04 & -2.274482 & 691.9722 & 623.86116 & 69.58338 &  98.77579 & 227.995407 & 146.392396\\\\\n",
       "\t ENSG00000119673.14 & ACOT2     & 2.763867e-03 &  8.186404 &   0.0000 &   0.00000 & 35.81498 &  84.34787 &  61.148193 &  28.917017\\\\\n",
       "\\end{tabular}\n"
      ],
      "text/markdown": [
       "\n",
       "A data.frame: 6 × 10\n",
       "\n",
       "| gene_id &lt;chr&gt; | gene &lt;chr&gt; | padj &lt;dbl&gt; | log2FoldChange &lt;dbl&gt; | S01 &lt;dbl&gt; | S02 &lt;dbl&gt; | S03 &lt;dbl&gt; | S04 &lt;dbl&gt; | S05 &lt;dbl&gt; | S06 &lt;dbl&gt; |\n",
       "|---|---|---|---|---|---|---|---|---|---|\n",
       "| ENSG00000125144.13 | MT1G      | 4.212032e-08 | -2.879285 | 625.6458 | 302.71335 | 56.28068 |  55.49202 |  75.124923 |  65.063287 |\n",
       "| ENSG00000148826.9  | NKX6-2    | 2.747099e-05 |  9.399429 |   0.0000 |   0.00000 | 34.79169 | 169.80557 | 145.882119 | 136.452172 |\n",
       "| ENSG00000261780.3  | LINC02582 | 7.051113e-05 | -3.127039 | 191.0596 | 237.70760 | 26.60541 |  26.63617 |  31.447642 |  13.554851 |\n",
       "| ENSG00000205670.11 | SMIM11A   | 1.257303e-04 | -5.295755 | 262.3357 |  32.98799 |  2.04657 |   1.10984 |   3.494182 |   8.132911 |\n",
       "| ENSG00000198417.7  | MT1F      | 1.336562e-04 | -2.274482 | 691.9722 | 623.86116 | 69.58338 |  98.77579 | 227.995407 | 146.392396 |\n",
       "| ENSG00000119673.14 | ACOT2     | 2.763867e-03 |  8.186404 |   0.0000 |   0.00000 | 35.81498 |  84.34787 |  61.148193 |  28.917017 |\n",
       "\n"
      ],
      "text/plain": [
       "  gene_id            gene      padj         log2FoldChange S01      S02      \n",
       "1 ENSG00000125144.13 MT1G      4.212032e-08 -2.879285      625.6458 302.71335\n",
       "2 ENSG00000148826.9  NKX6-2    2.747099e-05  9.399429        0.0000   0.00000\n",
       "3 ENSG00000261780.3  LINC02582 7.051113e-05 -3.127039      191.0596 237.70760\n",
       "4 ENSG00000205670.11 SMIM11A   1.257303e-04 -5.295755      262.3357  32.98799\n",
       "5 ENSG00000198417.7  MT1F      1.336562e-04 -2.274482      691.9722 623.86116\n",
       "6 ENSG00000119673.14 ACOT2     2.763867e-03  8.186404        0.0000   0.00000\n",
       "  S03      S04       S05        S06       \n",
       "1 56.28068  55.49202  75.124923  65.063287\n",
       "2 34.79169 169.80557 145.882119 136.452172\n",
       "3 26.60541  26.63617  31.447642  13.554851\n",
       "4  2.04657   1.10984   3.494182   8.132911\n",
       "5 69.58338  98.77579 227.995407 146.392396\n",
       "6 35.81498  84.34787  61.148193  28.917017"
      ]
     },
     "metadata": {},
     "output_type": "display_data"
    },
    {
     "data": {
      "text/html": [
       "<ol class=list-inline>\n",
       "\t<li>24</li>\n",
       "\t<li>10</li>\n",
       "</ol>\n"
      ],
      "text/latex": [
       "\\begin{enumerate*}\n",
       "\\item 24\n",
       "\\item 10\n",
       "\\end{enumerate*}\n"
      ],
      "text/markdown": [
       "1. 24\n",
       "2. 10\n",
       "\n",
       "\n"
      ],
      "text/plain": [
       "[1] 24 10"
      ]
     },
     "metadata": {},
     "output_type": "display_data"
    }
   ],
   "source": [
    "sigGenes.ES %>% head\n",
    "sigGenes.ES %>% dim"
   ]
  },
  {
   "cell_type": "code",
   "execution_count": 240,
   "metadata": {
    "ExecuteTime": {
     "end_time": "2019-09-11T17:49:02.173924Z",
     "start_time": "2019-09-11T17:49:02.968Z"
    }
   },
   "outputs": [],
   "source": [
    "sigGenes.ES <- sigGenes.ES[,c(1,4,2,3,5:10)] # rearrange order of columns"
   ]
  },
  {
   "cell_type": "code",
   "execution_count": 242,
   "metadata": {
    "ExecuteTime": {
     "end_time": "2019-09-11T17:49:27.218215Z",
     "start_time": "2019-09-11T17:49:27.994Z"
    }
   },
   "outputs": [],
   "source": [
    "# find genes with more than 1 gene ID\n",
    "multi_id_genes.ES <- sigGenes.ES %>% group_by(gene, add=F) %>% summarise(n_geneIDs=n_distinct(gene_id)) %>% filter(n_geneIDs > 1)\n",
    "multi_id_genes.ES <- multi_id_genes.ES$gene"
   ]
  },
  {
   "cell_type": "code",
   "execution_count": 243,
   "metadata": {
    "ExecuteTime": {
     "end_time": "2019-09-11T17:49:28.000001Z",
     "start_time": "2019-09-11T17:49:28.806Z"
    }
   },
   "outputs": [
    {
     "data": {
      "text/html": [],
      "text/latex": [],
      "text/markdown": [],
      "text/plain": [
       "character(0)"
      ]
     },
     "metadata": {},
     "output_type": "display_data"
    }
   ],
   "source": [
    "multi_id_genes.ES"
   ]
  },
  {
   "cell_type": "markdown",
   "metadata": {},
   "source": [
    "Significant genes, export to csv"
   ]
  },
  {
   "cell_type": "code",
   "execution_count": 300,
   "metadata": {
    "ExecuteTime": {
     "end_time": "2019-09-11T18:12:08.109723Z",
     "start_time": "2019-09-11T18:12:08.921Z"
    }
   },
   "outputs": [],
   "source": [
    "sigGenes.ES <- sigGenes.ES %>% mutate(expression=case_when(padj < fdr.ES & log2FoldChange > FC.ES ~ 'Up', \n",
    "                                  padj < fdr.ES & log2FoldChange < -FC.ES ~ 'Down',\n",
    "                                  padj < fdr.ES & log2FoldChange >= -FC.ES & log2FoldChange <= FC.ES ~ 'No Change',\n",
    "                                  padj >= fdr.ES ~ 'No Change')) %>% arrange(expression, padj) \n",
    " "
   ]
  },
  {
   "cell_type": "code",
   "execution_count": 249,
   "metadata": {
    "ExecuteTime": {
     "end_time": "2019-09-11T17:52:28.206722Z",
     "start_time": "2019-09-11T17:52:27.295Z"
    }
   },
   "outputs": [],
   "source": [
    "sigGenes.ES %>% write.table('ES_WT_vs_ZBTB18_KO_Sig_Genes.csv', quote=F, sep=',', row.names = F)"
   ]
  },
  {
   "cell_type": "markdown",
   "metadata": {},
   "source": [
    "### Heatmap"
   ]
  },
  {
   "cell_type": "code",
   "execution_count": 301,
   "metadata": {
    "ExecuteTime": {
     "end_time": "2019-09-11T18:12:39.529505Z",
     "start_time": "2019-09-11T18:12:40.334Z"
    }
   },
   "outputs": [],
   "source": [
    "#### Most significant (WT vs ZBTB18) ranked by padj\n",
    "most_sig.heatmap.ES <- sigGenes.ES %>% filter(!(gene %in% multi_id_genes.ES)) %>% select(-gene_id) %>%\n",
    "                        top_n(-24, padj) %>% column_to_rownames('gene')"
   ]
  },
  {
   "cell_type": "code",
   "execution_count": 302,
   "metadata": {
    "ExecuteTime": {
     "end_time": "2019-09-11T18:12:41.108550Z",
     "start_time": "2019-09-11T18:12:41.922Z"
    }
   },
   "outputs": [],
   "source": [
    "ano.ES = colData(dds.ES) %>% as.data.frame %>% select(condition,group)"
   ]
  },
  {
   "cell_type": "markdown",
   "metadata": {},
   "source": [
    "### Top 50 of most significant genes (FDR 0.05, WT vs. ZBTB18, ES)"
   ]
  },
  {
   "cell_type": "code",
   "execution_count": 303,
   "metadata": {
    "ExecuteTime": {
     "end_time": "2019-09-11T18:12:43.928095Z",
     "start_time": "2019-09-11T18:12:44.572Z"
    }
   },
   "outputs": [
    {
     "data": {
      "image/png": "[encoded data removed]",
      "text/plain": [
       "plot without title"
      ]
     },
     "metadata": {},
     "output_type": "display_data"
    }
   ],
   "source": [
    "# quadroot transformed normalized reads because read range is large\n",
    "most_sig.heatmap.ES %>% select(S01:S06) %>% as.matrix %>% apply(2,quadroot) %>%\n",
    "        pheatmap(cluster_rows=T,show_rownames=T, treeheight_row = 0, cluster_cols=F, annotation_col = ano.ES, \n",
    "                 fontsize = 6, main=\"ES: FDR<0.05, WT vs. ZBTB18 KO \\n(Reads normalized and quadroot transformed)\")"
   ]
  },
  {
   "cell_type": "markdown",
   "metadata": {},
   "source": [
    "#### volcano plot"
   ]
  },
  {
   "cell_type": "code",
   "execution_count": 270,
   "metadata": {
    "ExecuteTime": {
     "end_time": "2019-09-11T18:08:17.912338Z",
     "start_time": "2019-09-11T18:08:18.719Z"
    }
   },
   "outputs": [],
   "source": [
    "ES.vol <- res.ES %>% as.data.frame %>% rownames_to_column('gene_id') %>% add_column(.before=1,'gene'=mcols(dds.ES)$gene_name)"
   ]
  },
  {
   "cell_type": "code",
   "execution_count": 273,
   "metadata": {
    "ExecuteTime": {
     "end_time": "2019-09-11T18:00:57.216164Z",
     "start_time": "2019-09-11T18:00:56.289Z"
    }
   },
   "outputs": [
    {
     "data": {
      "image/png": "[encoded data removed]",
      "text/plain": [
       "plot without title"
      ]
     },
     "metadata": {},
     "output_type": "display_data"
    }
   ],
   "source": [
    "EnhancedVolcano(ES.vol, lab = ES.vol$gene, x='log2FoldChange',y='padj', xlim=c(-6,8),\n",
    "                xlab = bquote(~Log[2]~ 'fold change'), ylab= bquote(~-Log[10]~adjusted~italic(P)),\n",
    "                legend=c('NS', 'Log2 FC', 'Adjusted p-value'), legendPosition='bottom', legendLabSize = 8, \n",
    "                legendIconSize = 3.0, title = \"ES: ZBTB18 Knockout vs. WT\", subtitle=\"\",\n",
    "                pCutoff = fdr.ES, FCcutoff = FC.ES,\n",
    "                transcriptPointSize = 2, transcriptLabSize = 3.0, colAlpha = .4)\n",
    "# selectLab = c('FHL3', 'STRAG') to only label key transcripts"
   ]
  },
  {
   "cell_type": "markdown",
   "metadata": {
    "heading_collapsed": true
   },
   "source": [
    "# Comparison 2: Day 4 WT vs. ZBTB18 Kockout.\n",
    "\n",
    "- WT.Day4 vs. 108.Day4\n",
    "- WT.Day4 vs. 112.Day4\n",
    "\n",
    "Condition  |  Sample    \n",
    ":---------:|:-------:   \n",
    "WT.Day4  |  7,8    \n",
    "108.Day4 |   9, 10    \n",
    "112.Day4 |   11, 12"
   ]
  },
  {
   "cell_type": "code",
   "execution_count": 141,
   "metadata": {
    "ExecuteTime": {
     "end_time": "2019-09-10T21:25:10.779666Z",
     "start_time": "2019-09-10T21:25:10.876Z"
    },
    "hidden": true
   },
   "outputs": [],
   "source": [
    "cols.D4 <- c('S07','S08','S09','S10','S11','S12') # relevent samples\n",
    "cnts.D4 <- cnts[,cols.D4]"
   ]
  },
  {
   "cell_type": "code",
   "execution_count": 142,
   "metadata": {
    "ExecuteTime": {
     "end_time": "2019-09-10T21:25:13.508318Z",
     "start_time": "2019-09-10T21:25:13.590Z"
    },
    "hidden": true
   },
   "outputs": [
    {
     "data": {
      "text/html": [
       "<ol class=list-inline>\n",
       "\t<li>'S07'</li>\n",
       "\t<li>'S08'</li>\n",
       "\t<li>'S09'</li>\n",
       "\t<li>'S10'</li>\n",
       "\t<li>'S11'</li>\n",
       "\t<li>'S12'</li>\n",
       "</ol>\n"
      ],
      "text/latex": [
       "\\begin{enumerate*}\n",
       "\\item 'S07'\n",
       "\\item 'S08'\n",
       "\\item 'S09'\n",
       "\\item 'S10'\n",
       "\\item 'S11'\n",
       "\\item 'S12'\n",
       "\\end{enumerate*}\n"
      ],
      "text/markdown": [
       "1. 'S07'\n",
       "2. 'S08'\n",
       "3. 'S09'\n",
       "4. 'S10'\n",
       "5. 'S11'\n",
       "6. 'S12'\n",
       "\n",
       "\n"
      ],
      "text/plain": [
       "[1] \"S07\" \"S08\" \"S09\" \"S10\" \"S11\" \"S12\""
      ]
     },
     "metadata": {},
     "output_type": "display_data"
    },
    {
     "data": {
      "text/html": [
       "<table>\n",
       "<caption>A data.frame: 6 × 6</caption>\n",
       "<thead>\n",
       "\t<tr><th></th><th scope=col>S07</th><th scope=col>S08</th><th scope=col>S09</th><th scope=col>S10</th><th scope=col>S11</th><th scope=col>S12</th></tr>\n",
       "\t<tr><th></th><th scope=col>&lt;int&gt;</th><th scope=col>&lt;int&gt;</th><th scope=col>&lt;int&gt;</th><th scope=col>&lt;int&gt;</th><th scope=col>&lt;int&gt;</th><th scope=col>&lt;int&gt;</th></tr>\n",
       "</thead>\n",
       "<tbody>\n",
       "\t<tr><th scope=row>ENSG00000000003.14</th><td>739</td><td>998</td><td>1311</td><td>558</td><td>775</td><td>1346</td></tr>\n",
       "\t<tr><th scope=row>ENSG00000000005.6</th><td>  0</td><td>  0</td><td>   0</td><td>  0</td><td> 10</td><td>  14</td></tr>\n",
       "\t<tr><th scope=row>ENSG00000000419.12</th><td>390</td><td>513</td><td> 515</td><td>191</td><td>407</td><td> 482</td></tr>\n",
       "\t<tr><th scope=row>ENSG00000000457.14</th><td>138</td><td>168</td><td>  70</td><td> 26</td><td> 73</td><td> 111</td></tr>\n",
       "\t<tr><th scope=row>ENSG00000000460.17</th><td>  0</td><td> 70</td><td> 107</td><td> 42</td><td> 83</td><td>  51</td></tr>\n",
       "\t<tr><th scope=row>ENSG00000000938.13</th><td>  0</td><td>  0</td><td>   0</td><td>  0</td><td>  0</td><td>   0</td></tr>\n",
       "</tbody>\n",
       "</table>\n"
      ],
      "text/latex": [
       "A data.frame: 6 × 6\n",
       "\\begin{tabular}{r|llllll}\n",
       "  & S07 & S08 & S09 & S10 & S11 & S12\\\\\n",
       "  & <int> & <int> & <int> & <int> & <int> & <int>\\\\\n",
       "\\hline\n",
       "\tENSG00000000003.14 & 739 & 998 & 1311 & 558 & 775 & 1346\\\\\n",
       "\tENSG00000000005.6 &   0 &   0 &    0 &   0 &  10 &   14\\\\\n",
       "\tENSG00000000419.12 & 390 & 513 &  515 & 191 & 407 &  482\\\\\n",
       "\tENSG00000000457.14 & 138 & 168 &   70 &  26 &  73 &  111\\\\\n",
       "\tENSG00000000460.17 &   0 &  70 &  107 &  42 &  83 &   51\\\\\n",
       "\tENSG00000000938.13 &   0 &   0 &    0 &   0 &   0 &    0\\\\\n",
       "\\end{tabular}\n"
      ],
      "text/markdown": [
       "\n",
       "A data.frame: 6 × 6\n",
       "\n",
       "| <!--/--> | S07 &lt;int&gt; | S08 &lt;int&gt; | S09 &lt;int&gt; | S10 &lt;int&gt; | S11 &lt;int&gt; | S12 &lt;int&gt; |\n",
       "|---|---|---|---|---|---|---|\n",
       "| ENSG00000000003.14 | 739 | 998 | 1311 | 558 | 775 | 1346 |\n",
       "| ENSG00000000005.6 |   0 |   0 |    0 |   0 |  10 |   14 |\n",
       "| ENSG00000000419.12 | 390 | 513 |  515 | 191 | 407 |  482 |\n",
       "| ENSG00000000457.14 | 138 | 168 |   70 |  26 |  73 |  111 |\n",
       "| ENSG00000000460.17 |   0 |  70 |  107 |  42 |  83 |   51 |\n",
       "| ENSG00000000938.13 |   0 |   0 |    0 |   0 |   0 |    0 |\n",
       "\n"
      ],
      "text/plain": [
       "                   S07 S08 S09  S10 S11 S12 \n",
       "ENSG00000000003.14 739 998 1311 558 775 1346\n",
       "ENSG00000000005.6    0   0    0   0  10   14\n",
       "ENSG00000000419.12 390 513  515 191 407  482\n",
       "ENSG00000000457.14 138 168   70  26  73  111\n",
       "ENSG00000000460.17   0  70  107  42  83   51\n",
       "ENSG00000000938.13   0   0    0   0   0    0"
      ]
     },
     "metadata": {},
     "output_type": "display_data"
    }
   ],
   "source": [
    "colnames(cnts.D4)\n",
    "head(cnts.D4)"
   ]
  },
  {
   "cell_type": "raw",
   "metadata": {
    "ExecuteTime": {
     "end_time": "2019-09-10T19:42:10.697490Z",
     "start_time": "2019-09-10T19:42:08.320Z"
    },
    "hidden": true
   },
   "source": [
    "gtf_lookup = read.csv('/gpfs/commons/groups/sanjana_lab/cdai/ref_genome/gencode.v31.primary_assembly.annotation.gene_idTOgene_name.txt')"
   ]
  },
  {
   "cell_type": "code",
   "execution_count": 131,
   "metadata": {
    "ExecuteTime": {
     "end_time": "2019-09-10T21:21:25.202459Z",
     "start_time": "2019-09-10T21:21:25.112Z"
    },
    "hidden": true
   },
   "outputs": [],
   "source": [
    "# get gene_names\n",
    "gene_ids.D4 = rownames_to_column(cnts.D4, 'gene_id')[,1:2] # list of gene IDs specific to ES dataset\n",
    "gtf_lookup$gene_id <- as.character(gtf_lookup$gene_id)\n",
    "gene_names.D4 = left_join(gene_ids.D4, gtf_lookup, 'gene_id')[,c(3)] %>% as.character # join to get gene names"
   ]
  },
  {
   "cell_type": "code",
   "execution_count": 132,
   "metadata": {
    "ExecuteTime": {
     "end_time": "2019-09-10T21:21:26.579318Z",
     "start_time": "2019-09-10T21:21:26.673Z"
    },
    "hidden": true
   },
   "outputs": [
    {
     "data": {
      "text/html": [
       "<ol class=list-inline>\n",
       "\t<li>'conditions_group1.csv'</li>\n",
       "\t<li>'conditions_group2.csv'</li>\n",
       "\t<li>'conditions_group3.csv'</li>\n",
       "\t<li>'ES_WT_vs_ZBTB18_KO_Sig_Genes.csv'</li>\n",
       "\t<li>'HitGeneCount.csv'</li>\n",
       "\t<li>'HitGeneCountMM.csv'</li>\n",
       "\t<li>'HS_td-VStd+_td-VSdox120.csv'</li>\n",
       "\t<li>'intersection_output.csv'</li>\n",
       "\t<li>'Mouse ESC screen.csv'</li>\n",
       "\t<li>'plot_screen_data_sqrt.csv'</li>\n",
       "\t<li>'plot_screen_data.csv'</li>\n",
       "\t<li>'plot_screenMM_data.csv'</li>\n",
       "\t<li>'RCmNorRatioLog2.lu.csv'</li>\n",
       "\t<li>'Significant_genes_DOXvsES.csv'</li>\n",
       "\t<li>'Significant_genes_WTvsZBTB18KO.csv'</li>\n",
       "\t<li>'TF_Screen_FC_Pval_15HvsES.csv'</li>\n",
       "\t<li>'TF_Screen_FC_Pval_1DvsES.csv'</li>\n",
       "\t<li>'TF_Screen_FC_Pval_2DvsES.csv'</li>\n",
       "\t<li>'TF_Screen_FC_Pval_4DvsES.csv'</li>\n",
       "\t<li>'TF_Screen_FC_Pval_7DvsES.csv'</li>\n",
       "\t<li>'TF_ScreenSelectedNormalizedCounts.csv'</li>\n",
       "\t<li>'tf.heatmap.genes.csv'</li>\n",
       "\t<li>'tf.heatmap.genes.down.csv'</li>\n",
       "\t<li>'tf.heatmap.genes.up.csv'</li>\n",
       "\t<li>'TFlist.csv'</li>\n",
       "</ol>\n"
      ],
      "text/latex": [
       "\\begin{enumerate*}\n",
       "\\item 'conditions\\_group1.csv'\n",
       "\\item 'conditions\\_group2.csv'\n",
       "\\item 'conditions\\_group3.csv'\n",
       "\\item 'ES\\_WT\\_vs\\_ZBTB18\\_KO\\_Sig\\_Genes.csv'\n",
       "\\item 'HitGeneCount.csv'\n",
       "\\item 'HitGeneCountMM.csv'\n",
       "\\item 'HS\\_td-VStd+\\_td-VSdox120.csv'\n",
       "\\item 'intersection\\_output.csv'\n",
       "\\item 'Mouse ESC screen.csv'\n",
       "\\item 'plot\\_screen\\_data\\_sqrt.csv'\n",
       "\\item 'plot\\_screen\\_data.csv'\n",
       "\\item 'plot\\_screenMM\\_data.csv'\n",
       "\\item 'RCmNorRatioLog2.lu.csv'\n",
       "\\item 'Significant\\_genes\\_DOXvsES.csv'\n",
       "\\item 'Significant\\_genes\\_WTvsZBTB18KO.csv'\n",
       "\\item 'TF\\_Screen\\_FC\\_Pval\\_15HvsES.csv'\n",
       "\\item 'TF\\_Screen\\_FC\\_Pval\\_1DvsES.csv'\n",
       "\\item 'TF\\_Screen\\_FC\\_Pval\\_2DvsES.csv'\n",
       "\\item 'TF\\_Screen\\_FC\\_Pval\\_4DvsES.csv'\n",
       "\\item 'TF\\_Screen\\_FC\\_Pval\\_7DvsES.csv'\n",
       "\\item 'TF\\_ScreenSelectedNormalizedCounts.csv'\n",
       "\\item 'tf.heatmap.genes.csv'\n",
       "\\item 'tf.heatmap.genes.down.csv'\n",
       "\\item 'tf.heatmap.genes.up.csv'\n",
       "\\item 'TFlist.csv'\n",
       "\\end{enumerate*}\n"
      ],
      "text/markdown": [
       "1. 'conditions_group1.csv'\n",
       "2. 'conditions_group2.csv'\n",
       "3. 'conditions_group3.csv'\n",
       "4. 'ES_WT_vs_ZBTB18_KO_Sig_Genes.csv'\n",
       "5. 'HitGeneCount.csv'\n",
       "6. 'HitGeneCountMM.csv'\n",
       "7. 'HS_td-VStd+_td-VSdox120.csv'\n",
       "8. 'intersection_output.csv'\n",
       "9. 'Mouse ESC screen.csv'\n",
       "10. 'plot_screen_data_sqrt.csv'\n",
       "11. 'plot_screen_data.csv'\n",
       "12. 'plot_screenMM_data.csv'\n",
       "13. 'RCmNorRatioLog2.lu.csv'\n",
       "14. 'Significant_genes_DOXvsES.csv'\n",
       "15. 'Significant_genes_WTvsZBTB18KO.csv'\n",
       "16. 'TF_Screen_FC_Pval_15HvsES.csv'\n",
       "17. 'TF_Screen_FC_Pval_1DvsES.csv'\n",
       "18. 'TF_Screen_FC_Pval_2DvsES.csv'\n",
       "19. 'TF_Screen_FC_Pval_4DvsES.csv'\n",
       "20. 'TF_Screen_FC_Pval_7DvsES.csv'\n",
       "21. 'TF_ScreenSelectedNormalizedCounts.csv'\n",
       "22. 'tf.heatmap.genes.csv'\n",
       "23. 'tf.heatmap.genes.down.csv'\n",
       "24. 'tf.heatmap.genes.up.csv'\n",
       "25. 'TFlist.csv'\n",
       "\n",
       "\n"
      ],
      "text/plain": [
       " [1] \"conditions_group1.csv\"                \n",
       " [2] \"conditions_group2.csv\"                \n",
       " [3] \"conditions_group3.csv\"                \n",
       " [4] \"ES_WT_vs_ZBTB18_KO_Sig_Genes.csv\"     \n",
       " [5] \"HitGeneCount.csv\"                     \n",
       " [6] \"HitGeneCountMM.csv\"                   \n",
       " [7] \"HS_td-VStd+_td-VSdox120.csv\"          \n",
       " [8] \"intersection_output.csv\"              \n",
       " [9] \"Mouse ESC screen.csv\"                 \n",
       "[10] \"plot_screen_data_sqrt.csv\"            \n",
       "[11] \"plot_screen_data.csv\"                 \n",
       "[12] \"plot_screenMM_data.csv\"               \n",
       "[13] \"RCmNorRatioLog2.lu.csv\"               \n",
       "[14] \"Significant_genes_DOXvsES.csv\"        \n",
       "[15] \"Significant_genes_WTvsZBTB18KO.csv\"   \n",
       "[16] \"TF_Screen_FC_Pval_15HvsES.csv\"        \n",
       "[17] \"TF_Screen_FC_Pval_1DvsES.csv\"         \n",
       "[18] \"TF_Screen_FC_Pval_2DvsES.csv\"         \n",
       "[19] \"TF_Screen_FC_Pval_4DvsES.csv\"         \n",
       "[20] \"TF_Screen_FC_Pval_7DvsES.csv\"         \n",
       "[21] \"TF_ScreenSelectedNormalizedCounts.csv\"\n",
       "[22] \"tf.heatmap.genes.csv\"                 \n",
       "[23] \"tf.heatmap.genes.down.csv\"            \n",
       "[24] \"tf.heatmap.genes.up.csv\"              \n",
       "[25] \"TFlist.csv\"                           "
      ]
     },
     "metadata": {},
     "output_type": "display_data"
    }
   ],
   "source": [
    "dir('.','.csv')"
   ]
  },
  {
   "cell_type": "code",
   "execution_count": 143,
   "metadata": {
    "ExecuteTime": {
     "end_time": "2019-09-10T21:25:18.576381Z",
     "start_time": "2019-09-10T21:25:18.677Z"
    },
    "hidden": true
   },
   "outputs": [],
   "source": [
    "coldata.D4 <- data.frame('condition'=c('WT.Day4','WT.Day4', '108.Day4','108.Day4', '112.Day4', '112.Day4'), 'group'=c('WT.Day4','WT.Day4','ZBTB18_KO.Day4','ZBTB18_KO.Day4', \n",
    "                                                                        'ZBTB18_KO.Day4', 'ZBTB18_KO.Day4'))"
   ]
  },
  {
   "cell_type": "code",
   "execution_count": 144,
   "metadata": {
    "ExecuteTime": {
     "end_time": "2019-09-10T21:25:19.053067Z",
     "start_time": "2019-09-10T21:25:19.152Z"
    },
    "hidden": true
   },
   "outputs": [
    {
     "data": {
      "text/html": [
       "<table>\n",
       "<caption>A data.frame: 6 × 2</caption>\n",
       "<thead>\n",
       "\t<tr><th scope=col>condition</th><th scope=col>group</th></tr>\n",
       "\t<tr><th scope=col>&lt;fct&gt;</th><th scope=col>&lt;fct&gt;</th></tr>\n",
       "</thead>\n",
       "<tbody>\n",
       "\t<tr><td>WT.Day4 </td><td>WT.Day4       </td></tr>\n",
       "\t<tr><td>WT.Day4 </td><td>WT.Day4       </td></tr>\n",
       "\t<tr><td>108.Day4</td><td>ZBTB18_KO.Day4</td></tr>\n",
       "\t<tr><td>108.Day4</td><td>ZBTB18_KO.Day4</td></tr>\n",
       "\t<tr><td>112.Day4</td><td>ZBTB18_KO.Day4</td></tr>\n",
       "\t<tr><td>112.Day4</td><td>ZBTB18_KO.Day4</td></tr>\n",
       "</tbody>\n",
       "</table>\n"
      ],
      "text/latex": [
       "A data.frame: 6 × 2\n",
       "\\begin{tabular}{r|ll}\n",
       " condition & group\\\\\n",
       " <fct> & <fct>\\\\\n",
       "\\hline\n",
       "\t WT.Day4  & WT.Day4       \\\\\n",
       "\t WT.Day4  & WT.Day4       \\\\\n",
       "\t 108.Day4 & ZBTB18\\_KO.Day4\\\\\n",
       "\t 108.Day4 & ZBTB18\\_KO.Day4\\\\\n",
       "\t 112.Day4 & ZBTB18\\_KO.Day4\\\\\n",
       "\t 112.Day4 & ZBTB18\\_KO.Day4\\\\\n",
       "\\end{tabular}\n"
      ],
      "text/markdown": [
       "\n",
       "A data.frame: 6 × 2\n",
       "\n",
       "| condition &lt;fct&gt; | group &lt;fct&gt; |\n",
       "|---|---|\n",
       "| WT.Day4  | WT.Day4        |\n",
       "| WT.Day4  | WT.Day4        |\n",
       "| 108.Day4 | ZBTB18_KO.Day4 |\n",
       "| 108.Day4 | ZBTB18_KO.Day4 |\n",
       "| 112.Day4 | ZBTB18_KO.Day4 |\n",
       "| 112.Day4 | ZBTB18_KO.Day4 |\n",
       "\n"
      ],
      "text/plain": [
       "  condition group         \n",
       "1 WT.Day4   WT.Day4       \n",
       "2 WT.Day4   WT.Day4       \n",
       "3 108.Day4  ZBTB18_KO.Day4\n",
       "4 108.Day4  ZBTB18_KO.Day4\n",
       "5 112.Day4  ZBTB18_KO.Day4\n",
       "6 112.Day4  ZBTB18_KO.Day4"
      ]
     },
     "metadata": {},
     "output_type": "display_data"
    }
   ],
   "source": [
    "coldata.D4"
   ]
  },
  {
   "cell_type": "code",
   "execution_count": 145,
   "metadata": {
    "ExecuteTime": {
     "end_time": "2019-09-10T21:25:23.516124Z",
     "start_time": "2019-09-10T21:25:23.464Z"
    },
    "hidden": true
   },
   "outputs": [],
   "source": [
    "dds.D4 <- DESeqDataSetFromMatrix(countData = cnts.D4, colData = coldata.D4, design = ~ group) "
   ]
  },
  {
   "cell_type": "code",
   "execution_count": 147,
   "metadata": {
    "ExecuteTime": {
     "end_time": "2019-09-10T21:25:40.247001Z",
     "start_time": "2019-09-10T21:25:40.335Z"
    },
    "hidden": true
   },
   "outputs": [
    {
     "data": {
      "text/html": [
       "TRUE"
      ],
      "text/latex": [
       "TRUE"
      ],
      "text/markdown": [
       "TRUE"
      ],
      "text/plain": [
       "[1] TRUE"
      ]
     },
     "metadata": {},
     "output_type": "display_data"
    }
   ],
   "source": [
    "all(rownames(dds.D4) == gene_ids.D4$gene_id) # make sure all gene_ids are the same as the gene ids in dds"
   ]
  },
  {
   "cell_type": "code",
   "execution_count": 148,
   "metadata": {
    "ExecuteTime": {
     "end_time": "2019-09-10T21:25:52.494888Z",
     "start_time": "2019-09-10T21:25:52.560Z"
    },
    "hidden": true
   },
   "outputs": [],
   "source": [
    "mcols(dds.D4) <- cbind(mcols(dds.D4), 'gene_name' = gene_names.D4) # adding gene_names to counts dds"
   ]
  },
  {
   "cell_type": "code",
   "execution_count": 149,
   "metadata": {
    "ExecuteTime": {
     "end_time": "2019-09-10T21:26:17.962270Z",
     "start_time": "2019-09-10T21:26:18.036Z"
    },
    "hidden": true
   },
   "outputs": [],
   "source": [
    "keep.D4 <- rowSums(counts(dds.D4)) >= 10 # pre-analysis filter to remove very low read count genes\n",
    "dds.D4 <- dds.D4[keep.D4,]"
   ]
  },
  {
   "cell_type": "code",
   "execution_count": 151,
   "metadata": {
    "ExecuteTime": {
     "end_time": "2019-09-10T21:26:25.004057Z",
     "start_time": "2019-09-10T21:26:25.098Z"
    },
    "hidden": true
   },
   "outputs": [
    {
     "data": {
      "text/html": [
       "<ol class=list-inline>\n",
       "\t<li>21198</li>\n",
       "\t<li>6</li>\n",
       "</ol>\n"
      ],
      "text/latex": [
       "\\begin{enumerate*}\n",
       "\\item 21198\n",
       "\\item 6\n",
       "\\end{enumerate*}\n"
      ],
      "text/markdown": [
       "1. 21198\n",
       "2. 6\n",
       "\n",
       "\n"
      ],
      "text/plain": [
       "[1] 21198     6"
      ]
     },
     "metadata": {},
     "output_type": "display_data"
    }
   ],
   "source": [
    "dim(dds.D4)"
   ]
  },
  {
   "cell_type": "code",
   "execution_count": 152,
   "metadata": {
    "ExecuteTime": {
     "end_time": "2019-09-10T21:27:01.356566Z",
     "start_time": "2019-09-10T21:27:01.382Z"
    },
    "hidden": true
   },
   "outputs": [],
   "source": [
    "# specify factor level (instead of letting R to decide)\n",
    "dds.D4$condition <- factor(dds.D4$condition, levels = unique(as.vector(coldata.D4$condition)))\n",
    "dds.D4$group <- factor(dds.D4$group, levels = unique(as.vector(coldata.D4$group)))"
   ]
  },
  {
   "cell_type": "code",
   "execution_count": 153,
   "metadata": {
    "ExecuteTime": {
     "end_time": "2019-09-10T21:27:07.227847Z",
     "start_time": "2019-09-10T21:27:07.301Z"
    },
    "hidden": true
   },
   "outputs": [
    {
     "data": {
      "text/html": [
       "<table>\n",
       "<caption>A matrix: 6 × 6 of type int</caption>\n",
       "<thead>\n",
       "\t<tr><th></th><th scope=col>S07</th><th scope=col>S08</th><th scope=col>S09</th><th scope=col>S10</th><th scope=col>S11</th><th scope=col>S12</th></tr>\n",
       "</thead>\n",
       "<tbody>\n",
       "\t<tr><th scope=row>ENSG00000000003.14</th><td>739</td><td>998</td><td>1311</td><td>558</td><td>775</td><td>1346</td></tr>\n",
       "\t<tr><th scope=row>ENSG00000000005.6</th><td>  0</td><td>  0</td><td>   0</td><td>  0</td><td> 10</td><td>  14</td></tr>\n",
       "\t<tr><th scope=row>ENSG00000000419.12</th><td>390</td><td>513</td><td> 515</td><td>191</td><td>407</td><td> 482</td></tr>\n",
       "\t<tr><th scope=row>ENSG00000000457.14</th><td>138</td><td>168</td><td>  70</td><td> 26</td><td> 73</td><td> 111</td></tr>\n",
       "\t<tr><th scope=row>ENSG00000000460.17</th><td>  0</td><td> 70</td><td> 107</td><td> 42</td><td> 83</td><td>  51</td></tr>\n",
       "\t<tr><th scope=row>ENSG00000001036.13</th><td> 80</td><td>209</td><td> 297</td><td>119</td><td>219</td><td> 267</td></tr>\n",
       "</tbody>\n",
       "</table>\n"
      ],
      "text/latex": [
       "A matrix: 6 × 6 of type int\n",
       "\\begin{tabular}{r|llllll}\n",
       "  & S07 & S08 & S09 & S10 & S11 & S12\\\\\n",
       "\\hline\n",
       "\tENSG00000000003.14 & 739 & 998 & 1311 & 558 & 775 & 1346\\\\\n",
       "\tENSG00000000005.6 &   0 &   0 &    0 &   0 &  10 &   14\\\\\n",
       "\tENSG00000000419.12 & 390 & 513 &  515 & 191 & 407 &  482\\\\\n",
       "\tENSG00000000457.14 & 138 & 168 &   70 &  26 &  73 &  111\\\\\n",
       "\tENSG00000000460.17 &   0 &  70 &  107 &  42 &  83 &   51\\\\\n",
       "\tENSG00000001036.13 &  80 & 209 &  297 & 119 & 219 &  267\\\\\n",
       "\\end{tabular}\n"
      ],
      "text/markdown": [
       "\n",
       "A matrix: 6 × 6 of type int\n",
       "\n",
       "| <!--/--> | S07 | S08 | S09 | S10 | S11 | S12 |\n",
       "|---|---|---|---|---|---|---|\n",
       "| ENSG00000000003.14 | 739 | 998 | 1311 | 558 | 775 | 1346 |\n",
       "| ENSG00000000005.6 |   0 |   0 |    0 |   0 |  10 |   14 |\n",
       "| ENSG00000000419.12 | 390 | 513 |  515 | 191 | 407 |  482 |\n",
       "| ENSG00000000457.14 | 138 | 168 |   70 |  26 |  73 |  111 |\n",
       "| ENSG00000000460.17 |   0 |  70 |  107 |  42 |  83 |   51 |\n",
       "| ENSG00000001036.13 |  80 | 209 |  297 | 119 | 219 |  267 |\n",
       "\n"
      ],
      "text/plain": [
       "                   S07 S08 S09  S10 S11 S12 \n",
       "ENSG00000000003.14 739 998 1311 558 775 1346\n",
       "ENSG00000000005.6    0   0    0   0  10   14\n",
       "ENSG00000000419.12 390 513  515 191 407  482\n",
       "ENSG00000000457.14 138 168   70  26  73  111\n",
       "ENSG00000000460.17   0  70  107  42  83   51\n",
       "ENSG00000001036.13  80 209  297 119 219  267"
      ]
     },
     "metadata": {},
     "output_type": "display_data"
    }
   ],
   "source": [
    "counts(dds.D4) %>% head()"
   ]
  },
  {
   "cell_type": "code",
   "execution_count": 154,
   "metadata": {
    "ExecuteTime": {
     "end_time": "2019-09-10T21:27:29.057892Z",
     "start_time": "2019-09-10T21:27:18.813Z"
    },
    "hidden": true
   },
   "outputs": [
    {
     "name": "stderr",
     "output_type": "stream",
     "text": [
      "estimating size factors\n",
      "estimating dispersions\n",
      "gene-wise dispersion estimates\n",
      "mean-dispersion relationship\n",
      "final dispersion estimates\n",
      "fitting model and testing\n"
     ]
    }
   ],
   "source": [
    "dds.D4 <- DESeq(dds.D4) # fit DESeq mdoel"
   ]
  },
  {
   "cell_type": "code",
   "execution_count": 155,
   "metadata": {
    "ExecuteTime": {
     "end_time": "2019-09-10T21:27:36.190108Z",
     "start_time": "2019-09-10T21:27:36.287Z"
    },
    "hidden": true
   },
   "outputs": [
    {
     "data": {
      "text/html": [
       "<ol class=list-inline>\n",
       "\t<li>'Intercept'</li>\n",
       "\t<li>'group_ZBTB18_KO.Day4_vs_WT.Day4'</li>\n",
       "</ol>\n"
      ],
      "text/latex": [
       "\\begin{enumerate*}\n",
       "\\item 'Intercept'\n",
       "\\item 'group\\_ZBTB18\\_KO.Day4\\_vs\\_WT.Day4'\n",
       "\\end{enumerate*}\n"
      ],
      "text/markdown": [
       "1. 'Intercept'\n",
       "2. 'group_ZBTB18_KO.Day4_vs_WT.Day4'\n",
       "\n",
       "\n"
      ],
      "text/plain": [
       "[1] \"Intercept\"                       \"group_ZBTB18_KO.Day4_vs_WT.Day4\""
      ]
     },
     "metadata": {},
     "output_type": "display_data"
    }
   ],
   "source": [
    "resultsNames(dds.D4)"
   ]
  },
  {
   "cell_type": "code",
   "execution_count": 156,
   "metadata": {
    "ExecuteTime": {
     "end_time": "2019-09-10T21:27:52.679127Z",
     "start_time": "2019-09-10T21:27:50.650Z"
    },
    "hidden": true
   },
   "outputs": [],
   "source": [
    "res.D4 <- results(dds.D4) # modelling D0 vs. D4"
   ]
  },
  {
   "cell_type": "code",
   "execution_count": 157,
   "metadata": {
    "ExecuteTime": {
     "end_time": "2019-09-10T21:27:57.637818Z",
     "start_time": "2019-09-10T21:27:57.725Z"
    },
    "hidden": true
   },
   "outputs": [
    {
     "data": {
      "text/plain": [
       "log2 fold change (MLE): group ZBTB18 KO.Day4 vs WT.Day4 \n",
       "Wald test p-value: group ZBTB18 KO.Day4 vs WT.Day4 \n",
       "DataFrame with 6 rows and 6 columns\n",
       "                           baseMean     log2FoldChange             lfcSE\n",
       "                          <numeric>          <numeric>         <numeric>\n",
       "ENSG00000000003.14 905.704543535641   0.52783397340963 0.196120595764585\n",
       "ENSG00000000005.6  3.73504240902358   5.23141053555859  3.36909288063928\n",
       "ENSG00000000419.12 389.339973553485  0.142650035976338 0.243182510483844\n",
       "ENSG00000000457.14 87.2961990737973 -0.844468799309352 0.493010058540306\n",
       "ENSG00000000460.17 57.4426478459087   1.58773051999421  1.04101831368886\n",
       "ENSG00000001036.13  189.74837549163   1.04099343358322 0.372059883902644\n",
       "                                stat              pvalue               padj\n",
       "                           <numeric>           <numeric>          <numeric>\n",
       "ENSG00000000003.14  2.69137451552115 0.00711582623485639  0.103927739124034\n",
       "ENSG00000000005.6   1.55276530535007   0.120479214186456                 NA\n",
       "ENSG00000000419.12  0.58659660882897   0.557474660767695  0.892151456633805\n",
       "ENSG00000000457.14 -1.71288350953658  0.0867339726255935  0.440161577687171\n",
       "ENSG00000000460.17  1.52517059413496   0.127216553041667    0.5242966761363\n",
       "ENSG00000001036.13  2.79791904105313 0.00514330025881569 0.0843535117090728"
      ]
     },
     "metadata": {},
     "output_type": "display_data"
    }
   ],
   "source": [
    "res.D4 %>% head"
   ]
  },
  {
   "cell_type": "markdown",
   "metadata": {
    "hidden": true
   },
   "source": [
    "#### Log fold change shrinkage LFC for visulaization and ranking (for easier/cleaner visulization)"
   ]
  },
  {
   "cell_type": "code",
   "execution_count": 158,
   "metadata": {
    "ExecuteTime": {
     "end_time": "2019-09-10T21:28:08.596263Z",
     "start_time": "2019-09-10T21:28:08.688Z"
    },
    "hidden": true
   },
   "outputs": [
    {
     "data": {
      "text/html": [
       "<ol class=list-inline>\n",
       "\t<li>'Intercept'</li>\n",
       "\t<li>'group_ZBTB18_KO.Day4_vs_WT.Day4'</li>\n",
       "</ol>\n"
      ],
      "text/latex": [
       "\\begin{enumerate*}\n",
       "\\item 'Intercept'\n",
       "\\item 'group\\_ZBTB18\\_KO.Day4\\_vs\\_WT.Day4'\n",
       "\\end{enumerate*}\n"
      ],
      "text/markdown": [
       "1. 'Intercept'\n",
       "2. 'group_ZBTB18_KO.Day4_vs_WT.Day4'\n",
       "\n",
       "\n"
      ],
      "text/plain": [
       "[1] \"Intercept\"                       \"group_ZBTB18_KO.Day4_vs_WT.Day4\""
      ]
     },
     "metadata": {},
     "output_type": "display_data"
    }
   ],
   "source": [
    "resultsNames(dds.D4)"
   ]
  },
  {
   "cell_type": "code",
   "execution_count": 159,
   "metadata": {
    "ExecuteTime": {
     "end_time": "2019-09-10T21:28:41.873898Z",
     "start_time": "2019-09-10T21:28:30.000Z"
    },
    "hidden": true
   },
   "outputs": [
    {
     "name": "stderr",
     "output_type": "stream",
     "text": [
      "using 'apeglm' for LFC shrinkage. If used in published research, please cite:\n",
      "    Zhu, A., Ibrahim, J.G., Love, M.I. (2018) Heavy-tailed prior distributions for\n",
      "    sequence count data: removing the noise and preserving large differences.\n",
      "    Bioinformatics. https://doi.org/10.1093/bioinformatics/bty895\n"
     ]
    }
   ],
   "source": [
    "resLFC.D4 <- lfcShrink(dds.D4, coef='group_ZBTB18_KO.Day4_vs_WT.Day4', type='apeglm')"
   ]
  },
  {
   "cell_type": "code",
   "execution_count": 160,
   "metadata": {
    "ExecuteTime": {
     "end_time": "2019-09-10T21:28:41.912284Z",
     "start_time": "2019-09-10T21:28:31.462Z"
    },
    "hidden": true
   },
   "outputs": [
    {
     "data": {
      "text/plain": [
       "log2 fold change (MAP): group ZBTB18 KO vs WT \n",
       "Wald test p-value: group ZBTB18 KO vs WT \n",
       "DataFrame with 6 rows and 5 columns\n",
       "                           baseMean        log2FoldChange               lfcSE\n",
       "                          <numeric>             <numeric>           <numeric>\n",
       "ENSG00000000003.14 913.248353963115  6.45728857990519e-06 0.00144267409946254\n",
       "ENSG00000000005.6  5.19582450357961 -2.52362092038694e-07 0.00144269482356289\n",
       "ENSG00000000419.12 619.189654795312 -1.49009159262246e-05 0.00144271890287719\n",
       "ENSG00000000457.14 41.8450354970858  7.55430630091847e-07 0.00144269285894544\n",
       "ENSG00000000460.17 125.162735704992 -7.47905784943778e-07 0.00144268778648099\n",
       "ENSG00000001036.13 285.910339142177  4.78140070211583e-06 0.00144268957194288\n",
       "                              pvalue              padj\n",
       "                           <numeric>         <numeric>\n",
       "ENSG00000000003.14 0.162786722970473  0.99946089285179\n",
       "ENSG00000000005.6  0.547499179714834                NA\n",
       "ENSG00000000419.12 0.225302903579615  0.99946089285179\n",
       "ENSG00000000457.14 0.561422024060308  0.99946089285179\n",
       "ENSG00000000460.17 0.741017745028614  0.99946089285179\n",
       "ENSG00000001036.13 0.067666520638024 0.968850703653664"
      ]
     },
     "metadata": {},
     "output_type": "display_data"
    }
   ],
   "source": [
    "resLFC.ES %>% head"
   ]
  },
  {
   "cell_type": "markdown",
   "metadata": {
    "hidden": true
   },
   "source": [
    "### MA-plot"
   ]
  },
  {
   "cell_type": "code",
   "execution_count": 161,
   "metadata": {
    "ExecuteTime": {
     "end_time": "2019-09-10T21:28:50.016358Z",
     "start_time": "2019-09-10T21:28:49.689Z"
    },
    "hidden": true
   },
   "outputs": [
    {
     "data": {
      "image/png": "[encoded data removed]",
      "text/plain": [
       "Plot with title “”"
      ]
     },
     "metadata": {},
     "output_type": "display_data"
    }
   ],
   "source": [
    "plotMA(resLFC.D4, ylim=c(-10,10))\n",
    "#idx <- identify(res1$baseMean, res$log2FoldChange)\n",
    "#rownames(res)[idx]"
   ]
  },
  {
   "cell_type": "markdown",
   "metadata": {
    "hidden": true
   },
   "source": [
    "Number of hit genes given `FDR`"
   ]
  },
  {
   "cell_type": "code",
   "execution_count": 178,
   "metadata": {
    "ExecuteTime": {
     "end_time": "2019-09-10T21:35:52.603601Z",
     "start_time": "2019-09-10T21:35:52.696Z"
    },
    "hidden": true
   },
   "outputs": [],
   "source": [
    "fdr.D4 <- 0.05\n",
    "FC.D4 <- 2"
   ]
  },
  {
   "cell_type": "code",
   "execution_count": 163,
   "metadata": {
    "ExecuteTime": {
     "end_time": "2019-09-10T21:30:06.002002Z",
     "start_time": "2019-09-10T21:30:06.101Z"
    },
    "hidden": true
   },
   "outputs": [
    {
     "data": {
      "text/html": [
       "724"
      ],
      "text/latex": [
       "724"
      ],
      "text/markdown": [
       "724"
      ],
      "text/plain": [
       "[1] 724"
      ]
     },
     "metadata": {},
     "output_type": "display_data"
    }
   ],
   "source": [
    "sum(res.D4$padj < fdr, na.rm=T)"
   ]
  },
  {
   "cell_type": "code",
   "execution_count": 180,
   "metadata": {
    "ExecuteTime": {
     "end_time": "2019-09-10T21:36:48.084488Z",
     "start_time": "2019-09-10T21:36:48.085Z"
    },
    "hidden": true
   },
   "outputs": [],
   "source": [
    "# get significant genes by removing NA values, and select for padj < FDR, this is used to get the gene IDs\n",
    "# which then used to get normalized counts for heatmap purposes\n",
    "sigID.D4 <- res.D4[!is.na(res.D4$padj) & res.D4$padj < fdr.D4,] %>% as.data.frame %>% rownames_to_column('gene_id') "
   ]
  },
  {
   "cell_type": "code",
   "execution_count": 181,
   "metadata": {
    "ExecuteTime": {
     "end_time": "2019-09-10T21:36:51.150706Z",
     "start_time": "2019-09-10T21:36:51.236Z"
    },
    "hidden": true
   },
   "outputs": [
    {
     "data": {
      "text/html": [
       "<table>\n",
       "<caption>A data.frame: 6 × 7</caption>\n",
       "<thead>\n",
       "\t<tr><th scope=col>gene_id</th><th scope=col>baseMean</th><th scope=col>log2FoldChange</th><th scope=col>lfcSE</th><th scope=col>stat</th><th scope=col>pvalue</th><th scope=col>padj</th></tr>\n",
       "\t<tr><th scope=col>&lt;chr&gt;</th><th scope=col>&lt;dbl&gt;</th><th scope=col>&lt;dbl&gt;</th><th scope=col>&lt;dbl&gt;</th><th scope=col>&lt;dbl&gt;</th><th scope=col>&lt;dbl&gt;</th><th scope=col>&lt;dbl&gt;</th></tr>\n",
       "</thead>\n",
       "<tbody>\n",
       "\t<tr><td>ENSG00000003436.16</td><td> 38.73538</td><td> 5.630155</td><td>1.1009444</td><td> 5.113932</td><td>3.155203e-07</td><td>3.118658e-05</td></tr>\n",
       "\t<tr><td>ENSG00000005100.13</td><td>133.78502</td><td> 1.305787</td><td>0.4072528</td><td> 3.206330</td><td>1.344395e-03</td><td>3.370236e-02</td></tr>\n",
       "\t<tr><td>ENSG00000006468.14</td><td>205.91225</td><td>-1.842569</td><td>0.4567557</td><td>-4.034036</td><td>5.482685e-05</td><td>2.844333e-03</td></tr>\n",
       "\t<tr><td>ENSG00000007866.21</td><td>274.16682</td><td> 2.006636</td><td>0.3528401</td><td> 5.687099</td><td>1.292155e-08</td><td>1.723758e-06</td></tr>\n",
       "\t<tr><td>ENSG00000009694.13</td><td>552.77534</td><td> 2.498490</td><td>0.2893476</td><td> 8.634909</td><td>5.877369e-18</td><td>3.512551e-15</td></tr>\n",
       "\t<tr><td>ENSG00000010278.14</td><td>343.06265</td><td> 3.178288</td><td>0.5606530</td><td> 5.668904</td><td>1.437141e-08</td><td>1.867159e-06</td></tr>\n",
       "</tbody>\n",
       "</table>\n"
      ],
      "text/latex": [
       "A data.frame: 6 × 7\n",
       "\\begin{tabular}{r|lllllll}\n",
       " gene\\_id & baseMean & log2FoldChange & lfcSE & stat & pvalue & padj\\\\\n",
       " <chr> & <dbl> & <dbl> & <dbl> & <dbl> & <dbl> & <dbl>\\\\\n",
       "\\hline\n",
       "\t ENSG00000003436.16 &  38.73538 &  5.630155 & 1.1009444 &  5.113932 & 3.155203e-07 & 3.118658e-05\\\\\n",
       "\t ENSG00000005100.13 & 133.78502 &  1.305787 & 0.4072528 &  3.206330 & 1.344395e-03 & 3.370236e-02\\\\\n",
       "\t ENSG00000006468.14 & 205.91225 & -1.842569 & 0.4567557 & -4.034036 & 5.482685e-05 & 2.844333e-03\\\\\n",
       "\t ENSG00000007866.21 & 274.16682 &  2.006636 & 0.3528401 &  5.687099 & 1.292155e-08 & 1.723758e-06\\\\\n",
       "\t ENSG00000009694.13 & 552.77534 &  2.498490 & 0.2893476 &  8.634909 & 5.877369e-18 & 3.512551e-15\\\\\n",
       "\t ENSG00000010278.14 & 343.06265 &  3.178288 & 0.5606530 &  5.668904 & 1.437141e-08 & 1.867159e-06\\\\\n",
       "\\end{tabular}\n"
      ],
      "text/markdown": [
       "\n",
       "A data.frame: 6 × 7\n",
       "\n",
       "| gene_id &lt;chr&gt; | baseMean &lt;dbl&gt; | log2FoldChange &lt;dbl&gt; | lfcSE &lt;dbl&gt; | stat &lt;dbl&gt; | pvalue &lt;dbl&gt; | padj &lt;dbl&gt; |\n",
       "|---|---|---|---|---|---|---|\n",
       "| ENSG00000003436.16 |  38.73538 |  5.630155 | 1.1009444 |  5.113932 | 3.155203e-07 | 3.118658e-05 |\n",
       "| ENSG00000005100.13 | 133.78502 |  1.305787 | 0.4072528 |  3.206330 | 1.344395e-03 | 3.370236e-02 |\n",
       "| ENSG00000006468.14 | 205.91225 | -1.842569 | 0.4567557 | -4.034036 | 5.482685e-05 | 2.844333e-03 |\n",
       "| ENSG00000007866.21 | 274.16682 |  2.006636 | 0.3528401 |  5.687099 | 1.292155e-08 | 1.723758e-06 |\n",
       "| ENSG00000009694.13 | 552.77534 |  2.498490 | 0.2893476 |  8.634909 | 5.877369e-18 | 3.512551e-15 |\n",
       "| ENSG00000010278.14 | 343.06265 |  3.178288 | 0.5606530 |  5.668904 | 1.437141e-08 | 1.867159e-06 |\n",
       "\n"
      ],
      "text/plain": [
       "  gene_id            baseMean  log2FoldChange lfcSE     stat      pvalue      \n",
       "1 ENSG00000003436.16  38.73538  5.630155      1.1009444  5.113932 3.155203e-07\n",
       "2 ENSG00000005100.13 133.78502  1.305787      0.4072528  3.206330 1.344395e-03\n",
       "3 ENSG00000006468.14 205.91225 -1.842569      0.4567557 -4.034036 5.482685e-05\n",
       "4 ENSG00000007866.21 274.16682  2.006636      0.3528401  5.687099 1.292155e-08\n",
       "5 ENSG00000009694.13 552.77534  2.498490      0.2893476  8.634909 5.877369e-18\n",
       "6 ENSG00000010278.14 343.06265  3.178288      0.5606530  5.668904 1.437141e-08\n",
       "  padj        \n",
       "1 3.118658e-05\n",
       "2 3.370236e-02\n",
       "3 2.844333e-03\n",
       "4 1.723758e-06\n",
       "5 3.512551e-15\n",
       "6 1.867159e-06"
      ]
     },
     "metadata": {},
     "output_type": "display_data"
    },
    {
     "data": {
      "text/html": [
       "<ol class=list-inline>\n",
       "\t<li>724</li>\n",
       "\t<li>7</li>\n",
       "</ol>\n"
      ],
      "text/latex": [
       "\\begin{enumerate*}\n",
       "\\item 724\n",
       "\\item 7\n",
       "\\end{enumerate*}\n"
      ],
      "text/markdown": [
       "1. 724\n",
       "2. 7\n",
       "\n",
       "\n"
      ],
      "text/plain": [
       "[1] 724   7"
      ]
     },
     "metadata": {},
     "output_type": "display_data"
    }
   ],
   "source": [
    "sigID.D4 %>% head\n",
    "sigID.D4 %>% dim"
   ]
  },
  {
   "cell_type": "code",
   "execution_count": 182,
   "metadata": {
    "ExecuteTime": {
     "end_time": "2019-09-10T21:36:56.692649Z",
     "start_time": "2019-09-10T21:36:56.748Z"
    },
    "hidden": true
   },
   "outputs": [],
   "source": [
    "# get the normalized counts of all genes, also add gene name in this step\n",
    "# this is later joined with the list significant genes\n",
    "sigGenes.D4 <- counts(dds.D4, normalized=T) %>% as.data.frame %>% \n",
    "                add_column(.before=1,'gene'=mcols(dds.D4)$gene_name) %>% rownames_to_column('gene_id')# add gene_name"
   ]
  },
  {
   "cell_type": "code",
   "execution_count": 183,
   "metadata": {
    "ExecuteTime": {
     "end_time": "2019-09-10T21:36:57.750548Z",
     "start_time": "2019-09-10T21:36:57.848Z"
    },
    "hidden": true
   },
   "outputs": [],
   "source": [
    "# using 'gene_id' and the previous DESeq2 results, get significant genes, and their normalized counts, and padj\n",
    "sigGenes.D4 <- left_join(sigID.D4[,c('gene_id','padj', 'log2FoldChange')], sigGenes.D4, by = 'gene_id') %>%\n",
    "               arrange(padj)"
   ]
  },
  {
   "cell_type": "code",
   "execution_count": 274,
   "metadata": {
    "ExecuteTime": {
     "end_time": "2019-09-11T18:01:58.682818Z",
     "start_time": "2019-09-11T18:01:59.459Z"
    },
    "hidden": true
   },
   "outputs": [
    {
     "data": {
      "text/html": [
       "<table>\n",
       "<caption>A data.frame: 6 × 10</caption>\n",
       "<thead>\n",
       "\t<tr><th scope=col>gene_id</th><th scope=col>gene</th><th scope=col>padj</th><th scope=col>log2FoldChange</th><th scope=col>S07</th><th scope=col>S08</th><th scope=col>S09</th><th scope=col>S10</th><th scope=col>S11</th><th scope=col>S12</th></tr>\n",
       "\t<tr><th scope=col>&lt;chr&gt;</th><th scope=col>&lt;chr&gt;</th><th scope=col>&lt;dbl&gt;</th><th scope=col>&lt;dbl&gt;</th><th scope=col>&lt;dbl&gt;</th><th scope=col>&lt;dbl&gt;</th><th scope=col>&lt;dbl&gt;</th><th scope=col>&lt;dbl&gt;</th><th scope=col>&lt;dbl&gt;</th><th scope=col>&lt;dbl&gt;</th></tr>\n",
       "</thead>\n",
       "<tbody>\n",
       "\t<tr><td>ENSG00000183386.10</td><td>FHL3  </td><td>3.783195e-51</td><td> 5.652099</td><td>  11.42600</td><td>  13.25360</td><td> 616.4242</td><td> 518.3631</td><td> 700.0148</td><td> 661.9278</td></tr>\n",
       "\t<tr><td>ENSG00000103187.8 </td><td>COTL1 </td><td>1.811368e-34</td><td>-2.015968</td><td>5221.68185</td><td>5558.83796</td><td>1312.3605</td><td>1493.6804</td><td>1366.3332</td><td>1166.4108</td></tr>\n",
       "\t<tr><td>ENSG00000137868.19</td><td>STRA6 </td><td>1.541786e-29</td><td> 3.854467</td><td>  36.18233</td><td>  38.36568</td><td> 650.8521</td><td> 390.1269</td><td> 559.7944</td><td> 553.9421</td></tr>\n",
       "\t<tr><td>ENSG00000165462.5 </td><td>PHOX2A</td><td>2.906620e-28</td><td> 2.514652</td><td> 426.57065</td><td> 445.73942</td><td>2432.9081</td><td>1811.5616</td><td>2891.3654</td><td>2828.2370</td></tr>\n",
       "\t<tr><td>ENSG00000154553.15</td><td>PDLIM3</td><td>5.621849e-26</td><td> 4.331644</td><td>  22.85200</td><td>  27.90231</td><td> 485.2701</td><td> 319.6873</td><td> 707.6236</td><td> 537.4557</td></tr>\n",
       "\t<tr><td>ENSG00000126878.13</td><td>AIF1L </td><td>9.679636e-26</td><td> 3.156598</td><td>  92.36016</td><td>  56.50218</td><td> 636.9170</td><td> 585.1904</td><td> 752.1898</td><td> 658.6305</td></tr>\n",
       "</tbody>\n",
       "</table>\n"
      ],
      "text/latex": [
       "A data.frame: 6 × 10\n",
       "\\begin{tabular}{r|llllllllll}\n",
       " gene\\_id & gene & padj & log2FoldChange & S07 & S08 & S09 & S10 & S11 & S12\\\\\n",
       " <chr> & <chr> & <dbl> & <dbl> & <dbl> & <dbl> & <dbl> & <dbl> & <dbl> & <dbl>\\\\\n",
       "\\hline\n",
       "\t ENSG00000183386.10 & FHL3   & 3.783195e-51 &  5.652099 &   11.42600 &   13.25360 &  616.4242 &  518.3631 &  700.0148 &  661.9278\\\\\n",
       "\t ENSG00000103187.8  & COTL1  & 1.811368e-34 & -2.015968 & 5221.68185 & 5558.83796 & 1312.3605 & 1493.6804 & 1366.3332 & 1166.4108\\\\\n",
       "\t ENSG00000137868.19 & STRA6  & 1.541786e-29 &  3.854467 &   36.18233 &   38.36568 &  650.8521 &  390.1269 &  559.7944 &  553.9421\\\\\n",
       "\t ENSG00000165462.5  & PHOX2A & 2.906620e-28 &  2.514652 &  426.57065 &  445.73942 & 2432.9081 & 1811.5616 & 2891.3654 & 2828.2370\\\\\n",
       "\t ENSG00000154553.15 & PDLIM3 & 5.621849e-26 &  4.331644 &   22.85200 &   27.90231 &  485.2701 &  319.6873 &  707.6236 &  537.4557\\\\\n",
       "\t ENSG00000126878.13 & AIF1L  & 9.679636e-26 &  3.156598 &   92.36016 &   56.50218 &  636.9170 &  585.1904 &  752.1898 &  658.6305\\\\\n",
       "\\end{tabular}\n"
      ],
      "text/markdown": [
       "\n",
       "A data.frame: 6 × 10\n",
       "\n",
       "| gene_id &lt;chr&gt; | gene &lt;chr&gt; | padj &lt;dbl&gt; | log2FoldChange &lt;dbl&gt; | S07 &lt;dbl&gt; | S08 &lt;dbl&gt; | S09 &lt;dbl&gt; | S10 &lt;dbl&gt; | S11 &lt;dbl&gt; | S12 &lt;dbl&gt; |\n",
       "|---|---|---|---|---|---|---|---|---|---|\n",
       "| ENSG00000183386.10 | FHL3   | 3.783195e-51 |  5.652099 |   11.42600 |   13.25360 |  616.4242 |  518.3631 |  700.0148 |  661.9278 |\n",
       "| ENSG00000103187.8  | COTL1  | 1.811368e-34 | -2.015968 | 5221.68185 | 5558.83796 | 1312.3605 | 1493.6804 | 1366.3332 | 1166.4108 |\n",
       "| ENSG00000137868.19 | STRA6  | 1.541786e-29 |  3.854467 |   36.18233 |   38.36568 |  650.8521 |  390.1269 |  559.7944 |  553.9421 |\n",
       "| ENSG00000165462.5  | PHOX2A | 2.906620e-28 |  2.514652 |  426.57065 |  445.73942 | 2432.9081 | 1811.5616 | 2891.3654 | 2828.2370 |\n",
       "| ENSG00000154553.15 | PDLIM3 | 5.621849e-26 |  4.331644 |   22.85200 |   27.90231 |  485.2701 |  319.6873 |  707.6236 |  537.4557 |\n",
       "| ENSG00000126878.13 | AIF1L  | 9.679636e-26 |  3.156598 |   92.36016 |   56.50218 |  636.9170 |  585.1904 |  752.1898 |  658.6305 |\n",
       "\n"
      ],
      "text/plain": [
       "  gene_id            gene   padj         log2FoldChange S07        S08       \n",
       "1 ENSG00000183386.10 FHL3   3.783195e-51  5.652099        11.42600   13.25360\n",
       "2 ENSG00000103187.8  COTL1  1.811368e-34 -2.015968      5221.68185 5558.83796\n",
       "3 ENSG00000137868.19 STRA6  1.541786e-29  3.854467        36.18233   38.36568\n",
       "4 ENSG00000165462.5  PHOX2A 2.906620e-28  2.514652       426.57065  445.73942\n",
       "5 ENSG00000154553.15 PDLIM3 5.621849e-26  4.331644        22.85200   27.90231\n",
       "6 ENSG00000126878.13 AIF1L  9.679636e-26  3.156598        92.36016   56.50218\n",
       "  S09       S10       S11       S12      \n",
       "1  616.4242  518.3631  700.0148  661.9278\n",
       "2 1312.3605 1493.6804 1366.3332 1166.4108\n",
       "3  650.8521  390.1269  559.7944  553.9421\n",
       "4 2432.9081 1811.5616 2891.3654 2828.2370\n",
       "5  485.2701  319.6873  707.6236  537.4557\n",
       "6  636.9170  585.1904  752.1898  658.6305"
      ]
     },
     "metadata": {},
     "output_type": "display_data"
    },
    {
     "data": {
      "text/html": [
       "<ol class=list-inline>\n",
       "\t<li>724</li>\n",
       "\t<li>10</li>\n",
       "</ol>\n"
      ],
      "text/latex": [
       "\\begin{enumerate*}\n",
       "\\item 724\n",
       "\\item 10\n",
       "\\end{enumerate*}\n"
      ],
      "text/markdown": [
       "1. 724\n",
       "2. 10\n",
       "\n",
       "\n"
      ],
      "text/plain": [
       "[1] 724  10"
      ]
     },
     "metadata": {},
     "output_type": "display_data"
    }
   ],
   "source": [
    "sigGenes.D4 %>% head\n",
    "sigGenes.D4 %>% dim"
   ]
  },
  {
   "cell_type": "code",
   "execution_count": 185,
   "metadata": {
    "ExecuteTime": {
     "end_time": "2019-09-10T21:37:02.420175Z",
     "start_time": "2019-09-10T21:37:02.522Z"
    },
    "hidden": true
   },
   "outputs": [],
   "source": [
    "sigGenes.D4 <- sigGenes.D4[,c(1,4,2,3,5:10)] # rearrange order of columns"
   ]
  },
  {
   "cell_type": "code",
   "execution_count": 275,
   "metadata": {
    "ExecuteTime": {
     "end_time": "2019-09-11T18:02:15.946055Z",
     "start_time": "2019-09-11T18:02:16.740Z"
    },
    "hidden": true
   },
   "outputs": [],
   "source": [
    "# find genes with more than 1 gene ID\n",
    "multi_id_genes.D4 <- sigGenes.D4 %>% group_by(gene, add=F) %>% summarise(n_geneIDs=n_distinct(gene_id)) %>% filter(n_geneIDs > 1)\n",
    "multi_id_genes.D4 <- multi_id_genes.D4$gene"
   ]
  },
  {
   "cell_type": "code",
   "execution_count": 276,
   "metadata": {
    "ExecuteTime": {
     "end_time": "2019-09-11T18:02:16.250566Z",
     "start_time": "2019-09-11T18:02:17.053Z"
    },
    "hidden": true
   },
   "outputs": [
    {
     "data": {
      "text/html": [],
      "text/latex": [],
      "text/markdown": [],
      "text/plain": [
       "character(0)"
      ]
     },
     "metadata": {},
     "output_type": "display_data"
    }
   ],
   "source": [
    "multi_id_genes.D4"
   ]
  },
  {
   "cell_type": "markdown",
   "metadata": {
    "hidden": true
   },
   "source": [
    "Significant genes, export to csv"
   ]
  },
  {
   "cell_type": "code",
   "execution_count": 304,
   "metadata": {
    "ExecuteTime": {
     "end_time": "2019-09-11T18:13:35.289651Z",
     "start_time": "2019-09-11T18:13:36.087Z"
    },
    "hidden": true
   },
   "outputs": [],
   "source": [
    "sigGenes.D4 <- sigGenes.D4 %>% mutate(expression=case_when(padj < fdr.D4 & log2FoldChange > FC.D4 ~ 'Up', \n",
    "                                  padj < fdr.D4 & log2FoldChange < -FC.D4 ~ 'Down',\n",
    "                                  padj < fdr.D4 & log2FoldChange >= -FC.D4 & log2FoldChange <= FC.D4 ~ 'No Change',\n",
    "                                  padj >= fdr.D4 ~ 'Not Significant')) %>% arrange(expression, padj) \n",
    "\n",
    "sigGenes.D4 %>% write.csv('Day4_WT_vs_ZBTB18_KO_sigGenes.csv', row.names=F, quote=F)"
   ]
  },
  {
   "cell_type": "markdown",
   "metadata": {
    "hidden": true
   },
   "source": [
    "### Heatmap"
   ]
  },
  {
   "cell_type": "code",
   "execution_count": 305,
   "metadata": {
    "ExecuteTime": {
     "end_time": "2019-09-11T18:13:37.744547Z",
     "start_time": "2019-09-11T18:13:38.559Z"
    },
    "hidden": true
   },
   "outputs": [],
   "source": [
    "#### Most significant (WT vs ZBTB18) ranked by padj\n",
    "most_sig.heatmap.D4 <- sigGenes.D4 %>% filter(!(gene %in% multi_id_genes.D4)) %>% select(-gene_id) %>%\n",
    "                     column_to_rownames('gene')"
   ]
  },
  {
   "cell_type": "code",
   "execution_count": 306,
   "metadata": {
    "ExecuteTime": {
     "end_time": "2019-09-11T18:13:39.171124Z",
     "start_time": "2019-09-11T18:13:39.984Z"
    },
    "hidden": true
   },
   "outputs": [],
   "source": [
    "ano.D4 = colData(dds.D4) %>% as.data.frame %>% select(condition,group)"
   ]
  },
  {
   "cell_type": "code",
   "execution_count": 307,
   "metadata": {
    "ExecuteTime": {
     "end_time": "2019-09-11T18:13:40.249101Z",
     "start_time": "2019-09-11T18:13:41.054Z"
    },
    "hidden": true
   },
   "outputs": [
    {
     "data": {
      "text/html": [
       "<table>\n",
       "<caption>A data.frame: 6 × 9</caption>\n",
       "<thead>\n",
       "\t<tr><th></th><th scope=col>padj</th><th scope=col>log2FoldChange</th><th scope=col>S07</th><th scope=col>S08</th><th scope=col>S09</th><th scope=col>S10</th><th scope=col>S11</th><th scope=col>S12</th><th scope=col>expression</th></tr>\n",
       "\t<tr><th></th><th scope=col>&lt;dbl&gt;</th><th scope=col>&lt;dbl&gt;</th><th scope=col>&lt;dbl&gt;</th><th scope=col>&lt;dbl&gt;</th><th scope=col>&lt;dbl&gt;</th><th scope=col>&lt;dbl&gt;</th><th scope=col>&lt;dbl&gt;</th><th scope=col>&lt;dbl&gt;</th><th scope=col>&lt;chr&gt;</th></tr>\n",
       "</thead>\n",
       "<tbody>\n",
       "\t<tr><th scope=row>COTL1</th><td>1.811368e-34</td><td> -2.015968</td><td>5221.6819</td><td>5558.8380</td><td>1312.36048</td><td>1493.68037</td><td>1366.33319</td><td>1166.410760</td><td>Down</td></tr>\n",
       "\t<tr><th scope=row>MT1F</th><td>2.106300e-23</td><td> -2.936239</td><td>1051.1920</td><td> 996.1125</td><td> 140.17092</td><td> 169.77745</td><td> 130.43754</td><td>  98.918227</td><td>Down</td></tr>\n",
       "\t<tr><th scope=row>ACTC1</th><td>7.086586e-22</td><td> -4.203595</td><td>1074.0440</td><td> 828.6986</td><td>  50.00249</td><td>  93.91944</td><td>  27.17449</td><td>  40.391609</td><td>Down</td></tr>\n",
       "\t<tr><th scope=row>RPS10P3</th><td>1.938304e-21</td><td>-10.452771</td><td> 864.5673</td><td> 609.6655</td><td>   0.00000</td><td>   0.00000</td><td>   0.00000</td><td>   1.648637</td><td>Down</td></tr>\n",
       "\t<tr><th scope=row>NSG1</th><td>4.327457e-20</td><td> -2.385753</td><td>1657.7221</td><td>1441.1544</td><td> 326.24577</td><td> 366.64705</td><td> 265.22299</td><td> 232.457834</td><td>Down</td></tr>\n",
       "\t<tr><th scope=row>RGS10</th><td>5.900130e-20</td><td> -3.145461</td><td>3218.3232</td><td>2718.3827</td><td> 341.82031</td><td> 550.87365</td><td> 215.22193</td><td> 241.525338</td><td>Down</td></tr>\n",
       "</tbody>\n",
       "</table>\n"
      ],
      "text/latex": [
       "A data.frame: 6 × 9\n",
       "\\begin{tabular}{r|lllllllll}\n",
       "  & padj & log2FoldChange & S07 & S08 & S09 & S10 & S11 & S12 & expression\\\\\n",
       "  & <dbl> & <dbl> & <dbl> & <dbl> & <dbl> & <dbl> & <dbl> & <dbl> & <chr>\\\\\n",
       "\\hline\n",
       "\tCOTL1 & 1.811368e-34 &  -2.015968 & 5221.6819 & 5558.8380 & 1312.36048 & 1493.68037 & 1366.33319 & 1166.410760 & Down\\\\\n",
       "\tMT1F & 2.106300e-23 &  -2.936239 & 1051.1920 &  996.1125 &  140.17092 &  169.77745 &  130.43754 &   98.918227 & Down\\\\\n",
       "\tACTC1 & 7.086586e-22 &  -4.203595 & 1074.0440 &  828.6986 &   50.00249 &   93.91944 &   27.17449 &   40.391609 & Down\\\\\n",
       "\tRPS10P3 & 1.938304e-21 & -10.452771 &  864.5673 &  609.6655 &    0.00000 &    0.00000 &    0.00000 &    1.648637 & Down\\\\\n",
       "\tNSG1 & 4.327457e-20 &  -2.385753 & 1657.7221 & 1441.1544 &  326.24577 &  366.64705 &  265.22299 &  232.457834 & Down\\\\\n",
       "\tRGS10 & 5.900130e-20 &  -3.145461 & 3218.3232 & 2718.3827 &  341.82031 &  550.87365 &  215.22193 &  241.525338 & Down\\\\\n",
       "\\end{tabular}\n"
      ],
      "text/markdown": [
       "\n",
       "A data.frame: 6 × 9\n",
       "\n",
       "| <!--/--> | padj &lt;dbl&gt; | log2FoldChange &lt;dbl&gt; | S07 &lt;dbl&gt; | S08 &lt;dbl&gt; | S09 &lt;dbl&gt; | S10 &lt;dbl&gt; | S11 &lt;dbl&gt; | S12 &lt;dbl&gt; | expression &lt;chr&gt; |\n",
       "|---|---|---|---|---|---|---|---|---|---|\n",
       "| COTL1 | 1.811368e-34 |  -2.015968 | 5221.6819 | 5558.8380 | 1312.36048 | 1493.68037 | 1366.33319 | 1166.410760 | Down |\n",
       "| MT1F | 2.106300e-23 |  -2.936239 | 1051.1920 |  996.1125 |  140.17092 |  169.77745 |  130.43754 |   98.918227 | Down |\n",
       "| ACTC1 | 7.086586e-22 |  -4.203595 | 1074.0440 |  828.6986 |   50.00249 |   93.91944 |   27.17449 |   40.391609 | Down |\n",
       "| RPS10P3 | 1.938304e-21 | -10.452771 |  864.5673 |  609.6655 |    0.00000 |    0.00000 |    0.00000 |    1.648637 | Down |\n",
       "| NSG1 | 4.327457e-20 |  -2.385753 | 1657.7221 | 1441.1544 |  326.24577 |  366.64705 |  265.22299 |  232.457834 | Down |\n",
       "| RGS10 | 5.900130e-20 |  -3.145461 | 3218.3232 | 2718.3827 |  341.82031 |  550.87365 |  215.22193 |  241.525338 | Down |\n",
       "\n"
      ],
      "text/plain": [
       "        padj         log2FoldChange S07       S08       S09        S10       \n",
       "COTL1   1.811368e-34  -2.015968     5221.6819 5558.8380 1312.36048 1493.68037\n",
       "MT1F    2.106300e-23  -2.936239     1051.1920  996.1125  140.17092  169.77745\n",
       "ACTC1   7.086586e-22  -4.203595     1074.0440  828.6986   50.00249   93.91944\n",
       "RPS10P3 1.938304e-21 -10.452771      864.5673  609.6655    0.00000    0.00000\n",
       "NSG1    4.327457e-20  -2.385753     1657.7221 1441.1544  326.24577  366.64705\n",
       "RGS10   5.900130e-20  -3.145461     3218.3232 2718.3827  341.82031  550.87365\n",
       "        S11        S12         expression\n",
       "COTL1   1366.33319 1166.410760 Down      \n",
       "MT1F     130.43754   98.918227 Down      \n",
       "ACTC1     27.17449   40.391609 Down      \n",
       "RPS10P3    0.00000    1.648637 Down      \n",
       "NSG1     265.22299  232.457834 Down      \n",
       "RGS10    215.22193  241.525338 Down      "
      ]
     },
     "metadata": {},
     "output_type": "display_data"
    }
   ],
   "source": [
    "most_sig.heatmap.D4 %>% head"
   ]
  },
  {
   "cell_type": "markdown",
   "metadata": {
    "hidden": true
   },
   "source": [
    "### Top 50 of most significant genes (FDR 0.05, WT vs. ZBTB18, Day 4)"
   ]
  },
  {
   "cell_type": "code",
   "execution_count": 314,
   "metadata": {
    "ExecuteTime": {
     "end_time": "2019-09-11T18:14:48.082500Z",
     "start_time": "2019-09-11T18:14:48.648Z"
    },
    "hidden": true
   },
   "outputs": [
    {
     "data": {
      "image/png": "[encoded data removed]",
      "text/plain": [
       "plot without title"
      ]
     },
     "metadata": {},
     "output_type": "display_data"
    }
   ],
   "source": [
    "# quadroot transformed normalized reads because read range is large\n",
    "most_sig.heatmap.D4 %>% select(S07:S12) %>% as.matrix %>% apply(2,quadroot) %>%\n",
    "        pheatmap(cluster_rows=T,show_rownames=F, treeheight_row = 0, cluster_cols=F, annotation_col = ano.D4, \n",
    "                 fontsize = 6, main=\"Day 4: FDR<0.05, WT vs. ZBTB18 KO \\n(Reads normalized and quadroot transformed)\")"
   ]
  },
  {
   "cell_type": "markdown",
   "metadata": {
    "hidden": true
   },
   "source": [
    "#### volcano plot"
   ]
  },
  {
   "cell_type": "code",
   "execution_count": 524,
   "metadata": {
    "ExecuteTime": {
     "end_time": "2019-09-12T19:06:24.679855Z",
     "start_time": "2019-09-12T19:06:24.757Z"
    },
    "hidden": true
   },
   "outputs": [
    {
     "data": {
      "text/html": [
       "<table>\n",
       "<caption>A data.frame: 6 × 8</caption>\n",
       "<thead>\n",
       "\t<tr><th scope=col>gene</th><th scope=col>gene_id</th><th scope=col>baseMean</th><th scope=col>log2FoldChange</th><th scope=col>lfcSE</th><th scope=col>stat</th><th scope=col>pvalue</th><th scope=col>padj</th></tr>\n",
       "\t<tr><th scope=col>&lt;chr&gt;</th><th scope=col>&lt;chr&gt;</th><th scope=col>&lt;dbl&gt;</th><th scope=col>&lt;dbl&gt;</th><th scope=col>&lt;dbl&gt;</th><th scope=col>&lt;dbl&gt;</th><th scope=col>&lt;dbl&gt;</th><th scope=col>&lt;dbl&gt;</th></tr>\n",
       "</thead>\n",
       "<tbody>\n",
       "\t<tr><td>TSPAN6  </td><td>ENSG00000000003.14</td><td>905.704544</td><td> 0.5278340</td><td>0.1961206</td><td> 2.6913745</td><td>0.007115826</td><td>0.10392774</td></tr>\n",
       "\t<tr><td>TNMD    </td><td>ENSG00000000005.6 </td><td>  3.735042</td><td> 5.2314105</td><td>3.3690929</td><td> 1.5527653</td><td>0.120479214</td><td>        NA</td></tr>\n",
       "\t<tr><td>DPM1    </td><td>ENSG00000000419.12</td><td>389.339974</td><td> 0.1426500</td><td>0.2431825</td><td> 0.5865966</td><td>0.557474661</td><td>0.89215146</td></tr>\n",
       "\t<tr><td>SCYL3   </td><td>ENSG00000000457.14</td><td> 87.296199</td><td>-0.8444688</td><td>0.4930101</td><td>-1.7128835</td><td>0.086733973</td><td>0.44016158</td></tr>\n",
       "\t<tr><td>C1orf112</td><td>ENSG00000000460.17</td><td> 57.442648</td><td> 1.5877305</td><td>1.0410183</td><td> 1.5251706</td><td>0.127216553</td><td>0.52429668</td></tr>\n",
       "\t<tr><td>FUCA2   </td><td>ENSG00000001036.13</td><td>189.748375</td><td> 1.0409934</td><td>0.3720599</td><td> 2.7979190</td><td>0.005143300</td><td>0.08435351</td></tr>\n",
       "</tbody>\n",
       "</table>\n"
      ],
      "text/latex": [
       "A data.frame: 6 × 8\n",
       "\\begin{tabular}{r|llllllll}\n",
       " gene & gene\\_id & baseMean & log2FoldChange & lfcSE & stat & pvalue & padj\\\\\n",
       " <chr> & <chr> & <dbl> & <dbl> & <dbl> & <dbl> & <dbl> & <dbl>\\\\\n",
       "\\hline\n",
       "\t TSPAN6   & ENSG00000000003.14 & 905.704544 &  0.5278340 & 0.1961206 &  2.6913745 & 0.007115826 & 0.10392774\\\\\n",
       "\t TNMD     & ENSG00000000005.6  &   3.735042 &  5.2314105 & 3.3690929 &  1.5527653 & 0.120479214 &         NA\\\\\n",
       "\t DPM1     & ENSG00000000419.12 & 389.339974 &  0.1426500 & 0.2431825 &  0.5865966 & 0.557474661 & 0.89215146\\\\\n",
       "\t SCYL3    & ENSG00000000457.14 &  87.296199 & -0.8444688 & 0.4930101 & -1.7128835 & 0.086733973 & 0.44016158\\\\\n",
       "\t C1orf112 & ENSG00000000460.17 &  57.442648 &  1.5877305 & 1.0410183 &  1.5251706 & 0.127216553 & 0.52429668\\\\\n",
       "\t FUCA2    & ENSG00000001036.13 & 189.748375 &  1.0409934 & 0.3720599 &  2.7979190 & 0.005143300 & 0.08435351\\\\\n",
       "\\end{tabular}\n"
      ],
      "text/markdown": [
       "\n",
       "A data.frame: 6 × 8\n",
       "\n",
       "| gene &lt;chr&gt; | gene_id &lt;chr&gt; | baseMean &lt;dbl&gt; | log2FoldChange &lt;dbl&gt; | lfcSE &lt;dbl&gt; | stat &lt;dbl&gt; | pvalue &lt;dbl&gt; | padj &lt;dbl&gt; |\n",
       "|---|---|---|---|---|---|---|---|\n",
       "| TSPAN6   | ENSG00000000003.14 | 905.704544 |  0.5278340 | 0.1961206 |  2.6913745 | 0.007115826 | 0.10392774 |\n",
       "| TNMD     | ENSG00000000005.6  |   3.735042 |  5.2314105 | 3.3690929 |  1.5527653 | 0.120479214 |         NA |\n",
       "| DPM1     | ENSG00000000419.12 | 389.339974 |  0.1426500 | 0.2431825 |  0.5865966 | 0.557474661 | 0.89215146 |\n",
       "| SCYL3    | ENSG00000000457.14 |  87.296199 | -0.8444688 | 0.4930101 | -1.7128835 | 0.086733973 | 0.44016158 |\n",
       "| C1orf112 | ENSG00000000460.17 |  57.442648 |  1.5877305 | 1.0410183 |  1.5251706 | 0.127216553 | 0.52429668 |\n",
       "| FUCA2    | ENSG00000001036.13 | 189.748375 |  1.0409934 | 0.3720599 |  2.7979190 | 0.005143300 | 0.08435351 |\n",
       "\n"
      ],
      "text/plain": [
       "  gene     gene_id            baseMean   log2FoldChange lfcSE     stat      \n",
       "1 TSPAN6   ENSG00000000003.14 905.704544  0.5278340     0.1961206  2.6913745\n",
       "2 TNMD     ENSG00000000005.6    3.735042  5.2314105     3.3690929  1.5527653\n",
       "3 DPM1     ENSG00000000419.12 389.339974  0.1426500     0.2431825  0.5865966\n",
       "4 SCYL3    ENSG00000000457.14  87.296199 -0.8444688     0.4930101 -1.7128835\n",
       "5 C1orf112 ENSG00000000460.17  57.442648  1.5877305     1.0410183  1.5251706\n",
       "6 FUCA2    ENSG00000001036.13 189.748375  1.0409934     0.3720599  2.7979190\n",
       "  pvalue      padj      \n",
       "1 0.007115826 0.10392774\n",
       "2 0.120479214         NA\n",
       "3 0.557474661 0.89215146\n",
       "4 0.086733973 0.44016158\n",
       "5 0.127216553 0.52429668\n",
       "6 0.005143300 0.08435351"
      ]
     },
     "metadata": {},
     "output_type": "display_data"
    }
   ],
   "source": [
    "D4.vol %>% head"
   ]
  },
  {
   "cell_type": "code",
   "execution_count": 296,
   "metadata": {
    "ExecuteTime": {
     "end_time": "2019-09-11T18:08:17.912338Z",
     "start_time": "2019-09-11T18:08:18.719Z"
    },
    "hidden": true
   },
   "outputs": [],
   "source": [
    "D4.vol <- res.D4 %>% as.data.frame %>% rownames_to_column('gene_id') %>% add_column(.before=1,'gene'=mcols(dds.D4)$gene_name)"
   ]
  },
  {
   "cell_type": "code",
   "execution_count": 315,
   "metadata": {
    "ExecuteTime": {
     "end_time": "2019-09-11T18:15:19.898275Z",
     "start_time": "2019-09-11T18:15:18.948Z"
    },
    "hidden": true,
    "scrolled": false
   },
   "outputs": [
    {
     "data": {
      "image/png": "[encoded data removed]",
      "text/plain": [
       "plot without title"
      ]
     },
     "metadata": {},
     "output_type": "display_data"
    }
   ],
   "source": [
    "EnhancedVolcano(D4.vol, lab = D4.vol$gene, x='log2FoldChange',y='padj', xlim=c(-6,8),\n",
    "                xlab = bquote(~Log[2]~ 'fold change'), ylab= bquote(~-Log[10]~adjusted~italic(P)),\n",
    "                legend=c('NS', 'Log2 FC', 'Adjusted p-value'), legendPosition='bottom', legendLabSize = 8, \n",
    "                legendIconSize = 3.0, title = \"Day 4: ZBTB18 Knockout vs. WT\", subtitle=\"\",\n",
    "                pCutoff = fdr.D4, FCcutoff = FC.D4,\n",
    "                transcriptPointSize = 2, transcriptLabSize = 3.0, colAlpha = .4)\n",
    "# selectLab = c('FHL3', 'STRAG') to only label key transcripts"
   ]
  },
  {
   "cell_type": "markdown",
   "metadata": {
    "heading_collapsed": true
   },
   "source": [
    "# Compare significant genes sets from ES and from Day4"
   ]
  },
  {
   "cell_type": "markdown",
   "metadata": {
    "hidden": true
   },
   "source": [
    "1. Are there overlapping genes that are significant in both dataset?"
   ]
  },
  {
   "cell_type": "code",
   "execution_count": 316,
   "metadata": {
    "ExecuteTime": {
     "end_time": "2019-09-11T18:16:21.216289Z",
     "start_time": "2019-09-11T18:16:22.024Z"
    },
    "hidden": true,
    "scrolled": true
   },
   "outputs": [
    {
     "data": {
      "text/html": [
       "<ol class=list-inline>\n",
       "\t<li>'MT1F'</li>\n",
       "\t<li>'LRRC61'</li>\n",
       "\t<li>'CD99L2'</li>\n",
       "\t<li>'DDR2'</li>\n",
       "</ol>\n"
      ],
      "text/latex": [
       "\\begin{enumerate*}\n",
       "\\item 'MT1F'\n",
       "\\item 'LRRC61'\n",
       "\\item 'CD99L2'\n",
       "\\item 'DDR2'\n",
       "\\end{enumerate*}\n"
      ],
      "text/markdown": [
       "1. 'MT1F'\n",
       "2. 'LRRC61'\n",
       "3. 'CD99L2'\n",
       "4. 'DDR2'\n",
       "\n",
       "\n"
      ],
      "text/plain": [
       "[1] \"MT1F\"   \"LRRC61\" \"CD99L2\" \"DDR2\"  "
      ]
     },
     "metadata": {},
     "output_type": "display_data"
    }
   ],
   "source": [
    "sigGenes.ES$gene %>% intersect(sigGenes.D4$gene)"
   ]
  },
  {
   "cell_type": "code",
   "execution_count": 318,
   "metadata": {
    "ExecuteTime": {
     "end_time": "2019-09-11T18:17:43.781848Z",
     "start_time": "2019-09-11T18:17:44.526Z"
    },
    "hidden": true
   },
   "outputs": [
    {
     "data": {
      "text/html": [
       "<table>\n",
       "<caption>A data.frame: 4 × 11</caption>\n",
       "<thead>\n",
       "\t<tr><th scope=col>gene_id</th><th scope=col>gene</th><th scope=col>padj</th><th scope=col>log2FoldChange</th><th scope=col>S01</th><th scope=col>S02</th><th scope=col>S03</th><th scope=col>S04</th><th scope=col>S05</th><th scope=col>S06</th><th scope=col>expression</th></tr>\n",
       "\t<tr><th scope=col>&lt;chr&gt;</th><th scope=col>&lt;chr&gt;</th><th scope=col>&lt;dbl&gt;</th><th scope=col>&lt;dbl&gt;</th><th scope=col>&lt;dbl&gt;</th><th scope=col>&lt;dbl&gt;</th><th scope=col>&lt;dbl&gt;</th><th scope=col>&lt;dbl&gt;</th><th scope=col>&lt;dbl&gt;</th><th scope=col>&lt;dbl&gt;</th><th scope=col>&lt;chr&gt;</th></tr>\n",
       "</thead>\n",
       "<tbody>\n",
       "\t<tr><td>ENSG00000198417.7 </td><td>MT1F  </td><td>0.0001336562</td><td>-2.274482</td><td>691.972161</td><td>623.8611610</td><td>69.583381</td><td>98.77579</td><td>227.99541</td><td>146.39240</td><td>Down</td></tr>\n",
       "\t<tr><td>ENSG00000127399.15</td><td>LRRC61</td><td>0.0372859167</td><td>-7.605408</td><td> 41.577726</td><td> 28.1368175</td><td> 0.000000</td><td> 0.00000</td><td>  0.00000</td><td>  0.00000</td><td>Down</td></tr>\n",
       "\t<tr><td>ENSG00000102181.21</td><td>CD99L2</td><td>0.0259269852</td><td> 5.064411</td><td>  1.979892</td><td>  0.9702351</td><td>20.465700</td><td>61.04122</td><td> 58.52756</td><td> 56.93038</td><td>Up  </td></tr>\n",
       "\t<tr><td>ENSG00000162733.18</td><td>DDR2  </td><td>0.0259269852</td><td> 5.374731</td><td>  2.969838</td><td>  0.0000000</td><td> 9.209565</td><td>56.60186</td><td> 74.25138</td><td>104.82418</td><td>Up  </td></tr>\n",
       "</tbody>\n",
       "</table>\n"
      ],
      "text/latex": [
       "A data.frame: 4 × 11\n",
       "\\begin{tabular}{r|lllllllllll}\n",
       " gene\\_id & gene & padj & log2FoldChange & S01 & S02 & S03 & S04 & S05 & S06 & expression\\\\\n",
       " <chr> & <chr> & <dbl> & <dbl> & <dbl> & <dbl> & <dbl> & <dbl> & <dbl> & <dbl> & <chr>\\\\\n",
       "\\hline\n",
       "\t ENSG00000198417.7  & MT1F   & 0.0001336562 & -2.274482 & 691.972161 & 623.8611610 & 69.583381 & 98.77579 & 227.99541 & 146.39240 & Down\\\\\n",
       "\t ENSG00000127399.15 & LRRC61 & 0.0372859167 & -7.605408 &  41.577726 &  28.1368175 &  0.000000 &  0.00000 &   0.00000 &   0.00000 & Down\\\\\n",
       "\t ENSG00000102181.21 & CD99L2 & 0.0259269852 &  5.064411 &   1.979892 &   0.9702351 & 20.465700 & 61.04122 &  58.52756 &  56.93038 & Up  \\\\\n",
       "\t ENSG00000162733.18 & DDR2   & 0.0259269852 &  5.374731 &   2.969838 &   0.0000000 &  9.209565 & 56.60186 &  74.25138 & 104.82418 & Up  \\\\\n",
       "\\end{tabular}\n"
      ],
      "text/markdown": [
       "\n",
       "A data.frame: 4 × 11\n",
       "\n",
       "| gene_id &lt;chr&gt; | gene &lt;chr&gt; | padj &lt;dbl&gt; | log2FoldChange &lt;dbl&gt; | S01 &lt;dbl&gt; | S02 &lt;dbl&gt; | S03 &lt;dbl&gt; | S04 &lt;dbl&gt; | S05 &lt;dbl&gt; | S06 &lt;dbl&gt; | expression &lt;chr&gt; |\n",
       "|---|---|---|---|---|---|---|---|---|---|---|\n",
       "| ENSG00000198417.7  | MT1F   | 0.0001336562 | -2.274482 | 691.972161 | 623.8611610 | 69.583381 | 98.77579 | 227.99541 | 146.39240 | Down |\n",
       "| ENSG00000127399.15 | LRRC61 | 0.0372859167 | -7.605408 |  41.577726 |  28.1368175 |  0.000000 |  0.00000 |   0.00000 |   0.00000 | Down |\n",
       "| ENSG00000102181.21 | CD99L2 | 0.0259269852 |  5.064411 |   1.979892 |   0.9702351 | 20.465700 | 61.04122 |  58.52756 |  56.93038 | Up   |\n",
       "| ENSG00000162733.18 | DDR2   | 0.0259269852 |  5.374731 |   2.969838 |   0.0000000 |  9.209565 | 56.60186 |  74.25138 | 104.82418 | Up   |\n",
       "\n"
      ],
      "text/plain": [
       "  gene_id            gene   padj         log2FoldChange S01        S02        \n",
       "1 ENSG00000198417.7  MT1F   0.0001336562 -2.274482      691.972161 623.8611610\n",
       "2 ENSG00000127399.15 LRRC61 0.0372859167 -7.605408       41.577726  28.1368175\n",
       "3 ENSG00000102181.21 CD99L2 0.0259269852  5.064411        1.979892   0.9702351\n",
       "4 ENSG00000162733.18 DDR2   0.0259269852  5.374731        2.969838   0.0000000\n",
       "  S03       S04      S05       S06       expression\n",
       "1 69.583381 98.77579 227.99541 146.39240 Down      \n",
       "2  0.000000  0.00000   0.00000   0.00000 Down      \n",
       "3 20.465700 61.04122  58.52756  56.93038 Up        \n",
       "4  9.209565 56.60186  74.25138 104.82418 Up        "
      ]
     },
     "metadata": {},
     "output_type": "display_data"
    },
    {
     "data": {
      "text/html": [
       "<table>\n",
       "<caption>A data.frame: 4 × 11</caption>\n",
       "<thead>\n",
       "\t<tr><th scope=col>gene_id</th><th scope=col>gene</th><th scope=col>padj</th><th scope=col>log2FoldChange</th><th scope=col>S07</th><th scope=col>S08</th><th scope=col>S09</th><th scope=col>S10</th><th scope=col>S11</th><th scope=col>S12</th><th scope=col>expression</th></tr>\n",
       "\t<tr><th scope=col>&lt;chr&gt;</th><th scope=col>&lt;chr&gt;</th><th scope=col>&lt;dbl&gt;</th><th scope=col>&lt;dbl&gt;</th><th scope=col>&lt;dbl&gt;</th><th scope=col>&lt;dbl&gt;</th><th scope=col>&lt;dbl&gt;</th><th scope=col>&lt;dbl&gt;</th><th scope=col>&lt;dbl&gt;</th><th scope=col>&lt;dbl&gt;</th><th scope=col>&lt;chr&gt;</th></tr>\n",
       "</thead>\n",
       "<tbody>\n",
       "\t<tr><td>ENSG00000198417.7 </td><td>MT1F  </td><td>2.106300e-23</td><td>-2.9362387</td><td>1051.19197</td><td>996.11251</td><td>140.1709</td><td>169.7775</td><td>130.4375</td><td> 98.91823</td><td>Down     </td></tr>\n",
       "\t<tr><td>ENSG00000127399.15</td><td>LRRC61</td><td>2.635136e-02</td><td>-6.9561779</td><td>  29.51717</td><td> 19.53162</td><td>  0.0000</td><td>  0.0000</td><td>  0.0000</td><td>  0.00000</td><td>Down     </td></tr>\n",
       "\t<tr><td>ENSG00000102181.21</td><td>CD99L2</td><td>4.797799e-02</td><td>-0.8621321</td><td> 568.44348</td><td>453.41256</td><td>225.4211</td><td>254.6662</td><td>311.9631</td><td>330.55174</td><td>No Change</td></tr>\n",
       "\t<tr><td>ENSG00000162733.18</td><td>DDR2  </td><td>4.776201e-05</td><td> 2.0163605</td><td>  55.22567</td><td> 55.10706</td><td>205.7480</td><td>158.9406</td><td>218.4829</td><td>306.64650</td><td>Up       </td></tr>\n",
       "</tbody>\n",
       "</table>\n"
      ],
      "text/latex": [
       "A data.frame: 4 × 11\n",
       "\\begin{tabular}{r|lllllllllll}\n",
       " gene\\_id & gene & padj & log2FoldChange & S07 & S08 & S09 & S10 & S11 & S12 & expression\\\\\n",
       " <chr> & <chr> & <dbl> & <dbl> & <dbl> & <dbl> & <dbl> & <dbl> & <dbl> & <dbl> & <chr>\\\\\n",
       "\\hline\n",
       "\t ENSG00000198417.7  & MT1F   & 2.106300e-23 & -2.9362387 & 1051.19197 & 996.11251 & 140.1709 & 169.7775 & 130.4375 &  98.91823 & Down     \\\\\n",
       "\t ENSG00000127399.15 & LRRC61 & 2.635136e-02 & -6.9561779 &   29.51717 &  19.53162 &   0.0000 &   0.0000 &   0.0000 &   0.00000 & Down     \\\\\n",
       "\t ENSG00000102181.21 & CD99L2 & 4.797799e-02 & -0.8621321 &  568.44348 & 453.41256 & 225.4211 & 254.6662 & 311.9631 & 330.55174 & No Change\\\\\n",
       "\t ENSG00000162733.18 & DDR2   & 4.776201e-05 &  2.0163605 &   55.22567 &  55.10706 & 205.7480 & 158.9406 & 218.4829 & 306.64650 & Up       \\\\\n",
       "\\end{tabular}\n"
      ],
      "text/markdown": [
       "\n",
       "A data.frame: 4 × 11\n",
       "\n",
       "| gene_id &lt;chr&gt; | gene &lt;chr&gt; | padj &lt;dbl&gt; | log2FoldChange &lt;dbl&gt; | S07 &lt;dbl&gt; | S08 &lt;dbl&gt; | S09 &lt;dbl&gt; | S10 &lt;dbl&gt; | S11 &lt;dbl&gt; | S12 &lt;dbl&gt; | expression &lt;chr&gt; |\n",
       "|---|---|---|---|---|---|---|---|---|---|---|\n",
       "| ENSG00000198417.7  | MT1F   | 2.106300e-23 | -2.9362387 | 1051.19197 | 996.11251 | 140.1709 | 169.7775 | 130.4375 |  98.91823 | Down      |\n",
       "| ENSG00000127399.15 | LRRC61 | 2.635136e-02 | -6.9561779 |   29.51717 |  19.53162 |   0.0000 |   0.0000 |   0.0000 |   0.00000 | Down      |\n",
       "| ENSG00000102181.21 | CD99L2 | 4.797799e-02 | -0.8621321 |  568.44348 | 453.41256 | 225.4211 | 254.6662 | 311.9631 | 330.55174 | No Change |\n",
       "| ENSG00000162733.18 | DDR2   | 4.776201e-05 |  2.0163605 |   55.22567 |  55.10706 | 205.7480 | 158.9406 | 218.4829 | 306.64650 | Up        |\n",
       "\n"
      ],
      "text/plain": [
       "  gene_id            gene   padj         log2FoldChange S07        S08      \n",
       "1 ENSG00000198417.7  MT1F   2.106300e-23 -2.9362387     1051.19197 996.11251\n",
       "2 ENSG00000127399.15 LRRC61 2.635136e-02 -6.9561779       29.51717  19.53162\n",
       "3 ENSG00000102181.21 CD99L2 4.797799e-02 -0.8621321      568.44348 453.41256\n",
       "4 ENSG00000162733.18 DDR2   4.776201e-05  2.0163605       55.22567  55.10706\n",
       "  S09      S10      S11      S12       expression\n",
       "1 140.1709 169.7775 130.4375  98.91823 Down      \n",
       "2   0.0000   0.0000   0.0000   0.00000 Down      \n",
       "3 225.4211 254.6662 311.9631 330.55174 No Change \n",
       "4 205.7480 158.9406 218.4829 306.64650 Up        "
      ]
     },
     "metadata": {},
     "output_type": "display_data"
    }
   ],
   "source": [
    "sigGenes.ES %>% filter(gene %in% c('MT1F', 'LRRC61', 'CD99L2', 'DDR2'))\n",
    "sigGenes.D4 %>% filter(gene %in% c('MT1F', 'LRRC61', 'CD99L2', 'DDR2'))"
   ]
  },
  {
   "cell_type": "markdown",
   "metadata": {
    "heading_collapsed": true
   },
   "source": [
    "# Gene Ontology Enrichment Analysis"
   ]
  },
  {
   "cell_type": "code",
   "execution_count": 319,
   "metadata": {
    "ExecuteTime": {
     "end_time": "2019-09-11T23:48:57.800065Z",
     "start_time": "2019-09-11T23:48:57.750Z"
    },
    "hidden": true
   },
   "outputs": [],
   "source": [
    "library(readxl)"
   ]
  },
  {
   "cell_type": "code",
   "execution_count": 326,
   "metadata": {
    "ExecuteTime": {
     "end_time": "2019-09-12T01:34:38.672830Z",
     "start_time": "2019-09-12T01:34:38.542Z"
    },
    "hidden": true
   },
   "outputs": [],
   "source": [
    "D4.Dn.BioProc <- read_excel('TF_GO_Enrichment.xlsx', 'D4.Dn.BioProc')"
   ]
  },
  {
   "cell_type": "code",
   "execution_count": 359,
   "metadata": {
    "ExecuteTime": {
     "end_time": "2019-09-12T01:53:58.845089Z",
     "start_time": "2019-09-12T01:53:58.816Z"
    },
    "hidden": true
   },
   "outputs": [],
   "source": [
    "colnames(D4.Dn.BioProc) <- sapply(colnames(D4.Dn.BioProc), function(x) {str_replace_all(x, ' ', '.')}) %>% as.vector"
   ]
  },
  {
   "cell_type": "code",
   "execution_count": 360,
   "metadata": {
    "ExecuteTime": {
     "end_time": "2019-09-12T01:54:01.953889Z",
     "start_time": "2019-09-12T01:54:01.891Z"
    },
    "hidden": true
   },
   "outputs": [
    {
     "data": {
      "text/html": [
       "<table>\n",
       "<caption>A tibble: 6 × 5</caption>\n",
       "<thead>\n",
       "\t<tr><th scope=col>Enrichment.FDR</th><th scope=col>Genes.in.list</th><th scope=col>Total.genes</th><th scope=col>Functional.Category</th><th scope=col>Genes</th></tr>\n",
       "\t<tr><th scope=col>&lt;dbl&gt;</th><th scope=col>&lt;dbl&gt;</th><th scope=col>&lt;dbl&gt;</th><th scope=col>&lt;chr&gt;</th><th scope=col>&lt;chr&gt;</th></tr>\n",
       "</thead>\n",
       "<tbody>\n",
       "\t<tr><td>0.0001513147</td><td> 4</td><td>  14</td><td>Ectodermal placode development                           </td><td>NRP1 SIX4 SIX1 TBX3                                                                                                                                                     </td></tr>\n",
       "\t<tr><td>0.0001513147</td><td> 3</td><td>   4</td><td>Pattern specification involved in metanephros development</td><td>IRX1 IRX2 FOXD1                                                                                                                                                         </td></tr>\n",
       "\t<tr><td>0.0001850792</td><td>28</td><td>2474</td><td>Nervous system development                               </td><td>SYNGR3 CXCR4 NTRK3 CNTN4 ISL2 NLGN1 TNC HDAC9 NRP1 SEZ6L SIX4 HMGCS1 NRN1 SIX1 FGF13 TBX3 ASTN1 HOXB2 PENK RTN4RL1 RTN4RL2 DNER VWC2 NTNG2 FOXD1 ZNF804A PCDHB12 PCDHAC1</td></tr>\n",
       "\t<tr><td>0.0001850792</td><td> 8</td><td> 178</td><td>Muscle cell development                                  </td><td>SIX1 SIX4 TBX3 ACTC1 DNER MEGF10 HDAC9 AKAP6                                                                                                                            </td></tr>\n",
       "\t<tr><td>0.0001850792</td><td> 3</td><td>   5</td><td>Trigeminal ganglion development                          </td><td>NRP1 SIX4 SIX1                                                                                                                                                          </td></tr>\n",
       "\t<tr><td>0.0001910598</td><td> 4</td><td>  19</td><td>Nephron tubule formation                                 </td><td>SIX4 SIX1 IRX1 IRX2                                                                                                                                                     </td></tr>\n",
       "</tbody>\n",
       "</table>\n"
      ],
      "text/latex": [
       "A tibble: 6 × 5\n",
       "\\begin{tabular}{r|lllll}\n",
       " Enrichment.FDR & Genes.in.list & Total.genes & Functional.Category & Genes\\\\\n",
       " <dbl> & <dbl> & <dbl> & <chr> & <chr>\\\\\n",
       "\\hline\n",
       "\t 0.0001513147 &  4 &   14 & Ectodermal placode development                            & NRP1 SIX4 SIX1 TBX3                                                                                                                                                     \\\\\n",
       "\t 0.0001513147 &  3 &    4 & Pattern specification involved in metanephros development & IRX1 IRX2 FOXD1                                                                                                                                                         \\\\\n",
       "\t 0.0001850792 & 28 & 2474 & Nervous system development                                & SYNGR3 CXCR4 NTRK3 CNTN4 ISL2 NLGN1 TNC HDAC9 NRP1 SEZ6L SIX4 HMGCS1 NRN1 SIX1 FGF13 TBX3 ASTN1 HOXB2 PENK RTN4RL1 RTN4RL2 DNER VWC2 NTNG2 FOXD1 ZNF804A PCDHB12 PCDHAC1\\\\\n",
       "\t 0.0001850792 &  8 &  178 & Muscle cell development                                   & SIX1 SIX4 TBX3 ACTC1 DNER MEGF10 HDAC9 AKAP6                                                                                                                            \\\\\n",
       "\t 0.0001850792 &  3 &    5 & Trigeminal ganglion development                           & NRP1 SIX4 SIX1                                                                                                                                                          \\\\\n",
       "\t 0.0001910598 &  4 &   19 & Nephron tubule formation                                  & SIX4 SIX1 IRX1 IRX2                                                                                                                                                     \\\\\n",
       "\\end{tabular}\n"
      ],
      "text/markdown": [
       "\n",
       "A tibble: 6 × 5\n",
       "\n",
       "| Enrichment.FDR &lt;dbl&gt; | Genes.in.list &lt;dbl&gt; | Total.genes &lt;dbl&gt; | Functional.Category &lt;chr&gt; | Genes &lt;chr&gt; |\n",
       "|---|---|---|---|---|\n",
       "| 0.0001513147 |  4 |   14 | Ectodermal placode development                            | NRP1 SIX4 SIX1 TBX3                                                                                                                                                      |\n",
       "| 0.0001513147 |  3 |    4 | Pattern specification involved in metanephros development | IRX1 IRX2 FOXD1                                                                                                                                                          |\n",
       "| 0.0001850792 | 28 | 2474 | Nervous system development                                | SYNGR3 CXCR4 NTRK3 CNTN4 ISL2 NLGN1 TNC HDAC9 NRP1 SEZ6L SIX4 HMGCS1 NRN1 SIX1 FGF13 TBX3 ASTN1 HOXB2 PENK RTN4RL1 RTN4RL2 DNER VWC2 NTNG2 FOXD1 ZNF804A PCDHB12 PCDHAC1 |\n",
       "| 0.0001850792 |  8 |  178 | Muscle cell development                                   | SIX1 SIX4 TBX3 ACTC1 DNER MEGF10 HDAC9 AKAP6                                                                                                                             |\n",
       "| 0.0001850792 |  3 |    5 | Trigeminal ganglion development                           | NRP1 SIX4 SIX1                                                                                                                                                           |\n",
       "| 0.0001910598 |  4 |   19 | Nephron tubule formation                                  | SIX4 SIX1 IRX1 IRX2                                                                                                                                                      |\n",
       "\n"
      ],
      "text/plain": [
       "  Enrichment.FDR Genes.in.list Total.genes\n",
       "1 0.0001513147    4              14       \n",
       "2 0.0001513147    3               4       \n",
       "3 0.0001850792   28            2474       \n",
       "4 0.0001850792    8             178       \n",
       "5 0.0001850792    3               5       \n",
       "6 0.0001910598    4              19       \n",
       "  Functional.Category                                      \n",
       "1 Ectodermal placode development                           \n",
       "2 Pattern specification involved in metanephros development\n",
       "3 Nervous system development                               \n",
       "4 Muscle cell development                                  \n",
       "5 Trigeminal ganglion development                          \n",
       "6 Nephron tubule formation                                 \n",
       "  Genes                                                                                                                                                                   \n",
       "1 NRP1 SIX4 SIX1 TBX3                                                                                                                                                     \n",
       "2 IRX1 IRX2 FOXD1                                                                                                                                                         \n",
       "3 SYNGR3 CXCR4 NTRK3 CNTN4 ISL2 NLGN1 TNC HDAC9 NRP1 SEZ6L SIX4 HMGCS1 NRN1 SIX1 FGF13 TBX3 ASTN1 HOXB2 PENK RTN4RL1 RTN4RL2 DNER VWC2 NTNG2 FOXD1 ZNF804A PCDHB12 PCDHAC1\n",
       "4 SIX1 SIX4 TBX3 ACTC1 DNER MEGF10 HDAC9 AKAP6                                                                                                                            \n",
       "5 NRP1 SIX4 SIX1                                                                                                                                                          \n",
       "6 SIX4 SIX1 IRX1 IRX2                                                                                                                                                     "
      ]
     },
     "metadata": {},
     "output_type": "display_data"
    },
    {
     "data": {
      "text/html": [
       "<ol class=list-inline>\n",
       "\t<li>'Enrichment.FDR'</li>\n",
       "\t<li>'Genes.in.list'</li>\n",
       "\t<li>'Total.genes'</li>\n",
       "\t<li>'Functional.Category'</li>\n",
       "\t<li>'Genes'</li>\n",
       "</ol>\n"
      ],
      "text/latex": [
       "\\begin{enumerate*}\n",
       "\\item 'Enrichment.FDR'\n",
       "\\item 'Genes.in.list'\n",
       "\\item 'Total.genes'\n",
       "\\item 'Functional.Category'\n",
       "\\item 'Genes'\n",
       "\\end{enumerate*}\n"
      ],
      "text/markdown": [
       "1. 'Enrichment.FDR'\n",
       "2. 'Genes.in.list'\n",
       "3. 'Total.genes'\n",
       "4. 'Functional.Category'\n",
       "5. 'Genes'\n",
       "\n",
       "\n"
      ],
      "text/plain": [
       "[1] \"Enrichment.FDR\"      \"Genes.in.list\"       \"Total.genes\"        \n",
       "[4] \"Functional.Category\" \"Genes\"              "
      ]
     },
     "metadata": {},
     "output_type": "display_data"
    }
   ],
   "source": [
    "D4.Dn.BioProc %>% head\n",
    "D4.Dn.BioProc %>% colnames"
   ]
  },
  {
   "cell_type": "code",
   "execution_count": 476,
   "metadata": {
    "ExecuteTime": {
     "end_time": "2019-09-12T02:57:29.952058Z",
     "start_time": "2019-09-12T02:57:29.918Z"
    },
    "hidden": true
   },
   "outputs": [],
   "source": [
    "categories.keep <- c('Ectodermal placode development', 'Pattern specification involved in metanephros development', 'Nervous system development', 'Synapse organization', 'Neurogenesis', 'Generation of neurons', 'Developmental growth involved in morphogenesis',\n",
    "                    'Axon development', 'Cell development', 'Regulation of neuron differentiation', 'Tube morphogenesis')"
   ]
  },
  {
   "cell_type": "code",
   "execution_count": 477,
   "metadata": {
    "ExecuteTime": {
     "end_time": "2019-09-12T02:57:34.638823Z",
     "start_time": "2019-09-12T02:57:34.586Z"
    },
    "hidden": true
   },
   "outputs": [
    {
     "data": {
      "text/html": [
       "<table>\n",
       "<caption>A tibble: 20 × 5</caption>\n",
       "<thead>\n",
       "\t<tr><th scope=col>Enrichment.FDR</th><th scope=col>Genes.in.list</th><th scope=col>Total.genes</th><th scope=col>Functional.Category</th><th scope=col>Genes</th></tr>\n",
       "\t<tr><th scope=col>&lt;dbl&gt;</th><th scope=col>&lt;dbl&gt;</th><th scope=col>&lt;dbl&gt;</th><th scope=col>&lt;chr&gt;</th><th scope=col>&lt;chr&gt;</th></tr>\n",
       "</thead>\n",
       "<tbody>\n",
       "\t<tr><td>0.0001513147</td><td> 4</td><td>  14</td><td>Ectodermal placode development                           </td><td>NRP1 SIX4 SIX1 TBX3                                                                                                                                                     </td></tr>\n",
       "\t<tr><td>0.0001513147</td><td> 3</td><td>   4</td><td>Pattern specification involved in metanephros development</td><td>IRX1 IRX2 FOXD1                                                                                                                                                         </td></tr>\n",
       "\t<tr><td>0.0001850792</td><td>28</td><td>2474</td><td>Nervous system development                               </td><td>SYNGR3 CXCR4 NTRK3 CNTN4 ISL2 NLGN1 TNC HDAC9 NRP1 SEZ6L SIX4 HMGCS1 NRN1 SIX1 FGF13 TBX3 ASTN1 HOXB2 PENK RTN4RL1 RTN4RL2 DNER VWC2 NTNG2 FOXD1 ZNF804A PCDHB12 PCDHAC1</td></tr>\n",
       "\t<tr><td>0.0001850792</td><td> 8</td><td> 178</td><td>Muscle cell development                                  </td><td>SIX1 SIX4 TBX3 ACTC1 DNER MEGF10 HDAC9 AKAP6                                                                                                                            </td></tr>\n",
       "\t<tr><td>0.0001850792</td><td> 3</td><td>   5</td><td>Trigeminal ganglion development                          </td><td>NRP1 SIX4 SIX1                                                                                                                                                          </td></tr>\n",
       "\t<tr><td>0.0001910598</td><td> 4</td><td>  19</td><td>Nephron tubule formation                                 </td><td>SIX4 SIX1 IRX1 IRX2                                                                                                                                                     </td></tr>\n",
       "\t<tr><td>0.0002148396</td><td> 3</td><td>   6</td><td>Cranial ganglion development                             </td><td>NRP1 SIX4 SIX1                                                                                                                                                          </td></tr>\n",
       "\t<tr><td>0.0002890158</td><td>11</td><td> 434</td><td>Synapse organization                                     </td><td>NLGN1 TNC NRP1 SEZ6L SIX4 SIX1 NTRK3 ZNF804A SNCG NTNG2 DNER                                                                                                            </td></tr>\n",
       "\t<tr><td>0.0005390154</td><td>21</td><td>1683</td><td>Neurogenesis                                             </td><td>CXCR4 NTRK3 CNTN4 ISL2 NLGN1 TNC HDAC9 NRP1 SIX4 NRN1 SIX1 ASTN1 PENK RTN4RL1 RTN4RL2 DNER VWC2 NTNG2 FOXD1 ZNF804A FGF13                                               </td></tr>\n",
       "\t<tr><td>0.0005390154</td><td> 7</td><td> 164</td><td>Striated muscle cell development                         </td><td>SIX1 SIX4 TBX3 ACTC1 DNER HDAC9 AKAP6                                                                                                                                   </td></tr>\n",
       "\t<tr><td>0.0005390154</td><td> 3</td><td>   9</td><td>Pattern specification involved in kidney development     </td><td>IRX1 IRX2 FOXD1                                                                                                                                                         </td></tr>\n",
       "\t<tr><td>0.0005390154</td><td> 3</td><td>   9</td><td>Renal system pattern specification                       </td><td>IRX1 IRX2 FOXD1                                                                                                                                                         </td></tr>\n",
       "\t<tr><td>0.0006080073</td><td>20</td><td>1575</td><td>Generation of neurons                                    </td><td>NTRK3 CNTN4 ISL2 NLGN1 TNC HDAC9 NRP1 SIX4 CXCR4 NRN1 SIX1 ASTN1 RTN4RL1 RTN4RL2 VWC2 NTNG2 FOXD1 ZNF804A FGF13 DNER                                                    </td></tr>\n",
       "\t<tr><td>0.0006080073</td><td> 8</td><td> 240</td><td>Developmental growth involved in morphogenesis           </td><td>TNC NRP1 SIX4 CXCR4 NRN1 SIX1 NTRK3 FGF13                                                                                                                               </td></tr>\n",
       "\t<tr><td>0.0007187035</td><td> 3</td><td>  11</td><td>Facial nerve development                                 </td><td>NRP1 SIX1 HOXB2                                                                                                                                                         </td></tr>\n",
       "\t<tr><td>0.0007187035</td><td> 3</td><td>  11</td><td>Facial nerve morphogenesis                               </td><td>NRP1 SIX1 HOXB2                                                                                                                                                         </td></tr>\n",
       "\t<tr><td>0.0007187035</td><td>11</td><td> 517</td><td>Axon development                                         </td><td>CNTN4 ISL2 TNC NRP1 NTRK3 RTN4RL1 NTNG2 FOXD1 FGF13 CXCR4 RTN4RL2                                                                                                       </td></tr>\n",
       "\t<tr><td>0.0007688857</td><td>24</td><td>2230</td><td>Cell development                                         </td><td>SIX1 NTRK3 CNTN4 ISL2 NLGN1 TNC NRP1 SIX4 CXCR4 NRN1 TBX3 ACTC1 MAF RTN4RL1 RTN4RL2 DNER VWC2 NTNG2 FOXD1 ZNF804A MEGF10 HDAC9 FGF13 AKAP6                              </td></tr>\n",
       "\t<tr><td>0.0007947642</td><td>14</td><td> 860</td><td>Tube morphogenesis                                       </td><td>BMPER TNC NRP1 SIX4 CXCR4 SIX1 TBX3 CYP1B1 ACKR3 IRX1 IRX2 PLCD1 FOXD1 HDAC9                                                                                            </td></tr>\n",
       "\t<tr><td>0.0007947642</td><td> 9</td><td> 344</td><td>Epithelial tube morphogenesis                            </td><td>TNC NRP1 SIX4 CXCR4 SIX1 TBX3 IRX1 IRX2 FOXD1                                                                                                                           </td></tr>\n",
       "</tbody>\n",
       "</table>\n"
      ],
      "text/latex": [
       "A tibble: 20 × 5\n",
       "\\begin{tabular}{r|lllll}\n",
       " Enrichment.FDR & Genes.in.list & Total.genes & Functional.Category & Genes\\\\\n",
       " <dbl> & <dbl> & <dbl> & <chr> & <chr>\\\\\n",
       "\\hline\n",
       "\t 0.0001513147 &  4 &   14 & Ectodermal placode development                            & NRP1 SIX4 SIX1 TBX3                                                                                                                                                     \\\\\n",
       "\t 0.0001513147 &  3 &    4 & Pattern specification involved in metanephros development & IRX1 IRX2 FOXD1                                                                                                                                                         \\\\\n",
       "\t 0.0001850792 & 28 & 2474 & Nervous system development                                & SYNGR3 CXCR4 NTRK3 CNTN4 ISL2 NLGN1 TNC HDAC9 NRP1 SEZ6L SIX4 HMGCS1 NRN1 SIX1 FGF13 TBX3 ASTN1 HOXB2 PENK RTN4RL1 RTN4RL2 DNER VWC2 NTNG2 FOXD1 ZNF804A PCDHB12 PCDHAC1\\\\\n",
       "\t 0.0001850792 &  8 &  178 & Muscle cell development                                   & SIX1 SIX4 TBX3 ACTC1 DNER MEGF10 HDAC9 AKAP6                                                                                                                            \\\\\n",
       "\t 0.0001850792 &  3 &    5 & Trigeminal ganglion development                           & NRP1 SIX4 SIX1                                                                                                                                                          \\\\\n",
       "\t 0.0001910598 &  4 &   19 & Nephron tubule formation                                  & SIX4 SIX1 IRX1 IRX2                                                                                                                                                     \\\\\n",
       "\t 0.0002148396 &  3 &    6 & Cranial ganglion development                              & NRP1 SIX4 SIX1                                                                                                                                                          \\\\\n",
       "\t 0.0002890158 & 11 &  434 & Synapse organization                                      & NLGN1 TNC NRP1 SEZ6L SIX4 SIX1 NTRK3 ZNF804A SNCG NTNG2 DNER                                                                                                            \\\\\n",
       "\t 0.0005390154 & 21 & 1683 & Neurogenesis                                              & CXCR4 NTRK3 CNTN4 ISL2 NLGN1 TNC HDAC9 NRP1 SIX4 NRN1 SIX1 ASTN1 PENK RTN4RL1 RTN4RL2 DNER VWC2 NTNG2 FOXD1 ZNF804A FGF13                                               \\\\\n",
       "\t 0.0005390154 &  7 &  164 & Striated muscle cell development                          & SIX1 SIX4 TBX3 ACTC1 DNER HDAC9 AKAP6                                                                                                                                   \\\\\n",
       "\t 0.0005390154 &  3 &    9 & Pattern specification involved in kidney development      & IRX1 IRX2 FOXD1                                                                                                                                                         \\\\\n",
       "\t 0.0005390154 &  3 &    9 & Renal system pattern specification                        & IRX1 IRX2 FOXD1                                                                                                                                                         \\\\\n",
       "\t 0.0006080073 & 20 & 1575 & Generation of neurons                                     & NTRK3 CNTN4 ISL2 NLGN1 TNC HDAC9 NRP1 SIX4 CXCR4 NRN1 SIX1 ASTN1 RTN4RL1 RTN4RL2 VWC2 NTNG2 FOXD1 ZNF804A FGF13 DNER                                                    \\\\\n",
       "\t 0.0006080073 &  8 &  240 & Developmental growth involved in morphogenesis            & TNC NRP1 SIX4 CXCR4 NRN1 SIX1 NTRK3 FGF13                                                                                                                               \\\\\n",
       "\t 0.0007187035 &  3 &   11 & Facial nerve development                                  & NRP1 SIX1 HOXB2                                                                                                                                                         \\\\\n",
       "\t 0.0007187035 &  3 &   11 & Facial nerve morphogenesis                                & NRP1 SIX1 HOXB2                                                                                                                                                         \\\\\n",
       "\t 0.0007187035 & 11 &  517 & Axon development                                          & CNTN4 ISL2 TNC NRP1 NTRK3 RTN4RL1 NTNG2 FOXD1 FGF13 CXCR4 RTN4RL2                                                                                                       \\\\\n",
       "\t 0.0007688857 & 24 & 2230 & Cell development                                          & SIX1 NTRK3 CNTN4 ISL2 NLGN1 TNC NRP1 SIX4 CXCR4 NRN1 TBX3 ACTC1 MAF RTN4RL1 RTN4RL2 DNER VWC2 NTNG2 FOXD1 ZNF804A MEGF10 HDAC9 FGF13 AKAP6                              \\\\\n",
       "\t 0.0007947642 & 14 &  860 & Tube morphogenesis                                        & BMPER TNC NRP1 SIX4 CXCR4 SIX1 TBX3 CYP1B1 ACKR3 IRX1 IRX2 PLCD1 FOXD1 HDAC9                                                                                            \\\\\n",
       "\t 0.0007947642 &  9 &  344 & Epithelial tube morphogenesis                             & TNC NRP1 SIX4 CXCR4 SIX1 TBX3 IRX1 IRX2 FOXD1                                                                                                                           \\\\\n",
       "\\end{tabular}\n"
      ],
      "text/markdown": [
       "\n",
       "A tibble: 20 × 5\n",
       "\n",
       "| Enrichment.FDR &lt;dbl&gt; | Genes.in.list &lt;dbl&gt; | Total.genes &lt;dbl&gt; | Functional.Category &lt;chr&gt; | Genes &lt;chr&gt; |\n",
       "|---|---|---|---|---|\n",
       "| 0.0001513147 |  4 |   14 | Ectodermal placode development                            | NRP1 SIX4 SIX1 TBX3                                                                                                                                                      |\n",
       "| 0.0001513147 |  3 |    4 | Pattern specification involved in metanephros development | IRX1 IRX2 FOXD1                                                                                                                                                          |\n",
       "| 0.0001850792 | 28 | 2474 | Nervous system development                                | SYNGR3 CXCR4 NTRK3 CNTN4 ISL2 NLGN1 TNC HDAC9 NRP1 SEZ6L SIX4 HMGCS1 NRN1 SIX1 FGF13 TBX3 ASTN1 HOXB2 PENK RTN4RL1 RTN4RL2 DNER VWC2 NTNG2 FOXD1 ZNF804A PCDHB12 PCDHAC1 |\n",
       "| 0.0001850792 |  8 |  178 | Muscle cell development                                   | SIX1 SIX4 TBX3 ACTC1 DNER MEGF10 HDAC9 AKAP6                                                                                                                             |\n",
       "| 0.0001850792 |  3 |    5 | Trigeminal ganglion development                           | NRP1 SIX4 SIX1                                                                                                                                                           |\n",
       "| 0.0001910598 |  4 |   19 | Nephron tubule formation                                  | SIX4 SIX1 IRX1 IRX2                                                                                                                                                      |\n",
       "| 0.0002148396 |  3 |    6 | Cranial ganglion development                              | NRP1 SIX4 SIX1                                                                                                                                                           |\n",
       "| 0.0002890158 | 11 |  434 | Synapse organization                                      | NLGN1 TNC NRP1 SEZ6L SIX4 SIX1 NTRK3 ZNF804A SNCG NTNG2 DNER                                                                                                             |\n",
       "| 0.0005390154 | 21 | 1683 | Neurogenesis                                              | CXCR4 NTRK3 CNTN4 ISL2 NLGN1 TNC HDAC9 NRP1 SIX4 NRN1 SIX1 ASTN1 PENK RTN4RL1 RTN4RL2 DNER VWC2 NTNG2 FOXD1 ZNF804A FGF13                                                |\n",
       "| 0.0005390154 |  7 |  164 | Striated muscle cell development                          | SIX1 SIX4 TBX3 ACTC1 DNER HDAC9 AKAP6                                                                                                                                    |\n",
       "| 0.0005390154 |  3 |    9 | Pattern specification involved in kidney development      | IRX1 IRX2 FOXD1                                                                                                                                                          |\n",
       "| 0.0005390154 |  3 |    9 | Renal system pattern specification                        | IRX1 IRX2 FOXD1                                                                                                                                                          |\n",
       "| 0.0006080073 | 20 | 1575 | Generation of neurons                                     | NTRK3 CNTN4 ISL2 NLGN1 TNC HDAC9 NRP1 SIX4 CXCR4 NRN1 SIX1 ASTN1 RTN4RL1 RTN4RL2 VWC2 NTNG2 FOXD1 ZNF804A FGF13 DNER                                                     |\n",
       "| 0.0006080073 |  8 |  240 | Developmental growth involved in morphogenesis            | TNC NRP1 SIX4 CXCR4 NRN1 SIX1 NTRK3 FGF13                                                                                                                                |\n",
       "| 0.0007187035 |  3 |   11 | Facial nerve development                                  | NRP1 SIX1 HOXB2                                                                                                                                                          |\n",
       "| 0.0007187035 |  3 |   11 | Facial nerve morphogenesis                                | NRP1 SIX1 HOXB2                                                                                                                                                          |\n",
       "| 0.0007187035 | 11 |  517 | Axon development                                          | CNTN4 ISL2 TNC NRP1 NTRK3 RTN4RL1 NTNG2 FOXD1 FGF13 CXCR4 RTN4RL2                                                                                                        |\n",
       "| 0.0007688857 | 24 | 2230 | Cell development                                          | SIX1 NTRK3 CNTN4 ISL2 NLGN1 TNC NRP1 SIX4 CXCR4 NRN1 TBX3 ACTC1 MAF RTN4RL1 RTN4RL2 DNER VWC2 NTNG2 FOXD1 ZNF804A MEGF10 HDAC9 FGF13 AKAP6                               |\n",
       "| 0.0007947642 | 14 |  860 | Tube morphogenesis                                        | BMPER TNC NRP1 SIX4 CXCR4 SIX1 TBX3 CYP1B1 ACKR3 IRX1 IRX2 PLCD1 FOXD1 HDAC9                                                                                             |\n",
       "| 0.0007947642 |  9 |  344 | Epithelial tube morphogenesis                             | TNC NRP1 SIX4 CXCR4 SIX1 TBX3 IRX1 IRX2 FOXD1                                                                                                                            |\n",
       "\n"
      ],
      "text/plain": [
       "   Enrichment.FDR Genes.in.list Total.genes\n",
       "1  0.0001513147    4              14       \n",
       "2  0.0001513147    3               4       \n",
       "3  0.0001850792   28            2474       \n",
       "4  0.0001850792    8             178       \n",
       "5  0.0001850792    3               5       \n",
       "6  0.0001910598    4              19       \n",
       "7  0.0002148396    3               6       \n",
       "8  0.0002890158   11             434       \n",
       "9  0.0005390154   21            1683       \n",
       "10 0.0005390154    7             164       \n",
       "11 0.0005390154    3               9       \n",
       "12 0.0005390154    3               9       \n",
       "13 0.0006080073   20            1575       \n",
       "14 0.0006080073    8             240       \n",
       "15 0.0007187035    3              11       \n",
       "16 0.0007187035    3              11       \n",
       "17 0.0007187035   11             517       \n",
       "18 0.0007688857   24            2230       \n",
       "19 0.0007947642   14             860       \n",
       "20 0.0007947642    9             344       \n",
       "   Functional.Category                                      \n",
       "1  Ectodermal placode development                           \n",
       "2  Pattern specification involved in metanephros development\n",
       "3  Nervous system development                               \n",
       "4  Muscle cell development                                  \n",
       "5  Trigeminal ganglion development                          \n",
       "6  Nephron tubule formation                                 \n",
       "7  Cranial ganglion development                             \n",
       "8  Synapse organization                                     \n",
       "9  Neurogenesis                                             \n",
       "10 Striated muscle cell development                         \n",
       "11 Pattern specification involved in kidney development     \n",
       "12 Renal system pattern specification                       \n",
       "13 Generation of neurons                                    \n",
       "14 Developmental growth involved in morphogenesis           \n",
       "15 Facial nerve development                                 \n",
       "16 Facial nerve morphogenesis                               \n",
       "17 Axon development                                         \n",
       "18 Cell development                                         \n",
       "19 Tube morphogenesis                                       \n",
       "20 Epithelial tube morphogenesis                            \n",
       "   Genes                                                                                                                                                                   \n",
       "1  NRP1 SIX4 SIX1 TBX3                                                                                                                                                     \n",
       "2  IRX1 IRX2 FOXD1                                                                                                                                                         \n",
       "3  SYNGR3 CXCR4 NTRK3 CNTN4 ISL2 NLGN1 TNC HDAC9 NRP1 SEZ6L SIX4 HMGCS1 NRN1 SIX1 FGF13 TBX3 ASTN1 HOXB2 PENK RTN4RL1 RTN4RL2 DNER VWC2 NTNG2 FOXD1 ZNF804A PCDHB12 PCDHAC1\n",
       "4  SIX1 SIX4 TBX3 ACTC1 DNER MEGF10 HDAC9 AKAP6                                                                                                                            \n",
       "5  NRP1 SIX4 SIX1                                                                                                                                                          \n",
       "6  SIX4 SIX1 IRX1 IRX2                                                                                                                                                     \n",
       "7  NRP1 SIX4 SIX1                                                                                                                                                          \n",
       "8  NLGN1 TNC NRP1 SEZ6L SIX4 SIX1 NTRK3 ZNF804A SNCG NTNG2 DNER                                                                                                            \n",
       "9  CXCR4 NTRK3 CNTN4 ISL2 NLGN1 TNC HDAC9 NRP1 SIX4 NRN1 SIX1 ASTN1 PENK RTN4RL1 RTN4RL2 DNER VWC2 NTNG2 FOXD1 ZNF804A FGF13                                               \n",
       "10 SIX1 SIX4 TBX3 ACTC1 DNER HDAC9 AKAP6                                                                                                                                   \n",
       "11 IRX1 IRX2 FOXD1                                                                                                                                                         \n",
       "12 IRX1 IRX2 FOXD1                                                                                                                                                         \n",
       "13 NTRK3 CNTN4 ISL2 NLGN1 TNC HDAC9 NRP1 SIX4 CXCR4 NRN1 SIX1 ASTN1 RTN4RL1 RTN4RL2 VWC2 NTNG2 FOXD1 ZNF804A FGF13 DNER                                                    \n",
       "14 TNC NRP1 SIX4 CXCR4 NRN1 SIX1 NTRK3 FGF13                                                                                                                               \n",
       "15 NRP1 SIX1 HOXB2                                                                                                                                                         \n",
       "16 NRP1 SIX1 HOXB2                                                                                                                                                         \n",
       "17 CNTN4 ISL2 TNC NRP1 NTRK3 RTN4RL1 NTNG2 FOXD1 FGF13 CXCR4 RTN4RL2                                                                                                       \n",
       "18 SIX1 NTRK3 CNTN4 ISL2 NLGN1 TNC NRP1 SIX4 CXCR4 NRN1 TBX3 ACTC1 MAF RTN4RL1 RTN4RL2 DNER VWC2 NTNG2 FOXD1 ZNF804A MEGF10 HDAC9 FGF13 AKAP6                              \n",
       "19 BMPER TNC NRP1 SIX4 CXCR4 SIX1 TBX3 CYP1B1 ACKR3 IRX1 IRX2 PLCD1 FOXD1 HDAC9                                                                                            \n",
       "20 TNC NRP1 SIX4 CXCR4 SIX1 TBX3 IRX1 IRX2 FOXD1                                                                                                                           "
      ]
     },
     "metadata": {},
     "output_type": "display_data"
    }
   ],
   "source": [
    "D4.Dn.BioProc %>% head(20)"
   ]
  },
  {
   "cell_type": "code",
   "execution_count": null,
   "metadata": {
    "hidden": true
   },
   "outputs": [],
   "source": []
  },
  {
   "cell_type": "code",
   "execution_count": 492,
   "metadata": {
    "ExecuteTime": {
     "end_time": "2019-09-12T03:04:34.442640Z",
     "start_time": "2019-09-12T03:04:34.150Z"
    },
    "hidden": true
   },
   "outputs": [
    {
     "data": {
      "image/png": "[encoded data removed]",
      "text/plain": [
       "plot without title"
      ]
     },
     "metadata": {},
     "output_type": "display_data"
    }
   ],
   "source": [
    "D4.Dn.BioProc %>% filter(Functional.Category %in% categories.keep) %>%\n",
    "    ggplot(aes(x=reorder(Functional.Category, Enrichment.FDR), y=-log10(Enrichment.FDR))) + theme_classic() + geom_bar(stat='identity', fill='lightblue2') + coord_flip() +\n",
    "            geom_text(aes(label=paste0(Functional.Category, ' (', Genes.in.list, ' genes)')), hjust=1.1) + \n",
    "            labs(title=\"Gene Ontology Enrichment\", x=\"Biological Process\", y=\"-log10 FDR\", subtitle='Day 4 - ZBTB18 KO Down Regulated Genes') +\n",
    "            theme(axis.text.y = element_blank(), axis.ticks.y = element_blank(), axis.text.x = element_text(size=20, face = 'bold'),\n",
    "                  axis.title.x = element_text(size=20, face='bold'), axis.title.y = element_text(size=20, face='bold'), \n",
    "                  plot.title = element_text(size=20, face='bold'), plot.subtitle = element_text(size=14, face='italic')) \n",
    "            "
   ]
  },
  {
   "cell_type": "code",
   "execution_count": 523,
   "metadata": {
    "ExecuteTime": {
     "end_time": "2019-09-12T03:21:38.036064Z",
     "start_time": "2019-09-12T03:21:37.713Z"
    },
    "hidden": true
   },
   "outputs": [
    {
     "data": {
      "image/png": "[encoded data removed]",
      "text/plain": [
       "plot without title"
      ]
     },
     "metadata": {},
     "output_type": "display_data"
    }
   ],
   "source": [
    "D4.Dn.BioProc %>% top_n(10, Genes.in.list) %>%\n",
    "    ggplot(aes(x=reorder(Functional.Category, -Genes.in.list), y=Genes.in.list)) + theme_classic() + geom_bar(stat='identity', fill='lightblue2') + coord_flip() +\n",
    "            geom_text(aes(label=paste0(Functional.Category, \"\\n(FDR: \", formatC(Enrichment.FDR, format = 'e', digits=0), ')')), hjust=1, size=3) + \n",
    "            labs(title=\"Gene Ontology Enrichment\", x=\"Biological Process\", y=\"Number of Genes\", subtitle='Day 4 - ZBTB18 KO Down Regulated Genes') +\n",
    "            theme(axis.text.y = element_blank(), axis.ticks.y = element_blank(), axis.text.x = element_text(size=20, face = 'bold'),\n",
    "                  axis.title.x = element_text(size=20, face='bold'), axis.title.y = element_text(size=20, face='bold'), \n",
    "                  plot.title = element_text(size=20, face='bold'), plot.subtitle = element_text(size=14, face='italic')) \n",
    "            "
   ]
  },
  {
   "cell_type": "markdown",
   "metadata": {
    "hidden": true
   },
   "source": [
    "## ES"
   ]
  },
  {
   "cell_type": "code",
   "execution_count": null,
   "metadata": {
    "hidden": true
   },
   "outputs": [],
   "source": []
  },
  {
   "cell_type": "markdown",
   "metadata": {
    "hidden": true
   },
   "source": [
    "## Day 4"
   ]
  },
  {
   "cell_type": "code",
   "execution_count": null,
   "metadata": {
    "hidden": true
   },
   "outputs": [],
   "source": []
  },
  {
   "cell_type": "code",
   "execution_count": null,
   "metadata": {
    "hidden": true
   },
   "outputs": [],
   "source": []
  },
  {
   "cell_type": "code",
   "execution_count": null,
   "metadata": {
    "hidden": true
   },
   "outputs": [],
   "source": []
  },
  {
   "cell_type": "markdown",
   "metadata": {},
   "source": [
    "# Other"
   ]
  },
  {
   "cell_type": "code",
   "execution_count": 955,
   "metadata": {
    "ExecuteTime": {
     "end_time": "2019-09-06T17:44:37.001690Z",
     "start_time": "2019-09-06T17:44:35.977Z"
    }
   },
   "outputs": [
    {
     "ename": "ERROR",
     "evalue": "Error in cbind.fill(., tf.heatmap.genes.3d): could not find function \"cbind.fill\"\n",
     "output_type": "error",
     "traceback": [
      "Error in cbind.fill(., tf.heatmap.genes.3d): could not find function \"cbind.fill\"\nTraceback:\n",
      "1. data.frame(tf.heatmap.genes.3e) %>% cbind.fill(tf.heatmap.genes.3d)",
      "2. withVisible(eval(quote(`_fseq`(`_lhs`)), env, env))",
      "3. eval(quote(`_fseq`(`_lhs`)), env, env)",
      "4. eval(quote(`_fseq`(`_lhs`)), env, env)",
      "5. `_fseq`(`_lhs`)",
      "6. freduce(value, `_function_list`)",
      "7. withVisible(function_list[[k]](value))",
      "8. function_list[[k]](value)"
     ]
    }
   ],
   "source": [
    "data.frame(tf.heatmap.genes.3e) %>% cbind.fill(tf.heatmap.genes.3d)"
   ]
  },
  {
   "cell_type": "code",
   "execution_count": 956,
   "metadata": {
    "ExecuteTime": {
     "end_time": "2019-09-06T17:45:36.340534Z",
     "start_time": "2019-09-06T17:45:34.764Z"
    }
   },
   "outputs": [],
   "source": [
    "?rbind.fill"
   ]
  }
 ],
 "metadata": {
  "kernelspec": {
   "display_name": "R",
   "language": "R",
   "name": "ir"
  },
  "language_info": {
   "codemirror_mode": "r",
   "file_extension": ".r",
   "mimetype": "text/x-r-source",
   "name": "R",
   "pygments_lexer": "r",
   "version": "3.6.1"
  },
  "toc": {
   "base_numbering": 1,
   "nav_menu": {},
   "number_sections": true,
   "sideBar": true,
   "skip_h1_title": false,
   "title_cell": "Table of Contents",
   "title_sidebar": "Contents",
   "toc_cell": false,
   "toc_position": {},
   "toc_section_display": true,
   "toc_window_display": false
  }
 },
 "nbformat": 4,
 "nbformat_minor": 2
}
