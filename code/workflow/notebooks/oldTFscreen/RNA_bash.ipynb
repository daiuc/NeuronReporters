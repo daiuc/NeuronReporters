{
 "cells": [
  {
   "cell_type": "markdown",
   "metadata": {},
   "source": [
    "TASK: get the reads stats for both batches of reads"
   ]
  },
  {
   "cell_type": "markdown",
   "metadata": {},
   "source": [
    "First batch: H2HY7BGXC\n",
    "\n",
    "Second batch: HFJM7BGXC"
   ]
  },
  {
   "cell_type": "markdown",
   "metadata": {},
   "source": [
    "### First batch"
   ]
  },
  {
   "cell_type": "code",
   "execution_count": 90,
   "metadata": {
    "ExecuteTime": {
     "end_time": "2019-08-26T16:22:08.807101Z",
     "start_time": "2019-08-26T16:22:08.683410Z"
    }
   },
   "outputs": [],
   "source": [
    "cd /gpfs/commons/groups/sanjana_lab/cdai/TFscreen/data/H2HY7BGXC"
   ]
  },
  {
   "cell_type": "code",
   "execution_count": 91,
   "metadata": {},
   "outputs": [],
   "source": [
    "cp read_stats_H2HY7BGXC.txt ../../syncClusterCloud"
   ]
  },
  {
   "cell_type": "code",
   "execution_count": 92,
   "metadata": {},
   "outputs": [],
   "source": [
    "../../syncDropbox"
   ]
  },
  {
   "cell_type": "code",
   "execution_count": 69,
   "metadata": {
    "ExecuteTime": {
     "end_time": "2019-08-26T16:22:59.712082Z",
     "start_time": "2019-08-26T16:22:59.597535Z"
    }
   },
   "outputs": [
    {
     "name": "stdout",
     "output_type": "stream",
     "text": [
      "\u001b[0m\u001b[38;5;34mLogs/H2HY7BGXC_n01_S01.Log.final.out\u001b[0m  \u001b[38;5;34mLogs/H2HY7BGXC_n01_S12.Log.final.out\u001b[0m\n",
      "\u001b[38;5;34mLogs/H2HY7BGXC_n01_S02.Log.final.out\u001b[0m  \u001b[38;5;34mLogs/H2HY7BGXC_n01_S13.Log.final.out\u001b[0m\n",
      "\u001b[38;5;34mLogs/H2HY7BGXC_n01_S03.Log.final.out\u001b[0m  \u001b[38;5;34mLogs/H2HY7BGXC_n01_S14.Log.final.out\u001b[0m\n",
      "\u001b[38;5;34mLogs/H2HY7BGXC_n01_S04.Log.final.out\u001b[0m  \u001b[38;5;34mLogs/H2HY7BGXC_n01_S15.Log.final.out\u001b[0m\n",
      "\u001b[38;5;34mLogs/H2HY7BGXC_n01_S05.Log.final.out\u001b[0m  \u001b[38;5;34mLogs/H2HY7BGXC_n01_S16.Log.final.out\u001b[0m\n",
      "\u001b[38;5;34mLogs/H2HY7BGXC_n01_S06.Log.final.out\u001b[0m  \u001b[38;5;34mLogs/H2HY7BGXC_n01_S17.Log.final.out\u001b[0m\n",
      "\u001b[38;5;34mLogs/H2HY7BGXC_n01_S07.Log.final.out\u001b[0m  \u001b[38;5;34mLogs/H2HY7BGXC_n01_S18.Log.final.out\u001b[0m\n",
      "\u001b[38;5;34mLogs/H2HY7BGXC_n01_S08.Log.final.out\u001b[0m  \u001b[38;5;34mLogs/H2HY7BGXC_n01_S19.Log.final.out\u001b[0m\n",
      "\u001b[38;5;34mLogs/H2HY7BGXC_n01_S09.Log.final.out\u001b[0m  \u001b[38;5;34mLogs/H2HY7BGXC_n01_S20.Log.final.out\u001b[0m\n",
      "\u001b[38;5;34mLogs/H2HY7BGXC_n01_S10.Log.final.out\u001b[0m  \u001b[38;5;34mLogs/H2HY7BGXC_n01_S21.Log.final.out\u001b[0m\n",
      "\u001b[38;5;34mLogs/H2HY7BGXC_n01_S11.Log.final.out\u001b[0m  \u001b[38;5;34mLogs/H2HY7BGXC_n01_S22.Log.final.out\u001b[0m\n"
     ]
    }
   ],
   "source": [
    "ls Logs/*.Log.final.out"
   ]
  },
  {
   "cell_type": "code",
   "execution_count": 78,
   "metadata": {},
   "outputs": [],
   "source": [
    "truncate -s 0 read_stats_H2HY7BGXC.txt"
   ]
  },
  {
   "cell_type": "code",
   "execution_count": 79,
   "metadata": {},
   "outputs": [],
   "source": [
    "logs=(Logs/*.Log.final.out)\n",
    "\n",
    "echo \"filename total_reads unique_reads multi_reads unmapped_reads\" >> read_stats_H2HY7BGXC.txt\n",
    "for log in ${logs[@]}; do\n",
    "    # total reads\n",
    "    total=$(cat $log | grep \"Number of input reads\" | awk '{print $NF}')\n",
    "    # uniquely mapped reads\n",
    "    unique=$(cat $log | grep \"Uniquely mapped reads number\" | awk '{print $NF}')\n",
    "    # multi mapped reads\n",
    "    multi1=$(cat $log | grep \"Number of reads mapped to multiple loci\" | awk '{print $NF}')\n",
    "    multi2=$(cat $log | grep \"Number of reads mapped to too many loci\" | awk '{print $NF}')\n",
    "    multi=$(( $multi1 + $multi2 ))\n",
    "    # unmapped reads\n",
    "    unmap1=$(cat $log | grep \"Number of reads unmapped: too many mismatches\" | awk '{print $NF}')\n",
    "    unmap2=$(cat $log | grep \"Number of reads unmapped: too short\" | awk '{print $NF}')\n",
    "    unmap3=$(cat $log | grep \"Number of reads unmapped: other\" | awk '{print $NF}')\n",
    "    unmap=$(( $unmap1 + $unmap2 + $unmap3))\n",
    "    \n",
    "    echo $logs $total $unique $multi $unmap >> read_stats_H2HY7BGXC.txt\n",
    "done"
   ]
  },
  {
   "cell_type": "code",
   "execution_count": 80,
   "metadata": {},
   "outputs": [
    {
     "name": "stdout",
     "output_type": "stream",
     "text": [
      "filename total_reads unique_reads multi_reads unmapped_reads\n",
      "Logs/H2HY7BGXC_n01_S01.Log.final.out 7900814 5640003 1814557 446254\n",
      "Logs/H2HY7BGXC_n01_S01.Log.final.out 7852189 5710703 1766631 374855\n",
      "Logs/H2HY7BGXC_n01_S01.Log.final.out 6963551 5123740 1531564 308247\n",
      "Logs/H2HY7BGXC_n01_S01.Log.final.out 6206733 4549456 1409176 248101\n",
      "Logs/H2HY7BGXC_n01_S01.Log.final.out 8746288 6223856 2086845 435587\n",
      "Logs/H2HY7BGXC_n01_S01.Log.final.out 8755309 6151133 2067856 536320\n",
      "Logs/H2HY7BGXC_n01_S01.Log.final.out 7295599 5344409 1430876 520314\n",
      "Logs/H2HY7BGXC_n01_S01.Log.final.out 10675478 7630984 2131786 912708\n",
      "Logs/H2HY7BGXC_n01_S01.Log.final.out 9182294 6678388 1903647 600259\n",
      "Logs/H2HY7BGXC_n01_S01.Log.final.out 4210927 2932568 886297 392062\n",
      "Logs/H2HY7BGXC_n01_S01.Log.final.out 7110240 5207388 1485667 417185\n",
      "Logs/H2HY7BGXC_n01_S01.Log.final.out 8371579 6251359 1668590 451630\n",
      "Logs/H2HY7BGXC_n01_S01.Log.final.out 8549438 6343135 1840905 365398\n",
      "Logs/H2HY7BGXC_n01_S01.Log.final.out 7152314 5223605 1549229 379480\n",
      "Logs/H2HY7BGXC_n01_S01.Log.final.out 8285511 5909077 1910411 466023\n",
      "Logs/H2HY7BGXC_n01_S01.Log.final.out 7979787 5765020 1809831 404936\n",
      "Logs/H2HY7BGXC_n01_S01.Log.final.out 7132369 5244235 1518863 369271\n",
      "Logs/H2HY7BGXC_n01_S01.Log.final.out 7263512 5304691 1576655 382166\n",
      "Logs/H2HY7BGXC_n01_S01.Log.final.out 7542471 5617149 1496628 428694\n",
      "Logs/H2HY7BGXC_n01_S01.Log.final.out 7713822 5749516 1617332 346974\n",
      "Logs/H2HY7BGXC_n01_S01.Log.final.out 6837475 5087411 1333724 416340\n",
      "Logs/H2HY7BGXC_n01_S01.Log.final.out 7080968 5364930 1315592 400446\n"
     ]
    }
   ],
   "source": [
    "cat read_stats_H2HY7BGXC.txt"
   ]
  },
  {
   "cell_type": "markdown",
   "metadata": {},
   "source": [
    "### Second batch"
   ]
  },
  {
   "cell_type": "code",
   "execution_count": 82,
   "metadata": {},
   "outputs": [],
   "source": [
    "cd /gpfs/commons/groups/sanjana_lab/cdai/TFscreen/data/HFJM7BGXC"
   ]
  },
  {
   "cell_type": "code",
   "execution_count": 83,
   "metadata": {
    "ExecuteTime": {
     "end_time": "2019-08-26T16:22:59.712082Z",
     "start_time": "2019-08-26T16:22:59.597535Z"
    }
   },
   "outputs": [
    {
     "name": "stdout",
     "output_type": "stream",
     "text": [
      "logs/S10.Log.final.out  logs/S18.Log.final.out  logs/S4.Log.final.out\n",
      "logs/S11.Log.final.out  logs/S19.Log.final.out  logs/S5.Log.final.out\n",
      "logs/S12.Log.final.out  logs/S1.Log.final.out   logs/S6.Log.final.out\n",
      "logs/S13.Log.final.out  logs/S20.Log.final.out  logs/S7.Log.final.out\n",
      "logs/S14.Log.final.out  logs/S21.Log.final.out  logs/S8.Log.final.out\n",
      "logs/S15.Log.final.out  logs/S22.Log.final.out  logs/S9.Log.final.out\n",
      "logs/S16.Log.final.out  logs/S2.Log.final.out\n",
      "logs/S17.Log.final.out  logs/S3.Log.final.out\n"
     ]
    }
   ],
   "source": [
    "ls logs/*.Log.final.out"
   ]
  },
  {
   "cell_type": "code",
   "execution_count": 85,
   "metadata": {},
   "outputs": [],
   "source": [
    "truncate -s 0 read_stats_HFJM7BGXC.txt"
   ]
  },
  {
   "cell_type": "code",
   "execution_count": 86,
   "metadata": {},
   "outputs": [],
   "source": [
    "logs=(logs/*.Log.final.out)\n",
    "\n",
    "echo \"filename total_reads unique_reads multi_reads unmapped_reads\" >> read_stats_HFJM7BGXC.txt\n",
    "for log in ${logs[@]}; do\n",
    "    # total reads\n",
    "    total=$(cat $log | grep \"Number of input reads\" | awk '{print $NF}')\n",
    "    # uniquely mapped reads\n",
    "    unique=$(cat $log | grep \"Uniquely mapped reads number\" | awk '{print $NF}')\n",
    "    # multi mapped reads\n",
    "    multi1=$(cat $log | grep \"Number of reads mapped to multiple loci\" | awk '{print $NF}')\n",
    "    multi2=$(cat $log | grep \"Number of reads mapped to too many loci\" | awk '{print $NF}')\n",
    "    multi=$(( $multi1 + $multi2 ))\n",
    "    # unmapped reads\n",
    "    unmap1=$(cat $log | grep \"Number of reads unmapped: too many mismatches\" | awk '{print $NF}')\n",
    "    unmap2=$(cat $log | grep \"Number of reads unmapped: too short\" | awk '{print $NF}')\n",
    "    unmap3=$(cat $log | grep \"Number of reads unmapped: other\" | awk '{print $NF}')\n",
    "    unmap=$(( $unmap1 + $unmap2 + $unmap3))\n",
    "    \n",
    "    echo $logs $total $unique $multi $unmap >> read_stats_HFJM7BGXC.txt\n",
    "done"
   ]
  },
  {
   "cell_type": "code",
   "execution_count": 87,
   "metadata": {},
   "outputs": [
    {
     "name": "stdout",
     "output_type": "stream",
     "text": [
      "filename total_reads unique_reads multi_reads unmapped_reads\n",
      "logs/S10.Log.final.out 6881768 5256298 1406661 218809\n",
      "logs/S10.Log.final.out 10522318 7596016 2187592 738710\n",
      "logs/S10.Log.final.out 10158756 7788719 2031865 338172\n",
      "logs/S10.Log.final.out 9839626 7389218 2108495 341913\n",
      "logs/S10.Log.final.out 9773359 7343732 2081583 348044\n",
      "logs/S10.Log.final.out 9592466 7077793 2156759 357914\n",
      "logs/S10.Log.final.out 9380216 6924798 2066080 389338\n",
      "logs/S10.Log.final.out 11642471 8349007 2480997 812467\n",
      "logs/S10.Log.final.out 11202633 8296000 2345897 560736\n",
      "logs/S10.Log.final.out 8211865 6203759 1639831 368275\n",
      "logs/S10.Log.final.out 7560485 5562185 1718790 279510\n",
      "logs/S10.Log.final.out 10842344 8188157 2126183 528004\n",
      "logs/S10.Log.final.out 8227258 6354545 1435073 437640\n",
      "logs/S10.Log.final.out 10780348 8264681 1881227 634440\n",
      "logs/S10.Log.final.out 9867088 7209257 2262690 395141\n",
      "logs/S10.Log.final.out 5975983 4366540 1352729 256714\n",
      "logs/S10.Log.final.out 9717087 7185070 2216392 315625\n",
      "logs/S10.Log.final.out 10652446 7757594 2466783 428069\n",
      "logs/S10.Log.final.out 18688376 13495589 4270026 922761\n",
      "logs/S10.Log.final.out 2493655 1902985 496594 94076\n",
      "logs/S10.Log.final.out 10992089 8304287 2102349 585453\n",
      "logs/S10.Log.final.out 11713192 8715259 2307561 690372\n"
     ]
    }
   ],
   "source": [
    "cat read_stats_HFJM7BGXC.txt"
   ]
  },
  {
   "cell_type": "code",
   "execution_count": 88,
   "metadata": {},
   "outputs": [
    {
     "name": "stdout",
     "output_type": "stream",
     "text": [
      "/gpfs/commons/groups/sanjana_lab/cdai/TFscreen/data/HFJM7BGXC\n"
     ]
    }
   ],
   "source": [
    "pwd"
   ]
  },
  {
   "cell_type": "code",
   "execution_count": null,
   "metadata": {},
   "outputs": [],
   "source": []
  },
  {
   "cell_type": "markdown",
   "metadata": {},
   "source": [
    "**Code for bashing the pipeline bash**"
   ]
  },
  {
   "cell_type": "code",
   "execution_count": 4,
   "metadata": {},
   "outputs": [],
   "source": [
    "rm pipeline_arguments.txt"
   ]
  },
  {
   "cell_type": "code",
   "execution_count": 1,
   "metadata": {},
   "outputs": [
    {
     "name": "stdout",
     "output_type": "stream",
     "text": [
      "ENCODE_STAR_RSEM_pipeline.sh  sh_task_array.test.sh  SRR8758430.trim.fastq\n",
      "pipeline_arguments.txt        SRR8758429.trim.fastq\n"
     ]
    }
   ],
   "source": [
    "cd /gpfs/commons/groups/sanjana_lab/cdai/RNAseq/data/tm3seq/toy; ls"
   ]
  },
  {
   "cell_type": "code",
   "execution_count": 5,
   "metadata": {},
   "outputs": [],
   "source": [
    "r1=(*.fastq)\n",
    "r2=\"\"\n",
    "genome=\"/gpfs/commons/groups/sanjana_lab/cdai/ref_genome/star2.7.1a_gencode_genome\"\n",
    "ref=\"/gpfs/commons/groups/sanjana_lab/cdai/ref_genome/rsem.1.2.21.gencode.v31.ref\"\n",
    "dtype=\"unstr_SE\"\n",
    "Nstar=4\n",
    "Nrsem=4\n",
    "for r in ${r1[@]}; do\n",
    "    echo $r $r2 $genome $ref $dtype $Nstar $Nrsem >> pipeline_arguments.txt\n",
    "done"
   ]
  },
  {
   "cell_type": "raw",
   "metadata": {},
   "source": [
    "input=\"/path/to/txt/file\"\n",
    "while IFS= read -r line\n",
    "do\n",
    "  echo \"$line\"\n",
    "done < \"$input\""
   ]
  },
  {
   "cell_type": "code",
   "execution_count": 15,
   "metadata": {},
   "outputs": [],
   "source": [
    "lines=$(cat pipeline_arguments.txt)"
   ]
  },
  {
   "cell_type": "code",
   "execution_count": 16,
   "metadata": {},
   "outputs": [
    {
     "name": "stdout",
     "output_type": "stream",
     "text": [
      "SRR8758429.trim.fastq\n",
      "/gpfs/commons/groups/sanjana_lab/cdai/ref_genome/star2.7.1a_gencode_genome\n",
      "/gpfs/commons/groups/sanjana_lab/cdai/ref_genome/rsem.1.2.21.gencode.v31.ref\n",
      "unstr_SE\n",
      "4\n",
      "4\n",
      "SRR8758430.trim.fastq\n",
      "/gpfs/commons/groups/sanjana_lab/cdai/ref_genome/star2.7.1a_gencode_genome\n",
      "/gpfs/commons/groups/sanjana_lab/cdai/ref_genome/rsem.1.2.21.gencode.v31.ref\n",
      "unstr_SE\n",
      "4\n",
      "4\n",
      "/gpfs/commons/groups/sanjana_lab/cdai/ref_genome/star2.7.1a_gencode_genome\n",
      "/gpfs/commons/groups/sanjana_lab/cdai/ref_genome/rsem.1.2.21.gencode.v31.ref\n",
      "unstr_SE\n",
      "4\n",
      "4\n",
      "SRR8758430.trim.fastq\n",
      "/gpfs/commons/groups/sanjana_lab/cdai/ref_genome/star2.7.1a_gencode_genome\n",
      "/gpfs/commons/groups/sanjana_lab/cdai/ref_genome/rsem.1.2.21.gencode.v31.ref\n",
      "unstr_SE\n",
      "4\n",
      "4\n"
     ]
    }
   ],
   "source": [
    "for l in ${lines[@]}\n",
    "    do\n",
    "        echo $l\n",
    "    done"
   ]
  },
  {
   "cell_type": "code",
   "execution_count": 17,
   "metadata": {},
   "outputs": [
    {
     "name": "stdout",
     "output_type": "stream",
     "text": [
      "SRR8758429.trim.fastq unstr_SE 4 4\n",
      "SRR8758430.trim.fastq unstr_SE 4 4\n"
     ]
    }
   ],
   "source": [
    "As=()\n",
    "Bs=()\n",
    "while IFS= read -r line\n",
    "    do \n",
    "        echo $line | awk '{print $1,$4,$5,$6}'\n",
    "        As+=($(echo $line | awk '{print $1}'))\n",
    "        Bs+=($(echo $line | awk '{print $4}'))\n",
    "    done < pipeline_arguments.txt"
   ]
  },
  {
   "cell_type": "code",
   "execution_count": 18,
   "metadata": {},
   "outputs": [
    {
     "name": "stdout",
     "output_type": "stream",
     "text": [
      "declare -a As='([0]=\"SRR8758429.trim.fastq\" [1]=\"SRR8758430.trim.fastq\")'\n",
      "declare -a Bs='([0]=\"unstr_SE\" [1]=\"unstr_SE\")'\n"
     ]
    }
   ],
   "source": [
    "declare -p As\n",
    "declare -p Bs"
   ]
  },
  {
   "cell_type": "code",
   "execution_count": 40,
   "metadata": {},
   "outputs": [
    {
     "name": "stdout",
     "output_type": "stream",
     "text": [
      "SRR8758429.trim.fastq /gpfs/commons/groups/sanjana_lab/cdai/ref_genome/star2.7.1a_gencode_genome /gpfs/commons/groups/sanjana_lab/cdai/ref_genome/rsem.1.2.21.gencode.v31.ref unstr_SE 4 4\n",
      "SRR8758430.trim.fastq /gpfs/commons/groups/sanjana_lab/cdai/ref_genome/star2.7.1a_gencode_genome /gpfs/commons/groups/sanjana_lab/cdai/ref_genome/rsem.1.2.21.gencode.v31.ref unstr_SE 4 4\n"
     ]
    }
   ],
   "source": [
    "cat pipeline_arguments.txt"
   ]
  },
  {
   "cell_type": "raw",
   "metadata": {},
   "source": [
    "/gpfs/commons/groups/sanjana_lab/cdai/RNAseq/data/tm3seq/SRR8758429.trim.fastq \"\" /gpfs/commons/groups/sanjana_lab/cdai/ref_genome/star2.7.1a_gencode_genome /gpfs/commons/groups/sanjana_lab/cdai/ref_genome/rsem.1.2.21.gencode.v31.ref unstr_SE 4 4"
   ]
  },
  {
   "cell_type": "code",
   "execution_count": 13,
   "metadata": {},
   "outputs": [
    {
     "name": "stdout",
     "output_type": "stream",
     "text": [
      "chrLength.txt      exonInfo.tab          SAindex\n",
      "chrNameLength.txt  geneInfo.tab          sjdbInfo.txt\n",
      "chrName.txt        Genome                sjdbList.fromGTF.out.tab\n",
      "chrStart.txt       genomeParameters.txt  sjdbList.out.tab\n",
      "exonGeTrInfo.tab   SA                    transcriptInfo.tab\n"
     ]
    }
   ],
   "source": [
    "ls /gpfs/commons/groups/sanjana_lab/cdai/ref_genome/star2.7.1a_gencode_genome"
   ]
  },
  {
   "cell_type": "raw",
   "metadata": {},
   "source": [
    "ENCFF000DZT.fastq.gz ENCFF000DZW.fastq.gz /gpfs/commons/home/wesselsh-519/Genomes/hg19/Index/STAR.2.4.2a_Gencode_R28 /gpfs/commons/home/wesselsh-519/Genomes/hg19/Index/RSEM.v1.21.Gencode_R28/ref unstr_PE 4 4"
   ]
  },
  {
   "cell_type": "raw",
   "metadata": {},
   "source": [
    "echo \"bash /gpfs/commons/home/wesselsh-519/scripts/ENCODE_STAR_RSEM_pipeline.sh $LINE\" | qsub -V -N ${ID} -e err.txt -o out.txt -l mem_free=24G -l h_vmem=36G -pe smp 4 -cwd -j y"
   ]
  },
  {
   "cell_type": "code",
   "execution_count": 15,
   "metadata": {},
   "outputs": [
    {
     "name": "stdout",
     "output_type": "stream",
     "text": [
      "hg38_gencode.chrlist  hg38_gencode.n2g.idx.fa  hg38_gencode.transcripts.fa\n",
      "hg38_gencode.grp      hg38_gencode.seq\n",
      "hg38_gencode.idx.fa   hg38_gencode.ti\n"
     ]
    }
   ],
   "source": [
    "ls /gpfs/commons/groups/sanjana_lab/cdai/ref_genome/rsem.1.2.21.gencode.v31.ref"
   ]
  },
  {
   "cell_type": "code",
   "execution_count": 9,
   "metadata": {},
   "outputs": [
    {
     "name": "stdout",
     "output_type": "stream",
     "text": [
      "total 9262472\n",
      "drwxrwxr-x 2 cdai nslab       4096 Aug  4 22:38 \u001b[0m\u001b[01;34mbwa_gencode_genome\u001b[0m\n",
      "drwxrwxr-x 2 cdai nslab       4096 Aug  3 07:16 \u001b[01;34mbwa_gencode_transcripts\u001b[0m\n",
      "drwxrwxr-x 2 cdai nslab       4096 Aug  3 06:56 \u001b[01;34mbwa_refseq\u001b[0m\n",
      "-rw-rw-r-- 1 cdai nslab 3151417447 Aug  4 22:39 gencode_GRCh38.primary_assembly.genome.fa\n",
      "-rw-rw-r-- 1 cdai nslab 1331779490 Aug  5 19:02 gencode.v31.primary_assembly.annotation.gff3\n",
      "-rw-rw-r-- 1 cdai nslab 1322521386 Jul 31 15:42 gencode.v31.primary_assembly.annotation.gtf\n",
      "-rw-rw-r-- 1 cdai nslab  698239324 Aug  5 18:50 gencode.v31.primary_assembly.annotation.pandas.df.txt\n",
      "-rw-rw-r-- 1 cdai nslab  387277868 Aug  1 21:36 gencode.v31.transcripts.fa\n",
      "-rw-rw-r-- 1 cdai nslab      15517 Aug  5 20:12 hg38_chrom_size.txt\n",
      "-rw-rw-r-- 1 cdai nslab    1413379 Aug  5 20:32 hg38_gene_size.txt\n",
      "drwxrwxr-x 2 cdai nslab       4096 Aug  1 11:49 \u001b[01;34mhisat2.genome\u001b[0m\n",
      "drwxrwxr-x 2 cdai nslab       4096 Aug  7 14:22 \u001b[01;34mkallisto_index\u001b[0m\n",
      "-rw-r--r-- 1 cdai nslab  865660404 Aug  7 12:37 Log.out\n",
      "-rw-rw-r-- 1 cdai nslab 1132590770 Aug  1 12:05 ncbi_GRCh38_latest_genomic.gff\n",
      "-rw-rw-r-- 1 cdai nslab  593176403 Aug  1 11:43 ncbi_GRCh38_latest_rna.fna\n",
      "drwxrwxr-x 2 cdai nslab       4096 Aug  9 12:10 \u001b[01;34mrsem.1.2.21.gencode.v31.ref\u001b[0m\n",
      "-rw-r--r-- 1 cdai nslab       1154 Aug  9 12:07 RSEM.out\n",
      "-rw-rw-r-- 1 cdai nslab        504 Aug  1 16:19 sh_bwa_refseq_index.sh\n",
      "-rw-rw-r-- 1 cdai nslab        509 Jul 31 00:19 sh_hisat2_build_index.sh\n",
      "-rw-rw-r-- 1 cdai nslab        679 Aug  9 12:04 sh_rsem_ref.sh\n",
      "-rw-rw-r-- 1 cdai nslab       1436 Aug  7 12:25 sh_star_index.sh\n",
      "drwxrwxr-x 2 cdai nslab       4096 Aug  5 16:48 \u001b[01;34mstar2.7.1a_gencode_genome\u001b[0m\n",
      "drwxrwxr-x 3 cdai nslab       4096 Aug  7 15:35 \u001b[01;34mstar2.7.1a_gencode_transcriptome\u001b[0m\n",
      "drwxrwxr-x 2 cdai nslab       4096 Aug  1 13:19 \u001b[01;34mstar_ncbi_transcriptome\u001b[0m\n",
      "-rw-r--r-- 1 cdai nslab        898 Aug  7 12:37 STAR.out\n",
      "drwx------ 2 cdai nslab       4096 Aug  7 12:26 \u001b[01;34m_STARtmp\u001b[0m\n"
     ]
    }
   ],
   "source": []
  },
  {
   "cell_type": "code",
   "execution_count": 10,
   "metadata": {},
   "outputs": [
    {
     "name": "stdout",
     "output_type": "stream",
     "text": [
      "total 1552257\n",
      "-rw-r--r-- 1 cdai nslab       770 Aug  9 12:07 hg38_gencode.chrlist\n",
      "-rw-r--r-- 1 cdai nslab    412394 Aug  9 12:06 hg38_gencode.grp\n",
      "-rw-r--r-- 1 cdai nslab 359621515 Aug  9 12:07 hg38_gencode.idx.fa\n",
      "-rw-r--r-- 1 cdai nslab 359621515 Aug  9 12:07 hg38_gencode.n2g.idx.fa\n",
      "-rw-r--r-- 1 cdai nslab 383824200 Aug  9 12:07 hg38_gencode.seq\n",
      "-rw-r--r-- 1 cdai nslab 126044523 Aug  9 12:07 hg38_gencode.ti\n",
      "-rw-r--r-- 1 cdai nslab 359621515 Aug  9 12:07 hg38_gencode.transcripts.fa\n"
     ]
    }
   ],
   "source": [
    "ll rsem.1.2.21.gencode.v31.ref/"
   ]
  },
  {
   "cell_type": "code",
   "execution_count": 33,
   "metadata": {},
   "outputs": [],
   "source": [
    "module load rsem/1.2.21"
   ]
  },
  {
   "cell_type": "code",
   "execution_count": 38,
   "metadata": {
    "ExecuteTime": {
     "end_time": "2019-08-26T19:07:55.355615Z",
     "start_time": "2019-08-26T19:07:55.222053Z"
    }
   },
   "outputs": [
    {
     "name": "stdout",
     "output_type": "stream",
     "text": [
      "3UTR_Analysis.ipynb\n",
      "3UTR_Analysis_V2.ipynb\n",
      "3UTR_Analysis_V2-share.ipynb\n",
      "3UTR_peak.ipynb\n",
      "ENCODE_STAR_RSEM_pipeline.sh\n",
      "Flair-comments.ipynb\n",
      "gene_fusion_analysis.ipynb\n",
      "gene_fusion_analysis_v2.ipynb\n",
      "gene_fusion_analysis_v3.ipynb\n",
      "gene_fusion_AppliedGenomics-Copy1.ipynb\n",
      "gene_fusion_AppliedGenomics.ipynb\n",
      "gene_fusion_AppliedGenomics-withMB231.ipynb\n",
      "gene_fusion_circos-AppliedGenomics.ipynb\n",
      "gene_fusion_circos.ipynb\n",
      "gene_fusion_prelim.ipynb\n",
      "gene_fusion_prelim_v2.ipynb\n",
      "gene_fusion_prelim_v2_slides.ipynb\n",
      "gene_fusion_prelim_v3.ipynb\n",
      "gene_fusion_Schatz_paper.ipynb\n",
      "gene_fusion_v4.ipynb\n",
      "gene_fusion_v5.ipynb\n",
      "Peak_refind.ipynb\n",
      "pybedtools.ipynb\n",
      "\u001b[0m\u001b[01;34m__pycache__\u001b[0m\n",
      "\u001b[01;34mreveal.js\u001b[0m\n",
      "rpy.ipynb\n",
      "screen_data-python.html\n",
      "screen_data-python.ipynb\n",
      "screen_data_R.html\n",
      "screen_data_R.ipynb\n",
      "screen_RNAseq_python_v1.ipynb\n",
      "screen_RNAseq_R_v1.ipynb\n",
      "screen_RNAseq_R_v2.ipynb\n",
      "Splicing_0.1_read identity.ipynb\n",
      "Splicing_1.0_Map Isoforms.ipynb\n",
      "Splicing_1.0_Map Isoforms_share.ipynb\n",
      "SQL_QUERY_UCSC_ENSEMBL.ipynb\n",
      "SRA_Download.ipynb\n",
      "STEM_bash.ipynb\n",
      "STEM_figures.ipynb\n",
      "STEM_v1.ipynb\n",
      "test.sh\n",
      "TFscreen_demultiplex.ipynb\n",
      "TFscreen_demultiplex.slides.html\n",
      "TM3 RNA Seq.ipynb\n",
      "VennDiagram.ipynb\n",
      "vennpy.py\n",
      "whats my read quality.ipynb\n"
     ]
    }
   ],
   "source": [
    "ls"
   ]
  },
  {
   "cell_type": "code",
   "execution_count": 40,
   "metadata": {
    "ExecuteTime": {
     "end_time": "2019-08-26T19:08:38.001056Z",
     "start_time": "2019-08-26T19:08:35.302246Z"
    }
   },
   "outputs": [
    {
     "name": "stdout",
     "output_type": "stream",
     "text": [
      "[NbConvertApp] Converting notebook screen_RNAseq_R_v2.ipynb to html\n",
      "[NbConvertApp] Writing 866587 bytes to screen_RNAseq_R_v2.html\n"
     ]
    }
   ],
   "source": [
    "jupyter nbconvert screen_RNAseq_R_v2.ipynb"
   ]
  }
 ],
 "metadata": {
  "kernelspec": {
   "display_name": "Bash",
   "language": "bash",
   "name": "bash"
  },
  "language_info": {
   "codemirror_mode": "shell",
   "file_extension": ".sh",
   "mimetype": "text/x-sh",
   "name": "bash"
  },
  "toc": {
   "base_numbering": 1,
   "nav_menu": {},
   "number_sections": true,
   "sideBar": true,
   "skip_h1_title": false,
   "title_cell": "Table of Contents",
   "title_sidebar": "Contents",
   "toc_cell": false,
   "toc_position": {},
   "toc_section_display": true,
   "toc_window_display": false
  }
 },
 "nbformat": 4,
 "nbformat_minor": 2
}
