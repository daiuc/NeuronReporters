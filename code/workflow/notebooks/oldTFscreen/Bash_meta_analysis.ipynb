{
 "cells": [
  {
   "cell_type": "markdown",
   "metadata": {},
   "source": [
    "# Meta analysis\n",
    "\n",
    "Most of the analysis here need bedtools. \n",
    "[example](https://github.com/arq5x/bedtools-protocols/blob/master/bedtools.md#bp6--measuring-dataset-similarity)"
   ]
  },
  {
   "cell_type": "code",
   "execution_count": null,
   "metadata": {},
   "outputs": [],
   "source": []
  },
  {
   "cell_type": "code",
   "execution_count": null,
   "metadata": {},
   "outputs": [],
   "source": []
  },
  {
   "cell_type": "markdown",
   "metadata": {},
   "source": [
    "**Processed ATAC-seq reads**\n",
    "\n",
    "ATAC-seq read files are in `/gpfs/commons/groups/sanjana_lab/cdai/TFscreen/atac/bams_v3`. \n",
    "\n",
    "The finalized bam/bed files are filtered to include only **properly paired reads, with mapq > 20**. If use bam files, use these files: `ATAC*.PE.mapq.bam`, or alternatively use these bed files: `ATAC*.PE.mapq.bed`. \n",
    "\n",
    "Bed files are converted using bedtools. Note that each paired alignments are writen twice noted with `1` or `2` in the column. This means, if you sum up all the reads, you are actually 2x the number of fragments.<br>\n",
    "`bedtools bamtobed -i $bam > $out`\n",
    "\n",
    "**Annotations**\n",
    "Annotations are in `/gpfs/commons/groups/sanjana_lab/cdai/TFscreen/atac/annotations`. `Gencode_hg38_v31_proteincoding_gene_features.bed` gives all the protein coding gene's annotations, including these features:\n",
    "- exon\n",
    "- UTR\n",
    "- intron\n",
    "- promoter (TSS - 2kb, TSS + 0.5kb)\n",
    "- enchancer (TSS - 10kb, TSS - 2 kb). Consider this as intergenic region instead, or just remove it."
   ]
  },
  {
   "cell_type": "markdown",
   "metadata": {},
   "source": [
    "#### Make 10bp windows\n",
    "\n",
    "`bin_annotations.sh` makes 10bp windows for a given bed\n",
    "\n",
    "```bedtools makewindows \\ \n",
    "    -b HitTF.promoter_up2k_dn2k.bed \\\n",
    "\t-w 10 \\\n",
    "\t-i srcwinnum \\\n",
    "\t| sort -k1,1 -k2,2 -V \\\n",
    "\t| tr \"_\" \"\\t\" \\\n",
    "\t> HitTF.promoter_up2k_dn2k_10bwindow.bed```\n",
    "\n",
    "The following binned annotations are created: \n",
    "- `HitTF.promoter_up2k_dn2k_10bwindow.bed`\n",
    "- `NonHitTF.promoter_up2k_dn2k_10bwindow.bed`"
   ]
  },
  {
   "cell_type": "markdown",
   "metadata": {},
   "source": [
    "#### Summarize read counts to each binned windows\n",
    "\n",
    "`sum_binned_coverage.sh` maps coverage to overlapping coordinates (binned),then summmarize over the bin\n",
    "\n",
    "```bedtools map \\\n",
    "\t-a NonHitTF.promoter_up2k_dn2k_10bwindow.bed \\\n",
    "\t-b $bedg \\\n",
    "\t-c 4 \\\n",
    "\t-o mean \\\n",
    "\t-null 0 \\\n",
    "\t-g /c/groups/sanjana_lab/cdai/ref_genome/hg38_chrom_size.txt \\\n",
    "\t> $out```\n",
    "\n",
    "The following summarized files are created:\n",
    "- `ATAC{1..12}.HitTF.promoter.10bpwindow.coverage`\n",
    "- `ATAC{1..12}.NonHitTF.promoter.10bpwindow.coverage`\n",
    "- `ATAC{1..12}.AllHitTF.promoter.10bpwindow.coverage`"
   ]
  },
  {
   "cell_type": "code",
   "execution_count": 24,
   "metadata": {},
   "outputs": [],
   "source": [
    "cd /gpfs/commons/groups/sanjana_lab/cdai/TFscreen/atac/meta_analysis"
   ]
  },
  {
   "cell_type": "code",
   "execution_count": 29,
   "metadata": {},
   "outputs": [
    {
     "name": "stdout",
     "output_type": "stream",
     "text": [
      "\u001b[0m\u001b[38;5;34mbin_annotations.sh\u001b[0m      \u001b[38;5;34mcomputeMatrix_range.sh\u001b[0m\n",
      "\u001b[38;5;34mcomputeMatrix_point.sh\u001b[0m  \u001b[38;5;34msum_binned_coverage.sh\u001b[0m\n"
     ]
    }
   ],
   "source": [
    "ls *.sh"
   ]
  },
  {
   "cell_type": "code",
   "execution_count": 16,
   "metadata": {},
   "outputs": [
    {
     "name": "stdout",
     "output_type": "stream",
     "text": [
      "chr1\t2226319\t2226324\tSKI\t1\n",
      "chr1\t2226324\t2226329\tSKI\t2\n",
      "chr1\t2226329\t2226334\tSKI\t3\n",
      "chr1\t2226334\t2226339\tSKI\t4\n",
      "chr1\t2226339\t2226344\tSKI\t5\n"
     ]
    }
   ],
   "source": [
    "head -5 hitTF_promoter_up2k_dn1kb_5bp_windows.bed"
   ]
  },
  {
   "cell_type": "markdown",
   "metadata": {},
   "source": [
    "#### Break up each 3kb interval flanking each TSS into 5bp sub-windows, using `makewindws`."
   ]
  },
  {
   "cell_type": "code",
   "execution_count": 18,
   "metadata": {},
   "outputs": [
    {
     "name": "stdout",
     "output_type": "stream",
     "text": [
      "chr1\t10426\t10463\tNB501157:251:HG7FNBGX9:2:23202:10351:14853/2\t3\t+\n",
      "chr1\t10436\t10473\tNB501157:251:HG7FNBGX9:2:23202:10351:14853/1\t37\t-\n",
      "chr1\t12996\t13033\tNB501157:251:HG7FNBGX9:3:11510:22068:4357/2\t15\t+\n",
      "chr1\t13294\t13331\tNB501157:251:HG7FNBGX9:3:11510:22068:4357/1\t23\t-\n",
      "chr1\t17139\t17176\tNB501157:251:HG7FNBGX9:1:11202:26265:16487/1\t29\t+\n",
      "chr1\t17272\t17309\tNB501157:251:HG7FNBGX9:3:13412:25792:11431/1\t29\t+\n",
      "chr1\t17407\t17444\tNB501157:251:HG7FNBGX9:3:22412:11444:2335/1\t29\t+\n",
      "chr1\t17471\t17508\tNB501157:251:HG7FNBGX9:3:22412:11444:2335/2\t37\t-\n",
      "chr1\t17472\t17509\tNB501157:251:HG7FNBGX9:1:11202:26265:16487/2\t37\t-\n",
      "chr1\t17475\t17512\tNB501157:251:HG7FNBGX9:2:23304:12670:6495/2\t37\t+\n"
     ]
    }
   ],
   "source": [
    "head ../../../bams_v3/ATAC1.PE.mapq.chr.bed"
   ]
  },
  {
   "cell_type": "code",
   "execution_count": 6,
   "metadata": {},
   "outputs": [],
   "source": [
    "bedtools makewindows -b hitTF_promoter_up2k_dn1kb.bed.bed \\\n",
    "    -w 5 -i srcwinnum | sort -k1,1 -k2,2n | tr \"_\" \"\\t\" > hitTF_promoter_up2k_dn1kb_5bp_windows.bed"
   ]
  },
  {
   "cell_type": "markdown",
   "metadata": {},
   "source": [
    "#### Map the transcription factor"
   ]
  },
  {
   "cell_type": "code",
   "execution_count": 23,
   "metadata": {},
   "outputs": [],
   "source": [
    "bedtools map \\\n",
    "    -a hitTF_promoter_up2k_dn1kb_5bp_windows.bed \\\n",
    "    -b ../../../bams_v3/ATAC1.PE.mapq.chr.bed \\\n",
    "    -c 4 \\\n",
    "    -o count_distinct \\\n",
    "    -null 0 \\\n",
    "    -g /c/groups/sanjana_lab/cdai/ref_genome/hg38_chrom_size.txt \\\n",
    " > hitTF_promoter_up2k_dn1kb_5bp_windows.coverage.bed\n",
    "    "
   ]
  },
  {
   "cell_type": "code",
   "execution_count": 21,
   "metadata": {},
   "outputs": [
    {
     "name": "stdout",
     "output_type": "stream",
     "text": [
      "/gpfs/commons/groups/sanjana_lab/cdai/TFscreen/atac/macs2/v7/annotate_peaks_w_features\n"
     ]
    }
   ],
   "source": [
    "pwd"
   ]
  },
  {
   "cell_type": "markdown",
   "metadata": {},
   "source": [
    "## Count reads from ATAC bam files to known intervals\n",
    "\n",
    "count script: `/c/groups/sanjana_lab/cdai/TFscreen/atac/bams_v3/calc_TF_promoters_counts.sh`\n",
    "\n",
    "count results: `/c/groups/sanjana_lab/cdai/TFscreen/atac/bams_v3/calc_TF_promoters_counts.sh/ATAC*.PE.mapq.bam.counts`"
   ]
  },
  {
   "cell_type": "code",
   "execution_count": 26,
   "metadata": {},
   "outputs": [],
   "source": [
    "cd /c/groups/sanjana_lab/cdai/TFscreen/atac/bams_v3"
   ]
  },
  {
   "cell_type": "code",
   "execution_count": 27,
   "metadata": {},
   "outputs": [
    {
     "name": "stdout",
     "output_type": "stream",
     "text": [
      "ATAC10.PE.mapq.bam.counts  ATAC8.PE.mapq.bam.counts\n",
      "ATAC11.PE.mapq.bam.counts  ATAC9.PE.mapq.bam.counts\n",
      "ATAC12.PE.mapq.bam.counts  \u001b[0m\u001b[38;5;34mbam2bed.sh\u001b[0m\n",
      "ATAC1.PE.mapq.bam.counts   \u001b[38;5;34mbamCoverage.sh\u001b[0m\n",
      "ATAC2.PE.mapq.bam.counts   \u001b[38;5;34mbed_filter_chr.sh\u001b[0m\n",
      "ATAC3.PE.mapq.bam.counts   \u001b[38;5;34mbin_annotations.sh\u001b[0m\n",
      "ATAC4.PE.mapq.bam.counts   \u001b[38;5;34mcalc_TF_promoters_counts.sh\u001b[0m\n",
      "ATAC5.PE.mapq.bam.counts   \u001b[38;5;34mfilter_bam.sh\u001b[0m\n",
      "ATAC6.PE.mapq.bam.counts   \u001b[38;5;34msubset_bam.sh\u001b[0m\n",
      "ATAC7.PE.mapq.bam.counts   \u001b[38;5;34mtoy.sh\u001b[0m\n"
     ]
    }
   ],
   "source": [
    "ls *.counts *.sh"
   ]
  },
  {
   "cell_type": "markdown",
   "metadata": {},
   "source": [
    "**Total number of reads for each sample**"
   ]
  },
  {
   "cell_type": "raw",
   "metadata": {},
   "source": [
    "for i in {1..12}; do\n",
    "    echo $i\n",
    "    echo \"------\"\n",
    "    samtools flagstat ATAC${i}.PE.mapq.bam\n",
    "    echo \"-------\"\n",
    "    echo \"           \"\n",
    "done"
   ]
  },
  {
   "cell_type": "code",
   "execution_count": 29,
   "metadata": {},
   "outputs": [
    {
     "name": "stdout",
     "output_type": "stream",
     "text": [
      "NB501157:251:HG7FNBGX9:2:22206:3402:19725\n",
      "NB501157:251:HG7FNBGX9:2:22206:3402:19725\n",
      "NB501157:251:HG7FNBGX9:2:13205:20539:6230\n",
      "NB501157:251:HG7FNBGX9:2:13205:20539:6230\n",
      "NB501157:251:HG7FNBGX9:3:23603:8138:14842\n",
      "NB501157:251:HG7FNBGX9:2:13303:22247:3500\n",
      "NB501157:251:HG7FNBGX9:1:21206:8453:13144\n",
      "NB501157:251:HG7FNBGX9:2:13303:22247:3500\n",
      "NB501157:251:HG7FNBGX9:1:21206:8453:13144\n",
      "NB501157:251:HG7FNBGX9:3:23603:8138:14842\n",
      "cut: write error: Broken pipe\n"
     ]
    }
   ],
   "source": [
    "samtools view ATAC10.PE.mapq.bam | cut -f 1 | head"
   ]
  },
  {
   "cell_type": "code",
   "execution_count": 52,
   "metadata": {},
   "outputs": [
    {
     "name": "stdout",
     "output_type": "stream",
     "text": [
      "/c/groups/sanjana_lab/cdai/TFscreen/atac/bams_v3\n"
     ]
    }
   ],
   "source": [
    "pwd"
   ]
  },
  {
   "cell_type": "code",
   "execution_count": 48,
   "metadata": {},
   "outputs": [],
   "source": [
    "echo \"abc\" > abc.txt"
   ]
  },
  {
   "cell_type": "code",
   "execution_count": 51,
   "metadata": {},
   "outputs": [],
   "source": [
    "cat abc.txt"
   ]
  },
  {
   "cell_type": "code",
   "execution_count": 58,
   "metadata": {},
   "outputs": [
    {
     "name": "stdout",
     "output_type": "stream",
     "text": [
      "NB501157:251:HG7FNBGX9:2:22206:3402:19725\n",
      "NB501157:251:HG7FNBGX9:2:22206:3402:19725\n",
      "NB501157:251:HG7FNBGX9:2:13205:20539:6230\n",
      "NB501157:251:HG7FNBGX9:2:13205:20539:6230\n",
      "NB501157:251:HG7FNBGX9:3:23603:8138:14842\n",
      "samtools view: NB501157:251:HG7FNBGX9:2:13303:22247:3500\n",
      "NB501157:251:HG7FNBGX9:1:21206:8453:13144\n",
      "NB501157:251:HG7FNBGX9:2:13303:22247:3500\n",
      "writing to standard output failedNB501157:251:HG7FNBGX9:1:21206:8453:13144\n",
      "NB501157:251:HG7FNBGX9:3:23603:8138:14842\n",
      ": Broken pipe\n",
      "NB501157:251:HG7FNBGX9:3:11610:20233:3851\n",
      "NB501157:251:HG7FNBGX9:3:11610:20233:3851\n",
      "NB501157:251:HG7FNBGX9:1:22309:3851:16319\n",
      "NB501157:251:HG7FNBGX9:1:22309:3851:16319\n",
      "NB501157:251:HG7FNBGX9:4:21601:15960:14386\n",
      "NB501157:251:HG7FNBGX9:1:13305:13044:14470\n",
      "NB501157:251:HG7FNBGX9:2:12307:4385:14030\n",
      "NB501157:251:HG7FNBGX9:4:21602:24195:4185\n",
      "NB501157:251:HG7FNBGX9:1:13305:13044:14470\n",
      "samtools view: NB501157:251:HG7FNBGX9:2:12307:4385:14030\n",
      "error closing standard output: -1\n"
     ]
    }
   ],
   "source": [
    "samtools view ATAC10.PE.mapq.bam | head -20 | cut -f1 "
   ]
  },
  {
   "cell_type": "code",
   "execution_count": null,
   "metadata": {},
   "outputs": [],
   "source": []
  }
 ],
 "metadata": {
  "kernelspec": {
   "display_name": "Bash",
   "language": "bash",
   "name": "bash"
  },
  "language_info": {
   "codemirror_mode": "shell",
   "file_extension": ".sh",
   "mimetype": "text/x-sh",
   "name": "bash"
  }
 },
 "nbformat": 4,
 "nbformat_minor": 2
}
