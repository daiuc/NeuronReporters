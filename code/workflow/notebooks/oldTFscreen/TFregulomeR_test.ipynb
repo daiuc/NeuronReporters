{
 "cells": [
  {
   "cell_type": "code",
   "execution_count": 3,
   "metadata": {},
   "outputs": [],
   "source": [
    "library(dplyr)\n",
    "library(stringr)\n",
    "library(TFregulomeR)"
   ]
  },
  {
   "cell_type": "code",
   "execution_count": 5,
   "metadata": {},
   "outputs": [
    {
     "name": "stderr",
     "output_type": "stream",
     "text": [
      "1468 record(s) found: ...\n",
      "\n",
      "... covering 415 TF(s)\n",
      "\n",
      "... from 1 species:\n",
      "\n",
      "... ...human\n",
      "\n",
      "... from 29 organ(s):\n",
      "\n",
      "... ... stem_cell, blood_and_lymph, connective_tissue, colorectum, brain, bone, stomach, prostate, breast, pancreas, skin, kidney, lung, eye, esophagus, heart, muscle, uterus, spleen, cervix, testis, liver, adrenal_gland, neck_and_mouth, pleura, ovary, thymus, fallopian, vagina\n",
      "\n",
      "... in 3 sample type(s):\n",
      "\n",
      "... ... primary_cells, cell_line, tissue\n",
      "\n",
      "... in  414  different cell(s) or tissue(s)\n",
      "\n",
      "... in 8 type(s) of disease state(s):\n",
      "\n",
      "... ... normal, tumor, Simpson_Golabi_Behmel_syndrome, progeria, metaplasia, unknown, immortalized, premetastatic\n",
      "\n",
      "... from the source(s): GTRD, MethMotif\n",
      "\n"
     ]
    }
   ],
   "source": [
    "all_record <- dataBrowser()"
   ]
  },
  {
   "cell_type": "code",
   "execution_count": 6,
   "metadata": {},
   "outputs": [
    {
     "data": {
      "text/html": [
       "<table>\n",
       "<caption>A data.frame: 6 × 14</caption>\n",
       "<thead>\n",
       "\t<tr><th scope=col>ID</th><th scope=col>species</th><th scope=col>organ</th><th scope=col>sample_type</th><th scope=col>cell_tissue_name</th><th scope=col>description</th><th scope=col>disease_state</th><th scope=col>TF</th><th scope=col>source</th><th scope=col>source_ID</th><th scope=col>peak_num</th><th scope=col>peak_with_motif_num</th><th scope=col>Consistent_with_HOCOMOCO_JASPAR</th><th scope=col>Ncor_between_MEME_ChIP_and_HOMER</th></tr>\n",
       "\t<tr><th scope=col>&lt;chr&gt;</th><th scope=col>&lt;chr&gt;</th><th scope=col>&lt;chr&gt;</th><th scope=col>&lt;chr&gt;</th><th scope=col>&lt;chr&gt;</th><th scope=col>&lt;chr&gt;</th><th scope=col>&lt;chr&gt;</th><th scope=col>&lt;chr&gt;</th><th scope=col>&lt;chr&gt;</th><th scope=col>&lt;chr&gt;</th><th scope=col>&lt;chr&gt;</th><th scope=col>&lt;chr&gt;</th><th scope=col>&lt;chr&gt;</th><th scope=col>&lt;chr&gt;</th></tr>\n",
       "</thead>\n",
       "<tbody>\n",
       "\t<tr><td>GTRD-EXP000061_HSA_embryonic-stem-cells_PRDM14</td><td>human</td><td>stem_cell        </td><td>primary_cells</td><td>embryonic-stem-cells</td><td>embryonic stem cells            </td><td>normal</td><td>PRDM14</td><td>GTRD</td><td>EXP000061</td><td>17482 </td><td>5656 </td><td>YES</td><td>NA</td></tr>\n",
       "\t<tr><td>GTRD-EXP000080_HSA_CD4pos-T-cells_YY1         </td><td>human</td><td>blood_and_lymph  </td><td>primary_cells</td><td>CD4pos-T-cells      </td><td>CD4+ T-cells                    </td><td>normal</td><td>YY1   </td><td>GTRD</td><td>EXP000080</td><td>18298 </td><td>2038 </td><td>YES</td><td>NA</td></tr>\n",
       "\t<tr><td>GTRD-EXP000128_HSA_EWS502_FLI1                </td><td>human</td><td>connective_tissue</td><td>cell_line    </td><td>EWS502              </td><td>Ewing sarcoma                   </td><td>tumor </td><td>FLI1  </td><td>GTRD</td><td>EXP000128</td><td>89523 </td><td>28914</td><td>YES</td><td>NA</td></tr>\n",
       "\t<tr><td>GTRD-EXP000132_HSA_HUVEC_FLI1                 </td><td>human</td><td>connective_tissue</td><td>cell_line    </td><td>HUVEC               </td><td>umbilical vein endothelial cells</td><td>normal</td><td>FLI1  </td><td>GTRD</td><td>EXP000132</td><td>71437 </td><td>36126</td><td>YES</td><td>NA</td></tr>\n",
       "\t<tr><td>GTRD-EXP000140_HSA_LS180_TCF7L2               </td><td>human</td><td>colorectum       </td><td>cell_line    </td><td>LS180               </td><td>colon cancer                    </td><td>tumor </td><td>TCF7L2</td><td>GTRD</td><td>EXP000140</td><td>16517 </td><td>2312 </td><td>YES</td><td>NA</td></tr>\n",
       "\t<tr><td>GTRD-EXP000142_HSA_LS180_CEBPB                </td><td>human</td><td>colorectum       </td><td>cell_line    </td><td>LS180               </td><td>colon cancer                    </td><td>tumor </td><td>CEBPB </td><td>GTRD</td><td>EXP000142</td><td>128542</td><td>67747</td><td>YES</td><td>NA</td></tr>\n",
       "</tbody>\n",
       "</table>\n"
      ],
      "text/latex": [
       "A data.frame: 6 × 14\n",
       "\\begin{tabular}{r|llllllllllllll}\n",
       " ID & species & organ & sample\\_type & cell\\_tissue\\_name & description & disease\\_state & TF & source & source\\_ID & peak\\_num & peak\\_with\\_motif\\_num & Consistent\\_with\\_HOCOMOCO\\_JASPAR & Ncor\\_between\\_MEME\\_ChIP\\_and\\_HOMER\\\\\n",
       " <chr> & <chr> & <chr> & <chr> & <chr> & <chr> & <chr> & <chr> & <chr> & <chr> & <chr> & <chr> & <chr> & <chr>\\\\\n",
       "\\hline\n",
       "\t GTRD-EXP000061\\_HSA\\_embryonic-stem-cells\\_PRDM14 & human & stem\\_cell         & primary\\_cells & embryonic-stem-cells & embryonic stem cells             & normal & PRDM14 & GTRD & EXP000061 & 17482  & 5656  & YES & NA\\\\\n",
       "\t GTRD-EXP000080\\_HSA\\_CD4pos-T-cells\\_YY1          & human & blood\\_and\\_lymph   & primary\\_cells & CD4pos-T-cells       & CD4+ T-cells                     & normal & YY1    & GTRD & EXP000080 & 18298  & 2038  & YES & NA\\\\\n",
       "\t GTRD-EXP000128\\_HSA\\_EWS502\\_FLI1                 & human & connective\\_tissue & cell\\_line     & EWS502               & Ewing sarcoma                    & tumor  & FLI1   & GTRD & EXP000128 & 89523  & 28914 & YES & NA\\\\\n",
       "\t GTRD-EXP000132\\_HSA\\_HUVEC\\_FLI1                  & human & connective\\_tissue & cell\\_line     & HUVEC                & umbilical vein endothelial cells & normal & FLI1   & GTRD & EXP000132 & 71437  & 36126 & YES & NA\\\\\n",
       "\t GTRD-EXP000140\\_HSA\\_LS180\\_TCF7L2                & human & colorectum        & cell\\_line     & LS180                & colon cancer                     & tumor  & TCF7L2 & GTRD & EXP000140 & 16517  & 2312  & YES & NA\\\\\n",
       "\t GTRD-EXP000142\\_HSA\\_LS180\\_CEBPB                 & human & colorectum        & cell\\_line     & LS180                & colon cancer                     & tumor  & CEBPB  & GTRD & EXP000142 & 128542 & 67747 & YES & NA\\\\\n",
       "\\end{tabular}\n"
      ],
      "text/markdown": [
       "\n",
       "A data.frame: 6 × 14\n",
       "\n",
       "| ID &lt;chr&gt; | species &lt;chr&gt; | organ &lt;chr&gt; | sample_type &lt;chr&gt; | cell_tissue_name &lt;chr&gt; | description &lt;chr&gt; | disease_state &lt;chr&gt; | TF &lt;chr&gt; | source &lt;chr&gt; | source_ID &lt;chr&gt; | peak_num &lt;chr&gt; | peak_with_motif_num &lt;chr&gt; | Consistent_with_HOCOMOCO_JASPAR &lt;chr&gt; | Ncor_between_MEME_ChIP_and_HOMER &lt;chr&gt; |\n",
       "|---|---|---|---|---|---|---|---|---|---|---|---|---|---|\n",
       "| GTRD-EXP000061_HSA_embryonic-stem-cells_PRDM14 | human | stem_cell         | primary_cells | embryonic-stem-cells | embryonic stem cells             | normal | PRDM14 | GTRD | EXP000061 | 17482  | 5656  | YES | NA |\n",
       "| GTRD-EXP000080_HSA_CD4pos-T-cells_YY1          | human | blood_and_lymph   | primary_cells | CD4pos-T-cells       | CD4+ T-cells                     | normal | YY1    | GTRD | EXP000080 | 18298  | 2038  | YES | NA |\n",
       "| GTRD-EXP000128_HSA_EWS502_FLI1                 | human | connective_tissue | cell_line     | EWS502               | Ewing sarcoma                    | tumor  | FLI1   | GTRD | EXP000128 | 89523  | 28914 | YES | NA |\n",
       "| GTRD-EXP000132_HSA_HUVEC_FLI1                  | human | connective_tissue | cell_line     | HUVEC                | umbilical vein endothelial cells | normal | FLI1   | GTRD | EXP000132 | 71437  | 36126 | YES | NA |\n",
       "| GTRD-EXP000140_HSA_LS180_TCF7L2                | human | colorectum        | cell_line     | LS180                | colon cancer                     | tumor  | TCF7L2 | GTRD | EXP000140 | 16517  | 2312  | YES | NA |\n",
       "| GTRD-EXP000142_HSA_LS180_CEBPB                 | human | colorectum        | cell_line     | LS180                | colon cancer                     | tumor  | CEBPB  | GTRD | EXP000142 | 128542 | 67747 | YES | NA |\n",
       "\n"
      ],
      "text/plain": [
       "  ID                                             species organ            \n",
       "1 GTRD-EXP000061_HSA_embryonic-stem-cells_PRDM14 human   stem_cell        \n",
       "2 GTRD-EXP000080_HSA_CD4pos-T-cells_YY1          human   blood_and_lymph  \n",
       "3 GTRD-EXP000128_HSA_EWS502_FLI1                 human   connective_tissue\n",
       "4 GTRD-EXP000132_HSA_HUVEC_FLI1                  human   connective_tissue\n",
       "5 GTRD-EXP000140_HSA_LS180_TCF7L2                human   colorectum       \n",
       "6 GTRD-EXP000142_HSA_LS180_CEBPB                 human   colorectum       \n",
       "  sample_type   cell_tissue_name     description                     \n",
       "1 primary_cells embryonic-stem-cells embryonic stem cells            \n",
       "2 primary_cells CD4pos-T-cells       CD4+ T-cells                    \n",
       "3 cell_line     EWS502               Ewing sarcoma                   \n",
       "4 cell_line     HUVEC                umbilical vein endothelial cells\n",
       "5 cell_line     LS180                colon cancer                    \n",
       "6 cell_line     LS180                colon cancer                    \n",
       "  disease_state TF     source source_ID peak_num peak_with_motif_num\n",
       "1 normal        PRDM14 GTRD   EXP000061 17482    5656               \n",
       "2 normal        YY1    GTRD   EXP000080 18298    2038               \n",
       "3 tumor         FLI1   GTRD   EXP000128 89523    28914              \n",
       "4 normal        FLI1   GTRD   EXP000132 71437    36126              \n",
       "5 tumor         TCF7L2 GTRD   EXP000140 16517    2312               \n",
       "6 tumor         CEBPB  GTRD   EXP000142 128542   67747              \n",
       "  Consistent_with_HOCOMOCO_JASPAR Ncor_between_MEME_ChIP_and_HOMER\n",
       "1 YES                             NA                              \n",
       "2 YES                             NA                              \n",
       "3 YES                             NA                              \n",
       "4 YES                             NA                              \n",
       "5 YES                             NA                              \n",
       "6 YES                             NA                              "
      ]
     },
     "metadata": {},
     "output_type": "display_data"
    }
   ],
   "source": [
    "head(all_record)"
   ]
  },
  {
   "cell_type": "code",
   "execution_count": null,
   "metadata": {},
   "outputs": [],
   "source": []
  }
 ],
 "metadata": {
  "kernelspec": {
   "display_name": "R3.6",
   "language": "R",
   "name": "ir36"
  },
  "language_info": {
   "codemirror_mode": "r",
   "file_extension": ".r",
   "mimetype": "text/x-r-source",
   "name": "R",
   "pygments_lexer": "r",
   "version": "3.6.1"
  }
 },
 "nbformat": 4,
 "nbformat_minor": 2
}
