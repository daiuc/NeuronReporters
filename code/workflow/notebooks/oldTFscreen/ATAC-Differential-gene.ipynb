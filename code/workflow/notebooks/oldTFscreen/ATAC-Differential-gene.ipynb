{
 "cells": [
  {
   "cell_type": "markdown",
   "metadata": {},
   "source": [
    "# This Notebook uses ATAC-seq generated data\n",
    "\n",
    "Refer to `ATAC-py.ipynb` for prior data analysis pipeline"
   ]
  },
  {
   "cell_type": "code",
   "execution_count": 1,
   "metadata": {
    "ExecuteTime": {
     "end_time": "2019-09-17T02:15:50.661046Z",
     "start_time": "2019-09-17T02:15:50.627Z"
    }
   },
   "outputs": [],
   "source": [
    "library(repr)\n",
    "options(repr.plot.width=7, repr.plot.height=7)"
   ]
  },
  {
   "cell_type": "code",
   "execution_count": 2,
   "metadata": {
    "ExecuteTime": {
     "end_time": "2019-10-16T17:58:42.930014Z",
     "start_time": "2019-10-16T17:58:41.027Z"
    }
   },
   "outputs": [
    {
     "name": "stderr",
     "output_type": "stream",
     "text": [
      "── \u001b[1mAttaching packages\u001b[22m ─────────────────────────────────────── tidyverse 1.2.1 ──\n",
      "\u001b[32m✔\u001b[39m \u001b[34mggplot2\u001b[39m 3.2.1     \u001b[32m✔\u001b[39m \u001b[34mpurrr  \u001b[39m 0.3.2\n",
      "\u001b[32m✔\u001b[39m \u001b[34mtibble \u001b[39m 2.1.3     \u001b[32m✔\u001b[39m \u001b[34mdplyr  \u001b[39m 0.8.3\n",
      "\u001b[32m✔\u001b[39m \u001b[34mtidyr  \u001b[39m 0.8.3     \u001b[32m✔\u001b[39m \u001b[34mstringr\u001b[39m 1.4.0\n",
      "\u001b[32m✔\u001b[39m \u001b[34mreadr  \u001b[39m 1.3.1     \u001b[32m✔\u001b[39m \u001b[34mforcats\u001b[39m 0.4.0\n",
      "── \u001b[1mConflicts\u001b[22m ────────────────────────────────────────── tidyverse_conflicts() ──\n",
      "\u001b[31m✖\u001b[39m \u001b[34mdplyr\u001b[39m::\u001b[32mfilter()\u001b[39m masks \u001b[34mstats\u001b[39m::filter()\n",
      "\u001b[31m✖\u001b[39m \u001b[34mdplyr\u001b[39m::\u001b[32mlag()\u001b[39m    masks \u001b[34mstats\u001b[39m::lag()\n"
     ]
    }
   ],
   "source": [
    "library(tidyverse)"
   ]
  },
  {
   "cell_type": "code",
   "execution_count": 6,
   "metadata": {
    "ExecuteTime": {
     "end_time": "2019-10-16T17:58:53.752755Z",
     "start_time": "2019-10-16T17:58:41.265Z"
    },
    "scrolled": true
   },
   "outputs": [],
   "source": [
    "library(DESeq2)\n",
    "library(apeglm)\n",
    "library(EnhancedVolcano)\n",
    "library(pheatmap)"
   ]
  },
  {
   "cell_type": "markdown",
   "metadata": {},
   "source": [
    "# Promoter region DESeq\n",
    "\n"
   ]
  },
  {
   "cell_type": "code",
   "execution_count": 8,
   "metadata": {
    "ExecuteTime": {
     "end_time": "2019-10-16T17:52:23.004997Z",
     "start_time": "2019-10-16T17:52:22.784Z"
    }
   },
   "outputs": [],
   "source": [
    "setwd('/gpfs/commons/groups/sanjana_lab/cdai/TFscreen/atac/')"
   ]
  },
  {
   "cell_type": "code",
   "execution_count": 9,
   "metadata": {
    "ExecuteTime": {
     "end_time": "2019-10-16T18:11:36.579308Z",
     "start_time": "2019-10-16T18:11:36.382Z"
    }
   },
   "outputs": [],
   "source": [
    "peak_cnts_gen <- read.table(\"diffbind_consensu_min2overlap_readcounts_geneRegion.txt\", header=F, stringsAsFactors = F)"
   ]
  },
  {
   "cell_type": "code",
   "execution_count": 11,
   "metadata": {
    "ExecuteTime": {
     "end_time": "2019-10-16T18:11:38.146651Z",
     "start_time": "2019-10-16T18:11:38.121Z"
    }
   },
   "outputs": [],
   "source": [
    "peak_cnts_gen <- peak_cnts_gen %>% select(19,4:15)"
   ]
  },
  {
   "cell_type": "code",
   "execution_count": 13,
   "metadata": {
    "ExecuteTime": {
     "end_time": "2019-10-16T18:11:43.359876Z",
     "start_time": "2019-10-16T18:11:43.333Z"
    }
   },
   "outputs": [],
   "source": [
    "colnames(peak_cnts_gen) <- c(\"gene_id\",\"A1\", \"A2\", \"A3\",\"A4\",\"A5\",\"A6\",\"A7\",\"A8\",\"A9\",\"A10\",\"A11\",\"A12\")"
   ]
  },
  {
   "cell_type": "code",
   "execution_count": 17,
   "metadata": {
    "ExecuteTime": {
     "end_time": "2019-10-16T18:22:33.547270Z",
     "start_time": "2019-10-16T18:22:32.721Z"
    }
   },
   "outputs": [],
   "source": [
    "peak_cnts_gen <- peak_cnts_gen %>% group_by(gene_id) %>% summarise_all(sum) # group peaks into one gene per row"
   ]
  },
  {
   "cell_type": "code",
   "execution_count": 19,
   "metadata": {
    "ExecuteTime": {
     "end_time": "2019-10-16T18:22:48.233248Z",
     "start_time": "2019-10-16T18:22:48.198Z"
    }
   },
   "outputs": [],
   "source": [
    "peak_cnts_gen <- peak_cnts_gen %>% column_to_rownames('gene_id') # column to row"
   ]
  },
  {
   "cell_type": "code",
   "execution_count": 20,
   "metadata": {
    "ExecuteTime": {
     "end_time": "2019-10-16T18:22:56.111369Z",
     "start_time": "2019-10-16T18:22:56.073Z"
    }
   },
   "outputs": [
    {
     "name": "stdout",
     "output_type": "stream",
     "text": [
      "'data.frame':\t14434 obs. of  12 variables:\n",
      " $ A1 : int  93 23 200 297 145 89 348 401 97 42 ...\n",
      " $ A2 : int  85 10 169 205 192 71 249 330 100 24 ...\n",
      " $ A3 : int  79 32 161 224 161 65 276 335 92 28 ...\n",
      " $ A4 : int  65 13 124 209 178 49 287 391 113 16 ...\n",
      " $ A5 : int  121 11 223 230 176 78 332 465 78 28 ...\n",
      " $ A6 : int  104 20 290 405 224 160 425 549 120 38 ...\n",
      " $ A7 : int  109 14 140 237 101 111 298 311 102 23 ...\n",
      " $ A8 : int  145 27 197 278 177 116 440 459 157 24 ...\n",
      " $ A9 : int  292 44 429 564 315 182 818 800 362 56 ...\n",
      " $ A10: int  121 6 281 335 242 122 500 538 246 45 ...\n",
      " $ A11: int  202 18 365 281 133 77 771 486 489 37 ...\n",
      " $ A12: int  219 15 313 252 99 60 687 417 433 25 ...\n"
     ]
    }
   ],
   "source": [
    "peak_cnts_gen %>% str"
   ]
  },
  {
   "cell_type": "code",
   "execution_count": 21,
   "metadata": {
    "ExecuteTime": {
     "end_time": "2019-10-16T18:03:36.122137Z",
     "start_time": "2019-10-16T18:03:36.086Z"
    }
   },
   "outputs": [],
   "source": [
    "all.sample.annotation <- read.table('ATACseqSampleName.csv', stringsAsFactors=F, col.names = c('sample', 'group'))"
   ]
  },
  {
   "cell_type": "code",
   "execution_count": 22,
   "metadata": {
    "ExecuteTime": {
     "end_time": "2019-10-16T18:23:16.927159Z",
     "start_time": "2019-10-16T18:23:16.886Z"
    }
   },
   "outputs": [
    {
     "data": {
      "text/html": [
       "<table>\n",
       "<caption>A matrix: 2 × 12 of type chr</caption>\n",
       "<tbody>\n",
       "\t<tr><th scope=row>sample</th><td>A1</td><td>A2</td><td>A3</td><td>A4</td><td>A5</td><td>A6</td><td>A7 </td><td>A8 </td><td>A9 </td><td>A10</td><td>A11</td><td>A12</td></tr>\n",
       "\t<tr><th scope=row>group</th><td>ES</td><td>ES</td><td>H1</td><td>H1</td><td>H4</td><td>H4</td><td>H16</td><td>H16</td><td>H24</td><td>H24</td><td>D5 </td><td>D5 </td></tr>\n",
       "</tbody>\n",
       "</table>\n"
      ],
      "text/latex": [
       "A matrix: 2 × 12 of type chr\n",
       "\\begin{tabular}{r|llllllllllll}\n",
       "\tsample & A1 & A2 & A3 & A4 & A5 & A6 & A7  & A8  & A9  & A10 & A11 & A12\\\\\n",
       "\tgroup & ES & ES & H1 & H1 & H4 & H4 & H16 & H16 & H24 & H24 & D5  & D5 \\\\\n",
       "\\end{tabular}\n"
      ],
      "text/markdown": [
       "\n",
       "A matrix: 2 × 12 of type chr\n",
       "\n",
       "| sample | A1 | A2 | A3 | A4 | A5 | A6 | A7  | A8  | A9  | A10 | A11 | A12 |\n",
       "| group | ES | ES | H1 | H1 | H4 | H4 | H16 | H16 | H24 | H24 | D5  | D5  |\n",
       "\n"
      ],
      "text/plain": [
       "       [,1] [,2] [,3] [,4] [,5] [,6] [,7] [,8] [,9] [,10] [,11] [,12]\n",
       "sample A1   A2   A3   A4   A5   A6   A7   A8   A9   A10   A11   A12  \n",
       "group  ES   ES   H1   H1   H4   H4   H16  H16  H24  H24   D5    D5   "
      ]
     },
     "metadata": {},
     "output_type": "display_data"
    }
   ],
   "source": [
    "all.sample.annotation %>% t"
   ]
  },
  {
   "cell_type": "code",
   "execution_count": 23,
   "metadata": {
    "ExecuteTime": {
     "end_time": "2019-10-16T18:23:21.635108Z",
     "start_time": "2019-10-16T18:23:21.611Z"
    }
   },
   "outputs": [],
   "source": [
    "# sample names for WT at different time points: 15H , 1D, 2D, 4D, 7D\n",
    "cols3 <- all.sample.annotation %>% pull(sample)"
   ]
  },
  {
   "cell_type": "code",
   "execution_count": 25,
   "metadata": {
    "ExecuteTime": {
     "end_time": "2019-10-16T18:24:12.701563Z",
     "start_time": "2019-10-16T18:24:12.674Z"
    }
   },
   "outputs": [],
   "source": [
    "cnts3 <- peak_cnts_gen[,cols3]"
   ]
  },
  {
   "cell_type": "code",
   "execution_count": 26,
   "metadata": {
    "ExecuteTime": {
     "end_time": "2019-10-16T18:06:26.494490Z",
     "start_time": "2019-10-16T18:06:24.013Z"
    }
   },
   "outputs": [],
   "source": [
    "gtf_lookup = read.csv('/gpfs/commons/groups/sanjana_lab/cdai/ref_genome/gencode.v31.primary_assembly.annotation.gene_idTOgene_name.txt') #gencode gene_id to gene_name lookup"
   ]
  },
  {
   "cell_type": "code",
   "execution_count": 27,
   "metadata": {
    "ExecuteTime": {
     "end_time": "2019-10-16T18:24:14.879064Z",
     "start_time": "2019-10-16T18:24:14.837Z"
    }
   },
   "outputs": [
    {
     "data": {
      "text/html": [
       "<table>\n",
       "<caption>A data.frame: 6 × 12</caption>\n",
       "<thead>\n",
       "\t<tr><th></th><th scope=col>A1</th><th scope=col>A2</th><th scope=col>A3</th><th scope=col>A4</th><th scope=col>A5</th><th scope=col>A6</th><th scope=col>A7</th><th scope=col>A8</th><th scope=col>A9</th><th scope=col>A10</th><th scope=col>A11</th><th scope=col>A12</th></tr>\n",
       "\t<tr><th></th><th scope=col>&lt;int&gt;</th><th scope=col>&lt;int&gt;</th><th scope=col>&lt;int&gt;</th><th scope=col>&lt;int&gt;</th><th scope=col>&lt;int&gt;</th><th scope=col>&lt;int&gt;</th><th scope=col>&lt;int&gt;</th><th scope=col>&lt;int&gt;</th><th scope=col>&lt;int&gt;</th><th scope=col>&lt;int&gt;</th><th scope=col>&lt;int&gt;</th><th scope=col>&lt;int&gt;</th></tr>\n",
       "</thead>\n",
       "<tbody>\n",
       "\t<tr><th scope=row>ENSG00000000003.14</th><td> 93</td><td> 85</td><td> 79</td><td> 65</td><td>121</td><td>104</td><td>109</td><td>145</td><td>292</td><td>121</td><td>202</td><td>219</td></tr>\n",
       "\t<tr><th scope=row>ENSG00000000005.6</th><td> 23</td><td> 10</td><td> 32</td><td> 13</td><td> 11</td><td> 20</td><td> 14</td><td> 27</td><td> 44</td><td>  6</td><td> 18</td><td> 15</td></tr>\n",
       "\t<tr><th scope=row>ENSG00000000457.14</th><td>200</td><td>169</td><td>161</td><td>124</td><td>223</td><td>290</td><td>140</td><td>197</td><td>429</td><td>281</td><td>365</td><td>313</td></tr>\n",
       "\t<tr><th scope=row>ENSG00000000460.17</th><td>297</td><td>205</td><td>224</td><td>209</td><td>230</td><td>405</td><td>237</td><td>278</td><td>564</td><td>335</td><td>281</td><td>252</td></tr>\n",
       "\t<tr><th scope=row>ENSG00000000938.13</th><td>145</td><td>192</td><td>161</td><td>178</td><td>176</td><td>224</td><td>101</td><td>177</td><td>315</td><td>242</td><td>133</td><td> 99</td></tr>\n",
       "\t<tr><th scope=row>ENSG00000000971.15</th><td> 89</td><td> 71</td><td> 65</td><td> 49</td><td> 78</td><td>160</td><td>111</td><td>116</td><td>182</td><td>122</td><td> 77</td><td> 60</td></tr>\n",
       "</tbody>\n",
       "</table>\n"
      ],
      "text/latex": [
       "A data.frame: 6 × 12\n",
       "\\begin{tabular}{r|llllllllllll}\n",
       "  & A1 & A2 & A3 & A4 & A5 & A6 & A7 & A8 & A9 & A10 & A11 & A12\\\\\n",
       "  & <int> & <int> & <int> & <int> & <int> & <int> & <int> & <int> & <int> & <int> & <int> & <int>\\\\\n",
       "\\hline\n",
       "\tENSG00000000003.14 &  93 &  85 &  79 &  65 & 121 & 104 & 109 & 145 & 292 & 121 & 202 & 219\\\\\n",
       "\tENSG00000000005.6 &  23 &  10 &  32 &  13 &  11 &  20 &  14 &  27 &  44 &   6 &  18 &  15\\\\\n",
       "\tENSG00000000457.14 & 200 & 169 & 161 & 124 & 223 & 290 & 140 & 197 & 429 & 281 & 365 & 313\\\\\n",
       "\tENSG00000000460.17 & 297 & 205 & 224 & 209 & 230 & 405 & 237 & 278 & 564 & 335 & 281 & 252\\\\\n",
       "\tENSG00000000938.13 & 145 & 192 & 161 & 178 & 176 & 224 & 101 & 177 & 315 & 242 & 133 &  99\\\\\n",
       "\tENSG00000000971.15 &  89 &  71 &  65 &  49 &  78 & 160 & 111 & 116 & 182 & 122 &  77 &  60\\\\\n",
       "\\end{tabular}\n"
      ],
      "text/markdown": [
       "\n",
       "A data.frame: 6 × 12\n",
       "\n",
       "| <!--/--> | A1 &lt;int&gt; | A2 &lt;int&gt; | A3 &lt;int&gt; | A4 &lt;int&gt; | A5 &lt;int&gt; | A6 &lt;int&gt; | A7 &lt;int&gt; | A8 &lt;int&gt; | A9 &lt;int&gt; | A10 &lt;int&gt; | A11 &lt;int&gt; | A12 &lt;int&gt; |\n",
       "|---|---|---|---|---|---|---|---|---|---|---|---|---|\n",
       "| ENSG00000000003.14 |  93 |  85 |  79 |  65 | 121 | 104 | 109 | 145 | 292 | 121 | 202 | 219 |\n",
       "| ENSG00000000005.6 |  23 |  10 |  32 |  13 |  11 |  20 |  14 |  27 |  44 |   6 |  18 |  15 |\n",
       "| ENSG00000000457.14 | 200 | 169 | 161 | 124 | 223 | 290 | 140 | 197 | 429 | 281 | 365 | 313 |\n",
       "| ENSG00000000460.17 | 297 | 205 | 224 | 209 | 230 | 405 | 237 | 278 | 564 | 335 | 281 | 252 |\n",
       "| ENSG00000000938.13 | 145 | 192 | 161 | 178 | 176 | 224 | 101 | 177 | 315 | 242 | 133 |  99 |\n",
       "| ENSG00000000971.15 |  89 |  71 |  65 |  49 |  78 | 160 | 111 | 116 | 182 | 122 |  77 |  60 |\n",
       "\n"
      ],
      "text/plain": [
       "                   A1  A2  A3  A4  A5  A6  A7  A8  A9  A10 A11 A12\n",
       "ENSG00000000003.14  93  85  79  65 121 104 109 145 292 121 202 219\n",
       "ENSG00000000005.6   23  10  32  13  11  20  14  27  44   6  18  15\n",
       "ENSG00000000457.14 200 169 161 124 223 290 140 197 429 281 365 313\n",
       "ENSG00000000460.17 297 205 224 209 230 405 237 278 564 335 281 252\n",
       "ENSG00000000938.13 145 192 161 178 176 224 101 177 315 242 133  99\n",
       "ENSG00000000971.15  89  71  65  49  78 160 111 116 182 122  77  60"
      ]
     },
     "metadata": {},
     "output_type": "display_data"
    }
   ],
   "source": [
    "cnts3 %>% head"
   ]
  },
  {
   "cell_type": "code",
   "execution_count": 28,
   "metadata": {
    "ExecuteTime": {
     "end_time": "2019-10-16T18:24:35.777970Z",
     "start_time": "2019-10-16T18:24:35.751Z"
    }
   },
   "outputs": [],
   "source": [
    "gene_ids3 = rownames_to_column(cnts3,'gene_id')[,1:2]"
   ]
  },
  {
   "cell_type": "code",
   "execution_count": 29,
   "metadata": {
    "ExecuteTime": {
     "end_time": "2019-10-16T18:24:58.551936Z",
     "start_time": "2019-10-16T18:24:58.488Z"
    }
   },
   "outputs": [],
   "source": [
    "gtf_lookup$gene_id <- as.character(gtf_lookup$gene_id)\n",
    "gene_names3 = left_join(gene_ids3, gtf_lookup, 'gene_id') %>% pull(gene_name) %>% as.character"
   ]
  },
  {
   "cell_type": "code",
   "execution_count": 30,
   "metadata": {
    "ExecuteTime": {
     "end_time": "2019-10-16T18:25:00.076255Z",
     "start_time": "2019-10-16T18:25:00.013Z"
    }
   },
   "outputs": [
    {
     "name": "stdout",
     "output_type": "stream",
     "text": [
      " chr [1:14434] \"TSPAN6\" \"TNMD\" \"SCYL3\" \"C1orf112\" \"FGR\" \"CFH\" \"GCLC\" ...\n"
     ]
    }
   ],
   "source": [
    "gene_names3 %>% str"
   ]
  },
  {
   "cell_type": "code",
   "execution_count": 31,
   "metadata": {
    "ExecuteTime": {
     "end_time": "2019-10-16T18:25:06.031623Z",
     "start_time": "2019-10-16T18:25:06.012Z"
    }
   },
   "outputs": [],
   "source": [
    "coldata3 <- all.sample.annotation %>% column_to_rownames('sample')"
   ]
  },
  {
   "cell_type": "code",
   "execution_count": 32,
   "metadata": {
    "ExecuteTime": {
     "end_time": "2019-10-16T18:25:06.500416Z",
     "start_time": "2019-10-16T18:25:06.477Z"
    }
   },
   "outputs": [
    {
     "data": {
      "text/html": [
       "<table>\n",
       "<caption>A matrix: 1 × 12 of type chr</caption>\n",
       "<thead>\n",
       "\t<tr><th></th><th scope=col>A1</th><th scope=col>A2</th><th scope=col>A3</th><th scope=col>A4</th><th scope=col>A5</th><th scope=col>A6</th><th scope=col>A7</th><th scope=col>A8</th><th scope=col>A9</th><th scope=col>A10</th><th scope=col>A11</th><th scope=col>A12</th></tr>\n",
       "</thead>\n",
       "<tbody>\n",
       "\t<tr><th scope=row>group</th><td>ES</td><td>ES</td><td>H1</td><td>H1</td><td>H4</td><td>H4</td><td>H16</td><td>H16</td><td>H24</td><td>H24</td><td>D5</td><td>D5</td></tr>\n",
       "</tbody>\n",
       "</table>\n"
      ],
      "text/latex": [
       "A matrix: 1 × 12 of type chr\n",
       "\\begin{tabular}{r|llllllllllll}\n",
       "  & A1 & A2 & A3 & A4 & A5 & A6 & A7 & A8 & A9 & A10 & A11 & A12\\\\\n",
       "\\hline\n",
       "\tgroup & ES & ES & H1 & H1 & H4 & H4 & H16 & H16 & H24 & H24 & D5 & D5\\\\\n",
       "\\end{tabular}\n"
      ],
      "text/markdown": [
       "\n",
       "A matrix: 1 × 12 of type chr\n",
       "\n",
       "| <!--/--> | A1 | A2 | A3 | A4 | A5 | A6 | A7 | A8 | A9 | A10 | A11 | A12 |\n",
       "|---|---|---|---|---|---|---|---|---|---|---|---|---|\n",
       "| group | ES | ES | H1 | H1 | H4 | H4 | H16 | H16 | H24 | H24 | D5 | D5 |\n",
       "\n"
      ],
      "text/plain": [
       "      A1 A2 A3 A4 A5 A6 A7  A8  A9  A10 A11 A12\n",
       "group ES ES H1 H1 H4 H4 H16 H16 H24 H24 D5  D5 "
      ]
     },
     "metadata": {},
     "output_type": "display_data"
    }
   ],
   "source": [
    "coldata3 %>% t"
   ]
  },
  {
   "cell_type": "code",
   "execution_count": 33,
   "metadata": {
    "ExecuteTime": {
     "end_time": "2019-10-16T18:25:10.636015Z",
     "start_time": "2019-10-16T18:25:10.590Z"
    }
   },
   "outputs": [
    {
     "data": {
      "text/html": [
       "<table>\n",
       "<caption>A data.frame: 6 × 12</caption>\n",
       "<thead>\n",
       "\t<tr><th></th><th scope=col>A1</th><th scope=col>A2</th><th scope=col>A3</th><th scope=col>A4</th><th scope=col>A5</th><th scope=col>A6</th><th scope=col>A7</th><th scope=col>A8</th><th scope=col>A9</th><th scope=col>A10</th><th scope=col>A11</th><th scope=col>A12</th></tr>\n",
       "\t<tr><th></th><th scope=col>&lt;int&gt;</th><th scope=col>&lt;int&gt;</th><th scope=col>&lt;int&gt;</th><th scope=col>&lt;int&gt;</th><th scope=col>&lt;int&gt;</th><th scope=col>&lt;int&gt;</th><th scope=col>&lt;int&gt;</th><th scope=col>&lt;int&gt;</th><th scope=col>&lt;int&gt;</th><th scope=col>&lt;int&gt;</th><th scope=col>&lt;int&gt;</th><th scope=col>&lt;int&gt;</th></tr>\n",
       "</thead>\n",
       "<tbody>\n",
       "\t<tr><th scope=row>ENSG00000000003.14</th><td> 93</td><td> 85</td><td> 79</td><td> 65</td><td>121</td><td>104</td><td>109</td><td>145</td><td>292</td><td>121</td><td>202</td><td>219</td></tr>\n",
       "\t<tr><th scope=row>ENSG00000000005.6</th><td> 23</td><td> 10</td><td> 32</td><td> 13</td><td> 11</td><td> 20</td><td> 14</td><td> 27</td><td> 44</td><td>  6</td><td> 18</td><td> 15</td></tr>\n",
       "\t<tr><th scope=row>ENSG00000000457.14</th><td>200</td><td>169</td><td>161</td><td>124</td><td>223</td><td>290</td><td>140</td><td>197</td><td>429</td><td>281</td><td>365</td><td>313</td></tr>\n",
       "\t<tr><th scope=row>ENSG00000000460.17</th><td>297</td><td>205</td><td>224</td><td>209</td><td>230</td><td>405</td><td>237</td><td>278</td><td>564</td><td>335</td><td>281</td><td>252</td></tr>\n",
       "\t<tr><th scope=row>ENSG00000000938.13</th><td>145</td><td>192</td><td>161</td><td>178</td><td>176</td><td>224</td><td>101</td><td>177</td><td>315</td><td>242</td><td>133</td><td> 99</td></tr>\n",
       "\t<tr><th scope=row>ENSG00000000971.15</th><td> 89</td><td> 71</td><td> 65</td><td> 49</td><td> 78</td><td>160</td><td>111</td><td>116</td><td>182</td><td>122</td><td> 77</td><td> 60</td></tr>\n",
       "</tbody>\n",
       "</table>\n"
      ],
      "text/latex": [
       "A data.frame: 6 × 12\n",
       "\\begin{tabular}{r|llllllllllll}\n",
       "  & A1 & A2 & A3 & A4 & A5 & A6 & A7 & A8 & A9 & A10 & A11 & A12\\\\\n",
       "  & <int> & <int> & <int> & <int> & <int> & <int> & <int> & <int> & <int> & <int> & <int> & <int>\\\\\n",
       "\\hline\n",
       "\tENSG00000000003.14 &  93 &  85 &  79 &  65 & 121 & 104 & 109 & 145 & 292 & 121 & 202 & 219\\\\\n",
       "\tENSG00000000005.6 &  23 &  10 &  32 &  13 &  11 &  20 &  14 &  27 &  44 &   6 &  18 &  15\\\\\n",
       "\tENSG00000000457.14 & 200 & 169 & 161 & 124 & 223 & 290 & 140 & 197 & 429 & 281 & 365 & 313\\\\\n",
       "\tENSG00000000460.17 & 297 & 205 & 224 & 209 & 230 & 405 & 237 & 278 & 564 & 335 & 281 & 252\\\\\n",
       "\tENSG00000000938.13 & 145 & 192 & 161 & 178 & 176 & 224 & 101 & 177 & 315 & 242 & 133 &  99\\\\\n",
       "\tENSG00000000971.15 &  89 &  71 &  65 &  49 &  78 & 160 & 111 & 116 & 182 & 122 &  77 &  60\\\\\n",
       "\\end{tabular}\n"
      ],
      "text/markdown": [
       "\n",
       "A data.frame: 6 × 12\n",
       "\n",
       "| <!--/--> | A1 &lt;int&gt; | A2 &lt;int&gt; | A3 &lt;int&gt; | A4 &lt;int&gt; | A5 &lt;int&gt; | A6 &lt;int&gt; | A7 &lt;int&gt; | A8 &lt;int&gt; | A9 &lt;int&gt; | A10 &lt;int&gt; | A11 &lt;int&gt; | A12 &lt;int&gt; |\n",
       "|---|---|---|---|---|---|---|---|---|---|---|---|---|\n",
       "| ENSG00000000003.14 |  93 |  85 |  79 |  65 | 121 | 104 | 109 | 145 | 292 | 121 | 202 | 219 |\n",
       "| ENSG00000000005.6 |  23 |  10 |  32 |  13 |  11 |  20 |  14 |  27 |  44 |   6 |  18 |  15 |\n",
       "| ENSG00000000457.14 | 200 | 169 | 161 | 124 | 223 | 290 | 140 | 197 | 429 | 281 | 365 | 313 |\n",
       "| ENSG00000000460.17 | 297 | 205 | 224 | 209 | 230 | 405 | 237 | 278 | 564 | 335 | 281 | 252 |\n",
       "| ENSG00000000938.13 | 145 | 192 | 161 | 178 | 176 | 224 | 101 | 177 | 315 | 242 | 133 |  99 |\n",
       "| ENSG00000000971.15 |  89 |  71 |  65 |  49 |  78 | 160 | 111 | 116 | 182 | 122 |  77 |  60 |\n",
       "\n"
      ],
      "text/plain": [
       "                   A1  A2  A3  A4  A5  A6  A7  A8  A9  A10 A11 A12\n",
       "ENSG00000000003.14  93  85  79  65 121 104 109 145 292 121 202 219\n",
       "ENSG00000000005.6   23  10  32  13  11  20  14  27  44   6  18  15\n",
       "ENSG00000000457.14 200 169 161 124 223 290 140 197 429 281 365 313\n",
       "ENSG00000000460.17 297 205 224 209 230 405 237 278 564 335 281 252\n",
       "ENSG00000000938.13 145 192 161 178 176 224 101 177 315 242 133  99\n",
       "ENSG00000000971.15  89  71  65  49  78 160 111 116 182 122  77  60"
      ]
     },
     "metadata": {},
     "output_type": "display_data"
    }
   ],
   "source": [
    "cnts3 %>% head"
   ]
  },
  {
   "cell_type": "code",
   "execution_count": 34,
   "metadata": {
    "ExecuteTime": {
     "end_time": "2019-10-16T18:25:14.962313Z",
     "start_time": "2019-10-16T18:25:14.926Z"
    }
   },
   "outputs": [
    {
     "data": {
      "text/html": [
       "<table>\n",
       "<caption>A matrix: 1 × 12 of type chr</caption>\n",
       "<thead>\n",
       "\t<tr><th></th><th scope=col>A1</th><th scope=col>A2</th><th scope=col>A3</th><th scope=col>A4</th><th scope=col>A5</th><th scope=col>A6</th><th scope=col>A7</th><th scope=col>A8</th><th scope=col>A9</th><th scope=col>A10</th><th scope=col>A11</th><th scope=col>A12</th></tr>\n",
       "</thead>\n",
       "<tbody>\n",
       "\t<tr><th scope=row>group</th><td>ES</td><td>ES</td><td>H1</td><td>H1</td><td>H4</td><td>H4</td><td>H16</td><td>H16</td><td>H24</td><td>H24</td><td>D5</td><td>D5</td></tr>\n",
       "</tbody>\n",
       "</table>\n"
      ],
      "text/latex": [
       "A matrix: 1 × 12 of type chr\n",
       "\\begin{tabular}{r|llllllllllll}\n",
       "  & A1 & A2 & A3 & A4 & A5 & A6 & A7 & A8 & A9 & A10 & A11 & A12\\\\\n",
       "\\hline\n",
       "\tgroup & ES & ES & H1 & H1 & H4 & H4 & H16 & H16 & H24 & H24 & D5 & D5\\\\\n",
       "\\end{tabular}\n"
      ],
      "text/markdown": [
       "\n",
       "A matrix: 1 × 12 of type chr\n",
       "\n",
       "| <!--/--> | A1 | A2 | A3 | A4 | A5 | A6 | A7 | A8 | A9 | A10 | A11 | A12 |\n",
       "|---|---|---|---|---|---|---|---|---|---|---|---|---|\n",
       "| group | ES | ES | H1 | H1 | H4 | H4 | H16 | H16 | H24 | H24 | D5 | D5 |\n",
       "\n"
      ],
      "text/plain": [
       "      A1 A2 A3 A4 A5 A6 A7  A8  A9  A10 A11 A12\n",
       "group ES ES H1 H1 H4 H4 H16 H16 H24 H24 D5  D5 "
      ]
     },
     "metadata": {},
     "output_type": "display_data"
    },
    {
     "data": {
      "text/html": [
       "<table>\n",
       "<caption>A matrix: 1 × 12 of type chr</caption>\n",
       "<tbody>\n",
       "\t<tr><td>A1</td><td>A2</td><td>A3</td><td>A4</td><td>A5</td><td>A6</td><td>A7</td><td>A8</td><td>A9</td><td>A10</td><td>A11</td><td>A12</td></tr>\n",
       "</tbody>\n",
       "</table>\n"
      ],
      "text/latex": [
       "A matrix: 1 × 12 of type chr\n",
       "\\begin{tabular}{llllllllllll}\n",
       "\t A1 & A2 & A3 & A4 & A5 & A6 & A7 & A8 & A9 & A10 & A11 & A12\\\\\n",
       "\\end{tabular}\n"
      ],
      "text/markdown": [
       "\n",
       "A matrix: 1 × 12 of type chr\n",
       "\n",
       "| A1 | A2 | A3 | A4 | A5 | A6 | A7 | A8 | A9 | A10 | A11 | A12 |\n",
       "\n"
      ],
      "text/plain": [
       "     [,1] [,2] [,3] [,4] [,5] [,6] [,7] [,8] [,9] [,10] [,11] [,12]\n",
       "[1,] A1   A2   A3   A4   A5   A6   A7   A8   A9   A10   A11   A12  "
      ]
     },
     "metadata": {},
     "output_type": "display_data"
    }
   ],
   "source": [
    "coldata3 %>% t\n",
    "cnts3 %>% colnames %>% t"
   ]
  },
  {
   "cell_type": "code",
   "execution_count": 35,
   "metadata": {
    "ExecuteTime": {
     "end_time": "2019-10-16T18:25:45.403363Z",
     "start_time": "2019-10-16T18:25:45.089Z"
    }
   },
   "outputs": [
    {
     "name": "stderr",
     "output_type": "stream",
     "text": [
      "Warning message in DESeqDataSet(se, design = design, ignoreRank):\n",
      "“some variables in design formula are characters, converting to factors”"
     ]
    }
   ],
   "source": [
    "dds3 <- DESeqDataSetFromMatrix(countData = cnts3, colData = coldata3, design = ~ group)"
   ]
  },
  {
   "cell_type": "code",
   "execution_count": 36,
   "metadata": {
    "ExecuteTime": {
     "end_time": "2019-10-16T18:25:47.768554Z",
     "start_time": "2019-10-16T18:25:47.725Z"
    }
   },
   "outputs": [
    {
     "data": {
      "text/html": [
       "TRUE"
      ],
      "text/latex": [
       "TRUE"
      ],
      "text/markdown": [
       "TRUE"
      ],
      "text/plain": [
       "[1] TRUE"
      ]
     },
     "metadata": {},
     "output_type": "display_data"
    }
   ],
   "source": [
    "all(rownames(dds3) == gene_ids3$gene_id) # make sure all gene_ids are the same as the gene ids in dds"
   ]
  },
  {
   "cell_type": "code",
   "execution_count": 37,
   "metadata": {
    "ExecuteTime": {
     "end_time": "2019-10-16T18:25:50.643361Z",
     "start_time": "2019-10-16T18:25:50.576Z"
    }
   },
   "outputs": [],
   "source": [
    "mcols(dds3) <- cbind(mcols(dds3), 'gene_name' = gene_names3) # adding gene_names to counts dds"
   ]
  },
  {
   "cell_type": "code",
   "execution_count": 38,
   "metadata": {
    "ExecuteTime": {
     "end_time": "2019-10-16T18:25:56.032337Z",
     "start_time": "2019-10-16T18:25:55.926Z"
    }
   },
   "outputs": [],
   "source": [
    "keep3 <- rowSums(counts(dds3)) >= 10 # pre-analysis filter to remove very low read count genes\n",
    "dds3 <- dds3[keep3,]"
   ]
  },
  {
   "cell_type": "code",
   "execution_count": 39,
   "metadata": {
    "ExecuteTime": {
     "end_time": "2019-10-16T18:25:56.891684Z",
     "start_time": "2019-10-16T18:25:56.864Z"
    }
   },
   "outputs": [
    {
     "data": {
      "text/html": [
       "<ol class=list-inline>\n",
       "\t<li>14434</li>\n",
       "\t<li>12</li>\n",
       "</ol>\n"
      ],
      "text/latex": [
       "\\begin{enumerate*}\n",
       "\\item 14434\n",
       "\\item 12\n",
       "\\end{enumerate*}\n"
      ],
      "text/markdown": [
       "1. 14434\n",
       "2. 12\n",
       "\n",
       "\n"
      ],
      "text/plain": [
       "[1] 14434    12"
      ]
     },
     "metadata": {},
     "output_type": "display_data"
    }
   ],
   "source": [
    "dim(dds3)"
   ]
  },
  {
   "cell_type": "raw",
   "metadata": {
    "ExecuteTime": {
     "end_time": "2019-09-13T20:34:17.934378Z",
     "start_time": "2019-09-13T20:34:17.424Z"
    }
   },
   "source": [
    "# specify factor level, not needed since Deseq2 will do it automatically\n",
    "dds3$condition <- factor(dds3$condition, levels = unique(as.vector(coldata3$condition)))\n",
    "dds3$group <- factor(dds3$group, levels = unique(as.vector(coldata3$group)))"
   ]
  },
  {
   "cell_type": "code",
   "execution_count": 40,
   "metadata": {
    "ExecuteTime": {
     "end_time": "2019-10-16T18:26:00.144631Z",
     "start_time": "2019-10-16T18:26:00.108Z"
    }
   },
   "outputs": [
    {
     "data": {
      "text/html": [
       "<table>\n",
       "<caption>A matrix: 6 × 12 of type int</caption>\n",
       "<thead>\n",
       "\t<tr><th></th><th scope=col>A1</th><th scope=col>A2</th><th scope=col>A3</th><th scope=col>A4</th><th scope=col>A5</th><th scope=col>A6</th><th scope=col>A7</th><th scope=col>A8</th><th scope=col>A9</th><th scope=col>A10</th><th scope=col>A11</th><th scope=col>A12</th></tr>\n",
       "</thead>\n",
       "<tbody>\n",
       "\t<tr><th scope=row>ENSG00000000003.14</th><td> 93</td><td> 85</td><td> 79</td><td> 65</td><td>121</td><td>104</td><td>109</td><td>145</td><td>292</td><td>121</td><td>202</td><td>219</td></tr>\n",
       "\t<tr><th scope=row>ENSG00000000005.6</th><td> 23</td><td> 10</td><td> 32</td><td> 13</td><td> 11</td><td> 20</td><td> 14</td><td> 27</td><td> 44</td><td>  6</td><td> 18</td><td> 15</td></tr>\n",
       "\t<tr><th scope=row>ENSG00000000457.14</th><td>200</td><td>169</td><td>161</td><td>124</td><td>223</td><td>290</td><td>140</td><td>197</td><td>429</td><td>281</td><td>365</td><td>313</td></tr>\n",
       "\t<tr><th scope=row>ENSG00000000460.17</th><td>297</td><td>205</td><td>224</td><td>209</td><td>230</td><td>405</td><td>237</td><td>278</td><td>564</td><td>335</td><td>281</td><td>252</td></tr>\n",
       "\t<tr><th scope=row>ENSG00000000938.13</th><td>145</td><td>192</td><td>161</td><td>178</td><td>176</td><td>224</td><td>101</td><td>177</td><td>315</td><td>242</td><td>133</td><td> 99</td></tr>\n",
       "\t<tr><th scope=row>ENSG00000000971.15</th><td> 89</td><td> 71</td><td> 65</td><td> 49</td><td> 78</td><td>160</td><td>111</td><td>116</td><td>182</td><td>122</td><td> 77</td><td> 60</td></tr>\n",
       "</tbody>\n",
       "</table>\n"
      ],
      "text/latex": [
       "A matrix: 6 × 12 of type int\n",
       "\\begin{tabular}{r|llllllllllll}\n",
       "  & A1 & A2 & A3 & A4 & A5 & A6 & A7 & A8 & A9 & A10 & A11 & A12\\\\\n",
       "\\hline\n",
       "\tENSG00000000003.14 &  93 &  85 &  79 &  65 & 121 & 104 & 109 & 145 & 292 & 121 & 202 & 219\\\\\n",
       "\tENSG00000000005.6 &  23 &  10 &  32 &  13 &  11 &  20 &  14 &  27 &  44 &   6 &  18 &  15\\\\\n",
       "\tENSG00000000457.14 & 200 & 169 & 161 & 124 & 223 & 290 & 140 & 197 & 429 & 281 & 365 & 313\\\\\n",
       "\tENSG00000000460.17 & 297 & 205 & 224 & 209 & 230 & 405 & 237 & 278 & 564 & 335 & 281 & 252\\\\\n",
       "\tENSG00000000938.13 & 145 & 192 & 161 & 178 & 176 & 224 & 101 & 177 & 315 & 242 & 133 &  99\\\\\n",
       "\tENSG00000000971.15 &  89 &  71 &  65 &  49 &  78 & 160 & 111 & 116 & 182 & 122 &  77 &  60\\\\\n",
       "\\end{tabular}\n"
      ],
      "text/markdown": [
       "\n",
       "A matrix: 6 × 12 of type int\n",
       "\n",
       "| <!--/--> | A1 | A2 | A3 | A4 | A5 | A6 | A7 | A8 | A9 | A10 | A11 | A12 |\n",
       "|---|---|---|---|---|---|---|---|---|---|---|---|---|\n",
       "| ENSG00000000003.14 |  93 |  85 |  79 |  65 | 121 | 104 | 109 | 145 | 292 | 121 | 202 | 219 |\n",
       "| ENSG00000000005.6 |  23 |  10 |  32 |  13 |  11 |  20 |  14 |  27 |  44 |   6 |  18 |  15 |\n",
       "| ENSG00000000457.14 | 200 | 169 | 161 | 124 | 223 | 290 | 140 | 197 | 429 | 281 | 365 | 313 |\n",
       "| ENSG00000000460.17 | 297 | 205 | 224 | 209 | 230 | 405 | 237 | 278 | 564 | 335 | 281 | 252 |\n",
       "| ENSG00000000938.13 | 145 | 192 | 161 | 178 | 176 | 224 | 101 | 177 | 315 | 242 | 133 |  99 |\n",
       "| ENSG00000000971.15 |  89 |  71 |  65 |  49 |  78 | 160 | 111 | 116 | 182 | 122 |  77 |  60 |\n",
       "\n"
      ],
      "text/plain": [
       "                   A1  A2  A3  A4  A5  A6  A7  A8  A9  A10 A11 A12\n",
       "ENSG00000000003.14  93  85  79  65 121 104 109 145 292 121 202 219\n",
       "ENSG00000000005.6   23  10  32  13  11  20  14  27  44   6  18  15\n",
       "ENSG00000000457.14 200 169 161 124 223 290 140 197 429 281 365 313\n",
       "ENSG00000000460.17 297 205 224 209 230 405 237 278 564 335 281 252\n",
       "ENSG00000000938.13 145 192 161 178 176 224 101 177 315 242 133  99\n",
       "ENSG00000000971.15  89  71  65  49  78 160 111 116 182 122  77  60"
      ]
     },
     "metadata": {},
     "output_type": "display_data"
    }
   ],
   "source": [
    "counts(dds3) %>% head()"
   ]
  },
  {
   "cell_type": "code",
   "execution_count": 41,
   "metadata": {
    "ExecuteTime": {
     "end_time": "2019-10-16T18:26:17.574464Z",
     "start_time": "2019-10-16T18:26:04.513Z"
    }
   },
   "outputs": [
    {
     "name": "stderr",
     "output_type": "stream",
     "text": [
      "estimating size factors\n",
      "estimating dispersions\n",
      "gene-wise dispersion estimates\n",
      "mean-dispersion relationship\n",
      "final dispersion estimates\n",
      "fitting model and testing\n"
     ]
    }
   ],
   "source": [
    "dds3 <- DESeq(dds3) # build model"
   ]
  },
  {
   "cell_type": "code",
   "execution_count": 42,
   "metadata": {
    "ExecuteTime": {
     "end_time": "2019-10-16T18:26:17.596407Z",
     "start_time": "2019-10-16T18:26:17.039Z"
    }
   },
   "outputs": [
    {
     "data": {
      "text/html": [
       "<ol class=list-inline>\n",
       "\t<li>'Intercept'</li>\n",
       "\t<li>'group_ES_vs_D5'</li>\n",
       "\t<li>'group_H1_vs_D5'</li>\n",
       "\t<li>'group_H16_vs_D5'</li>\n",
       "\t<li>'group_H24_vs_D5'</li>\n",
       "\t<li>'group_H4_vs_D5'</li>\n",
       "</ol>\n"
      ],
      "text/latex": [
       "\\begin{enumerate*}\n",
       "\\item 'Intercept'\n",
       "\\item 'group\\_ES\\_vs\\_D5'\n",
       "\\item 'group\\_H1\\_vs\\_D5'\n",
       "\\item 'group\\_H16\\_vs\\_D5'\n",
       "\\item 'group\\_H24\\_vs\\_D5'\n",
       "\\item 'group\\_H4\\_vs\\_D5'\n",
       "\\end{enumerate*}\n"
      ],
      "text/markdown": [
       "1. 'Intercept'\n",
       "2. 'group_ES_vs_D5'\n",
       "3. 'group_H1_vs_D5'\n",
       "4. 'group_H16_vs_D5'\n",
       "5. 'group_H24_vs_D5'\n",
       "6. 'group_H4_vs_D5'\n",
       "\n",
       "\n"
      ],
      "text/plain": [
       "[1] \"Intercept\"       \"group_ES_vs_D5\"  \"group_H1_vs_D5\"  \"group_H16_vs_D5\"\n",
       "[5] \"group_H24_vs_D5\" \"group_H4_vs_D5\" "
      ]
     },
     "metadata": {},
     "output_type": "display_data"
    }
   ],
   "source": [
    "resultsNames(dds3) # model coefficients"
   ]
  },
  {
   "cell_type": "markdown",
   "metadata": {},
   "source": [
    "### Volcano plots"
   ]
  },
  {
   "cell_type": "markdown",
   "metadata": {
    "heading_collapsed": true
   },
   "source": [
    "#### 1H vs. ES"
   ]
  },
  {
   "cell_type": "code",
   "execution_count": 43,
   "metadata": {
    "ExecuteTime": {
     "end_time": "2019-10-16T18:37:33.518876Z",
     "start_time": "2019-10-16T18:37:32.137Z"
    },
    "hidden": true
   },
   "outputs": [],
   "source": [
    "res3a <- results(dds3, contrast = c('group','H1','ES')) # modelling ES vs. +DOX\n",
    "\n",
    "# add gene_name to result\n",
    "if (all(rownames(res3a) == rownames(dds3))) {\n",
    "    res3a.df <- cbind(res3a, 'gene_name' = mcols(dds3)$gene_name) %>% as.data.frame %>% rownames_to_column('gene_id') %>% filter(!is.na(padj))\n",
    "}  else {\n",
    "    print(\"Rownames don't match!\")\n",
    "}"
   ]
  },
  {
   "cell_type": "code",
   "execution_count": 45,
   "metadata": {
    "ExecuteTime": {
     "end_time": "2019-09-17T01:23:36.908725Z",
     "start_time": "2019-09-17T01:23:35.197Z"
    },
    "hidden": true
   },
   "outputs": [
    {
     "data": {
      "image/png": "[encoded data removed]",
      "text/plain": [
       "plot without title"
      ]
     },
     "metadata": {},
     "output_type": "display_data"
    }
   ],
   "source": [
    "EnhancedVolcano(res3a.df, lab = res3a.df$gene_name, x='log2FoldChange',y='padj', xlim=c(-8,8), ylim=c(0,50),\n",
    "                xlab = bquote(~Log[2]~ 'fold change'), ylab= bquote(~-Log[10]~adjusted~italic(P)),\n",
    "                legend=c('NS','Log2 FC','Adj. P', 'Adj. P & Log2 FC'),legendPosition='bottom', legendLabSize = 8, \n",
    "                legendIconSize = 3.0, title = \"Wild type: 1H vs. ES\", subtitle=\"\", pCutoff = 0.05, FCcutoff = 1.5,\n",
    "                transcriptPointSize = 1.5, transcriptLabSize = 3.0, colAlpha = .4)\n",
    "# selectLab = c('FHL3', 'STRAG') to only label key transcripts"
   ]
  },
  {
   "cell_type": "markdown",
   "metadata": {
    "heading_collapsed": true
   },
   "source": [
    "#### 4H vs. ES"
   ]
  },
  {
   "cell_type": "code",
   "execution_count": 46,
   "metadata": {
    "ExecuteTime": {
     "end_time": "2019-10-16T18:37:40.603608Z",
     "start_time": "2019-10-16T18:37:39.897Z"
    },
    "hidden": true
   },
   "outputs": [],
   "source": [
    "res3b <- results(dds3, contrast = c('group','H4','ES'))\n",
    "\n",
    "# add gene_name to result\n",
    "if (all(rownames(res3b) == rownames(dds3))) {\n",
    "    res3b.df <- cbind(res3b, 'gene_name' = mcols(dds3)$gene_name) %>% as.data.frame %>% rownames_to_column('gene_id') %>% filter(!is.na(padj))   \n",
    "}  else {\n",
    "    print(\"Rownames don't match!\")\n",
    "}"
   ]
  },
  {
   "cell_type": "code",
   "execution_count": 47,
   "metadata": {
    "ExecuteTime": {
     "end_time": "2019-09-17T01:23:32.925801Z",
     "start_time": "2019-09-17T01:23:31.196Z"
    },
    "hidden": true
   },
   "outputs": [
    {
     "data": {
      "image/png": "[encoded data removed]",
      "text/plain": [
       "plot without title"
      ]
     },
     "metadata": {},
     "output_type": "display_data"
    }
   ],
   "source": [
    "EnhancedVolcano(res3b.df, lab = res3b.df$gene_name, x='log2FoldChange',y='padj', xlim=c(-8,8), ylim=c(0,50),\n",
    "                xlab = bquote(~Log[2]~ 'fold change'), ylab= bquote(~-Log[10]~adjusted~italic(P)),\n",
    "                legend=c('NS','Log2 FC','Adj. P', 'Adj. P & Log2 FC'),legendPosition='bottom', legendLabSize = 8, \n",
    "                legendIconSize = 3.0, title = \"Wild type: 4H vs. ES\", subtitle=\"\", pCutoff = 0.05, FCcutoff = 1.5,\n",
    "                transcriptPointSize = 1.5, transcriptLabSize = 3.0, colAlpha = .4)\n",
    "# selectLab = c('FHL3', 'STRAG') to only label key transcripts"
   ]
  },
  {
   "cell_type": "markdown",
   "metadata": {
    "heading_collapsed": true
   },
   "source": [
    "#### H16 vs. ES"
   ]
  },
  {
   "cell_type": "code",
   "execution_count": 48,
   "metadata": {
    "ExecuteTime": {
     "end_time": "2019-10-16T18:37:46.476767Z",
     "start_time": "2019-10-16T18:37:45.186Z"
    },
    "hidden": true
   },
   "outputs": [],
   "source": [
    "res3c <- results(dds3, contrast = c('group','H16','ES'))\n",
    "\n",
    "# add gene_name to result\n",
    "if (all(rownames(res3c) == rownames(dds3))) {\n",
    "    res3c.df <- cbind(res3c, 'gene_name' = mcols(dds3)$gene_name) %>% as.data.frame %>% rownames_to_column('gene_id') %>% filter(!is.na(padj))   \n",
    "}  else {\n",
    "    print(\"Rownames don't match!\")\n",
    "}"
   ]
  },
  {
   "cell_type": "code",
   "execution_count": 49,
   "metadata": {
    "ExecuteTime": {
     "end_time": "2019-09-17T01:23:28.499903Z",
     "start_time": "2019-09-17T01:23:26.710Z"
    },
    "hidden": true
   },
   "outputs": [
    {
     "data": {
      "image/png": "[encoded data removed]",
      "text/plain": [
       "plot without title"
      ]
     },
     "metadata": {},
     "output_type": "display_data"
    }
   ],
   "source": [
    "EnhancedVolcano(res3c.df, lab = res3c.df$gene_name, x='log2FoldChange',y='padj', xlim=c(-8,8), ylim=c(0,50),\n",
    "                xlab = bquote(~Log[2]~ 'fold change'), ylab= bquote(~-Log[10]~adjusted~italic(P)),\n",
    "                legend=c('NS','Log2 FC','Adj. P', 'Adj. P & Log2 FC'),legendPosition='bottom', legendLabSize = 8, \n",
    "                legendIconSize = 3.0, title = \"Wild type: 16H vs. ES\", subtitle=\"\", pCutoff = 0.05, FCcutoff = 2,\n",
    "                transcriptPointSize = 1.5, transcriptLabSize = 3.0, colAlpha = .4)\n",
    "# selectLab = c('FHL3', 'STRAG') to only label key transcripts"
   ]
  },
  {
   "cell_type": "markdown",
   "metadata": {},
   "source": [
    "#### 24H vs. ES"
   ]
  },
  {
   "cell_type": "code",
   "execution_count": 50,
   "metadata": {
    "ExecuteTime": {
     "end_time": "2019-10-16T18:30:05.861105Z",
     "start_time": "2019-10-16T18:30:05.070Z"
    }
   },
   "outputs": [],
   "source": [
    "res3d <- results(dds3, contrast = c('group','H24','ES'))\n",
    "\n",
    "# add gene_name to result\n",
    "if (all(rownames(res3d) == rownames(dds3))) {\n",
    "    res3d.df <- cbind(res3d, 'gene_name' = mcols(dds3)$gene_name) %>% as.data.frame %>% rownames_to_column('gene_id') %>% filter(!is.na(padj))\n",
    "}  else {\n",
    "    print(\"Rownames don't match!\")\n",
    "}"
   ]
  },
  {
   "cell_type": "code",
   "execution_count": 51,
   "metadata": {
    "ExecuteTime": {
     "end_time": "2019-10-16T18:31:54.558277Z",
     "start_time": "2019-10-16T18:31:54.521Z"
    }
   },
   "outputs": [
    {
     "data": {
      "text/html": [
       "<table>\n",
       "<caption>A data.frame: 2 × 8</caption>\n",
       "<thead>\n",
       "\t<tr><th scope=col>gene_id</th><th scope=col>baseMean</th><th scope=col>log2FoldChange</th><th scope=col>lfcSE</th><th scope=col>stat</th><th scope=col>pvalue</th><th scope=col>padj</th><th scope=col>gene_name</th></tr>\n",
       "\t<tr><th scope=col>&lt;chr&gt;</th><th scope=col>&lt;dbl&gt;</th><th scope=col>&lt;dbl&gt;</th><th scope=col>&lt;dbl&gt;</th><th scope=col>&lt;dbl&gt;</th><th scope=col>&lt;dbl&gt;</th><th scope=col>&lt;dbl&gt;</th><th scope=col>&lt;chr&gt;</th></tr>\n",
       "</thead>\n",
       "<tbody>\n",
       "\t<tr><td>ENSG00000000003.14</td><td>127.8091</td><td>0.3500344</td><td>0.2635813</td><td>1.3279937</td><td>0.1841802</td><td>0.4476444</td><td>TSPAN6</td></tr>\n",
       "\t<tr><td>ENSG00000000457.14</td><td>226.7900</td><td>0.1341985</td><td>0.1603113</td><td>0.8371117</td><td>0.4025298</td><td>0.6669093</td><td>SCYL3 </td></tr>\n",
       "</tbody>\n",
       "</table>\n"
      ],
      "text/latex": [
       "A data.frame: 2 × 8\n",
       "\\begin{tabular}{r|llllllll}\n",
       " gene\\_id & baseMean & log2FoldChange & lfcSE & stat & pvalue & padj & gene\\_name\\\\\n",
       " <chr> & <dbl> & <dbl> & <dbl> & <dbl> & <dbl> & <dbl> & <chr>\\\\\n",
       "\\hline\n",
       "\t ENSG00000000003.14 & 127.8091 & 0.3500344 & 0.2635813 & 1.3279937 & 0.1841802 & 0.4476444 & TSPAN6\\\\\n",
       "\t ENSG00000000457.14 & 226.7900 & 0.1341985 & 0.1603113 & 0.8371117 & 0.4025298 & 0.6669093 & SCYL3 \\\\\n",
       "\\end{tabular}\n"
      ],
      "text/markdown": [
       "\n",
       "A data.frame: 2 × 8\n",
       "\n",
       "| gene_id &lt;chr&gt; | baseMean &lt;dbl&gt; | log2FoldChange &lt;dbl&gt; | lfcSE &lt;dbl&gt; | stat &lt;dbl&gt; | pvalue &lt;dbl&gt; | padj &lt;dbl&gt; | gene_name &lt;chr&gt; |\n",
       "|---|---|---|---|---|---|---|---|\n",
       "| ENSG00000000003.14 | 127.8091 | 0.3500344 | 0.2635813 | 1.3279937 | 0.1841802 | 0.4476444 | TSPAN6 |\n",
       "| ENSG00000000457.14 | 226.7900 | 0.1341985 | 0.1603113 | 0.8371117 | 0.4025298 | 0.6669093 | SCYL3  |\n",
       "\n"
      ],
      "text/plain": [
       "  gene_id            baseMean log2FoldChange lfcSE     stat      pvalue   \n",
       "1 ENSG00000000003.14 127.8091 0.3500344      0.2635813 1.3279937 0.1841802\n",
       "2 ENSG00000000457.14 226.7900 0.1341985      0.1603113 0.8371117 0.4025298\n",
       "  padj      gene_name\n",
       "1 0.4476444 TSPAN6   \n",
       "2 0.6669093 SCYL3    "
      ]
     },
     "metadata": {},
     "output_type": "display_data"
    }
   ],
   "source": [
    "res3d.df %>% head(2)"
   ]
  },
  {
   "cell_type": "code",
   "execution_count": 52,
   "metadata": {
    "ExecuteTime": {
     "end_time": "2019-10-16T18:32:16.933121Z",
     "start_time": "2019-10-16T18:32:16.896Z"
    }
   },
   "outputs": [
    {
     "data": {
      "text/html": [
       "<ol class=list-inline>\n",
       "\t<li>1462</li>\n",
       "\t<li>8</li>\n",
       "</ol>\n"
      ],
      "text/latex": [
       "\\begin{enumerate*}\n",
       "\\item 1462\n",
       "\\item 8\n",
       "\\end{enumerate*}\n"
      ],
      "text/markdown": [
       "1. 1462\n",
       "2. 8\n",
       "\n",
       "\n"
      ],
      "text/plain": [
       "[1] 1462    8"
      ]
     },
     "metadata": {},
     "output_type": "display_data"
    },
    {
     "data": {
      "text/html": [
       "<ol class=list-inline>\n",
       "\t<li>59</li>\n",
       "\t<li>8</li>\n",
       "</ol>\n"
      ],
      "text/latex": [
       "\\begin{enumerate*}\n",
       "\\item 59\n",
       "\\item 8\n",
       "\\end{enumerate*}\n"
      ],
      "text/markdown": [
       "1. 59\n",
       "2. 8\n",
       "\n",
       "\n"
      ],
      "text/plain": [
       "[1] 59  8"
      ]
     },
     "metadata": {},
     "output_type": "display_data"
    }
   ],
   "source": [
    "# How many significant genes?\n",
    "res3d.df %>% filter(padj < 0.05) %>% dim\n",
    "\n",
    "# How many significant and FC > 1.5? \n",
    "res3d.df %>% filter(padj < 0.05 & abs(log2FoldChange) > 1.5) %>% dim"
   ]
  },
  {
   "cell_type": "code",
   "execution_count": 53,
   "metadata": {
    "ExecuteTime": {
     "end_time": "2019-10-16T18:33:21.079305Z",
     "start_time": "2019-10-16T18:33:19.496Z"
    }
   },
   "outputs": [
    {
     "data": {
      "image/png": "[encoded data removed]",
      "text/plain": [
       "plot without title"
      ]
     },
     "metadata": {},
     "output_type": "display_data"
    }
   ],
   "source": [
    "EnhancedVolcano(res3d.df, lab = res3d.df$gene_name, x='log2FoldChange',y='padj', xlim=c(-5,5), ylim=c(0,15),\n",
    "                xlab = bquote(~Log[2]~ 'fold change'), ylab= bquote(~-Log[10]~adjusted~italic(P)),\n",
    "                legend=c('NS','Log2 FC','Adj. P', 'Adj. P & Log2 FC'),legendPosition='bottom', legendLabSize = 8, \n",
    "                legendIconSize = 3.0, title = \"Wild type: 24H vs. ES\", subtitle=\"\", pCutoff = .05, FCcutoff = 1.5,\n",
    "                transcriptPointSize = 1.5, transcriptLabSize = 3.0, colAlpha = .4)\n",
    "# selectLab = c('FHL3', 'STRAG') to only label key transcripts"
   ]
  },
  {
   "cell_type": "markdown",
   "metadata": {},
   "source": [
    "#### 5D vs. ES"
   ]
  },
  {
   "cell_type": "code",
   "execution_count": 54,
   "metadata": {
    "ExecuteTime": {
     "end_time": "2019-10-16T18:33:35.292596Z",
     "start_time": "2019-10-16T18:33:34.658Z"
    }
   },
   "outputs": [],
   "source": [
    "res3e <- results(dds3, contrast = c('group','D5','ES'))\n",
    "\n",
    "# add gene_name to result\n",
    "if (all(rownames(res3e) == rownames(dds3))) {\n",
    "    res3e.df <- cbind(res3e, 'gene_name' = mcols(dds3)$gene_name) %>% as.data.frame %>% rownames_to_column('gene_id') %>% filter(!is.na(padj))\n",
    "}  else {\n",
    "    print(\"Rownames don't match!\")\n",
    "}"
   ]
  },
  {
   "cell_type": "code",
   "execution_count": 55,
   "metadata": {},
   "outputs": [
    {
     "data": {
      "text/html": [
       "<table>\n",
       "<caption>A data.frame: 6 × 8</caption>\n",
       "<thead>\n",
       "\t<tr><th scope=col>gene_id</th><th scope=col>baseMean</th><th scope=col>log2FoldChange</th><th scope=col>lfcSE</th><th scope=col>stat</th><th scope=col>pvalue</th><th scope=col>padj</th><th scope=col>gene_name</th></tr>\n",
       "\t<tr><th scope=col>&lt;chr&gt;</th><th scope=col>&lt;dbl&gt;</th><th scope=col>&lt;dbl&gt;</th><th scope=col>&lt;dbl&gt;</th><th scope=col>&lt;dbl&gt;</th><th scope=col>&lt;dbl&gt;</th><th scope=col>&lt;dbl&gt;</th><th scope=col>&lt;chr&gt;</th></tr>\n",
       "</thead>\n",
       "<tbody>\n",
       "\t<tr><td>ENSG00000000003.14</td><td>127.80908</td><td> 0.7887062</td><td>0.2626813</td><td> 3.0025218</td><td>2.677528e-03</td><td>7.171543e-03</td><td>TSPAN6  </td></tr>\n",
       "\t<tr><td>ENSG00000000005.6 </td><td> 18.82296</td><td>-0.4373072</td><td>0.6754501</td><td>-0.6474309</td><td>5.173531e-01</td><td>6.024035e-01</td><td>TNMD    </td></tr>\n",
       "\t<tr><td>ENSG00000000457.14</td><td>226.78995</td><td> 0.4187259</td><td>0.1604865</td><td> 2.6091041</td><td>9.077962e-03</td><td>2.042258e-02</td><td>SCYL3   </td></tr>\n",
       "\t<tr><td>ENSG00000000460.17</td><td>281.12087</td><td>-0.3640334</td><td>0.1659779</td><td>-2.1932644</td><td>2.828833e-02</td><td>5.367606e-02</td><td>C1orf112</td></tr>\n",
       "\t<tr><td>ENSG00000000938.13</td><td>174.76956</td><td>-1.0172629</td><td>0.2202482</td><td>-4.6187116</td><td>3.861301e-06</td><td>2.417962e-05</td><td>FGR     </td></tr>\n",
       "\t<tr><td>ENSG00000000971.15</td><td> 95.12664</td><td>-0.6832256</td><td>0.2771840</td><td>-2.4648812</td><td>1.370587e-02</td><td>2.900315e-02</td><td>CFH     </td></tr>\n",
       "</tbody>\n",
       "</table>\n"
      ],
      "text/latex": [
       "A data.frame: 6 × 8\n",
       "\\begin{tabular}{r|llllllll}\n",
       " gene\\_id & baseMean & log2FoldChange & lfcSE & stat & pvalue & padj & gene\\_name\\\\\n",
       " <chr> & <dbl> & <dbl> & <dbl> & <dbl> & <dbl> & <dbl> & <chr>\\\\\n",
       "\\hline\n",
       "\t ENSG00000000003.14 & 127.80908 &  0.7887062 & 0.2626813 &  3.0025218 & 2.677528e-03 & 7.171543e-03 & TSPAN6  \\\\\n",
       "\t ENSG00000000005.6  &  18.82296 & -0.4373072 & 0.6754501 & -0.6474309 & 5.173531e-01 & 6.024035e-01 & TNMD    \\\\\n",
       "\t ENSG00000000457.14 & 226.78995 &  0.4187259 & 0.1604865 &  2.6091041 & 9.077962e-03 & 2.042258e-02 & SCYL3   \\\\\n",
       "\t ENSG00000000460.17 & 281.12087 & -0.3640334 & 0.1659779 & -2.1932644 & 2.828833e-02 & 5.367606e-02 & C1orf112\\\\\n",
       "\t ENSG00000000938.13 & 174.76956 & -1.0172629 & 0.2202482 & -4.6187116 & 3.861301e-06 & 2.417962e-05 & FGR     \\\\\n",
       "\t ENSG00000000971.15 &  95.12664 & -0.6832256 & 0.2771840 & -2.4648812 & 1.370587e-02 & 2.900315e-02 & CFH     \\\\\n",
       "\\end{tabular}\n"
      ],
      "text/markdown": [
       "\n",
       "A data.frame: 6 × 8\n",
       "\n",
       "| gene_id &lt;chr&gt; | baseMean &lt;dbl&gt; | log2FoldChange &lt;dbl&gt; | lfcSE &lt;dbl&gt; | stat &lt;dbl&gt; | pvalue &lt;dbl&gt; | padj &lt;dbl&gt; | gene_name &lt;chr&gt; |\n",
       "|---|---|---|---|---|---|---|---|\n",
       "| ENSG00000000003.14 | 127.80908 |  0.7887062 | 0.2626813 |  3.0025218 | 2.677528e-03 | 7.171543e-03 | TSPAN6   |\n",
       "| ENSG00000000005.6  |  18.82296 | -0.4373072 | 0.6754501 | -0.6474309 | 5.173531e-01 | 6.024035e-01 | TNMD     |\n",
       "| ENSG00000000457.14 | 226.78995 |  0.4187259 | 0.1604865 |  2.6091041 | 9.077962e-03 | 2.042258e-02 | SCYL3    |\n",
       "| ENSG00000000460.17 | 281.12087 | -0.3640334 | 0.1659779 | -2.1932644 | 2.828833e-02 | 5.367606e-02 | C1orf112 |\n",
       "| ENSG00000000938.13 | 174.76956 | -1.0172629 | 0.2202482 | -4.6187116 | 3.861301e-06 | 2.417962e-05 | FGR      |\n",
       "| ENSG00000000971.15 |  95.12664 | -0.6832256 | 0.2771840 | -2.4648812 | 1.370587e-02 | 2.900315e-02 | CFH      |\n",
       "\n"
      ],
      "text/plain": [
       "  gene_id            baseMean  log2FoldChange lfcSE     stat       pvalue      \n",
       "1 ENSG00000000003.14 127.80908  0.7887062     0.2626813  3.0025218 2.677528e-03\n",
       "2 ENSG00000000005.6   18.82296 -0.4373072     0.6754501 -0.6474309 5.173531e-01\n",
       "3 ENSG00000000457.14 226.78995  0.4187259     0.1604865  2.6091041 9.077962e-03\n",
       "4 ENSG00000000460.17 281.12087 -0.3640334     0.1659779 -2.1932644 2.828833e-02\n",
       "5 ENSG00000000938.13 174.76956 -1.0172629     0.2202482 -4.6187116 3.861301e-06\n",
       "6 ENSG00000000971.15  95.12664 -0.6832256     0.2771840 -2.4648812 1.370587e-02\n",
       "  padj         gene_name\n",
       "1 7.171543e-03 TSPAN6   \n",
       "2 6.024035e-01 TNMD     \n",
       "3 2.042258e-02 SCYL3    \n",
       "4 5.367606e-02 C1orf112 \n",
       "5 2.417962e-05 FGR      \n",
       "6 2.900315e-02 CFH      "
      ]
     },
     "metadata": {},
     "output_type": "display_data"
    }
   ],
   "source": [
    "res3e.df %>% head"
   ]
  },
  {
   "cell_type": "code",
   "execution_count": 58,
   "metadata": {
    "ExecuteTime": {
     "end_time": "2019-10-16T18:34:31.567753Z",
     "start_time": "2019-10-16T18:34:29.937Z"
    }
   },
   "outputs": [
    {
     "data": {
      "image/png": "[encoded data removed]",
      "text/plain": [
       "plot without title"
      ]
     },
     "metadata": {},
     "output_type": "display_data"
    }
   ],
   "source": [
    "EnhancedVolcano(res3e.df, lab = res3e.df$gene_name, x='log2FoldChange',y='padj', xlim=c(-6,6), ylim=c(0,75),\n",
    "                xlab = bquote(~Log[2]~ 'fold change'), ylab= bquote(~-Log[10]~adjusted~italic(P)),\n",
    "                legend=c('NS','Log2 FC','Adj. P', 'Adj. P & Log2 FC'),legendPosition='bottom', legendLabSize = 8, \n",
    "                legendIconSize = 3.0, title = \"Wild type: 5D vs. ES\", subtitle=\"\", pCutoff = .05, FCcutoff = 2,\n",
    "                transcriptPointSize = 1.5, transcriptLabSize = 3.0, colAlpha = .4)\n",
    "# selectLab = c('FHL3', 'STRAG') to only label key transcripts"
   ]
  },
  {
   "cell_type": "markdown",
   "metadata": {},
   "source": [
    "### Get genes at each temporal point"
   ]
  },
  {
   "cell_type": "code",
   "execution_count": 59,
   "metadata": {
    "ExecuteTime": {
     "end_time": "2019-10-16T18:38:22.615011Z",
     "start_time": "2019-10-16T18:38:22.576Z"
    }
   },
   "outputs": [],
   "source": [
    "sig_genes_3a <- res3a.df %>% filter(padj < 0.05) %>% pull('gene_name') %>% unique %>% as.character\n",
    "sig_genes_3b <- res3b.df %>% filter(padj < 0.05) %>% pull('gene_name') %>% unique %>% as.character \n",
    "sig_genes_3c <- res3c.df %>% filter(padj < 0.05) %>% pull('gene_name') %>% unique %>% as.character\n",
    "sig_genes_3d <- res3d.df %>% filter(padj < 0.05) %>% pull('gene_name') %>% unique %>% as.character\n",
    "sig_genes_3e <- res3e.df %>% filter(padj < 0.05) %>% pull('gene_name') %>% unique %>% as.character"
   ]
  },
  {
   "cell_type": "markdown",
   "metadata": {},
   "source": [
    "##### Number of genes significant in each tempral profile"
   ]
  },
  {
   "cell_type": "code",
   "execution_count": 60,
   "metadata": {
    "ExecuteTime": {
     "end_time": "2019-10-16T18:38:23.802654Z",
     "start_time": "2019-10-16T18:38:23.763Z"
    }
   },
   "outputs": [
    {
     "data": {
      "text/html": [
       "<table>\n",
       "<caption>A data.frame: 1 × 8</caption>\n",
       "<thead>\n",
       "\t<tr><th scope=col>gene_id</th><th scope=col>baseMean</th><th scope=col>log2FoldChange</th><th scope=col>lfcSE</th><th scope=col>stat</th><th scope=col>pvalue</th><th scope=col>padj</th><th scope=col>gene_name</th></tr>\n",
       "\t<tr><th scope=col>&lt;chr&gt;</th><th scope=col>&lt;dbl&gt;</th><th scope=col>&lt;dbl&gt;</th><th scope=col>&lt;dbl&gt;</th><th scope=col>&lt;dbl&gt;</th><th scope=col>&lt;dbl&gt;</th><th scope=col>&lt;dbl&gt;</th><th scope=col>&lt;chr&gt;</th></tr>\n",
       "</thead>\n",
       "<tbody>\n",
       "\t<tr><td>ENSG00000179456.10</td><td>31.90549</td><td>2.05584</td><td>0.4856477</td><td>4.233193</td><td>2.303971e-05</td><td>0.0001170969</td><td>ZBTB18</td></tr>\n",
       "</tbody>\n",
       "</table>\n"
      ],
      "text/latex": [
       "A data.frame: 1 × 8\n",
       "\\begin{tabular}{r|llllllll}\n",
       " gene\\_id & baseMean & log2FoldChange & lfcSE & stat & pvalue & padj & gene\\_name\\\\\n",
       " <chr> & <dbl> & <dbl> & <dbl> & <dbl> & <dbl> & <dbl> & <chr>\\\\\n",
       "\\hline\n",
       "\t ENSG00000179456.10 & 31.90549 & 2.05584 & 0.4856477 & 4.233193 & 2.303971e-05 & 0.0001170969 & ZBTB18\\\\\n",
       "\\end{tabular}\n"
      ],
      "text/markdown": [
       "\n",
       "A data.frame: 1 × 8\n",
       "\n",
       "| gene_id &lt;chr&gt; | baseMean &lt;dbl&gt; | log2FoldChange &lt;dbl&gt; | lfcSE &lt;dbl&gt; | stat &lt;dbl&gt; | pvalue &lt;dbl&gt; | padj &lt;dbl&gt; | gene_name &lt;chr&gt; |\n",
       "|---|---|---|---|---|---|---|---|\n",
       "| ENSG00000179456.10 | 31.90549 | 2.05584 | 0.4856477 | 4.233193 | 2.303971e-05 | 0.0001170969 | ZBTB18 |\n",
       "\n"
      ],
      "text/plain": [
       "  gene_id            baseMean log2FoldChange lfcSE     stat     pvalue      \n",
       "1 ENSG00000179456.10 31.90549 2.05584        0.4856477 4.233193 2.303971e-05\n",
       "  padj         gene_name\n",
       "1 0.0001170969 ZBTB18   "
      ]
     },
     "metadata": {},
     "output_type": "display_data"
    }
   ],
   "source": [
    "res3e.df %>% filter(gene_name == 'ZBTB18')"
   ]
  },
  {
   "cell_type": "code",
   "execution_count": 61,
   "metadata": {
    "ExecuteTime": {
     "end_time": "2019-10-16T18:38:25.156800Z",
     "start_time": "2019-10-16T18:38:25.102Z"
    }
   },
   "outputs": [
    {
     "data": {
      "text/html": [
       "<table>\n",
       "<caption>A data.frame: 6 × 12</caption>\n",
       "<thead>\n",
       "\t<tr><th></th><th scope=col>A1</th><th scope=col>A2</th><th scope=col>A3</th><th scope=col>A4</th><th scope=col>A5</th><th scope=col>A6</th><th scope=col>A7</th><th scope=col>A8</th><th scope=col>A9</th><th scope=col>A10</th><th scope=col>A11</th><th scope=col>A12</th></tr>\n",
       "\t<tr><th></th><th scope=col>&lt;dbl&gt;</th><th scope=col>&lt;dbl&gt;</th><th scope=col>&lt;dbl&gt;</th><th scope=col>&lt;dbl&gt;</th><th scope=col>&lt;dbl&gt;</th><th scope=col>&lt;dbl&gt;</th><th scope=col>&lt;dbl&gt;</th><th scope=col>&lt;dbl&gt;</th><th scope=col>&lt;dbl&gt;</th><th scope=col>&lt;dbl&gt;</th><th scope=col>&lt;dbl&gt;</th><th scope=col>&lt;dbl&gt;</th></tr>\n",
       "</thead>\n",
       "<tbody>\n",
       "\t<tr><th scope=row>ENSG00000000003.14</th><td>101.43009</td><td>106.34806</td><td> 93.59774</td><td> 80.41350</td><td>141.50018</td><td> 87.09302</td><td>153.28629</td><td>148.35069</td><td>162.29750</td><td>100.296363</td><td>161.73684</td><td>197.35865</td></tr>\n",
       "\t<tr><th scope=row>ENSG00000000005.6</th><td> 25.08486</td><td> 12.51154</td><td> 37.91301</td><td> 16.08270</td><td> 12.86365</td><td> 16.74866</td><td> 19.68815</td><td> 27.62392</td><td> 24.45579</td><td>  4.973373</td><td> 14.41219</td><td> 13.51772</td></tr>\n",
       "\t<tr><th scope=row>ENSG00000000457.14</th><td>218.12923</td><td>211.44497</td><td>190.74983</td><td>153.40422</td><td>260.78133</td><td>242.85554</td><td>196.88147</td><td>201.55232</td><td>238.44392</td><td>232.919652</td><td>292.24727</td><td>282.06967</td></tr>\n",
       "\t<tr><th scope=row>ENSG00000000460.17</th><td>323.92190</td><td>256.48651</td><td>265.39107</td><td>258.56034</td><td>268.96729</td><td>339.16033</td><td>333.29221</td><td>284.42409</td><td>313.47872</td><td>277.680012</td><td>224.99036</td><td>227.09763</td></tr>\n",
       "\t<tr><th scope=row>ENSG00000000938.13</th><td>158.14369</td><td>240.22151</td><td>190.74983</td><td>220.20928</td><td>205.81845</td><td>187.58497</td><td>142.03592</td><td>181.09016</td><td>175.08120</td><td>200.592725</td><td>106.49010</td><td> 89.21692</td></tr>\n",
       "\t<tr><th scope=row>ENSG00000000971.15</th><td> 97.06751</td><td> 88.83191</td><td> 77.01080</td><td> 60.61941</td><td> 91.21499</td><td>133.98926</td><td>156.09888</td><td>118.68055</td><td>101.15803</td><td>101.125258</td><td> 61.65216</td><td> 54.07086</td></tr>\n",
       "</tbody>\n",
       "</table>\n"
      ],
      "text/latex": [
       "A data.frame: 6 × 12\n",
       "\\begin{tabular}{r|llllllllllll}\n",
       "  & A1 & A2 & A3 & A4 & A5 & A6 & A7 & A8 & A9 & A10 & A11 & A12\\\\\n",
       "  & <dbl> & <dbl> & <dbl> & <dbl> & <dbl> & <dbl> & <dbl> & <dbl> & <dbl> & <dbl> & <dbl> & <dbl>\\\\\n",
       "\\hline\n",
       "\tENSG00000000003.14 & 101.43009 & 106.34806 &  93.59774 &  80.41350 & 141.50018 &  87.09302 & 153.28629 & 148.35069 & 162.29750 & 100.296363 & 161.73684 & 197.35865\\\\\n",
       "\tENSG00000000005.6 &  25.08486 &  12.51154 &  37.91301 &  16.08270 &  12.86365 &  16.74866 &  19.68815 &  27.62392 &  24.45579 &   4.973373 &  14.41219 &  13.51772\\\\\n",
       "\tENSG00000000457.14 & 218.12923 & 211.44497 & 190.74983 & 153.40422 & 260.78133 & 242.85554 & 196.88147 & 201.55232 & 238.44392 & 232.919652 & 292.24727 & 282.06967\\\\\n",
       "\tENSG00000000460.17 & 323.92190 & 256.48651 & 265.39107 & 258.56034 & 268.96729 & 339.16033 & 333.29221 & 284.42409 & 313.47872 & 277.680012 & 224.99036 & 227.09763\\\\\n",
       "\tENSG00000000938.13 & 158.14369 & 240.22151 & 190.74983 & 220.20928 & 205.81845 & 187.58497 & 142.03592 & 181.09016 & 175.08120 & 200.592725 & 106.49010 &  89.21692\\\\\n",
       "\tENSG00000000971.15 &  97.06751 &  88.83191 &  77.01080 &  60.61941 &  91.21499 & 133.98926 & 156.09888 & 118.68055 & 101.15803 & 101.125258 &  61.65216 &  54.07086\\\\\n",
       "\\end{tabular}\n"
      ],
      "text/markdown": [
       "\n",
       "A data.frame: 6 × 12\n",
       "\n",
       "| <!--/--> | A1 &lt;dbl&gt; | A2 &lt;dbl&gt; | A3 &lt;dbl&gt; | A4 &lt;dbl&gt; | A5 &lt;dbl&gt; | A6 &lt;dbl&gt; | A7 &lt;dbl&gt; | A8 &lt;dbl&gt; | A9 &lt;dbl&gt; | A10 &lt;dbl&gt; | A11 &lt;dbl&gt; | A12 &lt;dbl&gt; |\n",
       "|---|---|---|---|---|---|---|---|---|---|---|---|---|\n",
       "| ENSG00000000003.14 | 101.43009 | 106.34806 |  93.59774 |  80.41350 | 141.50018 |  87.09302 | 153.28629 | 148.35069 | 162.29750 | 100.296363 | 161.73684 | 197.35865 |\n",
       "| ENSG00000000005.6 |  25.08486 |  12.51154 |  37.91301 |  16.08270 |  12.86365 |  16.74866 |  19.68815 |  27.62392 |  24.45579 |   4.973373 |  14.41219 |  13.51772 |\n",
       "| ENSG00000000457.14 | 218.12923 | 211.44497 | 190.74983 | 153.40422 | 260.78133 | 242.85554 | 196.88147 | 201.55232 | 238.44392 | 232.919652 | 292.24727 | 282.06967 |\n",
       "| ENSG00000000460.17 | 323.92190 | 256.48651 | 265.39107 | 258.56034 | 268.96729 | 339.16033 | 333.29221 | 284.42409 | 313.47872 | 277.680012 | 224.99036 | 227.09763 |\n",
       "| ENSG00000000938.13 | 158.14369 | 240.22151 | 190.74983 | 220.20928 | 205.81845 | 187.58497 | 142.03592 | 181.09016 | 175.08120 | 200.592725 | 106.49010 |  89.21692 |\n",
       "| ENSG00000000971.15 |  97.06751 |  88.83191 |  77.01080 |  60.61941 |  91.21499 | 133.98926 | 156.09888 | 118.68055 | 101.15803 | 101.125258 |  61.65216 |  54.07086 |\n",
       "\n"
      ],
      "text/plain": [
       "                   A1        A2        A3        A4        A5        A6       \n",
       "ENSG00000000003.14 101.43009 106.34806  93.59774  80.41350 141.50018  87.09302\n",
       "ENSG00000000005.6   25.08486  12.51154  37.91301  16.08270  12.86365  16.74866\n",
       "ENSG00000000457.14 218.12923 211.44497 190.74983 153.40422 260.78133 242.85554\n",
       "ENSG00000000460.17 323.92190 256.48651 265.39107 258.56034 268.96729 339.16033\n",
       "ENSG00000000938.13 158.14369 240.22151 190.74983 220.20928 205.81845 187.58497\n",
       "ENSG00000000971.15  97.06751  88.83191  77.01080  60.61941  91.21499 133.98926\n",
       "                   A7        A8        A9        A10        A11       A12      \n",
       "ENSG00000000003.14 153.28629 148.35069 162.29750 100.296363 161.73684 197.35865\n",
       "ENSG00000000005.6   19.68815  27.62392  24.45579   4.973373  14.41219  13.51772\n",
       "ENSG00000000457.14 196.88147 201.55232 238.44392 232.919652 292.24727 282.06967\n",
       "ENSG00000000460.17 333.29221 284.42409 313.47872 277.680012 224.99036 227.09763\n",
       "ENSG00000000938.13 142.03592 181.09016 175.08120 200.592725 106.49010  89.21692\n",
       "ENSG00000000971.15 156.09888 118.68055 101.15803 101.125258  61.65216  54.07086"
      ]
     },
     "metadata": {},
     "output_type": "display_data"
    }
   ],
   "source": [
    "counts(dds3, normalized=T) %>% as.data.frame %>% head #%>% rownames_to_column('gene_id') %>% filter(gene_id == 'ENSG00000036549') %>% t"
   ]
  },
  {
   "cell_type": "code",
   "execution_count": 62,
   "metadata": {
    "ExecuteTime": {
     "end_time": "2019-10-16T18:38:26.666026Z",
     "start_time": "2019-10-16T18:38:26.626Z"
    }
   },
   "outputs": [
    {
     "data": {
      "text/html": [
       "0"
      ],
      "text/latex": [
       "0"
      ],
      "text/markdown": [
       "0"
      ],
      "text/plain": [
       "[1] 0"
      ]
     },
     "metadata": {},
     "output_type": "display_data"
    },
    {
     "data": {
      "text/html": [
       "13"
      ],
      "text/latex": [
       "13"
      ],
      "text/markdown": [
       "13"
      ],
      "text/plain": [
       "[1] 13"
      ]
     },
     "metadata": {},
     "output_type": "display_data"
    },
    {
     "data": {
      "text/html": [
       "824"
      ],
      "text/latex": [
       "824"
      ],
      "text/markdown": [
       "824"
      ],
      "text/plain": [
       "[1] 824"
      ]
     },
     "metadata": {},
     "output_type": "display_data"
    },
    {
     "data": {
      "text/html": [
       "1461"
      ],
      "text/latex": [
       "1461"
      ],
      "text/markdown": [
       "1461"
      ],
      "text/plain": [
       "[1] 1461"
      ]
     },
     "metadata": {},
     "output_type": "display_data"
    },
    {
     "data": {
      "text/html": [
       "7496"
      ],
      "text/latex": [
       "7496"
      ],
      "text/markdown": [
       "7496"
      ],
      "text/plain": [
       "[1] 7496"
      ]
     },
     "metadata": {},
     "output_type": "display_data"
    }
   ],
   "source": [
    "sig_genes_3a %>% length\n",
    "sig_genes_3b %>% length\n",
    "sig_genes_3c %>% length\n",
    "sig_genes_3d %>% length\n",
    "sig_genes_3e %>% length"
   ]
  },
  {
   "cell_type": "markdown",
   "metadata": {},
   "source": [
    "##### Build a matrix that shows how significant genes show up at different time point.\n",
    "\n",
    " .|15H |1D|2D|4D|7D\n",
    ":--:|:--:|:--:|:--:|:--:|:--:\n",
    "Gene1|log2FC|log2FC|log2FC|log2FC|log2FC\n",
    "Gene2| |log2FC|log2FC|log2FC|log2FC\n",
    "...\n",
    "GeneN| | | |log2FC|log2FC\n",
    "\n"
   ]
  },
  {
   "cell_type": "code",
   "execution_count": 63,
   "metadata": {
    "ExecuteTime": {
     "end_time": "2019-10-16T18:38:30.188350Z",
     "start_time": "2019-10-16T18:38:30.163Z"
    }
   },
   "outputs": [
    {
     "data": {
      "text/html": [
       "TRUE"
      ],
      "text/latex": [
       "TRUE"
      ],
      "text/markdown": [
       "TRUE"
      ],
      "text/plain": [
       "[1] TRUE"
      ]
     },
     "metadata": {},
     "output_type": "display_data"
    }
   ],
   "source": [
    "length(c(1,1,1,1,1)==5) & is.numeric(c(1,1,1,1,1))"
   ]
  },
  {
   "cell_type": "code",
   "execution_count": 65,
   "metadata": {
    "ExecuteTime": {
     "end_time": "2019-10-16T18:38:33.376206Z",
     "start_time": "2019-10-16T18:38:32.038Z"
    }
   },
   "outputs": [],
   "source": [
    "# A function to convert a vector of 5 binary numbers (represented in integer) into an integer. \n",
    "# This esentially represents/flags gene expression time profile.\n",
    "# e.g. c(1,1,1,1,1) => 31, c(0,0,1,0,0) => 8\n",
    "bit.like.to.int <- function(c) { \n",
    "    if (length(c) == 5 & is.numeric(c)){\n",
    "        return(c[1]*2^4 + c[2]*2^3 + c[3]*2^2 + c[4]*2^1 + c[5]*2^0)\n",
    "    }\n",
    "    else {\n",
    "        print(\"Vector must be numeric with a length of 5!\")\n",
    "    }\n",
    "}\n",
    "\n",
    "# DESeq2 results from each time point, combined into a list\n",
    "res.all.times <- list(res3a.df, res3b.df, res3c.df, res3d.df, res3e.df) \n",
    "\n",
    "# first get all significant gene_ids from all 5 time point\n",
    "sig.geneID.all.times <- c()\n",
    "fdr.cutoff <- 0.05\n",
    "for (df in res.all.times) { # iterate through the results from all 5 time points\n",
    "    geneID.temp <- df %>% filter(padj < fdr.cutoff) %>% pull(gene_id) %>% as.character # get gene_ids of significant genes from results of all 5 time points\n",
    "    sig.geneID.all.times <- c(sig.geneID.all.times, geneID.temp) # a list of gene ids for all the genes that are significant at any time point\n",
    "}\n",
    "sig.geneID.all.times <- unique(sig.geneID.all.times) # remove duplicates gene_ids\n",
    "\n",
    "# create a expression table with Log2FC at all 5 time points. The rows are genes that are significant at any timepoint. \n",
    "# Value of NA means the gene is not significant at the given time point\n",
    "\n",
    "#make a df of gene_id\n",
    "expr.tbl <- sig.geneID.all.times %>% as.data.frame(stringsAsFactors=F) %>% rename('.'='gene_id')\n",
    "\n",
    "#create a list of log2FC for all the genes listed in expr.tbl at each time point\n",
    "FC.all.times <- c()\n",
    "for (df in res.all.times) {\n",
    "    x <- expr.tbl %>% left_join(df[df$padj < fdr.cutoff, c('gene_id', 'log2FoldChange')], c('gene_id')) %>% \n",
    "        select(log2FoldChange) %>% pull(log2FoldChange)\n",
    "    FC.all.times <- c(FC.all.times, list(x)) # log2FC for the gene_id\n",
    "}\n",
    "\n",
    "#add log2FC at each time point as a column, then left join gtf_lookup to add gene name\n",
    "expr.tbl <- expr.tbl %>% add_column('1H' = FC.all.times[[1]]) %>% add_column('4H' = FC.all.times[[2]]) %>%\n",
    "             add_column('16H' = FC.all.times[[3]]) %>% add_column('24H' = FC.all.times[[4]]) %>%\n",
    "             add_column('5D' = FC.all.times[[5]]) %>% left_join(gtf_lookup, 'gene_id')\n",
    "\n",
    "\n",
    "# create a logic matrix where 1: this gene is significant at this time point, and 0: not\n",
    "logic.matrix <- apply(expr.tbl[,c(2:6)], MARGIN = 2, function(x) {!is.na(x)}) %>% as.data.frame %>% \n",
    "        mutate_all(funs(as.integer))\n",
    "\n",
    "# expression time profile flag. e.g. a number of 7 represents this gene is activated from D2 through D7, while 1 means only activated on D7\n",
    "expr.flags <- c()\n",
    "for (i in 1:dim(logic.matrix)[1]) {\n",
    "    x <- logic.matrix[i,] %>% as.numeric # convert each row e.g.[1,0,0,0,0] into a numeric vector of 5 elements, eg.c(1,0,0,0,0)\n",
    "    x <- bit.like.to.int(x) # calculate bit value (represented in int, eg. 00100 = 8)\n",
    "    expr.flags <- c(expr.flags, x)\n",
    "}\n",
    "\n",
    "expr.tbl <- cbind(expr.tbl, expr.flag=expr.flags) # add expression flags \n",
    "expr.tbl <- expr.tbl[,c(1,7:8,2:6)]"
   ]
  },
  {
   "cell_type": "code",
   "execution_count": 66,
   "metadata": {
    "ExecuteTime": {
     "end_time": "2019-10-16T18:38:39.311105Z",
     "start_time": "2019-10-16T18:38:39.177Z"
    }
   },
   "outputs": [
    {
     "data": {
      "text/html": [
       "<table>\n",
       "<caption>A data.frame: 6 × 8</caption>\n",
       "<thead>\n",
       "\t<tr><th scope=col>gene_id</th><th scope=col>gene_name</th><th scope=col>expr.flag</th><th scope=col>1H</th><th scope=col>4H</th><th scope=col>16H</th><th scope=col>24H</th><th scope=col>5D</th></tr>\n",
       "\t<tr><th scope=col>&lt;chr&gt;</th><th scope=col>&lt;fct&gt;</th><th scope=col>&lt;dbl&gt;</th><th scope=col>&lt;dbl&gt;</th><th scope=col>&lt;dbl&gt;</th><th scope=col>&lt;dbl&gt;</th><th scope=col>&lt;dbl&gt;</th><th scope=col>&lt;dbl&gt;</th></tr>\n",
       "</thead>\n",
       "<tbody>\n",
       "\t<tr><td>ENSG00000008083.14</td><td>JARID2  </td><td>15</td><td>NA</td><td>-0.5053448</td><td>-0.5660956</td><td>-0.5400255</td><td>-0.6196536</td></tr>\n",
       "\t<tr><td>ENSG00000065621.15</td><td>GSTO2   </td><td>15</td><td>NA</td><td> 0.5173015</td><td> 0.9081700</td><td> 0.8261315</td><td> 0.7374443</td></tr>\n",
       "\t<tr><td>ENSG00000078699.21</td><td>CBFA2T2 </td><td>15</td><td>NA</td><td> 0.6676727</td><td> 1.0501913</td><td> 1.3355086</td><td> 1.5444512</td></tr>\n",
       "\t<tr><td>ENSG00000108405.4 </td><td>P2RX1   </td><td>15</td><td>NA</td><td> 0.7844950</td><td> 0.7146673</td><td> 0.8816750</td><td> 0.7040117</td></tr>\n",
       "\t<tr><td>ENSG00000130707.17</td><td>ASS1    </td><td> 8</td><td>NA</td><td> 0.6512434</td><td>        NA</td><td>        NA</td><td>        NA</td></tr>\n",
       "\t<tr><td>ENSG00000149131.15</td><td>SERPING1</td><td>15</td><td>NA</td><td> 0.6852672</td><td> 0.8276870</td><td> 1.1241099</td><td> 1.8394373</td></tr>\n",
       "</tbody>\n",
       "</table>\n"
      ],
      "text/latex": [
       "A data.frame: 6 × 8\n",
       "\\begin{tabular}{r|llllllll}\n",
       " gene\\_id & gene\\_name & expr.flag & 1H & 4H & 16H & 24H & 5D\\\\\n",
       " <chr> & <fct> & <dbl> & <dbl> & <dbl> & <dbl> & <dbl> & <dbl>\\\\\n",
       "\\hline\n",
       "\t ENSG00000008083.14 & JARID2   & 15 & NA & -0.5053448 & -0.5660956 & -0.5400255 & -0.6196536\\\\\n",
       "\t ENSG00000065621.15 & GSTO2    & 15 & NA &  0.5173015 &  0.9081700 &  0.8261315 &  0.7374443\\\\\n",
       "\t ENSG00000078699.21 & CBFA2T2  & 15 & NA &  0.6676727 &  1.0501913 &  1.3355086 &  1.5444512\\\\\n",
       "\t ENSG00000108405.4  & P2RX1    & 15 & NA &  0.7844950 &  0.7146673 &  0.8816750 &  0.7040117\\\\\n",
       "\t ENSG00000130707.17 & ASS1     &  8 & NA &  0.6512434 &         NA &         NA &         NA\\\\\n",
       "\t ENSG00000149131.15 & SERPING1 & 15 & NA &  0.6852672 &  0.8276870 &  1.1241099 &  1.8394373\\\\\n",
       "\\end{tabular}\n"
      ],
      "text/markdown": [
       "\n",
       "A data.frame: 6 × 8\n",
       "\n",
       "| gene_id &lt;chr&gt; | gene_name &lt;fct&gt; | expr.flag &lt;dbl&gt; | 1H &lt;dbl&gt; | 4H &lt;dbl&gt; | 16H &lt;dbl&gt; | 24H &lt;dbl&gt; | 5D &lt;dbl&gt; |\n",
       "|---|---|---|---|---|---|---|---|\n",
       "| ENSG00000008083.14 | JARID2   | 15 | NA | -0.5053448 | -0.5660956 | -0.5400255 | -0.6196536 |\n",
       "| ENSG00000065621.15 | GSTO2    | 15 | NA |  0.5173015 |  0.9081700 |  0.8261315 |  0.7374443 |\n",
       "| ENSG00000078699.21 | CBFA2T2  | 15 | NA |  0.6676727 |  1.0501913 |  1.3355086 |  1.5444512 |\n",
       "| ENSG00000108405.4  | P2RX1    | 15 | NA |  0.7844950 |  0.7146673 |  0.8816750 |  0.7040117 |\n",
       "| ENSG00000130707.17 | ASS1     |  8 | NA |  0.6512434 |         NA |         NA |         NA |\n",
       "| ENSG00000149131.15 | SERPING1 | 15 | NA |  0.6852672 |  0.8276870 |  1.1241099 |  1.8394373 |\n",
       "\n"
      ],
      "text/plain": [
       "  gene_id            gene_name expr.flag 1H 4H         16H        24H       \n",
       "1 ENSG00000008083.14 JARID2    15        NA -0.5053448 -0.5660956 -0.5400255\n",
       "2 ENSG00000065621.15 GSTO2     15        NA  0.5173015  0.9081700  0.8261315\n",
       "3 ENSG00000078699.21 CBFA2T2   15        NA  0.6676727  1.0501913  1.3355086\n",
       "4 ENSG00000108405.4  P2RX1     15        NA  0.7844950  0.7146673  0.8816750\n",
       "5 ENSG00000130707.17 ASS1       8        NA  0.6512434         NA         NA\n",
       "6 ENSG00000149131.15 SERPING1  15        NA  0.6852672  0.8276870  1.1241099\n",
       "  5D        \n",
       "1 -0.6196536\n",
       "2  0.7374443\n",
       "3  1.5444512\n",
       "4  0.7040117\n",
       "5         NA\n",
       "6  1.8394373"
      ]
     },
     "metadata": {},
     "output_type": "display_data"
    },
    {
     "data": {
      "text/html": [
       "<ol class=list-inline>\n",
       "\t<li>7806</li>\n",
       "\t<li>8</li>\n",
       "</ol>\n"
      ],
      "text/latex": [
       "\\begin{enumerate*}\n",
       "\\item 7806\n",
       "\\item 8\n",
       "\\end{enumerate*}\n"
      ],
      "text/markdown": [
       "1. 7806\n",
       "2. 8\n",
       "\n",
       "\n"
      ],
      "text/plain": [
       "[1] 7806    8"
      ]
     },
     "metadata": {},
     "output_type": "display_data"
    }
   ],
   "source": [
    "expr.tbl %>% head\n",
    "expr.tbl %>% dim"
   ]
  },
  {
   "cell_type": "code",
   "execution_count": 67,
   "metadata": {
    "ExecuteTime": {
     "end_time": "2019-10-16T18:38:46.491471Z",
     "start_time": "2019-10-16T18:38:46.439Z"
    }
   },
   "outputs": [],
   "source": [
    "#TF list\n",
    "tflist <- read.csv('/c/groups//sanjana_lab/cdai/TFscreen/TFlist.csv', stringsAsFactors = F, col.names='gene_name') %>% pull(var = gene_name)"
   ]
  },
  {
   "cell_type": "code",
   "execution_count": 68,
   "metadata": {
    "ExecuteTime": {
     "end_time": "2019-10-16T18:38:47.603993Z",
     "start_time": "2019-10-16T18:38:47.577Z"
    }
   },
   "outputs": [],
   "source": [
    "correct_tf_gene_name <- read.csv('/c/groups//sanjana_lab/cdai/TFscreen/Refseq_to_Gencode_genenames.csv', header = F, stringsAsFactors = F) %>% rename('V1'='HGNC', 'V2'='Gencode')"
   ]
  },
  {
   "cell_type": "code",
   "execution_count": 69,
   "metadata": {
    "ExecuteTime": {
     "end_time": "2019-10-16T18:38:49.129369Z",
     "start_time": "2019-10-16T18:38:49.101Z"
    }
   },
   "outputs": [
    {
     "data": {
      "text/html": [
       "<table>\n",
       "<caption>A data.frame: 6 × 2</caption>\n",
       "<thead>\n",
       "\t<tr><th scope=col>HGNC</th><th scope=col>Gencode</th></tr>\n",
       "\t<tr><th scope=col>&lt;chr&gt;</th><th scope=col>&lt;chr&gt;</th></tr>\n",
       "</thead>\n",
       "<tbody>\n",
       "\t<tr><td>AES    </td><td>TLES      </td></tr>\n",
       "\t<tr><td>ANKRD32</td><td>SLF1      </td></tr>\n",
       "\t<tr><td>CCRN4L </td><td>NOCT      </td></tr>\n",
       "\t<tr><td>CNOT2  </td><td>AC092881.1</td></tr>\n",
       "\t<tr><td>CRAMP1L</td><td>CRAMP1    </td></tr>\n",
       "\t<tr><td>FAIM3  </td><td>FCMR      </td></tr>\n",
       "</tbody>\n",
       "</table>\n"
      ],
      "text/latex": [
       "A data.frame: 6 × 2\n",
       "\\begin{tabular}{r|ll}\n",
       " HGNC & Gencode\\\\\n",
       " <chr> & <chr>\\\\\n",
       "\\hline\n",
       "\t AES     & TLES      \\\\\n",
       "\t ANKRD32 & SLF1      \\\\\n",
       "\t CCRN4L  & NOCT      \\\\\n",
       "\t CNOT2   & AC092881.1\\\\\n",
       "\t CRAMP1L & CRAMP1    \\\\\n",
       "\t FAIM3   & FCMR      \\\\\n",
       "\\end{tabular}\n"
      ],
      "text/markdown": [
       "\n",
       "A data.frame: 6 × 2\n",
       "\n",
       "| HGNC &lt;chr&gt; | Gencode &lt;chr&gt; |\n",
       "|---|---|\n",
       "| AES     | TLES       |\n",
       "| ANKRD32 | SLF1       |\n",
       "| CCRN4L  | NOCT       |\n",
       "| CNOT2   | AC092881.1 |\n",
       "| CRAMP1L | CRAMP1     |\n",
       "| FAIM3   | FCMR       |\n",
       "\n"
      ],
      "text/plain": [
       "  HGNC    Gencode   \n",
       "1 AES     TLES      \n",
       "2 ANKRD32 SLF1      \n",
       "3 CCRN4L  NOCT      \n",
       "4 CNOT2   AC092881.1\n",
       "5 CRAMP1L CRAMP1    \n",
       "6 FAIM3   FCMR      "
      ]
     },
     "metadata": {},
     "output_type": "display_data"
    }
   ],
   "source": [
    "correct_tf_gene_name %>% head"
   ]
  },
  {
   "cell_type": "code",
   "execution_count": 133,
   "metadata": {
    "ExecuteTime": {
     "end_time": "2019-10-16T18:38:51.667097Z",
     "start_time": "2019-10-16T18:38:51.628Z"
    }
   },
   "outputs": [
    {
     "data": {
      "text/html": [
       "<table>\n",
       "<caption>A data.frame: 29 × 2</caption>\n",
       "<thead>\n",
       "\t<tr><th scope=col>HGNC</th><th scope=col>Gencode</th></tr>\n",
       "\t<tr><th scope=col>&lt;chr&gt;</th><th scope=col>&lt;chr&gt;</th></tr>\n",
       "</thead>\n",
       "<tbody>\n",
       "\t<tr><td>AES    </td><td>TLES      </td></tr>\n",
       "\t<tr><td>ANKRD32</td><td>SLF1      </td></tr>\n",
       "\t<tr><td>CCRN4L </td><td>NOCT      </td></tr>\n",
       "\t<tr><td>CNOT2  </td><td>AC092881.1</td></tr>\n",
       "\t<tr><td>CRAMP1L</td><td>CRAMP1    </td></tr>\n",
       "\t<tr><td>FAIM3  </td><td>FCMR      </td></tr>\n",
       "\t<tr><td>HDGFRP2</td><td>HDGFL2    </td></tr>\n",
       "\t<tr><td>HKR1   </td><td>ZNF875    </td></tr>\n",
       "\t<tr><td>MKL1   </td><td>MRTFA     </td></tr>\n",
       "\t<tr><td>MKL2   </td><td>MRTFB     </td></tr>\n",
       "\t<tr><td>NBPF24 </td><td>AC092881.1</td></tr>\n",
       "\t<tr><td>NDNL2  </td><td>NSMCE3    </td></tr>\n",
       "\t<tr><td>PER1   </td><td>AC129492.1</td></tr>\n",
       "\t<tr><td>POU6F1 </td><td>AC139768.1</td></tr>\n",
       "\t<tr><td>PTRF   </td><td>CAVIN1    </td></tr>\n",
       "\t<tr><td>SP7    </td><td>AC073611.1</td></tr>\n",
       "\t<tr><td>SUGP1  </td><td>AC004475.1</td></tr>\n",
       "\t<tr><td>T      </td><td>TBXT      </td></tr>\n",
       "\t<tr><td>TCEB1  </td><td>ELOC      </td></tr>\n",
       "\t<tr><td>TCEB2  </td><td>ELOB      </td></tr>\n",
       "\t<tr><td>TCEB3  </td><td>ELOA      </td></tr>\n",
       "\t<tr><td>TCEB3B </td><td>ELOA2     </td></tr>\n",
       "\t<tr><td>TCEB3C </td><td>ELOA3     </td></tr>\n",
       "\t<tr><td>WHSC1  </td><td>NSD2      </td></tr>\n",
       "\t<tr><td>WHSC1L1</td><td>NSD3      </td></tr>\n",
       "\t<tr><td>ZC3H4  </td><td>AC008755.1</td></tr>\n",
       "\t<tr><td>ZNF273 </td><td>AC092161.1</td></tr>\n",
       "\t<tr><td>ZNF304 </td><td>AC092161.1</td></tr>\n",
       "\t<tr><td>ZZZ3   </td><td>AC118549.1</td></tr>\n",
       "</tbody>\n",
       "</table>\n"
      ],
      "text/latex": [
       "A data.frame: 29 × 2\n",
       "\\begin{tabular}{r|ll}\n",
       " HGNC & Gencode\\\\\n",
       " <chr> & <chr>\\\\\n",
       "\\hline\n",
       "\t AES     & TLES      \\\\\n",
       "\t ANKRD32 & SLF1      \\\\\n",
       "\t CCRN4L  & NOCT      \\\\\n",
       "\t CNOT2   & AC092881.1\\\\\n",
       "\t CRAMP1L & CRAMP1    \\\\\n",
       "\t FAIM3   & FCMR      \\\\\n",
       "\t HDGFRP2 & HDGFL2    \\\\\n",
       "\t HKR1    & ZNF875    \\\\\n",
       "\t MKL1    & MRTFA     \\\\\n",
       "\t MKL2    & MRTFB     \\\\\n",
       "\t NBPF24  & AC092881.1\\\\\n",
       "\t NDNL2   & NSMCE3    \\\\\n",
       "\t PER1    & AC129492.1\\\\\n",
       "\t POU6F1  & AC139768.1\\\\\n",
       "\t PTRF    & CAVIN1    \\\\\n",
       "\t SP7     & AC073611.1\\\\\n",
       "\t SUGP1   & AC004475.1\\\\\n",
       "\t T       & TBXT      \\\\\n",
       "\t TCEB1   & ELOC      \\\\\n",
       "\t TCEB2   & ELOB      \\\\\n",
       "\t TCEB3   & ELOA      \\\\\n",
       "\t TCEB3B  & ELOA2     \\\\\n",
       "\t TCEB3C  & ELOA3     \\\\\n",
       "\t WHSC1   & NSD2      \\\\\n",
       "\t WHSC1L1 & NSD3      \\\\\n",
       "\t ZC3H4   & AC008755.1\\\\\n",
       "\t ZNF273  & AC092161.1\\\\\n",
       "\t ZNF304  & AC092161.1\\\\\n",
       "\t ZZZ3    & AC118549.1\\\\\n",
       "\\end{tabular}\n"
      ],
      "text/markdown": [
       "\n",
       "A data.frame: 29 × 2\n",
       "\n",
       "| HGNC &lt;chr&gt; | Gencode &lt;chr&gt; |\n",
       "|---|---|\n",
       "| AES     | TLES       |\n",
       "| ANKRD32 | SLF1       |\n",
       "| CCRN4L  | NOCT       |\n",
       "| CNOT2   | AC092881.1 |\n",
       "| CRAMP1L | CRAMP1     |\n",
       "| FAIM3   | FCMR       |\n",
       "| HDGFRP2 | HDGFL2     |\n",
       "| HKR1    | ZNF875     |\n",
       "| MKL1    | MRTFA      |\n",
       "| MKL2    | MRTFB      |\n",
       "| NBPF24  | AC092881.1 |\n",
       "| NDNL2   | NSMCE3     |\n",
       "| PER1    | AC129492.1 |\n",
       "| POU6F1  | AC139768.1 |\n",
       "| PTRF    | CAVIN1     |\n",
       "| SP7     | AC073611.1 |\n",
       "| SUGP1   | AC004475.1 |\n",
       "| T       | TBXT       |\n",
       "| TCEB1   | ELOC       |\n",
       "| TCEB2   | ELOB       |\n",
       "| TCEB3   | ELOA       |\n",
       "| TCEB3B  | ELOA2      |\n",
       "| TCEB3C  | ELOA3      |\n",
       "| WHSC1   | NSD2       |\n",
       "| WHSC1L1 | NSD3       |\n",
       "| ZC3H4   | AC008755.1 |\n",
       "| ZNF273  | AC092161.1 |\n",
       "| ZNF304  | AC092161.1 |\n",
       "| ZZZ3    | AC118549.1 |\n",
       "\n"
      ],
      "text/plain": [
       "   HGNC    Gencode   \n",
       "1  AES     TLES      \n",
       "2  ANKRD32 SLF1      \n",
       "3  CCRN4L  NOCT      \n",
       "4  CNOT2   AC092881.1\n",
       "5  CRAMP1L CRAMP1    \n",
       "6  FAIM3   FCMR      \n",
       "7  HDGFRP2 HDGFL2    \n",
       "8  HKR1    ZNF875    \n",
       "9  MKL1    MRTFA     \n",
       "10 MKL2    MRTFB     \n",
       "11 NBPF24  AC092881.1\n",
       "12 NDNL2   NSMCE3    \n",
       "13 PER1    AC129492.1\n",
       "14 POU6F1  AC139768.1\n",
       "15 PTRF    CAVIN1    \n",
       "16 SP7     AC073611.1\n",
       "17 SUGP1   AC004475.1\n",
       "18 T       TBXT      \n",
       "19 TCEB1   ELOC      \n",
       "20 TCEB2   ELOB      \n",
       "21 TCEB3   ELOA      \n",
       "22 TCEB3B  ELOA2     \n",
       "23 TCEB3C  ELOA3     \n",
       "24 WHSC1   NSD2      \n",
       "25 WHSC1L1 NSD3      \n",
       "26 ZC3H4   AC008755.1\n",
       "27 ZNF273  AC092161.1\n",
       "28 ZNF304  AC092161.1\n",
       "29 ZZZ3    AC118549.1"
      ]
     },
     "metadata": {},
     "output_type": "display_data"
    }
   ],
   "source": [
    "correct_tf_gene_name"
   ]
  },
  {
   "cell_type": "code",
   "execution_count": 206,
   "metadata": {},
   "outputs": [
    {
     "data": {
      "text/html": [
       "<table>\n",
       "<caption>A data.frame: 1 × 2</caption>\n",
       "<thead>\n",
       "\t<tr><th scope=col>gene_name</th><th scope=col>gene_id</th></tr>\n",
       "\t<tr><th scope=col>&lt;fct&gt;</th><th scope=col>&lt;chr&gt;</th></tr>\n",
       "</thead>\n",
       "<tbody>\n",
       "\t<tr><td>AC092161.1</td><td>ENSG00000198039.11</td></tr>\n",
       "</tbody>\n",
       "</table>\n"
      ],
      "text/latex": [
       "A data.frame: 1 × 2\n",
       "\\begin{tabular}{r|ll}\n",
       " gene\\_name & gene\\_id\\\\\n",
       " <fct> & <chr>\\\\\n",
       "\\hline\n",
       "\t AC092161.1 & ENSG00000198039.11\\\\\n",
       "\\end{tabular}\n"
      ],
      "text/markdown": [
       "\n",
       "A data.frame: 1 × 2\n",
       "\n",
       "| gene_name &lt;fct&gt; | gene_id &lt;chr&gt; |\n",
       "|---|---|\n",
       "| AC092161.1 | ENSG00000198039.11 |\n",
       "\n"
      ],
      "text/plain": [
       "  gene_name  gene_id           \n",
       "1 AC092161.1 ENSG00000198039.11"
      ]
     },
     "metadata": {},
     "output_type": "display_data"
    }
   ],
   "source": [
    "gtf_lookup %>% filter(gene_id == 'ENSG00000198039.11')"
   ]
  },
  {
   "cell_type": "code",
   "execution_count": 549,
   "metadata": {},
   "outputs": [
    {
     "data": {
      "text/html": [
       "'AC118549.1'"
      ],
      "text/latex": [
       "'AC118549.1'"
      ],
      "text/markdown": [
       "'AC118549.1'"
      ],
      "text/plain": [
       "[1] \"AC118549.1\""
      ]
     },
     "metadata": {},
     "output_type": "display_data"
    }
   ],
   "source": [
    "correct_tf_gene_name %>% filter(HGNC == 'ZZZ3') %>% pull(Gencode)"
   ]
  },
  {
   "cell_type": "code",
   "execution_count": 555,
   "metadata": {},
   "outputs": [
    {
     "data": {
      "text/html": [
       "'AC118549.1'"
      ],
      "text/latex": [
       "'AC118549.1'"
      ],
      "text/markdown": [
       "'AC118549.1'"
      ],
      "text/plain": [
       "[1] \"AC118549.1\""
      ]
     },
     "metadata": {},
     "output_type": "display_data"
    }
   ],
   "source": [
    "tflist[1988]"
   ]
  },
  {
   "cell_type": "code",
   "execution_count": 558,
   "metadata": {},
   "outputs": [
    {
     "data": {
      "text/html": [
       "<ol class=list-inline>\n",
       "\t<li>1754</li>\n",
       "\t<li>1773</li>\n",
       "</ol>\n"
      ],
      "text/latex": [
       "\\begin{enumerate*}\n",
       "\\item 1754\n",
       "\\item 1773\n",
       "\\end{enumerate*}\n"
      ],
      "text/markdown": [
       "1. 1754\n",
       "2. 1773\n",
       "\n",
       "\n"
      ],
      "text/plain": [
       "[1] 1754 1773"
      ]
     },
     "metadata": {},
     "output_type": "display_data"
    }
   ],
   "source": [
    "which(tflist == 'AC092161.1')"
   ]
  },
  {
   "cell_type": "code",
   "execution_count": 552,
   "metadata": {},
   "outputs": [
    {
     "data": {
      "text/html": [
       "'TLES'"
      ],
      "text/latex": [
       "'TLES'"
      ],
      "text/markdown": [
       "'TLES'"
      ],
      "text/plain": [
       "[1] \"TLES\""
      ]
     },
     "metadata": {},
     "output_type": "display_data"
    }
   ],
   "source": [
    "correct_tf_gene_name$Gencode[1]"
   ]
  },
  {
   "cell_type": "code",
   "execution_count": 554,
   "metadata": {},
   "outputs": [],
   "source": [
    "for (tf in tflist) {\n",
    "    if (tf %in% correct_tf_gene_name$HGNC) {\n",
    "        new_name <- correct_tf_gene_name %>% filter(HGNC == tf) %>% pull(Gencode)\n",
    "        tflist[which(tflist == tf)] <- new_name\n",
    "    }\n",
    "}"
   ]
  },
  {
   "cell_type": "code",
   "execution_count": 518,
   "metadata": {},
   "outputs": [
    {
     "data": {
      "text/html": [
       "<ol class=list-inline>\n",
       "\t<li>'AATF'</li>\n",
       "\t<li>'ABL1'</li>\n",
       "\t<li>'ABT1'</li>\n",
       "\t<li>'ABTB1'</li>\n",
       "\t<li>'ADNP'</li>\n",
       "\t<li>'AEBP1'</li>\n",
       "</ol>\n"
      ],
      "text/latex": [
       "\\begin{enumerate*}\n",
       "\\item 'AATF'\n",
       "\\item 'ABL1'\n",
       "\\item 'ABT1'\n",
       "\\item 'ABTB1'\n",
       "\\item 'ADNP'\n",
       "\\item 'AEBP1'\n",
       "\\end{enumerate*}\n"
      ],
      "text/markdown": [
       "1. 'AATF'\n",
       "2. 'ABL1'\n",
       "3. 'ABT1'\n",
       "4. 'ABTB1'\n",
       "5. 'ADNP'\n",
       "6. 'AEBP1'\n",
       "\n",
       "\n"
      ],
      "text/plain": [
       "[1] \"AATF\"  \"ABL1\"  \"ABT1\"  \"ABTB1\" \"ADNP\"  \"AEBP1\""
      ]
     },
     "metadata": {},
     "output_type": "display_data"
    }
   ],
   "source": [
    "tflist %>% head"
   ]
  },
  {
   "cell_type": "code",
   "execution_count": 70,
   "metadata": {},
   "outputs": [],
   "source": [
    "#120 hit list\n",
    "hitlist <- read.csv('/c/groups//sanjana_lab/cdai/TFscreen/HS_td-VStd+_td-VSdox120.csv', header = F, stringsAsFactors = F) %>% pull"
   ]
  },
  {
   "cell_type": "code",
   "execution_count": 71,
   "metadata": {},
   "outputs": [
    {
     "data": {
      "text/html": [
       "<table>\n",
       "<caption>A matrix: 1 × 120 of type chr</caption>\n",
       "<tbody>\n",
       "\t<tr><td>PHOX2A</td><td>TAF1L</td><td>TFEB</td><td>VAX2</td><td>SNAI2</td><td>ELK3</td><td>ISL2</td><td>ZBTB43</td><td>ZNF200</td><td>MLLT6</td><td>⋯</td><td>ZBTB18</td><td>CHD5</td><td>CTNNB1</td><td>ZNF554</td><td>UBE2K</td><td>HTATIP2</td><td>NEUROG3</td><td>SMAD3</td><td>LHX4</td><td>PRDM6</td></tr>\n",
       "</tbody>\n",
       "</table>\n"
      ],
      "text/latex": [
       "A matrix: 1 × 120 of type chr\n",
       "\\begin{tabular}{llllllllllllllllllllllllllllllllllllllllllllllllllllllllllllllllllllllllllllllllllllllllllllllllllllllllllllllllllllllll}\n",
       "\t PHOX2A & TAF1L & TFEB & VAX2 & SNAI2 & ELK3 & ISL2 & ZBTB43 & ZNF200 & MLLT6 & NFAT5 & ZNF563 & ZNF3 & ZFY & ZNF502 & RCOR2 & TSC22D3 & NR1I2 & RBPJ & HSFY1 & TAF5 & RAI14 & PHF12 & BRWD1 & FOXQ1 & CREBZF & EMX1 & ZNF324 & ZIM3 & ZNF311 & ZNF136 & EGR3 & ASB1 & CBX4 & GTF2A2 & ZKSCAN3 & HOXC13 & ZNF671 & ZNF639 & KLF10 & JADE3 & ARID1B & ZNF547 & CNOT6 & EBF1 & AHR & PAX7 & POLR2B & SIX5 & CDX4 & GATA1 & ZNF573 & NKX3-2 & ZNF250 & POU2F3 & PRDM5 & HIST1H2BC & NBPF24 & ZNF34 & SKI & E2F1 & ARNTL & MEOX2 & AIP & ZNF510 & ZNF440 & DLX5 & HIF3A & SOX15 & APBB2 & TOX4 & ZNF239 & FOXN2 & SCRT2 & RORB & CRY1 & ZNF92 & JUND & CEBPA & INSM1 & ZNF441 & THRA & NKRF & MPHOSPH8 & NR1D2 & ZFPM1 & JUNB & TBPL1 & ZNF141 & BHLHA15 & EHF & ZZZ3 & ZIC1 & POU3F2 & HOXB3 & KLF14 & CTDP1 & VGLL2 & AFF4 & ZNF282 & MECP2 & TCEA2 & SLA2 & TSHZ3 & NFKBIB & HIST1H1E & PAX2 & POLR2J & ZFP2 & ZNF107 & ZBTB18 & CHD5 & CTNNB1 & ZNF554 & UBE2K & HTATIP2 & NEUROG3 & SMAD3 & LHX4 & PRDM6\\\\\n",
       "\\end{tabular}\n"
      ],
      "text/markdown": [
       "\n",
       "A matrix: 1 × 120 of type chr\n",
       "\n",
       "| PHOX2A | TAF1L | TFEB | VAX2 | SNAI2 | ELK3 | ISL2 | ZBTB43 | ZNF200 | MLLT6 | ⋯ | ZBTB18 | CHD5 | CTNNB1 | ZNF554 | UBE2K | HTATIP2 | NEUROG3 | SMAD3 | LHX4 | PRDM6 |\n",
       "\n"
      ],
      "text/plain": [
       "     [,1]   [,2]  [,3] [,4] [,5]  [,6] [,7] [,8]   [,9]   [,10] [,11] [,12] \n",
       "[1,] PHOX2A TAF1L TFEB VAX2 SNAI2 ELK3 ISL2 ZBTB43 ZNF200 MLLT6 ⋯     ZBTB18\n",
       "     [,13] [,14]  [,15]  [,16] [,17]   [,18]   [,19] [,20] [,21]\n",
       "[1,] CHD5  CTNNB1 ZNF554 UBE2K HTATIP2 NEUROG3 SMAD3 LHX4  PRDM6"
      ]
     },
     "metadata": {},
     "output_type": "display_data"
    }
   ],
   "source": [
    "hitlist %>% t"
   ]
  },
  {
   "cell_type": "code",
   "execution_count": 72,
   "metadata": {},
   "outputs": [],
   "source": [
    "expr.tbl <- expr.tbl %>% mutate(isTF=if_else(gene_name %in% tflist, 'Yes', 'No')) %>% \n",
    "             mutate(isHIT=if_else(gene_name %in% hitlist, 'Yes', 'No'))"
   ]
  },
  {
   "cell_type": "code",
   "execution_count": 73,
   "metadata": {
    "ExecuteTime": {
     "end_time": "2019-09-14T16:05:27.164082Z",
     "start_time": "2019-09-14T16:05:27.116Z"
    }
   },
   "outputs": [],
   "source": [
    "expr.tbl %>% write.csv('ATAC_FoldChangeByTimePoints_geneRegion.csv', row.names=F)"
   ]
  },
  {
   "cell_type": "code",
   "execution_count": null,
   "metadata": {},
   "outputs": [],
   "source": []
  },
  {
   "cell_type": "code",
   "execution_count": 74,
   "metadata": {},
   "outputs": [],
   "source": [
    "ano3 <- coldata3"
   ]
  },
  {
   "cell_type": "code",
   "execution_count": 75,
   "metadata": {
    "ExecuteTime": {
     "end_time": "2019-10-16T18:39:11.629049Z",
     "start_time": "2019-10-16T18:39:11.603Z"
    }
   },
   "outputs": [
    {
     "ename": "ERROR",
     "evalue": "Error in eval(lhs, parent, parent): object 'res3e_tf' not found\n",
     "output_type": "error",
     "traceback": [
      "Error in eval(lhs, parent, parent): object 'res3e_tf' not found\nTraceback:\n",
      "1. res3e_tf %>% filter(DGE != \"No Change\" & padj < fdr & abs(log2FoldChange) > \n .     abs(FC.threshold)) %>% pull(gene_name) %>% as.character",
      "2. eval(lhs, parent, parent)",
      "3. eval(lhs, parent, parent)"
     ]
    }
   ],
   "source": [
    "tf.heatmap.genes.3e <- res3e_tf %>% filter(DGE != 'No Change' & padj < fdr & abs(log2FoldChange) > abs(FC.threshold)) %>% pull(gene_name) %>% as.character\n",
    "cnts3_tf[,c(2:16)] %>% filter(gene_name %in% tf.heatmap.genes.3e) %>% column_to_rownames('gene_name') %>% mutate_all(quadroot) %>% as.matrix %>%\n",
    "                pheatmap(cluster_rows = T, show_rownames = F, cluster_cols = F, annotation = ano3, fontsize=8, treeheight_row=0,\n",
    "                main = paste0('+DOX vs. ES at 7D, Screened TF Genes (fdr<',fdr,', log2FC>',FC.threshold,')'))"
   ]
  },
  {
   "cell_type": "markdown",
   "metadata": {},
   "source": [
    "##### genes that are significant from 1H to 5D"
   ]
  },
  {
   "cell_type": "code",
   "execution_count": 76,
   "metadata": {
    "ExecuteTime": {
     "end_time": "2019-10-16T18:39:20.479748Z",
     "start_time": "2019-10-16T18:39:20.454Z"
    }
   },
   "outputs": [
    {
     "data": {
      "text/html": [
       "0"
      ],
      "text/latex": [
       "0"
      ],
      "text/markdown": [
       "0"
      ],
      "text/plain": [
       "[1] 0"
      ]
     },
     "metadata": {},
     "output_type": "display_data"
    }
   ],
   "source": [
    "sig_genes_3a %>% intersect(sig_genes_3b) %>% intersect(sig_genes_3c) %>% intersect(sig_genes_3d) %>%\n",
    "                 intersect(sig_genes_3e) %>% length"
   ]
  },
  {
   "cell_type": "markdown",
   "metadata": {},
   "source": [
    "##### genes that become significant at 4H and continues to be significant at 16H, 24H and Day 5"
   ]
  },
  {
   "cell_type": "code",
   "execution_count": 77,
   "metadata": {
    "ExecuteTime": {
     "end_time": "2019-10-16T18:39:22.732374Z",
     "start_time": "2019-10-16T18:39:22.704Z"
    }
   },
   "outputs": [
    {
     "data": {
      "text/html": [
       "10"
      ],
      "text/latex": [
       "10"
      ],
      "text/markdown": [
       "10"
      ],
      "text/plain": [
       "[1] 10"
      ]
     },
     "metadata": {},
     "output_type": "display_data"
    }
   ],
   "source": [
    "sig_genes_3b %>%  setdiff(sig_genes_3a)  %>% intersect(sig_genes_3c) %>% \n",
    "            intersect(sig_genes_3d) %>% intersect(sig_genes_3e) %>% length"
   ]
  },
  {
   "cell_type": "markdown",
   "metadata": {},
   "source": [
    "##### genes that become significant at 16H and continues to be significant at 24H and Day 5"
   ]
  },
  {
   "cell_type": "code",
   "execution_count": 78,
   "metadata": {
    "ExecuteTime": {
     "end_time": "2019-10-16T18:39:23.814769Z",
     "start_time": "2019-10-16T18:39:23.791Z"
    }
   },
   "outputs": [
    {
     "data": {
      "text/html": [
       "459"
      ],
      "text/latex": [
       "459"
      ],
      "text/markdown": [
       "459"
      ],
      "text/plain": [
       "[1] 459"
      ]
     },
     "metadata": {},
     "output_type": "display_data"
    }
   ],
   "source": [
    "sig_genes_3c %>% setdiff(unique(c(sig_genes_3a,sig_genes_3b))) %>% intersect(sig_genes_3d) %>% intersect(sig_genes_3e) %>% length"
   ]
  },
  {
   "cell_type": "markdown",
   "metadata": {},
   "source": [
    "##### genes that become significant at 24H and continues to be significant at Day 5"
   ]
  },
  {
   "cell_type": "code",
   "execution_count": 79,
   "metadata": {
    "ExecuteTime": {
     "end_time": "2019-10-16T18:39:24.929976Z",
     "start_time": "2019-10-16T18:39:24.904Z"
    }
   },
   "outputs": [
    {
     "data": {
      "text/html": [
       "6858"
      ],
      "text/latex": [
       "6858"
      ],
      "text/markdown": [
       "6858"
      ],
      "text/plain": [
       "[1] 6858"
      ]
     },
     "metadata": {},
     "output_type": "display_data"
    }
   ],
   "source": [
    "sig_genes_3e %>% setdiff(unique(c(sig_genes_3a,sig_genes_3b, sig_genes_3c))) %>% intersect(sig_genes_3e) %>% length"
   ]
  },
  {
   "cell_type": "markdown",
   "metadata": {},
   "source": [
    "##### genes that are only significant at Day 5"
   ]
  },
  {
   "cell_type": "code",
   "execution_count": 80,
   "metadata": {
    "ExecuteTime": {
     "end_time": "2019-10-16T18:39:26.053373Z",
     "start_time": "2019-10-16T18:39:26.029Z"
    }
   },
   "outputs": [
    {
     "data": {
      "text/html": [
       "6069"
      ],
      "text/latex": [
       "6069"
      ],
      "text/markdown": [
       "6069"
      ],
      "text/plain": [
       "[1] 6069"
      ]
     },
     "metadata": {},
     "output_type": "display_data"
    }
   ],
   "source": [
    "sig_genes_3e %>% setdiff(unique(c(sig_genes_3a,sig_genes_3b, sig_genes_3c, sig_genes_3d))) %>% length"
   ]
  },
  {
   "cell_type": "markdown",
   "metadata": {},
   "source": [
    "## Zoom in on ~2000 screened TF"
   ]
  },
  {
   "cell_type": "code",
   "execution_count": 81,
   "metadata": {
    "ExecuteTime": {
     "end_time": "2019-10-16T18:39:34.220334Z",
     "start_time": "2019-10-16T18:39:34.189Z"
    }
   },
   "outputs": [],
   "source": [
    "#TF list\n",
    "tflist <- read.csv('/c/groups//sanjana_lab/cdai/TFscreen/TFlist.csv', stringsAsFactors = F, col.names='gene_name') %>% pull(var = gene_name)"
   ]
  },
  {
   "cell_type": "code",
   "execution_count": 82,
   "metadata": {
    "ExecuteTime": {
     "end_time": "2019-10-16T18:39:35.098589Z",
     "start_time": "2019-10-16T18:39:35.067Z"
    }
   },
   "outputs": [
    {
     "data": {
      "text/html": [
       "<ol class=list-inline>\n",
       "\t<li>'AATF'</li>\n",
       "\t<li>'ABL1'</li>\n",
       "\t<li>'ABT1'</li>\n",
       "\t<li>'ABTB1'</li>\n",
       "\t<li>'ADNP'</li>\n",
       "</ol>\n"
      ],
      "text/latex": [
       "\\begin{enumerate*}\n",
       "\\item 'AATF'\n",
       "\\item 'ABL1'\n",
       "\\item 'ABT1'\n",
       "\\item 'ABTB1'\n",
       "\\item 'ADNP'\n",
       "\\end{enumerate*}\n"
      ],
      "text/markdown": [
       "1. 'AATF'\n",
       "2. 'ABL1'\n",
       "3. 'ABT1'\n",
       "4. 'ABTB1'\n",
       "5. 'ADNP'\n",
       "\n",
       "\n"
      ],
      "text/plain": [
       "[1] \"AATF\"  \"ABL1\"  \"ABT1\"  \"ABTB1\" \"ADNP\" "
      ]
     },
     "metadata": {},
     "output_type": "display_data"
    },
    {
     "data": {
      "text/html": [
       "1988"
      ],
      "text/latex": [
       "1988"
      ],
      "text/markdown": [
       "1988"
      ],
      "text/plain": [
       "[1] 1988"
      ]
     },
     "metadata": {},
     "output_type": "display_data"
    }
   ],
   "source": [
    "tflist[1:5]\n",
    "length(tflist)"
   ]
  },
  {
   "cell_type": "markdown",
   "metadata": {},
   "source": [
    "#### Result for each temporal stage\n",
    "`gene`,`padj`,`log2FoldChange` for each temporal point (15H - 7D) for the 1988 TF genes.\n",
    "\n",
    "Selection criteria:\n",
    "- `padj` is not na\n",
    "- `gene_name` in `tflist`"
   ]
  },
  {
   "cell_type": "code",
   "execution_count": 83,
   "metadata": {
    "ExecuteTime": {
     "end_time": "2019-10-16T18:39:37.836963Z",
     "start_time": "2019-10-16T18:39:37.804Z"
    }
   },
   "outputs": [
    {
     "data": {
      "text/html": [
       "<table>\n",
       "<caption>A data.frame: 6 × 8</caption>\n",
       "<thead>\n",
       "\t<tr><th></th><th scope=col>gene_id</th><th scope=col>baseMean</th><th scope=col>log2FoldChange</th><th scope=col>lfcSE</th><th scope=col>stat</th><th scope=col>pvalue</th><th scope=col>padj</th><th scope=col>gene_name</th></tr>\n",
       "\t<tr><th></th><th scope=col>&lt;chr&gt;</th><th scope=col>&lt;dbl&gt;</th><th scope=col>&lt;dbl&gt;</th><th scope=col>&lt;dbl&gt;</th><th scope=col>&lt;dbl&gt;</th><th scope=col>&lt;dbl&gt;</th><th scope=col>&lt;dbl&gt;</th><th scope=col>&lt;chr&gt;</th></tr>\n",
       "</thead>\n",
       "<tbody>\n",
       "\t<tr><th scope=row>14149</th><td>ENSG00000287694.1</td><td>168.7189</td><td> 0.15740471</td><td>0.2000510</td><td> 0.7868230</td><td>0.431385474</td><td>0.69095937</td><td>AC106741.1</td></tr>\n",
       "\t<tr><th scope=row>14150</th><td>ENSG00000287725.1</td><td>439.8084</td><td>-0.38663737</td><td>0.1273706</td><td>-3.0355312</td><td>0.002401124</td><td>0.02955262</td><td>AP003071.5</td></tr>\n",
       "\t<tr><th scope=row>14151</th><td>ENSG00000287856.1</td><td>343.2083</td><td> 0.18576867</td><td>0.1347959</td><td> 1.3781478</td><td>0.168157650</td><td>0.42623628</td><td>AL445524.2</td></tr>\n",
       "\t<tr><th scope=row>14152</th><td>ENSG00000287908.1</td><td>153.9782</td><td>-0.11214357</td><td>0.2175190</td><td>-0.5155576</td><td>0.606163405</td><td>0.81308158</td><td>AC025165.6</td></tr>\n",
       "\t<tr><th scope=row>14153</th><td>ENSG00000288000.1</td><td>342.8802</td><td>-0.08100188</td><td>0.1454253</td><td>-0.5569999</td><td>0.577527515</td><td>0.79402201</td><td>AL031681.2</td></tr>\n",
       "\t<tr><th scope=row>14154</th><td>ENSG00000288053.1</td><td>205.0773</td><td>-0.21605346</td><td>0.1730019</td><td>-1.2488502</td><td>0.211719870</td><td>0.48062278</td><td>AC231657.3</td></tr>\n",
       "</tbody>\n",
       "</table>\n"
      ],
      "text/latex": [
       "A data.frame: 6 × 8\n",
       "\\begin{tabular}{r|llllllll}\n",
       "  & gene\\_id & baseMean & log2FoldChange & lfcSE & stat & pvalue & padj & gene\\_name\\\\\n",
       "  & <chr> & <dbl> & <dbl> & <dbl> & <dbl> & <dbl> & <dbl> & <chr>\\\\\n",
       "\\hline\n",
       "\t14149 & ENSG00000287694.1 & 168.7189 &  0.15740471 & 0.2000510 &  0.7868230 & 0.431385474 & 0.69095937 & AC106741.1\\\\\n",
       "\t14150 & ENSG00000287725.1 & 439.8084 & -0.38663737 & 0.1273706 & -3.0355312 & 0.002401124 & 0.02955262 & AP003071.5\\\\\n",
       "\t14151 & ENSG00000287856.1 & 343.2083 &  0.18576867 & 0.1347959 &  1.3781478 & 0.168157650 & 0.42623628 & AL445524.2\\\\\n",
       "\t14152 & ENSG00000287908.1 & 153.9782 & -0.11214357 & 0.2175190 & -0.5155576 & 0.606163405 & 0.81308158 & AC025165.6\\\\\n",
       "\t14153 & ENSG00000288000.1 & 342.8802 & -0.08100188 & 0.1454253 & -0.5569999 & 0.577527515 & 0.79402201 & AL031681.2\\\\\n",
       "\t14154 & ENSG00000288053.1 & 205.0773 & -0.21605346 & 0.1730019 & -1.2488502 & 0.211719870 & 0.48062278 & AC231657.3\\\\\n",
       "\\end{tabular}\n"
      ],
      "text/markdown": [
       "\n",
       "A data.frame: 6 × 8\n",
       "\n",
       "| <!--/--> | gene_id &lt;chr&gt; | baseMean &lt;dbl&gt; | log2FoldChange &lt;dbl&gt; | lfcSE &lt;dbl&gt; | stat &lt;dbl&gt; | pvalue &lt;dbl&gt; | padj &lt;dbl&gt; | gene_name &lt;chr&gt; |\n",
       "|---|---|---|---|---|---|---|---|---|\n",
       "| 14149 | ENSG00000287694.1 | 168.7189 |  0.15740471 | 0.2000510 |  0.7868230 | 0.431385474 | 0.69095937 | AC106741.1 |\n",
       "| 14150 | ENSG00000287725.1 | 439.8084 | -0.38663737 | 0.1273706 | -3.0355312 | 0.002401124 | 0.02955262 | AP003071.5 |\n",
       "| 14151 | ENSG00000287856.1 | 343.2083 |  0.18576867 | 0.1347959 |  1.3781478 | 0.168157650 | 0.42623628 | AL445524.2 |\n",
       "| 14152 | ENSG00000287908.1 | 153.9782 | -0.11214357 | 0.2175190 | -0.5155576 | 0.606163405 | 0.81308158 | AC025165.6 |\n",
       "| 14153 | ENSG00000288000.1 | 342.8802 | -0.08100188 | 0.1454253 | -0.5569999 | 0.577527515 | 0.79402201 | AL031681.2 |\n",
       "| 14154 | ENSG00000288053.1 | 205.0773 | -0.21605346 | 0.1730019 | -1.2488502 | 0.211719870 | 0.48062278 | AC231657.3 |\n",
       "\n"
      ],
      "text/plain": [
       "      gene_id           baseMean log2FoldChange lfcSE     stat      \n",
       "14149 ENSG00000287694.1 168.7189  0.15740471    0.2000510  0.7868230\n",
       "14150 ENSG00000287725.1 439.8084 -0.38663737    0.1273706 -3.0355312\n",
       "14151 ENSG00000287856.1 343.2083  0.18576867    0.1347959  1.3781478\n",
       "14152 ENSG00000287908.1 153.9782 -0.11214357    0.2175190 -0.5155576\n",
       "14153 ENSG00000288000.1 342.8802 -0.08100188    0.1454253 -0.5569999\n",
       "14154 ENSG00000288053.1 205.0773 -0.21605346    0.1730019 -1.2488502\n",
       "      pvalue      padj       gene_name \n",
       "14149 0.431385474 0.69095937 AC106741.1\n",
       "14150 0.002401124 0.02955262 AP003071.5\n",
       "14151 0.168157650 0.42623628 AL445524.2\n",
       "14152 0.606163405 0.81308158 AC025165.6\n",
       "14153 0.577527515 0.79402201 AL031681.2\n",
       "14154 0.211719870 0.48062278 AC231657.3"
      ]
     },
     "metadata": {},
     "output_type": "display_data"
    }
   ],
   "source": [
    "res3d.df %>% tail"
   ]
  },
  {
   "cell_type": "code",
   "execution_count": 84,
   "metadata": {
    "ExecuteTime": {
     "end_time": "2019-10-16T18:39:40.863632Z",
     "start_time": "2019-10-16T18:39:40.779Z"
    }
   },
   "outputs": [],
   "source": [
    "# get DGE result, namely FC and padj, for each temproal point\n",
    "res3a_tf <- res3a.df %>% filter((gene_name %in% tflist) & (!is.na(padj))) %>% select(gene_name, gene_id, padj, log2FoldChange)\n",
    "res3b_tf <- res3b.df %>% filter((gene_name %in% tflist) & (!is.na(padj))) %>% select(gene_name, gene_id, padj, log2FoldChange)\n",
    "res3c_tf <- res3c.df %>% filter((gene_name %in% tflist) & (!is.na(padj))) %>% select(gene_name, gene_id, padj, log2FoldChange)\n",
    "res3d_tf <- res3d.df %>% filter((gene_name %in% tflist) & (!is.na(padj))) %>% select(gene_name, gene_id, padj, log2FoldChange)\n",
    "res3e_tf <- res3e.df %>% filter((gene_name %in% tflist) & (!is.na(padj))) %>% select(gene_name, gene_id, padj, log2FoldChange)"
   ]
  },
  {
   "cell_type": "code",
   "execution_count": 85,
   "metadata": {
    "ExecuteTime": {
     "end_time": "2019-10-16T18:39:43.423149Z",
     "start_time": "2019-10-16T18:39:43.404Z"
    }
   },
   "outputs": [],
   "source": [
    "# Determine and annotate whether a TF screen listed gene is up or down regulated\n",
    "fdr = 0.05\n",
    "FC.threshold = 1.5"
   ]
  },
  {
   "cell_type": "code",
   "execution_count": 86,
   "metadata": {
    "ExecuteTime": {
     "end_time": "2019-10-16T18:39:44.797967Z",
     "start_time": "2019-10-16T18:39:44.754Z"
    }
   },
   "outputs": [],
   "source": [
    "res3a_tf <- res3a_tf %>% mutate(DGE=case_when(padj < fdr & log2FoldChange > FC.threshold ~ 'Up', \n",
    "                                  padj < fdr & log2FoldChange < -FC.threshold ~ 'Down',\n",
    "                                  padj < fdr & log2FoldChange >= -FC.threshold & log2FoldChange <= FC.threshold ~ 'No Change',\n",
    "                                  padj >= fdr ~ 'No Change')) \n",
    "res3b_tf <- res3b_tf %>% mutate(DGE=case_when(padj < fdr & log2FoldChange > FC.threshold ~ 'Up', \n",
    "                                  padj < fdr & log2FoldChange < -FC.threshold ~ 'Down',\n",
    "                                  padj < fdr & log2FoldChange >= -FC.threshold & log2FoldChange <= FC.threshold ~ 'No Change',\n",
    "                                  padj >= fdr ~ 'No Change')) \n",
    "res3c_tf <- res3c_tf %>% mutate(DGE=case_when(padj < fdr & log2FoldChange > FC.threshold ~ 'Up', \n",
    "                                  padj < fdr & log2FoldChange < -FC.threshold ~ 'Down',\n",
    "                                  padj < fdr & log2FoldChange >= -FC.threshold & log2FoldChange <= FC.threshold ~ 'No Change',\n",
    "                                  padj >= fdr ~ 'No Change')) \n",
    "res3d_tf <- res3d_tf %>% mutate(DGE=case_when(padj < fdr & log2FoldChange > FC.threshold ~ 'Up', \n",
    "                                  padj < fdr & log2FoldChange < -FC.threshold ~ 'Down',\n",
    "                                  padj < fdr & log2FoldChange >= -FC.threshold & log2FoldChange <= FC.threshold ~ 'No Change',\n",
    "                                  padj >= fdr ~ 'No Change')) \n",
    "res3e_tf <- res3e_tf %>% mutate(DGE=case_when(padj < fdr & log2FoldChange > FC.threshold ~ 'Up', \n",
    "                                  padj < fdr & log2FoldChange < -FC.threshold ~ 'Down',\n",
    "                                  padj < fdr & log2FoldChange >= -FC.threshold & log2FoldChange <= FC.threshold ~ 'No Change',\n",
    "                                  padj >= fdr ~ 'No Change')) "
   ]
  },
  {
   "cell_type": "raw",
   "metadata": {
    "ExecuteTime": {
     "end_time": "2019-09-06T02:46:24.002336Z",
     "start_time": "2019-09-06T02:46:23.760Z"
    }
   },
   "source": [
    "#Export to csv\n",
    "res3a_tf %>% write.csv('TF_Screen_FC_Pval_15HvsES.csv', quote=F)\n",
    "res3b_tf %>% write.csv('TF_Screen_FC_Pval_1DvsES.csv', quote=F)\n",
    "res3c_tf %>% write.csv('TF_Screen_FC_Pval_2DvsES.csv', quote=F)\n",
    "res3d_tf %>% write.csv('TF_Screen_FC_Pval_4DvsES.csv', quote=F)\n",
    "res3e_tf %>% write.csv('TF_Screen_FC_Pval_7DvsES.csv', quote=F)"
   ]
  },
  {
   "cell_type": "code",
   "execution_count": 87,
   "metadata": {
    "ExecuteTime": {
     "end_time": "2019-10-16T18:39:47.272657Z",
     "start_time": "2019-10-16T18:39:47.232Z"
    }
   },
   "outputs": [
    {
     "data": {
      "text/html": [
       "<table>\n",
       "<caption>A data.frame: 6 × 5</caption>\n",
       "<thead>\n",
       "\t<tr><th scope=col>gene_name</th><th scope=col>gene_id</th><th scope=col>padj</th><th scope=col>log2FoldChange</th><th scope=col>DGE</th></tr>\n",
       "\t<tr><th scope=col>&lt;chr&gt;</th><th scope=col>&lt;chr&gt;</th><th scope=col>&lt;dbl&gt;</th><th scope=col>&lt;dbl&gt;</th><th scope=col>&lt;chr&gt;</th></tr>\n",
       "</thead>\n",
       "<tbody>\n",
       "\t<tr><td>ARX   </td><td>ENSG00000004848.8 </td><td>0.9998159</td><td>-0.01294015</td><td>No Change</td></tr>\n",
       "\t<tr><td>UPF1  </td><td>ENSG00000005007.12</td><td>0.9998159</td><td> 0.38408176</td><td>No Change</td></tr>\n",
       "\t<tr><td>HOXA11</td><td>ENSG00000005073.5 </td><td>0.9998159</td><td> 0.61032828</td><td>No Change</td></tr>\n",
       "\t<tr><td>POLR2J</td><td>ENSG00000005075.15</td><td>0.9998159</td><td> 0.64063068</td><td>No Change</td></tr>\n",
       "\t<tr><td>MEOX1 </td><td>ENSG00000005102.13</td><td>0.9998159</td><td>-0.37245599</td><td>No Change</td></tr>\n",
       "\t<tr><td>CREBBP</td><td>ENSG00000005339.14</td><td>0.9998159</td><td>-0.23466359</td><td>No Change</td></tr>\n",
       "</tbody>\n",
       "</table>\n"
      ],
      "text/latex": [
       "A data.frame: 6 × 5\n",
       "\\begin{tabular}{r|lllll}\n",
       " gene\\_name & gene\\_id & padj & log2FoldChange & DGE\\\\\n",
       " <chr> & <chr> & <dbl> & <dbl> & <chr>\\\\\n",
       "\\hline\n",
       "\t ARX    & ENSG00000004848.8  & 0.9998159 & -0.01294015 & No Change\\\\\n",
       "\t UPF1   & ENSG00000005007.12 & 0.9998159 &  0.38408176 & No Change\\\\\n",
       "\t HOXA11 & ENSG00000005073.5  & 0.9998159 &  0.61032828 & No Change\\\\\n",
       "\t POLR2J & ENSG00000005075.15 & 0.9998159 &  0.64063068 & No Change\\\\\n",
       "\t MEOX1  & ENSG00000005102.13 & 0.9998159 & -0.37245599 & No Change\\\\\n",
       "\t CREBBP & ENSG00000005339.14 & 0.9998159 & -0.23466359 & No Change\\\\\n",
       "\\end{tabular}\n"
      ],
      "text/markdown": [
       "\n",
       "A data.frame: 6 × 5\n",
       "\n",
       "| gene_name &lt;chr&gt; | gene_id &lt;chr&gt; | padj &lt;dbl&gt; | log2FoldChange &lt;dbl&gt; | DGE &lt;chr&gt; |\n",
       "|---|---|---|---|---|\n",
       "| ARX    | ENSG00000004848.8  | 0.9998159 | -0.01294015 | No Change |\n",
       "| UPF1   | ENSG00000005007.12 | 0.9998159 |  0.38408176 | No Change |\n",
       "| HOXA11 | ENSG00000005073.5  | 0.9998159 |  0.61032828 | No Change |\n",
       "| POLR2J | ENSG00000005075.15 | 0.9998159 |  0.64063068 | No Change |\n",
       "| MEOX1  | ENSG00000005102.13 | 0.9998159 | -0.37245599 | No Change |\n",
       "| CREBBP | ENSG00000005339.14 | 0.9998159 | -0.23466359 | No Change |\n",
       "\n"
      ],
      "text/plain": [
       "  gene_name gene_id            padj      log2FoldChange DGE      \n",
       "1 ARX       ENSG00000004848.8  0.9998159 -0.01294015    No Change\n",
       "2 UPF1      ENSG00000005007.12 0.9998159  0.38408176    No Change\n",
       "3 HOXA11    ENSG00000005073.5  0.9998159  0.61032828    No Change\n",
       "4 POLR2J    ENSG00000005075.15 0.9998159  0.64063068    No Change\n",
       "5 MEOX1     ENSG00000005102.13 0.9998159 -0.37245599    No Change\n",
       "6 CREBBP    ENSG00000005339.14 0.9998159 -0.23466359    No Change"
      ]
     },
     "metadata": {},
     "output_type": "display_data"
    }
   ],
   "source": [
    "res3a_tf %>% head"
   ]
  },
  {
   "cell_type": "markdown",
   "metadata": {},
   "source": [
    "##### Summary plot for TF screen selected genes that are up/down regulated"
   ]
  },
  {
   "cell_type": "code",
   "execution_count": 88,
   "metadata": {
    "ExecuteTime": {
     "end_time": "2019-10-16T18:39:56.881390Z",
     "start_time": "2019-10-16T18:39:56.791Z"
    }
   },
   "outputs": [
    {
     "ename": "ERROR",
     "evalue": "Error in names(x) <- value: 'names' attribute [5] must be the same length as the vector [3]\n",
     "output_type": "error",
     "traceback": [
      "Error in names(x) <- value: 'names' attribute [5] must be the same length as the vector [3]\nTraceback:\n",
      "1. `colnames<-`(`*tmp*`, value = c(\"1H\", \"4H\", \"16\", \"24H\", \"5D\"\n . ))",
      "2. `colnames<-`(`*tmp*`, value = c(\"1H\", \"4H\", \"16\", \"24H\", \"5D\"\n . ))"
     ]
    }
   ],
   "source": [
    "# summarize gene counts for TF screen selected genes\n",
    "c <- c()\n",
    "for (l in list(res3a_tf, res3b_tf, res3c_tf, res3d_tf, res3e_tf)) {\n",
    "    gcount <- l %>% group_by(DGE) %>% summarize( \"gene_count\"=n()) %>% pull(gene_count) # get the count of genes\n",
    "    c <- c(c,gcount)\n",
    "}\n",
    "\n",
    "tfs.bar.data <- data.frame(matrix(c, nrow=3))\n",
    "\n",
    "colnames(tfs.bar.data) = c('1H', '4H', '16', '24H','5D')\n",
    "rownames(tfs.bar.data) = c('Down', 'No Change', 'Up')\n",
    "\n",
    "tfs.bar.data <- tfs.bar.data %>% gather(condition, gene_counts) %>% add_column(DGE=rep(c('Down', 'No Change', 'Up'),5), .before=2)"
   ]
  },
  {
   "cell_type": "code",
   "execution_count": 89,
   "metadata": {
    "ExecuteTime": {
     "end_time": "2019-10-16T18:39:50.031304Z",
     "start_time": "2019-10-16T18:39:50.004Z"
    }
   },
   "outputs": [
    {
     "name": "stderr",
     "output_type": "stream",
     "text": [
      "ERROR while rich displaying an object: Error in FUN(X[[i]], ...): object 'condition' not found\n",
      "\n",
      "Traceback:\n",
      "1. FUN(X[[i]], ...)\n",
      "2. tryCatch(withCallingHandlers({\n",
      " .     if (!mime %in% names(repr::mime2repr)) \n",
      " .         stop(\"No repr_* for mimetype \", mime, \" in repr::mime2repr\")\n",
      " .     rpr <- repr::mime2repr[[mime]](obj)\n",
      " .     if (is.null(rpr)) \n",
      " .         return(NULL)\n",
      " .     prepare_content(is.raw(rpr), rpr)\n",
      " . }, error = error_handler), error = outer_handler)\n",
      "3. tryCatchList(expr, classes, parentenv, handlers)\n",
      "4. tryCatchOne(expr, names, parentenv, handlers[[1L]])\n",
      "5. doTryCatch(return(expr), name, parentenv, handler)\n",
      "6. withCallingHandlers({\n",
      " .     if (!mime %in% names(repr::mime2repr)) \n",
      " .         stop(\"No repr_* for mimetype \", mime, \" in repr::mime2repr\")\n",
      " .     rpr <- repr::mime2repr[[mime]](obj)\n",
      " .     if (is.null(rpr)) \n",
      " .         return(NULL)\n",
      " .     prepare_content(is.raw(rpr), rpr)\n",
      " . }, error = error_handler)\n",
      "7. repr::mime2repr[[mime]](obj)\n",
      "8. repr_text.default(obj)\n",
      "9. paste(capture.output(print(obj)), collapse = \"\\n\")\n",
      "10. capture.output(print(obj))\n",
      "11. evalVis(expr)\n",
      "12. withVisible(eval(expr, pf))\n",
      "13. eval(expr, pf)\n",
      "14. eval(expr, pf)\n",
      "15. print(obj)\n",
      "16. print.ggplot(obj)\n",
      "17. ggplot_build(x)\n",
      "18. ggplot_build.ggplot(x)\n",
      "19. by_layer(function(l, d) l$compute_aesthetics(d, plot))\n",
      "20. f(l = layers[[i]], d = data[[i]])\n",
      "21. l$compute_aesthetics(d, plot)\n",
      "22. f(..., self = self)\n",
      "23. scales_add_defaults(plot$scales, data, aesthetics, plot$plot_env)\n",
      "24. lapply(aesthetics[new_aesthetics], eval_tidy, data = data)\n",
      "25. FUN(X[[i]], ...)\n"
     ]
    },
    {
     "data": {
      "image/png": "[encoded data removed]",
      "text/plain": [
       "plot without title"
      ]
     },
     "metadata": {},
     "output_type": "display_data"
    }
   ],
   "source": [
    "ggplot(data = tfs.bar.data) + geom_bar(aes(x=condition, y=gene_counts, fill=DGE),position=position_fill(reverse = TRUE), stat=\"identity\") +\n",
    "            labs(y=\"% of Screened Gene\", x=\"Temporal\", title = \"Accessible Promoter Region\") +\n",
    "            scale_fill_manual(name='+DOX vs. ES', values=c('lightslateblue', 'grey80', 'tan2')) +\n",
    "            theme(axis.text = element_text(size = 20), axis.title=element_text(size=20, face='bold'), legend.position = \"bottom\", \n",
    "                  plot.title = element_text(size = 20, face = 'bold')) +\n",
    "            scale_y_continuous(labels = scales::percent)"
   ]
  },
  {
   "cell_type": "markdown",
   "metadata": {},
   "source": [
    "##### Normalized counts of all TF screen genes, and plot heatmap"
   ]
  },
  {
   "cell_type": "code",
   "execution_count": 90,
   "metadata": {
    "ExecuteTime": {
     "end_time": "2019-10-16T18:40:05.610690Z",
     "start_time": "2019-10-16T18:40:05.492Z"
    }
   },
   "outputs": [
    {
     "name": "stderr",
     "output_type": "stream",
     "text": [
      "Warning message:\n",
      "“Column `gene_name` joining factors with different levels, coercing to character vector”"
     ]
    }
   ],
   "source": [
    "cnts3_tf <- (counts(dds3, normalized=T) + 1e-06) %>% as.data.frame %>% rownames_to_column('gene_id') %>%\n",
    "            inner_join(gtf_lookup, 'gene_id') %>% inner_join(data.frame(gene_name=tflist), 'gene_name')"
   ]
  },
  {
   "cell_type": "code",
   "execution_count": 91,
   "metadata": {
    "ExecuteTime": {
     "end_time": "2019-10-16T18:40:06.778534Z",
     "start_time": "2019-10-16T18:40:06.743Z"
    }
   },
   "outputs": [
    {
     "data": {
      "text/html": [
       "<table>\n",
       "<caption>A data.frame: 6 × 14</caption>\n",
       "<thead>\n",
       "\t<tr><th scope=col>gene_id</th><th scope=col>A1</th><th scope=col>A2</th><th scope=col>A3</th><th scope=col>A4</th><th scope=col>A5</th><th scope=col>A6</th><th scope=col>A7</th><th scope=col>A8</th><th scope=col>A9</th><th scope=col>A10</th><th scope=col>A11</th><th scope=col>A12</th><th scope=col>gene_name</th></tr>\n",
       "\t<tr><th scope=col>&lt;chr&gt;</th><th scope=col>&lt;dbl&gt;</th><th scope=col>&lt;dbl&gt;</th><th scope=col>&lt;dbl&gt;</th><th scope=col>&lt;dbl&gt;</th><th scope=col>&lt;dbl&gt;</th><th scope=col>&lt;dbl&gt;</th><th scope=col>&lt;dbl&gt;</th><th scope=col>&lt;dbl&gt;</th><th scope=col>&lt;dbl&gt;</th><th scope=col>&lt;dbl&gt;</th><th scope=col>&lt;dbl&gt;</th><th scope=col>&lt;dbl&gt;</th><th scope=col>&lt;chr&gt;</th></tr>\n",
       "</thead>\n",
       "<tbody>\n",
       "\t<tr><td>ENSG00000004848.8 </td><td>405.72036</td><td>359.08111</td><td>380.31488</td><td>378.56203</td><td>373.04594</td><td>333.29830</td><td>399.38814</td><td>346.83369</td><td>294.02526</td><td>256.12873</td><td>241.00391</td><td>196.45747</td><td>ARX   </td></tr>\n",
       "\t<tr><td>ENSG00000005007.12</td><td>148.32788</td><td>165.15229</td><td>219.18459</td><td>189.28101</td><td>155.53326</td><td>140.68873</td><td>157.50518</td><td>139.14272</td><td>121.16731</td><td>189.81708</td><td>150.52736</td><td>164.01495</td><td>UPF1  </td></tr>\n",
       "\t<tr><td>ENSG00000005073.5 </td><td> 49.07908</td><td> 47.54384</td><td> 77.01080</td><td> 70.51646</td><td> 76.01250</td><td> 60.29517</td><td> 53.43926</td><td> 61.38649</td><td> 47.24414</td><td> 49.73373</td><td> 36.03049</td><td> 41.45433</td><td>HOXA11</td></tr>\n",
       "\t<tr><td>ENSG00000005075.15</td><td> 42.53520</td><td> 68.81345</td><td> 99.52165</td><td> 72.99072</td><td> 51.45461</td><td> 47.73368</td><td> 40.78259</td><td> 33.76257</td><td> 33.34880</td><td> 46.41815</td><td> 28.02371</td><td> 28.83779</td><td>POLR2J</td></tr>\n",
       "\t<tr><td>ENSG00000005102.13</td><td> 59.98554</td><td> 95.08768</td><td> 78.19558</td><td> 40.82532</td><td> 65.48769</td><td> 61.13260</td><td> 68.90852</td><td> 51.15541</td><td> 53.35808</td><td> 71.28502</td><td> 56.04742</td><td> 55.87323</td><td>MEOX1 </td></tr>\n",
       "\t<tr><td>ENSG00000005339.14</td><td>170.14080</td><td>258.98881</td><td>176.53245</td><td>186.80675</td><td>197.63249</td><td>189.25984</td><td>135.00444</td><td>153.46623</td><td>192.86723</td><td>229.60407</td><td>170.54430</td><td>193.75393</td><td>CREBBP</td></tr>\n",
       "</tbody>\n",
       "</table>\n"
      ],
      "text/latex": [
       "A data.frame: 6 × 14\n",
       "\\begin{tabular}{r|llllllllllllll}\n",
       " gene\\_id & A1 & A2 & A3 & A4 & A5 & A6 & A7 & A8 & A9 & A10 & A11 & A12 & gene\\_name\\\\\n",
       " <chr> & <dbl> & <dbl> & <dbl> & <dbl> & <dbl> & <dbl> & <dbl> & <dbl> & <dbl> & <dbl> & <dbl> & <dbl> & <chr>\\\\\n",
       "\\hline\n",
       "\t ENSG00000004848.8  & 405.72036 & 359.08111 & 380.31488 & 378.56203 & 373.04594 & 333.29830 & 399.38814 & 346.83369 & 294.02526 & 256.12873 & 241.00391 & 196.45747 & ARX   \\\\\n",
       "\t ENSG00000005007.12 & 148.32788 & 165.15229 & 219.18459 & 189.28101 & 155.53326 & 140.68873 & 157.50518 & 139.14272 & 121.16731 & 189.81708 & 150.52736 & 164.01495 & UPF1  \\\\\n",
       "\t ENSG00000005073.5  &  49.07908 &  47.54384 &  77.01080 &  70.51646 &  76.01250 &  60.29517 &  53.43926 &  61.38649 &  47.24414 &  49.73373 &  36.03049 &  41.45433 & HOXA11\\\\\n",
       "\t ENSG00000005075.15 &  42.53520 &  68.81345 &  99.52165 &  72.99072 &  51.45461 &  47.73368 &  40.78259 &  33.76257 &  33.34880 &  46.41815 &  28.02371 &  28.83779 & POLR2J\\\\\n",
       "\t ENSG00000005102.13 &  59.98554 &  95.08768 &  78.19558 &  40.82532 &  65.48769 &  61.13260 &  68.90852 &  51.15541 &  53.35808 &  71.28502 &  56.04742 &  55.87323 & MEOX1 \\\\\n",
       "\t ENSG00000005339.14 & 170.14080 & 258.98881 & 176.53245 & 186.80675 & 197.63249 & 189.25984 & 135.00444 & 153.46623 & 192.86723 & 229.60407 & 170.54430 & 193.75393 & CREBBP\\\\\n",
       "\\end{tabular}\n"
      ],
      "text/markdown": [
       "\n",
       "A data.frame: 6 × 14\n",
       "\n",
       "| gene_id &lt;chr&gt; | A1 &lt;dbl&gt; | A2 &lt;dbl&gt; | A3 &lt;dbl&gt; | A4 &lt;dbl&gt; | A5 &lt;dbl&gt; | A6 &lt;dbl&gt; | A7 &lt;dbl&gt; | A8 &lt;dbl&gt; | A9 &lt;dbl&gt; | A10 &lt;dbl&gt; | A11 &lt;dbl&gt; | A12 &lt;dbl&gt; | gene_name &lt;chr&gt; |\n",
       "|---|---|---|---|---|---|---|---|---|---|---|---|---|---|\n",
       "| ENSG00000004848.8  | 405.72036 | 359.08111 | 380.31488 | 378.56203 | 373.04594 | 333.29830 | 399.38814 | 346.83369 | 294.02526 | 256.12873 | 241.00391 | 196.45747 | ARX    |\n",
       "| ENSG00000005007.12 | 148.32788 | 165.15229 | 219.18459 | 189.28101 | 155.53326 | 140.68873 | 157.50518 | 139.14272 | 121.16731 | 189.81708 | 150.52736 | 164.01495 | UPF1   |\n",
       "| ENSG00000005073.5  |  49.07908 |  47.54384 |  77.01080 |  70.51646 |  76.01250 |  60.29517 |  53.43926 |  61.38649 |  47.24414 |  49.73373 |  36.03049 |  41.45433 | HOXA11 |\n",
       "| ENSG00000005075.15 |  42.53520 |  68.81345 |  99.52165 |  72.99072 |  51.45461 |  47.73368 |  40.78259 |  33.76257 |  33.34880 |  46.41815 |  28.02371 |  28.83779 | POLR2J |\n",
       "| ENSG00000005102.13 |  59.98554 |  95.08768 |  78.19558 |  40.82532 |  65.48769 |  61.13260 |  68.90852 |  51.15541 |  53.35808 |  71.28502 |  56.04742 |  55.87323 | MEOX1  |\n",
       "| ENSG00000005339.14 | 170.14080 | 258.98881 | 176.53245 | 186.80675 | 197.63249 | 189.25984 | 135.00444 | 153.46623 | 192.86723 | 229.60407 | 170.54430 | 193.75393 | CREBBP |\n",
       "\n"
      ],
      "text/plain": [
       "  gene_id            A1        A2        A3        A4        A5       \n",
       "1 ENSG00000004848.8  405.72036 359.08111 380.31488 378.56203 373.04594\n",
       "2 ENSG00000005007.12 148.32788 165.15229 219.18459 189.28101 155.53326\n",
       "3 ENSG00000005073.5   49.07908  47.54384  77.01080  70.51646  76.01250\n",
       "4 ENSG00000005075.15  42.53520  68.81345  99.52165  72.99072  51.45461\n",
       "5 ENSG00000005102.13  59.98554  95.08768  78.19558  40.82532  65.48769\n",
       "6 ENSG00000005339.14 170.14080 258.98881 176.53245 186.80675 197.63249\n",
       "  A6        A7        A8        A9        A10       A11       A12      \n",
       "1 333.29830 399.38814 346.83369 294.02526 256.12873 241.00391 196.45747\n",
       "2 140.68873 157.50518 139.14272 121.16731 189.81708 150.52736 164.01495\n",
       "3  60.29517  53.43926  61.38649  47.24414  49.73373  36.03049  41.45433\n",
       "4  47.73368  40.78259  33.76257  33.34880  46.41815  28.02371  28.83779\n",
       "5  61.13260  68.90852  51.15541  53.35808  71.28502  56.04742  55.87323\n",
       "6 189.25984 135.00444 153.46623 192.86723 229.60407 170.54430 193.75393\n",
       "  gene_name\n",
       "1 ARX      \n",
       "2 UPF1     \n",
       "3 HOXA11   \n",
       "4 POLR2J   \n",
       "5 MEOX1    \n",
       "6 CREBBP   "
      ]
     },
     "metadata": {},
     "output_type": "display_data"
    }
   ],
   "source": [
    "cnts3_tf %>% head"
   ]
  },
  {
   "cell_type": "code",
   "execution_count": 92,
   "metadata": {
    "ExecuteTime": {
     "end_time": "2019-09-06T16:40:03.546202Z",
     "start_time": "2019-09-06T16:40:02.385Z"
    }
   },
   "outputs": [],
   "source": [
    "cnts3_tf <- cnts3_tf[,c(1,14,2:13)]"
   ]
  },
  {
   "cell_type": "code",
   "execution_count": 93,
   "metadata": {
    "ExecuteTime": {
     "end_time": "2019-10-16T18:40:09.590618Z",
     "start_time": "2019-10-16T18:40:09.555Z"
    }
   },
   "outputs": [
    {
     "data": {
      "text/html": [
       "<table>\n",
       "<caption>A tibble: 1 × 2</caption>\n",
       "<thead>\n",
       "\t<tr><th scope=col>gene_name</th><th scope=col>n_geneIDs</th></tr>\n",
       "\t<tr><th scope=col>&lt;chr&gt;</th><th scope=col>&lt;int&gt;</th></tr>\n",
       "</thead>\n",
       "<tbody>\n",
       "\t<tr><td>MATR3</td><td>2</td></tr>\n",
       "</tbody>\n",
       "</table>\n"
      ],
      "text/latex": [
       "A tibble: 1 × 2\n",
       "\\begin{tabular}{r|ll}\n",
       " gene\\_name & n\\_geneIDs\\\\\n",
       " <chr> & <int>\\\\\n",
       "\\hline\n",
       "\t MATR3 & 2\\\\\n",
       "\\end{tabular}\n"
      ],
      "text/markdown": [
       "\n",
       "A tibble: 1 × 2\n",
       "\n",
       "| gene_name &lt;chr&gt; | n_geneIDs &lt;int&gt; |\n",
       "|---|---|\n",
       "| MATR3 | 2 |\n",
       "\n"
      ],
      "text/plain": [
       "  gene_name n_geneIDs\n",
       "1 MATR3     2        "
      ]
     },
     "metadata": {},
     "output_type": "display_data"
    },
    {
     "data": {
      "text/html": [
       "<table>\n",
       "<caption>A data.frame: 2 × 14</caption>\n",
       "<thead>\n",
       "\t<tr><th scope=col>gene_id</th><th scope=col>gene_name</th><th scope=col>A1</th><th scope=col>A2</th><th scope=col>A3</th><th scope=col>A4</th><th scope=col>A5</th><th scope=col>A6</th><th scope=col>A7</th><th scope=col>A8</th><th scope=col>A9</th><th scope=col>A10</th><th scope=col>A11</th><th scope=col>A12</th></tr>\n",
       "\t<tr><th scope=col>&lt;chr&gt;</th><th scope=col>&lt;chr&gt;</th><th scope=col>&lt;dbl&gt;</th><th scope=col>&lt;dbl&gt;</th><th scope=col>&lt;dbl&gt;</th><th scope=col>&lt;dbl&gt;</th><th scope=col>&lt;dbl&gt;</th><th scope=col>&lt;dbl&gt;</th><th scope=col>&lt;dbl&gt;</th><th scope=col>&lt;dbl&gt;</th><th scope=col>&lt;dbl&gt;</th><th scope=col>&lt;dbl&gt;</th><th scope=col>&lt;dbl&gt;</th><th scope=col>&lt;dbl&gt;</th></tr>\n",
       "</thead>\n",
       "<tbody>\n",
       "\t<tr><td>ENSG00000015479.18</td><td>MATR3</td><td> 95.97686</td><td>115.1061</td><td>136.2499</td><td>116.2903</td><td>114.6035</td><td>116.4032</td><td> 98.44074</td><td>115.6112</td><td> 84.48363</td><td> 90.34962</td><td> 59.25013</td><td> 65.78622</td></tr>\n",
       "\t<tr><td>ENSG00000280987.4 </td><td>MATR3</td><td>401.35778</td><td>496.7080</td><td>476.2822</td><td>588.8743</td><td>521.5627</td><td>474.8245</td><td>435.95184</td><td>565.7788</td><td>475.77622</td><td>494.85065</td><td>479.60579</td><td>485.73659</td></tr>\n",
       "</tbody>\n",
       "</table>\n"
      ],
      "text/latex": [
       "A data.frame: 2 × 14\n",
       "\\begin{tabular}{r|llllllllllllll}\n",
       " gene\\_id & gene\\_name & A1 & A2 & A3 & A4 & A5 & A6 & A7 & A8 & A9 & A10 & A11 & A12\\\\\n",
       " <chr> & <chr> & <dbl> & <dbl> & <dbl> & <dbl> & <dbl> & <dbl> & <dbl> & <dbl> & <dbl> & <dbl> & <dbl> & <dbl>\\\\\n",
       "\\hline\n",
       "\t ENSG00000015479.18 & MATR3 &  95.97686 & 115.1061 & 136.2499 & 116.2903 & 114.6035 & 116.4032 &  98.44074 & 115.6112 &  84.48363 &  90.34962 &  59.25013 &  65.78622\\\\\n",
       "\t ENSG00000280987.4  & MATR3 & 401.35778 & 496.7080 & 476.2822 & 588.8743 & 521.5627 & 474.8245 & 435.95184 & 565.7788 & 475.77622 & 494.85065 & 479.60579 & 485.73659\\\\\n",
       "\\end{tabular}\n"
      ],
      "text/markdown": [
       "\n",
       "A data.frame: 2 × 14\n",
       "\n",
       "| gene_id &lt;chr&gt; | gene_name &lt;chr&gt; | A1 &lt;dbl&gt; | A2 &lt;dbl&gt; | A3 &lt;dbl&gt; | A4 &lt;dbl&gt; | A5 &lt;dbl&gt; | A6 &lt;dbl&gt; | A7 &lt;dbl&gt; | A8 &lt;dbl&gt; | A9 &lt;dbl&gt; | A10 &lt;dbl&gt; | A11 &lt;dbl&gt; | A12 &lt;dbl&gt; |\n",
       "|---|---|---|---|---|---|---|---|---|---|---|---|---|---|\n",
       "| ENSG00000015479.18 | MATR3 |  95.97686 | 115.1061 | 136.2499 | 116.2903 | 114.6035 | 116.4032 |  98.44074 | 115.6112 |  84.48363 |  90.34962 |  59.25013 |  65.78622 |\n",
       "| ENSG00000280987.4  | MATR3 | 401.35778 | 496.7080 | 476.2822 | 588.8743 | 521.5627 | 474.8245 | 435.95184 | 565.7788 | 475.77622 | 494.85065 | 479.60579 | 485.73659 |\n",
       "\n"
      ],
      "text/plain": [
       "  gene_id            gene_name A1        A2       A3       A4       A5      \n",
       "1 ENSG00000015479.18 MATR3      95.97686 115.1061 136.2499 116.2903 114.6035\n",
       "2 ENSG00000280987.4  MATR3     401.35778 496.7080 476.2822 588.8743 521.5627\n",
       "  A6       A7        A8       A9        A10       A11       A12      \n",
       "1 116.4032  98.44074 115.6112  84.48363  90.34962  59.25013  65.78622\n",
       "2 474.8245 435.95184 565.7788 475.77622 494.85065 479.60579 485.73659"
      ]
     },
     "metadata": {},
     "output_type": "display_data"
    }
   ],
   "source": [
    "# this particular gene has two gene IDs with different expressing profile.\n",
    "cnts3_tf[,1:2] %>% group_by(gene_name) %>% summarise(n_geneIDs=n_distinct(gene_id)) %>% filter(n_geneIDs > 1)\n",
    "cnts3_tf %>% filter(gene_name == 'MATR3')"
   ]
  },
  {
   "cell_type": "code",
   "execution_count": 94,
   "metadata": {
    "ExecuteTime": {
     "end_time": "2019-09-06T16:40:03.546202Z",
     "start_time": "2019-09-06T16:40:02.385Z"
    }
   },
   "outputs": [],
   "source": [
    "cnts3_tf <- filter(cnts3_tf, gene_id != 'ENSG00000280987.4') # remove one gene_id from genes with multiple gene_ids"
   ]
  },
  {
   "cell_type": "raw",
   "metadata": {
    "ExecuteTime": {
     "end_time": "2019-09-06T16:37:34.288251Z",
     "start_time": "2019-09-06T16:37:33.160Z"
    }
   },
   "source": [
    "cnts3_tf %>% write.csv('TF_ScreenSelectedNormalizedCounts.csv',row.names=F, quote=F)"
   ]
  },
  {
   "cell_type": "code",
   "execution_count": 236,
   "metadata": {},
   "outputs": [
    {
     "data": {
      "text/html": [
       "<table>\n",
       "<caption>A data.frame: 6 × 14</caption>\n",
       "<thead>\n",
       "\t<tr><th scope=col>gene_id</th><th scope=col>gene_name</th><th scope=col>A1</th><th scope=col>A2</th><th scope=col>A3</th><th scope=col>A4</th><th scope=col>A5</th><th scope=col>A6</th><th scope=col>A7</th><th scope=col>A8</th><th scope=col>A9</th><th scope=col>A10</th><th scope=col>A11</th><th scope=col>A12</th></tr>\n",
       "\t<tr><th scope=col>&lt;chr&gt;</th><th scope=col>&lt;chr&gt;</th><th scope=col>&lt;dbl&gt;</th><th scope=col>&lt;dbl&gt;</th><th scope=col>&lt;dbl&gt;</th><th scope=col>&lt;dbl&gt;</th><th scope=col>&lt;dbl&gt;</th><th scope=col>&lt;dbl&gt;</th><th scope=col>&lt;dbl&gt;</th><th scope=col>&lt;dbl&gt;</th><th scope=col>&lt;dbl&gt;</th><th scope=col>&lt;dbl&gt;</th><th scope=col>&lt;dbl&gt;</th><th scope=col>&lt;dbl&gt;</th></tr>\n",
       "</thead>\n",
       "<tbody>\n",
       "\t<tr><td>ENSG00000188290.10</td><td>HES4  </td><td> 92.389510</td><td>248.953790</td><td> 98.450204</td><td>217.440925</td><td>143.287114</td><td>138.866978</td><td>194.626222</td><td>159.470196</td><td>181.262605</td><td>166.554779</td><td>113.177888</td><td>172.229567</td></tr>\n",
       "\t<tr><td>ENSG00000157933.10</td><td>SKI   </td><td>193.903908</td><td>  0.000001</td><td> 68.915143</td><td> 72.000307</td><td>172.195917</td><td>248.912507</td><td>144.495226</td><td>127.958121</td><td>195.010049</td><td>159.382563</td><td>129.769411</td><td>193.085491</td></tr>\n",
       "\t<tr><td>ENSG00000142611.17</td><td>PRDM16</td><td>  0.000001</td><td>  0.000001</td><td>  0.000001</td><td>188.640802</td><td>  0.000001</td><td>  0.000001</td><td>  0.000001</td><td>  0.000001</td><td> 28.004055</td><td>  0.000001</td><td>  0.000001</td><td>  0.000001</td></tr>\n",
       "\t<tr><td>ENSG00000078900.15</td><td>TP73  </td><td>271.465471</td><td>260.533037</td><td>398.020106</td><td>388.801653</td><td>300.400176</td><td>241.052113</td><td>193.151781</td><td>158.515284</td><td>183.808428</td><td> 86.863497</td><td> 62.810766</td><td> 78.714295</td></tr>\n",
       "\t<tr><td>ENSG00000116254.18</td><td>CHD5  </td><td>120.904790</td><td>115.792461</td><td>180.023228</td><td>146.880625</td><td>159.626872</td><td> 59.389652</td><td>  0.000001</td><td>109.814806</td><td>103.360418</td><td>116.349272</td><td> 65.180983</td><td> 67.277175</td></tr>\n",
       "\t<tr><td>ENSG00000069812.11</td><td>HES2  </td><td> 38.780782</td><td>  0.000001</td><td>  0.000001</td><td>  0.000001</td><td>  0.000001</td><td> 44.542239</td><td>  0.000001</td><td>114.589363</td><td>  0.000001</td><td>  0.000001</td><td> 39.701145</td><td>  0.000001</td></tr>\n",
       "</tbody>\n",
       "</table>\n"
      ],
      "text/latex": [
       "A data.frame: 6 × 14\n",
       "\\begin{tabular}{r|llllllllllllll}\n",
       " gene\\_id & gene\\_name & A1 & A2 & A3 & A4 & A5 & A6 & A7 & A8 & A9 & A10 & A11 & A12\\\\\n",
       " <chr> & <chr> & <dbl> & <dbl> & <dbl> & <dbl> & <dbl> & <dbl> & <dbl> & <dbl> & <dbl> & <dbl> & <dbl> & <dbl>\\\\\n",
       "\\hline\n",
       "\t ENSG00000188290.10 & HES4   &  92.389510 & 248.953790 &  98.450204 & 217.440925 & 143.287114 & 138.866978 & 194.626222 & 159.470196 & 181.262605 & 166.554779 & 113.177888 & 172.229567\\\\\n",
       "\t ENSG00000157933.10 & SKI    & 193.903908 &   0.000001 &  68.915143 &  72.000307 & 172.195917 & 248.912507 & 144.495226 & 127.958121 & 195.010049 & 159.382563 & 129.769411 & 193.085491\\\\\n",
       "\t ENSG00000142611.17 & PRDM16 &   0.000001 &   0.000001 &   0.000001 & 188.640802 &   0.000001 &   0.000001 &   0.000001 &   0.000001 &  28.004055 &   0.000001 &   0.000001 &   0.000001\\\\\n",
       "\t ENSG00000078900.15 & TP73   & 271.465471 & 260.533037 & 398.020106 & 388.801653 & 300.400176 & 241.052113 & 193.151781 & 158.515284 & 183.808428 &  86.863497 &  62.810766 &  78.714295\\\\\n",
       "\t ENSG00000116254.18 & CHD5   & 120.904790 & 115.792461 & 180.023228 & 146.880625 & 159.626872 &  59.389652 &   0.000001 & 109.814806 & 103.360418 & 116.349272 &  65.180983 &  67.277175\\\\\n",
       "\t ENSG00000069812.11 & HES2   &  38.780782 &   0.000001 &   0.000001 &   0.000001 &   0.000001 &  44.542239 &   0.000001 & 114.589363 &   0.000001 &   0.000001 &  39.701145 &   0.000001\\\\\n",
       "\\end{tabular}\n"
      ],
      "text/markdown": [
       "\n",
       "A data.frame: 6 × 14\n",
       "\n",
       "| gene_id &lt;chr&gt; | gene_name &lt;chr&gt; | A1 &lt;dbl&gt; | A2 &lt;dbl&gt; | A3 &lt;dbl&gt; | A4 &lt;dbl&gt; | A5 &lt;dbl&gt; | A6 &lt;dbl&gt; | A7 &lt;dbl&gt; | A8 &lt;dbl&gt; | A9 &lt;dbl&gt; | A10 &lt;dbl&gt; | A11 &lt;dbl&gt; | A12 &lt;dbl&gt; |\n",
       "|---|---|---|---|---|---|---|---|---|---|---|---|---|---|\n",
       "| ENSG00000188290.10 | HES4   |  92.389510 | 248.953790 |  98.450204 | 217.440925 | 143.287114 | 138.866978 | 194.626222 | 159.470196 | 181.262605 | 166.554779 | 113.177888 | 172.229567 |\n",
       "| ENSG00000157933.10 | SKI    | 193.903908 |   0.000001 |  68.915143 |  72.000307 | 172.195917 | 248.912507 | 144.495226 | 127.958121 | 195.010049 | 159.382563 | 129.769411 | 193.085491 |\n",
       "| ENSG00000142611.17 | PRDM16 |   0.000001 |   0.000001 |   0.000001 | 188.640802 |   0.000001 |   0.000001 |   0.000001 |   0.000001 |  28.004055 |   0.000001 |   0.000001 |   0.000001 |\n",
       "| ENSG00000078900.15 | TP73   | 271.465471 | 260.533037 | 398.020106 | 388.801653 | 300.400176 | 241.052113 | 193.151781 | 158.515284 | 183.808428 |  86.863497 |  62.810766 |  78.714295 |\n",
       "| ENSG00000116254.18 | CHD5   | 120.904790 | 115.792461 | 180.023228 | 146.880625 | 159.626872 |  59.389652 |   0.000001 | 109.814806 | 103.360418 | 116.349272 |  65.180983 |  67.277175 |\n",
       "| ENSG00000069812.11 | HES2   |  38.780782 |   0.000001 |   0.000001 |   0.000001 |   0.000001 |  44.542239 |   0.000001 | 114.589363 |   0.000001 |   0.000001 |  39.701145 |   0.000001 |\n",
       "\n"
      ],
      "text/plain": [
       "  gene_id            gene_name A1         A2         A3         A4        \n",
       "1 ENSG00000188290.10 HES4       92.389510 248.953790  98.450204 217.440925\n",
       "2 ENSG00000157933.10 SKI       193.903908   0.000001  68.915143  72.000307\n",
       "3 ENSG00000142611.17 PRDM16      0.000001   0.000001   0.000001 188.640802\n",
       "4 ENSG00000078900.15 TP73      271.465471 260.533037 398.020106 388.801653\n",
       "5 ENSG00000116254.18 CHD5      120.904790 115.792461 180.023228 146.880625\n",
       "6 ENSG00000069812.11 HES2       38.780782   0.000001   0.000001   0.000001\n",
       "  A5         A6         A7         A8         A9         A10        A11       \n",
       "1 143.287114 138.866978 194.626222 159.470196 181.262605 166.554779 113.177888\n",
       "2 172.195917 248.912507 144.495226 127.958121 195.010049 159.382563 129.769411\n",
       "3   0.000001   0.000001   0.000001   0.000001  28.004055   0.000001   0.000001\n",
       "4 300.400176 241.052113 193.151781 158.515284 183.808428  86.863497  62.810766\n",
       "5 159.626872  59.389652   0.000001 109.814806 103.360418 116.349272  65.180983\n",
       "6   0.000001  44.542239   0.000001 114.589363   0.000001   0.000001  39.701145\n",
       "  A12       \n",
       "1 172.229567\n",
       "2 193.085491\n",
       "3   0.000001\n",
       "4  78.714295\n",
       "5  67.277175\n",
       "6   0.000001"
      ]
     },
     "metadata": {},
     "output_type": "display_data"
    }
   ],
   "source": [
    "cnts3_tf %>% head"
   ]
  },
  {
   "cell_type": "code",
   "execution_count": 115,
   "metadata": {
    "ExecuteTime": {
     "end_time": "2019-10-16T18:36:41.509143Z",
     "start_time": "2019-10-16T18:36:41.489Z"
    }
   },
   "outputs": [],
   "source": [
    "# ano3 <- as.data.frame(colData(dds3)[,c('condition','group')])\n",
    "ano3 <- coldata3"
   ]
  },
  {
   "cell_type": "raw",
   "metadata": {
    "ExecuteTime": {
     "end_time": "2019-09-06T01:48:53.051463Z",
     "start_time": "2019-09-06T01:48:53.014Z"
    }
   },
   "source": [
    "cnts3_tf[,c(2:14)] %>% column_to_rownames('gene_name') %>% as.matrix %>% \n",
    "                pheatmap(cluster_rows = T, show_rownames = T, cluster_cols = F, annotation = ano3, fontsize=5, \n",
    "                title = 'TF Selected in Screen', filename='TF_screen_selected.heatmap.pdf', width=8, height=66, silent=T)"
   ]
  },
  {
   "cell_type": "code",
   "execution_count": 116,
   "metadata": {
    "ExecuteTime": {
     "end_time": "2019-10-16T18:36:43.545997Z",
     "start_time": "2019-10-16T18:36:43.512Z"
    }
   },
   "outputs": [],
   "source": [
    "quadroot <- function (x) { # function to help decrease range of read counts. Easier for heatmap visulization\n",
    "    return(x^(1/4))\n",
    "}"
   ]
  },
  {
   "cell_type": "raw",
   "metadata": {
    "ExecuteTime": {
     "end_time": "2019-09-06T16:48:09.985932Z",
     "start_time": "2019-09-06T16:48:08.921Z"
    }
   },
   "source": [
    "ano3 <- as.data.frame(colData(dds3)[,c('condition','group')]) #annotation for heatmap"
   ]
  },
  {
   "cell_type": "code",
   "execution_count": 243,
   "metadata": {},
   "outputs": [
    {
     "data": {
      "text/html": [
       "<table>\n",
       "<caption>A data.frame: 6 × 14</caption>\n",
       "<thead>\n",
       "\t<tr><th scope=col>gene_id</th><th scope=col>gene_name</th><th scope=col>A1</th><th scope=col>A2</th><th scope=col>A3</th><th scope=col>A4</th><th scope=col>A5</th><th scope=col>A6</th><th scope=col>A7</th><th scope=col>A8</th><th scope=col>A9</th><th scope=col>A10</th><th scope=col>A11</th><th scope=col>A12</th></tr>\n",
       "\t<tr><th scope=col>&lt;chr&gt;</th><th scope=col>&lt;chr&gt;</th><th scope=col>&lt;dbl&gt;</th><th scope=col>&lt;dbl&gt;</th><th scope=col>&lt;dbl&gt;</th><th scope=col>&lt;dbl&gt;</th><th scope=col>&lt;dbl&gt;</th><th scope=col>&lt;dbl&gt;</th><th scope=col>&lt;dbl&gt;</th><th scope=col>&lt;dbl&gt;</th><th scope=col>&lt;dbl&gt;</th><th scope=col>&lt;dbl&gt;</th><th scope=col>&lt;dbl&gt;</th><th scope=col>&lt;dbl&gt;</th></tr>\n",
       "</thead>\n",
       "<tbody>\n",
       "\t<tr><td>ENSG00000188290.10</td><td>HES4  </td><td> 92.389510</td><td>248.953790</td><td> 98.450204</td><td>217.440925</td><td>143.287114</td><td>138.866978</td><td>194.626222</td><td>159.470196</td><td>181.262605</td><td>166.554779</td><td>113.177888</td><td>172.229567</td></tr>\n",
       "\t<tr><td>ENSG00000157933.10</td><td>SKI   </td><td>193.903908</td><td>  0.000001</td><td> 68.915143</td><td> 72.000307</td><td>172.195917</td><td>248.912507</td><td>144.495226</td><td>127.958121</td><td>195.010049</td><td>159.382563</td><td>129.769411</td><td>193.085491</td></tr>\n",
       "\t<tr><td>ENSG00000142611.17</td><td>PRDM16</td><td>  0.000001</td><td>  0.000001</td><td>  0.000001</td><td>188.640802</td><td>  0.000001</td><td>  0.000001</td><td>  0.000001</td><td>  0.000001</td><td> 28.004055</td><td>  0.000001</td><td>  0.000001</td><td>  0.000001</td></tr>\n",
       "\t<tr><td>ENSG00000078900.15</td><td>TP73  </td><td>271.465471</td><td>260.533037</td><td>398.020106</td><td>388.801653</td><td>300.400176</td><td>241.052113</td><td>193.151781</td><td>158.515284</td><td>183.808428</td><td> 86.863497</td><td> 62.810766</td><td> 78.714295</td></tr>\n",
       "\t<tr><td>ENSG00000116254.18</td><td>CHD5  </td><td>120.904790</td><td>115.792461</td><td>180.023228</td><td>146.880625</td><td>159.626872</td><td> 59.389652</td><td>  0.000001</td><td>109.814806</td><td>103.360418</td><td>116.349272</td><td> 65.180983</td><td> 67.277175</td></tr>\n",
       "\t<tr><td>ENSG00000069812.11</td><td>HES2  </td><td> 38.780782</td><td>  0.000001</td><td>  0.000001</td><td>  0.000001</td><td>  0.000001</td><td> 44.542239</td><td>  0.000001</td><td>114.589363</td><td>  0.000001</td><td>  0.000001</td><td> 39.701145</td><td>  0.000001</td></tr>\n",
       "</tbody>\n",
       "</table>\n"
      ],
      "text/latex": [
       "A data.frame: 6 × 14\n",
       "\\begin{tabular}{r|llllllllllllll}\n",
       " gene\\_id & gene\\_name & A1 & A2 & A3 & A4 & A5 & A6 & A7 & A8 & A9 & A10 & A11 & A12\\\\\n",
       " <chr> & <chr> & <dbl> & <dbl> & <dbl> & <dbl> & <dbl> & <dbl> & <dbl> & <dbl> & <dbl> & <dbl> & <dbl> & <dbl>\\\\\n",
       "\\hline\n",
       "\t ENSG00000188290.10 & HES4   &  92.389510 & 248.953790 &  98.450204 & 217.440925 & 143.287114 & 138.866978 & 194.626222 & 159.470196 & 181.262605 & 166.554779 & 113.177888 & 172.229567\\\\\n",
       "\t ENSG00000157933.10 & SKI    & 193.903908 &   0.000001 &  68.915143 &  72.000307 & 172.195917 & 248.912507 & 144.495226 & 127.958121 & 195.010049 & 159.382563 & 129.769411 & 193.085491\\\\\n",
       "\t ENSG00000142611.17 & PRDM16 &   0.000001 &   0.000001 &   0.000001 & 188.640802 &   0.000001 &   0.000001 &   0.000001 &   0.000001 &  28.004055 &   0.000001 &   0.000001 &   0.000001\\\\\n",
       "\t ENSG00000078900.15 & TP73   & 271.465471 & 260.533037 & 398.020106 & 388.801653 & 300.400176 & 241.052113 & 193.151781 & 158.515284 & 183.808428 &  86.863497 &  62.810766 &  78.714295\\\\\n",
       "\t ENSG00000116254.18 & CHD5   & 120.904790 & 115.792461 & 180.023228 & 146.880625 & 159.626872 &  59.389652 &   0.000001 & 109.814806 & 103.360418 & 116.349272 &  65.180983 &  67.277175\\\\\n",
       "\t ENSG00000069812.11 & HES2   &  38.780782 &   0.000001 &   0.000001 &   0.000001 &   0.000001 &  44.542239 &   0.000001 & 114.589363 &   0.000001 &   0.000001 &  39.701145 &   0.000001\\\\\n",
       "\\end{tabular}\n"
      ],
      "text/markdown": [
       "\n",
       "A data.frame: 6 × 14\n",
       "\n",
       "| gene_id &lt;chr&gt; | gene_name &lt;chr&gt; | A1 &lt;dbl&gt; | A2 &lt;dbl&gt; | A3 &lt;dbl&gt; | A4 &lt;dbl&gt; | A5 &lt;dbl&gt; | A6 &lt;dbl&gt; | A7 &lt;dbl&gt; | A8 &lt;dbl&gt; | A9 &lt;dbl&gt; | A10 &lt;dbl&gt; | A11 &lt;dbl&gt; | A12 &lt;dbl&gt; |\n",
       "|---|---|---|---|---|---|---|---|---|---|---|---|---|---|\n",
       "| ENSG00000188290.10 | HES4   |  92.389510 | 248.953790 |  98.450204 | 217.440925 | 143.287114 | 138.866978 | 194.626222 | 159.470196 | 181.262605 | 166.554779 | 113.177888 | 172.229567 |\n",
       "| ENSG00000157933.10 | SKI    | 193.903908 |   0.000001 |  68.915143 |  72.000307 | 172.195917 | 248.912507 | 144.495226 | 127.958121 | 195.010049 | 159.382563 | 129.769411 | 193.085491 |\n",
       "| ENSG00000142611.17 | PRDM16 |   0.000001 |   0.000001 |   0.000001 | 188.640802 |   0.000001 |   0.000001 |   0.000001 |   0.000001 |  28.004055 |   0.000001 |   0.000001 |   0.000001 |\n",
       "| ENSG00000078900.15 | TP73   | 271.465471 | 260.533037 | 398.020106 | 388.801653 | 300.400176 | 241.052113 | 193.151781 | 158.515284 | 183.808428 |  86.863497 |  62.810766 |  78.714295 |\n",
       "| ENSG00000116254.18 | CHD5   | 120.904790 | 115.792461 | 180.023228 | 146.880625 | 159.626872 |  59.389652 |   0.000001 | 109.814806 | 103.360418 | 116.349272 |  65.180983 |  67.277175 |\n",
       "| ENSG00000069812.11 | HES2   |  38.780782 |   0.000001 |   0.000001 |   0.000001 |   0.000001 |  44.542239 |   0.000001 | 114.589363 |   0.000001 |   0.000001 |  39.701145 |   0.000001 |\n",
       "\n"
      ],
      "text/plain": [
       "  gene_id            gene_name A1         A2         A3         A4        \n",
       "1 ENSG00000188290.10 HES4       92.389510 248.953790  98.450204 217.440925\n",
       "2 ENSG00000157933.10 SKI       193.903908   0.000001  68.915143  72.000307\n",
       "3 ENSG00000142611.17 PRDM16      0.000001   0.000001   0.000001 188.640802\n",
       "4 ENSG00000078900.15 TP73      271.465471 260.533037 398.020106 388.801653\n",
       "5 ENSG00000116254.18 CHD5      120.904790 115.792461 180.023228 146.880625\n",
       "6 ENSG00000069812.11 HES2       38.780782   0.000001   0.000001   0.000001\n",
       "  A5         A6         A7         A8         A9         A10        A11       \n",
       "1 143.287114 138.866978 194.626222 159.470196 181.262605 166.554779 113.177888\n",
       "2 172.195917 248.912507 144.495226 127.958121 195.010049 159.382563 129.769411\n",
       "3   0.000001   0.000001   0.000001   0.000001  28.004055   0.000001   0.000001\n",
       "4 300.400176 241.052113 193.151781 158.515284 183.808428  86.863497  62.810766\n",
       "5 159.626872  59.389652   0.000001 109.814806 103.360418 116.349272  65.180983\n",
       "6   0.000001  44.542239   0.000001 114.589363   0.000001   0.000001  39.701145\n",
       "  A12       \n",
       "1 172.229567\n",
       "2 193.085491\n",
       "3   0.000001\n",
       "4  78.714295\n",
       "5  67.277175\n",
       "6   0.000001"
      ]
     },
     "metadata": {},
     "output_type": "display_data"
    }
   ],
   "source": [
    "cnts3_tf %>% head"
   ]
  },
  {
   "cell_type": "markdown",
   "metadata": {},
   "source": [
    "##### Plot heatmaps of TF screened genes that are sigificant and pass FC threshold"
   ]
  },
  {
   "cell_type": "code",
   "execution_count": 96,
   "metadata": {
    "ExecuteTime": {
     "end_time": "2019-10-16T18:44:25.034021Z",
     "start_time": "2019-10-16T18:44:24.996Z"
    }
   },
   "outputs": [
    {
     "ename": "ERROR",
     "evalue": "Error in hclust(d, method = method): must have n >= 2 objects to cluster\n",
     "output_type": "error",
     "traceback": [
      "Error in hclust(d, method = method): must have n >= 2 objects to cluster\nTraceback:\n",
      "1. cnts3_tf[, c(2:14)] %>% filter(gene_name %in% tf.heatmap.genes.3c) %>% \n .     column_to_rownames(\"gene_name\") %>% as.matrix %>% apply(2, \n .     sqrt) %>% pheatmap(cluster_rows = T, show_rownames = T, cluster_cols = F, \n .     annotation = ano3, fontsize = 6, treeheight_row = 20, main = paste0(\"Wild type 16H vs. ES, Screened TF Genes (fdr<\", \n .         fdr, \", log2FC>\", FC.threshold, \")\"))",
      "2. withVisible(eval(quote(`_fseq`(`_lhs`)), env, env))",
      "3. eval(quote(`_fseq`(`_lhs`)), env, env)",
      "4. eval(quote(`_fseq`(`_lhs`)), env, env)",
      "5. `_fseq`(`_lhs`)",
      "6. freduce(value, `_function_list`)",
      "7. withVisible(function_list[[k]](value))",
      "8. function_list[[k]](value)",
      "9. pheatmap(., cluster_rows = T, show_rownames = T, cluster_cols = F, \n .     annotation = ano3, fontsize = 6, treeheight_row = 20, main = paste0(\"Wild type 16H vs. ES, Screened TF Genes (fdr<\", \n .         fdr, \", log2FC>\", FC.threshold, \")\"))",
      "10. cluster_mat(mat, distance = clustering_distance_rows, method = clustering_method)",
      "11. hclust(d, method = method)",
      "12. stop(\"must have n >= 2 objects to cluster\")"
     ]
    }
   ],
   "source": [
    "tf.heatmap.genes.3c <- res3c_tf %>% filter(DGE != 'No Change' & padj < fdr & abs(log2FoldChange) > abs(FC.threshold)) %>% pull(gene_name) %>% as.character\n",
    "cnts3_tf[,c(2:14)] %>% filter(gene_name %in% tf.heatmap.genes.3c) %>% column_to_rownames('gene_name') %>% as.matrix %>% apply(2, sqrt) %>%\n",
    "                pheatmap(cluster_rows = T, show_rownames = T, cluster_cols = F, annotation = ano3, fontsize=6, treeheight_row=20,\n",
    "                main = paste0('Wild type 16H vs. ES, Screened TF Genes (fdr<',fdr,', log2FC>',FC.threshold,')'))"
   ]
  },
  {
   "cell_type": "code",
   "execution_count": 97,
   "metadata": {
    "ExecuteTime": {
     "end_time": "2019-10-16T18:43:04.076058Z",
     "start_time": "2019-10-16T18:43:03.869Z"
    }
   },
   "outputs": [
    {
     "data": {
      "image/png": "[encoded data removed]",
      "text/plain": [
       "plot without title"
      ]
     },
     "metadata": {},
     "output_type": "display_data"
    }
   ],
   "source": [
    "tf.heatmap.genes.3d <- res3d_tf %>% filter(DGE != 'No Change' & padj < fdr & abs(log2FoldChange) > abs(FC.threshold)) %>% pull(gene_name) %>% as.character\n",
    "cnts3_tf[,c(2:14)] %>% filter(gene_name %in% tf.heatmap.genes.3d) %>% column_to_rownames('gene_name') %>% as.matrix %>% apply(2, sqrt) %>%\n",
    "                pheatmap(cluster_rows = T, show_rownames = T, cluster_cols = F, annotation = ano3, fontsize=6, treeheight_row=20,\n",
    "                main = paste0('Wild type: 24H vs. ES, Screened TF Genes (fdr<',fdr,', log2FC>',FC.threshold,')'))"
   ]
  },
  {
   "cell_type": "code",
   "execution_count": 98,
   "metadata": {
    "ExecuteTime": {
     "end_time": "2019-10-16T18:44:18.465927Z",
     "start_time": "2019-10-16T18:44:18.434Z"
    }
   },
   "outputs": [
    {
     "data": {
      "text/html": [
       "<ol class=list-inline>\n",
       "\t<li>'HMG20B'</li>\n",
       "\t<li>'TFE3'</li>\n",
       "\t<li>'CBFA2T2'</li>\n",
       "\t<li>'SP140'</li>\n",
       "\t<li>'ZNF510'</li>\n",
       "\t<li>'ZNF671'</li>\n",
       "\t<li>'ANKRD10'</li>\n",
       "\t<li>'HIF1A'</li>\n",
       "\t<li>'E2F1'</li>\n",
       "\t<li>'RBBP7'</li>\n",
       "\t<li>'TRIP4'</li>\n",
       "\t<li>'KLF1'</li>\n",
       "\t<li>'AEBP1'</li>\n",
       "\t<li>'NANOG'</li>\n",
       "\t<li>'HAND1'</li>\n",
       "\t<li>'CEBPZ'</li>\n",
       "\t<li>'IRF6'</li>\n",
       "\t<li>'RNF2'</li>\n",
       "\t<li>'WWP1'</li>\n",
       "\t<li>'HOXC11'</li>\n",
       "\t<li>'HIF3A'</li>\n",
       "\t<li>'SNRPB'</li>\n",
       "\t<li>'TCF15'</li>\n",
       "\t<li>'MCM8'</li>\n",
       "\t<li>'HABP4'</li>\n",
       "\t<li>'ZSWIM4'</li>\n",
       "\t<li>'TRIM22'</li>\n",
       "\t<li>'BTG1'</li>\n",
       "\t<li>'RXRG'</li>\n",
       "\t<li>'PARP1'</li>\n",
       "\t<li>'SHPRH'</li>\n",
       "\t<li>'ZNF157'</li>\n",
       "\t<li>'RBMX'</li>\n",
       "\t<li>'ZNF18'</li>\n",
       "\t<li>'ZIC3'</li>\n",
       "\t<li>'FUBP1'</li>\n",
       "\t<li>'REL'</li>\n",
       "\t<li>'ELF3'</li>\n",
       "\t<li>'HESX1'</li>\n",
       "\t<li>'ZNF12'</li>\n",
       "\t<li>'ZBTB5'</li>\n",
       "\t<li>'PRDM10'</li>\n",
       "\t<li>'NFXL1'</li>\n",
       "\t<li>'PYGO1'</li>\n",
       "\t<li>'ZNF483'</li>\n",
       "\t<li>'FOSL1'</li>\n",
       "\t<li>'ARID3B'</li>\n",
       "\t<li>'ZFP91'</li>\n",
       "\t<li>'ZNF248'</li>\n",
       "\t<li>'ZNF587'</li>\n",
       "\t<li>'POU5F1'</li>\n",
       "\t<li>'ZNF611'</li>\n",
       "\t<li>'ZNF254'</li>\n",
       "\t<li>'RBM14'</li>\n",
       "\t<li>'ZNF512'</li>\n",
       "\t<li>'ZNF486'</li>\n",
       "\t<li>'ZNF578'</li>\n",
       "\t<li>'DCP1A'</li>\n",
       "</ol>\n"
      ],
      "text/latex": [
       "\\begin{enumerate*}\n",
       "\\item 'HMG20B'\n",
       "\\item 'TFE3'\n",
       "\\item 'CBFA2T2'\n",
       "\\item 'SP140'\n",
       "\\item 'ZNF510'\n",
       "\\item 'ZNF671'\n",
       "\\item 'ANKRD10'\n",
       "\\item 'HIF1A'\n",
       "\\item 'E2F1'\n",
       "\\item 'RBBP7'\n",
       "\\item 'TRIP4'\n",
       "\\item 'KLF1'\n",
       "\\item 'AEBP1'\n",
       "\\item 'NANOG'\n",
       "\\item 'HAND1'\n",
       "\\item 'CEBPZ'\n",
       "\\item 'IRF6'\n",
       "\\item 'RNF2'\n",
       "\\item 'WWP1'\n",
       "\\item 'HOXC11'\n",
       "\\item 'HIF3A'\n",
       "\\item 'SNRPB'\n",
       "\\item 'TCF15'\n",
       "\\item 'MCM8'\n",
       "\\item 'HABP4'\n",
       "\\item 'ZSWIM4'\n",
       "\\item 'TRIM22'\n",
       "\\item 'BTG1'\n",
       "\\item 'RXRG'\n",
       "\\item 'PARP1'\n",
       "\\item 'SHPRH'\n",
       "\\item 'ZNF157'\n",
       "\\item 'RBMX'\n",
       "\\item 'ZNF18'\n",
       "\\item 'ZIC3'\n",
       "\\item 'FUBP1'\n",
       "\\item 'REL'\n",
       "\\item 'ELF3'\n",
       "\\item 'HESX1'\n",
       "\\item 'ZNF12'\n",
       "\\item 'ZBTB5'\n",
       "\\item 'PRDM10'\n",
       "\\item 'NFXL1'\n",
       "\\item 'PYGO1'\n",
       "\\item 'ZNF483'\n",
       "\\item 'FOSL1'\n",
       "\\item 'ARID3B'\n",
       "\\item 'ZFP91'\n",
       "\\item 'ZNF248'\n",
       "\\item 'ZNF587'\n",
       "\\item 'POU5F1'\n",
       "\\item 'ZNF611'\n",
       "\\item 'ZNF254'\n",
       "\\item 'RBM14'\n",
       "\\item 'ZNF512'\n",
       "\\item 'ZNF486'\n",
       "\\item 'ZNF578'\n",
       "\\item 'DCP1A'\n",
       "\\end{enumerate*}\n"
      ],
      "text/markdown": [
       "1. 'HMG20B'\n",
       "2. 'TFE3'\n",
       "3. 'CBFA2T2'\n",
       "4. 'SP140'\n",
       "5. 'ZNF510'\n",
       "6. 'ZNF671'\n",
       "7. 'ANKRD10'\n",
       "8. 'HIF1A'\n",
       "9. 'E2F1'\n",
       "10. 'RBBP7'\n",
       "11. 'TRIP4'\n",
       "12. 'KLF1'\n",
       "13. 'AEBP1'\n",
       "14. 'NANOG'\n",
       "15. 'HAND1'\n",
       "16. 'CEBPZ'\n",
       "17. 'IRF6'\n",
       "18. 'RNF2'\n",
       "19. 'WWP1'\n",
       "20. 'HOXC11'\n",
       "21. 'HIF3A'\n",
       "22. 'SNRPB'\n",
       "23. 'TCF15'\n",
       "24. 'MCM8'\n",
       "25. 'HABP4'\n",
       "26. 'ZSWIM4'\n",
       "27. 'TRIM22'\n",
       "28. 'BTG1'\n",
       "29. 'RXRG'\n",
       "30. 'PARP1'\n",
       "31. 'SHPRH'\n",
       "32. 'ZNF157'\n",
       "33. 'RBMX'\n",
       "34. 'ZNF18'\n",
       "35. 'ZIC3'\n",
       "36. 'FUBP1'\n",
       "37. 'REL'\n",
       "38. 'ELF3'\n",
       "39. 'HESX1'\n",
       "40. 'ZNF12'\n",
       "41. 'ZBTB5'\n",
       "42. 'PRDM10'\n",
       "43. 'NFXL1'\n",
       "44. 'PYGO1'\n",
       "45. 'ZNF483'\n",
       "46. 'FOSL1'\n",
       "47. 'ARID3B'\n",
       "48. 'ZFP91'\n",
       "49. 'ZNF248'\n",
       "50. 'ZNF587'\n",
       "51. 'POU5F1'\n",
       "52. 'ZNF611'\n",
       "53. 'ZNF254'\n",
       "54. 'RBM14'\n",
       "55. 'ZNF512'\n",
       "56. 'ZNF486'\n",
       "57. 'ZNF578'\n",
       "58. 'DCP1A'\n",
       "\n",
       "\n"
      ],
      "text/plain": [
       " [1] \"HMG20B\"  \"TFE3\"    \"CBFA2T2\" \"SP140\"   \"ZNF510\"  \"ZNF671\"  \"ANKRD10\"\n",
       " [8] \"HIF1A\"   \"E2F1\"    \"RBBP7\"   \"TRIP4\"   \"KLF1\"    \"AEBP1\"   \"NANOG\"  \n",
       "[15] \"HAND1\"   \"CEBPZ\"   \"IRF6\"    \"RNF2\"    \"WWP1\"    \"HOXC11\"  \"HIF3A\"  \n",
       "[22] \"SNRPB\"   \"TCF15\"   \"MCM8\"    \"HABP4\"   \"ZSWIM4\"  \"TRIM22\"  \"BTG1\"   \n",
       "[29] \"RXRG\"    \"PARP1\"   \"SHPRH\"   \"ZNF157\"  \"RBMX\"    \"ZNF18\"   \"ZIC3\"   \n",
       "[36] \"FUBP1\"   \"REL\"     \"ELF3\"    \"HESX1\"   \"ZNF12\"   \"ZBTB5\"   \"PRDM10\" \n",
       "[43] \"NFXL1\"   \"PYGO1\"   \"ZNF483\"  \"FOSL1\"   \"ARID3B\"  \"ZFP91\"   \"ZNF248\" \n",
       "[50] \"ZNF587\"  \"POU5F1\"  \"ZNF611\"  \"ZNF254\"  \"RBM14\"   \"ZNF512\"  \"ZNF486\" \n",
       "[57] \"ZNF578\"  \"DCP1A\"  "
      ]
     },
     "metadata": {},
     "output_type": "display_data"
    }
   ],
   "source": [
    "res3e_tf %>% filter(DGE != 'No Change' & padj < fdr & abs(log2FoldChange) > abs(FC.threshold)) %>% pull(gene_name) %>% as.character"
   ]
  },
  {
   "cell_type": "code",
   "execution_count": 99,
   "metadata": {
    "ExecuteTime": {
     "end_time": "2019-10-16T18:44:20.786790Z",
     "start_time": "2019-10-16T18:44:20.748Z"
    }
   },
   "outputs": [
    {
     "data": {
      "text/html": [
       "<table>\n",
       "<caption>A data.frame: 6 × 14</caption>\n",
       "<thead>\n",
       "\t<tr><th scope=col>gene_id</th><th scope=col>gene_name</th><th scope=col>A1</th><th scope=col>A2</th><th scope=col>A3</th><th scope=col>A4</th><th scope=col>A5</th><th scope=col>A6</th><th scope=col>A7</th><th scope=col>A8</th><th scope=col>A9</th><th scope=col>A10</th><th scope=col>A11</th><th scope=col>A12</th></tr>\n",
       "\t<tr><th scope=col>&lt;chr&gt;</th><th scope=col>&lt;chr&gt;</th><th scope=col>&lt;dbl&gt;</th><th scope=col>&lt;dbl&gt;</th><th scope=col>&lt;dbl&gt;</th><th scope=col>&lt;dbl&gt;</th><th scope=col>&lt;dbl&gt;</th><th scope=col>&lt;dbl&gt;</th><th scope=col>&lt;dbl&gt;</th><th scope=col>&lt;dbl&gt;</th><th scope=col>&lt;dbl&gt;</th><th scope=col>&lt;dbl&gt;</th><th scope=col>&lt;dbl&gt;</th><th scope=col>&lt;dbl&gt;</th></tr>\n",
       "</thead>\n",
       "<tbody>\n",
       "\t<tr><td>ENSG00000004848.8 </td><td>ARX   </td><td>405.72036</td><td>359.08111</td><td>380.31488</td><td>378.56203</td><td>373.04594</td><td>333.29830</td><td>399.38814</td><td>346.83369</td><td>294.02526</td><td>256.12873</td><td>241.00391</td><td>196.45747</td></tr>\n",
       "\t<tr><td>ENSG00000005007.12</td><td>UPF1  </td><td>148.32788</td><td>165.15229</td><td>219.18459</td><td>189.28101</td><td>155.53326</td><td>140.68873</td><td>157.50518</td><td>139.14272</td><td>121.16731</td><td>189.81708</td><td>150.52736</td><td>164.01495</td></tr>\n",
       "\t<tr><td>ENSG00000005073.5 </td><td>HOXA11</td><td> 49.07908</td><td> 47.54384</td><td> 77.01080</td><td> 70.51646</td><td> 76.01250</td><td> 60.29517</td><td> 53.43926</td><td> 61.38649</td><td> 47.24414</td><td> 49.73373</td><td> 36.03049</td><td> 41.45433</td></tr>\n",
       "\t<tr><td>ENSG00000005075.15</td><td>POLR2J</td><td> 42.53520</td><td> 68.81345</td><td> 99.52165</td><td> 72.99072</td><td> 51.45461</td><td> 47.73368</td><td> 40.78259</td><td> 33.76257</td><td> 33.34880</td><td> 46.41815</td><td> 28.02371</td><td> 28.83779</td></tr>\n",
       "\t<tr><td>ENSG00000005102.13</td><td>MEOX1 </td><td> 59.98554</td><td> 95.08768</td><td> 78.19558</td><td> 40.82532</td><td> 65.48769</td><td> 61.13260</td><td> 68.90852</td><td> 51.15541</td><td> 53.35808</td><td> 71.28502</td><td> 56.04742</td><td> 55.87323</td></tr>\n",
       "\t<tr><td>ENSG00000005339.14</td><td>CREBBP</td><td>170.14080</td><td>258.98881</td><td>176.53245</td><td>186.80675</td><td>197.63249</td><td>189.25984</td><td>135.00444</td><td>153.46623</td><td>192.86723</td><td>229.60407</td><td>170.54430</td><td>193.75393</td></tr>\n",
       "</tbody>\n",
       "</table>\n"
      ],
      "text/latex": [
       "A data.frame: 6 × 14\n",
       "\\begin{tabular}{r|llllllllllllll}\n",
       " gene\\_id & gene\\_name & A1 & A2 & A3 & A4 & A5 & A6 & A7 & A8 & A9 & A10 & A11 & A12\\\\\n",
       " <chr> & <chr> & <dbl> & <dbl> & <dbl> & <dbl> & <dbl> & <dbl> & <dbl> & <dbl> & <dbl> & <dbl> & <dbl> & <dbl>\\\\\n",
       "\\hline\n",
       "\t ENSG00000004848.8  & ARX    & 405.72036 & 359.08111 & 380.31488 & 378.56203 & 373.04594 & 333.29830 & 399.38814 & 346.83369 & 294.02526 & 256.12873 & 241.00391 & 196.45747\\\\\n",
       "\t ENSG00000005007.12 & UPF1   & 148.32788 & 165.15229 & 219.18459 & 189.28101 & 155.53326 & 140.68873 & 157.50518 & 139.14272 & 121.16731 & 189.81708 & 150.52736 & 164.01495\\\\\n",
       "\t ENSG00000005073.5  & HOXA11 &  49.07908 &  47.54384 &  77.01080 &  70.51646 &  76.01250 &  60.29517 &  53.43926 &  61.38649 &  47.24414 &  49.73373 &  36.03049 &  41.45433\\\\\n",
       "\t ENSG00000005075.15 & POLR2J &  42.53520 &  68.81345 &  99.52165 &  72.99072 &  51.45461 &  47.73368 &  40.78259 &  33.76257 &  33.34880 &  46.41815 &  28.02371 &  28.83779\\\\\n",
       "\t ENSG00000005102.13 & MEOX1  &  59.98554 &  95.08768 &  78.19558 &  40.82532 &  65.48769 &  61.13260 &  68.90852 &  51.15541 &  53.35808 &  71.28502 &  56.04742 &  55.87323\\\\\n",
       "\t ENSG00000005339.14 & CREBBP & 170.14080 & 258.98881 & 176.53245 & 186.80675 & 197.63249 & 189.25984 & 135.00444 & 153.46623 & 192.86723 & 229.60407 & 170.54430 & 193.75393\\\\\n",
       "\\end{tabular}\n"
      ],
      "text/markdown": [
       "\n",
       "A data.frame: 6 × 14\n",
       "\n",
       "| gene_id &lt;chr&gt; | gene_name &lt;chr&gt; | A1 &lt;dbl&gt; | A2 &lt;dbl&gt; | A3 &lt;dbl&gt; | A4 &lt;dbl&gt; | A5 &lt;dbl&gt; | A6 &lt;dbl&gt; | A7 &lt;dbl&gt; | A8 &lt;dbl&gt; | A9 &lt;dbl&gt; | A10 &lt;dbl&gt; | A11 &lt;dbl&gt; | A12 &lt;dbl&gt; |\n",
       "|---|---|---|---|---|---|---|---|---|---|---|---|---|---|\n",
       "| ENSG00000004848.8  | ARX    | 405.72036 | 359.08111 | 380.31488 | 378.56203 | 373.04594 | 333.29830 | 399.38814 | 346.83369 | 294.02526 | 256.12873 | 241.00391 | 196.45747 |\n",
       "| ENSG00000005007.12 | UPF1   | 148.32788 | 165.15229 | 219.18459 | 189.28101 | 155.53326 | 140.68873 | 157.50518 | 139.14272 | 121.16731 | 189.81708 | 150.52736 | 164.01495 |\n",
       "| ENSG00000005073.5  | HOXA11 |  49.07908 |  47.54384 |  77.01080 |  70.51646 |  76.01250 |  60.29517 |  53.43926 |  61.38649 |  47.24414 |  49.73373 |  36.03049 |  41.45433 |\n",
       "| ENSG00000005075.15 | POLR2J |  42.53520 |  68.81345 |  99.52165 |  72.99072 |  51.45461 |  47.73368 |  40.78259 |  33.76257 |  33.34880 |  46.41815 |  28.02371 |  28.83779 |\n",
       "| ENSG00000005102.13 | MEOX1  |  59.98554 |  95.08768 |  78.19558 |  40.82532 |  65.48769 |  61.13260 |  68.90852 |  51.15541 |  53.35808 |  71.28502 |  56.04742 |  55.87323 |\n",
       "| ENSG00000005339.14 | CREBBP | 170.14080 | 258.98881 | 176.53245 | 186.80675 | 197.63249 | 189.25984 | 135.00444 | 153.46623 | 192.86723 | 229.60407 | 170.54430 | 193.75393 |\n",
       "\n"
      ],
      "text/plain": [
       "  gene_id            gene_name A1        A2        A3        A4       \n",
       "1 ENSG00000004848.8  ARX       405.72036 359.08111 380.31488 378.56203\n",
       "2 ENSG00000005007.12 UPF1      148.32788 165.15229 219.18459 189.28101\n",
       "3 ENSG00000005073.5  HOXA11     49.07908  47.54384  77.01080  70.51646\n",
       "4 ENSG00000005075.15 POLR2J     42.53520  68.81345  99.52165  72.99072\n",
       "5 ENSG00000005102.13 MEOX1      59.98554  95.08768  78.19558  40.82532\n",
       "6 ENSG00000005339.14 CREBBP    170.14080 258.98881 176.53245 186.80675\n",
       "  A5        A6        A7        A8        A9        A10       A11      \n",
       "1 373.04594 333.29830 399.38814 346.83369 294.02526 256.12873 241.00391\n",
       "2 155.53326 140.68873 157.50518 139.14272 121.16731 189.81708 150.52736\n",
       "3  76.01250  60.29517  53.43926  61.38649  47.24414  49.73373  36.03049\n",
       "4  51.45461  47.73368  40.78259  33.76257  33.34880  46.41815  28.02371\n",
       "5  65.48769  61.13260  68.90852  51.15541  53.35808  71.28502  56.04742\n",
       "6 197.63249 189.25984 135.00444 153.46623 192.86723 229.60407 170.54430\n",
       "  A12      \n",
       "1 196.45747\n",
       "2 164.01495\n",
       "3  41.45433\n",
       "4  28.83779\n",
       "5  55.87323\n",
       "6 193.75393"
      ]
     },
     "metadata": {},
     "output_type": "display_data"
    }
   ],
   "source": [
    "cnts3_tf %>% head"
   ]
  },
  {
   "cell_type": "code",
   "execution_count": 100,
   "metadata": {
    "ExecuteTime": {
     "end_time": "2019-10-16T18:44:36.503367Z",
     "start_time": "2019-10-16T18:44:36.246Z"
    }
   },
   "outputs": [
    {
     "data": {
      "image/png": "[encoded data removed]",
      "text/plain": [
       "plot without title"
      ]
     },
     "metadata": {},
     "output_type": "display_data"
    }
   ],
   "source": [
    "tf.heatmap.genes.3e <- res3e_tf %>% filter(DGE != 'No Change' & padj < fdr & abs(log2FoldChange) > abs(FC.threshold)) %>% pull(gene_name) %>% as.character\n",
    "cnts3_tf[,c(2:14)] %>% filter(gene_name %in% tf.heatmap.genes.3e) %>% column_to_rownames('gene_name') %>% as.matrix %>% apply(2, sqrt) %>%\n",
    "                pheatmap(cluster_rows = T, show_rownames = T, cluster_cols = F, annotation = ano3, fontsize=6, treeheight_row=40,\n",
    "                main = paste0('Wild type: 5D vs. ES, Screened TF Genes (fdr<',fdr,', log2FC>',FC.threshold,')'))"
   ]
  },
  {
   "cell_type": "code",
   "execution_count": 101,
   "metadata": {
    "ExecuteTime": {
     "end_time": "2019-10-16T18:42:38.130375Z",
     "start_time": "2019-10-16T18:42:37.919Z"
    }
   },
   "outputs": [
    {
     "ename": "ERROR",
     "evalue": "Error in eval(expr, envir, enclos): object 'tf.heatmap.genes.3a' not found\n",
     "output_type": "error",
     "traceback": [
      "Error in eval(expr, envir, enclos): object 'tf.heatmap.genes.3a' not found\nTraceback:\n"
     ]
    }
   ],
   "source": [
    "for (x in list(tf.heatmap.genes.3a, tf.heatmap.genes.3b, tf.heatmap.genes.3c, tf.heatmap.genes.3d, tf.heatmap.genes.3e)) {\n",
    "    print(length(x))\n",
    "}"
   ]
  },
  {
   "cell_type": "code",
   "execution_count": 102,
   "metadata": {
    "ExecuteTime": {
     "end_time": "2019-10-16T18:42:44.226574Z",
     "start_time": "2019-10-16T18:42:44.194Z"
    }
   },
   "outputs": [
    {
     "ename": "ERROR",
     "evalue": "Error in eval(lhs, parent, parent): object 'tf.heatmap.genes.3a' not found\n",
     "output_type": "error",
     "traceback": [
      "Error in eval(lhs, parent, parent): object 'tf.heatmap.genes.3a' not found\nTraceback:\n",
      "1. tf.heatmap.genes.3a %>% sort %>% paste(\" \", collapse = \"\")",
      "2. eval(lhs, parent, parent)",
      "3. eval(lhs, parent, parent)"
     ]
    }
   ],
   "source": [
    "tf.heatmap.genes.3a %>% sort %>% paste(\" \", collapse=\"\") # 1H up or down regulated"
   ]
  },
  {
   "cell_type": "code",
   "execution_count": 103,
   "metadata": {},
   "outputs": [
    {
     "ename": "ERROR",
     "evalue": "Error in eval(lhs, parent, parent): object 'tf.heatmap.genes.3b' not found\n",
     "output_type": "error",
     "traceback": [
      "Error in eval(lhs, parent, parent): object 'tf.heatmap.genes.3b' not found\nTraceback:\n",
      "1. tf.heatmap.genes.3b %>% sort %>% paste(\" \", collapse = \"\")",
      "2. eval(lhs, parent, parent)",
      "3. eval(lhs, parent, parent)"
     ]
    }
   ],
   "source": [
    "tf.heatmap.genes.3b %>% sort %>% paste(\" \", collapse=\"\") # 4H up or down regulated"
   ]
  },
  {
   "cell_type": "code",
   "execution_count": 104,
   "metadata": {},
   "outputs": [
    {
     "data": {
      "text/html": [
       "<span style=white-space:pre-wrap>'  '</span>"
      ],
      "text/latex": [
       "'  '"
      ],
      "text/markdown": [
       "<span style=white-space:pre-wrap>'  '</span>"
      ],
      "text/plain": [
       "[1] \"  \""
      ]
     },
     "metadata": {},
     "output_type": "display_data"
    }
   ],
   "source": [
    "tf.heatmap.genes.3c %>% sort %>% paste(\" \", collapse=\"\") # 16H up or down regulated"
   ]
  },
  {
   "cell_type": "code",
   "execution_count": 105,
   "metadata": {},
   "outputs": [
    {
     "data": {
      "text/html": [
       "<span style=white-space:pre-wrap>'TCF15  ZBTB5  ZFP91  ZNF417  ZNF587  ZNF671  '</span>"
      ],
      "text/latex": [
       "'TCF15  ZBTB5  ZFP91  ZNF417  ZNF587  ZNF671  '"
      ],
      "text/markdown": [
       "<span style=white-space:pre-wrap>'TCF15  ZBTB5  ZFP91  ZNF417  ZNF587  ZNF671  '</span>"
      ],
      "text/plain": [
       "[1] \"TCF15  ZBTB5  ZFP91  ZNF417  ZNF587  ZNF671  \""
      ]
     },
     "metadata": {},
     "output_type": "display_data"
    }
   ],
   "source": [
    "tf.heatmap.genes.3d %>% sort %>% paste(\" \", collapse=\"\") # 14H up or down regulated"
   ]
  },
  {
   "cell_type": "code",
   "execution_count": 106,
   "metadata": {
    "ExecuteTime": {
     "end_time": "2019-09-09T11:17:59.703395Z",
     "start_time": "2019-09-09T11:18:00.352Z"
    }
   },
   "outputs": [
    {
     "data": {
      "text/html": [
       "<span style=white-space:pre-wrap>'AEBP1  ANKRD10  ARID3B  BTG1  CBFA2T2  CEBPZ  DCP1A  E2F1  ELF3  FOSL1  FUBP1  HABP4  HAND1  HESX1  HIF1A  HIF3A  HMG20B  HOXC11  IRF6  KLF1  MCM8  NANOG  NFXL1  PARP1  POU5F1  PRDM10  PYGO1  RBBP7  RBM14  RBMX  REL  RNF2  RXRG  SHPRH  SNRPB  SP140  TCF15  TFE3  TRIM22  TRIP4  WWP1  ZBTB5  ZFP91  ZIC3  ZNF12  ZNF157  ZNF18  ZNF248  ZNF254  ZNF483  ZNF486  ZNF510  ZNF512  ZNF578  ZNF587  ZNF611  ZNF671  ZSWIM4  '</span>"
      ],
      "text/latex": [
       "'AEBP1  ANKRD10  ARID3B  BTG1  CBFA2T2  CEBPZ  DCP1A  E2F1  ELF3  FOSL1  FUBP1  HABP4  HAND1  HESX1  HIF1A  HIF3A  HMG20B  HOXC11  IRF6  KLF1  MCM8  NANOG  NFXL1  PARP1  POU5F1  PRDM10  PYGO1  RBBP7  RBM14  RBMX  REL  RNF2  RXRG  SHPRH  SNRPB  SP140  TCF15  TFE3  TRIM22  TRIP4  WWP1  ZBTB5  ZFP91  ZIC3  ZNF12  ZNF157  ZNF18  ZNF248  ZNF254  ZNF483  ZNF486  ZNF510  ZNF512  ZNF578  ZNF587  ZNF611  ZNF671  ZSWIM4  '"
      ],
      "text/markdown": [
       "<span style=white-space:pre-wrap>'AEBP1  ANKRD10  ARID3B  BTG1  CBFA2T2  CEBPZ  DCP1A  E2F1  ELF3  FOSL1  FUBP1  HABP4  HAND1  HESX1  HIF1A  HIF3A  HMG20B  HOXC11  IRF6  KLF1  MCM8  NANOG  NFXL1  PARP1  POU5F1  PRDM10  PYGO1  RBBP7  RBM14  RBMX  REL  RNF2  RXRG  SHPRH  SNRPB  SP140  TCF15  TFE3  TRIM22  TRIP4  WWP1  ZBTB5  ZFP91  ZIC3  ZNF12  ZNF157  ZNF18  ZNF248  ZNF254  ZNF483  ZNF486  ZNF510  ZNF512  ZNF578  ZNF587  ZNF611  ZNF671  ZSWIM4  '</span>"
      ],
      "text/plain": [
       "[1] \"AEBP1  ANKRD10  ARID3B  BTG1  CBFA2T2  CEBPZ  DCP1A  E2F1  ELF3  FOSL1  FUBP1  HABP4  HAND1  HESX1  HIF1A  HIF3A  HMG20B  HOXC11  IRF6  KLF1  MCM8  NANOG  NFXL1  PARP1  POU5F1  PRDM10  PYGO1  RBBP7  RBM14  RBMX  REL  RNF2  RXRG  SHPRH  SNRPB  SP140  TCF15  TFE3  TRIM22  TRIP4  WWP1  ZBTB5  ZFP91  ZIC3  ZNF12  ZNF157  ZNF18  ZNF248  ZNF254  ZNF483  ZNF486  ZNF510  ZNF512  ZNF578  ZNF587  ZNF611  ZNF671  ZSWIM4  \""
      ]
     },
     "metadata": {},
     "output_type": "display_data"
    }
   ],
   "source": [
    "tf.heatmap.genes.3e %>% sort %>% paste(\" \", collapse=\"\") # 5D up or down regulated"
   ]
  },
  {
   "cell_type": "code",
   "execution_count": null,
   "metadata": {},
   "outputs": [],
   "source": []
  },
  {
   "cell_type": "code",
   "execution_count": null,
   "metadata": {},
   "outputs": [],
   "source": []
  },
  {
   "cell_type": "raw",
   "metadata": {
    "ExecuteTime": {
     "end_time": "2019-09-09T11:26:48.033384Z",
     "start_time": "2019-09-09T11:26:48.634Z"
    }
   },
   "source": [
    "tf.heatmap.genes.3a.up <- res3a_tf %>% filter(DGE != 'Up' & padj < fdr & abs(log2FoldChange) > abs(FC.threshold)) %>% pull(gene_name) %>% as.character\n",
    "tf.heatmap.genes.3b.up <- res3b_tf %>% filter(DGE != 'Up' & padj < fdr & abs(log2FoldChange) > abs(FC.threshold)) %>% pull(gene_name) %>% as.character\n",
    "tf.heatmap.genes.3c.up <- res3c_tf %>% filter(DGE != 'Up' & padj < fdr & abs(log2FoldChange) > abs(FC.threshold)) %>% pull(gene_name) %>% as.character\n",
    "tf.heatmap.genes.3d.up <- res3d_tf %>% filter(DGE != 'Up' & padj < fdr & abs(log2FoldChange) > abs(FC.threshold)) %>% pull(gene_name) %>% as.character\n",
    "tf.heatmap.genes.3e.up <- res3e_tf %>% filter(DGE != 'Up' & padj < fdr & abs(log2FoldChange) > abs(FC.threshold)) %>% pull(gene_name) %>% as.character\n",
    "tf.heatmap.genes.3a.down <- res3a_tf %>% filter(DGE != 'Down' & padj < fdr & abs(log2FoldChange) > abs(FC.threshold)) %>% pull(gene_name) %>% as.character\n",
    "tf.heatmap.genes.3b.down <- res3b_tf %>% filter(DGE != 'Down' & padj < fdr & abs(log2FoldChange) > abs(FC.threshold)) %>% pull(gene_name) %>% as.character\n",
    "tf.heatmap.genes.3c.down <- res3c_tf %>% filter(DGE != 'Down' & padj < fdr & abs(log2FoldChange) > abs(FC.threshold)) %>% pull(gene_name) %>% as.character\n",
    "tf.heatmap.genes.3d.down <- res3d_tf %>% filter(DGE != 'Down' & padj < fdr & abs(log2FoldChange) > abs(FC.threshold)) %>% pull(gene_name) %>% as.character\n",
    "tf.heatmap.genes.3e.down <- res3e_tf %>% filter(DGE != 'Down' & padj < fdr & abs(log2FoldChange) > abs(FC.threshold)) %>% pull(gene_name) %>% as.character\n"
   ]
  },
  {
   "cell_type": "raw",
   "metadata": {
    "ExecuteTime": {
     "end_time": "2019-09-09T11:27:52.924600Z",
     "start_time": "2019-09-09T11:27:53.557Z"
    }
   },
   "source": [
    "# SAVE gene names in the heatmaps to csv. Note, the values of variables such as tf.heatmap.genes.3a would have changed after running this code block\n",
    "\n",
    "tf.heatmap.genes.up.df = data.frame(matrix(NA, length(tf.heatmap.genes.3e.up), 0))\n",
    "\n",
    "tf.heatmap.genes.3a.up <- append(tf.heatmap.genes.3a.up, rep(NA, length(tf.heatmap.genes.3e.up) - length(tf.heatmap.genes.3a.up)))\n",
    "tf.heatmap.genes.3b.up <- append(tf.heatmap.genes.3b.up, rep(NA, length(tf.heatmap.genes.3e.up) - length(tf.heatmap.genes.3b.up)))\n",
    "tf.heatmap.genes.3c.up <- append(tf.heatmap.genes.3c.up, rep(NA, length(tf.heatmap.genes.3e.up) - length(tf.heatmap.genes.3c.up)))\n",
    "tf.heatmap.genes.3d.up <- append(tf.heatmap.genes.3d.up, rep(NA, length(tf.heatmap.genes.3e.up) - length(tf.heatmap.genes.3d.up)))\n",
    "\n",
    "tf.heatmap.genes.up.df %>% add_column('15H' = tf.heatmap.genes.3a.up) %>% add_column('1D' = tf.heatmap.genes.3b.up) %>% add_column('2D' = tf.heatmap.genes.3c.up) %>%\n",
    "                        add_column('4D' = tf.heatmap.genes.3d.up) %>% add_column('7D' = tf.heatmap.genes.3e.up) %>% write.csv('tf.heatmap.genes.up.csv', quote=F)"
   ]
  },
  {
   "cell_type": "raw",
   "metadata": {
    "ExecuteTime": {
     "end_time": "2019-09-09T11:29:44.636719Z",
     "start_time": "2019-09-09T11:29:45.267Z"
    }
   },
   "source": [
    "# SAVE gene names in the heatmaps to csv. Note, the values of variables such as tf.heatmap.genes.3a would have changed after running this code block\n",
    "\n",
    "tf.heatmap.genes.down.df = data.frame(matrix(NA, length(tf.heatmap.genes.3e.down), 0))\n",
    "\n",
    "tf.heatmap.genes.3a.down <- append(tf.heatmap.genes.3a.down, rep(NA, length(tf.heatmap.genes.3e.down) - length(tf.heatmap.genes.3a.down)))\n",
    "tf.heatmap.genes.3b.down <- append(tf.heatmap.genes.3b.down, rep(NA, length(tf.heatmap.genes.3e.down) - length(tf.heatmap.genes.3b.down)))\n",
    "tf.heatmap.genes.3c.down <- append(tf.heatmap.genes.3c.down, rep(NA, length(tf.heatmap.genes.3e.down) - length(tf.heatmap.genes.3c.down)))\n",
    "tf.heatmap.genes.3d.down <- append(tf.heatmap.genes.3d.down, rep(NA, length(tf.heatmap.genes.3e.down) - length(tf.heatmap.genes.3d.down)))\n",
    "\n",
    "tf.heatmap.genes.down.df %>% add_column('15H' = tf.heatmap.genes.3a.down) %>% add_column('1D' = tf.heatmap.genes.3b.down) %>% add_column('2D' = tf.heatmap.genes.3c.down) %>%\n",
    "                        add_column('4D' = tf.heatmap.genes.3d.down) %>% add_column('7D' = tf.heatmap.genes.3e.down) %>% write.csv('tf.heatmap.genes.down.csv', quote=F)"
   ]
  },
  {
   "cell_type": "markdown",
   "metadata": {},
   "source": [
    "---"
   ]
  },
  {
   "cell_type": "markdown",
   "metadata": {},
   "source": [
    "# Analyze by promoter region peaks \n",
    "(not by differential analysis on readcounts of peaks)"
   ]
  },
  {
   "cell_type": "code",
   "execution_count": 307,
   "metadata": {},
   "outputs": [],
   "source": [
    "promoters <- counts(dds3, normalized=T) %>% as.data.frame %>% add_column(gene_name = mcols(dds3)$gene_name, .before = 'A1') %>% rownames_to_column('gene_id')"
   ]
  },
  {
   "cell_type": "code",
   "execution_count": 308,
   "metadata": {},
   "outputs": [
    {
     "data": {
      "text/html": [
       "<table>\n",
       "<caption>A data.frame: 6 × 14</caption>\n",
       "<thead>\n",
       "\t<tr><th scope=col>gene_id</th><th scope=col>gene_name</th><th scope=col>A1</th><th scope=col>A2</th><th scope=col>A3</th><th scope=col>A4</th><th scope=col>A5</th><th scope=col>A6</th><th scope=col>A7</th><th scope=col>A8</th><th scope=col>A9</th><th scope=col>A10</th><th scope=col>A11</th><th scope=col>A12</th></tr>\n",
       "\t<tr><th scope=col>&lt;chr&gt;</th><th scope=col>&lt;chr&gt;</th><th scope=col>&lt;dbl&gt;</th><th scope=col>&lt;dbl&gt;</th><th scope=col>&lt;dbl&gt;</th><th scope=col>&lt;dbl&gt;</th><th scope=col>&lt;dbl&gt;</th><th scope=col>&lt;dbl&gt;</th><th scope=col>&lt;dbl&gt;</th><th scope=col>&lt;dbl&gt;</th><th scope=col>&lt;dbl&gt;</th><th scope=col>&lt;dbl&gt;</th><th scope=col>&lt;dbl&gt;</th><th scope=col>&lt;dbl&gt;</th></tr>\n",
       "</thead>\n",
       "<tbody>\n",
       "\t<tr><td>ENSG00000187634.12</td><td>SAMD11 </td><td> 0.00000</td><td>  0.00000</td><td> 0.00000</td><td>  0.0000</td><td>  0.0000</td><td>  0.00000</td><td>  0.0000</td><td>  0.0000</td><td>  0.00000</td><td> 40.64255</td><td> 58.07033</td><td>  0.00000</td></tr>\n",
       "\t<tr><td>ENSG00000188976.11</td><td>NOC2L  </td><td>63.87423</td><td>  0.00000</td><td> 0.00000</td><td>266.4011</td><td>187.2788</td><td>  0.00000</td><td>  0.0000</td><td>142.2818</td><td> 99.79626</td><td> 71.72215</td><td>  0.00000</td><td> 55.84005</td></tr>\n",
       "\t<tr><td>ENSG00000187961.14</td><td>KLHL17 </td><td>63.87423</td><td>  0.00000</td><td> 0.00000</td><td>266.4011</td><td>187.2788</td><td>  0.00000</td><td>  0.0000</td><td>142.2818</td><td> 99.79626</td><td> 71.72215</td><td>  0.00000</td><td> 55.84005</td></tr>\n",
       "\t<tr><td>ENSG00000187583.10</td><td>PLEKHN1</td><td>44.48384</td><td>114.34505</td><td>90.01161</td><td>138.2406</td><td>  0.0000</td><td> 92.57798</td><td>  0.0000</td><td>124.1385</td><td> 79.42968</td><td> 98.81719</td><td> 29.62772</td><td>  0.00000</td></tr>\n",
       "\t<tr><td>ENSG00000187642.9 </td><td>PERM1  </td><td> 0.00000</td><td> 44.86958</td><td> 0.00000</td><td>  0.0000</td><td>  0.0000</td><td>  0.00000</td><td>  0.0000</td><td>  0.0000</td><td> 57.02644</td><td>  0.00000</td><td>  0.00000</td><td> 26.91087</td></tr>\n",
       "\t<tr><td>ENSG00000188290.10</td><td>HES4   </td><td>92.38951</td><td>248.95379</td><td>98.45020</td><td>217.4409</td><td>143.2871</td><td>138.86698</td><td>194.6262</td><td>159.4702</td><td>181.26260</td><td>166.55478</td><td>113.17789</td><td>172.22957</td></tr>\n",
       "</tbody>\n",
       "</table>\n"
      ],
      "text/latex": [
       "A data.frame: 6 × 14\n",
       "\\begin{tabular}{r|llllllllllllll}\n",
       " gene\\_id & gene\\_name & A1 & A2 & A3 & A4 & A5 & A6 & A7 & A8 & A9 & A10 & A11 & A12\\\\\n",
       " <chr> & <chr> & <dbl> & <dbl> & <dbl> & <dbl> & <dbl> & <dbl> & <dbl> & <dbl> & <dbl> & <dbl> & <dbl> & <dbl>\\\\\n",
       "\\hline\n",
       "\t ENSG00000187634.12 & SAMD11  &  0.00000 &   0.00000 &  0.00000 &   0.0000 &   0.0000 &   0.00000 &   0.0000 &   0.0000 &   0.00000 &  40.64255 &  58.07033 &   0.00000\\\\\n",
       "\t ENSG00000188976.11 & NOC2L   & 63.87423 &   0.00000 &  0.00000 & 266.4011 & 187.2788 &   0.00000 &   0.0000 & 142.2818 &  99.79626 &  71.72215 &   0.00000 &  55.84005\\\\\n",
       "\t ENSG00000187961.14 & KLHL17  & 63.87423 &   0.00000 &  0.00000 & 266.4011 & 187.2788 &   0.00000 &   0.0000 & 142.2818 &  99.79626 &  71.72215 &   0.00000 &  55.84005\\\\\n",
       "\t ENSG00000187583.10 & PLEKHN1 & 44.48384 & 114.34505 & 90.01161 & 138.2406 &   0.0000 &  92.57798 &   0.0000 & 124.1385 &  79.42968 &  98.81719 &  29.62772 &   0.00000\\\\\n",
       "\t ENSG00000187642.9  & PERM1   &  0.00000 &  44.86958 &  0.00000 &   0.0000 &   0.0000 &   0.00000 &   0.0000 &   0.0000 &  57.02644 &   0.00000 &   0.00000 &  26.91087\\\\\n",
       "\t ENSG00000188290.10 & HES4    & 92.38951 & 248.95379 & 98.45020 & 217.4409 & 143.2871 & 138.86698 & 194.6262 & 159.4702 & 181.26260 & 166.55478 & 113.17789 & 172.22957\\\\\n",
       "\\end{tabular}\n"
      ],
      "text/markdown": [
       "\n",
       "A data.frame: 6 × 14\n",
       "\n",
       "| gene_id &lt;chr&gt; | gene_name &lt;chr&gt; | A1 &lt;dbl&gt; | A2 &lt;dbl&gt; | A3 &lt;dbl&gt; | A4 &lt;dbl&gt; | A5 &lt;dbl&gt; | A6 &lt;dbl&gt; | A7 &lt;dbl&gt; | A8 &lt;dbl&gt; | A9 &lt;dbl&gt; | A10 &lt;dbl&gt; | A11 &lt;dbl&gt; | A12 &lt;dbl&gt; |\n",
       "|---|---|---|---|---|---|---|---|---|---|---|---|---|---|\n",
       "| ENSG00000187634.12 | SAMD11  |  0.00000 |   0.00000 |  0.00000 |   0.0000 |   0.0000 |   0.00000 |   0.0000 |   0.0000 |   0.00000 |  40.64255 |  58.07033 |   0.00000 |\n",
       "| ENSG00000188976.11 | NOC2L   | 63.87423 |   0.00000 |  0.00000 | 266.4011 | 187.2788 |   0.00000 |   0.0000 | 142.2818 |  99.79626 |  71.72215 |   0.00000 |  55.84005 |\n",
       "| ENSG00000187961.14 | KLHL17  | 63.87423 |   0.00000 |  0.00000 | 266.4011 | 187.2788 |   0.00000 |   0.0000 | 142.2818 |  99.79626 |  71.72215 |   0.00000 |  55.84005 |\n",
       "| ENSG00000187583.10 | PLEKHN1 | 44.48384 | 114.34505 | 90.01161 | 138.2406 |   0.0000 |  92.57798 |   0.0000 | 124.1385 |  79.42968 |  98.81719 |  29.62772 |   0.00000 |\n",
       "| ENSG00000187642.9  | PERM1   |  0.00000 |  44.86958 |  0.00000 |   0.0000 |   0.0000 |   0.00000 |   0.0000 |   0.0000 |  57.02644 |   0.00000 |   0.00000 |  26.91087 |\n",
       "| ENSG00000188290.10 | HES4    | 92.38951 | 248.95379 | 98.45020 | 217.4409 | 143.2871 | 138.86698 | 194.6262 | 159.4702 | 181.26260 | 166.55478 | 113.17789 | 172.22957 |\n",
       "\n"
      ],
      "text/plain": [
       "  gene_id            gene_name A1       A2        A3       A4       A5      \n",
       "1 ENSG00000187634.12 SAMD11     0.00000   0.00000  0.00000   0.0000   0.0000\n",
       "2 ENSG00000188976.11 NOC2L     63.87423   0.00000  0.00000 266.4011 187.2788\n",
       "3 ENSG00000187961.14 KLHL17    63.87423   0.00000  0.00000 266.4011 187.2788\n",
       "4 ENSG00000187583.10 PLEKHN1   44.48384 114.34505 90.01161 138.2406   0.0000\n",
       "5 ENSG00000187642.9  PERM1      0.00000  44.86958  0.00000   0.0000   0.0000\n",
       "6 ENSG00000188290.10 HES4      92.38951 248.95379 98.45020 217.4409 143.2871\n",
       "  A6        A7       A8       A9        A10       A11       A12      \n",
       "1   0.00000   0.0000   0.0000   0.00000  40.64255  58.07033   0.00000\n",
       "2   0.00000   0.0000 142.2818  99.79626  71.72215   0.00000  55.84005\n",
       "3   0.00000   0.0000 142.2818  99.79626  71.72215   0.00000  55.84005\n",
       "4  92.57798   0.0000 124.1385  79.42968  98.81719  29.62772   0.00000\n",
       "5   0.00000   0.0000   0.0000  57.02644   0.00000   0.00000  26.91087\n",
       "6 138.86698 194.6262 159.4702 181.26260 166.55478 113.17789 172.22957"
      ]
     },
     "metadata": {},
     "output_type": "display_data"
    }
   ],
   "source": [
    "promoters %>% head"
   ]
  },
  {
   "cell_type": "code",
   "execution_count": 314,
   "metadata": {},
   "outputs": [
    {
     "data": {
      "image/png": "[encoded data removed]",
      "text/plain": [
       "plot without title"
      ]
     },
     "metadata": {},
     "output_type": "display_data"
    }
   ],
   "source": [
    "promoters[,c(1,3:14)] %>% column_to_rownames('gene_id') %>% as.matrix %>% apply(2, quadroot) %>%\n",
    "                pheatmap(cluster_rows = T, show_rownames = F, cluster_cols = F, annotation = ano3, fontsize=5, treeheight_row=0,\n",
    "                main = paste0('ATAC Seq Promoter Region'))"
   ]
  },
  {
   "cell_type": "code",
   "execution_count": null,
   "metadata": {},
   "outputs": [],
   "source": []
  },
  {
   "cell_type": "code",
   "execution_count": null,
   "metadata": {},
   "outputs": [],
   "source": []
  },
  {
   "cell_type": "code",
   "execution_count": 315,
   "metadata": {},
   "outputs": [],
   "source": [
    "# promoter region open at 1H"
   ]
  },
  {
   "cell_type": "code",
   "execution_count": 340,
   "metadata": {},
   "outputs": [
    {
     "data": {
      "text/html": [
       "<table>\n",
       "<caption>A data.frame: 4 × 14</caption>\n",
       "<thead>\n",
       "\t<tr><th scope=col>gene_id</th><th scope=col>gene_name</th><th scope=col>A1</th><th scope=col>A2</th><th scope=col>A3</th><th scope=col>A4</th><th scope=col>A5</th><th scope=col>A6</th><th scope=col>A7</th><th scope=col>A8</th><th scope=col>A9</th><th scope=col>A10</th><th scope=col>A11</th><th scope=col>A12</th></tr>\n",
       "\t<tr><th scope=col>&lt;chr&gt;</th><th scope=col>&lt;chr&gt;</th><th scope=col>&lt;dbl&gt;</th><th scope=col>&lt;dbl&gt;</th><th scope=col>&lt;dbl&gt;</th><th scope=col>&lt;dbl&gt;</th><th scope=col>&lt;dbl&gt;</th><th scope=col>&lt;dbl&gt;</th><th scope=col>&lt;dbl&gt;</th><th scope=col>&lt;dbl&gt;</th><th scope=col>&lt;dbl&gt;</th><th scope=col>&lt;dbl&gt;</th><th scope=col>&lt;dbl&gt;</th><th scope=col>&lt;dbl&gt;</th></tr>\n",
       "</thead>\n",
       "<tbody>\n",
       "\t<tr><td>ENSG00000204542.2 </td><td>C6orf15 </td><td>0</td><td>0</td><td>30.94149</td><td>109.44046</td><td>0</td><td>0</td><td>0</td><td>0</td><td>0</td><td>0</td><td>0</td><td>0</td></tr>\n",
       "\t<tr><td>ENSG00000204540.10</td><td>PSORS1C1</td><td>0</td><td>0</td><td>30.94149</td><td>109.44046</td><td>0</td><td>0</td><td>0</td><td>0</td><td>0</td><td>0</td><td>0</td><td>0</td></tr>\n",
       "\t<tr><td>ENSG00000179142.2 </td><td>CYP11B2 </td><td>0</td><td>0</td><td>29.53506</td><td> 24.48010</td><td>0</td><td>0</td><td>0</td><td>0</td><td>0</td><td>0</td><td>0</td><td>0</td></tr>\n",
       "\t<tr><td>ENSG00000134588.12</td><td>USP26   </td><td>0</td><td>0</td><td>71.72800</td><td> 38.88017</td><td>0</td><td>0</td><td>0</td><td>0</td><td>0</td><td>0</td><td>0</td><td>0</td></tr>\n",
       "</tbody>\n",
       "</table>\n"
      ],
      "text/latex": [
       "A data.frame: 4 × 14\n",
       "\\begin{tabular}{r|llllllllllllll}\n",
       " gene\\_id & gene\\_name & A1 & A2 & A3 & A4 & A5 & A6 & A7 & A8 & A9 & A10 & A11 & A12\\\\\n",
       " <chr> & <chr> & <dbl> & <dbl> & <dbl> & <dbl> & <dbl> & <dbl> & <dbl> & <dbl> & <dbl> & <dbl> & <dbl> & <dbl>\\\\\n",
       "\\hline\n",
       "\t ENSG00000204542.2  & C6orf15  & 0 & 0 & 30.94149 & 109.44046 & 0 & 0 & 0 & 0 & 0 & 0 & 0 & 0\\\\\n",
       "\t ENSG00000204540.10 & PSORS1C1 & 0 & 0 & 30.94149 & 109.44046 & 0 & 0 & 0 & 0 & 0 & 0 & 0 & 0\\\\\n",
       "\t ENSG00000179142.2  & CYP11B2  & 0 & 0 & 29.53506 &  24.48010 & 0 & 0 & 0 & 0 & 0 & 0 & 0 & 0\\\\\n",
       "\t ENSG00000134588.12 & USP26    & 0 & 0 & 71.72800 &  38.88017 & 0 & 0 & 0 & 0 & 0 & 0 & 0 & 0\\\\\n",
       "\\end{tabular}\n"
      ],
      "text/markdown": [
       "\n",
       "A data.frame: 4 × 14\n",
       "\n",
       "| gene_id &lt;chr&gt; | gene_name &lt;chr&gt; | A1 &lt;dbl&gt; | A2 &lt;dbl&gt; | A3 &lt;dbl&gt; | A4 &lt;dbl&gt; | A5 &lt;dbl&gt; | A6 &lt;dbl&gt; | A7 &lt;dbl&gt; | A8 &lt;dbl&gt; | A9 &lt;dbl&gt; | A10 &lt;dbl&gt; | A11 &lt;dbl&gt; | A12 &lt;dbl&gt; |\n",
       "|---|---|---|---|---|---|---|---|---|---|---|---|---|---|\n",
       "| ENSG00000204542.2  | C6orf15  | 0 | 0 | 30.94149 | 109.44046 | 0 | 0 | 0 | 0 | 0 | 0 | 0 | 0 |\n",
       "| ENSG00000204540.10 | PSORS1C1 | 0 | 0 | 30.94149 | 109.44046 | 0 | 0 | 0 | 0 | 0 | 0 | 0 | 0 |\n",
       "| ENSG00000179142.2  | CYP11B2  | 0 | 0 | 29.53506 |  24.48010 | 0 | 0 | 0 | 0 | 0 | 0 | 0 | 0 |\n",
       "| ENSG00000134588.12 | USP26    | 0 | 0 | 71.72800 |  38.88017 | 0 | 0 | 0 | 0 | 0 | 0 | 0 | 0 |\n",
       "\n"
      ],
      "text/plain": [
       "  gene_id            gene_name A1 A2 A3       A4        A5 A6 A7 A8 A9 A10 A11\n",
       "1 ENSG00000204542.2  C6orf15   0  0  30.94149 109.44046 0  0  0  0  0  0   0  \n",
       "2 ENSG00000204540.10 PSORS1C1  0  0  30.94149 109.44046 0  0  0  0  0  0   0  \n",
       "3 ENSG00000179142.2  CYP11B2   0  0  29.53506  24.48010 0  0  0  0  0  0   0  \n",
       "4 ENSG00000134588.12 USP26     0  0  71.72800  38.88017 0  0  0  0  0  0   0  \n",
       "  A12\n",
       "1 0  \n",
       "2 0  \n",
       "3 0  \n",
       "4 0  "
      ]
     },
     "metadata": {},
     "output_type": "display_data"
    }
   ],
   "source": [
    "promoters %>% filter((A3 > 0 & A4 > 0) & A1 + A2 + A5 + A6 + A7 + A8 + A9 + A10 + A11 + A12 < 1)"
   ]
  },
  {
   "cell_type": "code",
   "execution_count": 402,
   "metadata": {},
   "outputs": [
    {
     "data": {
      "text/html": [
       "<table>\n",
       "<caption>A data.frame: 1 × 14</caption>\n",
       "<thead>\n",
       "\t<tr><th scope=col>gene_id</th><th scope=col>gene_name</th><th scope=col>A1</th><th scope=col>A2</th><th scope=col>A3</th><th scope=col>A4</th><th scope=col>A5</th><th scope=col>A6</th><th scope=col>A7</th><th scope=col>A8</th><th scope=col>A9</th><th scope=col>A10</th><th scope=col>A11</th><th scope=col>A12</th></tr>\n",
       "\t<tr><th scope=col>&lt;chr&gt;</th><th scope=col>&lt;chr&gt;</th><th scope=col>&lt;dbl&gt;</th><th scope=col>&lt;dbl&gt;</th><th scope=col>&lt;dbl&gt;</th><th scope=col>&lt;dbl&gt;</th><th scope=col>&lt;dbl&gt;</th><th scope=col>&lt;dbl&gt;</th><th scope=col>&lt;dbl&gt;</th><th scope=col>&lt;dbl&gt;</th><th scope=col>&lt;dbl&gt;</th><th scope=col>&lt;dbl&gt;</th><th scope=col>&lt;dbl&gt;</th><th scope=col>&lt;dbl&gt;</th></tr>\n",
       "</thead>\n",
       "<tbody>\n",
       "\t<tr><td>ENSG00000179456.10</td><td>ZBTB18</td><td>351.3083</td><td>263.4278</td><td>402.2394</td><td>276.4812</td><td>326.7952</td><td>365.9451</td><td>401.048</td><td>426.8454</td><td>464.3581</td><td>408.8163</td><td>433.1573</td><td>419.8096</td></tr>\n",
       "</tbody>\n",
       "</table>\n"
      ],
      "text/latex": [
       "A data.frame: 1 × 14\n",
       "\\begin{tabular}{r|llllllllllllll}\n",
       " gene\\_id & gene\\_name & A1 & A2 & A3 & A4 & A5 & A6 & A7 & A8 & A9 & A10 & A11 & A12\\\\\n",
       " <chr> & <chr> & <dbl> & <dbl> & <dbl> & <dbl> & <dbl> & <dbl> & <dbl> & <dbl> & <dbl> & <dbl> & <dbl> & <dbl>\\\\\n",
       "\\hline\n",
       "\t ENSG00000179456.10 & ZBTB18 & 351.3083 & 263.4278 & 402.2394 & 276.4812 & 326.7952 & 365.9451 & 401.048 & 426.8454 & 464.3581 & 408.8163 & 433.1573 & 419.8096\\\\\n",
       "\\end{tabular}\n"
      ],
      "text/markdown": [
       "\n",
       "A data.frame: 1 × 14\n",
       "\n",
       "| gene_id &lt;chr&gt; | gene_name &lt;chr&gt; | A1 &lt;dbl&gt; | A2 &lt;dbl&gt; | A3 &lt;dbl&gt; | A4 &lt;dbl&gt; | A5 &lt;dbl&gt; | A6 &lt;dbl&gt; | A7 &lt;dbl&gt; | A8 &lt;dbl&gt; | A9 &lt;dbl&gt; | A10 &lt;dbl&gt; | A11 &lt;dbl&gt; | A12 &lt;dbl&gt; |\n",
       "|---|---|---|---|---|---|---|---|---|---|---|---|---|---|\n",
       "| ENSG00000179456.10 | ZBTB18 | 351.3083 | 263.4278 | 402.2394 | 276.4812 | 326.7952 | 365.9451 | 401.048 | 426.8454 | 464.3581 | 408.8163 | 433.1573 | 419.8096 |\n",
       "\n"
      ],
      "text/plain": [
       "  gene_id            gene_name A1       A2       A3       A4       A5      \n",
       "1 ENSG00000179456.10 ZBTB18    351.3083 263.4278 402.2394 276.4812 326.7952\n",
       "  A6       A7      A8       A9       A10      A11      A12     \n",
       "1 365.9451 401.048 426.8454 464.3581 408.8163 433.1573 419.8096"
      ]
     },
     "metadata": {},
     "output_type": "display_data"
    }
   ],
   "source": [
    "promoters %>% filter(str_detect(gene_name, 'ZBTB18'))"
   ]
  },
  {
   "cell_type": "code",
   "execution_count": 405,
   "metadata": {},
   "outputs": [
    {
     "data": {
      "text/html": [
       "<table>\n",
       "<caption>A data.frame: 1 × 13</caption>\n",
       "<thead>\n",
       "\t<tr><th scope=col>gene_id</th><th scope=col>A1</th><th scope=col>A2</th><th scope=col>A3</th><th scope=col>A4</th><th scope=col>A5</th><th scope=col>A6</th><th scope=col>A7</th><th scope=col>A8</th><th scope=col>A9</th><th scope=col>A10</th><th scope=col>A11</th><th scope=col>A12</th></tr>\n",
       "\t<tr><th scope=col>&lt;chr&gt;</th><th scope=col>&lt;dbl&gt;</th><th scope=col>&lt;dbl&gt;</th><th scope=col>&lt;dbl&gt;</th><th scope=col>&lt;dbl&gt;</th><th scope=col>&lt;dbl&gt;</th><th scope=col>&lt;dbl&gt;</th><th scope=col>&lt;dbl&gt;</th><th scope=col>&lt;dbl&gt;</th><th scope=col>&lt;dbl&gt;</th><th scope=col>&lt;dbl&gt;</th><th scope=col>&lt;dbl&gt;</th><th scope=col>&lt;dbl&gt;</th></tr>\n",
       "</thead>\n",
       "<tbody>\n",
       "\t<tr><td>ENSG00000179456.10</td><td>1</td><td>1</td><td>1</td><td>1</td><td>1</td><td>1</td><td>1</td><td>1</td><td>1</td><td>1</td><td>1</td><td>1</td></tr>\n",
       "</tbody>\n",
       "</table>\n"
      ],
      "text/latex": [
       "A data.frame: 1 × 13\n",
       "\\begin{tabular}{r|lllllllllllll}\n",
       " gene\\_id & A1 & A2 & A3 & A4 & A5 & A6 & A7 & A8 & A9 & A10 & A11 & A12\\\\\n",
       " <chr> & <dbl> & <dbl> & <dbl> & <dbl> & <dbl> & <dbl> & <dbl> & <dbl> & <dbl> & <dbl> & <dbl> & <dbl>\\\\\n",
       "\\hline\n",
       "\t ENSG00000179456.10 & 1 & 1 & 1 & 1 & 1 & 1 & 1 & 1 & 1 & 1 & 1 & 1\\\\\n",
       "\\end{tabular}\n"
      ],
      "text/markdown": [
       "\n",
       "A data.frame: 1 × 13\n",
       "\n",
       "| gene_id &lt;chr&gt; | A1 &lt;dbl&gt; | A2 &lt;dbl&gt; | A3 &lt;dbl&gt; | A4 &lt;dbl&gt; | A5 &lt;dbl&gt; | A6 &lt;dbl&gt; | A7 &lt;dbl&gt; | A8 &lt;dbl&gt; | A9 &lt;dbl&gt; | A10 &lt;dbl&gt; | A11 &lt;dbl&gt; | A12 &lt;dbl&gt; |\n",
       "|---|---|---|---|---|---|---|---|---|---|---|---|---|\n",
       "| ENSG00000179456.10 | 1 | 1 | 1 | 1 | 1 | 1 | 1 | 1 | 1 | 1 | 1 | 1 |\n",
       "\n"
      ],
      "text/plain": [
       "  gene_id            A1 A2 A3 A4 A5 A6 A7 A8 A9 A10 A11 A12\n",
       "1 ENSG00000179456.10 1  1  1  1  1  1  1  1  1  1   1   1  "
      ]
     },
     "metadata": {},
     "output_type": "display_data"
    }
   ],
   "source": [
    "promoter_peaks %>% filter(gene_id == 'ENSG00000179456.10')"
   ]
  },
  {
   "cell_type": "code",
   "execution_count": 344,
   "metadata": {},
   "outputs": [
    {
     "data": {
      "text/html": [
       "<table>\n",
       "<caption>A data.frame: 36 × 14</caption>\n",
       "<thead>\n",
       "\t<tr><th scope=col>gene_id</th><th scope=col>gene_name</th><th scope=col>A1</th><th scope=col>A2</th><th scope=col>A3</th><th scope=col>A4</th><th scope=col>A5</th><th scope=col>A6</th><th scope=col>A7</th><th scope=col>A8</th><th scope=col>A9</th><th scope=col>A10</th><th scope=col>A11</th><th scope=col>A12</th></tr>\n",
       "\t<tr><th scope=col>&lt;chr&gt;</th><th scope=col>&lt;chr&gt;</th><th scope=col>&lt;dbl&gt;</th><th scope=col>&lt;dbl&gt;</th><th scope=col>&lt;dbl&gt;</th><th scope=col>&lt;dbl&gt;</th><th scope=col>&lt;dbl&gt;</th><th scope=col>&lt;dbl&gt;</th><th scope=col>&lt;dbl&gt;</th><th scope=col>&lt;dbl&gt;</th><th scope=col>&lt;dbl&gt;</th><th scope=col>&lt;dbl&gt;</th><th scope=col>&lt;dbl&gt;</th><th scope=col>&lt;dbl&gt;</th></tr>\n",
       "</thead>\n",
       "<tbody>\n",
       "\t<tr><td>ENSG00000157216.15</td><td>SSBP3   </td><td>0</td><td>0</td><td>0</td><td>0</td><td>0</td><td>0</td><td>0</td><td>0</td><td>0</td><td>0</td><td> 18.36919</td><td> 26.910870</td></tr>\n",
       "\t<tr><td>ENSG00000158488.16</td><td>CD1E    </td><td>0</td><td>0</td><td>0</td><td>0</td><td>0</td><td>0</td><td>0</td><td>0</td><td>0</td><td>0</td><td> 11.25853</td><td> 18.164837</td></tr>\n",
       "\t<tr><td>ENSG00000094963.14</td><td>FMO2    </td><td>0</td><td>0</td><td>0</td><td>0</td><td>0</td><td>0</td><td>0</td><td>0</td><td>0</td><td>0</td><td> 28.44261</td><td> 25.565326</td></tr>\n",
       "\t<tr><td>ENSG00000179915.23</td><td>NRXN1   </td><td>0</td><td>0</td><td>0</td><td>0</td><td>0</td><td>0</td><td>0</td><td>0</td><td>0</td><td>0</td><td> 27.85006</td><td> 42.384620</td></tr>\n",
       "\t<tr><td>ENSG00000168878.17</td><td>SFTPB   </td><td>0</td><td>0</td><td>0</td><td>0</td><td>0</td><td>0</td><td>0</td><td>0</td><td>0</td><td>0</td><td> 10.07342</td><td> 12.109891</td></tr>\n",
       "\t<tr><td>ENSG00000183054.11</td><td>RGPD6   </td><td>0</td><td>0</td><td>0</td><td>0</td><td>0</td><td>0</td><td>0</td><td>0</td><td>0</td><td>0</td><td>  9.48087</td><td>  6.727717</td></tr>\n",
       "\t<tr><td>ENSG00000188674.11</td><td>C2orf80 </td><td>0</td><td>0</td><td>0</td><td>0</td><td>0</td><td>0</td><td>0</td><td>0</td><td>0</td><td>0</td><td> 27.25750</td><td> 45.748479</td></tr>\n",
       "\t<tr><td>ENSG00000123992.19</td><td>DNPEP   </td><td>0</td><td>0</td><td>0</td><td>0</td><td>0</td><td>0</td><td>0</td><td>0</td><td>0</td><td>0</td><td> 27.85006</td><td> 35.656902</td></tr>\n",
       "\t<tr><td>ENSG00000171951.5 </td><td>SCG2    </td><td>0</td><td>0</td><td>0</td><td>0</td><td>0</td><td>0</td><td>0</td><td>0</td><td>0</td><td>0</td><td> 61.03310</td><td> 48.439566</td></tr>\n",
       "\t<tr><td>ENSG00000124019.10</td><td>FAM124B </td><td>0</td><td>0</td><td>0</td><td>0</td><td>0</td><td>0</td><td>0</td><td>0</td><td>0</td><td>0</td><td> 18.96174</td><td> 17.492065</td></tr>\n",
       "\t<tr><td>ENSG00000114841.17</td><td>DNAH1   </td><td>0</td><td>0</td><td>0</td><td>0</td><td>0</td><td>0</td><td>0</td><td>0</td><td>0</td><td>0</td><td>102.51191</td><td>101.588533</td></tr>\n",
       "\t<tr><td>ENSG00000198829.6 </td><td>SUCNR1  </td><td>0</td><td>0</td><td>0</td><td>0</td><td>0</td><td>0</td><td>0</td><td>0</td><td>0</td><td>0</td><td> 17.77663</td><td> 17.492065</td></tr>\n",
       "\t<tr><td>ENSG00000159674.12</td><td>SPON2   </td><td>0</td><td>0</td><td>0</td><td>0</td><td>0</td><td>0</td><td>0</td><td>0</td><td>0</td><td>0</td><td> 69.92142</td><td> 88.133098</td></tr>\n",
       "\t<tr><td>ENSG00000134962.7 </td><td>KLB     </td><td>0</td><td>0</td><td>0</td><td>0</td><td>0</td><td>0</td><td>0</td><td>0</td><td>0</td><td>0</td><td> 15.40641</td><td> 22.201468</td></tr>\n",
       "\t<tr><td>ENSG00000196782.12</td><td>MAML3   </td><td>0</td><td>0</td><td>0</td><td>0</td><td>0</td><td>0</td><td>0</td><td>0</td><td>0</td><td>0</td><td>125.62153</td><td> 96.879131</td></tr>\n",
       "\t<tr><td>ENSG00000109654.15</td><td>TRIM2   </td><td>0</td><td>0</td><td>0</td><td>0</td><td>0</td><td>0</td><td>0</td><td>0</td><td>0</td><td>0</td><td>354.34752</td><td>331.676470</td></tr>\n",
       "\t<tr><td>ENSG00000129116.19</td><td>PALLD   </td><td>0</td><td>0</td><td>0</td><td>0</td><td>0</td><td>0</td><td>0</td><td>0</td><td>0</td><td>0</td><td> 16.59152</td><td> 20.855924</td></tr>\n",
       "\t<tr><td>ENSG00000253953.2 </td><td>PCDHGB4 </td><td>0</td><td>0</td><td>0</td><td>0</td><td>0</td><td>0</td><td>0</td><td>0</td><td>0</td><td>0</td><td>  9.48087</td><td> 10.091576</td></tr>\n",
       "\t<tr><td>ENSG00000203756.7 </td><td>TMEM244 </td><td>0</td><td>0</td><td>0</td><td>0</td><td>0</td><td>0</td><td>0</td><td>0</td><td>0</td><td>0</td><td> 30.81283</td><td> 37.002446</td></tr>\n",
       "\t<tr><td>ENSG00000214415.3 </td><td>GNAT3   </td><td>0</td><td>0</td><td>0</td><td>0</td><td>0</td><td>0</td><td>0</td><td>0</td><td>0</td><td>0</td><td> 59.84799</td><td> 28.929185</td></tr>\n",
       "\t<tr><td>ENSG00000075223.14</td><td>SEMA3C  </td><td>0</td><td>0</td><td>0</td><td>0</td><td>0</td><td>0</td><td>0</td><td>0</td><td>0</td><td>0</td><td> 11.85109</td><td> 21.528696</td></tr>\n",
       "\t<tr><td>ENSG00000075213.11</td><td>SEMA3A  </td><td>0</td><td>0</td><td>0</td><td>0</td><td>0</td><td>0</td><td>0</td><td>0</td><td>0</td><td>0</td><td> 32.59049</td><td> 37.675218</td></tr>\n",
       "\t<tr><td>ENSG00000106333.13</td><td>PCOLCE  </td><td>0</td><td>0</td><td>0</td><td>0</td><td>0</td><td>0</td><td>0</td><td>0</td><td>0</td><td>0</td><td> 71.69908</td><td> 29.601957</td></tr>\n",
       "\t<tr><td>ENSG00000128606.13</td><td>LRRC17  </td><td>0</td><td>0</td><td>0</td><td>0</td><td>0</td><td>0</td><td>0</td><td>0</td><td>0</td><td>0</td><td> 25.47984</td><td> 37.002446</td></tr>\n",
       "\t<tr><td>ENSG00000015592.16</td><td>STMN4   </td><td>0</td><td>0</td><td>0</td><td>0</td><td>0</td><td>0</td><td>0</td><td>0</td><td>0</td><td>0</td><td>133.32474</td><td>189.048860</td></tr>\n",
       "\t<tr><td>ENSG00000109991.8 </td><td>P2RX3   </td><td>0</td><td>0</td><td>0</td><td>0</td><td>0</td><td>0</td><td>0</td><td>0</td><td>0</td><td>0</td><td>186.06208</td><td>164.156305</td></tr>\n",
       "\t<tr><td>ENSG00000204300.7 </td><td>TMEM225 </td><td>0</td><td>0</td><td>0</td><td>0</td><td>0</td><td>0</td><td>0</td><td>0</td><td>0</td><td>0</td><td> 42.66392</td><td> 52.476196</td></tr>\n",
       "\t<tr><td>ENSG00000161850.2 </td><td>KRT82   </td><td>0</td><td>0</td><td>0</td><td>0</td><td>0</td><td>0</td><td>0</td><td>0</td><td>0</td><td>0</td><td>  9.48087</td><td> 24.219783</td></tr>\n",
       "\t<tr><td>ENSG00000177455.14</td><td>CD19    </td><td>0</td><td>0</td><td>0</td><td>0</td><td>0</td><td>0</td><td>0</td><td>0</td><td>0</td><td>0</td><td> 40.88625</td><td> 34.984131</td></tr>\n",
       "\t<tr><td>ENSG00000141748.12</td><td>ARL5C   </td><td>0</td><td>0</td><td>0</td><td>0</td><td>0</td><td>0</td><td>0</td><td>0</td><td>0</td><td>0</td><td> 31.99794</td><td> 47.094022</td></tr>\n",
       "\t<tr><td>ENSG00000198816.7 </td><td>ZNF358  </td><td>0</td><td>0</td><td>0</td><td>0</td><td>0</td><td>0</td><td>0</td><td>0</td><td>0</td><td>0</td><td>110.80767</td><td> 82.750924</td></tr>\n",
       "\t<tr><td>ENSG00000155307.18</td><td>SAMSN1  </td><td>0</td><td>0</td><td>0</td><td>0</td><td>0</td><td>0</td><td>0</td><td>0</td><td>0</td><td>0</td><td> 39.10859</td><td> 39.693533</td></tr>\n",
       "\t<tr><td>ENSG00000184113.9 </td><td>CLDN5   </td><td>0</td><td>0</td><td>0</td><td>0</td><td>0</td><td>0</td><td>0</td><td>0</td><td>0</td><td>0</td><td> 18.96174</td><td> 24.219783</td></tr>\n",
       "\t<tr><td>ENSG00000100288.19</td><td>CHKB    </td><td>0</td><td>0</td><td>0</td><td>0</td><td>0</td><td>0</td><td>0</td><td>0</td><td>0</td><td>0</td><td>166.50778</td><td>109.661794</td></tr>\n",
       "\t<tr><td>ENSG00000008735.14</td><td>MAPK8IP2</td><td>0</td><td>0</td><td>0</td><td>0</td><td>0</td><td>0</td><td>0</td><td>0</td><td>0</td><td>0</td><td>166.50778</td><td>109.661794</td></tr>\n",
       "\t<tr><td>ENSG00000131089.15</td><td>ARHGEF9 </td><td>0</td><td>0</td><td>0</td><td>0</td><td>0</td><td>0</td><td>0</td><td>0</td><td>0</td><td>0</td><td> 29.62772</td><td> 30.274728</td></tr>\n",
       "</tbody>\n",
       "</table>\n"
      ],
      "text/latex": [
       "A data.frame: 36 × 14\n",
       "\\begin{tabular}{r|llllllllllllll}\n",
       " gene\\_id & gene\\_name & A1 & A2 & A3 & A4 & A5 & A6 & A7 & A8 & A9 & A10 & A11 & A12\\\\\n",
       " <chr> & <chr> & <dbl> & <dbl> & <dbl> & <dbl> & <dbl> & <dbl> & <dbl> & <dbl> & <dbl> & <dbl> & <dbl> & <dbl>\\\\\n",
       "\\hline\n",
       "\t ENSG00000157216.15 & SSBP3    & 0 & 0 & 0 & 0 & 0 & 0 & 0 & 0 & 0 & 0 &  18.36919 &  26.910870\\\\\n",
       "\t ENSG00000158488.16 & CD1E     & 0 & 0 & 0 & 0 & 0 & 0 & 0 & 0 & 0 & 0 &  11.25853 &  18.164837\\\\\n",
       "\t ENSG00000094963.14 & FMO2     & 0 & 0 & 0 & 0 & 0 & 0 & 0 & 0 & 0 & 0 &  28.44261 &  25.565326\\\\\n",
       "\t ENSG00000179915.23 & NRXN1    & 0 & 0 & 0 & 0 & 0 & 0 & 0 & 0 & 0 & 0 &  27.85006 &  42.384620\\\\\n",
       "\t ENSG00000168878.17 & SFTPB    & 0 & 0 & 0 & 0 & 0 & 0 & 0 & 0 & 0 & 0 &  10.07342 &  12.109891\\\\\n",
       "\t ENSG00000183054.11 & RGPD6    & 0 & 0 & 0 & 0 & 0 & 0 & 0 & 0 & 0 & 0 &   9.48087 &   6.727717\\\\\n",
       "\t ENSG00000188674.11 & C2orf80  & 0 & 0 & 0 & 0 & 0 & 0 & 0 & 0 & 0 & 0 &  27.25750 &  45.748479\\\\\n",
       "\t ENSG00000123992.19 & DNPEP    & 0 & 0 & 0 & 0 & 0 & 0 & 0 & 0 & 0 & 0 &  27.85006 &  35.656902\\\\\n",
       "\t ENSG00000171951.5  & SCG2     & 0 & 0 & 0 & 0 & 0 & 0 & 0 & 0 & 0 & 0 &  61.03310 &  48.439566\\\\\n",
       "\t ENSG00000124019.10 & FAM124B  & 0 & 0 & 0 & 0 & 0 & 0 & 0 & 0 & 0 & 0 &  18.96174 &  17.492065\\\\\n",
       "\t ENSG00000114841.17 & DNAH1    & 0 & 0 & 0 & 0 & 0 & 0 & 0 & 0 & 0 & 0 & 102.51191 & 101.588533\\\\\n",
       "\t ENSG00000198829.6  & SUCNR1   & 0 & 0 & 0 & 0 & 0 & 0 & 0 & 0 & 0 & 0 &  17.77663 &  17.492065\\\\\n",
       "\t ENSG00000159674.12 & SPON2    & 0 & 0 & 0 & 0 & 0 & 0 & 0 & 0 & 0 & 0 &  69.92142 &  88.133098\\\\\n",
       "\t ENSG00000134962.7  & KLB      & 0 & 0 & 0 & 0 & 0 & 0 & 0 & 0 & 0 & 0 &  15.40641 &  22.201468\\\\\n",
       "\t ENSG00000196782.12 & MAML3    & 0 & 0 & 0 & 0 & 0 & 0 & 0 & 0 & 0 & 0 & 125.62153 &  96.879131\\\\\n",
       "\t ENSG00000109654.15 & TRIM2    & 0 & 0 & 0 & 0 & 0 & 0 & 0 & 0 & 0 & 0 & 354.34752 & 331.676470\\\\\n",
       "\t ENSG00000129116.19 & PALLD    & 0 & 0 & 0 & 0 & 0 & 0 & 0 & 0 & 0 & 0 &  16.59152 &  20.855924\\\\\n",
       "\t ENSG00000253953.2  & PCDHGB4  & 0 & 0 & 0 & 0 & 0 & 0 & 0 & 0 & 0 & 0 &   9.48087 &  10.091576\\\\\n",
       "\t ENSG00000203756.7  & TMEM244  & 0 & 0 & 0 & 0 & 0 & 0 & 0 & 0 & 0 & 0 &  30.81283 &  37.002446\\\\\n",
       "\t ENSG00000214415.3  & GNAT3    & 0 & 0 & 0 & 0 & 0 & 0 & 0 & 0 & 0 & 0 &  59.84799 &  28.929185\\\\\n",
       "\t ENSG00000075223.14 & SEMA3C   & 0 & 0 & 0 & 0 & 0 & 0 & 0 & 0 & 0 & 0 &  11.85109 &  21.528696\\\\\n",
       "\t ENSG00000075213.11 & SEMA3A   & 0 & 0 & 0 & 0 & 0 & 0 & 0 & 0 & 0 & 0 &  32.59049 &  37.675218\\\\\n",
       "\t ENSG00000106333.13 & PCOLCE   & 0 & 0 & 0 & 0 & 0 & 0 & 0 & 0 & 0 & 0 &  71.69908 &  29.601957\\\\\n",
       "\t ENSG00000128606.13 & LRRC17   & 0 & 0 & 0 & 0 & 0 & 0 & 0 & 0 & 0 & 0 &  25.47984 &  37.002446\\\\\n",
       "\t ENSG00000015592.16 & STMN4    & 0 & 0 & 0 & 0 & 0 & 0 & 0 & 0 & 0 & 0 & 133.32474 & 189.048860\\\\\n",
       "\t ENSG00000109991.8  & P2RX3    & 0 & 0 & 0 & 0 & 0 & 0 & 0 & 0 & 0 & 0 & 186.06208 & 164.156305\\\\\n",
       "\t ENSG00000204300.7  & TMEM225  & 0 & 0 & 0 & 0 & 0 & 0 & 0 & 0 & 0 & 0 &  42.66392 &  52.476196\\\\\n",
       "\t ENSG00000161850.2  & KRT82    & 0 & 0 & 0 & 0 & 0 & 0 & 0 & 0 & 0 & 0 &   9.48087 &  24.219783\\\\\n",
       "\t ENSG00000177455.14 & CD19     & 0 & 0 & 0 & 0 & 0 & 0 & 0 & 0 & 0 & 0 &  40.88625 &  34.984131\\\\\n",
       "\t ENSG00000141748.12 & ARL5C    & 0 & 0 & 0 & 0 & 0 & 0 & 0 & 0 & 0 & 0 &  31.99794 &  47.094022\\\\\n",
       "\t ENSG00000198816.7  & ZNF358   & 0 & 0 & 0 & 0 & 0 & 0 & 0 & 0 & 0 & 0 & 110.80767 &  82.750924\\\\\n",
       "\t ENSG00000155307.18 & SAMSN1   & 0 & 0 & 0 & 0 & 0 & 0 & 0 & 0 & 0 & 0 &  39.10859 &  39.693533\\\\\n",
       "\t ENSG00000184113.9  & CLDN5    & 0 & 0 & 0 & 0 & 0 & 0 & 0 & 0 & 0 & 0 &  18.96174 &  24.219783\\\\\n",
       "\t ENSG00000100288.19 & CHKB     & 0 & 0 & 0 & 0 & 0 & 0 & 0 & 0 & 0 & 0 & 166.50778 & 109.661794\\\\\n",
       "\t ENSG00000008735.14 & MAPK8IP2 & 0 & 0 & 0 & 0 & 0 & 0 & 0 & 0 & 0 & 0 & 166.50778 & 109.661794\\\\\n",
       "\t ENSG00000131089.15 & ARHGEF9  & 0 & 0 & 0 & 0 & 0 & 0 & 0 & 0 & 0 & 0 &  29.62772 &  30.274728\\\\\n",
       "\\end{tabular}\n"
      ],
      "text/markdown": [
       "\n",
       "A data.frame: 36 × 14\n",
       "\n",
       "| gene_id &lt;chr&gt; | gene_name &lt;chr&gt; | A1 &lt;dbl&gt; | A2 &lt;dbl&gt; | A3 &lt;dbl&gt; | A4 &lt;dbl&gt; | A5 &lt;dbl&gt; | A6 &lt;dbl&gt; | A7 &lt;dbl&gt; | A8 &lt;dbl&gt; | A9 &lt;dbl&gt; | A10 &lt;dbl&gt; | A11 &lt;dbl&gt; | A12 &lt;dbl&gt; |\n",
       "|---|---|---|---|---|---|---|---|---|---|---|---|---|---|\n",
       "| ENSG00000157216.15 | SSBP3    | 0 | 0 | 0 | 0 | 0 | 0 | 0 | 0 | 0 | 0 |  18.36919 |  26.910870 |\n",
       "| ENSG00000158488.16 | CD1E     | 0 | 0 | 0 | 0 | 0 | 0 | 0 | 0 | 0 | 0 |  11.25853 |  18.164837 |\n",
       "| ENSG00000094963.14 | FMO2     | 0 | 0 | 0 | 0 | 0 | 0 | 0 | 0 | 0 | 0 |  28.44261 |  25.565326 |\n",
       "| ENSG00000179915.23 | NRXN1    | 0 | 0 | 0 | 0 | 0 | 0 | 0 | 0 | 0 | 0 |  27.85006 |  42.384620 |\n",
       "| ENSG00000168878.17 | SFTPB    | 0 | 0 | 0 | 0 | 0 | 0 | 0 | 0 | 0 | 0 |  10.07342 |  12.109891 |\n",
       "| ENSG00000183054.11 | RGPD6    | 0 | 0 | 0 | 0 | 0 | 0 | 0 | 0 | 0 | 0 |   9.48087 |   6.727717 |\n",
       "| ENSG00000188674.11 | C2orf80  | 0 | 0 | 0 | 0 | 0 | 0 | 0 | 0 | 0 | 0 |  27.25750 |  45.748479 |\n",
       "| ENSG00000123992.19 | DNPEP    | 0 | 0 | 0 | 0 | 0 | 0 | 0 | 0 | 0 | 0 |  27.85006 |  35.656902 |\n",
       "| ENSG00000171951.5  | SCG2     | 0 | 0 | 0 | 0 | 0 | 0 | 0 | 0 | 0 | 0 |  61.03310 |  48.439566 |\n",
       "| ENSG00000124019.10 | FAM124B  | 0 | 0 | 0 | 0 | 0 | 0 | 0 | 0 | 0 | 0 |  18.96174 |  17.492065 |\n",
       "| ENSG00000114841.17 | DNAH1    | 0 | 0 | 0 | 0 | 0 | 0 | 0 | 0 | 0 | 0 | 102.51191 | 101.588533 |\n",
       "| ENSG00000198829.6  | SUCNR1   | 0 | 0 | 0 | 0 | 0 | 0 | 0 | 0 | 0 | 0 |  17.77663 |  17.492065 |\n",
       "| ENSG00000159674.12 | SPON2    | 0 | 0 | 0 | 0 | 0 | 0 | 0 | 0 | 0 | 0 |  69.92142 |  88.133098 |\n",
       "| ENSG00000134962.7  | KLB      | 0 | 0 | 0 | 0 | 0 | 0 | 0 | 0 | 0 | 0 |  15.40641 |  22.201468 |\n",
       "| ENSG00000196782.12 | MAML3    | 0 | 0 | 0 | 0 | 0 | 0 | 0 | 0 | 0 | 0 | 125.62153 |  96.879131 |\n",
       "| ENSG00000109654.15 | TRIM2    | 0 | 0 | 0 | 0 | 0 | 0 | 0 | 0 | 0 | 0 | 354.34752 | 331.676470 |\n",
       "| ENSG00000129116.19 | PALLD    | 0 | 0 | 0 | 0 | 0 | 0 | 0 | 0 | 0 | 0 |  16.59152 |  20.855924 |\n",
       "| ENSG00000253953.2  | PCDHGB4  | 0 | 0 | 0 | 0 | 0 | 0 | 0 | 0 | 0 | 0 |   9.48087 |  10.091576 |\n",
       "| ENSG00000203756.7  | TMEM244  | 0 | 0 | 0 | 0 | 0 | 0 | 0 | 0 | 0 | 0 |  30.81283 |  37.002446 |\n",
       "| ENSG00000214415.3  | GNAT3    | 0 | 0 | 0 | 0 | 0 | 0 | 0 | 0 | 0 | 0 |  59.84799 |  28.929185 |\n",
       "| ENSG00000075223.14 | SEMA3C   | 0 | 0 | 0 | 0 | 0 | 0 | 0 | 0 | 0 | 0 |  11.85109 |  21.528696 |\n",
       "| ENSG00000075213.11 | SEMA3A   | 0 | 0 | 0 | 0 | 0 | 0 | 0 | 0 | 0 | 0 |  32.59049 |  37.675218 |\n",
       "| ENSG00000106333.13 | PCOLCE   | 0 | 0 | 0 | 0 | 0 | 0 | 0 | 0 | 0 | 0 |  71.69908 |  29.601957 |\n",
       "| ENSG00000128606.13 | LRRC17   | 0 | 0 | 0 | 0 | 0 | 0 | 0 | 0 | 0 | 0 |  25.47984 |  37.002446 |\n",
       "| ENSG00000015592.16 | STMN4    | 0 | 0 | 0 | 0 | 0 | 0 | 0 | 0 | 0 | 0 | 133.32474 | 189.048860 |\n",
       "| ENSG00000109991.8  | P2RX3    | 0 | 0 | 0 | 0 | 0 | 0 | 0 | 0 | 0 | 0 | 186.06208 | 164.156305 |\n",
       "| ENSG00000204300.7  | TMEM225  | 0 | 0 | 0 | 0 | 0 | 0 | 0 | 0 | 0 | 0 |  42.66392 |  52.476196 |\n",
       "| ENSG00000161850.2  | KRT82    | 0 | 0 | 0 | 0 | 0 | 0 | 0 | 0 | 0 | 0 |   9.48087 |  24.219783 |\n",
       "| ENSG00000177455.14 | CD19     | 0 | 0 | 0 | 0 | 0 | 0 | 0 | 0 | 0 | 0 |  40.88625 |  34.984131 |\n",
       "| ENSG00000141748.12 | ARL5C    | 0 | 0 | 0 | 0 | 0 | 0 | 0 | 0 | 0 | 0 |  31.99794 |  47.094022 |\n",
       "| ENSG00000198816.7  | ZNF358   | 0 | 0 | 0 | 0 | 0 | 0 | 0 | 0 | 0 | 0 | 110.80767 |  82.750924 |\n",
       "| ENSG00000155307.18 | SAMSN1   | 0 | 0 | 0 | 0 | 0 | 0 | 0 | 0 | 0 | 0 |  39.10859 |  39.693533 |\n",
       "| ENSG00000184113.9  | CLDN5    | 0 | 0 | 0 | 0 | 0 | 0 | 0 | 0 | 0 | 0 |  18.96174 |  24.219783 |\n",
       "| ENSG00000100288.19 | CHKB     | 0 | 0 | 0 | 0 | 0 | 0 | 0 | 0 | 0 | 0 | 166.50778 | 109.661794 |\n",
       "| ENSG00000008735.14 | MAPK8IP2 | 0 | 0 | 0 | 0 | 0 | 0 | 0 | 0 | 0 | 0 | 166.50778 | 109.661794 |\n",
       "| ENSG00000131089.15 | ARHGEF9  | 0 | 0 | 0 | 0 | 0 | 0 | 0 | 0 | 0 | 0 |  29.62772 |  30.274728 |\n",
       "\n"
      ],
      "text/plain": [
       "   gene_id            gene_name A1 A2 A3 A4 A5 A6 A7 A8 A9 A10 A11      \n",
       "1  ENSG00000157216.15 SSBP3     0  0  0  0  0  0  0  0  0  0    18.36919\n",
       "2  ENSG00000158488.16 CD1E      0  0  0  0  0  0  0  0  0  0    11.25853\n",
       "3  ENSG00000094963.14 FMO2      0  0  0  0  0  0  0  0  0  0    28.44261\n",
       "4  ENSG00000179915.23 NRXN1     0  0  0  0  0  0  0  0  0  0    27.85006\n",
       "5  ENSG00000168878.17 SFTPB     0  0  0  0  0  0  0  0  0  0    10.07342\n",
       "6  ENSG00000183054.11 RGPD6     0  0  0  0  0  0  0  0  0  0     9.48087\n",
       "7  ENSG00000188674.11 C2orf80   0  0  0  0  0  0  0  0  0  0    27.25750\n",
       "8  ENSG00000123992.19 DNPEP     0  0  0  0  0  0  0  0  0  0    27.85006\n",
       "9  ENSG00000171951.5  SCG2      0  0  0  0  0  0  0  0  0  0    61.03310\n",
       "10 ENSG00000124019.10 FAM124B   0  0  0  0  0  0  0  0  0  0    18.96174\n",
       "11 ENSG00000114841.17 DNAH1     0  0  0  0  0  0  0  0  0  0   102.51191\n",
       "12 ENSG00000198829.6  SUCNR1    0  0  0  0  0  0  0  0  0  0    17.77663\n",
       "13 ENSG00000159674.12 SPON2     0  0  0  0  0  0  0  0  0  0    69.92142\n",
       "14 ENSG00000134962.7  KLB       0  0  0  0  0  0  0  0  0  0    15.40641\n",
       "15 ENSG00000196782.12 MAML3     0  0  0  0  0  0  0  0  0  0   125.62153\n",
       "16 ENSG00000109654.15 TRIM2     0  0  0  0  0  0  0  0  0  0   354.34752\n",
       "17 ENSG00000129116.19 PALLD     0  0  0  0  0  0  0  0  0  0    16.59152\n",
       "18 ENSG00000253953.2  PCDHGB4   0  0  0  0  0  0  0  0  0  0     9.48087\n",
       "19 ENSG00000203756.7  TMEM244   0  0  0  0  0  0  0  0  0  0    30.81283\n",
       "20 ENSG00000214415.3  GNAT3     0  0  0  0  0  0  0  0  0  0    59.84799\n",
       "21 ENSG00000075223.14 SEMA3C    0  0  0  0  0  0  0  0  0  0    11.85109\n",
       "22 ENSG00000075213.11 SEMA3A    0  0  0  0  0  0  0  0  0  0    32.59049\n",
       "23 ENSG00000106333.13 PCOLCE    0  0  0  0  0  0  0  0  0  0    71.69908\n",
       "24 ENSG00000128606.13 LRRC17    0  0  0  0  0  0  0  0  0  0    25.47984\n",
       "25 ENSG00000015592.16 STMN4     0  0  0  0  0  0  0  0  0  0   133.32474\n",
       "26 ENSG00000109991.8  P2RX3     0  0  0  0  0  0  0  0  0  0   186.06208\n",
       "27 ENSG00000204300.7  TMEM225   0  0  0  0  0  0  0  0  0  0    42.66392\n",
       "28 ENSG00000161850.2  KRT82     0  0  0  0  0  0  0  0  0  0     9.48087\n",
       "29 ENSG00000177455.14 CD19      0  0  0  0  0  0  0  0  0  0    40.88625\n",
       "30 ENSG00000141748.12 ARL5C     0  0  0  0  0  0  0  0  0  0    31.99794\n",
       "31 ENSG00000198816.7  ZNF358    0  0  0  0  0  0  0  0  0  0   110.80767\n",
       "32 ENSG00000155307.18 SAMSN1    0  0  0  0  0  0  0  0  0  0    39.10859\n",
       "33 ENSG00000184113.9  CLDN5     0  0  0  0  0  0  0  0  0  0    18.96174\n",
       "34 ENSG00000100288.19 CHKB      0  0  0  0  0  0  0  0  0  0   166.50778\n",
       "35 ENSG00000008735.14 MAPK8IP2  0  0  0  0  0  0  0  0  0  0   166.50778\n",
       "36 ENSG00000131089.15 ARHGEF9   0  0  0  0  0  0  0  0  0  0    29.62772\n",
       "   A12       \n",
       "1   26.910870\n",
       "2   18.164837\n",
       "3   25.565326\n",
       "4   42.384620\n",
       "5   12.109891\n",
       "6    6.727717\n",
       "7   45.748479\n",
       "8   35.656902\n",
       "9   48.439566\n",
       "10  17.492065\n",
       "11 101.588533\n",
       "12  17.492065\n",
       "13  88.133098\n",
       "14  22.201468\n",
       "15  96.879131\n",
       "16 331.676470\n",
       "17  20.855924\n",
       "18  10.091576\n",
       "19  37.002446\n",
       "20  28.929185\n",
       "21  21.528696\n",
       "22  37.675218\n",
       "23  29.601957\n",
       "24  37.002446\n",
       "25 189.048860\n",
       "26 164.156305\n",
       "27  52.476196\n",
       "28  24.219783\n",
       "29  34.984131\n",
       "30  47.094022\n",
       "31  82.750924\n",
       "32  39.693533\n",
       "33  24.219783\n",
       "34 109.661794\n",
       "35 109.661794\n",
       "36  30.274728"
      ]
     },
     "metadata": {},
     "output_type": "display_data"
    }
   ],
   "source": [
    "# promoter region open at 5D only\n",
    "promoters %>% filter((A11 > 0 & A12 > 0) & A1 + A2 + A5 + A6 + A7 + A8 + A9 + A10 + A3 + A4 < 1)"
   ]
  },
  {
   "cell_type": "markdown",
   "metadata": {},
   "source": [
    "##### number of peaks per gene at different time point"
   ]
  },
  {
   "cell_type": "code",
   "execution_count": 346,
   "metadata": {},
   "outputs": [],
   "source": [
    "promoter_peaks <- read.delim(file = 'ATAC_Promoter_NumberofPeaks.txt', header = T, sep = '\\t', stringsAsFactors = F) %>% mutate_all(~ replace(.x, is.na(.x), 0))"
   ]
  },
  {
   "cell_type": "code",
   "execution_count": null,
   "metadata": {},
   "outputs": [],
   "source": []
  },
  {
   "cell_type": "code",
   "execution_count": 348,
   "metadata": {},
   "outputs": [
    {
     "data": {
      "text/html": [
       "<table>\n",
       "<caption>A data.frame: 6 × 13</caption>\n",
       "<thead>\n",
       "\t<tr><th scope=col>gene_id</th><th scope=col>A1</th><th scope=col>A2</th><th scope=col>A3</th><th scope=col>A4</th><th scope=col>A5</th><th scope=col>A6</th><th scope=col>A7</th><th scope=col>A8</th><th scope=col>A9</th><th scope=col>A10</th><th scope=col>A11</th><th scope=col>A12</th></tr>\n",
       "\t<tr><th scope=col>&lt;chr&gt;</th><th scope=col>&lt;dbl&gt;</th><th scope=col>&lt;dbl&gt;</th><th scope=col>&lt;dbl&gt;</th><th scope=col>&lt;dbl&gt;</th><th scope=col>&lt;dbl&gt;</th><th scope=col>&lt;dbl&gt;</th><th scope=col>&lt;dbl&gt;</th><th scope=col>&lt;dbl&gt;</th><th scope=col>&lt;dbl&gt;</th><th scope=col>&lt;dbl&gt;</th><th scope=col>&lt;dbl&gt;</th><th scope=col>&lt;dbl&gt;</th></tr>\n",
       "</thead>\n",
       "<tbody>\n",
       "\t<tr><td>ENSG00000223972.5</td><td>0</td><td>0</td><td>0</td><td>0</td><td>0</td><td>0</td><td>0</td><td>0</td><td>0</td><td>0</td><td>0</td><td>0</td></tr>\n",
       "\t<tr><td>ENSG00000227232.5</td><td>0</td><td>0</td><td>0</td><td>0</td><td>0</td><td>0</td><td>0</td><td>0</td><td>0</td><td>0</td><td>0</td><td>0</td></tr>\n",
       "\t<tr><td>ENSG00000278267.1</td><td>0</td><td>0</td><td>0</td><td>0</td><td>0</td><td>0</td><td>0</td><td>0</td><td>0</td><td>0</td><td>0</td><td>0</td></tr>\n",
       "\t<tr><td>ENSG00000243485.5</td><td>0</td><td>0</td><td>0</td><td>0</td><td>0</td><td>0</td><td>0</td><td>0</td><td>0</td><td>0</td><td>0</td><td>0</td></tr>\n",
       "\t<tr><td>ENSG00000284332.1</td><td>0</td><td>0</td><td>0</td><td>0</td><td>0</td><td>0</td><td>0</td><td>0</td><td>0</td><td>0</td><td>0</td><td>0</td></tr>\n",
       "\t<tr><td>ENSG00000237613.2</td><td>0</td><td>0</td><td>0</td><td>0</td><td>0</td><td>0</td><td>0</td><td>0</td><td>0</td><td>0</td><td>0</td><td>0</td></tr>\n",
       "</tbody>\n",
       "</table>\n"
      ],
      "text/latex": [
       "A data.frame: 6 × 13\n",
       "\\begin{tabular}{r|lllllllllllll}\n",
       " gene\\_id & A1 & A2 & A3 & A4 & A5 & A6 & A7 & A8 & A9 & A10 & A11 & A12\\\\\n",
       " <chr> & <dbl> & <dbl> & <dbl> & <dbl> & <dbl> & <dbl> & <dbl> & <dbl> & <dbl> & <dbl> & <dbl> & <dbl>\\\\\n",
       "\\hline\n",
       "\t ENSG00000223972.5 & 0 & 0 & 0 & 0 & 0 & 0 & 0 & 0 & 0 & 0 & 0 & 0\\\\\n",
       "\t ENSG00000227232.5 & 0 & 0 & 0 & 0 & 0 & 0 & 0 & 0 & 0 & 0 & 0 & 0\\\\\n",
       "\t ENSG00000278267.1 & 0 & 0 & 0 & 0 & 0 & 0 & 0 & 0 & 0 & 0 & 0 & 0\\\\\n",
       "\t ENSG00000243485.5 & 0 & 0 & 0 & 0 & 0 & 0 & 0 & 0 & 0 & 0 & 0 & 0\\\\\n",
       "\t ENSG00000284332.1 & 0 & 0 & 0 & 0 & 0 & 0 & 0 & 0 & 0 & 0 & 0 & 0\\\\\n",
       "\t ENSG00000237613.2 & 0 & 0 & 0 & 0 & 0 & 0 & 0 & 0 & 0 & 0 & 0 & 0\\\\\n",
       "\\end{tabular}\n"
      ],
      "text/markdown": [
       "\n",
       "A data.frame: 6 × 13\n",
       "\n",
       "| gene_id &lt;chr&gt; | A1 &lt;dbl&gt; | A2 &lt;dbl&gt; | A3 &lt;dbl&gt; | A4 &lt;dbl&gt; | A5 &lt;dbl&gt; | A6 &lt;dbl&gt; | A7 &lt;dbl&gt; | A8 &lt;dbl&gt; | A9 &lt;dbl&gt; | A10 &lt;dbl&gt; | A11 &lt;dbl&gt; | A12 &lt;dbl&gt; |\n",
       "|---|---|---|---|---|---|---|---|---|---|---|---|---|\n",
       "| ENSG00000223972.5 | 0 | 0 | 0 | 0 | 0 | 0 | 0 | 0 | 0 | 0 | 0 | 0 |\n",
       "| ENSG00000227232.5 | 0 | 0 | 0 | 0 | 0 | 0 | 0 | 0 | 0 | 0 | 0 | 0 |\n",
       "| ENSG00000278267.1 | 0 | 0 | 0 | 0 | 0 | 0 | 0 | 0 | 0 | 0 | 0 | 0 |\n",
       "| ENSG00000243485.5 | 0 | 0 | 0 | 0 | 0 | 0 | 0 | 0 | 0 | 0 | 0 | 0 |\n",
       "| ENSG00000284332.1 | 0 | 0 | 0 | 0 | 0 | 0 | 0 | 0 | 0 | 0 | 0 | 0 |\n",
       "| ENSG00000237613.2 | 0 | 0 | 0 | 0 | 0 | 0 | 0 | 0 | 0 | 0 | 0 | 0 |\n",
       "\n"
      ],
      "text/plain": [
       "  gene_id           A1 A2 A3 A4 A5 A6 A7 A8 A9 A10 A11 A12\n",
       "1 ENSG00000223972.5 0  0  0  0  0  0  0  0  0  0   0   0  \n",
       "2 ENSG00000227232.5 0  0  0  0  0  0  0  0  0  0   0   0  \n",
       "3 ENSG00000278267.1 0  0  0  0  0  0  0  0  0  0   0   0  \n",
       "4 ENSG00000243485.5 0  0  0  0  0  0  0  0  0  0   0   0  \n",
       "5 ENSG00000284332.1 0  0  0  0  0  0  0  0  0  0   0   0  \n",
       "6 ENSG00000237613.2 0  0  0  0  0  0  0  0  0  0   0   0  "
      ]
     },
     "metadata": {},
     "output_type": "display_data"
    }
   ],
   "source": [
    "promoter_peaks %>% head"
   ]
  },
  {
   "cell_type": "code",
   "execution_count": 358,
   "metadata": {},
   "outputs": [],
   "source": [
    "keep4 <- promoter_peaks %>% column_to_rownames('gene_id') %>% rowSums %>% `>`(1)"
   ]
  },
  {
   "cell_type": "code",
   "execution_count": 362,
   "metadata": {},
   "outputs": [
    {
     "data": {
      "text/html": [
       "<table>\n",
       "<caption>A data.frame: 36 × 13</caption>\n",
       "<thead>\n",
       "\t<tr><th scope=col>gene_id</th><th scope=col>A1</th><th scope=col>A2</th><th scope=col>A3</th><th scope=col>A4</th><th scope=col>A5</th><th scope=col>A6</th><th scope=col>A7</th><th scope=col>A8</th><th scope=col>A9</th><th scope=col>A10</th><th scope=col>A11</th><th scope=col>A12</th></tr>\n",
       "\t<tr><th scope=col>&lt;chr&gt;</th><th scope=col>&lt;dbl&gt;</th><th scope=col>&lt;dbl&gt;</th><th scope=col>&lt;dbl&gt;</th><th scope=col>&lt;dbl&gt;</th><th scope=col>&lt;dbl&gt;</th><th scope=col>&lt;dbl&gt;</th><th scope=col>&lt;dbl&gt;</th><th scope=col>&lt;dbl&gt;</th><th scope=col>&lt;dbl&gt;</th><th scope=col>&lt;dbl&gt;</th><th scope=col>&lt;dbl&gt;</th><th scope=col>&lt;dbl&gt;</th></tr>\n",
       "</thead>\n",
       "<tbody>\n",
       "\t<tr><td>ENSG00000157216.15</td><td>0</td><td>0</td><td>0</td><td>0</td><td>0</td><td>0</td><td>0</td><td>0</td><td>0</td><td>0</td><td>1</td><td>1</td></tr>\n",
       "\t<tr><td>ENSG00000158488.16</td><td>0</td><td>0</td><td>0</td><td>0</td><td>0</td><td>0</td><td>0</td><td>0</td><td>0</td><td>0</td><td>1</td><td>1</td></tr>\n",
       "\t<tr><td>ENSG00000094963.14</td><td>0</td><td>0</td><td>0</td><td>0</td><td>0</td><td>0</td><td>0</td><td>0</td><td>0</td><td>0</td><td>1</td><td>1</td></tr>\n",
       "\t<tr><td>ENSG00000179915.23</td><td>0</td><td>0</td><td>0</td><td>0</td><td>0</td><td>0</td><td>0</td><td>0</td><td>0</td><td>0</td><td>1</td><td>1</td></tr>\n",
       "\t<tr><td>ENSG00000168878.17</td><td>0</td><td>0</td><td>0</td><td>0</td><td>0</td><td>0</td><td>0</td><td>0</td><td>0</td><td>0</td><td>1</td><td>1</td></tr>\n",
       "\t<tr><td>ENSG00000183054.11</td><td>0</td><td>0</td><td>0</td><td>0</td><td>0</td><td>0</td><td>0</td><td>0</td><td>0</td><td>0</td><td>1</td><td>1</td></tr>\n",
       "\t<tr><td>ENSG00000188674.11</td><td>0</td><td>0</td><td>0</td><td>0</td><td>0</td><td>0</td><td>0</td><td>0</td><td>0</td><td>0</td><td>1</td><td>1</td></tr>\n",
       "\t<tr><td>ENSG00000123992.19</td><td>0</td><td>0</td><td>0</td><td>0</td><td>0</td><td>0</td><td>0</td><td>0</td><td>0</td><td>0</td><td>1</td><td>1</td></tr>\n",
       "\t<tr><td>ENSG00000171951.5 </td><td>0</td><td>0</td><td>0</td><td>0</td><td>0</td><td>0</td><td>0</td><td>0</td><td>0</td><td>0</td><td>1</td><td>1</td></tr>\n",
       "\t<tr><td>ENSG00000124019.10</td><td>0</td><td>0</td><td>0</td><td>0</td><td>0</td><td>0</td><td>0</td><td>0</td><td>0</td><td>0</td><td>1</td><td>1</td></tr>\n",
       "\t<tr><td>ENSG00000114841.17</td><td>0</td><td>0</td><td>0</td><td>0</td><td>0</td><td>0</td><td>0</td><td>0</td><td>0</td><td>0</td><td>1</td><td>1</td></tr>\n",
       "\t<tr><td>ENSG00000198829.6 </td><td>0</td><td>0</td><td>0</td><td>0</td><td>0</td><td>0</td><td>0</td><td>0</td><td>0</td><td>0</td><td>1</td><td>1</td></tr>\n",
       "\t<tr><td>ENSG00000159674.12</td><td>0</td><td>0</td><td>0</td><td>0</td><td>0</td><td>0</td><td>0</td><td>0</td><td>0</td><td>0</td><td>1</td><td>1</td></tr>\n",
       "\t<tr><td>ENSG00000134962.7 </td><td>0</td><td>0</td><td>0</td><td>0</td><td>0</td><td>0</td><td>0</td><td>0</td><td>0</td><td>0</td><td>1</td><td>1</td></tr>\n",
       "\t<tr><td>ENSG00000196782.12</td><td>0</td><td>0</td><td>0</td><td>0</td><td>0</td><td>0</td><td>0</td><td>0</td><td>0</td><td>0</td><td>1</td><td>1</td></tr>\n",
       "\t<tr><td>ENSG00000109654.15</td><td>0</td><td>0</td><td>0</td><td>0</td><td>0</td><td>0</td><td>0</td><td>0</td><td>0</td><td>0</td><td>1</td><td>1</td></tr>\n",
       "\t<tr><td>ENSG00000129116.19</td><td>0</td><td>0</td><td>0</td><td>0</td><td>0</td><td>0</td><td>0</td><td>0</td><td>0</td><td>0</td><td>1</td><td>1</td></tr>\n",
       "\t<tr><td>ENSG00000253953.2 </td><td>0</td><td>0</td><td>0</td><td>0</td><td>0</td><td>0</td><td>0</td><td>0</td><td>0</td><td>0</td><td>1</td><td>1</td></tr>\n",
       "\t<tr><td>ENSG00000203756.7 </td><td>0</td><td>0</td><td>0</td><td>0</td><td>0</td><td>0</td><td>0</td><td>0</td><td>0</td><td>0</td><td>1</td><td>1</td></tr>\n",
       "\t<tr><td>ENSG00000214415.3 </td><td>0</td><td>0</td><td>0</td><td>0</td><td>0</td><td>0</td><td>0</td><td>0</td><td>0</td><td>0</td><td>1</td><td>1</td></tr>\n",
       "\t<tr><td>ENSG00000075223.14</td><td>0</td><td>0</td><td>0</td><td>0</td><td>0</td><td>0</td><td>0</td><td>0</td><td>0</td><td>0</td><td>1</td><td>1</td></tr>\n",
       "\t<tr><td>ENSG00000075213.11</td><td>0</td><td>0</td><td>0</td><td>0</td><td>0</td><td>0</td><td>0</td><td>0</td><td>0</td><td>0</td><td>1</td><td>1</td></tr>\n",
       "\t<tr><td>ENSG00000106333.13</td><td>0</td><td>0</td><td>0</td><td>0</td><td>0</td><td>0</td><td>0</td><td>0</td><td>0</td><td>0</td><td>2</td><td>1</td></tr>\n",
       "\t<tr><td>ENSG00000128606.13</td><td>0</td><td>0</td><td>0</td><td>0</td><td>0</td><td>0</td><td>0</td><td>0</td><td>0</td><td>0</td><td>1</td><td>1</td></tr>\n",
       "\t<tr><td>ENSG00000015592.16</td><td>0</td><td>0</td><td>0</td><td>0</td><td>0</td><td>0</td><td>0</td><td>0</td><td>0</td><td>0</td><td>1</td><td>1</td></tr>\n",
       "\t<tr><td>ENSG00000109991.8 </td><td>0</td><td>0</td><td>0</td><td>0</td><td>0</td><td>0</td><td>0</td><td>0</td><td>0</td><td>0</td><td>1</td><td>1</td></tr>\n",
       "\t<tr><td>ENSG00000204300.7 </td><td>0</td><td>0</td><td>0</td><td>0</td><td>0</td><td>0</td><td>0</td><td>0</td><td>0</td><td>0</td><td>2</td><td>1</td></tr>\n",
       "\t<tr><td>ENSG00000161850.2 </td><td>0</td><td>0</td><td>0</td><td>0</td><td>0</td><td>0</td><td>0</td><td>0</td><td>0</td><td>0</td><td>1</td><td>1</td></tr>\n",
       "\t<tr><td>ENSG00000177455.14</td><td>0</td><td>0</td><td>0</td><td>0</td><td>0</td><td>0</td><td>0</td><td>0</td><td>0</td><td>0</td><td>2</td><td>1</td></tr>\n",
       "\t<tr><td>ENSG00000141748.12</td><td>0</td><td>0</td><td>0</td><td>0</td><td>0</td><td>0</td><td>0</td><td>0</td><td>0</td><td>0</td><td>1</td><td>1</td></tr>\n",
       "\t<tr><td>ENSG00000198816.7 </td><td>0</td><td>0</td><td>0</td><td>0</td><td>0</td><td>0</td><td>0</td><td>0</td><td>0</td><td>0</td><td>1</td><td>1</td></tr>\n",
       "\t<tr><td>ENSG00000155307.18</td><td>0</td><td>0</td><td>0</td><td>0</td><td>0</td><td>0</td><td>0</td><td>0</td><td>0</td><td>0</td><td>1</td><td>1</td></tr>\n",
       "\t<tr><td>ENSG00000184113.9 </td><td>0</td><td>0</td><td>0</td><td>0</td><td>0</td><td>0</td><td>0</td><td>0</td><td>0</td><td>0</td><td>1</td><td>1</td></tr>\n",
       "\t<tr><td>ENSG00000100288.19</td><td>0</td><td>0</td><td>0</td><td>0</td><td>0</td><td>0</td><td>0</td><td>0</td><td>0</td><td>0</td><td>1</td><td>1</td></tr>\n",
       "\t<tr><td>ENSG00000008735.14</td><td>0</td><td>0</td><td>0</td><td>0</td><td>0</td><td>0</td><td>0</td><td>0</td><td>0</td><td>0</td><td>1</td><td>1</td></tr>\n",
       "\t<tr><td>ENSG00000131089.15</td><td>0</td><td>0</td><td>0</td><td>0</td><td>0</td><td>0</td><td>0</td><td>0</td><td>0</td><td>0</td><td>1</td><td>1</td></tr>\n",
       "</tbody>\n",
       "</table>\n"
      ],
      "text/latex": [
       "A data.frame: 36 × 13\n",
       "\\begin{tabular}{r|lllllllllllll}\n",
       " gene\\_id & A1 & A2 & A3 & A4 & A5 & A6 & A7 & A8 & A9 & A10 & A11 & A12\\\\\n",
       " <chr> & <dbl> & <dbl> & <dbl> & <dbl> & <dbl> & <dbl> & <dbl> & <dbl> & <dbl> & <dbl> & <dbl> & <dbl>\\\\\n",
       "\\hline\n",
       "\t ENSG00000157216.15 & 0 & 0 & 0 & 0 & 0 & 0 & 0 & 0 & 0 & 0 & 1 & 1\\\\\n",
       "\t ENSG00000158488.16 & 0 & 0 & 0 & 0 & 0 & 0 & 0 & 0 & 0 & 0 & 1 & 1\\\\\n",
       "\t ENSG00000094963.14 & 0 & 0 & 0 & 0 & 0 & 0 & 0 & 0 & 0 & 0 & 1 & 1\\\\\n",
       "\t ENSG00000179915.23 & 0 & 0 & 0 & 0 & 0 & 0 & 0 & 0 & 0 & 0 & 1 & 1\\\\\n",
       "\t ENSG00000168878.17 & 0 & 0 & 0 & 0 & 0 & 0 & 0 & 0 & 0 & 0 & 1 & 1\\\\\n",
       "\t ENSG00000183054.11 & 0 & 0 & 0 & 0 & 0 & 0 & 0 & 0 & 0 & 0 & 1 & 1\\\\\n",
       "\t ENSG00000188674.11 & 0 & 0 & 0 & 0 & 0 & 0 & 0 & 0 & 0 & 0 & 1 & 1\\\\\n",
       "\t ENSG00000123992.19 & 0 & 0 & 0 & 0 & 0 & 0 & 0 & 0 & 0 & 0 & 1 & 1\\\\\n",
       "\t ENSG00000171951.5  & 0 & 0 & 0 & 0 & 0 & 0 & 0 & 0 & 0 & 0 & 1 & 1\\\\\n",
       "\t ENSG00000124019.10 & 0 & 0 & 0 & 0 & 0 & 0 & 0 & 0 & 0 & 0 & 1 & 1\\\\\n",
       "\t ENSG00000114841.17 & 0 & 0 & 0 & 0 & 0 & 0 & 0 & 0 & 0 & 0 & 1 & 1\\\\\n",
       "\t ENSG00000198829.6  & 0 & 0 & 0 & 0 & 0 & 0 & 0 & 0 & 0 & 0 & 1 & 1\\\\\n",
       "\t ENSG00000159674.12 & 0 & 0 & 0 & 0 & 0 & 0 & 0 & 0 & 0 & 0 & 1 & 1\\\\\n",
       "\t ENSG00000134962.7  & 0 & 0 & 0 & 0 & 0 & 0 & 0 & 0 & 0 & 0 & 1 & 1\\\\\n",
       "\t ENSG00000196782.12 & 0 & 0 & 0 & 0 & 0 & 0 & 0 & 0 & 0 & 0 & 1 & 1\\\\\n",
       "\t ENSG00000109654.15 & 0 & 0 & 0 & 0 & 0 & 0 & 0 & 0 & 0 & 0 & 1 & 1\\\\\n",
       "\t ENSG00000129116.19 & 0 & 0 & 0 & 0 & 0 & 0 & 0 & 0 & 0 & 0 & 1 & 1\\\\\n",
       "\t ENSG00000253953.2  & 0 & 0 & 0 & 0 & 0 & 0 & 0 & 0 & 0 & 0 & 1 & 1\\\\\n",
       "\t ENSG00000203756.7  & 0 & 0 & 0 & 0 & 0 & 0 & 0 & 0 & 0 & 0 & 1 & 1\\\\\n",
       "\t ENSG00000214415.3  & 0 & 0 & 0 & 0 & 0 & 0 & 0 & 0 & 0 & 0 & 1 & 1\\\\\n",
       "\t ENSG00000075223.14 & 0 & 0 & 0 & 0 & 0 & 0 & 0 & 0 & 0 & 0 & 1 & 1\\\\\n",
       "\t ENSG00000075213.11 & 0 & 0 & 0 & 0 & 0 & 0 & 0 & 0 & 0 & 0 & 1 & 1\\\\\n",
       "\t ENSG00000106333.13 & 0 & 0 & 0 & 0 & 0 & 0 & 0 & 0 & 0 & 0 & 2 & 1\\\\\n",
       "\t ENSG00000128606.13 & 0 & 0 & 0 & 0 & 0 & 0 & 0 & 0 & 0 & 0 & 1 & 1\\\\\n",
       "\t ENSG00000015592.16 & 0 & 0 & 0 & 0 & 0 & 0 & 0 & 0 & 0 & 0 & 1 & 1\\\\\n",
       "\t ENSG00000109991.8  & 0 & 0 & 0 & 0 & 0 & 0 & 0 & 0 & 0 & 0 & 1 & 1\\\\\n",
       "\t ENSG00000204300.7  & 0 & 0 & 0 & 0 & 0 & 0 & 0 & 0 & 0 & 0 & 2 & 1\\\\\n",
       "\t ENSG00000161850.2  & 0 & 0 & 0 & 0 & 0 & 0 & 0 & 0 & 0 & 0 & 1 & 1\\\\\n",
       "\t ENSG00000177455.14 & 0 & 0 & 0 & 0 & 0 & 0 & 0 & 0 & 0 & 0 & 2 & 1\\\\\n",
       "\t ENSG00000141748.12 & 0 & 0 & 0 & 0 & 0 & 0 & 0 & 0 & 0 & 0 & 1 & 1\\\\\n",
       "\t ENSG00000198816.7  & 0 & 0 & 0 & 0 & 0 & 0 & 0 & 0 & 0 & 0 & 1 & 1\\\\\n",
       "\t ENSG00000155307.18 & 0 & 0 & 0 & 0 & 0 & 0 & 0 & 0 & 0 & 0 & 1 & 1\\\\\n",
       "\t ENSG00000184113.9  & 0 & 0 & 0 & 0 & 0 & 0 & 0 & 0 & 0 & 0 & 1 & 1\\\\\n",
       "\t ENSG00000100288.19 & 0 & 0 & 0 & 0 & 0 & 0 & 0 & 0 & 0 & 0 & 1 & 1\\\\\n",
       "\t ENSG00000008735.14 & 0 & 0 & 0 & 0 & 0 & 0 & 0 & 0 & 0 & 0 & 1 & 1\\\\\n",
       "\t ENSG00000131089.15 & 0 & 0 & 0 & 0 & 0 & 0 & 0 & 0 & 0 & 0 & 1 & 1\\\\\n",
       "\\end{tabular}\n"
      ],
      "text/markdown": [
       "\n",
       "A data.frame: 36 × 13\n",
       "\n",
       "| gene_id &lt;chr&gt; | A1 &lt;dbl&gt; | A2 &lt;dbl&gt; | A3 &lt;dbl&gt; | A4 &lt;dbl&gt; | A5 &lt;dbl&gt; | A6 &lt;dbl&gt; | A7 &lt;dbl&gt; | A8 &lt;dbl&gt; | A9 &lt;dbl&gt; | A10 &lt;dbl&gt; | A11 &lt;dbl&gt; | A12 &lt;dbl&gt; |\n",
       "|---|---|---|---|---|---|---|---|---|---|---|---|---|\n",
       "| ENSG00000157216.15 | 0 | 0 | 0 | 0 | 0 | 0 | 0 | 0 | 0 | 0 | 1 | 1 |\n",
       "| ENSG00000158488.16 | 0 | 0 | 0 | 0 | 0 | 0 | 0 | 0 | 0 | 0 | 1 | 1 |\n",
       "| ENSG00000094963.14 | 0 | 0 | 0 | 0 | 0 | 0 | 0 | 0 | 0 | 0 | 1 | 1 |\n",
       "| ENSG00000179915.23 | 0 | 0 | 0 | 0 | 0 | 0 | 0 | 0 | 0 | 0 | 1 | 1 |\n",
       "| ENSG00000168878.17 | 0 | 0 | 0 | 0 | 0 | 0 | 0 | 0 | 0 | 0 | 1 | 1 |\n",
       "| ENSG00000183054.11 | 0 | 0 | 0 | 0 | 0 | 0 | 0 | 0 | 0 | 0 | 1 | 1 |\n",
       "| ENSG00000188674.11 | 0 | 0 | 0 | 0 | 0 | 0 | 0 | 0 | 0 | 0 | 1 | 1 |\n",
       "| ENSG00000123992.19 | 0 | 0 | 0 | 0 | 0 | 0 | 0 | 0 | 0 | 0 | 1 | 1 |\n",
       "| ENSG00000171951.5  | 0 | 0 | 0 | 0 | 0 | 0 | 0 | 0 | 0 | 0 | 1 | 1 |\n",
       "| ENSG00000124019.10 | 0 | 0 | 0 | 0 | 0 | 0 | 0 | 0 | 0 | 0 | 1 | 1 |\n",
       "| ENSG00000114841.17 | 0 | 0 | 0 | 0 | 0 | 0 | 0 | 0 | 0 | 0 | 1 | 1 |\n",
       "| ENSG00000198829.6  | 0 | 0 | 0 | 0 | 0 | 0 | 0 | 0 | 0 | 0 | 1 | 1 |\n",
       "| ENSG00000159674.12 | 0 | 0 | 0 | 0 | 0 | 0 | 0 | 0 | 0 | 0 | 1 | 1 |\n",
       "| ENSG00000134962.7  | 0 | 0 | 0 | 0 | 0 | 0 | 0 | 0 | 0 | 0 | 1 | 1 |\n",
       "| ENSG00000196782.12 | 0 | 0 | 0 | 0 | 0 | 0 | 0 | 0 | 0 | 0 | 1 | 1 |\n",
       "| ENSG00000109654.15 | 0 | 0 | 0 | 0 | 0 | 0 | 0 | 0 | 0 | 0 | 1 | 1 |\n",
       "| ENSG00000129116.19 | 0 | 0 | 0 | 0 | 0 | 0 | 0 | 0 | 0 | 0 | 1 | 1 |\n",
       "| ENSG00000253953.2  | 0 | 0 | 0 | 0 | 0 | 0 | 0 | 0 | 0 | 0 | 1 | 1 |\n",
       "| ENSG00000203756.7  | 0 | 0 | 0 | 0 | 0 | 0 | 0 | 0 | 0 | 0 | 1 | 1 |\n",
       "| ENSG00000214415.3  | 0 | 0 | 0 | 0 | 0 | 0 | 0 | 0 | 0 | 0 | 1 | 1 |\n",
       "| ENSG00000075223.14 | 0 | 0 | 0 | 0 | 0 | 0 | 0 | 0 | 0 | 0 | 1 | 1 |\n",
       "| ENSG00000075213.11 | 0 | 0 | 0 | 0 | 0 | 0 | 0 | 0 | 0 | 0 | 1 | 1 |\n",
       "| ENSG00000106333.13 | 0 | 0 | 0 | 0 | 0 | 0 | 0 | 0 | 0 | 0 | 2 | 1 |\n",
       "| ENSG00000128606.13 | 0 | 0 | 0 | 0 | 0 | 0 | 0 | 0 | 0 | 0 | 1 | 1 |\n",
       "| ENSG00000015592.16 | 0 | 0 | 0 | 0 | 0 | 0 | 0 | 0 | 0 | 0 | 1 | 1 |\n",
       "| ENSG00000109991.8  | 0 | 0 | 0 | 0 | 0 | 0 | 0 | 0 | 0 | 0 | 1 | 1 |\n",
       "| ENSG00000204300.7  | 0 | 0 | 0 | 0 | 0 | 0 | 0 | 0 | 0 | 0 | 2 | 1 |\n",
       "| ENSG00000161850.2  | 0 | 0 | 0 | 0 | 0 | 0 | 0 | 0 | 0 | 0 | 1 | 1 |\n",
       "| ENSG00000177455.14 | 0 | 0 | 0 | 0 | 0 | 0 | 0 | 0 | 0 | 0 | 2 | 1 |\n",
       "| ENSG00000141748.12 | 0 | 0 | 0 | 0 | 0 | 0 | 0 | 0 | 0 | 0 | 1 | 1 |\n",
       "| ENSG00000198816.7  | 0 | 0 | 0 | 0 | 0 | 0 | 0 | 0 | 0 | 0 | 1 | 1 |\n",
       "| ENSG00000155307.18 | 0 | 0 | 0 | 0 | 0 | 0 | 0 | 0 | 0 | 0 | 1 | 1 |\n",
       "| ENSG00000184113.9  | 0 | 0 | 0 | 0 | 0 | 0 | 0 | 0 | 0 | 0 | 1 | 1 |\n",
       "| ENSG00000100288.19 | 0 | 0 | 0 | 0 | 0 | 0 | 0 | 0 | 0 | 0 | 1 | 1 |\n",
       "| ENSG00000008735.14 | 0 | 0 | 0 | 0 | 0 | 0 | 0 | 0 | 0 | 0 | 1 | 1 |\n",
       "| ENSG00000131089.15 | 0 | 0 | 0 | 0 | 0 | 0 | 0 | 0 | 0 | 0 | 1 | 1 |\n",
       "\n"
      ],
      "text/plain": [
       "   gene_id            A1 A2 A3 A4 A5 A6 A7 A8 A9 A10 A11 A12\n",
       "1  ENSG00000157216.15 0  0  0  0  0  0  0  0  0  0   1   1  \n",
       "2  ENSG00000158488.16 0  0  0  0  0  0  0  0  0  0   1   1  \n",
       "3  ENSG00000094963.14 0  0  0  0  0  0  0  0  0  0   1   1  \n",
       "4  ENSG00000179915.23 0  0  0  0  0  0  0  0  0  0   1   1  \n",
       "5  ENSG00000168878.17 0  0  0  0  0  0  0  0  0  0   1   1  \n",
       "6  ENSG00000183054.11 0  0  0  0  0  0  0  0  0  0   1   1  \n",
       "7  ENSG00000188674.11 0  0  0  0  0  0  0  0  0  0   1   1  \n",
       "8  ENSG00000123992.19 0  0  0  0  0  0  0  0  0  0   1   1  \n",
       "9  ENSG00000171951.5  0  0  0  0  0  0  0  0  0  0   1   1  \n",
       "10 ENSG00000124019.10 0  0  0  0  0  0  0  0  0  0   1   1  \n",
       "11 ENSG00000114841.17 0  0  0  0  0  0  0  0  0  0   1   1  \n",
       "12 ENSG00000198829.6  0  0  0  0  0  0  0  0  0  0   1   1  \n",
       "13 ENSG00000159674.12 0  0  0  0  0  0  0  0  0  0   1   1  \n",
       "14 ENSG00000134962.7  0  0  0  0  0  0  0  0  0  0   1   1  \n",
       "15 ENSG00000196782.12 0  0  0  0  0  0  0  0  0  0   1   1  \n",
       "16 ENSG00000109654.15 0  0  0  0  0  0  0  0  0  0   1   1  \n",
       "17 ENSG00000129116.19 0  0  0  0  0  0  0  0  0  0   1   1  \n",
       "18 ENSG00000253953.2  0  0  0  0  0  0  0  0  0  0   1   1  \n",
       "19 ENSG00000203756.7  0  0  0  0  0  0  0  0  0  0   1   1  \n",
       "20 ENSG00000214415.3  0  0  0  0  0  0  0  0  0  0   1   1  \n",
       "21 ENSG00000075223.14 0  0  0  0  0  0  0  0  0  0   1   1  \n",
       "22 ENSG00000075213.11 0  0  0  0  0  0  0  0  0  0   1   1  \n",
       "23 ENSG00000106333.13 0  0  0  0  0  0  0  0  0  0   2   1  \n",
       "24 ENSG00000128606.13 0  0  0  0  0  0  0  0  0  0   1   1  \n",
       "25 ENSG00000015592.16 0  0  0  0  0  0  0  0  0  0   1   1  \n",
       "26 ENSG00000109991.8  0  0  0  0  0  0  0  0  0  0   1   1  \n",
       "27 ENSG00000204300.7  0  0  0  0  0  0  0  0  0  0   2   1  \n",
       "28 ENSG00000161850.2  0  0  0  0  0  0  0  0  0  0   1   1  \n",
       "29 ENSG00000177455.14 0  0  0  0  0  0  0  0  0  0   2   1  \n",
       "30 ENSG00000141748.12 0  0  0  0  0  0  0  0  0  0   1   1  \n",
       "31 ENSG00000198816.7  0  0  0  0  0  0  0  0  0  0   1   1  \n",
       "32 ENSG00000155307.18 0  0  0  0  0  0  0  0  0  0   1   1  \n",
       "33 ENSG00000184113.9  0  0  0  0  0  0  0  0  0  0   1   1  \n",
       "34 ENSG00000100288.19 0  0  0  0  0  0  0  0  0  0   1   1  \n",
       "35 ENSG00000008735.14 0  0  0  0  0  0  0  0  0  0   1   1  \n",
       "36 ENSG00000131089.15 0  0  0  0  0  0  0  0  0  0   1   1  "
      ]
     },
     "metadata": {},
     "output_type": "display_data"
    }
   ],
   "source": [
    "promoter_peaks[keep4,] %>% filter((A11 > 0 & A12 > 0) & A1 + A2 + A5 + A6 + A7 + A8 + A9 + A10 + A3 + A4 < 1)"
   ]
  },
  {
   "cell_type": "markdown",
   "metadata": {},
   "source": [
    "# $$X=PA$$\n",
    "# $$x_{ij} = \\sum\\limits_{k \\in TFs} b_{ik}a_{kj}$$\n",
    "\n"
   ]
  },
  {
   "cell_type": "markdown",
   "metadata": {
    "heading_collapsed": true
   },
   "source": [
    "# Other"
   ]
  },
  {
   "cell_type": "markdown",
   "metadata": {
    "ExecuteTime": {
     "end_time": "2019-09-06T17:45:36.340534Z",
     "start_time": "2019-09-06T17:45:34.764Z"
    },
    "hidden": true
   },
   "source": [
    "> **_If you can't explain it simply, you don't understand it well enough._**"
   ]
  },
  {
   "cell_type": "markdown",
   "metadata": {
    "hidden": true
   },
   "source": [
    "## Check gene names compatibility\n",
    "Check to see if the gene names in Congyi's screen data is the same as gencode annotation. Congyi's gene names are likely NCBI Refseq's names."
   ]
  }
 ],
 "metadata": {
  "kernelspec": {
   "display_name": "R3.6",
   "language": "R",
   "name": "ir36"
  },
  "language_info": {
   "codemirror_mode": "r",
   "file_extension": ".r",
   "mimetype": "text/x-r-source",
   "name": "R",
   "pygments_lexer": "r",
   "version": "3.6.1"
  },
  "toc": {
   "base_numbering": 1,
   "nav_menu": {},
   "number_sections": true,
   "sideBar": true,
   "skip_h1_title": false,
   "title_cell": "Table of Contents",
   "title_sidebar": "Contents",
   "toc_cell": false,
   "toc_position": {},
   "toc_section_display": true,
   "toc_window_display": false
  }
 },
 "nbformat": 4,
 "nbformat_minor": 2
}
