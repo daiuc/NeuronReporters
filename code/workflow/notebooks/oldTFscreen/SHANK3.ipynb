{
 "cells": [
  {
   "cell_type": "code",
   "execution_count": 1,
   "metadata": {},
   "outputs": [],
   "source": [
    "options(warn=-1)"
   ]
  },
  {
   "cell_type": "code",
   "execution_count": 2,
   "metadata": {},
   "outputs": [
    {
     "name": "stderr",
     "output_type": "stream",
     "text": [
      "── \u001b[1mAttaching packages\u001b[22m ─────────────────────────────────────── tidyverse 1.2.1 ──\n",
      "\u001b[32m✔\u001b[39m \u001b[34mggplot2\u001b[39m 3.2.1     \u001b[32m✔\u001b[39m \u001b[34mpurrr  \u001b[39m 0.3.2\n",
      "\u001b[32m✔\u001b[39m \u001b[34mtibble \u001b[39m 2.1.3     \u001b[32m✔\u001b[39m \u001b[34mdplyr  \u001b[39m 0.8.3\n",
      "\u001b[32m✔\u001b[39m \u001b[34mtidyr  \u001b[39m 0.8.3     \u001b[32m✔\u001b[39m \u001b[34mstringr\u001b[39m 1.4.0\n",
      "\u001b[32m✔\u001b[39m \u001b[34mreadr  \u001b[39m 1.3.1     \u001b[32m✔\u001b[39m \u001b[34mforcats\u001b[39m 0.4.0\n",
      "── \u001b[1mConflicts\u001b[22m ────────────────────────────────────────── tidyverse_conflicts() ──\n",
      "\u001b[31m✖\u001b[39m \u001b[34mdplyr\u001b[39m::\u001b[32mfilter()\u001b[39m masks \u001b[34mstats\u001b[39m::filter()\n",
      "\u001b[31m✖\u001b[39m \u001b[34mdplyr\u001b[39m::\u001b[32mlag()\u001b[39m    masks \u001b[34mstats\u001b[39m::lag()\n",
      "\n",
      "Registered S3 method overwritten by 'R.oo':\n",
      "  method        from       \n",
      "  throw.default R.methodsS3\n",
      "\n",
      "Attaching package: ‘Matrix’\n",
      "\n",
      "The following object is masked from ‘package:tidyr’:\n",
      "\n",
      "    expand\n",
      "\n",
      "\n",
      "Attaching package: ‘TFBSTools’\n",
      "\n",
      "The following object is masked from ‘package:Matrix’:\n",
      "\n",
      "    Matrix\n",
      "\n",
      "Loading required package: GenomicRanges\n",
      "Loading required package: stats4\n",
      "Loading required package: BiocGenerics\n",
      "Loading required package: parallel\n",
      "\n",
      "Attaching package: ‘BiocGenerics’\n",
      "\n",
      "The following objects are masked from ‘package:parallel’:\n",
      "\n",
      "    clusterApply, clusterApplyLB, clusterCall, clusterEvalQ,\n",
      "    clusterExport, clusterMap, parApply, parCapply, parLapply,\n",
      "    parLapplyLB, parRapply, parSapply, parSapplyLB\n",
      "\n",
      "The following object is masked from ‘package:Matrix’:\n",
      "\n",
      "    which\n",
      "\n",
      "The following objects are masked from ‘package:dplyr’:\n",
      "\n",
      "    combine, intersect, setdiff, union\n",
      "\n",
      "The following objects are masked from ‘package:stats’:\n",
      "\n",
      "    IQR, mad, sd, var, xtabs\n",
      "\n",
      "The following objects are masked from ‘package:base’:\n",
      "\n",
      "    anyDuplicated, append, as.data.frame, basename, cbind, colnames,\n",
      "    dirname, do.call, duplicated, eval, evalq, Filter, Find, get, grep,\n",
      "    grepl, intersect, is.unsorted, lapply, Map, mapply, match, mget,\n",
      "    order, paste, pmax, pmax.int, pmin, pmin.int, Position, rank,\n",
      "    rbind, Reduce, rownames, sapply, setdiff, sort, table, tapply,\n",
      "    union, unique, unsplit, which, which.max, which.min\n",
      "\n",
      "Loading required package: S4Vectors\n",
      "\n",
      "Attaching package: ‘S4Vectors’\n",
      "\n",
      "The following object is masked from ‘package:Matrix’:\n",
      "\n",
      "    expand\n",
      "\n",
      "The following objects are masked from ‘package:dplyr’:\n",
      "\n",
      "    first, rename\n",
      "\n",
      "The following object is masked from ‘package:tidyr’:\n",
      "\n",
      "    expand\n",
      "\n",
      "The following object is masked from ‘package:base’:\n",
      "\n",
      "    expand.grid\n",
      "\n",
      "Loading required package: IRanges\n",
      "\n",
      "Attaching package: ‘IRanges’\n",
      "\n",
      "The following objects are masked from ‘package:dplyr’:\n",
      "\n",
      "    collapse, desc, slice\n",
      "\n",
      "The following object is masked from ‘package:purrr’:\n",
      "\n",
      "    reduce\n",
      "\n",
      "Loading required package: GenomeInfoDb\n",
      "Loading required package: Biobase\n",
      "Welcome to Bioconductor\n",
      "\n",
      "    Vignettes contain introductory material; view with\n",
      "    'browseVignettes()'. To cite Bioconductor, see\n",
      "    'citation(\"Biobase\")', and for packages 'citation(\"pkgname\")'.\n",
      "\n",
      "Loading required package: DelayedArray\n",
      "Loading required package: matrixStats\n",
      "\n",
      "Attaching package: ‘matrixStats’\n",
      "\n",
      "The following objects are masked from ‘package:Biobase’:\n",
      "\n",
      "    anyMissing, rowMedians\n",
      "\n",
      "The following object is masked from ‘package:dplyr’:\n",
      "\n",
      "    count\n",
      "\n",
      "Loading required package: BiocParallel\n",
      "\n",
      "Attaching package: ‘DelayedArray’\n",
      "\n",
      "The following objects are masked from ‘package:matrixStats’:\n",
      "\n",
      "    colMaxs, colMins, colRanges, rowMaxs, rowMins, rowRanges\n",
      "\n",
      "The following object is masked from ‘package:TFBSTools’:\n",
      "\n",
      "    matrixClass\n",
      "\n",
      "The following object is masked from ‘package:purrr’:\n",
      "\n",
      "    simplify\n",
      "\n",
      "The following objects are masked from ‘package:base’:\n",
      "\n",
      "    aperm, apply, rowsum\n",
      "\n",
      "Loading required package: BSgenome\n",
      "Loading required package: Biostrings\n",
      "Loading required package: XVector\n",
      "\n",
      "Attaching package: ‘XVector’\n",
      "\n",
      "The following object is masked from ‘package:purrr’:\n",
      "\n",
      "    compact\n",
      "\n",
      "\n",
      "Attaching package: ‘Biostrings’\n",
      "\n",
      "The following object is masked from ‘package:DelayedArray’:\n",
      "\n",
      "    type\n",
      "\n",
      "The following object is masked from ‘package:base’:\n",
      "\n",
      "    strsplit\n",
      "\n",
      "Loading required package: rtracklayer\n"
     ]
    }
   ],
   "source": [
    "library(tidyverse)\n",
    "library(motifmatchr)\n",
    "library(Matrix)\n",
    "library(TFBSTools)\n",
    "library(SummarizedExperiment)\n",
    "library(BSgenome.Hsapiens.UCSC.hg38)\n",
    "library(BiocParallel)\n",
    "library(JASPAR2018)\n",
    "library(purrr)\n",
    "register(MulticoreParam(8))\n",
    "set.seed(2019)"
   ]
  },
  {
   "cell_type": "code",
   "execution_count": 3,
   "metadata": {},
   "outputs": [],
   "source": [
    "setwd(\"~/shank3\")"
   ]
  },
  {
   "cell_type": "code",
   "execution_count": 45,
   "metadata": {},
   "outputs": [],
   "source": [
    "# method to get JASPAR2018, Getting both human and mouse\n",
    "#opts <- list()\n",
    "#opts[[\"species\"]] <- c(\"Homo sapiens\")\n",
    "jaspar_motifs_hs <- getMatrixSet(JASPAR2018, list(\"species\"=\"Homo sapiens\"))\n",
    "jaspar_motifs_ms <- getMatrixSet(JASPAR2018, list(\"species\"=\"Mus musculus\"))\n",
    "# combining both human and mouse motifs\n",
    "jaspar_motifs <- c(jaspar_motifs_hs, jaspar_motifs_ms)"
   ]
  },
  {
   "cell_type": "code",
   "execution_count": 236,
   "metadata": {},
   "outputs": [],
   "source": [
    "# lookup table to join on motif_id to bring together motif information, such as species, symbols, etc.\n",
    "motif_lookup <- list()\n",
    "for (m in names(jaspar_motifs)) {\n",
    "    #motif_lookup[[m]][[\"ID\"]] <- ID(jaspar_motifs[[m]])\n",
    "    motif_lookup[[m]][[\"motif_nm\"]] <- name(jaspar_motifs[[m]])\n",
    "    motif_lookup[[m]][[\"tf_symbol\"]] <- ifelse(is.null(tags(jaspar_motifs[[m]])$symbol), \"\",tags(jaspar_motifs[[m]])$symbol)\n",
    "    motif_lookup[[m]][[\"description\"]] <- ifelse(is.null(tags(jaspar_motifs[[m]])$description),\"\", tags(jaspar_motifs[[m]])$description)\n",
    "    motif_lookup[[m]][[\"species\"]] <- ifelse(is.null(tags(jaspar_motifs[[m]])$species), \"\", tags(jaspar_motifs[[m]])$species %>% paste0(., collapse = \"; \"))\n",
    "}\n",
    "motif_lookup <- do.call(rbind, motif_lookup)\n",
    "motif_lookup <- as.data.frame(motif_lookup) %>% rownames_to_column(., \"motif_id\")"
   ]
  },
  {
   "cell_type": "raw",
   "metadata": {},
   "source": [
    "# get gencode annotation\n",
    "gencode <- read.table(\"/c/groups/sanjana_lab/cdai/ref_genome/gencode.v31.primary_assembly.annotation.pandas.df.txt\", header = T, sep = \"\\t\")"
   ]
  },
  {
   "cell_type": "raw",
   "metadata": {},
   "source": [
    "shank_exon_utr <- gencode %>% filter(gene_name == \"SHANK3\" & feature %in% c(\"exon\", \"UTR\") & source %in% c(\"HAVANA\")) %>%\n",
    "                                select(seqname, start, end, feature, strand, gene_name) %>% \n",
    "                                arrange(start) %>%\n",
    "                                GenomicRanges::makeGRangesFromDataFrame(., keep.extra.columns = T)\n",
    "\n",
    "shank_gene <- gencode %>% filter(gene_name == \"SHANK3\" & feature %in% c(\"gene\") & source %in% c(\"HAVANA\")) %>%\n",
    "                            select(seqname, start, end, feature, strand, gene_name) %>% \n",
    "                            GenomicRanges::makeGRangesFromDataFrame(., keep.extra.columns = T)\n",
    "\n",
    "shank_promoter <- promoters(shank_gene, upstream = 2000, downstream = 500) \n",
    "levels(shank_promoter$feature) <- c(levels(shank_promoter$feature), \"promoter\")\n",
    "shank_promoter$feature <- c(\"promoter\")\n",
    "\n",
    "shank_intron <- setdiff(shank_gene, shank_exon_utr) %>% as.data.frame %>% \n",
    "                add_column(feature=\"intron\", gene_name=\"SHANK3\") %>%\n",
    "                makeGRangesFromDataFrame(., keep.extra.columns = T)\n",
    "start(shank_gene) <- start(shank_gene) - 2000 # extend shank3 geen upstream by 2kb               \n",
    "shank_all <- c(shank_promoter,  shank_exon_utr, shank_intron)"
   ]
  },
  {
   "cell_type": "raw",
   "metadata": {},
   "source": [
    "write.table(shank_gene, \"shank3_up2K.txt\", sep = \"\\t\", quote = F, row.names = F)\n",
    "write.table(shank_all,\"shank3_allfeatures.txt\", sep = \"\\t\", quote = F, row.names = F)"
   ]
  },
  {
   "cell_type": "code",
   "execution_count": 266,
   "metadata": {},
   "outputs": [],
   "source": [
    "# read in Shank3 gene and all feature annotations\n",
    "shank_gene <- read.table(\"shank3_up2K.txt\", header = T, stringsAsFactors = F)\n",
    "shank_all <- read.table(\"shank3_allfeatures.txt\", header = T, stringsAsFactors = F)\n",
    "\n",
    "shank_gene <- makeGRangesFromDataFrame(shank_gene, keep.extra.columns = T)\n",
    "shank_all <- makeGRangesFromDataFrame(shank_all, keep.extra.columns = T)"
   ]
  },
  {
   "cell_type": "code",
   "execution_count": 85,
   "metadata": {},
   "outputs": [],
   "source": [
    "# match shank gene with jaspar 2018 motifs\n",
    "shank.match.motif.pos <- matchMotifs(jaspar_motifs, shank_gene, out = \"positions\", genome = BSgenome.Hsapiens.UCSC.hg38)"
   ]
  },
  {
   "cell_type": "code",
   "execution_count": 96,
   "metadata": {},
   "outputs": [],
   "source": [
    "# add motif_id to the genomic ranges\n",
    "shank.match.motif.ranges <- shank.match.motif.pos %>% as.data.frame %>% \n",
    "                            select(seqnames, start, end, strand, score, group_name) %>%\n",
    "                            makeGRangesFromDataFrame(keep.extra.columns = T)"
   ]
  },
  {
   "cell_type": "code",
   "execution_count": 100,
   "metadata": {},
   "outputs": [],
   "source": [
    "# get overlaps between motif matching ranges and shank3 annotated features\n",
    "feature.overlap <- GenomicRanges::findOverlaps(shank.match.motif.ranges, shank_all, minoverlap = 10)\n",
    "\n",
    "shank.match.motif.df <- shank.match.motif.ranges[queryHits(feature.overlap)] %>% as.data.frame %>%\n",
    "                        cbind(., as.data.frame(mcols(shank_all[subjectHits(feature.overlap)]))) # add feature info"
   ]
  },
  {
   "cell_type": "code",
   "execution_count": 254,
   "metadata": {},
   "outputs": [],
   "source": [
    "# join on motif_id to bring in motif meta data, such as species, symbols etc.\n",
    "shank.match.motif.df <- left_join(shank.match.motif.df, motif_lookup, by = c(\"group_name\" = \"motif_id\"))"
   ]
  },
  {
   "cell_type": "code",
   "execution_count": null,
   "metadata": {},
   "outputs": [],
   "source": []
  },
  {
   "cell_type": "code",
   "execution_count": null,
   "metadata": {},
   "outputs": [],
   "source": []
  },
  {
   "cell_type": "code",
   "execution_count": null,
   "metadata": {},
   "outputs": [],
   "source": []
  },
  {
   "cell_type": "code",
   "execution_count": null,
   "metadata": {},
   "outputs": [],
   "source": []
  },
  {
   "cell_type": "code",
   "execution_count": null,
   "metadata": {},
   "outputs": [],
   "source": []
  },
  {
   "cell_type": "code",
   "execution_count": null,
   "metadata": {},
   "outputs": [],
   "source": []
  },
  {
   "cell_type": "code",
   "execution_count": null,
   "metadata": {},
   "outputs": [],
   "source": []
  },
  {
   "cell_type": "code",
   "execution_count": null,
   "metadata": {},
   "outputs": [],
   "source": []
  },
  {
   "cell_type": "raw",
   "metadata": {},
   "source": [
    "# New method: use downloaded JASPAR2020\n",
    "JASPAR2020_CORE <- readJASPARMatrix(\"20191111_JASPAR2018_combined_matrices_28517_jaspar.txt\", matrixClass = \"PFM\")\n",
    "\n",
    "JASPAR2020_CORE_META <- read.csv(\"20191111_JASPAR2018_combined_matrices_28517_jaspar_META.csv\") %>% select(ID:Family)"
   ]
  },
  {
   "cell_type": "code",
   "execution_count": 326,
   "metadata": {},
   "outputs": [],
   "source": [
    "# get motif matching result, a logic matrix\n",
    "feature_motif_matches <- motifMatches(match_feature_motif)\n",
    "# get the row index that matches the gene_name\n",
    "row.idx <- which(rowRanges(match_feature_motif)$gene_name == \"SHANK3\") "
   ]
  },
  {
   "cell_type": "code",
   "execution_count": 330,
   "metadata": {},
   "outputs": [
    {
     "data": {
      "text/html": [
       "19044"
      ],
      "text/latex": [
       "19044"
      ],
      "text/markdown": [
       "19044"
      ],
      "text/plain": [
       "[1] 19044"
      ]
     },
     "metadata": {},
     "output_type": "display_data"
    }
   ],
   "source": [
    "which(rowRanges(match_feature_motif)$gene_name == \"SHANK3\") "
   ]
  },
  {
   "cell_type": "code",
   "execution_count": 333,
   "metadata": {},
   "outputs": [
    {
     "data": {
      "text/plain": [
       "GRanges object with 1 range and 2 metadata columns:\n",
       "      seqnames            ranges strand |           gene_id   gene_name\n",
       "         <Rle>         <IRanges>  <Rle> |       <character> <character>\n",
       "  [1]    chr22 50672415-50733298      + | ENSG00000251322.8      SHANK3\n",
       "  -------\n",
       "  seqinfo: 24 sequences from an unspecified genome; no seqlengths"
      ]
     },
     "metadata": {},
     "output_type": "display_data"
    }
   ],
   "source": [
    "rowRanges(match_feature_motif)[19044,]"
   ]
  },
  {
   "cell_type": "code",
   "execution_count": 335,
   "metadata": {},
   "outputs": [],
   "source": [
    "# get the motif names that bind to the target gene\n",
    "regulators <- colnames(feature_motif_matches)[feature_motif_matches[row.idx,] %>% which(.)]\n",
    "# convert motif name to gene names\n",
    "regulators <- filter(motif_lookup, motif %in% regulators) %>% pull(gene_name) \n",
    "# get granges of binding regulators\n",
    "regulators.granges <- feature_granges[which(feature_granges$gene_name %in% regulators), ] "
   ]
  },
  {
   "cell_type": "code",
   "execution_count": 339,
   "metadata": {},
   "outputs": [
    {
     "data": {
      "text/html": [
       "<table>\n",
       "<caption>A matrix: 1 × 639 of type lgl</caption>\n",
       "<thead>\n",
       "\t<tr><th scope=col>THRB</th><th scope=col>THAP11</th><th scope=col>TFAP4(var.2)</th><th scope=col>TFAP2E</th><th scope=col>TGIF2LY</th><th scope=col>TGIF2LX</th><th scope=col>TBX3</th><th scope=col>TBX18</th><th scope=col>TCF21(var.2)</th><th scope=col>TBX6</th><th scope=col>⋯</th><th scope=col>KLF4</th><th scope=col>KLF16</th><th scope=col>LHX2</th><th scope=col>KLF9</th><th scope=col>MAFG</th><th scope=col>MAFF</th><th scope=col>DMRT3</th><th scope=col>FOXG1</th><th scope=col>HSF1</th><th scope=col>BACH2(var.2)</th></tr>\n",
       "</thead>\n",
       "<tbody>\n",
       "\t<tr><td>TRUE</td><td>TRUE</td><td>FALSE</td><td>TRUE</td><td>TRUE</td><td>TRUE</td><td>FALSE</td><td>FALSE</td><td>TRUE</td><td>FALSE</td><td>⋯</td><td>TRUE</td><td>TRUE</td><td>TRUE</td><td>TRUE</td><td>FALSE</td><td>FALSE</td><td>FALSE</td><td>FALSE</td><td>TRUE</td><td>FALSE</td></tr>\n",
       "</tbody>\n",
       "</table>\n"
      ],
      "text/latex": [
       "A matrix: 1 × 639 of type lgl\n",
       "\\begin{tabular}{lllllllllllllllllllllllllllllllllllllllllllllllllllllllllllllllllllllllllllllllllllllllllllllllllllllllllllllllllllllllllllllllllllllllllllllllllllllllllllllllllllllllllllllllllllllllllllllllllllllllllllllllllllllllllllllllllllllllllllllllllllllllllllllllllllllllllllllllllllllllllllllllllllllllllllllllllllllllllllllllllllllllllllllllllllllllllllllllllllllllllllllllllllllllllllllllllllllllllllllllllllllllllllllllllllllllllllllllllllllllllllllllllllllllllllllllllllllllllllllllllllllllllllllllllllllllllllllllllllllllllllllllllllllllllllllllllllllllllllllllllllllllllllllllllllllllllllllllllllllllllllllllllllllllllllllllllllllllllllllll}\n",
       " THRB & THAP11 & TFAP4(var.2) & TFAP2E & TGIF2LY & TGIF2LX & TBX3 & TBX18 & TCF21(var.2) & TBX6 & EHF & MNT & FOS::JUNB & FOSB::JUNB & FOSB::JUNB(var.2) & NOTO & FOSL2::JUNB & FOSL2::JUNB(var.2) & FOS::JUND & MZF1(var.2) & FOSL1::JUND(var.2) & MAX::MYC & NKX3-2 & MSX2 & MNX1 & HOXA9 & HOXA5 & HOXB2 & HOXC9 & HOXB5 & HOXD3 & HOXD13 & HOXD9 & ZNF460 & ZNF528 & ZNF682 & ZNF684 & ZNF75D & ZSCAN29 & ETV3 & ETV2 & ETS1 & ERG & ERF & FEV & ELF4 & ELF5 & DBP & BARHL2 & BHLHE41 & CENPB & CREB3 & ISL2 & HOXD11 & KLF15 & KLF17 & HOXD4 & IKZF1 & HOXC8 & HOXD10 & KLF10 & KLF11 & IRF6 & CREB3L4(var.2) & FOXF2 & FOXD1 & FOSL1::JUNB & TGIF1 & SMAD3 & RFX2 & PROX1 & RFX5 & RFX4 & TGIF2 & ASCL1(var.2) & ATF2 & EOMES & RUNX2 & MEOX2 & STAT1::STAT2 & SMAD2::SMAD3::SMAD4 & ZNF740 & TCFL5 & TFEC & NFYA & NR1H4 & NR2F2 & REL & ALX3 & MYCN & NEUROD1 & NFIC & SHOX & PAX5 & POU6F1 & SREBF1(var.2) & TCF3 & SPI1 & SPIB & SNAI2 & SOX2 & SCRT1 & SCRT2 & TCF4 & TCF7 & TEAD2 & SOX13 & HOXD8 & MIXL1 & MLX & MLXIPL & MSC & MSX1 & MYF6 & NEUROD2 & NEUROG2 & NFIA & NFIX & SIX2 & HOXA13 & VDR & KLF13 & JDP2(var.2) & LHX6 & IRF9 & IRF8 & JDP2 & ISX & GLIS3 & HIC2 & KLF14 & MEOX1 & MEF2B & GLIS1 & GLIS2 & SREBF2(var.2) & OLIG3 & OLIG1 & ATF7 & NEUROG1 & ARNT2 & ARGFX & CTCF & BATF & HNF4A & HNF4G & GABPA & GATA1 & FOXK2 & FOXP1 & GRHL2 & HLF & GATA4 & GATA6 & IRF1 & ZNF16 & ZNF148 & ZNF449 & ZNF341 & ZNF652 & ZFP57 & ZIC5 & ZBTB6 & ZBTB26 & ZBTB32 & TLX2 & VEZF1 & THRB(var.2) & THRB(var.3) & ZIC3 & ZBTB18 & LBX2 & ZBTB7B & ZBTB7C & ZIC1 & EGR1 & JUN::JUNB(var.2) & JUN::JUNB & FOSL1::JUN(var.2) & EGR4 & FOSL2::JUN(var.2) & FOSL2::JUN & FOS::JUN & GATA3 & FOSB::JUN & FOS::JUN(var.2) & GATA5 & GFI1 & FOXD2 & FOS & HES2 & GLI2 & GSX2 & FOSL2 & HOXA2 & CDX2 & GCM2 & LEF1 & HSF2 & HSF4 & REST & MEF2D & MEIS1 & MEIS2 & NFE2L2 & TFEB & TFCP2 & JUND(var.2) & SRF & SPIC & TBX2 & TBXT & TBX21 & TBX20 & TFAP4 & HOXA10 & HOXB3 & HOXC10 & MTF1 & GMEB2 & TP73 & TP53 & SOX21 & E2F8 & E2F1 & HOXB8 & HOXB7 & HOXB6 & HOXB4 & HOXA7 & HOXA6 & HOXA4 & HOXA1 & NHLH1 & HOXC4 & HOXB9 & PROP1 & PITX3 & RAX2 & PRRX1 & OTX1 & PHOX2A & PDX1 & TCF12(var.2) & RHOXF1 & RAX & ESR2 & ELK4 & POU1F1 & TFAP2A(var.2) & TBX1 & TBX4 & TBX5 & TEAD3 & MGA & TBR1 & TBX15 & TBX19 & PLAG1 & MAF::NFE2 & NR2C2 & NRF1 & POU2F2 & RELA & FOXH1 & RORB & HIF1A & MYC & RUNX1 & NR1H4::RXRA & PPARG & EN1 & HOXC12 & HOXC13 & OVOL1 & NR2F1(var.3) & NR2F1(var.2) & NR2C2(var.2) & NR2C1 & OSR1 & NR6A1 & NR5A1 & NR2F6(var.3) & ZNF143 & ZIC4 & HNF1A & HEY2 & HINFP & GRHL1 & GSC & SP8 & HOXC11 & ZBED1 & CREM & CEBPB & CEBPE & CEBPG & CREB3L1 & NFE2 & GBX1 & EVX2 & GSC2 & GBX2 & GSX1 & HMBOX1 & HESX1 & IRF2 & EWSR1-FLI1 & RFX1 & PRDM1 & POU2F3 & PKNOX1 & PHOX2B & PBX2 & OTX2 & ONECUT1 & YY1 & RUNX3 & RFX3 & TFAP2C & TFAP2C(var.3) & TFAP2B & EBF1 & TFAP2B(var.3) & TFAP2B(var.2) & CREB1 & E2F6 & CTCFL & BHLHE40 & BATF3 & CEBPD & CEBPA & SREBF2 & THAP1 & ZFP42 & ZKSCAN5 & MEF2C & NKX2-2 & OSR2 & NFIB & NFYC & ZBTB12 & ZBTB14 & PRDM4 & SREBF1 & RFX7 & RARG(var.3) & PLAGL2 & PITX2 & PAX3(var.2) & OVOL2 & RARB(var.3) & PPARD & POU6F1(var.2) & SOX9 & RORA(var.2) & RREB1 & RXRA::VDR & JUND & ZSCAN4 & ZNF384 & ZNF282 & ZEB1 & ZNF24 & ZBTB7A & TFDP1 & SP3 & SP2 & SP1 & SOX8 & SOX4 & PRRX2 & PITX1 & E2F4 & EMX1 & BCL6 & CDX1 & E2F2 & E2F3 & ASCL1 & ATF3 & BARHL1 & BATF::JUN & RARA::RXRA & PKNOX2 & NFATC2 & PAX1 & NFKB2 & PAX9 & PAX3 & MYBL1 & MEIS3 & NFKB1 & NR4A2 & SPDEF & ATF4 & POU4F2 & PAX7 & SP4 & ELK1 & HOXD12 & BARX1 & TFAP2A(var.3) & BSX & FERD3L & FOXE1 & FOXN3 & MYBL2 & GLI3 & HES6 & HNF4A(var.2) & VSX2 & ESR1 & VENTX & VSX1 & VAX1 & VAX2 & UNCX & ESRRB & AR & ZBTB33 & TCF7L2 & INSM1 & GCM1 & FOXP2 & FOXP3 & XBP1 & TEF & FOXC1 & FOXB1 & FOXC2 & FOXO6 & FOXO4 & DPRX & DMRTC2 & DRGX & DLX5 & DUX4 & DMRTA2 & ETS2 & ELF2 & NR1H2::RXRA & NFIC::TLX1 & FOXA2 & FOXK1 & GATA2 & KLF5 & FOSL1::JUND & RORC & PPARG::RXRA & RARA::RXRG & PPARA::RXRA & NR4A2::RXRA & PAX6 & FOSL2::JUND(var.2) & FOSL2::JUND & PBX1 & RORA & TFE3 & SOX15 & ZNF382 & ZNF317 & ZNF274 & ZNF140 & ZNF136 & ZNF135 & ZKSCAN1 & BACH1 & NHLH2 & NKX6-3 & NR1D1 & NR1D2 & NFATC4 & NFIC(var.2) & NFIX(var.2) & NR1I2 & NR1I3 & ESX1 & EN2 & ELK3 & FOXL1 & FOXI1 & FLI1 & ETV6 & CUX1 & CUX2 & ZNF410 & FOXO3 & E2F7 & ONECUT2 & ONECUT3 & ATF6 & EVX1 & EMX2 & IRF3 & IRF4 & IRF5 & TCF7L1 & DUXA & DLX6 & MSGN1 & MSANTD3 & FOSL1::JUN & KLF3 & MYB & LHX1 & KLF6 & MAF & LHX5 & MAZ & MAFA & MITF & MXI1 & MYOD1 & MYOG & MZF1 & NFE2L1 & NFIL3 & NFYB & NKX2-5 & NR4A1 & MEIS2(var.2) & MEIS1(var.2) & HES5 & HES7 & CLOCK & FIGLA & FOXA1 & BHLHE22 & ETV5 & FOSL1 & ETV1 & ETV4 & ELF3 & ESRRA & MAX & ELF1 & HES1 & JUN & JUN(var.2) & FOXA3 & LBX1 & TAL1::TCF3 & KLF2 & NFATC3 & SRY & NEUROG2(var.2) & USF1 & TWIST1 & YY2 & USF2 & TEAD4 & TEAD1 & TFAP2C(var.2) & TFAP2A & RBPJ & POU5F1 & PBX3 & SOX10 & ZNF263 & SIX1 & RELB & NRL & JUNB(var.2) & LHX9 & LMX1A & LMX1B & MYF5 & OLIG2 & NKX6-2 & NKX6-1 & NKX2-8 & NKX2-3 & POU6F2 & POU4F1 & POU4F3 & POU3F3 & POU3F4 & POU3F1 & POU3F2 & PAX4 & POU2F1 & SNAI3 & SOHLH2 & SOX12 & SOX14 & RXRB(var.2) & RXRG(var.2) & SMAD5 & SNAI1 & SOX18 & SP9 & NR3C2 & NR3C1 & NR2F1 & BCL6B & RARA(var.2) & RARA & EGR3 & EGR2 & GATA1::TAL1 & STAT3 & STAT1 & IRF7 & HNF1B & TP63 & RXRB & RXRG & BARX2 & BHLHA15(var.2) & BACH2 & POU5F1B & ATOH1(var.2) & ATOH7 & ARNT::HIF1A & CDX4 & CREB3L4 & NKX3-1 & HEY1 & ZNF354C & HAND2 & EBF3 & CEBPG(var.2) & BHLHE22(var.2) & MEF2A & MAFK & BHLHE23 & JUNB & HOXB13 & KLF4 & KLF16 & LHX2 & KLF9 & MAFG & MAFF & DMRT3 & FOXG1 & HSF1 & BACH2(var.2)\\\\\n",
       "\\hline\n",
       "\t TRUE & TRUE & FALSE & TRUE & TRUE & TRUE & FALSE & FALSE & TRUE & FALSE & FALSE & FALSE & FALSE & FALSE & FALSE & FALSE & FALSE & FALSE & TRUE & TRUE & FALSE & TRUE & FALSE & TRUE & FALSE & FALSE & FALSE & FALSE & FALSE & FALSE & FALSE & FALSE & FALSE & TRUE & TRUE & TRUE & TRUE & TRUE & TRUE & TRUE & TRUE & TRUE & TRUE & TRUE & TRUE & FALSE & FALSE & TRUE & FALSE & FALSE & FALSE & FALSE & FALSE & FALSE & TRUE & TRUE & TRUE & FALSE & FALSE & FALSE & TRUE & TRUE & TRUE & FALSE & FALSE & TRUE & FALSE & FALSE & FALSE & TRUE & FALSE & TRUE & TRUE & FALSE & TRUE & FALSE & TRUE & FALSE & FALSE & TRUE & TRUE & TRUE & FALSE & FALSE & TRUE & FALSE & FALSE & TRUE & FALSE & TRUE & TRUE & FALSE & FALSE & TRUE & FALSE & TRUE & TRUE & TRUE & TRUE & TRUE & FALSE & FALSE & FALSE & TRUE & TRUE & FALSE & FALSE & FALSE & FALSE & FALSE & FALSE & TRUE & TRUE & TRUE & FALSE & FALSE & FALSE & FALSE & FALSE & TRUE & TRUE & TRUE & FALSE & FALSE & FALSE & FALSE & FALSE & FALSE & TRUE & TRUE & TRUE & FALSE & FALSE & TRUE & TRUE & FALSE & FALSE & FALSE & FALSE & FALSE & FALSE & FALSE & TRUE & FALSE & TRUE & TRUE & FALSE & FALSE & FALSE & FALSE & FALSE & TRUE & FALSE & FALSE & TRUE & TRUE & TRUE & TRUE & TRUE & TRUE & FALSE & TRUE & TRUE & TRUE & TRUE & FALSE & TRUE & TRUE & TRUE & TRUE & TRUE & FALSE & TRUE & TRUE & TRUE & TRUE & FALSE & TRUE & FALSE & TRUE & FALSE & TRUE & TRUE & FALSE & FALSE & FALSE & FALSE & TRUE & TRUE & FALSE & TRUE & TRUE & FALSE & TRUE & FALSE & FALSE & FALSE & TRUE & TRUE & TRUE & TRUE & FALSE & TRUE & TRUE & FALSE & FALSE & FALSE & FALSE & FALSE & TRUE & TRUE & FALSE & FALSE & TRUE & FALSE & FALSE & FALSE & FALSE & TRUE & FALSE & TRUE & TRUE & FALSE & FALSE & FALSE & FALSE & FALSE & FALSE & FALSE & FALSE & FALSE & FALSE & FALSE & TRUE & FALSE & FALSE & FALSE & FALSE & FALSE & FALSE & FALSE & TRUE & FALSE & TRUE & TRUE & FALSE & TRUE & TRUE & FALSE & TRUE & TRUE & TRUE & TRUE & FALSE & TRUE & TRUE & TRUE & FALSE & TRUE & FALSE & TRUE & TRUE & TRUE & TRUE & FALSE & TRUE & TRUE & TRUE & FALSE & TRUE & FALSE & FALSE & FALSE & FALSE & FALSE & TRUE & TRUE & TRUE & TRUE & FALSE & FALSE & TRUE & TRUE & TRUE & TRUE & FALSE & TRUE & TRUE & FALSE & TRUE & TRUE & FALSE & FALSE & FALSE & FALSE & FALSE & FALSE & FALSE & TRUE & FALSE & FALSE & TRUE & FALSE & FALSE & FALSE & FALSE & TRUE & TRUE & TRUE & TRUE & FALSE & FALSE & FALSE & FALSE & FALSE & TRUE & TRUE & FALSE & TRUE & TRUE & TRUE & TRUE & TRUE & TRUE & TRUE & FALSE & TRUE & TRUE & FALSE & FALSE & FALSE & TRUE & TRUE & FALSE & TRUE & TRUE & TRUE & TRUE & FALSE & TRUE & TRUE & TRUE & TRUE & TRUE & TRUE & TRUE & TRUE & TRUE & TRUE & FALSE & FALSE & TRUE & TRUE & FALSE & FALSE & TRUE & TRUE & TRUE & FALSE & TRUE & TRUE & TRUE & TRUE & FALSE & FALSE & TRUE & TRUE & TRUE & TRUE & TRUE & TRUE & FALSE & FALSE & FALSE & FALSE & FALSE & FALSE & FALSE & FALSE & TRUE & FALSE & TRUE & FALSE & TRUE & FALSE & TRUE & FALSE & TRUE & FALSE & FALSE & FALSE & TRUE & TRUE & TRUE & FALSE & FALSE & FALSE & FALSE & TRUE & TRUE & FALSE & TRUE & TRUE & TRUE & TRUE & TRUE & FALSE & FALSE & TRUE & TRUE & FALSE & TRUE & FALSE & FALSE & TRUE & TRUE & FALSE & FALSE & FALSE & FALSE & FALSE & TRUE & TRUE & TRUE & FALSE & TRUE & TRUE & TRUE & FALSE & FALSE & TRUE & TRUE & TRUE & FALSE & FALSE & FALSE & FALSE & TRUE & FALSE & TRUE & TRUE & TRUE & TRUE & FALSE & FALSE & FALSE & TRUE & FALSE & TRUE & TRUE & TRUE & FALSE & TRUE & TRUE & FALSE & TRUE & TRUE & TRUE & TRUE & FALSE & TRUE & FALSE & TRUE & FALSE & TRUE & TRUE & FALSE & FALSE & TRUE & FALSE & TRUE & TRUE & FALSE & TRUE & TRUE & FALSE & TRUE & FALSE & FALSE & TRUE & TRUE & TRUE & TRUE & TRUE & TRUE & FALSE & FALSE & FALSE & FALSE & FALSE & FALSE & TRUE & FALSE & FALSE & FALSE & FALSE & TRUE & TRUE & TRUE & FALSE & TRUE & TRUE & TRUE & TRUE & FALSE & FALSE & TRUE & FALSE & FALSE & TRUE & FALSE & FALSE & FALSE & TRUE & TRUE & TRUE & FALSE & TRUE & FALSE & FALSE & FALSE & FALSE & FALSE & TRUE & TRUE & TRUE & FALSE & FALSE & FALSE & TRUE & FALSE & FALSE & TRUE & FALSE & TRUE & FALSE & FALSE & TRUE & FALSE & TRUE & FALSE & FALSE & TRUE & TRUE & FALSE & FALSE & TRUE & TRUE & TRUE & TRUE & TRUE & FALSE & FALSE & TRUE & TRUE & TRUE & TRUE & FALSE & TRUE & TRUE & TRUE & FALSE & FALSE & FALSE & FALSE & FALSE & FALSE & TRUE & FALSE & FALSE & FALSE & FALSE & FALSE & FALSE & FALSE & FALSE & FALSE & FALSE & FALSE & FALSE & FALSE & FALSE & TRUE & TRUE & TRUE & FALSE & FALSE & FALSE & FALSE & TRUE & FALSE & TRUE & TRUE & FALSE & TRUE & FALSE & TRUE & TRUE & TRUE & TRUE & FALSE & FALSE & FALSE & FALSE & FALSE & TRUE & TRUE & TRUE & TRUE & TRUE & FALSE & FALSE & TRUE & FALSE & TRUE & FALSE & TRUE & TRUE & TRUE & TRUE & TRUE & TRUE & TRUE & TRUE & TRUE & FALSE & FALSE & FALSE & TRUE & TRUE & TRUE & TRUE & TRUE & FALSE & FALSE & FALSE & FALSE & TRUE & FALSE\\\\\n",
       "\\end{tabular}\n"
      ],
      "text/markdown": [
       "\n",
       "A matrix: 1 × 639 of type lgl\n",
       "\n",
       "| THRB | THAP11 | TFAP4(var.2) | TFAP2E | TGIF2LY | TGIF2LX | TBX3 | TBX18 | TCF21(var.2) | TBX6 | ⋯ | KLF4 | KLF16 | LHX2 | KLF9 | MAFG | MAFF | DMRT3 | FOXG1 | HSF1 | BACH2(var.2) |\n",
       "|---|---|---|---|---|---|---|---|---|---|---|---|---|---|---|---|---|---|---|---|---|\n",
       "| TRUE | TRUE | FALSE | TRUE | TRUE | TRUE | FALSE | FALSE | TRUE | FALSE | ⋯ | TRUE | TRUE | TRUE | TRUE | FALSE | FALSE | FALSE | FALSE | TRUE | FALSE |\n",
       "\n"
      ],
      "text/plain": [
       "     THRB THAP11 TFAP4(var.2) TFAP2E TGIF2LY TGIF2LX TBX3  TBX18 TCF21(var.2)\n",
       "[1,] TRUE TRUE   FALSE        TRUE   TRUE    TRUE    FALSE FALSE TRUE        \n",
       "     TBX6  ⋯ KLF4 KLF16 LHX2 KLF9 MAFG  MAFF  DMRT3 FOXG1 HSF1 BACH2(var.2)\n",
       "[1,] FALSE ⋯ TRUE TRUE  TRUE TRUE FALSE FALSE FALSE FALSE TRUE FALSE       "
      ]
     },
     "metadata": {},
     "output_type": "display_data"
    }
   ],
   "source": [
    "feature_motif_matches[19044,] %>% t\n"
   ]
  },
  {
   "cell_type": "raw",
   "metadata": {},
   "source": [
    "shank3_motif_ix <- matchMotifs(JASPAR2020_CORE, shank_all, genome = BSgenome.Hsapiens.UCSC.hg38)"
   ]
  },
  {
   "cell_type": "code",
   "execution_count": 470,
   "metadata": {},
   "outputs": [],
   "source": [
    "shank3_motif_mx <- motifMatches(shank3_motif_ix)"
   ]
  },
  {
   "cell_type": "code",
   "execution_count": 477,
   "metadata": {},
   "outputs": [],
   "source": [
    "all_motif_names <- colnames(shank3_motif_mx)"
   ]
  },
  {
   "cell_type": "code",
   "execution_count": 482,
   "metadata": {},
   "outputs": [],
   "source": [
    "shank3_promoter_motifs <- all_motif_names[which(shank3_motif_mx[1,])]\n",
    "shank3_promoter_motifs.df <- JASPAR2020_CORE_META %>% filter(Name %in% shank3_promoter_motifs)"
   ]
  },
  {
   "cell_type": "code",
   "execution_count": 496,
   "metadata": {},
   "outputs": [],
   "source": [
    "shank3_utr_motifs <- c()\n",
    "for (id in which(shank_all$feature == \"UTR\")) {\n",
    "    shank3_utr_motifs <- c(shank3_utr_motifs, all_motif_names[which(shank3_motif_mx[id,])])\n",
    "}\n",
    "shank3_utr_motifs <- unique(shank3_utr_motifs)\n",
    "shank3_utr_motifs.df <- JASPAR2020_CORE_META %>% filter(Name %in% shank3_utr_motifs)"
   ]
  },
  {
   "cell_type": "code",
   "execution_count": 500,
   "metadata": {},
   "outputs": [],
   "source": [
    "shank3_intron_motifs <- c()\n",
    "for (id in which(shank_all$feature == \"intron\")) {\n",
    "    shank3_intron_motifs <- c(shank3_intron_motifs, all_motif_names[which(shank3_motif_mx[id,])])\n",
    "}\n",
    "shank3_intron_motifs <- unique(shank3_intron_motifs)\n",
    "shank3_intron_motifs.df <- JASPAR2020_CORE_META %>% filter(Name %in% shank3_intron_motifs)"
   ]
  },
  {
   "cell_type": "code",
   "execution_count": 502,
   "metadata": {},
   "outputs": [],
   "source": [
    "shank3_exon_motifs <- c()\n",
    "for (id in which(shank_all$feature == \"exon\")) {\n",
    "    shank3_exon_motifs <- c(shank3_exon_motifs, all_motif_names[which(shank3_motif_mx[id,])])\n",
    "}\n",
    "shank3_exon_motifs <- unique(shank3_exon_motifs)\n",
    "shank3_exon_motifs.df <- JASPAR2020_CORE_META %>% filter(Name %in% shank3_exon_motifs)"
   ]
  },
  {
   "cell_type": "code",
   "execution_count": 504,
   "metadata": {},
   "outputs": [],
   "source": [
    "shank3.motifs.df <- list(\"promoter\" = shank3_promoter_motifs.df, \"utr\" = shank3_utr_motifs.df, \"intron\" = shank3_intron_motifs.df, \"exon\" = shank3_exon_motifs.df)"
   ]
  },
  {
   "cell_type": "code",
   "execution_count": 506,
   "metadata": {},
   "outputs": [],
   "source": [
    "WriteXLS(shank3.motifs.df, ExcelFileName = \"SHANK3_matching_JASPAR_MOTIFS_by_feature.xls\")"
   ]
  },
  {
   "cell_type": "code",
   "execution_count": null,
   "metadata": {},
   "outputs": [],
   "source": [
    "Bioc"
   ]
  }
 ],
 "metadata": {
  "kernelspec": {
   "display_name": "R3.6",
   "language": "R",
   "name": "ir36"
  },
  "language_info": {
   "codemirror_mode": "r",
   "file_extension": ".r",
   "mimetype": "text/x-r-source",
   "name": "R",
   "pygments_lexer": "r",
   "version": "3.6.1"
  }
 },
 "nbformat": 4,
 "nbformat_minor": 2
}
