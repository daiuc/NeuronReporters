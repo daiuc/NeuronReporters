{
 "cells": [
  {
   "cell_type": "markdown",
   "metadata": {},
   "source": [
    "# This Notebook uses ATAC-seq generated data\n",
    "\n",
    "Refer to `ATAC-py.ipynb` for prior data analysis pipeline"
   ]
  },
  {
   "cell_type": "code",
   "execution_count": 123,
   "metadata": {
    "ExecuteTime": {
     "end_time": "2019-09-17T02:15:50.661046Z",
     "start_time": "2019-09-17T02:15:50.627Z"
    }
   },
   "outputs": [],
   "source": [
    "library(repr)\n",
    "options(repr.plot.width=7, repr.plot.height=7)"
   ]
  },
  {
   "cell_type": "code",
   "execution_count": 2,
   "metadata": {
    "ExecuteTime": {
     "end_time": "2019-08-25T20:11:13.790787Z",
     "start_time": "2019-08-25T20:11:11.794Z"
    }
   },
   "outputs": [
    {
     "name": "stderr",
     "output_type": "stream",
     "text": [
      "Bioconductor version 3.9 (BiocManager 1.30.4), R 3.6.1 (2019-07-05)\n",
      "Installing package(s) 'DiffBind'\n",
      "also installing the dependencies ‘GSEABase’, ‘hwriter’, ‘Category’, ‘graph’, ‘RBGL’, ‘AnnotationForge’, ‘Rgraphviz’, ‘base64url’, ‘rappdirs’, ‘ShortRead’, ‘rjson’, ‘GOstats’, ‘batchtools’, ‘amap’, ‘systemPipeR’\n",
      "\n",
      "Warning message in install.packages(pkgs = doing, lib = lib, repos = repos, ...):\n",
      "“installation of package ‘DiffBind’ had non-zero exit status”installation path not writeable, unable to update packages: AnnotationDbi,\n",
      "  backports, BiocManager, BiocParallel, biomaRt, boot, callr, curl, data.table,\n",
      "  devtools, digest, ellipsis, foreign, GenomicRanges, ggplot2, hms, htmltools,\n",
      "  htmlwidgets, httpuv, httr, IRanges, lambda.r, later, limma, matrixStats,\n",
      "  mgcv, nlme, pbapply, pkgbuild, pkgconfig, promises, Rcpp, reticulate,\n",
      "  Rhtslib, Rsamtools, RSQLite, rsvd, rtracklayer, S4Vectors, Seurat, shiny,\n",
      "  sys, tidyr, vegan, whisker\n",
      "Update old packages: 'KEGGREST', 'RcppArmadillo'\n"
     ]
    }
   ],
   "source": [
    "if (!requireNamespace(\"BiocManager\", quietly = TRUE))\n",
    "    install.packages(\"BiocManager\")\n",
    "\n",
    "BiocManager::install(\"DiffBind\")"
   ]
  },
  {
   "cell_type": "code",
   "execution_count": 5,
   "metadata": {
    "ExecuteTime": {
     "end_time": "2019-10-16T17:58:42.930014Z",
     "start_time": "2019-10-16T17:58:41.027Z"
    }
   },
   "outputs": [
    {
     "name": "stderr",
     "output_type": "stream",
     "text": [
      "── \u001b[1mAttaching packages\u001b[22m ─────────────────────────────────────── tidyverse 1.2.1 ──\n",
      "\u001b[32m✔\u001b[39m \u001b[34mggplot2\u001b[39m 3.2.1     \u001b[32m✔\u001b[39m \u001b[34mpurrr  \u001b[39m 0.3.2\n",
      "\u001b[32m✔\u001b[39m \u001b[34mtibble \u001b[39m 2.1.3     \u001b[32m✔\u001b[39m \u001b[34mdplyr  \u001b[39m 0.8.3\n",
      "\u001b[32m✔\u001b[39m \u001b[34mtidyr  \u001b[39m 0.8.3     \u001b[32m✔\u001b[39m \u001b[34mstringr\u001b[39m 1.4.0\n",
      "\u001b[32m✔\u001b[39m \u001b[34mreadr  \u001b[39m 1.3.1     \u001b[32m✔\u001b[39m \u001b[34mforcats\u001b[39m 0.4.0\n",
      "── \u001b[1mConflicts\u001b[22m ────────────────────────────────────────── tidyverse_conflicts() ──\n",
      "\u001b[31m✖\u001b[39m \u001b[34mdplyr\u001b[39m::\u001b[32mfilter()\u001b[39m masks \u001b[34mstats\u001b[39m::filter()\n",
      "\u001b[31m✖\u001b[39m \u001b[34mdplyr\u001b[39m::\u001b[32mlag()\u001b[39m    masks \u001b[34mstats\u001b[39m::lag()\n"
     ]
    }
   ],
   "source": [
    "library(tidyverse)"
   ]
  },
  {
   "cell_type": "code",
   "execution_count": 6,
   "metadata": {
    "ExecuteTime": {
     "end_time": "2019-10-16T17:58:53.752755Z",
     "start_time": "2019-10-16T17:58:41.265Z"
    },
    "scrolled": true
   },
   "outputs": [
    {
     "name": "stderr",
     "output_type": "stream",
     "text": [
      "Loading required package: S4Vectors\n",
      "Loading required package: stats4\n",
      "Loading required package: BiocGenerics\n",
      "Loading required package: parallel\n",
      "\n",
      "Attaching package: ‘BiocGenerics’\n",
      "\n",
      "The following objects are masked from ‘package:parallel’:\n",
      "\n",
      "    clusterApply, clusterApplyLB, clusterCall, clusterEvalQ,\n",
      "    clusterExport, clusterMap, parApply, parCapply, parLapply,\n",
      "    parLapplyLB, parRapply, parSapply, parSapplyLB\n",
      "\n",
      "The following objects are masked from ‘package:dplyr’:\n",
      "\n",
      "    combine, intersect, setdiff, union\n",
      "\n",
      "The following objects are masked from ‘package:stats’:\n",
      "\n",
      "    IQR, mad, sd, var, xtabs\n",
      "\n",
      "The following objects are masked from ‘package:base’:\n",
      "\n",
      "    anyDuplicated, append, as.data.frame, basename, cbind, colnames,\n",
      "    dirname, do.call, duplicated, eval, evalq, Filter, Find, get, grep,\n",
      "    grepl, intersect, is.unsorted, lapply, Map, mapply, match, mget,\n",
      "    order, paste, pmax, pmax.int, pmin, pmin.int, Position, rank,\n",
      "    rbind, Reduce, rownames, sapply, setdiff, sort, table, tapply,\n",
      "    union, unique, unsplit, which, which.max, which.min\n",
      "\n",
      "\n",
      "Attaching package: ‘S4Vectors’\n",
      "\n",
      "The following objects are masked from ‘package:dplyr’:\n",
      "\n",
      "    first, rename\n",
      "\n",
      "The following object is masked from ‘package:tidyr’:\n",
      "\n",
      "    expand\n",
      "\n",
      "The following object is masked from ‘package:base’:\n",
      "\n",
      "    expand.grid\n",
      "\n",
      "Loading required package: IRanges\n",
      "\n",
      "Attaching package: ‘IRanges’\n",
      "\n",
      "The following objects are masked from ‘package:dplyr’:\n",
      "\n",
      "    collapse, desc, slice\n",
      "\n",
      "The following object is masked from ‘package:purrr’:\n",
      "\n",
      "    reduce\n",
      "\n",
      "Loading required package: GenomicRanges\n",
      "Loading required package: GenomeInfoDb\n",
      "Loading required package: SummarizedExperiment\n",
      "Loading required package: Biobase\n",
      "Welcome to Bioconductor\n",
      "\n",
      "    Vignettes contain introductory material; view with\n",
      "    'browseVignettes()'. To cite Bioconductor, see\n",
      "    'citation(\"Biobase\")', and for packages 'citation(\"pkgname\")'.\n",
      "\n",
      "Loading required package: DelayedArray\n",
      "Loading required package: matrixStats\n",
      "\n",
      "Attaching package: ‘matrixStats’\n",
      "\n",
      "The following objects are masked from ‘package:Biobase’:\n",
      "\n",
      "    anyMissing, rowMedians\n",
      "\n",
      "The following object is masked from ‘package:dplyr’:\n",
      "\n",
      "    count\n",
      "\n",
      "Loading required package: BiocParallel\n",
      "\n",
      "Attaching package: ‘DelayedArray’\n",
      "\n",
      "The following objects are masked from ‘package:matrixStats’:\n",
      "\n",
      "    colMaxs, colMins, colRanges, rowMaxs, rowMins, rowRanges\n",
      "\n",
      "The following object is masked from ‘package:purrr’:\n",
      "\n",
      "    simplify\n",
      "\n",
      "The following objects are masked from ‘package:base’:\n",
      "\n",
      "    aperm, apply, rowsum\n",
      "\n",
      "Loading required package: ggrepel\n"
     ]
    }
   ],
   "source": [
    "library(DESeq2)\n",
    "library(apeglm)\n",
    "library(EnhancedVolcano)\n",
    "library(pheatmap)"
   ]
  },
  {
   "cell_type": "code",
   "execution_count": 12,
   "metadata": {},
   "outputs": [
    {
     "data": {
      "text/html": [
       "<ol class=list-inline>\n",
       "\t<li>'ATAC_genebody_NumberofPeaks.txt'</li>\n",
       "\t<li>'ATAC_genebody_Peak_rawreadcounts.txt'</li>\n",
       "\t<li>'ATAC_Promoter_NumberofPeaks.txt'</li>\n",
       "\t<li>'ATAC_Promoter_Peak_rawreadcounts.txt'</li>\n",
       "</ol>\n"
      ],
      "text/latex": [
       "\\begin{enumerate*}\n",
       "\\item 'ATAC\\_genebody\\_NumberofPeaks.txt'\n",
       "\\item 'ATAC\\_genebody\\_Peak\\_rawreadcounts.txt'\n",
       "\\item 'ATAC\\_Promoter\\_NumberofPeaks.txt'\n",
       "\\item 'ATAC\\_Promoter\\_Peak\\_rawreadcounts.txt'\n",
       "\\end{enumerate*}\n"
      ],
      "text/markdown": [
       "1. 'ATAC_genebody_NumberofPeaks.txt'\n",
       "2. 'ATAC_genebody_Peak_rawreadcounts.txt'\n",
       "3. 'ATAC_Promoter_NumberofPeaks.txt'\n",
       "4. 'ATAC_Promoter_Peak_rawreadcounts.txt'\n",
       "\n",
       "\n"
      ],
      "text/plain": [
       "[1] \"ATAC_genebody_NumberofPeaks.txt\"     \n",
       "[2] \"ATAC_genebody_Peak_rawreadcounts.txt\"\n",
       "[3] \"ATAC_Promoter_NumberofPeaks.txt\"     \n",
       "[4] \"ATAC_Promoter_Peak_rawreadcounts.txt\""
      ]
     },
     "metadata": {},
     "output_type": "display_data"
    }
   ],
   "source": [
    "list.files('.', '(readcounts)|(Peaks).txt')"
   ]
  },
  {
   "cell_type": "markdown",
   "metadata": {},
   "source": [
    "# Promoter region DESeq\n",
    "\n"
   ]
  },
  {
   "cell_type": "code",
   "execution_count": 1,
   "metadata": {
    "ExecuteTime": {
     "end_time": "2019-10-16T17:52:23.004997Z",
     "start_time": "2019-10-16T17:52:22.784Z"
    }
   },
   "outputs": [],
   "source": [
    "setwd('/gpfs/commons/groups/sanjana_lab/cdai/TFscreen/atac/')"
   ]
  },
  {
   "cell_type": "code",
   "execution_count": 43,
   "metadata": {
    "ExecuteTime": {
     "end_time": "2019-10-16T18:11:36.579308Z",
     "start_time": "2019-10-16T18:11:36.382Z"
    }
   },
   "outputs": [],
   "source": [
    "peak_cnts_pro <- read.table(\"diffbind_consensu_min2overlap_readcounts_promoterRegion.txt\", header=F, stringsAsFactors = F)"
   ]
  },
  {
   "cell_type": "code",
   "execution_count": 44,
   "metadata": {
    "ExecuteTime": {
     "end_time": "2019-10-16T18:11:38.146651Z",
     "start_time": "2019-10-16T18:11:38.121Z"
    }
   },
   "outputs": [],
   "source": [
    "peak_cnts_pro <- peak_cnts_pro %>% select(19,4:15)"
   ]
  },
  {
   "cell_type": "code",
   "execution_count": 45,
   "metadata": {
    "ExecuteTime": {
     "end_time": "2019-10-16T18:11:43.359876Z",
     "start_time": "2019-10-16T18:11:43.333Z"
    }
   },
   "outputs": [],
   "source": [
    "colnames(peak_cnts_pro) <- c(\"gene_id\",\"A1\", \"A2\", \"A3\",\"A4\",\"A5\",\"A6\",\"A7\",\"A8\",\"A9\",\"A10\",\"A11\",\"A12\")"
   ]
  },
  {
   "cell_type": "code",
   "execution_count": 57,
   "metadata": {
    "ExecuteTime": {
     "end_time": "2019-10-16T18:22:33.547270Z",
     "start_time": "2019-10-16T18:22:32.721Z"
    }
   },
   "outputs": [],
   "source": [
    "peak_cnts_pro <- peak_cnts_pro %>% group_by(gene_id) %>% summarise_all(sum) # group peaks into one gene per row"
   ]
  },
  {
   "cell_type": "code",
   "execution_count": 59,
   "metadata": {
    "ExecuteTime": {
     "end_time": "2019-10-16T18:22:48.233248Z",
     "start_time": "2019-10-16T18:22:48.198Z"
    }
   },
   "outputs": [],
   "source": [
    "peak_cnts_pro <- peak_cnts_pro %>% column_to_rownames('gene_id') # column to row"
   ]
  },
  {
   "cell_type": "code",
   "execution_count": 60,
   "metadata": {
    "ExecuteTime": {
     "end_time": "2019-10-16T18:22:56.111369Z",
     "start_time": "2019-10-16T18:22:56.073Z"
    }
   },
   "outputs": [
    {
     "name": "stdout",
     "output_type": "stream",
     "text": [
      "'data.frame':\t13196 obs. of  12 variables:\n",
      " $ A1 : int  48 168 60 151 349 167 75 119 120 168 ...\n",
      " $ A2 : int  45 127 33 111 245 125 76 76 106 133 ...\n",
      " $ A3 : int  48 126 37 128 237 117 85 101 97 127 ...\n",
      " $ A4 : int  51 97 65 96 240 138 53 108 93 123 ...\n",
      " $ A5 : int  47 191 54 105 278 178 59 82 72 152 ...\n",
      " $ A6 : int  64 251 73 186 328 253 95 118 124 278 ...\n",
      " $ A7 : int  25 124 67 107 227 135 62 117 70 168 ...\n",
      " $ A8 : int  66 185 74 139 360 198 129 118 63 262 ...\n",
      " $ A9 : int  104 375 162 268 726 367 222 222 204 501 ...\n",
      " $ A10: int  72 248 71 171 489 237 119 173 84 303 ...\n",
      " $ A11: int  121 331 39 176 757 214 291 292 134 417 ...\n",
      " $ A12: int  87 296 15 131 719 207 237 279 149 379 ...\n"
     ]
    }
   ],
   "source": [
    "peak_cnts_pro %>% str"
   ]
  },
  {
   "cell_type": "code",
   "execution_count": 22,
   "metadata": {
    "ExecuteTime": {
     "end_time": "2019-10-16T18:03:36.122137Z",
     "start_time": "2019-10-16T18:03:36.086Z"
    }
   },
   "outputs": [],
   "source": [
    "all.sample.annotation <- read.table('ATACseqSampleName.csv', stringsAsFactors=F, col.names = c('sample', 'group'))"
   ]
  },
  {
   "cell_type": "code",
   "execution_count": 63,
   "metadata": {
    "ExecuteTime": {
     "end_time": "2019-10-16T18:23:16.927159Z",
     "start_time": "2019-10-16T18:23:16.886Z"
    }
   },
   "outputs": [
    {
     "data": {
      "text/html": [
       "<table>\n",
       "<caption>A matrix: 2 × 12 of type chr</caption>\n",
       "<tbody>\n",
       "\t<tr><th scope=row>sample</th><td>A1</td><td>A2</td><td>A3</td><td>A4</td><td>A5</td><td>A6</td><td>A7 </td><td>A8 </td><td>A9 </td><td>A10</td><td>A11</td><td>A12</td></tr>\n",
       "\t<tr><th scope=row>group</th><td>ES</td><td>ES</td><td>H1</td><td>H1</td><td>H4</td><td>H4</td><td>H16</td><td>H16</td><td>H24</td><td>H24</td><td>D5 </td><td>D5 </td></tr>\n",
       "</tbody>\n",
       "</table>\n"
      ],
      "text/latex": [
       "A matrix: 2 × 12 of type chr\n",
       "\\begin{tabular}{r|llllllllllll}\n",
       "\tsample & A1 & A2 & A3 & A4 & A5 & A6 & A7  & A8  & A9  & A10 & A11 & A12\\\\\n",
       "\tgroup & ES & ES & H1 & H1 & H4 & H4 & H16 & H16 & H24 & H24 & D5  & D5 \\\\\n",
       "\\end{tabular}\n"
      ],
      "text/markdown": [
       "\n",
       "A matrix: 2 × 12 of type chr\n",
       "\n",
       "| sample | A1 | A2 | A3 | A4 | A5 | A6 | A7  | A8  | A9  | A10 | A11 | A12 |\n",
       "| group | ES | ES | H1 | H1 | H4 | H4 | H16 | H16 | H24 | H24 | D5  | D5  |\n",
       "\n"
      ],
      "text/plain": [
       "       [,1] [,2] [,3] [,4] [,5] [,6] [,7] [,8] [,9] [,10] [,11] [,12]\n",
       "sample A1   A2   A3   A4   A5   A6   A7   A8   A9   A10   A11   A12  \n",
       "group  ES   ES   H1   H1   H4   H4   H16  H16  H24  H24   D5    D5   "
      ]
     },
     "metadata": {},
     "output_type": "display_data"
    }
   ],
   "source": [
    "all.sample.annotation %>% t"
   ]
  },
  {
   "cell_type": "code",
   "execution_count": 64,
   "metadata": {
    "ExecuteTime": {
     "end_time": "2019-10-16T18:23:21.635108Z",
     "start_time": "2019-10-16T18:23:21.611Z"
    }
   },
   "outputs": [],
   "source": [
    "# sample names for WT at different time points: 15H , 1D, 2D, 4D, 7D\n",
    "cols3 <- all.sample.annotation %>% pull(sample)"
   ]
  },
  {
   "cell_type": "code",
   "execution_count": 68,
   "metadata": {
    "ExecuteTime": {
     "end_time": "2019-10-16T18:24:12.701563Z",
     "start_time": "2019-10-16T18:24:12.674Z"
    }
   },
   "outputs": [],
   "source": [
    "cnts3 <- peak_cnts_pro[,cols3]"
   ]
  },
  {
   "cell_type": "code",
   "execution_count": 29,
   "metadata": {
    "ExecuteTime": {
     "end_time": "2019-10-16T18:06:26.494490Z",
     "start_time": "2019-10-16T18:06:24.013Z"
    }
   },
   "outputs": [],
   "source": [
    "gtf_lookup = read.csv('/gpfs/commons/groups/sanjana_lab/cdai/ref_genome/gencode.v31.primary_assembly.annotation.gene_idTOgene_name.txt') #gencode gene_id to gene_name lookup"
   ]
  },
  {
   "cell_type": "code",
   "execution_count": 69,
   "metadata": {
    "ExecuteTime": {
     "end_time": "2019-10-16T18:24:14.879064Z",
     "start_time": "2019-10-16T18:24:14.837Z"
    }
   },
   "outputs": [
    {
     "data": {
      "text/html": [
       "<table>\n",
       "<caption>A data.frame: 6 × 12</caption>\n",
       "<thead>\n",
       "\t<tr><th></th><th scope=col>A1</th><th scope=col>A2</th><th scope=col>A3</th><th scope=col>A4</th><th scope=col>A5</th><th scope=col>A6</th><th scope=col>A7</th><th scope=col>A8</th><th scope=col>A9</th><th scope=col>A10</th><th scope=col>A11</th><th scope=col>A12</th></tr>\n",
       "\t<tr><th></th><th scope=col>&lt;int&gt;</th><th scope=col>&lt;int&gt;</th><th scope=col>&lt;int&gt;</th><th scope=col>&lt;int&gt;</th><th scope=col>&lt;int&gt;</th><th scope=col>&lt;int&gt;</th><th scope=col>&lt;int&gt;</th><th scope=col>&lt;int&gt;</th><th scope=col>&lt;int&gt;</th><th scope=col>&lt;int&gt;</th><th scope=col>&lt;int&gt;</th><th scope=col>&lt;int&gt;</th></tr>\n",
       "</thead>\n",
       "<tbody>\n",
       "\t<tr><th scope=row>ENSG00000000419.12</th><td> 48</td><td> 45</td><td> 48</td><td> 51</td><td> 47</td><td> 64</td><td> 25</td><td> 66</td><td>104</td><td> 72</td><td>121</td><td> 87</td></tr>\n",
       "\t<tr><th scope=row>ENSG00000000457.14</th><td>168</td><td>127</td><td>126</td><td> 97</td><td>191</td><td>251</td><td>124</td><td>185</td><td>375</td><td>248</td><td>331</td><td>296</td></tr>\n",
       "\t<tr><th scope=row>ENSG00000000971.15</th><td> 60</td><td> 33</td><td> 37</td><td> 65</td><td> 54</td><td> 73</td><td> 67</td><td> 74</td><td>162</td><td> 71</td><td> 39</td><td> 15</td></tr>\n",
       "\t<tr><th scope=row>ENSG00000001036.13</th><td>151</td><td>111</td><td>128</td><td> 96</td><td>105</td><td>186</td><td>107</td><td>139</td><td>268</td><td>171</td><td>176</td><td>131</td></tr>\n",
       "\t<tr><th scope=row>ENSG00000001167.14</th><td>349</td><td>245</td><td>237</td><td>240</td><td>278</td><td>328</td><td>227</td><td>360</td><td>726</td><td>489</td><td>757</td><td>719</td></tr>\n",
       "\t<tr><th scope=row>ENSG00000001461.17</th><td>167</td><td>125</td><td>117</td><td>138</td><td>178</td><td>253</td><td>135</td><td>198</td><td>367</td><td>237</td><td>214</td><td>207</td></tr>\n",
       "</tbody>\n",
       "</table>\n"
      ],
      "text/latex": [
       "A data.frame: 6 × 12\n",
       "\\begin{tabular}{r|llllllllllll}\n",
       "  & A1 & A2 & A3 & A4 & A5 & A6 & A7 & A8 & A9 & A10 & A11 & A12\\\\\n",
       "  & <int> & <int> & <int> & <int> & <int> & <int> & <int> & <int> & <int> & <int> & <int> & <int>\\\\\n",
       "\\hline\n",
       "\tENSG00000000419.12 &  48 &  45 &  48 &  51 &  47 &  64 &  25 &  66 & 104 &  72 & 121 &  87\\\\\n",
       "\tENSG00000000457.14 & 168 & 127 & 126 &  97 & 191 & 251 & 124 & 185 & 375 & 248 & 331 & 296\\\\\n",
       "\tENSG00000000971.15 &  60 &  33 &  37 &  65 &  54 &  73 &  67 &  74 & 162 &  71 &  39 &  15\\\\\n",
       "\tENSG00000001036.13 & 151 & 111 & 128 &  96 & 105 & 186 & 107 & 139 & 268 & 171 & 176 & 131\\\\\n",
       "\tENSG00000001167.14 & 349 & 245 & 237 & 240 & 278 & 328 & 227 & 360 & 726 & 489 & 757 & 719\\\\\n",
       "\tENSG00000001461.17 & 167 & 125 & 117 & 138 & 178 & 253 & 135 & 198 & 367 & 237 & 214 & 207\\\\\n",
       "\\end{tabular}\n"
      ],
      "text/markdown": [
       "\n",
       "A data.frame: 6 × 12\n",
       "\n",
       "| <!--/--> | A1 &lt;int&gt; | A2 &lt;int&gt; | A3 &lt;int&gt; | A4 &lt;int&gt; | A5 &lt;int&gt; | A6 &lt;int&gt; | A7 &lt;int&gt; | A8 &lt;int&gt; | A9 &lt;int&gt; | A10 &lt;int&gt; | A11 &lt;int&gt; | A12 &lt;int&gt; |\n",
       "|---|---|---|---|---|---|---|---|---|---|---|---|---|\n",
       "| ENSG00000000419.12 |  48 |  45 |  48 |  51 |  47 |  64 |  25 |  66 | 104 |  72 | 121 |  87 |\n",
       "| ENSG00000000457.14 | 168 | 127 | 126 |  97 | 191 | 251 | 124 | 185 | 375 | 248 | 331 | 296 |\n",
       "| ENSG00000000971.15 |  60 |  33 |  37 |  65 |  54 |  73 |  67 |  74 | 162 |  71 |  39 |  15 |\n",
       "| ENSG00000001036.13 | 151 | 111 | 128 |  96 | 105 | 186 | 107 | 139 | 268 | 171 | 176 | 131 |\n",
       "| ENSG00000001167.14 | 349 | 245 | 237 | 240 | 278 | 328 | 227 | 360 | 726 | 489 | 757 | 719 |\n",
       "| ENSG00000001461.17 | 167 | 125 | 117 | 138 | 178 | 253 | 135 | 198 | 367 | 237 | 214 | 207 |\n",
       "\n"
      ],
      "text/plain": [
       "                   A1  A2  A3  A4  A5  A6  A7  A8  A9  A10 A11 A12\n",
       "ENSG00000000419.12  48  45  48  51  47  64  25  66 104  72 121  87\n",
       "ENSG00000000457.14 168 127 126  97 191 251 124 185 375 248 331 296\n",
       "ENSG00000000971.15  60  33  37  65  54  73  67  74 162  71  39  15\n",
       "ENSG00000001036.13 151 111 128  96 105 186 107 139 268 171 176 131\n",
       "ENSG00000001167.14 349 245 237 240 278 328 227 360 726 489 757 719\n",
       "ENSG00000001461.17 167 125 117 138 178 253 135 198 367 237 214 207"
      ]
     },
     "metadata": {},
     "output_type": "display_data"
    }
   ],
   "source": [
    "cnts3 %>% head"
   ]
  },
  {
   "cell_type": "code",
   "execution_count": 70,
   "metadata": {
    "ExecuteTime": {
     "end_time": "2019-10-16T18:24:35.777970Z",
     "start_time": "2019-10-16T18:24:35.751Z"
    }
   },
   "outputs": [],
   "source": [
    "gene_ids3 = rownames_to_column(cnts3,'gene_id')[,1:2]"
   ]
  },
  {
   "cell_type": "code",
   "execution_count": 72,
   "metadata": {
    "ExecuteTime": {
     "end_time": "2019-10-16T18:24:58.551936Z",
     "start_time": "2019-10-16T18:24:58.488Z"
    }
   },
   "outputs": [],
   "source": [
    "gtf_lookup$gene_id <- as.character(gtf_lookup$gene_id)\n",
    "gene_names3 = left_join(gene_ids3, gtf_lookup, 'gene_id') %>% pull(gene_name) %>% as.character"
   ]
  },
  {
   "cell_type": "code",
   "execution_count": 73,
   "metadata": {
    "ExecuteTime": {
     "end_time": "2019-10-16T18:25:00.076255Z",
     "start_time": "2019-10-16T18:25:00.013Z"
    }
   },
   "outputs": [
    {
     "name": "stdout",
     "output_type": "stream",
     "text": [
      " chr [1:13196] \"DPM1\" \"SCYL3\" \"CFH\" \"FUCA2\" \"NFYA\" \"NIPAL3\" \"LAS1L\" \"ENPP4\" ...\n"
     ]
    }
   ],
   "source": [
    "gene_names3 %>% str"
   ]
  },
  {
   "cell_type": "code",
   "execution_count": 74,
   "metadata": {
    "ExecuteTime": {
     "end_time": "2019-10-16T18:25:06.031623Z",
     "start_time": "2019-10-16T18:25:06.012Z"
    }
   },
   "outputs": [],
   "source": [
    "coldata3 <- all.sample.annotation %>% column_to_rownames('sample')"
   ]
  },
  {
   "cell_type": "code",
   "execution_count": 75,
   "metadata": {
    "ExecuteTime": {
     "end_time": "2019-10-16T18:25:06.500416Z",
     "start_time": "2019-10-16T18:25:06.477Z"
    }
   },
   "outputs": [
    {
     "data": {
      "text/html": [
       "<table>\n",
       "<caption>A matrix: 1 × 12 of type chr</caption>\n",
       "<thead>\n",
       "\t<tr><th></th><th scope=col>A1</th><th scope=col>A2</th><th scope=col>A3</th><th scope=col>A4</th><th scope=col>A5</th><th scope=col>A6</th><th scope=col>A7</th><th scope=col>A8</th><th scope=col>A9</th><th scope=col>A10</th><th scope=col>A11</th><th scope=col>A12</th></tr>\n",
       "</thead>\n",
       "<tbody>\n",
       "\t<tr><th scope=row>group</th><td>ES</td><td>ES</td><td>H1</td><td>H1</td><td>H4</td><td>H4</td><td>H16</td><td>H16</td><td>H24</td><td>H24</td><td>D5</td><td>D5</td></tr>\n",
       "</tbody>\n",
       "</table>\n"
      ],
      "text/latex": [
       "A matrix: 1 × 12 of type chr\n",
       "\\begin{tabular}{r|llllllllllll}\n",
       "  & A1 & A2 & A3 & A4 & A5 & A6 & A7 & A8 & A9 & A10 & A11 & A12\\\\\n",
       "\\hline\n",
       "\tgroup & ES & ES & H1 & H1 & H4 & H4 & H16 & H16 & H24 & H24 & D5 & D5\\\\\n",
       "\\end{tabular}\n"
      ],
      "text/markdown": [
       "\n",
       "A matrix: 1 × 12 of type chr\n",
       "\n",
       "| <!--/--> | A1 | A2 | A3 | A4 | A5 | A6 | A7 | A8 | A9 | A10 | A11 | A12 |\n",
       "|---|---|---|---|---|---|---|---|---|---|---|---|---|\n",
       "| group | ES | ES | H1 | H1 | H4 | H4 | H16 | H16 | H24 | H24 | D5 | D5 |\n",
       "\n"
      ],
      "text/plain": [
       "      A1 A2 A3 A4 A5 A6 A7  A8  A9  A10 A11 A12\n",
       "group ES ES H1 H1 H4 H4 H16 H16 H24 H24 D5  D5 "
      ]
     },
     "metadata": {},
     "output_type": "display_data"
    }
   ],
   "source": [
    "coldata3 %>% t"
   ]
  },
  {
   "cell_type": "code",
   "execution_count": 76,
   "metadata": {
    "ExecuteTime": {
     "end_time": "2019-10-16T18:25:10.636015Z",
     "start_time": "2019-10-16T18:25:10.590Z"
    }
   },
   "outputs": [
    {
     "data": {
      "text/html": [
       "<table>\n",
       "<caption>A data.frame: 6 × 12</caption>\n",
       "<thead>\n",
       "\t<tr><th></th><th scope=col>A1</th><th scope=col>A2</th><th scope=col>A3</th><th scope=col>A4</th><th scope=col>A5</th><th scope=col>A6</th><th scope=col>A7</th><th scope=col>A8</th><th scope=col>A9</th><th scope=col>A10</th><th scope=col>A11</th><th scope=col>A12</th></tr>\n",
       "\t<tr><th></th><th scope=col>&lt;int&gt;</th><th scope=col>&lt;int&gt;</th><th scope=col>&lt;int&gt;</th><th scope=col>&lt;int&gt;</th><th scope=col>&lt;int&gt;</th><th scope=col>&lt;int&gt;</th><th scope=col>&lt;int&gt;</th><th scope=col>&lt;int&gt;</th><th scope=col>&lt;int&gt;</th><th scope=col>&lt;int&gt;</th><th scope=col>&lt;int&gt;</th><th scope=col>&lt;int&gt;</th></tr>\n",
       "</thead>\n",
       "<tbody>\n",
       "\t<tr><th scope=row>ENSG00000000419.12</th><td> 48</td><td> 45</td><td> 48</td><td> 51</td><td> 47</td><td> 64</td><td> 25</td><td> 66</td><td>104</td><td> 72</td><td>121</td><td> 87</td></tr>\n",
       "\t<tr><th scope=row>ENSG00000000457.14</th><td>168</td><td>127</td><td>126</td><td> 97</td><td>191</td><td>251</td><td>124</td><td>185</td><td>375</td><td>248</td><td>331</td><td>296</td></tr>\n",
       "\t<tr><th scope=row>ENSG00000000971.15</th><td> 60</td><td> 33</td><td> 37</td><td> 65</td><td> 54</td><td> 73</td><td> 67</td><td> 74</td><td>162</td><td> 71</td><td> 39</td><td> 15</td></tr>\n",
       "\t<tr><th scope=row>ENSG00000001036.13</th><td>151</td><td>111</td><td>128</td><td> 96</td><td>105</td><td>186</td><td>107</td><td>139</td><td>268</td><td>171</td><td>176</td><td>131</td></tr>\n",
       "\t<tr><th scope=row>ENSG00000001167.14</th><td>349</td><td>245</td><td>237</td><td>240</td><td>278</td><td>328</td><td>227</td><td>360</td><td>726</td><td>489</td><td>757</td><td>719</td></tr>\n",
       "\t<tr><th scope=row>ENSG00000001461.17</th><td>167</td><td>125</td><td>117</td><td>138</td><td>178</td><td>253</td><td>135</td><td>198</td><td>367</td><td>237</td><td>214</td><td>207</td></tr>\n",
       "</tbody>\n",
       "</table>\n"
      ],
      "text/latex": [
       "A data.frame: 6 × 12\n",
       "\\begin{tabular}{r|llllllllllll}\n",
       "  & A1 & A2 & A3 & A4 & A5 & A6 & A7 & A8 & A9 & A10 & A11 & A12\\\\\n",
       "  & <int> & <int> & <int> & <int> & <int> & <int> & <int> & <int> & <int> & <int> & <int> & <int>\\\\\n",
       "\\hline\n",
       "\tENSG00000000419.12 &  48 &  45 &  48 &  51 &  47 &  64 &  25 &  66 & 104 &  72 & 121 &  87\\\\\n",
       "\tENSG00000000457.14 & 168 & 127 & 126 &  97 & 191 & 251 & 124 & 185 & 375 & 248 & 331 & 296\\\\\n",
       "\tENSG00000000971.15 &  60 &  33 &  37 &  65 &  54 &  73 &  67 &  74 & 162 &  71 &  39 &  15\\\\\n",
       "\tENSG00000001036.13 & 151 & 111 & 128 &  96 & 105 & 186 & 107 & 139 & 268 & 171 & 176 & 131\\\\\n",
       "\tENSG00000001167.14 & 349 & 245 & 237 & 240 & 278 & 328 & 227 & 360 & 726 & 489 & 757 & 719\\\\\n",
       "\tENSG00000001461.17 & 167 & 125 & 117 & 138 & 178 & 253 & 135 & 198 & 367 & 237 & 214 & 207\\\\\n",
       "\\end{tabular}\n"
      ],
      "text/markdown": [
       "\n",
       "A data.frame: 6 × 12\n",
       "\n",
       "| <!--/--> | A1 &lt;int&gt; | A2 &lt;int&gt; | A3 &lt;int&gt; | A4 &lt;int&gt; | A5 &lt;int&gt; | A6 &lt;int&gt; | A7 &lt;int&gt; | A8 &lt;int&gt; | A9 &lt;int&gt; | A10 &lt;int&gt; | A11 &lt;int&gt; | A12 &lt;int&gt; |\n",
       "|---|---|---|---|---|---|---|---|---|---|---|---|---|\n",
       "| ENSG00000000419.12 |  48 |  45 |  48 |  51 |  47 |  64 |  25 |  66 | 104 |  72 | 121 |  87 |\n",
       "| ENSG00000000457.14 | 168 | 127 | 126 |  97 | 191 | 251 | 124 | 185 | 375 | 248 | 331 | 296 |\n",
       "| ENSG00000000971.15 |  60 |  33 |  37 |  65 |  54 |  73 |  67 |  74 | 162 |  71 |  39 |  15 |\n",
       "| ENSG00000001036.13 | 151 | 111 | 128 |  96 | 105 | 186 | 107 | 139 | 268 | 171 | 176 | 131 |\n",
       "| ENSG00000001167.14 | 349 | 245 | 237 | 240 | 278 | 328 | 227 | 360 | 726 | 489 | 757 | 719 |\n",
       "| ENSG00000001461.17 | 167 | 125 | 117 | 138 | 178 | 253 | 135 | 198 | 367 | 237 | 214 | 207 |\n",
       "\n"
      ],
      "text/plain": [
       "                   A1  A2  A3  A4  A5  A6  A7  A8  A9  A10 A11 A12\n",
       "ENSG00000000419.12  48  45  48  51  47  64  25  66 104  72 121  87\n",
       "ENSG00000000457.14 168 127 126  97 191 251 124 185 375 248 331 296\n",
       "ENSG00000000971.15  60  33  37  65  54  73  67  74 162  71  39  15\n",
       "ENSG00000001036.13 151 111 128  96 105 186 107 139 268 171 176 131\n",
       "ENSG00000001167.14 349 245 237 240 278 328 227 360 726 489 757 719\n",
       "ENSG00000001461.17 167 125 117 138 178 253 135 198 367 237 214 207"
      ]
     },
     "metadata": {},
     "output_type": "display_data"
    }
   ],
   "source": [
    "cnts3 %>% head"
   ]
  },
  {
   "cell_type": "code",
   "execution_count": 77,
   "metadata": {
    "ExecuteTime": {
     "end_time": "2019-10-16T18:25:14.962313Z",
     "start_time": "2019-10-16T18:25:14.926Z"
    }
   },
   "outputs": [
    {
     "data": {
      "text/html": [
       "<table>\n",
       "<caption>A matrix: 1 × 12 of type chr</caption>\n",
       "<thead>\n",
       "\t<tr><th></th><th scope=col>A1</th><th scope=col>A2</th><th scope=col>A3</th><th scope=col>A4</th><th scope=col>A5</th><th scope=col>A6</th><th scope=col>A7</th><th scope=col>A8</th><th scope=col>A9</th><th scope=col>A10</th><th scope=col>A11</th><th scope=col>A12</th></tr>\n",
       "</thead>\n",
       "<tbody>\n",
       "\t<tr><th scope=row>group</th><td>ES</td><td>ES</td><td>H1</td><td>H1</td><td>H4</td><td>H4</td><td>H16</td><td>H16</td><td>H24</td><td>H24</td><td>D5</td><td>D5</td></tr>\n",
       "</tbody>\n",
       "</table>\n"
      ],
      "text/latex": [
       "A matrix: 1 × 12 of type chr\n",
       "\\begin{tabular}{r|llllllllllll}\n",
       "  & A1 & A2 & A3 & A4 & A5 & A6 & A7 & A8 & A9 & A10 & A11 & A12\\\\\n",
       "\\hline\n",
       "\tgroup & ES & ES & H1 & H1 & H4 & H4 & H16 & H16 & H24 & H24 & D5 & D5\\\\\n",
       "\\end{tabular}\n"
      ],
      "text/markdown": [
       "\n",
       "A matrix: 1 × 12 of type chr\n",
       "\n",
       "| <!--/--> | A1 | A2 | A3 | A4 | A5 | A6 | A7 | A8 | A9 | A10 | A11 | A12 |\n",
       "|---|---|---|---|---|---|---|---|---|---|---|---|---|\n",
       "| group | ES | ES | H1 | H1 | H4 | H4 | H16 | H16 | H24 | H24 | D5 | D5 |\n",
       "\n"
      ],
      "text/plain": [
       "      A1 A2 A3 A4 A5 A6 A7  A8  A9  A10 A11 A12\n",
       "group ES ES H1 H1 H4 H4 H16 H16 H24 H24 D5  D5 "
      ]
     },
     "metadata": {},
     "output_type": "display_data"
    },
    {
     "data": {
      "text/html": [
       "<table>\n",
       "<caption>A matrix: 1 × 12 of type chr</caption>\n",
       "<tbody>\n",
       "\t<tr><td>A1</td><td>A2</td><td>A3</td><td>A4</td><td>A5</td><td>A6</td><td>A7</td><td>A8</td><td>A9</td><td>A10</td><td>A11</td><td>A12</td></tr>\n",
       "</tbody>\n",
       "</table>\n"
      ],
      "text/latex": [
       "A matrix: 1 × 12 of type chr\n",
       "\\begin{tabular}{llllllllllll}\n",
       "\t A1 & A2 & A3 & A4 & A5 & A6 & A7 & A8 & A9 & A10 & A11 & A12\\\\\n",
       "\\end{tabular}\n"
      ],
      "text/markdown": [
       "\n",
       "A matrix: 1 × 12 of type chr\n",
       "\n",
       "| A1 | A2 | A3 | A4 | A5 | A6 | A7 | A8 | A9 | A10 | A11 | A12 |\n",
       "\n"
      ],
      "text/plain": [
       "     [,1] [,2] [,3] [,4] [,5] [,6] [,7] [,8] [,9] [,10] [,11] [,12]\n",
       "[1,] A1   A2   A3   A4   A5   A6   A7   A8   A9   A10   A11   A12  "
      ]
     },
     "metadata": {},
     "output_type": "display_data"
    }
   ],
   "source": [
    "coldata3 %>% t\n",
    "cnts3 %>% colnames %>% t"
   ]
  },
  {
   "cell_type": "code",
   "execution_count": 78,
   "metadata": {
    "ExecuteTime": {
     "end_time": "2019-10-16T18:25:45.403363Z",
     "start_time": "2019-10-16T18:25:45.089Z"
    }
   },
   "outputs": [
    {
     "name": "stderr",
     "output_type": "stream",
     "text": [
      "Warning message in DESeqDataSet(se, design = design, ignoreRank):\n",
      "“some variables in design formula are characters, converting to factors”"
     ]
    }
   ],
   "source": [
    "dds3 <- DESeqDataSetFromMatrix(countData = cnts3, colData = coldata3, design = ~ group)"
   ]
  },
  {
   "cell_type": "code",
   "execution_count": 79,
   "metadata": {
    "ExecuteTime": {
     "end_time": "2019-10-16T18:25:47.768554Z",
     "start_time": "2019-10-16T18:25:47.725Z"
    }
   },
   "outputs": [
    {
     "data": {
      "text/html": [
       "TRUE"
      ],
      "text/latex": [
       "TRUE"
      ],
      "text/markdown": [
       "TRUE"
      ],
      "text/plain": [
       "[1] TRUE"
      ]
     },
     "metadata": {},
     "output_type": "display_data"
    }
   ],
   "source": [
    "all(rownames(dds3) == gene_ids3$gene_id) # make sure all gene_ids are the same as the gene ids in dds"
   ]
  },
  {
   "cell_type": "code",
   "execution_count": 80,
   "metadata": {
    "ExecuteTime": {
     "end_time": "2019-10-16T18:25:50.643361Z",
     "start_time": "2019-10-16T18:25:50.576Z"
    }
   },
   "outputs": [],
   "source": [
    "mcols(dds3) <- cbind(mcols(dds3), 'gene_name' = gene_names3) # adding gene_names to counts dds"
   ]
  },
  {
   "cell_type": "code",
   "execution_count": 81,
   "metadata": {
    "ExecuteTime": {
     "end_time": "2019-10-16T18:25:56.032337Z",
     "start_time": "2019-10-16T18:25:55.926Z"
    }
   },
   "outputs": [],
   "source": [
    "keep3 <- rowSums(counts(dds3)) >= 10 # pre-analysis filter to remove very low read count genes\n",
    "dds3 <- dds3[keep3,]"
   ]
  },
  {
   "cell_type": "code",
   "execution_count": 82,
   "metadata": {
    "ExecuteTime": {
     "end_time": "2019-10-16T18:25:56.891684Z",
     "start_time": "2019-10-16T18:25:56.864Z"
    }
   },
   "outputs": [
    {
     "data": {
      "text/html": [
       "<ol class=list-inline>\n",
       "\t<li>13196</li>\n",
       "\t<li>12</li>\n",
       "</ol>\n"
      ],
      "text/latex": [
       "\\begin{enumerate*}\n",
       "\\item 13196\n",
       "\\item 12\n",
       "\\end{enumerate*}\n"
      ],
      "text/markdown": [
       "1. 13196\n",
       "2. 12\n",
       "\n",
       "\n"
      ],
      "text/plain": [
       "[1] 13196    12"
      ]
     },
     "metadata": {},
     "output_type": "display_data"
    }
   ],
   "source": [
    "dim(dds3)"
   ]
  },
  {
   "cell_type": "raw",
   "metadata": {
    "ExecuteTime": {
     "end_time": "2019-09-13T20:34:17.934378Z",
     "start_time": "2019-09-13T20:34:17.424Z"
    }
   },
   "source": [
    "# specify factor level, not needed since Deseq2 will do it automatically\n",
    "dds3$condition <- factor(dds3$condition, levels = unique(as.vector(coldata3$condition)))\n",
    "dds3$group <- factor(dds3$group, levels = unique(as.vector(coldata3$group)))"
   ]
  },
  {
   "cell_type": "code",
   "execution_count": 83,
   "metadata": {
    "ExecuteTime": {
     "end_time": "2019-10-16T18:26:00.144631Z",
     "start_time": "2019-10-16T18:26:00.108Z"
    }
   },
   "outputs": [
    {
     "data": {
      "text/html": [
       "<table>\n",
       "<caption>A matrix: 6 × 12 of type int</caption>\n",
       "<thead>\n",
       "\t<tr><th></th><th scope=col>A1</th><th scope=col>A2</th><th scope=col>A3</th><th scope=col>A4</th><th scope=col>A5</th><th scope=col>A6</th><th scope=col>A7</th><th scope=col>A8</th><th scope=col>A9</th><th scope=col>A10</th><th scope=col>A11</th><th scope=col>A12</th></tr>\n",
       "</thead>\n",
       "<tbody>\n",
       "\t<tr><th scope=row>ENSG00000000419.12</th><td> 48</td><td> 45</td><td> 48</td><td> 51</td><td> 47</td><td> 64</td><td> 25</td><td> 66</td><td>104</td><td> 72</td><td>121</td><td> 87</td></tr>\n",
       "\t<tr><th scope=row>ENSG00000000457.14</th><td>168</td><td>127</td><td>126</td><td> 97</td><td>191</td><td>251</td><td>124</td><td>185</td><td>375</td><td>248</td><td>331</td><td>296</td></tr>\n",
       "\t<tr><th scope=row>ENSG00000000971.15</th><td> 60</td><td> 33</td><td> 37</td><td> 65</td><td> 54</td><td> 73</td><td> 67</td><td> 74</td><td>162</td><td> 71</td><td> 39</td><td> 15</td></tr>\n",
       "\t<tr><th scope=row>ENSG00000001036.13</th><td>151</td><td>111</td><td>128</td><td> 96</td><td>105</td><td>186</td><td>107</td><td>139</td><td>268</td><td>171</td><td>176</td><td>131</td></tr>\n",
       "\t<tr><th scope=row>ENSG00000001167.14</th><td>349</td><td>245</td><td>237</td><td>240</td><td>278</td><td>328</td><td>227</td><td>360</td><td>726</td><td>489</td><td>757</td><td>719</td></tr>\n",
       "\t<tr><th scope=row>ENSG00000001461.17</th><td>167</td><td>125</td><td>117</td><td>138</td><td>178</td><td>253</td><td>135</td><td>198</td><td>367</td><td>237</td><td>214</td><td>207</td></tr>\n",
       "</tbody>\n",
       "</table>\n"
      ],
      "text/latex": [
       "A matrix: 6 × 12 of type int\n",
       "\\begin{tabular}{r|llllllllllll}\n",
       "  & A1 & A2 & A3 & A4 & A5 & A6 & A7 & A8 & A9 & A10 & A11 & A12\\\\\n",
       "\\hline\n",
       "\tENSG00000000419.12 &  48 &  45 &  48 &  51 &  47 &  64 &  25 &  66 & 104 &  72 & 121 &  87\\\\\n",
       "\tENSG00000000457.14 & 168 & 127 & 126 &  97 & 191 & 251 & 124 & 185 & 375 & 248 & 331 & 296\\\\\n",
       "\tENSG00000000971.15 &  60 &  33 &  37 &  65 &  54 &  73 &  67 &  74 & 162 &  71 &  39 &  15\\\\\n",
       "\tENSG00000001036.13 & 151 & 111 & 128 &  96 & 105 & 186 & 107 & 139 & 268 & 171 & 176 & 131\\\\\n",
       "\tENSG00000001167.14 & 349 & 245 & 237 & 240 & 278 & 328 & 227 & 360 & 726 & 489 & 757 & 719\\\\\n",
       "\tENSG00000001461.17 & 167 & 125 & 117 & 138 & 178 & 253 & 135 & 198 & 367 & 237 & 214 & 207\\\\\n",
       "\\end{tabular}\n"
      ],
      "text/markdown": [
       "\n",
       "A matrix: 6 × 12 of type int\n",
       "\n",
       "| <!--/--> | A1 | A2 | A3 | A4 | A5 | A6 | A7 | A8 | A9 | A10 | A11 | A12 |\n",
       "|---|---|---|---|---|---|---|---|---|---|---|---|---|\n",
       "| ENSG00000000419.12 |  48 |  45 |  48 |  51 |  47 |  64 |  25 |  66 | 104 |  72 | 121 |  87 |\n",
       "| ENSG00000000457.14 | 168 | 127 | 126 |  97 | 191 | 251 | 124 | 185 | 375 | 248 | 331 | 296 |\n",
       "| ENSG00000000971.15 |  60 |  33 |  37 |  65 |  54 |  73 |  67 |  74 | 162 |  71 |  39 |  15 |\n",
       "| ENSG00000001036.13 | 151 | 111 | 128 |  96 | 105 | 186 | 107 | 139 | 268 | 171 | 176 | 131 |\n",
       "| ENSG00000001167.14 | 349 | 245 | 237 | 240 | 278 | 328 | 227 | 360 | 726 | 489 | 757 | 719 |\n",
       "| ENSG00000001461.17 | 167 | 125 | 117 | 138 | 178 | 253 | 135 | 198 | 367 | 237 | 214 | 207 |\n",
       "\n"
      ],
      "text/plain": [
       "                   A1  A2  A3  A4  A5  A6  A7  A8  A9  A10 A11 A12\n",
       "ENSG00000000419.12  48  45  48  51  47  64  25  66 104  72 121  87\n",
       "ENSG00000000457.14 168 127 126  97 191 251 124 185 375 248 331 296\n",
       "ENSG00000000971.15  60  33  37  65  54  73  67  74 162  71  39  15\n",
       "ENSG00000001036.13 151 111 128  96 105 186 107 139 268 171 176 131\n",
       "ENSG00000001167.14 349 245 237 240 278 328 227 360 726 489 757 719\n",
       "ENSG00000001461.17 167 125 117 138 178 253 135 198 367 237 214 207"
      ]
     },
     "metadata": {},
     "output_type": "display_data"
    }
   ],
   "source": [
    "counts(dds3) %>% head()"
   ]
  },
  {
   "cell_type": "code",
   "execution_count": 84,
   "metadata": {
    "ExecuteTime": {
     "end_time": "2019-10-16T18:26:17.574464Z",
     "start_time": "2019-10-16T18:26:04.513Z"
    }
   },
   "outputs": [
    {
     "name": "stderr",
     "output_type": "stream",
     "text": [
      "estimating size factors\n",
      "estimating dispersions\n",
      "gene-wise dispersion estimates\n",
      "mean-dispersion relationship\n",
      "final dispersion estimates\n",
      "fitting model and testing\n"
     ]
    }
   ],
   "source": [
    "dds3 <- DESeq(dds3) # build model"
   ]
  },
  {
   "cell_type": "code",
   "execution_count": 85,
   "metadata": {
    "ExecuteTime": {
     "end_time": "2019-10-16T18:26:17.596407Z",
     "start_time": "2019-10-16T18:26:17.039Z"
    }
   },
   "outputs": [
    {
     "data": {
      "text/html": [
       "<ol class=list-inline>\n",
       "\t<li>'Intercept'</li>\n",
       "\t<li>'group_ES_vs_D5'</li>\n",
       "\t<li>'group_H1_vs_D5'</li>\n",
       "\t<li>'group_H16_vs_D5'</li>\n",
       "\t<li>'group_H24_vs_D5'</li>\n",
       "\t<li>'group_H4_vs_D5'</li>\n",
       "</ol>\n"
      ],
      "text/latex": [
       "\\begin{enumerate*}\n",
       "\\item 'Intercept'\n",
       "\\item 'group\\_ES\\_vs\\_D5'\n",
       "\\item 'group\\_H1\\_vs\\_D5'\n",
       "\\item 'group\\_H16\\_vs\\_D5'\n",
       "\\item 'group\\_H24\\_vs\\_D5'\n",
       "\\item 'group\\_H4\\_vs\\_D5'\n",
       "\\end{enumerate*}\n"
      ],
      "text/markdown": [
       "1. 'Intercept'\n",
       "2. 'group_ES_vs_D5'\n",
       "3. 'group_H1_vs_D5'\n",
       "4. 'group_H16_vs_D5'\n",
       "5. 'group_H24_vs_D5'\n",
       "6. 'group_H4_vs_D5'\n",
       "\n",
       "\n"
      ],
      "text/plain": [
       "[1] \"Intercept\"       \"group_ES_vs_D5\"  \"group_H1_vs_D5\"  \"group_H16_vs_D5\"\n",
       "[5] \"group_H24_vs_D5\" \"group_H4_vs_D5\" "
      ]
     },
     "metadata": {},
     "output_type": "display_data"
    }
   ],
   "source": [
    "resultsNames(dds3) # model coefficients"
   ]
  },
  {
   "cell_type": "markdown",
   "metadata": {},
   "source": [
    "### Volcano plots"
   ]
  },
  {
   "cell_type": "markdown",
   "metadata": {
    "heading_collapsed": true
   },
   "source": [
    "#### 1H vs. ES"
   ]
  },
  {
   "cell_type": "code",
   "execution_count": 119,
   "metadata": {
    "ExecuteTime": {
     "end_time": "2019-10-16T18:37:33.518876Z",
     "start_time": "2019-10-16T18:37:32.137Z"
    },
    "hidden": true
   },
   "outputs": [],
   "source": [
    "res3a <- results(dds3, contrast = c('group','H1','ES')) # modelling ES vs. +DOX\n",
    "\n",
    "# add gene_name to result\n",
    "if (all(rownames(res3a) == rownames(dds3))) {\n",
    "    res3a.df <- cbind(res3a, 'gene_name' = mcols(dds3)$gene_name) %>% as.data.frame %>% rownames_to_column('gene_id') %>% filter(!is.na(padj))\n",
    "}  else {\n",
    "    print(\"Rownames don't match!\")\n",
    "}"
   ]
  },
  {
   "cell_type": "code",
   "execution_count": 179,
   "metadata": {
    "ExecuteTime": {
     "end_time": "2019-09-17T01:23:36.908725Z",
     "start_time": "2019-09-17T01:23:35.197Z"
    },
    "hidden": true
   },
   "outputs": [
    {
     "data": {
      "image/png": "[encoded data removed]",
      "text/plain": [
       "plot without title"
      ]
     },
     "metadata": {},
     "output_type": "display_data"
    }
   ],
   "source": [
    "EnhancedVolcano(res3a.df, lab = res3a.df$gene_name, x='log2FoldChange',y='padj', xlim=c(-8,8), ylim=c(0,150),\n",
    "                xlab = bquote(~Log[2]~ 'fold change'), ylab= bquote(~-Log[10]~adjusted~italic(P)),\n",
    "                legend=c('NS','Log2 FC','Adj. P', 'Adj. P & Log2 FC'),legendPosition='bottom', legendLabSize = 8, \n",
    "                legendIconSize = 3.0, title = \"Wild type: 1H vs. ES\", subtitle=\"\", pCutoff = 0.05, FCcutoff = 1.5,\n",
    "                transcriptPointSize = 1.5, transcriptLabSize = 3.0, colAlpha = .4)\n",
    "# selectLab = c('FHL3', 'STRAG') to only label key transcripts"
   ]
  },
  {
   "cell_type": "markdown",
   "metadata": {
    "heading_collapsed": true
   },
   "source": [
    "#### 4H vs. ES"
   ]
  },
  {
   "cell_type": "code",
   "execution_count": 120,
   "metadata": {
    "ExecuteTime": {
     "end_time": "2019-10-16T18:37:40.603608Z",
     "start_time": "2019-10-16T18:37:39.897Z"
    },
    "hidden": true
   },
   "outputs": [],
   "source": [
    "res3b <- results(dds3, contrast = c('group','H4','ES'))\n",
    "\n",
    "# add gene_name to result\n",
    "if (all(rownames(res3b) == rownames(dds3))) {\n",
    "    res3b.df <- cbind(res3b, 'gene_name' = mcols(dds3)$gene_name) %>% as.data.frame %>% rownames_to_column('gene_id') %>% filter(!is.na(padj))   \n",
    "}  else {\n",
    "    print(\"Rownames don't match!\")\n",
    "}"
   ]
  },
  {
   "cell_type": "code",
   "execution_count": 182,
   "metadata": {
    "ExecuteTime": {
     "end_time": "2019-09-17T01:23:32.925801Z",
     "start_time": "2019-09-17T01:23:31.196Z"
    },
    "hidden": true
   },
   "outputs": [
    {
     "data": {
      "image/png": "[encoded data removed]",
      "text/plain": [
       "plot without title"
      ]
     },
     "metadata": {},
     "output_type": "display_data"
    }
   ],
   "source": [
    "EnhancedVolcano(res3b.df, lab = res3b.df$gene_name, x='log2FoldChange',y='padj', xlim=c(-8,8), ylim=c(0,150),\n",
    "                xlab = bquote(~Log[2]~ 'fold change'), ylab= bquote(~-Log[10]~adjusted~italic(P)),\n",
    "                legend=c('NS','Log2 FC','Adj. P', 'Adj. P & Log2 FC'),legendPosition='bottom', legendLabSize = 8, \n",
    "                legendIconSize = 3.0, title = \"Wild type: 4H vs. ES\", subtitle=\"\", pCutoff = 0.05, FCcutoff = 1.5,\n",
    "                transcriptPointSize = 1.5, transcriptLabSize = 3.0, colAlpha = .4)\n",
    "# selectLab = c('FHL3', 'STRAG') to only label key transcripts"
   ]
  },
  {
   "cell_type": "markdown",
   "metadata": {
    "heading_collapsed": true
   },
   "source": [
    "#### H16 vs. ES"
   ]
  },
  {
   "cell_type": "code",
   "execution_count": 121,
   "metadata": {
    "ExecuteTime": {
     "end_time": "2019-10-16T18:37:46.476767Z",
     "start_time": "2019-10-16T18:37:45.186Z"
    },
    "hidden": true
   },
   "outputs": [],
   "source": [
    "res3c <- results(dds3, contrast = c('group','H16','ES'))\n",
    "\n",
    "# add gene_name to result\n",
    "if (all(rownames(res3c) == rownames(dds3))) {\n",
    "    res3c.df <- cbind(res3c, 'gene_name' = mcols(dds3)$gene_name) %>% as.data.frame %>% rownames_to_column('gene_id') %>% filter(!is.na(padj))   \n",
    "}  else {\n",
    "    print(\"Rownames don't match!\")\n",
    "}"
   ]
  },
  {
   "cell_type": "code",
   "execution_count": 184,
   "metadata": {
    "ExecuteTime": {
     "end_time": "2019-09-17T01:23:28.499903Z",
     "start_time": "2019-09-17T01:23:26.710Z"
    },
    "hidden": true
   },
   "outputs": [
    {
     "data": {
      "image/png": "[encoded data removed]",
      "text/plain": [
       "plot without title"
      ]
     },
     "metadata": {},
     "output_type": "display_data"
    }
   ],
   "source": [
    "EnhancedVolcano(res3c.df, lab = res3c.df$gene_name, x='log2FoldChange',y='padj', xlim=c(-8,8), ylim=c(0,150),\n",
    "                xlab = bquote(~Log[2]~ 'fold change'), ylab= bquote(~-Log[10]~adjusted~italic(P)),\n",
    "                legend=c('NS','Log2 FC','Adj. P', 'Adj. P & Log2 FC'),legendPosition='bottom', legendLabSize = 8, \n",
    "                legendIconSize = 3.0, title = \"Wild type: 16H vs. ES\", subtitle=\"\", pCutoff = 0.05, FCcutoff = 2,\n",
    "                transcriptPointSize = 1.5, transcriptLabSize = 3.0, colAlpha = .4)\n",
    "# selectLab = c('FHL3', 'STRAG') to only label key transcripts"
   ]
  },
  {
   "cell_type": "markdown",
   "metadata": {},
   "source": [
    "#### 24H vs. ES"
   ]
  },
  {
   "cell_type": "code",
   "execution_count": 91,
   "metadata": {
    "ExecuteTime": {
     "end_time": "2019-10-16T18:30:05.861105Z",
     "start_time": "2019-10-16T18:30:05.070Z"
    }
   },
   "outputs": [],
   "source": [
    "res3d <- results(dds3, contrast = c('group','H24','ES'))\n",
    "\n",
    "# add gene_name to result\n",
    "if (all(rownames(res3d) == rownames(dds3))) {\n",
    "    res3d.df <- cbind(res3d, 'gene_name' = mcols(dds3)$gene_name) %>% as.data.frame %>% rownames_to_column('gene_id') %>% filter(!is.na(padj))\n",
    "}  else {\n",
    "    print(\"Rownames don't match!\")\n",
    "}"
   ]
  },
  {
   "cell_type": "code",
   "execution_count": 97,
   "metadata": {
    "ExecuteTime": {
     "end_time": "2019-10-16T18:31:54.558277Z",
     "start_time": "2019-10-16T18:31:54.521Z"
    }
   },
   "outputs": [
    {
     "data": {
      "text/html": [
       "<table>\n",
       "<caption>A data.frame: 2 × 8</caption>\n",
       "<thead>\n",
       "\t<tr><th scope=col>gene_id</th><th scope=col>baseMean</th><th scope=col>log2FoldChange</th><th scope=col>lfcSE</th><th scope=col>stat</th><th scope=col>pvalue</th><th scope=col>padj</th><th scope=col>gene_name</th></tr>\n",
       "\t<tr><th scope=col>&lt;chr&gt;</th><th scope=col>&lt;dbl&gt;</th><th scope=col>&lt;dbl&gt;</th><th scope=col>&lt;dbl&gt;</th><th scope=col>&lt;dbl&gt;</th><th scope=col>&lt;dbl&gt;</th><th scope=col>&lt;dbl&gt;</th><th scope=col>&lt;chr&gt;</th></tr>\n",
       "</thead>\n",
       "<tbody>\n",
       "\t<tr><td>ENSG00000000419.12</td><td> 59.77386</td><td>-0.01017202</td><td>0.3178535</td><td>-0.03200223</td><td>0.9744703</td><td>0.9894718</td><td>DPM1 </td></tr>\n",
       "\t<tr><td>ENSG00000000457.14</td><td>191.99217</td><td> 0.15167966</td><td>0.1722280</td><td> 0.88069096</td><td>0.3784851</td><td>0.6967510</td><td>SCYL3</td></tr>\n",
       "</tbody>\n",
       "</table>\n"
      ],
      "text/latex": [
       "A data.frame: 2 × 8\n",
       "\\begin{tabular}{r|llllllll}\n",
       " gene\\_id & baseMean & log2FoldChange & lfcSE & stat & pvalue & padj & gene\\_name\\\\\n",
       " <chr> & <dbl> & <dbl> & <dbl> & <dbl> & <dbl> & <dbl> & <chr>\\\\\n",
       "\\hline\n",
       "\t ENSG00000000419.12 &  59.77386 & -0.01017202 & 0.3178535 & -0.03200223 & 0.9744703 & 0.9894718 & DPM1 \\\\\n",
       "\t ENSG00000000457.14 & 191.99217 &  0.15167966 & 0.1722280 &  0.88069096 & 0.3784851 & 0.6967510 & SCYL3\\\\\n",
       "\\end{tabular}\n"
      ],
      "text/markdown": [
       "\n",
       "A data.frame: 2 × 8\n",
       "\n",
       "| gene_id &lt;chr&gt; | baseMean &lt;dbl&gt; | log2FoldChange &lt;dbl&gt; | lfcSE &lt;dbl&gt; | stat &lt;dbl&gt; | pvalue &lt;dbl&gt; | padj &lt;dbl&gt; | gene_name &lt;chr&gt; |\n",
       "|---|---|---|---|---|---|---|---|\n",
       "| ENSG00000000419.12 |  59.77386 | -0.01017202 | 0.3178535 | -0.03200223 | 0.9744703 | 0.9894718 | DPM1  |\n",
       "| ENSG00000000457.14 | 191.99217 |  0.15167966 | 0.1722280 |  0.88069096 | 0.3784851 | 0.6967510 | SCYL3 |\n",
       "\n"
      ],
      "text/plain": [
       "  gene_id            baseMean  log2FoldChange lfcSE     stat        pvalue   \n",
       "1 ENSG00000000419.12  59.77386 -0.01017202    0.3178535 -0.03200223 0.9744703\n",
       "2 ENSG00000000457.14 191.99217  0.15167966    0.1722280  0.88069096 0.3784851\n",
       "  padj      gene_name\n",
       "1 0.9894718 DPM1     \n",
       "2 0.6967510 SCYL3    "
      ]
     },
     "metadata": {},
     "output_type": "display_data"
    }
   ],
   "source": [
    "res3d.df %>% head(2)"
   ]
  },
  {
   "cell_type": "code",
   "execution_count": 98,
   "metadata": {
    "ExecuteTime": {
     "end_time": "2019-10-16T18:32:16.933121Z",
     "start_time": "2019-10-16T18:32:16.896Z"
    }
   },
   "outputs": [
    {
     "data": {
      "text/html": [
       "<ol class=list-inline>\n",
       "\t<li>626</li>\n",
       "\t<li>8</li>\n",
       "</ol>\n"
      ],
      "text/latex": [
       "\\begin{enumerate*}\n",
       "\\item 626\n",
       "\\item 8\n",
       "\\end{enumerate*}\n"
      ],
      "text/markdown": [
       "1. 626\n",
       "2. 8\n",
       "\n",
       "\n"
      ],
      "text/plain": [
       "[1] 626   8"
      ]
     },
     "metadata": {},
     "output_type": "display_data"
    },
    {
     "data": {
      "text/html": [
       "<ol class=list-inline>\n",
       "\t<li>16</li>\n",
       "\t<li>8</li>\n",
       "</ol>\n"
      ],
      "text/latex": [
       "\\begin{enumerate*}\n",
       "\\item 16\n",
       "\\item 8\n",
       "\\end{enumerate*}\n"
      ],
      "text/markdown": [
       "1. 16\n",
       "2. 8\n",
       "\n",
       "\n"
      ],
      "text/plain": [
       "[1] 16  8"
      ]
     },
     "metadata": {},
     "output_type": "display_data"
    }
   ],
   "source": [
    "# How many significant genes?\n",
    "res3d.df %>% filter(padj < 0.05) %>% dim\n",
    "\n",
    "# How many significant and FC > 1.5? \n",
    "res3d.df %>% filter(padj < 0.05 & abs(log2FoldChange) > 1.5) %>% dim"
   ]
  },
  {
   "cell_type": "code",
   "execution_count": 102,
   "metadata": {
    "ExecuteTime": {
     "end_time": "2019-10-16T18:33:21.079305Z",
     "start_time": "2019-10-16T18:33:19.496Z"
    }
   },
   "outputs": [
    {
     "data": {
      "image/png": "[encoded data removed]",
      "text/plain": [
       "plot without title"
      ]
     },
     "metadata": {},
     "output_type": "display_data"
    }
   ],
   "source": [
    "EnhancedVolcano(res3d.df, lab = res3d.df$gene_name, x='log2FoldChange',y='padj', xlim=c(-5,5), ylim=c(0,15),\n",
    "                xlab = bquote(~Log[2]~ 'fold change'), ylab= bquote(~-Log[10]~adjusted~italic(P)),\n",
    "                legend=c('NS','Log2 FC','Adj. P', 'Adj. P & Log2 FC'),legendPosition='bottom', legendLabSize = 8, \n",
    "                legendIconSize = 3.0, title = \"Wild type: 24H vs. ES\", subtitle=\"\", pCutoff = .05, FCcutoff = 1.5,\n",
    "                transcriptPointSize = 1.5, transcriptLabSize = 3.0, colAlpha = .4)\n",
    "# selectLab = c('FHL3', 'STRAG') to only label key transcripts"
   ]
  },
  {
   "cell_type": "markdown",
   "metadata": {},
   "source": [
    "#### 5D vs. ES"
   ]
  },
  {
   "cell_type": "code",
   "execution_count": 103,
   "metadata": {
    "ExecuteTime": {
     "end_time": "2019-10-16T18:33:35.292596Z",
     "start_time": "2019-10-16T18:33:34.658Z"
    }
   },
   "outputs": [],
   "source": [
    "res3e <- results(dds3, contrast = c('group','D5','ES'))\n",
    "\n",
    "# add gene_name to result\n",
    "if (all(rownames(res3e) == rownames(dds3))) {\n",
    "    res3e.df <- cbind(res3e, 'gene_name' = mcols(dds3)$gene_name) %>% as.data.frame %>% rownames_to_column('gene_id') %>% filter(!is.na(padj))\n",
    "}  else {\n",
    "    print(\"Rownames don't match!\")\n",
    "}"
   ]
  },
  {
   "cell_type": "code",
   "execution_count": 167,
   "metadata": {},
   "outputs": [
    {
     "data": {
      "text/html": [
       "<table>\n",
       "<caption>A data.frame: 6 × 8</caption>\n",
       "<thead>\n",
       "\t<tr><th scope=col>gene_id</th><th scope=col>baseMean</th><th scope=col>log2FoldChange</th><th scope=col>lfcSE</th><th scope=col>stat</th><th scope=col>pvalue</th><th scope=col>padj</th><th scope=col>gene_name</th></tr>\n",
       "\t<tr><th scope=col>&lt;chr&gt;</th><th scope=col>&lt;dbl&gt;</th><th scope=col>&lt;dbl&gt;</th><th scope=col>&lt;dbl&gt;</th><th scope=col>&lt;dbl&gt;</th><th scope=col>&lt;dbl&gt;</th><th scope=col>&lt;dbl&gt;</th><th scope=col>&lt;chr&gt;</th></tr>\n",
       "</thead>\n",
       "<tbody>\n",
       "\t<tr><td>ENSG00000000419.12</td><td> 59.77386</td><td> 0.2249992</td><td>0.3145903</td><td> 0.7152135</td><td>4.744771e-01</td><td>0.5985278706</td><td>DPM1  </td></tr>\n",
       "\t<tr><td>ENSG00000000457.14</td><td>191.99217</td><td> 0.1672012</td><td>0.1718921</td><td> 0.9727103</td><td>3.306973e-01</td><td>0.4585976449</td><td>SCYL3 </td></tr>\n",
       "\t<tr><td>ENSG00000000971.15</td><td> 61.11724</td><td>-1.7097659</td><td>0.4072577</td><td>-4.1982406</td><td>2.689968e-05</td><td>0.0002109394</td><td>CFH   </td></tr>\n",
       "\t<tr><td>ENSG00000001036.13</td><td>141.51447</td><td>-0.6957654</td><td>0.2130872</td><td>-3.2651674</td><td>1.093994e-03</td><td>0.0047881737</td><td>FUCA2 </td></tr>\n",
       "\t<tr><td>ENSG00000001167.14</td><td>371.78924</td><td> 0.3982598</td><td>0.1309563</td><td> 3.0411647</td><td>2.356649e-03</td><td>0.0091167384</td><td>NFYA  </td></tr>\n",
       "\t<tr><td>ENSG00000001461.17</td><td>184.18875</td><td>-0.3899967</td><td>0.1787029</td><td>-2.1823751</td><td>2.908186e-02</td><td>0.0701964860</td><td>NIPAL3</td></tr>\n",
       "</tbody>\n",
       "</table>\n"
      ],
      "text/latex": [
       "A data.frame: 6 × 8\n",
       "\\begin{tabular}{r|llllllll}\n",
       " gene\\_id & baseMean & log2FoldChange & lfcSE & stat & pvalue & padj & gene\\_name\\\\\n",
       " <chr> & <dbl> & <dbl> & <dbl> & <dbl> & <dbl> & <dbl> & <chr>\\\\\n",
       "\\hline\n",
       "\t ENSG00000000419.12 &  59.77386 &  0.2249992 & 0.3145903 &  0.7152135 & 4.744771e-01 & 0.5985278706 & DPM1  \\\\\n",
       "\t ENSG00000000457.14 & 191.99217 &  0.1672012 & 0.1718921 &  0.9727103 & 3.306973e-01 & 0.4585976449 & SCYL3 \\\\\n",
       "\t ENSG00000000971.15 &  61.11724 & -1.7097659 & 0.4072577 & -4.1982406 & 2.689968e-05 & 0.0002109394 & CFH   \\\\\n",
       "\t ENSG00000001036.13 & 141.51447 & -0.6957654 & 0.2130872 & -3.2651674 & 1.093994e-03 & 0.0047881737 & FUCA2 \\\\\n",
       "\t ENSG00000001167.14 & 371.78924 &  0.3982598 & 0.1309563 &  3.0411647 & 2.356649e-03 & 0.0091167384 & NFYA  \\\\\n",
       "\t ENSG00000001461.17 & 184.18875 & -0.3899967 & 0.1787029 & -2.1823751 & 2.908186e-02 & 0.0701964860 & NIPAL3\\\\\n",
       "\\end{tabular}\n"
      ],
      "text/markdown": [
       "\n",
       "A data.frame: 6 × 8\n",
       "\n",
       "| gene_id &lt;chr&gt; | baseMean &lt;dbl&gt; | log2FoldChange &lt;dbl&gt; | lfcSE &lt;dbl&gt; | stat &lt;dbl&gt; | pvalue &lt;dbl&gt; | padj &lt;dbl&gt; | gene_name &lt;chr&gt; |\n",
       "|---|---|---|---|---|---|---|---|\n",
       "| ENSG00000000419.12 |  59.77386 |  0.2249992 | 0.3145903 |  0.7152135 | 4.744771e-01 | 0.5985278706 | DPM1   |\n",
       "| ENSG00000000457.14 | 191.99217 |  0.1672012 | 0.1718921 |  0.9727103 | 3.306973e-01 | 0.4585976449 | SCYL3  |\n",
       "| ENSG00000000971.15 |  61.11724 | -1.7097659 | 0.4072577 | -4.1982406 | 2.689968e-05 | 0.0002109394 | CFH    |\n",
       "| ENSG00000001036.13 | 141.51447 | -0.6957654 | 0.2130872 | -3.2651674 | 1.093994e-03 | 0.0047881737 | FUCA2  |\n",
       "| ENSG00000001167.14 | 371.78924 |  0.3982598 | 0.1309563 |  3.0411647 | 2.356649e-03 | 0.0091167384 | NFYA   |\n",
       "| ENSG00000001461.17 | 184.18875 | -0.3899967 | 0.1787029 | -2.1823751 | 2.908186e-02 | 0.0701964860 | NIPAL3 |\n",
       "\n"
      ],
      "text/plain": [
       "  gene_id            baseMean  log2FoldChange lfcSE     stat       pvalue      \n",
       "1 ENSG00000000419.12  59.77386  0.2249992     0.3145903  0.7152135 4.744771e-01\n",
       "2 ENSG00000000457.14 191.99217  0.1672012     0.1718921  0.9727103 3.306973e-01\n",
       "3 ENSG00000000971.15  61.11724 -1.7097659     0.4072577 -4.1982406 2.689968e-05\n",
       "4 ENSG00000001036.13 141.51447 -0.6957654     0.2130872 -3.2651674 1.093994e-03\n",
       "5 ENSG00000001167.14 371.78924  0.3982598     0.1309563  3.0411647 2.356649e-03\n",
       "6 ENSG00000001461.17 184.18875 -0.3899967     0.1787029 -2.1823751 2.908186e-02\n",
       "  padj         gene_name\n",
       "1 0.5985278706 DPM1     \n",
       "2 0.4585976449 SCYL3    \n",
       "3 0.0002109394 CFH      \n",
       "4 0.0047881737 FUCA2    \n",
       "5 0.0091167384 NFYA     \n",
       "6 0.0701964860 NIPAL3   "
      ]
     },
     "metadata": {},
     "output_type": "display_data"
    }
   ],
   "source": [
    "res3e.df %>% head"
   ]
  },
  {
   "cell_type": "code",
   "execution_count": 107,
   "metadata": {
    "ExecuteTime": {
     "end_time": "2019-10-16T18:34:31.567753Z",
     "start_time": "2019-10-16T18:34:29.937Z"
    }
   },
   "outputs": [
    {
     "data": {
      "image/png": "[encoded data removed]",
      "text/plain": [
       "plot without title"
      ]
     },
     "metadata": {},
     "output_type": "display_data"
    }
   ],
   "source": [
    "EnhancedVolcano(res3e.df, lab = res3e.df$gene_name, x='log2FoldChange',y='padj', xlim=c(-6,6), ylim=c(0,75),\n",
    "                xlab = bquote(~Log[2]~ 'fold change'), ylab= bquote(~-Log[10]~adjusted~italic(P)),\n",
    "                legend=c('NS','Log2 FC','Adj. P', 'Adj. P & Log2 FC'),legendPosition='bottom', legendLabSize = 8, \n",
    "                legendIconSize = 3.0, title = \"Wild type: 5D vs. ES\", subtitle=\"\", pCutoff = .05, FCcutoff = 2,\n",
    "                transcriptPointSize = 1.5, transcriptLabSize = 3.0, colAlpha = .4)\n",
    "# selectLab = c('FHL3', 'STRAG') to only label key transcripts"
   ]
  },
  {
   "cell_type": "markdown",
   "metadata": {},
   "source": [
    "### Get genes at each temporal point"
   ]
  },
  {
   "cell_type": "code",
   "execution_count": 123,
   "metadata": {
    "ExecuteTime": {
     "end_time": "2019-10-16T18:38:22.615011Z",
     "start_time": "2019-10-16T18:38:22.576Z"
    }
   },
   "outputs": [],
   "source": [
    "sig_genes_3a <- res3a.df %>% filter(padj < 0.05) %>% pull('gene_name') %>% unique %>% as.character\n",
    "sig_genes_3b <- res3b.df %>% filter(padj < 0.05) %>% pull('gene_name') %>% unique %>% as.character \n",
    "sig_genes_3c <- res3c.df %>% filter(padj < 0.05) %>% pull('gene_name') %>% unique %>% as.character\n",
    "sig_genes_3d <- res3d.df %>% filter(padj < 0.05) %>% pull('gene_name') %>% unique %>% as.character\n",
    "sig_genes_3e <- res3e.df %>% filter(padj < 0.05) %>% pull('gene_name') %>% unique %>% as.character"
   ]
  },
  {
   "cell_type": "markdown",
   "metadata": {},
   "source": [
    "##### Number of genes significant in each tempral profile"
   ]
  },
  {
   "cell_type": "code",
   "execution_count": 124,
   "metadata": {
    "ExecuteTime": {
     "end_time": "2019-10-16T18:38:23.802654Z",
     "start_time": "2019-10-16T18:38:23.763Z"
    }
   },
   "outputs": [
    {
     "data": {
      "text/html": [
       "<table>\n",
       "<caption>A data.frame: 1 × 8</caption>\n",
       "<thead>\n",
       "\t<tr><th scope=col>gene_id</th><th scope=col>baseMean</th><th scope=col>log2FoldChange</th><th scope=col>lfcSE</th><th scope=col>stat</th><th scope=col>pvalue</th><th scope=col>padj</th><th scope=col>gene_name</th></tr>\n",
       "\t<tr><th scope=col>&lt;chr&gt;</th><th scope=col>&lt;dbl&gt;</th><th scope=col>&lt;dbl&gt;</th><th scope=col>&lt;dbl&gt;</th><th scope=col>&lt;dbl&gt;</th><th scope=col>&lt;dbl&gt;</th><th scope=col>&lt;dbl&gt;</th><th scope=col>&lt;chr&gt;</th></tr>\n",
       "</thead>\n",
       "<tbody>\n",
       "\t<tr><td>ENSG00000179456.10</td><td>325.8522</td><td>0.6257008</td><td>0.1561191</td><td>4.007843</td><td>6.127573e-05</td><td>0.0004280543</td><td>ZBTB18</td></tr>\n",
       "</tbody>\n",
       "</table>\n"
      ],
      "text/latex": [
       "A data.frame: 1 × 8\n",
       "\\begin{tabular}{r|llllllll}\n",
       " gene\\_id & baseMean & log2FoldChange & lfcSE & stat & pvalue & padj & gene\\_name\\\\\n",
       " <chr> & <dbl> & <dbl> & <dbl> & <dbl> & <dbl> & <dbl> & <chr>\\\\\n",
       "\\hline\n",
       "\t ENSG00000179456.10 & 325.8522 & 0.6257008 & 0.1561191 & 4.007843 & 6.127573e-05 & 0.0004280543 & ZBTB18\\\\\n",
       "\\end{tabular}\n"
      ],
      "text/markdown": [
       "\n",
       "A data.frame: 1 × 8\n",
       "\n",
       "| gene_id &lt;chr&gt; | baseMean &lt;dbl&gt; | log2FoldChange &lt;dbl&gt; | lfcSE &lt;dbl&gt; | stat &lt;dbl&gt; | pvalue &lt;dbl&gt; | padj &lt;dbl&gt; | gene_name &lt;chr&gt; |\n",
       "|---|---|---|---|---|---|---|---|\n",
       "| ENSG00000179456.10 | 325.8522 | 0.6257008 | 0.1561191 | 4.007843 | 6.127573e-05 | 0.0004280543 | ZBTB18 |\n",
       "\n"
      ],
      "text/plain": [
       "  gene_id            baseMean log2FoldChange lfcSE     stat     pvalue      \n",
       "1 ENSG00000179456.10 325.8522 0.6257008      0.1561191 4.007843 6.127573e-05\n",
       "  padj         gene_name\n",
       "1 0.0004280543 ZBTB18   "
      ]
     },
     "metadata": {},
     "output_type": "display_data"
    }
   ],
   "source": [
    "res3e.df %>% filter(gene_name == 'ZBTB18')"
   ]
  },
  {
   "cell_type": "code",
   "execution_count": 125,
   "metadata": {
    "ExecuteTime": {
     "end_time": "2019-10-16T18:38:25.156800Z",
     "start_time": "2019-10-16T18:38:25.102Z"
    }
   },
   "outputs": [
    {
     "data": {
      "text/html": [
       "<table>\n",
       "<caption>A data.frame: 6 × 12</caption>\n",
       "<thead>\n",
       "\t<tr><th></th><th scope=col>A1</th><th scope=col>A2</th><th scope=col>A3</th><th scope=col>A4</th><th scope=col>A5</th><th scope=col>A6</th><th scope=col>A7</th><th scope=col>A8</th><th scope=col>A9</th><th scope=col>A10</th><th scope=col>A11</th><th scope=col>A12</th></tr>\n",
       "\t<tr><th></th><th scope=col>&lt;dbl&gt;</th><th scope=col>&lt;dbl&gt;</th><th scope=col>&lt;dbl&gt;</th><th scope=col>&lt;dbl&gt;</th><th scope=col>&lt;dbl&gt;</th><th scope=col>&lt;dbl&gt;</th><th scope=col>&lt;dbl&gt;</th><th scope=col>&lt;dbl&gt;</th><th scope=col>&lt;dbl&gt;</th><th scope=col>&lt;dbl&gt;</th><th scope=col>&lt;dbl&gt;</th><th scope=col>&lt;dbl&gt;</th></tr>\n",
       "</thead>\n",
       "<tbody>\n",
       "\t<tr><th scope=row>ENSG00000000419.12</th><td> 54.88538</td><td> 61.90347</td><td> 64.17453</td><td> 70.00271</td><td> 57.76992</td><td> 56.33439</td><td> 35.96184</td><td> 64.44960</td><td> 56.95640</td><td> 58.85375</td><td> 75.00503</td><td> 60.98926</td></tr>\n",
       "\t<tr><th scope=row>ENSG00000000457.14</th><td>192.09884</td><td>174.70533</td><td>168.45814</td><td>133.14241</td><td>234.76711</td><td>220.93644</td><td>178.37075</td><td>180.65419</td><td>205.37164</td><td>202.71846</td><td>205.17906</td><td>207.50371</td></tr>\n",
       "\t<tr><th scope=row>ENSG00000000971.15</th><td> 68.60673</td><td> 45.39587</td><td> 49.46787</td><td> 89.21914</td><td> 66.37395</td><td> 64.25641</td><td> 96.37774</td><td> 72.26168</td><td> 88.72055</td><td> 58.03633</td><td> 24.17518</td><td> 10.51539</td></tr>\n",
       "\t<tr><th scope=row>ENSG00000001036.13</th><td>172.66027</td><td>152.69521</td><td>171.13208</td><td>131.76981</td><td>129.06045</td><td>163.72182</td><td>153.91669</td><td>135.73477</td><td>146.77227</td><td>139.77765</td><td>109.09823</td><td> 91.83441</td></tr>\n",
       "\t<tr><th scope=row>ENSG00000001167.14</th><td>399.06247</td><td>337.02998</td><td>316.86174</td><td>329.42452</td><td>341.70291</td><td>288.71375</td><td>326.53355</td><td>351.54329</td><td>397.59950</td><td>399.71504</td><td>469.24636</td><td>504.03772</td></tr>\n",
       "\t<tr><th scope=row>ENSG00000001461.17</th><td>190.95539</td><td>171.95407</td><td>156.42542</td><td>189.41910</td><td>218.78820</td><td>222.69689</td><td>194.19396</td><td>193.34881</td><td>200.99038</td><td>193.72692</td><td>132.65353</td><td>145.11239</td></tr>\n",
       "</tbody>\n",
       "</table>\n"
      ],
      "text/latex": [
       "A data.frame: 6 × 12\n",
       "\\begin{tabular}{r|llllllllllll}\n",
       "  & A1 & A2 & A3 & A4 & A5 & A6 & A7 & A8 & A9 & A10 & A11 & A12\\\\\n",
       "  & <dbl> & <dbl> & <dbl> & <dbl> & <dbl> & <dbl> & <dbl> & <dbl> & <dbl> & <dbl> & <dbl> & <dbl>\\\\\n",
       "\\hline\n",
       "\tENSG00000000419.12 &  54.88538 &  61.90347 &  64.17453 &  70.00271 &  57.76992 &  56.33439 &  35.96184 &  64.44960 &  56.95640 &  58.85375 &  75.00503 &  60.98926\\\\\n",
       "\tENSG00000000457.14 & 192.09884 & 174.70533 & 168.45814 & 133.14241 & 234.76711 & 220.93644 & 178.37075 & 180.65419 & 205.37164 & 202.71846 & 205.17906 & 207.50371\\\\\n",
       "\tENSG00000000971.15 &  68.60673 &  45.39587 &  49.46787 &  89.21914 &  66.37395 &  64.25641 &  96.37774 &  72.26168 &  88.72055 &  58.03633 &  24.17518 &  10.51539\\\\\n",
       "\tENSG00000001036.13 & 172.66027 & 152.69521 & 171.13208 & 131.76981 & 129.06045 & 163.72182 & 153.91669 & 135.73477 & 146.77227 & 139.77765 & 109.09823 &  91.83441\\\\\n",
       "\tENSG00000001167.14 & 399.06247 & 337.02998 & 316.86174 & 329.42452 & 341.70291 & 288.71375 & 326.53355 & 351.54329 & 397.59950 & 399.71504 & 469.24636 & 504.03772\\\\\n",
       "\tENSG00000001461.17 & 190.95539 & 171.95407 & 156.42542 & 189.41910 & 218.78820 & 222.69689 & 194.19396 & 193.34881 & 200.99038 & 193.72692 & 132.65353 & 145.11239\\\\\n",
       "\\end{tabular}\n"
      ],
      "text/markdown": [
       "\n",
       "A data.frame: 6 × 12\n",
       "\n",
       "| <!--/--> | A1 &lt;dbl&gt; | A2 &lt;dbl&gt; | A3 &lt;dbl&gt; | A4 &lt;dbl&gt; | A5 &lt;dbl&gt; | A6 &lt;dbl&gt; | A7 &lt;dbl&gt; | A8 &lt;dbl&gt; | A9 &lt;dbl&gt; | A10 &lt;dbl&gt; | A11 &lt;dbl&gt; | A12 &lt;dbl&gt; |\n",
       "|---|---|---|---|---|---|---|---|---|---|---|---|---|\n",
       "| ENSG00000000419.12 |  54.88538 |  61.90347 |  64.17453 |  70.00271 |  57.76992 |  56.33439 |  35.96184 |  64.44960 |  56.95640 |  58.85375 |  75.00503 |  60.98926 |\n",
       "| ENSG00000000457.14 | 192.09884 | 174.70533 | 168.45814 | 133.14241 | 234.76711 | 220.93644 | 178.37075 | 180.65419 | 205.37164 | 202.71846 | 205.17906 | 207.50371 |\n",
       "| ENSG00000000971.15 |  68.60673 |  45.39587 |  49.46787 |  89.21914 |  66.37395 |  64.25641 |  96.37774 |  72.26168 |  88.72055 |  58.03633 |  24.17518 |  10.51539 |\n",
       "| ENSG00000001036.13 | 172.66027 | 152.69521 | 171.13208 | 131.76981 | 129.06045 | 163.72182 | 153.91669 | 135.73477 | 146.77227 | 139.77765 | 109.09823 |  91.83441 |\n",
       "| ENSG00000001167.14 | 399.06247 | 337.02998 | 316.86174 | 329.42452 | 341.70291 | 288.71375 | 326.53355 | 351.54329 | 397.59950 | 399.71504 | 469.24636 | 504.03772 |\n",
       "| ENSG00000001461.17 | 190.95539 | 171.95407 | 156.42542 | 189.41910 | 218.78820 | 222.69689 | 194.19396 | 193.34881 | 200.99038 | 193.72692 | 132.65353 | 145.11239 |\n",
       "\n"
      ],
      "text/plain": [
       "                   A1        A2        A3        A4        A5        A6       \n",
       "ENSG00000000419.12  54.88538  61.90347  64.17453  70.00271  57.76992  56.33439\n",
       "ENSG00000000457.14 192.09884 174.70533 168.45814 133.14241 234.76711 220.93644\n",
       "ENSG00000000971.15  68.60673  45.39587  49.46787  89.21914  66.37395  64.25641\n",
       "ENSG00000001036.13 172.66027 152.69521 171.13208 131.76981 129.06045 163.72182\n",
       "ENSG00000001167.14 399.06247 337.02998 316.86174 329.42452 341.70291 288.71375\n",
       "ENSG00000001461.17 190.95539 171.95407 156.42542 189.41910 218.78820 222.69689\n",
       "                   A7        A8        A9        A10       A11       A12      \n",
       "ENSG00000000419.12  35.96184  64.44960  56.95640  58.85375  75.00503  60.98926\n",
       "ENSG00000000457.14 178.37075 180.65419 205.37164 202.71846 205.17906 207.50371\n",
       "ENSG00000000971.15  96.37774  72.26168  88.72055  58.03633  24.17518  10.51539\n",
       "ENSG00000001036.13 153.91669 135.73477 146.77227 139.77765 109.09823  91.83441\n",
       "ENSG00000001167.14 326.53355 351.54329 397.59950 399.71504 469.24636 504.03772\n",
       "ENSG00000001461.17 194.19396 193.34881 200.99038 193.72692 132.65353 145.11239"
      ]
     },
     "metadata": {},
     "output_type": "display_data"
    }
   ],
   "source": [
    "counts(dds3, normalized=T) %>% as.data.frame %>% head #%>% rownames_to_column('gene_id') %>% filter(gene_id == 'ENSG00000036549') %>% t"
   ]
  },
  {
   "cell_type": "code",
   "execution_count": 126,
   "metadata": {
    "ExecuteTime": {
     "end_time": "2019-10-16T18:38:26.666026Z",
     "start_time": "2019-10-16T18:38:26.626Z"
    }
   },
   "outputs": [
    {
     "data": {
      "text/html": [
       "0"
      ],
      "text/latex": [
       "0"
      ],
      "text/markdown": [
       "0"
      ],
      "text/plain": [
       "[1] 0"
      ]
     },
     "metadata": {},
     "output_type": "display_data"
    },
    {
     "data": {
      "text/html": [
       "4"
      ],
      "text/latex": [
       "4"
      ],
      "text/markdown": [
       "4"
      ],
      "text/plain": [
       "[1] 4"
      ]
     },
     "metadata": {},
     "output_type": "display_data"
    },
    {
     "data": {
      "text/html": [
       "214"
      ],
      "text/latex": [
       "214"
      ],
      "text/markdown": [
       "214"
      ],
      "text/plain": [
       "[1] 214"
      ]
     },
     "metadata": {},
     "output_type": "display_data"
    },
    {
     "data": {
      "text/html": [
       "626"
      ],
      "text/latex": [
       "626"
      ],
      "text/markdown": [
       "626"
      ],
      "text/plain": [
       "[1] 626"
      ]
     },
     "metadata": {},
     "output_type": "display_data"
    },
    {
     "data": {
      "text/html": [
       "4995"
      ],
      "text/latex": [
       "4995"
      ],
      "text/markdown": [
       "4995"
      ],
      "text/plain": [
       "[1] 4995"
      ]
     },
     "metadata": {},
     "output_type": "display_data"
    }
   ],
   "source": [
    "sig_genes_3a %>% length\n",
    "sig_genes_3b %>% length\n",
    "sig_genes_3c %>% length\n",
    "sig_genes_3d %>% length\n",
    "sig_genes_3e %>% length"
   ]
  },
  {
   "cell_type": "markdown",
   "metadata": {},
   "source": [
    "##### Build a matrix that shows how significant genes show up at different time point.\n",
    "\n",
    " .|15H |1D|2D|4D|7D\n",
    ":--:|:--:|:--:|:--:|:--:|:--:\n",
    "Gene1|log2FC|log2FC|log2FC|log2FC|log2FC\n",
    "Gene2| |log2FC|log2FC|log2FC|log2FC\n",
    "...\n",
    "GeneN| | | |log2FC|log2FC\n",
    "\n"
   ]
  },
  {
   "cell_type": "code",
   "execution_count": 127,
   "metadata": {
    "ExecuteTime": {
     "end_time": "2019-10-16T18:38:30.188350Z",
     "start_time": "2019-10-16T18:38:30.163Z"
    }
   },
   "outputs": [
    {
     "data": {
      "text/html": [
       "TRUE"
      ],
      "text/latex": [
       "TRUE"
      ],
      "text/markdown": [
       "TRUE"
      ],
      "text/plain": [
       "[1] TRUE"
      ]
     },
     "metadata": {},
     "output_type": "display_data"
    }
   ],
   "source": [
    "length(c(1,1,1,1,1)==5) & is.numeric(c(1,1,1,1,1))"
   ]
  },
  {
   "cell_type": "code",
   "execution_count": 169,
   "metadata": {
    "ExecuteTime": {
     "end_time": "2019-10-16T18:38:33.376206Z",
     "start_time": "2019-10-16T18:38:32.038Z"
    }
   },
   "outputs": [],
   "source": [
    "# A function to convert a vector of 5 binary numbers (represented in integer) into an integer. \n",
    "# This esentially represents/flags gene expression time profile.\n",
    "# e.g. c(1,1,1,1,1) => 31, c(0,0,1,0,0) => 8\n",
    "bit.like.to.int <- function(c) { \n",
    "    if (length(c) == 5 & is.numeric(c)){\n",
    "        return(c[1]*2^4 + c[2]*2^3 + c[3]*2^2 + c[4]*2^1 + c[5]*2^0)\n",
    "    }\n",
    "    else {\n",
    "        print(\"Vector must be numeric with a length of 5!\")\n",
    "    }\n",
    "}\n",
    "\n",
    "# DESeq2 results from each time point, combined into a list\n",
    "res.all.times <- list(res3a.df, res3b.df, res3c.df, res3d.df, res3e.df) \n",
    "\n",
    "# first get all significant gene_ids from all 5 time point\n",
    "sig.geneID.all.times <- c()\n",
    "fdr.cutoff <- 0.05\n",
    "for (df in res.all.times) { # iterate through the results from all 5 time points\n",
    "    geneID.temp <- df %>% filter(padj < fdr.cutoff) %>% pull(gene_id) %>% as.character # get gene_ids of significant genes from results of all 5 time points\n",
    "    sig.geneID.all.times <- c(sig.geneID.all.times, geneID.temp) # a list of gene ids for all the genes that are significant at any time point\n",
    "}\n",
    "sig.geneID.all.times <- unique(sig.geneID.all.times) # remove duplicates gene_ids\n",
    "\n",
    "# create a expression table with Log2FC at all 5 time points. The rows are genes that are significant at any timepoint. \n",
    "# Value of NA means the gene is not significant at the given time point\n",
    "\n",
    "#make a df of gene_id\n",
    "expr.tbl <- sig.geneID.all.times %>% as.data.frame(stringsAsFactors=F) %>% rename('.'='gene_id')\n",
    "\n",
    "#create a list of log2FC for all the genes listed in expr.tbl at each time point\n",
    "FC.all.times <- c()\n",
    "for (df in res.all.times) {\n",
    "    x <- expr.tbl %>% left_join(df[df$padj < fdr.cutoff, c('gene_id', 'log2FoldChange')], c('gene_id')) %>% \n",
    "        select(log2FoldChange) %>% pull(log2FoldChange)\n",
    "    FC.all.times <- c(FC.all.times, list(x)) # log2FC for the gene_id\n",
    "}\n",
    "\n",
    "#add log2FC at each time point as a column, then left join gtf_lookup to add gene name\n",
    "expr.tbl <- expr.tbl %>% add_column('1H' = FC.all.times[[1]]) %>% add_column('4H' = FC.all.times[[2]]) %>%\n",
    "             add_column('16H' = FC.all.times[[3]]) %>% add_column('24H' = FC.all.times[[4]]) %>%\n",
    "             add_column('5D' = FC.all.times[[5]]) %>% left_join(gtf_lookup, 'gene_id')\n",
    "\n",
    "\n",
    "# create a logic matrix where 1: this gene is significant at this time point, and 0: not\n",
    "logic.matrix <- apply(expr.tbl[,c(2:6)], MARGIN = 2, function(x) {!is.na(x)}) %>% as.data.frame %>% \n",
    "        mutate_all(funs(as.integer))\n",
    "\n",
    "# expression time profile flag. e.g. a number of 7 represents this gene is activated from D2 through D7, while 1 means only activated on D7\n",
    "expr.flags <- c()\n",
    "for (i in 1:dim(logic.matrix)[1]) {\n",
    "    x <- logic.matrix[i,] %>% as.numeric # convert each row e.g.[1,0,0,0,0] into a numeric vector of 5 elements, eg.c(1,0,0,0,0)\n",
    "    x <- bit.like.to.int(x) # calculate bit value (represented in int, eg. 00100 = 8)\n",
    "    expr.flags <- c(expr.flags, x)\n",
    "}\n",
    "\n",
    "expr.tbl <- cbind(expr.tbl, expr.flag=expr.flags) # add expression flags \n",
    "expr.tbl <- expr.tbl[,c(1,7:8,2:6)]"
   ]
  },
  {
   "cell_type": "code",
   "execution_count": 170,
   "metadata": {
    "ExecuteTime": {
     "end_time": "2019-10-16T18:38:39.311105Z",
     "start_time": "2019-10-16T18:38:39.177Z"
    }
   },
   "outputs": [
    {
     "data": {
      "text/html": [
       "<table>\n",
       "<caption>A data.frame: 6 × 8</caption>\n",
       "<thead>\n",
       "\t<tr><th scope=col>gene_id</th><th scope=col>gene_name</th><th scope=col>expr.flag</th><th scope=col>1H</th><th scope=col>4H</th><th scope=col>16H</th><th scope=col>24H</th><th scope=col>5D</th></tr>\n",
       "\t<tr><th scope=col>&lt;chr&gt;</th><th scope=col>&lt;fct&gt;</th><th scope=col>&lt;dbl&gt;</th><th scope=col>&lt;dbl&gt;</th><th scope=col>&lt;dbl&gt;</th><th scope=col>&lt;dbl&gt;</th><th scope=col>&lt;dbl&gt;</th><th scope=col>&lt;dbl&gt;</th></tr>\n",
       "</thead>\n",
       "<tbody>\n",
       "\t<tr><td>ENSG00000090932.10</td><td>DLL3   </td><td>15</td><td>NA</td><td>1.0980253</td><td>0.8291580</td><td>1.1287681</td><td>0.9689608</td></tr>\n",
       "\t<tr><td>ENSG00000162992.3 </td><td>NEUROD1</td><td>15</td><td>NA</td><td>0.9615801</td><td>0.8092058</td><td>0.8293271</td><td>1.3052551</td></tr>\n",
       "\t<tr><td>ENSG00000166482.11</td><td>MFAP4  </td><td> 8</td><td>NA</td><td>1.1531903</td><td>       NA</td><td>       NA</td><td>       NA</td></tr>\n",
       "\t<tr><td>ENSG00000188452.14</td><td>CERKL  </td><td>15</td><td>NA</td><td>0.9615801</td><td>0.8092058</td><td>0.8293271</td><td>1.3052551</td></tr>\n",
       "\t<tr><td>ENSG00000004700.16</td><td>RECQL  </td><td> 7</td><td>NA</td><td>       NA</td><td>0.7030515</td><td>0.6735579</td><td>0.8788419</td></tr>\n",
       "\t<tr><td>ENSG00000006606.8 </td><td>CCL26  </td><td> 7</td><td>NA</td><td>       NA</td><td>1.5826233</td><td>1.9674747</td><td>1.0737009</td></tr>\n",
       "</tbody>\n",
       "</table>\n"
      ],
      "text/latex": [
       "A data.frame: 6 × 8\n",
       "\\begin{tabular}{r|llllllll}\n",
       " gene\\_id & gene\\_name & expr.flag & 1H & 4H & 16H & 24H & 5D\\\\\n",
       " <chr> & <fct> & <dbl> & <dbl> & <dbl> & <dbl> & <dbl> & <dbl>\\\\\n",
       "\\hline\n",
       "\t ENSG00000090932.10 & DLL3    & 15 & NA & 1.0980253 & 0.8291580 & 1.1287681 & 0.9689608\\\\\n",
       "\t ENSG00000162992.3  & NEUROD1 & 15 & NA & 0.9615801 & 0.8092058 & 0.8293271 & 1.3052551\\\\\n",
       "\t ENSG00000166482.11 & MFAP4   &  8 & NA & 1.1531903 &        NA &        NA &        NA\\\\\n",
       "\t ENSG00000188452.14 & CERKL   & 15 & NA & 0.9615801 & 0.8092058 & 0.8293271 & 1.3052551\\\\\n",
       "\t ENSG00000004700.16 & RECQL   &  7 & NA &        NA & 0.7030515 & 0.6735579 & 0.8788419\\\\\n",
       "\t ENSG00000006606.8  & CCL26   &  7 & NA &        NA & 1.5826233 & 1.9674747 & 1.0737009\\\\\n",
       "\\end{tabular}\n"
      ],
      "text/markdown": [
       "\n",
       "A data.frame: 6 × 8\n",
       "\n",
       "| gene_id &lt;chr&gt; | gene_name &lt;fct&gt; | expr.flag &lt;dbl&gt; | 1H &lt;dbl&gt; | 4H &lt;dbl&gt; | 16H &lt;dbl&gt; | 24H &lt;dbl&gt; | 5D &lt;dbl&gt; |\n",
       "|---|---|---|---|---|---|---|---|\n",
       "| ENSG00000090932.10 | DLL3    | 15 | NA | 1.0980253 | 0.8291580 | 1.1287681 | 0.9689608 |\n",
       "| ENSG00000162992.3  | NEUROD1 | 15 | NA | 0.9615801 | 0.8092058 | 0.8293271 | 1.3052551 |\n",
       "| ENSG00000166482.11 | MFAP4   |  8 | NA | 1.1531903 |        NA |        NA |        NA |\n",
       "| ENSG00000188452.14 | CERKL   | 15 | NA | 0.9615801 | 0.8092058 | 0.8293271 | 1.3052551 |\n",
       "| ENSG00000004700.16 | RECQL   |  7 | NA |        NA | 0.7030515 | 0.6735579 | 0.8788419 |\n",
       "| ENSG00000006606.8  | CCL26   |  7 | NA |        NA | 1.5826233 | 1.9674747 | 1.0737009 |\n",
       "\n"
      ],
      "text/plain": [
       "  gene_id            gene_name expr.flag 1H 4H        16H       24H      \n",
       "1 ENSG00000090932.10 DLL3      15        NA 1.0980253 0.8291580 1.1287681\n",
       "2 ENSG00000162992.3  NEUROD1   15        NA 0.9615801 0.8092058 0.8293271\n",
       "3 ENSG00000166482.11 MFAP4      8        NA 1.1531903        NA        NA\n",
       "4 ENSG00000188452.14 CERKL     15        NA 0.9615801 0.8092058 0.8293271\n",
       "5 ENSG00000004700.16 RECQL      7        NA        NA 0.7030515 0.6735579\n",
       "6 ENSG00000006606.8  CCL26      7        NA        NA 1.5826233 1.9674747\n",
       "  5D       \n",
       "1 0.9689608\n",
       "2 1.3052551\n",
       "3        NA\n",
       "4 1.3052551\n",
       "5 0.8788419\n",
       "6 1.0737009"
      ]
     },
     "metadata": {},
     "output_type": "display_data"
    },
    {
     "data": {
      "text/html": [
       "<ol class=list-inline>\n",
       "\t<li>5079</li>\n",
       "\t<li>8</li>\n",
       "</ol>\n"
      ],
      "text/latex": [
       "\\begin{enumerate*}\n",
       "\\item 5079\n",
       "\\item 8\n",
       "\\end{enumerate*}\n"
      ],
      "text/markdown": [
       "1. 5079\n",
       "2. 8\n",
       "\n",
       "\n"
      ],
      "text/plain": [
       "[1] 5079    8"
      ]
     },
     "metadata": {},
     "output_type": "display_data"
    }
   ],
   "source": [
    "expr.tbl %>% head\n",
    "expr.tbl %>% dim"
   ]
  },
  {
   "cell_type": "code",
   "execution_count": 171,
   "metadata": {
    "ExecuteTime": {
     "end_time": "2019-10-16T18:38:46.491471Z",
     "start_time": "2019-10-16T18:38:46.439Z"
    }
   },
   "outputs": [],
   "source": [
    "#TF list\n",
    "tflist <- read.csv('/c/groups//sanjana_lab/cdai/TFscreen/TFlist.csv', stringsAsFactors = F, col.names='gene_name') %>% pull(var = gene_name)"
   ]
  },
  {
   "cell_type": "code",
   "execution_count": 131,
   "metadata": {
    "ExecuteTime": {
     "end_time": "2019-10-16T18:38:47.603993Z",
     "start_time": "2019-10-16T18:38:47.577Z"
    }
   },
   "outputs": [],
   "source": [
    "correct_tf_gene_name <- read.csv('/c/groups//sanjana_lab/cdai/TFscreen/Refseq_to_Gencode_genenames.csv', header = F, stringsAsFactors = F) %>% rename('V1'='HGNC', 'V2'='Gencode')"
   ]
  },
  {
   "cell_type": "code",
   "execution_count": 132,
   "metadata": {
    "ExecuteTime": {
     "end_time": "2019-10-16T18:38:49.129369Z",
     "start_time": "2019-10-16T18:38:49.101Z"
    }
   },
   "outputs": [
    {
     "data": {
      "text/html": [
       "<table>\n",
       "<caption>A data.frame: 6 × 2</caption>\n",
       "<thead>\n",
       "\t<tr><th scope=col>HGNC</th><th scope=col>Gencode</th></tr>\n",
       "\t<tr><th scope=col>&lt;chr&gt;</th><th scope=col>&lt;chr&gt;</th></tr>\n",
       "</thead>\n",
       "<tbody>\n",
       "\t<tr><td>AES    </td><td>TLES      </td></tr>\n",
       "\t<tr><td>ANKRD32</td><td>SLF1      </td></tr>\n",
       "\t<tr><td>CCRN4L </td><td>NOCT      </td></tr>\n",
       "\t<tr><td>CNOT2  </td><td>AC092881.1</td></tr>\n",
       "\t<tr><td>CRAMP1L</td><td>CRAMP1    </td></tr>\n",
       "\t<tr><td>FAIM3  </td><td>FCMR      </td></tr>\n",
       "</tbody>\n",
       "</table>\n"
      ],
      "text/latex": [
       "A data.frame: 6 × 2\n",
       "\\begin{tabular}{r|ll}\n",
       " HGNC & Gencode\\\\\n",
       " <chr> & <chr>\\\\\n",
       "\\hline\n",
       "\t AES     & TLES      \\\\\n",
       "\t ANKRD32 & SLF1      \\\\\n",
       "\t CCRN4L  & NOCT      \\\\\n",
       "\t CNOT2   & AC092881.1\\\\\n",
       "\t CRAMP1L & CRAMP1    \\\\\n",
       "\t FAIM3   & FCMR      \\\\\n",
       "\\end{tabular}\n"
      ],
      "text/markdown": [
       "\n",
       "A data.frame: 6 × 2\n",
       "\n",
       "| HGNC &lt;chr&gt; | Gencode &lt;chr&gt; |\n",
       "|---|---|\n",
       "| AES     | TLES       |\n",
       "| ANKRD32 | SLF1       |\n",
       "| CCRN4L  | NOCT       |\n",
       "| CNOT2   | AC092881.1 |\n",
       "| CRAMP1L | CRAMP1     |\n",
       "| FAIM3   | FCMR       |\n",
       "\n"
      ],
      "text/plain": [
       "  HGNC    Gencode   \n",
       "1 AES     TLES      \n",
       "2 ANKRD32 SLF1      \n",
       "3 CCRN4L  NOCT      \n",
       "4 CNOT2   AC092881.1\n",
       "5 CRAMP1L CRAMP1    \n",
       "6 FAIM3   FCMR      "
      ]
     },
     "metadata": {},
     "output_type": "display_data"
    }
   ],
   "source": [
    "correct_tf_gene_name %>% head"
   ]
  },
  {
   "cell_type": "code",
   "execution_count": 133,
   "metadata": {
    "ExecuteTime": {
     "end_time": "2019-10-16T18:38:51.667097Z",
     "start_time": "2019-10-16T18:38:51.628Z"
    }
   },
   "outputs": [
    {
     "data": {
      "text/html": [
       "<table>\n",
       "<caption>A data.frame: 29 × 2</caption>\n",
       "<thead>\n",
       "\t<tr><th scope=col>HGNC</th><th scope=col>Gencode</th></tr>\n",
       "\t<tr><th scope=col>&lt;chr&gt;</th><th scope=col>&lt;chr&gt;</th></tr>\n",
       "</thead>\n",
       "<tbody>\n",
       "\t<tr><td>AES    </td><td>TLES      </td></tr>\n",
       "\t<tr><td>ANKRD32</td><td>SLF1      </td></tr>\n",
       "\t<tr><td>CCRN4L </td><td>NOCT      </td></tr>\n",
       "\t<tr><td>CNOT2  </td><td>AC092881.1</td></tr>\n",
       "\t<tr><td>CRAMP1L</td><td>CRAMP1    </td></tr>\n",
       "\t<tr><td>FAIM3  </td><td>FCMR      </td></tr>\n",
       "\t<tr><td>HDGFRP2</td><td>HDGFL2    </td></tr>\n",
       "\t<tr><td>HKR1   </td><td>ZNF875    </td></tr>\n",
       "\t<tr><td>MKL1   </td><td>MRTFA     </td></tr>\n",
       "\t<tr><td>MKL2   </td><td>MRTFB     </td></tr>\n",
       "\t<tr><td>NBPF24 </td><td>AC092881.1</td></tr>\n",
       "\t<tr><td>NDNL2  </td><td>NSMCE3    </td></tr>\n",
       "\t<tr><td>PER1   </td><td>AC129492.1</td></tr>\n",
       "\t<tr><td>POU6F1 </td><td>AC139768.1</td></tr>\n",
       "\t<tr><td>PTRF   </td><td>CAVIN1    </td></tr>\n",
       "\t<tr><td>SP7    </td><td>AC073611.1</td></tr>\n",
       "\t<tr><td>SUGP1  </td><td>AC004475.1</td></tr>\n",
       "\t<tr><td>T      </td><td>TBXT      </td></tr>\n",
       "\t<tr><td>TCEB1  </td><td>ELOC      </td></tr>\n",
       "\t<tr><td>TCEB2  </td><td>ELOB      </td></tr>\n",
       "\t<tr><td>TCEB3  </td><td>ELOA      </td></tr>\n",
       "\t<tr><td>TCEB3B </td><td>ELOA2     </td></tr>\n",
       "\t<tr><td>TCEB3C </td><td>ELOA3     </td></tr>\n",
       "\t<tr><td>WHSC1  </td><td>NSD2      </td></tr>\n",
       "\t<tr><td>WHSC1L1</td><td>NSD3      </td></tr>\n",
       "\t<tr><td>ZC3H4  </td><td>AC008755.1</td></tr>\n",
       "\t<tr><td>ZNF273 </td><td>AC092161.1</td></tr>\n",
       "\t<tr><td>ZNF304 </td><td>AC092161.1</td></tr>\n",
       "\t<tr><td>ZZZ3   </td><td>AC118549.1</td></tr>\n",
       "</tbody>\n",
       "</table>\n"
      ],
      "text/latex": [
       "A data.frame: 29 × 2\n",
       "\\begin{tabular}{r|ll}\n",
       " HGNC & Gencode\\\\\n",
       " <chr> & <chr>\\\\\n",
       "\\hline\n",
       "\t AES     & TLES      \\\\\n",
       "\t ANKRD32 & SLF1      \\\\\n",
       "\t CCRN4L  & NOCT      \\\\\n",
       "\t CNOT2   & AC092881.1\\\\\n",
       "\t CRAMP1L & CRAMP1    \\\\\n",
       "\t FAIM3   & FCMR      \\\\\n",
       "\t HDGFRP2 & HDGFL2    \\\\\n",
       "\t HKR1    & ZNF875    \\\\\n",
       "\t MKL1    & MRTFA     \\\\\n",
       "\t MKL2    & MRTFB     \\\\\n",
       "\t NBPF24  & AC092881.1\\\\\n",
       "\t NDNL2   & NSMCE3    \\\\\n",
       "\t PER1    & AC129492.1\\\\\n",
       "\t POU6F1  & AC139768.1\\\\\n",
       "\t PTRF    & CAVIN1    \\\\\n",
       "\t SP7     & AC073611.1\\\\\n",
       "\t SUGP1   & AC004475.1\\\\\n",
       "\t T       & TBXT      \\\\\n",
       "\t TCEB1   & ELOC      \\\\\n",
       "\t TCEB2   & ELOB      \\\\\n",
       "\t TCEB3   & ELOA      \\\\\n",
       "\t TCEB3B  & ELOA2     \\\\\n",
       "\t TCEB3C  & ELOA3     \\\\\n",
       "\t WHSC1   & NSD2      \\\\\n",
       "\t WHSC1L1 & NSD3      \\\\\n",
       "\t ZC3H4   & AC008755.1\\\\\n",
       "\t ZNF273  & AC092161.1\\\\\n",
       "\t ZNF304  & AC092161.1\\\\\n",
       "\t ZZZ3    & AC118549.1\\\\\n",
       "\\end{tabular}\n"
      ],
      "text/markdown": [
       "\n",
       "A data.frame: 29 × 2\n",
       "\n",
       "| HGNC &lt;chr&gt; | Gencode &lt;chr&gt; |\n",
       "|---|---|\n",
       "| AES     | TLES       |\n",
       "| ANKRD32 | SLF1       |\n",
       "| CCRN4L  | NOCT       |\n",
       "| CNOT2   | AC092881.1 |\n",
       "| CRAMP1L | CRAMP1     |\n",
       "| FAIM3   | FCMR       |\n",
       "| HDGFRP2 | HDGFL2     |\n",
       "| HKR1    | ZNF875     |\n",
       "| MKL1    | MRTFA      |\n",
       "| MKL2    | MRTFB      |\n",
       "| NBPF24  | AC092881.1 |\n",
       "| NDNL2   | NSMCE3     |\n",
       "| PER1    | AC129492.1 |\n",
       "| POU6F1  | AC139768.1 |\n",
       "| PTRF    | CAVIN1     |\n",
       "| SP7     | AC073611.1 |\n",
       "| SUGP1   | AC004475.1 |\n",
       "| T       | TBXT       |\n",
       "| TCEB1   | ELOC       |\n",
       "| TCEB2   | ELOB       |\n",
       "| TCEB3   | ELOA       |\n",
       "| TCEB3B  | ELOA2      |\n",
       "| TCEB3C  | ELOA3      |\n",
       "| WHSC1   | NSD2       |\n",
       "| WHSC1L1 | NSD3       |\n",
       "| ZC3H4   | AC008755.1 |\n",
       "| ZNF273  | AC092161.1 |\n",
       "| ZNF304  | AC092161.1 |\n",
       "| ZZZ3    | AC118549.1 |\n",
       "\n"
      ],
      "text/plain": [
       "   HGNC    Gencode   \n",
       "1  AES     TLES      \n",
       "2  ANKRD32 SLF1      \n",
       "3  CCRN4L  NOCT      \n",
       "4  CNOT2   AC092881.1\n",
       "5  CRAMP1L CRAMP1    \n",
       "6  FAIM3   FCMR      \n",
       "7  HDGFRP2 HDGFL2    \n",
       "8  HKR1    ZNF875    \n",
       "9  MKL1    MRTFA     \n",
       "10 MKL2    MRTFB     \n",
       "11 NBPF24  AC092881.1\n",
       "12 NDNL2   NSMCE3    \n",
       "13 PER1    AC129492.1\n",
       "14 POU6F1  AC139768.1\n",
       "15 PTRF    CAVIN1    \n",
       "16 SP7     AC073611.1\n",
       "17 SUGP1   AC004475.1\n",
       "18 T       TBXT      \n",
       "19 TCEB1   ELOC      \n",
       "20 TCEB2   ELOB      \n",
       "21 TCEB3   ELOA      \n",
       "22 TCEB3B  ELOA2     \n",
       "23 TCEB3C  ELOA3     \n",
       "24 WHSC1   NSD2      \n",
       "25 WHSC1L1 NSD3      \n",
       "26 ZC3H4   AC008755.1\n",
       "27 ZNF273  AC092161.1\n",
       "28 ZNF304  AC092161.1\n",
       "29 ZZZ3    AC118549.1"
      ]
     },
     "metadata": {},
     "output_type": "display_data"
    }
   ],
   "source": [
    "correct_tf_gene_name"
   ]
  },
  {
   "cell_type": "code",
   "execution_count": 206,
   "metadata": {},
   "outputs": [
    {
     "data": {
      "text/html": [
       "<table>\n",
       "<caption>A data.frame: 1 × 2</caption>\n",
       "<thead>\n",
       "\t<tr><th scope=col>gene_name</th><th scope=col>gene_id</th></tr>\n",
       "\t<tr><th scope=col>&lt;fct&gt;</th><th scope=col>&lt;chr&gt;</th></tr>\n",
       "</thead>\n",
       "<tbody>\n",
       "\t<tr><td>AC092161.1</td><td>ENSG00000198039.11</td></tr>\n",
       "</tbody>\n",
       "</table>\n"
      ],
      "text/latex": [
       "A data.frame: 1 × 2\n",
       "\\begin{tabular}{r|ll}\n",
       " gene\\_name & gene\\_id\\\\\n",
       " <fct> & <chr>\\\\\n",
       "\\hline\n",
       "\t AC092161.1 & ENSG00000198039.11\\\\\n",
       "\\end{tabular}\n"
      ],
      "text/markdown": [
       "\n",
       "A data.frame: 1 × 2\n",
       "\n",
       "| gene_name &lt;fct&gt; | gene_id &lt;chr&gt; |\n",
       "|---|---|\n",
       "| AC092161.1 | ENSG00000198039.11 |\n",
       "\n"
      ],
      "text/plain": [
       "  gene_name  gene_id           \n",
       "1 AC092161.1 ENSG00000198039.11"
      ]
     },
     "metadata": {},
     "output_type": "display_data"
    }
   ],
   "source": [
    "gtf_lookup %>% filter(gene_id == 'ENSG00000198039.11')"
   ]
  },
  {
   "cell_type": "code",
   "execution_count": 549,
   "metadata": {},
   "outputs": [
    {
     "data": {
      "text/html": [
       "'AC118549.1'"
      ],
      "text/latex": [
       "'AC118549.1'"
      ],
      "text/markdown": [
       "'AC118549.1'"
      ],
      "text/plain": [
       "[1] \"AC118549.1\""
      ]
     },
     "metadata": {},
     "output_type": "display_data"
    }
   ],
   "source": [
    "correct_tf_gene_name %>% filter(HGNC == 'ZZZ3') %>% pull(Gencode)"
   ]
  },
  {
   "cell_type": "code",
   "execution_count": 555,
   "metadata": {},
   "outputs": [
    {
     "data": {
      "text/html": [
       "'AC118549.1'"
      ],
      "text/latex": [
       "'AC118549.1'"
      ],
      "text/markdown": [
       "'AC118549.1'"
      ],
      "text/plain": [
       "[1] \"AC118549.1\""
      ]
     },
     "metadata": {},
     "output_type": "display_data"
    }
   ],
   "source": [
    "tflist[1988]"
   ]
  },
  {
   "cell_type": "code",
   "execution_count": 558,
   "metadata": {},
   "outputs": [
    {
     "data": {
      "text/html": [
       "<ol class=list-inline>\n",
       "\t<li>1754</li>\n",
       "\t<li>1773</li>\n",
       "</ol>\n"
      ],
      "text/latex": [
       "\\begin{enumerate*}\n",
       "\\item 1754\n",
       "\\item 1773\n",
       "\\end{enumerate*}\n"
      ],
      "text/markdown": [
       "1. 1754\n",
       "2. 1773\n",
       "\n",
       "\n"
      ],
      "text/plain": [
       "[1] 1754 1773"
      ]
     },
     "metadata": {},
     "output_type": "display_data"
    }
   ],
   "source": [
    "which(tflist == 'AC092161.1')"
   ]
  },
  {
   "cell_type": "code",
   "execution_count": 552,
   "metadata": {},
   "outputs": [
    {
     "data": {
      "text/html": [
       "'TLES'"
      ],
      "text/latex": [
       "'TLES'"
      ],
      "text/markdown": [
       "'TLES'"
      ],
      "text/plain": [
       "[1] \"TLES\""
      ]
     },
     "metadata": {},
     "output_type": "display_data"
    }
   ],
   "source": [
    "correct_tf_gene_name$Gencode[1]"
   ]
  },
  {
   "cell_type": "code",
   "execution_count": 554,
   "metadata": {},
   "outputs": [],
   "source": [
    "for (tf in tflist) {\n",
    "    if (tf %in% correct_tf_gene_name$HGNC) {\n",
    "        new_name <- correct_tf_gene_name %>% filter(HGNC == tf) %>% pull(Gencode)\n",
    "        tflist[which(tflist == tf)] <- new_name\n",
    "    }\n",
    "}"
   ]
  },
  {
   "cell_type": "code",
   "execution_count": 518,
   "metadata": {},
   "outputs": [
    {
     "data": {
      "text/html": [
       "<ol class=list-inline>\n",
       "\t<li>'AATF'</li>\n",
       "\t<li>'ABL1'</li>\n",
       "\t<li>'ABT1'</li>\n",
       "\t<li>'ABTB1'</li>\n",
       "\t<li>'ADNP'</li>\n",
       "\t<li>'AEBP1'</li>\n",
       "</ol>\n"
      ],
      "text/latex": [
       "\\begin{enumerate*}\n",
       "\\item 'AATF'\n",
       "\\item 'ABL1'\n",
       "\\item 'ABT1'\n",
       "\\item 'ABTB1'\n",
       "\\item 'ADNP'\n",
       "\\item 'AEBP1'\n",
       "\\end{enumerate*}\n"
      ],
      "text/markdown": [
       "1. 'AATF'\n",
       "2. 'ABL1'\n",
       "3. 'ABT1'\n",
       "4. 'ABTB1'\n",
       "5. 'ADNP'\n",
       "6. 'AEBP1'\n",
       "\n",
       "\n"
      ],
      "text/plain": [
       "[1] \"AATF\"  \"ABL1\"  \"ABT1\"  \"ABTB1\" \"ADNP\"  \"AEBP1\""
      ]
     },
     "metadata": {},
     "output_type": "display_data"
    }
   ],
   "source": [
    "tflist %>% head"
   ]
  },
  {
   "cell_type": "code",
   "execution_count": 173,
   "metadata": {},
   "outputs": [],
   "source": [
    "#120 hit list\n",
    "hitlist <- read.csv('/c/groups//sanjana_lab/cdai/TFscreen/HS_td-VStd+_td-VSdox120.csv', header = F, stringsAsFactors = F) %>% pull"
   ]
  },
  {
   "cell_type": "code",
   "execution_count": 174,
   "metadata": {},
   "outputs": [
    {
     "data": {
      "text/html": [
       "<table>\n",
       "<caption>A matrix: 1 × 120 of type chr</caption>\n",
       "<tbody>\n",
       "\t<tr><td>PHOX2A</td><td>TAF1L</td><td>TFEB</td><td>VAX2</td><td>SNAI2</td><td>ELK3</td><td>ISL2</td><td>ZBTB43</td><td>ZNF200</td><td>MLLT6</td><td>⋯</td><td>ZBTB18</td><td>CHD5</td><td>CTNNB1</td><td>ZNF554</td><td>UBE2K</td><td>HTATIP2</td><td>NEUROG3</td><td>SMAD3</td><td>LHX4</td><td>PRDM6</td></tr>\n",
       "</tbody>\n",
       "</table>\n"
      ],
      "text/latex": [
       "A matrix: 1 × 120 of type chr\n",
       "\\begin{tabular}{llllllllllllllllllllllllllllllllllllllllllllllllllllllllllllllllllllllllllllllllllllllllllllllllllllllllllllllllllllllll}\n",
       "\t PHOX2A & TAF1L & TFEB & VAX2 & SNAI2 & ELK3 & ISL2 & ZBTB43 & ZNF200 & MLLT6 & NFAT5 & ZNF563 & ZNF3 & ZFY & ZNF502 & RCOR2 & TSC22D3 & NR1I2 & RBPJ & HSFY1 & TAF5 & RAI14 & PHF12 & BRWD1 & FOXQ1 & CREBZF & EMX1 & ZNF324 & ZIM3 & ZNF311 & ZNF136 & EGR3 & ASB1 & CBX4 & GTF2A2 & ZKSCAN3 & HOXC13 & ZNF671 & ZNF639 & KLF10 & JADE3 & ARID1B & ZNF547 & CNOT6 & EBF1 & AHR & PAX7 & POLR2B & SIX5 & CDX4 & GATA1 & ZNF573 & NKX3-2 & ZNF250 & POU2F3 & PRDM5 & HIST1H2BC & NBPF24 & ZNF34 & SKI & E2F1 & ARNTL & MEOX2 & AIP & ZNF510 & ZNF440 & DLX5 & HIF3A & SOX15 & APBB2 & TOX4 & ZNF239 & FOXN2 & SCRT2 & RORB & CRY1 & ZNF92 & JUND & CEBPA & INSM1 & ZNF441 & THRA & NKRF & MPHOSPH8 & NR1D2 & ZFPM1 & JUNB & TBPL1 & ZNF141 & BHLHA15 & EHF & ZZZ3 & ZIC1 & POU3F2 & HOXB3 & KLF14 & CTDP1 & VGLL2 & AFF4 & ZNF282 & MECP2 & TCEA2 & SLA2 & TSHZ3 & NFKBIB & HIST1H1E & PAX2 & POLR2J & ZFP2 & ZNF107 & ZBTB18 & CHD5 & CTNNB1 & ZNF554 & UBE2K & HTATIP2 & NEUROG3 & SMAD3 & LHX4 & PRDM6\\\\\n",
       "\\end{tabular}\n"
      ],
      "text/markdown": [
       "\n",
       "A matrix: 1 × 120 of type chr\n",
       "\n",
       "| PHOX2A | TAF1L | TFEB | VAX2 | SNAI2 | ELK3 | ISL2 | ZBTB43 | ZNF200 | MLLT6 | ⋯ | ZBTB18 | CHD5 | CTNNB1 | ZNF554 | UBE2K | HTATIP2 | NEUROG3 | SMAD3 | LHX4 | PRDM6 |\n",
       "\n"
      ],
      "text/plain": [
       "     [,1]   [,2]  [,3] [,4] [,5]  [,6] [,7] [,8]   [,9]   [,10] [,11] [,12] \n",
       "[1,] PHOX2A TAF1L TFEB VAX2 SNAI2 ELK3 ISL2 ZBTB43 ZNF200 MLLT6 ⋯     ZBTB18\n",
       "     [,13] [,14]  [,15]  [,16] [,17]   [,18]   [,19] [,20] [,21]\n",
       "[1,] CHD5  CTNNB1 ZNF554 UBE2K HTATIP2 NEUROG3 SMAD3 LHX4  PRDM6"
      ]
     },
     "metadata": {},
     "output_type": "display_data"
    }
   ],
   "source": [
    "hitlist %>% t"
   ]
  },
  {
   "cell_type": "code",
   "execution_count": 175,
   "metadata": {},
   "outputs": [],
   "source": [
    "expr.tbl <- expr.tbl %>% mutate(isTF=if_else(gene_name %in% tflist, 'Yes', 'No')) %>% \n",
    "             mutate(isHIT=if_else(gene_name %in% hitlist, 'Yes', 'No'))"
   ]
  },
  {
   "cell_type": "code",
   "execution_count": 176,
   "metadata": {
    "ExecuteTime": {
     "end_time": "2019-09-14T16:05:27.164082Z",
     "start_time": "2019-09-14T16:05:27.116Z"
    }
   },
   "outputs": [],
   "source": [
    "expr.tbl %>% write.csv('ATAC_FoldChangeByTimePoints.csv', row.names=F)"
   ]
  },
  {
   "cell_type": "code",
   "execution_count": null,
   "metadata": {},
   "outputs": [],
   "source": []
  },
  {
   "cell_type": "code",
   "execution_count": 211,
   "metadata": {},
   "outputs": [],
   "source": [
    "ano3 <- coldata3"
   ]
  },
  {
   "cell_type": "code",
   "execution_count": 134,
   "metadata": {
    "ExecuteTime": {
     "end_time": "2019-10-16T18:39:11.629049Z",
     "start_time": "2019-10-16T18:39:11.603Z"
    }
   },
   "outputs": [
    {
     "ename": "ERROR",
     "evalue": "Error in eval(lhs, parent, parent): object 'res3e_tf' not found\n",
     "output_type": "error",
     "traceback": [
      "Error in eval(lhs, parent, parent): object 'res3e_tf' not found\nTraceback:\n",
      "1. res3e_tf %>% filter(DGE != \"No Change\" & padj < fdr & abs(log2FoldChange) > \n .     abs(FC.threshold)) %>% pull(gene_name) %>% as.character",
      "2. eval(lhs, parent, parent)",
      "3. eval(lhs, parent, parent)"
     ]
    }
   ],
   "source": [
    "tf.heatmap.genes.3e <- res3e_tf %>% filter(DGE != 'No Change' & padj < fdr & abs(log2FoldChange) > abs(FC.threshold)) %>% pull(gene_name) %>% as.character\n",
    "cnts3_tf[,c(2:16)] %>% filter(gene_name %in% tf.heatmap.genes.3e) %>% column_to_rownames('gene_name') %>% mutate_all(quadroot) %>% as.matrix %>%\n",
    "                pheatmap(cluster_rows = T, show_rownames = F, cluster_cols = F, annotation = ano3, fontsize=8, treeheight_row=0,\n",
    "                main = paste0('+DOX vs. ES at 7D, Screened TF Genes (fdr<',fdr,', log2FC>',FC.threshold,')'))"
   ]
  },
  {
   "cell_type": "markdown",
   "metadata": {},
   "source": [
    "##### genes that are significant from 1H to 5D"
   ]
  },
  {
   "cell_type": "code",
   "execution_count": 135,
   "metadata": {
    "ExecuteTime": {
     "end_time": "2019-10-16T18:39:20.479748Z",
     "start_time": "2019-10-16T18:39:20.454Z"
    }
   },
   "outputs": [
    {
     "data": {
      "text/html": [
       "0"
      ],
      "text/latex": [
       "0"
      ],
      "text/markdown": [
       "0"
      ],
      "text/plain": [
       "[1] 0"
      ]
     },
     "metadata": {},
     "output_type": "display_data"
    }
   ],
   "source": [
    "sig_genes_3a %>% intersect(sig_genes_3b) %>% intersect(sig_genes_3c) %>% intersect(sig_genes_3d) %>%\n",
    "                 intersect(sig_genes_3e) %>% length"
   ]
  },
  {
   "cell_type": "markdown",
   "metadata": {},
   "source": [
    "##### genes that become significant at 4H and continues to be significant at 16H, 24H and Day 5"
   ]
  },
  {
   "cell_type": "code",
   "execution_count": 136,
   "metadata": {
    "ExecuteTime": {
     "end_time": "2019-10-16T18:39:22.732374Z",
     "start_time": "2019-10-16T18:39:22.704Z"
    }
   },
   "outputs": [
    {
     "data": {
      "text/html": [
       "3"
      ],
      "text/latex": [
       "3"
      ],
      "text/markdown": [
       "3"
      ],
      "text/plain": [
       "[1] 3"
      ]
     },
     "metadata": {},
     "output_type": "display_data"
    }
   ],
   "source": [
    "sig_genes_3b %>%  setdiff(sig_genes_3a)  %>% intersect(sig_genes_3c) %>% \n",
    "            intersect(sig_genes_3d) %>% intersect(sig_genes_3e) %>% length"
   ]
  },
  {
   "cell_type": "markdown",
   "metadata": {},
   "source": [
    "##### genes that become significant at 16H and continues to be significant at 24H and Day 5"
   ]
  },
  {
   "cell_type": "code",
   "execution_count": 137,
   "metadata": {
    "ExecuteTime": {
     "end_time": "2019-10-16T18:39:23.814769Z",
     "start_time": "2019-10-16T18:39:23.791Z"
    }
   },
   "outputs": [
    {
     "data": {
      "text/html": [
       "126"
      ],
      "text/latex": [
       "126"
      ],
      "text/markdown": [
       "126"
      ],
      "text/plain": [
       "[1] 126"
      ]
     },
     "metadata": {},
     "output_type": "display_data"
    }
   ],
   "source": [
    "sig_genes_3c %>% setdiff(unique(c(sig_genes_3a,sig_genes_3b))) %>% intersect(sig_genes_3d) %>% intersect(sig_genes_3e) %>% length"
   ]
  },
  {
   "cell_type": "markdown",
   "metadata": {},
   "source": [
    "##### genes that become significant at 24H and continues to be significant at Day 5"
   ]
  },
  {
   "cell_type": "code",
   "execution_count": 138,
   "metadata": {
    "ExecuteTime": {
     "end_time": "2019-10-16T18:39:24.929976Z",
     "start_time": "2019-10-16T18:39:24.904Z"
    }
   },
   "outputs": [
    {
     "data": {
      "text/html": [
       "4819"
      ],
      "text/latex": [
       "4819"
      ],
      "text/markdown": [
       "4819"
      ],
      "text/plain": [
       "[1] 4819"
      ]
     },
     "metadata": {},
     "output_type": "display_data"
    }
   ],
   "source": [
    "sig_genes_3e %>% setdiff(unique(c(sig_genes_3a,sig_genes_3b, sig_genes_3c))) %>% intersect(sig_genes_3e) %>% length"
   ]
  },
  {
   "cell_type": "markdown",
   "metadata": {},
   "source": [
    "##### genes that are only significant at Day 5"
   ]
  },
  {
   "cell_type": "code",
   "execution_count": 139,
   "metadata": {
    "ExecuteTime": {
     "end_time": "2019-10-16T18:39:26.053373Z",
     "start_time": "2019-10-16T18:39:26.029Z"
    }
   },
   "outputs": [
    {
     "data": {
      "text/html": [
       "4378"
      ],
      "text/latex": [
       "4378"
      ],
      "text/markdown": [
       "4378"
      ],
      "text/plain": [
       "[1] 4378"
      ]
     },
     "metadata": {},
     "output_type": "display_data"
    }
   ],
   "source": [
    "sig_genes_3e %>% setdiff(unique(c(sig_genes_3a,sig_genes_3b, sig_genes_3c, sig_genes_3d))) %>% length"
   ]
  },
  {
   "cell_type": "markdown",
   "metadata": {},
   "source": [
    "## Zoom in on ~2000 screened TF"
   ]
  },
  {
   "cell_type": "code",
   "execution_count": 140,
   "metadata": {
    "ExecuteTime": {
     "end_time": "2019-10-16T18:39:34.220334Z",
     "start_time": "2019-10-16T18:39:34.189Z"
    }
   },
   "outputs": [],
   "source": [
    "#TF list\n",
    "tflist <- read.csv('/c/groups//sanjana_lab/cdai/TFscreen/TFlist.csv', stringsAsFactors = F, col.names='gene_name') %>% pull(var = gene_name)"
   ]
  },
  {
   "cell_type": "code",
   "execution_count": 141,
   "metadata": {
    "ExecuteTime": {
     "end_time": "2019-10-16T18:39:35.098589Z",
     "start_time": "2019-10-16T18:39:35.067Z"
    }
   },
   "outputs": [
    {
     "data": {
      "text/html": [
       "<ol class=list-inline>\n",
       "\t<li>'AATF'</li>\n",
       "\t<li>'ABL1'</li>\n",
       "\t<li>'ABT1'</li>\n",
       "\t<li>'ABTB1'</li>\n",
       "\t<li>'ADNP'</li>\n",
       "</ol>\n"
      ],
      "text/latex": [
       "\\begin{enumerate*}\n",
       "\\item 'AATF'\n",
       "\\item 'ABL1'\n",
       "\\item 'ABT1'\n",
       "\\item 'ABTB1'\n",
       "\\item 'ADNP'\n",
       "\\end{enumerate*}\n"
      ],
      "text/markdown": [
       "1. 'AATF'\n",
       "2. 'ABL1'\n",
       "3. 'ABT1'\n",
       "4. 'ABTB1'\n",
       "5. 'ADNP'\n",
       "\n",
       "\n"
      ],
      "text/plain": [
       "[1] \"AATF\"  \"ABL1\"  \"ABT1\"  \"ABTB1\" \"ADNP\" "
      ]
     },
     "metadata": {},
     "output_type": "display_data"
    },
    {
     "data": {
      "text/html": [
       "1988"
      ],
      "text/latex": [
       "1988"
      ],
      "text/markdown": [
       "1988"
      ],
      "text/plain": [
       "[1] 1988"
      ]
     },
     "metadata": {},
     "output_type": "display_data"
    }
   ],
   "source": [
    "tflist[1:5]\n",
    "length(tflist)"
   ]
  },
  {
   "cell_type": "markdown",
   "metadata": {},
   "source": [
    "#### Result for each temporal stage\n",
    "`gene`,`padj`,`log2FoldChange` for each temporal point (15H - 7D) for the 1988 TF genes.\n",
    "\n",
    "Selection criteria:\n",
    "- `padj` is not na\n",
    "- `gene_name` in `tflist`"
   ]
  },
  {
   "cell_type": "code",
   "execution_count": 142,
   "metadata": {
    "ExecuteTime": {
     "end_time": "2019-10-16T18:39:37.836963Z",
     "start_time": "2019-10-16T18:39:37.804Z"
    }
   },
   "outputs": [
    {
     "data": {
      "text/html": [
       "<table>\n",
       "<caption>A data.frame: 6 × 8</caption>\n",
       "<thead>\n",
       "\t<tr><th></th><th scope=col>gene_id</th><th scope=col>baseMean</th><th scope=col>log2FoldChange</th><th scope=col>lfcSE</th><th scope=col>stat</th><th scope=col>pvalue</th><th scope=col>padj</th><th scope=col>gene_name</th></tr>\n",
       "\t<tr><th></th><th scope=col>&lt;chr&gt;</th><th scope=col>&lt;dbl&gt;</th><th scope=col>&lt;dbl&gt;</th><th scope=col>&lt;dbl&gt;</th><th scope=col>&lt;dbl&gt;</th><th scope=col>&lt;dbl&gt;</th><th scope=col>&lt;dbl&gt;</th><th scope=col>&lt;chr&gt;</th></tr>\n",
       "</thead>\n",
       "<tbody>\n",
       "\t<tr><th scope=row>13191</th><td>ENSG00000287363.1</td><td> 22.95489</td><td> 1.62396139</td><td>0.5884634</td><td> 2.7596641</td><td>0.005786082</td><td>0.08182459</td><td>AL096814.2</td></tr>\n",
       "\t<tr><th scope=row>13192</th><td>ENSG00000287542.1</td><td>143.47061</td><td> 0.06822577</td><td>0.2150264</td><td> 0.3172902</td><td>0.751023432</td><td>0.90550531</td><td>AC098582.1</td></tr>\n",
       "\t<tr><th scope=row>13193</th><td>ENSG00000287694.1</td><td> 32.57506</td><td>-0.45146464</td><td>0.4358343</td><td>-1.0358630</td><td>0.300266066</td><td>0.62721321</td><td>AC106741.1</td></tr>\n",
       "\t<tr><th scope=row>13194</th><td>ENSG00000287856.1</td><td>162.06801</td><td> 0.07835424</td><td>0.1936141</td><td> 0.4046928</td><td>0.685703307</td><td>0.87582653</td><td>AL445524.2</td></tr>\n",
       "\t<tr><th scope=row>13195</th><td>ENSG00000288000.1</td><td>120.69046</td><td> 0.27009295</td><td>0.2246850</td><td> 1.2020963</td><td>0.229326221</td><td>0.56113273</td><td>AL031681.2</td></tr>\n",
       "\t<tr><th scope=row>13196</th><td>ENSG00000288053.1</td><td>110.25587</td><td>-0.15783984</td><td>0.2213475</td><td>-0.7130862</td><td>0.475792427</td><td>0.76225035</td><td>AC231657.3</td></tr>\n",
       "</tbody>\n",
       "</table>\n"
      ],
      "text/latex": [
       "A data.frame: 6 × 8\n",
       "\\begin{tabular}{r|llllllll}\n",
       "  & gene\\_id & baseMean & log2FoldChange & lfcSE & stat & pvalue & padj & gene\\_name\\\\\n",
       "  & <chr> & <dbl> & <dbl> & <dbl> & <dbl> & <dbl> & <dbl> & <chr>\\\\\n",
       "\\hline\n",
       "\t13191 & ENSG00000287363.1 &  22.95489 &  1.62396139 & 0.5884634 &  2.7596641 & 0.005786082 & 0.08182459 & AL096814.2\\\\\n",
       "\t13192 & ENSG00000287542.1 & 143.47061 &  0.06822577 & 0.2150264 &  0.3172902 & 0.751023432 & 0.90550531 & AC098582.1\\\\\n",
       "\t13193 & ENSG00000287694.1 &  32.57506 & -0.45146464 & 0.4358343 & -1.0358630 & 0.300266066 & 0.62721321 & AC106741.1\\\\\n",
       "\t13194 & ENSG00000287856.1 & 162.06801 &  0.07835424 & 0.1936141 &  0.4046928 & 0.685703307 & 0.87582653 & AL445524.2\\\\\n",
       "\t13195 & ENSG00000288000.1 & 120.69046 &  0.27009295 & 0.2246850 &  1.2020963 & 0.229326221 & 0.56113273 & AL031681.2\\\\\n",
       "\t13196 & ENSG00000288053.1 & 110.25587 & -0.15783984 & 0.2213475 & -0.7130862 & 0.475792427 & 0.76225035 & AC231657.3\\\\\n",
       "\\end{tabular}\n"
      ],
      "text/markdown": [
       "\n",
       "A data.frame: 6 × 8\n",
       "\n",
       "| <!--/--> | gene_id &lt;chr&gt; | baseMean &lt;dbl&gt; | log2FoldChange &lt;dbl&gt; | lfcSE &lt;dbl&gt; | stat &lt;dbl&gt; | pvalue &lt;dbl&gt; | padj &lt;dbl&gt; | gene_name &lt;chr&gt; |\n",
       "|---|---|---|---|---|---|---|---|---|\n",
       "| 13191 | ENSG00000287363.1 |  22.95489 |  1.62396139 | 0.5884634 |  2.7596641 | 0.005786082 | 0.08182459 | AL096814.2 |\n",
       "| 13192 | ENSG00000287542.1 | 143.47061 |  0.06822577 | 0.2150264 |  0.3172902 | 0.751023432 | 0.90550531 | AC098582.1 |\n",
       "| 13193 | ENSG00000287694.1 |  32.57506 | -0.45146464 | 0.4358343 | -1.0358630 | 0.300266066 | 0.62721321 | AC106741.1 |\n",
       "| 13194 | ENSG00000287856.1 | 162.06801 |  0.07835424 | 0.1936141 |  0.4046928 | 0.685703307 | 0.87582653 | AL445524.2 |\n",
       "| 13195 | ENSG00000288000.1 | 120.69046 |  0.27009295 | 0.2246850 |  1.2020963 | 0.229326221 | 0.56113273 | AL031681.2 |\n",
       "| 13196 | ENSG00000288053.1 | 110.25587 | -0.15783984 | 0.2213475 | -0.7130862 | 0.475792427 | 0.76225035 | AC231657.3 |\n",
       "\n"
      ],
      "text/plain": [
       "      gene_id           baseMean  log2FoldChange lfcSE     stat      \n",
       "13191 ENSG00000287363.1  22.95489  1.62396139    0.5884634  2.7596641\n",
       "13192 ENSG00000287542.1 143.47061  0.06822577    0.2150264  0.3172902\n",
       "13193 ENSG00000287694.1  32.57506 -0.45146464    0.4358343 -1.0358630\n",
       "13194 ENSG00000287856.1 162.06801  0.07835424    0.1936141  0.4046928\n",
       "13195 ENSG00000288000.1 120.69046  0.27009295    0.2246850  1.2020963\n",
       "13196 ENSG00000288053.1 110.25587 -0.15783984    0.2213475 -0.7130862\n",
       "      pvalue      padj       gene_name \n",
       "13191 0.005786082 0.08182459 AL096814.2\n",
       "13192 0.751023432 0.90550531 AC098582.1\n",
       "13193 0.300266066 0.62721321 AC106741.1\n",
       "13194 0.685703307 0.87582653 AL445524.2\n",
       "13195 0.229326221 0.56113273 AL031681.2\n",
       "13196 0.475792427 0.76225035 AC231657.3"
      ]
     },
     "metadata": {},
     "output_type": "display_data"
    }
   ],
   "source": [
    "res3d.df %>% tail"
   ]
  },
  {
   "cell_type": "code",
   "execution_count": 143,
   "metadata": {
    "ExecuteTime": {
     "end_time": "2019-10-16T18:39:40.863632Z",
     "start_time": "2019-10-16T18:39:40.779Z"
    }
   },
   "outputs": [],
   "source": [
    "# get DGE result, namely FC and padj, for each temproal point\n",
    "res3a_tf <- res3a.df %>% filter((gene_name %in% tflist) & (!is.na(padj))) %>% select(gene_name, gene_id, padj, log2FoldChange)\n",
    "res3b_tf <- res3b.df %>% filter((gene_name %in% tflist) & (!is.na(padj))) %>% select(gene_name, gene_id, padj, log2FoldChange)\n",
    "res3c_tf <- res3c.df %>% filter((gene_name %in% tflist) & (!is.na(padj))) %>% select(gene_name, gene_id, padj, log2FoldChange)\n",
    "res3d_tf <- res3d.df %>% filter((gene_name %in% tflist) & (!is.na(padj))) %>% select(gene_name, gene_id, padj, log2FoldChange)\n",
    "res3e_tf <- res3e.df %>% filter((gene_name %in% tflist) & (!is.na(padj))) %>% select(gene_name, gene_id, padj, log2FoldChange)"
   ]
  },
  {
   "cell_type": "code",
   "execution_count": 144,
   "metadata": {
    "ExecuteTime": {
     "end_time": "2019-10-16T18:39:43.423149Z",
     "start_time": "2019-10-16T18:39:43.404Z"
    }
   },
   "outputs": [],
   "source": [
    "# Determine and annotate whether a TF screen listed gene is up or down regulated\n",
    "fdr = 0.05\n",
    "FC.threshold = 1.5"
   ]
  },
  {
   "cell_type": "code",
   "execution_count": 145,
   "metadata": {
    "ExecuteTime": {
     "end_time": "2019-10-16T18:39:44.797967Z",
     "start_time": "2019-10-16T18:39:44.754Z"
    }
   },
   "outputs": [],
   "source": [
    "res3a_tf <- res3a_tf %>% mutate(DGE=case_when(padj < fdr & log2FoldChange > FC.threshold ~ 'Up', \n",
    "                                  padj < fdr & log2FoldChange < -FC.threshold ~ 'Down',\n",
    "                                  padj < fdr & log2FoldChange >= -FC.threshold & log2FoldChange <= FC.threshold ~ 'No Change',\n",
    "                                  padj >= fdr ~ 'No Change')) \n",
    "res3b_tf <- res3b_tf %>% mutate(DGE=case_when(padj < fdr & log2FoldChange > FC.threshold ~ 'Up', \n",
    "                                  padj < fdr & log2FoldChange < -FC.threshold ~ 'Down',\n",
    "                                  padj < fdr & log2FoldChange >= -FC.threshold & log2FoldChange <= FC.threshold ~ 'No Change',\n",
    "                                  padj >= fdr ~ 'No Change')) \n",
    "res3c_tf <- res3c_tf %>% mutate(DGE=case_when(padj < fdr & log2FoldChange > FC.threshold ~ 'Up', \n",
    "                                  padj < fdr & log2FoldChange < -FC.threshold ~ 'Down',\n",
    "                                  padj < fdr & log2FoldChange >= -FC.threshold & log2FoldChange <= FC.threshold ~ 'No Change',\n",
    "                                  padj >= fdr ~ 'No Change')) \n",
    "res3d_tf <- res3d_tf %>% mutate(DGE=case_when(padj < fdr & log2FoldChange > FC.threshold ~ 'Up', \n",
    "                                  padj < fdr & log2FoldChange < -FC.threshold ~ 'Down',\n",
    "                                  padj < fdr & log2FoldChange >= -FC.threshold & log2FoldChange <= FC.threshold ~ 'No Change',\n",
    "                                  padj >= fdr ~ 'No Change')) \n",
    "res3e_tf <- res3e_tf %>% mutate(DGE=case_when(padj < fdr & log2FoldChange > FC.threshold ~ 'Up', \n",
    "                                  padj < fdr & log2FoldChange < -FC.threshold ~ 'Down',\n",
    "                                  padj < fdr & log2FoldChange >= -FC.threshold & log2FoldChange <= FC.threshold ~ 'No Change',\n",
    "                                  padj >= fdr ~ 'No Change')) "
   ]
  },
  {
   "cell_type": "raw",
   "metadata": {
    "ExecuteTime": {
     "end_time": "2019-09-06T02:46:24.002336Z",
     "start_time": "2019-09-06T02:46:23.760Z"
    }
   },
   "source": [
    "#Export to csv\n",
    "res3a_tf %>% write.csv('TF_Screen_FC_Pval_15HvsES.csv', quote=F)\n",
    "res3b_tf %>% write.csv('TF_Screen_FC_Pval_1DvsES.csv', quote=F)\n",
    "res3c_tf %>% write.csv('TF_Screen_FC_Pval_2DvsES.csv', quote=F)\n",
    "res3d_tf %>% write.csv('TF_Screen_FC_Pval_4DvsES.csv', quote=F)\n",
    "res3e_tf %>% write.csv('TF_Screen_FC_Pval_7DvsES.csv', quote=F)"
   ]
  },
  {
   "cell_type": "code",
   "execution_count": 146,
   "metadata": {
    "ExecuteTime": {
     "end_time": "2019-10-16T18:39:47.272657Z",
     "start_time": "2019-10-16T18:39:47.232Z"
    }
   },
   "outputs": [
    {
     "data": {
      "text/html": [
       "<table>\n",
       "<caption>A data.frame: 6 × 5</caption>\n",
       "<thead>\n",
       "\t<tr><th scope=col>gene_name</th><th scope=col>gene_id</th><th scope=col>padj</th><th scope=col>log2FoldChange</th><th scope=col>DGE</th></tr>\n",
       "\t<tr><th scope=col>&lt;chr&gt;</th><th scope=col>&lt;chr&gt;</th><th scope=col>&lt;dbl&gt;</th><th scope=col>&lt;dbl&gt;</th><th scope=col>&lt;chr&gt;</th></tr>\n",
       "</thead>\n",
       "<tbody>\n",
       "\t<tr><td>NFYA  </td><td>ENSG00000001167.14</td><td>0.9992379</td><td>-0.191985511</td><td>No Change</td></tr>\n",
       "\t<tr><td>ARX   </td><td>ENSG00000004848.8 </td><td>0.9992379</td><td>-0.033792613</td><td>No Change</td></tr>\n",
       "\t<tr><td>UPF1  </td><td>ENSG00000005007.12</td><td>0.9992379</td><td> 0.570607118</td><td>No Change</td></tr>\n",
       "\t<tr><td>CREBBP</td><td>ENSG00000005339.14</td><td>0.9992379</td><td> 0.002380666</td><td>No Change</td></tr>\n",
       "\t<tr><td>SOX8  </td><td>ENSG00000005513.10</td><td>0.9992379</td><td> 0.231548685</td><td>No Change</td></tr>\n",
       "\t<tr><td>ZNF195</td><td>ENSG00000005801.18</td><td>0.9992379</td><td> 0.161616070</td><td>No Change</td></tr>\n",
       "</tbody>\n",
       "</table>\n"
      ],
      "text/latex": [
       "A data.frame: 6 × 5\n",
       "\\begin{tabular}{r|lllll}\n",
       " gene\\_name & gene\\_id & padj & log2FoldChange & DGE\\\\\n",
       " <chr> & <chr> & <dbl> & <dbl> & <chr>\\\\\n",
       "\\hline\n",
       "\t NFYA   & ENSG00000001167.14 & 0.9992379 & -0.191985511 & No Change\\\\\n",
       "\t ARX    & ENSG00000004848.8  & 0.9992379 & -0.033792613 & No Change\\\\\n",
       "\t UPF1   & ENSG00000005007.12 & 0.9992379 &  0.570607118 & No Change\\\\\n",
       "\t CREBBP & ENSG00000005339.14 & 0.9992379 &  0.002380666 & No Change\\\\\n",
       "\t SOX8   & ENSG00000005513.10 & 0.9992379 &  0.231548685 & No Change\\\\\n",
       "\t ZNF195 & ENSG00000005801.18 & 0.9992379 &  0.161616070 & No Change\\\\\n",
       "\\end{tabular}\n"
      ],
      "text/markdown": [
       "\n",
       "A data.frame: 6 × 5\n",
       "\n",
       "| gene_name &lt;chr&gt; | gene_id &lt;chr&gt; | padj &lt;dbl&gt; | log2FoldChange &lt;dbl&gt; | DGE &lt;chr&gt; |\n",
       "|---|---|---|---|---|\n",
       "| NFYA   | ENSG00000001167.14 | 0.9992379 | -0.191985511 | No Change |\n",
       "| ARX    | ENSG00000004848.8  | 0.9992379 | -0.033792613 | No Change |\n",
       "| UPF1   | ENSG00000005007.12 | 0.9992379 |  0.570607118 | No Change |\n",
       "| CREBBP | ENSG00000005339.14 | 0.9992379 |  0.002380666 | No Change |\n",
       "| SOX8   | ENSG00000005513.10 | 0.9992379 |  0.231548685 | No Change |\n",
       "| ZNF195 | ENSG00000005801.18 | 0.9992379 |  0.161616070 | No Change |\n",
       "\n"
      ],
      "text/plain": [
       "  gene_name gene_id            padj      log2FoldChange DGE      \n",
       "1 NFYA      ENSG00000001167.14 0.9992379 -0.191985511   No Change\n",
       "2 ARX       ENSG00000004848.8  0.9992379 -0.033792613   No Change\n",
       "3 UPF1      ENSG00000005007.12 0.9992379  0.570607118   No Change\n",
       "4 CREBBP    ENSG00000005339.14 0.9992379  0.002380666   No Change\n",
       "5 SOX8      ENSG00000005513.10 0.9992379  0.231548685   No Change\n",
       "6 ZNF195    ENSG00000005801.18 0.9992379  0.161616070   No Change"
      ]
     },
     "metadata": {},
     "output_type": "display_data"
    }
   ],
   "source": [
    "res3a_tf %>% head"
   ]
  },
  {
   "cell_type": "markdown",
   "metadata": {},
   "source": [
    "##### Summary plot for TF screen selected genes that are up/down regulated"
   ]
  },
  {
   "cell_type": "code",
   "execution_count": 148,
   "metadata": {
    "ExecuteTime": {
     "end_time": "2019-10-16T18:39:56.881390Z",
     "start_time": "2019-10-16T18:39:56.791Z"
    }
   },
   "outputs": [
    {
     "ename": "ERROR",
     "evalue": "Error in names(x) <- value: 'names' attribute [5] must be the same length as the vector [3]\n",
     "output_type": "error",
     "traceback": [
      "Error in names(x) <- value: 'names' attribute [5] must be the same length as the vector [3]\nTraceback:\n",
      "1. `colnames<-`(`*tmp*`, value = c(\"1H\", \"4H\", \"16\", \"24H\", \"5D\"\n . ))",
      "2. `colnames<-`(`*tmp*`, value = c(\"1H\", \"4H\", \"16\", \"24H\", \"5D\"\n . ))"
     ]
    }
   ],
   "source": [
    "# summarize gene counts for TF screen selected genes\n",
    "c <- c()\n",
    "for (l in list(res3a_tf, res3b_tf, res3c_tf, res3d_tf, res3e_tf)) {\n",
    "    gcount <- l %>% group_by(DGE) %>% summarize( \"gene_count\"=n()) %>% pull(gene_count) # get the count of genes\n",
    "    c <- c(c,gcount)\n",
    "}\n",
    "\n",
    "tfs.bar.data <- data.frame(matrix(c, nrow=3))\n",
    "\n",
    "colnames(tfs.bar.data) = c('1H', '4H', '16', '24H','5D')\n",
    "rownames(tfs.bar.data) = c('Down', 'No Change', 'Up')\n",
    "\n",
    "tfs.bar.data <- tfs.bar.data %>% gather(condition, gene_counts) %>% add_column(DGE=rep(c('Down', 'No Change', 'Up'),5), .before=2)"
   ]
  },
  {
   "cell_type": "code",
   "execution_count": 147,
   "metadata": {
    "ExecuteTime": {
     "end_time": "2019-10-16T18:39:50.031304Z",
     "start_time": "2019-10-16T18:39:50.004Z"
    }
   },
   "outputs": [
    {
     "ename": "ERROR",
     "evalue": "Error in ggplot(data = tfs.bar.data): object 'tfs.bar.data' not found\n",
     "output_type": "error",
     "traceback": [
      "Error in ggplot(data = tfs.bar.data): object 'tfs.bar.data' not found\nTraceback:\n",
      "1. ggplot(data = tfs.bar.data)"
     ]
    }
   ],
   "source": [
    "ggplot(data = tfs.bar.data) + geom_bar(aes(x=condition, y=gene_counts, fill=DGE),position=position_fill(reverse = TRUE), stat=\"identity\") +\n",
    "            labs(y=\"% of Screened Gene\", x=\"Temporal\", title = \"Accessible Promoter Region\") +\n",
    "            scale_fill_manual(name='+DOX vs. ES', values=c('lightslateblue', 'grey80', 'tan2')) +\n",
    "            theme(axis.text = element_text(size = 20), axis.title=element_text(size=20, face='bold'), legend.position = \"bottom\", \n",
    "                  plot.title = element_text(size = 20, face = 'bold')) +\n",
    "            scale_y_continuous(labels = scales::percent)"
   ]
  },
  {
   "cell_type": "markdown",
   "metadata": {},
   "source": [
    "##### Normalized counts of all TF screen genes, and plot heatmap"
   ]
  },
  {
   "cell_type": "code",
   "execution_count": 149,
   "metadata": {
    "ExecuteTime": {
     "end_time": "2019-10-16T18:40:05.610690Z",
     "start_time": "2019-10-16T18:40:05.492Z"
    }
   },
   "outputs": [
    {
     "name": "stderr",
     "output_type": "stream",
     "text": [
      "Warning message:\n",
      "“Column `gene_name` joining factors with different levels, coercing to character vector”"
     ]
    }
   ],
   "source": [
    "cnts3_tf <- (counts(dds3, normalized=T) + 1e-06) %>% as.data.frame %>% rownames_to_column('gene_id') %>%\n",
    "            inner_join(gtf_lookup, 'gene_id') %>% inner_join(data.frame(gene_name=tflist), 'gene_name')"
   ]
  },
  {
   "cell_type": "code",
   "execution_count": 150,
   "metadata": {
    "ExecuteTime": {
     "end_time": "2019-10-16T18:40:06.778534Z",
     "start_time": "2019-10-16T18:40:06.743Z"
    }
   },
   "outputs": [
    {
     "data": {
      "text/html": [
       "<table>\n",
       "<caption>A data.frame: 6 × 14</caption>\n",
       "<thead>\n",
       "\t<tr><th scope=col>gene_id</th><th scope=col>A1</th><th scope=col>A2</th><th scope=col>A3</th><th scope=col>A4</th><th scope=col>A5</th><th scope=col>A6</th><th scope=col>A7</th><th scope=col>A8</th><th scope=col>A9</th><th scope=col>A10</th><th scope=col>A11</th><th scope=col>A12</th><th scope=col>gene_name</th></tr>\n",
       "\t<tr><th scope=col>&lt;chr&gt;</th><th scope=col>&lt;dbl&gt;</th><th scope=col>&lt;dbl&gt;</th><th scope=col>&lt;dbl&gt;</th><th scope=col>&lt;dbl&gt;</th><th scope=col>&lt;dbl&gt;</th><th scope=col>&lt;dbl&gt;</th><th scope=col>&lt;dbl&gt;</th><th scope=col>&lt;dbl&gt;</th><th scope=col>&lt;dbl&gt;</th><th scope=col>&lt;dbl&gt;</th><th scope=col>&lt;dbl&gt;</th><th scope=col>&lt;dbl&gt;</th><th scope=col>&lt;chr&gt;</th></tr>\n",
       "</thead>\n",
       "<tbody>\n",
       "\t<tr><td>ENSG00000001167.14</td><td>399.06247</td><td>337.02998</td><td>316.86174</td><td>329.42452</td><td>341.7029</td><td>288.71375</td><td>326.53355</td><td>351.54329</td><td>397.59950</td><td>399.71504</td><td>469.24637</td><td>504.03772</td><td>NFYA  </td></tr>\n",
       "\t<tr><td>ENSG00000004848.8 </td><td>185.23817</td><td>160.94901</td><td>148.40360</td><td>190.79170</td><td>176.9972</td><td>185.72744</td><td>159.67059</td><td>186.51325</td><td>152.79650</td><td>130.78611</td><td>115.91687</td><td>112.16417</td><td>ARX   </td></tr>\n",
       "\t<tr><td>ENSG00000005007.12</td><td> 58.31572</td><td> 31.63955</td><td> 86.90301</td><td> 48.04108</td><td> 67.6031</td><td> 63.37619</td><td> 54.66200</td><td> 52.73149</td><td> 50.38451</td><td> 54.76668</td><td> 65.08701</td><td> 57.48414</td><td>UPF1  </td></tr>\n",
       "\t<tr><td>ENSG00000005339.14</td><td>129.20934</td><td>143.06579</td><td>140.38179</td><td>131.76981</td><td>127.8313</td><td>105.62698</td><td>156.79364</td><td>133.78175</td><td>144.03398</td><td>129.96869</td><td>143.81130</td><td>161.93701</td><td>CREBBP</td></tr>\n",
       "\t<tr><td>ENSG00000005513.10</td><td> 58.31572</td><td> 78.41106</td><td> 82.89210</td><td> 76.86572</td><td> 67.6031</td><td> 50.17282</td><td> 56.10048</td><td> 39.06037</td><td> 49.28920</td><td> 73.56719</td><td> 48.97023</td><td> 60.98927</td><td>SOX8  </td></tr>\n",
       "\t<tr><td>ENSG00000005801.18</td><td>165.79959</td><td>188.46166</td><td>212.57813</td><td>182.55609</td><td>200.3510</td><td>169.00317</td><td>188.44007</td><td>199.20787</td><td>175.25047</td><td>200.26623</td><td>185.96289</td><td>184.36985</td><td>ZNF195</td></tr>\n",
       "</tbody>\n",
       "</table>\n"
      ],
      "text/latex": [
       "A data.frame: 6 × 14\n",
       "\\begin{tabular}{r|llllllllllllll}\n",
       " gene\\_id & A1 & A2 & A3 & A4 & A5 & A6 & A7 & A8 & A9 & A10 & A11 & A12 & gene\\_name\\\\\n",
       " <chr> & <dbl> & <dbl> & <dbl> & <dbl> & <dbl> & <dbl> & <dbl> & <dbl> & <dbl> & <dbl> & <dbl> & <dbl> & <chr>\\\\\n",
       "\\hline\n",
       "\t ENSG00000001167.14 & 399.06247 & 337.02998 & 316.86174 & 329.42452 & 341.7029 & 288.71375 & 326.53355 & 351.54329 & 397.59950 & 399.71504 & 469.24637 & 504.03772 & NFYA  \\\\\n",
       "\t ENSG00000004848.8  & 185.23817 & 160.94901 & 148.40360 & 190.79170 & 176.9972 & 185.72744 & 159.67059 & 186.51325 & 152.79650 & 130.78611 & 115.91687 & 112.16417 & ARX   \\\\\n",
       "\t ENSG00000005007.12 &  58.31572 &  31.63955 &  86.90301 &  48.04108 &  67.6031 &  63.37619 &  54.66200 &  52.73149 &  50.38451 &  54.76668 &  65.08701 &  57.48414 & UPF1  \\\\\n",
       "\t ENSG00000005339.14 & 129.20934 & 143.06579 & 140.38179 & 131.76981 & 127.8313 & 105.62698 & 156.79364 & 133.78175 & 144.03398 & 129.96869 & 143.81130 & 161.93701 & CREBBP\\\\\n",
       "\t ENSG00000005513.10 &  58.31572 &  78.41106 &  82.89210 &  76.86572 &  67.6031 &  50.17282 &  56.10048 &  39.06037 &  49.28920 &  73.56719 &  48.97023 &  60.98927 & SOX8  \\\\\n",
       "\t ENSG00000005801.18 & 165.79959 & 188.46166 & 212.57813 & 182.55609 & 200.3510 & 169.00317 & 188.44007 & 199.20787 & 175.25047 & 200.26623 & 185.96289 & 184.36985 & ZNF195\\\\\n",
       "\\end{tabular}\n"
      ],
      "text/markdown": [
       "\n",
       "A data.frame: 6 × 14\n",
       "\n",
       "| gene_id &lt;chr&gt; | A1 &lt;dbl&gt; | A2 &lt;dbl&gt; | A3 &lt;dbl&gt; | A4 &lt;dbl&gt; | A5 &lt;dbl&gt; | A6 &lt;dbl&gt; | A7 &lt;dbl&gt; | A8 &lt;dbl&gt; | A9 &lt;dbl&gt; | A10 &lt;dbl&gt; | A11 &lt;dbl&gt; | A12 &lt;dbl&gt; | gene_name &lt;chr&gt; |\n",
       "|---|---|---|---|---|---|---|---|---|---|---|---|---|---|\n",
       "| ENSG00000001167.14 | 399.06247 | 337.02998 | 316.86174 | 329.42452 | 341.7029 | 288.71375 | 326.53355 | 351.54329 | 397.59950 | 399.71504 | 469.24637 | 504.03772 | NFYA   |\n",
       "| ENSG00000004848.8  | 185.23817 | 160.94901 | 148.40360 | 190.79170 | 176.9972 | 185.72744 | 159.67059 | 186.51325 | 152.79650 | 130.78611 | 115.91687 | 112.16417 | ARX    |\n",
       "| ENSG00000005007.12 |  58.31572 |  31.63955 |  86.90301 |  48.04108 |  67.6031 |  63.37619 |  54.66200 |  52.73149 |  50.38451 |  54.76668 |  65.08701 |  57.48414 | UPF1   |\n",
       "| ENSG00000005339.14 | 129.20934 | 143.06579 | 140.38179 | 131.76981 | 127.8313 | 105.62698 | 156.79364 | 133.78175 | 144.03398 | 129.96869 | 143.81130 | 161.93701 | CREBBP |\n",
       "| ENSG00000005513.10 |  58.31572 |  78.41106 |  82.89210 |  76.86572 |  67.6031 |  50.17282 |  56.10048 |  39.06037 |  49.28920 |  73.56719 |  48.97023 |  60.98927 | SOX8   |\n",
       "| ENSG00000005801.18 | 165.79959 | 188.46166 | 212.57813 | 182.55609 | 200.3510 | 169.00317 | 188.44007 | 199.20787 | 175.25047 | 200.26623 | 185.96289 | 184.36985 | ZNF195 |\n",
       "\n"
      ],
      "text/plain": [
       "  gene_id            A1        A2        A3        A4        A5       A6       \n",
       "1 ENSG00000001167.14 399.06247 337.02998 316.86174 329.42452 341.7029 288.71375\n",
       "2 ENSG00000004848.8  185.23817 160.94901 148.40360 190.79170 176.9972 185.72744\n",
       "3 ENSG00000005007.12  58.31572  31.63955  86.90301  48.04108  67.6031  63.37619\n",
       "4 ENSG00000005339.14 129.20934 143.06579 140.38179 131.76981 127.8313 105.62698\n",
       "5 ENSG00000005513.10  58.31572  78.41106  82.89210  76.86572  67.6031  50.17282\n",
       "6 ENSG00000005801.18 165.79959 188.46166 212.57813 182.55609 200.3510 169.00317\n",
       "  A7        A8        A9        A10       A11       A12       gene_name\n",
       "1 326.53355 351.54329 397.59950 399.71504 469.24637 504.03772 NFYA     \n",
       "2 159.67059 186.51325 152.79650 130.78611 115.91687 112.16417 ARX      \n",
       "3  54.66200  52.73149  50.38451  54.76668  65.08701  57.48414 UPF1     \n",
       "4 156.79364 133.78175 144.03398 129.96869 143.81130 161.93701 CREBBP   \n",
       "5  56.10048  39.06037  49.28920  73.56719  48.97023  60.98927 SOX8     \n",
       "6 188.44007 199.20787 175.25047 200.26623 185.96289 184.36985 ZNF195   "
      ]
     },
     "metadata": {},
     "output_type": "display_data"
    }
   ],
   "source": [
    "cnts3_tf %>% head"
   ]
  },
  {
   "cell_type": "code",
   "execution_count": 232,
   "metadata": {
    "ExecuteTime": {
     "end_time": "2019-09-06T16:40:03.546202Z",
     "start_time": "2019-09-06T16:40:02.385Z"
    }
   },
   "outputs": [],
   "source": [
    "cnts3_tf <- cnts3_tf[,c(1,14,2:13)]"
   ]
  },
  {
   "cell_type": "code",
   "execution_count": 151,
   "metadata": {
    "ExecuteTime": {
     "end_time": "2019-10-16T18:40:09.590618Z",
     "start_time": "2019-10-16T18:40:09.555Z"
    }
   },
   "outputs": [
    {
     "ename": "ERROR",
     "evalue": "Error: Column `gene_name` is unknown\n",
     "output_type": "error",
     "traceback": [
      "Error: Column `gene_name` is unknown\nTraceback:\n",
      "1. cnts3_tf[, 1:2] %>% group_by(gene_name) %>% summarise(n_geneIDs = n_distinct(gene_id)) %>% \n .     filter(n_geneIDs > 1)",
      "2. withVisible(eval(quote(`_fseq`(`_lhs`)), env, env))",
      "3. eval(quote(`_fseq`(`_lhs`)), env, env)",
      "4. eval(quote(`_fseq`(`_lhs`)), env, env)",
      "5. `_fseq`(`_lhs`)",
      "6. freduce(value, `_function_list`)",
      "7. function_list[[i]](value)",
      "8. group_by(., gene_name)",
      "9. group_by.data.frame(., gene_name)",
      "10. grouped_df(groups$data, groups$group_names, .drop)",
      "11. grouped_df_impl(data, unname(vars), drop)"
     ]
    }
   ],
   "source": [
    "# this particular gene has two gene IDs with different expressing profile.\n",
    "cnts3_tf[,1:2] %>% group_by(gene_name) %>% summarise(n_geneIDs=n_distinct(gene_id)) %>% filter(n_geneIDs > 1)\n",
    "cnts3_tf %>% filter(gene_name == 'MATR3')"
   ]
  },
  {
   "cell_type": "code",
   "execution_count": 279,
   "metadata": {
    "ExecuteTime": {
     "end_time": "2019-09-06T16:40:03.546202Z",
     "start_time": "2019-09-06T16:40:02.385Z"
    }
   },
   "outputs": [],
   "source": [
    "cnts3_tf <- filter(cnts3_tf, gene_id != 'ENSG00000280987.4') # remove one gene_id from genes with multiple gene_ids"
   ]
  },
  {
   "cell_type": "code",
   "execution_count": 280,
   "metadata": {
    "ExecuteTime": {
     "end_time": "2019-09-06T16:37:34.288251Z",
     "start_time": "2019-09-06T16:37:33.160Z"
    }
   },
   "outputs": [],
   "source": [
    "cnts3_tf %>% write.csv('TF_ScreenSelectedNormalizedCounts.csv',row.names=F, quote=F)"
   ]
  },
  {
   "cell_type": "code",
   "execution_count": 236,
   "metadata": {},
   "outputs": [
    {
     "data": {
      "text/html": [
       "<table>\n",
       "<caption>A data.frame: 6 × 14</caption>\n",
       "<thead>\n",
       "\t<tr><th scope=col>gene_id</th><th scope=col>gene_name</th><th scope=col>A1</th><th scope=col>A2</th><th scope=col>A3</th><th scope=col>A4</th><th scope=col>A5</th><th scope=col>A6</th><th scope=col>A7</th><th scope=col>A8</th><th scope=col>A9</th><th scope=col>A10</th><th scope=col>A11</th><th scope=col>A12</th></tr>\n",
       "\t<tr><th scope=col>&lt;chr&gt;</th><th scope=col>&lt;chr&gt;</th><th scope=col>&lt;dbl&gt;</th><th scope=col>&lt;dbl&gt;</th><th scope=col>&lt;dbl&gt;</th><th scope=col>&lt;dbl&gt;</th><th scope=col>&lt;dbl&gt;</th><th scope=col>&lt;dbl&gt;</th><th scope=col>&lt;dbl&gt;</th><th scope=col>&lt;dbl&gt;</th><th scope=col>&lt;dbl&gt;</th><th scope=col>&lt;dbl&gt;</th><th scope=col>&lt;dbl&gt;</th><th scope=col>&lt;dbl&gt;</th></tr>\n",
       "</thead>\n",
       "<tbody>\n",
       "\t<tr><td>ENSG00000188290.10</td><td>HES4  </td><td> 92.389510</td><td>248.953790</td><td> 98.450204</td><td>217.440925</td><td>143.287114</td><td>138.866978</td><td>194.626222</td><td>159.470196</td><td>181.262605</td><td>166.554779</td><td>113.177888</td><td>172.229567</td></tr>\n",
       "\t<tr><td>ENSG00000157933.10</td><td>SKI   </td><td>193.903908</td><td>  0.000001</td><td> 68.915143</td><td> 72.000307</td><td>172.195917</td><td>248.912507</td><td>144.495226</td><td>127.958121</td><td>195.010049</td><td>159.382563</td><td>129.769411</td><td>193.085491</td></tr>\n",
       "\t<tr><td>ENSG00000142611.17</td><td>PRDM16</td><td>  0.000001</td><td>  0.000001</td><td>  0.000001</td><td>188.640802</td><td>  0.000001</td><td>  0.000001</td><td>  0.000001</td><td>  0.000001</td><td> 28.004055</td><td>  0.000001</td><td>  0.000001</td><td>  0.000001</td></tr>\n",
       "\t<tr><td>ENSG00000078900.15</td><td>TP73  </td><td>271.465471</td><td>260.533037</td><td>398.020106</td><td>388.801653</td><td>300.400176</td><td>241.052113</td><td>193.151781</td><td>158.515284</td><td>183.808428</td><td> 86.863497</td><td> 62.810766</td><td> 78.714295</td></tr>\n",
       "\t<tr><td>ENSG00000116254.18</td><td>CHD5  </td><td>120.904790</td><td>115.792461</td><td>180.023228</td><td>146.880625</td><td>159.626872</td><td> 59.389652</td><td>  0.000001</td><td>109.814806</td><td>103.360418</td><td>116.349272</td><td> 65.180983</td><td> 67.277175</td></tr>\n",
       "\t<tr><td>ENSG00000069812.11</td><td>HES2  </td><td> 38.780782</td><td>  0.000001</td><td>  0.000001</td><td>  0.000001</td><td>  0.000001</td><td> 44.542239</td><td>  0.000001</td><td>114.589363</td><td>  0.000001</td><td>  0.000001</td><td> 39.701145</td><td>  0.000001</td></tr>\n",
       "</tbody>\n",
       "</table>\n"
      ],
      "text/latex": [
       "A data.frame: 6 × 14\n",
       "\\begin{tabular}{r|llllllllllllll}\n",
       " gene\\_id & gene\\_name & A1 & A2 & A3 & A4 & A5 & A6 & A7 & A8 & A9 & A10 & A11 & A12\\\\\n",
       " <chr> & <chr> & <dbl> & <dbl> & <dbl> & <dbl> & <dbl> & <dbl> & <dbl> & <dbl> & <dbl> & <dbl> & <dbl> & <dbl>\\\\\n",
       "\\hline\n",
       "\t ENSG00000188290.10 & HES4   &  92.389510 & 248.953790 &  98.450204 & 217.440925 & 143.287114 & 138.866978 & 194.626222 & 159.470196 & 181.262605 & 166.554779 & 113.177888 & 172.229567\\\\\n",
       "\t ENSG00000157933.10 & SKI    & 193.903908 &   0.000001 &  68.915143 &  72.000307 & 172.195917 & 248.912507 & 144.495226 & 127.958121 & 195.010049 & 159.382563 & 129.769411 & 193.085491\\\\\n",
       "\t ENSG00000142611.17 & PRDM16 &   0.000001 &   0.000001 &   0.000001 & 188.640802 &   0.000001 &   0.000001 &   0.000001 &   0.000001 &  28.004055 &   0.000001 &   0.000001 &   0.000001\\\\\n",
       "\t ENSG00000078900.15 & TP73   & 271.465471 & 260.533037 & 398.020106 & 388.801653 & 300.400176 & 241.052113 & 193.151781 & 158.515284 & 183.808428 &  86.863497 &  62.810766 &  78.714295\\\\\n",
       "\t ENSG00000116254.18 & CHD5   & 120.904790 & 115.792461 & 180.023228 & 146.880625 & 159.626872 &  59.389652 &   0.000001 & 109.814806 & 103.360418 & 116.349272 &  65.180983 &  67.277175\\\\\n",
       "\t ENSG00000069812.11 & HES2   &  38.780782 &   0.000001 &   0.000001 &   0.000001 &   0.000001 &  44.542239 &   0.000001 & 114.589363 &   0.000001 &   0.000001 &  39.701145 &   0.000001\\\\\n",
       "\\end{tabular}\n"
      ],
      "text/markdown": [
       "\n",
       "A data.frame: 6 × 14\n",
       "\n",
       "| gene_id &lt;chr&gt; | gene_name &lt;chr&gt; | A1 &lt;dbl&gt; | A2 &lt;dbl&gt; | A3 &lt;dbl&gt; | A4 &lt;dbl&gt; | A5 &lt;dbl&gt; | A6 &lt;dbl&gt; | A7 &lt;dbl&gt; | A8 &lt;dbl&gt; | A9 &lt;dbl&gt; | A10 &lt;dbl&gt; | A11 &lt;dbl&gt; | A12 &lt;dbl&gt; |\n",
       "|---|---|---|---|---|---|---|---|---|---|---|---|---|---|\n",
       "| ENSG00000188290.10 | HES4   |  92.389510 | 248.953790 |  98.450204 | 217.440925 | 143.287114 | 138.866978 | 194.626222 | 159.470196 | 181.262605 | 166.554779 | 113.177888 | 172.229567 |\n",
       "| ENSG00000157933.10 | SKI    | 193.903908 |   0.000001 |  68.915143 |  72.000307 | 172.195917 | 248.912507 | 144.495226 | 127.958121 | 195.010049 | 159.382563 | 129.769411 | 193.085491 |\n",
       "| ENSG00000142611.17 | PRDM16 |   0.000001 |   0.000001 |   0.000001 | 188.640802 |   0.000001 |   0.000001 |   0.000001 |   0.000001 |  28.004055 |   0.000001 |   0.000001 |   0.000001 |\n",
       "| ENSG00000078900.15 | TP73   | 271.465471 | 260.533037 | 398.020106 | 388.801653 | 300.400176 | 241.052113 | 193.151781 | 158.515284 | 183.808428 |  86.863497 |  62.810766 |  78.714295 |\n",
       "| ENSG00000116254.18 | CHD5   | 120.904790 | 115.792461 | 180.023228 | 146.880625 | 159.626872 |  59.389652 |   0.000001 | 109.814806 | 103.360418 | 116.349272 |  65.180983 |  67.277175 |\n",
       "| ENSG00000069812.11 | HES2   |  38.780782 |   0.000001 |   0.000001 |   0.000001 |   0.000001 |  44.542239 |   0.000001 | 114.589363 |   0.000001 |   0.000001 |  39.701145 |   0.000001 |\n",
       "\n"
      ],
      "text/plain": [
       "  gene_id            gene_name A1         A2         A3         A4        \n",
       "1 ENSG00000188290.10 HES4       92.389510 248.953790  98.450204 217.440925\n",
       "2 ENSG00000157933.10 SKI       193.903908   0.000001  68.915143  72.000307\n",
       "3 ENSG00000142611.17 PRDM16      0.000001   0.000001   0.000001 188.640802\n",
       "4 ENSG00000078900.15 TP73      271.465471 260.533037 398.020106 388.801653\n",
       "5 ENSG00000116254.18 CHD5      120.904790 115.792461 180.023228 146.880625\n",
       "6 ENSG00000069812.11 HES2       38.780782   0.000001   0.000001   0.000001\n",
       "  A5         A6         A7         A8         A9         A10        A11       \n",
       "1 143.287114 138.866978 194.626222 159.470196 181.262605 166.554779 113.177888\n",
       "2 172.195917 248.912507 144.495226 127.958121 195.010049 159.382563 129.769411\n",
       "3   0.000001   0.000001   0.000001   0.000001  28.004055   0.000001   0.000001\n",
       "4 300.400176 241.052113 193.151781 158.515284 183.808428  86.863497  62.810766\n",
       "5 159.626872  59.389652   0.000001 109.814806 103.360418 116.349272  65.180983\n",
       "6   0.000001  44.542239   0.000001 114.589363   0.000001   0.000001  39.701145\n",
       "  A12       \n",
       "1 172.229567\n",
       "2 193.085491\n",
       "3   0.000001\n",
       "4  78.714295\n",
       "5  67.277175\n",
       "6   0.000001"
      ]
     },
     "metadata": {},
     "output_type": "display_data"
    }
   ],
   "source": [
    "cnts3_tf %>% head"
   ]
  },
  {
   "cell_type": "code",
   "execution_count": 115,
   "metadata": {
    "ExecuteTime": {
     "end_time": "2019-10-16T18:36:41.509143Z",
     "start_time": "2019-10-16T18:36:41.489Z"
    }
   },
   "outputs": [],
   "source": [
    "# ano3 <- as.data.frame(colData(dds3)[,c('condition','group')])\n",
    "ano3 <- coldata3"
   ]
  },
  {
   "cell_type": "raw",
   "metadata": {
    "ExecuteTime": {
     "end_time": "2019-09-06T01:48:53.051463Z",
     "start_time": "2019-09-06T01:48:53.014Z"
    }
   },
   "source": [
    "cnts3_tf[,c(2:14)] %>% column_to_rownames('gene_name') %>% as.matrix %>% \n",
    "                pheatmap(cluster_rows = T, show_rownames = T, cluster_cols = F, annotation = ano3, fontsize=5, \n",
    "                title = 'TF Selected in Screen', filename='TF_screen_selected.heatmap.pdf', width=8, height=66, silent=T)"
   ]
  },
  {
   "cell_type": "code",
   "execution_count": 116,
   "metadata": {
    "ExecuteTime": {
     "end_time": "2019-10-16T18:36:43.545997Z",
     "start_time": "2019-10-16T18:36:43.512Z"
    }
   },
   "outputs": [],
   "source": [
    "quadroot <- function (x) { # function to help decrease range of read counts. Easier for heatmap visulization\n",
    "    return(x^(1/4))\n",
    "}"
   ]
  },
  {
   "cell_type": "raw",
   "metadata": {
    "ExecuteTime": {
     "end_time": "2019-09-06T16:48:09.985932Z",
     "start_time": "2019-09-06T16:48:08.921Z"
    }
   },
   "source": [
    "ano3 <- as.data.frame(colData(dds3)[,c('condition','group')]) #annotation for heatmap"
   ]
  },
  {
   "cell_type": "code",
   "execution_count": 243,
   "metadata": {},
   "outputs": [
    {
     "data": {
      "text/html": [
       "<table>\n",
       "<caption>A data.frame: 6 × 14</caption>\n",
       "<thead>\n",
       "\t<tr><th scope=col>gene_id</th><th scope=col>gene_name</th><th scope=col>A1</th><th scope=col>A2</th><th scope=col>A3</th><th scope=col>A4</th><th scope=col>A5</th><th scope=col>A6</th><th scope=col>A7</th><th scope=col>A8</th><th scope=col>A9</th><th scope=col>A10</th><th scope=col>A11</th><th scope=col>A12</th></tr>\n",
       "\t<tr><th scope=col>&lt;chr&gt;</th><th scope=col>&lt;chr&gt;</th><th scope=col>&lt;dbl&gt;</th><th scope=col>&lt;dbl&gt;</th><th scope=col>&lt;dbl&gt;</th><th scope=col>&lt;dbl&gt;</th><th scope=col>&lt;dbl&gt;</th><th scope=col>&lt;dbl&gt;</th><th scope=col>&lt;dbl&gt;</th><th scope=col>&lt;dbl&gt;</th><th scope=col>&lt;dbl&gt;</th><th scope=col>&lt;dbl&gt;</th><th scope=col>&lt;dbl&gt;</th><th scope=col>&lt;dbl&gt;</th></tr>\n",
       "</thead>\n",
       "<tbody>\n",
       "\t<tr><td>ENSG00000188290.10</td><td>HES4  </td><td> 92.389510</td><td>248.953790</td><td> 98.450204</td><td>217.440925</td><td>143.287114</td><td>138.866978</td><td>194.626222</td><td>159.470196</td><td>181.262605</td><td>166.554779</td><td>113.177888</td><td>172.229567</td></tr>\n",
       "\t<tr><td>ENSG00000157933.10</td><td>SKI   </td><td>193.903908</td><td>  0.000001</td><td> 68.915143</td><td> 72.000307</td><td>172.195917</td><td>248.912507</td><td>144.495226</td><td>127.958121</td><td>195.010049</td><td>159.382563</td><td>129.769411</td><td>193.085491</td></tr>\n",
       "\t<tr><td>ENSG00000142611.17</td><td>PRDM16</td><td>  0.000001</td><td>  0.000001</td><td>  0.000001</td><td>188.640802</td><td>  0.000001</td><td>  0.000001</td><td>  0.000001</td><td>  0.000001</td><td> 28.004055</td><td>  0.000001</td><td>  0.000001</td><td>  0.000001</td></tr>\n",
       "\t<tr><td>ENSG00000078900.15</td><td>TP73  </td><td>271.465471</td><td>260.533037</td><td>398.020106</td><td>388.801653</td><td>300.400176</td><td>241.052113</td><td>193.151781</td><td>158.515284</td><td>183.808428</td><td> 86.863497</td><td> 62.810766</td><td> 78.714295</td></tr>\n",
       "\t<tr><td>ENSG00000116254.18</td><td>CHD5  </td><td>120.904790</td><td>115.792461</td><td>180.023228</td><td>146.880625</td><td>159.626872</td><td> 59.389652</td><td>  0.000001</td><td>109.814806</td><td>103.360418</td><td>116.349272</td><td> 65.180983</td><td> 67.277175</td></tr>\n",
       "\t<tr><td>ENSG00000069812.11</td><td>HES2  </td><td> 38.780782</td><td>  0.000001</td><td>  0.000001</td><td>  0.000001</td><td>  0.000001</td><td> 44.542239</td><td>  0.000001</td><td>114.589363</td><td>  0.000001</td><td>  0.000001</td><td> 39.701145</td><td>  0.000001</td></tr>\n",
       "</tbody>\n",
       "</table>\n"
      ],
      "text/latex": [
       "A data.frame: 6 × 14\n",
       "\\begin{tabular}{r|llllllllllllll}\n",
       " gene\\_id & gene\\_name & A1 & A2 & A3 & A4 & A5 & A6 & A7 & A8 & A9 & A10 & A11 & A12\\\\\n",
       " <chr> & <chr> & <dbl> & <dbl> & <dbl> & <dbl> & <dbl> & <dbl> & <dbl> & <dbl> & <dbl> & <dbl> & <dbl> & <dbl>\\\\\n",
       "\\hline\n",
       "\t ENSG00000188290.10 & HES4   &  92.389510 & 248.953790 &  98.450204 & 217.440925 & 143.287114 & 138.866978 & 194.626222 & 159.470196 & 181.262605 & 166.554779 & 113.177888 & 172.229567\\\\\n",
       "\t ENSG00000157933.10 & SKI    & 193.903908 &   0.000001 &  68.915143 &  72.000307 & 172.195917 & 248.912507 & 144.495226 & 127.958121 & 195.010049 & 159.382563 & 129.769411 & 193.085491\\\\\n",
       "\t ENSG00000142611.17 & PRDM16 &   0.000001 &   0.000001 &   0.000001 & 188.640802 &   0.000001 &   0.000001 &   0.000001 &   0.000001 &  28.004055 &   0.000001 &   0.000001 &   0.000001\\\\\n",
       "\t ENSG00000078900.15 & TP73   & 271.465471 & 260.533037 & 398.020106 & 388.801653 & 300.400176 & 241.052113 & 193.151781 & 158.515284 & 183.808428 &  86.863497 &  62.810766 &  78.714295\\\\\n",
       "\t ENSG00000116254.18 & CHD5   & 120.904790 & 115.792461 & 180.023228 & 146.880625 & 159.626872 &  59.389652 &   0.000001 & 109.814806 & 103.360418 & 116.349272 &  65.180983 &  67.277175\\\\\n",
       "\t ENSG00000069812.11 & HES2   &  38.780782 &   0.000001 &   0.000001 &   0.000001 &   0.000001 &  44.542239 &   0.000001 & 114.589363 &   0.000001 &   0.000001 &  39.701145 &   0.000001\\\\\n",
       "\\end{tabular}\n"
      ],
      "text/markdown": [
       "\n",
       "A data.frame: 6 × 14\n",
       "\n",
       "| gene_id &lt;chr&gt; | gene_name &lt;chr&gt; | A1 &lt;dbl&gt; | A2 &lt;dbl&gt; | A3 &lt;dbl&gt; | A4 &lt;dbl&gt; | A5 &lt;dbl&gt; | A6 &lt;dbl&gt; | A7 &lt;dbl&gt; | A8 &lt;dbl&gt; | A9 &lt;dbl&gt; | A10 &lt;dbl&gt; | A11 &lt;dbl&gt; | A12 &lt;dbl&gt; |\n",
       "|---|---|---|---|---|---|---|---|---|---|---|---|---|---|\n",
       "| ENSG00000188290.10 | HES4   |  92.389510 | 248.953790 |  98.450204 | 217.440925 | 143.287114 | 138.866978 | 194.626222 | 159.470196 | 181.262605 | 166.554779 | 113.177888 | 172.229567 |\n",
       "| ENSG00000157933.10 | SKI    | 193.903908 |   0.000001 |  68.915143 |  72.000307 | 172.195917 | 248.912507 | 144.495226 | 127.958121 | 195.010049 | 159.382563 | 129.769411 | 193.085491 |\n",
       "| ENSG00000142611.17 | PRDM16 |   0.000001 |   0.000001 |   0.000001 | 188.640802 |   0.000001 |   0.000001 |   0.000001 |   0.000001 |  28.004055 |   0.000001 |   0.000001 |   0.000001 |\n",
       "| ENSG00000078900.15 | TP73   | 271.465471 | 260.533037 | 398.020106 | 388.801653 | 300.400176 | 241.052113 | 193.151781 | 158.515284 | 183.808428 |  86.863497 |  62.810766 |  78.714295 |\n",
       "| ENSG00000116254.18 | CHD5   | 120.904790 | 115.792461 | 180.023228 | 146.880625 | 159.626872 |  59.389652 |   0.000001 | 109.814806 | 103.360418 | 116.349272 |  65.180983 |  67.277175 |\n",
       "| ENSG00000069812.11 | HES2   |  38.780782 |   0.000001 |   0.000001 |   0.000001 |   0.000001 |  44.542239 |   0.000001 | 114.589363 |   0.000001 |   0.000001 |  39.701145 |   0.000001 |\n",
       "\n"
      ],
      "text/plain": [
       "  gene_id            gene_name A1         A2         A3         A4        \n",
       "1 ENSG00000188290.10 HES4       92.389510 248.953790  98.450204 217.440925\n",
       "2 ENSG00000157933.10 SKI       193.903908   0.000001  68.915143  72.000307\n",
       "3 ENSG00000142611.17 PRDM16      0.000001   0.000001   0.000001 188.640802\n",
       "4 ENSG00000078900.15 TP73      271.465471 260.533037 398.020106 388.801653\n",
       "5 ENSG00000116254.18 CHD5      120.904790 115.792461 180.023228 146.880625\n",
       "6 ENSG00000069812.11 HES2       38.780782   0.000001   0.000001   0.000001\n",
       "  A5         A6         A7         A8         A9         A10        A11       \n",
       "1 143.287114 138.866978 194.626222 159.470196 181.262605 166.554779 113.177888\n",
       "2 172.195917 248.912507 144.495226 127.958121 195.010049 159.382563 129.769411\n",
       "3   0.000001   0.000001   0.000001   0.000001  28.004055   0.000001   0.000001\n",
       "4 300.400176 241.052113 193.151781 158.515284 183.808428  86.863497  62.810766\n",
       "5 159.626872  59.389652   0.000001 109.814806 103.360418 116.349272  65.180983\n",
       "6   0.000001  44.542239   0.000001 114.589363   0.000001   0.000001  39.701145\n",
       "  A12       \n",
       "1 172.229567\n",
       "2 193.085491\n",
       "3   0.000001\n",
       "4  78.714295\n",
       "5  67.277175\n",
       "6   0.000001"
      ]
     },
     "metadata": {},
     "output_type": "display_data"
    }
   ],
   "source": [
    "cnts3_tf %>% head"
   ]
  },
  {
   "cell_type": "markdown",
   "metadata": {},
   "source": [
    "##### Plot heatmaps of TF screened genes that are sigificant and pass FC threshold"
   ]
  },
  {
   "cell_type": "code",
   "execution_count": 165,
   "metadata": {
    "ExecuteTime": {
     "end_time": "2019-10-16T18:44:25.034021Z",
     "start_time": "2019-10-16T18:44:24.996Z"
    }
   },
   "outputs": [
    {
     "ename": "ERROR",
     "evalue": "Error in hclust(d, method = method): must have n >= 2 objects to cluster\n",
     "output_type": "error",
     "traceback": [
      "Error in hclust(d, method = method): must have n >= 2 objects to cluster\nTraceback:\n",
      "1. cnts3_tf[, c(2:14)] %>% filter(gene_name %in% tf.heatmap.genes.3c) %>% \n .     column_to_rownames(\"gene_name\") %>% as.matrix %>% apply(2, \n .     sqrt) %>% pheatmap(cluster_rows = T, show_rownames = T, cluster_cols = F, \n .     annotation = ano3, fontsize = 6, treeheight_row = 20, main = paste0(\"Wild type 16H vs. ES, Screened TF Genes (fdr<\", \n .         fdr, \", log2FC>\", FC.threshold, \")\"))",
      "2. withVisible(eval(quote(`_fseq`(`_lhs`)), env, env))",
      "3. eval(quote(`_fseq`(`_lhs`)), env, env)",
      "4. eval(quote(`_fseq`(`_lhs`)), env, env)",
      "5. `_fseq`(`_lhs`)",
      "6. freduce(value, `_function_list`)",
      "7. withVisible(function_list[[k]](value))",
      "8. function_list[[k]](value)",
      "9. pheatmap(., cluster_rows = T, show_rownames = T, cluster_cols = F, \n .     annotation = ano3, fontsize = 6, treeheight_row = 20, main = paste0(\"Wild type 16H vs. ES, Screened TF Genes (fdr<\", \n .         fdr, \", log2FC>\", FC.threshold, \")\"))",
      "10. cluster_mat(mat, distance = clustering_distance_rows, method = clustering_method)",
      "11. hclust(d, method = method)",
      "12. stop(\"must have n >= 2 objects to cluster\")"
     ]
    }
   ],
   "source": [
    "tf.heatmap.genes.3c <- res3c_tf %>% filter(DGE != 'No Change' & padj < fdr & abs(log2FoldChange) > abs(FC.threshold)) %>% pull(gene_name) %>% as.character\n",
    "cnts3_tf[,c(2:14)] %>% filter(gene_name %in% tf.heatmap.genes.3c) %>% column_to_rownames('gene_name') %>% as.matrix %>% apply(2, sqrt) %>%\n",
    "                pheatmap(cluster_rows = T, show_rownames = T, cluster_cols = F, annotation = ano3, fontsize=6, treeheight_row=20,\n",
    "                main = paste0('Wild type 16H vs. ES, Screened TF Genes (fdr<',fdr,', log2FC>',FC.threshold,')'))"
   ]
  },
  {
   "cell_type": "code",
   "execution_count": 159,
   "metadata": {
    "ExecuteTime": {
     "end_time": "2019-10-16T18:43:04.076058Z",
     "start_time": "2019-10-16T18:43:03.869Z"
    }
   },
   "outputs": [
    {
     "data": {
      "image/png": "[encoded data removed]",
      "text/plain": [
       "plot without title"
      ]
     },
     "metadata": {},
     "output_type": "display_data"
    }
   ],
   "source": [
    "tf.heatmap.genes.3d <- res3d_tf %>% filter(DGE != 'No Change' & padj < fdr & abs(log2FoldChange) > abs(FC.threshold)) %>% pull(gene_name) %>% as.character\n",
    "cnts3_tf[,c(2:14)] %>% filter(gene_name %in% tf.heatmap.genes.3d) %>% column_to_rownames('gene_name') %>% as.matrix %>% apply(2, sqrt) %>%\n",
    "                pheatmap(cluster_rows = T, show_rownames = T, cluster_cols = F, annotation = ano3, fontsize=6, treeheight_row=20,\n",
    "                main = paste0('Wild type: 24H vs. ES, Screened TF Genes (fdr<',fdr,', log2FC>',FC.threshold,')'))"
   ]
  },
  {
   "cell_type": "code",
   "execution_count": 163,
   "metadata": {
    "ExecuteTime": {
     "end_time": "2019-10-16T18:44:18.465927Z",
     "start_time": "2019-10-16T18:44:18.434Z"
    }
   },
   "outputs": [
    {
     "data": {
      "text/html": [
       "<ol class=list-inline>\n",
       "\t<li>'PAX6'</li>\n",
       "\t<li>'PAX7'</li>\n",
       "\t<li>'ETV7'</li>\n",
       "\t<li>'POU2F2'</li>\n",
       "\t<li>'SPO11'</li>\n",
       "\t<li>'SP100'</li>\n",
       "\t<li>'BCL3'</li>\n",
       "\t<li>'REST'</li>\n",
       "\t<li>'TRIP6'</li>\n",
       "\t<li>'POU4F3'</li>\n",
       "\t<li>'TRPS1'</li>\n",
       "\t<li>'ANKRD7'</li>\n",
       "\t<li>'POU6F2'</li>\n",
       "\t<li>'AHR'</li>\n",
       "\t<li>'AEBP1'</li>\n",
       "\t<li>'LHX3'</li>\n",
       "\t<li>'NANOG'</li>\n",
       "\t<li>'RFX4'</li>\n",
       "\t<li>'HAND1'</li>\n",
       "\t<li>'IRX4'</li>\n",
       "\t<li>'OTX1'</li>\n",
       "\t<li>'IRF6'</li>\n",
       "\t<li>'TCF21'</li>\n",
       "\t<li>'PHF19'</li>\n",
       "\t<li>'ESRRB'</li>\n",
       "\t<li>'HOXB1'</li>\n",
       "\t<li>'TBX22'</li>\n",
       "\t<li>'TWIST1'</li>\n",
       "\t<li>'NEUROG3'</li>\n",
       "\t<li>'GCM2'</li>\n",
       "\t<li>'FOXA2'</li>\n",
       "\t<li>'NKX2-2'</li>\n",
       "\t<li>'SIX1'</li>\n",
       "\t<li>'SOX15'</li>\n",
       "\t<li>'PDLIM4'</li>\n",
       "\t<li>'PPARG'</li>\n",
       "\t<li>'TRIM22'</li>\n",
       "\t<li>'DDB2'</li>\n",
       "\t<li>'SOX3'</li>\n",
       "\t<li>'SPOCD1'</li>\n",
       "\t<li>'ETS1'</li>\n",
       "\t<li>'EMX1'</li>\n",
       "\t<li>'NKX2-8'</li>\n",
       "\t<li>'DMRT1'</li>\n",
       "\t<li>'TFAP2A'</li>\n",
       "\t<li>'IRF4'</li>\n",
       "\t<li>'HMGA1'</li>\n",
       "\t<li>'POU2F3'</li>\n",
       "\t<li>'SSB'</li>\n",
       "\t<li>'RXRG'</li>\n",
       "\t<li>'ANKRD1'</li>\n",
       "\t<li>'VAX1'</li>\n",
       "\t<li>'FLI1'</li>\n",
       "\t<li>'EEF1A1'</li>\n",
       "\t<li>'LMX1A'</li>\n",
       "\t<li>'EN1'</li>\n",
       "\t<li>'ELF3'</li>\n",
       "\t<li>'FEV'</li>\n",
       "\t<li>'HEYL'</li>\n",
       "\t<li>'SFMBT1'</li>\n",
       "\t<li>'NAB2'</li>\n",
       "\t<li>'PTF1A'</li>\n",
       "\t<li>'SOX14'</li>\n",
       "\t<li>'NHLH1'</li>\n",
       "\t<li>'UTF1'</li>\n",
       "\t<li>'ZNF217'</li>\n",
       "\t<li>'ATOH1'</li>\n",
       "\t<li>'FOSL1'</li>\n",
       "\t<li>'FOXE1'</li>\n",
       "\t<li>'ZFP42'</li>\n",
       "\t<li>'HCLS1'</li>\n",
       "\t<li>'NKX2-5'</li>\n",
       "\t<li>'ZFP36L1'</li>\n",
       "\t<li>'ZNF490'</li>\n",
       "\t<li>'ZNF565'</li>\n",
       "\t<li>'ESRRG'</li>\n",
       "\t<li>'ZNF469'</li>\n",
       "\t<li>'SPIB'</li>\n",
       "</ol>\n"
      ],
      "text/latex": [
       "\\begin{enumerate*}\n",
       "\\item 'PAX6'\n",
       "\\item 'PAX7'\n",
       "\\item 'ETV7'\n",
       "\\item 'POU2F2'\n",
       "\\item 'SPO11'\n",
       "\\item 'SP100'\n",
       "\\item 'BCL3'\n",
       "\\item 'REST'\n",
       "\\item 'TRIP6'\n",
       "\\item 'POU4F3'\n",
       "\\item 'TRPS1'\n",
       "\\item 'ANKRD7'\n",
       "\\item 'POU6F2'\n",
       "\\item 'AHR'\n",
       "\\item 'AEBP1'\n",
       "\\item 'LHX3'\n",
       "\\item 'NANOG'\n",
       "\\item 'RFX4'\n",
       "\\item 'HAND1'\n",
       "\\item 'IRX4'\n",
       "\\item 'OTX1'\n",
       "\\item 'IRF6'\n",
       "\\item 'TCF21'\n",
       "\\item 'PHF19'\n",
       "\\item 'ESRRB'\n",
       "\\item 'HOXB1'\n",
       "\\item 'TBX22'\n",
       "\\item 'TWIST1'\n",
       "\\item 'NEUROG3'\n",
       "\\item 'GCM2'\n",
       "\\item 'FOXA2'\n",
       "\\item 'NKX2-2'\n",
       "\\item 'SIX1'\n",
       "\\item 'SOX15'\n",
       "\\item 'PDLIM4'\n",
       "\\item 'PPARG'\n",
       "\\item 'TRIM22'\n",
       "\\item 'DDB2'\n",
       "\\item 'SOX3'\n",
       "\\item 'SPOCD1'\n",
       "\\item 'ETS1'\n",
       "\\item 'EMX1'\n",
       "\\item 'NKX2-8'\n",
       "\\item 'DMRT1'\n",
       "\\item 'TFAP2A'\n",
       "\\item 'IRF4'\n",
       "\\item 'HMGA1'\n",
       "\\item 'POU2F3'\n",
       "\\item 'SSB'\n",
       "\\item 'RXRG'\n",
       "\\item 'ANKRD1'\n",
       "\\item 'VAX1'\n",
       "\\item 'FLI1'\n",
       "\\item 'EEF1A1'\n",
       "\\item 'LMX1A'\n",
       "\\item 'EN1'\n",
       "\\item 'ELF3'\n",
       "\\item 'FEV'\n",
       "\\item 'HEYL'\n",
       "\\item 'SFMBT1'\n",
       "\\item 'NAB2'\n",
       "\\item 'PTF1A'\n",
       "\\item 'SOX14'\n",
       "\\item 'NHLH1'\n",
       "\\item 'UTF1'\n",
       "\\item 'ZNF217'\n",
       "\\item 'ATOH1'\n",
       "\\item 'FOSL1'\n",
       "\\item 'FOXE1'\n",
       "\\item 'ZFP42'\n",
       "\\item 'HCLS1'\n",
       "\\item 'NKX2-5'\n",
       "\\item 'ZFP36L1'\n",
       "\\item 'ZNF490'\n",
       "\\item 'ZNF565'\n",
       "\\item 'ESRRG'\n",
       "\\item 'ZNF469'\n",
       "\\item 'SPIB'\n",
       "\\end{enumerate*}\n"
      ],
      "text/markdown": [
       "1. 'PAX6'\n",
       "2. 'PAX7'\n",
       "3. 'ETV7'\n",
       "4. 'POU2F2'\n",
       "5. 'SPO11'\n",
       "6. 'SP100'\n",
       "7. 'BCL3'\n",
       "8. 'REST'\n",
       "9. 'TRIP6'\n",
       "10. 'POU4F3'\n",
       "11. 'TRPS1'\n",
       "12. 'ANKRD7'\n",
       "13. 'POU6F2'\n",
       "14. 'AHR'\n",
       "15. 'AEBP1'\n",
       "16. 'LHX3'\n",
       "17. 'NANOG'\n",
       "18. 'RFX4'\n",
       "19. 'HAND1'\n",
       "20. 'IRX4'\n",
       "21. 'OTX1'\n",
       "22. 'IRF6'\n",
       "23. 'TCF21'\n",
       "24. 'PHF19'\n",
       "25. 'ESRRB'\n",
       "26. 'HOXB1'\n",
       "27. 'TBX22'\n",
       "28. 'TWIST1'\n",
       "29. 'NEUROG3'\n",
       "30. 'GCM2'\n",
       "31. 'FOXA2'\n",
       "32. 'NKX2-2'\n",
       "33. 'SIX1'\n",
       "34. 'SOX15'\n",
       "35. 'PDLIM4'\n",
       "36. 'PPARG'\n",
       "37. 'TRIM22'\n",
       "38. 'DDB2'\n",
       "39. 'SOX3'\n",
       "40. 'SPOCD1'\n",
       "41. 'ETS1'\n",
       "42. 'EMX1'\n",
       "43. 'NKX2-8'\n",
       "44. 'DMRT1'\n",
       "45. 'TFAP2A'\n",
       "46. 'IRF4'\n",
       "47. 'HMGA1'\n",
       "48. 'POU2F3'\n",
       "49. 'SSB'\n",
       "50. 'RXRG'\n",
       "51. 'ANKRD1'\n",
       "52. 'VAX1'\n",
       "53. 'FLI1'\n",
       "54. 'EEF1A1'\n",
       "55. 'LMX1A'\n",
       "56. 'EN1'\n",
       "57. 'ELF3'\n",
       "58. 'FEV'\n",
       "59. 'HEYL'\n",
       "60. 'SFMBT1'\n",
       "61. 'NAB2'\n",
       "62. 'PTF1A'\n",
       "63. 'SOX14'\n",
       "64. 'NHLH1'\n",
       "65. 'UTF1'\n",
       "66. 'ZNF217'\n",
       "67. 'ATOH1'\n",
       "68. 'FOSL1'\n",
       "69. 'FOXE1'\n",
       "70. 'ZFP42'\n",
       "71. 'HCLS1'\n",
       "72. 'NKX2-5'\n",
       "73. 'ZFP36L1'\n",
       "74. 'ZNF490'\n",
       "75. 'ZNF565'\n",
       "76. 'ESRRG'\n",
       "77. 'ZNF469'\n",
       "78. 'SPIB'\n",
       "\n",
       "\n"
      ],
      "text/plain": [
       " [1] \"PAX6\"    \"PAX7\"    \"ETV7\"    \"POU2F2\"  \"SPO11\"   \"SP100\"   \"BCL3\"   \n",
       " [8] \"REST\"    \"TRIP6\"   \"POU4F3\"  \"TRPS1\"   \"ANKRD7\"  \"POU6F2\"  \"AHR\"    \n",
       "[15] \"AEBP1\"   \"LHX3\"    \"NANOG\"   \"RFX4\"    \"HAND1\"   \"IRX4\"    \"OTX1\"   \n",
       "[22] \"IRF6\"    \"TCF21\"   \"PHF19\"   \"ESRRB\"   \"HOXB1\"   \"TBX22\"   \"TWIST1\" \n",
       "[29] \"NEUROG3\" \"GCM2\"    \"FOXA2\"   \"NKX2-2\"  \"SIX1\"    \"SOX15\"   \"PDLIM4\" \n",
       "[36] \"PPARG\"   \"TRIM22\"  \"DDB2\"    \"SOX3\"    \"SPOCD1\"  \"ETS1\"    \"EMX1\"   \n",
       "[43] \"NKX2-8\"  \"DMRT1\"   \"TFAP2A\"  \"IRF4\"    \"HMGA1\"   \"POU2F3\"  \"SSB\"    \n",
       "[50] \"RXRG\"    \"ANKRD1\"  \"VAX1\"    \"FLI1\"    \"EEF1A1\"  \"LMX1A\"   \"EN1\"    \n",
       "[57] \"ELF3\"    \"FEV\"     \"HEYL\"    \"SFMBT1\"  \"NAB2\"    \"PTF1A\"   \"SOX14\"  \n",
       "[64] \"NHLH1\"   \"UTF1\"    \"ZNF217\"  \"ATOH1\"   \"FOSL1\"   \"FOXE1\"   \"ZFP42\"  \n",
       "[71] \"HCLS1\"   \"NKX2-5\"  \"ZFP36L1\" \"ZNF490\"  \"ZNF565\"  \"ESRRG\"   \"ZNF469\" \n",
       "[78] \"SPIB\"   "
      ]
     },
     "metadata": {},
     "output_type": "display_data"
    }
   ],
   "source": [
    "res3e_tf %>% filter(DGE != 'No Change' & padj < fdr & abs(log2FoldChange) > abs(FC.threshold)) %>% pull(gene_name) %>% as.character"
   ]
  },
  {
   "cell_type": "code",
   "execution_count": 164,
   "metadata": {
    "ExecuteTime": {
     "end_time": "2019-10-16T18:44:20.786790Z",
     "start_time": "2019-10-16T18:44:20.748Z"
    }
   },
   "outputs": [
    {
     "data": {
      "text/html": [
       "<table>\n",
       "<caption>A data.frame: 6 × 14</caption>\n",
       "<thead>\n",
       "\t<tr><th scope=col>gene_id</th><th scope=col>A1</th><th scope=col>A2</th><th scope=col>A3</th><th scope=col>A4</th><th scope=col>A5</th><th scope=col>A6</th><th scope=col>A7</th><th scope=col>A8</th><th scope=col>A9</th><th scope=col>A10</th><th scope=col>A11</th><th scope=col>A12</th><th scope=col>gene_name</th></tr>\n",
       "\t<tr><th scope=col>&lt;chr&gt;</th><th scope=col>&lt;dbl&gt;</th><th scope=col>&lt;dbl&gt;</th><th scope=col>&lt;dbl&gt;</th><th scope=col>&lt;dbl&gt;</th><th scope=col>&lt;dbl&gt;</th><th scope=col>&lt;dbl&gt;</th><th scope=col>&lt;dbl&gt;</th><th scope=col>&lt;dbl&gt;</th><th scope=col>&lt;dbl&gt;</th><th scope=col>&lt;dbl&gt;</th><th scope=col>&lt;dbl&gt;</th><th scope=col>&lt;dbl&gt;</th><th scope=col>&lt;chr&gt;</th></tr>\n",
       "</thead>\n",
       "<tbody>\n",
       "\t<tr><td>ENSG00000001167.14</td><td>399.06247</td><td>337.02998</td><td>316.86174</td><td>329.42452</td><td>341.7029</td><td>288.71375</td><td>326.53355</td><td>351.54329</td><td>397.59950</td><td>399.71504</td><td>469.24637</td><td>504.03772</td><td>NFYA  </td></tr>\n",
       "\t<tr><td>ENSG00000004848.8 </td><td>185.23817</td><td>160.94901</td><td>148.40360</td><td>190.79170</td><td>176.9972</td><td>185.72744</td><td>159.67059</td><td>186.51325</td><td>152.79650</td><td>130.78611</td><td>115.91687</td><td>112.16417</td><td>ARX   </td></tr>\n",
       "\t<tr><td>ENSG00000005007.12</td><td> 58.31572</td><td> 31.63955</td><td> 86.90301</td><td> 48.04108</td><td> 67.6031</td><td> 63.37619</td><td> 54.66200</td><td> 52.73149</td><td> 50.38451</td><td> 54.76668</td><td> 65.08701</td><td> 57.48414</td><td>UPF1  </td></tr>\n",
       "\t<tr><td>ENSG00000005339.14</td><td>129.20934</td><td>143.06579</td><td>140.38179</td><td>131.76981</td><td>127.8313</td><td>105.62698</td><td>156.79364</td><td>133.78175</td><td>144.03398</td><td>129.96869</td><td>143.81130</td><td>161.93701</td><td>CREBBP</td></tr>\n",
       "\t<tr><td>ENSG00000005513.10</td><td> 58.31572</td><td> 78.41106</td><td> 82.89210</td><td> 76.86572</td><td> 67.6031</td><td> 50.17282</td><td> 56.10048</td><td> 39.06037</td><td> 49.28920</td><td> 73.56719</td><td> 48.97023</td><td> 60.98927</td><td>SOX8  </td></tr>\n",
       "\t<tr><td>ENSG00000005801.18</td><td>165.79959</td><td>188.46166</td><td>212.57813</td><td>182.55609</td><td>200.3510</td><td>169.00317</td><td>188.44007</td><td>199.20787</td><td>175.25047</td><td>200.26623</td><td>185.96289</td><td>184.36985</td><td>ZNF195</td></tr>\n",
       "</tbody>\n",
       "</table>\n"
      ],
      "text/latex": [
       "A data.frame: 6 × 14\n",
       "\\begin{tabular}{r|llllllllllllll}\n",
       " gene\\_id & A1 & A2 & A3 & A4 & A5 & A6 & A7 & A8 & A9 & A10 & A11 & A12 & gene\\_name\\\\\n",
       " <chr> & <dbl> & <dbl> & <dbl> & <dbl> & <dbl> & <dbl> & <dbl> & <dbl> & <dbl> & <dbl> & <dbl> & <dbl> & <chr>\\\\\n",
       "\\hline\n",
       "\t ENSG00000001167.14 & 399.06247 & 337.02998 & 316.86174 & 329.42452 & 341.7029 & 288.71375 & 326.53355 & 351.54329 & 397.59950 & 399.71504 & 469.24637 & 504.03772 & NFYA  \\\\\n",
       "\t ENSG00000004848.8  & 185.23817 & 160.94901 & 148.40360 & 190.79170 & 176.9972 & 185.72744 & 159.67059 & 186.51325 & 152.79650 & 130.78611 & 115.91687 & 112.16417 & ARX   \\\\\n",
       "\t ENSG00000005007.12 &  58.31572 &  31.63955 &  86.90301 &  48.04108 &  67.6031 &  63.37619 &  54.66200 &  52.73149 &  50.38451 &  54.76668 &  65.08701 &  57.48414 & UPF1  \\\\\n",
       "\t ENSG00000005339.14 & 129.20934 & 143.06579 & 140.38179 & 131.76981 & 127.8313 & 105.62698 & 156.79364 & 133.78175 & 144.03398 & 129.96869 & 143.81130 & 161.93701 & CREBBP\\\\\n",
       "\t ENSG00000005513.10 &  58.31572 &  78.41106 &  82.89210 &  76.86572 &  67.6031 &  50.17282 &  56.10048 &  39.06037 &  49.28920 &  73.56719 &  48.97023 &  60.98927 & SOX8  \\\\\n",
       "\t ENSG00000005801.18 & 165.79959 & 188.46166 & 212.57813 & 182.55609 & 200.3510 & 169.00317 & 188.44007 & 199.20787 & 175.25047 & 200.26623 & 185.96289 & 184.36985 & ZNF195\\\\\n",
       "\\end{tabular}\n"
      ],
      "text/markdown": [
       "\n",
       "A data.frame: 6 × 14\n",
       "\n",
       "| gene_id &lt;chr&gt; | A1 &lt;dbl&gt; | A2 &lt;dbl&gt; | A3 &lt;dbl&gt; | A4 &lt;dbl&gt; | A5 &lt;dbl&gt; | A6 &lt;dbl&gt; | A7 &lt;dbl&gt; | A8 &lt;dbl&gt; | A9 &lt;dbl&gt; | A10 &lt;dbl&gt; | A11 &lt;dbl&gt; | A12 &lt;dbl&gt; | gene_name &lt;chr&gt; |\n",
       "|---|---|---|---|---|---|---|---|---|---|---|---|---|---|\n",
       "| ENSG00000001167.14 | 399.06247 | 337.02998 | 316.86174 | 329.42452 | 341.7029 | 288.71375 | 326.53355 | 351.54329 | 397.59950 | 399.71504 | 469.24637 | 504.03772 | NFYA   |\n",
       "| ENSG00000004848.8  | 185.23817 | 160.94901 | 148.40360 | 190.79170 | 176.9972 | 185.72744 | 159.67059 | 186.51325 | 152.79650 | 130.78611 | 115.91687 | 112.16417 | ARX    |\n",
       "| ENSG00000005007.12 |  58.31572 |  31.63955 |  86.90301 |  48.04108 |  67.6031 |  63.37619 |  54.66200 |  52.73149 |  50.38451 |  54.76668 |  65.08701 |  57.48414 | UPF1   |\n",
       "| ENSG00000005339.14 | 129.20934 | 143.06579 | 140.38179 | 131.76981 | 127.8313 | 105.62698 | 156.79364 | 133.78175 | 144.03398 | 129.96869 | 143.81130 | 161.93701 | CREBBP |\n",
       "| ENSG00000005513.10 |  58.31572 |  78.41106 |  82.89210 |  76.86572 |  67.6031 |  50.17282 |  56.10048 |  39.06037 |  49.28920 |  73.56719 |  48.97023 |  60.98927 | SOX8   |\n",
       "| ENSG00000005801.18 | 165.79959 | 188.46166 | 212.57813 | 182.55609 | 200.3510 | 169.00317 | 188.44007 | 199.20787 | 175.25047 | 200.26623 | 185.96289 | 184.36985 | ZNF195 |\n",
       "\n"
      ],
      "text/plain": [
       "  gene_id            A1        A2        A3        A4        A5       A6       \n",
       "1 ENSG00000001167.14 399.06247 337.02998 316.86174 329.42452 341.7029 288.71375\n",
       "2 ENSG00000004848.8  185.23817 160.94901 148.40360 190.79170 176.9972 185.72744\n",
       "3 ENSG00000005007.12  58.31572  31.63955  86.90301  48.04108  67.6031  63.37619\n",
       "4 ENSG00000005339.14 129.20934 143.06579 140.38179 131.76981 127.8313 105.62698\n",
       "5 ENSG00000005513.10  58.31572  78.41106  82.89210  76.86572  67.6031  50.17282\n",
       "6 ENSG00000005801.18 165.79959 188.46166 212.57813 182.55609 200.3510 169.00317\n",
       "  A7        A8        A9        A10       A11       A12       gene_name\n",
       "1 326.53355 351.54329 397.59950 399.71504 469.24637 504.03772 NFYA     \n",
       "2 159.67059 186.51325 152.79650 130.78611 115.91687 112.16417 ARX      \n",
       "3  54.66200  52.73149  50.38451  54.76668  65.08701  57.48414 UPF1     \n",
       "4 156.79364 133.78175 144.03398 129.96869 143.81130 161.93701 CREBBP   \n",
       "5  56.10048  39.06037  49.28920  73.56719  48.97023  60.98927 SOX8     \n",
       "6 188.44007 199.20787 175.25047 200.26623 185.96289 184.36985 ZNF195   "
      ]
     },
     "metadata": {},
     "output_type": "display_data"
    }
   ],
   "source": [
    "cnts3_tf %>% head"
   ]
  },
  {
   "cell_type": "code",
   "execution_count": 166,
   "metadata": {
    "ExecuteTime": {
     "end_time": "2019-10-16T18:44:36.503367Z",
     "start_time": "2019-10-16T18:44:36.246Z"
    }
   },
   "outputs": [
    {
     "data": {
      "image/png": "[encoded data removed]",
      "text/plain": [
       "plot without title"
      ]
     },
     "metadata": {},
     "output_type": "display_data"
    }
   ],
   "source": [
    "tf.heatmap.genes.3e <- res3e_tf %>% filter(DGE != 'No Change' & padj < fdr & abs(log2FoldChange) > abs(FC.threshold)) %>% pull(gene_name) %>% as.character\n",
    "cnts3_tf[,c(2:14)] %>% filter(gene_name %in% tf.heatmap.genes.3e) %>% column_to_rownames('gene_name') %>% as.matrix %>% apply(2, sqrt) %>%\n",
    "                pheatmap(cluster_rows = T, show_rownames = T, cluster_cols = F, annotation = ano3, fontsize=6, treeheight_row=40,\n",
    "                main = paste0('Wild type: 5D vs. ES, Screened TF Genes (fdr<',fdr,', log2FC>',FC.threshold,')'))"
   ]
  },
  {
   "cell_type": "code",
   "execution_count": 157,
   "metadata": {
    "ExecuteTime": {
     "end_time": "2019-10-16T18:42:38.130375Z",
     "start_time": "2019-10-16T18:42:37.919Z"
    }
   },
   "outputs": [
    {
     "ename": "ERROR",
     "evalue": "Error in eval(expr, envir, enclos): object 'tf.heatmap.genes.3a' not found\n",
     "output_type": "error",
     "traceback": [
      "Error in eval(expr, envir, enclos): object 'tf.heatmap.genes.3a' not found\nTraceback:\n"
     ]
    }
   ],
   "source": [
    "for (x in list(tf.heatmap.genes.3a, tf.heatmap.genes.3b, tf.heatmap.genes.3c, tf.heatmap.genes.3d, tf.heatmap.genes.3e)) {\n",
    "    print(length(x))\n",
    "}"
   ]
  },
  {
   "cell_type": "code",
   "execution_count": 158,
   "metadata": {
    "ExecuteTime": {
     "end_time": "2019-10-16T18:42:44.226574Z",
     "start_time": "2019-10-16T18:42:44.194Z"
    }
   },
   "outputs": [
    {
     "ename": "ERROR",
     "evalue": "Error in eval(lhs, parent, parent): object 'tf.heatmap.genes.3a' not found\n",
     "output_type": "error",
     "traceback": [
      "Error in eval(lhs, parent, parent): object 'tf.heatmap.genes.3a' not found\nTraceback:\n",
      "1. tf.heatmap.genes.3a %>% sort %>% paste(\" \", collapse = \"\")",
      "2. eval(lhs, parent, parent)",
      "3. eval(lhs, parent, parent)"
     ]
    }
   ],
   "source": [
    "tf.heatmap.genes.3a %>% sort %>% paste(\" \", collapse=\"\") # 1H up or down regulated"
   ]
  },
  {
   "cell_type": "code",
   "execution_count": 254,
   "metadata": {},
   "outputs": [
    {
     "data": {
      "text/html": [
       "<span style=white-space:pre-wrap>'AEBP2  ELAVL2  FOXP1  FOXP3  GFI1  IRF3  ISL2  MYBL1  PAPOLA  PHF21B  SMAD9  TBX5  TFAP2E  TLX3  XAB2  ZBTB7A  ZNF347  '</span>"
      ],
      "text/latex": [
       "'AEBP2  ELAVL2  FOXP1  FOXP3  GFI1  IRF3  ISL2  MYBL1  PAPOLA  PHF21B  SMAD9  TBX5  TFAP2E  TLX3  XAB2  ZBTB7A  ZNF347  '"
      ],
      "text/markdown": [
       "<span style=white-space:pre-wrap>'AEBP2  ELAVL2  FOXP1  FOXP3  GFI1  IRF3  ISL2  MYBL1  PAPOLA  PHF21B  SMAD9  TBX5  TFAP2E  TLX3  XAB2  ZBTB7A  ZNF347  '</span>"
      ],
      "text/plain": [
       "[1] \"AEBP2  ELAVL2  FOXP1  FOXP3  GFI1  IRF3  ISL2  MYBL1  PAPOLA  PHF21B  SMAD9  TBX5  TFAP2E  TLX3  XAB2  ZBTB7A  ZNF347  \""
      ]
     },
     "metadata": {},
     "output_type": "display_data"
    }
   ],
   "source": [
    "tf.heatmap.genes.3b %>% sort %>% paste(\" \", collapse=\"\") # 4H up or down regulated"
   ]
  },
  {
   "cell_type": "code",
   "execution_count": 255,
   "metadata": {},
   "outputs": [
    {
     "data": {
      "text/html": [
       "<span style=white-space:pre-wrap>'CBX4  CRTC1  DMRT1  ELAVL2  ELF5  FEV  FOXC1  FOXL2  FOXP1  HOXA13  IRF3  ISL2  JRK  LBX1  NEUROG3  ONECUT1  PAPOLA  PEG3  SMAD9  TCF15  VSX1  XAB2  ZIM2  ZNF175  ZNF596  '</span>"
      ],
      "text/latex": [
       "'CBX4  CRTC1  DMRT1  ELAVL2  ELF5  FEV  FOXC1  FOXL2  FOXP1  HOXA13  IRF3  ISL2  JRK  LBX1  NEUROG3  ONECUT1  PAPOLA  PEG3  SMAD9  TCF15  VSX1  XAB2  ZIM2  ZNF175  ZNF596  '"
      ],
      "text/markdown": [
       "<span style=white-space:pre-wrap>'CBX4  CRTC1  DMRT1  ELAVL2  ELF5  FEV  FOXC1  FOXL2  FOXP1  HOXA13  IRF3  ISL2  JRK  LBX1  NEUROG3  ONECUT1  PAPOLA  PEG3  SMAD9  TCF15  VSX1  XAB2  ZIM2  ZNF175  ZNF596  '</span>"
      ],
      "text/plain": [
       "[1] \"CBX4  CRTC1  DMRT1  ELAVL2  ELF5  FEV  FOXC1  FOXL2  FOXP1  HOXA13  IRF3  ISL2  JRK  LBX1  NEUROG3  ONECUT1  PAPOLA  PEG3  SMAD9  TCF15  VSX1  XAB2  ZIM2  ZNF175  ZNF596  \""
      ]
     },
     "metadata": {},
     "output_type": "display_data"
    }
   ],
   "source": [
    "tf.heatmap.genes.3c %>% sort %>% paste(\" \", collapse=\"\") # 16H up or down regulated"
   ]
  },
  {
   "cell_type": "code",
   "execution_count": 256,
   "metadata": {},
   "outputs": [
    {
     "data": {
      "text/html": [
       "<span style=white-space:pre-wrap>'CBX4  ELAVL2  EYA2  FOXC1  FOXP1  FOXP3  IRF3  ISL2  JRK  MYBL1  ONECUT1  PAPOLA  SAFB2  SMAD9  XAB2  ZBTB7A  ZNF175  ZNF467  '</span>"
      ],
      "text/latex": [
       "'CBX4  ELAVL2  EYA2  FOXC1  FOXP1  FOXP3  IRF3  ISL2  JRK  MYBL1  ONECUT1  PAPOLA  SAFB2  SMAD9  XAB2  ZBTB7A  ZNF175  ZNF467  '"
      ],
      "text/markdown": [
       "<span style=white-space:pre-wrap>'CBX4  ELAVL2  EYA2  FOXC1  FOXP1  FOXP3  IRF3  ISL2  JRK  MYBL1  ONECUT1  PAPOLA  SAFB2  SMAD9  XAB2  ZBTB7A  ZNF175  ZNF467  '</span>"
      ],
      "text/plain": [
       "[1] \"CBX4  ELAVL2  EYA2  FOXC1  FOXP1  FOXP3  IRF3  ISL2  JRK  MYBL1  ONECUT1  PAPOLA  SAFB2  SMAD9  XAB2  ZBTB7A  ZNF175  ZNF467  \""
      ]
     },
     "metadata": {},
     "output_type": "display_data"
    }
   ],
   "source": [
    "tf.heatmap.genes.3d %>% sort %>% paste(\" \", collapse=\"\") # 14H up or down regulated"
   ]
  },
  {
   "cell_type": "code",
   "execution_count": 258,
   "metadata": {
    "ExecuteTime": {
     "end_time": "2019-09-09T11:17:59.703395Z",
     "start_time": "2019-09-09T11:18:00.352Z"
    }
   },
   "outputs": [
    {
     "data": {
      "text/html": [
       "<span style=white-space:pre-wrap>'AEBP1  AEBP2  AIRE  ANKRD1  ATOH1  BCL3  CBX4  CDX1  DDB2  DLX4  EEF1A1  EGR4  ELAVL2  ELF3  ELF4  ELL3  EMX1  EYA2  FEV  FLI1  FOSL1  FOXA2  FOXC1  FOXL2  FOXP1  FOXP3  FOXQ1  GLI2  HMGA1  HOXB1  HOXD12  ID2  IRF3  IRF6  ISL2  JRK  JUND  KLF14  KLF8  LBX1  LHX3  LHX9  LMX1A  MIXL1  NANOG  NFE2  NHLH1  NKX2-5  NR2F6  ONECUT1  PAPOLA  PAX4  PAX5  PAX6  PCGF2  PDLIM4  PEG3  POU6F2  PRDM12  RAX  RFX4  SAFB2  SEC14L2  SMAD9  SOX21  SOX7  SOX8  SPO11  SPOCD1  SSB  TBX4  TCF15  TFCP2L1  TFEB  TP73  TRIP6  TSC22D3  TWIST2  XAB2  YBX2  ZBTB7A  ZFP36L1  ZFP42  ZIM2  ZNF175  ZNF354C  ZNF467  ZNF512  '</span>"
      ],
      "text/latex": [
       "'AEBP1  AEBP2  AIRE  ANKRD1  ATOH1  BCL3  CBX4  CDX1  DDB2  DLX4  EEF1A1  EGR4  ELAVL2  ELF3  ELF4  ELL3  EMX1  EYA2  FEV  FLI1  FOSL1  FOXA2  FOXC1  FOXL2  FOXP1  FOXP3  FOXQ1  GLI2  HMGA1  HOXB1  HOXD12  ID2  IRF3  IRF6  ISL2  JRK  JUND  KLF14  KLF8  LBX1  LHX3  LHX9  LMX1A  MIXL1  NANOG  NFE2  NHLH1  NKX2-5  NR2F6  ONECUT1  PAPOLA  PAX4  PAX5  PAX6  PCGF2  PDLIM4  PEG3  POU6F2  PRDM12  RAX  RFX4  SAFB2  SEC14L2  SMAD9  SOX21  SOX7  SOX8  SPO11  SPOCD1  SSB  TBX4  TCF15  TFCP2L1  TFEB  TP73  TRIP6  TSC22D3  TWIST2  XAB2  YBX2  ZBTB7A  ZFP36L1  ZFP42  ZIM2  ZNF175  ZNF354C  ZNF467  ZNF512  '"
      ],
      "text/markdown": [
       "<span style=white-space:pre-wrap>'AEBP1  AEBP2  AIRE  ANKRD1  ATOH1  BCL3  CBX4  CDX1  DDB2  DLX4  EEF1A1  EGR4  ELAVL2  ELF3  ELF4  ELL3  EMX1  EYA2  FEV  FLI1  FOSL1  FOXA2  FOXC1  FOXL2  FOXP1  FOXP3  FOXQ1  GLI2  HMGA1  HOXB1  HOXD12  ID2  IRF3  IRF6  ISL2  JRK  JUND  KLF14  KLF8  LBX1  LHX3  LHX9  LMX1A  MIXL1  NANOG  NFE2  NHLH1  NKX2-5  NR2F6  ONECUT1  PAPOLA  PAX4  PAX5  PAX6  PCGF2  PDLIM4  PEG3  POU6F2  PRDM12  RAX  RFX4  SAFB2  SEC14L2  SMAD9  SOX21  SOX7  SOX8  SPO11  SPOCD1  SSB  TBX4  TCF15  TFCP2L1  TFEB  TP73  TRIP6  TSC22D3  TWIST2  XAB2  YBX2  ZBTB7A  ZFP36L1  ZFP42  ZIM2  ZNF175  ZNF354C  ZNF467  ZNF512  '</span>"
      ],
      "text/plain": [
       "[1] \"AEBP1  AEBP2  AIRE  ANKRD1  ATOH1  BCL3  CBX4  CDX1  DDB2  DLX4  EEF1A1  EGR4  ELAVL2  ELF3  ELF4  ELL3  EMX1  EYA2  FEV  FLI1  FOSL1  FOXA2  FOXC1  FOXL2  FOXP1  FOXP3  FOXQ1  GLI2  HMGA1  HOXB1  HOXD12  ID2  IRF3  IRF6  ISL2  JRK  JUND  KLF14  KLF8  LBX1  LHX3  LHX9  LMX1A  MIXL1  NANOG  NFE2  NHLH1  NKX2-5  NR2F6  ONECUT1  PAPOLA  PAX4  PAX5  PAX6  PCGF2  PDLIM4  PEG3  POU6F2  PRDM12  RAX  RFX4  SAFB2  SEC14L2  SMAD9  SOX21  SOX7  SOX8  SPO11  SPOCD1  SSB  TBX4  TCF15  TFCP2L1  TFEB  TP73  TRIP6  TSC22D3  TWIST2  XAB2  YBX2  ZBTB7A  ZFP36L1  ZFP42  ZIM2  ZNF175  ZNF354C  ZNF467  ZNF512  \""
      ]
     },
     "metadata": {},
     "output_type": "display_data"
    }
   ],
   "source": [
    "tf.heatmap.genes.3e %>% sort %>% paste(\" \", collapse=\"\") # 5D up or down regulated"
   ]
  },
  {
   "cell_type": "code",
   "execution_count": null,
   "metadata": {},
   "outputs": [],
   "source": []
  },
  {
   "cell_type": "code",
   "execution_count": null,
   "metadata": {},
   "outputs": [],
   "source": []
  },
  {
   "cell_type": "raw",
   "metadata": {
    "ExecuteTime": {
     "end_time": "2019-09-09T11:26:48.033384Z",
     "start_time": "2019-09-09T11:26:48.634Z"
    }
   },
   "source": [
    "tf.heatmap.genes.3a.up <- res3a_tf %>% filter(DGE != 'Up' & padj < fdr & abs(log2FoldChange) > abs(FC.threshold)) %>% pull(gene_name) %>% as.character\n",
    "tf.heatmap.genes.3b.up <- res3b_tf %>% filter(DGE != 'Up' & padj < fdr & abs(log2FoldChange) > abs(FC.threshold)) %>% pull(gene_name) %>% as.character\n",
    "tf.heatmap.genes.3c.up <- res3c_tf %>% filter(DGE != 'Up' & padj < fdr & abs(log2FoldChange) > abs(FC.threshold)) %>% pull(gene_name) %>% as.character\n",
    "tf.heatmap.genes.3d.up <- res3d_tf %>% filter(DGE != 'Up' & padj < fdr & abs(log2FoldChange) > abs(FC.threshold)) %>% pull(gene_name) %>% as.character\n",
    "tf.heatmap.genes.3e.up <- res3e_tf %>% filter(DGE != 'Up' & padj < fdr & abs(log2FoldChange) > abs(FC.threshold)) %>% pull(gene_name) %>% as.character\n",
    "tf.heatmap.genes.3a.down <- res3a_tf %>% filter(DGE != 'Down' & padj < fdr & abs(log2FoldChange) > abs(FC.threshold)) %>% pull(gene_name) %>% as.character\n",
    "tf.heatmap.genes.3b.down <- res3b_tf %>% filter(DGE != 'Down' & padj < fdr & abs(log2FoldChange) > abs(FC.threshold)) %>% pull(gene_name) %>% as.character\n",
    "tf.heatmap.genes.3c.down <- res3c_tf %>% filter(DGE != 'Down' & padj < fdr & abs(log2FoldChange) > abs(FC.threshold)) %>% pull(gene_name) %>% as.character\n",
    "tf.heatmap.genes.3d.down <- res3d_tf %>% filter(DGE != 'Down' & padj < fdr & abs(log2FoldChange) > abs(FC.threshold)) %>% pull(gene_name) %>% as.character\n",
    "tf.heatmap.genes.3e.down <- res3e_tf %>% filter(DGE != 'Down' & padj < fdr & abs(log2FoldChange) > abs(FC.threshold)) %>% pull(gene_name) %>% as.character\n"
   ]
  },
  {
   "cell_type": "raw",
   "metadata": {
    "ExecuteTime": {
     "end_time": "2019-09-09T11:27:52.924600Z",
     "start_time": "2019-09-09T11:27:53.557Z"
    }
   },
   "source": [
    "# SAVE gene names in the heatmaps to csv. Note, the values of variables such as tf.heatmap.genes.3a would have changed after running this code block\n",
    "\n",
    "tf.heatmap.genes.up.df = data.frame(matrix(NA, length(tf.heatmap.genes.3e.up), 0))\n",
    "\n",
    "tf.heatmap.genes.3a.up <- append(tf.heatmap.genes.3a.up, rep(NA, length(tf.heatmap.genes.3e.up) - length(tf.heatmap.genes.3a.up)))\n",
    "tf.heatmap.genes.3b.up <- append(tf.heatmap.genes.3b.up, rep(NA, length(tf.heatmap.genes.3e.up) - length(tf.heatmap.genes.3b.up)))\n",
    "tf.heatmap.genes.3c.up <- append(tf.heatmap.genes.3c.up, rep(NA, length(tf.heatmap.genes.3e.up) - length(tf.heatmap.genes.3c.up)))\n",
    "tf.heatmap.genes.3d.up <- append(tf.heatmap.genes.3d.up, rep(NA, length(tf.heatmap.genes.3e.up) - length(tf.heatmap.genes.3d.up)))\n",
    "\n",
    "tf.heatmap.genes.up.df %>% add_column('15H' = tf.heatmap.genes.3a.up) %>% add_column('1D' = tf.heatmap.genes.3b.up) %>% add_column('2D' = tf.heatmap.genes.3c.up) %>%\n",
    "                        add_column('4D' = tf.heatmap.genes.3d.up) %>% add_column('7D' = tf.heatmap.genes.3e.up) %>% write.csv('tf.heatmap.genes.up.csv', quote=F)"
   ]
  },
  {
   "cell_type": "raw",
   "metadata": {
    "ExecuteTime": {
     "end_time": "2019-09-09T11:29:44.636719Z",
     "start_time": "2019-09-09T11:29:45.267Z"
    }
   },
   "source": [
    "# SAVE gene names in the heatmaps to csv. Note, the values of variables such as tf.heatmap.genes.3a would have changed after running this code block\n",
    "\n",
    "tf.heatmap.genes.down.df = data.frame(matrix(NA, length(tf.heatmap.genes.3e.down), 0))\n",
    "\n",
    "tf.heatmap.genes.3a.down <- append(tf.heatmap.genes.3a.down, rep(NA, length(tf.heatmap.genes.3e.down) - length(tf.heatmap.genes.3a.down)))\n",
    "tf.heatmap.genes.3b.down <- append(tf.heatmap.genes.3b.down, rep(NA, length(tf.heatmap.genes.3e.down) - length(tf.heatmap.genes.3b.down)))\n",
    "tf.heatmap.genes.3c.down <- append(tf.heatmap.genes.3c.down, rep(NA, length(tf.heatmap.genes.3e.down) - length(tf.heatmap.genes.3c.down)))\n",
    "tf.heatmap.genes.3d.down <- append(tf.heatmap.genes.3d.down, rep(NA, length(tf.heatmap.genes.3e.down) - length(tf.heatmap.genes.3d.down)))\n",
    "\n",
    "tf.heatmap.genes.down.df %>% add_column('15H' = tf.heatmap.genes.3a.down) %>% add_column('1D' = tf.heatmap.genes.3b.down) %>% add_column('2D' = tf.heatmap.genes.3c.down) %>%\n",
    "                        add_column('4D' = tf.heatmap.genes.3d.down) %>% add_column('7D' = tf.heatmap.genes.3e.down) %>% write.csv('tf.heatmap.genes.down.csv', quote=F)"
   ]
  },
  {
   "cell_type": "markdown",
   "metadata": {},
   "source": [
    "---"
   ]
  },
  {
   "cell_type": "markdown",
   "metadata": {},
   "source": [
    "# Analyze by promoter region peaks \n",
    "(not by differential analysis on readcounts of peaks)"
   ]
  },
  {
   "cell_type": "code",
   "execution_count": 307,
   "metadata": {},
   "outputs": [],
   "source": [
    "promoters <- counts(dds3, normalized=T) %>% as.data.frame %>% add_column(gene_name = mcols(dds3)$gene_name, .before = 'A1') %>% rownames_to_column('gene_id')"
   ]
  },
  {
   "cell_type": "code",
   "execution_count": 308,
   "metadata": {},
   "outputs": [
    {
     "data": {
      "text/html": [
       "<table>\n",
       "<caption>A data.frame: 6 × 14</caption>\n",
       "<thead>\n",
       "\t<tr><th scope=col>gene_id</th><th scope=col>gene_name</th><th scope=col>A1</th><th scope=col>A2</th><th scope=col>A3</th><th scope=col>A4</th><th scope=col>A5</th><th scope=col>A6</th><th scope=col>A7</th><th scope=col>A8</th><th scope=col>A9</th><th scope=col>A10</th><th scope=col>A11</th><th scope=col>A12</th></tr>\n",
       "\t<tr><th scope=col>&lt;chr&gt;</th><th scope=col>&lt;chr&gt;</th><th scope=col>&lt;dbl&gt;</th><th scope=col>&lt;dbl&gt;</th><th scope=col>&lt;dbl&gt;</th><th scope=col>&lt;dbl&gt;</th><th scope=col>&lt;dbl&gt;</th><th scope=col>&lt;dbl&gt;</th><th scope=col>&lt;dbl&gt;</th><th scope=col>&lt;dbl&gt;</th><th scope=col>&lt;dbl&gt;</th><th scope=col>&lt;dbl&gt;</th><th scope=col>&lt;dbl&gt;</th><th scope=col>&lt;dbl&gt;</th></tr>\n",
       "</thead>\n",
       "<tbody>\n",
       "\t<tr><td>ENSG00000187634.12</td><td>SAMD11 </td><td> 0.00000</td><td>  0.00000</td><td> 0.00000</td><td>  0.0000</td><td>  0.0000</td><td>  0.00000</td><td>  0.0000</td><td>  0.0000</td><td>  0.00000</td><td> 40.64255</td><td> 58.07033</td><td>  0.00000</td></tr>\n",
       "\t<tr><td>ENSG00000188976.11</td><td>NOC2L  </td><td>63.87423</td><td>  0.00000</td><td> 0.00000</td><td>266.4011</td><td>187.2788</td><td>  0.00000</td><td>  0.0000</td><td>142.2818</td><td> 99.79626</td><td> 71.72215</td><td>  0.00000</td><td> 55.84005</td></tr>\n",
       "\t<tr><td>ENSG00000187961.14</td><td>KLHL17 </td><td>63.87423</td><td>  0.00000</td><td> 0.00000</td><td>266.4011</td><td>187.2788</td><td>  0.00000</td><td>  0.0000</td><td>142.2818</td><td> 99.79626</td><td> 71.72215</td><td>  0.00000</td><td> 55.84005</td></tr>\n",
       "\t<tr><td>ENSG00000187583.10</td><td>PLEKHN1</td><td>44.48384</td><td>114.34505</td><td>90.01161</td><td>138.2406</td><td>  0.0000</td><td> 92.57798</td><td>  0.0000</td><td>124.1385</td><td> 79.42968</td><td> 98.81719</td><td> 29.62772</td><td>  0.00000</td></tr>\n",
       "\t<tr><td>ENSG00000187642.9 </td><td>PERM1  </td><td> 0.00000</td><td> 44.86958</td><td> 0.00000</td><td>  0.0000</td><td>  0.0000</td><td>  0.00000</td><td>  0.0000</td><td>  0.0000</td><td> 57.02644</td><td>  0.00000</td><td>  0.00000</td><td> 26.91087</td></tr>\n",
       "\t<tr><td>ENSG00000188290.10</td><td>HES4   </td><td>92.38951</td><td>248.95379</td><td>98.45020</td><td>217.4409</td><td>143.2871</td><td>138.86698</td><td>194.6262</td><td>159.4702</td><td>181.26260</td><td>166.55478</td><td>113.17789</td><td>172.22957</td></tr>\n",
       "</tbody>\n",
       "</table>\n"
      ],
      "text/latex": [
       "A data.frame: 6 × 14\n",
       "\\begin{tabular}{r|llllllllllllll}\n",
       " gene\\_id & gene\\_name & A1 & A2 & A3 & A4 & A5 & A6 & A7 & A8 & A9 & A10 & A11 & A12\\\\\n",
       " <chr> & <chr> & <dbl> & <dbl> & <dbl> & <dbl> & <dbl> & <dbl> & <dbl> & <dbl> & <dbl> & <dbl> & <dbl> & <dbl>\\\\\n",
       "\\hline\n",
       "\t ENSG00000187634.12 & SAMD11  &  0.00000 &   0.00000 &  0.00000 &   0.0000 &   0.0000 &   0.00000 &   0.0000 &   0.0000 &   0.00000 &  40.64255 &  58.07033 &   0.00000\\\\\n",
       "\t ENSG00000188976.11 & NOC2L   & 63.87423 &   0.00000 &  0.00000 & 266.4011 & 187.2788 &   0.00000 &   0.0000 & 142.2818 &  99.79626 &  71.72215 &   0.00000 &  55.84005\\\\\n",
       "\t ENSG00000187961.14 & KLHL17  & 63.87423 &   0.00000 &  0.00000 & 266.4011 & 187.2788 &   0.00000 &   0.0000 & 142.2818 &  99.79626 &  71.72215 &   0.00000 &  55.84005\\\\\n",
       "\t ENSG00000187583.10 & PLEKHN1 & 44.48384 & 114.34505 & 90.01161 & 138.2406 &   0.0000 &  92.57798 &   0.0000 & 124.1385 &  79.42968 &  98.81719 &  29.62772 &   0.00000\\\\\n",
       "\t ENSG00000187642.9  & PERM1   &  0.00000 &  44.86958 &  0.00000 &   0.0000 &   0.0000 &   0.00000 &   0.0000 &   0.0000 &  57.02644 &   0.00000 &   0.00000 &  26.91087\\\\\n",
       "\t ENSG00000188290.10 & HES4    & 92.38951 & 248.95379 & 98.45020 & 217.4409 & 143.2871 & 138.86698 & 194.6262 & 159.4702 & 181.26260 & 166.55478 & 113.17789 & 172.22957\\\\\n",
       "\\end{tabular}\n"
      ],
      "text/markdown": [
       "\n",
       "A data.frame: 6 × 14\n",
       "\n",
       "| gene_id &lt;chr&gt; | gene_name &lt;chr&gt; | A1 &lt;dbl&gt; | A2 &lt;dbl&gt; | A3 &lt;dbl&gt; | A4 &lt;dbl&gt; | A5 &lt;dbl&gt; | A6 &lt;dbl&gt; | A7 &lt;dbl&gt; | A8 &lt;dbl&gt; | A9 &lt;dbl&gt; | A10 &lt;dbl&gt; | A11 &lt;dbl&gt; | A12 &lt;dbl&gt; |\n",
       "|---|---|---|---|---|---|---|---|---|---|---|---|---|---|\n",
       "| ENSG00000187634.12 | SAMD11  |  0.00000 |   0.00000 |  0.00000 |   0.0000 |   0.0000 |   0.00000 |   0.0000 |   0.0000 |   0.00000 |  40.64255 |  58.07033 |   0.00000 |\n",
       "| ENSG00000188976.11 | NOC2L   | 63.87423 |   0.00000 |  0.00000 | 266.4011 | 187.2788 |   0.00000 |   0.0000 | 142.2818 |  99.79626 |  71.72215 |   0.00000 |  55.84005 |\n",
       "| ENSG00000187961.14 | KLHL17  | 63.87423 |   0.00000 |  0.00000 | 266.4011 | 187.2788 |   0.00000 |   0.0000 | 142.2818 |  99.79626 |  71.72215 |   0.00000 |  55.84005 |\n",
       "| ENSG00000187583.10 | PLEKHN1 | 44.48384 | 114.34505 | 90.01161 | 138.2406 |   0.0000 |  92.57798 |   0.0000 | 124.1385 |  79.42968 |  98.81719 |  29.62772 |   0.00000 |\n",
       "| ENSG00000187642.9  | PERM1   |  0.00000 |  44.86958 |  0.00000 |   0.0000 |   0.0000 |   0.00000 |   0.0000 |   0.0000 |  57.02644 |   0.00000 |   0.00000 |  26.91087 |\n",
       "| ENSG00000188290.10 | HES4    | 92.38951 | 248.95379 | 98.45020 | 217.4409 | 143.2871 | 138.86698 | 194.6262 | 159.4702 | 181.26260 | 166.55478 | 113.17789 | 172.22957 |\n",
       "\n"
      ],
      "text/plain": [
       "  gene_id            gene_name A1       A2        A3       A4       A5      \n",
       "1 ENSG00000187634.12 SAMD11     0.00000   0.00000  0.00000   0.0000   0.0000\n",
       "2 ENSG00000188976.11 NOC2L     63.87423   0.00000  0.00000 266.4011 187.2788\n",
       "3 ENSG00000187961.14 KLHL17    63.87423   0.00000  0.00000 266.4011 187.2788\n",
       "4 ENSG00000187583.10 PLEKHN1   44.48384 114.34505 90.01161 138.2406   0.0000\n",
       "5 ENSG00000187642.9  PERM1      0.00000  44.86958  0.00000   0.0000   0.0000\n",
       "6 ENSG00000188290.10 HES4      92.38951 248.95379 98.45020 217.4409 143.2871\n",
       "  A6        A7       A8       A9        A10       A11       A12      \n",
       "1   0.00000   0.0000   0.0000   0.00000  40.64255  58.07033   0.00000\n",
       "2   0.00000   0.0000 142.2818  99.79626  71.72215   0.00000  55.84005\n",
       "3   0.00000   0.0000 142.2818  99.79626  71.72215   0.00000  55.84005\n",
       "4  92.57798   0.0000 124.1385  79.42968  98.81719  29.62772   0.00000\n",
       "5   0.00000   0.0000   0.0000  57.02644   0.00000   0.00000  26.91087\n",
       "6 138.86698 194.6262 159.4702 181.26260 166.55478 113.17789 172.22957"
      ]
     },
     "metadata": {},
     "output_type": "display_data"
    }
   ],
   "source": [
    "promoters %>% head"
   ]
  },
  {
   "cell_type": "code",
   "execution_count": 314,
   "metadata": {},
   "outputs": [
    {
     "data": {
      "image/png": "[encoded data removed]",
      "text/plain": [
       "plot without title"
      ]
     },
     "metadata": {},
     "output_type": "display_data"
    }
   ],
   "source": [
    "promoters[,c(1,3:14)] %>% column_to_rownames('gene_id') %>% as.matrix %>% apply(2, quadroot) %>%\n",
    "                pheatmap(cluster_rows = T, show_rownames = F, cluster_cols = F, annotation = ano3, fontsize=5, treeheight_row=0,\n",
    "                main = paste0('ATAC Seq Promoter Region'))"
   ]
  },
  {
   "cell_type": "code",
   "execution_count": null,
   "metadata": {},
   "outputs": [],
   "source": []
  },
  {
   "cell_type": "code",
   "execution_count": null,
   "metadata": {},
   "outputs": [],
   "source": []
  },
  {
   "cell_type": "code",
   "execution_count": 315,
   "metadata": {},
   "outputs": [],
   "source": [
    "# promoter region open at 1H"
   ]
  },
  {
   "cell_type": "code",
   "execution_count": 340,
   "metadata": {},
   "outputs": [
    {
     "data": {
      "text/html": [
       "<table>\n",
       "<caption>A data.frame: 4 × 14</caption>\n",
       "<thead>\n",
       "\t<tr><th scope=col>gene_id</th><th scope=col>gene_name</th><th scope=col>A1</th><th scope=col>A2</th><th scope=col>A3</th><th scope=col>A4</th><th scope=col>A5</th><th scope=col>A6</th><th scope=col>A7</th><th scope=col>A8</th><th scope=col>A9</th><th scope=col>A10</th><th scope=col>A11</th><th scope=col>A12</th></tr>\n",
       "\t<tr><th scope=col>&lt;chr&gt;</th><th scope=col>&lt;chr&gt;</th><th scope=col>&lt;dbl&gt;</th><th scope=col>&lt;dbl&gt;</th><th scope=col>&lt;dbl&gt;</th><th scope=col>&lt;dbl&gt;</th><th scope=col>&lt;dbl&gt;</th><th scope=col>&lt;dbl&gt;</th><th scope=col>&lt;dbl&gt;</th><th scope=col>&lt;dbl&gt;</th><th scope=col>&lt;dbl&gt;</th><th scope=col>&lt;dbl&gt;</th><th scope=col>&lt;dbl&gt;</th><th scope=col>&lt;dbl&gt;</th></tr>\n",
       "</thead>\n",
       "<tbody>\n",
       "\t<tr><td>ENSG00000204542.2 </td><td>C6orf15 </td><td>0</td><td>0</td><td>30.94149</td><td>109.44046</td><td>0</td><td>0</td><td>0</td><td>0</td><td>0</td><td>0</td><td>0</td><td>0</td></tr>\n",
       "\t<tr><td>ENSG00000204540.10</td><td>PSORS1C1</td><td>0</td><td>0</td><td>30.94149</td><td>109.44046</td><td>0</td><td>0</td><td>0</td><td>0</td><td>0</td><td>0</td><td>0</td><td>0</td></tr>\n",
       "\t<tr><td>ENSG00000179142.2 </td><td>CYP11B2 </td><td>0</td><td>0</td><td>29.53506</td><td> 24.48010</td><td>0</td><td>0</td><td>0</td><td>0</td><td>0</td><td>0</td><td>0</td><td>0</td></tr>\n",
       "\t<tr><td>ENSG00000134588.12</td><td>USP26   </td><td>0</td><td>0</td><td>71.72800</td><td> 38.88017</td><td>0</td><td>0</td><td>0</td><td>0</td><td>0</td><td>0</td><td>0</td><td>0</td></tr>\n",
       "</tbody>\n",
       "</table>\n"
      ],
      "text/latex": [
       "A data.frame: 4 × 14\n",
       "\\begin{tabular}{r|llllllllllllll}\n",
       " gene\\_id & gene\\_name & A1 & A2 & A3 & A4 & A5 & A6 & A7 & A8 & A9 & A10 & A11 & A12\\\\\n",
       " <chr> & <chr> & <dbl> & <dbl> & <dbl> & <dbl> & <dbl> & <dbl> & <dbl> & <dbl> & <dbl> & <dbl> & <dbl> & <dbl>\\\\\n",
       "\\hline\n",
       "\t ENSG00000204542.2  & C6orf15  & 0 & 0 & 30.94149 & 109.44046 & 0 & 0 & 0 & 0 & 0 & 0 & 0 & 0\\\\\n",
       "\t ENSG00000204540.10 & PSORS1C1 & 0 & 0 & 30.94149 & 109.44046 & 0 & 0 & 0 & 0 & 0 & 0 & 0 & 0\\\\\n",
       "\t ENSG00000179142.2  & CYP11B2  & 0 & 0 & 29.53506 &  24.48010 & 0 & 0 & 0 & 0 & 0 & 0 & 0 & 0\\\\\n",
       "\t ENSG00000134588.12 & USP26    & 0 & 0 & 71.72800 &  38.88017 & 0 & 0 & 0 & 0 & 0 & 0 & 0 & 0\\\\\n",
       "\\end{tabular}\n"
      ],
      "text/markdown": [
       "\n",
       "A data.frame: 4 × 14\n",
       "\n",
       "| gene_id &lt;chr&gt; | gene_name &lt;chr&gt; | A1 &lt;dbl&gt; | A2 &lt;dbl&gt; | A3 &lt;dbl&gt; | A4 &lt;dbl&gt; | A5 &lt;dbl&gt; | A6 &lt;dbl&gt; | A7 &lt;dbl&gt; | A8 &lt;dbl&gt; | A9 &lt;dbl&gt; | A10 &lt;dbl&gt; | A11 &lt;dbl&gt; | A12 &lt;dbl&gt; |\n",
       "|---|---|---|---|---|---|---|---|---|---|---|---|---|---|\n",
       "| ENSG00000204542.2  | C6orf15  | 0 | 0 | 30.94149 | 109.44046 | 0 | 0 | 0 | 0 | 0 | 0 | 0 | 0 |\n",
       "| ENSG00000204540.10 | PSORS1C1 | 0 | 0 | 30.94149 | 109.44046 | 0 | 0 | 0 | 0 | 0 | 0 | 0 | 0 |\n",
       "| ENSG00000179142.2  | CYP11B2  | 0 | 0 | 29.53506 |  24.48010 | 0 | 0 | 0 | 0 | 0 | 0 | 0 | 0 |\n",
       "| ENSG00000134588.12 | USP26    | 0 | 0 | 71.72800 |  38.88017 | 0 | 0 | 0 | 0 | 0 | 0 | 0 | 0 |\n",
       "\n"
      ],
      "text/plain": [
       "  gene_id            gene_name A1 A2 A3       A4        A5 A6 A7 A8 A9 A10 A11\n",
       "1 ENSG00000204542.2  C6orf15   0  0  30.94149 109.44046 0  0  0  0  0  0   0  \n",
       "2 ENSG00000204540.10 PSORS1C1  0  0  30.94149 109.44046 0  0  0  0  0  0   0  \n",
       "3 ENSG00000179142.2  CYP11B2   0  0  29.53506  24.48010 0  0  0  0  0  0   0  \n",
       "4 ENSG00000134588.12 USP26     0  0  71.72800  38.88017 0  0  0  0  0  0   0  \n",
       "  A12\n",
       "1 0  \n",
       "2 0  \n",
       "3 0  \n",
       "4 0  "
      ]
     },
     "metadata": {},
     "output_type": "display_data"
    }
   ],
   "source": [
    "promoters %>% filter((A3 > 0 & A4 > 0) & A1 + A2 + A5 + A6 + A7 + A8 + A9 + A10 + A11 + A12 < 1)"
   ]
  },
  {
   "cell_type": "code",
   "execution_count": 402,
   "metadata": {},
   "outputs": [
    {
     "data": {
      "text/html": [
       "<table>\n",
       "<caption>A data.frame: 1 × 14</caption>\n",
       "<thead>\n",
       "\t<tr><th scope=col>gene_id</th><th scope=col>gene_name</th><th scope=col>A1</th><th scope=col>A2</th><th scope=col>A3</th><th scope=col>A4</th><th scope=col>A5</th><th scope=col>A6</th><th scope=col>A7</th><th scope=col>A8</th><th scope=col>A9</th><th scope=col>A10</th><th scope=col>A11</th><th scope=col>A12</th></tr>\n",
       "\t<tr><th scope=col>&lt;chr&gt;</th><th scope=col>&lt;chr&gt;</th><th scope=col>&lt;dbl&gt;</th><th scope=col>&lt;dbl&gt;</th><th scope=col>&lt;dbl&gt;</th><th scope=col>&lt;dbl&gt;</th><th scope=col>&lt;dbl&gt;</th><th scope=col>&lt;dbl&gt;</th><th scope=col>&lt;dbl&gt;</th><th scope=col>&lt;dbl&gt;</th><th scope=col>&lt;dbl&gt;</th><th scope=col>&lt;dbl&gt;</th><th scope=col>&lt;dbl&gt;</th><th scope=col>&lt;dbl&gt;</th></tr>\n",
       "</thead>\n",
       "<tbody>\n",
       "\t<tr><td>ENSG00000179456.10</td><td>ZBTB18</td><td>351.3083</td><td>263.4278</td><td>402.2394</td><td>276.4812</td><td>326.7952</td><td>365.9451</td><td>401.048</td><td>426.8454</td><td>464.3581</td><td>408.8163</td><td>433.1573</td><td>419.8096</td></tr>\n",
       "</tbody>\n",
       "</table>\n"
      ],
      "text/latex": [
       "A data.frame: 1 × 14\n",
       "\\begin{tabular}{r|llllllllllllll}\n",
       " gene\\_id & gene\\_name & A1 & A2 & A3 & A4 & A5 & A6 & A7 & A8 & A9 & A10 & A11 & A12\\\\\n",
       " <chr> & <chr> & <dbl> & <dbl> & <dbl> & <dbl> & <dbl> & <dbl> & <dbl> & <dbl> & <dbl> & <dbl> & <dbl> & <dbl>\\\\\n",
       "\\hline\n",
       "\t ENSG00000179456.10 & ZBTB18 & 351.3083 & 263.4278 & 402.2394 & 276.4812 & 326.7952 & 365.9451 & 401.048 & 426.8454 & 464.3581 & 408.8163 & 433.1573 & 419.8096\\\\\n",
       "\\end{tabular}\n"
      ],
      "text/markdown": [
       "\n",
       "A data.frame: 1 × 14\n",
       "\n",
       "| gene_id &lt;chr&gt; | gene_name &lt;chr&gt; | A1 &lt;dbl&gt; | A2 &lt;dbl&gt; | A3 &lt;dbl&gt; | A4 &lt;dbl&gt; | A5 &lt;dbl&gt; | A6 &lt;dbl&gt; | A7 &lt;dbl&gt; | A8 &lt;dbl&gt; | A9 &lt;dbl&gt; | A10 &lt;dbl&gt; | A11 &lt;dbl&gt; | A12 &lt;dbl&gt; |\n",
       "|---|---|---|---|---|---|---|---|---|---|---|---|---|---|\n",
       "| ENSG00000179456.10 | ZBTB18 | 351.3083 | 263.4278 | 402.2394 | 276.4812 | 326.7952 | 365.9451 | 401.048 | 426.8454 | 464.3581 | 408.8163 | 433.1573 | 419.8096 |\n",
       "\n"
      ],
      "text/plain": [
       "  gene_id            gene_name A1       A2       A3       A4       A5      \n",
       "1 ENSG00000179456.10 ZBTB18    351.3083 263.4278 402.2394 276.4812 326.7952\n",
       "  A6       A7      A8       A9       A10      A11      A12     \n",
       "1 365.9451 401.048 426.8454 464.3581 408.8163 433.1573 419.8096"
      ]
     },
     "metadata": {},
     "output_type": "display_data"
    }
   ],
   "source": [
    "promoters %>% filter(str_detect(gene_name, 'ZBTB18'))"
   ]
  },
  {
   "cell_type": "code",
   "execution_count": 405,
   "metadata": {},
   "outputs": [
    {
     "data": {
      "text/html": [
       "<table>\n",
       "<caption>A data.frame: 1 × 13</caption>\n",
       "<thead>\n",
       "\t<tr><th scope=col>gene_id</th><th scope=col>A1</th><th scope=col>A2</th><th scope=col>A3</th><th scope=col>A4</th><th scope=col>A5</th><th scope=col>A6</th><th scope=col>A7</th><th scope=col>A8</th><th scope=col>A9</th><th scope=col>A10</th><th scope=col>A11</th><th scope=col>A12</th></tr>\n",
       "\t<tr><th scope=col>&lt;chr&gt;</th><th scope=col>&lt;dbl&gt;</th><th scope=col>&lt;dbl&gt;</th><th scope=col>&lt;dbl&gt;</th><th scope=col>&lt;dbl&gt;</th><th scope=col>&lt;dbl&gt;</th><th scope=col>&lt;dbl&gt;</th><th scope=col>&lt;dbl&gt;</th><th scope=col>&lt;dbl&gt;</th><th scope=col>&lt;dbl&gt;</th><th scope=col>&lt;dbl&gt;</th><th scope=col>&lt;dbl&gt;</th><th scope=col>&lt;dbl&gt;</th></tr>\n",
       "</thead>\n",
       "<tbody>\n",
       "\t<tr><td>ENSG00000179456.10</td><td>1</td><td>1</td><td>1</td><td>1</td><td>1</td><td>1</td><td>1</td><td>1</td><td>1</td><td>1</td><td>1</td><td>1</td></tr>\n",
       "</tbody>\n",
       "</table>\n"
      ],
      "text/latex": [
       "A data.frame: 1 × 13\n",
       "\\begin{tabular}{r|lllllllllllll}\n",
       " gene\\_id & A1 & A2 & A3 & A4 & A5 & A6 & A7 & A8 & A9 & A10 & A11 & A12\\\\\n",
       " <chr> & <dbl> & <dbl> & <dbl> & <dbl> & <dbl> & <dbl> & <dbl> & <dbl> & <dbl> & <dbl> & <dbl> & <dbl>\\\\\n",
       "\\hline\n",
       "\t ENSG00000179456.10 & 1 & 1 & 1 & 1 & 1 & 1 & 1 & 1 & 1 & 1 & 1 & 1\\\\\n",
       "\\end{tabular}\n"
      ],
      "text/markdown": [
       "\n",
       "A data.frame: 1 × 13\n",
       "\n",
       "| gene_id &lt;chr&gt; | A1 &lt;dbl&gt; | A2 &lt;dbl&gt; | A3 &lt;dbl&gt; | A4 &lt;dbl&gt; | A5 &lt;dbl&gt; | A6 &lt;dbl&gt; | A7 &lt;dbl&gt; | A8 &lt;dbl&gt; | A9 &lt;dbl&gt; | A10 &lt;dbl&gt; | A11 &lt;dbl&gt; | A12 &lt;dbl&gt; |\n",
       "|---|---|---|---|---|---|---|---|---|---|---|---|---|\n",
       "| ENSG00000179456.10 | 1 | 1 | 1 | 1 | 1 | 1 | 1 | 1 | 1 | 1 | 1 | 1 |\n",
       "\n"
      ],
      "text/plain": [
       "  gene_id            A1 A2 A3 A4 A5 A6 A7 A8 A9 A10 A11 A12\n",
       "1 ENSG00000179456.10 1  1  1  1  1  1  1  1  1  1   1   1  "
      ]
     },
     "metadata": {},
     "output_type": "display_data"
    }
   ],
   "source": [
    "promoter_peaks %>% filter(gene_id == 'ENSG00000179456.10')"
   ]
  },
  {
   "cell_type": "code",
   "execution_count": 344,
   "metadata": {},
   "outputs": [
    {
     "data": {
      "text/html": [
       "<table>\n",
       "<caption>A data.frame: 36 × 14</caption>\n",
       "<thead>\n",
       "\t<tr><th scope=col>gene_id</th><th scope=col>gene_name</th><th scope=col>A1</th><th scope=col>A2</th><th scope=col>A3</th><th scope=col>A4</th><th scope=col>A5</th><th scope=col>A6</th><th scope=col>A7</th><th scope=col>A8</th><th scope=col>A9</th><th scope=col>A10</th><th scope=col>A11</th><th scope=col>A12</th></tr>\n",
       "\t<tr><th scope=col>&lt;chr&gt;</th><th scope=col>&lt;chr&gt;</th><th scope=col>&lt;dbl&gt;</th><th scope=col>&lt;dbl&gt;</th><th scope=col>&lt;dbl&gt;</th><th scope=col>&lt;dbl&gt;</th><th scope=col>&lt;dbl&gt;</th><th scope=col>&lt;dbl&gt;</th><th scope=col>&lt;dbl&gt;</th><th scope=col>&lt;dbl&gt;</th><th scope=col>&lt;dbl&gt;</th><th scope=col>&lt;dbl&gt;</th><th scope=col>&lt;dbl&gt;</th><th scope=col>&lt;dbl&gt;</th></tr>\n",
       "</thead>\n",
       "<tbody>\n",
       "\t<tr><td>ENSG00000157216.15</td><td>SSBP3   </td><td>0</td><td>0</td><td>0</td><td>0</td><td>0</td><td>0</td><td>0</td><td>0</td><td>0</td><td>0</td><td> 18.36919</td><td> 26.910870</td></tr>\n",
       "\t<tr><td>ENSG00000158488.16</td><td>CD1E    </td><td>0</td><td>0</td><td>0</td><td>0</td><td>0</td><td>0</td><td>0</td><td>0</td><td>0</td><td>0</td><td> 11.25853</td><td> 18.164837</td></tr>\n",
       "\t<tr><td>ENSG00000094963.14</td><td>FMO2    </td><td>0</td><td>0</td><td>0</td><td>0</td><td>0</td><td>0</td><td>0</td><td>0</td><td>0</td><td>0</td><td> 28.44261</td><td> 25.565326</td></tr>\n",
       "\t<tr><td>ENSG00000179915.23</td><td>NRXN1   </td><td>0</td><td>0</td><td>0</td><td>0</td><td>0</td><td>0</td><td>0</td><td>0</td><td>0</td><td>0</td><td> 27.85006</td><td> 42.384620</td></tr>\n",
       "\t<tr><td>ENSG00000168878.17</td><td>SFTPB   </td><td>0</td><td>0</td><td>0</td><td>0</td><td>0</td><td>0</td><td>0</td><td>0</td><td>0</td><td>0</td><td> 10.07342</td><td> 12.109891</td></tr>\n",
       "\t<tr><td>ENSG00000183054.11</td><td>RGPD6   </td><td>0</td><td>0</td><td>0</td><td>0</td><td>0</td><td>0</td><td>0</td><td>0</td><td>0</td><td>0</td><td>  9.48087</td><td>  6.727717</td></tr>\n",
       "\t<tr><td>ENSG00000188674.11</td><td>C2orf80 </td><td>0</td><td>0</td><td>0</td><td>0</td><td>0</td><td>0</td><td>0</td><td>0</td><td>0</td><td>0</td><td> 27.25750</td><td> 45.748479</td></tr>\n",
       "\t<tr><td>ENSG00000123992.19</td><td>DNPEP   </td><td>0</td><td>0</td><td>0</td><td>0</td><td>0</td><td>0</td><td>0</td><td>0</td><td>0</td><td>0</td><td> 27.85006</td><td> 35.656902</td></tr>\n",
       "\t<tr><td>ENSG00000171951.5 </td><td>SCG2    </td><td>0</td><td>0</td><td>0</td><td>0</td><td>0</td><td>0</td><td>0</td><td>0</td><td>0</td><td>0</td><td> 61.03310</td><td> 48.439566</td></tr>\n",
       "\t<tr><td>ENSG00000124019.10</td><td>FAM124B </td><td>0</td><td>0</td><td>0</td><td>0</td><td>0</td><td>0</td><td>0</td><td>0</td><td>0</td><td>0</td><td> 18.96174</td><td> 17.492065</td></tr>\n",
       "\t<tr><td>ENSG00000114841.17</td><td>DNAH1   </td><td>0</td><td>0</td><td>0</td><td>0</td><td>0</td><td>0</td><td>0</td><td>0</td><td>0</td><td>0</td><td>102.51191</td><td>101.588533</td></tr>\n",
       "\t<tr><td>ENSG00000198829.6 </td><td>SUCNR1  </td><td>0</td><td>0</td><td>0</td><td>0</td><td>0</td><td>0</td><td>0</td><td>0</td><td>0</td><td>0</td><td> 17.77663</td><td> 17.492065</td></tr>\n",
       "\t<tr><td>ENSG00000159674.12</td><td>SPON2   </td><td>0</td><td>0</td><td>0</td><td>0</td><td>0</td><td>0</td><td>0</td><td>0</td><td>0</td><td>0</td><td> 69.92142</td><td> 88.133098</td></tr>\n",
       "\t<tr><td>ENSG00000134962.7 </td><td>KLB     </td><td>0</td><td>0</td><td>0</td><td>0</td><td>0</td><td>0</td><td>0</td><td>0</td><td>0</td><td>0</td><td> 15.40641</td><td> 22.201468</td></tr>\n",
       "\t<tr><td>ENSG00000196782.12</td><td>MAML3   </td><td>0</td><td>0</td><td>0</td><td>0</td><td>0</td><td>0</td><td>0</td><td>0</td><td>0</td><td>0</td><td>125.62153</td><td> 96.879131</td></tr>\n",
       "\t<tr><td>ENSG00000109654.15</td><td>TRIM2   </td><td>0</td><td>0</td><td>0</td><td>0</td><td>0</td><td>0</td><td>0</td><td>0</td><td>0</td><td>0</td><td>354.34752</td><td>331.676470</td></tr>\n",
       "\t<tr><td>ENSG00000129116.19</td><td>PALLD   </td><td>0</td><td>0</td><td>0</td><td>0</td><td>0</td><td>0</td><td>0</td><td>0</td><td>0</td><td>0</td><td> 16.59152</td><td> 20.855924</td></tr>\n",
       "\t<tr><td>ENSG00000253953.2 </td><td>PCDHGB4 </td><td>0</td><td>0</td><td>0</td><td>0</td><td>0</td><td>0</td><td>0</td><td>0</td><td>0</td><td>0</td><td>  9.48087</td><td> 10.091576</td></tr>\n",
       "\t<tr><td>ENSG00000203756.7 </td><td>TMEM244 </td><td>0</td><td>0</td><td>0</td><td>0</td><td>0</td><td>0</td><td>0</td><td>0</td><td>0</td><td>0</td><td> 30.81283</td><td> 37.002446</td></tr>\n",
       "\t<tr><td>ENSG00000214415.3 </td><td>GNAT3   </td><td>0</td><td>0</td><td>0</td><td>0</td><td>0</td><td>0</td><td>0</td><td>0</td><td>0</td><td>0</td><td> 59.84799</td><td> 28.929185</td></tr>\n",
       "\t<tr><td>ENSG00000075223.14</td><td>SEMA3C  </td><td>0</td><td>0</td><td>0</td><td>0</td><td>0</td><td>0</td><td>0</td><td>0</td><td>0</td><td>0</td><td> 11.85109</td><td> 21.528696</td></tr>\n",
       "\t<tr><td>ENSG00000075213.11</td><td>SEMA3A  </td><td>0</td><td>0</td><td>0</td><td>0</td><td>0</td><td>0</td><td>0</td><td>0</td><td>0</td><td>0</td><td> 32.59049</td><td> 37.675218</td></tr>\n",
       "\t<tr><td>ENSG00000106333.13</td><td>PCOLCE  </td><td>0</td><td>0</td><td>0</td><td>0</td><td>0</td><td>0</td><td>0</td><td>0</td><td>0</td><td>0</td><td> 71.69908</td><td> 29.601957</td></tr>\n",
       "\t<tr><td>ENSG00000128606.13</td><td>LRRC17  </td><td>0</td><td>0</td><td>0</td><td>0</td><td>0</td><td>0</td><td>0</td><td>0</td><td>0</td><td>0</td><td> 25.47984</td><td> 37.002446</td></tr>\n",
       "\t<tr><td>ENSG00000015592.16</td><td>STMN4   </td><td>0</td><td>0</td><td>0</td><td>0</td><td>0</td><td>0</td><td>0</td><td>0</td><td>0</td><td>0</td><td>133.32474</td><td>189.048860</td></tr>\n",
       "\t<tr><td>ENSG00000109991.8 </td><td>P2RX3   </td><td>0</td><td>0</td><td>0</td><td>0</td><td>0</td><td>0</td><td>0</td><td>0</td><td>0</td><td>0</td><td>186.06208</td><td>164.156305</td></tr>\n",
       "\t<tr><td>ENSG00000204300.7 </td><td>TMEM225 </td><td>0</td><td>0</td><td>0</td><td>0</td><td>0</td><td>0</td><td>0</td><td>0</td><td>0</td><td>0</td><td> 42.66392</td><td> 52.476196</td></tr>\n",
       "\t<tr><td>ENSG00000161850.2 </td><td>KRT82   </td><td>0</td><td>0</td><td>0</td><td>0</td><td>0</td><td>0</td><td>0</td><td>0</td><td>0</td><td>0</td><td>  9.48087</td><td> 24.219783</td></tr>\n",
       "\t<tr><td>ENSG00000177455.14</td><td>CD19    </td><td>0</td><td>0</td><td>0</td><td>0</td><td>0</td><td>0</td><td>0</td><td>0</td><td>0</td><td>0</td><td> 40.88625</td><td> 34.984131</td></tr>\n",
       "\t<tr><td>ENSG00000141748.12</td><td>ARL5C   </td><td>0</td><td>0</td><td>0</td><td>0</td><td>0</td><td>0</td><td>0</td><td>0</td><td>0</td><td>0</td><td> 31.99794</td><td> 47.094022</td></tr>\n",
       "\t<tr><td>ENSG00000198816.7 </td><td>ZNF358  </td><td>0</td><td>0</td><td>0</td><td>0</td><td>0</td><td>0</td><td>0</td><td>0</td><td>0</td><td>0</td><td>110.80767</td><td> 82.750924</td></tr>\n",
       "\t<tr><td>ENSG00000155307.18</td><td>SAMSN1  </td><td>0</td><td>0</td><td>0</td><td>0</td><td>0</td><td>0</td><td>0</td><td>0</td><td>0</td><td>0</td><td> 39.10859</td><td> 39.693533</td></tr>\n",
       "\t<tr><td>ENSG00000184113.9 </td><td>CLDN5   </td><td>0</td><td>0</td><td>0</td><td>0</td><td>0</td><td>0</td><td>0</td><td>0</td><td>0</td><td>0</td><td> 18.96174</td><td> 24.219783</td></tr>\n",
       "\t<tr><td>ENSG00000100288.19</td><td>CHKB    </td><td>0</td><td>0</td><td>0</td><td>0</td><td>0</td><td>0</td><td>0</td><td>0</td><td>0</td><td>0</td><td>166.50778</td><td>109.661794</td></tr>\n",
       "\t<tr><td>ENSG00000008735.14</td><td>MAPK8IP2</td><td>0</td><td>0</td><td>0</td><td>0</td><td>0</td><td>0</td><td>0</td><td>0</td><td>0</td><td>0</td><td>166.50778</td><td>109.661794</td></tr>\n",
       "\t<tr><td>ENSG00000131089.15</td><td>ARHGEF9 </td><td>0</td><td>0</td><td>0</td><td>0</td><td>0</td><td>0</td><td>0</td><td>0</td><td>0</td><td>0</td><td> 29.62772</td><td> 30.274728</td></tr>\n",
       "</tbody>\n",
       "</table>\n"
      ],
      "text/latex": [
       "A data.frame: 36 × 14\n",
       "\\begin{tabular}{r|llllllllllllll}\n",
       " gene\\_id & gene\\_name & A1 & A2 & A3 & A4 & A5 & A6 & A7 & A8 & A9 & A10 & A11 & A12\\\\\n",
       " <chr> & <chr> & <dbl> & <dbl> & <dbl> & <dbl> & <dbl> & <dbl> & <dbl> & <dbl> & <dbl> & <dbl> & <dbl> & <dbl>\\\\\n",
       "\\hline\n",
       "\t ENSG00000157216.15 & SSBP3    & 0 & 0 & 0 & 0 & 0 & 0 & 0 & 0 & 0 & 0 &  18.36919 &  26.910870\\\\\n",
       "\t ENSG00000158488.16 & CD1E     & 0 & 0 & 0 & 0 & 0 & 0 & 0 & 0 & 0 & 0 &  11.25853 &  18.164837\\\\\n",
       "\t ENSG00000094963.14 & FMO2     & 0 & 0 & 0 & 0 & 0 & 0 & 0 & 0 & 0 & 0 &  28.44261 &  25.565326\\\\\n",
       "\t ENSG00000179915.23 & NRXN1    & 0 & 0 & 0 & 0 & 0 & 0 & 0 & 0 & 0 & 0 &  27.85006 &  42.384620\\\\\n",
       "\t ENSG00000168878.17 & SFTPB    & 0 & 0 & 0 & 0 & 0 & 0 & 0 & 0 & 0 & 0 &  10.07342 &  12.109891\\\\\n",
       "\t ENSG00000183054.11 & RGPD6    & 0 & 0 & 0 & 0 & 0 & 0 & 0 & 0 & 0 & 0 &   9.48087 &   6.727717\\\\\n",
       "\t ENSG00000188674.11 & C2orf80  & 0 & 0 & 0 & 0 & 0 & 0 & 0 & 0 & 0 & 0 &  27.25750 &  45.748479\\\\\n",
       "\t ENSG00000123992.19 & DNPEP    & 0 & 0 & 0 & 0 & 0 & 0 & 0 & 0 & 0 & 0 &  27.85006 &  35.656902\\\\\n",
       "\t ENSG00000171951.5  & SCG2     & 0 & 0 & 0 & 0 & 0 & 0 & 0 & 0 & 0 & 0 &  61.03310 &  48.439566\\\\\n",
       "\t ENSG00000124019.10 & FAM124B  & 0 & 0 & 0 & 0 & 0 & 0 & 0 & 0 & 0 & 0 &  18.96174 &  17.492065\\\\\n",
       "\t ENSG00000114841.17 & DNAH1    & 0 & 0 & 0 & 0 & 0 & 0 & 0 & 0 & 0 & 0 & 102.51191 & 101.588533\\\\\n",
       "\t ENSG00000198829.6  & SUCNR1   & 0 & 0 & 0 & 0 & 0 & 0 & 0 & 0 & 0 & 0 &  17.77663 &  17.492065\\\\\n",
       "\t ENSG00000159674.12 & SPON2    & 0 & 0 & 0 & 0 & 0 & 0 & 0 & 0 & 0 & 0 &  69.92142 &  88.133098\\\\\n",
       "\t ENSG00000134962.7  & KLB      & 0 & 0 & 0 & 0 & 0 & 0 & 0 & 0 & 0 & 0 &  15.40641 &  22.201468\\\\\n",
       "\t ENSG00000196782.12 & MAML3    & 0 & 0 & 0 & 0 & 0 & 0 & 0 & 0 & 0 & 0 & 125.62153 &  96.879131\\\\\n",
       "\t ENSG00000109654.15 & TRIM2    & 0 & 0 & 0 & 0 & 0 & 0 & 0 & 0 & 0 & 0 & 354.34752 & 331.676470\\\\\n",
       "\t ENSG00000129116.19 & PALLD    & 0 & 0 & 0 & 0 & 0 & 0 & 0 & 0 & 0 & 0 &  16.59152 &  20.855924\\\\\n",
       "\t ENSG00000253953.2  & PCDHGB4  & 0 & 0 & 0 & 0 & 0 & 0 & 0 & 0 & 0 & 0 &   9.48087 &  10.091576\\\\\n",
       "\t ENSG00000203756.7  & TMEM244  & 0 & 0 & 0 & 0 & 0 & 0 & 0 & 0 & 0 & 0 &  30.81283 &  37.002446\\\\\n",
       "\t ENSG00000214415.3  & GNAT3    & 0 & 0 & 0 & 0 & 0 & 0 & 0 & 0 & 0 & 0 &  59.84799 &  28.929185\\\\\n",
       "\t ENSG00000075223.14 & SEMA3C   & 0 & 0 & 0 & 0 & 0 & 0 & 0 & 0 & 0 & 0 &  11.85109 &  21.528696\\\\\n",
       "\t ENSG00000075213.11 & SEMA3A   & 0 & 0 & 0 & 0 & 0 & 0 & 0 & 0 & 0 & 0 &  32.59049 &  37.675218\\\\\n",
       "\t ENSG00000106333.13 & PCOLCE   & 0 & 0 & 0 & 0 & 0 & 0 & 0 & 0 & 0 & 0 &  71.69908 &  29.601957\\\\\n",
       "\t ENSG00000128606.13 & LRRC17   & 0 & 0 & 0 & 0 & 0 & 0 & 0 & 0 & 0 & 0 &  25.47984 &  37.002446\\\\\n",
       "\t ENSG00000015592.16 & STMN4    & 0 & 0 & 0 & 0 & 0 & 0 & 0 & 0 & 0 & 0 & 133.32474 & 189.048860\\\\\n",
       "\t ENSG00000109991.8  & P2RX3    & 0 & 0 & 0 & 0 & 0 & 0 & 0 & 0 & 0 & 0 & 186.06208 & 164.156305\\\\\n",
       "\t ENSG00000204300.7  & TMEM225  & 0 & 0 & 0 & 0 & 0 & 0 & 0 & 0 & 0 & 0 &  42.66392 &  52.476196\\\\\n",
       "\t ENSG00000161850.2  & KRT82    & 0 & 0 & 0 & 0 & 0 & 0 & 0 & 0 & 0 & 0 &   9.48087 &  24.219783\\\\\n",
       "\t ENSG00000177455.14 & CD19     & 0 & 0 & 0 & 0 & 0 & 0 & 0 & 0 & 0 & 0 &  40.88625 &  34.984131\\\\\n",
       "\t ENSG00000141748.12 & ARL5C    & 0 & 0 & 0 & 0 & 0 & 0 & 0 & 0 & 0 & 0 &  31.99794 &  47.094022\\\\\n",
       "\t ENSG00000198816.7  & ZNF358   & 0 & 0 & 0 & 0 & 0 & 0 & 0 & 0 & 0 & 0 & 110.80767 &  82.750924\\\\\n",
       "\t ENSG00000155307.18 & SAMSN1   & 0 & 0 & 0 & 0 & 0 & 0 & 0 & 0 & 0 & 0 &  39.10859 &  39.693533\\\\\n",
       "\t ENSG00000184113.9  & CLDN5    & 0 & 0 & 0 & 0 & 0 & 0 & 0 & 0 & 0 & 0 &  18.96174 &  24.219783\\\\\n",
       "\t ENSG00000100288.19 & CHKB     & 0 & 0 & 0 & 0 & 0 & 0 & 0 & 0 & 0 & 0 & 166.50778 & 109.661794\\\\\n",
       "\t ENSG00000008735.14 & MAPK8IP2 & 0 & 0 & 0 & 0 & 0 & 0 & 0 & 0 & 0 & 0 & 166.50778 & 109.661794\\\\\n",
       "\t ENSG00000131089.15 & ARHGEF9  & 0 & 0 & 0 & 0 & 0 & 0 & 0 & 0 & 0 & 0 &  29.62772 &  30.274728\\\\\n",
       "\\end{tabular}\n"
      ],
      "text/markdown": [
       "\n",
       "A data.frame: 36 × 14\n",
       "\n",
       "| gene_id &lt;chr&gt; | gene_name &lt;chr&gt; | A1 &lt;dbl&gt; | A2 &lt;dbl&gt; | A3 &lt;dbl&gt; | A4 &lt;dbl&gt; | A5 &lt;dbl&gt; | A6 &lt;dbl&gt; | A7 &lt;dbl&gt; | A8 &lt;dbl&gt; | A9 &lt;dbl&gt; | A10 &lt;dbl&gt; | A11 &lt;dbl&gt; | A12 &lt;dbl&gt; |\n",
       "|---|---|---|---|---|---|---|---|---|---|---|---|---|---|\n",
       "| ENSG00000157216.15 | SSBP3    | 0 | 0 | 0 | 0 | 0 | 0 | 0 | 0 | 0 | 0 |  18.36919 |  26.910870 |\n",
       "| ENSG00000158488.16 | CD1E     | 0 | 0 | 0 | 0 | 0 | 0 | 0 | 0 | 0 | 0 |  11.25853 |  18.164837 |\n",
       "| ENSG00000094963.14 | FMO2     | 0 | 0 | 0 | 0 | 0 | 0 | 0 | 0 | 0 | 0 |  28.44261 |  25.565326 |\n",
       "| ENSG00000179915.23 | NRXN1    | 0 | 0 | 0 | 0 | 0 | 0 | 0 | 0 | 0 | 0 |  27.85006 |  42.384620 |\n",
       "| ENSG00000168878.17 | SFTPB    | 0 | 0 | 0 | 0 | 0 | 0 | 0 | 0 | 0 | 0 |  10.07342 |  12.109891 |\n",
       "| ENSG00000183054.11 | RGPD6    | 0 | 0 | 0 | 0 | 0 | 0 | 0 | 0 | 0 | 0 |   9.48087 |   6.727717 |\n",
       "| ENSG00000188674.11 | C2orf80  | 0 | 0 | 0 | 0 | 0 | 0 | 0 | 0 | 0 | 0 |  27.25750 |  45.748479 |\n",
       "| ENSG00000123992.19 | DNPEP    | 0 | 0 | 0 | 0 | 0 | 0 | 0 | 0 | 0 | 0 |  27.85006 |  35.656902 |\n",
       "| ENSG00000171951.5  | SCG2     | 0 | 0 | 0 | 0 | 0 | 0 | 0 | 0 | 0 | 0 |  61.03310 |  48.439566 |\n",
       "| ENSG00000124019.10 | FAM124B  | 0 | 0 | 0 | 0 | 0 | 0 | 0 | 0 | 0 | 0 |  18.96174 |  17.492065 |\n",
       "| ENSG00000114841.17 | DNAH1    | 0 | 0 | 0 | 0 | 0 | 0 | 0 | 0 | 0 | 0 | 102.51191 | 101.588533 |\n",
       "| ENSG00000198829.6  | SUCNR1   | 0 | 0 | 0 | 0 | 0 | 0 | 0 | 0 | 0 | 0 |  17.77663 |  17.492065 |\n",
       "| ENSG00000159674.12 | SPON2    | 0 | 0 | 0 | 0 | 0 | 0 | 0 | 0 | 0 | 0 |  69.92142 |  88.133098 |\n",
       "| ENSG00000134962.7  | KLB      | 0 | 0 | 0 | 0 | 0 | 0 | 0 | 0 | 0 | 0 |  15.40641 |  22.201468 |\n",
       "| ENSG00000196782.12 | MAML3    | 0 | 0 | 0 | 0 | 0 | 0 | 0 | 0 | 0 | 0 | 125.62153 |  96.879131 |\n",
       "| ENSG00000109654.15 | TRIM2    | 0 | 0 | 0 | 0 | 0 | 0 | 0 | 0 | 0 | 0 | 354.34752 | 331.676470 |\n",
       "| ENSG00000129116.19 | PALLD    | 0 | 0 | 0 | 0 | 0 | 0 | 0 | 0 | 0 | 0 |  16.59152 |  20.855924 |\n",
       "| ENSG00000253953.2  | PCDHGB4  | 0 | 0 | 0 | 0 | 0 | 0 | 0 | 0 | 0 | 0 |   9.48087 |  10.091576 |\n",
       "| ENSG00000203756.7  | TMEM244  | 0 | 0 | 0 | 0 | 0 | 0 | 0 | 0 | 0 | 0 |  30.81283 |  37.002446 |\n",
       "| ENSG00000214415.3  | GNAT3    | 0 | 0 | 0 | 0 | 0 | 0 | 0 | 0 | 0 | 0 |  59.84799 |  28.929185 |\n",
       "| ENSG00000075223.14 | SEMA3C   | 0 | 0 | 0 | 0 | 0 | 0 | 0 | 0 | 0 | 0 |  11.85109 |  21.528696 |\n",
       "| ENSG00000075213.11 | SEMA3A   | 0 | 0 | 0 | 0 | 0 | 0 | 0 | 0 | 0 | 0 |  32.59049 |  37.675218 |\n",
       "| ENSG00000106333.13 | PCOLCE   | 0 | 0 | 0 | 0 | 0 | 0 | 0 | 0 | 0 | 0 |  71.69908 |  29.601957 |\n",
       "| ENSG00000128606.13 | LRRC17   | 0 | 0 | 0 | 0 | 0 | 0 | 0 | 0 | 0 | 0 |  25.47984 |  37.002446 |\n",
       "| ENSG00000015592.16 | STMN4    | 0 | 0 | 0 | 0 | 0 | 0 | 0 | 0 | 0 | 0 | 133.32474 | 189.048860 |\n",
       "| ENSG00000109991.8  | P2RX3    | 0 | 0 | 0 | 0 | 0 | 0 | 0 | 0 | 0 | 0 | 186.06208 | 164.156305 |\n",
       "| ENSG00000204300.7  | TMEM225  | 0 | 0 | 0 | 0 | 0 | 0 | 0 | 0 | 0 | 0 |  42.66392 |  52.476196 |\n",
       "| ENSG00000161850.2  | KRT82    | 0 | 0 | 0 | 0 | 0 | 0 | 0 | 0 | 0 | 0 |   9.48087 |  24.219783 |\n",
       "| ENSG00000177455.14 | CD19     | 0 | 0 | 0 | 0 | 0 | 0 | 0 | 0 | 0 | 0 |  40.88625 |  34.984131 |\n",
       "| ENSG00000141748.12 | ARL5C    | 0 | 0 | 0 | 0 | 0 | 0 | 0 | 0 | 0 | 0 |  31.99794 |  47.094022 |\n",
       "| ENSG00000198816.7  | ZNF358   | 0 | 0 | 0 | 0 | 0 | 0 | 0 | 0 | 0 | 0 | 110.80767 |  82.750924 |\n",
       "| ENSG00000155307.18 | SAMSN1   | 0 | 0 | 0 | 0 | 0 | 0 | 0 | 0 | 0 | 0 |  39.10859 |  39.693533 |\n",
       "| ENSG00000184113.9  | CLDN5    | 0 | 0 | 0 | 0 | 0 | 0 | 0 | 0 | 0 | 0 |  18.96174 |  24.219783 |\n",
       "| ENSG00000100288.19 | CHKB     | 0 | 0 | 0 | 0 | 0 | 0 | 0 | 0 | 0 | 0 | 166.50778 | 109.661794 |\n",
       "| ENSG00000008735.14 | MAPK8IP2 | 0 | 0 | 0 | 0 | 0 | 0 | 0 | 0 | 0 | 0 | 166.50778 | 109.661794 |\n",
       "| ENSG00000131089.15 | ARHGEF9  | 0 | 0 | 0 | 0 | 0 | 0 | 0 | 0 | 0 | 0 |  29.62772 |  30.274728 |\n",
       "\n"
      ],
      "text/plain": [
       "   gene_id            gene_name A1 A2 A3 A4 A5 A6 A7 A8 A9 A10 A11      \n",
       "1  ENSG00000157216.15 SSBP3     0  0  0  0  0  0  0  0  0  0    18.36919\n",
       "2  ENSG00000158488.16 CD1E      0  0  0  0  0  0  0  0  0  0    11.25853\n",
       "3  ENSG00000094963.14 FMO2      0  0  0  0  0  0  0  0  0  0    28.44261\n",
       "4  ENSG00000179915.23 NRXN1     0  0  0  0  0  0  0  0  0  0    27.85006\n",
       "5  ENSG00000168878.17 SFTPB     0  0  0  0  0  0  0  0  0  0    10.07342\n",
       "6  ENSG00000183054.11 RGPD6     0  0  0  0  0  0  0  0  0  0     9.48087\n",
       "7  ENSG00000188674.11 C2orf80   0  0  0  0  0  0  0  0  0  0    27.25750\n",
       "8  ENSG00000123992.19 DNPEP     0  0  0  0  0  0  0  0  0  0    27.85006\n",
       "9  ENSG00000171951.5  SCG2      0  0  0  0  0  0  0  0  0  0    61.03310\n",
       "10 ENSG00000124019.10 FAM124B   0  0  0  0  0  0  0  0  0  0    18.96174\n",
       "11 ENSG00000114841.17 DNAH1     0  0  0  0  0  0  0  0  0  0   102.51191\n",
       "12 ENSG00000198829.6  SUCNR1    0  0  0  0  0  0  0  0  0  0    17.77663\n",
       "13 ENSG00000159674.12 SPON2     0  0  0  0  0  0  0  0  0  0    69.92142\n",
       "14 ENSG00000134962.7  KLB       0  0  0  0  0  0  0  0  0  0    15.40641\n",
       "15 ENSG00000196782.12 MAML3     0  0  0  0  0  0  0  0  0  0   125.62153\n",
       "16 ENSG00000109654.15 TRIM2     0  0  0  0  0  0  0  0  0  0   354.34752\n",
       "17 ENSG00000129116.19 PALLD     0  0  0  0  0  0  0  0  0  0    16.59152\n",
       "18 ENSG00000253953.2  PCDHGB4   0  0  0  0  0  0  0  0  0  0     9.48087\n",
       "19 ENSG00000203756.7  TMEM244   0  0  0  0  0  0  0  0  0  0    30.81283\n",
       "20 ENSG00000214415.3  GNAT3     0  0  0  0  0  0  0  0  0  0    59.84799\n",
       "21 ENSG00000075223.14 SEMA3C    0  0  0  0  0  0  0  0  0  0    11.85109\n",
       "22 ENSG00000075213.11 SEMA3A    0  0  0  0  0  0  0  0  0  0    32.59049\n",
       "23 ENSG00000106333.13 PCOLCE    0  0  0  0  0  0  0  0  0  0    71.69908\n",
       "24 ENSG00000128606.13 LRRC17    0  0  0  0  0  0  0  0  0  0    25.47984\n",
       "25 ENSG00000015592.16 STMN4     0  0  0  0  0  0  0  0  0  0   133.32474\n",
       "26 ENSG00000109991.8  P2RX3     0  0  0  0  0  0  0  0  0  0   186.06208\n",
       "27 ENSG00000204300.7  TMEM225   0  0  0  0  0  0  0  0  0  0    42.66392\n",
       "28 ENSG00000161850.2  KRT82     0  0  0  0  0  0  0  0  0  0     9.48087\n",
       "29 ENSG00000177455.14 CD19      0  0  0  0  0  0  0  0  0  0    40.88625\n",
       "30 ENSG00000141748.12 ARL5C     0  0  0  0  0  0  0  0  0  0    31.99794\n",
       "31 ENSG00000198816.7  ZNF358    0  0  0  0  0  0  0  0  0  0   110.80767\n",
       "32 ENSG00000155307.18 SAMSN1    0  0  0  0  0  0  0  0  0  0    39.10859\n",
       "33 ENSG00000184113.9  CLDN5     0  0  0  0  0  0  0  0  0  0    18.96174\n",
       "34 ENSG00000100288.19 CHKB      0  0  0  0  0  0  0  0  0  0   166.50778\n",
       "35 ENSG00000008735.14 MAPK8IP2  0  0  0  0  0  0  0  0  0  0   166.50778\n",
       "36 ENSG00000131089.15 ARHGEF9   0  0  0  0  0  0  0  0  0  0    29.62772\n",
       "   A12       \n",
       "1   26.910870\n",
       "2   18.164837\n",
       "3   25.565326\n",
       "4   42.384620\n",
       "5   12.109891\n",
       "6    6.727717\n",
       "7   45.748479\n",
       "8   35.656902\n",
       "9   48.439566\n",
       "10  17.492065\n",
       "11 101.588533\n",
       "12  17.492065\n",
       "13  88.133098\n",
       "14  22.201468\n",
       "15  96.879131\n",
       "16 331.676470\n",
       "17  20.855924\n",
       "18  10.091576\n",
       "19  37.002446\n",
       "20  28.929185\n",
       "21  21.528696\n",
       "22  37.675218\n",
       "23  29.601957\n",
       "24  37.002446\n",
       "25 189.048860\n",
       "26 164.156305\n",
       "27  52.476196\n",
       "28  24.219783\n",
       "29  34.984131\n",
       "30  47.094022\n",
       "31  82.750924\n",
       "32  39.693533\n",
       "33  24.219783\n",
       "34 109.661794\n",
       "35 109.661794\n",
       "36  30.274728"
      ]
     },
     "metadata": {},
     "output_type": "display_data"
    }
   ],
   "source": [
    "# promoter region open at 5D only\n",
    "promoters %>% filter((A11 > 0 & A12 > 0) & A1 + A2 + A5 + A6 + A7 + A8 + A9 + A10 + A3 + A4 < 1)"
   ]
  },
  {
   "cell_type": "markdown",
   "metadata": {},
   "source": [
    "##### number of peaks per gene at different time point"
   ]
  },
  {
   "cell_type": "code",
   "execution_count": 346,
   "metadata": {},
   "outputs": [],
   "source": [
    "promoter_peaks <- read.delim(file = 'ATAC_Promoter_NumberofPeaks.txt', header = T, sep = '\\t', stringsAsFactors = F) %>% mutate_all(~ replace(.x, is.na(.x), 0))"
   ]
  },
  {
   "cell_type": "code",
   "execution_count": null,
   "metadata": {},
   "outputs": [],
   "source": []
  },
  {
   "cell_type": "code",
   "execution_count": 348,
   "metadata": {},
   "outputs": [
    {
     "data": {
      "text/html": [
       "<table>\n",
       "<caption>A data.frame: 6 × 13</caption>\n",
       "<thead>\n",
       "\t<tr><th scope=col>gene_id</th><th scope=col>A1</th><th scope=col>A2</th><th scope=col>A3</th><th scope=col>A4</th><th scope=col>A5</th><th scope=col>A6</th><th scope=col>A7</th><th scope=col>A8</th><th scope=col>A9</th><th scope=col>A10</th><th scope=col>A11</th><th scope=col>A12</th></tr>\n",
       "\t<tr><th scope=col>&lt;chr&gt;</th><th scope=col>&lt;dbl&gt;</th><th scope=col>&lt;dbl&gt;</th><th scope=col>&lt;dbl&gt;</th><th scope=col>&lt;dbl&gt;</th><th scope=col>&lt;dbl&gt;</th><th scope=col>&lt;dbl&gt;</th><th scope=col>&lt;dbl&gt;</th><th scope=col>&lt;dbl&gt;</th><th scope=col>&lt;dbl&gt;</th><th scope=col>&lt;dbl&gt;</th><th scope=col>&lt;dbl&gt;</th><th scope=col>&lt;dbl&gt;</th></tr>\n",
       "</thead>\n",
       "<tbody>\n",
       "\t<tr><td>ENSG00000223972.5</td><td>0</td><td>0</td><td>0</td><td>0</td><td>0</td><td>0</td><td>0</td><td>0</td><td>0</td><td>0</td><td>0</td><td>0</td></tr>\n",
       "\t<tr><td>ENSG00000227232.5</td><td>0</td><td>0</td><td>0</td><td>0</td><td>0</td><td>0</td><td>0</td><td>0</td><td>0</td><td>0</td><td>0</td><td>0</td></tr>\n",
       "\t<tr><td>ENSG00000278267.1</td><td>0</td><td>0</td><td>0</td><td>0</td><td>0</td><td>0</td><td>0</td><td>0</td><td>0</td><td>0</td><td>0</td><td>0</td></tr>\n",
       "\t<tr><td>ENSG00000243485.5</td><td>0</td><td>0</td><td>0</td><td>0</td><td>0</td><td>0</td><td>0</td><td>0</td><td>0</td><td>0</td><td>0</td><td>0</td></tr>\n",
       "\t<tr><td>ENSG00000284332.1</td><td>0</td><td>0</td><td>0</td><td>0</td><td>0</td><td>0</td><td>0</td><td>0</td><td>0</td><td>0</td><td>0</td><td>0</td></tr>\n",
       "\t<tr><td>ENSG00000237613.2</td><td>0</td><td>0</td><td>0</td><td>0</td><td>0</td><td>0</td><td>0</td><td>0</td><td>0</td><td>0</td><td>0</td><td>0</td></tr>\n",
       "</tbody>\n",
       "</table>\n"
      ],
      "text/latex": [
       "A data.frame: 6 × 13\n",
       "\\begin{tabular}{r|lllllllllllll}\n",
       " gene\\_id & A1 & A2 & A3 & A4 & A5 & A6 & A7 & A8 & A9 & A10 & A11 & A12\\\\\n",
       " <chr> & <dbl> & <dbl> & <dbl> & <dbl> & <dbl> & <dbl> & <dbl> & <dbl> & <dbl> & <dbl> & <dbl> & <dbl>\\\\\n",
       "\\hline\n",
       "\t ENSG00000223972.5 & 0 & 0 & 0 & 0 & 0 & 0 & 0 & 0 & 0 & 0 & 0 & 0\\\\\n",
       "\t ENSG00000227232.5 & 0 & 0 & 0 & 0 & 0 & 0 & 0 & 0 & 0 & 0 & 0 & 0\\\\\n",
       "\t ENSG00000278267.1 & 0 & 0 & 0 & 0 & 0 & 0 & 0 & 0 & 0 & 0 & 0 & 0\\\\\n",
       "\t ENSG00000243485.5 & 0 & 0 & 0 & 0 & 0 & 0 & 0 & 0 & 0 & 0 & 0 & 0\\\\\n",
       "\t ENSG00000284332.1 & 0 & 0 & 0 & 0 & 0 & 0 & 0 & 0 & 0 & 0 & 0 & 0\\\\\n",
       "\t ENSG00000237613.2 & 0 & 0 & 0 & 0 & 0 & 0 & 0 & 0 & 0 & 0 & 0 & 0\\\\\n",
       "\\end{tabular}\n"
      ],
      "text/markdown": [
       "\n",
       "A data.frame: 6 × 13\n",
       "\n",
       "| gene_id &lt;chr&gt; | A1 &lt;dbl&gt; | A2 &lt;dbl&gt; | A3 &lt;dbl&gt; | A4 &lt;dbl&gt; | A5 &lt;dbl&gt; | A6 &lt;dbl&gt; | A7 &lt;dbl&gt; | A8 &lt;dbl&gt; | A9 &lt;dbl&gt; | A10 &lt;dbl&gt; | A11 &lt;dbl&gt; | A12 &lt;dbl&gt; |\n",
       "|---|---|---|---|---|---|---|---|---|---|---|---|---|\n",
       "| ENSG00000223972.5 | 0 | 0 | 0 | 0 | 0 | 0 | 0 | 0 | 0 | 0 | 0 | 0 |\n",
       "| ENSG00000227232.5 | 0 | 0 | 0 | 0 | 0 | 0 | 0 | 0 | 0 | 0 | 0 | 0 |\n",
       "| ENSG00000278267.1 | 0 | 0 | 0 | 0 | 0 | 0 | 0 | 0 | 0 | 0 | 0 | 0 |\n",
       "| ENSG00000243485.5 | 0 | 0 | 0 | 0 | 0 | 0 | 0 | 0 | 0 | 0 | 0 | 0 |\n",
       "| ENSG00000284332.1 | 0 | 0 | 0 | 0 | 0 | 0 | 0 | 0 | 0 | 0 | 0 | 0 |\n",
       "| ENSG00000237613.2 | 0 | 0 | 0 | 0 | 0 | 0 | 0 | 0 | 0 | 0 | 0 | 0 |\n",
       "\n"
      ],
      "text/plain": [
       "  gene_id           A1 A2 A3 A4 A5 A6 A7 A8 A9 A10 A11 A12\n",
       "1 ENSG00000223972.5 0  0  0  0  0  0  0  0  0  0   0   0  \n",
       "2 ENSG00000227232.5 0  0  0  0  0  0  0  0  0  0   0   0  \n",
       "3 ENSG00000278267.1 0  0  0  0  0  0  0  0  0  0   0   0  \n",
       "4 ENSG00000243485.5 0  0  0  0  0  0  0  0  0  0   0   0  \n",
       "5 ENSG00000284332.1 0  0  0  0  0  0  0  0  0  0   0   0  \n",
       "6 ENSG00000237613.2 0  0  0  0  0  0  0  0  0  0   0   0  "
      ]
     },
     "metadata": {},
     "output_type": "display_data"
    }
   ],
   "source": [
    "promoter_peaks %>% head"
   ]
  },
  {
   "cell_type": "code",
   "execution_count": 358,
   "metadata": {},
   "outputs": [],
   "source": [
    "keep4 <- promoter_peaks %>% column_to_rownames('gene_id') %>% rowSums %>% `>`(1)"
   ]
  },
  {
   "cell_type": "code",
   "execution_count": 362,
   "metadata": {},
   "outputs": [
    {
     "data": {
      "text/html": [
       "<table>\n",
       "<caption>A data.frame: 36 × 13</caption>\n",
       "<thead>\n",
       "\t<tr><th scope=col>gene_id</th><th scope=col>A1</th><th scope=col>A2</th><th scope=col>A3</th><th scope=col>A4</th><th scope=col>A5</th><th scope=col>A6</th><th scope=col>A7</th><th scope=col>A8</th><th scope=col>A9</th><th scope=col>A10</th><th scope=col>A11</th><th scope=col>A12</th></tr>\n",
       "\t<tr><th scope=col>&lt;chr&gt;</th><th scope=col>&lt;dbl&gt;</th><th scope=col>&lt;dbl&gt;</th><th scope=col>&lt;dbl&gt;</th><th scope=col>&lt;dbl&gt;</th><th scope=col>&lt;dbl&gt;</th><th scope=col>&lt;dbl&gt;</th><th scope=col>&lt;dbl&gt;</th><th scope=col>&lt;dbl&gt;</th><th scope=col>&lt;dbl&gt;</th><th scope=col>&lt;dbl&gt;</th><th scope=col>&lt;dbl&gt;</th><th scope=col>&lt;dbl&gt;</th></tr>\n",
       "</thead>\n",
       "<tbody>\n",
       "\t<tr><td>ENSG00000157216.15</td><td>0</td><td>0</td><td>0</td><td>0</td><td>0</td><td>0</td><td>0</td><td>0</td><td>0</td><td>0</td><td>1</td><td>1</td></tr>\n",
       "\t<tr><td>ENSG00000158488.16</td><td>0</td><td>0</td><td>0</td><td>0</td><td>0</td><td>0</td><td>0</td><td>0</td><td>0</td><td>0</td><td>1</td><td>1</td></tr>\n",
       "\t<tr><td>ENSG00000094963.14</td><td>0</td><td>0</td><td>0</td><td>0</td><td>0</td><td>0</td><td>0</td><td>0</td><td>0</td><td>0</td><td>1</td><td>1</td></tr>\n",
       "\t<tr><td>ENSG00000179915.23</td><td>0</td><td>0</td><td>0</td><td>0</td><td>0</td><td>0</td><td>0</td><td>0</td><td>0</td><td>0</td><td>1</td><td>1</td></tr>\n",
       "\t<tr><td>ENSG00000168878.17</td><td>0</td><td>0</td><td>0</td><td>0</td><td>0</td><td>0</td><td>0</td><td>0</td><td>0</td><td>0</td><td>1</td><td>1</td></tr>\n",
       "\t<tr><td>ENSG00000183054.11</td><td>0</td><td>0</td><td>0</td><td>0</td><td>0</td><td>0</td><td>0</td><td>0</td><td>0</td><td>0</td><td>1</td><td>1</td></tr>\n",
       "\t<tr><td>ENSG00000188674.11</td><td>0</td><td>0</td><td>0</td><td>0</td><td>0</td><td>0</td><td>0</td><td>0</td><td>0</td><td>0</td><td>1</td><td>1</td></tr>\n",
       "\t<tr><td>ENSG00000123992.19</td><td>0</td><td>0</td><td>0</td><td>0</td><td>0</td><td>0</td><td>0</td><td>0</td><td>0</td><td>0</td><td>1</td><td>1</td></tr>\n",
       "\t<tr><td>ENSG00000171951.5 </td><td>0</td><td>0</td><td>0</td><td>0</td><td>0</td><td>0</td><td>0</td><td>0</td><td>0</td><td>0</td><td>1</td><td>1</td></tr>\n",
       "\t<tr><td>ENSG00000124019.10</td><td>0</td><td>0</td><td>0</td><td>0</td><td>0</td><td>0</td><td>0</td><td>0</td><td>0</td><td>0</td><td>1</td><td>1</td></tr>\n",
       "\t<tr><td>ENSG00000114841.17</td><td>0</td><td>0</td><td>0</td><td>0</td><td>0</td><td>0</td><td>0</td><td>0</td><td>0</td><td>0</td><td>1</td><td>1</td></tr>\n",
       "\t<tr><td>ENSG00000198829.6 </td><td>0</td><td>0</td><td>0</td><td>0</td><td>0</td><td>0</td><td>0</td><td>0</td><td>0</td><td>0</td><td>1</td><td>1</td></tr>\n",
       "\t<tr><td>ENSG00000159674.12</td><td>0</td><td>0</td><td>0</td><td>0</td><td>0</td><td>0</td><td>0</td><td>0</td><td>0</td><td>0</td><td>1</td><td>1</td></tr>\n",
       "\t<tr><td>ENSG00000134962.7 </td><td>0</td><td>0</td><td>0</td><td>0</td><td>0</td><td>0</td><td>0</td><td>0</td><td>0</td><td>0</td><td>1</td><td>1</td></tr>\n",
       "\t<tr><td>ENSG00000196782.12</td><td>0</td><td>0</td><td>0</td><td>0</td><td>0</td><td>0</td><td>0</td><td>0</td><td>0</td><td>0</td><td>1</td><td>1</td></tr>\n",
       "\t<tr><td>ENSG00000109654.15</td><td>0</td><td>0</td><td>0</td><td>0</td><td>0</td><td>0</td><td>0</td><td>0</td><td>0</td><td>0</td><td>1</td><td>1</td></tr>\n",
       "\t<tr><td>ENSG00000129116.19</td><td>0</td><td>0</td><td>0</td><td>0</td><td>0</td><td>0</td><td>0</td><td>0</td><td>0</td><td>0</td><td>1</td><td>1</td></tr>\n",
       "\t<tr><td>ENSG00000253953.2 </td><td>0</td><td>0</td><td>0</td><td>0</td><td>0</td><td>0</td><td>0</td><td>0</td><td>0</td><td>0</td><td>1</td><td>1</td></tr>\n",
       "\t<tr><td>ENSG00000203756.7 </td><td>0</td><td>0</td><td>0</td><td>0</td><td>0</td><td>0</td><td>0</td><td>0</td><td>0</td><td>0</td><td>1</td><td>1</td></tr>\n",
       "\t<tr><td>ENSG00000214415.3 </td><td>0</td><td>0</td><td>0</td><td>0</td><td>0</td><td>0</td><td>0</td><td>0</td><td>0</td><td>0</td><td>1</td><td>1</td></tr>\n",
       "\t<tr><td>ENSG00000075223.14</td><td>0</td><td>0</td><td>0</td><td>0</td><td>0</td><td>0</td><td>0</td><td>0</td><td>0</td><td>0</td><td>1</td><td>1</td></tr>\n",
       "\t<tr><td>ENSG00000075213.11</td><td>0</td><td>0</td><td>0</td><td>0</td><td>0</td><td>0</td><td>0</td><td>0</td><td>0</td><td>0</td><td>1</td><td>1</td></tr>\n",
       "\t<tr><td>ENSG00000106333.13</td><td>0</td><td>0</td><td>0</td><td>0</td><td>0</td><td>0</td><td>0</td><td>0</td><td>0</td><td>0</td><td>2</td><td>1</td></tr>\n",
       "\t<tr><td>ENSG00000128606.13</td><td>0</td><td>0</td><td>0</td><td>0</td><td>0</td><td>0</td><td>0</td><td>0</td><td>0</td><td>0</td><td>1</td><td>1</td></tr>\n",
       "\t<tr><td>ENSG00000015592.16</td><td>0</td><td>0</td><td>0</td><td>0</td><td>0</td><td>0</td><td>0</td><td>0</td><td>0</td><td>0</td><td>1</td><td>1</td></tr>\n",
       "\t<tr><td>ENSG00000109991.8 </td><td>0</td><td>0</td><td>0</td><td>0</td><td>0</td><td>0</td><td>0</td><td>0</td><td>0</td><td>0</td><td>1</td><td>1</td></tr>\n",
       "\t<tr><td>ENSG00000204300.7 </td><td>0</td><td>0</td><td>0</td><td>0</td><td>0</td><td>0</td><td>0</td><td>0</td><td>0</td><td>0</td><td>2</td><td>1</td></tr>\n",
       "\t<tr><td>ENSG00000161850.2 </td><td>0</td><td>0</td><td>0</td><td>0</td><td>0</td><td>0</td><td>0</td><td>0</td><td>0</td><td>0</td><td>1</td><td>1</td></tr>\n",
       "\t<tr><td>ENSG00000177455.14</td><td>0</td><td>0</td><td>0</td><td>0</td><td>0</td><td>0</td><td>0</td><td>0</td><td>0</td><td>0</td><td>2</td><td>1</td></tr>\n",
       "\t<tr><td>ENSG00000141748.12</td><td>0</td><td>0</td><td>0</td><td>0</td><td>0</td><td>0</td><td>0</td><td>0</td><td>0</td><td>0</td><td>1</td><td>1</td></tr>\n",
       "\t<tr><td>ENSG00000198816.7 </td><td>0</td><td>0</td><td>0</td><td>0</td><td>0</td><td>0</td><td>0</td><td>0</td><td>0</td><td>0</td><td>1</td><td>1</td></tr>\n",
       "\t<tr><td>ENSG00000155307.18</td><td>0</td><td>0</td><td>0</td><td>0</td><td>0</td><td>0</td><td>0</td><td>0</td><td>0</td><td>0</td><td>1</td><td>1</td></tr>\n",
       "\t<tr><td>ENSG00000184113.9 </td><td>0</td><td>0</td><td>0</td><td>0</td><td>0</td><td>0</td><td>0</td><td>0</td><td>0</td><td>0</td><td>1</td><td>1</td></tr>\n",
       "\t<tr><td>ENSG00000100288.19</td><td>0</td><td>0</td><td>0</td><td>0</td><td>0</td><td>0</td><td>0</td><td>0</td><td>0</td><td>0</td><td>1</td><td>1</td></tr>\n",
       "\t<tr><td>ENSG00000008735.14</td><td>0</td><td>0</td><td>0</td><td>0</td><td>0</td><td>0</td><td>0</td><td>0</td><td>0</td><td>0</td><td>1</td><td>1</td></tr>\n",
       "\t<tr><td>ENSG00000131089.15</td><td>0</td><td>0</td><td>0</td><td>0</td><td>0</td><td>0</td><td>0</td><td>0</td><td>0</td><td>0</td><td>1</td><td>1</td></tr>\n",
       "</tbody>\n",
       "</table>\n"
      ],
      "text/latex": [
       "A data.frame: 36 × 13\n",
       "\\begin{tabular}{r|lllllllllllll}\n",
       " gene\\_id & A1 & A2 & A3 & A4 & A5 & A6 & A7 & A8 & A9 & A10 & A11 & A12\\\\\n",
       " <chr> & <dbl> & <dbl> & <dbl> & <dbl> & <dbl> & <dbl> & <dbl> & <dbl> & <dbl> & <dbl> & <dbl> & <dbl>\\\\\n",
       "\\hline\n",
       "\t ENSG00000157216.15 & 0 & 0 & 0 & 0 & 0 & 0 & 0 & 0 & 0 & 0 & 1 & 1\\\\\n",
       "\t ENSG00000158488.16 & 0 & 0 & 0 & 0 & 0 & 0 & 0 & 0 & 0 & 0 & 1 & 1\\\\\n",
       "\t ENSG00000094963.14 & 0 & 0 & 0 & 0 & 0 & 0 & 0 & 0 & 0 & 0 & 1 & 1\\\\\n",
       "\t ENSG00000179915.23 & 0 & 0 & 0 & 0 & 0 & 0 & 0 & 0 & 0 & 0 & 1 & 1\\\\\n",
       "\t ENSG00000168878.17 & 0 & 0 & 0 & 0 & 0 & 0 & 0 & 0 & 0 & 0 & 1 & 1\\\\\n",
       "\t ENSG00000183054.11 & 0 & 0 & 0 & 0 & 0 & 0 & 0 & 0 & 0 & 0 & 1 & 1\\\\\n",
       "\t ENSG00000188674.11 & 0 & 0 & 0 & 0 & 0 & 0 & 0 & 0 & 0 & 0 & 1 & 1\\\\\n",
       "\t ENSG00000123992.19 & 0 & 0 & 0 & 0 & 0 & 0 & 0 & 0 & 0 & 0 & 1 & 1\\\\\n",
       "\t ENSG00000171951.5  & 0 & 0 & 0 & 0 & 0 & 0 & 0 & 0 & 0 & 0 & 1 & 1\\\\\n",
       "\t ENSG00000124019.10 & 0 & 0 & 0 & 0 & 0 & 0 & 0 & 0 & 0 & 0 & 1 & 1\\\\\n",
       "\t ENSG00000114841.17 & 0 & 0 & 0 & 0 & 0 & 0 & 0 & 0 & 0 & 0 & 1 & 1\\\\\n",
       "\t ENSG00000198829.6  & 0 & 0 & 0 & 0 & 0 & 0 & 0 & 0 & 0 & 0 & 1 & 1\\\\\n",
       "\t ENSG00000159674.12 & 0 & 0 & 0 & 0 & 0 & 0 & 0 & 0 & 0 & 0 & 1 & 1\\\\\n",
       "\t ENSG00000134962.7  & 0 & 0 & 0 & 0 & 0 & 0 & 0 & 0 & 0 & 0 & 1 & 1\\\\\n",
       "\t ENSG00000196782.12 & 0 & 0 & 0 & 0 & 0 & 0 & 0 & 0 & 0 & 0 & 1 & 1\\\\\n",
       "\t ENSG00000109654.15 & 0 & 0 & 0 & 0 & 0 & 0 & 0 & 0 & 0 & 0 & 1 & 1\\\\\n",
       "\t ENSG00000129116.19 & 0 & 0 & 0 & 0 & 0 & 0 & 0 & 0 & 0 & 0 & 1 & 1\\\\\n",
       "\t ENSG00000253953.2  & 0 & 0 & 0 & 0 & 0 & 0 & 0 & 0 & 0 & 0 & 1 & 1\\\\\n",
       "\t ENSG00000203756.7  & 0 & 0 & 0 & 0 & 0 & 0 & 0 & 0 & 0 & 0 & 1 & 1\\\\\n",
       "\t ENSG00000214415.3  & 0 & 0 & 0 & 0 & 0 & 0 & 0 & 0 & 0 & 0 & 1 & 1\\\\\n",
       "\t ENSG00000075223.14 & 0 & 0 & 0 & 0 & 0 & 0 & 0 & 0 & 0 & 0 & 1 & 1\\\\\n",
       "\t ENSG00000075213.11 & 0 & 0 & 0 & 0 & 0 & 0 & 0 & 0 & 0 & 0 & 1 & 1\\\\\n",
       "\t ENSG00000106333.13 & 0 & 0 & 0 & 0 & 0 & 0 & 0 & 0 & 0 & 0 & 2 & 1\\\\\n",
       "\t ENSG00000128606.13 & 0 & 0 & 0 & 0 & 0 & 0 & 0 & 0 & 0 & 0 & 1 & 1\\\\\n",
       "\t ENSG00000015592.16 & 0 & 0 & 0 & 0 & 0 & 0 & 0 & 0 & 0 & 0 & 1 & 1\\\\\n",
       "\t ENSG00000109991.8  & 0 & 0 & 0 & 0 & 0 & 0 & 0 & 0 & 0 & 0 & 1 & 1\\\\\n",
       "\t ENSG00000204300.7  & 0 & 0 & 0 & 0 & 0 & 0 & 0 & 0 & 0 & 0 & 2 & 1\\\\\n",
       "\t ENSG00000161850.2  & 0 & 0 & 0 & 0 & 0 & 0 & 0 & 0 & 0 & 0 & 1 & 1\\\\\n",
       "\t ENSG00000177455.14 & 0 & 0 & 0 & 0 & 0 & 0 & 0 & 0 & 0 & 0 & 2 & 1\\\\\n",
       "\t ENSG00000141748.12 & 0 & 0 & 0 & 0 & 0 & 0 & 0 & 0 & 0 & 0 & 1 & 1\\\\\n",
       "\t ENSG00000198816.7  & 0 & 0 & 0 & 0 & 0 & 0 & 0 & 0 & 0 & 0 & 1 & 1\\\\\n",
       "\t ENSG00000155307.18 & 0 & 0 & 0 & 0 & 0 & 0 & 0 & 0 & 0 & 0 & 1 & 1\\\\\n",
       "\t ENSG00000184113.9  & 0 & 0 & 0 & 0 & 0 & 0 & 0 & 0 & 0 & 0 & 1 & 1\\\\\n",
       "\t ENSG00000100288.19 & 0 & 0 & 0 & 0 & 0 & 0 & 0 & 0 & 0 & 0 & 1 & 1\\\\\n",
       "\t ENSG00000008735.14 & 0 & 0 & 0 & 0 & 0 & 0 & 0 & 0 & 0 & 0 & 1 & 1\\\\\n",
       "\t ENSG00000131089.15 & 0 & 0 & 0 & 0 & 0 & 0 & 0 & 0 & 0 & 0 & 1 & 1\\\\\n",
       "\\end{tabular}\n"
      ],
      "text/markdown": [
       "\n",
       "A data.frame: 36 × 13\n",
       "\n",
       "| gene_id &lt;chr&gt; | A1 &lt;dbl&gt; | A2 &lt;dbl&gt; | A3 &lt;dbl&gt; | A4 &lt;dbl&gt; | A5 &lt;dbl&gt; | A6 &lt;dbl&gt; | A7 &lt;dbl&gt; | A8 &lt;dbl&gt; | A9 &lt;dbl&gt; | A10 &lt;dbl&gt; | A11 &lt;dbl&gt; | A12 &lt;dbl&gt; |\n",
       "|---|---|---|---|---|---|---|---|---|---|---|---|---|\n",
       "| ENSG00000157216.15 | 0 | 0 | 0 | 0 | 0 | 0 | 0 | 0 | 0 | 0 | 1 | 1 |\n",
       "| ENSG00000158488.16 | 0 | 0 | 0 | 0 | 0 | 0 | 0 | 0 | 0 | 0 | 1 | 1 |\n",
       "| ENSG00000094963.14 | 0 | 0 | 0 | 0 | 0 | 0 | 0 | 0 | 0 | 0 | 1 | 1 |\n",
       "| ENSG00000179915.23 | 0 | 0 | 0 | 0 | 0 | 0 | 0 | 0 | 0 | 0 | 1 | 1 |\n",
       "| ENSG00000168878.17 | 0 | 0 | 0 | 0 | 0 | 0 | 0 | 0 | 0 | 0 | 1 | 1 |\n",
       "| ENSG00000183054.11 | 0 | 0 | 0 | 0 | 0 | 0 | 0 | 0 | 0 | 0 | 1 | 1 |\n",
       "| ENSG00000188674.11 | 0 | 0 | 0 | 0 | 0 | 0 | 0 | 0 | 0 | 0 | 1 | 1 |\n",
       "| ENSG00000123992.19 | 0 | 0 | 0 | 0 | 0 | 0 | 0 | 0 | 0 | 0 | 1 | 1 |\n",
       "| ENSG00000171951.5  | 0 | 0 | 0 | 0 | 0 | 0 | 0 | 0 | 0 | 0 | 1 | 1 |\n",
       "| ENSG00000124019.10 | 0 | 0 | 0 | 0 | 0 | 0 | 0 | 0 | 0 | 0 | 1 | 1 |\n",
       "| ENSG00000114841.17 | 0 | 0 | 0 | 0 | 0 | 0 | 0 | 0 | 0 | 0 | 1 | 1 |\n",
       "| ENSG00000198829.6  | 0 | 0 | 0 | 0 | 0 | 0 | 0 | 0 | 0 | 0 | 1 | 1 |\n",
       "| ENSG00000159674.12 | 0 | 0 | 0 | 0 | 0 | 0 | 0 | 0 | 0 | 0 | 1 | 1 |\n",
       "| ENSG00000134962.7  | 0 | 0 | 0 | 0 | 0 | 0 | 0 | 0 | 0 | 0 | 1 | 1 |\n",
       "| ENSG00000196782.12 | 0 | 0 | 0 | 0 | 0 | 0 | 0 | 0 | 0 | 0 | 1 | 1 |\n",
       "| ENSG00000109654.15 | 0 | 0 | 0 | 0 | 0 | 0 | 0 | 0 | 0 | 0 | 1 | 1 |\n",
       "| ENSG00000129116.19 | 0 | 0 | 0 | 0 | 0 | 0 | 0 | 0 | 0 | 0 | 1 | 1 |\n",
       "| ENSG00000253953.2  | 0 | 0 | 0 | 0 | 0 | 0 | 0 | 0 | 0 | 0 | 1 | 1 |\n",
       "| ENSG00000203756.7  | 0 | 0 | 0 | 0 | 0 | 0 | 0 | 0 | 0 | 0 | 1 | 1 |\n",
       "| ENSG00000214415.3  | 0 | 0 | 0 | 0 | 0 | 0 | 0 | 0 | 0 | 0 | 1 | 1 |\n",
       "| ENSG00000075223.14 | 0 | 0 | 0 | 0 | 0 | 0 | 0 | 0 | 0 | 0 | 1 | 1 |\n",
       "| ENSG00000075213.11 | 0 | 0 | 0 | 0 | 0 | 0 | 0 | 0 | 0 | 0 | 1 | 1 |\n",
       "| ENSG00000106333.13 | 0 | 0 | 0 | 0 | 0 | 0 | 0 | 0 | 0 | 0 | 2 | 1 |\n",
       "| ENSG00000128606.13 | 0 | 0 | 0 | 0 | 0 | 0 | 0 | 0 | 0 | 0 | 1 | 1 |\n",
       "| ENSG00000015592.16 | 0 | 0 | 0 | 0 | 0 | 0 | 0 | 0 | 0 | 0 | 1 | 1 |\n",
       "| ENSG00000109991.8  | 0 | 0 | 0 | 0 | 0 | 0 | 0 | 0 | 0 | 0 | 1 | 1 |\n",
       "| ENSG00000204300.7  | 0 | 0 | 0 | 0 | 0 | 0 | 0 | 0 | 0 | 0 | 2 | 1 |\n",
       "| ENSG00000161850.2  | 0 | 0 | 0 | 0 | 0 | 0 | 0 | 0 | 0 | 0 | 1 | 1 |\n",
       "| ENSG00000177455.14 | 0 | 0 | 0 | 0 | 0 | 0 | 0 | 0 | 0 | 0 | 2 | 1 |\n",
       "| ENSG00000141748.12 | 0 | 0 | 0 | 0 | 0 | 0 | 0 | 0 | 0 | 0 | 1 | 1 |\n",
       "| ENSG00000198816.7  | 0 | 0 | 0 | 0 | 0 | 0 | 0 | 0 | 0 | 0 | 1 | 1 |\n",
       "| ENSG00000155307.18 | 0 | 0 | 0 | 0 | 0 | 0 | 0 | 0 | 0 | 0 | 1 | 1 |\n",
       "| ENSG00000184113.9  | 0 | 0 | 0 | 0 | 0 | 0 | 0 | 0 | 0 | 0 | 1 | 1 |\n",
       "| ENSG00000100288.19 | 0 | 0 | 0 | 0 | 0 | 0 | 0 | 0 | 0 | 0 | 1 | 1 |\n",
       "| ENSG00000008735.14 | 0 | 0 | 0 | 0 | 0 | 0 | 0 | 0 | 0 | 0 | 1 | 1 |\n",
       "| ENSG00000131089.15 | 0 | 0 | 0 | 0 | 0 | 0 | 0 | 0 | 0 | 0 | 1 | 1 |\n",
       "\n"
      ],
      "text/plain": [
       "   gene_id            A1 A2 A3 A4 A5 A6 A7 A8 A9 A10 A11 A12\n",
       "1  ENSG00000157216.15 0  0  0  0  0  0  0  0  0  0   1   1  \n",
       "2  ENSG00000158488.16 0  0  0  0  0  0  0  0  0  0   1   1  \n",
       "3  ENSG00000094963.14 0  0  0  0  0  0  0  0  0  0   1   1  \n",
       "4  ENSG00000179915.23 0  0  0  0  0  0  0  0  0  0   1   1  \n",
       "5  ENSG00000168878.17 0  0  0  0  0  0  0  0  0  0   1   1  \n",
       "6  ENSG00000183054.11 0  0  0  0  0  0  0  0  0  0   1   1  \n",
       "7  ENSG00000188674.11 0  0  0  0  0  0  0  0  0  0   1   1  \n",
       "8  ENSG00000123992.19 0  0  0  0  0  0  0  0  0  0   1   1  \n",
       "9  ENSG00000171951.5  0  0  0  0  0  0  0  0  0  0   1   1  \n",
       "10 ENSG00000124019.10 0  0  0  0  0  0  0  0  0  0   1   1  \n",
       "11 ENSG00000114841.17 0  0  0  0  0  0  0  0  0  0   1   1  \n",
       "12 ENSG00000198829.6  0  0  0  0  0  0  0  0  0  0   1   1  \n",
       "13 ENSG00000159674.12 0  0  0  0  0  0  0  0  0  0   1   1  \n",
       "14 ENSG00000134962.7  0  0  0  0  0  0  0  0  0  0   1   1  \n",
       "15 ENSG00000196782.12 0  0  0  0  0  0  0  0  0  0   1   1  \n",
       "16 ENSG00000109654.15 0  0  0  0  0  0  0  0  0  0   1   1  \n",
       "17 ENSG00000129116.19 0  0  0  0  0  0  0  0  0  0   1   1  \n",
       "18 ENSG00000253953.2  0  0  0  0  0  0  0  0  0  0   1   1  \n",
       "19 ENSG00000203756.7  0  0  0  0  0  0  0  0  0  0   1   1  \n",
       "20 ENSG00000214415.3  0  0  0  0  0  0  0  0  0  0   1   1  \n",
       "21 ENSG00000075223.14 0  0  0  0  0  0  0  0  0  0   1   1  \n",
       "22 ENSG00000075213.11 0  0  0  0  0  0  0  0  0  0   1   1  \n",
       "23 ENSG00000106333.13 0  0  0  0  0  0  0  0  0  0   2   1  \n",
       "24 ENSG00000128606.13 0  0  0  0  0  0  0  0  0  0   1   1  \n",
       "25 ENSG00000015592.16 0  0  0  0  0  0  0  0  0  0   1   1  \n",
       "26 ENSG00000109991.8  0  0  0  0  0  0  0  0  0  0   1   1  \n",
       "27 ENSG00000204300.7  0  0  0  0  0  0  0  0  0  0   2   1  \n",
       "28 ENSG00000161850.2  0  0  0  0  0  0  0  0  0  0   1   1  \n",
       "29 ENSG00000177455.14 0  0  0  0  0  0  0  0  0  0   2   1  \n",
       "30 ENSG00000141748.12 0  0  0  0  0  0  0  0  0  0   1   1  \n",
       "31 ENSG00000198816.7  0  0  0  0  0  0  0  0  0  0   1   1  \n",
       "32 ENSG00000155307.18 0  0  0  0  0  0  0  0  0  0   1   1  \n",
       "33 ENSG00000184113.9  0  0  0  0  0  0  0  0  0  0   1   1  \n",
       "34 ENSG00000100288.19 0  0  0  0  0  0  0  0  0  0   1   1  \n",
       "35 ENSG00000008735.14 0  0  0  0  0  0  0  0  0  0   1   1  \n",
       "36 ENSG00000131089.15 0  0  0  0  0  0  0  0  0  0   1   1  "
      ]
     },
     "metadata": {},
     "output_type": "display_data"
    }
   ],
   "source": [
    "promoter_peaks[keep4,] %>% filter((A11 > 0 & A12 > 0) & A1 + A2 + A5 + A6 + A7 + A8 + A9 + A10 + A3 + A4 < 1)"
   ]
  },
  {
   "cell_type": "markdown",
   "metadata": {},
   "source": [
    "# $$X=PA$$\n",
    "# $$x_{ij} = \\sum\\limits_{k \\in TFs} b_{ik}a_{kj}$$\n",
    "\n"
   ]
  },
  {
   "cell_type": "markdown",
   "metadata": {
    "heading_collapsed": true
   },
   "source": [
    "# Other"
   ]
  },
  {
   "cell_type": "markdown",
   "metadata": {
    "ExecuteTime": {
     "end_time": "2019-09-06T17:45:36.340534Z",
     "start_time": "2019-09-06T17:45:34.764Z"
    },
    "hidden": true
   },
   "source": [
    "> **_If you can't explain it simply, you don't understand it well enough._**"
   ]
  },
  {
   "cell_type": "markdown",
   "metadata": {
    "hidden": true
   },
   "source": [
    "## Check gene names compatibility\n",
    "Check to see if the gene names in Congyi's screen data is the same as gencode annotation. Congyi's gene names are likely NCBI Refseq's names."
   ]
  }
 ],
 "metadata": {
  "kernelspec": {
   "display_name": "R3.6",
   "language": "R",
   "name": "ir36"
  },
  "language_info": {
   "codemirror_mode": "r",
   "file_extension": ".r",
   "mimetype": "text/x-r-source",
   "name": "R",
   "pygments_lexer": "r",
   "version": "3.6.1"
  },
  "toc": {
   "base_numbering": 1,
   "nav_menu": {},
   "number_sections": true,
   "sideBar": true,
   "skip_h1_title": false,
   "title_cell": "Table of Contents",
   "title_sidebar": "Contents",
   "toc_cell": false,
   "toc_position": {},
   "toc_section_display": true,
   "toc_window_display": false
  }
 },
 "nbformat": 4,
 "nbformat_minor": 4
}
