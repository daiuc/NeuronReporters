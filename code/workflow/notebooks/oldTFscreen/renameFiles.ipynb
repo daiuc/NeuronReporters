{
 "cells": [
  {
   "cell_type": "code",
   "execution_count": 78,
   "metadata": {},
   "outputs": [],
   "source": [
    "#!/bin/python\n",
    "\n",
    "import os\n",
    "import pandas as pd"
   ]
  },
  {
   "cell_type": "code",
   "execution_count": 95,
   "metadata": {},
   "outputs": [],
   "source": [
    "wc1 = pd.read_csv(\"SRR_bam_bai_nrows.txt\", header=None, names=[\"file\"], nrows = 36)\n",
    "wc2 = pd.read_csv(\"SRR_bam_bai_nrows2.txt\", header = None, names=[\"file\"], nrows = 36)"
   ]
  },
  {
   "cell_type": "code",
   "execution_count": 105,
   "metadata": {},
   "outputs": [],
   "source": [
    "wc1['wc'] = wc1.file.str.strip().str.split(\" \", expand=False).apply(lambda x: x[0])\n",
    "wc1['name'] = wc1.file.str.strip().str.split(\" \", expand=False).apply(lambda x: x[1])"
   ]
  },
  {
   "cell_type": "code",
   "execution_count": 112,
   "metadata": {},
   "outputs": [],
   "source": [
    "wc2['wc'] = wc2.file.str.strip().str.split(\" \", expand=False).apply(lambda x: x[0])\n",
    "wc2['name'] = wc2.file.str.strip().str.split(\" \", expand=False).apply(lambda x: x[1])"
   ]
  },
  {
   "cell_type": "code",
   "execution_count": 155,
   "metadata": {},
   "outputs": [
    {
     "data": {
      "text/plain": [
       "'SRR2989131'"
      ]
     },
     "execution_count": 155,
     "metadata": {},
     "output_type": "execute_result"
    }
   ],
   "source": [
    "'SRR2989131.sorted.bam'.split('.')[0]"
   ]
  },
  {
   "cell_type": "code",
   "execution_count": 161,
   "metadata": {},
   "outputs": [],
   "source": [
    "a = [x.split('.')[0] for x in wc1.sort_values(by = 'wc').name.tolist()]\n",
    "b = [x.replace('.sorted.bam.bai', '').replace('.sorted.bam','') for x in wc2.sort_values(by = 'wc').name.tolist()]"
   ]
  },
  {
   "cell_type": "code",
   "execution_count": 167,
   "metadata": {},
   "outputs": [],
   "source": [
    "acc = pd.read_csv(\"accession_list.txt\", header = None, sep = \"\\t\", names = ['y','x'])"
   ]
  },
  {
   "cell_type": "code",
   "execution_count": 179,
   "metadata": {},
   "outputs": [
    {
     "name": "stdout",
     "output_type": "stream",
     "text": [
      "x: SRR2989131, y: Input_NEUROG2_NFD_2DPT, and acc.y: Input_NEUROG2_NFD_2DPT, equal? True \n",
      "\n",
      "x: SRR2989129, y: Input_NEUROG2_NFD_0.5DPT, and acc.y: Input_NEUROG2_NFD_0.5DPT, equal? True \n",
      "\n",
      "x: SRR2989126, y: Input_NEUROG2_N_0.5DPT, and acc.y: Input_NEUROG2_N_0.5DPT, equal? True \n",
      "\n",
      "x: SRR2989126, y: Input_NEUROG2_N_0.5DPT, and acc.y: Input_NEUROG2_N_0.5DPT, equal? True \n",
      "\n",
      "x: SRR2989131, y: Input_NEUROG2_NFD_2DPT, and acc.y: Input_NEUROG2_NFD_2DPT, equal? True \n",
      "\n",
      "x: SRR2989128, y: Input_NEUROG2_N_2DPT, and acc.y: Input_NEUROG2_N_2DPT, equal? True \n",
      "\n",
      "x: SRR2989142, y: IP1_NEUROG2_NFD_2DPT, and acc.y: IP1_NEUROG2_NFD_2DPT, equal? True \n",
      "\n",
      "x: SRR2989137, y: IP2_NEUROG2_N_2DPT, and acc.y: IP2_NEUROG2_N_2DPT, equal? True \n",
      "\n",
      "x: SRR2989127, y: Input_NEUROG2_N_1DPT, and acc.y: Input_NEUROG2_N_1DPT, equal? True \n",
      "\n",
      "x: SRR2989143, y: IP2_NEUROG2_NFD_2DPT, and acc.y: IP2_NEUROG2_NFD_2DPT, equal? True \n",
      "\n",
      "x: SRR2989136, y: IP1_NEUROG2_N_2DPT, and acc.y: IP1_NEUROG2_N_2DPT, equal? True \n",
      "\n",
      "x: SRR2989130, y: Input_NEUROG2_NFD_1DPT, and acc.y: Input_NEUROG2_NFD_1DPT, equal? True \n",
      "\n",
      "x: SRR2989140, y: IP1_NEUROG2_NFD_1DPT, and acc.y: IP1_NEUROG2_NFD_1DPT, equal? True \n",
      "\n",
      "x: SRR2989134, y: IP1_NEUROG2_N_1DPT, and acc.y: IP1_NEUROG2_N_1DPT, equal? True \n",
      "\n",
      "x: SRR2989139, y: IP2_NEUROG2_NFD_0.5DPT, and acc.y: IP2_NEUROG2_NFD_0.5DPT, equal? True \n",
      "\n",
      "x: SRR2989138, y: IP1_NEUROG2_NFD_0.5DPT, and acc.y: IP1_NEUROG2_NFD_0.5DPT, equal? True \n",
      "\n",
      "x: SRR2989135, y: IP2_NEUROG2_N_1DPT, and acc.y: IP2_NEUROG2_N_1DPT, equal? True \n",
      "\n",
      "x: SRR2989133, y: IP2_NEUROG2_N_0.5DPT, and acc.y: IP2_NEUROG2_N_0.5DPT, equal? True \n",
      "\n",
      "x: SRR2989138, y: IP1_NEUROG2_NFD_0.5DPT, and acc.y: IP1_NEUROG2_NFD_0.5DPT, equal? True \n",
      "\n",
      "x: SRR2989139, y: IP2_NEUROG2_NFD_0.5DPT, and acc.y: IP2_NEUROG2_NFD_0.5DPT, equal? True \n",
      "\n",
      "x: SRR2989133, y: IP2_NEUROG2_N_0.5DPT, and acc.y: IP2_NEUROG2_N_0.5DPT, equal? True \n",
      "\n",
      "x: SRR2989132, y: IP1_NEUROG2_N_0.5DPT, and acc.y: IP1_NEUROG2_N_0.5DPT, equal? True \n",
      "\n",
      "x: SRR2989140, y: IP1_NEUROG2_NFD_1DPT, and acc.y: IP1_NEUROG2_NFD_1DPT, equal? True \n",
      "\n",
      "x: SRR2989134, y: IP1_NEUROG2_N_1DPT, and acc.y: IP1_NEUROG2_N_1DPT, equal? True \n",
      "\n",
      "x: SRR2989135, y: IP2_NEUROG2_N_1DPT, and acc.y: IP2_NEUROG2_N_1DPT, equal? True \n",
      "\n",
      "x: SRR2989141, y: IP2_NEUROG2_NFD_1DPT, and acc.y: IP2_NEUROG2_NFD_1DPT, equal? True \n",
      "\n",
      "x: SRR2989141, y: IP2_NEUROG2_NFD_1DPT, and acc.y: IP2_NEUROG2_NFD_1DPT, equal? True \n",
      "\n",
      "x: SRR2989137, y: IP2_NEUROG2_N_2DPT, and acc.y: IP2_NEUROG2_N_2DPT, equal? True \n",
      "\n",
      "x: SRR2989143, y: IP2_NEUROG2_NFD_2DPT, and acc.y: IP2_NEUROG2_NFD_2DPT, equal? True \n",
      "\n",
      "x: SRR2989132, y: IP1_NEUROG2_N_0.5DPT, and acc.y: IP1_NEUROG2_N_0.5DPT, equal? True \n",
      "\n",
      "x: SRR2989129, y: Input_NEUROG2_NFD_0.5DPT, and acc.y: Input_NEUROG2_NFD_0.5DPT, equal? True \n",
      "\n",
      "x: SRR2989136, y: IP1_NEUROG2_N_2DPT, and acc.y: IP1_NEUROG2_N_2DPT, equal? True \n",
      "\n",
      "x: SRR2989142, y: IP1_NEUROG2_NFD_2DPT, and acc.y: IP1_NEUROG2_NFD_2DPT, equal? True \n",
      "\n",
      "x: SRR2989127, y: Input_NEUROG2_N_1DPT, and acc.y: Input_NEUROG2_N_1DPT, equal? True \n",
      "\n",
      "x: SRR2989130, y: Input_NEUROG2_NFD_1DPT, and acc.y: Input_NEUROG2_NFD_1DPT, equal? True \n",
      "\n",
      "x: SRR2989128, y: Input_NEUROG2_N_2DPT, and acc.y: Input_NEUROG2_N_2DPT, equal? True \n",
      "\n"
     ]
    }
   ],
   "source": [
    "for x,y in zip(a,b):\n",
    "    lookuped_y = acc[acc.x == x]['y'].tolist()[0]\n",
    "    print(\"x: {}, y: {}, and acc.y: {}, equal? {} \\n\".format(x, y, lookuped_y, y == lookuped_y))"
   ]
  },
  {
   "cell_type": "code",
   "execution_count": null,
   "metadata": {},
   "outputs": [],
   "source": []
  }
 ],
 "metadata": {
  "kernelspec": {
   "display_name": "Python 3",
   "language": "python",
   "name": "python3"
  },
  "language_info": {
   "codemirror_mode": {
    "name": "ipython",
    "version": 3
   },
   "file_extension": ".py",
   "mimetype": "text/x-python",
   "name": "python",
   "nbconvert_exporter": "python",
   "pygments_lexer": "ipython3",
   "version": "3.7.1rc1"
  }
 },
 "nbformat": 4,
 "nbformat_minor": 2
}
