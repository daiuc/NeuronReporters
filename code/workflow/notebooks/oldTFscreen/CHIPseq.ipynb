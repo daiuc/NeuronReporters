{
 "cells": [
  {
   "cell_type": "markdown",
   "metadata": {},
   "source": [
    "# CHIP-seq data - OLD method"
   ]
  },
  {
   "cell_type": "code",
   "execution_count": 3,
   "metadata": {},
   "outputs": [],
   "source": [
    "cd /gpfs/commons/groups/sanjana_lab/cdai/TFscreen/atac/chipseq_ref"
   ]
  },
  {
   "cell_type": "code",
   "execution_count": 144,
   "metadata": {},
   "outputs": [
    {
     "name": "stdout",
     "output_type": "stream",
     "text": [
      "Input_NEUROG2_N_0.5DPT\tSRR2989126\n",
      "Input_NEUROG2_N_1DPT\tSRR2989127\n",
      "Input_NEUROG2_N_2DPT\tSRR2989128\n",
      "Input_NEUROG2_NFD_0.5DPT\tSRR2989129\n",
      "Input_NEUROG2_NFD_1DPT\tSRR2989130\n",
      "Input_NEUROG2_NFD_2DPT\tSRR2989131\n",
      "IP1_NEUROG2_N_0.5DPT\tSRR2989132\n",
      "IP2_NEUROG2_N_0.5DPT\tSRR2989133\n",
      "IP1_NEUROG2_N_1DPT\tSRR2989134\n",
      "IP2_NEUROG2_N_1DPT\tSRR2989135\n",
      "IP1_NEUROG2_N_2DPT\tSRR2989136\n",
      "IP2_NEUROG2_N_2DPT\tSRR2989137\n",
      "IP1_NEUROG2_NFD_0.5DPT\tSRR2989138\n",
      "IP2_NEUROG2_NFD_0.5DPT\tSRR2989139\n",
      "IP1_NEUROG2_NFD_1DPT\tSRR2989140\n",
      "IP2_NEUROG2_NFD_1DPT\tSRR2989141\n",
      "IP1_NEUROG2_NFD_2DPT\tSRR2989142\n",
      "IP2_NEUROG2_NFD_2DPT\tSRR2989143\n"
     ]
    }
   ],
   "source": [
    "cat accession_list.txt"
   ]
  },
  {
   "cell_type": "code",
   "execution_count": 145,
   "metadata": {},
   "outputs": [
    {
     "name": "stdout",
     "output_type": "stream",
     "text": [
      "Input_NEUROG2_N_0.5DPT.q20_F4.sorted.bam\n",
      "Input_NEUROG2_N_1DPT.q20_F4.sorted.bam\n",
      "Input_NEUROG2_N_2DPT.q20_F4.sorted.bam\n",
      "Input_NEUROG2_NFD_0.5DPT.q20_F4.sorted.bam\n",
      "Input_NEUROG2_NFD_1DPT.q20_F4.sorted.bam\n",
      "Input_NEUROG2_NFD_2DPT.q20_F4.sorted.bam\n",
      "IP1_NEUROG2_N_0.5DPT.q20_F4.sorted.bam\n",
      "IP1_NEUROG2_N_1DPT.q20_F4.sorted.bam\n",
      "IP1_NEUROG2_N_2DPT.q20_F4.sorted.bam\n",
      "IP1_NEUROG2_NFD_0.5DPT.q20_F4.sorted.bam\n",
      "IP1_NEUROG2_NFD_1DPT.q20_F4.sorted.bam\n",
      "IP1_NEUROG2_NFD_2DPT.q20_F4.sorted.bam\n",
      "IP2_NEUROG2_N_0.5DPT.q20_F4.sorted.bam\n",
      "IP2_NEUROG2_N_1DPT.q20_F4.sorted.bam\n",
      "IP2_NEUROG2_N_2DPT.q20_F4.sorted.bam\n",
      "IP2_NEUROG2_NFD_0.5DPT.q20_F4.sorted.bam\n",
      "IP2_NEUROG2_NFD_1DPT.q20_F4.sorted.bam\n",
      "IP2_NEUROG2_NFD_2DPT.q20_F4.sorted.bam\n"
     ]
    }
   ],
   "source": [
    "ls *.q20_F4.sorted.bam"
   ]
  },
  {
   "cell_type": "code",
   "execution_count": 148,
   "metadata": {},
   "outputs": [
    {
     "name": "stdout",
     "output_type": "stream",
     "text": [
      "Input_NEUROG2_N_0.5DPT.q20_F4.sorted.bam\n",
      "IP1_NEUROG2_N_0.5DPT.q20_F4.sorted.bam\n",
      "IP2_NEUROG2_N_0.5DPT.q20_F4.sorted.bam\n"
     ]
    }
   ],
   "source": [
    "ls *N_0.5DPT.q20_F4.sorted.bam"
   ]
  },
  {
   "cell_type": "code",
   "execution_count": 149,
   "metadata": {},
   "outputs": [
    {
     "name": "stdout",
     "output_type": "stream",
     "text": [
      "Input_NEUROG2_N_1DPT.q20_F4.sorted.bam  IP2_NEUROG2_N_1DPT.q20_F4.sorted.bam\n",
      "IP1_NEUROG2_N_1DPT.q20_F4.sorted.bam\n"
     ]
    }
   ],
   "source": [
    "ls *N_1DPT.q20_F4.sorted.bam"
   ]
  },
  {
   "cell_type": "code",
   "execution_count": 150,
   "metadata": {},
   "outputs": [
    {
     "name": "stdout",
     "output_type": "stream",
     "text": [
      "Input_NEUROG2_N_2DPT.q20_F4.sorted.bam  IP2_NEUROG2_N_2DPT.q20_F4.sorted.bam\n",
      "IP1_NEUROG2_N_2DPT.q20_F4.sorted.bam\n"
     ]
    }
   ],
   "source": [
    "ls *N_2DPT.q20_F4.sorted.bam"
   ]
  },
  {
   "cell_type": "code",
   "execution_count": 151,
   "metadata": {},
   "outputs": [
    {
     "name": "stdout",
     "output_type": "stream",
     "text": [
      "Input_NEUROG2_NFD_0.5DPT.q20_F4.sorted.bam\n",
      "IP1_NEUROG2_NFD_0.5DPT.q20_F4.sorted.bam\n",
      "IP2_NEUROG2_NFD_0.5DPT.q20_F4.sorted.bam\n"
     ]
    }
   ],
   "source": [
    "ls *NFD_0.5DPT.q20_F4.sorted.bam"
   ]
  },
  {
   "cell_type": "code",
   "execution_count": 152,
   "metadata": {},
   "outputs": [
    {
     "name": "stdout",
     "output_type": "stream",
     "text": [
      "Input_NEUROG2_NFD_1DPT.q20_F4.sorted.bam\n",
      "IP1_NEUROG2_NFD_1DPT.q20_F4.sorted.bam\n",
      "IP2_NEUROG2_NFD_1DPT.q20_F4.sorted.bam\n"
     ]
    }
   ],
   "source": [
    "ls *NFD_1DPT.q20_F4.sorted.bam"
   ]
  },
  {
   "cell_type": "code",
   "execution_count": 153,
   "metadata": {},
   "outputs": [
    {
     "name": "stdout",
     "output_type": "stream",
     "text": [
      "Input_NEUROG2_NFD_2DPT.q20_F4.sorted.bam\n",
      "IP1_NEUROG2_NFD_2DPT.q20_F4.sorted.bam\n",
      "IP2_NEUROG2_NFD_2DPT.q20_F4.sorted.bam\n"
     ]
    }
   ],
   "source": [
    "ls *NFD_2DPT.q20_F4.sorted.bam"
   ]
  },
  {
   "cell_type": "code",
   "execution_count": 48,
   "metadata": {},
   "outputs": [],
   "source": []
  },
  {
   "cell_type": "markdown",
   "metadata": {},
   "source": [
    "## 1. Filter alignments: \n",
    "\n",
    "`mqpq>20 & Flag != 4`\n",
    "\n",
    "Results: `SRR*.q20_F4.sorted.bam`"
   ]
  },
  {
   "cell_type": "markdown",
   "metadata": {},
   "source": [
    "## 2. Call peaks\n",
    "\n",
    "call peaks script: `macs2_v8-pe.sh`\n",
    "\n",
    "results in `macs2`"
   ]
  },
  {
   "cell_type": "code",
   "execution_count": 182,
   "metadata": {},
   "outputs": [
    {
     "name": "stdout",
     "output_type": "stream",
     "text": [
      "-rw-r--r-- 1 cdai nslab 5.0M Jan 21 16:14 macs2/NFD_2DPT_peaks.narrowPeak\n",
      "-rw-r--r-- 1 cdai nslab 2.3M Jan 21 16:10 macs2/N_2DPT_peaks.narrowPeak\n",
      "-rw-r--r-- 1 cdai nslab 4.9M Jan 21 16:09 macs2/NFD_1DPT_peaks.narrowPeak\n",
      "-rw-r--r-- 1 cdai nslab 3.3M Jan 21 16:09 macs2/N_1DPT_peaks.narrowPeak\n",
      "-rw-r--r-- 1 cdai nslab 3.1M Jan 21 16:09 macs2/N_0.5DPT_peaks.narrowPeak\n",
      "-rw-r--r-- 1 cdai nslab 7.1M Jan 21 15:59 macs2/NFD_0.5DPT_peaks.narrowPeak\n"
     ]
    }
   ],
   "source": [
    "ll -h macs2/*.narrowPeak"
   ]
  },
  {
   "cell_type": "code",
   "execution_count": 184,
   "metadata": {},
   "outputs": [
    {
     "name": "stdout",
     "output_type": "stream",
     "text": [
      "/gpfs/commons/groups/sanjana_lab/cdai/TFscreen/atac/chipseq_ref\n"
     ]
    }
   ],
   "source": [
    "pwd"
   ]
  },
  {
   "cell_type": "markdown",
   "metadata": {},
   "source": [
    "## 3. Annotate peaks\n",
    "\n",
    "Annotation: `/gpfs/commons/groups/sanjana_lab/cdai/TFscreen/atac/meta_analysis/AllTF.promoter_up2k_dn2k.bed\n",
    "`\n",
    "\n",
    "Cleaned up peaks mapped to scaffolds prior to following script using `awk 'length($1) < 6`.\n",
    "\n",
    "script: `/gpfs/commons/groups/sanjana_lab/cdai/TFscreen/atac/chipseq_ref/annotate_peaks.sh`\n"
   ]
  },
  {
   "cell_type": "markdown",
   "metadata": {},
   "source": [
    "---"
   ]
  },
  {
   "cell_type": "markdown",
   "metadata": {},
   "source": [
    "# R Notebook from this point!"
   ]
  },
  {
   "cell_type": "code",
   "execution_count": 4,
   "metadata": {},
   "outputs": [
    {
     "name": "stderr",
     "output_type": "stream",
     "text": [
      "── \u001b[1mAttaching packages\u001b[22m ─────────────────────────────────────── tidyverse 1.3.0 ──\n",
      "\n",
      "\u001b[32m✔\u001b[39m \u001b[34mggplot2\u001b[39m 3.2.1     \u001b[32m✔\u001b[39m \u001b[34mpurrr  \u001b[39m 0.3.3\n",
      "\u001b[32m✔\u001b[39m \u001b[34mtibble \u001b[39m 2.1.3     \u001b[32m✔\u001b[39m \u001b[34mdplyr  \u001b[39m 0.8.3\n",
      "\u001b[32m✔\u001b[39m \u001b[34mtidyr  \u001b[39m 1.0.0     \u001b[32m✔\u001b[39m \u001b[34mstringr\u001b[39m 1.4.0\n",
      "\u001b[32m✔\u001b[39m \u001b[34mreadr  \u001b[39m 1.3.1     \u001b[32m✔\u001b[39m \u001b[34mforcats\u001b[39m 0.4.0\n",
      "\n",
      "── \u001b[1mConflicts\u001b[22m ────────────────────────────────────────── tidyverse_conflicts() ──\n",
      "\u001b[31m✖\u001b[39m \u001b[34mdplyr\u001b[39m::\u001b[32mfilter()\u001b[39m masks \u001b[34mstats\u001b[39m::filter()\n",
      "\u001b[31m✖\u001b[39m \u001b[34mdplyr\u001b[39m::\u001b[32mlag()\u001b[39m    masks \u001b[34mstats\u001b[39m::lag()\n",
      "\n"
     ]
    }
   ],
   "source": [
    "library(tidyverse)"
   ]
  },
  {
   "cell_type": "code",
   "execution_count": 3,
   "metadata": {},
   "outputs": [],
   "source": [
    "setwd(\"/gpfs/commons/groups/sanjana_lab/cdai/TFscreen/atac/chipseq_ref/\")"
   ]
  },
  {
   "cell_type": "code",
   "execution_count": 45,
   "metadata": {
    "ExecuteTime": {
     "end_time": "2020-01-09T21:10:11.917303Z",
     "start_time": "2020-01-09T21:10:02.152Z"
    }
   },
   "outputs": [],
   "source": [
    "#120 hit list\n",
    "hitlist <- read.csv('/c/groups/sanjana_lab/cdai/TFscreen/Hitlist_20191230.csv', header = T, stringsAsFactors = F) %>% pull(hgnc_symbol)\n",
    "#TF list\n",
    "tflist <- read.csv('/c/groups/sanjana_lab/cdai/TFscreen/TFlist_20191230.csv', stringsAsFactors = F) %>% pull(hgnc_symbol)"
   ]
  },
  {
   "cell_type": "code",
   "execution_count": 9,
   "metadata": {},
   "outputs": [],
   "source": [
    "peak.files <- list.files(\".\", \"peaks.txt\")"
   ]
  },
  {
   "cell_type": "code",
   "execution_count": 10,
   "metadata": {},
   "outputs": [
    {
     "data": {
      "text/html": [
       "<ol class=list-inline>\n",
       "\t<li>'N_0.5DPT_TF_annoated_peaks.txt'</li>\n",
       "\t<li>'N_1DPT_TF_annoated_peaks.txt'</li>\n",
       "\t<li>'N_2DPT_TF_annoated_peaks.txt'</li>\n",
       "\t<li>'NFD_0.5DPT_TF_annoated_peaks.txt'</li>\n",
       "\t<li>'NFD_1DPT_TF_annoated_peaks.txt'</li>\n",
       "\t<li>'NFD_2DPT_TF_annoated_peaks.txt'</li>\n",
       "</ol>\n"
      ],
      "text/latex": [
       "\\begin{enumerate*}\n",
       "\\item 'N\\_0.5DPT\\_TF\\_annoated\\_peaks.txt'\n",
       "\\item 'N\\_1DPT\\_TF\\_annoated\\_peaks.txt'\n",
       "\\item 'N\\_2DPT\\_TF\\_annoated\\_peaks.txt'\n",
       "\\item 'NFD\\_0.5DPT\\_TF\\_annoated\\_peaks.txt'\n",
       "\\item 'NFD\\_1DPT\\_TF\\_annoated\\_peaks.txt'\n",
       "\\item 'NFD\\_2DPT\\_TF\\_annoated\\_peaks.txt'\n",
       "\\end{enumerate*}\n"
      ],
      "text/markdown": [
       "1. 'N_0.5DPT_TF_annoated_peaks.txt'\n",
       "2. 'N_1DPT_TF_annoated_peaks.txt'\n",
       "3. 'N_2DPT_TF_annoated_peaks.txt'\n",
       "4. 'NFD_0.5DPT_TF_annoated_peaks.txt'\n",
       "5. 'NFD_1DPT_TF_annoated_peaks.txt'\n",
       "6. 'NFD_2DPT_TF_annoated_peaks.txt'\n",
       "\n",
       "\n"
      ],
      "text/plain": [
       "[1] \"N_0.5DPT_TF_annoated_peaks.txt\"   \"N_1DPT_TF_annoated_peaks.txt\"    \n",
       "[3] \"N_2DPT_TF_annoated_peaks.txt\"     \"NFD_0.5DPT_TF_annoated_peaks.txt\"\n",
       "[5] \"NFD_1DPT_TF_annoated_peaks.txt\"   \"NFD_2DPT_TF_annoated_peaks.txt\"  "
      ]
     },
     "metadata": {},
     "output_type": "display_data"
    }
   ],
   "source": [
    "peak.files"
   ]
  },
  {
   "cell_type": "code",
   "execution_count": 19,
   "metadata": {},
   "outputs": [],
   "source": [
    "samples <- map_chr(peak.files, ~ str_remove(.x, \"_TF_annoated_peaks.txt\"))"
   ]
  },
  {
   "cell_type": "code",
   "execution_count": 20,
   "metadata": {},
   "outputs": [
    {
     "data": {
      "text/html": [
       "<ol class=list-inline>\n",
       "\t<li>'N_0.5DPT'</li>\n",
       "\t<li>'N_1DPT'</li>\n",
       "\t<li>'N_2DPT'</li>\n",
       "\t<li>'NFD_0.5DPT'</li>\n",
       "\t<li>'NFD_1DPT'</li>\n",
       "\t<li>'NFD_2DPT'</li>\n",
       "</ol>\n"
      ],
      "text/latex": [
       "\\begin{enumerate*}\n",
       "\\item 'N\\_0.5DPT'\n",
       "\\item 'N\\_1DPT'\n",
       "\\item 'N\\_2DPT'\n",
       "\\item 'NFD\\_0.5DPT'\n",
       "\\item 'NFD\\_1DPT'\n",
       "\\item 'NFD\\_2DPT'\n",
       "\\end{enumerate*}\n"
      ],
      "text/markdown": [
       "1. 'N_0.5DPT'\n",
       "2. 'N_1DPT'\n",
       "3. 'N_2DPT'\n",
       "4. 'NFD_0.5DPT'\n",
       "5. 'NFD_1DPT'\n",
       "6. 'NFD_2DPT'\n",
       "\n",
       "\n"
      ],
      "text/plain": [
       "[1] \"N_0.5DPT\"   \"N_1DPT\"     \"N_2DPT\"     \"NFD_0.5DPT\" \"NFD_1DPT\"  \n",
       "[6] \"NFD_2DPT\"  "
      ]
     },
     "metadata": {},
     "output_type": "display_data"
    }
   ],
   "source": [
    "samples"
   ]
  },
  {
   "cell_type": "code",
   "execution_count": 16,
   "metadata": {},
   "outputs": [],
   "source": [
    "peak.cols <- c(\"chr\", \"start\", \"end\", \"peak\", \"score\", \"strand\", \"fc\", \"pval\", \"qval\", \"summit_start\", \n",
    "               \"g_chr\", \"g_start\", \"g_end\", \"gene\", \"g_score\", \"g_strand\")"
   ]
  },
  {
   "cell_type": "code",
   "execution_count": 25,
   "metadata": {},
   "outputs": [],
   "source": [
    "peak.sets <- map2_df(peak.files, samples, ~ read.table(.x, header = F, sep = \"\\t\", \n",
    "                                           stringsAsFactors = F, col.names = peak.cols) %>%\n",
    "                                 add_column(\"sample\"=.y))"
   ]
  },
  {
   "cell_type": "code",
   "execution_count": 43,
   "metadata": {},
   "outputs": [
    {
     "data": {
      "text/html": [
       "'/gpfs/commons/groups/sanjana_lab/cdai/TFscreen/atac/chipseq_ref'"
      ],
      "text/latex": [
       "'/gpfs/commons/groups/sanjana\\_lab/cdai/TFscreen/atac/chipseq\\_ref'"
      ],
      "text/markdown": [
       "'/gpfs/commons/groups/sanjana_lab/cdai/TFscreen/atac/chipseq_ref'"
      ],
      "text/plain": [
       "[1] \"/gpfs/commons/groups/sanjana_lab/cdai/TFscreen/atac/chipseq_ref\""
      ]
     },
     "metadata": {},
     "output_type": "display_data"
    }
   ],
   "source": [
    "getwd()"
   ]
  },
  {
   "cell_type": "code",
   "execution_count": 44,
   "metadata": {},
   "outputs": [],
   "source": [
    "write.table(peak.sets, \"../../chip_seq_df_20200123.txt\", sep = \"\\t\", quote = F, row.names = F, col.names = T)"
   ]
  },
  {
   "cell_type": "code",
   "execution_count": 35,
   "metadata": {},
   "outputs": [
    {
     "data": {
      "text/html": [
       "<table>\n",
       "<caption>A tibble: 6 × 2</caption>\n",
       "<thead>\n",
       "\t<tr><th scope=col>sample</th><th scope=col>n()</th></tr>\n",
       "\t<tr><th scope=col>&lt;chr&gt;</th><th scope=col>&lt;int&gt;</th></tr>\n",
       "</thead>\n",
       "<tbody>\n",
       "\t<tr><td>N_0.5DPT  </td><td>134</td></tr>\n",
       "\t<tr><td>N_1DPT    </td><td>336</td></tr>\n",
       "\t<tr><td>N_2DPT    </td><td>208</td></tr>\n",
       "\t<tr><td>NFD_0.5DPT</td><td>782</td></tr>\n",
       "\t<tr><td>NFD_1DPT  </td><td>811</td></tr>\n",
       "\t<tr><td>NFD_2DPT  </td><td>782</td></tr>\n",
       "</tbody>\n",
       "</table>\n"
      ],
      "text/latex": [
       "A tibble: 6 × 2\n",
       "\\begin{tabular}{ll}\n",
       " sample & n()\\\\\n",
       " <chr> & <int>\\\\\n",
       "\\hline\n",
       "\t N\\_0.5DPT   & 134\\\\\n",
       "\t N\\_1DPT     & 336\\\\\n",
       "\t N\\_2DPT     & 208\\\\\n",
       "\t NFD\\_0.5DPT & 782\\\\\n",
       "\t NFD\\_1DPT   & 811\\\\\n",
       "\t NFD\\_2DPT   & 782\\\\\n",
       "\\end{tabular}\n"
      ],
      "text/markdown": [
       "\n",
       "A tibble: 6 × 2\n",
       "\n",
       "| sample &lt;chr&gt; | n() &lt;int&gt; |\n",
       "|---|---|\n",
       "| N_0.5DPT   | 134 |\n",
       "| N_1DPT     | 336 |\n",
       "| N_2DPT     | 208 |\n",
       "| NFD_0.5DPT | 782 |\n",
       "| NFD_1DPT   | 811 |\n",
       "| NFD_2DPT   | 782 |\n",
       "\n"
      ],
      "text/plain": [
       "  sample     n()\n",
       "1 N_0.5DPT   134\n",
       "2 N_1DPT     336\n",
       "3 N_2DPT     208\n",
       "4 NFD_0.5DPT 782\n",
       "5 NFD_1DPT   811\n",
       "6 NFD_2DPT   782"
      ]
     },
     "metadata": {},
     "output_type": "display_data"
    }
   ],
   "source": [
    "peak.sets %>% select(sample, gene)  %>% group_by(sample) %>% unique %>% summarise(n())"
   ]
  },
  {
   "cell_type": "code",
   "execution_count": 46,
   "metadata": {},
   "outputs": [
    {
     "name": "stdout",
     "output_type": "stream",
     "text": [
      "[1] \"ADNP\"  \"AEBP1\" \"AEBP2\" \"AFF1\"  \"AFF4\"  \"AGAP3\"\n"
     ]
    }
   ],
   "source": [
    "peak.sets %>% filter(sample == \"NFD_2DPT\") %>% select(g_chr:sample) %>% pull(gene) %>% unique %>% sort %>% head %>% print"
   ]
  },
  {
   "cell_type": "code",
   "execution_count": null,
   "metadata": {},
   "outputs": [],
   "source": []
  },
  {
   "cell_type": "code",
   "execution_count": null,
   "metadata": {},
   "outputs": [],
   "source": []
  },
  {
   "cell_type": "code",
   "execution_count": null,
   "metadata": {},
   "outputs": [],
   "source": []
  },
  {
   "cell_type": "code",
   "execution_count": null,
   "metadata": {},
   "outputs": [],
   "source": []
  },
  {
   "cell_type": "code",
   "execution_count": null,
   "metadata": {},
   "outputs": [],
   "source": []
  },
  {
   "cell_type": "code",
   "execution_count": null,
   "metadata": {},
   "outputs": [],
   "source": []
  },
  {
   "cell_type": "code",
   "execution_count": null,
   "metadata": {},
   "outputs": [],
   "source": []
  },
  {
   "cell_type": "code",
   "execution_count": null,
   "metadata": {},
   "outputs": [],
   "source": []
  },
  {
   "cell_type": "code",
   "execution_count": null,
   "metadata": {},
   "outputs": [],
   "source": []
  },
  {
   "cell_type": "code",
   "execution_count": null,
   "metadata": {},
   "outputs": [],
   "source": []
  },
  {
   "cell_type": "code",
   "execution_count": null,
   "metadata": {},
   "outputs": [],
   "source": []
  },
  {
   "cell_type": "code",
   "execution_count": null,
   "metadata": {},
   "outputs": [],
   "source": []
  },
  {
   "cell_type": "code",
   "execution_count": null,
   "metadata": {},
   "outputs": [],
   "source": []
  },
  {
   "cell_type": "code",
   "execution_count": null,
   "metadata": {},
   "outputs": [],
   "source": []
  },
  {
   "cell_type": "code",
   "execution_count": null,
   "metadata": {},
   "outputs": [],
   "source": []
  },
  {
   "cell_type": "code",
   "execution_count": null,
   "metadata": {},
   "outputs": [],
   "source": []
  },
  {
   "cell_type": "code",
   "execution_count": null,
   "metadata": {},
   "outputs": [],
   "source": []
  },
  {
   "cell_type": "code",
   "execution_count": null,
   "metadata": {},
   "outputs": [],
   "source": []
  },
  {
   "cell_type": "code",
   "execution_count": null,
   "metadata": {},
   "outputs": [],
   "source": []
  }
 ],
 "metadata": {
  "kernelspec": {
   "display_name": "R3.6",
   "language": "R",
   "name": "ir36"
  },
  "language_info": {
   "codemirror_mode": "r",
   "file_extension": ".r",
   "mimetype": "text/x-r-source",
   "name": "R",
   "pygments_lexer": "r",
   "version": "3.6.1"
  }
 },
 "nbformat": 4,
 "nbformat_minor": 2
}
