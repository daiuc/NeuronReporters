{
 "cells": [
  {
   "cell_type": "code",
   "execution_count": 1,
   "metadata": {},
   "outputs": [],
   "source": [
    "library(repr)\n",
    "options(repr.plot.width=6, repr.plot.height=5)"
   ]
  },
  {
   "cell_type": "raw",
   "metadata": {},
   "source": [
    "if (!requireNamespace(\"BiocManager\", quietly = TRUE))\n",
    "    install.packages(\"BiocManager\")\n",
    "\n",
    "BiocManager::install(\"JASPAR\")"
   ]
  },
  {
   "cell_type": "code",
   "execution_count": 2,
   "metadata": {},
   "outputs": [
    {
     "name": "stderr",
     "output_type": "stream",
     "text": [
      "── \u001b[1mAttaching packages\u001b[22m ─────────────────────────────────────── tidyverse 1.3.0 ──\n",
      "\n",
      "\u001b[32m✔\u001b[39m \u001b[34mggplot2\u001b[39m 3.2.1     \u001b[32m✔\u001b[39m \u001b[34mpurrr  \u001b[39m 0.3.3\n",
      "\u001b[32m✔\u001b[39m \u001b[34mtibble \u001b[39m 2.1.3     \u001b[32m✔\u001b[39m \u001b[34mdplyr  \u001b[39m 0.8.3\n",
      "\u001b[32m✔\u001b[39m \u001b[34mtidyr  \u001b[39m 1.0.0     \u001b[32m✔\u001b[39m \u001b[34mstringr\u001b[39m 1.4.0\n",
      "\u001b[32m✔\u001b[39m \u001b[34mreadr  \u001b[39m 1.3.1     \u001b[32m✔\u001b[39m \u001b[34mforcats\u001b[39m 0.4.0\n",
      "\n",
      "── \u001b[1mConflicts\u001b[22m ────────────────────────────────────────── tidyverse_conflicts() ──\n",
      "\u001b[31m✖\u001b[39m \u001b[34mdplyr\u001b[39m::\u001b[32mfilter()\u001b[39m masks \u001b[34mstats\u001b[39m::filter()\n",
      "\u001b[31m✖\u001b[39m \u001b[34mdplyr\u001b[39m::\u001b[32mlag()\u001b[39m    masks \u001b[34mstats\u001b[39m::lag()\n",
      "\n",
      "\n",
      "\n",
      "Registered S3 method overwritten by 'R.oo':\n",
      "  method        from       \n",
      "  throw.default R.methodsS3\n",
      "\n",
      "\n",
      "Attaching package: ‘Matrix’\n",
      "\n",
      "\n",
      "The following objects are masked from ‘package:tidyr’:\n",
      "\n",
      "    expand, pack, unpack\n",
      "\n",
      "\n",
      "Loading required package: GenomicRanges\n",
      "\n",
      "Loading required package: stats4\n",
      "\n",
      "Loading required package: BiocGenerics\n",
      "\n",
      "Loading required package: parallel\n",
      "\n",
      "\n",
      "Attaching package: ‘BiocGenerics’\n",
      "\n",
      "\n",
      "The following objects are masked from ‘package:parallel’:\n",
      "\n",
      "    clusterApply, clusterApplyLB, clusterCall, clusterEvalQ,\n",
      "    clusterExport, clusterMap, parApply, parCapply, parLapply,\n",
      "    parLapplyLB, parRapply, parSapply, parSapplyLB\n",
      "\n",
      "\n",
      "The following object is masked from ‘package:Matrix’:\n",
      "\n",
      "    which\n",
      "\n",
      "\n",
      "The following objects are masked from ‘package:dplyr’:\n",
      "\n",
      "    combine, intersect, setdiff, union\n",
      "\n",
      "\n",
      "The following objects are masked from ‘package:stats’:\n",
      "\n",
      "    IQR, mad, sd, var, xtabs\n",
      "\n",
      "\n",
      "The following objects are masked from ‘package:base’:\n",
      "\n",
      "    anyDuplicated, append, as.data.frame, basename, cbind, colnames,\n",
      "    dirname, do.call, duplicated, eval, evalq, Filter, Find, get, grep,\n",
      "    grepl, intersect, is.unsorted, lapply, Map, mapply, match, mget,\n",
      "    order, paste, pmax, pmax.int, pmin, pmin.int, Position, rank,\n",
      "    rbind, Reduce, rownames, sapply, setdiff, sort, table, tapply,\n",
      "    union, unique, unsplit, which, which.max, which.min\n",
      "\n",
      "\n",
      "Loading required package: S4Vectors\n",
      "\n",
      "\n",
      "Attaching package: ‘S4Vectors’\n",
      "\n",
      "\n",
      "The following object is masked from ‘package:Matrix’:\n",
      "\n",
      "    expand\n",
      "\n",
      "\n",
      "The following objects are masked from ‘package:dplyr’:\n",
      "\n",
      "    first, rename\n",
      "\n",
      "\n",
      "The following object is masked from ‘package:tidyr’:\n",
      "\n",
      "    expand\n",
      "\n",
      "\n",
      "The following object is masked from ‘package:base’:\n",
      "\n",
      "    expand.grid\n",
      "\n",
      "\n",
      "Loading required package: IRanges\n",
      "\n",
      "\n",
      "Attaching package: ‘IRanges’\n",
      "\n",
      "\n",
      "The following objects are masked from ‘package:dplyr’:\n",
      "\n",
      "    collapse, desc, slice\n",
      "\n",
      "\n",
      "The following object is masked from ‘package:purrr’:\n",
      "\n",
      "    reduce\n",
      "\n",
      "\n",
      "Loading required package: GenomeInfoDb\n",
      "\n",
      "Loading required package: Biobase\n",
      "\n",
      "Welcome to Bioconductor\n",
      "\n",
      "    Vignettes contain introductory material; view with\n",
      "    'browseVignettes()'. To cite Bioconductor, see\n",
      "    'citation(\"Biobase\")', and for packages 'citation(\"pkgname\")'.\n",
      "\n",
      "\n",
      "Loading required package: DelayedArray\n",
      "\n",
      "Loading required package: matrixStats\n",
      "\n",
      "\n",
      "Attaching package: ‘matrixStats’\n",
      "\n",
      "\n",
      "The following objects are masked from ‘package:Biobase’:\n",
      "\n",
      "    anyMissing, rowMedians\n",
      "\n",
      "\n",
      "The following object is masked from ‘package:dplyr’:\n",
      "\n",
      "    count\n",
      "\n",
      "\n",
      "Loading required package: BiocParallel\n",
      "\n",
      "\n",
      "Attaching package: ‘DelayedArray’\n",
      "\n",
      "\n",
      "The following objects are masked from ‘package:matrixStats’:\n",
      "\n",
      "    colMaxs, colMins, colRanges, rowMaxs, rowMins, rowRanges\n",
      "\n",
      "\n",
      "The following object is masked from ‘package:purrr’:\n",
      "\n",
      "    simplify\n",
      "\n",
      "\n",
      "The following objects are masked from ‘package:base’:\n",
      "\n",
      "    aperm, apply, rowsum\n",
      "\n",
      "\n",
      "Loading required package: BSgenome\n",
      "\n",
      "Loading required package: Biostrings\n",
      "\n",
      "Loading required package: XVector\n",
      "\n",
      "\n",
      "Attaching package: ‘XVector’\n",
      "\n",
      "\n",
      "The following object is masked from ‘package:purrr’:\n",
      "\n",
      "    compact\n",
      "\n",
      "\n",
      "\n",
      "Attaching package: ‘Biostrings’\n",
      "\n",
      "\n",
      "The following object is masked from ‘package:DelayedArray’:\n",
      "\n",
      "    type\n",
      "\n",
      "\n",
      "The following object is masked from ‘package:base’:\n",
      "\n",
      "    strsplit\n",
      "\n",
      "\n",
      "Loading required package: rtracklayer\n",
      "\n",
      "\n",
      "Attaching package: ‘TFBSTools’\n",
      "\n",
      "\n",
      "The following object is masked from ‘package:DelayedArray’:\n",
      "\n",
      "    matrixClass\n",
      "\n",
      "\n",
      "The following object is masked from ‘package:Matrix’:\n",
      "\n",
      "    Matrix\n",
      "\n",
      "\n"
     ]
    }
   ],
   "source": [
    "library(tidyverse)\n",
    "library(chromVAR)\n",
    "library(motifmatchr)\n",
    "library(Matrix)\n",
    "library(SummarizedExperiment)\n",
    "library(BSgenome.Hsapiens.UCSC.hg38)\n",
    "library(pheatmap)\n",
    "library(TFBSTools)\n",
    "library(BiocParallel)\n",
    "library(purrr)\n",
    "register(MulticoreParam(10))\n",
    "set.seed(2019)"
   ]
  },
  {
   "cell_type": "code",
   "execution_count": null,
   "metadata": {},
   "outputs": [],
   "source": []
  },
  {
   "cell_type": "code",
   "execution_count": 3,
   "metadata": {},
   "outputs": [],
   "source": [
    "setwd(\"/gpfs/commons/groups/sanjana_lab/cdai/TFscreen/atac/\")"
   ]
  },
  {
   "cell_type": "markdown",
   "metadata": {},
   "source": [
    "# chromVAR analysis 1 - chromVAR + Jaspar 2020 motifs\n",
    "**Inputs**\n",
    "1. *Peaks*: These are peaks centered at summit with uniform width of 500 bp as recommended by chromVAR. Files are under `/gpfs/commons/groups/sanjana_lab/cdai/TFscreen/atac/diffbind_consensu_min2overlap.bed`. First 3 columns are standard bed, the 4th column is peak intensity as calculated from MACS2.\n",
    "2. *Annovation*: Jaspar 2020 motifs"
   ]
  },
  {
   "cell_type": "code",
   "execution_count": 4,
   "metadata": {},
   "outputs": [
    {
     "ename": "ERROR",
     "evalue": "Error: '/c/groups/sanjana_lab/cdai/TFscreen/atac/diffbind_consensu_min2overlap.bed' does not exist.\n",
     "output_type": "error",
     "traceback": [
      "Error: '/c/groups/sanjana_lab/cdai/TFscreen/atac/diffbind_consensu_min2overlap.bed' does not exist.\nTraceback:\n",
      "1. getPeaks(peak.file, sort_peaks = T)",
      "2. as.data.frame(suppressMessages(readr::read_tsv(file = filename, \n .     col_names = FALSE)[, c(1:3, extra_cols)]))",
      "3. suppressMessages(readr::read_tsv(file = filename, col_names = FALSE)[, \n .     c(1:3, extra_cols)])",
      "4. withCallingHandlers(expr, message = function(c) invokeRestart(\"muffleMessage\"))",
      "5. readr::read_tsv(file = filename, col_names = FALSE)",
      "6. read_delimited(file, tokenizer, col_names = col_names, col_types = col_types, \n .     locale = locale, skip = skip, skip_empty_rows = skip_empty_rows, \n .     comment = comment, n_max = n_max, guess_max = guess_max, \n .     progress = progress)",
      "7. standardise_path(file)",
      "8. check_path(path)",
      "9. stop(\"'\", path, \"' does not exist\", if (!is_absolute_path(path)) paste0(\" in current working directory ('\", \n .     getwd(), \"')\"), \".\", call. = FALSE)"
     ]
    }
   ],
   "source": [
    "samplesheet <- read.csv('samplesheet2.csv', stringsAsFactors = F)\n",
    "\n",
    "# Peaks\n",
    "peak.file <- \"/c/groups/sanjana_lab/cdai/TFscreen/atac/diffbind_consensu_min2overlap.bed\"\n",
    "peaks <- getPeaks(peak.file, sort_peaks = T)\n",
    "\n",
    "peaks <- resize(peaks, width = 500, fix = \"center\")\n",
    "\n",
    "my_counts_matrix <- read.table(\"diffbind_consensu_min2overlap_readcounts.txt\", header = T) %>% as.matrix\n",
    "\n",
    "depth <- apply(my_counts_matrix, 2, sum)\n",
    "colData <- column_to_rownames(samplesheet, 'SampleID')\n",
    "colData <- add_column(colData, depth) # add read depth per sample\n",
    "\n",
    "fragment_counts <- SummarizedExperiment(assays = list(counts = my_counts_matrix),\n",
    "                                        rowRanges = peaks, colData = colData)\n",
    "\n",
    "fragment_counts.addGC <- addGCBias(fragment_counts, genome = BSgenome.Hsapiens.UCSC.hg38)\n",
    "\n",
    "# each peak must have at least 10 reads across all 12 samples to be included\n",
    "fragment_counts.filtered <- filterPeaks(fragment_counts.addGC, min_fragments_per_peak = 10, \n",
    "                                       non_overlapping = T)"
   ]
  },
  {
   "cell_type": "markdown",
   "metadata": {},
   "source": [
    "#### Annotations\n",
    "\n",
    "Get JASPAR2020 motifs. Then construct a motif - gene_name lookup table. In addition, add columns to indicate if a motif is a TF or hit TF."
   ]
  },
  {
   "cell_type": "raw",
   "metadata": {},
   "source": [
    "# method to get JASPAR2018, no used here\n",
    "opts <- list()\n",
    "opts[[\"species\"]] <- \"Homo sapiens\"\n",
    "jaspar_motifs <- getMatrixSet(JASPAR2018, opts)"
   ]
  },
  {
   "cell_type": "code",
   "execution_count": null,
   "metadata": {},
   "outputs": [],
   "source": [
    "# New method: use downloaded JASPAR2020\n",
    "jaspar_2020 <- readJASPARMatrix(\"JASPAR2020_combined_matrices_20191030.txt\", matrixClass = \"PFM\")\n",
    "\n",
    "#120 hit list\n",
    "hitlist <- read.csv('/c/groups//sanjana_lab/cdai/TFscreen/HS_td-VStd+_td-VSdox120.csv', header = F, stringsAsFactors = F) %>% pull\n",
    "#TF list\n",
    "tflist <- read.csv('/c/groups//sanjana_lab/cdai/TFscreen/TFlist.csv', stringsAsFactors = F, col.names='gene_name') %>% pull(var = gene_name)\n",
    "hitlist <- c(hitlist, c('NEUROG1', 'NEUROG2')) # adding NERUOG1/2 to hit list\n",
    "\n",
    "# construct base motif_lookup table\n",
    "motif_lookup <- TFBSTools::name(jaspar_2020) %>% \n",
    "                data.frame(stringsAsFactors = F) %>% \n",
    "                rownames_to_column(\"motif\") %>% \n",
    "                mutate(gene_name=str_extract(`.`, \"[a-zA-Z:0-9\\\\-]+\")) %>%\n",
    "                select(motif, gene_name)\n",
    "\n",
    "# function to check if a tf name is in the substring of jaspar name\n",
    "mystrfunc <- function(stringA, target) {\n",
    "    # string A is a possible gene name, scalar\n",
    "    # target is a vector of proper gene names\n",
    "    # match if any target is a substring in string A, if so return True\n",
    "    stringA <- rep(stringA, length(target))\n",
    "    test <- unlist(map2(stringA, target, ~ str_detect(.x, .y)))\n",
    "    return(any(test))\n",
    "}\n",
    "\n",
    "#motif_lookup <- motif_lookup  %>% mutate(is_hit = map(gene_name, ~ if_else(mystrfunc(.x, hitlist), \"Yes\", \"No\"))) %>%\n",
    "                 #mutate(is_tf = map(gene_name, ~ if_else(mystrfunc(.x, tflist), \"Yes\", \"No\"))) \n",
    "\n",
    "is_hit <- map(motif_lookup$gene_name, ~ if_else(mystrfunc(.x, hitlist), \"Yes\", \"No\")) %>% unlist\n",
    "is_tf <- map(motif_lookup$gene_name, ~ if_else(mystrfunc(.x, tflist), \"Yes\", \"No\")) %>% unlist\n",
    "\n",
    "motif_lookup <- motif_lookup %>% add_column(is_hit = is_hit, is_tf = is_tf)"
   ]
  },
  {
   "cell_type": "markdown",
   "metadata": {},
   "source": [
    "#### Deviations"
   ]
  },
  {
   "cell_type": "code",
   "execution_count": null,
   "metadata": {},
   "outputs": [],
   "source": [
    "# get motif matches with peaks\n",
    "motif_ix <- matchMotifs(jaspar_2020, fragment_counts.filtered, genome = BSgenome.Hsapiens.UCSC.hg38)\n",
    "\n",
    "# computing deviations\n",
    "dev <- computeDeviations(object = fragment_counts.filtered, annotations = motif_ix)"
   ]
  },
  {
   "cell_type": "code",
   "execution_count": null,
   "metadata": {},
   "outputs": [],
   "source": [
    "# Add motif's gene names and whethere it's a hit / tf or not\n",
    "# some motifs has 2 or 3 variants with the same gene name, thus taking the mean of all motif scores for the same gene\n",
    "dev.scores <- deviationScores(dev) %>% \n",
    "                as.data.frame %>% \n",
    "                rownames_to_column('motif') %>% \n",
    "                left_join(motif_lookup, by = 'motif') %>%\n",
    "                select(A1:is_tf) %>% \n",
    "                group_by(gene_name, is_hit, is_tf) %>% \n",
    "                summarise_all(mean) %>%\n",
    "                ungroup()"
   ]
  },
  {
   "cell_type": "code",
   "execution_count": null,
   "metadata": {},
   "outputs": [],
   "source": [
    "dev.scores %>% filter(str_detect(gene_name, 'IN'))"
   ]
  },
  {
   "cell_type": "raw",
   "metadata": {},
   "source": [
    "dev.scores %>% select(gene_name, is_hit, is_tf, A1:A12) %>% write.table(\"chromVAR_jaspar2020_zScore.csv\", sep = \",\", quote = F, row.names = F, col.names = T) # write to file"
   ]
  },
  {
   "cell_type": "markdown",
   "metadata": {},
   "source": [
    "---"
   ]
  },
  {
   "cell_type": "markdown",
   "metadata": {},
   "source": [
    "## Clustering based on correlation"
   ]
  },
  {
   "cell_type": "code",
   "execution_count": 9,
   "metadata": {},
   "outputs": [],
   "source": [
    "sample_cor <- getSampleCorrelation(dev)"
   ]
  },
  {
   "cell_type": "code",
   "execution_count": 12,
   "metadata": {},
   "outputs": [
    {
     "data": {
      "image/png": "[encoded data removed]",
      "text/plain": [
       "plot without title"
      ]
     },
     "metadata": {},
     "output_type": "display_data"
    }
   ],
   "source": [
    "pheatmap(as.dist(sample_cor), annotation = data.frame(colData(dev)[,c(1,3)]), clustering_distance_rows = as.dist(1-sample_cor), clustering_distance_cols = as.dist(1-sample_cor),\n",
    "        cluster_rows = F, show_rownames = T, cluster_cols = F, show_colnames = T)"
   ]
  },
  {
   "cell_type": "code",
   "execution_count": 10,
   "metadata": {},
   "outputs": [
    {
     "data": {
      "text/html": [
       "<table>\n",
       "<caption>A tibble: 1 × 15</caption>\n",
       "<thead>\n",
       "\t<tr><th scope=col>gene_name</th><th scope=col>is_hit</th><th scope=col>is_tf</th><th scope=col>A1</th><th scope=col>A2</th><th scope=col>A3</th><th scope=col>A4</th><th scope=col>A5</th><th scope=col>A6</th><th scope=col>A7</th><th scope=col>A8</th><th scope=col>A9</th><th scope=col>A10</th><th scope=col>A11</th><th scope=col>A12</th></tr>\n",
       "\t<tr><th scope=col>&lt;chr&gt;</th><th scope=col>&lt;chr&gt;</th><th scope=col>&lt;chr&gt;</th><th scope=col>&lt;dbl&gt;</th><th scope=col>&lt;dbl&gt;</th><th scope=col>&lt;dbl&gt;</th><th scope=col>&lt;dbl&gt;</th><th scope=col>&lt;dbl&gt;</th><th scope=col>&lt;dbl&gt;</th><th scope=col>&lt;dbl&gt;</th><th scope=col>&lt;dbl&gt;</th><th scope=col>&lt;dbl&gt;</th><th scope=col>&lt;dbl&gt;</th><th scope=col>&lt;dbl&gt;</th><th scope=col>&lt;dbl&gt;</th></tr>\n",
       "</thead>\n",
       "<tbody>\n",
       "\t<tr><td>ZBTB18</td><td>Yes</td><td>Yes</td><td>-2.97136</td><td>-1.380703</td><td>-1.167483</td><td>-2.285474</td><td>-1.194408</td><td>0.8362943</td><td>0.112931</td><td>0.4502776</td><td>0.1300537</td><td>0.4581698</td><td>1.160191</td><td>1.236917</td></tr>\n",
       "</tbody>\n",
       "</table>\n"
      ],
      "text/latex": [
       "A tibble: 1 × 15\n",
       "\\begin{tabular}{r|lllllllllllllll}\n",
       " gene\\_name & is\\_hit & is\\_tf & A1 & A2 & A3 & A4 & A5 & A6 & A7 & A8 & A9 & A10 & A11 & A12\\\\\n",
       " <chr> & <chr> & <chr> & <dbl> & <dbl> & <dbl> & <dbl> & <dbl> & <dbl> & <dbl> & <dbl> & <dbl> & <dbl> & <dbl> & <dbl>\\\\\n",
       "\\hline\n",
       "\t ZBTB18 & Yes & Yes & -2.97136 & -1.380703 & -1.167483 & -2.285474 & -1.194408 & 0.8362943 & 0.112931 & 0.4502776 & 0.1300537 & 0.4581698 & 1.160191 & 1.236917\\\\\n",
       "\\end{tabular}\n"
      ],
      "text/markdown": [
       "\n",
       "A tibble: 1 × 15\n",
       "\n",
       "| gene_name &lt;chr&gt; | is_hit &lt;chr&gt; | is_tf &lt;chr&gt; | A1 &lt;dbl&gt; | A2 &lt;dbl&gt; | A3 &lt;dbl&gt; | A4 &lt;dbl&gt; | A5 &lt;dbl&gt; | A6 &lt;dbl&gt; | A7 &lt;dbl&gt; | A8 &lt;dbl&gt; | A9 &lt;dbl&gt; | A10 &lt;dbl&gt; | A11 &lt;dbl&gt; | A12 &lt;dbl&gt; |\n",
       "|---|---|---|---|---|---|---|---|---|---|---|---|---|---|---|\n",
       "| ZBTB18 | Yes | Yes | -2.97136 | -1.380703 | -1.167483 | -2.285474 | -1.194408 | 0.8362943 | 0.112931 | 0.4502776 | 0.1300537 | 0.4581698 | 1.160191 | 1.236917 |\n",
       "\n"
      ],
      "text/plain": [
       "  gene_name is_hit is_tf A1       A2        A3        A4        A5       \n",
       "1 ZBTB18    Yes    Yes   -2.97136 -1.380703 -1.167483 -2.285474 -1.194408\n",
       "  A6        A7       A8        A9        A10       A11      A12     \n",
       "1 0.8362943 0.112931 0.4502776 0.1300537 0.4581698 1.160191 1.236917"
      ]
     },
     "metadata": {},
     "output_type": "display_data"
    }
   ],
   "source": [
    "dev.scores %>% filter(gene_name == 'ZBTB18')"
   ]
  },
  {
   "cell_type": "markdown",
   "metadata": {},
   "source": [
    "## Hit TF motifs' accessibility"
   ]
  },
  {
   "cell_type": "code",
   "execution_count": 5,
   "metadata": {
    "ExecuteTime": {
     "end_time": "2019-10-17T22:26:20.618158Z",
     "start_time": "2019-10-17T22:26:20.470Z"
    }
   },
   "outputs": [
    {
     "ename": "ERROR",
     "evalue": "Error in eval(lhs, parent, parent): object 'dev.scores' not found\n",
     "output_type": "error",
     "traceback": [
      "Error in eval(lhs, parent, parent): object 'dev.scores' not found\nTraceback:\n",
      "1. dev.scores %>% filter(is_hit == \"Yes\") %>% select(gene_name, \n .     A1:A12) %>% arrange(gene_name) %>% column_to_rownames(\"gene_name\") %>% \n .     pheatmap(cluster_rows = F, show_rownames = T, cluster_cols = F, \n .         fontsize = 7)",
      "2. eval(lhs, parent, parent)",
      "3. eval(lhs, parent, parent)"
     ]
    }
   ],
   "source": [
    "options(repr.plot.width=7, repr.plot.height=7)\n",
    "dev.scores %>% filter(is_hit == \"Yes\") %>% \n",
    "                select(gene_name, A1:A12) %>% arrange(gene_name) %>%\n",
    "                column_to_rownames('gene_name')  %>%\n",
    "                pheatmap(cluster_rows = F, show_rownames = T, cluster_cols = F, fontsize=7)"
   ]
  },
  {
   "cell_type": "markdown",
   "metadata": {},
   "source": [
    "##### Heatmap for all TF (~1800) motif binding sites accessibility \n",
    "\n",
    "** cluster rows (TF motifs) by hits vs non hits **"
   ]
  },
  {
   "cell_type": "code",
   "execution_count": 15,
   "metadata": {
    "ExecuteTime": {
     "end_time": "2019-10-17T22:25:48.303415Z",
     "start_time": "2019-10-17T22:25:48.119Z"
    }
   },
   "outputs": [
    {
     "data": {
      "image/png": "[encoded data removed]",
      "text/plain": [
       "plot without title"
      ]
     },
     "metadata": {},
     "output_type": "display_data"
    }
   ],
   "source": [
    "dev.scores %>%  filter(is_tf == \"Yes\") %>% select(gene_name, A1:A12)  %>% column_to_rownames('gene_name')  %>%\n",
    "                        pheatmap(cluster_rows = T, show_rownames = F, cluster_cols = F, show_colnames=T, fontsize=6, treeheight_row=0)"
   ]
  },
  {
   "cell_type": "markdown",
   "metadata": {},
   "source": [
    "#### Is there an enrichment of open vs closed in hit TFs vs other TFs? or What are the groups of open vs closed TFs?"
   ]
  },
  {
   "cell_type": "code",
   "execution_count": 16,
   "metadata": {
    "ExecuteTime": {
     "end_time": "2019-10-31T20:09:10.166468Z",
     "start_time": "2019-10-31T20:09:07.401Z"
    }
   },
   "outputs": [
    {
     "data": {
      "text/html": [
       "<table>\n",
       "<caption>A tibble: 6 × 15</caption>\n",
       "<thead>\n",
       "\t<tr><th scope=col>gene_name</th><th scope=col>is_hit</th><th scope=col>is_tf</th><th scope=col>A1</th><th scope=col>A2</th><th scope=col>A3</th><th scope=col>A4</th><th scope=col>A5</th><th scope=col>A6</th><th scope=col>A7</th><th scope=col>A8</th><th scope=col>A9</th><th scope=col>A10</th><th scope=col>A11</th><th scope=col>A12</th></tr>\n",
       "\t<tr><th scope=col>&lt;chr&gt;</th><th scope=col>&lt;chr&gt;</th><th scope=col>&lt;chr&gt;</th><th scope=col>&lt;dbl&gt;</th><th scope=col>&lt;dbl&gt;</th><th scope=col>&lt;dbl&gt;</th><th scope=col>&lt;dbl&gt;</th><th scope=col>&lt;dbl&gt;</th><th scope=col>&lt;dbl&gt;</th><th scope=col>&lt;dbl&gt;</th><th scope=col>&lt;dbl&gt;</th><th scope=col>&lt;dbl&gt;</th><th scope=col>&lt;dbl&gt;</th><th scope=col>&lt;dbl&gt;</th><th scope=col>&lt;dbl&gt;</th></tr>\n",
       "</thead>\n",
       "<tbody>\n",
       "\t<tr><td>ALX3       </td><td>No</td><td>Yes</td><td>-1.6384447</td><td>-2.8446575</td><td>-1.8827820</td><td>-2.0961426</td><td>-2.4567807</td><td>-1.8130310</td><td> 0.019649268</td><td> 0.45831325</td><td> 0.11274948</td><td> 0.4392262</td><td> 2.0574681</td><td> 2.4345177</td></tr>\n",
       "\t<tr><td>AR         </td><td>No</td><td>Yes</td><td>-1.8444513</td><td>-1.2043915</td><td>-1.3958242</td><td>-1.4052146</td><td>-1.0476070</td><td>-0.7026961</td><td> 0.996668890</td><td>-0.08521765</td><td> 1.58243067</td><td> 1.4792939</td><td> 0.9980039</td><td> 0.1986967</td></tr>\n",
       "\t<tr><td>ARGFX      </td><td>No</td><td>Yes</td><td>-2.1638243</td><td>-2.7691897</td><td>-2.1060805</td><td>-2.0190687</td><td>-2.7565552</td><td>-3.0051652</td><td>-0.001254575</td><td>-0.25617104</td><td> 1.03010236</td><td> 0.5883838</td><td> 2.5788242</td><td> 3.0302946</td></tr>\n",
       "\t<tr><td>ARNT::HIF1A</td><td>No</td><td>Yes</td><td> 0.3273486</td><td> 0.8879503</td><td> 0.3463007</td><td> 0.6437213</td><td>-0.4228751</td><td> 0.3061073</td><td>-0.569705629</td><td>-0.01452481</td><td>-0.07988779</td><td> 0.3860256</td><td>-0.6696215</td><td>-0.2358546</td></tr>\n",
       "\t<tr><td>ARNT2      </td><td>No</td><td>Yes</td><td>-0.4369646</td><td> 0.8230277</td><td> 0.2317603</td><td>-0.2771520</td><td>-1.2620006</td><td> 0.1065155</td><td>-1.980499557</td><td>-2.41117116</td><td>-0.66115140</td><td>-0.6514473</td><td> 1.3497916</td><td> 1.3835475</td></tr>\n",
       "\t<tr><td>ASCL1      </td><td>No</td><td>Yes</td><td>-1.8865133</td><td>-2.4921049</td><td>-1.5194095</td><td>-1.8064744</td><td>-1.1076559</td><td>-0.6505122</td><td> 1.132335574</td><td>-0.49695308</td><td> 0.24476842</td><td> 0.1323490</td><td> 1.8266022</td><td> 1.7238736</td></tr>\n",
       "</tbody>\n",
       "</table>\n"
      ],
      "text/latex": [
       "A tibble: 6 × 15\n",
       "\\begin{tabular}{r|lllllllllllllll}\n",
       " gene\\_name & is\\_hit & is\\_tf & A1 & A2 & A3 & A4 & A5 & A6 & A7 & A8 & A9 & A10 & A11 & A12\\\\\n",
       " <chr> & <chr> & <chr> & <dbl> & <dbl> & <dbl> & <dbl> & <dbl> & <dbl> & <dbl> & <dbl> & <dbl> & <dbl> & <dbl> & <dbl>\\\\\n",
       "\\hline\n",
       "\t ALX3        & No & Yes & -1.6384447 & -2.8446575 & -1.8827820 & -2.0961426 & -2.4567807 & -1.8130310 &  0.019649268 &  0.45831325 &  0.11274948 &  0.4392262 &  2.0574681 &  2.4345177\\\\\n",
       "\t AR          & No & Yes & -1.8444513 & -1.2043915 & -1.3958242 & -1.4052146 & -1.0476070 & -0.7026961 &  0.996668890 & -0.08521765 &  1.58243067 &  1.4792939 &  0.9980039 &  0.1986967\\\\\n",
       "\t ARGFX       & No & Yes & -2.1638243 & -2.7691897 & -2.1060805 & -2.0190687 & -2.7565552 & -3.0051652 & -0.001254575 & -0.25617104 &  1.03010236 &  0.5883838 &  2.5788242 &  3.0302946\\\\\n",
       "\t ARNT::HIF1A & No & Yes &  0.3273486 &  0.8879503 &  0.3463007 &  0.6437213 & -0.4228751 &  0.3061073 & -0.569705629 & -0.01452481 & -0.07988779 &  0.3860256 & -0.6696215 & -0.2358546\\\\\n",
       "\t ARNT2       & No & Yes & -0.4369646 &  0.8230277 &  0.2317603 & -0.2771520 & -1.2620006 &  0.1065155 & -1.980499557 & -2.41117116 & -0.66115140 & -0.6514473 &  1.3497916 &  1.3835475\\\\\n",
       "\t ASCL1       & No & Yes & -1.8865133 & -2.4921049 & -1.5194095 & -1.8064744 & -1.1076559 & -0.6505122 &  1.132335574 & -0.49695308 &  0.24476842 &  0.1323490 &  1.8266022 &  1.7238736\\\\\n",
       "\\end{tabular}\n"
      ],
      "text/markdown": [
       "\n",
       "A tibble: 6 × 15\n",
       "\n",
       "| gene_name &lt;chr&gt; | is_hit &lt;chr&gt; | is_tf &lt;chr&gt; | A1 &lt;dbl&gt; | A2 &lt;dbl&gt; | A3 &lt;dbl&gt; | A4 &lt;dbl&gt; | A5 &lt;dbl&gt; | A6 &lt;dbl&gt; | A7 &lt;dbl&gt; | A8 &lt;dbl&gt; | A9 &lt;dbl&gt; | A10 &lt;dbl&gt; | A11 &lt;dbl&gt; | A12 &lt;dbl&gt; |\n",
       "|---|---|---|---|---|---|---|---|---|---|---|---|---|---|---|\n",
       "| ALX3        | No | Yes | -1.6384447 | -2.8446575 | -1.8827820 | -2.0961426 | -2.4567807 | -1.8130310 |  0.019649268 |  0.45831325 |  0.11274948 |  0.4392262 |  2.0574681 |  2.4345177 |\n",
       "| AR          | No | Yes | -1.8444513 | -1.2043915 | -1.3958242 | -1.4052146 | -1.0476070 | -0.7026961 |  0.996668890 | -0.08521765 |  1.58243067 |  1.4792939 |  0.9980039 |  0.1986967 |\n",
       "| ARGFX       | No | Yes | -2.1638243 | -2.7691897 | -2.1060805 | -2.0190687 | -2.7565552 | -3.0051652 | -0.001254575 | -0.25617104 |  1.03010236 |  0.5883838 |  2.5788242 |  3.0302946 |\n",
       "| ARNT::HIF1A | No | Yes |  0.3273486 |  0.8879503 |  0.3463007 |  0.6437213 | -0.4228751 |  0.3061073 | -0.569705629 | -0.01452481 | -0.07988779 |  0.3860256 | -0.6696215 | -0.2358546 |\n",
       "| ARNT2       | No | Yes | -0.4369646 |  0.8230277 |  0.2317603 | -0.2771520 | -1.2620006 |  0.1065155 | -1.980499557 | -2.41117116 | -0.66115140 | -0.6514473 |  1.3497916 |  1.3835475 |\n",
       "| ASCL1       | No | Yes | -1.8865133 | -2.4921049 | -1.5194095 | -1.8064744 | -1.1076559 | -0.6505122 |  1.132335574 | -0.49695308 |  0.24476842 |  0.1323490 |  1.8266022 |  1.7238736 |\n",
       "\n"
      ],
      "text/plain": [
       "  gene_name   is_hit is_tf A1         A2         A3         A4        \n",
       "1 ALX3        No     Yes   -1.6384447 -2.8446575 -1.8827820 -2.0961426\n",
       "2 AR          No     Yes   -1.8444513 -1.2043915 -1.3958242 -1.4052146\n",
       "3 ARGFX       No     Yes   -2.1638243 -2.7691897 -2.1060805 -2.0190687\n",
       "4 ARNT::HIF1A No     Yes    0.3273486  0.8879503  0.3463007  0.6437213\n",
       "5 ARNT2       No     Yes   -0.4369646  0.8230277  0.2317603 -0.2771520\n",
       "6 ASCL1       No     Yes   -1.8865133 -2.4921049 -1.5194095 -1.8064744\n",
       "  A5         A6         A7           A8          A9          A10       \n",
       "1 -2.4567807 -1.8130310  0.019649268  0.45831325  0.11274948  0.4392262\n",
       "2 -1.0476070 -0.7026961  0.996668890 -0.08521765  1.58243067  1.4792939\n",
       "3 -2.7565552 -3.0051652 -0.001254575 -0.25617104  1.03010236  0.5883838\n",
       "4 -0.4228751  0.3061073 -0.569705629 -0.01452481 -0.07988779  0.3860256\n",
       "5 -1.2620006  0.1065155 -1.980499557 -2.41117116 -0.66115140 -0.6514473\n",
       "6 -1.1076559 -0.6505122  1.132335574 -0.49695308  0.24476842  0.1323490\n",
       "  A11        A12       \n",
       "1  2.0574681  2.4345177\n",
       "2  0.9980039  0.1986967\n",
       "3  2.5788242  3.0302946\n",
       "4 -0.6696215 -0.2358546\n",
       "5  1.3497916  1.3835475\n",
       "6  1.8266022  1.7238736"
      ]
     },
     "metadata": {},
     "output_type": "display_data"
    }
   ],
   "source": [
    "dev.scores %>% head"
   ]
  },
  {
   "cell_type": "code",
   "execution_count": 17,
   "metadata": {
    "ExecuteTime": {
     "end_time": "2019-10-31T20:12:41.696944Z",
     "start_time": "2019-10-31T20:12:38.916Z"
    }
   },
   "outputs": [
    {
     "name": "stderr",
     "output_type": "stream",
     "text": [
      "\n",
      "Attaching package: ‘gridExtra’\n",
      "\n",
      "The following object is masked from ‘package:Biobase’:\n",
      "\n",
      "    combine\n",
      "\n",
      "The following object is masked from ‘package:BiocGenerics’:\n",
      "\n",
      "    combine\n",
      "\n",
      "The following object is masked from ‘package:dplyr’:\n",
      "\n",
      "    combine\n",
      "\n"
     ]
    }
   ],
   "source": [
    "library(gridExtra)\n",
    "#grid.arrange(p1, p2, ncol=2)"
   ]
  },
  {
   "cell_type": "code",
   "execution_count": 18,
   "metadata": {
    "ExecuteTime": {
     "end_time": "2019-10-31T20:15:47.287636Z",
     "start_time": "2019-10-31T20:15:44.521Z"
    }
   },
   "outputs": [],
   "source": [
    "g1 <- ggplot(dev.scores) + geom_histogram(aes(x=A1)) + xlim(c(-5,5))\n",
    "g2 <- ggplot(dev.scores) + geom_histogram(aes(x=A3))  + xlim(c(-5,5))\n",
    "g3 <- ggplot(dev.scores) + geom_histogram(aes(x=A5)) + xlim(c(-5,5))\n",
    "g4 <- ggplot(dev.scores) + geom_histogram(aes(x=A7)) + xlim(c(-5,5))\n",
    "g5 <- ggplot(dev.scores) + geom_histogram(aes(x=A9)) + xlim(c(-5,5))\n",
    "g6 <- ggplot(dev.scores) + geom_histogram(aes(x=A11)) + xlim(c(-5,5))"
   ]
  },
  {
   "cell_type": "code",
   "execution_count": 19,
   "metadata": {
    "ExecuteTime": {
     "end_time": "2019-10-31T20:15:51.137266Z",
     "start_time": "2019-10-31T20:15:47.049Z"
    }
   },
   "outputs": [
    {
     "name": "stderr",
     "output_type": "stream",
     "text": [
      "`stat_bin()` using `bins = 30`. Pick better value with `binwidth`.\n",
      "Warning message:\n",
      "“Removed 6 rows containing non-finite values (stat_bin).”`stat_bin()` using `bins = 30`. Pick better value with `binwidth`.\n",
      "Warning message:\n",
      "“Removed 4 rows containing non-finite values (stat_bin).”`stat_bin()` using `bins = 30`. Pick better value with `binwidth`.\n",
      "`stat_bin()` using `bins = 30`. Pick better value with `binwidth`.\n",
      "`stat_bin()` using `bins = 30`. Pick better value with `binwidth`.\n",
      "Warning message:\n",
      "“Removed 1 rows containing non-finite values (stat_bin).”`stat_bin()` using `bins = 30`. Pick better value with `binwidth`.\n",
      "Warning message:\n",
      "“Removed 2 rows containing non-finite values (stat_bin).”"
     ]
    },
    {
     "data": {
      "image/png": "[encoded data removed]",
      "text/plain": [
       "plot without title"
      ]
     },
     "metadata": {},
     "output_type": "display_data"
    }
   ],
   "source": [
    "grid.arrange(g1, g2, g3, g4, g5, g6, ncol=2)"
   ]
  },
  {
   "cell_type": "markdown",
   "metadata": {},
   "source": [
    "**ZBTB18 sequence logo**"
   ]
  },
  {
   "cell_type": "code",
   "execution_count": 20,
   "metadata": {},
   "outputs": [
    {
     "data": {
      "image/png": "[encoded data removed]",
      "text/plain": [
       "plot without title"
      ]
     },
     "metadata": {},
     "output_type": "display_data"
    }
   ],
   "source": [
    "#sequence logo for ZBTB18\n",
    "mx <- toPWM(Matrix(jaspar_2020)$ZBTB18, \"prob\" )\n",
    "seqLogo::seqLogo(mx)"
   ]
  },
  {
   "cell_type": "markdown",
   "metadata": {},
   "source": [
    "## Find TF targets\n",
    "\n",
    "Use motifMatchr to match all promoter region first. Then intersect ATACseq peaks with promoter region (that are matched with a certain motif). The result is a list of peaks from ATACseq that belong to a list of genes' promoter region, with which the motif(TF) can bind to. In otherwords, given a TF motif, we now have a list of genes that have been assayed to show different binding accessibility to the TF motif. \n",
    "\n",
    "zbtb18 motif ID `MA0698.1`"
   ]
  },
  {
   "cell_type": "markdown",
   "metadata": {},
   "source": [
    "##### Support functions for this section \n"
   ]
  },
  {
   "cell_type": "code",
   "execution_count": 11,
   "metadata": {},
   "outputs": [],
   "source": [
    "getSubjectGRanges <- function(feature.granges, matchMotifResult, motif_id) {\n",
    "    # inputs:\n",
    "    # feature.granges = GRange object of feature, e.g. promoter\n",
    "    # matchMotifResult - matchMotifs result of feature region, and motifs\n",
    "    # motif.db - motifs, such as jaspar 2018 motifs\n",
    "    # hitgenelist - hit gene list, a vector\n",
    "    # motif_lookup - motif look up dataframe, indicating whether a motif is hit or not, and gene name\n",
    "    # outputs:\n",
    "    # matched_features: the GRange object of features that match to the specified motif (motif_id)\n",
    "    \n",
    "    motif_matches_matrix <- motifMatches(matchMotifResult) # matrix of matching motifs and peak GRanges\n",
    "    motif_match_per_feature_idx <- motif_matches_matrix[, motif_id] %>% as.matrix %>% which # row index of matched feature granges\n",
    "    matched_features <- feature.granges[motif_match_per_feature_idx]\n",
    "    return(matched_features) # return feature promoter (GRanges) that match to JASPAR motifs\n",
    "}"
   ]
  },
  {
   "cell_type": "code",
   "execution_count": 12,
   "metadata": {
    "ExecuteTime": {
     "end_time": "2019-10-31T02:07:33.952658Z",
     "start_time": "2019-10-31T02:07:33.922Z"
    }
   },
   "outputs": [],
   "source": [
    "findDeviationPerTarget <- function(devScore.peak, motif_ix, motif_id, feature_granges, min.overlap = 10, hitgenelist) {\n",
    "    # inputs:\n",
    "    # deviationResult: chromVar computed deviation\n",
    "    # fragment.counts: RangedSummarizedExperiment from chromVAR, including filtered peaks and readcounts\n",
    "    # subject.granges: GRange object that you want to intersect with. For example, Promoter ranges. Note, it should have gene_name or gene_id included in mcols\n",
    "    # min.overlap: minimum overlap for GenomicRanges::findOverlaps method\n",
    "    # output: \n",
    "    # deviation.score.per.target: given genomic feature region, e.g. promoter region that maps to ZBTB18 motif, chromVAR deviation results, and fragment counts, report the genes \n",
    "    # that are potential targets of the given motif (determined by subject.granges), and report deviation score.\n",
    "    \n",
    "    peak_idx <- which(motif_mx[, motif_id])  # indices of peaks that match a particular motif\n",
    "    devScore.peak.motif <- devScore.peak[peak_idx] # deviation scores of peaks that match to a particular motif\n",
    "    \n",
    "    # find overlap between query (a motif matched peak set), and subject (such as promoters)\n",
    "    hitTarget.overlap <- GenomicRanges::findOverlaps(query = devScore.peak.motif, subject = feature_granges, minoverlap = min.overlap, ignore.strand = T)\n",
    "    \n",
    "    # get gene_names from the feature granges\n",
    "    gene_names <- feature_granges[subjectHits(hitTarget.overlap)] %>%\n",
    "                    elementMetadata %>% \n",
    "                    as.data.frame %>% \n",
    "                    pull(gene_name)\n",
    "    \n",
    "    # concatenate overlap results (peaks that are within promoter or gene regions). \n",
    "    # Output dataframe includes peaks that are within genomic feature in subject.granges, and its annotation (gene_name)\n",
    "    target_devScore.peak.motif <- devScore.peak.motif[queryHits(hitTarget.overlap)] %>% \n",
    "                                    mcols  %>% # deviation scores stored in mcols \n",
    "                                    as.data.frame %>% \n",
    "                                    add_column('gene_name' = gene_names) %>% \n",
    "                                    dplyr::select(A1:gene_name) %>% \n",
    "                                    filter(gene_name %in% hitgenelist) %>% \n",
    "                                    group_by(gene_name) %>% \n",
    "                                    summarise_all(sum) %>% \n",
    "                                    arrange(gene_name)\n",
    "    return(target_devScore.peak.motif)\n",
    "}"
   ]
  },
  {
   "cell_type": "code",
   "execution_count": 13,
   "metadata": {},
   "outputs": [],
   "source": [
    "getHitTF <- function(dev.score.df, motif_lookup, A.cols, B.cols) {\n",
    "    ######################### FUNCTION: \n",
    "    #### Select Hit TF's motifs that has increasing deviation scores, return a list of such motif names\n",
    "    # dev.score.df: deviation scores matrix\n",
    "    # A.cols: vector, the column names of ES, eg. c(\"A1\",\"A2\")\n",
    "    # B.cols: vector, the column names of another time point, eg. c(\"A11\",\"A12\")\n",
    "    \n",
    "    dev.scores.hit <- dev.score.df %>% filter(is_hit == \"Yes\") %>% dplyr::select(gene_name, A.cols, B.cols)\n",
    "\n",
    "    # calculate mean difference between two time points\n",
    "    dev.mean.A <- dplyr::select(dev.scores.hit, A.cols) %>% apply(MARGIN = 1, mean) # mean of time point A\n",
    "    dev.mean.B <- dplyr::select(dev.scores.hit, B.cols) %>% apply(MARGIN = 1, mean) # mean of time point B\n",
    "    dev.BvsA <- dev.mean.B - dev.mean.A # B - A\n",
    "    dev.scores.hit <- add_column(dev.scores.hit, \"B_A\"= dev.BvsA) # add difference of means as a column\n",
    "\n",
    "    # select TF motifs that have increasing accessibility\n",
    "    TF <- dev.scores.hit %>% dplyr::filter(dev.BvsA > 0) %>% pull(gene_name)\n",
    "    TF_motif_ids <- motif_lookup %>% filter(gene_name %in% TF) %>% pull(motif)\n",
    "    return(TF_motif_ids) # return hit TF jaspar motif name\n",
    "}"
   ]
  },
  {
   "cell_type": "code",
   "execution_count": 14,
   "metadata": {},
   "outputs": [],
   "source": [
    "getTargetDeviationScore <- function(TF_motif_ids, devScore.peak, motif_ix, feature_granges, min.overlap = 10, hitgenelist, A.cols, B.cols, motif_lookup) {\n",
    "    ######################### FUNCTION: \n",
    "    #### Based on previously selected TF_motif_id, find the genes that has peaks in its promoter region (or feature region) that\n",
    "    #### have matches to given jaspar motif. Result is a dataframe of Source TF name and Target Gene name (TF could bind to based on motif match).\n",
    "    #### Return dataframe columns: 1. TF 2. target 3. deviation difference at given time point (eg. 5D - ES)\n",
    "    # TF_motif_ids: a vector of motif names\n",
    "    # devScore.peak: peak's deviation scores calculated earlier\n",
    "    # motif_ix: each peak's motif matching result\n",
    "    # feature_granges: a GRange object of features, e.g. promoters\n",
    "    # hitgenelist: list of git genes\n",
    "    # A.cols: eg. for ES: c(\"A1\", \"A2\")\n",
    "    # B.cols: eg. for 5D: c(\"A11\", \"A12\")\n",
    "    # motif_lookup: motif_lookup dataframe\n",
    "    \n",
    "    target_genes <- list()\n",
    "    for (motif_id in TF_motif_ids) {\n",
    "        target <- findDeviationPerTarget(devScore.peak = devScore.peak, motif_ix = motif_ix, motif_id = motif_id, feature_granges = feature_granges, min.overlap = min.overlap, hitgenelist = hitgenelist)\n",
    "        target.A.mean <- target %>% dplyr::select(A.cols) %>% apply(1, mean)\n",
    "        target.B.mean <- target %>% dplyr::select(B.cols) %>% apply(1, mean)\n",
    "        target.BvsA <- target.B.mean - target.A.mean\n",
    "        target <- target %>% add_column(\"B_A\"=target.BvsA)\n",
    "        target <- target %>% filter(`B_A` > 0)\n",
    "        target_genes[[motif_lookup[motif_lookup$motif == motif_id,'gene_name']]] <- target\n",
    "    }\n",
    "    # expand list to dataframe\n",
    "    target_genes.df <- do.call(rbind,target_genes)\n",
    "    target_genes.df <- target_genes.df %>% rownames_to_column(\"TF\") %>% mutate_at(\"TF\", ~ str_remove(.x, \"\\\\.[0-9]+$\"))\n",
    "    return(target_genes.df) \n",
    "}"
   ]
  },
  {
   "cell_type": "code",
   "execution_count": 59,
   "metadata": {},
   "outputs": [],
   "source": [
    "combineRnaProfileWithAtac <- function(target_genes.df, RNA_temporal_file) {\n",
    "    ######################### FUNCTION: \n",
    "    #### Taking the RNA seq temporal expression profile (code 1 - 31), and augment the TF-Target deviation score change dataframe.\n",
    "    #### Returning a dataframe with source and target gene expression temporal profile\n",
    "    # target_genes.df - returned dataframe from getTargetDeviationScore function\n",
    "    # RNA_temporal_file - \"../RNAseq_WT_temporal.csv\"\n",
    "    \n",
    "    rna_temporal <- read.table(RNA_temporal_file, sep = \",\", stringsAsFactors = F, header=T)\n",
    "    tf_target_intera <- target_genes.df %>% dplyr::select(TF, gene_name, B_A)\n",
    "    out.nodes <- tf_target_intera %>% pull(TF) %>% unique\n",
    "    in.nodes <- tf_target_intera %>% pull(gene_name) %>% unique\n",
    "    all.nodes <- c(out.nodes, in.nodes) %>% unique\n",
    "    \n",
    "    tf_target_intera <- tf_target_intera %>% left_join(rna_temporal[,2:3], by = c(\"TF\" = \"gene_name\")) %>%\n",
    "                        rename(\"B_A\"=\"devS.dif\", \"expr.flag\"=\"source.temporal\") %>%\n",
    "                        left_join(rna_temporal[,2:3], by = c(\"gene_name\" = \"gene_name\")) %>%\n",
    "                        rename(\"expr.flag\"=\"target.temporal\")\n",
    "    return(tf_target_intera)\n",
    "}"
   ]
  },
  {
   "cell_type": "code",
   "execution_count": 53,
   "metadata": {},
   "outputs": [],
   "source": [
    "rna_temporal <- read.table(\"../RNAseq_WT_temporal.csv\", sep = \",\", stringsAsFactors = F, header=T)"
   ]
  },
  {
   "cell_type": "markdown",
   "metadata": {},
   "source": [
    "##### 1 First load motifs and calculate peak deviation score"
   ]
  },
  {
   "cell_type": "code",
   "execution_count": 16,
   "metadata": {},
   "outputs": [],
   "source": [
    "# use previous loaded jaspar_2020\n",
    "# use previous calculated motif_ix"
   ]
  },
  {
   "cell_type": "code",
   "execution_count": 17,
   "metadata": {},
   "outputs": [
    {
     "name": "stderr",
     "output_type": "stream",
     "text": [
      "Annotations not provided, so chromVAR being run on individual peaks...\n"
     ]
    }
   ],
   "source": [
    "# calculate deviation scores for each peak\n",
    "dev.peak <- computeDeviations(object = fragment_counts.filtered)"
   ]
  },
  {
   "cell_type": "code",
   "execution_count": 18,
   "metadata": {},
   "outputs": [],
   "source": [
    "motif_mx <- motifMatches(motif_ix)"
   ]
  },
  {
   "cell_type": "code",
   "execution_count": 19,
   "metadata": {},
   "outputs": [],
   "source": [
    "# get deviation score per peak\n",
    "devScore.peak <- deviationScores(dev.peak)\n",
    "\n",
    "# Above dataframe doesn't have peak coordinates. Thus get coordinates\n",
    "devScore.peak <- rowRanges(motif_ix) %>% as.data.frame %>%\n",
    "                        dplyr::select(seqnames, start, end) %>%\n",
    "                        cbind(devScore.peak) %>%\n",
    "                        makeGRangesFromDataFrame(keep.extra.columns = T)"
   ]
  },
  {
   "cell_type": "markdown",
   "metadata": {},
   "source": [
    "##### 2 Then get GRanges of the promoters that match interested TF motifs"
   ]
  },
  {
   "cell_type": "code",
   "execution_count": 20,
   "metadata": {},
   "outputs": [],
   "source": [
    "# get annotated promoter region bed\n",
    "promoter_region <- read.table(\"Protein_coding_gene_promoters_V2.bed\", header = F, stringsAsFactors = F, \n",
    "                              col.names = c(\"seqname\",\"start\",\"end\",\"gene_id\",\"gene_name\",\"strand\")) %>% \n",
    "                                dplyr::select(seqname, start, end, strand, gene_id, gene_name)\n",
    "# convert to GRanges object\n",
    "promoter_region <- GenomicRanges::makeGRangesFromDataFrame(promoter_region, keep.extra.columns = T)"
   ]
  },
  {
   "cell_type": "markdown",
   "metadata": {},
   "source": [
    "#### 3 For each time point:\n",
    "- get TF of interest\n",
    "- get binding targets of each TF, that are within promoter region\n",
    "- get diviation scores of such target genes\n",
    "- get pair-wise (TF-Target) diviation score change for each time point (Get only positive changing pairs)\n",
    "- agument with RNA temporal profile\n",
    "- save to csv"
   ]
  },
  {
   "cell_type": "code",
   "execution_count": 49,
   "metadata": {},
   "outputs": [],
   "source": [
    "A_cols <- c(\"A1\", \"A2\")\n",
    "B_cols <- list(\"H1_ES\"=c(\"A3\", \"A4\"), \"H4_ES\"=c(\"A5\", \"A6\"), \"H16_ES\"=c(\"A7\", \"A8\"), \"D1_ES\"=c(\"A9\", \"A10\"), \"D5_ES\"=c(\"A11\", \"A12\"))"
   ]
  },
  {
   "cell_type": "code",
   "execution_count": 62,
   "metadata": {},
   "outputs": [
    {
     "name": "stdout",
     "output_type": "stream",
     "text": [
      "[1] \"H1_ES\"\n",
      "[1] \"H4_ES\"\n",
      "[1] \"H16_ES\"\n",
      "[1] \"D1_ES\"\n",
      "[1] \"D5_ES\"\n"
     ]
    }
   ],
   "source": [
    "for (timepoint in names(B_cols)) {\n",
    "    print(timepoint)\n",
    "    source_tf_motif_names <- getHitTF(dev.score.df = dev.scores, motif_lookup = motif_lookup, A.cols = A_cols, B.cols = B_cols[[timepoint]])\n",
    "    targets_devs_diff <- getTargetDeviationScore(TF_motif_ids = source_tf_motif_names, devScore.peak = devScore.peak, motif_ix = motif_ix, \n",
    "                                                 feature_granges = promoter_region,min.overlap = 10, hitgenelist = hitlist, \n",
    "                                                 A.cols = A_cols, B.cols = B_cols[[timepoint]], motif_lookup = motif_lookup)\n",
    "    tf_target_interaction <- combineRnaProfileWithAtac(target_genes.df = targets_devs_diff, RNA_temporal_file = \"../RNAseq_WT_temporal.csv\")\n",
    "    outfile <- paste0(\"TF_target_interactions_with_RNAseq_\", str_extract(timepoint, \"[A-Z0-9]+\"), \".csv\")\n",
    "    write.table(tf_target_interaction, outfile, sep = \",\", row.names = F, col.names = T, quote = F)\n",
    "}"
   ]
  },
  {
   "cell_type": "markdown",
   "metadata": {},
   "source": [
    "*Manual version of above steps*\n",
    "#### 3a 5D vs. ES: Get motif list of interest."
   ]
  },
  {
   "cell_type": "markdown",
   "metadata": {},
   "source": [
    "*A list of TF motifs that are increasing accessibility at D5 vs ES:*"
   ]
  },
  {
   "cell_type": "code",
   "execution_count": 66,
   "metadata": {
    "ExecuteTime": {
     "end_time": "2019-10-31T03:03:47.490158Z",
     "start_time": "2019-10-31T03:03:47.422Z"
    }
   },
   "outputs": [],
   "source": [
    "# deviation scores for just 5D vs ES for hit TF motifs\n",
    "dev.scores.ES_5D.hit <- dev.scores %>%  filter(is_hit == \"Yes\") %>% dplyr::select(gene_name, A1:A2, A11:A12)\n",
    "\n",
    "# calculate mean difference between two time points\n",
    "dev.ES.mean <- dev.scores.ES_5D.hit[,2:3] %>% apply(MARGIN = 1, mean)\n",
    "dev.5D.mean <- dev.scores.ES_5D.hit[,4:5] %>% apply(MARGIN = 1, mean)\n",
    "dev.5D_sub_ES <- dev.5D.mean - dev.ES.mean\n",
    "dev.scores.ES_5D.hit <- dev.scores.ES_5D.hit %>% add_column(\"5D-ES\"=dev.5D_sub_ES)\n",
    "\n",
    "# select TF motifs that have increasing accessibility\n",
    "TF <- dev.scores.ES_5D.hit %>% filter(`5D-ES` > 0) %>% pull(gene_name)\n",
    "TF_motif_ids <- motif_lookup %>% filter(gene_name %in% TF) %>% pull(motif)"
   ]
  },
  {
   "cell_type": "markdown",
   "metadata": {},
   "source": [
    "For each interested TF motif, get its target gene's deviation score"
   ]
  },
  {
   "cell_type": "code",
   "execution_count": 67,
   "metadata": {
    "ExecuteTime": {
     "end_time": "2019-10-31T03:03:52.189164Z",
     "start_time": "2019-10-31T03:03:48.597Z"
    }
   },
   "outputs": [],
   "source": [
    "target_genes <- list()\n",
    "\n",
    "for (motif_id in TF_motif_ids) {\n",
    "    target <- findDeviationPerTarget(devScore.peak = devScore.peak, motif_ix = motif_ix, motif_id = motif_id, feature_granges = promoter_region, min.overlap = 10, hitgenelist = hitlist)\n",
    "    target.ES.mean <- target %>% dplyr::select(A1,A2) %>% apply(1, mean)\n",
    "    target.5D.mean <- target %>% dplyr::select(A11,A12) %>% apply(1, mean)\n",
    "    target.5D_sub_ES <- target.5D.mean - target.ES.mean\n",
    "    target <- target %>% add_column(\"5D_ES\"=target.5D_sub_ES)\n",
    "    target <- target %>% filter(`5D_ES` > 0)\n",
    "    target_genes[[motif_lookup[motif_lookup$motif == motif_id,'gene_name']]] <- target\n",
    "}\n",
    "\n",
    "# expand list to dataframe\n",
    "target_genes.df <- do.call(rbind,target_genes)\n",
    "target_genes.df <- target_genes.df %>% rownames_to_column(\"TF\") %>% mutate_at(\"TF\", ~ str_remove(.x, \"\\\\.[0-9]+$\"))"
   ]
  },
  {
   "cell_type": "raw",
   "metadata": {
    "ExecuteTime": {
     "end_time": "2019-10-31T02:39:33.783250Z",
     "start_time": "2019-10-31T02:39:33.744Z"
    }
   },
   "source": [
    "target_genes.df %>% write.table(\"TF_target_interactions_all_v2_5D.csv\", sep = \",\", row.names = F, col.names = T, quote = F)"
   ]
  },
  {
   "cell_type": "raw",
   "metadata": {
    "ExecuteTime": {
     "end_time": "2019-10-31T02:39:36.874229Z",
     "start_time": "2019-10-31T02:39:36.831Z"
    }
   },
   "source": [
    "target_genes.df %>% dplyr::select(TF, gene_name, `5D_ES`) %>% write.table(\"TF_target_interactions_v2_5D.csv\", sep = \",\", row.names = F, col.names = T, quote = F)"
   ]
  },
  {
   "cell_type": "code",
   "execution_count": 69,
   "metadata": {},
   "outputs": [
    {
     "data": {
      "text/html": [
       "<table>\n",
       "<caption>A tibble: 5 × 15</caption>\n",
       "<thead>\n",
       "\t<tr><th scope=col>TF</th><th scope=col>gene_name</th><th scope=col>A1</th><th scope=col>A2</th><th scope=col>A3</th><th scope=col>A4</th><th scope=col>A5</th><th scope=col>A6</th><th scope=col>A7</th><th scope=col>A8</th><th scope=col>A9</th><th scope=col>A10</th><th scope=col>A11</th><th scope=col>A12</th><th scope=col>5D_ES</th></tr>\n",
       "\t<tr><th scope=col>&lt;chr&gt;</th><th scope=col>&lt;chr&gt;</th><th scope=col>&lt;dbl&gt;</th><th scope=col>&lt;dbl&gt;</th><th scope=col>&lt;dbl&gt;</th><th scope=col>&lt;dbl&gt;</th><th scope=col>&lt;dbl&gt;</th><th scope=col>&lt;dbl&gt;</th><th scope=col>&lt;dbl&gt;</th><th scope=col>&lt;dbl&gt;</th><th scope=col>&lt;dbl&gt;</th><th scope=col>&lt;dbl&gt;</th><th scope=col>&lt;dbl&gt;</th><th scope=col>&lt;dbl&gt;</th><th scope=col>&lt;dbl&gt;</th></tr>\n",
       "</thead>\n",
       "<tbody>\n",
       "\t<tr><td>ZBTB18</td><td>ASB1   </td><td>-1.8858189</td><td>-0.9228178</td><td>-0.01104276</td><td>-0.9444771</td><td>-1.4735481</td><td>-1.3234762</td><td>-0.4397580</td><td>-2.1088181</td><td>-0.9030400</td><td>-0.19124735</td><td>2.79472444</td><td> 2.9515949</td><td>4.2774780</td></tr>\n",
       "\t<tr><td>ZBTB18</td><td>NEUROG3</td><td>-0.9259605</td><td> 0.8984119</td><td> 0.67405247</td><td> 0.3587213</td><td>-0.2440216</td><td>-0.3941011</td><td>-2.0698751</td><td> 0.1961931</td><td> 0.6606385</td><td>-0.71853576</td><td>0.03955371</td><td> 0.2002458</td><td>0.1336740</td></tr>\n",
       "\t<tr><td>ZBTB18</td><td>SNAI2  </td><td>-0.2965848</td><td>-0.7137229</td><td>-2.19013102</td><td> 0.6895857</td><td>-1.0772203</td><td> 0.5380495</td><td>-1.1356099</td><td> 0.2759903</td><td>-0.5846649</td><td>-1.00955340</td><td>0.76243340</td><td> 1.1815794</td><td>1.4771602</td></tr>\n",
       "\t<tr><td>ZBTB18</td><td>ZBTB18 </td><td>-1.1495754</td><td>-1.4392789</td><td>-0.90574768</td><td>-1.0290373</td><td>-1.6251045</td><td> 0.2082278</td><td>-0.2528989</td><td> 1.2864422</td><td> 1.4880309</td><td> 0.09788326</td><td>1.10749545</td><td>-0.5541955</td><td>1.5710771</td></tr>\n",
       "\t<tr><td>ZBTB18</td><td>ZNF136 </td><td>-0.6579076</td><td> 0.1267606</td><td>-0.23304116</td><td>-0.9511228</td><td>-0.6405848</td><td> 0.1396195</td><td> 0.9509900</td><td>-0.7570244</td><td> 0.1627870</td><td>-0.93639633</td><td>0.31786209</td><td> 0.7152565</td><td>0.7821328</td></tr>\n",
       "</tbody>\n",
       "</table>\n"
      ],
      "text/latex": [
       "A tibble: 5 × 15\n",
       "\\begin{tabular}{r|lllllllllllllll}\n",
       " TF & gene\\_name & A1 & A2 & A3 & A4 & A5 & A6 & A7 & A8 & A9 & A10 & A11 & A12 & 5D\\_ES\\\\\n",
       " <chr> & <chr> & <dbl> & <dbl> & <dbl> & <dbl> & <dbl> & <dbl> & <dbl> & <dbl> & <dbl> & <dbl> & <dbl> & <dbl> & <dbl>\\\\\n",
       "\\hline\n",
       "\t ZBTB18 & ASB1    & -1.8858189 & -0.9228178 & -0.01104276 & -0.9444771 & -1.4735481 & -1.3234762 & -0.4397580 & -2.1088181 & -0.9030400 & -0.19124735 & 2.79472444 &  2.9515949 & 4.2774780\\\\\n",
       "\t ZBTB18 & NEUROG3 & -0.9259605 &  0.8984119 &  0.67405247 &  0.3587213 & -0.2440216 & -0.3941011 & -2.0698751 &  0.1961931 &  0.6606385 & -0.71853576 & 0.03955371 &  0.2002458 & 0.1336740\\\\\n",
       "\t ZBTB18 & SNAI2   & -0.2965848 & -0.7137229 & -2.19013102 &  0.6895857 & -1.0772203 &  0.5380495 & -1.1356099 &  0.2759903 & -0.5846649 & -1.00955340 & 0.76243340 &  1.1815794 & 1.4771602\\\\\n",
       "\t ZBTB18 & ZBTB18  & -1.1495754 & -1.4392789 & -0.90574768 & -1.0290373 & -1.6251045 &  0.2082278 & -0.2528989 &  1.2864422 &  1.4880309 &  0.09788326 & 1.10749545 & -0.5541955 & 1.5710771\\\\\n",
       "\t ZBTB18 & ZNF136  & -0.6579076 &  0.1267606 & -0.23304116 & -0.9511228 & -0.6405848 &  0.1396195 &  0.9509900 & -0.7570244 &  0.1627870 & -0.93639633 & 0.31786209 &  0.7152565 & 0.7821328\\\\\n",
       "\\end{tabular}\n"
      ],
      "text/markdown": [
       "\n",
       "A tibble: 5 × 15\n",
       "\n",
       "| TF &lt;chr&gt; | gene_name &lt;chr&gt; | A1 &lt;dbl&gt; | A2 &lt;dbl&gt; | A3 &lt;dbl&gt; | A4 &lt;dbl&gt; | A5 &lt;dbl&gt; | A6 &lt;dbl&gt; | A7 &lt;dbl&gt; | A8 &lt;dbl&gt; | A9 &lt;dbl&gt; | A10 &lt;dbl&gt; | A11 &lt;dbl&gt; | A12 &lt;dbl&gt; | 5D_ES &lt;dbl&gt; |\n",
       "|---|---|---|---|---|---|---|---|---|---|---|---|---|---|---|\n",
       "| ZBTB18 | ASB1    | -1.8858189 | -0.9228178 | -0.01104276 | -0.9444771 | -1.4735481 | -1.3234762 | -0.4397580 | -2.1088181 | -0.9030400 | -0.19124735 | 2.79472444 |  2.9515949 | 4.2774780 |\n",
       "| ZBTB18 | NEUROG3 | -0.9259605 |  0.8984119 |  0.67405247 |  0.3587213 | -0.2440216 | -0.3941011 | -2.0698751 |  0.1961931 |  0.6606385 | -0.71853576 | 0.03955371 |  0.2002458 | 0.1336740 |\n",
       "| ZBTB18 | SNAI2   | -0.2965848 | -0.7137229 | -2.19013102 |  0.6895857 | -1.0772203 |  0.5380495 | -1.1356099 |  0.2759903 | -0.5846649 | -1.00955340 | 0.76243340 |  1.1815794 | 1.4771602 |\n",
       "| ZBTB18 | ZBTB18  | -1.1495754 | -1.4392789 | -0.90574768 | -1.0290373 | -1.6251045 |  0.2082278 | -0.2528989 |  1.2864422 |  1.4880309 |  0.09788326 | 1.10749545 | -0.5541955 | 1.5710771 |\n",
       "| ZBTB18 | ZNF136  | -0.6579076 |  0.1267606 | -0.23304116 | -0.9511228 | -0.6405848 |  0.1396195 |  0.9509900 | -0.7570244 |  0.1627870 | -0.93639633 | 0.31786209 |  0.7152565 | 0.7821328 |\n",
       "\n"
      ],
      "text/plain": [
       "  TF     gene_name A1         A2         A3          A4         A5        \n",
       "1 ZBTB18 ASB1      -1.8858189 -0.9228178 -0.01104276 -0.9444771 -1.4735481\n",
       "2 ZBTB18 NEUROG3   -0.9259605  0.8984119  0.67405247  0.3587213 -0.2440216\n",
       "3 ZBTB18 SNAI2     -0.2965848 -0.7137229 -2.19013102  0.6895857 -1.0772203\n",
       "4 ZBTB18 ZBTB18    -1.1495754 -1.4392789 -0.90574768 -1.0290373 -1.6251045\n",
       "5 ZBTB18 ZNF136    -0.6579076  0.1267606 -0.23304116 -0.9511228 -0.6405848\n",
       "  A6         A7         A8         A9         A10         A11        A12       \n",
       "1 -1.3234762 -0.4397580 -2.1088181 -0.9030400 -0.19124735 2.79472444  2.9515949\n",
       "2 -0.3941011 -2.0698751  0.1961931  0.6606385 -0.71853576 0.03955371  0.2002458\n",
       "3  0.5380495 -1.1356099  0.2759903 -0.5846649 -1.00955340 0.76243340  1.1815794\n",
       "4  0.2082278 -0.2528989  1.2864422  1.4880309  0.09788326 1.10749545 -0.5541955\n",
       "5  0.1396195  0.9509900 -0.7570244  0.1627870 -0.93639633 0.31786209  0.7152565\n",
       "  5D_ES    \n",
       "1 4.2774780\n",
       "2 0.1336740\n",
       "3 1.4771602\n",
       "4 1.5710771\n",
       "5 0.7821328"
      ]
     },
     "metadata": {},
     "output_type": "display_data"
    }
   ],
   "source": [
    "target_genes.df %>% filter(str_detect(TF, \"ZBTB\"))"
   ]
  },
  {
   "cell_type": "markdown",
   "metadata": {},
   "source": [
    "##### 5 Cross reference ATAC seq TF-Target interactions in RNA seq"
   ]
  },
  {
   "cell_type": "raw",
   "metadata": {
    "ExecuteTime": {
     "end_time": "2019-10-31T02:39:42.959247Z",
     "start_time": "2019-10-31T02:39:42.844Z"
    }
   },
   "source": [
    "# get RNA temporal profile\n",
    "rna_temporal <- read.table(\"../RNAseq_WT_temporal.csv\", sep = \",\", stringsAsFactors = F, header=T)\n",
    "\n",
    "tf_target_intera <- target_genes.df %>% dplyr::select(TF, gene_name, `5D_ES`)\n",
    "\n",
    "out.nodes <- tf_target_intera %>% pull(TF) %>% unique\n",
    "in.nodes <- tf_target_intera %>% pull(gene_name) %>% unique\n",
    "all.nodes <- c(out.nodes, in.nodes) %>% unique\n",
    "\n",
    "tf_target_intera %>% left_join(rna_temporal[,2:3], by = c(\"TF\" = \"gene_name\")) %>%\n",
    "                        rename(\"5D_ES\"=\"devS.dif\", \"expr.flag\"=\"source.temporal\") %>%\n",
    "                        left_join(rna_temporal[,2:3], by = c(\"gene_name\" = \"gene_name\")) %>%\n",
    "                        rename(\"expr.flag\"=\"target.temporal\") %>%\n",
    "                        write.table(\"TF_target_interactions_with_RNAseq_5D.csv\", sep = \",\", row.names = F, col.names = T, quote = F)"
   ]
  },
  {
   "cell_type": "markdown",
   "metadata": {},
   "source": [
    "---"
   ]
  },
  {
   "cell_type": "code",
   "execution_count": null,
   "metadata": {},
   "outputs": [],
   "source": []
  },
  {
   "cell_type": "code",
   "execution_count": 171,
   "metadata": {},
   "outputs": [
    {
     "data": {
      "text/html": [
       "<table>\n",
       "<caption>A data.frame: 1 × 16</caption>\n",
       "<thead>\n",
       "\t<tr><th scope=col>motif</th><th scope=col>A1</th><th scope=col>A2</th><th scope=col>A3</th><th scope=col>A4</th><th scope=col>A5</th><th scope=col>A6</th><th scope=col>A7</th><th scope=col>A8</th><th scope=col>A9</th><th scope=col>A10</th><th scope=col>A11</th><th scope=col>A12</th><th scope=col>gene_name</th><th scope=col>is_hit</th><th scope=col>is_tf</th></tr>\n",
       "\t<tr><th scope=col>&lt;chr&gt;</th><th scope=col>&lt;dbl&gt;</th><th scope=col>&lt;dbl&gt;</th><th scope=col>&lt;dbl&gt;</th><th scope=col>&lt;dbl&gt;</th><th scope=col>&lt;dbl&gt;</th><th scope=col>&lt;dbl&gt;</th><th scope=col>&lt;dbl&gt;</th><th scope=col>&lt;dbl&gt;</th><th scope=col>&lt;dbl&gt;</th><th scope=col>&lt;dbl&gt;</th><th scope=col>&lt;dbl&gt;</th><th scope=col>&lt;dbl&gt;</th><th scope=col>&lt;chr&gt;</th><th scope=col>&lt;chr&gt;</th><th scope=col>&lt;chr&gt;</th></tr>\n",
       "</thead>\n",
       "<tbody>\n",
       "\t<tr><td>MA0669.1</td><td>-2.927776</td><td>-4.872323</td><td>-3.301028</td><td>-3.906312</td><td>-3.868612</td><td>-1.627386</td><td>0.5470498</td><td>0.7853264</td><td>3.412203</td><td>2.425836</td><td>2.948557</td><td>1.619116</td><td>NEUROG2</td><td>No</td><td>Yes</td></tr>\n",
       "</tbody>\n",
       "</table>\n"
      ],
      "text/latex": [
       "A data.frame: 1 × 16\n",
       "\\begin{tabular}{r|llllllllllllllll}\n",
       " motif & A1 & A2 & A3 & A4 & A5 & A6 & A7 & A8 & A9 & A10 & A11 & A12 & gene\\_name & is\\_hit & is\\_tf\\\\\n",
       " <chr> & <dbl> & <dbl> & <dbl> & <dbl> & <dbl> & <dbl> & <dbl> & <dbl> & <dbl> & <dbl> & <dbl> & <dbl> & <chr> & <chr> & <chr>\\\\\n",
       "\\hline\n",
       "\t MA0669.1 & -2.927776 & -4.872323 & -3.301028 & -3.906312 & -3.868612 & -1.627386 & 0.5470498 & 0.7853264 & 3.412203 & 2.425836 & 2.948557 & 1.619116 & NEUROG2 & No & Yes\\\\\n",
       "\\end{tabular}\n"
      ],
      "text/markdown": [
       "\n",
       "A data.frame: 1 × 16\n",
       "\n",
       "| motif &lt;chr&gt; | A1 &lt;dbl&gt; | A2 &lt;dbl&gt; | A3 &lt;dbl&gt; | A4 &lt;dbl&gt; | A5 &lt;dbl&gt; | A6 &lt;dbl&gt; | A7 &lt;dbl&gt; | A8 &lt;dbl&gt; | A9 &lt;dbl&gt; | A10 &lt;dbl&gt; | A11 &lt;dbl&gt; | A12 &lt;dbl&gt; | gene_name &lt;chr&gt; | is_hit &lt;chr&gt; | is_tf &lt;chr&gt; |\n",
       "|---|---|---|---|---|---|---|---|---|---|---|---|---|---|---|---|\n",
       "| MA0669.1 | -2.927776 | -4.872323 | -3.301028 | -3.906312 | -3.868612 | -1.627386 | 0.5470498 | 0.7853264 | 3.412203 | 2.425836 | 2.948557 | 1.619116 | NEUROG2 | No | Yes |\n",
       "\n"
      ],
      "text/plain": [
       "  motif    A1        A2        A3        A4        A5        A6       \n",
       "1 MA0669.1 -2.927776 -4.872323 -3.301028 -3.906312 -3.868612 -1.627386\n",
       "  A7        A8        A9       A10      A11      A12      gene_name is_hit\n",
       "1 0.5470498 0.7853264 3.412203 2.425836 2.948557 1.619116 NEUROG2   No    \n",
       "  is_tf\n",
       "1 Yes  "
      ]
     },
     "metadata": {},
     "output_type": "display_data"
    }
   ],
   "source": [
    "dev.scores %>% filter(gene_name == \"NEUROG2\")"
   ]
  },
  {
   "cell_type": "raw",
   "metadata": {},
   "source": [
    "findDeviationPerTarget <- function(deviationResult, fragment.counts, subject.granges, min.overlap = 10, hitgenelist) {\n",
    "    # inputs:\n",
    "    # deviationResult: chromVar computed deviation\n",
    "    # fragment.counts: RangedSummarizedExperiment from chromVAR, including filtered peaks and readcounts\n",
    "    # subject.granges: GRange object that you want to intersect with. For example, Promoter ranges. Note, it should have gene_name or gene_id included in mcols\n",
    "    # min.overlap: minimum overlap for GenomicRanges::findOverlaps method\n",
    "    # output: \n",
    "    # deviation.score.per.target: given genomic feature region, e.g. promoter region that maps to ZBTB18 motif, chromVAR deviation results, and fragment counts, report the genes \n",
    "    # that are potential targets of the given motif (determined by subject.granges), and report deviation score.\n",
    "    \n",
    "    deviation.score <- deviationScores(deviationResult) # get deviation Z scores\n",
    "    # Dataframe to save the deviation scores of each peak, in all samples. Each peak having chr, star, end, A1-A12 (deviation scores) columns\n",
    "    deviation.score.per.peak <- fragment.counts@rowRanges %>% \n",
    "                                as.data.frame %>% dplyr::select(seqnames, start, end) %>% \n",
    "                                cbind(deviation.score %>% as.data.frame)\n",
    "    # convert above dataframe to Genomic Ranges object\n",
    "    deviation.score.per.peak <- GenomicRanges::makeGRangesFromDataFrame(deviation.score.per.peak, keep.extra.columns = T)\n",
    "    # find overlap between query (ATACseq peak set), and subject (motif matched feature set such as motif matched promoters)\n",
    "    hitTarget.overlap <- GenomicRanges::findOverlaps(query = deviation.score.per.peak, subject = subject.granges, minoverlap = min.overlap, ignore.strand = T)\n",
    "    # get gene_names of overlap\n",
    "    gene_names <- subject.granges[hitTarget.overlap %>% subjectHits] %>% elementMetadata %>% as.data.frame %>% pull(gene_name)\n",
    "    # concatenate overlap results (peaks that are within promoter or gene regions). \n",
    "    # Output dataframe includes peaks that are within genomic feature in subject.granges, and its annotation (gene_name)\n",
    "    deviation.score.per.target <- deviation.score.per.peak[hitTarget.overlap %>% queryHits] %>% \n",
    "                                    mcols  %>% as.data.frame %>% \n",
    "                                    add_column('gene_name' = gene_names) %>% \n",
    "                                    dplyr::select(A1:gene_name) %>% \n",
    "                                    filter(gene_name %in% hitgenelist) %>% \n",
    "                                    group_by(gene_name) %>% \n",
    "                                    summarise_all(sum) %>% \n",
    "                                    arrange(gene_name)\n",
    "    return(deviation.score.per.target)\n",
    "}"
   ]
  },
  {
   "cell_type": "markdown",
   "metadata": {},
   "source": [
    "### Statistics  on motif data"
   ]
  },
  {
   "cell_type": "code",
   "execution_count": 384,
   "metadata": {},
   "outputs": [
    {
     "data": {
      "text/html": [
       "567"
      ],
      "text/latex": [
       "567"
      ],
      "text/markdown": [
       "567"
      ],
      "text/plain": [
       "[1] 567"
      ]
     },
     "metadata": {},
     "output_type": "display_data"
    }
   ],
   "source": [
    "# total TFs\n",
    "jaspar_2020 %>% names %>% str_extract(\"[a-zA-Z0-9]+\") %>% unique %>% length"
   ]
  },
  {
   "cell_type": "code",
   "execution_count": 385,
   "metadata": {},
   "outputs": [
    {
     "data": {
      "text/html": [
       "639"
      ],
      "text/latex": [
       "639"
      ],
      "text/markdown": [
       "639"
      ],
      "text/plain": [
       "[1] 639"
      ]
     },
     "metadata": {},
     "output_type": "display_data"
    }
   ],
   "source": [
    "# total motifs\n",
    "jaspar_2020 %>% length"
   ]
  },
  {
   "cell_type": "code",
   "execution_count": 386,
   "metadata": {},
   "outputs": [
    {
     "data": {
      "text/html": [
       "57"
      ],
      "text/latex": [
       "57"
      ],
      "text/markdown": [
       "57"
      ],
      "text/plain": [
       "[1] 57"
      ]
     },
     "metadata": {},
     "output_type": "display_data"
    }
   ],
   "source": [
    "# number of motifs that are in hit list\n",
    "motif_lookup %>% filter(is_hit == \"Yes\") %>% pull(gene_name) %>% unique %>% length"
   ]
  },
  {
   "cell_type": "code",
   "execution_count": null,
   "metadata": {},
   "outputs": [],
   "source": []
  }
 ],
 "metadata": {
  "kernelspec": {
   "display_name": "R3.6",
   "language": "R",
   "name": "ir36"
  },
  "language_info": {
   "codemirror_mode": "r",
   "file_extension": ".r",
   "mimetype": "text/x-r-source",
   "name": "R",
   "pygments_lexer": "r",
   "version": "3.6.1"
  }
 },
 "nbformat": 4,
 "nbformat_minor": 2
}
