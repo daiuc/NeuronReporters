{
 "cells": [
  {
   "cell_type": "code",
   "execution_count": 1,
   "metadata": {},
   "outputs": [],
   "source": [
    "library(repr)\n",
    "options(repr.plot.width=7, repr.plot.height=5)"
   ]
  },
  {
   "cell_type": "raw",
   "metadata": {},
   "source": [
    "if (!requireNamespace(\"BiocManager\", quietly = TRUE))\n",
    "    install.packages(\"BiocManager\")\n",
    "\n",
    "BiocManager::install(\"GenomicFeatures\")"
   ]
  },
  {
   "cell_type": "code",
   "execution_count": 4,
   "metadata": {},
   "outputs": [],
   "source": [
    "options(warn = -1)"
   ]
  },
  {
   "cell_type": "code",
   "execution_count": 1,
   "metadata": {
    "ExecuteTime": {
     "end_time": "2019-12-18T20:36:32.478395Z",
     "start_time": "2019-12-18T20:36:09.218Z"
    },
    "scrolled": true
   },
   "outputs": [
    {
     "name": "stderr",
     "output_type": "stream",
     "text": [
      "Loading required package: GenomicRanges\n",
      "\n",
      "Loading required package: stats4\n",
      "\n",
      "Loading required package: BiocGenerics\n",
      "\n",
      "Loading required package: parallel\n",
      "\n",
      "\n",
      "Attaching package: ‘BiocGenerics’\n",
      "\n",
      "\n",
      "The following objects are masked from ‘package:parallel’:\n",
      "\n",
      "    clusterApply, clusterApplyLB, clusterCall, clusterEvalQ,\n",
      "    clusterExport, clusterMap, parApply, parCapply, parLapply,\n",
      "    parLapplyLB, parRapply, parSapply, parSapplyLB\n",
      "\n",
      "\n",
      "The following objects are masked from ‘package:stats’:\n",
      "\n",
      "    IQR, mad, sd, var, xtabs\n",
      "\n",
      "\n",
      "The following objects are masked from ‘package:base’:\n",
      "\n",
      "    anyDuplicated, append, as.data.frame, basename, cbind, colnames,\n",
      "    dirname, do.call, duplicated, eval, evalq, Filter, Find, get, grep,\n",
      "    grepl, intersect, is.unsorted, lapply, Map, mapply, match, mget,\n",
      "    order, paste, pmax, pmax.int, pmin, pmin.int, Position, rank,\n",
      "    rbind, Reduce, rownames, sapply, setdiff, sort, table, tapply,\n",
      "    union, unique, unsplit, which, which.max, which.min\n",
      "\n",
      "\n",
      "Loading required package: S4Vectors\n",
      "\n",
      "\n",
      "Attaching package: ‘S4Vectors’\n",
      "\n",
      "\n",
      "The following object is masked from ‘package:base’:\n",
      "\n",
      "    expand.grid\n",
      "\n",
      "\n",
      "Loading required package: IRanges\n",
      "\n",
      "Loading required package: GenomeInfoDb\n",
      "\n",
      "Loading required package: SummarizedExperiment\n",
      "\n",
      "Loading required package: Biobase\n",
      "\n",
      "Welcome to Bioconductor\n",
      "\n",
      "    Vignettes contain introductory material; view with\n",
      "    'browseVignettes()'. To cite Bioconductor, see\n",
      "    'citation(\"Biobase\")', and for packages 'citation(\"pkgname\")'.\n",
      "\n",
      "\n",
      "Loading required package: DelayedArray\n",
      "\n",
      "Loading required package: matrixStats\n",
      "\n",
      "\n",
      "Attaching package: ‘matrixStats’\n",
      "\n",
      "\n",
      "The following objects are masked from ‘package:Biobase’:\n",
      "\n",
      "    anyMissing, rowMedians\n",
      "\n",
      "\n",
      "Loading required package: BiocParallel\n",
      "\n",
      "\n",
      "Attaching package: ‘DelayedArray’\n",
      "\n",
      "\n",
      "The following objects are masked from ‘package:matrixStats’:\n",
      "\n",
      "    colMaxs, colMins, colRanges, rowMaxs, rowMins, rowRanges\n",
      "\n",
      "\n",
      "The following objects are masked from ‘package:base’:\n",
      "\n",
      "    aperm, apply, rowsum\n",
      "\n",
      "\n",
      "\n",
      "\n",
      "── \u001b[1mAttaching packages\u001b[22m ─────────────────────────────────────── tidyverse 1.3.0 ──\n",
      "\n",
      "\u001b[32m✔\u001b[39m \u001b[34mggplot2\u001b[39m 3.2.1     \u001b[32m✔\u001b[39m \u001b[34mpurrr  \u001b[39m 0.3.3\n",
      "\u001b[32m✔\u001b[39m \u001b[34mtibble \u001b[39m 2.1.3     \u001b[32m✔\u001b[39m \u001b[34mdplyr  \u001b[39m 0.8.3\n",
      "\u001b[32m✔\u001b[39m \u001b[34mtidyr  \u001b[39m 1.0.0     \u001b[32m✔\u001b[39m \u001b[34mstringr\u001b[39m 1.4.0\n",
      "\u001b[32m✔\u001b[39m \u001b[34mreadr  \u001b[39m 1.3.1     \u001b[32m✔\u001b[39m \u001b[34mforcats\u001b[39m 0.4.0\n",
      "\n",
      "── \u001b[1mConflicts\u001b[22m ────────────────────────────────────────── tidyverse_conflicts() ──\n",
      "\u001b[31m✖\u001b[39m \u001b[34mdplyr\u001b[39m::\u001b[32mcollapse()\u001b[39m   masks \u001b[34mIRanges\u001b[39m::collapse()\n",
      "\u001b[31m✖\u001b[39m \u001b[34mdplyr\u001b[39m::\u001b[32mcombine()\u001b[39m    masks \u001b[34mBiobase\u001b[39m::combine(), \u001b[34mBiocGenerics\u001b[39m::combine()\n",
      "\u001b[31m✖\u001b[39m \u001b[34mdplyr\u001b[39m::\u001b[32mcount()\u001b[39m      masks \u001b[34mmatrixStats\u001b[39m::count()\n",
      "\u001b[31m✖\u001b[39m \u001b[34mdplyr\u001b[39m::\u001b[32mdesc()\u001b[39m       masks \u001b[34mIRanges\u001b[39m::desc()\n",
      "\u001b[31m✖\u001b[39m \u001b[34mtidyr\u001b[39m::\u001b[32mexpand()\u001b[39m     masks \u001b[34mS4Vectors\u001b[39m::expand()\n",
      "\u001b[31m✖\u001b[39m \u001b[34mdplyr\u001b[39m::\u001b[32mfilter()\u001b[39m     masks \u001b[34mstats\u001b[39m::filter()\n",
      "\u001b[31m✖\u001b[39m \u001b[34mdplyr\u001b[39m::\u001b[32mfirst()\u001b[39m      masks \u001b[34mS4Vectors\u001b[39m::first()\n",
      "\u001b[31m✖\u001b[39m \u001b[34mdplyr\u001b[39m::\u001b[32mlag()\u001b[39m        masks \u001b[34mstats\u001b[39m::lag()\n",
      "\u001b[31m✖\u001b[39m \u001b[34mggplot2\u001b[39m::\u001b[32mPosition()\u001b[39m masks \u001b[34mBiocGenerics\u001b[39m::Position(), \u001b[34mbase\u001b[39m::Position()\n",
      "\u001b[31m✖\u001b[39m \u001b[34mpurrr\u001b[39m::\u001b[32mreduce()\u001b[39m     masks \u001b[34mGenomicRanges\u001b[39m::reduce(), \u001b[34mIRanges\u001b[39m::reduce()\n",
      "\u001b[31m✖\u001b[39m \u001b[34mdplyr\u001b[39m::\u001b[32mrename()\u001b[39m     masks \u001b[34mS4Vectors\u001b[39m::rename()\n",
      "\u001b[31m✖\u001b[39m \u001b[34mpurrr\u001b[39m::\u001b[32msimplify()\u001b[39m   masks \u001b[34mDelayedArray\u001b[39m::simplify()\n",
      "\u001b[31m✖\u001b[39m \u001b[34mdplyr\u001b[39m::\u001b[32mslice()\u001b[39m      masks \u001b[34mIRanges\u001b[39m::slice()\n",
      "\n"
     ]
    }
   ],
   "source": [
    "library(DiffBind)\n",
    "library(tidyverse)\n",
    "library(GenomicRanges)"
   ]
  },
  {
   "cell_type": "markdown",
   "metadata": {},
   "source": [
    "# Prep for chromVAR\n",
    "\n",
    "### Use `DiffBind` to combine peaks from all the samples\n",
    "\n",
    "`DiffBind` takes inputs of peaks and bams, which is all annotated and constructed in `/gpfs/commons/groups/sanjana_lab/cdai/TFscreen/atac/samplesheet.csv`\n",
    "\n",
    "**Peaks:** Peaks are narrow peaks called by MACS2, pre-processed by centering at summit with uniform width of 500bp. `/c/groups/sanjana_lab/cdai/TFscreen/atac/macs2/v7/ATAC*_500_Peaks.bed`\n",
    "\n",
    "**Bams:** Bams are aligned by bwa, prefiltered suing mapq>20, and properly paired (all pair end). See `ATAC_bash.ipynb` for detailed processing scripts and procedures. `/c/groups/sanjana_lab/cdai/TFscreen/atac/bams_v3/ATAC*.PE.mapq.bam`\n",
    "\n",
    "**DiffBind Processing**\n",
    "1. read in peaks\n",
    "2. construct consensus peak sets. Here using `minOverlap=2`, which means each peak must exist in at least 2 samples in order to be included in consensus peak sets. Since we have 2 replicates for each sample, 2 is a reasonable choice.\n",
    "3. The result of `step 2` includes the consensus peaks for all 12 samples. Since chromVAR only needs the peak intervals, we can just take a peak set from any of the 12 samples. (Each sample has the same rows of peak intervals, albeit different reads, scores, etc.)\n",
    "4. The output of peakset (ready for `chromVAR`) is **`/c/groups/sanjana_lab/cdai/TFscreen/atac/diffbind_consensu_min2overlap.bed`**"
   ]
  },
  {
   "cell_type": "markdown",
   "metadata": {},
   "source": [
    "**Construct consensus peak sets with read counts** (useful for chomVAR and my own DESeq2)\n",
    "\n",
    "Output files:\n",
    "- Consensus peak set with chr, start, end, in `bed` format, good for chromVAR. `diffbind_consensu_min2overlap.bed`\n",
    "- Read count matrix for the consensu peak set. No coordinate columns,  for chromVAR. `diffbind_consensu_min2overlap_readcounts.txt`\n",
    "- Consensus peak set read counts with peak coordinates. Good for DESeq.`diffbind_consensu_min2overlap_readcounts_with_coordinates.txt`\n"
   ]
  },
  {
   "cell_type": "markdown",
   "metadata": {},
   "source": [
    "---\n",
    "code original"
   ]
  },
  {
   "cell_type": "code",
   "execution_count": 4,
   "metadata": {
    "ExecuteTime": {
     "end_time": "2019-12-18T20:36:42.127707Z",
     "start_time": "2019-12-18T20:36:42.097Z"
    }
   },
   "outputs": [],
   "source": [
    "setwd(\"/c/groups/sanjana_lab/cdai/TFscreen/atac/\")"
   ]
  },
  {
   "cell_type": "code",
   "execution_count": 5,
   "metadata": {
    "ExecuteTime": {
     "end_time": "2019-12-18T20:43:59.672409Z",
     "start_time": "2019-12-18T20:36:42.781Z"
    }
   },
   "outputs": [
    {
     "name": "stderr",
     "output_type": "stream",
     "text": [
      "A1 ESC TF ESC Full 1 macs\n",
      "\n",
      "A2 ESC TF ESC Full 2 macs\n",
      "\n",
      "A3 Neuron TF 1H Full 1 macs\n",
      "\n",
      "A4 Neuron TF 1H Full 2 macs\n",
      "\n",
      "A5 Neuron TF 4H Full 1 macs\n",
      "\n",
      "A6 Neuron TF 4H Full 2 macs\n",
      "\n",
      "A7 Neuron TF 16H Full 1 macs\n",
      "\n",
      "A8 Neuron TF 16H Full 2 macs\n",
      "\n",
      "A9 Neuron TF 24H Full 1 macs\n",
      "\n",
      "A10 Neuron TF 24H Full 2 macs\n",
      "\n",
      "A11 Neuron TF 5D Full 1 macs\n",
      "\n",
      "A12 Neuron TF 5D Full 2 macs\n",
      "\n",
      "Re-centering peaks...\n",
      "\n"
     ]
    }
   ],
   "source": [
    "samplesheet.file <- \"/gpfs/commons/groups/sanjana_lab/cdai/TFscreen/atac/samplesheet2.csv\"\n",
    "peaks.for.diffbind <- dba(sampleSheet = samplesheet.file, peakCaller=\"macs\")\n",
    "\n",
    "# get counts, but the point here is to construct consensus peakset\n",
    "peaks.for.diffbind <- dba.count(peaks.for.diffbind, minOverlap = 2, summits = 250)\n",
    "\n",
    "diffbind_consensus_min2overlap <- peaks.for.diffbind$peaks[[1]] %>% \n",
    "                                    filter(str_detect(Chr,\"chr[0-9XY]+\"))\n",
    "\n",
    "# only need to run once\n",
    "diffbind_consensus_min2overlap %>% select(Chr, Start, End) %>% \n",
    "        write.table(\"diffbind_consensu_min2overlap.bed\", quote = F, sep = \"\\t\", row.names = F, col.names = F)\n",
    "\n",
    "# construct count matrix for the peaks\n",
    "nrows = dim(diffbind_consensus_min2overlap)[1]\n",
    "peak.cnt.m = matrix(0, nrow=nrows, ncol=12)\n",
    "for (i in 1:12) {\n",
    "    diffbind_consensus_min2overlap <- peaks.for.diffbind$peaks[[i]] %>% \n",
    "                                    filter(str_detect(Chr,\"chr[0-9XY]+\"))\n",
    "    counts <- diffbind_consensus_min2overlap %>% pull(\"Reads\")\n",
    "    peak.cnt.m[,i] = counts\n",
    "}\n",
    "peak.cnt.m <- as.data.frame(peak.cnt.m)\n",
    "colnames(peak.cnt.m) <- as.vector(peaks.for.diffbind$samples$SampleID) # add column names\n",
    "\n",
    "peak.cnt.m %>% write.table(\"diffbind_consensu_min2overlap_readcounts.txt\", sep=\"\\t\", \n",
    "                           quote = F, row.names = F, col.names = T)"
   ]
  },
  {
   "cell_type": "code",
   "execution_count": 120,
   "metadata": {
    "ExecuteTime": {
     "end_time": "2019-10-16T17:45:11.616344Z",
     "start_time": "2019-10-16T17:45:10.927Z"
    }
   },
   "outputs": [],
   "source": [
    "df <- read.table(\"diffbind_consensu_min2overlap_readcounts_with_coordinates.txt\", header = T)"
   ]
  },
  {
   "cell_type": "code",
   "execution_count": 123,
   "metadata": {
    "ExecuteTime": {
     "end_time": "2019-10-16T17:46:42.760876Z",
     "start_time": "2019-10-16T17:46:41.621Z"
    }
   },
   "outputs": [],
   "source": [
    "df %>% write.table(\"diffbind_consensu_min2overlap_readcounts_with_coordinates.bed\", sep = '\\t',quote = F, row.names = F, col.names = F)"
   ]
  },
  {
   "cell_type": "markdown",
   "metadata": {},
   "source": [
    "Code original\n",
    "\n",
    "---\n"
   ]
  },
  {
   "cell_type": "markdown",
   "metadata": {},
   "source": [
    "## Only use diffbind to get consensus peaks. Do not resize, recenter. "
   ]
  },
  {
   "cell_type": "code",
   "execution_count": 104,
   "metadata": {
    "ExecuteTime": {
     "end_time": "2019-12-18T22:49:35.759798Z",
     "start_time": "2019-12-18T22:48:56.405Z"
    }
   },
   "outputs": [
    {
     "name": "stderr",
     "output_type": "stream",
     "text": [
      "A1 ESC TF ESC Full 1 macs\n",
      "\n",
      "A2 ESC TF ESC Full 2 macs\n",
      "\n",
      "A3 Neuron TF 1H Full 1 macs\n",
      "\n",
      "A4 Neuron TF 1H Full 2 macs\n",
      "\n",
      "A5 Neuron TF 4H Full 1 macs\n",
      "\n",
      "A6 Neuron TF 4H Full 2 macs\n",
      "\n",
      "A7 Neuron TF 16H Full 1 macs\n",
      "\n",
      "A8 Neuron TF 16H Full 2 macs\n",
      "\n",
      "A9 Neuron TF 24H Full 1 macs\n",
      "\n",
      "A10 Neuron TF 24H Full 2 macs\n",
      "\n",
      "A11 Neuron TF 5D Full 1 macs\n",
      "\n",
      "A12 Neuron TF 5D Full 2 macs\n",
      "\n"
     ]
    }
   ],
   "source": [
    "samplesheet.file <- \"/gpfs/commons/groups/sanjana_lab/cdai/TFscreen/atac/samplesheet2.csv\"\n",
    "peaks <- dba(sampleSheet = samplesheet.file, peakCaller = \"macs\", minOverlap=2, bRemoveRandom=T, bRemoveM=T)"
   ]
  },
  {
   "cell_type": "code",
   "execution_count": 110,
   "metadata": {
    "ExecuteTime": {
     "start_time": "2019-12-18T22:50:19.766Z"
    },
    "scrolled": true
   },
   "outputs": [],
   "source": [
    "# get counts, and construct consensus peakset that has min 2 overlaps\n",
    "peaks_counts <- dba.count(peaks, minOverlap = 2, score = DBA_SCORE_READS)"
   ]
  },
  {
   "cell_type": "code",
   "execution_count": 143,
   "metadata": {
    "ExecuteTime": {
     "end_time": "2019-12-18T23:18:44.350227Z",
     "start_time": "2019-12-18T23:18:43.135Z"
    }
   },
   "outputs": [],
   "source": [
    "# get read counts of consensus peak set\n",
    "consensus_peaks <- peaks_counts$peaks[[1]] %>% \n",
    "                    select(Chr, Start, End) %>% \n",
    "                    cbind(., peaks_counts$binding %>% as.data.frame %>% select(A1:A12)) %>%\n",
    "                    filter(., str_detect(Chr, \"^chr.*[0-9XY]$\"))"
   ]
  },
  {
   "cell_type": "code",
   "execution_count": 147,
   "metadata": {
    "ExecuteTime": {
     "end_time": "2019-12-18T23:34:48.908361Z",
     "start_time": "2019-12-18T23:34:46.038Z"
    }
   },
   "outputs": [],
   "source": [
    "write.table(consensus_peaks, \"diffbind/diffbind_consensu_min2overlap_NO_RECENTER.txt\", sep = '\\t',quote = F, row.names = F, col.names = T)"
   ]
  },
  {
   "cell_type": "markdown",
   "metadata": {},
   "source": [
    "---"
   ]
  },
  {
   "cell_type": "code",
   "execution_count": null,
   "metadata": {},
   "outputs": [],
   "source": []
  },
  {
   "cell_type": "markdown",
   "metadata": {},
   "source": [
    "# DiffBind analysis"
   ]
  },
  {
   "cell_type": "markdown",
   "metadata": {},
   "source": [
    "Here, we reuse the count matrix done from previous section"
   ]
  },
  {
   "cell_type": "code",
   "execution_count": 9,
   "metadata": {},
   "outputs": [],
   "source": [
    "peaks <- peaks.for.diffbind"
   ]
  },
  {
   "cell_type": "code",
   "execution_count": 74,
   "metadata": {
    "ExecuteTime": {
     "end_time": "2019-10-16T17:06:39.146000Z",
     "start_time": "2019-10-16T17:06:39.095Z"
    }
   },
   "outputs": [
    {
     "data": {
      "text/plain": [
       "12 Samples, 116232 sites in matrix:\n",
       "    ID Tissue Factor Condition Treatment Replicate Caller Intervals FRiP\n",
       "1   A1    ESC     TF       ESC      Full         1 counts    116232 0.12\n",
       "2   A2    ESC     TF       ESC      Full         2 counts    116232 0.11\n",
       "3   A3 Neuron     TF        1H      Full         1 counts    116232 0.10\n",
       "4   A4 Neuron     TF        1H      Full         2 counts    116232 0.10\n",
       "5   A5 Neuron     TF        4H      Full         1 counts    116232 0.12\n",
       "6   A6 Neuron     TF        4H      Full         2 counts    116232 0.12\n",
       "7   A7 Neuron     TF       16H      Full         1 counts    116232 0.11\n",
       "8   A8 Neuron     TF       16H      Full         2 counts    116232 0.14\n",
       "9   A9 Neuron     TF       24H      Full         1 counts    116232 0.13\n",
       "10 A10 Neuron     TF       24H      Full         2 counts    116232 0.12\n",
       "11 A11 Neuron     TF        5D      Full         1 counts    116232 0.18\n",
       "12 A12 Neuron     TF        5D      Full         2 counts    116232 0.17\n",
       "\n",
       "15 Contrasts:\n",
       "   Group1 Members1 Group2 Members2 DB.DESeq2\n",
       "1     ESC        2     1H        2         0\n",
       "2     ESC        2     4H        2        65\n",
       "3     ESC        2    16H        2      1075\n",
       "4     ESC        2    24H        2      5861\n",
       "5     ESC        2     5D        2     38923\n",
       "6      1H        2     4H        2       262\n",
       "7      1H        2    16H        2      1797\n",
       "8      1H        2    24H        2      9482\n",
       "9      1H        2     5D        2     38631\n",
       "10     4H        2    16H        2        65\n",
       "11     4H        2    24H        2      2648\n",
       "12     4H        2     5D        2     37165\n",
       "13    16H        2    24H        2         3\n",
       "14    16H        2     5D        2     30449\n",
       "15    24H        2     5D        2     28851"
      ]
     },
     "metadata": {},
     "output_type": "display_data"
    }
   ],
   "source": [
    "peaks"
   ]
  },
  {
   "cell_type": "code",
   "execution_count": 13,
   "metadata": {},
   "outputs": [
    {
     "data": {
      "image/png": "[encoded data removed]",
      "text/plain": [
       "Plot with title “Color Key\n",
       "and Histogram”"
      ]
     },
     "metadata": {},
     "output_type": "display_data"
    }
   ],
   "source": [
    "plot(peaks)"
   ]
  },
  {
   "cell_type": "code",
   "execution_count": 14,
   "metadata": {},
   "outputs": [],
   "source": [
    "peaks <- dba.contrast(peaks, categories = DBA_CONDITION, minMembers = 2) # set up contrasts (pairwise comparisons)"
   ]
  },
  {
   "cell_type": "code",
   "execution_count": 18,
   "metadata": {},
   "outputs": [
    {
     "data": {
      "text/plain": [
       "12 Samples, 116232 sites in matrix:\n",
       "    ID Tissue Factor Condition Treatment Replicate Caller Intervals FRiP\n",
       "1   A1    ESC     TF       ESC      Full         1 counts    116232 0.12\n",
       "2   A2    ESC     TF       ESC      Full         2 counts    116232 0.11\n",
       "3   A3 Neuron     TF        1H      Full         1 counts    116232 0.10\n",
       "4   A4 Neuron     TF        1H      Full         2 counts    116232 0.10\n",
       "5   A5 Neuron     TF        4H      Full         1 counts    116232 0.12\n",
       "6   A6 Neuron     TF        4H      Full         2 counts    116232 0.12\n",
       "7   A7 Neuron     TF       16H      Full         1 counts    116232 0.11\n",
       "8   A8 Neuron     TF       16H      Full         2 counts    116232 0.14\n",
       "9   A9 Neuron     TF       24H      Full         1 counts    116232 0.13\n",
       "10 A10 Neuron     TF       24H      Full         2 counts    116232 0.12\n",
       "11 A11 Neuron     TF        5D      Full         1 counts    116232 0.18\n",
       "12 A12 Neuron     TF        5D      Full         2 counts    116232 0.17\n",
       "\n",
       "15 Contrasts:\n",
       "   Group1 Members1 Group2 Members2 DB.DESeq2\n",
       "1     ESC        2     1H        2         0\n",
       "2     ESC        2     4H        2        65\n",
       "3     ESC        2    16H        2      1075\n",
       "4     ESC        2    24H        2      5861\n",
       "5     ESC        2     5D        2     38923\n",
       "6      1H        2     4H        2       262\n",
       "7      1H        2    16H        2      1797\n",
       "8      1H        2    24H        2      9482\n",
       "9      1H        2     5D        2     38631\n",
       "10     4H        2    16H        2        65\n",
       "11     4H        2    24H        2      2648\n",
       "12     4H        2     5D        2     37165\n",
       "13    16H        2    24H        2         3\n",
       "14    16H        2     5D        2     30449\n",
       "15    24H        2     5D        2     28851"
      ]
     },
     "metadata": {},
     "output_type": "display_data"
    }
   ],
   "source": [
    "peaks"
   ]
  },
  {
   "cell_type": "code",
   "execution_count": 16,
   "metadata": {},
   "outputs": [],
   "source": [
    "peaks <- dba.analyze(peaks) # analyze peaks"
   ]
  },
  {
   "cell_type": "markdown",
   "metadata": {},
   "source": [
    "##### As expected: observe higher amount of differential peaks as time goes on."
   ]
  },
  {
   "cell_type": "code",
   "execution_count": 19,
   "metadata": {},
   "outputs": [
    {
     "data": {
      "text/plain": [
       "12 Samples, 116232 sites in matrix:\n",
       "    ID Tissue Factor Condition Treatment Replicate Caller Intervals FRiP\n",
       "1   A1    ESC     TF       ESC      Full         1 counts    116232 0.12\n",
       "2   A2    ESC     TF       ESC      Full         2 counts    116232 0.11\n",
       "3   A3 Neuron     TF        1H      Full         1 counts    116232 0.10\n",
       "4   A4 Neuron     TF        1H      Full         2 counts    116232 0.10\n",
       "5   A5 Neuron     TF        4H      Full         1 counts    116232 0.12\n",
       "6   A6 Neuron     TF        4H      Full         2 counts    116232 0.12\n",
       "7   A7 Neuron     TF       16H      Full         1 counts    116232 0.11\n",
       "8   A8 Neuron     TF       16H      Full         2 counts    116232 0.14\n",
       "9   A9 Neuron     TF       24H      Full         1 counts    116232 0.13\n",
       "10 A10 Neuron     TF       24H      Full         2 counts    116232 0.12\n",
       "11 A11 Neuron     TF        5D      Full         1 counts    116232 0.18\n",
       "12 A12 Neuron     TF        5D      Full         2 counts    116232 0.17\n",
       "\n",
       "15 Contrasts:\n",
       "   Group1 Members1 Group2 Members2 DB.DESeq2\n",
       "1     ESC        2     1H        2         0\n",
       "2     ESC        2     4H        2        65\n",
       "3     ESC        2    16H        2      1075\n",
       "4     ESC        2    24H        2      5861\n",
       "5     ESC        2     5D        2     38923\n",
       "6      1H        2     4H        2       262\n",
       "7      1H        2    16H        2      1797\n",
       "8      1H        2    24H        2      9482\n",
       "9      1H        2     5D        2     38631\n",
       "10     4H        2    16H        2        65\n",
       "11     4H        2    24H        2      2648\n",
       "12     4H        2     5D        2     37165\n",
       "13    16H        2    24H        2         3\n",
       "14    16H        2     5D        2     30449\n",
       "15    24H        2     5D        2     28851"
      ]
     },
     "metadata": {},
     "output_type": "display_data"
    }
   ],
   "source": [
    "peaks"
   ]
  },
  {
   "cell_type": "code",
   "execution_count": 21,
   "metadata": {},
   "outputs": [
    {
     "data": {
      "image/png": "[encoded data removed]",
      "text/plain": [
       "Plot with title “Color Key\n",
       "and Histogram”"
      ]
     },
     "metadata": {},
     "output_type": "display_data"
    }
   ],
   "source": [
    "plot(peaks, contrast=5) # 5D vs. ES"
   ]
  },
  {
   "cell_type": "code",
   "execution_count": 22,
   "metadata": {},
   "outputs": [],
   "source": [
    "peaks.5D <- dba.report(peaks, contrast = 5) # 5D vs. ES"
   ]
  },
  {
   "cell_type": "code",
   "execution_count": 25,
   "metadata": {},
   "outputs": [
    {
     "data": {
      "text/plain": [
       "GRanges object with 38923 ranges and 6 metadata columns:\n",
       "         seqnames              ranges strand |      Conc  Conc_ESC   Conc_5D\n",
       "            <Rle>           <IRanges>  <Rle> | <numeric> <numeric> <numeric>\n",
       "   53864     chr2   48196112-48196612      * |      8.25      4.54      9.19\n",
       "   38529    chr16   22681478-22681978      * |      8.12      4.85      9.05\n",
       "    8286     chr1 205030954-205031454      * |      8.16      5.31      9.06\n",
       "    3971     chr1   69071682-69072182      * |      7.99      4.34      8.93\n",
       "  107485     chr9   23537638-23538138      * |      8.45      6.13      9.29\n",
       "     ...      ...                 ...    ... .       ...       ...       ...\n",
       "   24968    chr12   83955089-83955589      * |      4.32      4.89      3.36\n",
       "   22344    chr12     6268687-6269187      * |      4.96      5.43      4.25\n",
       "   14773    chr10 112898682-112899182      * |      5.75      6.17      5.16\n",
       "   27870    chr13   33391377-33391877      * |      4.53      3.65      5.07\n",
       "   44893    chr17   77466114-77466614      * |      6.13      5.66      6.49\n",
       "              Fold   p-value       FDR\n",
       "         <numeric> <numeric> <numeric>\n",
       "   53864     -4.65  1.79e-74  2.08e-69\n",
       "   38529      -4.2  1.11e-67  6.43e-63\n",
       "    8286     -3.75  1.31e-63  5.06e-59\n",
       "    3971     -4.59  1.88e-62  5.48e-58\n",
       "  107485     -3.16  1.16e-61   2.7e-57\n",
       "     ...       ...       ...       ...\n",
       "   24968      1.53    0.0167    0.0499\n",
       "   22344      1.18    0.0167      0.05\n",
       "   14773      1.02    0.0167      0.05\n",
       "   27870     -1.42    0.0167      0.05\n",
       "   44893     -0.82    0.0167      0.05\n",
       "  -------\n",
       "  seqinfo: 38 sequences from an unspecified genome; no seqlengths"
      ]
     },
     "metadata": {},
     "output_type": "display_data"
    }
   ],
   "source": [
    "peaks.5D"
   ]
  },
  {
   "cell_type": "code",
   "execution_count": 30,
   "metadata": {},
   "outputs": [
    {
     "data": {
      "text/html": [
       "<table>\n",
       "<caption>A data.frame: 10 × 11</caption>\n",
       "<thead>\n",
       "\t<tr><th></th><th scope=col>seqnames</th><th scope=col>start</th><th scope=col>end</th><th scope=col>width</th><th scope=col>strand</th><th scope=col>Conc</th><th scope=col>Conc_ESC</th><th scope=col>Conc_5D</th><th scope=col>Fold</th><th scope=col>p.value</th><th scope=col>FDR</th></tr>\n",
       "\t<tr><th></th><th scope=col>&lt;fct&gt;</th><th scope=col>&lt;int&gt;</th><th scope=col>&lt;int&gt;</th><th scope=col>&lt;int&gt;</th><th scope=col>&lt;fct&gt;</th><th scope=col>&lt;dbl&gt;</th><th scope=col>&lt;dbl&gt;</th><th scope=col>&lt;dbl&gt;</th><th scope=col>&lt;dbl&gt;</th><th scope=col>&lt;dbl&gt;</th><th scope=col>&lt;dbl&gt;</th></tr>\n",
       "</thead>\n",
       "<tbody>\n",
       "\t<tr><th scope=row>53864</th><td>chr2 </td><td> 48196112</td><td> 48196612</td><td>501</td><td>*</td><td>8.25</td><td>4.54</td><td>9.19</td><td>-4.65</td><td>1.79e-74</td><td>2.08e-69</td></tr>\n",
       "\t<tr><th scope=row>38529</th><td>chr16</td><td> 22681478</td><td> 22681978</td><td>501</td><td>*</td><td>8.12</td><td>4.85</td><td>9.05</td><td>-4.20</td><td>1.11e-67</td><td>6.43e-63</td></tr>\n",
       "\t<tr><th scope=row>8286</th><td>chr1 </td><td>205030954</td><td>205031454</td><td>501</td><td>*</td><td>8.16</td><td>5.31</td><td>9.06</td><td>-3.75</td><td>1.31e-63</td><td>5.06e-59</td></tr>\n",
       "\t<tr><th scope=row>3971</th><td>chr1 </td><td> 69071682</td><td> 69072182</td><td>501</td><td>*</td><td>7.99</td><td>4.34</td><td>8.93</td><td>-4.59</td><td>1.88e-62</td><td>5.48e-58</td></tr>\n",
       "\t<tr><th scope=row>107485</th><td>chr9 </td><td> 23537638</td><td> 23538138</td><td>501</td><td>*</td><td>8.45</td><td>6.13</td><td>9.29</td><td>-3.16</td><td>1.16e-61</td><td>2.70e-57</td></tr>\n",
       "\t<tr><th scope=row>81278</th><td>chr5 </td><td>  3489265</td><td>  3489765</td><td>501</td><td>*</td><td>7.88</td><td>4.53</td><td>8.81</td><td>-4.28</td><td>9.17e-59</td><td>1.78e-54</td></tr>\n",
       "\t<tr><th scope=row>94673</th><td>chr6 </td><td>170243787</td><td>170244287</td><td>501</td><td>*</td><td>7.84</td><td>4.40</td><td>8.77</td><td>-4.37</td><td>3.51e-57</td><td>5.83e-53</td></tr>\n",
       "\t<tr><th scope=row>18136</th><td>chr11</td><td> 57597851</td><td> 57598351</td><td>501</td><td>*</td><td>8.79</td><td>6.93</td><td>9.57</td><td>-2.64</td><td>1.28e-56</td><td>1.86e-52</td></tr>\n",
       "\t<tr><th scope=row>49655</th><td>chr19</td><td> 19485077</td><td> 19485577</td><td>501</td><td>*</td><td>7.79</td><td>4.38</td><td>8.72</td><td>-4.35</td><td>2.80e-55</td><td>3.62e-51</td></tr>\n",
       "\t<tr><th scope=row>7277</th><td>chr1 </td><td>180194783</td><td>180195283</td><td>501</td><td>*</td><td>8.03</td><td>5.50</td><td>8.90</td><td>-3.39</td><td>1.37e-54</td><td>1.59e-50</td></tr>\n",
       "</tbody>\n",
       "</table>\n"
      ],
      "text/latex": [
       "A data.frame: 10 × 11\n",
       "\\begin{tabular}{r|lllllllllll}\n",
       "  & seqnames & start & end & width & strand & Conc & Conc\\_ESC & Conc\\_5D & Fold & p.value & FDR\\\\\n",
       "  & <fct> & <int> & <int> & <int> & <fct> & <dbl> & <dbl> & <dbl> & <dbl> & <dbl> & <dbl>\\\\\n",
       "\\hline\n",
       "\t53864 & chr2  &  48196112 &  48196612 & 501 & * & 8.25 & 4.54 & 9.19 & -4.65 & 1.79e-74 & 2.08e-69\\\\\n",
       "\t38529 & chr16 &  22681478 &  22681978 & 501 & * & 8.12 & 4.85 & 9.05 & -4.20 & 1.11e-67 & 6.43e-63\\\\\n",
       "\t8286 & chr1  & 205030954 & 205031454 & 501 & * & 8.16 & 5.31 & 9.06 & -3.75 & 1.31e-63 & 5.06e-59\\\\\n",
       "\t3971 & chr1  &  69071682 &  69072182 & 501 & * & 7.99 & 4.34 & 8.93 & -4.59 & 1.88e-62 & 5.48e-58\\\\\n",
       "\t107485 & chr9  &  23537638 &  23538138 & 501 & * & 8.45 & 6.13 & 9.29 & -3.16 & 1.16e-61 & 2.70e-57\\\\\n",
       "\t81278 & chr5  &   3489265 &   3489765 & 501 & * & 7.88 & 4.53 & 8.81 & -4.28 & 9.17e-59 & 1.78e-54\\\\\n",
       "\t94673 & chr6  & 170243787 & 170244287 & 501 & * & 7.84 & 4.40 & 8.77 & -4.37 & 3.51e-57 & 5.83e-53\\\\\n",
       "\t18136 & chr11 &  57597851 &  57598351 & 501 & * & 8.79 & 6.93 & 9.57 & -2.64 & 1.28e-56 & 1.86e-52\\\\\n",
       "\t49655 & chr19 &  19485077 &  19485577 & 501 & * & 7.79 & 4.38 & 8.72 & -4.35 & 2.80e-55 & 3.62e-51\\\\\n",
       "\t7277 & chr1  & 180194783 & 180195283 & 501 & * & 8.03 & 5.50 & 8.90 & -3.39 & 1.37e-54 & 1.59e-50\\\\\n",
       "\\end{tabular}\n"
      ],
      "text/markdown": [
       "\n",
       "A data.frame: 10 × 11\n",
       "\n",
       "| <!--/--> | seqnames &lt;fct&gt; | start &lt;int&gt; | end &lt;int&gt; | width &lt;int&gt; | strand &lt;fct&gt; | Conc &lt;dbl&gt; | Conc_ESC &lt;dbl&gt; | Conc_5D &lt;dbl&gt; | Fold &lt;dbl&gt; | p.value &lt;dbl&gt; | FDR &lt;dbl&gt; |\n",
       "|---|---|---|---|---|---|---|---|---|---|---|---|\n",
       "| 53864 | chr2  |  48196112 |  48196612 | 501 | * | 8.25 | 4.54 | 9.19 | -4.65 | 1.79e-74 | 2.08e-69 |\n",
       "| 38529 | chr16 |  22681478 |  22681978 | 501 | * | 8.12 | 4.85 | 9.05 | -4.20 | 1.11e-67 | 6.43e-63 |\n",
       "| 8286 | chr1  | 205030954 | 205031454 | 501 | * | 8.16 | 5.31 | 9.06 | -3.75 | 1.31e-63 | 5.06e-59 |\n",
       "| 3971 | chr1  |  69071682 |  69072182 | 501 | * | 7.99 | 4.34 | 8.93 | -4.59 | 1.88e-62 | 5.48e-58 |\n",
       "| 107485 | chr9  |  23537638 |  23538138 | 501 | * | 8.45 | 6.13 | 9.29 | -3.16 | 1.16e-61 | 2.70e-57 |\n",
       "| 81278 | chr5  |   3489265 |   3489765 | 501 | * | 7.88 | 4.53 | 8.81 | -4.28 | 9.17e-59 | 1.78e-54 |\n",
       "| 94673 | chr6  | 170243787 | 170244287 | 501 | * | 7.84 | 4.40 | 8.77 | -4.37 | 3.51e-57 | 5.83e-53 |\n",
       "| 18136 | chr11 |  57597851 |  57598351 | 501 | * | 8.79 | 6.93 | 9.57 | -2.64 | 1.28e-56 | 1.86e-52 |\n",
       "| 49655 | chr19 |  19485077 |  19485577 | 501 | * | 7.79 | 4.38 | 8.72 | -4.35 | 2.80e-55 | 3.62e-51 |\n",
       "| 7277 | chr1  | 180194783 | 180195283 | 501 | * | 8.03 | 5.50 | 8.90 | -3.39 | 1.37e-54 | 1.59e-50 |\n",
       "\n"
      ],
      "text/plain": [
       "       seqnames start     end       width strand Conc Conc_ESC Conc_5D Fold \n",
       "53864  chr2      48196112  48196612 501   *      8.25 4.54     9.19    -4.65\n",
       "38529  chr16     22681478  22681978 501   *      8.12 4.85     9.05    -4.20\n",
       "8286   chr1     205030954 205031454 501   *      8.16 5.31     9.06    -3.75\n",
       "3971   chr1      69071682  69072182 501   *      7.99 4.34     8.93    -4.59\n",
       "107485 chr9      23537638  23538138 501   *      8.45 6.13     9.29    -3.16\n",
       "81278  chr5       3489265   3489765 501   *      7.88 4.53     8.81    -4.28\n",
       "94673  chr6     170243787 170244287 501   *      7.84 4.40     8.77    -4.37\n",
       "18136  chr11     57597851  57598351 501   *      8.79 6.93     9.57    -2.64\n",
       "49655  chr19     19485077  19485577 501   *      7.79 4.38     8.72    -4.35\n",
       "7277   chr1     180194783 180195283 501   *      8.03 5.50     8.90    -3.39\n",
       "       p.value  FDR     \n",
       "53864  1.79e-74 2.08e-69\n",
       "38529  1.11e-67 6.43e-63\n",
       "8286   1.31e-63 5.06e-59\n",
       "3971   1.88e-62 5.48e-58\n",
       "107485 1.16e-61 2.70e-57\n",
       "81278  9.17e-59 1.78e-54\n",
       "94673  3.51e-57 5.83e-53\n",
       "18136  1.28e-56 1.86e-52\n",
       "49655  2.80e-55 3.62e-51\n",
       "7277   1.37e-54 1.59e-50"
      ]
     },
     "metadata": {},
     "output_type": "display_data"
    }
   ],
   "source": [
    "peaks.5D %>% as.data.frame %>% head(10)"
   ]
  },
  {
   "cell_type": "code",
   "execution_count": 32,
   "metadata": {},
   "outputs": [],
   "source": [
    "peaks.24H <- dba.report(peaks, contrast = 4) # 24H vs ES"
   ]
  },
  {
   "cell_type": "code",
   "execution_count": 33,
   "metadata": {},
   "outputs": [
    {
     "data": {
      "text/plain": [
       "GRanges object with 5861 ranges and 6 metadata columns:\n",
       "         seqnames              ranges strand |      Conc  Conc_ESC  Conc_24H\n",
       "            <Rle>           <IRanges>  <Rle> | <numeric> <numeric> <numeric>\n",
       "   53864     chr2   48196112-48196612      * |      6.98       4.6      7.83\n",
       "   57654     chr2 155748152-155748652      * |      7.07      4.97      7.89\n",
       "   33437    chr14   96754708-96755208      * |      6.84      4.71      7.66\n",
       "   14680    chr10 110725789-110726289      * |      6.79      4.65      7.62\n",
       "   30281    chr13 109301626-109302126      * |      6.51      3.81      7.39\n",
       "     ...      ...                 ...    ... .       ...       ...       ...\n",
       "   15577    chr10 128867038-128867538      * |      4.33      3.11      4.99\n",
       "   63944    chr20   62376381-62376881      * |      6.85      7.17      6.45\n",
       "   68945     chr3   41138049-41138549      * |      4.26      2.96      4.93\n",
       "  103414     chr8   60997103-60997603      * |      5.14      4.14      5.72\n",
       "   69315     chr3   48474486-48474986      * |      5.46      5.95      4.72\n",
       "              Fold   p-value       FDR\n",
       "         <numeric> <numeric> <numeric>\n",
       "   53864     -3.23  1.25e-28  1.46e-23\n",
       "   57654     -2.92  1.76e-24  1.02e-19\n",
       "   33437     -2.95  3.62e-24   1.4e-19\n",
       "   14680     -2.98   1.4e-23  4.06e-19\n",
       "   30281     -3.58  1.28e-22  2.59e-18\n",
       "     ...       ...       ...       ...\n",
       "   15577     -1.88   0.00252      0.05\n",
       "   63944      0.71   0.00252      0.05\n",
       "   68945     -1.98   0.00252      0.05\n",
       "  103414     -1.59   0.00252      0.05\n",
       "   69315      1.23   0.00252      0.05\n",
       "  -------\n",
       "  seqinfo: 25 sequences from an unspecified genome; no seqlengths"
      ]
     },
     "metadata": {},
     "output_type": "display_data"
    }
   ],
   "source": [
    "peaks.24H"
   ]
  },
  {
   "cell_type": "code",
   "execution_count": 71,
   "metadata": {},
   "outputs": [
    {
     "data": {
      "text/html": [
       "<table>\n",
       "<caption>A data.frame: 10 × 11</caption>\n",
       "<thead>\n",
       "\t<tr><th></th><th scope=col>seqnames</th><th scope=col>start</th><th scope=col>end</th><th scope=col>width</th><th scope=col>strand</th><th scope=col>Conc</th><th scope=col>Conc_ESC</th><th scope=col>Conc_5D</th><th scope=col>Fold</th><th scope=col>p.value</th><th scope=col>FDR</th></tr>\n",
       "\t<tr><th></th><th scope=col>&lt;fct&gt;</th><th scope=col>&lt;int&gt;</th><th scope=col>&lt;int&gt;</th><th scope=col>&lt;int&gt;</th><th scope=col>&lt;fct&gt;</th><th scope=col>&lt;dbl&gt;</th><th scope=col>&lt;dbl&gt;</th><th scope=col>&lt;dbl&gt;</th><th scope=col>&lt;dbl&gt;</th><th scope=col>&lt;dbl&gt;</th><th scope=col>&lt;dbl&gt;</th></tr>\n",
       "</thead>\n",
       "<tbody>\n",
       "\t<tr><th scope=row>53864</th><td>chr2 </td><td> 48196112</td><td> 48196612</td><td>501</td><td>*</td><td>8.25</td><td>4.54</td><td>9.19</td><td>-4.65</td><td>1.79e-74</td><td>2.08e-69</td></tr>\n",
       "\t<tr><th scope=row>38529</th><td>chr16</td><td> 22681478</td><td> 22681978</td><td>501</td><td>*</td><td>8.12</td><td>4.85</td><td>9.05</td><td>-4.20</td><td>1.11e-67</td><td>6.43e-63</td></tr>\n",
       "\t<tr><th scope=row>8286</th><td>chr1 </td><td>205030954</td><td>205031454</td><td>501</td><td>*</td><td>8.16</td><td>5.31</td><td>9.06</td><td>-3.75</td><td>1.31e-63</td><td>5.06e-59</td></tr>\n",
       "\t<tr><th scope=row>3971</th><td>chr1 </td><td> 69071682</td><td> 69072182</td><td>501</td><td>*</td><td>7.99</td><td>4.34</td><td>8.93</td><td>-4.59</td><td>1.88e-62</td><td>5.48e-58</td></tr>\n",
       "\t<tr><th scope=row>107485</th><td>chr9 </td><td> 23537638</td><td> 23538138</td><td>501</td><td>*</td><td>8.45</td><td>6.13</td><td>9.29</td><td>-3.16</td><td>1.16e-61</td><td>2.70e-57</td></tr>\n",
       "\t<tr><th scope=row>81278</th><td>chr5 </td><td>  3489265</td><td>  3489765</td><td>501</td><td>*</td><td>7.88</td><td>4.53</td><td>8.81</td><td>-4.28</td><td>9.17e-59</td><td>1.78e-54</td></tr>\n",
       "\t<tr><th scope=row>94673</th><td>chr6 </td><td>170243787</td><td>170244287</td><td>501</td><td>*</td><td>7.84</td><td>4.40</td><td>8.77</td><td>-4.37</td><td>3.51e-57</td><td>5.83e-53</td></tr>\n",
       "\t<tr><th scope=row>18136</th><td>chr11</td><td> 57597851</td><td> 57598351</td><td>501</td><td>*</td><td>8.79</td><td>6.93</td><td>9.57</td><td>-2.64</td><td>1.28e-56</td><td>1.86e-52</td></tr>\n",
       "\t<tr><th scope=row>49655</th><td>chr19</td><td> 19485077</td><td> 19485577</td><td>501</td><td>*</td><td>7.79</td><td>4.38</td><td>8.72</td><td>-4.35</td><td>2.80e-55</td><td>3.62e-51</td></tr>\n",
       "\t<tr><th scope=row>7277</th><td>chr1 </td><td>180194783</td><td>180195283</td><td>501</td><td>*</td><td>8.03</td><td>5.50</td><td>8.90</td><td>-3.39</td><td>1.37e-54</td><td>1.59e-50</td></tr>\n",
       "</tbody>\n",
       "</table>\n"
      ],
      "text/latex": [
       "A data.frame: 10 × 11\n",
       "\\begin{tabular}{r|lllllllllll}\n",
       "  & seqnames & start & end & width & strand & Conc & Conc\\_ESC & Conc\\_5D & Fold & p.value & FDR\\\\\n",
       "  & <fct> & <int> & <int> & <int> & <fct> & <dbl> & <dbl> & <dbl> & <dbl> & <dbl> & <dbl>\\\\\n",
       "\\hline\n",
       "\t53864 & chr2  &  48196112 &  48196612 & 501 & * & 8.25 & 4.54 & 9.19 & -4.65 & 1.79e-74 & 2.08e-69\\\\\n",
       "\t38529 & chr16 &  22681478 &  22681978 & 501 & * & 8.12 & 4.85 & 9.05 & -4.20 & 1.11e-67 & 6.43e-63\\\\\n",
       "\t8286 & chr1  & 205030954 & 205031454 & 501 & * & 8.16 & 5.31 & 9.06 & -3.75 & 1.31e-63 & 5.06e-59\\\\\n",
       "\t3971 & chr1  &  69071682 &  69072182 & 501 & * & 7.99 & 4.34 & 8.93 & -4.59 & 1.88e-62 & 5.48e-58\\\\\n",
       "\t107485 & chr9  &  23537638 &  23538138 & 501 & * & 8.45 & 6.13 & 9.29 & -3.16 & 1.16e-61 & 2.70e-57\\\\\n",
       "\t81278 & chr5  &   3489265 &   3489765 & 501 & * & 7.88 & 4.53 & 8.81 & -4.28 & 9.17e-59 & 1.78e-54\\\\\n",
       "\t94673 & chr6  & 170243787 & 170244287 & 501 & * & 7.84 & 4.40 & 8.77 & -4.37 & 3.51e-57 & 5.83e-53\\\\\n",
       "\t18136 & chr11 &  57597851 &  57598351 & 501 & * & 8.79 & 6.93 & 9.57 & -2.64 & 1.28e-56 & 1.86e-52\\\\\n",
       "\t49655 & chr19 &  19485077 &  19485577 & 501 & * & 7.79 & 4.38 & 8.72 & -4.35 & 2.80e-55 & 3.62e-51\\\\\n",
       "\t7277 & chr1  & 180194783 & 180195283 & 501 & * & 8.03 & 5.50 & 8.90 & -3.39 & 1.37e-54 & 1.59e-50\\\\\n",
       "\\end{tabular}\n"
      ],
      "text/markdown": [
       "\n",
       "A data.frame: 10 × 11\n",
       "\n",
       "| <!--/--> | seqnames &lt;fct&gt; | start &lt;int&gt; | end &lt;int&gt; | width &lt;int&gt; | strand &lt;fct&gt; | Conc &lt;dbl&gt; | Conc_ESC &lt;dbl&gt; | Conc_5D &lt;dbl&gt; | Fold &lt;dbl&gt; | p.value &lt;dbl&gt; | FDR &lt;dbl&gt; |\n",
       "|---|---|---|---|---|---|---|---|---|---|---|---|\n",
       "| 53864 | chr2  |  48196112 |  48196612 | 501 | * | 8.25 | 4.54 | 9.19 | -4.65 | 1.79e-74 | 2.08e-69 |\n",
       "| 38529 | chr16 |  22681478 |  22681978 | 501 | * | 8.12 | 4.85 | 9.05 | -4.20 | 1.11e-67 | 6.43e-63 |\n",
       "| 8286 | chr1  | 205030954 | 205031454 | 501 | * | 8.16 | 5.31 | 9.06 | -3.75 | 1.31e-63 | 5.06e-59 |\n",
       "| 3971 | chr1  |  69071682 |  69072182 | 501 | * | 7.99 | 4.34 | 8.93 | -4.59 | 1.88e-62 | 5.48e-58 |\n",
       "| 107485 | chr9  |  23537638 |  23538138 | 501 | * | 8.45 | 6.13 | 9.29 | -3.16 | 1.16e-61 | 2.70e-57 |\n",
       "| 81278 | chr5  |   3489265 |   3489765 | 501 | * | 7.88 | 4.53 | 8.81 | -4.28 | 9.17e-59 | 1.78e-54 |\n",
       "| 94673 | chr6  | 170243787 | 170244287 | 501 | * | 7.84 | 4.40 | 8.77 | -4.37 | 3.51e-57 | 5.83e-53 |\n",
       "| 18136 | chr11 |  57597851 |  57598351 | 501 | * | 8.79 | 6.93 | 9.57 | -2.64 | 1.28e-56 | 1.86e-52 |\n",
       "| 49655 | chr19 |  19485077 |  19485577 | 501 | * | 7.79 | 4.38 | 8.72 | -4.35 | 2.80e-55 | 3.62e-51 |\n",
       "| 7277 | chr1  | 180194783 | 180195283 | 501 | * | 8.03 | 5.50 | 8.90 | -3.39 | 1.37e-54 | 1.59e-50 |\n",
       "\n"
      ],
      "text/plain": [
       "       seqnames start     end       width strand Conc Conc_ESC Conc_5D Fold \n",
       "53864  chr2      48196112  48196612 501   *      8.25 4.54     9.19    -4.65\n",
       "38529  chr16     22681478  22681978 501   *      8.12 4.85     9.05    -4.20\n",
       "8286   chr1     205030954 205031454 501   *      8.16 5.31     9.06    -3.75\n",
       "3971   chr1      69071682  69072182 501   *      7.99 4.34     8.93    -4.59\n",
       "107485 chr9      23537638  23538138 501   *      8.45 6.13     9.29    -3.16\n",
       "81278  chr5       3489265   3489765 501   *      7.88 4.53     8.81    -4.28\n",
       "94673  chr6     170243787 170244287 501   *      7.84 4.40     8.77    -4.37\n",
       "18136  chr11     57597851  57598351 501   *      8.79 6.93     9.57    -2.64\n",
       "49655  chr19     19485077  19485577 501   *      7.79 4.38     8.72    -4.35\n",
       "7277   chr1     180194783 180195283 501   *      8.03 5.50     8.90    -3.39\n",
       "       p.value  FDR     \n",
       "53864  1.79e-74 2.08e-69\n",
       "38529  1.11e-67 6.43e-63\n",
       "8286   1.31e-63 5.06e-59\n",
       "3971   1.88e-62 5.48e-58\n",
       "107485 1.16e-61 2.70e-57\n",
       "81278  9.17e-59 1.78e-54\n",
       "94673  3.51e-57 5.83e-53\n",
       "18136  1.28e-56 1.86e-52\n",
       "49655  2.80e-55 3.62e-51\n",
       "7277   1.37e-54 1.59e-50"
      ]
     },
     "metadata": {},
     "output_type": "display_data"
    }
   ],
   "source": [
    "peaks.5D %>% as.data.frame %>% head(10)"
   ]
  },
  {
   "cell_type": "code",
   "execution_count": 35,
   "metadata": {},
   "outputs": [],
   "source": [
    "gtf <- read.table(\"/c/groups/sanjana_lab/cdai/ref_genome/gencode.v31.primary_assembly.annotation.pandas.df.txt\", sep=\"\\t\", stringsAsFactors = F, header = T)"
   ]
  },
  {
   "cell_type": "code",
   "execution_count": 36,
   "metadata": {},
   "outputs": [],
   "source": [
    "gtf <- gtf %>% filter(feature == 'gene' & gene_type == \"protein_coding\" ) %>% dplyr::select(seqname, start, end, strand, gene_id, gene_name, gene_type)"
   ]
  },
  {
   "cell_type": "code",
   "execution_count": 37,
   "metadata": {},
   "outputs": [],
   "source": [
    "gencode <- GenomicRanges::makeGRangesFromDataFrame(gtf, keep.extra.columns = T)"
   ]
  },
  {
   "cell_type": "code",
   "execution_count": 38,
   "metadata": {},
   "outputs": [],
   "source": [
    "gencode.promoters <- promoters(gencode, upstream = 2000, downstream = 500)"
   ]
  },
  {
   "cell_type": "code",
   "execution_count": 39,
   "metadata": {},
   "outputs": [
    {
     "data": {
      "text/plain": [
       "GRanges object with 6 ranges and 3 metadata columns:\n",
       "      seqnames        ranges strand |            gene_id   gene_name\n",
       "         <Rle>     <IRanges>  <Rle> |        <character> <character>\n",
       "  [1]     chr1   63419-65918      + |  ENSG00000186092.6       OR4F5\n",
       "  [2]     chr1 451198-453697      - |  ENSG00000284733.1      OR4F29\n",
       "  [3]     chr1 686174-688673      - |  ENSG00000284662.1      OR4F16\n",
       "  [4]     chr1 921928-924427      + | ENSG00000187634.12      SAMD11\n",
       "  [5]     chr1 958810-961309      - | ENSG00000188976.11       NOC2L\n",
       "  [6]     chr1 958584-961083      + | ENSG00000187961.14      KLHL17\n",
       "           gene_type\n",
       "         <character>\n",
       "  [1] protein_coding\n",
       "  [2] protein_coding\n",
       "  [3] protein_coding\n",
       "  [4] protein_coding\n",
       "  [5] protein_coding\n",
       "  [6] protein_coding\n",
       "  -------\n",
       "  seqinfo: 40 sequences from an unspecified genome; no seqlengths"
      ]
     },
     "metadata": {},
     "output_type": "display_data"
    }
   ],
   "source": [
    "gencode.promoters %>% head"
   ]
  },
  {
   "cell_type": "code",
   "execution_count": 52,
   "metadata": {},
   "outputs": [
    {
     "name": "stderr",
     "output_type": "stream",
     "text": [
      "Warning message in .Seqinfo.mergexy(x, y):\n",
      "“Each of the 2 combined objects has sequence levels not in the other:\n",
      "  - in 'x': KI270467.1, GL000225.1\n",
      "  - in 'y': chrY, chrM, GL000009.2, GL000194.1, GL000195.1, GL000205.2, GL000213.1, GL000218.1, GL000219.1, KI270711.1, KI270713.1, KI270721.1, KI270726.1, KI270727.1, KI270728.1, KI270731.1, KI270734.1\n",
      "  Make sure to always combine/compare objects based on the same reference\n",
      "  genome (use suppressWarnings() to suppress this warning).”"
     ]
    }
   ],
   "source": [
    "# intersect significant 24H vs ES peaks with promoter regions\n",
    "peaks.24H.promoter <- GenomicRanges::intersect(peaks.24H, gencode.promoters)"
   ]
  },
  {
   "cell_type": "code",
   "execution_count": 53,
   "metadata": {},
   "outputs": [
    {
     "name": "stderr",
     "output_type": "stream",
     "text": [
      "Warning message in .Seqinfo.mergexy(x, y):\n",
      "“Each of the 2 combined objects has sequence levels not in the other:\n",
      "  - in 'x': KI270714.1, KI270467.1, KI270438.1, GL000225.1, KI270732.1, KI270749.1, KI270719.1, KI270442.1, KI270747.1, KI270466.1, KI270733.1\n",
      "  - in 'y': chrY, chrM, GL000009.2, GL000194.1, GL000213.1, GL000218.1, KI270711.1, KI270721.1, KI270726.1, KI270727.1, KI270728.1, KI270731.1, KI270734.1\n",
      "  Make sure to always combine/compare objects based on the same reference\n",
      "  genome (use suppressWarnings() to suppress this warning).”"
     ]
    }
   ],
   "source": [
    "peaks.5D.promoter <- GenomicRanges::intersect(peaks.5D, gencode.promoters)"
   ]
  },
  {
   "cell_type": "code",
   "execution_count": 59,
   "metadata": {},
   "outputs": [
    {
     "name": "stderr",
     "output_type": "stream",
     "text": [
      "Warning message in .Seqinfo.mergexy(x, y):\n",
      "“Each of the 2 combined objects has sequence levels not in the other:\n",
      "  - in 'x': KI270467.1, GL000225.1\n",
      "  - in 'y': chrY, chrM, GL000009.2, GL000194.1, GL000195.1, GL000205.2, GL000213.1, GL000218.1, GL000219.1, KI270711.1, KI270713.1, KI270721.1, KI270726.1, KI270727.1, KI270728.1, KI270731.1, KI270734.1\n",
      "  Make sure to always combine/compare objects based on the same reference\n",
      "  genome (use suppressWarnings() to suppress this warning).”Warning message in .Seqinfo.mergexy(x, y):\n",
      "“Each of the 2 combined objects has sequence levels not in the other:\n",
      "  - in 'x': KI270714.1, KI270467.1, KI270438.1, GL000225.1, KI270732.1, KI270749.1, KI270719.1, KI270442.1, KI270747.1, KI270466.1, KI270733.1\n",
      "  - in 'y': chrY, chrM, GL000009.2, GL000194.1, GL000213.1, GL000218.1, KI270711.1, KI270721.1, KI270726.1, KI270727.1, KI270728.1, KI270731.1, KI270734.1\n",
      "  Make sure to always combine/compare objects based on the same reference\n",
      "  genome (use suppressWarnings() to suppress this warning).”"
     ]
    }
   ],
   "source": [
    "# see if there's overlap with gene region:\n",
    "peaks.24H.gene <- GenomicRanges::intersect(peaks.24H, gencode)\n",
    "peaks.5D.gene <- GenomicRanges::intersect(peaks.5D, gencode)"
   ]
  },
  {
   "cell_type": "code",
   "execution_count": 68,
   "metadata": {},
   "outputs": [],
   "source": [
    "peaks.5D %>% as.data.frame %>% write.table(\"diffbind_peaks_5D_significant_promoter.bed\", sep = \"\\t\", \n",
    "                                           quote = F, row.names = F, col.names = F)\n",
    "peaks.24H %>% as.data.frame %>% write.table(\"diffbind_peaks_24H_significant_promoter.bed\", sep = \"\\t\",\n",
    "                                           quote = F, row.names = F, col.names = F)"
   ]
  },
  {
   "cell_type": "code",
   "execution_count": 69,
   "metadata": {},
   "outputs": [],
   "source": [
    "peaks.5D %>% as.data.frame %>% write.table(\"diffbind_5D_significant_peaks.bed\", sep = \"\\t\", \n",
    "                                           quote = F, row.names = F, col.names = F)\n",
    "peaks.24H %>% as.data.frame %>% write.table(\"diffbind_24H_significant_peaks.bed\", sep = \"\\t\",\n",
    "                                           quote = F, row.names = F, col.names = F)"
   ]
  },
  {
   "cell_type": "code",
   "execution_count": null,
   "metadata": {},
   "outputs": [],
   "source": []
  }
 ],
 "metadata": {
  "kernelspec": {
   "display_name": "R3.6",
   "language": "R",
   "name": "ir36"
  },
  "language_info": {
   "codemirror_mode": "r",
   "file_extension": ".r",
   "mimetype": "text/x-r-source",
   "name": "R",
   "pygments_lexer": "r",
   "version": "3.6.1"
  }
 },
 "nbformat": 4,
 "nbformat_minor": 2
}
