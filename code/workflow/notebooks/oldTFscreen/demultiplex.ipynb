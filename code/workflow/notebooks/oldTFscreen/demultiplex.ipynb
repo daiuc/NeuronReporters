{
 "cells": [
  {
   "cell_type": "code",
   "execution_count": 1,
   "metadata": {
    "ExecuteTime": {
     "end_time": "2019-08-22T02:01:49.348041Z",
     "start_time": "2019-08-22T02:01:46.334247Z"
    },
    "slideshow": {
     "slide_type": "skip"
    }
   },
   "outputs": [
    {
     "data": {
      "text/html": [
       "<style>.container { width:99% !important; }</style>"
      ],
      "text/plain": [
       "<IPython.core.display.HTML object>"
      ]
     },
     "metadata": {},
     "output_type": "display_data"
    }
   ],
   "source": [
    "#housekeeping and essential imports\n",
    "import pandas as pd\n",
    "import os\n",
    "from IPython.core.display import display, HTML\n",
    "display(HTML(\"<style>.container { width:99% !important; }</style>\"))\n",
    "pd.set_option('display.max_rows', 500)\n",
    "pd.set_option('display.width', 1800)\n",
    "pd.set_option ('display.max_colwidth', 150)\n",
    "pd.set_option('display.max_columns', 50)\n",
    "\n",
    "from IPython.core.interactiveshell import InteractiveShell\n",
    "InteractiveShell.ast_node_interactivity = \"all\""
   ]
  },
  {
   "cell_type": "code",
   "execution_count": 2,
   "metadata": {
    "ExecuteTime": {
     "end_time": "2019-08-22T02:01:55.947875Z",
     "start_time": "2019-08-22T02:01:55.942171Z"
    },
    "slideshow": {
     "slide_type": "skip"
    }
   },
   "outputs": [
    {
     "data": {
      "text/html": [
       "<style type=\"text/css\">\n",
       "table.dataframe td, table.dataframe th {\n",
       "    border: None#1px dotted lightgrey;\n",
       "}"
      ],
      "text/plain": [
       "<IPython.core.display.HTML object>"
      ]
     },
     "metadata": {},
     "output_type": "display_data"
    }
   ],
   "source": [
    "%%HTML\n",
    "<style type=\"text/css\">\n",
    "table.dataframe td, table.dataframe th {\n",
    "    border: None#1px dotted lightgrey;\n",
    "}\n"
   ]
  },
  {
   "cell_type": "code",
   "execution_count": 3,
   "metadata": {
    "ExecuteTime": {
     "end_time": "2019-08-22T02:02:07.337215Z",
     "start_time": "2019-08-22T02:02:06.113369Z"
    },
    "slideshow": {
     "slide_type": "skip"
    }
   },
   "outputs": [],
   "source": [
    "import matplotlib.pyplot as plt\n",
    "from matplotlib.ticker import FuncFormatter\n",
    "%matplotlib inline\n",
    "import seaborn as sns\n",
    "plt.style.use('seaborn-dark-palette')\n",
    "#plt.style.use('seaborn')"
   ]
  },
  {
   "cell_type": "code",
   "execution_count": 4,
   "metadata": {
    "ExecuteTime": {
     "end_time": "2019-08-22T02:02:56.310220Z",
     "start_time": "2019-08-22T02:02:56.299374Z"
    },
    "slideshow": {
     "slide_type": "skip"
    }
   },
   "outputs": [],
   "source": [
    "os.chdir(\"/gpfs/commons/groups/sanjana_lab/cdai/TFscreen/data/20190816\")"
   ]
  },
  {
   "cell_type": "code",
   "execution_count": 9,
   "metadata": {
    "ExecuteTime": {
     "end_time": "2019-08-22T02:03:52.143810Z",
     "start_time": "2019-08-22T02:03:52.136394Z"
    },
    "slideshow": {
     "slide_type": "skip"
    }
   },
   "outputs": [],
   "source": [
    "samplesheet = pd.read_csv('20190815SampleSheet.csv', skiprows=17)"
   ]
  },
  {
   "cell_type": "code",
   "execution_count": 12,
   "metadata": {
    "ExecuteTime": {
     "end_time": "2019-08-22T02:05:13.301786Z",
     "start_time": "2019-08-22T02:05:13.298122Z"
    },
    "slideshow": {
     "slide_type": "skip"
    }
   },
   "outputs": [],
   "source": [
    "samplesheet.rename(columns={'index':'i7_index', 'index2':'i5_index'}, inplace=True)"
   ]
  },
  {
   "cell_type": "code",
   "execution_count": 131,
   "metadata": {
    "ExecuteTime": {
     "end_time": "2019-08-22T12:44:04.691987Z",
     "start_time": "2019-08-22T12:44:04.679023Z"
    },
    "scrolled": true,
    "slideshow": {
     "slide_type": "skip"
    }
   },
   "outputs": [
    {
     "data": {
      "text/html": [
       "<div>\n",
       "<style scoped>\n",
       "    .dataframe tbody tr th:only-of-type {\n",
       "        vertical-align: middle;\n",
       "    }\n",
       "\n",
       "    .dataframe tbody tr th {\n",
       "        vertical-align: top;\n",
       "    }\n",
       "\n",
       "    .dataframe thead th {\n",
       "        text-align: right;\n",
       "    }\n",
       "</style>\n",
       "<table border=\"1\" class=\"dataframe\">\n",
       "  <thead>\n",
       "    <tr style=\"text-align: right;\">\n",
       "      <th></th>\n",
       "      <th>Sample_ID</th>\n",
       "      <th>Sample_Name</th>\n",
       "      <th>I7_Index_ID</th>\n",
       "      <th>i7_index</th>\n",
       "      <th>I5_Index_ID</th>\n",
       "      <th>i5_index</th>\n",
       "      <th>Operator</th>\n",
       "    </tr>\n",
       "  </thead>\n",
       "  <tbody>\n",
       "    <tr>\n",
       "      <th>0</th>\n",
       "      <td>S1</td>\n",
       "      <td>S1</td>\n",
       "      <td>R1</td>\n",
       "      <td>CTCTGGTA</td>\n",
       "      <td>F1</td>\n",
       "      <td>CTCTCTAT</td>\n",
       "      <td>Congyi</td>\n",
       "    </tr>\n",
       "    <tr>\n",
       "      <th>1</th>\n",
       "      <td>S2</td>\n",
       "      <td>S2</td>\n",
       "      <td>R2</td>\n",
       "      <td>TTCCATCC</td>\n",
       "      <td>F1</td>\n",
       "      <td>CTCTCTAT</td>\n",
       "      <td>Congyi</td>\n",
       "    </tr>\n",
       "    <tr>\n",
       "      <th>2</th>\n",
       "      <td>S3</td>\n",
       "      <td>S3</td>\n",
       "      <td>R3</td>\n",
       "      <td>GCCTCAAT</td>\n",
       "      <td>F1</td>\n",
       "      <td>CTCTCTAT</td>\n",
       "      <td>Congyi</td>\n",
       "    </tr>\n",
       "    <tr>\n",
       "      <th>3</th>\n",
       "      <td>S4</td>\n",
       "      <td>S4</td>\n",
       "      <td>R4</td>\n",
       "      <td>TCTATCCG</td>\n",
       "      <td>F1</td>\n",
       "      <td>CTCTCTAT</td>\n",
       "      <td>Congyi</td>\n",
       "    </tr>\n",
       "    <tr>\n",
       "      <th>4</th>\n",
       "      <td>S5</td>\n",
       "      <td>S5</td>\n",
       "      <td>R5</td>\n",
       "      <td>GTCTACCA</td>\n",
       "      <td>F1</td>\n",
       "      <td>CTCTCTAT</td>\n",
       "      <td>Congyi</td>\n",
       "    </tr>\n",
       "  </tbody>\n",
       "</table>\n",
       "</div>"
      ],
      "text/plain": [
       "  Sample_ID Sample_Name I7_Index_ID  i7_index I5_Index_ID  i5_index Operator\n",
       "0        S1          S1          R1  CTCTGGTA          F1  CTCTCTAT   Congyi\n",
       "1        S2          S2          R2  TTCCATCC          F1  CTCTCTAT   Congyi\n",
       "2        S3          S3          R3  GCCTCAAT          F1  CTCTCTAT   Congyi\n",
       "3        S4          S4          R4  TCTATCCG          F1  CTCTCTAT   Congyi\n",
       "4        S5          S5          R5  GTCTACCA          F1  CTCTCTAT   Congyi"
      ]
     },
     "execution_count": 131,
     "metadata": {},
     "output_type": "execute_result"
    }
   ],
   "source": [
    "samplesheet.head()"
   ]
  },
  {
   "cell_type": "code",
   "execution_count": 18,
   "metadata": {
    "ExecuteTime": {
     "end_time": "2019-08-22T02:45:35.462681Z",
     "start_time": "2019-08-22T02:45:35.458616Z"
    },
    "slideshow": {
     "slide_type": "skip"
    }
   },
   "outputs": [],
   "source": [
    "i7 = samplesheet.i7_index.unique()\n",
    "i5 = samplesheet.i5_index.unique()"
   ]
  },
  {
   "cell_type": "markdown",
   "metadata": {
    "slideshow": {
     "slide_type": "skip"
    }
   },
   "source": [
    "**Evidence that i5 needs to use reverse sequence**"
   ]
  },
  {
   "cell_type": "code",
   "execution_count": 30,
   "metadata": {
    "ExecuteTime": {
     "end_time": "2019-08-22T02:50:16.178434Z",
     "start_time": "2019-08-22T02:50:16.161956Z"
    },
    "slideshow": {
     "slide_type": "skip"
    }
   },
   "outputs": [
    {
     "data": {
      "text/html": [
       "<div>\n",
       "<style scoped>\n",
       "    .dataframe tbody tr th:only-of-type {\n",
       "        vertical-align: middle;\n",
       "    }\n",
       "\n",
       "    .dataframe tbody tr th {\n",
       "        vertical-align: top;\n",
       "    }\n",
       "\n",
       "    .dataframe thead th {\n",
       "        text-align: right;\n",
       "    }\n",
       "</style>\n",
       "<table border=\"1\" class=\"dataframe\">\n",
       "  <thead>\n",
       "    <tr style=\"text-align: right;\">\n",
       "      <th></th>\n",
       "      <th>Sample_ID</th>\n",
       "      <th>Sample_Name</th>\n",
       "      <th>I7_Index_ID</th>\n",
       "      <th>i7_index</th>\n",
       "      <th>I5_Index_ID</th>\n",
       "      <th>i5_index</th>\n",
       "      <th>Operator</th>\n",
       "    </tr>\n",
       "  </thead>\n",
       "  <tbody>\n",
       "    <tr>\n",
       "      <th>40</th>\n",
       "      <td>X13</td>\n",
       "      <td>X13</td>\n",
       "      <td>R1</td>\n",
       "      <td>CTCTGGTA</td>\n",
       "      <td>F2</td>\n",
       "      <td>AGAGGATA</td>\n",
       "      <td>Congyi</td>\n",
       "    </tr>\n",
       "    <tr>\n",
       "      <th>41</th>\n",
       "      <td>X14</td>\n",
       "      <td>X14</td>\n",
       "      <td>R2</td>\n",
       "      <td>TTCCATCC</td>\n",
       "      <td>F2</td>\n",
       "      <td>AGAGGATA</td>\n",
       "      <td>Congyi</td>\n",
       "    </tr>\n",
       "    <tr>\n",
       "      <th>42</th>\n",
       "      <td>X15</td>\n",
       "      <td>X15</td>\n",
       "      <td>R3</td>\n",
       "      <td>GCCTCAAT</td>\n",
       "      <td>F2</td>\n",
       "      <td>AGAGGATA</td>\n",
       "      <td>Congyi</td>\n",
       "    </tr>\n",
       "    <tr>\n",
       "      <th>43</th>\n",
       "      <td>X16</td>\n",
       "      <td>X16</td>\n",
       "      <td>R4</td>\n",
       "      <td>TCTATCCG</td>\n",
       "      <td>F2</td>\n",
       "      <td>AGAGGATA</td>\n",
       "      <td>Congyi</td>\n",
       "    </tr>\n",
       "    <tr>\n",
       "      <th>44</th>\n",
       "      <td>X17</td>\n",
       "      <td>X17</td>\n",
       "      <td>R5</td>\n",
       "      <td>GTCTACCA</td>\n",
       "      <td>F2</td>\n",
       "      <td>AGAGGATA</td>\n",
       "      <td>Congyi</td>\n",
       "    </tr>\n",
       "    <tr>\n",
       "      <th>45</th>\n",
       "      <td>X18</td>\n",
       "      <td>X18</td>\n",
       "      <td>R6</td>\n",
       "      <td>AACCAGGT</td>\n",
       "      <td>F2</td>\n",
       "      <td>AGAGGATA</td>\n",
       "      <td>Congyi</td>\n",
       "    </tr>\n",
       "    <tr>\n",
       "      <th>46</th>\n",
       "      <td>X19</td>\n",
       "      <td>X19</td>\n",
       "      <td>R7</td>\n",
       "      <td>CAGAACTG</td>\n",
       "      <td>F2</td>\n",
       "      <td>AGAGGATA</td>\n",
       "      <td>Congyi</td>\n",
       "    </tr>\n",
       "    <tr>\n",
       "      <th>47</th>\n",
       "      <td>X20</td>\n",
       "      <td>X20</td>\n",
       "      <td>R8</td>\n",
       "      <td>ACGTTCGA</td>\n",
       "      <td>F2</td>\n",
       "      <td>AGAGGATA</td>\n",
       "      <td>Congyi</td>\n",
       "    </tr>\n",
       "    <tr>\n",
       "      <th>48</th>\n",
       "      <td>X21</td>\n",
       "      <td>X21</td>\n",
       "      <td>R9</td>\n",
       "      <td>AAGCAACG</td>\n",
       "      <td>F2</td>\n",
       "      <td>AGAGGATA</td>\n",
       "      <td>Congyi</td>\n",
       "    </tr>\n",
       "    <tr>\n",
       "      <th>49</th>\n",
       "      <td>X22</td>\n",
       "      <td>X22</td>\n",
       "      <td>R10</td>\n",
       "      <td>GAACGGTA</td>\n",
       "      <td>F2</td>\n",
       "      <td>AGAGGATA</td>\n",
       "      <td>Congyi</td>\n",
       "    </tr>\n",
       "    <tr>\n",
       "      <th>96</th>\n",
       "      <td>Z13</td>\n",
       "      <td>Z13</td>\n",
       "      <td>R1</td>\n",
       "      <td>TACCAGAG</td>\n",
       "      <td>F2</td>\n",
       "      <td>AGAGGATA</td>\n",
       "      <td>Congyi</td>\n",
       "    </tr>\n",
       "    <tr>\n",
       "      <th>97</th>\n",
       "      <td>Z14</td>\n",
       "      <td>Z14</td>\n",
       "      <td>R2</td>\n",
       "      <td>GGATGGAA</td>\n",
       "      <td>F2</td>\n",
       "      <td>AGAGGATA</td>\n",
       "      <td>Congyi</td>\n",
       "    </tr>\n",
       "    <tr>\n",
       "      <th>98</th>\n",
       "      <td>Z15</td>\n",
       "      <td>Z15</td>\n",
       "      <td>R3</td>\n",
       "      <td>ATTGAGGC</td>\n",
       "      <td>F2</td>\n",
       "      <td>AGAGGATA</td>\n",
       "      <td>Congyi</td>\n",
       "    </tr>\n",
       "    <tr>\n",
       "      <th>99</th>\n",
       "      <td>Z16</td>\n",
       "      <td>Z16</td>\n",
       "      <td>R4</td>\n",
       "      <td>CGGATAGA</td>\n",
       "      <td>F2</td>\n",
       "      <td>AGAGGATA</td>\n",
       "      <td>Congyi</td>\n",
       "    </tr>\n",
       "    <tr>\n",
       "      <th>100</th>\n",
       "      <td>Z17</td>\n",
       "      <td>Z17</td>\n",
       "      <td>R5</td>\n",
       "      <td>TGGTAGAC</td>\n",
       "      <td>F2</td>\n",
       "      <td>AGAGGATA</td>\n",
       "      <td>Congyi</td>\n",
       "    </tr>\n",
       "    <tr>\n",
       "      <th>101</th>\n",
       "      <td>Z18</td>\n",
       "      <td>Z18</td>\n",
       "      <td>R6</td>\n",
       "      <td>ACCTGGTT</td>\n",
       "      <td>F2</td>\n",
       "      <td>AGAGGATA</td>\n",
       "      <td>Congyi</td>\n",
       "    </tr>\n",
       "    <tr>\n",
       "      <th>102</th>\n",
       "      <td>Z19</td>\n",
       "      <td>Z19</td>\n",
       "      <td>R7</td>\n",
       "      <td>CAGTTCTG</td>\n",
       "      <td>F2</td>\n",
       "      <td>AGAGGATA</td>\n",
       "      <td>Congyi</td>\n",
       "    </tr>\n",
       "    <tr>\n",
       "      <th>103</th>\n",
       "      <td>Z20</td>\n",
       "      <td>Z20</td>\n",
       "      <td>R8</td>\n",
       "      <td>TCGAACGT</td>\n",
       "      <td>F2</td>\n",
       "      <td>AGAGGATA</td>\n",
       "      <td>Congyi</td>\n",
       "    </tr>\n",
       "    <tr>\n",
       "      <th>104</th>\n",
       "      <td>Z21</td>\n",
       "      <td>Z21</td>\n",
       "      <td>R9</td>\n",
       "      <td>CGTTGCTT</td>\n",
       "      <td>F2</td>\n",
       "      <td>AGAGGATA</td>\n",
       "      <td>Congyi</td>\n",
       "    </tr>\n",
       "    <tr>\n",
       "      <th>105</th>\n",
       "      <td>Z22</td>\n",
       "      <td>Z22</td>\n",
       "      <td>R10</td>\n",
       "      <td>TACCGTTC</td>\n",
       "      <td>F2</td>\n",
       "      <td>AGAGGATA</td>\n",
       "      <td>Congyi</td>\n",
       "    </tr>\n",
       "  </tbody>\n",
       "</table>\n",
       "</div>"
      ],
      "text/plain": [
       "    Sample_ID Sample_Name I7_Index_ID  i7_index I5_Index_ID  i5_index Operator\n",
       "40        X13         X13          R1  CTCTGGTA          F2  AGAGGATA   Congyi\n",
       "41        X14         X14          R2  TTCCATCC          F2  AGAGGATA   Congyi\n",
       "42        X15         X15          R3  GCCTCAAT          F2  AGAGGATA   Congyi\n",
       "43        X16         X16          R4  TCTATCCG          F2  AGAGGATA   Congyi\n",
       "44        X17         X17          R5  GTCTACCA          F2  AGAGGATA   Congyi\n",
       "45        X18         X18          R6  AACCAGGT          F2  AGAGGATA   Congyi\n",
       "46        X19         X19          R7  CAGAACTG          F2  AGAGGATA   Congyi\n",
       "47        X20         X20          R8  ACGTTCGA          F2  AGAGGATA   Congyi\n",
       "48        X21         X21          R9  AAGCAACG          F2  AGAGGATA   Congyi\n",
       "49        X22         X22         R10  GAACGGTA          F2  AGAGGATA   Congyi\n",
       "96        Z13         Z13          R1  TACCAGAG          F2  AGAGGATA   Congyi\n",
       "97        Z14         Z14          R2  GGATGGAA          F2  AGAGGATA   Congyi\n",
       "98        Z15         Z15          R3  ATTGAGGC          F2  AGAGGATA   Congyi\n",
       "99        Z16         Z16          R4  CGGATAGA          F2  AGAGGATA   Congyi\n",
       "100       Z17         Z17          R5  TGGTAGAC          F2  AGAGGATA   Congyi\n",
       "101       Z18         Z18          R6  ACCTGGTT          F2  AGAGGATA   Congyi\n",
       "102       Z19         Z19          R7  CAGTTCTG          F2  AGAGGATA   Congyi\n",
       "103       Z20         Z20          R8  TCGAACGT          F2  AGAGGATA   Congyi\n",
       "104       Z21         Z21          R9  CGTTGCTT          F2  AGAGGATA   Congyi\n",
       "105       Z22         Z22         R10  TACCGTTC          F2  AGAGGATA   Congyi"
      ]
     },
     "execution_count": 30,
     "metadata": {},
     "output_type": "execute_result"
    }
   ],
   "source": [
    "samplesheet[samplesheet.i5_index == 'AGAGGATA']"
   ]
  },
  {
   "cell_type": "markdown",
   "metadata": {
    "slideshow": {
     "slide_type": "skip"
    }
   },
   "source": [
    "**Evidence that i7 needs to use forward sequence**"
   ]
  },
  {
   "cell_type": "code",
   "execution_count": 57,
   "metadata": {
    "ExecuteTime": {
     "end_time": "2019-08-22T02:55:48.443727Z",
     "start_time": "2019-08-22T02:55:48.430197Z"
    },
    "slideshow": {
     "slide_type": "skip"
    }
   },
   "outputs": [
    {
     "data": {
      "text/html": [
       "<div>\n",
       "<style scoped>\n",
       "    .dataframe tbody tr th:only-of-type {\n",
       "        vertical-align: middle;\n",
       "    }\n",
       "\n",
       "    .dataframe tbody tr th {\n",
       "        vertical-align: top;\n",
       "    }\n",
       "\n",
       "    .dataframe thead th {\n",
       "        text-align: right;\n",
       "    }\n",
       "</style>\n",
       "<table border=\"1\" class=\"dataframe\">\n",
       "  <thead>\n",
       "    <tr style=\"text-align: right;\">\n",
       "      <th></th>\n",
       "      <th>Sample_ID</th>\n",
       "      <th>Sample_Name</th>\n",
       "      <th>I7_Index_ID</th>\n",
       "      <th>i7_index</th>\n",
       "      <th>I5_Index_ID</th>\n",
       "      <th>i5_index</th>\n",
       "      <th>Operator</th>\n",
       "    </tr>\n",
       "  </thead>\n",
       "  <tbody>\n",
       "    <tr>\n",
       "      <th>2</th>\n",
       "      <td>S3</td>\n",
       "      <td>S3</td>\n",
       "      <td>R3</td>\n",
       "      <td>GCCTCAAT</td>\n",
       "      <td>F1</td>\n",
       "      <td>CTCTCTAT</td>\n",
       "      <td>Congyi</td>\n",
       "    </tr>\n",
       "    <tr>\n",
       "      <th>14</th>\n",
       "      <td>S15</td>\n",
       "      <td>S15</td>\n",
       "      <td>R3</td>\n",
       "      <td>GCCTCAAT</td>\n",
       "      <td>F2</td>\n",
       "      <td>TATCCTCT</td>\n",
       "      <td>Congyi</td>\n",
       "    </tr>\n",
       "    <tr>\n",
       "      <th>23</th>\n",
       "      <td>S24</td>\n",
       "      <td>S24</td>\n",
       "      <td>R3</td>\n",
       "      <td>GCCTCAAT</td>\n",
       "      <td>F3</td>\n",
       "      <td>GTAAGGAG</td>\n",
       "      <td>Chao</td>\n",
       "    </tr>\n",
       "    <tr>\n",
       "      <th>30</th>\n",
       "      <td>X3</td>\n",
       "      <td>X3</td>\n",
       "      <td>R3</td>\n",
       "      <td>GCCTCAAT</td>\n",
       "      <td>F1</td>\n",
       "      <td>ATAGAGAG</td>\n",
       "      <td>Congyi</td>\n",
       "    </tr>\n",
       "    <tr>\n",
       "      <th>42</th>\n",
       "      <td>X15</td>\n",
       "      <td>X15</td>\n",
       "      <td>R3</td>\n",
       "      <td>GCCTCAAT</td>\n",
       "      <td>F2</td>\n",
       "      <td>AGAGGATA</td>\n",
       "      <td>Congyi</td>\n",
       "    </tr>\n",
       "    <tr>\n",
       "      <th>51</th>\n",
       "      <td>X24</td>\n",
       "      <td>X24</td>\n",
       "      <td>R3</td>\n",
       "      <td>GCCTCAAT</td>\n",
       "      <td>F3</td>\n",
       "      <td>CTCCTTAC</td>\n",
       "      <td>Chao</td>\n",
       "    </tr>\n",
       "  </tbody>\n",
       "</table>\n",
       "</div>"
      ],
      "text/plain": [
       "   Sample_ID Sample_Name I7_Index_ID  i7_index I5_Index_ID  i5_index Operator\n",
       "2         S3          S3          R3  GCCTCAAT          F1  CTCTCTAT   Congyi\n",
       "14       S15         S15          R3  GCCTCAAT          F2  TATCCTCT   Congyi\n",
       "23       S24         S24          R3  GCCTCAAT          F3  GTAAGGAG     Chao\n",
       "30        X3          X3          R3  GCCTCAAT          F1  ATAGAGAG   Congyi\n",
       "42       X15         X15          R3  GCCTCAAT          F2  AGAGGATA   Congyi\n",
       "51       X24         X24          R3  GCCTCAAT          F3  CTCCTTAC     Chao"
      ]
     },
     "execution_count": 57,
     "metadata": {},
     "output_type": "execute_result"
    }
   ],
   "source": [
    "samplesheet[samplesheet.i7_index == 'GCCTCAAT']"
   ]
  },
  {
   "cell_type": "code",
   "execution_count": 63,
   "metadata": {
    "ExecuteTime": {
     "end_time": "2019-08-22T03:30:21.902662Z",
     "start_time": "2019-08-22T03:30:21.897059Z"
    },
    "hide_input": false,
    "slideshow": {
     "slide_type": "skip"
    }
   },
   "outputs": [],
   "source": [
    "x = '''GGGGGGGG+AGATCTCG\n",
    "GGGGGGGG+ATAGAGAG\n",
    "GGGGGGGG+GGGGGGGG\n",
    "GGGGGGGG+AGAGGATA\n",
    "ACGTTCTA+TTTGAGAG\n",
    "GCCTCAAT+TGTGGATA\n",
    "TTCCATCC+TGTGGATA\n",
    "CTCTGGTA+TGTGGATA\n",
    "ACGTTCTA+TGTGGATA\n",
    "GTCTACCA+TTTGAGAG\n",
    "GGGGGGGG+AGATCTCG\n",
    "GGGGGGGG+ATAGAGAG\n",
    "GGGGGGGG+GGGGGGGG\n",
    "GGGGGGGG+AGAGGATA\n",
    "ACGTTCTA+TTTGAGAG\n",
    "AACCAGTT+TTTGAGAG\n",
    "ACGTTCTA+TGTGGATA\n",
    "GTCTACCA+TTTGAGAG\n",
    "AACCAGTT+TGTGGATA\n",
    "TTCCATCC+TGTGGATA\n",
    "GGGGGGGG+AGATCTCG\n",
    "GGGGGGGG+ATAGAGAG\n",
    "GGGGGGGG+GGGGGGGG\n",
    "GGGGGGGG+AGAGGATA\n",
    "ACGTTCTA+TTTGAGAG\n",
    "ACGTTCTA+TGTGGATA\n",
    "TTCCATCC+TGTGGATA\n",
    "AACCAGTT+TTTGAGAG\n",
    "CAGAACTT+TGTGGATA\n",
    "GCCTCAAT+TGTGGATA\n",
    "GGGGGGGG+AGATCTCG\n",
    "GGGGGGGG+ATAGAGAG\n",
    "GGGGGGGG+AGAGGATA\n",
    "ACGTTCTA+TTTGAGAG\n",
    "GGGGGGGG+GGGGGGGG\n",
    "ACGTTCTA+TGTGGATA\n",
    "AACCAGTT+TTTGAGAG\n",
    "AACCAGTT+TGTGGATA\n",
    "AAGCAACT+TTTGAGAG\n",
    "CAGAACTT+TGTGGATA'''.split(sep='\\n')"
   ]
  },
  {
   "cell_type": "code",
   "execution_count": 67,
   "metadata": {
    "ExecuteTime": {
     "end_time": "2019-08-22T03:31:12.349726Z",
     "start_time": "2019-08-22T03:31:12.343993Z"
    },
    "slideshow": {
     "slide_type": "skip"
    }
   },
   "outputs": [],
   "source": [
    "y='''7342600\n",
    "1644500\n",
    "885280\n",
    "778720\n",
    "603440\n",
    "599640\n",
    "561360\n",
    "550600\n",
    "548220\n",
    "532280\n",
    "5155680\n",
    "1956420\n",
    "1016840\n",
    "986040\n",
    "775180\n",
    "640900\n",
    "615680\n",
    "511800\n",
    "498720\n",
    "482580\n",
    "7335580\n",
    "1563580\n",
    "1212960\n",
    "731280\n",
    "664120\n",
    "605040\n",
    "567480\n",
    "545300\n",
    "539720\n",
    "539180\n",
    "4623060\n",
    "1466600\n",
    "705700\n",
    "676000\n",
    "665180\n",
    "608380\n",
    "566100\n",
    "491280\n",
    "418900\n",
    "400320'''.split('\\n')"
   ]
  },
  {
   "cell_type": "code",
   "execution_count": 69,
   "metadata": {
    "ExecuteTime": {
     "end_time": "2019-08-22T03:31:47.668681Z",
     "start_time": "2019-08-22T03:31:47.665853Z"
    },
    "slideshow": {
     "slide_type": "skip"
    }
   },
   "outputs": [],
   "source": [
    "y=[int(i) for i in y]"
   ]
  },
  {
   "cell_type": "code",
   "execution_count": 71,
   "metadata": {
    "ExecuteTime": {
     "end_time": "2019-08-22T03:32:43.445232Z",
     "start_time": "2019-08-22T03:32:43.441330Z"
    },
    "slideshow": {
     "slide_type": "skip"
    }
   },
   "outputs": [],
   "source": [
    "top_unknown = pd.DataFrame({'i7_i5':x, 'reads':y})"
   ]
  },
  {
   "cell_type": "code",
   "execution_count": 73,
   "metadata": {
    "ExecuteTime": {
     "end_time": "2019-08-22T03:33:03.134061Z",
     "start_time": "2019-08-22T03:33:03.123710Z"
    },
    "slideshow": {
     "slide_type": "skip"
    }
   },
   "outputs": [
    {
     "data": {
      "text/html": [
       "<div>\n",
       "<style scoped>\n",
       "    .dataframe tbody tr th:only-of-type {\n",
       "        vertical-align: middle;\n",
       "    }\n",
       "\n",
       "    .dataframe tbody tr th {\n",
       "        vertical-align: top;\n",
       "    }\n",
       "\n",
       "    .dataframe thead th {\n",
       "        text-align: right;\n",
       "    }\n",
       "</style>\n",
       "<table border=\"1\" class=\"dataframe\">\n",
       "  <thead>\n",
       "    <tr style=\"text-align: right;\">\n",
       "      <th></th>\n",
       "      <th>i7_i5</th>\n",
       "      <th>reads</th>\n",
       "    </tr>\n",
       "  </thead>\n",
       "  <tbody>\n",
       "    <tr>\n",
       "      <th>0</th>\n",
       "      <td>GGGGGGGG+AGATCTCG</td>\n",
       "      <td>7342600</td>\n",
       "    </tr>\n",
       "    <tr>\n",
       "      <th>1</th>\n",
       "      <td>GGGGGGGG+ATAGAGAG</td>\n",
       "      <td>1644500</td>\n",
       "    </tr>\n",
       "    <tr>\n",
       "      <th>2</th>\n",
       "      <td>GGGGGGGG+GGGGGGGG</td>\n",
       "      <td>885280</td>\n",
       "    </tr>\n",
       "    <tr>\n",
       "      <th>3</th>\n",
       "      <td>GGGGGGGG+AGAGGATA</td>\n",
       "      <td>778720</td>\n",
       "    </tr>\n",
       "    <tr>\n",
       "      <th>4</th>\n",
       "      <td>ACGTTCTA+TTTGAGAG</td>\n",
       "      <td>603440</td>\n",
       "    </tr>\n",
       "  </tbody>\n",
       "</table>\n",
       "</div>"
      ],
      "text/plain": [
       "               i7_i5    reads\n",
       "0  GGGGGGGG+AGATCTCG  7342600\n",
       "1  GGGGGGGG+ATAGAGAG  1644500\n",
       "2  GGGGGGGG+GGGGGGGG   885280\n",
       "3  GGGGGGGG+AGAGGATA   778720\n",
       "4  ACGTTCTA+TTTGAGAG   603440"
      ]
     },
     "execution_count": 73,
     "metadata": {},
     "output_type": "execute_result"
    }
   ],
   "source": [
    "top_unknown.head()"
   ]
  },
  {
   "cell_type": "code",
   "execution_count": 77,
   "metadata": {
    "ExecuteTime": {
     "end_time": "2019-08-22T03:34:23.523610Z",
     "start_time": "2019-08-22T03:34:23.517415Z"
    },
    "slideshow": {
     "slide_type": "skip"
    }
   },
   "outputs": [],
   "source": [
    "top_unknown[['i7','i5']]=top_unknown.i7_i5.str.split('+',expand=True)"
   ]
  },
  {
   "cell_type": "markdown",
   "metadata": {
    "slideshow": {
     "slide_type": "slide"
    }
   },
   "source": [
    "*`SPACE` key to move to forward, `SHIFT+SPACE` to move backward, `ESCAPE` to show all slides*\n",
    "\n",
    "### Top undetermined reads: top 10 from each lane of 4 lanes.\n",
    "\n",
    "Notice many barcodes are GGGGGGGG, these barcodes cannot be demultiplexed.\n",
    "\n",
    "Some barcodes do look like actual barcode sequences. They are 1 or 2 mismatches from actual sequence. We should be able to recover these point mutated barcodes.\n",
    "\n",
    "[Demultiplex summary](https://www.dropbox.com/s/4r5roj8rf9pwjjw/demultplux_summary.xlsx?dl=0)"
   ]
  },
  {
   "cell_type": "code",
   "execution_count": 85,
   "metadata": {
    "ExecuteTime": {
     "end_time": "2019-08-22T03:36:27.141467Z",
     "start_time": "2019-08-22T03:36:27.125631Z"
    },
    "hide_input": true,
    "slideshow": {
     "slide_type": "fragment"
    }
   },
   "outputs": [
    {
     "data": {
      "text/html": [
       "<div>\n",
       "<style scoped>\n",
       "    .dataframe tbody tr th:only-of-type {\n",
       "        vertical-align: middle;\n",
       "    }\n",
       "\n",
       "    .dataframe tbody tr th {\n",
       "        vertical-align: top;\n",
       "    }\n",
       "\n",
       "    .dataframe thead th {\n",
       "        text-align: right;\n",
       "    }\n",
       "</style>\n",
       "<table border=\"1\" class=\"dataframe\">\n",
       "  <thead>\n",
       "    <tr style=\"text-align: right;\">\n",
       "      <th></th>\n",
       "      <th>i7_i5</th>\n",
       "      <th>reads</th>\n",
       "      <th>i7</th>\n",
       "      <th>i5</th>\n",
       "    </tr>\n",
       "  </thead>\n",
       "  <tbody>\n",
       "    <tr>\n",
       "      <th>0</th>\n",
       "      <td>GGGGGGGG+AGATCTCG</td>\n",
       "      <td>7342600</td>\n",
       "      <td>GGGGGGGG</td>\n",
       "      <td>AGATCTCG</td>\n",
       "    </tr>\n",
       "    <tr>\n",
       "      <th>1</th>\n",
       "      <td>GGGGGGGG+ATAGAGAG</td>\n",
       "      <td>1644500</td>\n",
       "      <td>GGGGGGGG</td>\n",
       "      <td>ATAGAGAG</td>\n",
       "    </tr>\n",
       "    <tr>\n",
       "      <th>2</th>\n",
       "      <td>GGGGGGGG+GGGGGGGG</td>\n",
       "      <td>885280</td>\n",
       "      <td>GGGGGGGG</td>\n",
       "      <td>GGGGGGGG</td>\n",
       "    </tr>\n",
       "    <tr>\n",
       "      <th>3</th>\n",
       "      <td>GGGGGGGG+AGAGGATA</td>\n",
       "      <td>778720</td>\n",
       "      <td>GGGGGGGG</td>\n",
       "      <td>AGAGGATA</td>\n",
       "    </tr>\n",
       "    <tr>\n",
       "      <th>4</th>\n",
       "      <td>ACGTTCTA+TTTGAGAG</td>\n",
       "      <td>603440</td>\n",
       "      <td>ACGTTCTA</td>\n",
       "      <td>TTTGAGAG</td>\n",
       "    </tr>\n",
       "    <tr>\n",
       "      <th>5</th>\n",
       "      <td>GCCTCAAT+TGTGGATA</td>\n",
       "      <td>599640</td>\n",
       "      <td>GCCTCAAT</td>\n",
       "      <td>TGTGGATA</td>\n",
       "    </tr>\n",
       "    <tr>\n",
       "      <th>6</th>\n",
       "      <td>TTCCATCC+TGTGGATA</td>\n",
       "      <td>561360</td>\n",
       "      <td>TTCCATCC</td>\n",
       "      <td>TGTGGATA</td>\n",
       "    </tr>\n",
       "    <tr>\n",
       "      <th>7</th>\n",
       "      <td>CTCTGGTA+TGTGGATA</td>\n",
       "      <td>550600</td>\n",
       "      <td>CTCTGGTA</td>\n",
       "      <td>TGTGGATA</td>\n",
       "    </tr>\n",
       "    <tr>\n",
       "      <th>8</th>\n",
       "      <td>ACGTTCTA+TGTGGATA</td>\n",
       "      <td>548220</td>\n",
       "      <td>ACGTTCTA</td>\n",
       "      <td>TGTGGATA</td>\n",
       "    </tr>\n",
       "    <tr>\n",
       "      <th>9</th>\n",
       "      <td>GTCTACCA+TTTGAGAG</td>\n",
       "      <td>532280</td>\n",
       "      <td>GTCTACCA</td>\n",
       "      <td>TTTGAGAG</td>\n",
       "    </tr>\n",
       "    <tr>\n",
       "      <th>10</th>\n",
       "      <td>GGGGGGGG+AGATCTCG</td>\n",
       "      <td>5155680</td>\n",
       "      <td>GGGGGGGG</td>\n",
       "      <td>AGATCTCG</td>\n",
       "    </tr>\n",
       "    <tr>\n",
       "      <th>11</th>\n",
       "      <td>GGGGGGGG+ATAGAGAG</td>\n",
       "      <td>1956420</td>\n",
       "      <td>GGGGGGGG</td>\n",
       "      <td>ATAGAGAG</td>\n",
       "    </tr>\n",
       "    <tr>\n",
       "      <th>12</th>\n",
       "      <td>GGGGGGGG+GGGGGGGG</td>\n",
       "      <td>1016840</td>\n",
       "      <td>GGGGGGGG</td>\n",
       "      <td>GGGGGGGG</td>\n",
       "    </tr>\n",
       "    <tr>\n",
       "      <th>13</th>\n",
       "      <td>GGGGGGGG+AGAGGATA</td>\n",
       "      <td>986040</td>\n",
       "      <td>GGGGGGGG</td>\n",
       "      <td>AGAGGATA</td>\n",
       "    </tr>\n",
       "    <tr>\n",
       "      <th>14</th>\n",
       "      <td>ACGTTCTA+TTTGAGAG</td>\n",
       "      <td>775180</td>\n",
       "      <td>ACGTTCTA</td>\n",
       "      <td>TTTGAGAG</td>\n",
       "    </tr>\n",
       "    <tr>\n",
       "      <th>15</th>\n",
       "      <td>AACCAGTT+TTTGAGAG</td>\n",
       "      <td>640900</td>\n",
       "      <td>AACCAGTT</td>\n",
       "      <td>TTTGAGAG</td>\n",
       "    </tr>\n",
       "    <tr>\n",
       "      <th>16</th>\n",
       "      <td>ACGTTCTA+TGTGGATA</td>\n",
       "      <td>615680</td>\n",
       "      <td>ACGTTCTA</td>\n",
       "      <td>TGTGGATA</td>\n",
       "    </tr>\n",
       "    <tr>\n",
       "      <th>17</th>\n",
       "      <td>GTCTACCA+TTTGAGAG</td>\n",
       "      <td>511800</td>\n",
       "      <td>GTCTACCA</td>\n",
       "      <td>TTTGAGAG</td>\n",
       "    </tr>\n",
       "    <tr>\n",
       "      <th>18</th>\n",
       "      <td>AACCAGTT+TGTGGATA</td>\n",
       "      <td>498720</td>\n",
       "      <td>AACCAGTT</td>\n",
       "      <td>TGTGGATA</td>\n",
       "    </tr>\n",
       "    <tr>\n",
       "      <th>19</th>\n",
       "      <td>TTCCATCC+TGTGGATA</td>\n",
       "      <td>482580</td>\n",
       "      <td>TTCCATCC</td>\n",
       "      <td>TGTGGATA</td>\n",
       "    </tr>\n",
       "    <tr>\n",
       "      <th>20</th>\n",
       "      <td>GGGGGGGG+AGATCTCG</td>\n",
       "      <td>7335580</td>\n",
       "      <td>GGGGGGGG</td>\n",
       "      <td>AGATCTCG</td>\n",
       "    </tr>\n",
       "    <tr>\n",
       "      <th>21</th>\n",
       "      <td>GGGGGGGG+ATAGAGAG</td>\n",
       "      <td>1563580</td>\n",
       "      <td>GGGGGGGG</td>\n",
       "      <td>ATAGAGAG</td>\n",
       "    </tr>\n",
       "    <tr>\n",
       "      <th>22</th>\n",
       "      <td>GGGGGGGG+GGGGGGGG</td>\n",
       "      <td>1212960</td>\n",
       "      <td>GGGGGGGG</td>\n",
       "      <td>GGGGGGGG</td>\n",
       "    </tr>\n",
       "    <tr>\n",
       "      <th>23</th>\n",
       "      <td>GGGGGGGG+AGAGGATA</td>\n",
       "      <td>731280</td>\n",
       "      <td>GGGGGGGG</td>\n",
       "      <td>AGAGGATA</td>\n",
       "    </tr>\n",
       "    <tr>\n",
       "      <th>24</th>\n",
       "      <td>ACGTTCTA+TTTGAGAG</td>\n",
       "      <td>664120</td>\n",
       "      <td>ACGTTCTA</td>\n",
       "      <td>TTTGAGAG</td>\n",
       "    </tr>\n",
       "    <tr>\n",
       "      <th>25</th>\n",
       "      <td>ACGTTCTA+TGTGGATA</td>\n",
       "      <td>605040</td>\n",
       "      <td>ACGTTCTA</td>\n",
       "      <td>TGTGGATA</td>\n",
       "    </tr>\n",
       "    <tr>\n",
       "      <th>26</th>\n",
       "      <td>TTCCATCC+TGTGGATA</td>\n",
       "      <td>567480</td>\n",
       "      <td>TTCCATCC</td>\n",
       "      <td>TGTGGATA</td>\n",
       "    </tr>\n",
       "    <tr>\n",
       "      <th>27</th>\n",
       "      <td>AACCAGTT+TTTGAGAG</td>\n",
       "      <td>545300</td>\n",
       "      <td>AACCAGTT</td>\n",
       "      <td>TTTGAGAG</td>\n",
       "    </tr>\n",
       "    <tr>\n",
       "      <th>28</th>\n",
       "      <td>CAGAACTT+TGTGGATA</td>\n",
       "      <td>539720</td>\n",
       "      <td>CAGAACTT</td>\n",
       "      <td>TGTGGATA</td>\n",
       "    </tr>\n",
       "    <tr>\n",
       "      <th>29</th>\n",
       "      <td>GCCTCAAT+TGTGGATA</td>\n",
       "      <td>539180</td>\n",
       "      <td>GCCTCAAT</td>\n",
       "      <td>TGTGGATA</td>\n",
       "    </tr>\n",
       "    <tr>\n",
       "      <th>30</th>\n",
       "      <td>GGGGGGGG+AGATCTCG</td>\n",
       "      <td>4623060</td>\n",
       "      <td>GGGGGGGG</td>\n",
       "      <td>AGATCTCG</td>\n",
       "    </tr>\n",
       "    <tr>\n",
       "      <th>31</th>\n",
       "      <td>GGGGGGGG+ATAGAGAG</td>\n",
       "      <td>1466600</td>\n",
       "      <td>GGGGGGGG</td>\n",
       "      <td>ATAGAGAG</td>\n",
       "    </tr>\n",
       "    <tr>\n",
       "      <th>32</th>\n",
       "      <td>GGGGGGGG+AGAGGATA</td>\n",
       "      <td>705700</td>\n",
       "      <td>GGGGGGGG</td>\n",
       "      <td>AGAGGATA</td>\n",
       "    </tr>\n",
       "    <tr>\n",
       "      <th>33</th>\n",
       "      <td>ACGTTCTA+TTTGAGAG</td>\n",
       "      <td>676000</td>\n",
       "      <td>ACGTTCTA</td>\n",
       "      <td>TTTGAGAG</td>\n",
       "    </tr>\n",
       "    <tr>\n",
       "      <th>34</th>\n",
       "      <td>GGGGGGGG+GGGGGGGG</td>\n",
       "      <td>665180</td>\n",
       "      <td>GGGGGGGG</td>\n",
       "      <td>GGGGGGGG</td>\n",
       "    </tr>\n",
       "    <tr>\n",
       "      <th>35</th>\n",
       "      <td>ACGTTCTA+TGTGGATA</td>\n",
       "      <td>608380</td>\n",
       "      <td>ACGTTCTA</td>\n",
       "      <td>TGTGGATA</td>\n",
       "    </tr>\n",
       "    <tr>\n",
       "      <th>36</th>\n",
       "      <td>AACCAGTT+TTTGAGAG</td>\n",
       "      <td>566100</td>\n",
       "      <td>AACCAGTT</td>\n",
       "      <td>TTTGAGAG</td>\n",
       "    </tr>\n",
       "    <tr>\n",
       "      <th>37</th>\n",
       "      <td>AACCAGTT+TGTGGATA</td>\n",
       "      <td>491280</td>\n",
       "      <td>AACCAGTT</td>\n",
       "      <td>TGTGGATA</td>\n",
       "    </tr>\n",
       "    <tr>\n",
       "      <th>38</th>\n",
       "      <td>AAGCAACT+TTTGAGAG</td>\n",
       "      <td>418900</td>\n",
       "      <td>AAGCAACT</td>\n",
       "      <td>TTTGAGAG</td>\n",
       "    </tr>\n",
       "    <tr>\n",
       "      <th>39</th>\n",
       "      <td>CAGAACTT+TGTGGATA</td>\n",
       "      <td>400320</td>\n",
       "      <td>CAGAACTT</td>\n",
       "      <td>TGTGGATA</td>\n",
       "    </tr>\n",
       "  </tbody>\n",
       "</table>\n",
       "</div>"
      ],
      "text/plain": [
       "                i7_i5    reads        i7        i5\n",
       "0   GGGGGGGG+AGATCTCG  7342600  GGGGGGGG  AGATCTCG\n",
       "1   GGGGGGGG+ATAGAGAG  1644500  GGGGGGGG  ATAGAGAG\n",
       "2   GGGGGGGG+GGGGGGGG   885280  GGGGGGGG  GGGGGGGG\n",
       "3   GGGGGGGG+AGAGGATA   778720  GGGGGGGG  AGAGGATA\n",
       "4   ACGTTCTA+TTTGAGAG   603440  ACGTTCTA  TTTGAGAG\n",
       "5   GCCTCAAT+TGTGGATA   599640  GCCTCAAT  TGTGGATA\n",
       "6   TTCCATCC+TGTGGATA   561360  TTCCATCC  TGTGGATA\n",
       "7   CTCTGGTA+TGTGGATA   550600  CTCTGGTA  TGTGGATA\n",
       "8   ACGTTCTA+TGTGGATA   548220  ACGTTCTA  TGTGGATA\n",
       "9   GTCTACCA+TTTGAGAG   532280  GTCTACCA  TTTGAGAG\n",
       "10  GGGGGGGG+AGATCTCG  5155680  GGGGGGGG  AGATCTCG\n",
       "11  GGGGGGGG+ATAGAGAG  1956420  GGGGGGGG  ATAGAGAG\n",
       "12  GGGGGGGG+GGGGGGGG  1016840  GGGGGGGG  GGGGGGGG\n",
       "13  GGGGGGGG+AGAGGATA   986040  GGGGGGGG  AGAGGATA\n",
       "14  ACGTTCTA+TTTGAGAG   775180  ACGTTCTA  TTTGAGAG\n",
       "15  AACCAGTT+TTTGAGAG   640900  AACCAGTT  TTTGAGAG\n",
       "16  ACGTTCTA+TGTGGATA   615680  ACGTTCTA  TGTGGATA\n",
       "17  GTCTACCA+TTTGAGAG   511800  GTCTACCA  TTTGAGAG\n",
       "18  AACCAGTT+TGTGGATA   498720  AACCAGTT  TGTGGATA\n",
       "19  TTCCATCC+TGTGGATA   482580  TTCCATCC  TGTGGATA\n",
       "20  GGGGGGGG+AGATCTCG  7335580  GGGGGGGG  AGATCTCG\n",
       "21  GGGGGGGG+ATAGAGAG  1563580  GGGGGGGG  ATAGAGAG\n",
       "22  GGGGGGGG+GGGGGGGG  1212960  GGGGGGGG  GGGGGGGG\n",
       "23  GGGGGGGG+AGAGGATA   731280  GGGGGGGG  AGAGGATA\n",
       "24  ACGTTCTA+TTTGAGAG   664120  ACGTTCTA  TTTGAGAG\n",
       "25  ACGTTCTA+TGTGGATA   605040  ACGTTCTA  TGTGGATA\n",
       "26  TTCCATCC+TGTGGATA   567480  TTCCATCC  TGTGGATA\n",
       "27  AACCAGTT+TTTGAGAG   545300  AACCAGTT  TTTGAGAG\n",
       "28  CAGAACTT+TGTGGATA   539720  CAGAACTT  TGTGGATA\n",
       "29  GCCTCAAT+TGTGGATA   539180  GCCTCAAT  TGTGGATA\n",
       "30  GGGGGGGG+AGATCTCG  4623060  GGGGGGGG  AGATCTCG\n",
       "31  GGGGGGGG+ATAGAGAG  1466600  GGGGGGGG  ATAGAGAG\n",
       "32  GGGGGGGG+AGAGGATA   705700  GGGGGGGG  AGAGGATA\n",
       "33  ACGTTCTA+TTTGAGAG   676000  ACGTTCTA  TTTGAGAG\n",
       "34  GGGGGGGG+GGGGGGGG   665180  GGGGGGGG  GGGGGGGG\n",
       "35  ACGTTCTA+TGTGGATA   608380  ACGTTCTA  TGTGGATA\n",
       "36  AACCAGTT+TTTGAGAG   566100  AACCAGTT  TTTGAGAG\n",
       "37  AACCAGTT+TGTGGATA   491280  AACCAGTT  TGTGGATA\n",
       "38  AAGCAACT+TTTGAGAG   418900  AAGCAACT  TTTGAGAG\n",
       "39  CAGAACTT+TGTGGATA   400320  CAGAACTT  TGTGGATA"
      ]
     },
     "execution_count": 85,
     "metadata": {},
     "output_type": "execute_result"
    }
   ],
   "source": [
    "top_unknown"
   ]
  },
  {
   "cell_type": "markdown",
   "metadata": {
    "slideshow": {
     "slide_type": "slide"
    }
   },
   "source": [
    "### Correct i7 barcode sequence. \n",
    "\n",
    "Note the correct i7 barcode sequence is the **reverse complement** of the oligo sequence we ordered.\n"
   ]
  },
  {
   "cell_type": "code",
   "execution_count": 116,
   "metadata": {
    "ExecuteTime": {
     "end_time": "2019-08-22T05:06:50.431918Z",
     "start_time": "2019-08-22T05:06:50.427253Z"
    },
    "hide_input": true,
    "slideshow": {
     "slide_type": "fragment"
    }
   },
   "outputs": [
    {
     "data": {
      "text/plain": [
       "array(['CTCTGGTA', 'TTCCATCC', 'GCCTCAAT', 'TCTATCCG', 'GTCTACCA',\n",
       "       'AACCAGGT', 'CAGAACTG', 'ACGTTCGA', 'AAGCAACG', 'GAACGGTA',\n",
       "       'GCAACCTA', 'TTAGCCTC'], dtype=object)"
      ]
     },
     "execution_count": 116,
     "metadata": {},
     "output_type": "execute_result"
    }
   ],
   "source": [
    "i7[0:12]"
   ]
  },
  {
   "cell_type": "markdown",
   "metadata": {
    "slideshow": {
     "slide_type": "slide"
    }
   },
   "source": [
    "### Correct i5 barcode sequence\n",
    "\n",
    "Note the correct i5 barcode sequence is the **reverse complement** of the oligo sequence we ordered.\n",
    "\n",
    "By correcting barcode sequence, we demultiplexed 49% of all R1.\n"
   ]
  },
  {
   "cell_type": "code",
   "execution_count": 118,
   "metadata": {
    "ExecuteTime": {
     "end_time": "2019-08-22T05:07:26.891359Z",
     "start_time": "2019-08-22T05:07:26.886491Z"
    },
    "hide_input": true,
    "slideshow": {
     "slide_type": "fragment"
    }
   },
   "outputs": [
    {
     "data": {
      "text/plain": [
       "array(['ATAGAGAG', 'AGAGGATA', 'CTCCTTAC'], dtype=object)"
      ]
     },
     "execution_count": 118,
     "metadata": {},
     "output_type": "execute_result"
    }
   ],
   "source": [
    "i5[3:6]"
   ]
  },
  {
   "cell_type": "code",
   "execution_count": 87,
   "metadata": {
    "ExecuteTime": {
     "end_time": "2019-08-22T03:37:13.130216Z",
     "start_time": "2019-08-22T03:37:13.119337Z"
    },
    "slideshow": {
     "slide_type": "skip"
    }
   },
   "outputs": [
    {
     "data": {
      "text/html": [
       "<div>\n",
       "<style scoped>\n",
       "    .dataframe tbody tr th:only-of-type {\n",
       "        vertical-align: middle;\n",
       "    }\n",
       "\n",
       "    .dataframe tbody tr th {\n",
       "        vertical-align: top;\n",
       "    }\n",
       "\n",
       "    .dataframe thead th {\n",
       "        text-align: right;\n",
       "    }\n",
       "</style>\n",
       "<table border=\"1\" class=\"dataframe\">\n",
       "  <thead>\n",
       "    <tr style=\"text-align: right;\">\n",
       "      <th></th>\n",
       "      <th>i7_i5</th>\n",
       "      <th>reads</th>\n",
       "      <th>i7</th>\n",
       "      <th>i5</th>\n",
       "    </tr>\n",
       "  </thead>\n",
       "  <tbody>\n",
       "    <tr>\n",
       "      <th>5</th>\n",
       "      <td>GCCTCAAT+TGTGGATA</td>\n",
       "      <td>599640</td>\n",
       "      <td>GCCTCAAT</td>\n",
       "      <td>TGTGGATA</td>\n",
       "    </tr>\n",
       "    <tr>\n",
       "      <th>6</th>\n",
       "      <td>TTCCATCC+TGTGGATA</td>\n",
       "      <td>561360</td>\n",
       "      <td>TTCCATCC</td>\n",
       "      <td>TGTGGATA</td>\n",
       "    </tr>\n",
       "    <tr>\n",
       "      <th>7</th>\n",
       "      <td>CTCTGGTA+TGTGGATA</td>\n",
       "      <td>550600</td>\n",
       "      <td>CTCTGGTA</td>\n",
       "      <td>TGTGGATA</td>\n",
       "    </tr>\n",
       "    <tr>\n",
       "      <th>9</th>\n",
       "      <td>GTCTACCA+TTTGAGAG</td>\n",
       "      <td>532280</td>\n",
       "      <td>GTCTACCA</td>\n",
       "      <td>TTTGAGAG</td>\n",
       "    </tr>\n",
       "    <tr>\n",
       "      <th>17</th>\n",
       "      <td>GTCTACCA+TTTGAGAG</td>\n",
       "      <td>511800</td>\n",
       "      <td>GTCTACCA</td>\n",
       "      <td>TTTGAGAG</td>\n",
       "    </tr>\n",
       "    <tr>\n",
       "      <th>19</th>\n",
       "      <td>TTCCATCC+TGTGGATA</td>\n",
       "      <td>482580</td>\n",
       "      <td>TTCCATCC</td>\n",
       "      <td>TGTGGATA</td>\n",
       "    </tr>\n",
       "    <tr>\n",
       "      <th>26</th>\n",
       "      <td>TTCCATCC+TGTGGATA</td>\n",
       "      <td>567480</td>\n",
       "      <td>TTCCATCC</td>\n",
       "      <td>TGTGGATA</td>\n",
       "    </tr>\n",
       "    <tr>\n",
       "      <th>29</th>\n",
       "      <td>GCCTCAAT+TGTGGATA</td>\n",
       "      <td>539180</td>\n",
       "      <td>GCCTCAAT</td>\n",
       "      <td>TGTGGATA</td>\n",
       "    </tr>\n",
       "  </tbody>\n",
       "</table>\n",
       "</div>"
      ],
      "text/plain": [
       "                i7_i5   reads        i7        i5\n",
       "5   GCCTCAAT+TGTGGATA  599640  GCCTCAAT  TGTGGATA\n",
       "6   TTCCATCC+TGTGGATA  561360  TTCCATCC  TGTGGATA\n",
       "7   CTCTGGTA+TGTGGATA  550600  CTCTGGTA  TGTGGATA\n",
       "9   GTCTACCA+TTTGAGAG  532280  GTCTACCA  TTTGAGAG\n",
       "17  GTCTACCA+TTTGAGAG  511800  GTCTACCA  TTTGAGAG\n",
       "19  TTCCATCC+TGTGGATA  482580  TTCCATCC  TGTGGATA\n",
       "26  TTCCATCC+TGTGGATA  567480  TTCCATCC  TGTGGATA\n",
       "29  GCCTCAAT+TGTGGATA  539180  GCCTCAAT  TGTGGATA"
      ]
     },
     "execution_count": 87,
     "metadata": {},
     "output_type": "execute_result"
    }
   ],
   "source": [
    "top_unknown[top_unknown.i7.isin(i7)]"
   ]
  },
  {
   "cell_type": "code",
   "execution_count": 95,
   "metadata": {
    "ExecuteTime": {
     "end_time": "2019-08-22T03:39:06.549048Z",
     "start_time": "2019-08-22T03:39:06.535349Z"
    },
    "slideshow": {
     "slide_type": "skip"
    }
   },
   "outputs": [
    {
     "data": {
      "text/html": [
       "<div>\n",
       "<style scoped>\n",
       "    .dataframe tbody tr th:only-of-type {\n",
       "        vertical-align: middle;\n",
       "    }\n",
       "\n",
       "    .dataframe tbody tr th {\n",
       "        vertical-align: top;\n",
       "    }\n",
       "\n",
       "    .dataframe thead th {\n",
       "        text-align: right;\n",
       "    }\n",
       "</style>\n",
       "<table border=\"1\" class=\"dataframe\">\n",
       "  <thead>\n",
       "    <tr style=\"text-align: right;\">\n",
       "      <th></th>\n",
       "      <th>Sample_ID</th>\n",
       "      <th>Sample_Name</th>\n",
       "      <th>I7_Index_ID</th>\n",
       "      <th>i7_index</th>\n",
       "      <th>I5_Index_ID</th>\n",
       "      <th>i5_index</th>\n",
       "      <th>Operator</th>\n",
       "    </tr>\n",
       "  </thead>\n",
       "  <tbody>\n",
       "    <tr>\n",
       "      <th>2</th>\n",
       "      <td>S3</td>\n",
       "      <td>S3</td>\n",
       "      <td>R3</td>\n",
       "      <td>GCCTCAAT</td>\n",
       "      <td>F1</td>\n",
       "      <td>CTCTCTAT</td>\n",
       "      <td>Congyi</td>\n",
       "    </tr>\n",
       "    <tr>\n",
       "      <th>14</th>\n",
       "      <td>S15</td>\n",
       "      <td>S15</td>\n",
       "      <td>R3</td>\n",
       "      <td>GCCTCAAT</td>\n",
       "      <td>F2</td>\n",
       "      <td>TATCCTCT</td>\n",
       "      <td>Congyi</td>\n",
       "    </tr>\n",
       "    <tr>\n",
       "      <th>23</th>\n",
       "      <td>S24</td>\n",
       "      <td>S24</td>\n",
       "      <td>R3</td>\n",
       "      <td>GCCTCAAT</td>\n",
       "      <td>F3</td>\n",
       "      <td>GTAAGGAG</td>\n",
       "      <td>Chao</td>\n",
       "    </tr>\n",
       "    <tr>\n",
       "      <th>30</th>\n",
       "      <td>X3</td>\n",
       "      <td>X3</td>\n",
       "      <td>R3</td>\n",
       "      <td>GCCTCAAT</td>\n",
       "      <td>F1</td>\n",
       "      <td>ATAGAGAG</td>\n",
       "      <td>Congyi</td>\n",
       "    </tr>\n",
       "    <tr>\n",
       "      <th>42</th>\n",
       "      <td>X15</td>\n",
       "      <td>X15</td>\n",
       "      <td>R3</td>\n",
       "      <td>GCCTCAAT</td>\n",
       "      <td>F2</td>\n",
       "      <td>AGAGGATA</td>\n",
       "      <td>Congyi</td>\n",
       "    </tr>\n",
       "    <tr>\n",
       "      <th>51</th>\n",
       "      <td>X24</td>\n",
       "      <td>X24</td>\n",
       "      <td>R3</td>\n",
       "      <td>GCCTCAAT</td>\n",
       "      <td>F3</td>\n",
       "      <td>CTCCTTAC</td>\n",
       "      <td>Chao</td>\n",
       "    </tr>\n",
       "  </tbody>\n",
       "</table>\n",
       "</div>"
      ],
      "text/plain": [
       "   Sample_ID Sample_Name I7_Index_ID  i7_index I5_Index_ID  i5_index Operator\n",
       "2         S3          S3          R3  GCCTCAAT          F1  CTCTCTAT   Congyi\n",
       "14       S15         S15          R3  GCCTCAAT          F2  TATCCTCT   Congyi\n",
       "23       S24         S24          R3  GCCTCAAT          F3  GTAAGGAG     Chao\n",
       "30        X3          X3          R3  GCCTCAAT          F1  ATAGAGAG   Congyi\n",
       "42       X15         X15          R3  GCCTCAAT          F2  AGAGGATA   Congyi\n",
       "51       X24         X24          R3  GCCTCAAT          F3  CTCCTTAC     Chao"
      ]
     },
     "execution_count": 95,
     "metadata": {},
     "output_type": "execute_result"
    }
   ],
   "source": [
    "samplesheet[samplesheet.i7_index == 'GCCTCAAT']"
   ]
  },
  {
   "cell_type": "code",
   "execution_count": 96,
   "metadata": {
    "ExecuteTime": {
     "end_time": "2019-08-22T03:39:28.187538Z",
     "start_time": "2019-08-22T03:39:28.177150Z"
    },
    "slideshow": {
     "slide_type": "skip"
    }
   },
   "outputs": [
    {
     "data": {
      "text/html": [
       "<div>\n",
       "<style scoped>\n",
       "    .dataframe tbody tr th:only-of-type {\n",
       "        vertical-align: middle;\n",
       "    }\n",
       "\n",
       "    .dataframe tbody tr th {\n",
       "        vertical-align: top;\n",
       "    }\n",
       "\n",
       "    .dataframe thead th {\n",
       "        text-align: right;\n",
       "    }\n",
       "</style>\n",
       "<table border=\"1\" class=\"dataframe\">\n",
       "  <thead>\n",
       "    <tr style=\"text-align: right;\">\n",
       "      <th></th>\n",
       "      <th>i7_i5</th>\n",
       "      <th>reads</th>\n",
       "      <th>i7</th>\n",
       "      <th>i5</th>\n",
       "    </tr>\n",
       "  </thead>\n",
       "  <tbody>\n",
       "    <tr>\n",
       "      <th>1</th>\n",
       "      <td>GGGGGGGG+ATAGAGAG</td>\n",
       "      <td>1644500</td>\n",
       "      <td>GGGGGGGG</td>\n",
       "      <td>ATAGAGAG</td>\n",
       "    </tr>\n",
       "    <tr>\n",
       "      <th>3</th>\n",
       "      <td>GGGGGGGG+AGAGGATA</td>\n",
       "      <td>778720</td>\n",
       "      <td>GGGGGGGG</td>\n",
       "      <td>AGAGGATA</td>\n",
       "    </tr>\n",
       "    <tr>\n",
       "      <th>11</th>\n",
       "      <td>GGGGGGGG+ATAGAGAG</td>\n",
       "      <td>1956420</td>\n",
       "      <td>GGGGGGGG</td>\n",
       "      <td>ATAGAGAG</td>\n",
       "    </tr>\n",
       "    <tr>\n",
       "      <th>13</th>\n",
       "      <td>GGGGGGGG+AGAGGATA</td>\n",
       "      <td>986040</td>\n",
       "      <td>GGGGGGGG</td>\n",
       "      <td>AGAGGATA</td>\n",
       "    </tr>\n",
       "    <tr>\n",
       "      <th>21</th>\n",
       "      <td>GGGGGGGG+ATAGAGAG</td>\n",
       "      <td>1563580</td>\n",
       "      <td>GGGGGGGG</td>\n",
       "      <td>ATAGAGAG</td>\n",
       "    </tr>\n",
       "    <tr>\n",
       "      <th>23</th>\n",
       "      <td>GGGGGGGG+AGAGGATA</td>\n",
       "      <td>731280</td>\n",
       "      <td>GGGGGGGG</td>\n",
       "      <td>AGAGGATA</td>\n",
       "    </tr>\n",
       "    <tr>\n",
       "      <th>31</th>\n",
       "      <td>GGGGGGGG+ATAGAGAG</td>\n",
       "      <td>1466600</td>\n",
       "      <td>GGGGGGGG</td>\n",
       "      <td>ATAGAGAG</td>\n",
       "    </tr>\n",
       "    <tr>\n",
       "      <th>32</th>\n",
       "      <td>GGGGGGGG+AGAGGATA</td>\n",
       "      <td>705700</td>\n",
       "      <td>GGGGGGGG</td>\n",
       "      <td>AGAGGATA</td>\n",
       "    </tr>\n",
       "  </tbody>\n",
       "</table>\n",
       "</div>"
      ],
      "text/plain": [
       "                i7_i5    reads        i7        i5\n",
       "1   GGGGGGGG+ATAGAGAG  1644500  GGGGGGGG  ATAGAGAG\n",
       "3   GGGGGGGG+AGAGGATA   778720  GGGGGGGG  AGAGGATA\n",
       "11  GGGGGGGG+ATAGAGAG  1956420  GGGGGGGG  ATAGAGAG\n",
       "13  GGGGGGGG+AGAGGATA   986040  GGGGGGGG  AGAGGATA\n",
       "21  GGGGGGGG+ATAGAGAG  1563580  GGGGGGGG  ATAGAGAG\n",
       "23  GGGGGGGG+AGAGGATA   731280  GGGGGGGG  AGAGGATA\n",
       "31  GGGGGGGG+ATAGAGAG  1466600  GGGGGGGG  ATAGAGAG\n",
       "32  GGGGGGGG+AGAGGATA   705700  GGGGGGGG  AGAGGATA"
      ]
     },
     "execution_count": 96,
     "metadata": {},
     "output_type": "execute_result"
    }
   ],
   "source": [
    "top_unknown[top_unknown.i5.isin(i5)]"
   ]
  },
  {
   "cell_type": "code",
   "execution_count": 98,
   "metadata": {
    "ExecuteTime": {
     "end_time": "2019-08-22T03:40:06.780300Z",
     "start_time": "2019-08-22T03:40:06.763891Z"
    },
    "slideshow": {
     "slide_type": "skip"
    }
   },
   "outputs": [
    {
     "data": {
      "text/html": [
       "<div>\n",
       "<style scoped>\n",
       "    .dataframe tbody tr th:only-of-type {\n",
       "        vertical-align: middle;\n",
       "    }\n",
       "\n",
       "    .dataframe tbody tr th {\n",
       "        vertical-align: top;\n",
       "    }\n",
       "\n",
       "    .dataframe thead th {\n",
       "        text-align: right;\n",
       "    }\n",
       "</style>\n",
       "<table border=\"1\" class=\"dataframe\">\n",
       "  <thead>\n",
       "    <tr style=\"text-align: right;\">\n",
       "      <th></th>\n",
       "      <th>Sample_ID</th>\n",
       "      <th>Sample_Name</th>\n",
       "      <th>I7_Index_ID</th>\n",
       "      <th>i7_index</th>\n",
       "      <th>I5_Index_ID</th>\n",
       "      <th>i5_index</th>\n",
       "      <th>Operator</th>\n",
       "    </tr>\n",
       "  </thead>\n",
       "  <tbody>\n",
       "    <tr>\n",
       "      <th>40</th>\n",
       "      <td>X13</td>\n",
       "      <td>X13</td>\n",
       "      <td>R1</td>\n",
       "      <td>CTCTGGTA</td>\n",
       "      <td>F2</td>\n",
       "      <td>AGAGGATA</td>\n",
       "      <td>Congyi</td>\n",
       "    </tr>\n",
       "    <tr>\n",
       "      <th>41</th>\n",
       "      <td>X14</td>\n",
       "      <td>X14</td>\n",
       "      <td>R2</td>\n",
       "      <td>TTCCATCC</td>\n",
       "      <td>F2</td>\n",
       "      <td>AGAGGATA</td>\n",
       "      <td>Congyi</td>\n",
       "    </tr>\n",
       "    <tr>\n",
       "      <th>42</th>\n",
       "      <td>X15</td>\n",
       "      <td>X15</td>\n",
       "      <td>R3</td>\n",
       "      <td>GCCTCAAT</td>\n",
       "      <td>F2</td>\n",
       "      <td>AGAGGATA</td>\n",
       "      <td>Congyi</td>\n",
       "    </tr>\n",
       "    <tr>\n",
       "      <th>43</th>\n",
       "      <td>X16</td>\n",
       "      <td>X16</td>\n",
       "      <td>R4</td>\n",
       "      <td>TCTATCCG</td>\n",
       "      <td>F2</td>\n",
       "      <td>AGAGGATA</td>\n",
       "      <td>Congyi</td>\n",
       "    </tr>\n",
       "    <tr>\n",
       "      <th>44</th>\n",
       "      <td>X17</td>\n",
       "      <td>X17</td>\n",
       "      <td>R5</td>\n",
       "      <td>GTCTACCA</td>\n",
       "      <td>F2</td>\n",
       "      <td>AGAGGATA</td>\n",
       "      <td>Congyi</td>\n",
       "    </tr>\n",
       "    <tr>\n",
       "      <th>45</th>\n",
       "      <td>X18</td>\n",
       "      <td>X18</td>\n",
       "      <td>R6</td>\n",
       "      <td>AACCAGGT</td>\n",
       "      <td>F2</td>\n",
       "      <td>AGAGGATA</td>\n",
       "      <td>Congyi</td>\n",
       "    </tr>\n",
       "    <tr>\n",
       "      <th>46</th>\n",
       "      <td>X19</td>\n",
       "      <td>X19</td>\n",
       "      <td>R7</td>\n",
       "      <td>CAGAACTG</td>\n",
       "      <td>F2</td>\n",
       "      <td>AGAGGATA</td>\n",
       "      <td>Congyi</td>\n",
       "    </tr>\n",
       "    <tr>\n",
       "      <th>47</th>\n",
       "      <td>X20</td>\n",
       "      <td>X20</td>\n",
       "      <td>R8</td>\n",
       "      <td>ACGTTCGA</td>\n",
       "      <td>F2</td>\n",
       "      <td>AGAGGATA</td>\n",
       "      <td>Congyi</td>\n",
       "    </tr>\n",
       "    <tr>\n",
       "      <th>48</th>\n",
       "      <td>X21</td>\n",
       "      <td>X21</td>\n",
       "      <td>R9</td>\n",
       "      <td>AAGCAACG</td>\n",
       "      <td>F2</td>\n",
       "      <td>AGAGGATA</td>\n",
       "      <td>Congyi</td>\n",
       "    </tr>\n",
       "    <tr>\n",
       "      <th>49</th>\n",
       "      <td>X22</td>\n",
       "      <td>X22</td>\n",
       "      <td>R10</td>\n",
       "      <td>GAACGGTA</td>\n",
       "      <td>F2</td>\n",
       "      <td>AGAGGATA</td>\n",
       "      <td>Congyi</td>\n",
       "    </tr>\n",
       "    <tr>\n",
       "      <th>96</th>\n",
       "      <td>Z13</td>\n",
       "      <td>Z13</td>\n",
       "      <td>R1</td>\n",
       "      <td>TACCAGAG</td>\n",
       "      <td>F2</td>\n",
       "      <td>AGAGGATA</td>\n",
       "      <td>Congyi</td>\n",
       "    </tr>\n",
       "    <tr>\n",
       "      <th>97</th>\n",
       "      <td>Z14</td>\n",
       "      <td>Z14</td>\n",
       "      <td>R2</td>\n",
       "      <td>GGATGGAA</td>\n",
       "      <td>F2</td>\n",
       "      <td>AGAGGATA</td>\n",
       "      <td>Congyi</td>\n",
       "    </tr>\n",
       "    <tr>\n",
       "      <th>98</th>\n",
       "      <td>Z15</td>\n",
       "      <td>Z15</td>\n",
       "      <td>R3</td>\n",
       "      <td>ATTGAGGC</td>\n",
       "      <td>F2</td>\n",
       "      <td>AGAGGATA</td>\n",
       "      <td>Congyi</td>\n",
       "    </tr>\n",
       "    <tr>\n",
       "      <th>99</th>\n",
       "      <td>Z16</td>\n",
       "      <td>Z16</td>\n",
       "      <td>R4</td>\n",
       "      <td>CGGATAGA</td>\n",
       "      <td>F2</td>\n",
       "      <td>AGAGGATA</td>\n",
       "      <td>Congyi</td>\n",
       "    </tr>\n",
       "    <tr>\n",
       "      <th>100</th>\n",
       "      <td>Z17</td>\n",
       "      <td>Z17</td>\n",
       "      <td>R5</td>\n",
       "      <td>TGGTAGAC</td>\n",
       "      <td>F2</td>\n",
       "      <td>AGAGGATA</td>\n",
       "      <td>Congyi</td>\n",
       "    </tr>\n",
       "    <tr>\n",
       "      <th>101</th>\n",
       "      <td>Z18</td>\n",
       "      <td>Z18</td>\n",
       "      <td>R6</td>\n",
       "      <td>ACCTGGTT</td>\n",
       "      <td>F2</td>\n",
       "      <td>AGAGGATA</td>\n",
       "      <td>Congyi</td>\n",
       "    </tr>\n",
       "    <tr>\n",
       "      <th>102</th>\n",
       "      <td>Z19</td>\n",
       "      <td>Z19</td>\n",
       "      <td>R7</td>\n",
       "      <td>CAGTTCTG</td>\n",
       "      <td>F2</td>\n",
       "      <td>AGAGGATA</td>\n",
       "      <td>Congyi</td>\n",
       "    </tr>\n",
       "    <tr>\n",
       "      <th>103</th>\n",
       "      <td>Z20</td>\n",
       "      <td>Z20</td>\n",
       "      <td>R8</td>\n",
       "      <td>TCGAACGT</td>\n",
       "      <td>F2</td>\n",
       "      <td>AGAGGATA</td>\n",
       "      <td>Congyi</td>\n",
       "    </tr>\n",
       "    <tr>\n",
       "      <th>104</th>\n",
       "      <td>Z21</td>\n",
       "      <td>Z21</td>\n",
       "      <td>R9</td>\n",
       "      <td>CGTTGCTT</td>\n",
       "      <td>F2</td>\n",
       "      <td>AGAGGATA</td>\n",
       "      <td>Congyi</td>\n",
       "    </tr>\n",
       "    <tr>\n",
       "      <th>105</th>\n",
       "      <td>Z22</td>\n",
       "      <td>Z22</td>\n",
       "      <td>R10</td>\n",
       "      <td>TACCGTTC</td>\n",
       "      <td>F2</td>\n",
       "      <td>AGAGGATA</td>\n",
       "      <td>Congyi</td>\n",
       "    </tr>\n",
       "  </tbody>\n",
       "</table>\n",
       "</div>"
      ],
      "text/plain": [
       "    Sample_ID Sample_Name I7_Index_ID  i7_index I5_Index_ID  i5_index Operator\n",
       "40        X13         X13          R1  CTCTGGTA          F2  AGAGGATA   Congyi\n",
       "41        X14         X14          R2  TTCCATCC          F2  AGAGGATA   Congyi\n",
       "42        X15         X15          R3  GCCTCAAT          F2  AGAGGATA   Congyi\n",
       "43        X16         X16          R4  TCTATCCG          F2  AGAGGATA   Congyi\n",
       "44        X17         X17          R5  GTCTACCA          F2  AGAGGATA   Congyi\n",
       "45        X18         X18          R6  AACCAGGT          F2  AGAGGATA   Congyi\n",
       "46        X19         X19          R7  CAGAACTG          F2  AGAGGATA   Congyi\n",
       "47        X20         X20          R8  ACGTTCGA          F2  AGAGGATA   Congyi\n",
       "48        X21         X21          R9  AAGCAACG          F2  AGAGGATA   Congyi\n",
       "49        X22         X22         R10  GAACGGTA          F2  AGAGGATA   Congyi\n",
       "96        Z13         Z13          R1  TACCAGAG          F2  AGAGGATA   Congyi\n",
       "97        Z14         Z14          R2  GGATGGAA          F2  AGAGGATA   Congyi\n",
       "98        Z15         Z15          R3  ATTGAGGC          F2  AGAGGATA   Congyi\n",
       "99        Z16         Z16          R4  CGGATAGA          F2  AGAGGATA   Congyi\n",
       "100       Z17         Z17          R5  TGGTAGAC          F2  AGAGGATA   Congyi\n",
       "101       Z18         Z18          R6  ACCTGGTT          F2  AGAGGATA   Congyi\n",
       "102       Z19         Z19          R7  CAGTTCTG          F2  AGAGGATA   Congyi\n",
       "103       Z20         Z20          R8  TCGAACGT          F2  AGAGGATA   Congyi\n",
       "104       Z21         Z21          R9  CGTTGCTT          F2  AGAGGATA   Congyi\n",
       "105       Z22         Z22         R10  TACCGTTC          F2  AGAGGATA   Congyi"
      ]
     },
     "execution_count": 98,
     "metadata": {},
     "output_type": "execute_result"
    }
   ],
   "source": [
    "samplesheet[samplesheet.i5_index == 'AGAGGATA']"
   ]
  },
  {
   "cell_type": "code",
   "execution_count": 100,
   "metadata": {
    "ExecuteTime": {
     "end_time": "2019-08-22T03:41:46.814448Z",
     "start_time": "2019-08-22T03:41:46.801802Z"
    },
    "slideshow": {
     "slide_type": "skip"
    }
   },
   "outputs": [
    {
     "data": {
      "text/html": [
       "<div>\n",
       "<style scoped>\n",
       "    .dataframe tbody tr th:only-of-type {\n",
       "        vertical-align: middle;\n",
       "    }\n",
       "\n",
       "    .dataframe tbody tr th {\n",
       "        vertical-align: top;\n",
       "    }\n",
       "\n",
       "    .dataframe thead th {\n",
       "        text-align: right;\n",
       "    }\n",
       "</style>\n",
       "<table border=\"1\" class=\"dataframe\">\n",
       "  <thead>\n",
       "    <tr style=\"text-align: right;\">\n",
       "      <th></th>\n",
       "      <th>i7_i5</th>\n",
       "      <th>reads</th>\n",
       "      <th>i7</th>\n",
       "      <th>i5</th>\n",
       "    </tr>\n",
       "  </thead>\n",
       "  <tbody>\n",
       "    <tr>\n",
       "      <th>1</th>\n",
       "      <td>GGGGGGGG+ATAGAGAG</td>\n",
       "      <td>1644500</td>\n",
       "      <td>GGGGGGGG</td>\n",
       "      <td>ATAGAGAG</td>\n",
       "    </tr>\n",
       "    <tr>\n",
       "      <th>3</th>\n",
       "      <td>GGGGGGGG+AGAGGATA</td>\n",
       "      <td>778720</td>\n",
       "      <td>GGGGGGGG</td>\n",
       "      <td>AGAGGATA</td>\n",
       "    </tr>\n",
       "    <tr>\n",
       "      <th>5</th>\n",
       "      <td>GCCTCAAT+TGTGGATA</td>\n",
       "      <td>599640</td>\n",
       "      <td>GCCTCAAT</td>\n",
       "      <td>TGTGGATA</td>\n",
       "    </tr>\n",
       "    <tr>\n",
       "      <th>6</th>\n",
       "      <td>TTCCATCC+TGTGGATA</td>\n",
       "      <td>561360</td>\n",
       "      <td>TTCCATCC</td>\n",
       "      <td>TGTGGATA</td>\n",
       "    </tr>\n",
       "    <tr>\n",
       "      <th>7</th>\n",
       "      <td>CTCTGGTA+TGTGGATA</td>\n",
       "      <td>550600</td>\n",
       "      <td>CTCTGGTA</td>\n",
       "      <td>TGTGGATA</td>\n",
       "    </tr>\n",
       "    <tr>\n",
       "      <th>9</th>\n",
       "      <td>GTCTACCA+TTTGAGAG</td>\n",
       "      <td>532280</td>\n",
       "      <td>GTCTACCA</td>\n",
       "      <td>TTTGAGAG</td>\n",
       "    </tr>\n",
       "    <tr>\n",
       "      <th>11</th>\n",
       "      <td>GGGGGGGG+ATAGAGAG</td>\n",
       "      <td>1956420</td>\n",
       "      <td>GGGGGGGG</td>\n",
       "      <td>ATAGAGAG</td>\n",
       "    </tr>\n",
       "    <tr>\n",
       "      <th>13</th>\n",
       "      <td>GGGGGGGG+AGAGGATA</td>\n",
       "      <td>986040</td>\n",
       "      <td>GGGGGGGG</td>\n",
       "      <td>AGAGGATA</td>\n",
       "    </tr>\n",
       "    <tr>\n",
       "      <th>17</th>\n",
       "      <td>GTCTACCA+TTTGAGAG</td>\n",
       "      <td>511800</td>\n",
       "      <td>GTCTACCA</td>\n",
       "      <td>TTTGAGAG</td>\n",
       "    </tr>\n",
       "    <tr>\n",
       "      <th>19</th>\n",
       "      <td>TTCCATCC+TGTGGATA</td>\n",
       "      <td>482580</td>\n",
       "      <td>TTCCATCC</td>\n",
       "      <td>TGTGGATA</td>\n",
       "    </tr>\n",
       "    <tr>\n",
       "      <th>21</th>\n",
       "      <td>GGGGGGGG+ATAGAGAG</td>\n",
       "      <td>1563580</td>\n",
       "      <td>GGGGGGGG</td>\n",
       "      <td>ATAGAGAG</td>\n",
       "    </tr>\n",
       "    <tr>\n",
       "      <th>23</th>\n",
       "      <td>GGGGGGGG+AGAGGATA</td>\n",
       "      <td>731280</td>\n",
       "      <td>GGGGGGGG</td>\n",
       "      <td>AGAGGATA</td>\n",
       "    </tr>\n",
       "    <tr>\n",
       "      <th>26</th>\n",
       "      <td>TTCCATCC+TGTGGATA</td>\n",
       "      <td>567480</td>\n",
       "      <td>TTCCATCC</td>\n",
       "      <td>TGTGGATA</td>\n",
       "    </tr>\n",
       "    <tr>\n",
       "      <th>29</th>\n",
       "      <td>GCCTCAAT+TGTGGATA</td>\n",
       "      <td>539180</td>\n",
       "      <td>GCCTCAAT</td>\n",
       "      <td>TGTGGATA</td>\n",
       "    </tr>\n",
       "    <tr>\n",
       "      <th>31</th>\n",
       "      <td>GGGGGGGG+ATAGAGAG</td>\n",
       "      <td>1466600</td>\n",
       "      <td>GGGGGGGG</td>\n",
       "      <td>ATAGAGAG</td>\n",
       "    </tr>\n",
       "    <tr>\n",
       "      <th>32</th>\n",
       "      <td>GGGGGGGG+AGAGGATA</td>\n",
       "      <td>705700</td>\n",
       "      <td>GGGGGGGG</td>\n",
       "      <td>AGAGGATA</td>\n",
       "    </tr>\n",
       "  </tbody>\n",
       "</table>\n",
       "</div>"
      ],
      "text/plain": [
       "                i7_i5    reads        i7        i5\n",
       "1   GGGGGGGG+ATAGAGAG  1644500  GGGGGGGG  ATAGAGAG\n",
       "3   GGGGGGGG+AGAGGATA   778720  GGGGGGGG  AGAGGATA\n",
       "5   GCCTCAAT+TGTGGATA   599640  GCCTCAAT  TGTGGATA\n",
       "6   TTCCATCC+TGTGGATA   561360  TTCCATCC  TGTGGATA\n",
       "7   CTCTGGTA+TGTGGATA   550600  CTCTGGTA  TGTGGATA\n",
       "9   GTCTACCA+TTTGAGAG   532280  GTCTACCA  TTTGAGAG\n",
       "11  GGGGGGGG+ATAGAGAG  1956420  GGGGGGGG  ATAGAGAG\n",
       "13  GGGGGGGG+AGAGGATA   986040  GGGGGGGG  AGAGGATA\n",
       "17  GTCTACCA+TTTGAGAG   511800  GTCTACCA  TTTGAGAG\n",
       "19  TTCCATCC+TGTGGATA   482580  TTCCATCC  TGTGGATA\n",
       "21  GGGGGGGG+ATAGAGAG  1563580  GGGGGGGG  ATAGAGAG\n",
       "23  GGGGGGGG+AGAGGATA   731280  GGGGGGGG  AGAGGATA\n",
       "26  TTCCATCC+TGTGGATA   567480  TTCCATCC  TGTGGATA\n",
       "29  GCCTCAAT+TGTGGATA   539180  GCCTCAAT  TGTGGATA\n",
       "31  GGGGGGGG+ATAGAGAG  1466600  GGGGGGGG  ATAGAGAG\n",
       "32  GGGGGGGG+AGAGGATA   705700  GGGGGGGG  AGAGGATA"
      ]
     },
     "execution_count": 100,
     "metadata": {},
     "output_type": "execute_result"
    }
   ],
   "source": [
    "top_unknown[(top_unknown.i5.isin(i5)) | (top_unknown.i7.isin(i7))]"
   ]
  },
  {
   "cell_type": "code",
   "execution_count": 101,
   "metadata": {
    "ExecuteTime": {
     "end_time": "2019-08-22T03:42:37.149733Z",
     "start_time": "2019-08-22T03:42:37.134711Z"
    },
    "slideshow": {
     "slide_type": "skip"
    }
   },
   "outputs": [
    {
     "data": {
      "text/html": [
       "<div>\n",
       "<style scoped>\n",
       "    .dataframe tbody tr th:only-of-type {\n",
       "        vertical-align: middle;\n",
       "    }\n",
       "\n",
       "    .dataframe tbody tr th {\n",
       "        vertical-align: top;\n",
       "    }\n",
       "\n",
       "    .dataframe thead th {\n",
       "        text-align: right;\n",
       "    }\n",
       "</style>\n",
       "<table border=\"1\" class=\"dataframe\">\n",
       "  <thead>\n",
       "    <tr style=\"text-align: right;\">\n",
       "      <th></th>\n",
       "      <th>i7_i5</th>\n",
       "      <th>reads</th>\n",
       "      <th>i7</th>\n",
       "      <th>i5</th>\n",
       "    </tr>\n",
       "  </thead>\n",
       "  <tbody>\n",
       "    <tr>\n",
       "      <th>0</th>\n",
       "      <td>GGGGGGGG+AGATCTCG</td>\n",
       "      <td>7342600</td>\n",
       "      <td>GGGGGGGG</td>\n",
       "      <td>AGATCTCG</td>\n",
       "    </tr>\n",
       "    <tr>\n",
       "      <th>2</th>\n",
       "      <td>GGGGGGGG+GGGGGGGG</td>\n",
       "      <td>885280</td>\n",
       "      <td>GGGGGGGG</td>\n",
       "      <td>GGGGGGGG</td>\n",
       "    </tr>\n",
       "    <tr>\n",
       "      <th>4</th>\n",
       "      <td>ACGTTCTA+TTTGAGAG</td>\n",
       "      <td>603440</td>\n",
       "      <td>ACGTTCTA</td>\n",
       "      <td>TTTGAGAG</td>\n",
       "    </tr>\n",
       "    <tr>\n",
       "      <th>8</th>\n",
       "      <td>ACGTTCTA+TGTGGATA</td>\n",
       "      <td>548220</td>\n",
       "      <td>ACGTTCTA</td>\n",
       "      <td>TGTGGATA</td>\n",
       "    </tr>\n",
       "    <tr>\n",
       "      <th>10</th>\n",
       "      <td>GGGGGGGG+AGATCTCG</td>\n",
       "      <td>5155680</td>\n",
       "      <td>GGGGGGGG</td>\n",
       "      <td>AGATCTCG</td>\n",
       "    </tr>\n",
       "    <tr>\n",
       "      <th>12</th>\n",
       "      <td>GGGGGGGG+GGGGGGGG</td>\n",
       "      <td>1016840</td>\n",
       "      <td>GGGGGGGG</td>\n",
       "      <td>GGGGGGGG</td>\n",
       "    </tr>\n",
       "    <tr>\n",
       "      <th>14</th>\n",
       "      <td>ACGTTCTA+TTTGAGAG</td>\n",
       "      <td>775180</td>\n",
       "      <td>ACGTTCTA</td>\n",
       "      <td>TTTGAGAG</td>\n",
       "    </tr>\n",
       "    <tr>\n",
       "      <th>15</th>\n",
       "      <td>AACCAGTT+TTTGAGAG</td>\n",
       "      <td>640900</td>\n",
       "      <td>AACCAGTT</td>\n",
       "      <td>TTTGAGAG</td>\n",
       "    </tr>\n",
       "    <tr>\n",
       "      <th>16</th>\n",
       "      <td>ACGTTCTA+TGTGGATA</td>\n",
       "      <td>615680</td>\n",
       "      <td>ACGTTCTA</td>\n",
       "      <td>TGTGGATA</td>\n",
       "    </tr>\n",
       "    <tr>\n",
       "      <th>18</th>\n",
       "      <td>AACCAGTT+TGTGGATA</td>\n",
       "      <td>498720</td>\n",
       "      <td>AACCAGTT</td>\n",
       "      <td>TGTGGATA</td>\n",
       "    </tr>\n",
       "    <tr>\n",
       "      <th>20</th>\n",
       "      <td>GGGGGGGG+AGATCTCG</td>\n",
       "      <td>7335580</td>\n",
       "      <td>GGGGGGGG</td>\n",
       "      <td>AGATCTCG</td>\n",
       "    </tr>\n",
       "    <tr>\n",
       "      <th>22</th>\n",
       "      <td>GGGGGGGG+GGGGGGGG</td>\n",
       "      <td>1212960</td>\n",
       "      <td>GGGGGGGG</td>\n",
       "      <td>GGGGGGGG</td>\n",
       "    </tr>\n",
       "    <tr>\n",
       "      <th>24</th>\n",
       "      <td>ACGTTCTA+TTTGAGAG</td>\n",
       "      <td>664120</td>\n",
       "      <td>ACGTTCTA</td>\n",
       "      <td>TTTGAGAG</td>\n",
       "    </tr>\n",
       "    <tr>\n",
       "      <th>25</th>\n",
       "      <td>ACGTTCTA+TGTGGATA</td>\n",
       "      <td>605040</td>\n",
       "      <td>ACGTTCTA</td>\n",
       "      <td>TGTGGATA</td>\n",
       "    </tr>\n",
       "    <tr>\n",
       "      <th>27</th>\n",
       "      <td>AACCAGTT+TTTGAGAG</td>\n",
       "      <td>545300</td>\n",
       "      <td>AACCAGTT</td>\n",
       "      <td>TTTGAGAG</td>\n",
       "    </tr>\n",
       "    <tr>\n",
       "      <th>28</th>\n",
       "      <td>CAGAACTT+TGTGGATA</td>\n",
       "      <td>539720</td>\n",
       "      <td>CAGAACTT</td>\n",
       "      <td>TGTGGATA</td>\n",
       "    </tr>\n",
       "    <tr>\n",
       "      <th>30</th>\n",
       "      <td>GGGGGGGG+AGATCTCG</td>\n",
       "      <td>4623060</td>\n",
       "      <td>GGGGGGGG</td>\n",
       "      <td>AGATCTCG</td>\n",
       "    </tr>\n",
       "    <tr>\n",
       "      <th>33</th>\n",
       "      <td>ACGTTCTA+TTTGAGAG</td>\n",
       "      <td>676000</td>\n",
       "      <td>ACGTTCTA</td>\n",
       "      <td>TTTGAGAG</td>\n",
       "    </tr>\n",
       "    <tr>\n",
       "      <th>34</th>\n",
       "      <td>GGGGGGGG+GGGGGGGG</td>\n",
       "      <td>665180</td>\n",
       "      <td>GGGGGGGG</td>\n",
       "      <td>GGGGGGGG</td>\n",
       "    </tr>\n",
       "    <tr>\n",
       "      <th>35</th>\n",
       "      <td>ACGTTCTA+TGTGGATA</td>\n",
       "      <td>608380</td>\n",
       "      <td>ACGTTCTA</td>\n",
       "      <td>TGTGGATA</td>\n",
       "    </tr>\n",
       "    <tr>\n",
       "      <th>36</th>\n",
       "      <td>AACCAGTT+TTTGAGAG</td>\n",
       "      <td>566100</td>\n",
       "      <td>AACCAGTT</td>\n",
       "      <td>TTTGAGAG</td>\n",
       "    </tr>\n",
       "    <tr>\n",
       "      <th>37</th>\n",
       "      <td>AACCAGTT+TGTGGATA</td>\n",
       "      <td>491280</td>\n",
       "      <td>AACCAGTT</td>\n",
       "      <td>TGTGGATA</td>\n",
       "    </tr>\n",
       "    <tr>\n",
       "      <th>38</th>\n",
       "      <td>AAGCAACT+TTTGAGAG</td>\n",
       "      <td>418900</td>\n",
       "      <td>AAGCAACT</td>\n",
       "      <td>TTTGAGAG</td>\n",
       "    </tr>\n",
       "    <tr>\n",
       "      <th>39</th>\n",
       "      <td>CAGAACTT+TGTGGATA</td>\n",
       "      <td>400320</td>\n",
       "      <td>CAGAACTT</td>\n",
       "      <td>TGTGGATA</td>\n",
       "    </tr>\n",
       "  </tbody>\n",
       "</table>\n",
       "</div>"
      ],
      "text/plain": [
       "                i7_i5    reads        i7        i5\n",
       "0   GGGGGGGG+AGATCTCG  7342600  GGGGGGGG  AGATCTCG\n",
       "2   GGGGGGGG+GGGGGGGG   885280  GGGGGGGG  GGGGGGGG\n",
       "4   ACGTTCTA+TTTGAGAG   603440  ACGTTCTA  TTTGAGAG\n",
       "8   ACGTTCTA+TGTGGATA   548220  ACGTTCTA  TGTGGATA\n",
       "10  GGGGGGGG+AGATCTCG  5155680  GGGGGGGG  AGATCTCG\n",
       "12  GGGGGGGG+GGGGGGGG  1016840  GGGGGGGG  GGGGGGGG\n",
       "14  ACGTTCTA+TTTGAGAG   775180  ACGTTCTA  TTTGAGAG\n",
       "15  AACCAGTT+TTTGAGAG   640900  AACCAGTT  TTTGAGAG\n",
       "16  ACGTTCTA+TGTGGATA   615680  ACGTTCTA  TGTGGATA\n",
       "18  AACCAGTT+TGTGGATA   498720  AACCAGTT  TGTGGATA\n",
       "20  GGGGGGGG+AGATCTCG  7335580  GGGGGGGG  AGATCTCG\n",
       "22  GGGGGGGG+GGGGGGGG  1212960  GGGGGGGG  GGGGGGGG\n",
       "24  ACGTTCTA+TTTGAGAG   664120  ACGTTCTA  TTTGAGAG\n",
       "25  ACGTTCTA+TGTGGATA   605040  ACGTTCTA  TGTGGATA\n",
       "27  AACCAGTT+TTTGAGAG   545300  AACCAGTT  TTTGAGAG\n",
       "28  CAGAACTT+TGTGGATA   539720  CAGAACTT  TGTGGATA\n",
       "30  GGGGGGGG+AGATCTCG  4623060  GGGGGGGG  AGATCTCG\n",
       "33  ACGTTCTA+TTTGAGAG   676000  ACGTTCTA  TTTGAGAG\n",
       "34  GGGGGGGG+GGGGGGGG   665180  GGGGGGGG  GGGGGGGG\n",
       "35  ACGTTCTA+TGTGGATA   608380  ACGTTCTA  TGTGGATA\n",
       "36  AACCAGTT+TTTGAGAG   566100  AACCAGTT  TTTGAGAG\n",
       "37  AACCAGTT+TGTGGATA   491280  AACCAGTT  TGTGGATA\n",
       "38  AAGCAACT+TTTGAGAG   418900  AAGCAACT  TTTGAGAG\n",
       "39  CAGAACTT+TGTGGATA   400320  CAGAACTT  TGTGGATA"
      ]
     },
     "execution_count": 101,
     "metadata": {},
     "output_type": "execute_result"
    }
   ],
   "source": [
    "top_unknown[(~top_unknown.i5.isin(i5)) & (~top_unknown.i7.isin(i7))]"
   ]
  },
  {
   "cell_type": "markdown",
   "metadata": {
    "slideshow": {
     "slide_type": "slide"
    }
   },
   "source": [
    "# Subsequent analysis are all based on the Top 10 undetermined barcodes from each lane"
   ]
  },
  {
   "cell_type": "markdown",
   "metadata": {
    "slideshow": {
     "slide_type": "slide"
    }
   },
   "source": [
    "### Some i5 bar codes have mutations, causing demultiplexing failure."
   ]
  },
  {
   "cell_type": "markdown",
   "metadata": {
    "hide_input": true,
    "slideshow": {
     "slide_type": "fragment"
    }
   },
   "source": [
    "**2 bp mutations seem to occur with i5 bar codes** \n",
    "- `TTTGAGAG` might be `ATAGAGAG` with 2 mutations\n",
    "- `TGTGGATA` might be `AGAGGATA` with 2 mutations"
   ]
  },
  {
   "cell_type": "code",
   "execution_count": 119,
   "metadata": {
    "ExecuteTime": {
     "end_time": "2019-08-22T05:11:37.942699Z",
     "start_time": "2019-08-22T05:11:37.935209Z"
    },
    "hide_input": false,
    "slideshow": {
     "slide_type": "fragment"
    }
   },
   "outputs": [
    {
     "data": {
      "text/plain": [
       "array(['AGATCTCG', 'GGGGGGGG', 'TTTGAGAG', 'TGTGGATA'], dtype=object)"
      ]
     },
     "execution_count": 119,
     "metadata": {},
     "output_type": "execute_result"
    }
   ],
   "source": [
    "# undetermined i5 sequence\n",
    "top_unknown[(~top_unknown.i5.isin(i5)) & (~top_unknown.i7.isin(i7))]['i5'].unique()"
   ]
  },
  {
   "cell_type": "code",
   "execution_count": 106,
   "metadata": {
    "ExecuteTime": {
     "end_time": "2019-08-22T03:45:09.222631Z",
     "start_time": "2019-08-22T03:45:09.218247Z"
    },
    "hide_input": false,
    "slideshow": {
     "slide_type": "fragment"
    }
   },
   "outputs": [
    {
     "data": {
      "text/plain": [
       "array(['ATAGAGAG', 'AGAGGATA', 'CTCCTTAC'], dtype=object)"
      ]
     },
     "execution_count": 106,
     "metadata": {},
     "output_type": "execute_result"
    }
   ],
   "source": [
    "# Actual i5 sequence\n",
    "i5[3:6]"
   ]
  },
  {
   "cell_type": "markdown",
   "metadata": {
    "hide_input": true,
    "slideshow": {
     "slide_type": "slide"
    }
   },
   "source": [
    "### Some i7 barcodes have mutations. This also causes demultiplexing failure."
   ]
  },
  {
   "cell_type": "markdown",
   "metadata": {
    "hide_input": true,
    "slideshow": {
     "slide_type": "fragment"
    }
   },
   "source": [
    "- `ACGTTCTA` might be `ACGTTCGA` with 1 mutation\n",
    "- `AACCAGTT` might be `AACCAGGT` with 1 mutation\n",
    "- `AAGCAACT` might be `AAGCAACG` with 1 mutation\n",
    "- `CAGAACTT` might be `CAGAACTG` with 1 mutation\n"
   ]
  },
  {
   "cell_type": "code",
   "execution_count": 120,
   "metadata": {
    "ExecuteTime": {
     "end_time": "2019-08-22T05:12:58.434118Z",
     "start_time": "2019-08-22T05:12:58.426711Z"
    },
    "hide_input": false,
    "slideshow": {
     "slide_type": "fragment"
    }
   },
   "outputs": [
    {
     "data": {
      "text/plain": [
       "array(['GGGGGGGG', 'ACGTTCTA', 'AACCAGTT', 'CAGAACTT', 'AAGCAACT'],\n",
       "      dtype=object)"
      ]
     },
     "execution_count": 120,
     "metadata": {},
     "output_type": "execute_result"
    }
   ],
   "source": [
    "# undetermined i7 sequence\n",
    "top_unknown[(~top_unknown.i5.isin(i5)) & (~top_unknown.i7.isin(i7))]['i7'].unique()"
   ]
  },
  {
   "cell_type": "code",
   "execution_count": 110,
   "metadata": {
    "ExecuteTime": {
     "end_time": "2019-08-22T03:55:47.440039Z",
     "start_time": "2019-08-22T03:55:47.436243Z"
    },
    "hide_input": false,
    "slideshow": {
     "slide_type": "fragment"
    }
   },
   "outputs": [
    {
     "data": {
      "text/plain": [
       "array(['CTCTGGTA', 'TTCCATCC', 'GCCTCAAT', 'TCTATCCG', 'GTCTACCA',\n",
       "       'AACCAGGT', 'CAGAACTG', 'ACGTTCGA', 'AAGCAACG', 'GAACGGTA',\n",
       "       'GCAACCTA', 'TTAGCCTC'], dtype=object)"
      ]
     },
     "execution_count": 110,
     "metadata": {},
     "output_type": "execute_result"
    }
   ],
   "source": [
    "# Actual i7 sequence\n",
    "i7[0:12]"
   ]
  },
  {
   "cell_type": "markdown",
   "metadata": {
    "slideshow": {
     "slide_type": "slide"
    }
   },
   "source": [
    "### Among top 10 undetermined reads in each lane (Lane 1 ~ Lane 4), these reads (`9 million`) could be recovered and demultiplexed by manually (custom script) matching them to actual barcodes.\n",
    "\n",
    "- We may be able to recover more reads usig the same strategy buy applying to the entire undetermined dataset\n",
    "- But what are those `GGGGGGGG` barcodes? Why are they there? We would lose any reads with such barcode sequence\n"
   ]
  },
  {
   "cell_type": "code",
   "execution_count": 122,
   "metadata": {
    "ExecuteTime": {
     "end_time": "2019-08-22T05:15:07.885744Z",
     "start_time": "2019-08-22T05:15:07.865144Z"
    },
    "hide_input": true,
    "slideshow": {
     "slide_type": "fragment"
    }
   },
   "outputs": [
    {
     "data": {
      "text/plain": [
       "9197300"
      ]
     },
     "execution_count": 122,
     "metadata": {},
     "output_type": "execute_result"
    },
    {
     "data": {
      "text/html": [
       "<div>\n",
       "<style scoped>\n",
       "    .dataframe tbody tr th:only-of-type {\n",
       "        vertical-align: middle;\n",
       "    }\n",
       "\n",
       "    .dataframe tbody tr th {\n",
       "        vertical-align: top;\n",
       "    }\n",
       "\n",
       "    .dataframe thead th {\n",
       "        text-align: right;\n",
       "    }\n",
       "</style>\n",
       "<table border=\"1\" class=\"dataframe\">\n",
       "  <thead>\n",
       "    <tr style=\"text-align: right;\">\n",
       "      <th></th>\n",
       "      <th>i7_i5</th>\n",
       "      <th>reads</th>\n",
       "      <th>i7</th>\n",
       "      <th>i5</th>\n",
       "    </tr>\n",
       "  </thead>\n",
       "  <tbody>\n",
       "    <tr>\n",
       "      <th>4</th>\n",
       "      <td>ACGTTCTA+TTTGAGAG</td>\n",
       "      <td>603440</td>\n",
       "      <td>ACGTTCTA</td>\n",
       "      <td>TTTGAGAG</td>\n",
       "    </tr>\n",
       "    <tr>\n",
       "      <th>8</th>\n",
       "      <td>ACGTTCTA+TGTGGATA</td>\n",
       "      <td>548220</td>\n",
       "      <td>ACGTTCTA</td>\n",
       "      <td>TGTGGATA</td>\n",
       "    </tr>\n",
       "    <tr>\n",
       "      <th>14</th>\n",
       "      <td>ACGTTCTA+TTTGAGAG</td>\n",
       "      <td>775180</td>\n",
       "      <td>ACGTTCTA</td>\n",
       "      <td>TTTGAGAG</td>\n",
       "    </tr>\n",
       "    <tr>\n",
       "      <th>15</th>\n",
       "      <td>AACCAGTT+TTTGAGAG</td>\n",
       "      <td>640900</td>\n",
       "      <td>AACCAGTT</td>\n",
       "      <td>TTTGAGAG</td>\n",
       "    </tr>\n",
       "    <tr>\n",
       "      <th>16</th>\n",
       "      <td>ACGTTCTA+TGTGGATA</td>\n",
       "      <td>615680</td>\n",
       "      <td>ACGTTCTA</td>\n",
       "      <td>TGTGGATA</td>\n",
       "    </tr>\n",
       "    <tr>\n",
       "      <th>18</th>\n",
       "      <td>AACCAGTT+TGTGGATA</td>\n",
       "      <td>498720</td>\n",
       "      <td>AACCAGTT</td>\n",
       "      <td>TGTGGATA</td>\n",
       "    </tr>\n",
       "    <tr>\n",
       "      <th>24</th>\n",
       "      <td>ACGTTCTA+TTTGAGAG</td>\n",
       "      <td>664120</td>\n",
       "      <td>ACGTTCTA</td>\n",
       "      <td>TTTGAGAG</td>\n",
       "    </tr>\n",
       "    <tr>\n",
       "      <th>25</th>\n",
       "      <td>ACGTTCTA+TGTGGATA</td>\n",
       "      <td>605040</td>\n",
       "      <td>ACGTTCTA</td>\n",
       "      <td>TGTGGATA</td>\n",
       "    </tr>\n",
       "    <tr>\n",
       "      <th>27</th>\n",
       "      <td>AACCAGTT+TTTGAGAG</td>\n",
       "      <td>545300</td>\n",
       "      <td>AACCAGTT</td>\n",
       "      <td>TTTGAGAG</td>\n",
       "    </tr>\n",
       "    <tr>\n",
       "      <th>28</th>\n",
       "      <td>CAGAACTT+TGTGGATA</td>\n",
       "      <td>539720</td>\n",
       "      <td>CAGAACTT</td>\n",
       "      <td>TGTGGATA</td>\n",
       "    </tr>\n",
       "    <tr>\n",
       "      <th>33</th>\n",
       "      <td>ACGTTCTA+TTTGAGAG</td>\n",
       "      <td>676000</td>\n",
       "      <td>ACGTTCTA</td>\n",
       "      <td>TTTGAGAG</td>\n",
       "    </tr>\n",
       "    <tr>\n",
       "      <th>35</th>\n",
       "      <td>ACGTTCTA+TGTGGATA</td>\n",
       "      <td>608380</td>\n",
       "      <td>ACGTTCTA</td>\n",
       "      <td>TGTGGATA</td>\n",
       "    </tr>\n",
       "    <tr>\n",
       "      <th>36</th>\n",
       "      <td>AACCAGTT+TTTGAGAG</td>\n",
       "      <td>566100</td>\n",
       "      <td>AACCAGTT</td>\n",
       "      <td>TTTGAGAG</td>\n",
       "    </tr>\n",
       "    <tr>\n",
       "      <th>37</th>\n",
       "      <td>AACCAGTT+TGTGGATA</td>\n",
       "      <td>491280</td>\n",
       "      <td>AACCAGTT</td>\n",
       "      <td>TGTGGATA</td>\n",
       "    </tr>\n",
       "    <tr>\n",
       "      <th>38</th>\n",
       "      <td>AAGCAACT+TTTGAGAG</td>\n",
       "      <td>418900</td>\n",
       "      <td>AAGCAACT</td>\n",
       "      <td>TTTGAGAG</td>\n",
       "    </tr>\n",
       "    <tr>\n",
       "      <th>39</th>\n",
       "      <td>CAGAACTT+TGTGGATA</td>\n",
       "      <td>400320</td>\n",
       "      <td>CAGAACTT</td>\n",
       "      <td>TGTGGATA</td>\n",
       "    </tr>\n",
       "  </tbody>\n",
       "</table>\n",
       "</div>"
      ],
      "text/plain": [
       "                i7_i5   reads        i7        i5\n",
       "4   ACGTTCTA+TTTGAGAG  603440  ACGTTCTA  TTTGAGAG\n",
       "8   ACGTTCTA+TGTGGATA  548220  ACGTTCTA  TGTGGATA\n",
       "14  ACGTTCTA+TTTGAGAG  775180  ACGTTCTA  TTTGAGAG\n",
       "15  AACCAGTT+TTTGAGAG  640900  AACCAGTT  TTTGAGAG\n",
       "16  ACGTTCTA+TGTGGATA  615680  ACGTTCTA  TGTGGATA\n",
       "18  AACCAGTT+TGTGGATA  498720  AACCAGTT  TGTGGATA\n",
       "24  ACGTTCTA+TTTGAGAG  664120  ACGTTCTA  TTTGAGAG\n",
       "25  ACGTTCTA+TGTGGATA  605040  ACGTTCTA  TGTGGATA\n",
       "27  AACCAGTT+TTTGAGAG  545300  AACCAGTT  TTTGAGAG\n",
       "28  CAGAACTT+TGTGGATA  539720  CAGAACTT  TGTGGATA\n",
       "33  ACGTTCTA+TTTGAGAG  676000  ACGTTCTA  TTTGAGAG\n",
       "35  ACGTTCTA+TGTGGATA  608380  ACGTTCTA  TGTGGATA\n",
       "36  AACCAGTT+TTTGAGAG  566100  AACCAGTT  TTTGAGAG\n",
       "37  AACCAGTT+TGTGGATA  491280  AACCAGTT  TGTGGATA\n",
       "38  AAGCAACT+TTTGAGAG  418900  AAGCAACT  TTTGAGAG\n",
       "39  CAGAACTT+TGTGGATA  400320  CAGAACTT  TGTGGATA"
      ]
     },
     "execution_count": 122,
     "metadata": {},
     "output_type": "execute_result"
    }
   ],
   "source": [
    "top_unknown[(top_unknown.i7.isin(['ACGTTCTA','AACCAGTT','AAGCAACT','CAGAACTT'])) & \n",
    "            (top_unknown.i5.isin(['TTTGAGAG','TGTGGATA']))].reads.sum()\n",
    "top_unknown[(top_unknown.i7.isin(['ACGTTCTA','AACCAGTT','AAGCAACT','CAGAACTT'])) & \n",
    "            (top_unknown.i5.isin(['TTTGAGAG','TGTGGATA']))]\n"
   ]
  },
  {
   "cell_type": "code",
   "execution_count": 140,
   "metadata": {
    "ExecuteTime": {
     "end_time": "2019-08-22T13:05:12.374649Z",
     "start_time": "2019-08-22T13:05:06.898328Z"
    },
    "slideshow": {
     "slide_type": "skip"
    }
   },
   "outputs": [
    {
     "name": "stdout",
     "output_type": "stream",
     "text": [
      "[NbConvertApp] Converting notebook /gpfs/commons/home/cdai/notebooks/TFscreen_demultiplex.ipynb to slides\n",
      "[NbConvertApp] Writing 302495 bytes to /gpfs/commons/home/cdai/notebooks/TFscreen_demultiplex.slides.html\n"
     ]
    }
   ],
   "source": [
    "!jupyter nbconvert --to slides /gpfs/commons/home/cdai/notebooks/TFscreen_demultiplex.ipynb"
   ]
  }
 ],
 "metadata": {
  "celltoolbar": "Slideshow",
  "kernelspec": {
   "display_name": "Python 3",
   "language": "python",
   "name": "python3"
  },
  "language_info": {
   "codemirror_mode": {
    "name": "ipython",
    "version": 3
   },
   "file_extension": ".py",
   "mimetype": "text/x-python",
   "name": "python",
   "nbconvert_exporter": "python",
   "pygments_lexer": "ipython3",
   "version": "3.7.0"
  },
  "toc": {
   "base_numbering": 1,
   "nav_menu": {},
   "number_sections": true,
   "sideBar": true,
   "skip_h1_title": false,
   "title_cell": "Table of Contents",
   "title_sidebar": "Contents",
   "toc_cell": false,
   "toc_position": {},
   "toc_section_display": true,
   "toc_window_display": false
  }
 },
 "nbformat": 4,
 "nbformat_minor": 2
}
