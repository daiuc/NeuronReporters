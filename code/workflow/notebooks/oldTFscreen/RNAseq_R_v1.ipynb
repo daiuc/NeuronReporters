{
 "cells": [
  {
   "cell_type": "markdown",
   "metadata": {},
   "source": [
    "# This notebook uses star gene counts"
   ]
  },
  {
   "cell_type": "code",
   "execution_count": 1,
   "metadata": {
    "ExecuteTime": {
     "end_time": "2019-08-24T16:23:40.284069Z",
     "start_time": "2019-08-24T16:23:40.225Z"
    }
   },
   "outputs": [],
   "source": [
    "library(repr)\n",
    "options(repr.plot.width=5, repr.plot.height=5)"
   ]
  },
  {
   "cell_type": "code",
   "execution_count": 4,
   "metadata": {
    "ExecuteTime": {
     "end_time": "2019-08-24T16:23:55.381197Z",
     "start_time": "2019-08-24T16:23:55.137Z"
    }
   },
   "outputs": [],
   "source": [
    "library(dplyr)\n",
    "library(tidyverse)\n",
    "library(WriteXLS)"
   ]
  },
  {
   "cell_type": "code",
   "execution_count": 5,
   "metadata": {
    "ExecuteTime": {
     "end_time": "2019-08-24T16:23:55.442429Z",
     "start_time": "2019-08-24T16:23:55.399Z"
    }
   },
   "outputs": [],
   "source": [
    "library(DESeq2)\n",
    "library(apeglm)\n",
    "library(EnhancedVolcano)\n",
    "library(ggplot2)"
   ]
  },
  {
   "cell_type": "code",
   "execution_count": 377,
   "metadata": {
    "ExecuteTime": {
     "end_time": "2019-08-24T19:18:30.203576Z",
     "start_time": "2019-08-24T19:18:30.122Z"
    }
   },
   "outputs": [],
   "source": [
    "library(pheatmap)"
   ]
  },
  {
   "cell_type": "code",
   "execution_count": 6,
   "metadata": {
    "ExecuteTime": {
     "end_time": "2019-08-24T16:23:56.788994Z",
     "start_time": "2019-08-24T16:23:56.750Z"
    }
   },
   "outputs": [],
   "source": [
    "setwd('/gpfs/commons/groups/sanjana_lab/cdai/TFscreen/data/20190816/star/counts')"
   ]
  },
  {
   "cell_type": "code",
   "execution_count": 7,
   "metadata": {
    "ExecuteTime": {
     "end_time": "2019-08-24T16:23:57.211904Z",
     "start_time": "2019-08-24T16:23:57.179Z"
    }
   },
   "outputs": [
    {
     "data": {
      "text/html": [
       "<ol class=list-inline>\n",
       "\t<li>'conditions_group1.csv'</li>\n",
       "\t<li>'DEgenes_output1.csv'</li>\n",
       "\t<li>'HighlyExpressedGenes.csv'</li>\n",
       "\t<li>'RNAseq_allgene_cnts.csv'</li>\n",
       "\t<li>'rnaseq_flen.csv'</li>\n",
       "\t<li>'RNAseq_tdNeg_120GeneSet_counts.csv'</li>\n",
       "\t<li>'TFsc_rnaseq_cnts.csv'</li>\n",
       "</ol>\n"
      ],
      "text/latex": [
       "\\begin{enumerate*}\n",
       "\\item 'conditions\\_group1.csv'\n",
       "\\item 'DEgenes\\_output1.csv'\n",
       "\\item 'HighlyExpressedGenes.csv'\n",
       "\\item 'RNAseq\\_allgene\\_cnts.csv'\n",
       "\\item 'rnaseq\\_flen.csv'\n",
       "\\item 'RNAseq\\_tdNeg\\_120GeneSet\\_counts.csv'\n",
       "\\item 'TFsc\\_rnaseq\\_cnts.csv'\n",
       "\\end{enumerate*}\n"
      ],
      "text/markdown": [
       "1. 'conditions_group1.csv'\n",
       "2. 'DEgenes_output1.csv'\n",
       "3. 'HighlyExpressedGenes.csv'\n",
       "4. 'RNAseq_allgene_cnts.csv'\n",
       "5. 'rnaseq_flen.csv'\n",
       "6. 'RNAseq_tdNeg_120GeneSet_counts.csv'\n",
       "7. 'TFsc_rnaseq_cnts.csv'\n",
       "\n",
       "\n"
      ],
      "text/plain": [
       "[1] \"conditions_group1.csv\"              \"DEgenes_output1.csv\"               \n",
       "[3] \"HighlyExpressedGenes.csv\"           \"RNAseq_allgene_cnts.csv\"           \n",
       "[5] \"rnaseq_flen.csv\"                    \"RNAseq_tdNeg_120GeneSet_counts.csv\"\n",
       "[7] \"TFsc_rnaseq_cnts.csv\"              "
      ]
     },
     "metadata": {},
     "output_type": "display_data"
    }
   ],
   "source": [
    "dir(pattern='*.csv')"
   ]
  },
  {
   "cell_type": "code",
   "execution_count": 8,
   "metadata": {
    "ExecuteTime": {
     "end_time": "2019-08-24T16:24:00.635870Z",
     "start_time": "2019-08-24T16:23:58.412Z"
    }
   },
   "outputs": [],
   "source": [
    "cnts = read.csv(file = 'TFsc_rnaseq_cnts.csv', row.names = 1)"
   ]
  },
  {
   "cell_type": "code",
   "execution_count": 9,
   "metadata": {
    "ExecuteTime": {
     "end_time": "2019-08-24T16:24:01.238510Z",
     "start_time": "2019-08-24T16:24:01.184Z"
    }
   },
   "outputs": [
    {
     "data": {
      "text/html": [
       "'data.frame'"
      ],
      "text/latex": [
       "'data.frame'"
      ],
      "text/markdown": [
       "'data.frame'"
      ],
      "text/plain": [
       "[1] \"data.frame\""
      ]
     },
     "metadata": {},
     "output_type": "display_data"
    },
    {
     "data": {
      "text/html": [
       "<table>\n",
       "<thead><tr><th></th><th scope=col>S01</th><th scope=col>S02</th><th scope=col>S03</th><th scope=col>S04</th><th scope=col>S05</th><th scope=col>S06</th><th scope=col>S07</th><th scope=col>S08</th><th scope=col>S09</th><th scope=col>S10</th><th scope=col>⋯</th><th scope=col>S13</th><th scope=col>S14</th><th scope=col>S15</th><th scope=col>S16</th><th scope=col>S17</th><th scope=col>S18</th><th scope=col>S19</th><th scope=col>S20</th><th scope=col>S21</th><th scope=col>S22</th></tr></thead>\n",
       "<tbody>\n",
       "\t<tr><th scope=row>ENSG00000223972.5</th><td>0</td><td>0</td><td>0</td><td>0</td><td>0</td><td>0</td><td>0</td><td>0</td><td>0</td><td>0</td><td>⋯</td><td>0</td><td>0</td><td>0</td><td>0</td><td>0</td><td>0</td><td>0</td><td>0</td><td>0</td><td>0</td></tr>\n",
       "\t<tr><th scope=row>ENSG00000227232.5</th><td>0</td><td>0</td><td>0</td><td>0</td><td>0</td><td>0</td><td>0</td><td>0</td><td>0</td><td>0</td><td>⋯</td><td>0</td><td>0</td><td>0</td><td>0</td><td>0</td><td>0</td><td>0</td><td>0</td><td>0</td><td>0</td></tr>\n",
       "</tbody>\n",
       "</table>\n"
      ],
      "text/latex": [
       "\\begin{tabular}{r|llllllllllllllllllllll}\n",
       "  & S01 & S02 & S03 & S04 & S05 & S06 & S07 & S08 & S09 & S10 & ⋯ & S13 & S14 & S15 & S16 & S17 & S18 & S19 & S20 & S21 & S22\\\\\n",
       "\\hline\n",
       "\tENSG00000223972.5 & 0 & 0 & 0 & 0 & 0 & 0 & 0 & 0 & 0 & 0 & ⋯ & 0 & 0 & 0 & 0 & 0 & 0 & 0 & 0 & 0 & 0\\\\\n",
       "\tENSG00000227232.5 & 0 & 0 & 0 & 0 & 0 & 0 & 0 & 0 & 0 & 0 & ⋯ & 0 & 0 & 0 & 0 & 0 & 0 & 0 & 0 & 0 & 0\\\\\n",
       "\\end{tabular}\n"
      ],
      "text/markdown": [
       "\n",
       "| <!--/--> | S01 | S02 | S03 | S04 | S05 | S06 | S07 | S08 | S09 | S10 | ⋯ | S13 | S14 | S15 | S16 | S17 | S18 | S19 | S20 | S21 | S22 |\n",
       "|---|---|---|---|---|---|---|---|---|---|---|---|---|---|---|---|---|---|---|---|---|---|\n",
       "| ENSG00000223972.5 | 0 | 0 | 0 | 0 | 0 | 0 | 0 | 0 | 0 | 0 | ⋯ | 0 | 0 | 0 | 0 | 0 | 0 | 0 | 0 | 0 | 0 |\n",
       "| ENSG00000227232.5 | 0 | 0 | 0 | 0 | 0 | 0 | 0 | 0 | 0 | 0 | ⋯ | 0 | 0 | 0 | 0 | 0 | 0 | 0 | 0 | 0 | 0 |\n",
       "\n"
      ],
      "text/plain": [
       "                  S01 S02 S03 S04 S05 S06 S07 S08 S09 S10 ⋯ S13 S14 S15 S16 S17\n",
       "ENSG00000223972.5 0   0   0   0   0   0   0   0   0   0   ⋯ 0   0   0   0   0  \n",
       "ENSG00000227232.5 0   0   0   0   0   0   0   0   0   0   ⋯ 0   0   0   0   0  \n",
       "                  S18 S19 S20 S21 S22\n",
       "ENSG00000223972.5 0   0   0   0   0  \n",
       "ENSG00000227232.5 0   0   0   0   0  "
      ]
     },
     "metadata": {},
     "output_type": "display_data"
    }
   ],
   "source": [
    "class(cnts)\n",
    "head(cnts, 2)"
   ]
  },
  {
   "cell_type": "code",
   "execution_count": 10,
   "metadata": {
    "ExecuteTime": {
     "end_time": "2019-08-24T16:24:08.951191Z",
     "start_time": "2019-08-24T16:24:02.212Z"
    }
   },
   "outputs": [],
   "source": [
    "mean_cnts <- apply(cnts[,1:22], 1, mean)\n",
    "var_cnts <- apply(cnts[,1:22], 1, var)\n",
    "df <- data.frame(mean_cnts, var_cnts)"
   ]
  },
  {
   "cell_type": "code",
   "execution_count": 11,
   "metadata": {
    "ExecuteTime": {
     "end_time": "2019-08-24T16:24:13.438285Z",
     "start_time": "2019-08-24T16:24:02.599Z"
    }
   },
   "outputs": [
    {
     "name": "stderr",
     "output_type": "stream",
     "text": [
      "Warning message:\n",
      "“Transformation introduced infinite values in continuous y-axis”Warning message:\n",
      "“Transformation introduced infinite values in continuous x-axis”Warning message:\n",
      "“Transformation introduced infinite values in continuous y-axis”Warning message:\n",
      "“Transformation introduced infinite values in continuous x-axis”Warning message:\n",
      "“Removed 26202 rows containing non-finite values (stat_smooth).”"
     ]
    },
    {
     "data": {
      "image/png": "[encoded data removed]",
      "text/plain": [
       "plot without title"
      ]
     },
     "metadata": {},
     "output_type": "display_data"
    }
   ],
   "source": [
    "ggplot(df) + geom_point(aes(x=mean_cnts, y=var_cnts), size=.4, alpha=0.4) + \n",
    "             geom_smooth(aes(x=mean_cnts, y=var_cnts),method = 'glm', size=.2, color='red') +\n",
    "             scale_y_log10() + scale_x_log10()"
   ]
  },
  {
   "cell_type": "markdown",
   "metadata": {},
   "source": [
    "# ACT I\n",
    "\n",
    "**WT with devlopment:**\n",
    "\n",
    "Condition |Sample\n",
    ":--------:|:-------:\n",
    "ES w RI  |  1, 2\n",
    "ES w/o RI |   13, 14\n",
    "+DOX 15h   | 15, 16\n",
    "+DOX Day1   | 17, 18\n",
    "+DOX Day2   | 19, 20\n",
    "+DOX Day4   | 7, 8\n",
    "+DOX Day7   | 21, 22"
   ]
  },
  {
   "cell_type": "code",
   "execution_count": 423,
   "metadata": {
    "ExecuteTime": {
     "end_time": "2019-08-25T18:35:35.577103Z",
     "start_time": "2019-08-25T18:35:35.543Z"
    }
   },
   "outputs": [],
   "source": [
    "cols1 <- c('S01', 'S02','S13','S14','S15','S16','S17','S18','S19','S20','S07','S08','S21','S22') # relevent samples\n",
    "cnts1 <- cnts[,cols1]"
   ]
  },
  {
   "cell_type": "code",
   "execution_count": 424,
   "metadata": {
    "ExecuteTime": {
     "end_time": "2019-08-25T18:35:36.725524Z",
     "start_time": "2019-08-25T18:35:36.682Z"
    }
   },
   "outputs": [
    {
     "data": {
      "text/html": [
       "<ol class=list-inline>\n",
       "\t<li>'S01'</li>\n",
       "\t<li>'S02'</li>\n",
       "\t<li>'S13'</li>\n",
       "\t<li>'S14'</li>\n",
       "\t<li>'S15'</li>\n",
       "\t<li>'S16'</li>\n",
       "\t<li>'S17'</li>\n",
       "\t<li>'S18'</li>\n",
       "\t<li>'S19'</li>\n",
       "\t<li>'S20'</li>\n",
       "\t<li>'S07'</li>\n",
       "\t<li>'S08'</li>\n",
       "\t<li>'S21'</li>\n",
       "\t<li>'S22'</li>\n",
       "</ol>\n"
      ],
      "text/latex": [
       "\\begin{enumerate*}\n",
       "\\item 'S01'\n",
       "\\item 'S02'\n",
       "\\item 'S13'\n",
       "\\item 'S14'\n",
       "\\item 'S15'\n",
       "\\item 'S16'\n",
       "\\item 'S17'\n",
       "\\item 'S18'\n",
       "\\item 'S19'\n",
       "\\item 'S20'\n",
       "\\item 'S07'\n",
       "\\item 'S08'\n",
       "\\item 'S21'\n",
       "\\item 'S22'\n",
       "\\end{enumerate*}\n"
      ],
      "text/markdown": [
       "1. 'S01'\n",
       "2. 'S02'\n",
       "3. 'S13'\n",
       "4. 'S14'\n",
       "5. 'S15'\n",
       "6. 'S16'\n",
       "7. 'S17'\n",
       "8. 'S18'\n",
       "9. 'S19'\n",
       "10. 'S20'\n",
       "11. 'S07'\n",
       "12. 'S08'\n",
       "13. 'S21'\n",
       "14. 'S22'\n",
       "\n",
       "\n"
      ],
      "text/plain": [
       " [1] \"S01\" \"S02\" \"S13\" \"S14\" \"S15\" \"S16\" \"S17\" \"S18\" \"S19\" \"S20\" \"S07\" \"S08\"\n",
       "[13] \"S21\" \"S22\""
      ]
     },
     "metadata": {},
     "output_type": "display_data"
    },
    {
     "data": {
      "text/html": [
       "<table>\n",
       "<thead><tr><th></th><th scope=col>S01</th><th scope=col>S02</th><th scope=col>S13</th><th scope=col>S14</th><th scope=col>S15</th><th scope=col>S16</th><th scope=col>S17</th><th scope=col>S18</th><th scope=col>S19</th><th scope=col>S20</th><th scope=col>S07</th><th scope=col>S08</th><th scope=col>S21</th><th scope=col>S22</th></tr></thead>\n",
       "<tbody>\n",
       "\t<tr><th scope=row>ENSG00000223972.5</th><td>0</td><td>0</td><td>0</td><td>0</td><td>0</td><td>0</td><td>0</td><td>0</td><td>0</td><td>0</td><td>0</td><td>0</td><td>0</td><td>0</td></tr>\n",
       "\t<tr><th scope=row>ENSG00000227232.5</th><td>0</td><td>0</td><td>0</td><td>0</td><td>0</td><td>0</td><td>0</td><td>0</td><td>0</td><td>0</td><td>0</td><td>0</td><td>0</td><td>0</td></tr>\n",
       "</tbody>\n",
       "</table>\n"
      ],
      "text/latex": [
       "\\begin{tabular}{r|llllllllllllll}\n",
       "  & S01 & S02 & S13 & S14 & S15 & S16 & S17 & S18 & S19 & S20 & S07 & S08 & S21 & S22\\\\\n",
       "\\hline\n",
       "\tENSG00000223972.5 & 0 & 0 & 0 & 0 & 0 & 0 & 0 & 0 & 0 & 0 & 0 & 0 & 0 & 0\\\\\n",
       "\tENSG00000227232.5 & 0 & 0 & 0 & 0 & 0 & 0 & 0 & 0 & 0 & 0 & 0 & 0 & 0 & 0\\\\\n",
       "\\end{tabular}\n"
      ],
      "text/markdown": [
       "\n",
       "| <!--/--> | S01 | S02 | S13 | S14 | S15 | S16 | S17 | S18 | S19 | S20 | S07 | S08 | S21 | S22 |\n",
       "|---|---|---|---|---|---|---|---|---|---|---|---|---|---|---|\n",
       "| ENSG00000223972.5 | 0 | 0 | 0 | 0 | 0 | 0 | 0 | 0 | 0 | 0 | 0 | 0 | 0 | 0 |\n",
       "| ENSG00000227232.5 | 0 | 0 | 0 | 0 | 0 | 0 | 0 | 0 | 0 | 0 | 0 | 0 | 0 | 0 |\n",
       "\n"
      ],
      "text/plain": [
       "                  S01 S02 S13 S14 S15 S16 S17 S18 S19 S20 S07 S08 S21 S22\n",
       "ENSG00000223972.5 0   0   0   0   0   0   0   0   0   0   0   0   0   0  \n",
       "ENSG00000227232.5 0   0   0   0   0   0   0   0   0   0   0   0   0   0  "
      ]
     },
     "metadata": {},
     "output_type": "display_data"
    }
   ],
   "source": [
    "colnames(cnts1)\n",
    "head(cnts1,2)"
   ]
  },
  {
   "cell_type": "code",
   "execution_count": 14,
   "metadata": {
    "ExecuteTime": {
     "end_time": "2019-08-24T16:24:38.511116Z",
     "start_time": "2019-08-24T16:24:36.049Z"
    }
   },
   "outputs": [],
   "source": [
    "gtf_lookup = read.csv('/gpfs/commons/groups/sanjana_lab/cdai/ref_genome/gencode.v31.primary_assembly.annotation.gene_idTOgene_name.txt')"
   ]
  },
  {
   "cell_type": "code",
   "execution_count": 15,
   "metadata": {
    "ExecuteTime": {
     "end_time": "2019-08-24T16:24:56.250401Z",
     "start_time": "2019-08-24T16:24:56.212Z"
    }
   },
   "outputs": [],
   "source": [
    "gene_ids1 = rownames_to_column(cnts1, 'gene_id')[,1:2]"
   ]
  },
  {
   "cell_type": "code",
   "execution_count": 16,
   "metadata": {
    "ExecuteTime": {
     "end_time": "2019-08-24T16:25:21.822960Z",
     "start_time": "2019-08-24T16:25:21.724Z"
    }
   },
   "outputs": [],
   "source": [
    "gtf_lookup$gene_id <- as.character(gtf_lookup$gene_id)\n",
    "gene_names1 = left_join(gene_ids1, gtf_lookup, 'gene_id')[,c(3)] %>% as.character"
   ]
  },
  {
   "cell_type": "code",
   "execution_count": 422,
   "metadata": {
    "ExecuteTime": {
     "end_time": "2019-08-25T18:35:23.004372Z",
     "start_time": "2019-08-25T18:35:22.968Z"
    }
   },
   "outputs": [],
   "source": [
    "coldata1 <- read.csv('conditions_group1.csv')"
   ]
  },
  {
   "cell_type": "code",
   "execution_count": 420,
   "metadata": {
    "ExecuteTime": {
     "end_time": "2019-08-25T18:35:11.808361Z",
     "start_time": "2019-08-25T18:35:11.768Z"
    }
   },
   "outputs": [
    {
     "data": {
      "text/html": [
       "<table>\n",
       "<thead><tr><th scope=col>condition</th><th scope=col>group</th></tr></thead>\n",
       "<tbody>\n",
       "\t<tr><td>ES_wo_RI</td><td>ES      </td></tr>\n",
       "\t<tr><td>ES_wo_RI</td><td>ES      </td></tr>\n",
       "\t<tr><td>ES_w_RI </td><td>ES      </td></tr>\n",
       "\t<tr><td>ES_w_RI </td><td>ES      </td></tr>\n",
       "\t<tr><td>DOX_15H </td><td>DOX     </td></tr>\n",
       "\t<tr><td>DOX_15H </td><td>DOX     </td></tr>\n",
       "\t<tr><td>DOX_1D  </td><td>DOX     </td></tr>\n",
       "\t<tr><td>DOX_1D  </td><td>DOX     </td></tr>\n",
       "\t<tr><td>DOX_2D  </td><td>DOX     </td></tr>\n",
       "\t<tr><td>DOX_2D  </td><td>DOX     </td></tr>\n",
       "\t<tr><td>DOX_4D  </td><td>DOX     </td></tr>\n",
       "\t<tr><td>DOX_4D  </td><td>DOX     </td></tr>\n",
       "\t<tr><td>DOX_7D  </td><td>DOX     </td></tr>\n",
       "\t<tr><td>DOX_7D  </td><td>DOX     </td></tr>\n",
       "</tbody>\n",
       "</table>\n"
      ],
      "text/latex": [
       "\\begin{tabular}{r|ll}\n",
       " condition & group\\\\\n",
       "\\hline\n",
       "\t ES\\_wo\\_RI & ES          \\\\\n",
       "\t ES\\_wo\\_RI & ES          \\\\\n",
       "\t ES\\_w\\_RI  & ES          \\\\\n",
       "\t ES\\_w\\_RI  & ES          \\\\\n",
       "\t DOX\\_15H  & DOX       \\\\\n",
       "\t DOX\\_15H  & DOX       \\\\\n",
       "\t DOX\\_1D   & DOX       \\\\\n",
       "\t DOX\\_1D   & DOX       \\\\\n",
       "\t DOX\\_2D   & DOX       \\\\\n",
       "\t DOX\\_2D   & DOX       \\\\\n",
       "\t DOX\\_4D   & DOX       \\\\\n",
       "\t DOX\\_4D   & DOX       \\\\\n",
       "\t DOX\\_7D   & DOX       \\\\\n",
       "\t DOX\\_7D   & DOX       \\\\\n",
       "\\end{tabular}\n"
      ],
      "text/markdown": [
       "\n",
       "| condition | group |\n",
       "|---|---|\n",
       "| ES_wo_RI | ES       |\n",
       "| ES_wo_RI | ES       |\n",
       "| ES_w_RI  | ES       |\n",
       "| ES_w_RI  | ES       |\n",
       "| DOX_15H  | DOX      |\n",
       "| DOX_15H  | DOX      |\n",
       "| DOX_1D   | DOX      |\n",
       "| DOX_1D   | DOX      |\n",
       "| DOX_2D   | DOX      |\n",
       "| DOX_2D   | DOX      |\n",
       "| DOX_4D   | DOX      |\n",
       "| DOX_4D   | DOX      |\n",
       "| DOX_7D   | DOX      |\n",
       "| DOX_7D   | DOX      |\n",
       "\n"
      ],
      "text/plain": [
       "   condition group\n",
       "1  ES_wo_RI  ES   \n",
       "2  ES_wo_RI  ES   \n",
       "3  ES_w_RI   ES   \n",
       "4  ES_w_RI   ES   \n",
       "5  DOX_15H   DOX  \n",
       "6  DOX_15H   DOX  \n",
       "7  DOX_1D    DOX  \n",
       "8  DOX_1D    DOX  \n",
       "9  DOX_2D    DOX  \n",
       "10 DOX_2D    DOX  \n",
       "11 DOX_4D    DOX  \n",
       "12 DOX_4D    DOX  \n",
       "13 DOX_7D    DOX  \n",
       "14 DOX_7D    DOX  "
      ]
     },
     "metadata": {},
     "output_type": "display_data"
    }
   ],
   "source": [
    "coldata1"
   ]
  },
  {
   "cell_type": "code",
   "execution_count": 425,
   "metadata": {
    "ExecuteTime": {
     "end_time": "2019-08-25T18:35:41.095262Z",
     "start_time": "2019-08-25T18:35:40.931Z"
    }
   },
   "outputs": [],
   "source": [
    "dds1 <- DESeqDataSetFromMatrix(countData = cnts1, colData = coldata1, design = ~ group) "
   ]
  },
  {
   "cell_type": "code",
   "execution_count": 426,
   "metadata": {
    "ExecuteTime": {
     "end_time": "2019-08-25T18:35:42.083551Z",
     "start_time": "2019-08-25T18:35:42.056Z"
    }
   },
   "outputs": [
    {
     "data": {
      "text/html": [
       "TRUE"
      ],
      "text/latex": [
       "TRUE"
      ],
      "text/markdown": [
       "TRUE"
      ],
      "text/plain": [
       "[1] TRUE"
      ]
     },
     "metadata": {},
     "output_type": "display_data"
    }
   ],
   "source": [
    "all(rownames(dds1) == gene_ids1$gene_id) # make sure all gene_ids are the same as the gene ids in dds"
   ]
  },
  {
   "cell_type": "code",
   "execution_count": 427,
   "metadata": {
    "ExecuteTime": {
     "end_time": "2019-08-25T18:35:43.112326Z",
     "start_time": "2019-08-25T18:35:43.069Z"
    }
   },
   "outputs": [],
   "source": [
    "mcols(dds1) <- cbind(mcols(dds1), 'gene_name' = gene_names1) # adding gene_names to counts dds"
   ]
  },
  {
   "cell_type": "code",
   "execution_count": 428,
   "metadata": {
    "ExecuteTime": {
     "end_time": "2019-08-25T18:35:46.130791Z",
     "start_time": "2019-08-25T18:35:46.071Z"
    }
   },
   "outputs": [],
   "source": [
    "keep1 <- rowSums(counts(dds1)) >= 10 # pre-analysis filter to remove very low read count genes\n",
    "dds1 <- dds1[keep1,]"
   ]
  },
  {
   "cell_type": "code",
   "execution_count": 429,
   "metadata": {
    "ExecuteTime": {
     "end_time": "2019-08-25T18:35:47.029886Z",
     "start_time": "2019-08-25T18:35:46.982Z"
    }
   },
   "outputs": [
    {
     "data": {
      "text/html": [
       "<ol class=list-inline>\n",
       "\t<li>22604</li>\n",
       "\t<li>14</li>\n",
       "</ol>\n"
      ],
      "text/latex": [
       "\\begin{enumerate*}\n",
       "\\item 22604\n",
       "\\item 14\n",
       "\\end{enumerate*}\n"
      ],
      "text/markdown": [
       "1. 22604\n",
       "2. 14\n",
       "\n",
       "\n"
      ],
      "text/plain": [
       "[1] 22604    14"
      ]
     },
     "metadata": {},
     "output_type": "display_data"
    }
   ],
   "source": [
    "dim(dds1)"
   ]
  },
  {
   "cell_type": "code",
   "execution_count": 430,
   "metadata": {
    "ExecuteTime": {
     "end_time": "2019-08-25T18:35:48.097455Z",
     "start_time": "2019-08-25T18:35:48.056Z"
    }
   },
   "outputs": [],
   "source": [
    "# specify factor level (instead of letting R to decide)\n",
    "dds1$condition <- factor(dds1$condition, levels = unique(as.vector(coldata1$condition)))\n",
    "dds1$group <- factor(dds1$group, levels = unique(as.vector(coldata1$group)))"
   ]
  },
  {
   "cell_type": "code",
   "execution_count": 431,
   "metadata": {
    "ExecuteTime": {
     "end_time": "2019-08-25T18:35:48.762469Z",
     "start_time": "2019-08-25T18:35:48.720Z"
    }
   },
   "outputs": [
    {
     "data": {
      "text/html": [
       "<table>\n",
       "<thead><tr><th></th><th scope=col>S01</th><th scope=col>S02</th><th scope=col>S13</th><th scope=col>S14</th><th scope=col>S15</th><th scope=col>S16</th><th scope=col>S17</th><th scope=col>S18</th><th scope=col>S19</th><th scope=col>S20</th><th scope=col>S07</th><th scope=col>S08</th><th scope=col>S21</th><th scope=col>S22</th></tr></thead>\n",
       "<tbody>\n",
       "\t<tr><th scope=row>ENSG00000233750.3</th><td> 0 </td><td> 0 </td><td>  0</td><td> 0 </td><td> 0 </td><td>  0</td><td> 0 </td><td>  0</td><td> 0 </td><td>0  </td><td>0  </td><td> 0 </td><td>15 </td><td> 0 </td></tr>\n",
       "\t<tr><th scope=row>ENSG00000268903.1</th><td> 3 </td><td> 1 </td><td>  0</td><td> 0 </td><td> 0 </td><td>  4</td><td> 0 </td><td>  0</td><td> 0 </td><td>0  </td><td>0  </td><td> 7 </td><td> 0 </td><td> 0 </td></tr>\n",
       "\t<tr><th scope=row>ENSG00000225972.1</th><td> 7 </td><td> 1 </td><td>  7</td><td>35 </td><td> 0 </td><td> 18</td><td> 3 </td><td>  1</td><td> 4 </td><td>1  </td><td>1  </td><td> 5 </td><td> 2 </td><td> 6 </td></tr>\n",
       "\t<tr><th scope=row>ENSG00000225630.1</th><td>45 </td><td>41 </td><td>264</td><td> 5 </td><td>78 </td><td>114</td><td> 2 </td><td>211</td><td>51 </td><td>3  </td><td>3  </td><td>30 </td><td>11 </td><td>34 </td></tr>\n",
       "\t<tr><th scope=row>ENSG00000229344.1</th><td> 3 </td><td> 0 </td><td>  2</td><td> 1 </td><td> 2 </td><td>  3</td><td> 1 </td><td>  8</td><td> 1 </td><td>5  </td><td>0  </td><td> 2 </td><td> 3 </td><td> 0 </td></tr>\n",
       "\t<tr><th scope=row>ENSG00000240409.1</th><td> 0 </td><td> 0 </td><td>  0</td><td> 2 </td><td> 0 </td><td>  1</td><td>10 </td><td>  0</td><td> 0 </td><td>0  </td><td>0  </td><td> 0 </td><td> 0 </td><td> 0 </td></tr>\n",
       "</tbody>\n",
       "</table>\n"
      ],
      "text/latex": [
       "\\begin{tabular}{r|llllllllllllll}\n",
       "  & S01 & S02 & S13 & S14 & S15 & S16 & S17 & S18 & S19 & S20 & S07 & S08 & S21 & S22\\\\\n",
       "\\hline\n",
       "\tENSG00000233750.3 &  0  &  0  &   0 &  0  &  0  &   0 &  0  &   0 &  0  & 0   & 0   &  0  & 15  &  0 \\\\\n",
       "\tENSG00000268903.1 &  3  &  1  &   0 &  0  &  0  &   4 &  0  &   0 &  0  & 0   & 0   &  7  &  0  &  0 \\\\\n",
       "\tENSG00000225972.1 &  7  &  1  &   7 & 35  &  0  &  18 &  3  &   1 &  4  & 1   & 1   &  5  &  2  &  6 \\\\\n",
       "\tENSG00000225630.1 & 45  & 41  & 264 &  5  & 78  & 114 &  2  & 211 & 51  & 3   & 3   & 30  & 11  & 34 \\\\\n",
       "\tENSG00000229344.1 &  3  &  0  &   2 &  1  &  2  &   3 &  1  &   8 &  1  & 5   & 0   &  2  &  3  &  0 \\\\\n",
       "\tENSG00000240409.1 &  0  &  0  &   0 &  2  &  0  &   1 & 10  &   0 &  0  & 0   & 0   &  0  &  0  &  0 \\\\\n",
       "\\end{tabular}\n"
      ],
      "text/markdown": [
       "\n",
       "| <!--/--> | S01 | S02 | S13 | S14 | S15 | S16 | S17 | S18 | S19 | S20 | S07 | S08 | S21 | S22 |\n",
       "|---|---|---|---|---|---|---|---|---|---|---|---|---|---|---|\n",
       "| ENSG00000233750.3 |  0  |  0  |   0 |  0  |  0  |   0 |  0  |   0 |  0  | 0   | 0   |  0  | 15  |  0  |\n",
       "| ENSG00000268903.1 |  3  |  1  |   0 |  0  |  0  |   4 |  0  |   0 |  0  | 0   | 0   |  7  |  0  |  0  |\n",
       "| ENSG00000225972.1 |  7  |  1  |   7 | 35  |  0  |  18 |  3  |   1 |  4  | 1   | 1   |  5  |  2  |  6  |\n",
       "| ENSG00000225630.1 | 45  | 41  | 264 |  5  | 78  | 114 |  2  | 211 | 51  | 3   | 3   | 30  | 11  | 34  |\n",
       "| ENSG00000229344.1 |  3  |  0  |   2 |  1  |  2  |   3 |  1  |   8 |  1  | 5   | 0   |  2  |  3  |  0  |\n",
       "| ENSG00000240409.1 |  0  |  0  |   0 |  2  |  0  |   1 | 10  |   0 |  0  | 0   | 0   |  0  |  0  |  0  |\n",
       "\n"
      ],
      "text/plain": [
       "                  S01 S02 S13 S14 S15 S16 S17 S18 S19 S20 S07 S08 S21 S22\n",
       "ENSG00000233750.3  0   0    0  0   0    0  0    0  0  0   0    0  15   0 \n",
       "ENSG00000268903.1  3   1    0  0   0    4  0    0  0  0   0    7   0   0 \n",
       "ENSG00000225972.1  7   1    7 35   0   18  3    1  4  1   1    5   2   6 \n",
       "ENSG00000225630.1 45  41  264  5  78  114  2  211 51  3   3   30  11  34 \n",
       "ENSG00000229344.1  3   0    2  1   2    3  1    8  1  5   0    2   3   0 \n",
       "ENSG00000240409.1  0   0    0  2   0    1 10    0  0  0   0    0   0   0 "
      ]
     },
     "metadata": {},
     "output_type": "display_data"
    }
   ],
   "source": [
    "counts(dds1) %>% head()"
   ]
  },
  {
   "cell_type": "code",
   "execution_count": 432,
   "metadata": {
    "ExecuteTime": {
     "end_time": "2019-08-25T18:36:15.436698Z",
     "start_time": "2019-08-25T18:35:49.732Z"
    }
   },
   "outputs": [
    {
     "name": "stderr",
     "output_type": "stream",
     "text": [
      "estimating size factors\n",
      "estimating dispersions\n",
      "gene-wise dispersion estimates\n",
      "mean-dispersion relationship\n",
      "final dispersion estimates\n",
      "fitting model and testing\n",
      "-- replacing outliers and refitting for 1900 genes\n",
      "-- DESeq argument 'minReplicatesForReplace' = 7 \n",
      "-- original counts are preserved in counts(dds)\n",
      "estimating dispersions\n",
      "fitting model and testing\n"
     ]
    }
   ],
   "source": [
    "dds1 <- DESeq(dds1)"
   ]
  },
  {
   "cell_type": "code",
   "execution_count": 433,
   "metadata": {
    "ExecuteTime": {
     "end_time": "2019-08-25T18:36:15.457712Z",
     "start_time": "2019-08-25T18:35:56.069Z"
    }
   },
   "outputs": [
    {
     "data": {
      "text/html": [
       "<ol class=list-inline>\n",
       "\t<li>'Intercept'</li>\n",
       "\t<li>'group_DOX_vs_ES'</li>\n",
       "</ol>\n"
      ],
      "text/latex": [
       "\\begin{enumerate*}\n",
       "\\item 'Intercept'\n",
       "\\item 'group\\_DOX\\_vs\\_ES'\n",
       "\\end{enumerate*}\n"
      ],
      "text/markdown": [
       "1. 'Intercept'\n",
       "2. 'group_DOX_vs_ES'\n",
       "\n",
       "\n"
      ],
      "text/plain": [
       "[1] \"Intercept\"       \"group_DOX_vs_ES\""
      ]
     },
     "metadata": {},
     "output_type": "display_data"
    }
   ],
   "source": [
    "resultsNames(dds1)"
   ]
  },
  {
   "cell_type": "code",
   "execution_count": 434,
   "metadata": {
    "ExecuteTime": {
     "end_time": "2019-08-25T18:36:33.596990Z",
     "start_time": "2019-08-25T18:36:05.518Z"
    }
   },
   "outputs": [],
   "source": [
    "res1 <- results(dds1) # modelling ES vs. +DOX"
   ]
  },
  {
   "cell_type": "code",
   "execution_count": 437,
   "metadata": {
    "ExecuteTime": {
     "end_time": "2019-08-25T18:37:05.082800Z",
     "start_time": "2019-08-25T18:37:05.031Z"
    }
   },
   "outputs": [],
   "source": [
    "# add gene_name to result\n",
    "if (all(rownames(res1) == rownames(dds1))) {\n",
    "    res1.df <- cbind(res1, 'gene_name' = mcols(dds1)$gene_name)    \n",
    "}  else {\n",
    "    print(\"Rownames don't match!\")\n",
    "}"
   ]
  },
  {
   "cell_type": "code",
   "execution_count": 438,
   "metadata": {
    "ExecuteTime": {
     "end_time": "2019-08-25T18:37:07.534590Z",
     "start_time": "2019-08-25T18:37:07.494Z"
    }
   },
   "outputs": [
    {
     "data": {
      "text/plain": [
       "log2 fold change (MLE): group DOX vs ES \n",
       "Wald test p-value: group DOX vs ES \n",
       "DataFrame with 6 rows and 6 columns\n",
       "                           baseMean     log2FoldChange            lfcSE\n",
       "                          <numeric>          <numeric>        <numeric>\n",
       "ENSG00000233750.3                 0                  0                0\n",
       "ENSG00000268903.1 0.845750875619962  0.028017975756252 3.29941366014872\n",
       "ENSG00000225972.1  6.31483095246436  -1.62551258415038 1.09737790991284\n",
       "ENSG00000225630.1  57.2166611137355 -0.405250350557316 1.01745788591981\n",
       "ENSG00000229344.1  2.15545011509387  0.959571124294253 1.33080823843808\n",
       "ENSG00000240409.1 0.963719678513681   1.20303287701445 3.35901520233594\n",
       "                                 stat            pvalue              padj\n",
       "                            <numeric>         <numeric>         <numeric>\n",
       "ENSG00000233750.3                   0                 1                NA\n",
       "ENSG00000268903.1 0.00849180449685995 0.993224601728532                NA\n",
       "ENSG00000225972.1   -1.48126964236002 0.138534734672803  0.39931124284492\n",
       "ENSG00000225630.1  -0.398296928222201 0.690411324494978 0.866919455018219\n",
       "ENSG00000229344.1    0.72104387136983 0.470882522908677                NA\n",
       "ENSG00000240409.1   0.358150471060038 0.720230710309155                NA"
      ]
     },
     "metadata": {},
     "output_type": "display_data"
    }
   ],
   "source": [
    "res1 %>% head"
   ]
  },
  {
   "cell_type": "markdown",
   "metadata": {},
   "source": [
    "#### Log fold change shrinkage LFC for visulaization and ranking (for easier/cleaner visulization)"
   ]
  },
  {
   "cell_type": "code",
   "execution_count": 134,
   "metadata": {
    "ExecuteTime": {
     "end_time": "2019-08-24T17:47:24.631195Z",
     "start_time": "2019-08-24T17:47:24.599Z"
    }
   },
   "outputs": [
    {
     "data": {
      "text/html": [
       "<ol class=list-inline>\n",
       "\t<li>'Intercept'</li>\n",
       "\t<li>'group_DOX_vs_ES'</li>\n",
       "</ol>\n"
      ],
      "text/latex": [
       "\\begin{enumerate*}\n",
       "\\item 'Intercept'\n",
       "\\item 'group\\_DOX\\_vs\\_ES'\n",
       "\\end{enumerate*}\n"
      ],
      "text/markdown": [
       "1. 'Intercept'\n",
       "2. 'group_DOX_vs_ES'\n",
       "\n",
       "\n"
      ],
      "text/plain": [
       "[1] \"Intercept\"       \"group_DOX_vs_ES\""
      ]
     },
     "metadata": {},
     "output_type": "display_data"
    }
   ],
   "source": [
    "resultsNames(dds1)"
   ]
  },
  {
   "cell_type": "code",
   "execution_count": 101,
   "metadata": {
    "ExecuteTime": {
     "end_time": "2019-08-24T17:27:49.555369Z",
     "start_time": "2019-08-24T17:27:17.698Z"
    }
   },
   "outputs": [
    {
     "name": "stderr",
     "output_type": "stream",
     "text": [
      "using 'apeglm' for LFC shrinkage. If used in published research, please cite:\n",
      "    Zhu, A., Ibrahim, J.G., Love, M.I. (2018) Heavy-tailed prior distributions for\n",
      "    sequence count data: removing the noise and preserving large differences.\n",
      "    Bioinformatics. https://doi.org/10.1093/bioinformatics/bty895\n"
     ]
    }
   ],
   "source": [
    "resLFC1 <- lfcShrink(dds1, coef='group_DOX_vs_ES', type='apeglm')"
   ]
  },
  {
   "cell_type": "code",
   "execution_count": 102,
   "metadata": {
    "ExecuteTime": {
     "end_time": "2019-08-24T17:27:51.467862Z",
     "start_time": "2019-08-24T17:27:51.423Z"
    }
   },
   "outputs": [
    {
     "data": {
      "text/plain": [
       "log2 fold change (MAP): group DOX vs ES \n",
       "Wald test p-value: group DOX vs ES \n",
       "DataFrame with 22604 rows and 5 columns\n",
       "                           baseMean        log2FoldChange               lfcSE\n",
       "                          <numeric>             <numeric>           <numeric>\n",
       "ENSG00000233750.3                 0  2.11057456762802e-07 0.00144269503776336\n",
       "ENSG00000268903.1 0.845750875619962  2.32870688964804e-09 0.00144269490161574\n",
       "ENSG00000225972.1  6.31483095246436 -1.59268029762379e-06  0.0014426939869442\n",
       "ENSG00000225630.1  57.2166611137355  -4.2231596742759e-07 0.00144269346086149\n",
       "ENSG00000229344.1  2.15545011509387  1.19238300662716e-07 0.00144269434561159\n",
       "...                             ...                   ...                 ...\n",
       "ENSG00000210196.2  59.9475205332762  1.62927481544906e-06 0.00144269170013741\n",
       "ENSG00000276256.1  15.0724744233232  8.75964014520544e-07 0.00144269469145734\n",
       "ENSG00000271254.6                 0  1.99658223928034e-07 0.00144269503719417\n",
       "ENSG00000278673.1 0.663238973094365 -4.66197665723919e-07 0.00144269503717218\n",
       "ENSG00000278817.1  1.84013850296219  2.76503285108774e-07 0.00144269503877723\n",
       "                             pvalue              padj\n",
       "                          <numeric>         <numeric>\n",
       "ENSG00000233750.3                 1                NA\n",
       "ENSG00000268903.1 0.993224601728532                NA\n",
       "ENSG00000225972.1 0.138534734672803  0.39931124284492\n",
       "ENSG00000225630.1 0.690411324494978 0.866919455018219\n",
       "ENSG00000229344.1 0.470882522908677                NA\n",
       "...                             ...               ...\n",
       "ENSG00000210196.2 0.681491690428895 0.862485446913173\n",
       "ENSG00000276256.1 0.170676105209022 0.447851743884105\n",
       "ENSG00000271254.6                 1                NA\n",
       "ENSG00000278673.1 0.261586594270479                NA\n",
       "ENSG00000278817.1 0.166598428283796                NA"
      ]
     },
     "metadata": {},
     "output_type": "display_data"
    }
   ],
   "source": [
    "resLFC1"
   ]
  },
  {
   "cell_type": "markdown",
   "metadata": {},
   "source": [
    "### MA-plot"
   ]
  },
  {
   "cell_type": "code",
   "execution_count": 135,
   "metadata": {
    "ExecuteTime": {
     "end_time": "2019-08-24T17:47:34.270943Z",
     "start_time": "2019-08-24T17:47:34.237Z"
    }
   },
   "outputs": [
    {
     "ename": "ERROR",
     "evalue": "Error in plotMA(res1, ylim = c(-10, 10)): Error from the generic function 'plotMA' defined in package 'BiocGenerics': no S4 method definition for argument 'res1' of class 'DataFrame' was found. Did you perhaps mean calling the function 'plotMA' from another package, e.g. 'limma'? In that case, please use the syntax 'limma::plotMA'.\n",
     "output_type": "error",
     "traceback": [
      "Error in plotMA(res1, ylim = c(-10, 10)): Error from the generic function 'plotMA' defined in package 'BiocGenerics': no S4 method definition for argument 'res1' of class 'DataFrame' was found. Did you perhaps mean calling the function 'plotMA' from another package, e.g. 'limma'? In that case, please use the syntax 'limma::plotMA'.\nTraceback:\n",
      "1. plotMA(res1, ylim = c(-10, 10))",
      "2. plotMA(res1, ylim = c(-10, 10))",
      "3. stop(msg)"
     ]
    }
   ],
   "source": [
    "plotMA(res1, ylim=c(-10,10))\n",
    "#idx <- identify(res1$baseMean, res$log2FoldChange)\n",
    "#rownames(res)[idx]"
   ]
  },
  {
   "cell_type": "code",
   "execution_count": 121,
   "metadata": {
    "ExecuteTime": {
     "end_time": "2019-08-24T17:38:32.988095Z",
     "start_time": "2019-08-24T17:38:32.956Z"
    }
   },
   "outputs": [],
   "source": [
    "#### number of DE hit genes (DOX vs. ES)at given FDR"
   ]
  },
  {
   "cell_type": "code",
   "execution_count": 439,
   "metadata": {
    "ExecuteTime": {
     "end_time": "2019-08-25T18:37:39.940617Z",
     "start_time": "2019-08-25T18:37:39.807Z"
    }
   },
   "outputs": [],
   "source": [
    "fdr = 0.1"
   ]
  },
  {
   "cell_type": "code",
   "execution_count": 440,
   "metadata": {
    "ExecuteTime": {
     "end_time": "2019-08-25T18:37:40.784577Z",
     "start_time": "2019-08-25T18:37:40.683Z"
    }
   },
   "outputs": [
    {
     "data": {
      "text/html": [
       "1978"
      ],
      "text/latex": [
       "1978"
      ],
      "text/markdown": [
       "1978"
      ],
      "text/plain": [
       "[1] 1978"
      ]
     },
     "metadata": {},
     "output_type": "display_data"
    }
   ],
   "source": [
    "sum(res1$padj < fdr, na.rm=T)"
   ]
  },
  {
   "cell_type": "code",
   "execution_count": 441,
   "metadata": {
    "ExecuteTime": {
     "end_time": "2019-08-25T18:37:43.045286Z",
     "start_time": "2019-08-25T18:37:42.995Z"
    }
   },
   "outputs": [],
   "source": [
    "sigID1 <- res1[!is.na(res1$padj) & res1$padj < fdr,] %>% as.data.frame %>% rownames_to_column('gene_id')"
   ]
  },
  {
   "cell_type": "code",
   "execution_count": 442,
   "metadata": {
    "ExecuteTime": {
     "end_time": "2019-08-25T18:37:44.489917Z",
     "start_time": "2019-08-25T18:37:44.445Z"
    }
   },
   "outputs": [
    {
     "data": {
      "text/html": [
       "<table>\n",
       "<thead><tr><th scope=col>gene_id</th><th scope=col>baseMean</th><th scope=col>log2FoldChange</th><th scope=col>lfcSE</th><th scope=col>stat</th><th scope=col>pvalue</th><th scope=col>padj</th></tr></thead>\n",
       "<tbody>\n",
       "\t<tr><td>ENSG00000223764.2 </td><td>20.40996          </td><td> 7.486539         </td><td>1.6958498         </td><td> 4.414624         </td><td>1.011857e-05      </td><td>0.0004038397      </td></tr>\n",
       "\t<tr><td>ENSG00000187961.14</td><td>17.12620          </td><td> 2.980006         </td><td>1.1823361         </td><td> 2.520439         </td><td>1.172085e-02      </td><td>0.0930690623      </td></tr>\n",
       "\t<tr><td>ENSG00000188290.10</td><td>34.56093          </td><td> 3.262860         </td><td>0.7273971         </td><td> 4.485666         </td><td>7.268650e-06      </td><td>0.0003087349      </td></tr>\n",
       "\t<tr><td>ENSG00000187608.10</td><td>14.66726          </td><td>-3.566445         </td><td>1.1066517         </td><td>-3.222735         </td><td>1.269730e-03      </td><td>0.0194240571      </td></tr>\n",
       "\t<tr><td>ENSG00000131591.17</td><td>17.51026          </td><td> 2.949941         </td><td>0.7764793         </td><td> 3.799124         </td><td>1.452086e-04      </td><td>0.0035786732      </td></tr>\n",
       "\t<tr><td>ENSG00000176022.7 </td><td>98.98255          </td><td> 1.103594         </td><td>0.3491472         </td><td> 3.160827         </td><td>1.573219e-03      </td><td>0.0227558867      </td></tr>\n",
       "</tbody>\n",
       "</table>\n"
      ],
      "text/latex": [
       "\\begin{tabular}{r|lllllll}\n",
       " gene\\_id & baseMean & log2FoldChange & lfcSE & stat & pvalue & padj\\\\\n",
       "\\hline\n",
       "\t ENSG00000223764.2  & 20.40996           &  7.486539          & 1.6958498          &  4.414624          & 1.011857e-05       & 0.0004038397      \\\\\n",
       "\t ENSG00000187961.14 & 17.12620           &  2.980006          & 1.1823361          &  2.520439          & 1.172085e-02       & 0.0930690623      \\\\\n",
       "\t ENSG00000188290.10 & 34.56093           &  3.262860          & 0.7273971          &  4.485666          & 7.268650e-06       & 0.0003087349      \\\\\n",
       "\t ENSG00000187608.10 & 14.66726           & -3.566445          & 1.1066517          & -3.222735          & 1.269730e-03       & 0.0194240571      \\\\\n",
       "\t ENSG00000131591.17 & 17.51026           &  2.949941          & 0.7764793          &  3.799124          & 1.452086e-04       & 0.0035786732      \\\\\n",
       "\t ENSG00000176022.7  & 98.98255           &  1.103594          & 0.3491472          &  3.160827          & 1.573219e-03       & 0.0227558867      \\\\\n",
       "\\end{tabular}\n"
      ],
      "text/markdown": [
       "\n",
       "| gene_id | baseMean | log2FoldChange | lfcSE | stat | pvalue | padj |\n",
       "|---|---|---|---|---|---|---|\n",
       "| ENSG00000223764.2  | 20.40996           |  7.486539          | 1.6958498          |  4.414624          | 1.011857e-05       | 0.0004038397       |\n",
       "| ENSG00000187961.14 | 17.12620           |  2.980006          | 1.1823361          |  2.520439          | 1.172085e-02       | 0.0930690623       |\n",
       "| ENSG00000188290.10 | 34.56093           |  3.262860          | 0.7273971          |  4.485666          | 7.268650e-06       | 0.0003087349       |\n",
       "| ENSG00000187608.10 | 14.66726           | -3.566445          | 1.1066517          | -3.222735          | 1.269730e-03       | 0.0194240571       |\n",
       "| ENSG00000131591.17 | 17.51026           |  2.949941          | 0.7764793          |  3.799124          | 1.452086e-04       | 0.0035786732       |\n",
       "| ENSG00000176022.7  | 98.98255           |  1.103594          | 0.3491472          |  3.160827          | 1.573219e-03       | 0.0227558867       |\n",
       "\n"
      ],
      "text/plain": [
       "  gene_id            baseMean log2FoldChange lfcSE     stat      pvalue      \n",
       "1 ENSG00000223764.2  20.40996  7.486539      1.6958498  4.414624 1.011857e-05\n",
       "2 ENSG00000187961.14 17.12620  2.980006      1.1823361  2.520439 1.172085e-02\n",
       "3 ENSG00000188290.10 34.56093  3.262860      0.7273971  4.485666 7.268650e-06\n",
       "4 ENSG00000187608.10 14.66726 -3.566445      1.1066517 -3.222735 1.269730e-03\n",
       "5 ENSG00000131591.17 17.51026  2.949941      0.7764793  3.799124 1.452086e-04\n",
       "6 ENSG00000176022.7  98.98255  1.103594      0.3491472  3.160827 1.573219e-03\n",
       "  padj        \n",
       "1 0.0004038397\n",
       "2 0.0930690623\n",
       "3 0.0003087349\n",
       "4 0.0194240571\n",
       "5 0.0035786732\n",
       "6 0.0227558867"
      ]
     },
     "metadata": {},
     "output_type": "display_data"
    }
   ],
   "source": [
    "sigID1 %>% head"
   ]
  },
  {
   "cell_type": "code",
   "execution_count": 443,
   "metadata": {
    "ExecuteTime": {
     "end_time": "2019-08-25T18:37:51.192599Z",
     "start_time": "2019-08-25T18:37:51.119Z"
    }
   },
   "outputs": [],
   "source": [
    "sigGenes1 <- counts(dds1, normalized=T) %>% as.data.frame %>% \n",
    "                add_column(.before=1,'gene'=mcols(dds1)$gene_name) %>% rownames_to_column('gene_id')# add gene_name\n",
    "sigGenes1 <- left_join(sigID1[,c('gene_id','padj')], sigGenes1, by = 'gene_id') %>% select(-c('gene_id')) %>%\n",
    "                arrange(padj)"
   ]
  },
  {
   "cell_type": "code",
   "execution_count": 444,
   "metadata": {
    "ExecuteTime": {
     "end_time": "2019-08-25T18:37:52.294386Z",
     "start_time": "2019-08-25T18:37:52.247Z"
    },
    "scrolled": false
   },
   "outputs": [
    {
     "data": {
      "text/html": [
       "<table>\n",
       "<thead><tr><th scope=col>padj</th><th scope=col>gene</th><th scope=col>S01</th><th scope=col>S02</th><th scope=col>S13</th><th scope=col>S14</th><th scope=col>S15</th><th scope=col>S16</th><th scope=col>S17</th><th scope=col>S18</th><th scope=col>S19</th><th scope=col>S20</th><th scope=col>S07</th><th scope=col>S08</th><th scope=col>S21</th><th scope=col>S22</th></tr></thead>\n",
       "<tbody>\n",
       "\t<tr><td>1.127215e-97</td><td>INSM1       </td><td> 3.3764893  </td><td>  1.675652  </td><td>  9.8295509 </td><td>  4.220807  </td><td>2020.4365   </td><td>1573.5464   </td><td> 1662.1163  </td><td>1949.4850   </td><td>2134.0972   </td><td>2267.2023   </td><td>1340.2035   </td><td>1364.5131   </td><td> 1917.4913  </td><td> 1750.7251  </td></tr>\n",
       "\t<tr><td>6.932293e-42</td><td>HES6        </td><td>93.6975786  </td><td>134.052189  </td><td>232.1286261 </td><td>149.838651  </td><td>5244.7600   </td><td>4782.8597   </td><td>10010.4255  </td><td>6525.0659   </td><td>6863.0431   </td><td>8293.1636   </td><td>4045.5177   </td><td>4110.2136   </td><td> 3700.2947  </td><td> 2925.2004  </td></tr>\n",
       "\t<tr><td>2.627878e-41</td><td>DLL3        </td><td>16.0383243  </td><td> 55.296528  </td><td> 14.3662668 </td><td>  8.441614  </td><td>2834.3688   </td><td>2946.9053   </td><td> 6947.1431  </td><td>6577.9261   </td><td>5550.5475   </td><td>8237.9542   </td><td>3159.3932   </td><td>2949.2658   </td><td> 1968.1802  </td><td> 1733.6330  </td></tr>\n",
       "\t<tr><td>8.927372e-31</td><td>GFRA1       </td><td> 1.6882447  </td><td>  9.216088  </td><td>  0.0000000 </td><td>  0.000000  </td><td> 570.5378   </td><td> 470.7113   </td><td>  391.9492  </td><td> 602.6065   </td><td> 847.4381   </td><td> 758.4493   </td><td>1393.8499   </td><td>1522.2241   </td><td> 1381.6364  </td><td> 1495.5637  </td></tr>\n",
       "\t<tr><td>1.483785e-30</td><td>CHRNA3      </td><td> 3.3764893  </td><td>  2.513479  </td><td>  0.7561193 </td><td>  9.496816  </td><td> 406.5300   </td><td> 275.0325   </td><td>  624.6036  </td><td> 484.1996   </td><td>1632.0074   </td><td>2011.9723   </td><td>1682.1996   </td><td>1609.0694   </td><td>  590.8885  </td><td> 1251.3900  </td></tr>\n",
       "\t<tr><td>1.794579e-23</td><td>ZEB2        </td><td> 0.8441223  </td><td>  0.000000  </td><td>  3.7805965 </td><td>  0.000000  </td><td> 215.4783   </td><td> 110.9147   </td><td>  425.4850  </td><td> 202.9833   </td><td> 428.8864   </td><td> 532.1816   </td><td> 367.8614   </td><td> 331.4016   </td><td>  237.5140  </td><td>  363.8188  </td></tr>\n",
       "\t<tr><td>8.149815e-23</td><td>NEFM        </td><td> 5.0647340  </td><td>  1.675652  </td><td> 65.7823794 </td><td> 11.607219  </td><td>1978.5622   </td><td>1906.2906   </td><td> 7589.5625  </td><td>8589.7862   </td><td>2093.6200   </td><td>3415.7371   </td><td>5296.6297   </td><td>4266.5351   </td><td>19625.3202  </td><td>24064.5349  </td></tr>\n",
       "\t<tr><td>3.342908e-21</td><td>CAMK2N1     </td><td>13.5059573  </td><td>  9.216088  </td><td> 16.6346247 </td><td> 28.490448  </td><td> 225.9469   </td><td> 323.7267   </td><td>  244.1823  </td><td> 439.7971   </td><td> 446.1107   </td><td> 577.4352   </td><td> 767.3359   </td><td> 808.7033   </td><td> 1233.9143  </td><td> 1091.4563  </td></tr>\n",
       "\t<tr><td>3.342908e-21</td><td>PHOX2B      </td><td> 0.0000000  </td><td>  0.000000  </td><td>  0.7561193 </td><td>  1.055202  </td><td> 700.5227   </td><td> 497.7637   </td><td> 1132.8800  </td><td> 693.5261   </td><td>1552.7754   </td><td>1148.5348   </td><td>1141.9032   </td><td> 937.2343   </td><td>  418.5461  </td><td>  496.8934  </td></tr>\n",
       "\t<tr><td>7.248395e-21</td><td>EBF2        </td><td> 0.8441223  </td><td>  0.000000  </td><td>  1.5122386 </td><td>  1.055202  </td><td> 480.6824   </td><td> 292.1656   </td><td>  571.1560  </td><td> 382.7080   </td><td> 294.5364   </td><td> 340.3066   </td><td> 227.9974   </td><td> 191.0596   </td><td>  120.2053  </td><td>  191.6763  </td></tr>\n",
       "</tbody>\n",
       "</table>\n"
      ],
      "text/latex": [
       "\\begin{tabular}{r|llllllllllllllll}\n",
       " padj & gene & S01 & S02 & S13 & S14 & S15 & S16 & S17 & S18 & S19 & S20 & S07 & S08 & S21 & S22\\\\\n",
       "\\hline\n",
       "\t 1.127215e-97 & INSM1        &  3.3764893   &   1.675652   &   9.8295509  &   4.220807   & 2020.4365    & 1573.5464    &  1662.1163   & 1949.4850    & 2134.0972    & 2267.2023    & 1340.2035    & 1364.5131    &  1917.4913   &  1750.7251  \\\\\n",
       "\t 6.932293e-42 & HES6         & 93.6975786   & 134.052189   & 232.1286261  & 149.838651   & 5244.7600    & 4782.8597    & 10010.4255   & 6525.0659    & 6863.0431    & 8293.1636    & 4045.5177    & 4110.2136    &  3700.2947   &  2925.2004  \\\\\n",
       "\t 2.627878e-41 & DLL3         & 16.0383243   &  55.296528   &  14.3662668  &   8.441614   & 2834.3688    & 2946.9053    &  6947.1431   & 6577.9261    & 5550.5475    & 8237.9542    & 3159.3932    & 2949.2658    &  1968.1802   &  1733.6330  \\\\\n",
       "\t 8.927372e-31 & GFRA1        &  1.6882447   &   9.216088   &   0.0000000  &   0.000000   &  570.5378    &  470.7113    &   391.9492   &  602.6065    &  847.4381    &  758.4493    & 1393.8499    & 1522.2241    &  1381.6364   &  1495.5637  \\\\\n",
       "\t 1.483785e-30 & CHRNA3       &  3.3764893   &   2.513479   &   0.7561193  &   9.496816   &  406.5300    &  275.0325    &   624.6036   &  484.1996    & 1632.0074    & 2011.9723    & 1682.1996    & 1609.0694    &   590.8885   &  1251.3900  \\\\\n",
       "\t 1.794579e-23 & ZEB2         &  0.8441223   &   0.000000   &   3.7805965  &   0.000000   &  215.4783    &  110.9147    &   425.4850   &  202.9833    &  428.8864    &  532.1816    &  367.8614    &  331.4016    &   237.5140   &   363.8188  \\\\\n",
       "\t 8.149815e-23 & NEFM         &  5.0647340   &   1.675652   &  65.7823794  &  11.607219   & 1978.5622    & 1906.2906    &  7589.5625   & 8589.7862    & 2093.6200    & 3415.7371    & 5296.6297    & 4266.5351    & 19625.3202   & 24064.5349  \\\\\n",
       "\t 3.342908e-21 & CAMK2N1      & 13.5059573   &   9.216088   &  16.6346247  &  28.490448   &  225.9469    &  323.7267    &   244.1823   &  439.7971    &  446.1107    &  577.4352    &  767.3359    &  808.7033    &  1233.9143   &  1091.4563  \\\\\n",
       "\t 3.342908e-21 & PHOX2B       &  0.0000000   &   0.000000   &   0.7561193  &   1.055202   &  700.5227    &  497.7637    &  1132.8800   &  693.5261    & 1552.7754    & 1148.5348    & 1141.9032    &  937.2343    &   418.5461   &   496.8934  \\\\\n",
       "\t 7.248395e-21 & EBF2         &  0.8441223   &   0.000000   &   1.5122386  &   1.055202   &  480.6824    &  292.1656    &   571.1560   &  382.7080    &  294.5364    &  340.3066    &  227.9974    &  191.0596    &   120.2053   &   191.6763  \\\\\n",
       "\\end{tabular}\n"
      ],
      "text/markdown": [
       "\n",
       "| padj | gene | S01 | S02 | S13 | S14 | S15 | S16 | S17 | S18 | S19 | S20 | S07 | S08 | S21 | S22 |\n",
       "|---|---|---|---|---|---|---|---|---|---|---|---|---|---|---|---|\n",
       "| 1.127215e-97 | INSM1        |  3.3764893   |   1.675652   |   9.8295509  |   4.220807   | 2020.4365    | 1573.5464    |  1662.1163   | 1949.4850    | 2134.0972    | 2267.2023    | 1340.2035    | 1364.5131    |  1917.4913   |  1750.7251   |\n",
       "| 6.932293e-42 | HES6         | 93.6975786   | 134.052189   | 232.1286261  | 149.838651   | 5244.7600    | 4782.8597    | 10010.4255   | 6525.0659    | 6863.0431    | 8293.1636    | 4045.5177    | 4110.2136    |  3700.2947   |  2925.2004   |\n",
       "| 2.627878e-41 | DLL3         | 16.0383243   |  55.296528   |  14.3662668  |   8.441614   | 2834.3688    | 2946.9053    |  6947.1431   | 6577.9261    | 5550.5475    | 8237.9542    | 3159.3932    | 2949.2658    |  1968.1802   |  1733.6330   |\n",
       "| 8.927372e-31 | GFRA1        |  1.6882447   |   9.216088   |   0.0000000  |   0.000000   |  570.5378    |  470.7113    |   391.9492   |  602.6065    |  847.4381    |  758.4493    | 1393.8499    | 1522.2241    |  1381.6364   |  1495.5637   |\n",
       "| 1.483785e-30 | CHRNA3       |  3.3764893   |   2.513479   |   0.7561193  |   9.496816   |  406.5300    |  275.0325    |   624.6036   |  484.1996    | 1632.0074    | 2011.9723    | 1682.1996    | 1609.0694    |   590.8885   |  1251.3900   |\n",
       "| 1.794579e-23 | ZEB2         |  0.8441223   |   0.000000   |   3.7805965  |   0.000000   |  215.4783    |  110.9147    |   425.4850   |  202.9833    |  428.8864    |  532.1816    |  367.8614    |  331.4016    |   237.5140   |   363.8188   |\n",
       "| 8.149815e-23 | NEFM         |  5.0647340   |   1.675652   |  65.7823794  |  11.607219   | 1978.5622    | 1906.2906    |  7589.5625   | 8589.7862    | 2093.6200    | 3415.7371    | 5296.6297    | 4266.5351    | 19625.3202   | 24064.5349   |\n",
       "| 3.342908e-21 | CAMK2N1      | 13.5059573   |   9.216088   |  16.6346247  |  28.490448   |  225.9469    |  323.7267    |   244.1823   |  439.7971    |  446.1107    |  577.4352    |  767.3359    |  808.7033    |  1233.9143   |  1091.4563   |\n",
       "| 3.342908e-21 | PHOX2B       |  0.0000000   |   0.000000   |   0.7561193  |   1.055202   |  700.5227    |  497.7637    |  1132.8800   |  693.5261    | 1552.7754    | 1148.5348    | 1141.9032    |  937.2343    |   418.5461   |   496.8934   |\n",
       "| 7.248395e-21 | EBF2         |  0.8441223   |   0.000000   |   1.5122386  |   1.055202   |  480.6824    |  292.1656    |   571.1560   |  382.7080    |  294.5364    |  340.3066    |  227.9974    |  191.0596    |   120.2053   |   191.6763   |\n",
       "\n"
      ],
      "text/plain": [
       "   padj         gene    S01        S02        S13         S14        S15      \n",
       "1  1.127215e-97 INSM1    3.3764893   1.675652   9.8295509   4.220807 2020.4365\n",
       "2  6.932293e-42 HES6    93.6975786 134.052189 232.1286261 149.838651 5244.7600\n",
       "3  2.627878e-41 DLL3    16.0383243  55.296528  14.3662668   8.441614 2834.3688\n",
       "4  8.927372e-31 GFRA1    1.6882447   9.216088   0.0000000   0.000000  570.5378\n",
       "5  1.483785e-30 CHRNA3   3.3764893   2.513479   0.7561193   9.496816  406.5300\n",
       "6  1.794579e-23 ZEB2     0.8441223   0.000000   3.7805965   0.000000  215.4783\n",
       "7  8.149815e-23 NEFM     5.0647340   1.675652  65.7823794  11.607219 1978.5622\n",
       "8  3.342908e-21 CAMK2N1 13.5059573   9.216088  16.6346247  28.490448  225.9469\n",
       "9  3.342908e-21 PHOX2B   0.0000000   0.000000   0.7561193   1.055202  700.5227\n",
       "10 7.248395e-21 EBF2     0.8441223   0.000000   1.5122386   1.055202  480.6824\n",
       "   S16       S17        S18       S19       S20       S07       S08      \n",
       "1  1573.5464  1662.1163 1949.4850 2134.0972 2267.2023 1340.2035 1364.5131\n",
       "2  4782.8597 10010.4255 6525.0659 6863.0431 8293.1636 4045.5177 4110.2136\n",
       "3  2946.9053  6947.1431 6577.9261 5550.5475 8237.9542 3159.3932 2949.2658\n",
       "4   470.7113   391.9492  602.6065  847.4381  758.4493 1393.8499 1522.2241\n",
       "5   275.0325   624.6036  484.1996 1632.0074 2011.9723 1682.1996 1609.0694\n",
       "6   110.9147   425.4850  202.9833  428.8864  532.1816  367.8614  331.4016\n",
       "7  1906.2906  7589.5625 8589.7862 2093.6200 3415.7371 5296.6297 4266.5351\n",
       "8   323.7267   244.1823  439.7971  446.1107  577.4352  767.3359  808.7033\n",
       "9   497.7637  1132.8800  693.5261 1552.7754 1148.5348 1141.9032  937.2343\n",
       "10  292.1656   571.1560  382.7080  294.5364  340.3066  227.9974  191.0596\n",
       "   S21        S22       \n",
       "1   1917.4913  1750.7251\n",
       "2   3700.2947  2925.2004\n",
       "3   1968.1802  1733.6330\n",
       "4   1381.6364  1495.5637\n",
       "5    590.8885  1251.3900\n",
       "6    237.5140   363.8188\n",
       "7  19625.3202 24064.5349\n",
       "8   1233.9143  1091.4563\n",
       "9    418.5461   496.8934\n",
       "10   120.2053   191.6763"
      ]
     },
     "metadata": {},
     "output_type": "display_data"
    },
    {
     "data": {
      "text/html": [
       "<ol class=list-inline>\n",
       "\t<li>1978</li>\n",
       "\t<li>16</li>\n",
       "</ol>\n"
      ],
      "text/latex": [
       "\\begin{enumerate*}\n",
       "\\item 1978\n",
       "\\item 16\n",
       "\\end{enumerate*}\n"
      ],
      "text/markdown": [
       "1. 1978\n",
       "2. 16\n",
       "\n",
       "\n"
      ],
      "text/plain": [
       "[1] 1978   16"
      ]
     },
     "metadata": {},
     "output_type": "display_data"
    }
   ],
   "source": [
    "sigGenes1 %>% head(10)\n",
    "sigGenes1 %>% dim"
   ]
  },
  {
   "cell_type": "code",
   "execution_count": 445,
   "metadata": {
    "ExecuteTime": {
     "end_time": "2019-08-25T18:37:58.118389Z",
     "start_time": "2019-08-25T18:37:58.060Z"
    }
   },
   "outputs": [
    {
     "data": {
      "text/html": [
       "<table>\n",
       "<thead><tr><th></th><th scope=col>padj</th><th scope=col>S01</th><th scope=col>S02</th><th scope=col>S13</th><th scope=col>S14</th><th scope=col>S15</th><th scope=col>S16</th><th scope=col>S17</th><th scope=col>S18</th><th scope=col>S19</th><th scope=col>S20</th><th scope=col>S07</th><th scope=col>S08</th><th scope=col>S21</th><th scope=col>S22</th></tr></thead>\n",
       "<tbody>\n",
       "\t<tr><th scope=row>VTI1A</th><td>0.01949554 </td><td> 45.5826058</td><td> 50.26957  </td><td> 64.2701408</td><td> 26.380044 </td><td> 74.152462 </td><td> 87.469343 </td><td>165.58283  </td><td> 89.862379 </td><td> 49.9506214</td><td>112.228777 </td><td>113.040749 </td><td>120.888635 </td><td>111.51573  </td><td>101.33207  </td></tr>\n",
       "\t<tr><th scope=row>HPCA</th><td>0.01974823 </td><td>  0.0000000</td><td>  0.00000  </td><td>  0.0000000</td><td>  0.000000 </td><td>  0.000000 </td><td> 15.329679 </td><td>  0.00000  </td><td>  0.000000 </td><td>  8.6121761</td><td>  0.000000 </td><td> 10.537697 </td><td> 33.348589 </td><td> 21.72384  </td><td> 36.62605  </td></tr>\n",
       "\t<tr><th scope=row>AL117329.1</th><td>0.02002180 </td><td>  0.8441223</td><td>  0.00000  </td><td>  0.0000000</td><td>  1.055202 </td><td>  9.596201 </td><td>  9.017458 </td><td> 10.47993  </td><td>  4.228818 </td><td>  0.8612176</td><td>  1.810142 </td><td>  2.873917 </td><td>  1.389525 </td><td> 63.72327  </td><td> 10.98781  </td></tr>\n",
       "\t<tr><th scope=row>SIAH3</th><td>0.02002989 </td><td>  0.0000000</td><td>  0.00000  </td><td>  0.7561193</td><td>  0.000000 </td><td>  0.000000 </td><td>  0.000000 </td><td> 20.95985  </td><td>  0.000000 </td><td> 29.2813988</td><td>  0.000000 </td><td> 36.402953 </td><td> 21.537630 </td><td> 43.44769  </td><td> 12.20868  </td></tr>\n",
       "\t<tr><th scope=row>ZMYND8</th><td>0.02011651 </td><td>903.2108925</td><td>594.01876  </td><td>759.1437806</td><td>606.741015 </td><td>357.676580 </td><td>357.993083 </td><td>504.08445  </td><td>555.032341 </td><td>228.2226668</td><td>378.319586 </td><td>199.258270 </td><td>228.576786 </td><td>419.99431  </td><td>336.95965  </td></tr>\n",
       "\t<tr><th scope=row>LONP2</th><td>0.02020506 </td><td> 75.1268873</td><td> 74.56653  </td><td> 33.2692493</td><td> 49.594483 </td><td>127.367758 </td><td>107.307750 </td><td>116.32718  </td><td> 64.489472 </td><td>162.7701284</td><td> 63.354955 </td><td>174.350986 </td><td>223.713451 </td><td>275.16868  </td><td>286.90405  </td></tr>\n",
       "</tbody>\n",
       "</table>\n"
      ],
      "text/latex": [
       "\\begin{tabular}{r|lllllllllllllll}\n",
       "  & padj & S01 & S02 & S13 & S14 & S15 & S16 & S17 & S18 & S19 & S20 & S07 & S08 & S21 & S22\\\\\n",
       "\\hline\n",
       "\tVTI1A & 0.01949554  &  45.5826058 &  50.26957   &  64.2701408 &  26.380044  &  74.152462  &  87.469343  & 165.58283   &  89.862379  &  49.9506214 & 112.228777  & 113.040749  & 120.888635  & 111.51573   & 101.33207  \\\\\n",
       "\tHPCA & 0.01974823  &   0.0000000 &   0.00000   &   0.0000000 &   0.000000  &   0.000000  &  15.329679  &   0.00000   &   0.000000  &   8.6121761 &   0.000000  &  10.537697  &  33.348589  &  21.72384   &  36.62605  \\\\\n",
       "\tAL117329.1 & 0.02002180  &   0.8441223 &   0.00000   &   0.0000000 &   1.055202  &   9.596201  &   9.017458  &  10.47993   &   4.228818  &   0.8612176 &   1.810142  &   2.873917  &   1.389525  &  63.72327   &  10.98781  \\\\\n",
       "\tSIAH3 & 0.02002989  &   0.0000000 &   0.00000   &   0.7561193 &   0.000000  &   0.000000  &   0.000000  &  20.95985   &   0.000000  &  29.2813988 &   0.000000  &  36.402953  &  21.537630  &  43.44769   &  12.20868  \\\\\n",
       "\tZMYND8 & 0.02011651  & 903.2108925 & 594.01876   & 759.1437806 & 606.741015  & 357.676580  & 357.993083  & 504.08445   & 555.032341  & 228.2226668 & 378.319586  & 199.258270  & 228.576786  & 419.99431   & 336.95965  \\\\\n",
       "\tLONP2 & 0.02020506  &  75.1268873 &  74.56653   &  33.2692493 &  49.594483  & 127.367758  & 107.307750  & 116.32718   &  64.489472  & 162.7701284 &  63.354955  & 174.350986  & 223.713451  & 275.16868   & 286.90405  \\\\\n",
       "\\end{tabular}\n"
      ],
      "text/markdown": [
       "\n",
       "| <!--/--> | padj | S01 | S02 | S13 | S14 | S15 | S16 | S17 | S18 | S19 | S20 | S07 | S08 | S21 | S22 |\n",
       "|---|---|---|---|---|---|---|---|---|---|---|---|---|---|---|---|\n",
       "| VTI1A | 0.01949554  |  45.5826058 |  50.26957   |  64.2701408 |  26.380044  |  74.152462  |  87.469343  | 165.58283   |  89.862379  |  49.9506214 | 112.228777  | 113.040749  | 120.888635  | 111.51573   | 101.33207   |\n",
       "| HPCA | 0.01974823  |   0.0000000 |   0.00000   |   0.0000000 |   0.000000  |   0.000000  |  15.329679  |   0.00000   |   0.000000  |   8.6121761 |   0.000000  |  10.537697  |  33.348589  |  21.72384   |  36.62605   |\n",
       "| AL117329.1 | 0.02002180  |   0.8441223 |   0.00000   |   0.0000000 |   1.055202  |   9.596201  |   9.017458  |  10.47993   |   4.228818  |   0.8612176 |   1.810142  |   2.873917  |   1.389525  |  63.72327   |  10.98781   |\n",
       "| SIAH3 | 0.02002989  |   0.0000000 |   0.00000   |   0.7561193 |   0.000000  |   0.000000  |   0.000000  |  20.95985   |   0.000000  |  29.2813988 |   0.000000  |  36.402953  |  21.537630  |  43.44769   |  12.20868   |\n",
       "| ZMYND8 | 0.02011651  | 903.2108925 | 594.01876   | 759.1437806 | 606.741015  | 357.676580  | 357.993083  | 504.08445   | 555.032341  | 228.2226668 | 378.319586  | 199.258270  | 228.576786  | 419.99431   | 336.95965   |\n",
       "| LONP2 | 0.02020506  |  75.1268873 |  74.56653   |  33.2692493 |  49.594483  | 127.367758  | 107.307750  | 116.32718   |  64.489472  | 162.7701284 |  63.354955  | 174.350986  | 223.713451  | 275.16868   | 286.90405   |\n",
       "\n"
      ],
      "text/plain": [
       "           padj       S01         S02       S13         S14        S15       \n",
       "VTI1A      0.01949554  45.5826058  50.26957  64.2701408  26.380044  74.152462\n",
       "HPCA       0.01974823   0.0000000   0.00000   0.0000000   0.000000   0.000000\n",
       "AL117329.1 0.02002180   0.8441223   0.00000   0.0000000   1.055202   9.596201\n",
       "SIAH3      0.02002989   0.0000000   0.00000   0.7561193   0.000000   0.000000\n",
       "ZMYND8     0.02011651 903.2108925 594.01876 759.1437806 606.741015 357.676580\n",
       "LONP2      0.02020506  75.1268873  74.56653  33.2692493  49.594483 127.367758\n",
       "           S16        S17       S18        S19         S20        S07       \n",
       "VTI1A       87.469343 165.58283  89.862379  49.9506214 112.228777 113.040749\n",
       "HPCA        15.329679   0.00000   0.000000   8.6121761   0.000000  10.537697\n",
       "AL117329.1   9.017458  10.47993   4.228818   0.8612176   1.810142   2.873917\n",
       "SIAH3        0.000000  20.95985   0.000000  29.2813988   0.000000  36.402953\n",
       "ZMYND8     357.993083 504.08445 555.032341 228.2226668 378.319586 199.258270\n",
       "LONP2      107.307750 116.32718  64.489472 162.7701284  63.354955 174.350986\n",
       "           S08        S21       S22      \n",
       "VTI1A      120.888635 111.51573 101.33207\n",
       "HPCA        33.348589  21.72384  36.62605\n",
       "AL117329.1   1.389525  63.72327  10.98781\n",
       "SIAH3       21.537630  43.44769  12.20868\n",
       "ZMYND8     228.576786 419.99431 336.95965\n",
       "LONP2      223.713451 275.16868 286.90405"
      ]
     },
     "metadata": {},
     "output_type": "display_data"
    }
   ],
   "source": [
    "#### 1000 Most significant (DOX vs. ES) ranked by padj\n",
    "top_n(sigGenes1, n = -1000, wt = padj)[,1:16] %>% column_to_rownames('gene') %>% as.matrix %>% tail"
   ]
  },
  {
   "cell_type": "code",
   "execution_count": 446,
   "metadata": {
    "ExecuteTime": {
     "end_time": "2019-08-25T18:38:06.776951Z",
     "start_time": "2019-08-25T18:38:06.744Z"
    }
   },
   "outputs": [],
   "source": [
    "# most abundant genes\n",
    "most_abundant.mt1 <- top_n(sigGenes1, n = 1500, wt = rowSums(sigGenes1[,3:16]))[,2:16] %>% column_to_rownames('gene') %>% as.matrix"
   ]
  },
  {
   "cell_type": "code",
   "execution_count": 449,
   "metadata": {
    "ExecuteTime": {
     "end_time": "2019-08-25T18:38:31.911658Z",
     "start_time": "2019-08-25T18:38:31.795Z"
    }
   },
   "outputs": [],
   "source": [
    "write.table(most_abundant.mt1, 'most_abundent_genes_DOXvsES.csv', quote=F, sep=',', row.names = F)"
   ]
  },
  {
   "cell_type": "code",
   "execution_count": 447,
   "metadata": {
    "ExecuteTime": {
     "end_time": "2019-08-25T18:38:08.928856Z",
     "start_time": "2019-08-25T18:38:08.895Z"
    }
   },
   "outputs": [],
   "source": [
    "ano1 <- as.data.frame(colData(dds1)[,c('condition','group')])"
   ]
  },
  {
   "cell_type": "code",
   "execution_count": 448,
   "metadata": {
    "ExecuteTime": {
     "end_time": "2019-08-25T18:38:11.091907Z",
     "start_time": "2019-08-25T18:38:10.819Z"
    }
   },
   "outputs": [
    {
     "data": {
      "image/png": "[encoded data removed]",
      "text/plain": [
       "plot without title"
      ]
     },
     "metadata": {},
     "output_type": "display_data"
    }
   ],
   "source": [
    "pheatmap(most_abundant.mt1[1:50,], cluster_rows=F, show_rownames=T, cluster_cols = F, annotation = ano1,\n",
    "         fontsize=5, title = 'Top 50 of most abundant genes (FDR 0.1, DOX vs ES)')"
   ]
  },
  {
   "cell_type": "code",
   "execution_count": 450,
   "metadata": {
    "ExecuteTime": {
     "end_time": "2019-08-25T18:38:35.710657Z",
     "start_time": "2019-08-25T18:38:35.282Z"
    }
   },
   "outputs": [],
   "source": [
    "pheatmap(most_abundant.mt1[1:1000,], cluster_rows=F, show_rownames=T, cluster_cols = F, annotation = ano1,\n",
    "         fontsize=5, title = 'Top 1000 of most abundant genes (FDR 0.1, DOX vs ES)', filename='1000MostAbundantGenes_Dox2ES.heatmap.pdf',\n",
    "        width = 8, height = 66, silent = T)"
   ]
  },
  {
   "cell_type": "code",
   "execution_count": 466,
   "metadata": {
    "ExecuteTime": {
     "end_time": "2019-08-25T18:41:40.875315Z",
     "start_time": "2019-08-25T18:41:40.835Z"
    }
   },
   "outputs": [],
   "source": [
    "#### 1000 Most significant (DOX vs. ES) ranked by padj\n",
    "most_sig.mt1 <- top_n(sigGenes1, n = -1000, wt = padj)[,1:16] %>% column_to_rownames('gene') %>% as.matrix"
   ]
  },
  {
   "cell_type": "code",
   "execution_count": 469,
   "metadata": {
    "ExecuteTime": {
     "end_time": "2019-08-25T18:41:57.301981Z",
     "start_time": "2019-08-25T18:41:57.241Z"
    }
   },
   "outputs": [],
   "source": [
    "write.table(most_sig.mt1, 'most_abundent_genes_DOXvsES.csv', quote=F, sep=',', row.names = F)"
   ]
  },
  {
   "cell_type": "code",
   "execution_count": 468,
   "metadata": {
    "ExecuteTime": {
     "end_time": "2019-08-25T18:41:51.642302Z",
     "start_time": "2019-08-25T18:41:51.361Z"
    }
   },
   "outputs": [
    {
     "data": {
      "image/png": "[encoded data removed]",
      "text/plain": [
       "plot without title"
      ]
     },
     "metadata": {},
     "output_type": "display_data"
    }
   ],
   "source": [
    "pheatmap(most_sig.mt1[1:50,c(2:15)], cluster_rows=F, show_rownames=T, cluster_cols = F, annotation = ano1,\n",
    "         fontsize=6, title = 'Top 50 of most significant genes (FDR 0.1, DOX vs ES)')"
   ]
  },
  {
   "cell_type": "code",
   "execution_count": 471,
   "metadata": {
    "ExecuteTime": {
     "end_time": "2019-08-25T18:42:38.618121Z",
     "start_time": "2019-08-25T18:42:38.247Z"
    }
   },
   "outputs": [],
   "source": [
    "pheatmap(most_sig.mt1[,2:15], cluster_rows=F, show_rownames=T, cluster_cols = F, annotation = ano1,\n",
    "         fontsize=4, title = 'Top 1000 of most significant genes (FDR 0.1, DOX vs ES)', filename='1000MostSignificantGenes_Dox2ES.heatmap.pdf',\n",
    "        width = 8, height = 66, silent = T)"
   ]
  },
  {
   "cell_type": "code",
   "execution_count": null,
   "metadata": {},
   "outputs": [],
   "source": []
  },
  {
   "cell_type": "markdown",
   "metadata": {},
   "source": [
    "# ACT II\n",
    "**WT compared to ZBTB18KO**\n",
    "\n",
    "Condition  |  Sample    \n",
    ":---------:|:-------:\n",
    "WT.ES  |  1, 2    \n",
    "108.ES |   3, 4    \n",
    "112.ES |   5, 6    \n",
    "WT.Day4  |  7,8    \n",
    "108.Day4 |   9, 10    \n",
    "112.Day4 |   11, 12"
   ]
  }
 ],
 "metadata": {
  "kernelspec": {
   "display_name": "R",
   "language": "R",
   "name": "ir"
  },
  "language_info": {
   "codemirror_mode": "r",
   "file_extension": ".r",
   "mimetype": "text/x-r-source",
   "name": "R",
   "pygments_lexer": "r",
   "version": "3.6.1"
  },
  "toc": {
   "base_numbering": 1,
   "nav_menu": {},
   "number_sections": true,
   "sideBar": true,
   "skip_h1_title": false,
   "title_cell": "Table of Contents",
   "title_sidebar": "Contents",
   "toc_cell": false,
   "toc_position": {},
   "toc_section_display": true,
   "toc_window_display": false
  }
 },
 "nbformat": 4,
 "nbformat_minor": 2
}
