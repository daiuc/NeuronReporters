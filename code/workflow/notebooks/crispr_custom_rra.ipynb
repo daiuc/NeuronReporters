{
 "cells": [
  {
   "cell_type": "markdown",
   "id": "1ac441cf-53df-426f-8877-6712fc126813",
   "metadata": {},
   "source": [
    "**3 read count files**\n",
    "- non-normalized read counts\n",
    "- ranknorm normalized using RNOMni\n",
    "- log2 normalized from Congyi, this is the one used for the original screen analysis"
   ]
  },
  {
   "cell_type": "markdown",
   "id": "03e90982-879b-4545-a111-30dfaa64cf3b",
   "metadata": {},
   "source": [
    "- S8 vs. S6:\n",
    "    These cells became non-neurons, the **enrichment** of guides found from S8 / S6 means that these guides discrupt TFs that may be crucial to neuron development. Because these cells failed to become neurons, enrichment of these guides mean TFs responsible for neuron development are disrupted.\n",
    "    \n",
    "- S7 vs. S6:\n",
    "    These cells became neurons. The enrichment of guides found from S7 - S6 means that these guides disrupt TFs that may be repressors of neuron development, or that these targetted TFs are reponsible for maintaining stem cell status. The **depletion** of these guides means that the targeted TFs may be crucial to neuron development (since these cells have become neurons, you wouldn't find many cells with neuron related TFs being disrupted, thus you observe depletion of gRNAs). \n",
    "    \n",
    "- S8 vs. S7:\n",
    "    S8 are non-neurons and S7 are neurons. The **enrichment** of guides found in neurons, while depleted in non-neurons, mean that these guides disrupte the function of TFs that are responsible for neuron development."
   ]
  },
  {
   "cell_type": "code",
   "execution_count": 670,
   "id": "52cd13a9-9e3e-475e-82e8-fd7d2b0791a1",
   "metadata": {},
   "outputs": [],
   "source": [
    "suppressMessages(library(data.table))\n",
    "suppressMessages(library(tidyverse))"
   ]
  },
  {
   "cell_type": "markdown",
   "id": "0243f8cd-83a0-4c86-bc83-3d6e59e1fc34",
   "metadata": {},
   "source": [
    "## prepare count tables"
   ]
  },
  {
   "cell_type": "code",
   "execution_count": 671,
   "id": "76a21057-f4b3-4882-9fe2-c8063bd32a4f",
   "metadata": {},
   "outputs": [],
   "source": [
    "#cnts.file = \"../../resources/crispr/counts/RC.csv\"\n",
    "cnts.file = \"../../resources/crispr/counts/wrangled_raw_counts.tsv\" # raw file\n",
    "cnts.rn.file = \"../../resources/crispr/counts/wrangled_ranknorm_counts.tsv\" # rank normalized\n",
    "cnts.l2.file = \"/gpfs/commons/groups/sanjana_lab/cdai/TFscreen/RCmNorRatioLog2.lu.csv\""
   ]
  },
  {
   "cell_type": "code",
   "execution_count": 672,
   "id": "b2f88ad0-cf47-475b-958a-64e90ddb8711",
   "metadata": {},
   "outputs": [],
   "source": [
    "cnts = fread(cnts.file) %>% .[, .(ID=sgRNA, Gene, S6 = Day14_iN, S7=Day14_Tdpos, S8=Day14_Tdneg)]\n",
    "cnts.l2 = fread(cnts.l2.file) %>% .[, .(ID, Gene, S6, S7, S8)]"
   ]
  },
  {
   "cell_type": "code",
   "execution_count": 673,
   "id": "88f21b38-82f8-4aa1-bb18-3b996aa39ff2",
   "metadata": {},
   "outputs": [],
   "source": [
    "# group 10 NTC guides into 1 NTC group\n",
    "NTC = paste(\"NonTargeting_Human_\", sort(rep(1:100, 10)), sep=\"\")\n",
    "cnts[str_detect(toupper(Gene), \"NONTARGET\"), Gene := NTC]"
   ]
  },
  {
   "cell_type": "code",
   "execution_count": 674,
   "id": "29c69051-fca7-4bcb-a169-e17c689c41e5",
   "metadata": {},
   "outputs": [],
   "source": [
    "# remove any guides where S6 or iN is 1 or less\n",
    "# remove genes that have less than 5 guides left at iN or S6\n",
    "cnts = cnts[S6 > 1]\n",
    "cnts = cnts[, .(ID, S6, S7, S8, .N), by = Gene][N>4, -c(\"N\")]"
   ]
  },
  {
   "cell_type": "code",
   "execution_count": 675,
   "id": "17f6ab54-a770-4fd2-9e8b-37cdb08d3b0d",
   "metadata": {},
   "outputs": [],
   "source": [
    "selcols = c(\"S6\", \"S7\", \"S8\")\n",
    "# log2 RPM normalize counts\n",
    "cnts.norm = cnts[, c(\n",
    "    list(ID = ID, Gene = Gene),\n",
    "    lapply(.SD, function(x) log2(if_else(x==0, .1, .1*x)*1e6/sum(x)) )\n",
    "), .SDcols = selcols]"
   ]
  },
  {
   "cell_type": "code",
   "execution_count": 676,
   "id": "80092d0b-6f25-470d-8f1e-4d65fcae2eea",
   "metadata": {},
   "outputs": [
    {
     "data": {
      "text/html": [
       "<table class=\"dataframe\">\n",
       "<caption>A data.table: 5 × 5</caption>\n",
       "<thead>\n",
       "\t<tr><th scope=col>Gene</th><th scope=col>ID</th><th scope=col>S6</th><th scope=col>S7</th><th scope=col>S8</th></tr>\n",
       "\t<tr><th scope=col>&lt;chr&gt;</th><th scope=col>&lt;chr&gt;</th><th scope=col>&lt;int&gt;</th><th scope=col>&lt;int&gt;</th><th scope=col>&lt;int&gt;</th></tr>\n",
       "</thead>\n",
       "<tbody>\n",
       "\t<tr><td>AATF</td><td>GUIDES_sg00000</td><td> 46</td><td>23</td><td>0</td></tr>\n",
       "\t<tr><td>AATF</td><td>GUIDES_sg00003</td><td>122</td><td>35</td><td>0</td></tr>\n",
       "\t<tr><td>AATF</td><td>GUIDES_sg00004</td><td>  5</td><td> 0</td><td>0</td></tr>\n",
       "\t<tr><td>AATF</td><td>GUIDES_sg00006</td><td> 50</td><td>34</td><td>0</td></tr>\n",
       "\t<tr><td>AATF</td><td>GUIDES_sg00007</td><td> 22</td><td>16</td><td>0</td></tr>\n",
       "</tbody>\n",
       "</table>\n"
      ],
      "text/latex": [
       "A data.table: 5 × 5\n",
       "\\begin{tabular}{lllll}\n",
       " Gene & ID & S6 & S7 & S8\\\\\n",
       " <chr> & <chr> & <int> & <int> & <int>\\\\\n",
       "\\hline\n",
       "\t AATF & GUIDES\\_sg00000 &  46 & 23 & 0\\\\\n",
       "\t AATF & GUIDES\\_sg00003 & 122 & 35 & 0\\\\\n",
       "\t AATF & GUIDES\\_sg00004 &   5 &  0 & 0\\\\\n",
       "\t AATF & GUIDES\\_sg00006 &  50 & 34 & 0\\\\\n",
       "\t AATF & GUIDES\\_sg00007 &  22 & 16 & 0\\\\\n",
       "\\end{tabular}\n"
      ],
      "text/markdown": [
       "\n",
       "A data.table: 5 × 5\n",
       "\n",
       "| Gene &lt;chr&gt; | ID &lt;chr&gt; | S6 &lt;int&gt; | S7 &lt;int&gt; | S8 &lt;int&gt; |\n",
       "|---|---|---|---|---|\n",
       "| AATF | GUIDES_sg00000 |  46 | 23 | 0 |\n",
       "| AATF | GUIDES_sg00003 | 122 | 35 | 0 |\n",
       "| AATF | GUIDES_sg00004 |   5 |  0 | 0 |\n",
       "| AATF | GUIDES_sg00006 |  50 | 34 | 0 |\n",
       "| AATF | GUIDES_sg00007 |  22 | 16 | 0 |\n",
       "\n"
      ],
      "text/plain": [
       "  Gene ID             S6  S7 S8\n",
       "1 AATF GUIDES_sg00000  46 23 0 \n",
       "2 AATF GUIDES_sg00003 122 35 0 \n",
       "3 AATF GUIDES_sg00004   5  0 0 \n",
       "4 AATF GUIDES_sg00006  50 34 0 \n",
       "5 AATF GUIDES_sg00007  22 16 0 "
      ]
     },
     "metadata": {},
     "output_type": "display_data"
    },
    {
     "data": {
      "text/html": [
       "<style>\n",
       ".list-inline {list-style: none; margin:0; padding: 0}\n",
       ".list-inline>li {display: inline-block}\n",
       ".list-inline>li:not(:last-child)::after {content: \"\\00b7\"; padding: 0 .5ex}\n",
       "</style>\n",
       "<ol class=list-inline><li>17899</li><li>5</li></ol>\n"
      ],
      "text/latex": [
       "\\begin{enumerate*}\n",
       "\\item 17899\n",
       "\\item 5\n",
       "\\end{enumerate*}\n"
      ],
      "text/markdown": [
       "1. 17899\n",
       "2. 5\n",
       "\n",
       "\n"
      ],
      "text/plain": [
       "[1] 17899     5"
      ]
     },
     "metadata": {},
     "output_type": "display_data"
    },
    {
     "data": {
      "text/html": [
       "<table class=\"dataframe\">\n",
       "<caption>A data.table: 5 × 5</caption>\n",
       "<thead>\n",
       "\t<tr><th scope=col>ID</th><th scope=col>Gene</th><th scope=col>S6</th><th scope=col>S7</th><th scope=col>S8</th></tr>\n",
       "\t<tr><th scope=col>&lt;chr&gt;</th><th scope=col>&lt;chr&gt;</th><th scope=col>&lt;dbl&gt;</th><th scope=col>&lt;dbl&gt;</th><th scope=col>&lt;dbl&gt;</th></tr>\n",
       "</thead>\n",
       "<tbody>\n",
       "\t<tr><td>GUIDES_sg00000</td><td>AATF</td><td> 1.4236802</td><td> 0.8385772</td><td>-4.135369</td></tr>\n",
       "\t<tr><td>GUIDES_sg00003</td><td>AATF</td><td> 2.8308556</td><td> 1.4442983</td><td>-4.135369</td></tr>\n",
       "\t<tr><td>GUIDES_sg00004</td><td>AATF</td><td>-1.7779537</td><td>-3.6849848</td><td>-4.135369</td></tr>\n",
       "\t<tr><td>GUIDES_sg00006</td><td>AATF</td><td> 1.5439744</td><td> 1.4024781</td><td>-4.135369</td></tr>\n",
       "\t<tr><td>GUIDES_sg00007</td><td>AATF</td><td> 0.3595499</td><td> 0.3150152</td><td>-4.135369</td></tr>\n",
       "</tbody>\n",
       "</table>\n"
      ],
      "text/latex": [
       "A data.table: 5 × 5\n",
       "\\begin{tabular}{lllll}\n",
       " ID & Gene & S6 & S7 & S8\\\\\n",
       " <chr> & <chr> & <dbl> & <dbl> & <dbl>\\\\\n",
       "\\hline\n",
       "\t GUIDES\\_sg00000 & AATF &  1.4236802 &  0.8385772 & -4.135369\\\\\n",
       "\t GUIDES\\_sg00003 & AATF &  2.8308556 &  1.4442983 & -4.135369\\\\\n",
       "\t GUIDES\\_sg00004 & AATF & -1.7779537 & -3.6849848 & -4.135369\\\\\n",
       "\t GUIDES\\_sg00006 & AATF &  1.5439744 &  1.4024781 & -4.135369\\\\\n",
       "\t GUIDES\\_sg00007 & AATF &  0.3595499 &  0.3150152 & -4.135369\\\\\n",
       "\\end{tabular}\n"
      ],
      "text/markdown": [
       "\n",
       "A data.table: 5 × 5\n",
       "\n",
       "| ID &lt;chr&gt; | Gene &lt;chr&gt; | S6 &lt;dbl&gt; | S7 &lt;dbl&gt; | S8 &lt;dbl&gt; |\n",
       "|---|---|---|---|---|\n",
       "| GUIDES_sg00000 | AATF |  1.4236802 |  0.8385772 | -4.135369 |\n",
       "| GUIDES_sg00003 | AATF |  2.8308556 |  1.4442983 | -4.135369 |\n",
       "| GUIDES_sg00004 | AATF | -1.7779537 | -3.6849848 | -4.135369 |\n",
       "| GUIDES_sg00006 | AATF |  1.5439744 |  1.4024781 | -4.135369 |\n",
       "| GUIDES_sg00007 | AATF |  0.3595499 |  0.3150152 | -4.135369 |\n",
       "\n"
      ],
      "text/plain": [
       "  ID             Gene S6         S7         S8       \n",
       "1 GUIDES_sg00000 AATF  1.4236802  0.8385772 -4.135369\n",
       "2 GUIDES_sg00003 AATF  2.8308556  1.4442983 -4.135369\n",
       "3 GUIDES_sg00004 AATF -1.7779537 -3.6849848 -4.135369\n",
       "4 GUIDES_sg00006 AATF  1.5439744  1.4024781 -4.135369\n",
       "5 GUIDES_sg00007 AATF  0.3595499  0.3150152 -4.135369"
      ]
     },
     "metadata": {},
     "output_type": "display_data"
    },
    {
     "data": {
      "text/html": [
       "<style>\n",
       ".list-inline {list-style: none; margin:0; padding: 0}\n",
       ".list-inline>li {display: inline-block}\n",
       ".list-inline>li:not(:last-child)::after {content: \"\\00b7\"; padding: 0 .5ex}\n",
       "</style>\n",
       "<ol class=list-inline><li>17899</li><li>5</li></ol>\n"
      ],
      "text/latex": [
       "\\begin{enumerate*}\n",
       "\\item 17899\n",
       "\\item 5\n",
       "\\end{enumerate*}\n"
      ],
      "text/markdown": [
       "1. 17899\n",
       "2. 5\n",
       "\n",
       "\n"
      ],
      "text/plain": [
       "[1] 17899     5"
      ]
     },
     "metadata": {},
     "output_type": "display_data"
    }
   ],
   "source": [
    "cnts[1:5]\n",
    "dim(cnts)\n",
    "cnts.norm[1:5]\n",
    "dim(cnts.norm)"
   ]
  },
  {
   "cell_type": "markdown",
   "id": "6212705d-89fc-490b-a09a-2160f071501b",
   "metadata": {},
   "source": [
    "## functions for computation"
   ]
  },
  {
   "cell_type": "code",
   "execution_count": 679,
   "id": "eb174f2a-e568-4889-89a5-4fe9890ce8e2",
   "metadata": {},
   "outputs": [],
   "source": [
    "makeDT = function(dt, dt.norm) {\n",
    "    # dt: is raw counts,\n",
    "    # dt.norm: is the same, but normalized\n",
    "    # columns: ID, Gene, denom, num\n",
    "    \n",
    "    # both denom and num conditions must have at least 2 guides with reads > 0\n",
    "    genes1 = dt[denom > 0, .N, by = Gene][N>1, Gene] %>% unique\n",
    "    genes2 = dt[num > 0, .N, by = Gene][N>1, Gene] %>% unique\n",
    "    genes = intersect(genes1, genes2)\n",
    "    \n",
    "    dt = dt[Gene %in% genes & denom > 0 & num > 0]\n",
    "    dt.norm = dt.norm[Gene %in% genes]\n",
    "    \n",
    "    dt.out = dt.norm[dt[, .(ID, Gene)], on = c(\"Gene\", \"ID\"), nomatch=NULL]\n",
    "    \n",
    "    return(dt.out)\n",
    "}\n",
    "\n",
    "weightedSum = function(x) {\n",
    "    # x must be a numerical vector of exactly 2 elements\n",
    "    # x must be sorted, x[1] <= x[2]\n",
    "    return(0.25*x[1] + 0.75*x[2]) # more weights no the second rank\n",
    "}\n",
    "\n",
    "RRA = function(dt, enrichment) {\n",
    "    # dt is a dataframe with column ID, Gene, denom, num (which are Log2 RPM normalized reads)\n",
    "    dt = dt[, .(ID, Gene, denom, num, l2fc = num - denom)] # compute l2fc\n",
    "    if (enrichment) {\n",
    "        dt = dt[, .(ID, Gene,l2fc, rk=rank(-l2fc, ties.method = \"max\"))] # look for enriched guides\n",
    "    } else {\n",
    "        dt = dt[, .(ID, Gene,l2fc, rk=rank(l2fc, ties.method = \"max\"))] # look for depleted guides\n",
    "    }\n",
    "    dt = dt[order(Gene, rk), .SD[1:2], by = Gene # select top 2 guides for each gene\n",
    "            ][, .(rankscore = weightedSum(rk)), by = Gene\n",
    "             ][order(rankscore)]\n",
    "    return(dt)\n",
    "}"
   ]
  },
  {
   "cell_type": "markdown",
   "id": "9b6befd3-f31c-40f6-8a71-224344762c29",
   "metadata": {},
   "source": [
    "## compute enrichment of S8 vs S6"
   ]
  },
  {
   "cell_type": "code",
   "execution_count": 680,
   "id": "9836dbd8-9fe8-428d-b791-c85bfe6af91d",
   "metadata": {},
   "outputs": [],
   "source": [
    "# enrichment of guides in td- vs. iN (S8 VS. S6)\n",
    "dtS86 = makeDT(dt = cnts[, .(ID, Gene, denom = S6, num = S8)],\n",
    "               dt.norm = cnts.norm[, .(ID, Gene, denom = S6, num = S8)])\n",
    "rraS86 = RRA(dtS86, enrichment = T)"
   ]
  },
  {
   "cell_type": "markdown",
   "id": "6daa9772-e8d4-45ec-8307-9bd5c7ed7838",
   "metadata": {},
   "source": [
    "## compute enrichment of S8 vs S7"
   ]
  },
  {
   "cell_type": "code",
   "execution_count": 681,
   "id": "f654c446-7660-49bf-bbbb-b6dc9a1a9e52",
   "metadata": {},
   "outputs": [],
   "source": [
    "# enrichment of guides in td- vs. td+ (S8 VS. S7)\n",
    "dtS87 = makeDT(dt = cnts[, .(ID, Gene, denom = S7, num = S8)],\n",
    "               dt.norm = cnts.norm[, .(ID, Gene, denom = S7, num = S8)])\n",
    "rraS87 = RRA(dtS87, enrichment = T)"
   ]
  },
  {
   "cell_type": "markdown",
   "id": "0347e0e6-a808-41e9-850e-6b38e0a0f3d1",
   "metadata": {},
   "source": [
    "## compute depletion of S7 vs S6"
   ]
  },
  {
   "cell_type": "code",
   "execution_count": 682,
   "id": "f2323dbf-0a31-4bb2-b0bb-d0c60aa1f959",
   "metadata": {},
   "outputs": [],
   "source": [
    "# depletion of guides in td+ vs. iN (S7 VS. S6)\n",
    "dtS76 = makeDT(dt = cnts[, .(ID, Gene, denom = S6, num = S7)],\n",
    "               dt.norm = cnts.norm[, .(ID, Gene, denom = S6, num = S7)])\n",
    "rraS76 = RRA(dtS76, enrichment = F)"
   ]
  },
  {
   "cell_type": "markdown",
   "id": "cccc5b7b-8d5f-45f6-97b8-b40497e99dad",
   "metadata": {
    "tags": []
   },
   "source": [
    "## Monte Carlo simulation - S86 enrichment"
   ]
  },
  {
   "cell_type": "code",
   "execution_count": 686,
   "id": "dca2573d-ab25-4832-8dc6-a1f184bb3941",
   "metadata": {},
   "outputs": [],
   "source": [
    "N_sim = 20 # number of simulations\n",
    "\n",
    "sim.rraS86.l = list()\n",
    "for (i in 1:N_sim) {\n",
    "    sim.cnts = cnts[\n",
    "        , .(Gene, ID,\n",
    "           S6 = S6[sample(length(S6))],\n",
    "           S7 = S7[sample(length(S7))],\n",
    "           S8 = S8[sample(length(S8))])]\n",
    "    \n",
    "    selcols = c(\"S6\", \"S7\", \"S8\")\n",
    "    # log2 RPM normalize counts\n",
    "    sim.cnts.norm = sim.cnts[, c(list(ID = ID, Gene = Gene),\n",
    "        lapply(.SD, function(x) log2(if_else(x==0, .1, .1*x)*1e6/sum(x)) )), \n",
    "        .SDcols = selcols]\n",
    "               \n",
    "    sim.dtS86 = makeDT(dt = sim.cnts[, .(ID, Gene, denom = S6, num = S8)],\n",
    "               dt.norm = sim.cnts.norm[, .(ID, Gene, denom = S6, num = S8)])\n",
    "    sim.rraS86 = list(RRA(sim.dtS86, enrichment = T))\n",
    "    sim.rraS86.l = c(sim.rraS86.l, sim.rraS86)\n",
    "}\n",
    "\n",
    "# get ecdf\n",
    "ecdf.S86 = ecdf(map(sim.rraS86.l, ~.x$rankscore) %>% flatten %>% unlist)\n",
    "\n",
    "# use ecdf to compute FDR value\n",
    "rraS86[, FDR := ecdf.S86(rankscore)]"
   ]
  },
  {
   "cell_type": "code",
   "execution_count": null,
   "id": "4277e5c9-d460-4dfd-9296-bab0e837c949",
   "metadata": {},
   "outputs": [],
   "source": []
  },
  {
   "cell_type": "markdown",
   "id": "db41346e-a939-458a-a40a-8d036edf0fac",
   "metadata": {
    "tags": []
   },
   "source": [
    "## Monte Carlo simulation - S87 enrichment"
   ]
  },
  {
   "cell_type": "code",
   "execution_count": 690,
   "id": "7eeb5f02-7c3a-4968-ad41-93c5e599e437",
   "metadata": {},
   "outputs": [],
   "source": [
    "N_sim = 20 # number of simulations\n",
    "\n",
    "sim.rraS87.l = list()\n",
    "for (i in 1:N_sim) {\n",
    "    sim.cnts = cnts[\n",
    "        , .(Gene, ID,\n",
    "           S6 = S6[sample(length(S6))],\n",
    "           S7 = S7[sample(length(S7))],\n",
    "           S8 = S8[sample(length(S8))])]\n",
    "    \n",
    "    selcols = c(\"S6\", \"S7\", \"S8\")\n",
    "    # log2 RPM normalize counts\n",
    "    sim.cnts.norm = sim.cnts[, c(list(ID = ID, Gene = Gene),\n",
    "        lapply(.SD, function(x) log2(if_else(x==0, .1, .1*x)*1e6/sum(x)) )), \n",
    "        .SDcols = selcols]\n",
    "               \n",
    "    sim.dtS87 = makeDT(dt = sim.cnts[, .(ID, Gene, denom = S7, num = S8)],\n",
    "               dt.norm = sim.cnts.norm[, .(ID, Gene, denom = S7, num = S8)])\n",
    "    sim.rraS87 = list(RRA(sim.dtS87, enrichment = T))\n",
    "    sim.rraS87.l = c(sim.rraS87.l, sim.rraS87)\n",
    "}\n",
    "\n",
    "# get ecdf\n",
    "ecdf.S87 = ecdf(map(sim.rraS87.l, ~.x$rankscore) %>% flatten %>% unlist)\n",
    "\n",
    "# use ecdf to compute FDR value\n",
    "rraS87[, FDR := ecdf.S87(rankscore)]"
   ]
  },
  {
   "cell_type": "code",
   "execution_count": null,
   "id": "fe0019f6-3e43-4b56-8b17-31dabe49f796",
   "metadata": {},
   "outputs": [],
   "source": []
  },
  {
   "cell_type": "markdown",
   "id": "11bd04c9-dee3-4901-82ae-f4587e34242c",
   "metadata": {
    "tags": []
   },
   "source": [
    "## Monte Carlo simulation - S76 depletion"
   ]
  },
  {
   "cell_type": "code",
   "execution_count": 694,
   "id": "4341b121-2045-4014-aac4-3738e87daf77",
   "metadata": {},
   "outputs": [],
   "source": [
    "N_sim = 20 # number of simulations\n",
    "\n",
    "sim.rraS76.l = list()\n",
    "for (i in 1:N_sim) {\n",
    "    sim.cnts = cnts[\n",
    "        , .(Gene, ID,\n",
    "           S6 = S6[sample(length(S6))],\n",
    "           S7 = S7[sample(length(S7))],\n",
    "           S8 = S8[sample(length(S8))])]\n",
    "    \n",
    "    selcols = c(\"S6\", \"S7\", \"S8\")\n",
    "    # log2 RPM normalize counts\n",
    "    sim.cnts.norm = sim.cnts[, c(list(ID = ID, Gene = Gene),\n",
    "        lapply(.SD, function(x) log2(if_else(x==0, .1, .1*x)*1e6/sum(x)) )), \n",
    "        .SDcols = selcols]\n",
    "               \n",
    "    sim.dtS76 = makeDT(dt = sim.cnts[, .(ID, Gene, denom = S6, num = S7)],\n",
    "               dt.norm = sim.cnts.norm[, .(ID, Gene, denom = S6, num = S7)])\n",
    "    sim.rraS76 = list(RRA(sim.dtS76, enrichment = F))\n",
    "    sim.rraS76.l = c(sim.rraS76.l, sim.rraS76)\n",
    "}\n",
    "\n",
    "# get ecdf\n",
    "ecdf.S76 = ecdf(map(sim.rraS76.l, ~.x$rankscore) %>% flatten %>% unlist)\n",
    "\n",
    "# use ecdf to compute FDR value\n",
    "rraS76[, FDR := ecdf.S76(rankscore)]"
   ]
  },
  {
   "cell_type": "code",
   "execution_count": null,
   "id": "146fdcef-6d18-4614-8267-7537efbec142",
   "metadata": {},
   "outputs": [],
   "source": []
  },
  {
   "cell_type": "markdown",
   "id": "020e1aba-6599-474c-af93-e4a5f4572254",
   "metadata": {},
   "source": [
    "## Compare with hit list identified previously"
   ]
  },
  {
   "cell_type": "code",
   "execution_count": 695,
   "id": "86d205b0-da9f-456a-a518-a8b630bd6fcd",
   "metadata": {},
   "outputs": [],
   "source": [
    "hitlist = fread(\"../../resources/crispr/Hitlist_20191230.csv\")"
   ]
  },
  {
   "cell_type": "code",
   "execution_count": 696,
   "id": "2238f50b-c79f-459c-ac00-bab3dde05882",
   "metadata": {},
   "outputs": [
    {
     "data": {
      "text/html": [
       "<table class=\"dataframe\">\n",
       "<caption>A data.table: 2 × 2</caption>\n",
       "<thead>\n",
       "\t<tr><th scope=col>gene_name</th><th scope=col>hgnc_symbol</th></tr>\n",
       "\t<tr><th scope=col>&lt;chr&gt;</th><th scope=col>&lt;chr&gt;</th></tr>\n",
       "</thead>\n",
       "<tbody>\n",
       "\t<tr><td>PHOX2A</td><td>PHOX2A</td></tr>\n",
       "\t<tr><td>TAF1L </td><td>TAF1L </td></tr>\n",
       "</tbody>\n",
       "</table>\n"
      ],
      "text/latex": [
       "A data.table: 2 × 2\n",
       "\\begin{tabular}{ll}\n",
       " gene\\_name & hgnc\\_symbol\\\\\n",
       " <chr> & <chr>\\\\\n",
       "\\hline\n",
       "\t PHOX2A & PHOX2A\\\\\n",
       "\t TAF1L  & TAF1L \\\\\n",
       "\\end{tabular}\n"
      ],
      "text/markdown": [
       "\n",
       "A data.table: 2 × 2\n",
       "\n",
       "| gene_name &lt;chr&gt; | hgnc_symbol &lt;chr&gt; |\n",
       "|---|---|\n",
       "| PHOX2A | PHOX2A |\n",
       "| TAF1L  | TAF1L  |\n",
       "\n"
      ],
      "text/plain": [
       "  gene_name hgnc_symbol\n",
       "1 PHOX2A    PHOX2A     \n",
       "2 TAF1L     TAF1L      "
      ]
     },
     "metadata": {},
     "output_type": "display_data"
    }
   ],
   "source": [
    "hitlist[1:2]"
   ]
  },
  {
   "cell_type": "code",
   "execution_count": 702,
   "id": "71807943-d954-4714-b2ca-dbcd4ede0eb4",
   "metadata": {},
   "outputs": [],
   "source": [
    "# Generate 3 sets of 200 words\n",
    "set87 = rraS87[FDR < .1, Gene]\n",
    "set86 = rraS86[FDR < .1, Gene]\n",
    "set76 = rraS76[FDR < .1, Gene]\n",
    "\n",
    "# Helper function to display Venn diagram\n",
    "display_venn <- function(x, ...){\n",
    "  grid.newpage()\n",
    "  venn_object <- venn.diagram(x, filename = NULL, ...)\n",
    "  grid.draw(venn_object)\n",
    "}\n",
    "\n",
    "display_venn(x = list(set86, set87, hitlist$gene_name), \n",
    "             category = c(\"Td- vs iN\", \"Td- vs Td+\", \"Hits\"),\n",
    "             alpha = .7, fill = c(\"tomato1\", 'lightblue', 'lightgreen'),\n",
    "             cat.cex = 1.5, cex = 1.7, label.col = \"blue\"\n",
    "            )"
   ]
  },
  {
   "cell_type": "code",
   "execution_count": 703,
   "id": "07e3abe4-c87b-4277-be26-b2bafe58d134",
   "metadata": {},
   "outputs": [
    {
     "data": {
      "text/html": [
       "<style>\n",
       ".list-inline {list-style: none; margin:0; padding: 0}\n",
       ".list-inline>li {display: inline-block}\n",
       ".list-inline>li:not(:last-child)::after {content: \"\\00b7\"; padding: 0 .5ex}\n",
       "</style>\n",
       "<ol class=list-inline><li>'ZNF441'</li><li>'ZNF440'</li><li>'CRY1'</li><li>'E2F1'</li><li>'CDX4'</li><li>'BHLHA15'</li><li>'ZNF311'</li><li>'EGR3'</li><li>'ZIC1'</li><li>'NR1I2'</li><li>'ZNF250'</li><li>'ZNF639'</li><li>'PRDM6'</li><li>'DLX5'</li><li>'TOX4'</li><li>'THRA'</li><li>'BRWD1'</li><li>'CHD5'</li><li>'CBX4'</li><li>'VAX2'</li><li>'ZBTB18'</li><li>'RAI14'</li><li>'RBPJ'</li><li>'TSHZ3'</li><li>'NKX3-2'</li><li>'TAF1L'</li><li>'APBB2'</li><li>'SCRT2'</li><li>'HSFY1'</li><li>'ZNF136'</li><li>'EMX1'</li><li>'UBE2K'</li><li>'CTDP1'</li><li>'JUNB'</li><li>'MECP2'</li><li>'POLR2B'</li><li>'ZZZ3'</li><li>'NonTargeting_Human_22'</li><li>'ZNF554'</li><li>'KLF10'</li><li>'INSM1'</li><li>'MEOX2'</li><li>'ZNF671'</li><li>'NonTargeting_Human_90'</li><li>'SMAD3'</li><li>'EBF1'</li><li>'ZNF563'</li><li>'PAX7'</li><li>'ZNF141'</li><li>'ZFPM1'</li><li>'HIST1H2BC'</li><li>'JUND'</li><li>'HTATIP2'</li><li>'PRDM5'</li><li>'GATA1'</li><li>'TFEB'</li><li>'CREBZF'</li><li>'VGLL2'</li><li>'SKI'</li><li>'ZFY'</li><li>'HIF3A'</li><li>'NonTargeting_Human_13'</li><li>'ELK3'</li><li>'NonTargeting_Human_31'</li><li>'NonTargeting_Human_57'</li><li>'ZIM3'</li><li>'ARID1B'</li></ol>\n"
      ],
      "text/latex": [
       "\\begin{enumerate*}\n",
       "\\item 'ZNF441'\n",
       "\\item 'ZNF440'\n",
       "\\item 'CRY1'\n",
       "\\item 'E2F1'\n",
       "\\item 'CDX4'\n",
       "\\item 'BHLHA15'\n",
       "\\item 'ZNF311'\n",
       "\\item 'EGR3'\n",
       "\\item 'ZIC1'\n",
       "\\item 'NR1I2'\n",
       "\\item 'ZNF250'\n",
       "\\item 'ZNF639'\n",
       "\\item 'PRDM6'\n",
       "\\item 'DLX5'\n",
       "\\item 'TOX4'\n",
       "\\item 'THRA'\n",
       "\\item 'BRWD1'\n",
       "\\item 'CHD5'\n",
       "\\item 'CBX4'\n",
       "\\item 'VAX2'\n",
       "\\item 'ZBTB18'\n",
       "\\item 'RAI14'\n",
       "\\item 'RBPJ'\n",
       "\\item 'TSHZ3'\n",
       "\\item 'NKX3-2'\n",
       "\\item 'TAF1L'\n",
       "\\item 'APBB2'\n",
       "\\item 'SCRT2'\n",
       "\\item 'HSFY1'\n",
       "\\item 'ZNF136'\n",
       "\\item 'EMX1'\n",
       "\\item 'UBE2K'\n",
       "\\item 'CTDP1'\n",
       "\\item 'JUNB'\n",
       "\\item 'MECP2'\n",
       "\\item 'POLR2B'\n",
       "\\item 'ZZZ3'\n",
       "\\item 'NonTargeting\\_Human\\_22'\n",
       "\\item 'ZNF554'\n",
       "\\item 'KLF10'\n",
       "\\item 'INSM1'\n",
       "\\item 'MEOX2'\n",
       "\\item 'ZNF671'\n",
       "\\item 'NonTargeting\\_Human\\_90'\n",
       "\\item 'SMAD3'\n",
       "\\item 'EBF1'\n",
       "\\item 'ZNF563'\n",
       "\\item 'PAX7'\n",
       "\\item 'ZNF141'\n",
       "\\item 'ZFPM1'\n",
       "\\item 'HIST1H2BC'\n",
       "\\item 'JUND'\n",
       "\\item 'HTATIP2'\n",
       "\\item 'PRDM5'\n",
       "\\item 'GATA1'\n",
       "\\item 'TFEB'\n",
       "\\item 'CREBZF'\n",
       "\\item 'VGLL2'\n",
       "\\item 'SKI'\n",
       "\\item 'ZFY'\n",
       "\\item 'HIF3A'\n",
       "\\item 'NonTargeting\\_Human\\_13'\n",
       "\\item 'ELK3'\n",
       "\\item 'NonTargeting\\_Human\\_31'\n",
       "\\item 'NonTargeting\\_Human\\_57'\n",
       "\\item 'ZIM3'\n",
       "\\item 'ARID1B'\n",
       "\\end{enumerate*}\n"
      ],
      "text/markdown": [
       "1. 'ZNF441'\n",
       "2. 'ZNF440'\n",
       "3. 'CRY1'\n",
       "4. 'E2F1'\n",
       "5. 'CDX4'\n",
       "6. 'BHLHA15'\n",
       "7. 'ZNF311'\n",
       "8. 'EGR3'\n",
       "9. 'ZIC1'\n",
       "10. 'NR1I2'\n",
       "11. 'ZNF250'\n",
       "12. 'ZNF639'\n",
       "13. 'PRDM6'\n",
       "14. 'DLX5'\n",
       "15. 'TOX4'\n",
       "16. 'THRA'\n",
       "17. 'BRWD1'\n",
       "18. 'CHD5'\n",
       "19. 'CBX4'\n",
       "20. 'VAX2'\n",
       "21. 'ZBTB18'\n",
       "22. 'RAI14'\n",
       "23. 'RBPJ'\n",
       "24. 'TSHZ3'\n",
       "25. 'NKX3-2'\n",
       "26. 'TAF1L'\n",
       "27. 'APBB2'\n",
       "28. 'SCRT2'\n",
       "29. 'HSFY1'\n",
       "30. 'ZNF136'\n",
       "31. 'EMX1'\n",
       "32. 'UBE2K'\n",
       "33. 'CTDP1'\n",
       "34. 'JUNB'\n",
       "35. 'MECP2'\n",
       "36. 'POLR2B'\n",
       "37. 'ZZZ3'\n",
       "38. 'NonTargeting_Human_22'\n",
       "39. 'ZNF554'\n",
       "40. 'KLF10'\n",
       "41. 'INSM1'\n",
       "42. 'MEOX2'\n",
       "43. 'ZNF671'\n",
       "44. 'NonTargeting_Human_90'\n",
       "45. 'SMAD3'\n",
       "46. 'EBF1'\n",
       "47. 'ZNF563'\n",
       "48. 'PAX7'\n",
       "49. 'ZNF141'\n",
       "50. 'ZFPM1'\n",
       "51. 'HIST1H2BC'\n",
       "52. 'JUND'\n",
       "53. 'HTATIP2'\n",
       "54. 'PRDM5'\n",
       "55. 'GATA1'\n",
       "56. 'TFEB'\n",
       "57. 'CREBZF'\n",
       "58. 'VGLL2'\n",
       "59. 'SKI'\n",
       "60. 'ZFY'\n",
       "61. 'HIF3A'\n",
       "62. 'NonTargeting_Human_13'\n",
       "63. 'ELK3'\n",
       "64. 'NonTargeting_Human_31'\n",
       "65. 'NonTargeting_Human_57'\n",
       "66. 'ZIM3'\n",
       "67. 'ARID1B'\n",
       "\n",
       "\n"
      ],
      "text/plain": [
       " [1] \"ZNF441\"                \"ZNF440\"                \"CRY1\"                 \n",
       " [4] \"E2F1\"                  \"CDX4\"                  \"BHLHA15\"              \n",
       " [7] \"ZNF311\"                \"EGR3\"                  \"ZIC1\"                 \n",
       "[10] \"NR1I2\"                 \"ZNF250\"                \"ZNF639\"               \n",
       "[13] \"PRDM6\"                 \"DLX5\"                  \"TOX4\"                 \n",
       "[16] \"THRA\"                  \"BRWD1\"                 \"CHD5\"                 \n",
       "[19] \"CBX4\"                  \"VAX2\"                  \"ZBTB18\"               \n",
       "[22] \"RAI14\"                 \"RBPJ\"                  \"TSHZ3\"                \n",
       "[25] \"NKX3-2\"                \"TAF1L\"                 \"APBB2\"                \n",
       "[28] \"SCRT2\"                 \"HSFY1\"                 \"ZNF136\"               \n",
       "[31] \"EMX1\"                  \"UBE2K\"                 \"CTDP1\"                \n",
       "[34] \"JUNB\"                  \"MECP2\"                 \"POLR2B\"               \n",
       "[37] \"ZZZ3\"                  \"NonTargeting_Human_22\" \"ZNF554\"               \n",
       "[40] \"KLF10\"                 \"INSM1\"                 \"MEOX2\"                \n",
       "[43] \"ZNF671\"                \"NonTargeting_Human_90\" \"SMAD3\"                \n",
       "[46] \"EBF1\"                  \"ZNF563\"                \"PAX7\"                 \n",
       "[49] \"ZNF141\"                \"ZFPM1\"                 \"HIST1H2BC\"            \n",
       "[52] \"JUND\"                  \"HTATIP2\"               \"PRDM5\"                \n",
       "[55] \"GATA1\"                 \"TFEB\"                  \"CREBZF\"               \n",
       "[58] \"VGLL2\"                 \"SKI\"                   \"ZFY\"                  \n",
       "[61] \"HIF3A\"                 \"NonTargeting_Human_13\" \"ELK3\"                 \n",
       "[64] \"NonTargeting_Human_31\" \"NonTargeting_Human_57\" \"ZIM3\"                 \n",
       "[67] \"ARID1B\"               "
      ]
     },
     "metadata": {},
     "output_type": "display_data"
    }
   ],
   "source": [
    "rraS87[FDR < .1, Gene]"
   ]
  },
  {
   "cell_type": "code",
   "execution_count": 704,
   "id": "ccec7339-191d-4091-b091-a0919c3d3214",
   "metadata": {},
   "outputs": [
    {
     "data": {
      "text/html": [
       "74"
      ],
      "text/latex": [
       "74"
      ],
      "text/markdown": [
       "74"
      ],
      "text/plain": [
       "[1] 74"
      ]
     },
     "metadata": {},
     "output_type": "display_data"
    },
    {
     "data": {
      "text/html": [
       "<style>\n",
       ".list-inline {list-style: none; margin:0; padding: 0}\n",
       ".list-inline>li {display: inline-block}\n",
       ".list-inline>li:not(:last-child)::after {content: \"\\00b7\"; padding: 0 .5ex}\n",
       "</style>\n",
       "<ol class=list-inline><li>'ZNF441'</li><li>'ZNF440'</li><li>'CRY1'</li><li>'E2F1'</li><li>'CDX4'</li><li>'BHLHA15'</li><li>'ZNF311'</li><li>'EGR3'</li><li>'ZIC1'</li><li>'NR1I2'</li><li>'ZNF250'</li><li>'ZNF639'</li><li>'PRDM6'</li><li>'DLX5'</li><li>'TOX4'</li><li>'THRA'</li><li>'BRWD1'</li><li>'CHD5'</li><li>'CBX4'</li><li>'VAX2'</li><li>'ZBTB18'</li><li>'RAI14'</li><li>'RBPJ'</li><li>'TSHZ3'</li><li>'NKX3-2'</li><li>'TAF1L'</li><li>'APBB2'</li><li>'SCRT2'</li><li>'HSFY1'</li><li>'ZNF136'</li><li>'EMX1'</li><li>'UBE2K'</li><li>'CTDP1'</li><li>'JUNB'</li><li>'MECP2'</li><li>'POLR2B'</li><li>'ZZZ3'</li><li>'ZNF554'</li><li>'KLF10'</li><li>'INSM1'</li><li>'MEOX2'</li><li>'ZNF671'</li><li>'SMAD3'</li><li>'EBF1'</li><li>'ZNF563'</li><li>'PAX7'</li><li>'ZNF141'</li><li>'ZFPM1'</li><li>'HIST1H2BC'</li><li>'JUND'</li><li>'HTATIP2'</li><li>'PRDM5'</li><li>'GATA1'</li><li>'TFEB'</li><li>'CREBZF'</li><li>'VGLL2'</li><li>'SKI'</li><li>'ZFY'</li><li>'HIF3A'</li><li>'ELK3'</li><li>'ZIM3'</li><li>'ARID1B'</li><li>'ZNF510'</li><li>'ISL2'</li><li>'TSC22D3'</li><li>'ZNF239'</li><li>'PHF12'</li><li>'NFKBIB'</li><li>'SIX5'</li><li>'NEUROG3'</li><li>'PAX2'</li><li>'LHX4'</li><li>'CTNNB1'</li><li>'ZKSCAN3'</li></ol>\n"
      ],
      "text/latex": [
       "\\begin{enumerate*}\n",
       "\\item 'ZNF441'\n",
       "\\item 'ZNF440'\n",
       "\\item 'CRY1'\n",
       "\\item 'E2F1'\n",
       "\\item 'CDX4'\n",
       "\\item 'BHLHA15'\n",
       "\\item 'ZNF311'\n",
       "\\item 'EGR3'\n",
       "\\item 'ZIC1'\n",
       "\\item 'NR1I2'\n",
       "\\item 'ZNF250'\n",
       "\\item 'ZNF639'\n",
       "\\item 'PRDM6'\n",
       "\\item 'DLX5'\n",
       "\\item 'TOX4'\n",
       "\\item 'THRA'\n",
       "\\item 'BRWD1'\n",
       "\\item 'CHD5'\n",
       "\\item 'CBX4'\n",
       "\\item 'VAX2'\n",
       "\\item 'ZBTB18'\n",
       "\\item 'RAI14'\n",
       "\\item 'RBPJ'\n",
       "\\item 'TSHZ3'\n",
       "\\item 'NKX3-2'\n",
       "\\item 'TAF1L'\n",
       "\\item 'APBB2'\n",
       "\\item 'SCRT2'\n",
       "\\item 'HSFY1'\n",
       "\\item 'ZNF136'\n",
       "\\item 'EMX1'\n",
       "\\item 'UBE2K'\n",
       "\\item 'CTDP1'\n",
       "\\item 'JUNB'\n",
       "\\item 'MECP2'\n",
       "\\item 'POLR2B'\n",
       "\\item 'ZZZ3'\n",
       "\\item 'ZNF554'\n",
       "\\item 'KLF10'\n",
       "\\item 'INSM1'\n",
       "\\item 'MEOX2'\n",
       "\\item 'ZNF671'\n",
       "\\item 'SMAD3'\n",
       "\\item 'EBF1'\n",
       "\\item 'ZNF563'\n",
       "\\item 'PAX7'\n",
       "\\item 'ZNF141'\n",
       "\\item 'ZFPM1'\n",
       "\\item 'HIST1H2BC'\n",
       "\\item 'JUND'\n",
       "\\item 'HTATIP2'\n",
       "\\item 'PRDM5'\n",
       "\\item 'GATA1'\n",
       "\\item 'TFEB'\n",
       "\\item 'CREBZF'\n",
       "\\item 'VGLL2'\n",
       "\\item 'SKI'\n",
       "\\item 'ZFY'\n",
       "\\item 'HIF3A'\n",
       "\\item 'ELK3'\n",
       "\\item 'ZIM3'\n",
       "\\item 'ARID1B'\n",
       "\\item 'ZNF510'\n",
       "\\item 'ISL2'\n",
       "\\item 'TSC22D3'\n",
       "\\item 'ZNF239'\n",
       "\\item 'PHF12'\n",
       "\\item 'NFKBIB'\n",
       "\\item 'SIX5'\n",
       "\\item 'NEUROG3'\n",
       "\\item 'PAX2'\n",
       "\\item 'LHX4'\n",
       "\\item 'CTNNB1'\n",
       "\\item 'ZKSCAN3'\n",
       "\\end{enumerate*}\n"
      ],
      "text/markdown": [
       "1. 'ZNF441'\n",
       "2. 'ZNF440'\n",
       "3. 'CRY1'\n",
       "4. 'E2F1'\n",
       "5. 'CDX4'\n",
       "6. 'BHLHA15'\n",
       "7. 'ZNF311'\n",
       "8. 'EGR3'\n",
       "9. 'ZIC1'\n",
       "10. 'NR1I2'\n",
       "11. 'ZNF250'\n",
       "12. 'ZNF639'\n",
       "13. 'PRDM6'\n",
       "14. 'DLX5'\n",
       "15. 'TOX4'\n",
       "16. 'THRA'\n",
       "17. 'BRWD1'\n",
       "18. 'CHD5'\n",
       "19. 'CBX4'\n",
       "20. 'VAX2'\n",
       "21. 'ZBTB18'\n",
       "22. 'RAI14'\n",
       "23. 'RBPJ'\n",
       "24. 'TSHZ3'\n",
       "25. 'NKX3-2'\n",
       "26. 'TAF1L'\n",
       "27. 'APBB2'\n",
       "28. 'SCRT2'\n",
       "29. 'HSFY1'\n",
       "30. 'ZNF136'\n",
       "31. 'EMX1'\n",
       "32. 'UBE2K'\n",
       "33. 'CTDP1'\n",
       "34. 'JUNB'\n",
       "35. 'MECP2'\n",
       "36. 'POLR2B'\n",
       "37. 'ZZZ3'\n",
       "38. 'ZNF554'\n",
       "39. 'KLF10'\n",
       "40. 'INSM1'\n",
       "41. 'MEOX2'\n",
       "42. 'ZNF671'\n",
       "43. 'SMAD3'\n",
       "44. 'EBF1'\n",
       "45. 'ZNF563'\n",
       "46. 'PAX7'\n",
       "47. 'ZNF141'\n",
       "48. 'ZFPM1'\n",
       "49. 'HIST1H2BC'\n",
       "50. 'JUND'\n",
       "51. 'HTATIP2'\n",
       "52. 'PRDM5'\n",
       "53. 'GATA1'\n",
       "54. 'TFEB'\n",
       "55. 'CREBZF'\n",
       "56. 'VGLL2'\n",
       "57. 'SKI'\n",
       "58. 'ZFY'\n",
       "59. 'HIF3A'\n",
       "60. 'ELK3'\n",
       "61. 'ZIM3'\n",
       "62. 'ARID1B'\n",
       "63. 'ZNF510'\n",
       "64. 'ISL2'\n",
       "65. 'TSC22D3'\n",
       "66. 'ZNF239'\n",
       "67. 'PHF12'\n",
       "68. 'NFKBIB'\n",
       "69. 'SIX5'\n",
       "70. 'NEUROG3'\n",
       "71. 'PAX2'\n",
       "72. 'LHX4'\n",
       "73. 'CTNNB1'\n",
       "74. 'ZKSCAN3'\n",
       "\n",
       "\n"
      ],
      "text/plain": [
       " [1] \"ZNF441\"    \"ZNF440\"    \"CRY1\"      \"E2F1\"      \"CDX4\"      \"BHLHA15\"  \n",
       " [7] \"ZNF311\"    \"EGR3\"      \"ZIC1\"      \"NR1I2\"     \"ZNF250\"    \"ZNF639\"   \n",
       "[13] \"PRDM6\"     \"DLX5\"      \"TOX4\"      \"THRA\"      \"BRWD1\"     \"CHD5\"     \n",
       "[19] \"CBX4\"      \"VAX2\"      \"ZBTB18\"    \"RAI14\"     \"RBPJ\"      \"TSHZ3\"    \n",
       "[25] \"NKX3-2\"    \"TAF1L\"     \"APBB2\"     \"SCRT2\"     \"HSFY1\"     \"ZNF136\"   \n",
       "[31] \"EMX1\"      \"UBE2K\"     \"CTDP1\"     \"JUNB\"      \"MECP2\"     \"POLR2B\"   \n",
       "[37] \"ZZZ3\"      \"ZNF554\"    \"KLF10\"     \"INSM1\"     \"MEOX2\"     \"ZNF671\"   \n",
       "[43] \"SMAD3\"     \"EBF1\"      \"ZNF563\"    \"PAX7\"      \"ZNF141\"    \"ZFPM1\"    \n",
       "[49] \"HIST1H2BC\" \"JUND\"      \"HTATIP2\"   \"PRDM5\"     \"GATA1\"     \"TFEB\"     \n",
       "[55] \"CREBZF\"    \"VGLL2\"     \"SKI\"       \"ZFY\"       \"HIF3A\"     \"ELK3\"     \n",
       "[61] \"ZIM3\"      \"ARID1B\"    \"ZNF510\"    \"ISL2\"      \"TSC22D3\"   \"ZNF239\"   \n",
       "[67] \"PHF12\"     \"NFKBIB\"    \"SIX5\"      \"NEUROG3\"   \"PAX2\"      \"LHX4\"     \n",
       "[73] \"CTNNB1\"    \"ZKSCAN3\"  "
      ]
     },
     "metadata": {},
     "output_type": "display_data"
    }
   ],
   "source": [
    "intersect(union(set87, set86), hitlist$gene_name) %>% length\n",
    "intersect(union(set87, set86), hitlist$gene_name)"
   ]
  },
  {
   "cell_type": "code",
   "execution_count": null,
   "id": "bd7a27c7-5258-4e8d-b358-43440a4c531b",
   "metadata": {},
   "outputs": [],
   "source": []
  },
  {
   "cell_type": "code",
   "execution_count": null,
   "id": "a2208bf9-1577-4c53-887f-24dd535bce10",
   "metadata": {},
   "outputs": [],
   "source": []
  }
 ],
 "metadata": {
  "kernelspec": {
   "display_name": "R 4.1.0",
   "language": "R",
   "name": "r41"
  },
  "language_info": {
   "codemirror_mode": "r",
   "file_extension": ".r",
   "mimetype": "text/x-r-source",
   "name": "R",
   "pygments_lexer": "r",
   "version": "4.1.0"
  }
 },
 "nbformat": 4,
 "nbformat_minor": 5
}
