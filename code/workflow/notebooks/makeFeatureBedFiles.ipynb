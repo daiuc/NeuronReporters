{
 "cells": [
  {
   "cell_type": "code",
   "execution_count": 1,
   "id": "89415612-2707-44e7-868e-755eb72fc2e1",
   "metadata": {},
   "outputs": [],
   "source": [
    "suppressMessages(library(tidyverse))\n",
    "suppressMessages(library(data.table))"
   ]
  },
  {
   "cell_type": "code",
   "execution_count": 2,
   "id": "566dceee-b3dc-452d-a97a-04ce4f2b7b21",
   "metadata": {},
   "outputs": [
    {
     "data": {
      "text/html": [
       "'/gpfs/commons/groups/sanjana_lab/cdai/NeuronReporters/code/workflow/notebooks'"
      ],
      "text/latex": [
       "'/gpfs/commons/groups/sanjana\\_lab/cdai/NeuronReporters/code/workflow/notebooks'"
      ],
      "text/markdown": [
       "'/gpfs/commons/groups/sanjana_lab/cdai/NeuronReporters/code/workflow/notebooks'"
      ],
      "text/plain": [
       "[1] \"/gpfs/commons/groups/sanjana_lab/cdai/NeuronReporters/code/workflow/notebooks\""
      ]
     },
     "metadata": {},
     "output_type": "display_data"
    }
   ],
   "source": [
    "getwd()"
   ]
  },
  {
   "cell_type": "code",
   "execution_count": 3,
   "id": "1867a1b6-e8da-4d0c-9d43-2fcd2524ff90",
   "metadata": {},
   "outputs": [],
   "source": [
    "setwd(\"/gpfs/commons/groups/sanjana_lab/cdai/NeuronReporters/code\")"
   ]
  },
  {
   "cell_type": "code",
   "execution_count": 4,
   "id": "f42ff290-270d-4566-8783-e050b0775d70",
   "metadata": {},
   "outputs": [],
   "source": [
    "gtf = fread(\"resources/annotations/hs38/gencode_refseq_partial_modified_geneNames_ID_20191230.csv\")"
   ]
  },
  {
   "cell_type": "code",
   "execution_count": 5,
   "id": "1981b7cd-d76f-4c4a-91e5-7713d0f7b4b6",
   "metadata": {},
   "outputs": [
    {
     "data": {
      "text/html": [
       "<table class=\"dataframe\">\n",
       "<caption>A data.table: 6 × 2</caption>\n",
       "<thead>\n",
       "\t<tr><th scope=col>gene_name</th><th scope=col>gene_id</th></tr>\n",
       "\t<tr><th scope=col>&lt;chr&gt;</th><th scope=col>&lt;chr&gt;</th></tr>\n",
       "</thead>\n",
       "<tbody>\n",
       "\t<tr><td>DDX11L1    </td><td>ENSG00000223972.5</td></tr>\n",
       "\t<tr><td>WASH7P     </td><td>ENSG00000227232.5</td></tr>\n",
       "\t<tr><td>MIR6859-1  </td><td>ENSG00000278267.1</td></tr>\n",
       "\t<tr><td>MIR1302-2HG</td><td>ENSG00000243485.5</td></tr>\n",
       "\t<tr><td>MIR1302-2  </td><td>ENSG00000284332.1</td></tr>\n",
       "\t<tr><td>FAM138A    </td><td>ENSG00000237613.2</td></tr>\n",
       "</tbody>\n",
       "</table>\n"
      ],
      "text/latex": [
       "A data.table: 6 × 2\n",
       "\\begin{tabular}{ll}\n",
       " gene\\_name & gene\\_id\\\\\n",
       " <chr> & <chr>\\\\\n",
       "\\hline\n",
       "\t DDX11L1     & ENSG00000223972.5\\\\\n",
       "\t WASH7P      & ENSG00000227232.5\\\\\n",
       "\t MIR6859-1   & ENSG00000278267.1\\\\\n",
       "\t MIR1302-2HG & ENSG00000243485.5\\\\\n",
       "\t MIR1302-2   & ENSG00000284332.1\\\\\n",
       "\t FAM138A     & ENSG00000237613.2\\\\\n",
       "\\end{tabular}\n"
      ],
      "text/markdown": [
       "\n",
       "A data.table: 6 × 2\n",
       "\n",
       "| gene_name &lt;chr&gt; | gene_id &lt;chr&gt; |\n",
       "|---|---|\n",
       "| DDX11L1     | ENSG00000223972.5 |\n",
       "| WASH7P      | ENSG00000227232.5 |\n",
       "| MIR6859-1   | ENSG00000278267.1 |\n",
       "| MIR1302-2HG | ENSG00000243485.5 |\n",
       "| MIR1302-2   | ENSG00000284332.1 |\n",
       "| FAM138A     | ENSG00000237613.2 |\n",
       "\n"
      ],
      "text/plain": [
       "  gene_name   gene_id          \n",
       "1 DDX11L1     ENSG00000223972.5\n",
       "2 WASH7P      ENSG00000227232.5\n",
       "3 MIR6859-1   ENSG00000278267.1\n",
       "4 MIR1302-2HG ENSG00000243485.5\n",
       "5 MIR1302-2   ENSG00000284332.1\n",
       "6 FAM138A     ENSG00000237613.2"
      ]
     },
     "metadata": {},
     "output_type": "display_data"
    }
   ],
   "source": [
    "head(gtf)"
   ]
  },
  {
   "cell_type": "code",
   "execution_count": null,
   "id": "e36b0251-5f56-4568-a3d7-2b645300a52a",
   "metadata": {},
   "outputs": [],
   "source": []
  }
 ],
 "metadata": {
  "kernelspec": {
   "display_name": "R 4.1.0",
   "language": "R",
   "name": "r41"
  },
  "language_info": {
   "codemirror_mode": "r",
   "file_extension": ".r",
   "mimetype": "text/x-r-source",
   "name": "R",
   "pygments_lexer": "r",
   "version": "4.1.0"
  }
 },
 "nbformat": 4,
 "nbformat_minor": 5
}
