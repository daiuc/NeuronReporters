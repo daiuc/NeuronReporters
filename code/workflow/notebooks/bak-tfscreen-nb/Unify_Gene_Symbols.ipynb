{
 "cells": [
  {
   "cell_type": "markdown",
   "metadata": {},
   "source": [
    "### The purpose of this notebook is to unify gene symbols. The reasons are: \n",
    "- Our CRISPR library uses gene symbols that are mostly consistent with HGNC gene symbols, but some gene symbols had been renamed in HGNC\n",
    "- All of our ATACseq and RNAseq data are aligned to Gencode hg38 v31, thus the gene symbols are mostly ensembl names, and they are not consistent with HGNC\n",
    "- JASPAR 2020 gene symbols are consistent with HGNC approved gene symbols\n",
    "\n",
    "### Thus, all gene symbols (where possible) are unified to HGNC approved symbols.\n",
    "\n",
    "### Note: not all gene symboles can be mapped to HGNC. Notably about 1000 Gencode genes are not mappable, and are kept with its original Gencode symbol.\n",
    "\n",
    "- downloaded **HGNC symbols**\n",
    "`/c/groups/sanjana_lab/cdai/TFscreen/gene_names_lookup.txt`\n",
    "\n",
    "- symbol updated **Hit** list genes: \n",
    "`/c/groups/sanjana_lab/cdai/TFscreen/Hitlist_20191230.csv`\n",
    "\n",
    "- symbol updated **TF** list genes:\n",
    "`/c/groups/sanjana_lab/cdai/TFscreen/TFlist_20191230.csv`\n",
    "\n",
    "- symbol updated **gene annotation**:\n",
    "`/c/groups/sanjana_lab/cdai/TFscreen/Protein_coding_genes_Up_2k_20191230.bed`"
   ]
  },
  {
   "cell_type": "code",
   "execution_count": 4,
   "metadata": {},
   "outputs": [
    {
     "name": "stderr",
     "output_type": "stream",
     "text": [
      "── \u001b[1mAttaching packages\u001b[22m ─────────────────────────────────────── tidyverse 1.3.0 ──\n",
      "\n",
      "\u001b[32m✔\u001b[39m \u001b[34mggplot2\u001b[39m 3.2.1     \u001b[32m✔\u001b[39m \u001b[34mpurrr  \u001b[39m 0.3.3\n",
      "\u001b[32m✔\u001b[39m \u001b[34mtibble \u001b[39m 2.1.3     \u001b[32m✔\u001b[39m \u001b[34mdplyr  \u001b[39m 0.8.3\n",
      "\u001b[32m✔\u001b[39m \u001b[34mtidyr  \u001b[39m 1.0.0     \u001b[32m✔\u001b[39m \u001b[34mstringr\u001b[39m 1.4.0\n",
      "\u001b[32m✔\u001b[39m \u001b[34mreadr  \u001b[39m 1.3.1     \u001b[32m✔\u001b[39m \u001b[34mforcats\u001b[39m 0.4.0\n",
      "\n",
      "── \u001b[1mConflicts\u001b[22m ────────────────────────────────────────── tidyverse_conflicts() ──\n",
      "\u001b[31m✖\u001b[39m \u001b[34mdplyr\u001b[39m::\u001b[32mfilter()\u001b[39m masks \u001b[34mstats\u001b[39m::filter()\n",
      "\u001b[31m✖\u001b[39m \u001b[34mdplyr\u001b[39m::\u001b[32mlag()\u001b[39m    masks \u001b[34mstats\u001b[39m::lag()\n",
      "\n"
     ]
    }
   ],
   "source": [
    "library(tidyverse)"
   ]
  },
  {
   "cell_type": "code",
   "execution_count": 4,
   "metadata": {},
   "outputs": [],
   "source": [
    "setwd(\"/c/groups/sanjana_lab/cdai/TFscreen/\")"
   ]
  },
  {
   "cell_type": "code",
   "execution_count": 5,
   "metadata": {},
   "outputs": [
    {
     "data": {
      "text/html": [
       "'Protein_coding_genes.txt'"
      ],
      "text/latex": [
       "'Protein\\_coding\\_genes.txt'"
      ],
      "text/markdown": [
       "'Protein_coding_genes.txt'"
      ],
      "text/plain": [
       "[1] \"Protein_coding_genes.txt\""
      ]
     },
     "metadata": {},
     "output_type": "display_data"
    }
   ],
   "source": [
    "list.files(\".\", \".txt\")"
   ]
  },
  {
   "cell_type": "markdown",
   "metadata": {},
   "source": [
    "`gene_names_lookup.txt` was downloaded from HGNC genenames.org"
   ]
  },
  {
   "cell_type": "code",
   "execution_count": 6,
   "metadata": {},
   "outputs": [],
   "source": [
    "# HGNC gene symbols, downloaded from genenames.org)\n",
    "suppressMessages(gene.name.lookup <- read_delim(\"/c/groups/sanjana_lab/cdai/TFscreen/gene_names_lookup.txt\", delim=\"\\t\"))\n",
    "names(gene.name.lookup) <- names(gene.name.lookup) %>% str_replace_all(\" \", \"_\")"
   ]
  },
  {
   "cell_type": "markdown",
   "metadata": {},
   "source": [
    "---"
   ]
  },
  {
   "cell_type": "markdown",
   "metadata": {},
   "source": [
    "## Fix Hitlist"
   ]
  },
  {
   "cell_type": "code",
   "execution_count": 417,
   "metadata": {},
   "outputs": [],
   "source": [
    "hitlist <- read.csv('/c/groups//sanjana_lab/cdai/TFscreen/HS_td-VStd+_td-VSdox120.csv', header = F, stringsAsFactors = F) %>% pull\n",
    "hitlist <- c(hitlist, c('NEUROG1', 'NEUROG2')) # adding NERUOG1/2 to hit list"
   ]
  },
  {
   "cell_type": "code",
   "execution_count": 418,
   "metadata": {},
   "outputs": [],
   "source": [
    "hitlist_in <- hitlist[hitlist %in% gene.name.lookup$Approved_symbol]\n",
    "hitlist_out <- hitlist[! hitlist %in% gene.name.lookup$Approved_symbol]"
   ]
  },
  {
   "cell_type": "code",
   "execution_count": 427,
   "metadata": {},
   "outputs": [],
   "source": [
    "# rematch genes that have changed names in hgnc\n",
    "hitlist_out_matched <- map(hitlist_out, ~ filter(gene.name.lookup, str_detect(Previous_symbols, paste0(\"^\", .x, \"$\")) | \n",
    "                        str_detect(Previous_symbols, paste0(\"[, ]{1}\", .x, \"$\")) | \n",
    "                        str_detect(Previous_symbols, paste0(\"^\", .x, \"[, ]{1}\")) |\n",
    "                        str_detect(Previous_symbols, paste0(\"[, ]{1}\", .x, \"[, ]{1}\")))$Approved_symbol[1]) %>% unlist\n",
    "\n",
    "# save a new copy of tf names\n",
    "hitlist <- rbind(data.frame(\"gene_name\" = hitlist_in, \"hgnc_symbol\" = hitlist_in, stringsAsFactors=F), data.frame(\"gene_name\" = hitlist_out, \"hgnc_symbol\" = hitlist_out_matched, stringsAsFactors=F)) %>% \n",
    "    filter(!is.na(hgnc_symbol))"
   ]
  },
  {
   "cell_type": "raw",
   "metadata": {},
   "source": [
    "write_csv(hitlist, \"Hitlist_20191230.csv\", col_names=T)"
   ]
  },
  {
   "cell_type": "markdown",
   "metadata": {},
   "source": [
    "---"
   ]
  },
  {
   "cell_type": "markdown",
   "metadata": {},
   "source": [
    "## Fix TFlist gene names, these are the genes in CRISPR screen data"
   ]
  },
  {
   "cell_type": "code",
   "execution_count": 405,
   "metadata": {},
   "outputs": [],
   "source": [
    "tflist <- read.csv('TFlist_20191118.csv', stringsAsFactors = F, col.names='gene_name') %>% pull(gene_name)\n",
    "\n",
    "# find out which genes have a match in HGNC symbol\n",
    "tflist_in <- tflist[tflist %in% gene.name.lookup$Approved_symbol]\n",
    "tflist_out <- tflist[! tflist %in% gene.name.lookup$Approved_symbol]\n",
    "\n",
    "# rematch genes that have changed names in hgnc\n",
    "tflist_out_matched <- map(tflist_out, ~ filter(gene.name.lookup, str_detect(Previous_symbols, paste0(\"^\", .x, \"$\")) | \n",
    "                        str_detect(Previous_symbols, paste0(\"[, ]{1}\", .x, \"$\")) | \n",
    "                        str_detect(Previous_symbols, paste0(\"^\", .x, \"[, ]{1}\")) |\n",
    "                        str_detect(Previous_symbols, paste0(\"[, ]{1}\", .x, \"[, ]{1}\")))$Approved_symbol[1]) %>% unlist\n",
    "\n",
    "# save a new copy of tf names\n",
    "tflist <- rbind(data.frame(\"gene_name\" = tflist_in, \"hgnc_symbol\" = tflist_in, stringsAsFactors=F), data.frame(\"gene_name\" = tflist_out, \"hgnc_symbol\" = tflist_out_matched, stringsAsFactors=F)) %>% \n",
    "    filter(!is.na(hgnc_symbol))"
   ]
  },
  {
   "cell_type": "raw",
   "metadata": {},
   "source": [
    "write_csv(tflist, \"TFlist_20191230.csv\", col_names=T)"
   ]
  },
  {
   "cell_type": "markdown",
   "metadata": {},
   "source": [
    "---"
   ]
  },
  {
   "cell_type": "markdown",
   "metadata": {},
   "source": [
    "## Fix protein coding gene annotation bed files"
   ]
  },
  {
   "cell_type": "code",
   "execution_count": 439,
   "metadata": {},
   "outputs": [],
   "source": [
    "gene_region <- read.table(\"atac/Protein_coding_genes_Up_2k.bed\", header = F, stringsAsFactors = F, \n",
    "                              col.names = c(\"seqname\",\"start\",\"end\",\"gene_id\",\"gene_name\",\"strand\")) %>% \n",
    "                                dplyr::select(seqname, start, end, strand, gene_id, gene_name)"
   ]
  },
  {
   "cell_type": "code",
   "execution_count": 440,
   "metadata": {},
   "outputs": [],
   "source": [
    "# remove \".\\d+[_A-Z]*\" from gene_id\n",
    "gene_region[['gene_id2']] <- gene_region$gene_id %>% str_remove(., \"[\\\\.]+[0-9]+[_A-Z]*\")"
   ]
  },
  {
   "cell_type": "code",
   "execution_count": 441,
   "metadata": {},
   "outputs": [],
   "source": [
    "# remove genes with \"[_A-Z]\" in gene_id\n",
    "gene_region <- filter(gene_region, ! str_detect(gene_id, \"_PAR\"))"
   ]
  },
  {
   "cell_type": "code",
   "execution_count": 442,
   "metadata": {},
   "outputs": [],
   "source": [
    "# left_join hgnc gene symbols, if there's a match based on gene_id then use HGNC approved gene symbol, \n",
    "# otherwise use original GENCODE gene symbol\n",
    "gene_region <- left_join(gene_region, gene.name.lookup[, c(1,5)], by = c(\"gene_id2\" = \"Ensembl_gene_ID\")) %>% \n",
    "    mutate(\"hgnc_symbol\" = if_else(is.na(Approved_symbol), gene_name, Approved_symbol)) "
   ]
  },
  {
   "cell_type": "code",
   "execution_count": 443,
   "metadata": {},
   "outputs": [
    {
     "name": "stdout",
     "output_type": "stream",
     "text": [
      "'data.frame':\t19944 obs. of  9 variables:\n",
      " $ seqname        : chr  \"chr1\" \"chr1\" \"chr1\" \"chr1\" ...\n",
      " $ start          : int  63419 450703 685679 921928 944203 958584 964497 975204 998962 999138 ...\n",
      " $ end            : int  71585 453697 688673 944581 961309 965719 975865 984093 1002172 1014540 ...\n",
      " $ strand         : chr  \"+\" \"-\" \"-\" \"+\" ...\n",
      " $ gene_id        : chr  \"ENSG00000186092.6\" \"ENSG00000284733.1\" \"ENSG00000284662.1\" \"ENSG00000187634.12\" ...\n",
      " $ gene_name      : chr  \"OR4F5\" \"OR4F29\" \"OR4F16\" \"SAMD11\" ...\n",
      " $ gene_id2       : chr  \"ENSG00000186092\" \"ENSG00000284733\" \"ENSG00000284662\" \"ENSG00000187634\" ...\n",
      " $ Approved_symbol: chr  \"OR4F5\" \"OR4F29\" \"OR4F16\" \"SAMD11\" ...\n",
      " $ hgnc_symbol    : chr  \"OR4F5\" \"OR4F29\" \"OR4F16\" \"SAMD11\" ...\n"
     ]
    }
   ],
   "source": [
    "gene_region %>% str"
   ]
  },
  {
   "cell_type": "raw",
   "metadata": {},
   "source": [
    "gene_region %>% select(seqname, start, end, gene_id2, hgnc_symbol, strand) %>%\n",
    "    write.table(\"atac/Protein_coding_genes_Up_2k_20191230.bed\", sep=\"\\t\", quote=F, row.names=F, col.names=F)"
   ]
  },
  {
   "cell_type": "markdown",
   "metadata": {},
   "source": [
    "---"
   ]
  },
  {
   "cell_type": "markdown",
   "metadata": {},
   "source": [
    "## Fix Gencode GTF data frame annotation"
   ]
  },
  {
   "cell_type": "code",
   "execution_count": 5,
   "metadata": {},
   "outputs": [],
   "source": [
    "setwd(\"/c/groups/sanjana_lab/cdai/TFscreen/atac/annotations\")"
   ]
  },
  {
   "cell_type": "code",
   "execution_count": 16,
   "metadata": {},
   "outputs": [],
   "source": [
    "gencode_gtf <- read.table(\"/c/groups/sanjana_lab/cdai/ref_genome/gencode.v31.primary_assembly.annotation.pandas.df.txt\", header=T, sep=\"\\t\", stringsAsFactors=F)"
   ]
  },
  {
   "cell_type": "code",
   "execution_count": 7,
   "metadata": {},
   "outputs": [
    {
     "data": {
      "text/html": [
       "<table>\n",
       "<caption>A data.frame: 6 × 25</caption>\n",
       "<thead>\n",
       "\t<tr><th></th><th scope=col>seqname</th><th scope=col>source</th><th scope=col>feature</th><th scope=col>start</th><th scope=col>end</th><th scope=col>score</th><th scope=col>strand</th><th scope=col>frame</th><th scope=col>gene_id</th><th scope=col>gene_type</th><th scope=col>⋯</th><th scope=col>transcript_type</th><th scope=col>transcript_name</th><th scope=col>transcript_support_level</th><th scope=col>tag</th><th scope=col>havana_transcript</th><th scope=col>exon_number</th><th scope=col>exon_id</th><th scope=col>ont</th><th scope=col>protein_id</th><th scope=col>ccdsid</th></tr>\n",
       "\t<tr><th></th><th scope=col>&lt;chr&gt;</th><th scope=col>&lt;chr&gt;</th><th scope=col>&lt;chr&gt;</th><th scope=col>&lt;int&gt;</th><th scope=col>&lt;int&gt;</th><th scope=col>&lt;lgl&gt;</th><th scope=col>&lt;chr&gt;</th><th scope=col>&lt;int&gt;</th><th scope=col>&lt;chr&gt;</th><th scope=col>&lt;chr&gt;</th><th scope=col>⋯</th><th scope=col>&lt;chr&gt;</th><th scope=col>&lt;chr&gt;</th><th scope=col>&lt;int&gt;</th><th scope=col>&lt;chr&gt;</th><th scope=col>&lt;chr&gt;</th><th scope=col>&lt;int&gt;</th><th scope=col>&lt;chr&gt;</th><th scope=col>&lt;chr&gt;</th><th scope=col>&lt;chr&gt;</th><th scope=col>&lt;chr&gt;</th></tr>\n",
       "</thead>\n",
       "<tbody>\n",
       "\t<tr><th scope=row>1</th><td>chr1</td><td>HAVANA</td><td>gene      </td><td>11869</td><td>14409</td><td>NA</td><td>+</td><td>0</td><td>ENSG00000223972.5</td><td>transcribed_unprocessed_pseudogene</td><td>⋯</td><td>                                  </td><td>           </td><td>NA</td><td>     </td><td>                    </td><td>NA</td><td>                 </td><td>                       </td><td></td><td></td></tr>\n",
       "\t<tr><th scope=row>2</th><td>chr1</td><td>HAVANA</td><td>transcript</td><td>11869</td><td>14409</td><td>NA</td><td>+</td><td>0</td><td>ENSG00000223972.5</td><td>transcribed_unprocessed_pseudogene</td><td>⋯</td><td>lncRNA                            </td><td>DDX11L1-202</td><td> 1</td><td>basic</td><td>OTTHUMT00000362751.1</td><td>NA</td><td>                 </td><td>                       </td><td></td><td></td></tr>\n",
       "\t<tr><th scope=row>3</th><td>chr1</td><td>HAVANA</td><td>exon      </td><td>11869</td><td>12227</td><td>NA</td><td>+</td><td>0</td><td>ENSG00000223972.5</td><td>transcribed_unprocessed_pseudogene</td><td>⋯</td><td>lncRNA                            </td><td>DDX11L1-202</td><td> 1</td><td>basic</td><td>OTTHUMT00000362751.1</td><td> 1</td><td>ENSE00002234944.1</td><td>                       </td><td></td><td></td></tr>\n",
       "\t<tr><th scope=row>4</th><td>chr1</td><td>HAVANA</td><td>exon      </td><td>12613</td><td>12721</td><td>NA</td><td>+</td><td>0</td><td>ENSG00000223972.5</td><td>transcribed_unprocessed_pseudogene</td><td>⋯</td><td>lncRNA                            </td><td>DDX11L1-202</td><td> 1</td><td>basic</td><td>OTTHUMT00000362751.1</td><td> 2</td><td>ENSE00003582793.1</td><td>                       </td><td></td><td></td></tr>\n",
       "\t<tr><th scope=row>5</th><td>chr1</td><td>HAVANA</td><td>exon      </td><td>13221</td><td>14409</td><td>NA</td><td>+</td><td>0</td><td>ENSG00000223972.5</td><td>transcribed_unprocessed_pseudogene</td><td>⋯</td><td>lncRNA                            </td><td>DDX11L1-202</td><td> 1</td><td>basic</td><td>OTTHUMT00000362751.1</td><td> 3</td><td>ENSE00002312635.1</td><td>                       </td><td></td><td></td></tr>\n",
       "\t<tr><th scope=row>6</th><td>chr1</td><td>HAVANA</td><td>transcript</td><td>12010</td><td>13670</td><td>NA</td><td>+</td><td>0</td><td>ENSG00000223972.5</td><td>transcribed_unprocessed_pseudogene</td><td>⋯</td><td>transcribed_unprocessed_pseudogene</td><td>DDX11L1-201</td><td>NA</td><td>basic</td><td>OTTHUMT00000002844.2</td><td>NA</td><td>                 </td><td>PGO:0000005,PGO:0000019</td><td></td><td></td></tr>\n",
       "</tbody>\n",
       "</table>\n"
      ],
      "text/latex": [
       "A data.frame: 6 × 25\n",
       "\\begin{tabular}{r|lllllllllllllllllllll}\n",
       "  & seqname & source & feature & start & end & score & strand & frame & gene\\_id & gene\\_type & ⋯ & transcript\\_type & transcript\\_name & transcript\\_support\\_level & tag & havana\\_transcript & exon\\_number & exon\\_id & ont & protein\\_id & ccdsid\\\\\n",
       "  & <chr> & <chr> & <chr> & <int> & <int> & <lgl> & <chr> & <int> & <chr> & <chr> & ⋯ & <chr> & <chr> & <int> & <chr> & <chr> & <int> & <chr> & <chr> & <chr> & <chr>\\\\\n",
       "\\hline\n",
       "\t1 & chr1 & HAVANA & gene       & 11869 & 14409 & NA & + & 0 & ENSG00000223972.5 & transcribed\\_unprocessed\\_pseudogene & ⋯ &                                    &             & NA &       &                      & NA &                   &                         &  & \\\\\n",
       "\t2 & chr1 & HAVANA & transcript & 11869 & 14409 & NA & + & 0 & ENSG00000223972.5 & transcribed\\_unprocessed\\_pseudogene & ⋯ & lncRNA                             & DDX11L1-202 &  1 & basic & OTTHUMT00000362751.1 & NA &                   &                         &  & \\\\\n",
       "\t3 & chr1 & HAVANA & exon       & 11869 & 12227 & NA & + & 0 & ENSG00000223972.5 & transcribed\\_unprocessed\\_pseudogene & ⋯ & lncRNA                             & DDX11L1-202 &  1 & basic & OTTHUMT00000362751.1 &  1 & ENSE00002234944.1 &                         &  & \\\\\n",
       "\t4 & chr1 & HAVANA & exon       & 12613 & 12721 & NA & + & 0 & ENSG00000223972.5 & transcribed\\_unprocessed\\_pseudogene & ⋯ & lncRNA                             & DDX11L1-202 &  1 & basic & OTTHUMT00000362751.1 &  2 & ENSE00003582793.1 &                         &  & \\\\\n",
       "\t5 & chr1 & HAVANA & exon       & 13221 & 14409 & NA & + & 0 & ENSG00000223972.5 & transcribed\\_unprocessed\\_pseudogene & ⋯ & lncRNA                             & DDX11L1-202 &  1 & basic & OTTHUMT00000362751.1 &  3 & ENSE00002312635.1 &                         &  & \\\\\n",
       "\t6 & chr1 & HAVANA & transcript & 12010 & 13670 & NA & + & 0 & ENSG00000223972.5 & transcribed\\_unprocessed\\_pseudogene & ⋯ & transcribed\\_unprocessed\\_pseudogene & DDX11L1-201 & NA & basic & OTTHUMT00000002844.2 & NA &                   & PGO:0000005,PGO:0000019 &  & \\\\\n",
       "\\end{tabular}\n"
      ],
      "text/markdown": [
       "\n",
       "A data.frame: 6 × 25\n",
       "\n",
       "| <!--/--> | seqname &lt;chr&gt; | source &lt;chr&gt; | feature &lt;chr&gt; | start &lt;int&gt; | end &lt;int&gt; | score &lt;lgl&gt; | strand &lt;chr&gt; | frame &lt;int&gt; | gene_id &lt;chr&gt; | gene_type &lt;chr&gt; | ⋯ ⋯ | transcript_type &lt;chr&gt; | transcript_name &lt;chr&gt; | transcript_support_level &lt;int&gt; | tag &lt;chr&gt; | havana_transcript &lt;chr&gt; | exon_number &lt;int&gt; | exon_id &lt;chr&gt; | ont &lt;chr&gt; | protein_id &lt;chr&gt; | ccdsid &lt;chr&gt; |\n",
       "|---|---|---|---|---|---|---|---|---|---|---|---|---|---|---|---|---|---|---|---|---|---|\n",
       "| 1 | chr1 | HAVANA | gene       | 11869 | 14409 | NA | + | 0 | ENSG00000223972.5 | transcribed_unprocessed_pseudogene | ⋯ | <!----> | <!----> | NA | <!----> | <!----> | NA | <!----> | <!----> | <!----> | <!----> |\n",
       "| 2 | chr1 | HAVANA | transcript | 11869 | 14409 | NA | + | 0 | ENSG00000223972.5 | transcribed_unprocessed_pseudogene | ⋯ | lncRNA                             | DDX11L1-202 |  1 | basic | OTTHUMT00000362751.1 | NA | <!----> | <!----> | <!----> | <!----> |\n",
       "| 3 | chr1 | HAVANA | exon       | 11869 | 12227 | NA | + | 0 | ENSG00000223972.5 | transcribed_unprocessed_pseudogene | ⋯ | lncRNA                             | DDX11L1-202 |  1 | basic | OTTHUMT00000362751.1 |  1 | ENSE00002234944.1 | <!----> | <!----> | <!----> |\n",
       "| 4 | chr1 | HAVANA | exon       | 12613 | 12721 | NA | + | 0 | ENSG00000223972.5 | transcribed_unprocessed_pseudogene | ⋯ | lncRNA                             | DDX11L1-202 |  1 | basic | OTTHUMT00000362751.1 |  2 | ENSE00003582793.1 | <!----> | <!----> | <!----> |\n",
       "| 5 | chr1 | HAVANA | exon       | 13221 | 14409 | NA | + | 0 | ENSG00000223972.5 | transcribed_unprocessed_pseudogene | ⋯ | lncRNA                             | DDX11L1-202 |  1 | basic | OTTHUMT00000362751.1 |  3 | ENSE00002312635.1 | <!----> | <!----> | <!----> |\n",
       "| 6 | chr1 | HAVANA | transcript | 12010 | 13670 | NA | + | 0 | ENSG00000223972.5 | transcribed_unprocessed_pseudogene | ⋯ | transcribed_unprocessed_pseudogene | DDX11L1-201 | NA | basic | OTTHUMT00000002844.2 | NA | <!----> | PGO:0000005,PGO:0000019 | <!----> | <!----> |\n",
       "\n"
      ],
      "text/plain": [
       "  seqname source feature    start end   score strand frame gene_id          \n",
       "1 chr1    HAVANA gene       11869 14409 NA    +      0     ENSG00000223972.5\n",
       "2 chr1    HAVANA transcript 11869 14409 NA    +      0     ENSG00000223972.5\n",
       "3 chr1    HAVANA exon       11869 12227 NA    +      0     ENSG00000223972.5\n",
       "4 chr1    HAVANA exon       12613 12721 NA    +      0     ENSG00000223972.5\n",
       "5 chr1    HAVANA exon       13221 14409 NA    +      0     ENSG00000223972.5\n",
       "6 chr1    HAVANA transcript 12010 13670 NA    +      0     ENSG00000223972.5\n",
       "  gene_type                          ⋯ transcript_type                   \n",
       "1 transcribed_unprocessed_pseudogene ⋯                                   \n",
       "2 transcribed_unprocessed_pseudogene ⋯ lncRNA                            \n",
       "3 transcribed_unprocessed_pseudogene ⋯ lncRNA                            \n",
       "4 transcribed_unprocessed_pseudogene ⋯ lncRNA                            \n",
       "5 transcribed_unprocessed_pseudogene ⋯ lncRNA                            \n",
       "6 transcribed_unprocessed_pseudogene ⋯ transcribed_unprocessed_pseudogene\n",
       "  transcript_name transcript_support_level tag   havana_transcript   \n",
       "1                 NA                                                 \n",
       "2 DDX11L1-202      1                       basic OTTHUMT00000362751.1\n",
       "3 DDX11L1-202      1                       basic OTTHUMT00000362751.1\n",
       "4 DDX11L1-202      1                       basic OTTHUMT00000362751.1\n",
       "5 DDX11L1-202      1                       basic OTTHUMT00000362751.1\n",
       "6 DDX11L1-201     NA                       basic OTTHUMT00000002844.2\n",
       "  exon_number exon_id           ont                     protein_id ccdsid\n",
       "1 NA                                                                     \n",
       "2 NA                                                                     \n",
       "3  1          ENSE00002234944.1                                          \n",
       "4  2          ENSE00003582793.1                                          \n",
       "5  3          ENSE00002312635.1                                          \n",
       "6 NA                            PGO:0000005,PGO:0000019                  "
      ]
     },
     "metadata": {},
     "output_type": "display_data"
    }
   ],
   "source": [
    "head(gencode_gtf)"
   ]
  },
  {
   "cell_type": "code",
   "execution_count": 17,
   "metadata": {},
   "outputs": [],
   "source": [
    "gencode_gtf <- filter(gencode_gtf, ! str_detect(gene_id, \"_PAR\"))\n",
    "gencode_gtf <- mutate(gencode_gtf, \"gene_id2\" = str_remove(gene_id,  \"[\\\\.]+[0-9]+[_A-Z]*\"))\n",
    "gencode_gtf <- left_join(gencode_gtf, gene.name.lookup[, c(1,5)], by = c(\"gene_id2\"=\"Ensembl_gene_ID\")) %>%\n",
    "        mutate(\"hgnc_symbol\" = if_else(is.na(Approved_symbol), gene_name, Approved_symbol))"
   ]
  },
  {
   "cell_type": "code",
   "execution_count": 19,
   "metadata": {},
   "outputs": [],
   "source": [
    "write.table(gencode_gtf, \"/c/groups/sanjana_lab/cdai/ref_genome/gencode.v31.primary_assembly.annotation.pandas.df.txt\", quote = F, sep = \"\\t\", row.names = F, col.names = T)"
   ]
  },
  {
   "cell_type": "code",
   "execution_count": null,
   "metadata": {},
   "outputs": [],
   "source": []
  },
  {
   "cell_type": "code",
   "execution_count": null,
   "metadata": {},
   "outputs": [],
   "source": []
  },
  {
   "cell_type": "code",
   "execution_count": null,
   "metadata": {},
   "outputs": [],
   "source": []
  },
  {
   "cell_type": "code",
   "execution_count": null,
   "metadata": {},
   "outputs": [],
   "source": []
  },
  {
   "cell_type": "code",
   "execution_count": null,
   "metadata": {},
   "outputs": [],
   "source": []
  },
  {
   "cell_type": "markdown",
   "metadata": {},
   "source": [
    "---"
   ]
  },
  {
   "cell_type": "markdown",
   "metadata": {},
   "source": [
    "## Fix gene names used for RNA seq analysis"
   ]
  },
  {
   "cell_type": "raw",
   "metadata": {},
   "source": [
    "gtf_lookup <- read.csv('gencode_refseq_partial_modified_geneNames_ID.csv', stringsAsFactors=F) #gencode gene_id to gene_name lookup"
   ]
  },
  {
   "cell_type": "code",
   "execution_count": 478,
   "metadata": {},
   "outputs": [],
   "source": [
    "# remove \".\\d+[_A-Z]*\" from gene_id\n",
    "gtf_lookup[['gene_id2']] <- gtf_lookup$gene_id %>% str_remove(., \"[\\\\.]+[0-9]+[_A-Z]*\")\n",
    "\n",
    "# remove genes with \"[_A-Z]\" in gene_id\n",
    "gtf_lookup <- filter(gtf_lookup, ! str_detect(gene_id, \"_PAR\"))\n",
    "\n",
    "# left_join hgnc gene symbols, if there's a match based on gene_id then use HGNC approved gene symbol, \n",
    "# otherwise use original GENCODE gene symbol\n",
    "gtf_lookup <- left_join(gtf_lookup, gene.name.lookup[, c(1,5)], by = c(\"gene_id2\" = \"Ensembl_gene_ID\")) %>% \n",
    "    mutate(\"hgnc_symbol\" = if_else(is.na(Approved_symbol), gene_name, Approved_symbol)) \n",
    "\n",
    "gtf_lookup <- gtf_lookup %>% select(hgnc_symbol, gene_id) %>% rename(\"gene_name\"=\"hgnc_symbol\")"
   ]
  },
  {
   "cell_type": "code",
   "execution_count": 485,
   "metadata": {},
   "outputs": [],
   "source": [
    "write.table(gtf_lookup, \"gencode_refseq_partial_modified_geneNames_ID_20191230.csv\", sep=\",\", quote=F, row.names=F, col.names=T)"
   ]
  },
  {
   "cell_type": "markdown",
   "metadata": {},
   "source": [
    "---"
   ]
  },
  {
   "cell_type": "markdown",
   "metadata": {},
   "source": [
    "*The End*"
   ]
  }
 ],
 "metadata": {
  "kernelspec": {
   "display_name": "R3.6",
   "language": "R",
   "name": "ir36"
  },
  "language_info": {
   "codemirror_mode": "r",
   "file_extension": ".r",
   "mimetype": "text/x-r-source",
   "name": "R",
   "pygments_lexer": "r",
   "version": "3.6.1"
  }
 },
 "nbformat": 4,
 "nbformat_minor": 2
}
