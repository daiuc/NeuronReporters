{
 "cells": [
  {
   "cell_type": "code",
   "execution_count": 1,
   "id": "7fc9c4fd-f278-419c-b6ab-321812a03516",
   "metadata": {},
   "outputs": [
    {
     "name": "stderr",
     "output_type": "stream",
     "text": [
      "── \u001b[1mAttaching packages\u001b[22m ───────────────────────────────────────────────────────────────────────────────────────────────────────────────────────────────────────────────────────────────────────────────────────────────────── tidyverse 1.3.0 ──\n",
      "\n",
      "\u001b[32m✔\u001b[39m \u001b[34mggplot2\u001b[39m 3.3.5     \u001b[32m✔\u001b[39m \u001b[34mpurrr  \u001b[39m 0.3.4\n",
      "\u001b[32m✔\u001b[39m \u001b[34mtibble \u001b[39m 3.1.3     \u001b[32m✔\u001b[39m \u001b[34mdplyr  \u001b[39m 1.0.7\n",
      "\u001b[32m✔\u001b[39m \u001b[34mtidyr  \u001b[39m 1.1.3     \u001b[32m✔\u001b[39m \u001b[34mstringr\u001b[39m 1.4.0\n",
      "\u001b[32m✔\u001b[39m \u001b[34mreadr  \u001b[39m 2.0.0     \u001b[32m✔\u001b[39m \u001b[34mforcats\u001b[39m 0.5.1\n",
      "\n",
      "── \u001b[1mConflicts\u001b[22m ──────────────────────────────────────────────────────────────────────────────────────────────────────────────────────────────────────────────────────────────────────────────────────────────────────── tidyverse_conflicts() ──\n",
      "\u001b[31m✖\u001b[39m \u001b[34mdplyr\u001b[39m::\u001b[32mfilter()\u001b[39m masks \u001b[34mstats\u001b[39m::filter()\n",
      "\u001b[31m✖\u001b[39m \u001b[34mdplyr\u001b[39m::\u001b[32mlag()\u001b[39m    masks \u001b[34mstats\u001b[39m::lag()\n",
      "\n"
     ]
    }
   ],
   "source": [
    "library(tidyverse)"
   ]
  },
  {
   "cell_type": "code",
   "execution_count": 6,
   "id": "50a90de1-f43b-4388-82a8-2cfff679f631",
   "metadata": {},
   "outputs": [],
   "source": [
    "setwd(\"~/cdai/TFscreen/\")"
   ]
  },
  {
   "cell_type": "code",
   "execution_count": 9,
   "id": "57162685-3492-4d93-85d3-aeea040341b9",
   "metadata": {},
   "outputs": [],
   "source": [
    "i1 = data.table::fread(\"Interaction_matrix_nofilter_AllTF_20200107.csv\")"
   ]
  },
  {
   "cell_type": "code",
   "execution_count": 12,
   "id": "5f2d54aa-c2cd-4321-8fe4-c3d941e1514f",
   "metadata": {},
   "outputs": [
    {
     "name": "stdout",
     "output_type": "stream",
     "text": [
      "Classes ‘data.table’ and 'data.frame':\t217560 obs. of  38 variables:\n",
      " $ regulator_gene: chr  \"AR\" \"AR\" \"AR\" \"AR\" ...\n",
      " $ target_gene   : chr  \"ABTB1\" \"ADNP2\" \"AEBP2\" \"AFF3\" ...\n",
      " $ atac.ES       : num  6.59 3.95 3.68 6.94 2.14 ...\n",
      " $ atac.H16      : num  6.05 3.82 3.23 7.35 2.82 ...\n",
      " $ atac.D1       : num  6.03 3.68 3.16 6.44 2.43 ...\n",
      " $ atac.D4       : num  6.08 4.22 2.53 7.49 1.41 ...\n",
      " $ tar.ge.ES     : num  1.594 9.098 8.107 0.834 1.766 ...\n",
      " $ tar.ge.H16    : num  1.14 9.29 6.03 2.1 1.9 ...\n",
      " $ tar.ge.D1     : num  0.914 11.299 5.254 2.59 1.332 ...\n",
      " $ tar.ge.D4     : num  2.23 5.95 4.77 8.47 0.88 ...\n",
      " $ corr          : num  0.225 -0.983 0.897 0.545 0.83 ...\n",
      " $ cor_p         : num  0.7749 0.0175 0.1033 0.4552 0.1704 ...\n",
      " $ l2fc.H16      : num  -0.2051 -0.1498 -0.7205 1.4894 -0.0967 ...\n",
      " $ l2fc.D1       : num  -0.679 0.372 -0.977 2.392 -0.69 ...\n",
      " $ l2fc.D4       : num  1.14 -1.52 -1.5 5.33 -2.12 ...\n",
      " $ fdr.H16       : num  0.959 0.856 0.316 0.178 0.979 ...\n",
      " $ fdr.D1        : num  0.71373 0.41188 0.09203 0.00545 0.65983 ...\n",
      " $ fdr.D4        : num  3.84e-01 2.43e-07 1.22e-03 2.54e-14 4.79e-02 ...\n",
      " $ atac.cnt.ES   : int  284 102 50 84 30 288 32 224 96 20 ...\n",
      " $ atac.cnt.H16  : int  242 94 34 90 50 328 40 236 94 24 ...\n",
      " $ atac.cnt.D1   : int  415 154 60 129 69 598 48 390 158 33 ...\n",
      " $ atac.cnt.D4   : int  354 170 31 144 19 293 12 352 92 14 ...\n",
      " $ reg.cnt.ES    : int  68 68 68 68 68 68 68 68 68 68 ...\n",
      " $ reg.cnt.H16   : int  47 47 47 47 47 47 47 47 47 47 ...\n",
      " $ reg.cnt.D1    : int  46 46 46 46 46 46 46 46 46 46 ...\n",
      " $ reg.cnt.D4    : int  7 7 7 7 7 7 7 7 7 7 ...\n",
      " $ tar.cnt.ES    : int  16 512 406 5 22 8 972 44 1 59 ...\n",
      " $ tar.cnt.H16   : int  11 573 245 30 25 11 889 47 4 61 ...\n",
      " $ tar.cnt.D1    : int  10 805 204 60 20 2 848 35 1 95 ...\n",
      " $ tar.cnt.D4    : int  27 180 120 391 4 11 729 47 0 114 ...\n",
      " $ reg.l2fc.H16  : num  -0.508 -0.508 -0.508 -0.508 -0.508 ...\n",
      " $ reg.l2fc.D1   : num  -0.486 -0.486 -0.486 -0.486 -0.486 ...\n",
      " $ reg.l2fc.D4   : num  -3.24 -3.24 -3.24 -3.24 -3.24 ...\n",
      " $ reg.fdr.H16   : num  0.765 0.765 0.765 0.765 0.765 ...\n",
      " $ reg.fdr.D1    : num  0.698 0.698 0.698 0.698 0.698 ...\n",
      " $ reg.fdr.D4    : num  3.53e-05 3.53e-05 3.53e-05 3.53e-05 3.53e-05 ...\n",
      " $ reg.isHit     : logi  FALSE FALSE FALSE FALSE FALSE FALSE ...\n",
      " $ tar.isHit     : logi  FALSE FALSE FALSE FALSE TRUE FALSE ...\n",
      " - attr(*, \".internal.selfref\")=<externalptr> \n"
     ]
    }
   ],
   "source": [
    "str(i1)"
   ]
  },
  {
   "cell_type": "code",
   "execution_count": 10,
   "id": "4917a7bb-f5b3-43ec-8084-b9eaba4ff2d2",
   "metadata": {},
   "outputs": [
    {
     "data": {
      "text/html": [
       "<table class=\"dataframe\">\n",
       "<caption>A data.table: 6 × 38</caption>\n",
       "<thead>\n",
       "\t<tr><th scope=col>regulator_gene</th><th scope=col>target_gene</th><th scope=col>atac.ES</th><th scope=col>atac.H16</th><th scope=col>atac.D1</th><th scope=col>atac.D4</th><th scope=col>tar.ge.ES</th><th scope=col>tar.ge.H16</th><th scope=col>tar.ge.D1</th><th scope=col>tar.ge.D4</th><th scope=col>⋯</th><th scope=col>tar.cnt.D1</th><th scope=col>tar.cnt.D4</th><th scope=col>reg.l2fc.H16</th><th scope=col>reg.l2fc.D1</th><th scope=col>reg.l2fc.D4</th><th scope=col>reg.fdr.H16</th><th scope=col>reg.fdr.D1</th><th scope=col>reg.fdr.D4</th><th scope=col>reg.isHit</th><th scope=col>tar.isHit</th></tr>\n",
       "\t<tr><th scope=col>&lt;chr&gt;</th><th scope=col>&lt;chr&gt;</th><th scope=col>&lt;dbl&gt;</th><th scope=col>&lt;dbl&gt;</th><th scope=col>&lt;dbl&gt;</th><th scope=col>&lt;dbl&gt;</th><th scope=col>&lt;dbl&gt;</th><th scope=col>&lt;dbl&gt;</th><th scope=col>&lt;dbl&gt;</th><th scope=col>&lt;dbl&gt;</th><th scope=col>⋯</th><th scope=col>&lt;int&gt;</th><th scope=col>&lt;int&gt;</th><th scope=col>&lt;dbl&gt;</th><th scope=col>&lt;dbl&gt;</th><th scope=col>&lt;dbl&gt;</th><th scope=col>&lt;dbl&gt;</th><th scope=col>&lt;dbl&gt;</th><th scope=col>&lt;dbl&gt;</th><th scope=col>&lt;lgl&gt;</th><th scope=col>&lt;lgl&gt;</th></tr>\n",
       "</thead>\n",
       "<tbody>\n",
       "\t<tr><td>AR</td><td>ABTB1</td><td>6.585393</td><td>6.045427</td><td>6.030358</td><td>6.084846</td><td>1.5938046</td><td>1.140030</td><td> 0.9142180</td><td>2.2346859</td><td>⋯</td><td> 10</td><td> 27</td><td>-0.507919</td><td>-0.4858691</td><td>-3.236964</td><td>0.7647186</td><td>0.6979496</td><td>3.529782e-05</td><td>FALSE</td><td>FALSE</td></tr>\n",
       "\t<tr><td>AR</td><td>ADNP2</td><td>3.945854</td><td>3.821774</td><td>3.677170</td><td>4.218503</td><td>9.0984955</td><td>9.291882</td><td>11.2987994</td><td>5.9482094</td><td>⋯</td><td>805</td><td>180</td><td>-0.507919</td><td>-0.4858691</td><td>-3.236964</td><td>0.7647186</td><td>0.6979496</td><td>3.529782e-05</td><td>FALSE</td><td>FALSE</td></tr>\n",
       "\t<tr><td>AR</td><td>AEBP2</td><td>3.677928</td><td>3.229206</td><td>3.158372</td><td>2.531105</td><td>8.1074589</td><td>6.034633</td><td> 5.2540640</td><td>4.7743804</td><td>⋯</td><td>204</td><td>120</td><td>-0.507919</td><td>-0.4858691</td><td>-3.236964</td><td>0.7647186</td><td>0.6979496</td><td>3.529782e-05</td><td>FALSE</td><td>FALSE</td></tr>\n",
       "\t<tr><td>AR</td><td>AFF3 </td><td>6.944645</td><td>7.350014</td><td>6.438632</td><td>7.494586</td><td>0.8340168</td><td>2.101545</td><td> 2.5902853</td><td>8.4704284</td><td>⋯</td><td> 60</td><td>391</td><td>-0.507919</td><td>-0.4858691</td><td>-3.236964</td><td>0.7647186</td><td>0.6979496</td><td>3.529782e-05</td><td>FALSE</td><td>FALSE</td></tr>\n",
       "\t<tr><td>AR</td><td>AHR  </td><td>2.143387</td><td>2.824849</td><td>2.431383</td><td>1.406017</td><td>1.7661186</td><td>1.901913</td><td> 1.3321688</td><td>0.8802291</td><td>⋯</td><td> 20</td><td>  4</td><td>-0.507919</td><td>-0.4858691</td><td>-3.236964</td><td>0.7647186</td><td>0.6979496</td><td>3.529782e-05</td><td>FALSE</td><td> TRUE</td></tr>\n",
       "\t<tr><td>AR</td><td>ALX1 </td><td>6.624906</td><td>7.051463</td><td>7.140238</td><td>5.533048</td><td>0.9768808</td><td>1.167612</td><td> 0.3451996</td><td>1.0828398</td><td>⋯</td><td>  2</td><td> 11</td><td>-0.507919</td><td>-0.4858691</td><td>-3.236964</td><td>0.7647186</td><td>0.6979496</td><td>3.529782e-05</td><td>FALSE</td><td>FALSE</td></tr>\n",
       "</tbody>\n",
       "</table>\n"
      ],
      "text/latex": [
       "A data.table: 6 × 38\n",
       "\\begin{tabular}{lllllllllllllllllllll}\n",
       " regulator\\_gene & target\\_gene & atac.ES & atac.H16 & atac.D1 & atac.D4 & tar.ge.ES & tar.ge.H16 & tar.ge.D1 & tar.ge.D4 & ⋯ & tar.cnt.D1 & tar.cnt.D4 & reg.l2fc.H16 & reg.l2fc.D1 & reg.l2fc.D4 & reg.fdr.H16 & reg.fdr.D1 & reg.fdr.D4 & reg.isHit & tar.isHit\\\\\n",
       " <chr> & <chr> & <dbl> & <dbl> & <dbl> & <dbl> & <dbl> & <dbl> & <dbl> & <dbl> & ⋯ & <int> & <int> & <dbl> & <dbl> & <dbl> & <dbl> & <dbl> & <dbl> & <lgl> & <lgl>\\\\\n",
       "\\hline\n",
       "\t AR & ABTB1 & 6.585393 & 6.045427 & 6.030358 & 6.084846 & 1.5938046 & 1.140030 &  0.9142180 & 2.2346859 & ⋯ &  10 &  27 & -0.507919 & -0.4858691 & -3.236964 & 0.7647186 & 0.6979496 & 3.529782e-05 & FALSE & FALSE\\\\\n",
       "\t AR & ADNP2 & 3.945854 & 3.821774 & 3.677170 & 4.218503 & 9.0984955 & 9.291882 & 11.2987994 & 5.9482094 & ⋯ & 805 & 180 & -0.507919 & -0.4858691 & -3.236964 & 0.7647186 & 0.6979496 & 3.529782e-05 & FALSE & FALSE\\\\\n",
       "\t AR & AEBP2 & 3.677928 & 3.229206 & 3.158372 & 2.531105 & 8.1074589 & 6.034633 &  5.2540640 & 4.7743804 & ⋯ & 204 & 120 & -0.507919 & -0.4858691 & -3.236964 & 0.7647186 & 0.6979496 & 3.529782e-05 & FALSE & FALSE\\\\\n",
       "\t AR & AFF3  & 6.944645 & 7.350014 & 6.438632 & 7.494586 & 0.8340168 & 2.101545 &  2.5902853 & 8.4704284 & ⋯ &  60 & 391 & -0.507919 & -0.4858691 & -3.236964 & 0.7647186 & 0.6979496 & 3.529782e-05 & FALSE & FALSE\\\\\n",
       "\t AR & AHR   & 2.143387 & 2.824849 & 2.431383 & 1.406017 & 1.7661186 & 1.901913 &  1.3321688 & 0.8802291 & ⋯ &  20 &   4 & -0.507919 & -0.4858691 & -3.236964 & 0.7647186 & 0.6979496 & 3.529782e-05 & FALSE &  TRUE\\\\\n",
       "\t AR & ALX1  & 6.624906 & 7.051463 & 7.140238 & 5.533048 & 0.9768808 & 1.167612 &  0.3451996 & 1.0828398 & ⋯ &   2 &  11 & -0.507919 & -0.4858691 & -3.236964 & 0.7647186 & 0.6979496 & 3.529782e-05 & FALSE & FALSE\\\\\n",
       "\\end{tabular}\n"
      ],
      "text/markdown": [
       "\n",
       "A data.table: 6 × 38\n",
       "\n",
       "| regulator_gene &lt;chr&gt; | target_gene &lt;chr&gt; | atac.ES &lt;dbl&gt; | atac.H16 &lt;dbl&gt; | atac.D1 &lt;dbl&gt; | atac.D4 &lt;dbl&gt; | tar.ge.ES &lt;dbl&gt; | tar.ge.H16 &lt;dbl&gt; | tar.ge.D1 &lt;dbl&gt; | tar.ge.D4 &lt;dbl&gt; | ⋯ ⋯ | tar.cnt.D1 &lt;int&gt; | tar.cnt.D4 &lt;int&gt; | reg.l2fc.H16 &lt;dbl&gt; | reg.l2fc.D1 &lt;dbl&gt; | reg.l2fc.D4 &lt;dbl&gt; | reg.fdr.H16 &lt;dbl&gt; | reg.fdr.D1 &lt;dbl&gt; | reg.fdr.D4 &lt;dbl&gt; | reg.isHit &lt;lgl&gt; | tar.isHit &lt;lgl&gt; |\n",
       "|---|---|---|---|---|---|---|---|---|---|---|---|---|---|---|---|---|---|---|---|---|\n",
       "| AR | ABTB1 | 6.585393 | 6.045427 | 6.030358 | 6.084846 | 1.5938046 | 1.140030 |  0.9142180 | 2.2346859 | ⋯ |  10 |  27 | -0.507919 | -0.4858691 | -3.236964 | 0.7647186 | 0.6979496 | 3.529782e-05 | FALSE | FALSE |\n",
       "| AR | ADNP2 | 3.945854 | 3.821774 | 3.677170 | 4.218503 | 9.0984955 | 9.291882 | 11.2987994 | 5.9482094 | ⋯ | 805 | 180 | -0.507919 | -0.4858691 | -3.236964 | 0.7647186 | 0.6979496 | 3.529782e-05 | FALSE | FALSE |\n",
       "| AR | AEBP2 | 3.677928 | 3.229206 | 3.158372 | 2.531105 | 8.1074589 | 6.034633 |  5.2540640 | 4.7743804 | ⋯ | 204 | 120 | -0.507919 | -0.4858691 | -3.236964 | 0.7647186 | 0.6979496 | 3.529782e-05 | FALSE | FALSE |\n",
       "| AR | AFF3  | 6.944645 | 7.350014 | 6.438632 | 7.494586 | 0.8340168 | 2.101545 |  2.5902853 | 8.4704284 | ⋯ |  60 | 391 | -0.507919 | -0.4858691 | -3.236964 | 0.7647186 | 0.6979496 | 3.529782e-05 | FALSE | FALSE |\n",
       "| AR | AHR   | 2.143387 | 2.824849 | 2.431383 | 1.406017 | 1.7661186 | 1.901913 |  1.3321688 | 0.8802291 | ⋯ |  20 |   4 | -0.507919 | -0.4858691 | -3.236964 | 0.7647186 | 0.6979496 | 3.529782e-05 | FALSE |  TRUE |\n",
       "| AR | ALX1  | 6.624906 | 7.051463 | 7.140238 | 5.533048 | 0.9768808 | 1.167612 |  0.3451996 | 1.0828398 | ⋯ |   2 |  11 | -0.507919 | -0.4858691 | -3.236964 | 0.7647186 | 0.6979496 | 3.529782e-05 | FALSE | FALSE |\n",
       "\n"
      ],
      "text/plain": [
       "  regulator_gene target_gene atac.ES  atac.H16 atac.D1  atac.D4  tar.ge.ES\n",
       "1 AR             ABTB1       6.585393 6.045427 6.030358 6.084846 1.5938046\n",
       "2 AR             ADNP2       3.945854 3.821774 3.677170 4.218503 9.0984955\n",
       "3 AR             AEBP2       3.677928 3.229206 3.158372 2.531105 8.1074589\n",
       "4 AR             AFF3        6.944645 7.350014 6.438632 7.494586 0.8340168\n",
       "5 AR             AHR         2.143387 2.824849 2.431383 1.406017 1.7661186\n",
       "6 AR             ALX1        6.624906 7.051463 7.140238 5.533048 0.9768808\n",
       "  tar.ge.H16 tar.ge.D1  tar.ge.D4 ⋯ tar.cnt.D1 tar.cnt.D4 reg.l2fc.H16\n",
       "1 1.140030    0.9142180 2.2346859 ⋯  10         27        -0.507919   \n",
       "2 9.291882   11.2987994 5.9482094 ⋯ 805        180        -0.507919   \n",
       "3 6.034633    5.2540640 4.7743804 ⋯ 204        120        -0.507919   \n",
       "4 2.101545    2.5902853 8.4704284 ⋯  60        391        -0.507919   \n",
       "5 1.901913    1.3321688 0.8802291 ⋯  20          4        -0.507919   \n",
       "6 1.167612    0.3451996 1.0828398 ⋯   2         11        -0.507919   \n",
       "  reg.l2fc.D1 reg.l2fc.D4 reg.fdr.H16 reg.fdr.D1 reg.fdr.D4   reg.isHit\n",
       "1 -0.4858691  -3.236964   0.7647186   0.6979496  3.529782e-05 FALSE    \n",
       "2 -0.4858691  -3.236964   0.7647186   0.6979496  3.529782e-05 FALSE    \n",
       "3 -0.4858691  -3.236964   0.7647186   0.6979496  3.529782e-05 FALSE    \n",
       "4 -0.4858691  -3.236964   0.7647186   0.6979496  3.529782e-05 FALSE    \n",
       "5 -0.4858691  -3.236964   0.7647186   0.6979496  3.529782e-05 FALSE    \n",
       "6 -0.4858691  -3.236964   0.7647186   0.6979496  3.529782e-05 FALSE    \n",
       "  tar.isHit\n",
       "1 FALSE    \n",
       "2 FALSE    \n",
       "3 FALSE    \n",
       "4 FALSE    \n",
       "5  TRUE    \n",
       "6 FALSE    "
      ]
     },
     "metadata": {},
     "output_type": "display_data"
    }
   ],
   "source": [
    "head(i1)"
   ]
  },
  {
   "cell_type": "code",
   "execution_count": null,
   "id": "d56e7568-1eb6-4711-b01b-bd0f05c56ec4",
   "metadata": {},
   "outputs": [],
   "source": []
  }
 ],
 "metadata": {
  "kernelspec": {
   "display_name": "R3.6",
   "language": "R",
   "name": "ir36"
  },
  "language_info": {
   "codemirror_mode": "r",
   "file_extension": ".r",
   "mimetype": "text/x-r-source",
   "name": "R",
   "pygments_lexer": "r",
   "version": "3.6.1"
  }
 },
 "nbformat": 4,
 "nbformat_minor": 5
}
