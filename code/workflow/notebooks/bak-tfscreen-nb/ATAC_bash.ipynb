{
 "cells": [
  {
   "cell_type": "markdown",
   "metadata": {},
   "source": [
    "# ATAC-seq Data Analysis"
   ]
  },
  {
   "cell_type": "markdown",
   "metadata": {},
   "source": [
    "---"
   ]
  },
  {
   "cell_type": "markdown",
   "metadata": {},
   "source": [
    "## Quest 1: subset aligned bams and normalize by sample\n",
    "\n",
    "Such that, each sample (not replicate) has the same amount of PE reads. \n",
    "\n",
    "1. Start with `bwa` produced bams, filter in only properly aligned reads.\n",
    "\n",
    "2. Find out minimum number of properly aligned reads of all samples, and use that number to subset the bams.\n",
    "\n",
    "**PERTINENT SCRIPTS:**\n",
    "\n",
    "`filter_bam.py`: Filter a pair-end BAM file such that either read1 or read2 has MAPQ >= threshold. BAMs must be sorted by name, with READ1 and READ2 having the same qname and right next to each other.\n",
    "\n",
    "`filter_bam.sh`: First filter original \\*.sorted.bam to include only properly paired alignments (-f 2). Then sort bams by name (`samtools sort -n`). Final saved bams are called `*.PE.mapq20.subset.bam`.\n",
    "\n",
    "Output files:\n",
    "- `ATAC*.sorted.bam`: Alignment files produced from `bwa`. **Initial bam.**\n",
    "- `ATAC*.PE.bam`: Properly paired alignments sorted by chr\n",
    "- `ATAC*.PE.sortbyname.bam`: Properly paired alignments sorted by name\n",
    "- `ATAC*.PE.filtered.bam`: Properly paired alignments with mapq > threshold (20)\n",
    "- **`ATAC*.PE.mapq.bam`**: Properly paired alignments with **mapq > threshold** and **sorted by chr**. **Final ouput.**\n",
    "\n",
    "**SUBSAMPLING BAMS:**\n",
    "\n",
    "The goal is to make sure every sample has the same amount of paired end reads with mapq above threshold. Read numbers within two replicates can vary. Thus, based on total number of alignments in each `*.filtered.bam`, the total number of reads per sample we should set is `14,000,000`. Most bams (A1-A6,A9,A10) can take `7,000,000` per replicate, except `A7: 6,700,000, A8: 7,300,000, A11:7,200,000, A12: 6,800,000`\n",
    "\n",
    "- subsampled are `ATAC*.PE.subset.bam`"
   ]
  },
  {
   "cell_type": "code",
   "execution_count": 7,
   "metadata": {},
   "outputs": [],
   "source": [
    "cd /c/groups/sanjana_lab/cdai/TFscreen/atac/bams_v3"
   ]
  },
  {
   "cell_type": "code",
   "execution_count": 11,
   "metadata": {},
   "outputs": [],
   "source": [
    "# count number of reads for each bam \n",
    "# wc -l is used to decide how to subset each bam file\n",
    "if [[ -e readCounts_of_PE_mapq_filtered_bam.txt ]] ; then\n",
    "    truncate -s 0 readCounts_of_PE_mapq_filtered_bam.txt\n",
    "fi\n",
    "PE_mapq_bams=(*.PE.filtered.bam)\n",
    "for p in ${PE_mapq_bams[@]}; do\n",
    "    wc -l $p >> readCounts_of_PE_mapq_filtered_bam.txt\n",
    "done"
   ]
  },
  {
   "cell_type": "code",
   "execution_count": 6,
   "metadata": {},
   "outputs": [],
   "source": [
    "# count number of reads for each bam \n",
    "# wc -l is used to decide how to subset each bam file\n",
    "if [[ -e readCounts_of_PE_mapq_bam.txt ]] ; then\n",
    "    truncate -s 0 readCounts_of_PE_mapq_bam.txt\n",
    "fi\n",
    "PE_mapq_bams=(*.PE.mapq.bam)\n",
    "for p in ${PE_mapq_bams[@]}; do\n",
    "    wc -l $p >> readCounts_of_PE_mapq_bam.txt\n",
    "done"
   ]
  },
  {
   "cell_type": "code",
   "execution_count": 9,
   "metadata": {},
   "outputs": [
    {
     "name": "stdout",
     "output_type": "stream",
     "text": [
      "6495432 ATAC1.PE.mapq.bam\n",
      "6004665 ATAC2.PE.mapq.bam\n",
      "6648471 ATAC3.PE.mapq.bam\n",
      "6378458 ATAC4.PE.mapq.bam\n",
      "5921502 ATAC5.PE.mapq.bam\n",
      "8228211 ATAC6.PE.mapq.bam\n",
      "5484665 ATAC7.PE.mapq.bam\n",
      "5906854 ATAC8.PE.mapq.bam\n",
      "11218517 ATAC9.PE.mapq.bam\n",
      "7892896 ATAC10.PE.mapq.bam\n",
      "6348925 ATAC11.PE.mapq.bam\n",
      "5781403 ATAC12.PE.mapq.bam\n"
     ]
    }
   ],
   "source": [
    "cat readCounts_of_PE_mapq_bam.txt | sort -k2 -V"
   ]
  },
  {
   "cell_type": "code",
   "execution_count": null,
   "metadata": {},
   "outputs": [],
   "source": [
    "# subsampling needs to work on ATAC*.PE.filtered.bam because we want to subsample by pairs"
   ]
  },
  {
   "cell_type": "code",
   "execution_count": null,
   "metadata": {},
   "outputs": [],
   "source": [
    "cat filter_bam.sh"
   ]
  },
  {
   "cell_type": "markdown",
   "metadata": {},
   "source": [
    "---"
   ]
  },
  {
   "cell_type": "code",
   "execution_count": 5,
   "metadata": {},
   "outputs": [
    {
     "name": "stdout",
     "output_type": "stream",
     "text": [
      "3500000\n",
      "3500000\n"
     ]
    }
   ],
   "source": [
    "samtools view ATAC1.PE.subset.bam | cut -f 1 | sort | uniq | wc -l\n",
    "samtools view ATAC1.PE.subset.sam | cut -f 1 | sort | uniq | wc -l"
   ]
  },
  {
   "cell_type": "code",
   "execution_count": 54,
   "metadata": {},
   "outputs": [
    {
     "name": "stdout",
     "output_type": "stream",
     "text": [
      "3650000\n",
      "3650000\n"
     ]
    }
   ],
   "source": [
    "samtools view ATAC11.PE.subset.bam | cut -f 1 | sort | uniq | wc -l\n",
    "samtools view ATAC11.PE.subset.sam | cut -f 1 | sort | uniq | wc -l"
   ]
  },
  {
   "cell_type": "code",
   "execution_count": 57,
   "metadata": {},
   "outputs": [],
   "source": [
    "rm toy.o7695883.*"
   ]
  },
  {
   "cell_type": "raw",
   "metadata": {},
   "source": [
    "o=(SUBSET.o7695877.*)\n",
    "for oo in ${o[@]}; do\n",
    "    cat $o\n",
    "    echo \"    \"\n",
    "    echo \"--------------------\"\n",
    "    echo \"    \"\n",
    "done"
   ]
  },
  {
   "cell_type": "code",
   "execution_count": null,
   "metadata": {},
   "outputs": [],
   "source": []
  },
  {
   "cell_type": "markdown",
   "metadata": {},
   "source": [
    "---"
   ]
  },
  {
   "cell_type": "markdown",
   "metadata": {},
   "source": [
    "## Quest 2: Peak calling (MACS2) for chromVAR\n",
    "\n",
    "**INPUTS:**\n",
    "\n",
    "- BAM files that have been filtered to include only properly paired reads with read quality (either r1 or r2 > 20), which are these `ATAC*.PE.mapq.bam` files. *(note, not using the subsampled bams, because `chromVAR` does normalization by itself, so I don't think it's necessary to pre-normalize.)*\n",
    "- chromVAR paper actually filters bams with mapq  > 30.\n",
    "\n",
    "\n",
    "**PEAK CALLING**\n",
    "\n",
    "Peak calling should use narrow peaks, because narrow peaks gives the summit coordiantes. We can then use the summit coordinates to create a uniform width of 500 bp for all the peaks. \n",
    "\n",
    "MACS2 parameters used to call narrow peaks:\n",
    "\n",
    "```\n",
    "macs2 callpeak -t $bam -n $SAMPLE_NAME \\\n",
    "\t--format BAMPE \\\n",
    "\t--gsize hs \\\n",
    "\t--qvalue 0.05 \\\n",
    "\t--cutoff-analysis \\\n",
    "\t--keep-dup all \\\n",
    "\t--outdir \"/gpfs/commons/groups/sanjana_lab/cdai/TFscreen/atac/macs2/v7\" \\\n",
    "\t--bdg\n",
    "```\n",
    "    \n",
    "_script:_ `../macs2/v7/atac_macs2_v7-pe.sh`\n",
    "\n",
    "`NAME_peaks.narrowPeak` is BED6+4 format file which contains the peak locations together with `peak summit`, `p-value`, and `q-value`. You can load it to the UCSC genome browser. Definition of some specific columns are:\n",
    "\n",
    "- 1st: chromosome\n",
    "- 2nd: start\n",
    "- 3rd: end\n",
    "- 4th: name. In this case peak names. \n",
    "- 5th: integer score for display. It's calculated as int(-10*log10pvalue) or int(-10*log10qvalue) depending on whether -p (pvalue) or -q (qvalue) is used as score cutoff. It's used for genome browser display.\n",
    "- 7th: **fold-change** at peak summit\n",
    "- 8th: **-log10pvalue** at peak summit\n",
    "- 9th: **-log10qvalue** at peak summit\n",
    "- 10th: **relative summit position to peak start**. Note it's **RELATIVE**\n",
    "\n",
    "**ADJUSTING PEAK WIDTH**\n",
    "\n",
    "Adjust peak width so that the peak width is 500 centered at summit based on chromVAR recommendation for ATACseq.\n",
    "\n",
    "bash commands below:\n",
    "\n",
    "```\n",
    "SUMMITS=(/c/groups/sanjana_lab/cdai/TFscreen/atac/macs2/v7/ATAC*summits.bed)\n",
    "for summit in ${SUMMITS[@]}; do\n",
    "    SAMPLE_NAME=$(basename -s .bed $summit | sed -E 's/_summits//')\n",
    "    awk '{print $1, $2 - 250 , $3 + 250, $4, $5}' $summit > ${SAMPLE_NAME}_500_Peaks.bed\n",
    "done\n",
    "```\n"
   ]
  },
  {
   "cell_type": "code",
   "execution_count": 94,
   "metadata": {},
   "outputs": [],
   "source": [
    "cd /c/groups/sanjana_lab/cdai/TFscreen/atac/macs2/v7 # macs2 output path"
   ]
  },
  {
   "cell_type": "code",
   "execution_count": 95,
   "metadata": {},
   "outputs": [
    {
     "name": "stdout",
     "output_type": "stream",
     "text": [
      "/c/groups/sanjana_lab/cdai/TFscreen/atac/bams_v3/ATAC10.PE.mapq.bam\n",
      "/c/groups/sanjana_lab/cdai/TFscreen/atac/bams_v3/ATAC11.PE.mapq.bam\n",
      "/c/groups/sanjana_lab/cdai/TFscreen/atac/bams_v3/ATAC12.PE.mapq.bam\n",
      "/c/groups/sanjana_lab/cdai/TFscreen/atac/bams_v3/ATAC1.PE.mapq.bam\n",
      "/c/groups/sanjana_lab/cdai/TFscreen/atac/bams_v3/ATAC2.PE.mapq.bam\n",
      "/c/groups/sanjana_lab/cdai/TFscreen/atac/bams_v3/ATAC3.PE.mapq.bam\n",
      "/c/groups/sanjana_lab/cdai/TFscreen/atac/bams_v3/ATAC4.PE.mapq.bam\n",
      "/c/groups/sanjana_lab/cdai/TFscreen/atac/bams_v3/ATAC5.PE.mapq.bam\n",
      "/c/groups/sanjana_lab/cdai/TFscreen/atac/bams_v3/ATAC6.PE.mapq.bam\n",
      "/c/groups/sanjana_lab/cdai/TFscreen/atac/bams_v3/ATAC7.PE.mapq.bam\n",
      "/c/groups/sanjana_lab/cdai/TFscreen/atac/bams_v3/ATAC8.PE.mapq.bam\n",
      "/c/groups/sanjana_lab/cdai/TFscreen/atac/bams_v3/ATAC9.PE.mapq.bam\n"
     ]
    }
   ],
   "source": [
    "# These are the input bam files\n",
    "ls /c/groups/sanjana_lab/cdai/TFscreen/atac/bams_v3/ATAC*mapq*bam"
   ]
  },
  {
   "cell_type": "raw",
   "metadata": {},
   "source": [
    "#qsub atac_macs2_v7-pe.sh"
   ]
  },
  {
   "cell_type": "raw",
   "metadata": {},
   "source": [
    "# adjusting peak width to 500 bp centered at summit\n",
    "SUMMITS=(/c/groups/sanjana_lab/cdai/TFscreen/atac/macs2/v7/ATAC*summits.bed)\n",
    "\n",
    "for summit in ${SUMMITS[@]}; do\n",
    "    SAMPLE_NAME=$(basename -s .bed $summit | sed -E 's/_summits//')\n",
    "    awk '{print $1, $2 - 250 , $3 + 250, $4, $5}' $summit > ${SAMPLE_NAME}_500_Peaks.bed\n",
    "done"
   ]
  },
  {
   "cell_type": "markdown",
   "metadata": {},
   "source": [
    "---"
   ]
  },
  {
   "cell_type": "markdown",
   "metadata": {},
   "source": [
    "### Quest 3 - Manipulating peak files to make 500 width files\n",
    "\n",
    "Use chromVAR to calculate deviation score, which is a metrix to measure chromatin accessibility. \n",
    "\n",
    "Inputs:\n",
    "- Peak files, 500 bp centered at summit. `ATAC*_500_Peaks.bed`\n",
    "- Annotations:\n",
    "    - Method A: use `JASPAR 2016` TF motif package. See chromVAR documentation.\n",
    "    - Method B: use custom constructed promoter region annotation according to chromVAR documentation.\n",
    "    \n",
    "Scripts: \n",
    "See codes in `ATAC-chromVAR-R.ipynb`, the `R` notebook for chromVAR analysis."
   ]
  },
  {
   "cell_type": "code",
   "execution_count": 152,
   "metadata": {},
   "outputs": [
    {
     "name": "stdout",
     "output_type": "stream",
     "text": [
      "../../ATACseqSampleName.csv  ../../samplesheet.csv\n"
     ]
    }
   ],
   "source": [
    "ls ../../*.csv"
   ]
  },
  {
   "cell_type": "code",
   "execution_count": 156,
   "metadata": {},
   "outputs": [
    {
     "name": "stdout",
     "output_type": "stream",
     "text": [
      "SampleID,Tissue,Factor,Condition,Treatment,Replicate,bamReads,ControlID,bamControl,Peaks,Peakcaller\n",
      "A1,ESC,TF,ESC,Full,1,/c/groups/sanjana_lab/cdai/TFscreen/atac/bams_v3/ATAC1.PE.mapq.bam,NA,NA,/c/groups/sanjana_lab/cdai/TFscreen/atac/macs2/v7/ATAC1_500_Peaks.bed,bed\n"
     ]
    }
   ],
   "source": [
    "head -2 ../../samplesheet.csv"
   ]
  },
  {
   "cell_type": "code",
   "execution_count": 221,
   "metadata": {},
   "outputs": [
    {
     "name": "stdout",
     "output_type": "stream",
     "text": [
      "/c/groups/sanjana_lab/cdai/TFscreen/atac\n"
     ]
    }
   ],
   "source": [
    "pwd"
   ]
  },
  {
   "cell_type": "code",
   "execution_count": 222,
   "metadata": {},
   "outputs": [
    {
     "name": "stdout",
     "output_type": "stream",
     "text": [
      "20398131 NB501157:251:HG7FNBGX9:4:12406:1456:10474\t83\tchr8\t141998714\t60\t37M\t=\t141998712\t-39\tCCCTACAGCTCCCAGGGCCCAGGCCAGCTCCACCTCC\tEAEE/E/AE//EE/AAEAEEAEEE66EE6EEEAAAA/\tXT:A:U\tNM:i:0\tSM:i:37\tAM:i:37\tX0:i:1\tX1:i:0\tXM:i:0\tXO:i:0\tXG:i:0\tMD:Z:37\n",
      "20398132 NB501157:251:HG7FNBGX9:4:21407:10452:12148\t99\tchr8\t141998724\t60\t37M\t=\t141998734\t47\tCCCAGGGCCCAGGCCAGCTCCACCTCCAGGCTTGCTC\tAAAAAEAEAE/EAEAEAE/<AEAEA<EEE<EEEEAE/\tXT:A:U\tNM:i:0\tSM:i:37\tAM:i:37\tX0:i:1\tX1:i:0\tXM:i:0\tXO:i:0\tXG:i:0\tMD:Z:37\n",
      "20398133 NB501157:251:HG7FNBGX9:3:22411:11399:19754\t83\tchr8\t141998734\t60\t37M\t=\t141998620\t-151\tAGGCCAGCTCCACCTCCAGGCTTGCTCCAAGTCCTTC\tA<EEEEAEEEEEEEEEEEEEEEEEEEEEEEEEAAAAA\tXT:A:U\tNM:i:0\tSM:i:37\tAM:i:37\tX0:i:1\tX1:i:0\tXM:i:0\tXO:i:0\tXG:i:0\tMD:Z:37\n",
      "20398134 NB501157:251:HG7FNBGX9:4:21407:10452:12148\t147\tchr8\t141998734\t60\t37M\t=\t141998724\t-47\tAGGCCAGCTCCACCTCCAGGCTTGCTCCAAGTCCTTC\tEAAEEEEEEEEEEEAEEEEEEEEEEEEEAEEEAAAAA\tXT:A:U\tNM:i:0\tSM:i:37\tAM:i:37\tX0:i:1\tX1:i:0\tXM:i:0\tXO:i:0\tXG:i:0\tMD:Z:37\n"
     ]
    }
   ],
   "source": [
    "samtools view bams_v3/ATAC1.PE.mapq.bam | awk 'NR > 20398130 && NR < 20398135 {print NR, $0}'"
   ]
  },
  {
   "cell_type": "code",
   "execution_count": null,
   "metadata": {},
   "outputs": [],
   "source": []
  },
  {
   "cell_type": "markdown",
   "metadata": {},
   "source": [
    "---"
   ]
  },
  {
   "cell_type": "markdown",
   "metadata": {},
   "source": [
    "### Quest 4 Find differentially accessible peaks in the promoter region or gene body region\n",
    "\n",
    "Inputs: determined differentially accessible peaks from DiffBind\n",
    "- `diffbind_24H_significant_peaks.bed`\n",
    "- `diffbind_5D_significant_peaks.bed`\n",
    "\n",
    "Annotation: gencode promoter region and gene region bed files\n",
    "- `Protein_coding_gene_promoters.bed`\n",
    "- `Protein_coding_gene.bed`\n",
    "\n",
    "Output: selected peaks that are intersected with annotation\n",
    "- 5D promoter region: `diffbind_5D_significant_peaks_gene.bed`\n",
    "- 24H promoter region: `diffbind_24H_significant_peaks_promoter.bed`\n",
    "- 5D gene body region: `diffbind_5D_significant_peaks_gene.bed`\n",
    "- 24H gene body region: `diffbind_24H_significant_peaks_gene.bed`"
   ]
  },
  {
   "cell_type": "code",
   "execution_count": 8,
   "metadata": {},
   "outputs": [],
   "source": [
    "cd /c/groups/sanjana_lab/cdai/TFscreen/atac"
   ]
  },
  {
   "cell_type": "raw",
   "metadata": {},
   "source": [
    "intersectBed -wo -f 0.55 -a diffbind_24H_significant_peaks.bed -b Protein_coding_gene_promoters.bed \\\n",
    "        > diffbind_24H_significant_peaks_promoter.bed"
   ]
  },
  {
   "cell_type": "raw",
   "metadata": {},
   "source": [
    "intersectBed -wo -f 0.55 -a diffbind_5D_significant_peaks.bed -b Protein_coding_gene_promoters.bed \\\n",
    "        > diffbind_5D_significant_peaks_promoter.bed"
   ]
  },
  {
   "cell_type": "raw",
   "metadata": {},
   "source": [
    "intersectBed -wo -f 0.55 -a diffbind_24H_significant_peaks.bed -b Protein_coding_genes.bed \\\n",
    "        > diffbind_24H_significant_peaks_gene.bed"
   ]
  },
  {
   "cell_type": "raw",
   "metadata": {},
   "source": [
    "intersectBed -wo -f 0.55 -a diffbind_5D_significant_peaks.bed -b Protein_coding_genes.bed \\\n",
    "        > diffbind_5D_significant_peaks_gene.bed"
   ]
  },
  {
   "cell_type": "code",
   "execution_count": 45,
   "metadata": {},
   "outputs": [
    {
     "name": "stdout",
     "output_type": "stream",
     "text": [
      "    918 diffbind_24H_significant_peaks_promoter.bed\n",
      "   9437 diffbind_5D_significant_peaks_promoter.bed\n",
      "   3105 diffbind_24H_significant_peaks_gene.bed\n",
      "  21070 diffbind_5D_significant_peaks_gene.bed\n",
      "  34530 total\n"
     ]
    }
   ],
   "source": [
    "wc -l diffbind_*promo*.bed diffbind_*gene*.bed"
   ]
  },
  {
   "cell_type": "code",
   "execution_count": null,
   "metadata": {},
   "outputs": [],
   "source": []
  },
  {
   "cell_type": "markdown",
   "metadata": {},
   "source": [
    "### Quest 5 - annotate consensus peak set with promoter region\n",
    "\n",
    "Inputs: \n",
    "- Readcount matrix with peak coordinates.\n",
    "`diffbind_consensu_min2overlap_readcounts_with_coordinates.txt`\n",
    "- Promoter region bed file. `Protein_coding_gene_promoters.bed`\n",
    "\n",
    "```intersectBed -wo -f 0.55 \\\n",
    "             -a diffbind_consensu_min2overlap_readcounts_with_coordinates.bed \\\n",
    "             -b Protein_coding_gene_promoters.bed > diffbind_consensu_min2overlap_readcounts_promoterRegion.txt```\n",
    "\n",
    "Output:\n",
    "- filtered consensus peak set,with annotated gene names. `diffbind_consensu_min2overlap_readcounts_promoterRegion.txt`"
   ]
  },
  {
   "cell_type": "raw",
   "metadata": {
    "ExecuteTime": {
     "end_time": "2019-10-16T17:47:32.855900Z",
     "start_time": "2019-10-16T17:47:32.391674Z"
    }
   },
   "source": [
    "intersectBed -wo -f 0.55 \\\n",
    "             -a diffbind_consensu_min2overlap_readcounts_with_coordinates.bed \\\n",
    "             -b Protein_coding_gene_promoters.bed > diffbind_consensu_min2overlap_readcounts_promoterRegion.txt\n",
    "             "
   ]
  },
  {
   "cell_type": "code",
   "execution_count": 52,
   "metadata": {
    "ExecuteTime": {
     "end_time": "2019-10-16T17:48:42.692048Z",
     "start_time": "2019-10-16T17:48:42.516884Z"
    },
    "scrolled": false
   },
   "outputs": [
    {
     "name": "stdout",
     "output_type": "stream",
     "text": [
      "chr1\t959088\t959588\t66\t50\t73\t62\t84\t53\t49\t64\t141\t73\t93\t97\tchr1\t958809\t961309\tENSG00000188976.11\tNOC2L\t-\t500\n",
      "chr1\t959088\t959588\t66\t50\t73\t62\t84\t53\t49\t64\t141\t73\t93\t97\tchr1\t958584\t961084\tENSG00000187961.14\tKLHL17\t+\t500\n",
      "chr1\t960230\t960730\t61\t44\t61\t88\t57\t71\t44\t60\t124\t76\t61\t78\tchr1\t958809\t961309\tENSG00000188976.11\tNOC2L\t-\t500\n",
      "chr1\t960230\t960730\t61\t44\t61\t88\t57\t71\t44\t60\t124\t76\t61\t78\tchr1\t958584\t961084\tENSG00000187961.14\tKLHL17\t+\t500\n",
      "chr1\t966291\t966791\t63\t81\t75\t64\t64\t77\t35\t88\t125\t90\t47\t38\tchr1\t964497\t966997\tENSG00000187583.10\tPLEKHN1\t+\t500\n",
      "chr1\t999111\t999611\t69\t36\t78\t49\t61\t60\t37\t50\t96\t66\t47\t83\tchr1\t999138\t1001638\tENSG00000187608.10\tISG15\t+\t473\n",
      "chr1\t1000098\t1000598\t106\t107\t71\t104\t124\t114\t81\t149\t219\t154\t184\t149\tchr1\t999672\t1002172\tENSG00000188290.10\tHES4\t-\t500\n",
      "chr1\t1000098\t1000598\t106\t107\t71\t104\t124\t114\t81\t149\t219\t154\t184\t149\tchr1\t999138\t1001638\tENSG00000187608.10\tISG15\t+\t500\n",
      "chr1\t1001589\t1002089\t76\t97\t67\t65\t88\t102\t62\t72\t134\t98\t73\t46\tchr1\t999672\t1002172\tENSG00000188290.10\tHES4\t-\t500\n",
      "chr1\t1019256\t1019756\t83\t105\t74\t63\t106\t161\t73\t105\t188\t149\t193\t168\tchr1\t1018120\t1020620\tENSG00000188157.15\tAGRN\t+\t500\n",
      "wc: head: No such file or directory\n",
      "  14069 diffbind_consensu_min2overlap_readcounts_promoterRegion.txt\n",
      "  14069 total\n"
     ]
    },
    {
     "ename": "",
     "evalue": "1",
     "output_type": "error",
     "traceback": []
    }
   ],
   "source": [
    "head diffbind_consensu_min2overlap_readcounts_promoterRegion.txt\n",
    "wc -l head diffbind_consensu_min2overlap_readcounts_promoterRegion.txt"
   ]
  },
  {
   "cell_type": "code",
   "execution_count": null,
   "metadata": {},
   "outputs": [],
   "source": []
  },
  {
   "cell_type": "markdown",
   "metadata": {},
   "source": [
    "### Quest 5 - annotate consensus peak set with gene region\n",
    "\n",
    "Inputs: \n",
    "- Readcount matrix with peak coordinates.\n",
    "`diffbind_consensu_min2overlap_readcounts_with_coordinates.txt`\n",
    "- Promoter region bed file. `Protein_coding_gene_promoters.bed`\n",
    "\n",
    "```intersectBed -wo -f 0.55 \\\n",
    "             -a diffbind_consensu_min2overlap_readcounts_with_coordinates.bed \\\n",
    "             -b Protein_coding_genes.bed > diffbind_consensu_min2overlap_readcounts_promoterRegion.txt```\n",
    "\n",
    "Output:\n",
    "- filtered consensus peak set,with annotated gene names. `diffbind_consensu_min2overlap_readcounts_promoterRegion.txt`"
   ]
  },
  {
   "cell_type": "code",
   "execution_count": 54,
   "metadata": {},
   "outputs": [
    {
     "name": "stdout",
     "output_type": "stream",
     "text": [
      "diffbind_24H_significant_peaks.bed\n",
      "diffbind_24H_significant_peaks_gene.bed\n",
      "diffbind_24H_significant_peaks_promoter.bed\n",
      "diffbind_5D_significant_peaks.bed\n",
      "diffbind_5D_significant_peaks_gene.bed\n",
      "diffbind_5D_significant_peaks_promoter.bed\n",
      "diffbind_consensu_min2overlap.bed\n",
      "diffbind_consensu_min2overlap_readcounts_with_coordinates.bed\n",
      "Protein_coding_gene_promoters.bed\n",
      "Protein_coding_genes.bed\n"
     ]
    }
   ],
   "source": [
    "ls *.bed"
   ]
  },
  {
   "cell_type": "raw",
   "metadata": {
    "ExecuteTime": {
     "end_time": "2019-10-16T17:47:32.855900Z",
     "start_time": "2019-10-16T17:47:32.391674Z"
    }
   },
   "source": [
    "intersectBed -wo -f 0.55 \\\n",
    "             -a diffbind_consensu_min2overlap_readcounts_with_coordinates.bed \\\n",
    "             -b Protein_coding_genes.bed > diffbind_consensu_min2overlap_readcounts_geneRegion.txt\n",
    "             "
   ]
  },
  {
   "cell_type": "code",
   "execution_count": 56,
   "metadata": {
    "ExecuteTime": {
     "end_time": "2019-10-16T17:48:42.692048Z",
     "start_time": "2019-10-16T17:48:42.516884Z"
    },
    "scrolled": false
   },
   "outputs": [
    {
     "name": "stdout",
     "output_type": "stream",
     "text": [
      "chr1\t935787\t936287\t33\t36\t35\t43\t56\t46\t42\t27\t108\t71\t154\t145\tchr1\t923928\t944581\tENSG00000187634.12\tSAMD11\t+\t500\n",
      "chr1\t940274\t940774\t57\t65\t62\t61\t76\t83\t49\t77\t112\t96\t167\t123\tchr1\t923928\t944581\tENSG00000187634.12\tSAMD11\t+\t500\n",
      "chr1\t941555\t942055\t72\t82\t80\t71\t87\t91\t72\t79\t154\t111\t216\t121\tchr1\t923928\t944581\tENSG00000187634.12\tSAMD11\t+\t500\n",
      "chr1\t944512\t945012\t40\t42\t61\t43\t69\t40\t29\t57\t147\t94\t282\t232\tchr1\t944203\t959309\tENSG00000188976.11\tNOC2L\t-\t500\n",
      "chr1\t966291\t966791\t63\t81\t75\t64\t64\t77\t35\t88\t125\t90\t47\t38\tchr1\t966497\t975865\tENSG00000187583.10\tPLEKHN1\t+\t294\n",
      "chr1\t975934\t976434\t81\t62\t85\t77\t68\t75\t68\t50\t117\t94\t99\t40\tchr1\t975204\t982093\tENSG00000187642.9\tPERM1\t-\t500\n",
      "chr1\t999111\t999611\t69\t36\t78\t49\t61\t60\t37\t50\t96\t66\t47\t83\tchr1\t998962\t1000172\tENSG00000188290.10\tHES4\t-\t500\n",
      "chr1\t1001589\t1002089\t76\t97\t67\t65\t88\t102\t62\t72\t134\t98\t73\t46\tchr1\t1001138\t1014540\tENSG00000187608.10\tISG15\t+\t500\n",
      "chr1\t1013263\t1013763\t45\t27\t33\t38\t43\t61\t21\t46\t48\t31\t34\t32\tchr1\t1001138\t1014540\tENSG00000187608.10\tISG15\t+\t500\n",
      "chr1\t1020372\t1020872\t82\t93\t67\t106\t73\t105\t59\t69\t112\t63\t88\t108\tchr1\t1020120\t1056118\tENSG00000188157.15\tAGRN\t+\t500\n",
      "wc: head: No such file or directory\n",
      "  63088 diffbind_consensu_min2overlap_readcounts_geneRegion.txt\n",
      "  63088 total\n"
     ]
    },
    {
     "ename": "",
     "evalue": "1",
     "output_type": "error",
     "traceback": []
    }
   ],
   "source": [
    "head diffbind_consensu_min2overlap_readcounts_geneRegion.txt\n",
    "wc -l head diffbind_consensu_min2overlap_readcounts_geneRegion.txt"
   ]
  },
  {
   "cell_type": "markdown",
   "metadata": {},
   "source": [
    "---"
   ]
  },
  {
   "cell_type": "markdown",
   "metadata": {},
   "source": [
    "## Misc 1 - custom script to count reads at promoter region \n",
    "For some reason qsub doesn't work well. Thus, running it manually. \n",
    "\n",
    "- first convert bam to bed, using `bamtobed`, not shown here.\n",
    "- then use `coverage` to count reads of each peak. I'm forcing min 10% overlap of each read. code below."
   ]
  },
  {
   "cell_type": "code",
   "execution_count": 35,
   "metadata": {},
   "outputs": [
    {
     "name": "stdout",
     "output_type": "stream",
     "text": [
      "bedtools coverage -counts -F 0.1 -a ../macs2/v6/ATAC1_peaks.broadPeak -b ATAC1_filtered.sortbychr.bed > ATAC1.counts.bed\n",
      "***** WARNING: File ATAC1_filtered.sortbychr.bed has inconsistent naming convention for record:\n",
      "GL000008.2\t78\t115\tNB501157:251:HG7FNBGX9:2:13211:10341:6575/2\t23\t+\n",
      "\n",
      "***** WARNING: File ATAC1_filtered.sortbychr.bed has inconsistent naming convention for record:\n",
      "GL000008.2\t78\t115\tNB501157:251:HG7FNBGX9:2:13211:10341:6575/2\t23\t+\n",
      "\n",
      "bedtools coverage -counts -F 0.1 -a ../macs2/v6/ATAC2_peaks.broadPeak -b ATAC2_filtered.sortbychr.bed > ATAC2.counts.bed\n",
      "***** WARNING: File ATAC2_filtered.sortbychr.bed has inconsistent naming convention for record:\n",
      "GL000008.2\t78\t115\tNB501157:251:HG7FNBGX9:2:12307:24914:17792/1\t40\t+\n",
      "\n",
      "***** WARNING: File ATAC2_filtered.sortbychr.bed has inconsistent naming convention for record:\n",
      "GL000008.2\t78\t115\tNB501157:251:HG7FNBGX9:2:12307:24914:17792/1\t40\t+\n",
      "\n",
      "bedtools coverage -counts -F 0.1 -a ../macs2/v6/ATAC3_peaks.broadPeak -b ATAC3_filtered.sortbychr.bed > ATAC3.counts.bed\n",
      "***** WARNING: File ATAC3_filtered.sortbychr.bed has inconsistent naming convention for record:\n",
      "GL000008.2\t129\t166\tNB501157:251:HG7FNBGX9:1:11109:8208:9189/2\t60\t+\n",
      "\n",
      "***** WARNING: File ATAC3_filtered.sortbychr.bed has inconsistent naming convention for record:\n",
      "GL000008.2\t129\t166\tNB501157:251:HG7FNBGX9:1:11109:8208:9189/2\t60\t+\n",
      "\n",
      "bedtools coverage -counts -F 0.1 -a ../macs2/v6/ATAC4_peaks.broadPeak -b ATAC4_filtered.sortbychr.bed > ATAC4.counts.bed\n",
      "***** WARNING: File ATAC4_filtered.sortbychr.bed has inconsistent naming convention for record:\n",
      "GL000008.2\t188\t225\tNB501157:251:HG7FNBGX9:1:22103:2890:17327/1\t60\t+\n",
      "\n",
      "***** WARNING: File ATAC4_filtered.sortbychr.bed has inconsistent naming convention for record:\n",
      "GL000008.2\t188\t225\tNB501157:251:HG7FNBGX9:1:22103:2890:17327/1\t60\t+\n",
      "\n",
      "bedtools coverage -counts -F 0.1 -a ../macs2/v6/ATAC5_peaks.broadPeak -b ATAC5_filtered.sortbychr.bed > ATAC5.counts.bed\n",
      "***** WARNING: File ATAC5_filtered.sortbychr.bed has inconsistent naming convention for record:\n",
      "GL000008.2\t78\t115\tNB501157:251:HG7FNBGX9:2:23311:8087:6030/2\t60\t+\n",
      "\n",
      "***** WARNING: File ATAC5_filtered.sortbychr.bed has inconsistent naming convention for record:\n",
      "GL000008.2\t78\t115\tNB501157:251:HG7FNBGX9:2:23311:8087:6030/2\t60\t+\n",
      "\n",
      "bedtools coverage -counts -F 0.1 -a ../macs2/v6/ATAC6_peaks.broadPeak -b ATAC6_filtered.sortbychr.bed > ATAC6.counts.bed\n",
      "***** WARNING: File ATAC6_filtered.sortbychr.bed has inconsistent naming convention for record:\n",
      "GL000008.2\t135\t172\tNB501157:251:HG7FNBGX9:1:21112:21414:9870/2\t60\t+\n",
      "\n",
      "***** WARNING: File ATAC6_filtered.sortbychr.bed has inconsistent naming convention for record:\n",
      "GL000008.2\t135\t172\tNB501157:251:HG7FNBGX9:1:21112:21414:9870/2\t60\t+\n",
      "\n",
      "bedtools coverage -counts -F 0.1 -a ../macs2/v6/ATAC7_peaks.broadPeak -b ATAC7_filtered.sortbychr.bed > ATAC7.counts.bed\n",
      "***** WARNING: File ATAC7_filtered.sortbychr.bed has inconsistent naming convention for record:\n",
      "GL000008.2\t18\t55\tNB501157:251:HG7FNBGX9:4:13509:3905:6488/1\t60\t+\n",
      "\n",
      "***** WARNING: File ATAC7_filtered.sortbychr.bed has inconsistent naming convention for record:\n",
      "GL000008.2\t18\t55\tNB501157:251:HG7FNBGX9:4:13509:3905:6488/1\t60\t+\n",
      "\n",
      "bedtools coverage -counts -F 0.1 -a ../macs2/v6/ATAC8_peaks.broadPeak -b ATAC8_filtered.sortbychr.bed > ATAC8.counts.bed\n",
      "***** WARNING: File ATAC8_filtered.sortbychr.bed has inconsistent naming convention for record:\n",
      "GL000008.2\t267\t304\tNB501157:251:HG7FNBGX9:3:11512:10638:18338/1\t37\t+\n",
      "\n",
      "***** WARNING: File ATAC8_filtered.sortbychr.bed has inconsistent naming convention for record:\n",
      "GL000008.2\t267\t304\tNB501157:251:HG7FNBGX9:3:11512:10638:18338/1\t37\t+\n",
      "\n",
      "bedtools coverage -counts -F 0.1 -a ../macs2/v6/ATAC9_peaks.broadPeak -b ATAC9_filtered.sortbychr.bed > ATAC9.counts.bed\n",
      "***** WARNING: File ATAC9_filtered.sortbychr.bed has inconsistent naming convention for record:\n",
      "GL000008.2\t113\t150\tNB501157:251:HG7FNBGX9:4:12401:11786:18987/1\t40\t+\n",
      "\n",
      "***** WARNING: File ATAC9_filtered.sortbychr.bed has inconsistent naming convention for record:\n",
      "GL000008.2\t113\t150\tNB501157:251:HG7FNBGX9:4:12401:11786:18987/1\t40\t+\n",
      "\n",
      "bedtools coverage -counts -F 0.1 -a ../macs2/v6/ATAC10_peaks.broadPeak -b ATAC10_filtered.sortbychr.bed > ATAC10.counts.bed\n",
      "***** WARNING: File ATAC10_filtered.sortbychr.bed has inconsistent naming convention for record:\n",
      "GL000008.2\t113\t150\tNB501157:251:HG7FNBGX9:1:21106:23982:17758/2\t52\t+\n",
      "\n",
      "***** WARNING: File ATAC10_filtered.sortbychr.bed has inconsistent naming convention for record:\n",
      "GL000008.2\t113\t150\tNB501157:251:HG7FNBGX9:1:21106:23982:17758/2\t52\t+\n",
      "\n",
      "bedtools coverage -counts -F 0.1 -a ../macs2/v6/ATAC11_peaks.broadPeak -b ATAC11_filtered.sortbychr.bed > ATAC11.counts.bed\n",
      "***** WARNING: File ATAC11_filtered.sortbychr.bed has inconsistent naming convention for record:\n",
      "GL000008.2\t139\t176\tNB501157:251:HG7FNBGX9:1:13206:20184:2520/1\t37\t+\n",
      "\n",
      "***** WARNING: File ATAC11_filtered.sortbychr.bed has inconsistent naming convention for record:\n",
      "GL000008.2\t139\t176\tNB501157:251:HG7FNBGX9:1:13206:20184:2520/1\t37\t+\n",
      "\n",
      "bedtools coverage -counts -F 0.1 -a ../macs2/v6/ATAC12_peaks.broadPeak -b ATAC12_filtered.sortbychr.bed > ATAC12.counts.bed\n",
      "***** WARNING: File ATAC12_filtered.sortbychr.bed has inconsistent naming convention for record:\n",
      "GL000008.2\t78\t115\tNB501157:251:HG7FNBGX9:4:22610:14375:8573/2\t23\t+\n",
      "\n",
      "***** WARNING: File ATAC12_filtered.sortbychr.bed has inconsistent naming convention for record:\n",
      "GL000008.2\t78\t115\tNB501157:251:HG7FNBGX9:4:22610:14375:8573/2\t23\t+\n",
      "\n"
     ]
    }
   ],
   "source": [
    "for i in {1..12}; do\n",
    "    echo \"bedtools coverage -counts -F 0.1 -a ../macs2/v6/ATAC${i}_peaks.broadPeak -b ATAC${i}_filtered.sortbychr.bed > ATAC${i}.counts.bed\"\n",
    "    bedtools coverage -counts -F 0.1 -a ../macs2/v6/ATAC${i}_peaks.broadPeak -b ATAC${i}_filtered.sortbychr.bed > ATAC${i}.counts.bed\n",
    "done"
   ]
  },
  {
   "cell_type": "code",
   "execution_count": 138,
   "metadata": {},
   "outputs": [
    {
     "name": "stdout",
     "output_type": "stream",
     "text": [
      "chr1\t10383\t10683\n",
      "chr1\t19871\t20171\n",
      "chr1\t29010\t29310\n",
      "chr1\t36291\t36591\n",
      "chr1\t136953\t137253\n",
      "chr1\t237470\t237770\n",
      "chr1\t385380\t385680\n",
      "chr1\t437803\t438103\n",
      "chr1\t450051\t450351\n",
      "chr1\t545224\t545524\n"
     ]
    }
   ],
   "source": [
    "head  \"/gpfs/commons/home/nliscovitch/neuron_diff_atac/consensus_peaks_diffbind_centered.bed\""
   ]
  },
  {
   "cell_type": "code",
   "execution_count": 139,
   "metadata": {},
   "outputs": [
    {
     "name": "stdout",
     "output_type": "stream",
     "text": [
      "/c/groups/sanjana_lab/cdai/TFscreen/atac/macs2/v7\n"
     ]
    }
   ],
   "source": [
    "pwd"
   ]
  },
  {
   "cell_type": "code",
   "execution_count": 141,
   "metadata": {},
   "outputs": [
    {
     "name": "stdout",
     "output_type": "stream",
     "text": [
      "GL000008.2 536 1037 ATAC10_peak_1 3.05205\n",
      "GL000008.2 2792 3293 ATAC10_peak_2 9.83333\n",
      "GL000194.1 24193 24694 ATAC10_peak_3 4.82873\n",
      "GL000195.1 51043 51544 ATAC10_peak_4 8.67152\n",
      "GL000195.1 66620 67121 ATAC10_peak_5 6.23942\n",
      "GL000195.1 130255 130756 ATAC10_peak_6 4.20744\n",
      "GL000205.2 1293 1794 ATAC10_peak_7 2.75170\n",
      "GL000205.2 3437 3938 ATAC10_peak_8 2.01589\n",
      "GL000205.2 13553 14054 ATAC10_peak_9 2.16511\n",
      "GL000205.2 39240 39741 ATAC10_peak_10 3.08570\n"
     ]
    }
   ],
   "source": [
    "head ATAC10_500_Peaks.bed"
   ]
  },
  {
   "cell_type": "code",
   "execution_count": 142,
   "metadata": {},
   "outputs": [
    {
     "name": "stdout",
     "output_type": "stream",
     "text": [
      "GL000008.2 2081 2582 ATAC9_peak_1 4.46012\n",
      "GL000008.2 2795 3296 ATAC9_peak_2 14.77612\n",
      "GL000008.2 3630 4131 ATAC9_peak_3 2.69125\n",
      "GL000008.2 3972 4473 ATAC9_peak_4 2.17865\n",
      "GL000194.1 24431 24932 ATAC9_peak_5 9.03100\n",
      "GL000195.1 30600 31101 ATAC9_peak_6 9.63581\n",
      "GL000195.1 51043 51544 ATAC9_peak_7 9.63581\n",
      "GL000195.1 66799 67300 ATAC9_peak_8 3.39180\n",
      "GL000195.1 68398 68899 ATAC9_peak_9 18.79097\n",
      "GL000205.2 39119 39620 ATAC9_peak_10 8.50252\n"
     ]
    }
   ],
   "source": [
    "head ATAC9_500_Peaks.bed"
   ]
  },
  {
   "cell_type": "code",
   "execution_count": 65,
   "metadata": {},
   "outputs": [],
   "source": [
    "cd /c/groups/sanjana_lab/cdai/TFscreen/atac"
   ]
  },
  {
   "cell_type": "code",
   "execution_count": 66,
   "metadata": {},
   "outputs": [
    {
     "name": "stdout",
     "output_type": "stream",
     "text": [
      "diffbind_24H_significant_peaks.bed\n",
      "diffbind_24H_significant_peaks_gene.bed\n",
      "diffbind_24H_significant_peaks_promoter.bed\n",
      "diffbind_5D_significant_peaks.bed\n",
      "diffbind_5D_significant_peaks_gene.bed\n",
      "diffbind_5D_significant_peaks_promoter.bed\n",
      "diffbind_consensu_min2overlap.bed\n",
      "diffbind_consensu_min2overlap_readcounts_with_coordinates.bed\n",
      "Protein_coding_gene_promoters.bed\n",
      "Protein_coding_genes.bed\n"
     ]
    }
   ],
   "source": [
    "ls *.bed"
   ]
  },
  {
   "cell_type": "code",
   "execution_count": 190,
   "metadata": {},
   "outputs": [
    {
     "name": "stdout",
     "output_type": "stream",
     "text": [
      "chr1 629661 630161\n",
      "chr1 633788 634288\n",
      "chr1 778487 778987\n",
      "chr1 822856 823356\n",
      "chr1 827265 827765\n",
      "chr1 869627 870127\n",
      "chr1 876567 877067\n",
      "chr1 904528 905028\n",
      "chr1 912614 913114\n",
      "chr1 920994 921494\n"
     ]
    }
   ],
   "source": [
    "head diffbind_consensu_min2overlap.bed"
   ]
  },
  {
   "cell_type": "code",
   "execution_count": 67,
   "metadata": {},
   "outputs": [
    {
     "name": "stdout",
     "output_type": "stream",
     "text": [
      "chr1\t63419\t65919\tENSG00000186092.6\tOR4F5\t+\n",
      "chr1\t451197\t453697\tENSG00000284733.1\tOR4F29\t-\n",
      "chr1\t686173\t688673\tENSG00000284662.1\tOR4F16\t-\n",
      "chr1\t921928\t924428\tENSG00000187634.12\tSAMD11\t+\n",
      "chr1\t958809\t961309\tENSG00000188976.11\tNOC2L\t-\n",
      "chr1\t958584\t961084\tENSG00000187961.14\tKLHL17\t+\n",
      "chr1\t964497\t966997\tENSG00000187583.10\tPLEKHN1\t+\n",
      "chr1\t981593\t984093\tENSG00000187642.9\tPERM1\t-\n",
      "chr1\t999672\t1002172\tENSG00000188290.10\tHES4\t-\n",
      "chr1\t999138\t1001638\tENSG00000187608.10\tISG15\t+\n"
     ]
    }
   ],
   "source": [
    "head Protein_coding_gene_promoters.bed"
   ]
  },
  {
   "cell_type": "code",
   "execution_count": 70,
   "metadata": {},
   "outputs": [
    {
     "name": "stdout",
     "output_type": "stream",
     "text": [
      "tar: TGENE: Not found in archive\n",
      "tar: Exiting with failure status due to previous errors\n"
     ]
    },
    {
     "ename": "",
     "evalue": "2",
     "output_type": "error",
     "traceback": []
    }
   ],
   "source": [
    "tar -xvf appTGENE_5.1.01571668689245-1904007515.tar.gz TGENE"
   ]
  },
  {
   "cell_type": "code",
   "execution_count": 72,
   "metadata": {},
   "outputs": [
    {
     "name": "stdout",
     "output_type": "stream",
     "text": [
      "appTGENE_5.1.01571668689245-1904007515/messages.txt\n",
      "appTGENE_5.1.01571668689245-1904007515/tgene.html\n",
      "appTGENE_5.1.01571668689245-1904007515/links.tsv\n",
      "appTGENE_5.1.01571668689245-1904007515/peaks_match_zbtb18_motif.bed\n"
     ]
    }
   ],
   "source": [
    "tar -xvf appTGENE_5.1.01571668689245-1904007515.tar.gz"
   ]
  },
  {
   "cell_type": "code",
   "execution_count": 73,
   "metadata": {},
   "outputs": [
    {
     "name": "stdout",
     "output_type": "stream",
     "text": [
      "/c/groups/sanjana_lab/cdai/TFscreen/atac\n"
     ]
    }
   ],
   "source": [
    "pwd"
   ]
  },
  {
   "cell_type": "markdown",
   "metadata": {},
   "source": [
    "### Quest 6. Intersect promoter region that are targets of ZBTB18 with ATAC seq peaks"
   ]
  },
  {
   "cell_type": "code",
   "execution_count": 74,
   "metadata": {},
   "outputs": [
    {
     "name": "stdout",
     "output_type": "stream",
     "text": [
      "diffbind_24H_significant_peaks.bed\n",
      "diffbind_24H_significant_peaks_gene.bed\n",
      "diffbind_24H_significant_peaks_promoter.bed\n",
      "diffbind_5D_significant_peaks.bed\n",
      "diffbind_5D_significant_peaks_gene.bed\n",
      "diffbind_5D_significant_peaks_promoter.bed\n",
      "diffbind_consensu_min2overlap.bed\n",
      "diffbind_consensu_min2overlap_readcounts_with_coordinates.bed\n",
      "peaks_match_zbtb18_motif.bed\n",
      "Protein_coding_gene_promoters.bed\n",
      "Protein_coding_genes.bed\n",
      "x_zbx.bed\n",
      "y_peaks.bed\n"
     ]
    }
   ],
   "source": [
    "ls *.bed"
   ]
  },
  {
   "cell_type": "code",
   "execution_count": 88,
   "metadata": {},
   "outputs": [],
   "source": [
    "bedtools intersect -wo -a x_zbx.bed -b y_peaks.bed > zbx_target.bed"
   ]
  },
  {
   "cell_type": "code",
   "execution_count": 90,
   "metadata": {},
   "outputs": [
    {
     "name": "stdout",
     "output_type": "stream",
     "text": [
      "chr1\t1324191\t1326691\t2501\t-\tENSG00000127054.20\tINTS11\tchr1\t1324531\t1325030\t500\t*\t0.758\t499\n",
      "chr1\t1322756\t1325256\t2501\t+\tENSG00000224051.7\tCPTP\tchr1\t1324531\t1325030\t500\t*\t0.758\t499\n",
      "chr1\t1398835\t1401335\t2501\t-\tENSG00000221978.12\tCCNL2\tchr1\t1399206\t1399705\t500\t*\t0.734\t499\n",
      "chr1\t1406793\t1409293\t2501\t-\tENSG00000242485.6\tMRPL20\tchr1\t1407077\t1407576\t500\t*\t0.708\t499\n",
      "chr1\t1510151\t1512651\t2501\t+\tENSG00000197785.13\tATAD3A\tchr1\t1511791\t1512290\t500\t*\t0.71\t499\n",
      "chr1\t1540124\t1542624\t2501\t-\tENSG00000205090.9\tTMEM240\tchr1\t1540579\t1541078\t500\t*\t0.76\t499\n",
      "chr1\t1630095\t1632595\t2501\t+\tENSG00000189409.13\tMMP23B\tchr1\t1630222\t1630721\t500\t*\t0.734\t499\n",
      "chr1\t1630095\t1632595\t2501\t+\tENSG00000189409.13\tMMP23B\tchr1\t1631814\t1632313\t500\t*\t0.754\t499\n",
      "chr1\t1745499\t1747999\t2501\t-\tENSG00000215790.7\tSLC35E2A\tchr1\t1746126\t1746625\t500\t*\t0.644\t499\n",
      "chr1\t1890617\t1893117\t2501\t-\tENSG00000078369.18\tGNB1\tchr1\t1891061\t1891560\t500\t*\t0.776\t499\n"
     ]
    }
   ],
   "source": [
    "head zbx_target.bed"
   ]
  },
  {
   "cell_type": "markdown",
   "metadata": {},
   "source": [
    "### Quest 7. Subset peaks to include only peaks that are in the promoter region\n",
    "\n",
    "Inputs: \n",
    "- `../atac/diffbind_consensu_min2overlap.bed`: peak files that have been processed by diffbind\n",
    "- `../Protein_coding_gene_promoters.bed`: protein coding gene promoter region coordinates\n",
    "\n",
    "Outputs:\n",
    "- `../atac/diffbind_consensu_min2overlap_promoterOnly.bed`\n",
    "- `../atac/diffbind_consensu_min2overlap_promoterOnly_counts`"
   ]
  },
  {
   "cell_type": "code",
   "execution_count": 100,
   "metadata": {},
   "outputs": [],
   "source": [
    "# get the promoter only region peak coordinates\n",
    "intersectBed -wa -a diffbind_consensu_min2overlap_readcounts_with_coordinates.bed \\\n",
    "                 -b Protein_coding_gene_promoters.bed | cut -f 1,2,3 \\\n",
    "                > diffbind_consensu_min2overlap_promoterOnly.bed"
   ]
  },
  {
   "cell_type": "code",
   "execution_count": 101,
   "metadata": {},
   "outputs": [],
   "source": [
    "# get the promoter only region coresponding read counts A1: A12\n",
    "intersectBed -wa -a diffbind_consensu_min2overlap_readcounts_with_coordinates.bed \\\n",
    "                 -b Protein_coding_gene_promoters.bed | cut -f 4-15 \\\n",
    "                > diffbind_consensu_min2overlap_promoterOnly_counts.txt"
   ]
  },
  {
   "cell_type": "markdown",
   "metadata": {},
   "source": [
    "### Quest 8. Get gene Up 2000 annotation bed"
   ]
  },
  {
   "cell_type": "code",
   "execution_count": 104,
   "metadata": {},
   "outputs": [
    {
     "name": "stdout",
     "output_type": "stream",
     "text": [
      "Protein_coding_gene_promoters.bed  Protein_coding_genes.txt\n",
      "Protein_coding_genes.bed\n"
     ]
    }
   ],
   "source": [
    "ls *coding*"
   ]
  },
  {
   "cell_type": "code",
   "execution_count": 105,
   "metadata": {},
   "outputs": [
    {
     "name": "stdout",
     "output_type": "stream",
     "text": [
      "chr1\t65419\t71585\tENSG00000186092.6\tOR4F5\t+\n",
      "chr1\t450703\t451697\tENSG00000284733.1\tOR4F29\t-\n",
      "chr1\t685679\t686673\tENSG00000284662.1\tOR4F16\t-\n",
      "chr1\t923928\t944581\tENSG00000187634.12\tSAMD11\t+\n",
      "chr1\t944203\t959309\tENSG00000188976.11\tNOC2L\t-\n",
      "chr1\t960584\t965719\tENSG00000187961.14\tKLHL17\t+\n",
      "chr1\t966497\t975865\tENSG00000187583.10\tPLEKHN1\t+\n",
      "chr1\t975204\t982093\tENSG00000187642.9\tPERM1\t-\n",
      "chr1\t998962\t1000172\tENSG00000188290.10\tHES4\t-\n",
      "chr1\t1001138\t1014540\tENSG00000187608.10\tISG15\t+\n"
     ]
    }
   ],
   "source": [
    "head Protein_coding_genes.bed"
   ]
  },
  {
   "cell_type": "code",
   "execution_count": 106,
   "metadata": {},
   "outputs": [],
   "source": [
    "chromsize=(/c/groups/sanjana_lab/cdai/ref_genome/hg38_chrom_size.txt)"
   ]
  },
  {
   "cell_type": "code",
   "execution_count": 110,
   "metadata": {},
   "outputs": [],
   "source": [
    "slopBed -s -i Protein_coding_genes.bed -g $chromsize -l 2000 -r 0 > Protein_coding_genes_Up_2k.bed"
   ]
  },
  {
   "cell_type": "markdown",
   "metadata": {},
   "source": [
    "---"
   ]
  },
  {
   "cell_type": "code",
   "execution_count": 9,
   "metadata": {},
   "outputs": [
    {
     "name": "stdout",
     "output_type": "stream",
     "text": [
      "/c/groups/sanjana_lab/cdai/TFscreen/atac\n"
     ]
    }
   ],
   "source": [
    "pwd"
   ]
  },
  {
   "cell_type": "code",
   "execution_count": 22,
   "metadata": {},
   "outputs": [
    {
     "name": "stdout",
     "output_type": "stream",
     "text": [
      "ATAC_deviation_score_jaspar.csv\n",
      "ATAC_FoldChangeByTimePoints_geneRegion.csv\n",
      "ATAC_FoldChangeByTimePoints_promoterRegion.csv\n",
      "ATACseqSampleName.csv\n",
      "chromVAR_jaspar2018_zScore.csv\n",
      "chromVAR_jaspar2018_zScore_promoterOnly.csv\n",
      "chromVAR_jaspar2020_zScore.csv\n",
      "\u001b[0m\u001b[01;32mJASPAR2020_meta.csv\u001b[0m\n",
      "samplesheet2.csv\n",
      "samplesheet.csv\n",
      "TF_ScreenSelectedNormalizedCounts.csv\n",
      "TF_target_interactions_all.csv\n",
      "TF_target_interactions.csv\n",
      "TF_target_interactions_with_RNAseq.csv\n"
     ]
    }
   ],
   "source": [
    "ls *.csv"
   ]
  },
  {
   "cell_type": "markdown",
   "metadata": {},
   "source": [
    "### Quest 9. make bed files of protein coding genes\n",
    "\n",
    "`Annotations.ipynb` constructs GenomicRanges of gene, exons, introns, utr, promoter, enhancer regions.\n",
    "\n",
    "It's also converted to this R script. `/c/groups/sanjana_lab/cdai/TFscreen/atac/annotations/annotation.R`"
   ]
  },
  {
   "cell_type": "code",
   "execution_count": 28,
   "metadata": {},
   "outputs": [
    {
     "name": "stdout",
     "output_type": "stream",
     "text": [
      "chr1\t65419\t65433\texon\tOR4F5\t+\n",
      "chr1\t65520\t65573\texon\tOR4F5\t+\n",
      "chr1\t69037\t71585\texon\tOR4F5\t+\n",
      "chr1\t65419\t65433\tUTR\tOR4F5\t+\n",
      "chr1\t65520\t65564\tUTR\tOR4F5\t+\n",
      "chr1\t70006\t71585\tUTR\tOR4F5\t+\n",
      "chr1\t65434\t65519\tintron\tOR4F5\t+\n",
      "chr1\t65574\t69036\tintron\tOR4F5\t+\n",
      "chr1\t63419\t65918\tpromoter\tOR4F5\t+\n",
      "chr1\t55419\t63418\tenhancer\tOR4F5\t+\n"
     ]
    }
   ],
   "source": [
    "head Gencode_hg38_v31_proteincoding_gene_features.bed"
   ]
  },
  {
   "cell_type": "code",
   "execution_count": 60,
   "metadata": {},
   "outputs": [],
   "source": [
    "cd /gpfs/commons/groups/sanjana_lab/cdai/TFscreen/atac/macs2/v7/annotate_peaks_w_features"
   ]
  },
  {
   "cell_type": "raw",
   "metadata": {},
   "source": [
    "# get rid of peaks that were mapped to scaffolds\n",
    "for i in {1..12}; do\n",
    "    echo ATAC${i}_peaks.narrowPeak\n",
    "    awk '$1 ~ /chr[0-9XY].*/' ATAC${i}_peaks.narrowPeak > ATAC${i}_cleaned_peaks.narrowPeak\n",
    "done"
   ]
  },
  {
   "cell_type": "code",
   "execution_count": 61,
   "metadata": {},
   "outputs": [
    {
     "name": "stdout",
     "output_type": "stream",
     "text": [
      "ATAC10_peaks_annotated.bed  ATAC4_peaks_annotated.bed\n",
      "ATAC11_peaks_annotated.bed  ATAC5_peaks_annotated.bed\n",
      "ATAC12_peaks_annotated.bed  ATAC6_peaks_annotated.bed\n",
      "ATAC1_peaks_annotated.bed   ATAC7_peaks_annotated.bed\n",
      "ATAC2_peaks_annotated.bed   ATAC8_peaks_annotated.bed\n",
      "ATAC3_peaks_annotated.bed   ATAC9_peaks_annotated.bed\n"
     ]
    }
   ],
   "source": [
    "ls"
   ]
  },
  {
   "cell_type": "markdown",
   "metadata": {},
   "source": [
    "### Quest 10. Further clean ATAC*.PE.mapq.bed files: remove reads not mapped to chr1-chr22, chrX, chrY"
   ]
  },
  {
   "cell_type": "code",
   "execution_count": 1,
   "metadata": {},
   "outputs": [],
   "source": [
    "cd /gpfs/commons/groups/sanjana_lab/cdai/TFscreen/atac/bams_v3"
   ]
  },
  {
   "cell_type": "code",
   "execution_count": 4,
   "metadata": {},
   "outputs": [
    {
     "name": "stdout",
     "output_type": "stream",
     "text": [
      "#!/bin/bash\n",
      "#$ -N fixbed\n",
      "#$ -t 1-12\n",
      "#$ -j y\n",
      "#$ -cwd\n",
      "#$ -V\n",
      "#$ -pe smp 1\n",
      "#$ -l h_vmem=20G\n",
      "\n",
      "\n",
      "\n",
      "\n",
      "echo \"Current task: $SGE_TASK_ID\"\n",
      "date\n",
      "\n",
      "oldbed=ATAC${SGE_TASK_ID}.PE.mapq.bed\n",
      "out=$(basename -s .bed $oldbed).chr.bed\n",
      "\n",
      "\n",
      "awk 'BEGIN {OFS=\"\\t\"}; $1 ~ /chr[0-9XY].*/ {print}' $oldbed  > $out \n",
      "\n",
      "echo \"Done at $(date)\"\n",
      "\n",
      "\n",
      "\n"
     ]
    }
   ],
   "source": [
    "cat bed_filter_chr.sh"
   ]
  },
  {
   "cell_type": "code",
   "execution_count": 12,
   "metadata": {},
   "outputs": [],
   "source": [
    "cd ../../../ref_genome"
   ]
  },
  {
   "cell_type": "code",
   "execution_count": 13,
   "metadata": {},
   "outputs": [
    {
     "name": "stdout",
     "output_type": "stream",
     "text": [
      "\u001b[0m\u001b[48;5;10;38;5;21mbwa_gencode_genome\u001b[0m\n",
      "\u001b[48;5;10;38;5;21mbwa_gencode_transcripts\u001b[0m\n",
      "\u001b[48;5;10;38;5;21mbwa_refseq\u001b[0m\n",
      "gencode_GRCh38.primary_assembly.genome.fa\n",
      "gencode_GRCh38.primary_assembly.genome.fa.fai\n",
      "gencode.v31.primary_assembly.annotation.gene_idTOgene_name.txt\n",
      "gencode.v31.primary_assembly.annotation.gff3\n",
      "gencode.v31.primary_assembly.annotation.gtf\n",
      "gencode.v31.primary_assembly.annotation.pandas.df.20190805.txt\n",
      "gencode.v31.primary_assembly.annotation.pandas.df.20200108.txt\n",
      "gencode.v31.primary_assembly.annotation.pandas.df.txt\n",
      "gencode.v31.transcripts.fa\n",
      "hg38_chrom_size.txt\n",
      "hg38_gene_size.txt\n",
      "\u001b[48;5;10;38;5;21mhisat2.genome\u001b[0m\n",
      "\u001b[48;5;10;38;5;21mkallisto_index\u001b[0m\n",
      "\u001b[38;5;34mLog.out\u001b[0m\n",
      "\u001b[38;5;27mMAT\u001b[0m\n",
      "ncbi_GRCh38_latest_genomic.gff\n",
      "ncbi_GRCh38_latest_rna.fna\n",
      "\u001b[48;5;10;38;5;21mrsem.1.2.21.gencode.v31.ref\u001b[0m\n",
      "\u001b[38;5;34mRSEM.out\u001b[0m\n",
      "\u001b[38;5;34msh_bwa_refseq_index.sh\u001b[0m\n",
      "\u001b[38;5;34msh_hisat2_build_index.sh\u001b[0m\n",
      "\u001b[38;5;34msh_rsem_ref.sh\u001b[0m\n",
      "\u001b[38;5;34msh_star_index.sh\u001b[0m\n",
      "\u001b[48;5;10;38;5;21mstar2.7.1a_gencode_genome\u001b[0m\n",
      "\u001b[48;5;10;38;5;21mstar2.7.1a_gencode_transcriptome\u001b[0m\n",
      "\u001b[38;5;27mstar2.7.1a_ucsc_hg38_genome\u001b[0m\n",
      "\u001b[48;5;10;38;5;21mstar_ncbi_transcriptome\u001b[0m\n",
      "\u001b[38;5;34mSTAR.out\u001b[0m\n",
      "\u001b[48;5;10;38;5;21m_STARtmp\u001b[0m\n",
      "ucsc.hg38.chrom.sizes\n",
      "ucsc.hg38.fa\n"
     ]
    }
   ],
   "source": [
    "ls"
   ]
  },
  {
   "cell_type": "code",
   "execution_count": null,
   "metadata": {},
   "outputs": [],
   "source": [
    "bedtools -fi gencode_GRCh38.primary_assembly.genome.fa \\\n",
    "    -"
   ]
  },
  {
   "cell_type": "code",
   "execution_count": 3,
   "metadata": {},
   "outputs": [
    {
     "name": "stdout",
     "output_type": "stream",
     "text": [
      "/gpfs/commons/home/cdai/notebooks/TFscreen\n"
     ]
    }
   ],
   "source": [
    "pwd"
   ]
  },
  {
   "cell_type": "code",
   "execution_count": null,
   "metadata": {},
   "outputs": [],
   "source": []
  }
 ],
 "metadata": {
  "kernelspec": {
   "display_name": "Bash",
   "language": "bash",
   "name": "bash"
  },
  "language_info": {
   "codemirror_mode": "shell",
   "file_extension": ".sh",
   "mimetype": "text/x-sh",
   "name": "bash"
  }
 },
 "nbformat": 4,
 "nbformat_minor": 2
}
