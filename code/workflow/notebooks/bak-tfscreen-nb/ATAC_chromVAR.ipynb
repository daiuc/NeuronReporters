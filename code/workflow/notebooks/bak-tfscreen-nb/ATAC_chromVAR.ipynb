{
 "cells": [
  {
   "cell_type": "markdown",
   "metadata": {},
   "source": [
    "# NOTE:\n",
    "\n",
    "**Version 4 only include methods to identify TF regulators or targets. Use V3 for previous methods, and chromVAR plots.** "
   ]
  },
  {
   "cell_type": "code",
   "execution_count": 1,
   "metadata": {
    "ExecuteTime": {
     "end_time": "2019-11-17T17:29:10.006928Z",
     "start_time": "2019-11-17T17:29:08.419Z"
    }
   },
   "outputs": [],
   "source": [
    "library(repr)\n",
    "options(repr.plot.width=10, repr.plot.height=10)"
   ]
  },
  {
   "cell_type": "code",
   "execution_count": 2,
   "metadata": {
    "ExecuteTime": {
     "end_time": "2019-11-17T17:29:33.153644Z",
     "start_time": "2019-11-17T17:29:11.940Z"
    },
    "collapsed": true
   },
   "outputs": [
    {
     "name": "stderr",
     "output_type": "stream",
     "text": [
      "── \u001b[1mAttaching packages\u001b[22m ─────────────────────────────────────── tidyverse 1.3.0 ──\n",
      "\n",
      "\u001b[32m✔\u001b[39m \u001b[34mggplot2\u001b[39m 3.2.1     \u001b[32m✔\u001b[39m \u001b[34mpurrr  \u001b[39m 0.3.3\n",
      "\u001b[32m✔\u001b[39m \u001b[34mtibble \u001b[39m 2.1.3     \u001b[32m✔\u001b[39m \u001b[34mdplyr  \u001b[39m 0.8.3\n",
      "\u001b[32m✔\u001b[39m \u001b[34mtidyr  \u001b[39m 1.0.0     \u001b[32m✔\u001b[39m \u001b[34mstringr\u001b[39m 1.4.0\n",
      "\u001b[32m✔\u001b[39m \u001b[34mreadr  \u001b[39m 1.3.1     \u001b[32m✔\u001b[39m \u001b[34mforcats\u001b[39m 0.4.0\n",
      "\n",
      "── \u001b[1mConflicts\u001b[22m ────────────────────────────────────────── tidyverse_conflicts() ──\n",
      "\u001b[31m✖\u001b[39m \u001b[34mdplyr\u001b[39m::\u001b[32mfilter()\u001b[39m masks \u001b[34mstats\u001b[39m::filter()\n",
      "\u001b[31m✖\u001b[39m \u001b[34mdplyr\u001b[39m::\u001b[32mlag()\u001b[39m    masks \u001b[34mstats\u001b[39m::lag()\n",
      "\n",
      "Warning message:\n",
      "“no function found corresponding to methods exports from ‘AnnotationDbi’ for: ‘toTable’”\n",
      "\n",
      "\n",
      "Registered S3 method overwritten by 'R.oo':\n",
      "  method        from       \n",
      "  throw.default R.methodsS3\n",
      "\n",
      "\n",
      "Attaching package: ‘Matrix’\n",
      "\n",
      "\n",
      "The following objects are masked from ‘package:tidyr’:\n",
      "\n",
      "    expand, pack, unpack\n",
      "\n",
      "\n",
      "Loading required package: GenomicRanges\n",
      "\n",
      "Loading required package: stats4\n",
      "\n",
      "Loading required package: BiocGenerics\n",
      "\n",
      "Loading required package: parallel\n",
      "\n",
      "\n",
      "Attaching package: ‘BiocGenerics’\n",
      "\n",
      "\n",
      "The following objects are masked from ‘package:parallel’:\n",
      "\n",
      "    clusterApply, clusterApplyLB, clusterCall, clusterEvalQ,\n",
      "    clusterExport, clusterMap, parApply, parCapply, parLapply,\n",
      "    parLapplyLB, parRapply, parSapply, parSapplyLB\n",
      "\n",
      "\n",
      "The following object is masked from ‘package:Matrix’:\n",
      "\n",
      "    which\n",
      "\n",
      "\n",
      "The following objects are masked from ‘package:dplyr’:\n",
      "\n",
      "    combine, intersect, setdiff, union\n",
      "\n",
      "\n",
      "The following objects are masked from ‘package:stats’:\n",
      "\n",
      "    IQR, mad, sd, var, xtabs\n",
      "\n",
      "\n",
      "The following objects are masked from ‘package:base’:\n",
      "\n",
      "    anyDuplicated, append, as.data.frame, basename, cbind, colnames,\n",
      "    dirname, do.call, duplicated, eval, evalq, Filter, Find, get, grep,\n",
      "    grepl, intersect, is.unsorted, lapply, Map, mapply, match, mget,\n",
      "    order, paste, pmax, pmax.int, pmin, pmin.int, Position, rank,\n",
      "    rbind, Reduce, rownames, sapply, setdiff, sort, table, tapply,\n",
      "    union, unique, unsplit, which, which.max, which.min\n",
      "\n",
      "\n",
      "Loading required package: S4Vectors\n",
      "\n",
      "\n",
      "Attaching package: ‘S4Vectors’\n",
      "\n",
      "\n",
      "The following object is masked from ‘package:Matrix’:\n",
      "\n",
      "    expand\n",
      "\n",
      "\n",
      "The following objects are masked from ‘package:dplyr’:\n",
      "\n",
      "    first, rename\n",
      "\n",
      "\n",
      "The following object is masked from ‘package:tidyr’:\n",
      "\n",
      "    expand\n",
      "\n",
      "\n",
      "The following object is masked from ‘package:base’:\n",
      "\n",
      "    expand.grid\n",
      "\n",
      "\n",
      "Loading required package: IRanges\n",
      "\n",
      "\n",
      "Attaching package: ‘IRanges’\n",
      "\n",
      "\n",
      "The following objects are masked from ‘package:dplyr’:\n",
      "\n",
      "    collapse, desc, slice\n",
      "\n",
      "\n",
      "The following object is masked from ‘package:purrr’:\n",
      "\n",
      "    reduce\n",
      "\n",
      "\n",
      "Loading required package: GenomeInfoDb\n",
      "\n",
      "Loading required package: Biobase\n",
      "\n",
      "Welcome to Bioconductor\n",
      "\n",
      "    Vignettes contain introductory material; view with\n",
      "    'browseVignettes()'. To cite Bioconductor, see\n",
      "    'citation(\"Biobase\")', and for packages 'citation(\"pkgname\")'.\n",
      "\n",
      "\n",
      "Loading required package: DelayedArray\n",
      "\n",
      "Loading required package: matrixStats\n",
      "\n",
      "\n",
      "Attaching package: ‘matrixStats’\n",
      "\n",
      "\n",
      "The following objects are masked from ‘package:Biobase’:\n",
      "\n",
      "    anyMissing, rowMedians\n",
      "\n",
      "\n",
      "The following object is masked from ‘package:dplyr’:\n",
      "\n",
      "    count\n",
      "\n",
      "\n",
      "Loading required package: BiocParallel\n",
      "\n",
      "\n",
      "Attaching package: ‘DelayedArray’\n",
      "\n",
      "\n",
      "The following objects are masked from ‘package:matrixStats’:\n",
      "\n",
      "    colMaxs, colMins, colRanges, rowMaxs, rowMins, rowRanges\n",
      "\n",
      "\n",
      "The following object is masked from ‘package:purrr’:\n",
      "\n",
      "    simplify\n",
      "\n",
      "\n",
      "The following objects are masked from ‘package:base’:\n",
      "\n",
      "    aperm, apply, rowsum\n",
      "\n",
      "\n",
      "Loading required package: BSgenome\n",
      "\n",
      "Loading required package: Biostrings\n",
      "\n",
      "Loading required package: XVector\n",
      "\n",
      "\n",
      "Attaching package: ‘XVector’\n",
      "\n",
      "\n",
      "The following object is masked from ‘package:purrr’:\n",
      "\n",
      "    compact\n",
      "\n",
      "\n",
      "\n",
      "Attaching package: ‘Biostrings’\n",
      "\n",
      "\n",
      "The following object is masked from ‘package:DelayedArray’:\n",
      "\n",
      "    type\n",
      "\n",
      "\n",
      "The following object is masked from ‘package:base’:\n",
      "\n",
      "    strsplit\n",
      "\n",
      "\n",
      "Loading required package: rtracklayer\n",
      "\n",
      "\n",
      "Attaching package: ‘TFBSTools’\n",
      "\n",
      "\n",
      "The following object is masked from ‘package:DelayedArray’:\n",
      "\n",
      "    matrixClass\n",
      "\n",
      "\n",
      "The following object is masked from ‘package:Matrix’:\n",
      "\n",
      "    Matrix\n",
      "\n",
      "\n"
     ]
    }
   ],
   "source": [
    "library(tidyverse)\n",
    "library(chromVAR)\n",
    "library(motifmatchr)\n",
    "library(Matrix)\n",
    "library(SummarizedExperiment)\n",
    "library(BSgenome.Hsapiens.UCSC.hg38)\n",
    "library(TFBSTools)\n",
    "library(BiocParallel)\n",
    "register(MulticoreParam(8))\n",
    "set.seed(2019)"
   ]
  },
  {
   "cell_type": "code",
   "execution_count": 3,
   "metadata": {
    "ExecuteTime": {
     "end_time": "2019-11-17T17:29:44.057450Z",
     "start_time": "2019-11-17T17:29:43.022Z"
    }
   },
   "outputs": [],
   "source": [
    "library(WriteXLS)\n",
    "library(naturalsort)\n",
    "library(pheatmap)"
   ]
  },
  {
   "cell_type": "code",
   "execution_count": 4,
   "metadata": {
    "ExecuteTime": {
     "end_time": "2019-11-17T17:29:46.095914Z",
     "start_time": "2019-11-17T17:29:45.301Z"
    }
   },
   "outputs": [],
   "source": [
    "setwd(\"/gpfs/commons/groups/sanjana_lab/cdai/TFscreen/atac/\")"
   ]
  },
  {
   "cell_type": "code",
   "execution_count": 5,
   "metadata": {},
   "outputs": [],
   "source": [
    "# custom function to check if a motifname contains a hit gene name or TF gene name\n",
    "# the reason is motifname sometimes contains \"(var.2)\" or other characters\n",
    "mystrfunc <- function(motifname, target_match) {\n",
    "    # motifname: scalar string value, name of the motif: eg. TFAP4(var.2)\n",
    "    # target_match: vector, either Tf list of Hit list, or any gene list\n",
    "    # returns T/F\n",
    "    checkname <- function(x) {\n",
    "        if (str_detect(motifname, paste0(\"^\", x, \"$\"))) {\n",
    "            check <- TRUE\n",
    "        } else if (str_detect(motifname, paste0(\":\", x, \"$\"))) {\n",
    "            check <- TRUE\n",
    "        } else if (str_detect(motifname, paste0(\"^\", x, \":\"))) {\n",
    "            check <- TRUE\n",
    "        } else {\n",
    "            check <- FALSE\n",
    "        }\n",
    "    }\n",
    "    test <- map_lgl(target_match, ~ checkname(.x)) %>% any\n",
    "    #test <- map_lgl(target_match, ~ if (str_detect(motifname, paste0(\"^\", .x, \"$\"))) {TRUE} else if (str_detect(motifname, paste0(\":\", .x, \"$\"))) {TRUE} else if (str_detect(motifname, paste0(\"^\", .x, \":\"))) {TRUE} else {FALSE})\n",
    "    #test <- map_lgl(target_match, ~ str_detect(string = motifname, pattern = paste0(\"^\", .x, \"$\")) | str_detect(string = motifname, pattern = paste0(\":\", .x, \"$\")) | str_detect(string = motifname, pattern = paste0(\"^\", .x, \":\")))\n",
    "    return(test)\n",
    "}"
   ]
  },
  {
   "cell_type": "markdown",
   "metadata": {},
   "source": [
    "# chromVAR analysis 1 - chromVAR + Jaspar 2020 motifs\n",
    "**Inputs**\n",
    "1. *Peaks*: These are peaks centered at summit with uniform width of 500 bp as recommended by chromVAR. Files are under `/gpfs/commons/groups/sanjana_lab/cdai/TFscreen/atac/diffbind_consensu_min2overlap.bed`. First 3 columns are standard bed, the 4th column is peak intensity as calculated from MACS2.\n",
    "2. *Annovation*: Jaspar 2020 motifs"
   ]
  },
  {
   "cell_type": "code",
   "execution_count": 6,
   "metadata": {
    "ExecuteTime": {
     "end_time": "2019-11-17T17:30:01.553637Z",
     "start_time": "2019-11-17T17:29:49.355Z"
    }
   },
   "outputs": [
    {
     "name": "stderr",
     "output_type": "stream",
     "text": [
      "Warning message in getPeaks(peak.file, sort_peaks = F):\n",
      "“Peaks are not equal width!Use resize(peaks, width = x, fix = \"center\") to make peaks equal in size, where x is the desired size of the peaks)”\n",
      "Warning message in getPeaks(peak.file, sort_peaks = F):\n",
      "“Peaks not sorted”\n"
     ]
    },
    {
     "ename": "ERROR",
     "evalue": "Error: stop worker failed:\n  attempt to select less than one element in OneIndex\n",
     "output_type": "error",
     "traceback": [
      "Error: stop worker failed:\n  attempt to select less than one element in OneIndex\nTraceback:\n",
      "1. getCounts(alignment_files = bed.files, peaks = peaks, paired = T, \n .     format = \"bed\")",
      "2. get_counts_from_beds(alignment_files, peaks, paired, colData)",
      "3. bplapply(seq_along(beds), function(i) {\n .     fragments <- readAlignmentFromBed(beds[i], paired = paired)\n .     if (!isTRUE(all.equal(sort(seqlevels(fragments)), sort(seqlevels(peaks))))) {\n .         merged_seq <- unique(c(seqlevels(fragments), seqlevels(peaks)))\n .         seqlevels(fragments) <- merged_seq\n .         seqlevels(peaks) <- merged_seq\n .     }\n .     return(list(counts = countOverlaps(peaks, fragments, type = \"any\", \n .         ignore.strand = TRUE), depth = length(fragments)))\n . })",
      "4. bplapply(seq_along(beds), function(i) {\n .     fragments <- readAlignmentFromBed(beds[i], paired = paired)\n .     if (!isTRUE(all.equal(sort(seqlevels(fragments)), sort(seqlevels(peaks))))) {\n .         merged_seq <- unique(c(seqlevels(fragments), seqlevels(peaks)))\n .         seqlevels(fragments) <- merged_seq\n .         seqlevels(peaks) <- merged_seq\n .     }\n .     return(list(counts = countOverlaps(peaks, fragments, type = \"any\", \n .         ignore.strand = TRUE), depth = length(fragments)))\n . })",
      "5. bplapply(X, FUN, ..., BPREDO = BPREDO, BPPARAM = BPPARAM)",
      "6. bplapply(X, FUN, ..., BPREDO = BPREDO, BPPARAM = BPPARAM)",
      "7. bploop(structure(list(), class = \"lapply\"), X, lapply, ARGFUN, \n .     BPPARAM)",
      "8. bploop.lapply(structure(list(), class = \"lapply\"), X, lapply, \n .     ARGFUN, BPPARAM)",
      "9. .clear_cluster(cl, running, result)",
      "10. tryCatch({\n  .     setTimeLimit(30, 30, TRUE)\n  .     on.exit(setTimeLimit(Inf, Inf, FALSE))\n  .     while (any(running)) {\n  .         d <- .recv_any(cl)\n  .         if (!is.null(result)) \n  .             result[[d$value$tag]] <- d$value$value\n  .         running[d$node] <- FALSE\n  .     }\n  . }, error = function(e) {\n  .     warning(.error_worker_comm(e, \"stop worker failed\"))\n  . })",
      "11. tryCatchList(expr, classes, parentenv, handlers)",
      "12. tryCatchOne(expr, names, parentenv, handlers[[1L]])",
      "13. value[[3L]](cond)",
      "14. warning(.error_worker_comm(e, \"stop worker failed\"))",
      "15. withRestarts({\n  .     .Internal(.signalCondition(cond, message, call))\n  .     .Internal(.dfltWarn(message, call))\n  . }, muffleWarning = function() NULL)",
      "16. withOneRestart(expr, restarts[[1L]])"
     ]
    }
   ],
   "source": [
    "samplesheet <- read.csv('samplesheet2.csv', stringsAsFactors = F)\n",
    "\n",
    "# Peaks\n",
    "peak.file <- \"/c/groups/sanjana_lab/cdai/TFscreen/atac/diffbind/diffbind_consensu_min2overlap_NO_RECENTER.bed\"\n",
    "peaks <- getPeaks(peak.file, sort_peaks = F)\n",
    "#peaks <- resize(peaks, width = 500, fix = \"center\")\n",
    "# do not resize to 500 bp, just use variable peak width directly from macs2\n",
    "\n",
    "bed.files <- list.files(\".\", \"*.PE.mapq.bed\", recursive=T) %>% naturalsort # bam2bed files for read counts\n",
    "\n",
    "fragment_counts <- getCounts(alignment_files = bed.files, peaks = peaks, paired = T, format = \"bed\")\n",
    "fragment_counts.addGC <- addGCBias(fragment_counts, genome = BSgenome.Hsapiens.UCSC.hg38)\n",
    "#fragment_counts.filtered <- filterPeaks(fragment_counts.addGC, min_fragments_per_peak = 10, non_overlapping = T)"
   ]
  },
  {
   "cell_type": "raw",
   "metadata": {
    "ExecuteTime": {
     "end_time": "2019-11-17T17:30:01.553637Z",
     "start_time": "2019-11-17T17:29:49.355Z"
    }
   },
   "source": [
    "# old code\n",
    "\n",
    "#my_counts_matrix <- read.table(\"diffbind_consensu_min2overlap_readcounts.txt\", header = T) %>% as.matrix\n",
    "\n",
    "depth <- apply(my_counts_matrix, 2, sum)\n",
    "colData <- column_to_rownames(samplesheet, 'SampleID')\n",
    "colData <- add_column(colData, depth) # add read depth per sample\n",
    "\n",
    "fragment_counts <- SummarizedExperiment(assays = list(counts = my_counts_matrix),\n",
    "                                        rowRanges = peaks, colData = colData)\n",
    "fragment_counts.addGC <- addGCBias(fragment_counts, genome = BSgenome.Hsapiens.UCSC.hg38)\n",
    "\n",
    "# each peak must have at least 10 reads across all 12 samples to be included\n",
    "fragment_counts.filtered <- filterPeaks(fragment_counts.addGC, min_fragments_per_peak = 10, \n",
    "                                       non_overlapping = T)"
   ]
  },
  {
   "cell_type": "raw",
   "metadata": {
    "ExecuteTime": {
     "end_time": "2019-11-17T17:30:01.780896Z",
     "start_time": "2019-11-17T17:29:51.210Z"
    }
   },
   "source": [
    "#make a grange object of normalized atac-seq counts\n",
    "my_counts_matrix.norm <- apply(my_counts_matrix, MARGIN = 2, function(x) x * 1000000/sum(x))\n",
    "my_counts_matrix.norm <- peaks %>% \n",
    "                            as.data.frame %>% \n",
    "                            cbind(my_counts_matrix.norm) %>% \n",
    "                            GenomicRanges::makeGRangesFromDataFrame(keep.extra.columns = T)"
   ]
  },
  {
   "cell_type": "markdown",
   "metadata": {},
   "source": [
    "### Annotations\n",
    "\n",
    "Get JASPAR2020 motifs. Then construct a motif - gene_name lookup table. In addition, add columns to indicate if a motif is a TF or hit TF."
   ]
  },
  {
   "cell_type": "code",
   "execution_count": null,
   "metadata": {},
   "outputs": [],
   "source": []
  },
  {
   "cell_type": "code",
   "execution_count": 47,
   "metadata": {},
   "outputs": [
    {
     "data": {
      "image/png": "[encoded data removed]",
      "text/plain": [
       "plot without title"
      ]
     },
     "metadata": {
      "image/png": {
       "height": 600,
       "width": 600
      },
      "text/plain": {
       "height": 600,
       "width": 600
      }
     },
     "output_type": "display_data"
    },
    {
     "data": {
      "image/png": "[encoded data removed]",
      "text/plain": [
       "plot without title"
      ]
     },
     "metadata": {
      "image/png": {
       "height": 600,
       "width": 600
      },
      "text/plain": {
       "height": 600,
       "width": 600
      }
     },
     "output_type": "display_data"
    }
   ],
   "source": [
    "TFBSTools::toPWM(jaspar_2020$NEUROG2@profileMatrix, type = \"prob\") %>% seqLogo\n",
    "TFBSTools::toPWM(jaspar_2020$NEUROG1@profileMatrix, type = \"prob\") %>% seqLogo\n",
    "#TFBSTools::toPWM(jaspar_2020$VAX2@profileMatrix, type = \"prob\") %>% seqLogo"
   ]
  },
  {
   "cell_type": "code",
   "execution_count": null,
   "metadata": {},
   "outputs": [],
   "source": [
    "# New method: use downloaded JASPAR2020\n",
    "jaspar_2020 <- readJASPARMatrix(\"JASPAR2020_combined_matrices_20191030.txt\", matrixClass = \"PFM\")\n",
    "\n",
    "# read in hit list and TF list, note the gene names are matched and transformed to be consistent with approved symbols according to HGNC genenames.org\n",
    "# hit list from crispr screen\n",
    "hitlist <- read.csv('/c/groups/sanjana_lab/cdai/TFscreen/Hitlist_20191230.csv', stringsAsFactors=F) %>% pull(hgnc_symbol)\n",
    "# genomewide TF list\n",
    "tflist <- read.csv('/c/groups/sanjana_lab/cdai/TFscreen/TFlist_20191230.csv', stringsAsFactors=F) %>% pull(hgnc_symbol)"
   ]
  },
  {
   "cell_type": "code",
   "execution_count": null,
   "metadata": {},
   "outputs": [],
   "source": [
    "# construct base motif_lookup table\n",
    "motif_lookup <- TFBSTools::name(jaspar_2020) %>% \n",
    "                data.frame(stringsAsFactors = F) %>% \n",
    "                rownames_to_column(\"motif\") %>% \n",
    "                mutate(gene_name=str_extract(`.`, \"[a-zA-Z:0-9\\\\-]+\")) %>%\n",
    "                select(motif, gene_name)\n",
    "\n",
    "# add two columns to indicate whether the motif is a TF or is a Hit\n",
    "motif_lookup <- motif_lookup %>% mutate(is_hit = map_chr(gene_name, ~ if_else(mystrfunc(.x, hitlist), \"Yes\", \"No\"))) %>%\n",
    "        mutate(is_tf = map_chr(gene_name, ~ if_else(mystrfunc(.x, tflist), \"Yes\", \"No\")))\n",
    "# motif names of (almost) all TFs\n",
    "tf.motif.list <- motif_lookup %>% filter(is_tf == \"Yes\") %>% pull(motif)"
   ]
  },
  {
   "cell_type": "code",
   "execution_count": null,
   "metadata": {},
   "outputs": [],
   "source": []
  },
  {
   "cell_type": "raw",
   "metadata": {
    "ExecuteTime": {
     "end_time": "2019-11-17T17:33:38.968683Z",
     "start_time": "2019-11-17T17:33:38.171Z"
    }
   },
   "source": [
    "#old\n",
    "#120 hit list\n",
    "hitlist <- read.csv('/c/groups//sanjana_lab/cdai/TFscreen/HS_td-VStd+_td-VSdox120.csv', header = F, stringsAsFactors = F) %>% pull\n",
    "#TF list\n",
    "tflist <- read.csv('/c/groups//sanjana_lab/cdai/TFscreen/TFlist_20191118.csv', stringsAsFactors = F, col.names='gene_name') %>% pull(var = gene_name)\n",
    "hitlist <- c(hitlist, c('NEUROG1', 'NEUROG2')) # adding NERUOG1/2 to hit list\n",
    "\n",
    "# construct base motif_lookup table\n",
    "motif_lookup <- TFBSTools::name(jaspar_2020) %>% \n",
    "                data.frame(stringsAsFactors = F) %>% \n",
    "                rownames_to_column(\"motif\") %>% \n",
    "                mutate(gene_name=str_extract(`.`, \"[a-zA-Z:0-9\\\\-]+\")) %>%\n",
    "                select(motif, gene_name)\n",
    "\n",
    "# custom function to check if a motifname contains a hit gene name or TF gene name\n",
    "# the reason is motifname sometimes contains \"(var.2)\" or other characters\n",
    "mystrfunc <- function(motifname, target_match) {\n",
    "    # motifname: scalar string value, name of the motif: eg. TFAP4(var.2)\n",
    "    # target_match: vector, either Tf list of Hit list, or any gene list\n",
    "    # returns T/F\n",
    "    test <- map_lgl(target_match, ~ str_detect(string = motifname, pattern = .x))\n",
    "    test <- any(test)\n",
    "    return(test)\n",
    "}\n",
    "\n",
    "# add two columns to indicate whether the motif is a TF or is a Hit\n",
    "motif_lookup <- motif_lookup %>% mutate(is_hit = map_chr(gene_name, ~ if_else(mystrfunc(.x, hitlist), \"Yes\", \"No\"))) %>%\n",
    "        mutate(is_tf = map_chr(gene_name, ~ if_else(mystrfunc(.x, tflist), \"Yes\", \"No\")))\n",
    "tf.motif.list <- motif_lookup %>% filter(is_tf == \"Yes\") %>% pull(motif)"
   ]
  },
  {
   "cell_type": "markdown",
   "metadata": {},
   "source": [
    "### Calculate chromVAR deviations"
   ]
  },
  {
   "cell_type": "code",
   "execution_count": null,
   "metadata": {},
   "outputs": [],
   "source": [
    "# get motif matches with peaks\n",
    "motif_ix <- matchMotifs(jaspar_2020, fragment_counts.addGC, genome = BSgenome.Hsapiens.UCSC.hg38)\n",
    "\n",
    "# computing deviations\n",
    "dev <- computeDeviations(object = fragment_counts.addGC, annotations = motif_ix)"
   ]
  },
  {
   "cell_type": "markdown",
   "metadata": {},
   "source": [
    "---"
   ]
  },
  {
   "cell_type": "markdown",
   "metadata": {},
   "source": [
    "#### TF Motif Deviations"
   ]
  },
  {
   "cell_type": "code",
   "execution_count": null,
   "metadata": {},
   "outputs": [],
   "source": [
    "dev.scores <- deviationScores(dev) %>% # get deviation\n",
    "                as.data.frame %>% rownames_to_column(\"motif\") %>%\n",
    "                left_join(motif_lookup[, c(\"motif\", \"gene_name\")], by = \"motif\") %>%\n",
    "                select(gene_name, ATAC1.PE.mapq.bed:ATAC12.PE.mapq.bed) %>%\n",
    "                group_by(gene_name) %>% summarise_all(mean)\n",
    "\n",
    "names(dev.scores) <- c(\"gene_name\", paste0(\"A\", 1:12))"
   ]
  },
  {
   "cell_type": "code",
   "execution_count": null,
   "metadata": {},
   "outputs": [],
   "source": [
    "A <- paste0(\"A\", c(1,3,5,7,9,11))\n",
    "B <- paste0(\"A\", c(2,4,6,8,10,12))\n",
    "dev.scores.byTime <- map2(A, B, ~ (dev.scores[[.x]] + dev.scores[[.y]]) / 2 )\n",
    "names(dev.scores.byTime) <- factor(c(\"ES\", \"H1\", \"H4\", \"H16\", \"D1\", \"D5\"), levels = c(\"ES\", \"H1\", \"H4\", \"H16\", \"D1\", \"D5\"))\n",
    "dev.scores.byTime <- do.call(cbind, dev.scores.byTime)\n",
    "rownames(dev.scores.byTime) <- dev.scores$gene_name"
   ]
  },
  {
   "cell_type": "code",
   "execution_count": null,
   "metadata": {},
   "outputs": [],
   "source": [
    "dev.scores.byTime <- dev.scores.byTime %>% as.data.frame %>%\n",
    "            rownames_to_column(\"gene_name\") %>% left_join(unique(motif_lookup[,c(\"gene_name\", \"is_hit\", \"is_tf\")]), by = \"gene_name\")"
   ]
  },
  {
   "cell_type": "markdown",
   "metadata": {},
   "source": [
    "##### Density plot of TF changes over time course"
   ]
  },
  {
   "cell_type": "code",
   "execution_count": null,
   "metadata": {},
   "outputs": [],
   "source": [
    "dev.Changes <- dev.scores.byTime %>% select(H1:D5) %>% apply(2, function(x) x - dev.scores.byTime$ES) %>% as.data.frame %>%\n",
    "            add_column(\"gene_name\" = dev.scores.byTime$gene_name, \"is_hit\" = dev.scores.byTime$is_hit, \"is_tf\" = dev.scores.byTime$is_tf, .before=\"H1\" )"
   ]
  },
  {
   "cell_type": "code",
   "execution_count": null,
   "metadata": {},
   "outputs": [],
   "source": [
    "dev.changes.gathered <- gather(dev.Changes, \"Time\", \"Change\", H1:D5)\n",
    "dev.changes.gathered$Time <- factor(dev.changes.gathered$Time, levels = c(\"H1\", \"H4\", \"H16\", \"D1\", \"D5\"))"
   ]
  },
  {
   "cell_type": "code",
   "execution_count": null,
   "metadata": {},
   "outputs": [],
   "source": [
    "dev.changes.gathered %>% filter(., is_hit == \"No\") %>%\n",
    "    ggplot(.) + geom_density(aes( x = Change, fill = Time),  alpha = .5) +\n",
    "            coord_cartesian(xlim = c(-20, 20)) + \n",
    "            labs(title = \"(Non-hit) TF motifs deviation z-score changes vs. ES\", x = \"Deviation z-score\") "
   ]
  },
  {
   "cell_type": "code",
   "execution_count": null,
   "metadata": {},
   "outputs": [],
   "source": [
    "dev.changes.gathered %>% filter(is_hit == \"Yes\") %>%\n",
    "    ggplot(.) + geom_density(aes( x = Change, fill = Time),  alpha = .5) +\n",
    "                coord_cartesian(xlim = c(-20, 20)) + \n",
    "                labs(title = \"(Hit) TF motifs deviation z-score changes vs. ES\", x = \"Deviation z-score\") \n",
    "            "
   ]
  },
  {
   "cell_type": "markdown",
   "metadata": {},
   "source": [
    "Individual motif deviation across time"
   ]
  },
  {
   "cell_type": "code",
   "execution_count": null,
   "metadata": {},
   "outputs": [],
   "source": []
  },
  {
   "cell_type": "code",
   "execution_count": null,
   "metadata": {},
   "outputs": [],
   "source": []
  },
  {
   "cell_type": "markdown",
   "metadata": {},
   "source": [
    "D1 vs. ES"
   ]
  },
  {
   "cell_type": "code",
   "execution_count": null,
   "metadata": {},
   "outputs": [],
   "source": [
    "D5_ES.dev <- map2_dbl(dev.scores.byTime$D5, dev.scores.byTime$ES)"
   ]
  },
  {
   "cell_type": "code",
   "execution_count": null,
   "metadata": {},
   "outputs": [],
   "source": []
  },
  {
   "cell_type": "code",
   "execution_count": null,
   "metadata": {},
   "outputs": [],
   "source": []
  },
  {
   "cell_type": "markdown",
   "metadata": {},
   "source": [
    "#### Correlations of TF motifs"
   ]
  },
  {
   "cell_type": "code",
   "execution_count": null,
   "metadata": {},
   "outputs": [],
   "source": [
    "dev.scores.t <- dev.scores %>% column_to_rownames(\"gene_name\") %>% t\n",
    "\n",
    "dev.score.corr <- apply(dev.scores.t, 2, function(x) map_dbl(as.data.frame(dev.scores.t), ~ cor(.x, x)))"
   ]
  },
  {
   "cell_type": "code",
   "execution_count": null,
   "metadata": {},
   "outputs": [],
   "source": [
    "setdiff"
   ]
  },
  {
   "cell_type": "code",
   "execution_count": null,
   "metadata": {},
   "outputs": [],
   "source": [
    "dev.score.corr %>% head"
   ]
  },
  {
   "cell_type": "code",
   "execution_count": null,
   "metadata": {},
   "outputs": [],
   "source": [
    "dev.score.corr[which(! colnames(dev.score.corr) %in% hitlist), \n",
    "               which(! colnames(dev.score.corr) %in% hitlist)] %>%\n",
    "    pheatmap(., cluster_rows = T, cluster_cols = T, treeheight_row = 0, \n",
    "             treeheight_col = 0, show_rownames = F, show_colnames = F, \n",
    "             main = \"TF Correlation (Non-Hit TF Motifs)\")"
   ]
  },
  {
   "cell_type": "code",
   "execution_count": null,
   "metadata": {},
   "outputs": [],
   "source": [
    "dev.score.corr %>%\n",
    "            .[intersect(hitlist, motif_lookup$gene_name), ] %>% \n",
    "            .[, intersect(hitlist, motif_lookup$gene_name)] %>%\n",
    "            pheatmap(cluster_rows = T, cluster_cols = T, treeheight_col = 0, treeheight_row = 0,\n",
    "                     show_rownames = T, show_colnames = T, \n",
    "                     main = \"TF Correlation (Hit TF Motifs)\")"
   ]
  },
  {
   "cell_type": "markdown",
   "metadata": {},
   "source": [
    "#### Variability by motifs"
   ]
  },
  {
   "cell_type": "code",
   "execution_count": 540,
   "metadata": {},
   "outputs": [],
   "source": [
    "dev.var <- computeVariability(dev)"
   ]
  },
  {
   "cell_type": "code",
   "execution_count": 542,
   "metadata": {},
   "outputs": [
    {
     "data": {
      "text/html": [
       "<table>\n",
       "<caption>A data.frame: 6 × 4</caption>\n",
       "<thead>\n",
       "\t<tr><th scope=col>motif</th><th scope=col>gene_name</th><th scope=col>is_hit</th><th scope=col>is_tf</th></tr>\n",
       "\t<tr><th scope=col>&lt;chr&gt;</th><th scope=col>&lt;chr&gt;</th><th scope=col>&lt;chr&gt;</th><th scope=col>&lt;chr&gt;</th></tr>\n",
       "</thead>\n",
       "<tbody>\n",
       "\t<tr><td>THRB        </td><td>THRB   </td><td>No</td><td>Yes</td></tr>\n",
       "\t<tr><td>THAP11      </td><td>THAP11 </td><td>No</td><td>Yes</td></tr>\n",
       "\t<tr><td>TFAP4(var.2)</td><td>TFAP4  </td><td>No</td><td>Yes</td></tr>\n",
       "\t<tr><td>TFAP2E      </td><td>TFAP2E </td><td>No</td><td>Yes</td></tr>\n",
       "\t<tr><td>TGIF2LY     </td><td>TGIF2LY</td><td>No</td><td>Yes</td></tr>\n",
       "\t<tr><td>TGIF2LX     </td><td>TGIF2LX</td><td>No</td><td>Yes</td></tr>\n",
       "</tbody>\n",
       "</table>\n"
      ],
      "text/latex": [
       "A data.frame: 6 × 4\n",
       "\\begin{tabular}{r|llll}\n",
       " motif & gene\\_name & is\\_hit & is\\_tf\\\\\n",
       " <chr> & <chr> & <chr> & <chr>\\\\\n",
       "\\hline\n",
       "\t THRB         & THRB    & No & Yes\\\\\n",
       "\t THAP11       & THAP11  & No & Yes\\\\\n",
       "\t TFAP4(var.2) & TFAP4   & No & Yes\\\\\n",
       "\t TFAP2E       & TFAP2E  & No & Yes\\\\\n",
       "\t TGIF2LY      & TGIF2LY & No & Yes\\\\\n",
       "\t TGIF2LX      & TGIF2LX & No & Yes\\\\\n",
       "\\end{tabular}\n"
      ],
      "text/markdown": [
       "\n",
       "A data.frame: 6 × 4\n",
       "\n",
       "| motif &lt;chr&gt; | gene_name &lt;chr&gt; | is_hit &lt;chr&gt; | is_tf &lt;chr&gt; |\n",
       "|---|---|---|---|\n",
       "| THRB         | THRB    | No | Yes |\n",
       "| THAP11       | THAP11  | No | Yes |\n",
       "| TFAP4(var.2) | TFAP4   | No | Yes |\n",
       "| TFAP2E       | TFAP2E  | No | Yes |\n",
       "| TGIF2LY      | TGIF2LY | No | Yes |\n",
       "| TGIF2LX      | TGIF2LX | No | Yes |\n",
       "\n"
      ],
      "text/plain": [
       "  motif        gene_name is_hit is_tf\n",
       "1 THRB         THRB      No     Yes  \n",
       "2 THAP11       THAP11    No     Yes  \n",
       "3 TFAP4(var.2) TFAP4     No     Yes  \n",
       "4 TFAP2E       TFAP2E    No     Yes  \n",
       "5 TGIF2LY      TGIF2LY   No     Yes  \n",
       "6 TGIF2LX      TGIF2LX   No     Yes  "
      ]
     },
     "metadata": {},
     "output_type": "display_data"
    }
   ],
   "source": [
    "head(motif_lookup)"
   ]
  },
  {
   "cell_type": "code",
   "execution_count": 563,
   "metadata": {},
   "outputs": [
    {
     "name": "stderr",
     "output_type": "stream",
     "text": [
      "Warning message:\n",
      "“Column `motif` joining factor and character vector, coercing into character vector”\n"
     ]
    },
    {
     "data": {
      "text/html": [
       "<table>\n",
       "<caption>A tibble: 50 × 6</caption>\n",
       "<thead>\n",
       "\t<tr><th scope=col>gene_name</th><th scope=col>variability</th><th scope=col>bootstrap_lower_bound</th><th scope=col>bootstrap_upper_bound</th><th scope=col>p_value</th><th scope=col>p_value_adj</th></tr>\n",
       "\t<tr><th scope=col>&lt;chr&gt;</th><th scope=col>&lt;dbl&gt;</th><th scope=col>&lt;dbl&gt;</th><th scope=col>&lt;dbl&gt;</th><th scope=col>&lt;dbl&gt;</th><th scope=col>&lt;dbl&gt;</th></tr>\n",
       "</thead>\n",
       "<tbody>\n",
       "\t<tr><td>NEUROD1    </td><td>32.02660</td><td>21.832545</td><td>36.28197</td><td> 0.000000e+00</td><td> 0.000000e+00</td></tr>\n",
       "\t<tr><td>NEUROG2    </td><td>30.61828</td><td>20.935405</td><td>34.54373</td><td> 0.000000e+00</td><td> 0.000000e+00</td></tr>\n",
       "\t<tr><td>TAL1::TCF3 </td><td>22.78724</td><td>15.374460</td><td>26.15693</td><td> 0.000000e+00</td><td> 0.000000e+00</td></tr>\n",
       "\t<tr><td>HAND2      </td><td>22.78075</td><td>15.539325</td><td>26.35482</td><td> 0.000000e+00</td><td> 0.000000e+00</td></tr>\n",
       "\t<tr><td>ATOH7      </td><td>19.45608</td><td>13.334609</td><td>22.15597</td><td> 0.000000e+00</td><td> 0.000000e+00</td></tr>\n",
       "\t<tr><td>ATOH1      </td><td>17.77563</td><td>11.881957</td><td>20.25011</td><td> 0.000000e+00</td><td> 0.000000e+00</td></tr>\n",
       "\t<tr><td>ZEB1       </td><td>17.25123</td><td> 9.945931</td><td>20.50296</td><td> 0.000000e+00</td><td> 0.000000e+00</td></tr>\n",
       "\t<tr><td>TWIST1     </td><td>14.29257</td><td> 9.313501</td><td>16.99315</td><td> 0.000000e+00</td><td> 0.000000e+00</td></tr>\n",
       "\t<tr><td>SNAI1      </td><td>13.95026</td><td>10.207127</td><td>15.83429</td><td> 0.000000e+00</td><td> 0.000000e+00</td></tr>\n",
       "\t<tr><td>PHOX2A     </td><td>13.90000</td><td> 4.067414</td><td>17.70570</td><td> 0.000000e+00</td><td> 0.000000e+00</td></tr>\n",
       "\t<tr><td>OLIG1      </td><td>13.65580</td><td> 8.699946</td><td>15.96487</td><td> 0.000000e+00</td><td> 0.000000e+00</td></tr>\n",
       "\t<tr><td>TCF12      </td><td>13.64566</td><td> 9.597426</td><td>15.38321</td><td> 0.000000e+00</td><td> 0.000000e+00</td></tr>\n",
       "\t<tr><td>TCF4       </td><td>13.56868</td><td> 9.517821</td><td>15.59559</td><td> 0.000000e+00</td><td> 0.000000e+00</td></tr>\n",
       "\t<tr><td>ONECUT2    </td><td>13.45129</td><td> 3.919193</td><td>17.46595</td><td> 0.000000e+00</td><td> 0.000000e+00</td></tr>\n",
       "\t<tr><td>TCF3       </td><td>13.13543</td><td> 9.307357</td><td>14.79393</td><td> 0.000000e+00</td><td> 0.000000e+00</td></tr>\n",
       "\t<tr><td>SNAI3      </td><td>13.07471</td><td> 9.505789</td><td>14.52903</td><td> 0.000000e+00</td><td> 0.000000e+00</td></tr>\n",
       "\t<tr><td>OLIG3      </td><td>12.99972</td><td> 7.864747</td><td>15.27488</td><td> 0.000000e+00</td><td> 0.000000e+00</td></tr>\n",
       "\t<tr><td>TCF21      </td><td>12.94375</td><td> 8.629679</td><td>15.20595</td><td> 0.000000e+00</td><td> 0.000000e+00</td></tr>\n",
       "\t<tr><td>SNAI2      </td><td>12.73725</td><td> 8.514147</td><td>14.37694</td><td> 0.000000e+00</td><td> 0.000000e+00</td></tr>\n",
       "\t<tr><td>BHLHA15    </td><td>12.73696</td><td> 8.512738</td><td>14.59216</td><td> 0.000000e+00</td><td> 0.000000e+00</td></tr>\n",
       "\t<tr><td>BATF       </td><td>12.67382</td><td> 2.154622</td><td>16.51010</td><td> 0.000000e+00</td><td> 0.000000e+00</td></tr>\n",
       "\t<tr><td>FOS::JUNB  </td><td>12.67340</td><td> 2.094788</td><td>16.58230</td><td> 0.000000e+00</td><td> 0.000000e+00</td></tr>\n",
       "\t<tr><td>BATF::JUN  </td><td>12.55908</td><td> 2.156144</td><td>16.38209</td><td> 0.000000e+00</td><td> 0.000000e+00</td></tr>\n",
       "\t<tr><td>BATF3      </td><td>12.49283</td><td> 2.196284</td><td>16.28742</td><td> 0.000000e+00</td><td> 0.000000e+00</td></tr>\n",
       "\t<tr><td>OLIG2      </td><td>12.36369</td><td> 7.374234</td><td>14.49274</td><td> 0.000000e+00</td><td> 0.000000e+00</td></tr>\n",
       "\t<tr><td>NEUROG1    </td><td>12.21694</td><td> 7.358249</td><td>14.18153</td><td> 0.000000e+00</td><td> 0.000000e+00</td></tr>\n",
       "\t<tr><td>MYF5       </td><td>12.10791</td><td> 8.033040</td><td>13.82952</td><td> 0.000000e+00</td><td> 0.000000e+00</td></tr>\n",
       "\t<tr><td>FOSL2      </td><td>12.10533</td><td> 2.737454</td><td>15.87055</td><td> 0.000000e+00</td><td> 0.000000e+00</td></tr>\n",
       "\t<tr><td>CTCF       </td><td>11.91603</td><td> 4.474693</td><td>15.11596</td><td> 0.000000e+00</td><td> 0.000000e+00</td></tr>\n",
       "\t<tr><td>FOSL1      </td><td>11.81639</td><td> 2.342717</td><td>15.43233</td><td>5.434722e-323</td><td>1.121529e-321</td></tr>\n",
       "\t<tr><td>MYF6       </td><td>11.80623</td><td> 8.133014</td><td>13.51889</td><td>2.075076e-322</td><td>4.145211e-321</td></tr>\n",
       "\t<tr><td>TEAD4      </td><td>11.74023</td><td> 6.742800</td><td>14.22857</td><td>1.027538e-318</td><td>1.989687e-317</td></tr>\n",
       "\t<tr><td>BHLHE22    </td><td>11.65264</td><td> 6.896304</td><td>13.79192</td><td> 8.363422e-26</td><td> 1.251575e-25</td></tr>\n",
       "\t<tr><td>ONECUT1    </td><td>11.55012</td><td> 3.516727</td><td>15.08642</td><td>3.343597e-308</td><td>6.104454e-307</td></tr>\n",
       "\t<tr><td>TEAD1      </td><td>11.50354</td><td> 6.463300</td><td>14.08329</td><td>1.184391e-305</td><td>2.102295e-304</td></tr>\n",
       "\t<tr><td>TEAD2      </td><td>11.50119</td><td> 6.376818</td><td>14.06049</td><td>1.591952e-305</td><td>2.749344e-304</td></tr>\n",
       "\t<tr><td>JUND       </td><td>11.43217</td><td> 2.651337</td><td>14.87962</td><td> 1.104366e-90</td><td> 2.916075e-90</td></tr>\n",
       "\t<tr><td>PROP1      </td><td>11.41360</td><td> 3.673238</td><td>14.66323</td><td>9.250339e-301</td><td>1.515632e-299</td></tr>\n",
       "\t<tr><td>TEAD3      </td><td>11.37718</td><td> 6.131457</td><td>13.93897</td><td>8.632946e-299</td><td>1.379113e-297</td></tr>\n",
       "\t<tr><td>ASCL1      </td><td>11.26287</td><td> 8.212861</td><td>12.62888</td><td> 3.269228e-40</td><td> 5.468683e-40</td></tr>\n",
       "\t<tr><td>ZNF135     </td><td>11.25822</td><td> 7.680218</td><td>13.39022</td><td>2.124206e-292</td><td>3.231828e-291</td></tr>\n",
       "\t<tr><td>FOSL2::JUN </td><td>11.20024</td><td> 2.172682</td><td>14.66456</td><td>8.886649e-114</td><td>2.942264e-113</td></tr>\n",
       "\t<tr><td>JUNB       </td><td>11.09727</td><td> 2.341120</td><td>14.37524</td><td> 1.268885e-78</td><td> 2.970028e-78</td></tr>\n",
       "\t<tr><td>FOSL2::JUND</td><td>11.06182</td><td> 1.946406</td><td>14.43739</td><td> 9.734367e-81</td><td> 2.347268e-80</td></tr>\n",
       "\t<tr><td>BHLHE23    </td><td>11.05048</td><td> 6.363545</td><td>13.07663</td><td>2.111165e-281</td><td>2.932684e-280</td></tr>\n",
       "\t<tr><td>NEUROD2    </td><td>11.02624</td><td> 6.348576</td><td>13.09966</td><td>3.926010e-280</td><td>5.337704e-279</td></tr>\n",
       "\t<tr><td>FOSB::JUNB </td><td>10.92510</td><td> 1.940720</td><td>14.31334</td><td>3.311531e-109</td><td>1.052770e-108</td></tr>\n",
       "\t<tr><td>JUN        </td><td>10.91124</td><td> 2.390335</td><td>14.27361</td><td> 1.077023e-77</td><td> 2.484539e-77</td></tr>\n",
       "\t<tr><td>FOSL2::JUNB</td><td>10.77264</td><td> 1.925209</td><td>14.06188</td><td>9.860468e-123</td><td>3.663279e-122</td></tr>\n",
       "\t<tr><td>FOSL1::JUNB</td><td>10.75149</td><td> 1.835227</td><td>13.95686</td><td>6.133312e-266</td><td>7.684679e-265</td></tr>\n",
       "</tbody>\n",
       "</table>\n"
      ],
      "text/latex": [
       "A tibble: 50 × 6\n",
       "\\begin{tabular}{r|llllll}\n",
       " gene\\_name & variability & bootstrap\\_lower\\_bound & bootstrap\\_upper\\_bound & p\\_value & p\\_value\\_adj\\\\\n",
       " <chr> & <dbl> & <dbl> & <dbl> & <dbl> & <dbl>\\\\\n",
       "\\hline\n",
       "\t NEUROD1     & 32.02660 & 21.832545 & 36.28197 &  0.000000e+00 &  0.000000e+00\\\\\n",
       "\t NEUROG2     & 30.61828 & 20.935405 & 34.54373 &  0.000000e+00 &  0.000000e+00\\\\\n",
       "\t TAL1::TCF3  & 22.78724 & 15.374460 & 26.15693 &  0.000000e+00 &  0.000000e+00\\\\\n",
       "\t HAND2       & 22.78075 & 15.539325 & 26.35482 &  0.000000e+00 &  0.000000e+00\\\\\n",
       "\t ATOH7       & 19.45608 & 13.334609 & 22.15597 &  0.000000e+00 &  0.000000e+00\\\\\n",
       "\t ATOH1       & 17.77563 & 11.881957 & 20.25011 &  0.000000e+00 &  0.000000e+00\\\\\n",
       "\t ZEB1        & 17.25123 &  9.945931 & 20.50296 &  0.000000e+00 &  0.000000e+00\\\\\n",
       "\t TWIST1      & 14.29257 &  9.313501 & 16.99315 &  0.000000e+00 &  0.000000e+00\\\\\n",
       "\t SNAI1       & 13.95026 & 10.207127 & 15.83429 &  0.000000e+00 &  0.000000e+00\\\\\n",
       "\t PHOX2A      & 13.90000 &  4.067414 & 17.70570 &  0.000000e+00 &  0.000000e+00\\\\\n",
       "\t OLIG1       & 13.65580 &  8.699946 & 15.96487 &  0.000000e+00 &  0.000000e+00\\\\\n",
       "\t TCF12       & 13.64566 &  9.597426 & 15.38321 &  0.000000e+00 &  0.000000e+00\\\\\n",
       "\t TCF4        & 13.56868 &  9.517821 & 15.59559 &  0.000000e+00 &  0.000000e+00\\\\\n",
       "\t ONECUT2     & 13.45129 &  3.919193 & 17.46595 &  0.000000e+00 &  0.000000e+00\\\\\n",
       "\t TCF3        & 13.13543 &  9.307357 & 14.79393 &  0.000000e+00 &  0.000000e+00\\\\\n",
       "\t SNAI3       & 13.07471 &  9.505789 & 14.52903 &  0.000000e+00 &  0.000000e+00\\\\\n",
       "\t OLIG3       & 12.99972 &  7.864747 & 15.27488 &  0.000000e+00 &  0.000000e+00\\\\\n",
       "\t TCF21       & 12.94375 &  8.629679 & 15.20595 &  0.000000e+00 &  0.000000e+00\\\\\n",
       "\t SNAI2       & 12.73725 &  8.514147 & 14.37694 &  0.000000e+00 &  0.000000e+00\\\\\n",
       "\t BHLHA15     & 12.73696 &  8.512738 & 14.59216 &  0.000000e+00 &  0.000000e+00\\\\\n",
       "\t BATF        & 12.67382 &  2.154622 & 16.51010 &  0.000000e+00 &  0.000000e+00\\\\\n",
       "\t FOS::JUNB   & 12.67340 &  2.094788 & 16.58230 &  0.000000e+00 &  0.000000e+00\\\\\n",
       "\t BATF::JUN   & 12.55908 &  2.156144 & 16.38209 &  0.000000e+00 &  0.000000e+00\\\\\n",
       "\t BATF3       & 12.49283 &  2.196284 & 16.28742 &  0.000000e+00 &  0.000000e+00\\\\\n",
       "\t OLIG2       & 12.36369 &  7.374234 & 14.49274 &  0.000000e+00 &  0.000000e+00\\\\\n",
       "\t NEUROG1     & 12.21694 &  7.358249 & 14.18153 &  0.000000e+00 &  0.000000e+00\\\\\n",
       "\t MYF5        & 12.10791 &  8.033040 & 13.82952 &  0.000000e+00 &  0.000000e+00\\\\\n",
       "\t FOSL2       & 12.10533 &  2.737454 & 15.87055 &  0.000000e+00 &  0.000000e+00\\\\\n",
       "\t CTCF        & 11.91603 &  4.474693 & 15.11596 &  0.000000e+00 &  0.000000e+00\\\\\n",
       "\t FOSL1       & 11.81639 &  2.342717 & 15.43233 & 5.434722e-323 & 1.121529e-321\\\\\n",
       "\t MYF6        & 11.80623 &  8.133014 & 13.51889 & 2.075076e-322 & 4.145211e-321\\\\\n",
       "\t TEAD4       & 11.74023 &  6.742800 & 14.22857 & 1.027538e-318 & 1.989687e-317\\\\\n",
       "\t BHLHE22     & 11.65264 &  6.896304 & 13.79192 &  8.363422e-26 &  1.251575e-25\\\\\n",
       "\t ONECUT1     & 11.55012 &  3.516727 & 15.08642 & 3.343597e-308 & 6.104454e-307\\\\\n",
       "\t TEAD1       & 11.50354 &  6.463300 & 14.08329 & 1.184391e-305 & 2.102295e-304\\\\\n",
       "\t TEAD2       & 11.50119 &  6.376818 & 14.06049 & 1.591952e-305 & 2.749344e-304\\\\\n",
       "\t JUND        & 11.43217 &  2.651337 & 14.87962 &  1.104366e-90 &  2.916075e-90\\\\\n",
       "\t PROP1       & 11.41360 &  3.673238 & 14.66323 & 9.250339e-301 & 1.515632e-299\\\\\n",
       "\t TEAD3       & 11.37718 &  6.131457 & 13.93897 & 8.632946e-299 & 1.379113e-297\\\\\n",
       "\t ASCL1       & 11.26287 &  8.212861 & 12.62888 &  3.269228e-40 &  5.468683e-40\\\\\n",
       "\t ZNF135      & 11.25822 &  7.680218 & 13.39022 & 2.124206e-292 & 3.231828e-291\\\\\n",
       "\t FOSL2::JUN  & 11.20024 &  2.172682 & 14.66456 & 8.886649e-114 & 2.942264e-113\\\\\n",
       "\t JUNB        & 11.09727 &  2.341120 & 14.37524 &  1.268885e-78 &  2.970028e-78\\\\\n",
       "\t FOSL2::JUND & 11.06182 &  1.946406 & 14.43739 &  9.734367e-81 &  2.347268e-80\\\\\n",
       "\t BHLHE23     & 11.05048 &  6.363545 & 13.07663 & 2.111165e-281 & 2.932684e-280\\\\\n",
       "\t NEUROD2     & 11.02624 &  6.348576 & 13.09966 & 3.926010e-280 & 5.337704e-279\\\\\n",
       "\t FOSB::JUNB  & 10.92510 &  1.940720 & 14.31334 & 3.311531e-109 & 1.052770e-108\\\\\n",
       "\t JUN         & 10.91124 &  2.390335 & 14.27361 &  1.077023e-77 &  2.484539e-77\\\\\n",
       "\t FOSL2::JUNB & 10.77264 &  1.925209 & 14.06188 & 9.860468e-123 & 3.663279e-122\\\\\n",
       "\t FOSL1::JUNB & 10.75149 &  1.835227 & 13.95686 & 6.133312e-266 & 7.684679e-265\\\\\n",
       "\\end{tabular}\n"
      ],
      "text/markdown": [
       "\n",
       "A tibble: 50 × 6\n",
       "\n",
       "| gene_name &lt;chr&gt; | variability &lt;dbl&gt; | bootstrap_lower_bound &lt;dbl&gt; | bootstrap_upper_bound &lt;dbl&gt; | p_value &lt;dbl&gt; | p_value_adj &lt;dbl&gt; |\n",
       "|---|---|---|---|---|---|\n",
       "| NEUROD1     | 32.02660 | 21.832545 | 36.28197 |  0.000000e+00 |  0.000000e+00 |\n",
       "| NEUROG2     | 30.61828 | 20.935405 | 34.54373 |  0.000000e+00 |  0.000000e+00 |\n",
       "| TAL1::TCF3  | 22.78724 | 15.374460 | 26.15693 |  0.000000e+00 |  0.000000e+00 |\n",
       "| HAND2       | 22.78075 | 15.539325 | 26.35482 |  0.000000e+00 |  0.000000e+00 |\n",
       "| ATOH7       | 19.45608 | 13.334609 | 22.15597 |  0.000000e+00 |  0.000000e+00 |\n",
       "| ATOH1       | 17.77563 | 11.881957 | 20.25011 |  0.000000e+00 |  0.000000e+00 |\n",
       "| ZEB1        | 17.25123 |  9.945931 | 20.50296 |  0.000000e+00 |  0.000000e+00 |\n",
       "| TWIST1      | 14.29257 |  9.313501 | 16.99315 |  0.000000e+00 |  0.000000e+00 |\n",
       "| SNAI1       | 13.95026 | 10.207127 | 15.83429 |  0.000000e+00 |  0.000000e+00 |\n",
       "| PHOX2A      | 13.90000 |  4.067414 | 17.70570 |  0.000000e+00 |  0.000000e+00 |\n",
       "| OLIG1       | 13.65580 |  8.699946 | 15.96487 |  0.000000e+00 |  0.000000e+00 |\n",
       "| TCF12       | 13.64566 |  9.597426 | 15.38321 |  0.000000e+00 |  0.000000e+00 |\n",
       "| TCF4        | 13.56868 |  9.517821 | 15.59559 |  0.000000e+00 |  0.000000e+00 |\n",
       "| ONECUT2     | 13.45129 |  3.919193 | 17.46595 |  0.000000e+00 |  0.000000e+00 |\n",
       "| TCF3        | 13.13543 |  9.307357 | 14.79393 |  0.000000e+00 |  0.000000e+00 |\n",
       "| SNAI3       | 13.07471 |  9.505789 | 14.52903 |  0.000000e+00 |  0.000000e+00 |\n",
       "| OLIG3       | 12.99972 |  7.864747 | 15.27488 |  0.000000e+00 |  0.000000e+00 |\n",
       "| TCF21       | 12.94375 |  8.629679 | 15.20595 |  0.000000e+00 |  0.000000e+00 |\n",
       "| SNAI2       | 12.73725 |  8.514147 | 14.37694 |  0.000000e+00 |  0.000000e+00 |\n",
       "| BHLHA15     | 12.73696 |  8.512738 | 14.59216 |  0.000000e+00 |  0.000000e+00 |\n",
       "| BATF        | 12.67382 |  2.154622 | 16.51010 |  0.000000e+00 |  0.000000e+00 |\n",
       "| FOS::JUNB   | 12.67340 |  2.094788 | 16.58230 |  0.000000e+00 |  0.000000e+00 |\n",
       "| BATF::JUN   | 12.55908 |  2.156144 | 16.38209 |  0.000000e+00 |  0.000000e+00 |\n",
       "| BATF3       | 12.49283 |  2.196284 | 16.28742 |  0.000000e+00 |  0.000000e+00 |\n",
       "| OLIG2       | 12.36369 |  7.374234 | 14.49274 |  0.000000e+00 |  0.000000e+00 |\n",
       "| NEUROG1     | 12.21694 |  7.358249 | 14.18153 |  0.000000e+00 |  0.000000e+00 |\n",
       "| MYF5        | 12.10791 |  8.033040 | 13.82952 |  0.000000e+00 |  0.000000e+00 |\n",
       "| FOSL2       | 12.10533 |  2.737454 | 15.87055 |  0.000000e+00 |  0.000000e+00 |\n",
       "| CTCF        | 11.91603 |  4.474693 | 15.11596 |  0.000000e+00 |  0.000000e+00 |\n",
       "| FOSL1       | 11.81639 |  2.342717 | 15.43233 | 5.434722e-323 | 1.121529e-321 |\n",
       "| MYF6        | 11.80623 |  8.133014 | 13.51889 | 2.075076e-322 | 4.145211e-321 |\n",
       "| TEAD4       | 11.74023 |  6.742800 | 14.22857 | 1.027538e-318 | 1.989687e-317 |\n",
       "| BHLHE22     | 11.65264 |  6.896304 | 13.79192 |  8.363422e-26 |  1.251575e-25 |\n",
       "| ONECUT1     | 11.55012 |  3.516727 | 15.08642 | 3.343597e-308 | 6.104454e-307 |\n",
       "| TEAD1       | 11.50354 |  6.463300 | 14.08329 | 1.184391e-305 | 2.102295e-304 |\n",
       "| TEAD2       | 11.50119 |  6.376818 | 14.06049 | 1.591952e-305 | 2.749344e-304 |\n",
       "| JUND        | 11.43217 |  2.651337 | 14.87962 |  1.104366e-90 |  2.916075e-90 |\n",
       "| PROP1       | 11.41360 |  3.673238 | 14.66323 | 9.250339e-301 | 1.515632e-299 |\n",
       "| TEAD3       | 11.37718 |  6.131457 | 13.93897 | 8.632946e-299 | 1.379113e-297 |\n",
       "| ASCL1       | 11.26287 |  8.212861 | 12.62888 |  3.269228e-40 |  5.468683e-40 |\n",
       "| ZNF135      | 11.25822 |  7.680218 | 13.39022 | 2.124206e-292 | 3.231828e-291 |\n",
       "| FOSL2::JUN  | 11.20024 |  2.172682 | 14.66456 | 8.886649e-114 | 2.942264e-113 |\n",
       "| JUNB        | 11.09727 |  2.341120 | 14.37524 |  1.268885e-78 |  2.970028e-78 |\n",
       "| FOSL2::JUND | 11.06182 |  1.946406 | 14.43739 |  9.734367e-81 |  2.347268e-80 |\n",
       "| BHLHE23     | 11.05048 |  6.363545 | 13.07663 | 2.111165e-281 | 2.932684e-280 |\n",
       "| NEUROD2     | 11.02624 |  6.348576 | 13.09966 | 3.926010e-280 | 5.337704e-279 |\n",
       "| FOSB::JUNB  | 10.92510 |  1.940720 | 14.31334 | 3.311531e-109 | 1.052770e-108 |\n",
       "| JUN         | 10.91124 |  2.390335 | 14.27361 |  1.077023e-77 |  2.484539e-77 |\n",
       "| FOSL2::JUNB | 10.77264 |  1.925209 | 14.06188 | 9.860468e-123 | 3.663279e-122 |\n",
       "| FOSL1::JUNB | 10.75149 |  1.835227 | 13.95686 | 6.133312e-266 | 7.684679e-265 |\n",
       "\n"
      ],
      "text/plain": [
       "   gene_name   variability bootstrap_lower_bound bootstrap_upper_bound\n",
       "1  NEUROD1     32.02660    21.832545             36.28197             \n",
       "2  NEUROG2     30.61828    20.935405             34.54373             \n",
       "3  TAL1::TCF3  22.78724    15.374460             26.15693             \n",
       "4  HAND2       22.78075    15.539325             26.35482             \n",
       "5  ATOH7       19.45608    13.334609             22.15597             \n",
       "6  ATOH1       17.77563    11.881957             20.25011             \n",
       "7  ZEB1        17.25123     9.945931             20.50296             \n",
       "8  TWIST1      14.29257     9.313501             16.99315             \n",
       "9  SNAI1       13.95026    10.207127             15.83429             \n",
       "10 PHOX2A      13.90000     4.067414             17.70570             \n",
       "11 OLIG1       13.65580     8.699946             15.96487             \n",
       "12 TCF12       13.64566     9.597426             15.38321             \n",
       "13 TCF4        13.56868     9.517821             15.59559             \n",
       "14 ONECUT2     13.45129     3.919193             17.46595             \n",
       "15 TCF3        13.13543     9.307357             14.79393             \n",
       "16 SNAI3       13.07471     9.505789             14.52903             \n",
       "17 OLIG3       12.99972     7.864747             15.27488             \n",
       "18 TCF21       12.94375     8.629679             15.20595             \n",
       "19 SNAI2       12.73725     8.514147             14.37694             \n",
       "20 BHLHA15     12.73696     8.512738             14.59216             \n",
       "21 BATF        12.67382     2.154622             16.51010             \n",
       "22 FOS::JUNB   12.67340     2.094788             16.58230             \n",
       "23 BATF::JUN   12.55908     2.156144             16.38209             \n",
       "24 BATF3       12.49283     2.196284             16.28742             \n",
       "25 OLIG2       12.36369     7.374234             14.49274             \n",
       "26 NEUROG1     12.21694     7.358249             14.18153             \n",
       "27 MYF5        12.10791     8.033040             13.82952             \n",
       "28 FOSL2       12.10533     2.737454             15.87055             \n",
       "29 CTCF        11.91603     4.474693             15.11596             \n",
       "30 FOSL1       11.81639     2.342717             15.43233             \n",
       "31 MYF6        11.80623     8.133014             13.51889             \n",
       "32 TEAD4       11.74023     6.742800             14.22857             \n",
       "33 BHLHE22     11.65264     6.896304             13.79192             \n",
       "34 ONECUT1     11.55012     3.516727             15.08642             \n",
       "35 TEAD1       11.50354     6.463300             14.08329             \n",
       "36 TEAD2       11.50119     6.376818             14.06049             \n",
       "37 JUND        11.43217     2.651337             14.87962             \n",
       "38 PROP1       11.41360     3.673238             14.66323             \n",
       "39 TEAD3       11.37718     6.131457             13.93897             \n",
       "40 ASCL1       11.26287     8.212861             12.62888             \n",
       "41 ZNF135      11.25822     7.680218             13.39022             \n",
       "42 FOSL2::JUN  11.20024     2.172682             14.66456             \n",
       "43 JUNB        11.09727     2.341120             14.37524             \n",
       "44 FOSL2::JUND 11.06182     1.946406             14.43739             \n",
       "45 BHLHE23     11.05048     6.363545             13.07663             \n",
       "46 NEUROD2     11.02624     6.348576             13.09966             \n",
       "47 FOSB::JUNB  10.92510     1.940720             14.31334             \n",
       "48 JUN         10.91124     2.390335             14.27361             \n",
       "49 FOSL2::JUNB 10.77264     1.925209             14.06188             \n",
       "50 FOSL1::JUNB 10.75149     1.835227             13.95686             \n",
       "   p_value       p_value_adj  \n",
       "1   0.000000e+00  0.000000e+00\n",
       "2   0.000000e+00  0.000000e+00\n",
       "3   0.000000e+00  0.000000e+00\n",
       "4   0.000000e+00  0.000000e+00\n",
       "5   0.000000e+00  0.000000e+00\n",
       "6   0.000000e+00  0.000000e+00\n",
       "7   0.000000e+00  0.000000e+00\n",
       "8   0.000000e+00  0.000000e+00\n",
       "9   0.000000e+00  0.000000e+00\n",
       "10  0.000000e+00  0.000000e+00\n",
       "11  0.000000e+00  0.000000e+00\n",
       "12  0.000000e+00  0.000000e+00\n",
       "13  0.000000e+00  0.000000e+00\n",
       "14  0.000000e+00  0.000000e+00\n",
       "15  0.000000e+00  0.000000e+00\n",
       "16  0.000000e+00  0.000000e+00\n",
       "17  0.000000e+00  0.000000e+00\n",
       "18  0.000000e+00  0.000000e+00\n",
       "19  0.000000e+00  0.000000e+00\n",
       "20  0.000000e+00  0.000000e+00\n",
       "21  0.000000e+00  0.000000e+00\n",
       "22  0.000000e+00  0.000000e+00\n",
       "23  0.000000e+00  0.000000e+00\n",
       "24  0.000000e+00  0.000000e+00\n",
       "25  0.000000e+00  0.000000e+00\n",
       "26  0.000000e+00  0.000000e+00\n",
       "27  0.000000e+00  0.000000e+00\n",
       "28  0.000000e+00  0.000000e+00\n",
       "29  0.000000e+00  0.000000e+00\n",
       "30 5.434722e-323 1.121529e-321\n",
       "31 2.075076e-322 4.145211e-321\n",
       "32 1.027538e-318 1.989687e-317\n",
       "33  8.363422e-26  1.251575e-25\n",
       "34 3.343597e-308 6.104454e-307\n",
       "35 1.184391e-305 2.102295e-304\n",
       "36 1.591952e-305 2.749344e-304\n",
       "37  1.104366e-90  2.916075e-90\n",
       "38 9.250339e-301 1.515632e-299\n",
       "39 8.632946e-299 1.379113e-297\n",
       "40  3.269228e-40  5.468683e-40\n",
       "41 2.124206e-292 3.231828e-291\n",
       "42 8.886649e-114 2.942264e-113\n",
       "43  1.268885e-78  2.970028e-78\n",
       "44  9.734367e-81  2.347268e-80\n",
       "45 2.111165e-281 2.932684e-280\n",
       "46 3.926010e-280 5.337704e-279\n",
       "47 3.311531e-109 1.052770e-108\n",
       "48  1.077023e-77  2.484539e-77\n",
       "49 9.860468e-123 3.663279e-122\n",
       "50 6.133312e-266 7.684679e-265"
      ]
     },
     "metadata": {},
     "output_type": "display_data"
    }
   ],
   "source": [
    "dev.var %>% rename(\"name\" = \"motif\") %>% \n",
    "    left_join(motif_lookup[, c(\"motif\", \"gene_name\")], by = \"motif\") %>% \n",
    "    select(-motif) %>% \n",
    "    group_by(gene_name) %>% \n",
    "    summarise_all(\"max\") %>% filter(p_value_adj < 1e-3) %>% \n",
    "    arrange(desc(variability)) %>%\n",
    "    top_n(50, variability)"
   ]
  },
  {
   "cell_type": "code",
   "execution_count": 6,
   "metadata": {},
   "outputs": [
    {
     "ename": "ERROR",
     "evalue": "Error in eval(lhs, parent, parent): object 'dev.var' not found\n",
     "output_type": "error",
     "traceback": [
      "Error in eval(lhs, parent, parent): object 'dev.var' not found\nTraceback:\n",
      "1. dev.var %>% rename(name = \"motif\") %>% left_join(motif_lookup[, \n .     c(\"motif\", \"gene_name\")], by = \"motif\") %>% select(-motif) %>% \n .     group_by(gene_name) %>% summarise_all(\"max\") %>% filter(p_value_adj < \n .     0.001) %>% arrange(desc(variability)) %>% top_n(250, variability) %>% \n .     ggplot(aes(x = gene_name, y = variability))",
      "2. eval(lhs, parent, parent)",
      "3. eval(lhs, parent, parent)"
     ]
    }
   ],
   "source": [
    "dev.var %>% rename(\"name\" = \"motif\") %>% \n",
    "    left_join(motif_lookup[, c(\"motif\", \"gene_name\")], by = \"motif\") %>% \n",
    "    select(-motif) %>% \n",
    "    group_by(gene_name) %>% \n",
    "    summarise_all(\"max\") %>% filter(p_value_adj < 1e-3) %>% \n",
    "    arrange(desc(variability)) %>%\n",
    "    top_n(250, variability) %>%\n",
    "    ggplot(aes(x = gene_name, y = variability)) +\n",
    "        geom_point(stat = \"identity\", alpha = .8) + geom_jitter()"
   ]
  },
  {
   "cell_type": "code",
   "execution_count": 565,
   "metadata": {},
   "outputs": [
    {
     "name": "stdout",
     "output_type": "stream",
     "text": [
      "Formal class 'SimpleList' [package \"S4Vectors\"] with 4 slots\n",
      "  ..@ listData       :List of 2\n",
      "  .. ..$ deviations: num [1:639, 1:12] 0.01151 0.00387 -0.07643 0.0124 -0.05727 ...\n",
      "  .. .. ..- attr(*, \"dimnames\")=List of 2\n",
      "  .. .. .. ..$ : chr [1:639] \"THRB\" \"THAP11\" \"TFAP4(var.2)\" \"TFAP2E\" ...\n",
      "  .. .. .. ..$ : chr [1:12] \"ATAC1.PE.mapq.bed\" \"ATAC2.PE.mapq.bed\" \"ATAC3.PE.mapq.bed\" \"ATAC4.PE.mapq.bed\" ...\n",
      "  .. ..$ z         : num [1:639, 1:12] 5.55 2.14 -16.93 5.48 -12.97 ...\n",
      "  .. .. ..- attr(*, \"dimnames\")=List of 2\n",
      "  .. .. .. ..$ : chr [1:639] \"THRB\" \"THAP11\" \"TFAP4(var.2)\" \"TFAP2E\" ...\n",
      "  .. .. .. ..$ : chr [1:12] \"ATAC1.PE.mapq.bed\" \"ATAC2.PE.mapq.bed\" \"ATAC3.PE.mapq.bed\" \"ATAC4.PE.mapq.bed\" ...\n",
      "  ..@ elementType    : chr \"ANY\"\n",
      "  ..@ elementMetadata: NULL\n",
      "  ..@ metadata       : list()\n"
     ]
    }
   ],
   "source": [
    "str(assays(dev))"
   ]
  },
  {
   "cell_type": "code",
   "execution_count": null,
   "metadata": {},
   "outputs": [],
   "source": []
  },
  {
   "cell_type": "markdown",
   "metadata": {},
   "source": [
    "---"
   ]
  },
  {
   "cell_type": "markdown",
   "metadata": {},
   "source": [
    "## Find TF targets or regulators\n",
    "\n",
    "Current method: \n",
    "\n",
    "1. Use `motifMatch` to match motif to each of the 116K peaks (each peak has its respective read counts).\n",
    "2. Select only ranges that have a match to motifs\n",
    "3. Get the read counts of a given regulator or target:\n",
    "    - For a given regulator, get read counts of all the peaks (ranges) that has this binding motif, sum normalized counts\n",
    "    - For a given target, get read counts of all the peaks (ranges) that ca bind to the motif, sum normalized counts"
   ]
  },
  {
   "cell_type": "markdown",
   "metadata": {},
   "source": [
    "---\n",
    "\n",
    "#### Support functions for this section \n"
   ]
  },
  {
   "cell_type": "code",
   "execution_count": 12,
   "metadata": {
    "ExecuteTime": {
     "end_time": "2019-11-17T17:31:24.198683Z",
     "start_time": "2019-11-17T17:31:23.384Z"
    }
   },
   "outputs": [],
   "source": [
    "getBindingTargetsMatrix <- function(motif_name, motif.matches, genomic.features, min.overlap = 10, tflist) {\n",
    "    ###### INPUTS: #####\n",
    "    # motif_name: string, name of jaspar motif_name\n",
    "    # motif.matches: matchMotif object, e.g. motifMatch() result of peaks and jaspar 2020 motifs\n",
    "    # genomic.features: GenomicRanges object, e.g. a bed formated promoter region coordinates, converted into GRanges object\n",
    "    # min.overlap: integer, minimum overlap in base pairs\n",
    "    # tflist: vector, a list of gene_names. Note these gene names are some times not the same as motif names, hence the need of motif_lookup\n",
    "    ##### OUTPUTS: #####\n",
    "    # overlapped.target.readcount: dataframe, containing read counts of genes that are targets of a given regulator. \n",
    "    # Read counts sum of all peaks that match to the regulator's motif.\n",
    "    \n",
    "    match.matrix <- motifMatches(motif.matches) # get motif matches\n",
    "    GRanges.index <- which(match.matrix[ , motif_name]) # get index of matching peaks\n",
    "    matched.target.GRanges <- rowRanges(motif.matches)[GRanges.index] # get granges of matching peaks\n",
    "    \n",
    "    # intersect with genomic features\n",
    "    target.intersect.feature <- GenomicRanges::findOverlaps(query = matched.target.GRanges, subject = genomic.features,\n",
    "                                                           minoverlap = min.overlap, ignore.strand = T)\n",
    "    overlapped.gene_names <- genomic.features[subjectHits(target.intersect.feature), ] %>%\n",
    "                                as.data.frame %>%\n",
    "                                pull(gene_name) # get gene names of motif-matching peaks that that overlaps a gene\n",
    "    overlapped.target.readcount <- matched.target.GRanges[queryHits(target.intersect.feature), ] %>%\n",
    "                                mcols %>% as.data.frame %>%\n",
    "                                add_column(\"gene_name\" = overlapped.gene_names) %>% # add gene_name to matched ranges\n",
    "                                dplyr::select(gene_name,A1:A12) %>%\n",
    "                                filter(gene_name %in% tflist) %>% # make sure it's in the TF list\n",
    "                                group_by(gene_name) %>% summarise_all(sum)\n",
    "                                \n",
    "    return(overlapped.target.readcount)\n",
    "}"
   ]
  },
  {
   "cell_type": "code",
   "execution_count": 13,
   "metadata": {
    "ExecuteTime": {
     "end_time": "2019-11-17T17:31:24.637970Z",
     "start_time": "2019-11-17T17:31:23.838Z"
    }
   },
   "outputs": [],
   "source": [
    "getRegulatorsMatrix <- function(gene_name, motif.matches, genomic.features, min.overlap = 10, tf.motif.list) {\n",
    "    ###### INPUTS: #####\n",
    "    # gene_name: string, gene name\n",
    "    # motif.matches: matchMotif object, e.g. motifMatch() result of peaks and jaspar 2020 motifs\n",
    "    # countGRanges: GenomicRanges object, e.g. a normalized read matrix, converted into GRanges object\n",
    "    # genomic.features: GenomicRanges object, e.g. a bed formated promoter region coordinates, converted into GRanges object\n",
    "    # min.overlap: integer, minimum overlap in base pairs\n",
    "    # tf.motif.list: vector, a list of TF motif names. \n",
    "    ##### OUTPUTS: #####\n",
    "    # regulators.readcount: list, each element's name is a regulator's motif name, the values are\n",
    "    # summarised readcounts of matching/overlapping peaks for this regulator\n",
    "    \n",
    "    match.matrix <- motifMatches(motif.matches)\n",
    "    match.matrix.GRanges <- rowRanges(motif.matches)\n",
    "    \n",
    "    # get the genomic ranges of the querying gene\n",
    "    gene.GRanges <- genomic.features[genomic.features$gene_name == gene_name]\n",
    "    \n",
    "    # intersect match.matrix with gene.GRanges\n",
    "    match.intersect.gene <- GenomicRanges::findOverlaps(query = match.matrix.GRanges, subject = gene.GRanges,\n",
    "                                                       minoverlap = min.overlap, ignore.strand = T)\n",
    "    overlapped.match.index <- queryHits(match.intersect.gene)\n",
    "    \n",
    "    # get all the motif names that bind to this gene's region, based on atac-seq data\n",
    "    # keep motif names of the motifs that have a match in peaks\n",
    "    if (length(overlapped.match.index) == 1) { # if there's only one peak\n",
    "        gene.regulators <- match.matrix[overlapped.match.index, ] %>% .[.] %>% names \n",
    "    } else { # if multiple peaks\n",
    "        gene.regulators <- match.matrix[overlapped.match.index, ] %>% colSums %>% .[.>0] %>% names\n",
    "    }\n",
    "    # only select listed TFs\n",
    "    gene.regulators <- gene.regulators[gene.regulators %in% tf.motif.list] \n",
    "    \n",
    "    # for each regulator (motif), get the read counts of the binding sites\n",
    "    regulators.readcount <- list()\n",
    "    for (regulator in gene.regulators) {\n",
    "        readcount <- match.matrix.GRanges[overlapped.match.index, ] %>% # get counts of peaks within querying gene\n",
    "                        as.data.frame %>% select(A1:A12) %>% # get only count columns\n",
    "                        `*`(match.matrix[overlapped.match.index, regulator]) %>% # multiply 0 or 1 based on if the peak has a match to this regulator or not\n",
    "                        colSums() # sum up all the reads from peaks that match to the regulator binding site\n",
    "        regulators.readcount[[regulator]] <- readcount\n",
    "\n",
    "    }\n",
    "    return(regulators.readcount)\n",
    "}"
   ]
  },
  {
   "cell_type": "markdown",
   "metadata": {},
   "source": [
    "---"
   ]
  },
  {
   "cell_type": "code",
   "execution_count": 14,
   "metadata": {
    "ExecuteTime": {
     "end_time": "2019-11-17T17:31:26.545195Z",
     "start_time": "2019-11-17T17:31:25.588Z"
    }
   },
   "outputs": [],
   "source": [
    "# get annotated promoter region bed\n",
    "gene_region <- read.table(\"Protein_coding_genes_Up_2k.bed\", header = F, stringsAsFactors = F, \n",
    "                              col.names = c(\"seqname\",\"start\",\"end\",\"gene_id\",\"gene_name\",\"strand\")) %>% \n",
    "                                dplyr::select(seqname, start, end, strand, gene_id, gene_name)\n",
    "# convert to GRanges object\n",
    "gene_region <- GenomicRanges::makeGRangesFromDataFrame(gene_region, keep.extra.columns = T)"
   ]
  },
  {
   "cell_type": "code",
   "execution_count": 15,
   "metadata": {
    "ExecuteTime": {
     "end_time": "2019-11-17T17:32:56.537629Z",
     "start_time": "2019-11-17T17:31:27.313Z"
    }
   },
   "outputs": [],
   "source": [
    "# match peaks with jaspar2020\n",
    "matchPeaksWithJaspar <- matchMotifs(pwms = jaspar_2020, subject = my_counts_matrix.norm, genome = BSgenome.Hsapiens.UCSC.hg38, out = \"matches\")"
   ]
  },
  {
   "cell_type": "raw",
   "metadata": {},
   "source": [
    "matchPeaksWithJaspar.pos <- matchMotifs(pwms = jaspar_2020, subject = my_counts_matrix.norm, genome = BSgenome.Hsapiens.UCSC.hg38, out = \"positions\")"
   ]
  },
  {
   "cell_type": "markdown",
   "metadata": {},
   "source": [
    "---"
   ]
  },
  {
   "cell_type": "code",
   "execution_count": null,
   "metadata": {},
   "outputs": [],
   "source": []
  },
  {
   "cell_type": "code",
   "execution_count": 17,
   "metadata": {},
   "outputs": [
    {
     "data": {
      "text/html": [
       "<table>\n",
       "<caption>A tibble: 1 × 13</caption>\n",
       "<thead>\n",
       "\t<tr><th scope=col>gene_name</th><th scope=col>A1</th><th scope=col>A2</th><th scope=col>A3</th><th scope=col>A4</th><th scope=col>A5</th><th scope=col>A6</th><th scope=col>A7</th><th scope=col>A8</th><th scope=col>A9</th><th scope=col>A10</th><th scope=col>A11</th><th scope=col>A12</th></tr>\n",
       "\t<tr><th scope=col>&lt;chr&gt;</th><th scope=col>&lt;dbl&gt;</th><th scope=col>&lt;dbl&gt;</th><th scope=col>&lt;dbl&gt;</th><th scope=col>&lt;dbl&gt;</th><th scope=col>&lt;dbl&gt;</th><th scope=col>&lt;dbl&gt;</th><th scope=col>&lt;dbl&gt;</th><th scope=col>&lt;dbl&gt;</th><th scope=col>&lt;dbl&gt;</th><th scope=col>&lt;dbl&gt;</th><th scope=col>&lt;dbl&gt;</th><th scope=col>&lt;dbl&gt;</th></tr>\n",
       "</thead>\n",
       "<tbody>\n",
       "\t<tr><td>ZBTB18</td><td>1.650795</td><td>3.21885</td><td>3.656414</td><td>2.766371</td><td>5.595751</td><td>4.928782</td><td>6.979408</td><td>5.079553</td><td>4.68844</td><td>6.096342</td><td>11.29208</td><td>7.129847</td></tr>\n",
       "</tbody>\n",
       "</table>\n"
      ],
      "text/latex": [
       "A tibble: 1 × 13\n",
       "\\begin{tabular}{r|lllllllllllll}\n",
       " gene\\_name & A1 & A2 & A3 & A4 & A5 & A6 & A7 & A8 & A9 & A10 & A11 & A12\\\\\n",
       " <chr> & <dbl> & <dbl> & <dbl> & <dbl> & <dbl> & <dbl> & <dbl> & <dbl> & <dbl> & <dbl> & <dbl> & <dbl>\\\\\n",
       "\\hline\n",
       "\t ZBTB18 & 1.650795 & 3.21885 & 3.656414 & 2.766371 & 5.595751 & 4.928782 & 6.979408 & 5.079553 & 4.68844 & 6.096342 & 11.29208 & 7.129847\\\\\n",
       "\\end{tabular}\n"
      ],
      "text/markdown": [
       "\n",
       "A tibble: 1 × 13\n",
       "\n",
       "| gene_name &lt;chr&gt; | A1 &lt;dbl&gt; | A2 &lt;dbl&gt; | A3 &lt;dbl&gt; | A4 &lt;dbl&gt; | A5 &lt;dbl&gt; | A6 &lt;dbl&gt; | A7 &lt;dbl&gt; | A8 &lt;dbl&gt; | A9 &lt;dbl&gt; | A10 &lt;dbl&gt; | A11 &lt;dbl&gt; | A12 &lt;dbl&gt; |\n",
       "|---|---|---|---|---|---|---|---|---|---|---|---|---|\n",
       "| ZBTB18 | 1.650795 | 3.21885 | 3.656414 | 2.766371 | 5.595751 | 4.928782 | 6.979408 | 5.079553 | 4.68844 | 6.096342 | 11.29208 | 7.129847 |\n",
       "\n"
      ],
      "text/plain": [
       "  gene_name A1       A2      A3       A4       A5       A6       A7      \n",
       "1 ZBTB18    1.650795 3.21885 3.656414 2.766371 5.595751 4.928782 6.979408\n",
       "  A8       A9      A10      A11      A12     \n",
       "1 5.079553 4.68844 6.096342 11.29208 7.129847"
      ]
     },
     "metadata": {},
     "output_type": "display_data"
    }
   ],
   "source": [
    "getBindingTargetsMatrix(\"NEUROG2(var.2)\", matchPeaksWithJaspar, gene_region, 10, tflist) %>% filter(str_detect(gene_name, \"ZBTB18\"))"
   ]
  },
  {
   "cell_type": "code",
   "execution_count": 20,
   "metadata": {},
   "outputs": [
    {
     "data": {
      "text/html": [
       "<table>\n",
       "<caption>A data.frame: 0 × 13</caption>\n",
       "<thead>\n",
       "\t<tr><th scope=col>motif</th><th scope=col>A1</th><th scope=col>A2</th><th scope=col>A3</th><th scope=col>A4</th><th scope=col>A5</th><th scope=col>A6</th><th scope=col>A7</th><th scope=col>A8</th><th scope=col>A9</th><th scope=col>A10</th><th scope=col>A11</th><th scope=col>A12</th></tr>\n",
       "\t<tr><th scope=col>&lt;chr&gt;</th><th scope=col>&lt;dbl&gt;</th><th scope=col>&lt;dbl&gt;</th><th scope=col>&lt;dbl&gt;</th><th scope=col>&lt;dbl&gt;</th><th scope=col>&lt;dbl&gt;</th><th scope=col>&lt;dbl&gt;</th><th scope=col>&lt;dbl&gt;</th><th scope=col>&lt;dbl&gt;</th><th scope=col>&lt;dbl&gt;</th><th scope=col>&lt;dbl&gt;</th><th scope=col>&lt;dbl&gt;</th><th scope=col>&lt;dbl&gt;</th></tr>\n",
       "</thead>\n",
       "<tbody>\n",
       "</tbody>\n",
       "</table>\n"
      ],
      "text/latex": [
       "A data.frame: 0 × 13\n",
       "\\begin{tabular}{r|lllllllllllll}\n",
       " motif & A1 & A2 & A3 & A4 & A5 & A6 & A7 & A8 & A9 & A10 & A11 & A12\\\\\n",
       " <chr> & <dbl> & <dbl> & <dbl> & <dbl> & <dbl> & <dbl> & <dbl> & <dbl> & <dbl> & <dbl> & <dbl> & <dbl>\\\\\n",
       "\\hline\n",
       "\\end{tabular}\n"
      ],
      "text/markdown": [
       "\n",
       "A data.frame: 0 × 13\n",
       "\n",
       "| motif &lt;chr&gt; | A1 &lt;dbl&gt; | A2 &lt;dbl&gt; | A3 &lt;dbl&gt; | A4 &lt;dbl&gt; | A5 &lt;dbl&gt; | A6 &lt;dbl&gt; | A7 &lt;dbl&gt; | A8 &lt;dbl&gt; | A9 &lt;dbl&gt; | A10 &lt;dbl&gt; | A11 &lt;dbl&gt; | A12 &lt;dbl&gt; |\n",
       "|---|---|---|---|---|---|---|---|---|---|---|---|---|\n",
       "\n"
      ],
      "text/plain": [
       "     motif A1 A2 A3 A4 A5 A6 A7 A8 A9 A10 A11 A12"
      ]
     },
     "metadata": {},
     "output_type": "display_data"
    }
   ],
   "source": [
    "getRegulatorsMatrix(\"TSC22D3\", matchPeaksWithJaspar, gene_region[gene_region$gene_name == \"TSC22D3\"], 10, tf.motif.list) %>% \n",
    "            do.call(rbind, .) %>% as.data.frame %>% rownames_to_column(\"motif\") %>% filter(str_detect(motif, \"NEUROG\"))"
   ]
  },
  {
   "cell_type": "code",
   "execution_count": 1,
   "metadata": {},
   "outputs": [
    {
     "ename": "ERROR",
     "evalue": "Error in getRegulatorsMatrix(\"TSC22D3\", matchPeaksWithJaspar, gene_region[gene_region$gene_name == : could not find function \"%>%\"\n",
     "output_type": "error",
     "traceback": [
      "Error in getRegulatorsMatrix(\"TSC22D3\", matchPeaksWithJaspar, gene_region[gene_region$gene_name == : could not find function \"%>%\"\nTraceback:\n"
     ]
    }
   ],
   "source": [
    "getRegulatorsMatrix(\"TSC22D3\", matchPeaksWithJaspar, gene_region[gene_region$gene_name == \"TSC22D3\"], 10, tf.motif.list) %>% do.call(rbind, .) %>% head"
   ]
  },
  {
   "cell_type": "code",
   "execution_count": 24,
   "metadata": {},
   "outputs": [
    {
     "data": {
      "text/plain": [
       "GRanges object with 7 ranges and 2 metadata columns:\n",
       "      seqnames              ranges strand |            gene_id   gene_name\n",
       "         <Rle>           <IRanges>  <Rle> |        <character> <character>\n",
       "  [1]     chr2   48312637-48379295      + | ENSG00000170802.16       FOXN2\n",
       "  [2]     chr3   41192741-41260096      + | ENSG00000168036.18      CTNNB1\n",
       "  [3]     chr6 133950170-133990432      + | ENSG00000028839.10       TBPL1\n",
       "  [4]    chr11   63911230-63919164      - |  ENSG00000167771.6       RCOR2\n",
       "  [5]    chr17   38703542-38729803      + |  ENSG00000275023.4       MLLT6\n",
       "  [6]    chr20   64047836-64072347      + | ENSG00000171703.17       TCEA2\n",
       "  [7]     chrX 107713221-107779342      - | ENSG00000157514.16     TSC22D3\n",
       "  -------\n",
       "  seqinfo: 24 sequences from an unspecified genome; no seqlengths"
      ]
     },
     "metadata": {},
     "output_type": "display_data"
    }
   ],
   "source": [
    "gene_region[gene_region$gene_name %in% c(\"TSC22D3\",\"RCOR2\",\"FOXN2\",\"TBPL1\",\"MLLT6\",\"TCEA2\", \"CTNNB1\")]"
   ]
  },
  {
   "cell_type": "code",
   "execution_count": null,
   "metadata": {},
   "outputs": [],
   "source": []
  },
  {
   "cell_type": "code",
   "execution_count": null,
   "metadata": {},
   "outputs": [],
   "source": []
  },
  {
   "cell_type": "markdown",
   "metadata": {},
   "source": [
    "### A. Know regulators, find their targets"
   ]
  },
  {
   "cell_type": "code",
   "execution_count": 58,
   "metadata": {
    "ExecuteTime": {
     "end_time": "2019-11-17T17:33:33.637909Z",
     "start_time": "2019-11-17T17:33:32.835Z"
    }
   },
   "outputs": [],
   "source": [
    "FOUND_TARGETS <- list()\n",
    "#Regulators <- c(\"NEUROG2\", \"NEUROG1\", \"NEUROG2(var.2)\", \"ZBTB18\", \"POU3F2\", \"EBF1\" ,\"ISL2\", \"INSM1\",\"SNAI2\", \"TSC22D3\",\"RCOR2\",\"FOXN2\",\"TBPL1\",\"E2F1\",\"SCRT2\",\"VAX2\",\"PHOX2A\",\"MLLT6\",\"JUND\",\"TCEA2\")\n",
    "Regulators <- read.table(\"geneListForRegulatorTargetSearch.txt\", stringsAsFactors = F) %>% pull(V1)\n",
    "#Regulators <- which(Regulators %in% motif_lookup$motif) %>% Regulators[.] # filter out the ones that are not in the motif database"
   ]
  },
  {
   "cell_type": "code",
   "execution_count": 73,
   "metadata": {},
   "outputs": [
    {
     "data": {
      "text/html": [
       "TRUE"
      ],
      "text/latex": [
       "TRUE"
      ],
      "text/markdown": [
       "TRUE"
      ],
      "text/plain": [
       "[1] TRUE"
      ]
     },
     "metadata": {},
     "output_type": "display_data"
    }
   ],
   "source": [
    "\"HOXB3\" %in% motif_lookup$motif"
   ]
  },
  {
   "cell_type": "code",
   "execution_count": 70,
   "metadata": {},
   "outputs": [
    {
     "data": {
      "text/html": [
       "<ol class=list-inline>\n",
       "\t<li>'AFF4'</li>\n",
       "\t<li>'ARID1B'</li>\n",
       "\t<li>'CBX4'</li>\n",
       "\t<li>'FOXN2'</li>\n",
       "\t<li>'LHX4'</li>\n",
       "\t<li>'MECP2'</li>\n",
       "\t<li>'MLLT6'</li>\n",
       "\t<li>'MPHOSPH8'</li>\n",
       "\t<li>'PRDM6'</li>\n",
       "\t<li>'RAI14'</li>\n",
       "\t<li>'RCOR2'</li>\n",
       "\t<li>'TBPL1'</li>\n",
       "\t<li>'TCEA2'</li>\n",
       "\t<li>'THRA'</li>\n",
       "\t<li>'TOX4'</li>\n",
       "\t<li>'TSC22D'</li>\n",
       "\t<li>'ZFP2'</li>\n",
       "\t<li>'ZNF250'</li>\n",
       "\t<li>'ZNF3'</li>\n",
       "\t<li>'ZNF34'</li>\n",
       "\t<li>'ZNF440'</li>\n",
       "\t<li>'ZNF441'</li>\n",
       "\t<li>'ZNF554'</li>\n",
       "</ol>\n"
      ],
      "text/latex": [
       "\\begin{enumerate*}\n",
       "\\item 'AFF4'\n",
       "\\item 'ARID1B'\n",
       "\\item 'CBX4'\n",
       "\\item 'FOXN2'\n",
       "\\item 'LHX4'\n",
       "\\item 'MECP2'\n",
       "\\item 'MLLT6'\n",
       "\\item 'MPHOSPH8'\n",
       "\\item 'PRDM6'\n",
       "\\item 'RAI14'\n",
       "\\item 'RCOR2'\n",
       "\\item 'TBPL1'\n",
       "\\item 'TCEA2'\n",
       "\\item 'THRA'\n",
       "\\item 'TOX4'\n",
       "\\item 'TSC22D'\n",
       "\\item 'ZFP2'\n",
       "\\item 'ZNF250'\n",
       "\\item 'ZNF3'\n",
       "\\item 'ZNF34'\n",
       "\\item 'ZNF440'\n",
       "\\item 'ZNF441'\n",
       "\\item 'ZNF554'\n",
       "\\end{enumerate*}\n"
      ],
      "text/markdown": [
       "1. 'AFF4'\n",
       "2. 'ARID1B'\n",
       "3. 'CBX4'\n",
       "4. 'FOXN2'\n",
       "5. 'LHX4'\n",
       "6. 'MECP2'\n",
       "7. 'MLLT6'\n",
       "8. 'MPHOSPH8'\n",
       "9. 'PRDM6'\n",
       "10. 'RAI14'\n",
       "11. 'RCOR2'\n",
       "12. 'TBPL1'\n",
       "13. 'TCEA2'\n",
       "14. 'THRA'\n",
       "15. 'TOX4'\n",
       "16. 'TSC22D'\n",
       "17. 'ZFP2'\n",
       "18. 'ZNF250'\n",
       "19. 'ZNF3'\n",
       "20. 'ZNF34'\n",
       "21. 'ZNF440'\n",
       "22. 'ZNF441'\n",
       "23. 'ZNF554'\n",
       "\n",
       "\n"
      ],
      "text/plain": [
       " [1] \"AFF4\"     \"ARID1B\"   \"CBX4\"     \"FOXN2\"    \"LHX4\"     \"MECP2\"   \n",
       " [7] \"MLLT6\"    \"MPHOSPH8\" \"PRDM6\"    \"RAI14\"    \"RCOR2\"    \"TBPL1\"   \n",
       "[13] \"TCEA2\"    \"THRA\"     \"TOX4\"     \"TSC22D\"   \"ZFP2\"     \"ZNF250\"  \n",
       "[19] \"ZNF3\"     \"ZNF34\"    \"ZNF440\"   \"ZNF441\"   \"ZNF554\"  "
      ]
     },
     "metadata": {},
     "output_type": "display_data"
    }
   ],
   "source": [
    "setdiff(Regulators, motif_lookup$motif) %>% sort"
   ]
  },
  {
   "cell_type": "code",
   "execution_count": 35,
   "metadata": {},
   "outputs": [
    {
     "data": {
      "text/html": [
       "<ol class=list-inline>\n",
       "\t<li>'TSC22D3'</li>\n",
       "\t<li>'RCOR2'</li>\n",
       "\t<li>'FOXN2'</li>\n",
       "\t<li>'TBPL1'</li>\n",
       "\t<li>'MLLT6'</li>\n",
       "\t<li>'TCEA2'</li>\n",
       "\t<li>'CTNNB1'</li>\n",
       "</ol>\n"
      ],
      "text/latex": [
       "\\begin{enumerate*}\n",
       "\\item 'TSC22D3'\n",
       "\\item 'RCOR2'\n",
       "\\item 'FOXN2'\n",
       "\\item 'TBPL1'\n",
       "\\item 'MLLT6'\n",
       "\\item 'TCEA2'\n",
       "\\item 'CTNNB1'\n",
       "\\end{enumerate*}\n"
      ],
      "text/markdown": [
       "1. 'TSC22D3'\n",
       "2. 'RCOR2'\n",
       "3. 'FOXN2'\n",
       "4. 'TBPL1'\n",
       "5. 'MLLT6'\n",
       "6. 'TCEA2'\n",
       "7. 'CTNNB1'\n",
       "\n",
       "\n"
      ],
      "text/plain": [
       "[1] \"TSC22D3\" \"RCOR2\"   \"FOXN2\"   \"TBPL1\"   \"MLLT6\"   \"TCEA2\"   \"CTNNB1\" "
      ]
     },
     "metadata": {},
     "output_type": "display_data"
    }
   ],
   "source": [
    "# These TFs are not found in motif database\n",
    "xxx <- c(\"NEUROG2\", \"NEUROG1\", \"NEUROG2(var.2)\", \"ZBTB18\", \"POU3F2\", \"EBF1\" ,\"ISL2\", \"INSM1\",\"SNAI2\", \n",
    "  \"TSC22D3\",\"RCOR2\",\"FOXN2\",\"TBPL1\",\"E2F1\",\"SCRT2\",\"VAX2\",\"PHOX2A\",\"MLLT6\",\"JUND\",\"TCEA2\", \"CTNNB1\") \n",
    "which(!xxx %in% motif_lookup$motif) %>% xxx[.]"
   ]
  },
  {
   "cell_type": "code",
   "execution_count": 36,
   "metadata": {
    "ExecuteTime": {
     "end_time": "2019-11-17T17:33:35.730849Z",
     "start_time": "2019-11-17T17:33:33.467Z"
    }
   },
   "outputs": [],
   "source": [
    "for (regulator in Regulators) {\n",
    "    regulator.gene_name <- motif_lookup[motif_lookup$motif == regulator, 'gene_name']\n",
    "    x <- getBindingTargetsMatrix(regulator, matchPeaksWithJaspar, gene_region, 10, tflist)\n",
    "    x[\"regulator\"] <- regulator.gene_name\n",
    "    x <- select(x, regulator, gene_name, A1:A12)\n",
    "    FOUND_TARGETS[[regulator.gene_name]] <- x\n",
    "}\n",
    "FOUND_TARGETS <- do.call(rbind, FOUND_TARGETS)"
   ]
  },
  {
   "cell_type": "markdown",
   "metadata": {},
   "source": [
    "### B. Know targets, find their regulators"
   ]
  },
  {
   "cell_type": "code",
   "execution_count": 46,
   "metadata": {
    "ExecuteTime": {
     "end_time": "2019-11-17T17:33:39.514590Z",
     "start_time": "2019-11-17T17:33:38.711Z"
    }
   },
   "outputs": [],
   "source": [
    "FOUND_REGULATORS <- list()\n",
    "Targets <- c(\"NEUROG2\", \"NEUROG1\", \"ZBTB18\", \"POU3F2\", \"EBF1\" ,\"ISL2\", \"INSM1\",\"SNAI2\", \"TSC22D3\",\"RCOR2\",\"FOXN2\",\"TBPL1\",\"E2F1\",\"SCRT2\",\"VAX2\",\"PHOX2A\",\"MLLT6\",\"JUND\",\"TCEA2\", \"CTNNB1\")"
   ]
  },
  {
   "cell_type": "code",
   "execution_count": 107,
   "metadata": {},
   "outputs": [],
   "source": [
    "Targets <- read.table(\"geneListForRegulatorTargetSearch.txt\", stringsAsFactors = F) %>% pull(V1)"
   ]
  },
  {
   "cell_type": "code",
   "execution_count": 110,
   "metadata": {},
   "outputs": [],
   "source": [
    "Targets <- Targets[Targets %in% tflist]"
   ]
  },
  {
   "cell_type": "code",
   "execution_count": 106,
   "metadata": {},
   "outputs": [
    {
     "data": {
      "text/html": [
       "TRUE"
      ],
      "text/latex": [
       "TRUE"
      ],
      "text/markdown": [
       "TRUE"
      ],
      "text/plain": [
       "[1] TRUE"
      ]
     },
     "metadata": {},
     "output_type": "display_data"
    }
   ],
   "source": [
    "\"TSC22D3\" %in% gene_region$gene_name"
   ]
  },
  {
   "cell_type": "code",
   "execution_count": 47,
   "metadata": {
    "ExecuteTime": {
     "end_time": "2019-11-17T17:34:02.158457Z",
     "start_time": "2019-11-17T17:33:39.303Z"
    }
   },
   "outputs": [],
   "source": [
    "for (target in Targets) {\n",
    "    y <- getRegulatorsMatrix(target, matchPeaksWithJaspar, gene_region, 10, tf.motif.list)\n",
    "    y <- do.call(rbind, y) %>% as.data.frame\n",
    "    y['target'] <- target\n",
    "    y <- rownames_to_column(y, 'motif') %>% \n",
    "            left_join(motif_lookup[, c('motif', 'gene_name')], by = \"motif\") %>% \n",
    "            rename(\"gene_name\" = \"regulator\") %>%\n",
    "            select(regulator, target, A1:A12)\n",
    "    FOUND_REGULATORS[[target]] <- y\n",
    "}"
   ]
  },
  {
   "cell_type": "code",
   "execution_count": 48,
   "metadata": {
    "ExecuteTime": {
     "end_time": "2019-11-17T17:34:02.174520Z",
     "start_time": "2019-11-17T17:33:40.955Z"
    }
   },
   "outputs": [],
   "source": [
    "FOUND_REGULATORS <- do.call(rbind, FOUND_REGULATORS)"
   ]
  },
  {
   "cell_type": "code",
   "execution_count": 49,
   "metadata": {},
   "outputs": [],
   "source": [
    "WriteXLS(list(Targets=FOUND_TARGETS, Regulators=FOUND_REGULATORS), \"Set_of_regulators_counts_by_time.xls\")"
   ]
  },
  {
   "cell_type": "raw",
   "metadata": {},
   "source": [
    "toPWM(Matrix(jaspar_2020)$NEUROD1, \"prob\" ) %>% seqLogo::seqLogo(xfontsize = 5, yfontsize = 5)"
   ]
  },
  {
   "cell_type": "code",
   "execution_count": null,
   "metadata": {},
   "outputs": [],
   "source": []
  },
  {
   "cell_type": "code",
   "execution_count": 3,
   "metadata": {},
   "outputs": [
    {
     "ename": "ERROR",
     "evalue": "Error in eval(lhs, parent, parent): object 'FOUND_REGULATORS' not found\n",
     "output_type": "error",
     "traceback": [
      "Error in eval(lhs, parent, parent): object 'FOUND_REGULATORS' not found\nTraceback:\n",
      "1. FOUND_REGULATORS %>% filter(target == \"ZBTB18\" & str_detect(regulator, \n .     \"NEU\"))",
      "2. eval(lhs, parent, parent)",
      "3. eval(lhs, parent, parent)"
     ]
    }
   ],
   "source": [
    "FOUND_REGULATORS %>% filter(target == \"ZBTB18\" & str_detect(regulator, \"NEU\"))"
   ]
  },
  {
   "cell_type": "markdown",
   "metadata": {},
   "source": [
    "### Differential analysis on targets:"
   ]
  },
  {
   "cell_type": "code",
   "execution_count": 19,
   "metadata": {
    "ExecuteTime": {
     "end_time": "2019-11-17T17:35:09.566180Z",
     "start_time": "2019-11-17T17:35:06.134Z"
    }
   },
   "outputs": [],
   "source": [
    "library(DESeq2)"
   ]
  },
  {
   "cell_type": "code",
   "execution_count": 158,
   "metadata": {
    "ExecuteTime": {
     "end_time": "2019-11-17T17:38:44.634585Z",
     "start_time": "2019-11-17T17:38:44.580Z"
    }
   },
   "outputs": [],
   "source": [
    "FOUND_TARGETS.deseq <- FOUND_TARGETS %>% mutate(\"tf.pair\" = paste(regulator,gene_name, sep = \":\")) %>%\n",
    "                select(tf.pair, A1:A12)"
   ]
  },
  {
   "cell_type": "code",
   "execution_count": 159,
   "metadata": {
    "ExecuteTime": {
     "end_time": "2019-11-17T17:41:23.040403Z",
     "start_time": "2019-11-17T17:41:22.971Z"
    }
   },
   "outputs": [
    {
     "data": {
      "text/html": [
       "<table>\n",
       "<caption>A tibble: 6 × 13</caption>\n",
       "<thead>\n",
       "\t<tr><th scope=col>tf.pair</th><th scope=col>A1</th><th scope=col>A2</th><th scope=col>A3</th><th scope=col>A4</th><th scope=col>A5</th><th scope=col>A6</th><th scope=col>A7</th><th scope=col>A8</th><th scope=col>A9</th><th scope=col>A10</th><th scope=col>A11</th><th scope=col>A12</th></tr>\n",
       "\t<tr><th scope=col>&lt;chr&gt;</th><th scope=col>&lt;dbl&gt;</th><th scope=col>&lt;dbl&gt;</th><th scope=col>&lt;dbl&gt;</th><th scope=col>&lt;dbl&gt;</th><th scope=col>&lt;dbl&gt;</th><th scope=col>&lt;dbl&gt;</th><th scope=col>&lt;dbl&gt;</th><th scope=col>&lt;dbl&gt;</th><th scope=col>&lt;dbl&gt;</th><th scope=col>&lt;dbl&gt;</th><th scope=col>&lt;dbl&gt;</th><th scope=col>&lt;dbl&gt;</th></tr>\n",
       "</thead>\n",
       "<tbody>\n",
       "\t<tr><td>NEUROG2:ABL1 </td><td> 59.612027</td><td> 60.728975</td><td> 49.15846</td><td> 69.372078</td><td> 52.360238</td><td> 53.93496</td><td> 41.17851</td><td> 54.68986</td><td> 44.86193</td><td> 52.234566</td><td> 61.353611</td><td> 63.027849</td></tr>\n",
       "\t<tr><td>NEUROG2:AEBP2</td><td> 12.656092</td><td>  9.656551</td><td> 13.60999</td><td>  6.383934</td><td>  7.993929</td><td> 11.54743</td><td> 16.51793</td><td> 11.85229</td><td> 10.38811</td><td>  6.512002</td><td>  4.893233</td><td>  4.563102</td></tr>\n",
       "\t<tr><td>NEUROG2:AFF1 </td><td> 26.229292</td><td> 33.261453</td><td> 31.89206</td><td> 38.516399</td><td> 26.979512</td><td> 30.55845</td><td> 25.59116</td><td> 26.92163</td><td> 28.22257</td><td> 27.710645</td><td> 24.340696</td><td> 23.671093</td></tr>\n",
       "\t<tr><td>NEUROG2:AFF3 </td><td>135.915421</td><td>142.487772</td><td>137.31866</td><td>144.276899</td><td>141.292702</td><td>140.68152</td><td>146.56756</td><td>165.25480</td><td>153.06377</td><td>153.655526</td><td>150.686477</td><td>160.991950</td></tr>\n",
       "\t<tr><td>NEUROG2:AHR  </td><td> 28.063508</td><td> 36.265713</td><td> 36.36101</td><td> 39.367591</td><td> 35.173289</td><td> 28.16447</td><td> 30.01145</td><td> 16.25457</td><td> 32.08364</td><td> 23.554048</td><td> 11.417543</td><td> 11.122562</td></tr>\n",
       "\t<tr><td>NEUROG2:ALX3 </td><td>  8.070551</td><td> 14.806711</td><td> 11.98491</td><td> 12.129474</td><td> 12.990135</td><td> 13.51894</td><td> 14.65676</td><td>  7.61933</td><td> 10.93969</td><td> 10.945705</td><td>  8.029920</td><td>  9.553995</td></tr>\n",
       "</tbody>\n",
       "</table>\n"
      ],
      "text/latex": [
       "A tibble: 6 × 13\n",
       "\\begin{tabular}{r|lllllllllllll}\n",
       " tf.pair & A1 & A2 & A3 & A4 & A5 & A6 & A7 & A8 & A9 & A10 & A11 & A12\\\\\n",
       " <chr> & <dbl> & <dbl> & <dbl> & <dbl> & <dbl> & <dbl> & <dbl> & <dbl> & <dbl> & <dbl> & <dbl> & <dbl>\\\\\n",
       "\\hline\n",
       "\t NEUROG2:ABL1  &  59.612027 &  60.728975 &  49.15846 &  69.372078 &  52.360238 &  53.93496 &  41.17851 &  54.68986 &  44.86193 &  52.234566 &  61.353611 &  63.027849\\\\\n",
       "\t NEUROG2:AEBP2 &  12.656092 &   9.656551 &  13.60999 &   6.383934 &   7.993929 &  11.54743 &  16.51793 &  11.85229 &  10.38811 &   6.512002 &   4.893233 &   4.563102\\\\\n",
       "\t NEUROG2:AFF1  &  26.229292 &  33.261453 &  31.89206 &  38.516399 &  26.979512 &  30.55845 &  25.59116 &  26.92163 &  28.22257 &  27.710645 &  24.340696 &  23.671093\\\\\n",
       "\t NEUROG2:AFF3  & 135.915421 & 142.487772 & 137.31866 & 144.276899 & 141.292702 & 140.68152 & 146.56756 & 165.25480 & 153.06377 & 153.655526 & 150.686477 & 160.991950\\\\\n",
       "\t NEUROG2:AHR   &  28.063508 &  36.265713 &  36.36101 &  39.367591 &  35.173289 &  28.16447 &  30.01145 &  16.25457 &  32.08364 &  23.554048 &  11.417543 &  11.122562\\\\\n",
       "\t NEUROG2:ALX3  &   8.070551 &  14.806711 &  11.98491 &  12.129474 &  12.990135 &  13.51894 &  14.65676 &   7.61933 &  10.93969 &  10.945705 &   8.029920 &   9.553995\\\\\n",
       "\\end{tabular}\n"
      ],
      "text/markdown": [
       "\n",
       "A tibble: 6 × 13\n",
       "\n",
       "| tf.pair &lt;chr&gt; | A1 &lt;dbl&gt; | A2 &lt;dbl&gt; | A3 &lt;dbl&gt; | A4 &lt;dbl&gt; | A5 &lt;dbl&gt; | A6 &lt;dbl&gt; | A7 &lt;dbl&gt; | A8 &lt;dbl&gt; | A9 &lt;dbl&gt; | A10 &lt;dbl&gt; | A11 &lt;dbl&gt; | A12 &lt;dbl&gt; |\n",
       "|---|---|---|---|---|---|---|---|---|---|---|---|---|\n",
       "| NEUROG2:ABL1  |  59.612027 |  60.728975 |  49.15846 |  69.372078 |  52.360238 |  53.93496 |  41.17851 |  54.68986 |  44.86193 |  52.234566 |  61.353611 |  63.027849 |\n",
       "| NEUROG2:AEBP2 |  12.656092 |   9.656551 |  13.60999 |   6.383934 |   7.993929 |  11.54743 |  16.51793 |  11.85229 |  10.38811 |   6.512002 |   4.893233 |   4.563102 |\n",
       "| NEUROG2:AFF1  |  26.229292 |  33.261453 |  31.89206 |  38.516399 |  26.979512 |  30.55845 |  25.59116 |  26.92163 |  28.22257 |  27.710645 |  24.340696 |  23.671093 |\n",
       "| NEUROG2:AFF3  | 135.915421 | 142.487772 | 137.31866 | 144.276899 | 141.292702 | 140.68152 | 146.56756 | 165.25480 | 153.06377 | 153.655526 | 150.686477 | 160.991950 |\n",
       "| NEUROG2:AHR   |  28.063508 |  36.265713 |  36.36101 |  39.367591 |  35.173289 |  28.16447 |  30.01145 |  16.25457 |  32.08364 |  23.554048 |  11.417543 |  11.122562 |\n",
       "| NEUROG2:ALX3  |   8.070551 |  14.806711 |  11.98491 |  12.129474 |  12.990135 |  13.51894 |  14.65676 |   7.61933 |  10.93969 |  10.945705 |   8.029920 |   9.553995 |\n",
       "\n"
      ],
      "text/plain": [
       "  tf.pair       A1         A2         A3        A4         A5         A6       \n",
       "1 NEUROG2:ABL1   59.612027  60.728975  49.15846  69.372078  52.360238  53.93496\n",
       "2 NEUROG2:AEBP2  12.656092   9.656551  13.60999   6.383934   7.993929  11.54743\n",
       "3 NEUROG2:AFF1   26.229292  33.261453  31.89206  38.516399  26.979512  30.55845\n",
       "4 NEUROG2:AFF3  135.915421 142.487772 137.31866 144.276899 141.292702 140.68152\n",
       "5 NEUROG2:AHR    28.063508  36.265713  36.36101  39.367591  35.173289  28.16447\n",
       "6 NEUROG2:ALX3    8.070551  14.806711  11.98491  12.129474  12.990135  13.51894\n",
       "  A7        A8        A9        A10        A11        A12       \n",
       "1  41.17851  54.68986  44.86193  52.234566  61.353611  63.027849\n",
       "2  16.51793  11.85229  10.38811   6.512002   4.893233   4.563102\n",
       "3  25.59116  26.92163  28.22257  27.710645  24.340696  23.671093\n",
       "4 146.56756 165.25480 153.06377 153.655526 150.686477 160.991950\n",
       "5  30.01145  16.25457  32.08364  23.554048  11.417543  11.122562\n",
       "6  14.65676   7.61933  10.93969  10.945705   8.029920   9.553995"
      ]
     },
     "metadata": {},
     "output_type": "display_data"
    }
   ],
   "source": [
    "head(FOUND_TARGETS.deseq)"
   ]
  },
  {
   "cell_type": "code",
   "execution_count": 160,
   "metadata": {
    "ExecuteTime": {
     "end_time": "2019-11-17T17:41:18.773406Z",
     "start_time": "2019-11-17T17:41:18.726Z"
    }
   },
   "outputs": [],
   "source": [
    "FOUND_TARGETS.deseq[,2:13] <- apply(FOUND_TARGETS.deseq[,2:13], 2, as.integer)"
   ]
  },
  {
   "cell_type": "code",
   "execution_count": 161,
   "metadata": {
    "ExecuteTime": {
     "end_time": "2019-11-17T17:46:10.311866Z",
     "start_time": "2019-11-17T17:46:10.271Z"
    }
   },
   "outputs": [],
   "source": [
    "sample.anno <- data.frame(\"sample\" = paste0(rep(\"A\",12),1:12), \n",
    "                          \"condition\" = c(rep(\"ES\",2), rep(\"H1\",2), rep(\"H4\",2), rep(\"H16\",2), rep(\"H24\",2), rep(\"D5\",2)))"
   ]
  },
  {
   "cell_type": "code",
   "execution_count": 162,
   "metadata": {
    "ExecuteTime": {
     "end_time": "2019-11-17T17:46:45.460399Z",
     "start_time": "2019-11-17T17:46:45.417Z"
    }
   },
   "outputs": [
    {
     "data": {
      "text/html": [
       "<table>\n",
       "<caption>A matrix: 2 × 12 of type chr</caption>\n",
       "<tbody>\n",
       "\t<tr><th scope=row>sample</th><td>A1</td><td>A2</td><td>A3</td><td>A4</td><td>A5</td><td>A6</td><td>A7 </td><td>A8 </td><td>A9 </td><td>A10</td><td>A11</td><td>A12</td></tr>\n",
       "\t<tr><th scope=row>condition</th><td>ES</td><td>ES</td><td>H1</td><td>H1</td><td>H4</td><td>H4</td><td>H16</td><td>H16</td><td>H24</td><td>H24</td><td>D5 </td><td>D5 </td></tr>\n",
       "</tbody>\n",
       "</table>\n"
      ],
      "text/latex": [
       "A matrix: 2 × 12 of type chr\n",
       "\\begin{tabular}{r|llllllllllll}\n",
       "\tsample & A1 & A2 & A3 & A4 & A5 & A6 & A7  & A8  & A9  & A10 & A11 & A12\\\\\n",
       "\tcondition & ES & ES & H1 & H1 & H4 & H4 & H16 & H16 & H24 & H24 & D5  & D5 \\\\\n",
       "\\end{tabular}\n"
      ],
      "text/markdown": [
       "\n",
       "A matrix: 2 × 12 of type chr\n",
       "\n",
       "| sample | A1 | A2 | A3 | A4 | A5 | A6 | A7  | A8  | A9  | A10 | A11 | A12 |\n",
       "| condition | ES | ES | H1 | H1 | H4 | H4 | H16 | H16 | H24 | H24 | D5  | D5  |\n",
       "\n"
      ],
      "text/plain": [
       "          [,1] [,2] [,3] [,4] [,5] [,6] [,7] [,8] [,9] [,10] [,11] [,12]\n",
       "sample    A1   A2   A3   A4   A5   A6   A7   A8   A9   A10   A11   A12  \n",
       "condition ES   ES   H1   H1   H4   H4   H16  H16  H24  H24   D5    D5   "
      ]
     },
     "metadata": {},
     "output_type": "display_data"
    }
   ],
   "source": [
    "sample.anno %>% t"
   ]
  },
  {
   "cell_type": "code",
   "execution_count": 163,
   "metadata": {
    "ExecuteTime": {
     "end_time": "2019-11-17T17:52:18.150812Z",
     "start_time": "2019-11-17T17:52:17.976Z"
    }
   },
   "outputs": [],
   "source": [
    "dds.targets <- DESeqDataSetFromMatrix(countData = FOUND_TARGETS.deseq[,2:13], colData = sample.anno, design = ~ condition)"
   ]
  },
  {
   "cell_type": "code",
   "execution_count": 164,
   "metadata": {
    "ExecuteTime": {
     "end_time": "2019-11-17T17:54:42.570911Z",
     "start_time": "2019-11-17T17:54:42.460Z"
    }
   },
   "outputs": [],
   "source": [
    "mcols(dds.targets) <- cbind(mcols(dds.targets), \"tf.pair\"=FOUND_TARGETS.deseq$tf.pair)"
   ]
  },
  {
   "cell_type": "code",
   "execution_count": 165,
   "metadata": {
    "ExecuteTime": {
     "end_time": "2019-11-17T17:55:32.881380Z",
     "start_time": "2019-11-17T17:55:31.214Z"
    }
   },
   "outputs": [
    {
     "name": "stderr",
     "output_type": "stream",
     "text": [
      "estimating size factors\n",
      "estimating dispersions\n",
      "gene-wise dispersion estimates\n",
      "mean-dispersion relationship\n",
      "-- note: fitType='parametric', but the dispersion trend was not well captured by the\n",
      "   function: y = a/x + b, and a local regression fit was automatically substituted.\n",
      "   specify fitType='local' or 'mean' to avoid this message next time.\n",
      "Warning message in lfproc(x, y, weights = weights, cens = cens, base = base, geth = geth, :\n",
      "“Estimated rdf < 1.0; not estimating variance”final dispersion estimates\n",
      "fitting model and testing\n"
     ]
    }
   ],
   "source": [
    "dds.targets <- DESeq(dds.targets)"
   ]
  },
  {
   "cell_type": "code",
   "execution_count": 166,
   "metadata": {
    "ExecuteTime": {
     "end_time": "2019-11-17T17:55:48.564578Z",
     "start_time": "2019-11-17T17:55:48.507Z"
    }
   },
   "outputs": [
    {
     "data": {
      "text/html": [
       "<ol class=list-inline>\n",
       "\t<li>'Intercept'</li>\n",
       "\t<li>'condition_ES_vs_D5'</li>\n",
       "\t<li>'condition_H1_vs_D5'</li>\n",
       "\t<li>'condition_H16_vs_D5'</li>\n",
       "\t<li>'condition_H24_vs_D5'</li>\n",
       "\t<li>'condition_H4_vs_D5'</li>\n",
       "</ol>\n"
      ],
      "text/latex": [
       "\\begin{enumerate*}\n",
       "\\item 'Intercept'\n",
       "\\item 'condition\\_ES\\_vs\\_D5'\n",
       "\\item 'condition\\_H1\\_vs\\_D5'\n",
       "\\item 'condition\\_H16\\_vs\\_D5'\n",
       "\\item 'condition\\_H24\\_vs\\_D5'\n",
       "\\item 'condition\\_H4\\_vs\\_D5'\n",
       "\\end{enumerate*}\n"
      ],
      "text/markdown": [
       "1. 'Intercept'\n",
       "2. 'condition_ES_vs_D5'\n",
       "3. 'condition_H1_vs_D5'\n",
       "4. 'condition_H16_vs_D5'\n",
       "5. 'condition_H24_vs_D5'\n",
       "6. 'condition_H4_vs_D5'\n",
       "\n",
       "\n"
      ],
      "text/plain": [
       "[1] \"Intercept\"           \"condition_ES_vs_D5\"  \"condition_H1_vs_D5\" \n",
       "[4] \"condition_H16_vs_D5\" \"condition_H24_vs_D5\" \"condition_H4_vs_D5\" "
      ]
     },
     "metadata": {},
     "output_type": "display_data"
    }
   ],
   "source": [
    "resultsNames(dds.targets)"
   ]
  },
  {
   "cell_type": "code",
   "execution_count": 169,
   "metadata": {
    "ExecuteTime": {
     "end_time": "2019-11-17T17:56:42.947735Z",
     "start_time": "2019-11-17T17:56:42.493Z"
    }
   },
   "outputs": [],
   "source": [
    "res.targets.a <- results(dds.targets, contrast = c(\"condition\", \"D5\", \"ES\"))"
   ]
  },
  {
   "cell_type": "code",
   "execution_count": 171,
   "metadata": {
    "ExecuteTime": {
     "end_time": "2019-11-17T18:05:07.626439Z",
     "start_time": "2019-11-17T18:05:07.447Z"
    }
   },
   "outputs": [
    {
     "data": {
      "text/html": [
       "<table>\n",
       "<caption>A data.frame: 235 × 7</caption>\n",
       "<thead>\n",
       "\t<tr><th scope=col>baseMean</th><th scope=col>log2FoldChange</th><th scope=col>lfcSE</th><th scope=col>stat</th><th scope=col>pvalue</th><th scope=col>padj</th><th scope=col>tf.pair</th></tr>\n",
       "\t<tr><th scope=col>&lt;dbl&gt;</th><th scope=col>&lt;dbl&gt;</th><th scope=col>&lt;dbl&gt;</th><th scope=col>&lt;dbl&gt;</th><th scope=col>&lt;dbl&gt;</th><th scope=col>&lt;dbl&gt;</th><th scope=col>&lt;chr&gt;</th></tr>\n",
       "</thead>\n",
       "<tbody>\n",
       "\t<tr><td>146.6622431</td><td> 0.4286594</td><td>0.1232722</td><td> 3.477340</td><td>5.064160e-04</td><td>4.088833e-03</td><td>NEUROG2:AFF3   </td></tr>\n",
       "\t<tr><td> 26.3350362</td><td>-1.2742763</td><td>0.3579525</td><td>-3.559904</td><td>3.709909e-04</td><td>3.238035e-03</td><td>NEUROG2:AHR    </td></tr>\n",
       "\t<tr><td>  8.0479035</td><td>-2.9036434</td><td>1.0757727</td><td>-2.699123</td><td>6.952240e-03</td><td>3.262962e-02</td><td>NEUROG2:ANKRD42</td></tr>\n",
       "\t<tr><td>  8.8090902</td><td> 1.6142051</td><td>0.5143416</td><td> 3.138391</td><td>1.698779e-03</td><td>1.012147e-02</td><td>NEUROG2:ANKS1A </td></tr>\n",
       "\t<tr><td> 47.6285014</td><td> 1.4059792</td><td>0.2286268</td><td> 6.149669</td><td>7.764504e-10</td><td>8.116781e-08</td><td>NEUROG2:ARID1A </td></tr>\n",
       "\t<tr><td> 20.2296244</td><td>-0.9561344</td><td>0.3533861</td><td>-2.705637</td><td>6.817353e-03</td><td>3.261186e-02</td><td>NEUROG2:ASCC3  </td></tr>\n",
       "\t<tr><td>  4.6876782</td><td> 2.1407404</td><td>0.6652061</td><td> 3.218161</td><td>1.290154e-03</td><td>8.228867e-03</td><td>NEUROG2:ATF3   </td></tr>\n",
       "\t<tr><td>  1.0132321</td><td> 4.7088744</td><td>1.5305313</td><td> 3.076627</td><td>2.093569e-03</td><td>1.197187e-02</td><td>NEUROG2:ATF6   </td></tr>\n",
       "\t<tr><td> 35.6538932</td><td> 0.6310421</td><td>0.2272533</td><td> 2.776823</td><td>5.489310e-03</td><td>2.772520e-02</td><td>NEUROG2:BAZ1B  </td></tr>\n",
       "\t<tr><td> 16.6357106</td><td>-1.1260717</td><td>0.4250101</td><td>-2.649518</td><td>8.060677e-03</td><td>3.612781e-02</td><td>NEUROG2:BIN1   </td></tr>\n",
       "\t<tr><td> 23.9641397</td><td> 0.8155940</td><td>0.2940181</td><td> 2.773958</td><td>5.537882e-03</td><td>2.782925e-02</td><td>NEUROG2:BRF1   </td></tr>\n",
       "\t<tr><td> 43.0085343</td><td> 1.3442559</td><td>0.2228734</td><td> 6.031477</td><td>1.624673e-09</td><td>1.277527e-07</td><td>NEUROG2:CDX1   </td></tr>\n",
       "\t<tr><td> 71.7559769</td><td> 0.8700040</td><td>0.1678055</td><td> 5.184598</td><td>2.164810e-07</td><td>7.179952e-06</td><td>NEUROG2:CHD2   </td></tr>\n",
       "\t<tr><td>  8.1233642</td><td>-3.2573037</td><td>1.0640245</td><td>-3.061305</td><td>2.203742e-03</td><td>1.238827e-02</td><td>NEUROG2:COIL   </td></tr>\n",
       "\t<tr><td> 80.4975813</td><td> 0.9075057</td><td>0.1627471</td><td> 5.576172</td><td>2.458687e-08</td><td>1.359108e-06</td><td>NEUROG2:CREB5  </td></tr>\n",
       "\t<tr><td> 21.4463328</td><td> 3.0736303</td><td>0.3753876</td><td> 8.187884</td><td>2.658584e-16</td><td>1.322646e-13</td><td>NEUROG2:CRTC1  </td></tr>\n",
       "\t<tr><td> 25.0991981</td><td> 1.0297938</td><td>0.2791177</td><td> 3.689461</td><td>2.247297e-04</td><td>2.236061e-03</td><td>NEUROG2:CSDE1  </td></tr>\n",
       "\t<tr><td> 23.9548273</td><td> 1.0985393</td><td>0.2833147</td><td> 3.877452</td><td>1.055561e-04</td><td>1.347966e-03</td><td>NEUROG2:CTDP1  </td></tr>\n",
       "\t<tr><td>  2.2530419</td><td> 3.1731445</td><td>1.0864754</td><td> 2.920586</td><td>3.493739e-03</td><td>1.879065e-02</td><td>NEUROG2:DDIT3  </td></tr>\n",
       "\t<tr><td> 26.3053281</td><td> 1.1546460</td><td>0.2630616</td><td> 4.389261</td><td>1.137367e-05</td><td>1.909856e-04</td><td>NEUROG2:DIP2C  </td></tr>\n",
       "\t<tr><td> 14.2386073</td><td>-2.0873776</td><td>0.5267847</td><td>-3.962487</td><td>7.417308e-05</td><td>9.840295e-04</td><td>NEUROG2:DMRT1  </td></tr>\n",
       "\t<tr><td>  6.3282580</td><td> 2.9667126</td><td>0.6334511</td><td> 4.683412</td><td>2.821380e-06</td><td>5.848486e-05</td><td>NEUROG2:DNMT1  </td></tr>\n",
       "\t<tr><td> 21.7196799</td><td> 1.0505104</td><td>0.3039375</td><td> 3.456336</td><td>5.475713e-04</td><td>4.223515e-03</td><td>NEUROG2:DPF3   </td></tr>\n",
       "\t<tr><td>  9.0338606</td><td> 3.5250052</td><td>0.5739339</td><td> 6.141831</td><td>8.157569e-10</td><td>8.116781e-08</td><td>NEUROG2:EED    </td></tr>\n",
       "\t<tr><td> 12.5411988</td><td>-1.9036648</td><td>0.5647834</td><td>-3.370610</td><td>7.500192e-04</td><td>5.527919e-03</td><td>NEUROG2:ELAVL2 </td></tr>\n",
       "\t<tr><td> 20.7264194</td><td>-1.2931627</td><td>0.3843276</td><td>-3.364741</td><td>7.661565e-04</td><td>5.564421e-03</td><td>NEUROG2:ELF2   </td></tr>\n",
       "\t<tr><td> 61.8832100</td><td> 1.2580083</td><td>0.1911206</td><td> 6.582274</td><td>4.633054e-11</td><td>7.683148e-09</td><td>NEUROG2:ELL    </td></tr>\n",
       "\t<tr><td>  0.8506744</td><td> 4.7088737</td><td>1.5305314</td><td> 3.076627</td><td>2.093574e-03</td><td>1.197187e-02</td><td>NEUROG2:EPAS1  </td></tr>\n",
       "\t<tr><td> 19.8381720</td><td> 1.0116833</td><td>0.3142074</td><td> 3.219795</td><td>1.282824e-03</td><td>8.228867e-03</td><td>NEUROG2:ESRRB  </td></tr>\n",
       "\t<tr><td> 18.4303515</td><td> 1.0873059</td><td>0.3311302</td><td> 3.283621</td><td>1.024828e-03</td><td>7.032438e-03</td><td>NEUROG2:ETS1   </td></tr>\n",
       "\t<tr><td>⋮</td><td>⋮</td><td>⋮</td><td>⋮</td><td>⋮</td><td>⋮</td><td>⋮</td></tr>\n",
       "\t<tr><td> 9.958473</td><td> 3.2662655</td><td>0.5419286</td><td> 6.027114</td><td>1.669131e-09</td><td>1.277527e-07</td><td>ZBTB18:PRRX2  </td></tr>\n",
       "\t<tr><td>55.893021</td><td> 0.7580943</td><td>0.1951500</td><td> 3.884675</td><td>1.024669e-04</td><td>1.341507e-03</td><td>ZBTB18:RAI1   </td></tr>\n",
       "\t<tr><td>16.166559</td><td> 0.9139855</td><td>0.3386151</td><td> 2.699187</td><td>6.950903e-03</td><td>3.262962e-02</td><td>ZBTB18:RBM15B </td></tr>\n",
       "\t<tr><td>52.399651</td><td> 1.0828887</td><td>0.1951682</td><td> 5.548488</td><td>2.881504e-08</td><td>1.469213e-06</td><td>ZBTB18:RBM7   </td></tr>\n",
       "\t<tr><td> 7.363498</td><td>-1.8712285</td><td>0.7154551</td><td>-2.615438</td><td>8.911308e-03</td><td>3.871944e-02</td><td>ZBTB18:RBMX   </td></tr>\n",
       "\t<tr><td>21.911648</td><td> 1.0032200</td><td>0.2939132</td><td> 3.413321</td><td>6.417628e-04</td><td>4.837530e-03</td><td>ZBTB18:RLF    </td></tr>\n",
       "\t<tr><td>71.077170</td><td>-0.5475739</td><td>0.1880331</td><td>-2.912114</td><td>3.589916e-03</td><td>1.920412e-02</td><td>ZBTB18:SETBP1 </td></tr>\n",
       "\t<tr><td> 3.612384</td><td> 2.1731547</td><td>0.8124621</td><td> 2.674777</td><td>7.477905e-03</td><td>3.390656e-02</td><td>ZBTB18:SHOX2  </td></tr>\n",
       "\t<tr><td> 7.733888</td><td> 3.0736142</td><td>0.6904603</td><td> 4.451544</td><td>8.525511e-06</td><td>1.542342e-04</td><td>ZBTB18:SMARCC1</td></tr>\n",
       "\t<tr><td>33.044148</td><td> 1.0736114</td><td>0.2437202</td><td> 4.405098</td><td>1.057362e-05</td><td>1.845746e-04</td><td>ZBTB18:SNAI2  </td></tr>\n",
       "\t<tr><td>51.171179</td><td> 1.0065977</td><td>0.2003232</td><td> 5.024868</td><td>5.037796e-07</td><td>1.432173e-05</td><td>ZBTB18:SOX6   </td></tr>\n",
       "\t<tr><td>33.501951</td><td>-1.0468863</td><td>0.2990678</td><td>-3.500498</td><td>4.643905e-04</td><td>3.850571e-03</td><td>ZBTB18:TCF7L1 </td></tr>\n",
       "\t<tr><td>27.780079</td><td> 0.8792375</td><td>0.2616983</td><td> 3.359738</td><td>7.801655e-04</td><td>5.625107e-03</td><td>ZBTB18:TCF7L2 </td></tr>\n",
       "\t<tr><td>96.588998</td><td> 1.1027270</td><td>0.1485746</td><td> 7.422042</td><td>1.153280e-13</td><td>2.868785e-11</td><td>ZBTB18:TEAD1  </td></tr>\n",
       "\t<tr><td>16.101167</td><td>-2.3966749</td><td>0.6345553</td><td>-3.776936</td><td>1.587693e-04</td><td>1.717125e-03</td><td>ZBTB18:THRB   </td></tr>\n",
       "\t<tr><td> 8.108433</td><td> 3.1731636</td><td>0.6278089</td><td> 5.054347</td><td>4.318667e-07</td><td>1.263845e-05</td><td>ZBTB18:TP73   </td></tr>\n",
       "\t<tr><td>30.141208</td><td> 0.7012094</td><td>0.2608639</td><td> 2.688028</td><td>7.187539e-03</td><td>3.341870e-02</td><td>ZBTB18:TRIM15 </td></tr>\n",
       "\t<tr><td> 7.393162</td><td> 1.7068420</td><td>0.6386539</td><td> 2.672562</td><td>7.527455e-03</td><td>3.390656e-02</td><td>ZBTB18:TRIP11 </td></tr>\n",
       "\t<tr><td>49.928352</td><td> 0.6001844</td><td>0.1996669</td><td> 3.005929</td><td>2.647710e-03</td><td>1.463595e-02</td><td>ZBTB18:TSHZ3  </td></tr>\n",
       "\t<tr><td>18.259516</td><td> 1.0963220</td><td>0.3484833</td><td> 3.145981</td><td>1.655306e-03</td><td>1.004286e-02</td><td>ZBTB18:WWTR1  </td></tr>\n",
       "\t<tr><td>16.139600</td><td> 1.0894012</td><td>0.3553784</td><td> 3.065468</td><td>2.173295e-03</td><td>1.235674e-02</td><td>ZBTB18:XRCC3  </td></tr>\n",
       "\t<tr><td>15.658935</td><td>-1.1056957</td><td>0.4131935</td><td>-2.675976</td><td>7.451209e-03</td><td>3.390656e-02</td><td>ZBTB18:ZBTB16 </td></tr>\n",
       "\t<tr><td>21.472000</td><td>-1.6463139</td><td>0.3949028</td><td>-4.168909</td><td>3.060611e-05</td><td>4.614104e-04</td><td>ZBTB18:ZBTB20 </td></tr>\n",
       "\t<tr><td>30.522894</td><td> 0.9784724</td><td>0.2688943</td><td> 3.638873</td><td>2.738334e-04</td><td>2.523943e-03</td><td>ZBTB18:ZDHHC9 </td></tr>\n",
       "\t<tr><td>29.200250</td><td> 0.8696115</td><td>0.2595417</td><td> 3.350566</td><td>8.064662e-04</td><td>5.772905e-03</td><td>ZBTB18:ZNF136 </td></tr>\n",
       "\t<tr><td> 2.409414</td><td> 2.5881942</td><td>0.9129858</td><td> 2.834868</td><td>4.584464e-03</td><td>2.375806e-02</td><td>ZBTB18:ZNF169 </td></tr>\n",
       "\t<tr><td> 6.169782</td><td> 2.4679033</td><td>0.7125759</td><td> 3.463355</td><td>5.334843e-04</td><td>4.147060e-03</td><td>ZBTB18:ZNF18  </td></tr>\n",
       "\t<tr><td>10.487847</td><td>-3.9816452</td><td>1.0471034</td><td>-3.802533</td><td>1.432242e-04</td><td>1.629858e-03</td><td>ZBTB18:ZNF253 </td></tr>\n",
       "\t<tr><td> 3.723992</td><td> 2.7256951</td><td>0.7848214</td><td> 3.473013</td><td>5.146498e-04</td><td>4.088833e-03</td><td>ZBTB18:ZNF254 </td></tr>\n",
       "\t<tr><td>33.896997</td><td> 0.6696029</td><td>0.2448346</td><td> 2.734919</td><td>6.239557e-03</td><td>3.085788e-02</td><td>ZBTB18:ZNF407 </td></tr>\n",
       "</tbody>\n",
       "</table>\n"
      ],
      "text/latex": [
       "A data.frame: 235 × 7\n",
       "\\begin{tabular}{r|lllllll}\n",
       " baseMean & log2FoldChange & lfcSE & stat & pvalue & padj & tf.pair\\\\\n",
       " <dbl> & <dbl> & <dbl> & <dbl> & <dbl> & <dbl> & <chr>\\\\\n",
       "\\hline\n",
       "\t 146.6622431 &  0.4286594 & 0.1232722 &  3.477340 & 5.064160e-04 & 4.088833e-03 & NEUROG2:AFF3   \\\\\n",
       "\t  26.3350362 & -1.2742763 & 0.3579525 & -3.559904 & 3.709909e-04 & 3.238035e-03 & NEUROG2:AHR    \\\\\n",
       "\t   8.0479035 & -2.9036434 & 1.0757727 & -2.699123 & 6.952240e-03 & 3.262962e-02 & NEUROG2:ANKRD42\\\\\n",
       "\t   8.8090902 &  1.6142051 & 0.5143416 &  3.138391 & 1.698779e-03 & 1.012147e-02 & NEUROG2:ANKS1A \\\\\n",
       "\t  47.6285014 &  1.4059792 & 0.2286268 &  6.149669 & 7.764504e-10 & 8.116781e-08 & NEUROG2:ARID1A \\\\\n",
       "\t  20.2296244 & -0.9561344 & 0.3533861 & -2.705637 & 6.817353e-03 & 3.261186e-02 & NEUROG2:ASCC3  \\\\\n",
       "\t   4.6876782 &  2.1407404 & 0.6652061 &  3.218161 & 1.290154e-03 & 8.228867e-03 & NEUROG2:ATF3   \\\\\n",
       "\t   1.0132321 &  4.7088744 & 1.5305313 &  3.076627 & 2.093569e-03 & 1.197187e-02 & NEUROG2:ATF6   \\\\\n",
       "\t  35.6538932 &  0.6310421 & 0.2272533 &  2.776823 & 5.489310e-03 & 2.772520e-02 & NEUROG2:BAZ1B  \\\\\n",
       "\t  16.6357106 & -1.1260717 & 0.4250101 & -2.649518 & 8.060677e-03 & 3.612781e-02 & NEUROG2:BIN1   \\\\\n",
       "\t  23.9641397 &  0.8155940 & 0.2940181 &  2.773958 & 5.537882e-03 & 2.782925e-02 & NEUROG2:BRF1   \\\\\n",
       "\t  43.0085343 &  1.3442559 & 0.2228734 &  6.031477 & 1.624673e-09 & 1.277527e-07 & NEUROG2:CDX1   \\\\\n",
       "\t  71.7559769 &  0.8700040 & 0.1678055 &  5.184598 & 2.164810e-07 & 7.179952e-06 & NEUROG2:CHD2   \\\\\n",
       "\t   8.1233642 & -3.2573037 & 1.0640245 & -3.061305 & 2.203742e-03 & 1.238827e-02 & NEUROG2:COIL   \\\\\n",
       "\t  80.4975813 &  0.9075057 & 0.1627471 &  5.576172 & 2.458687e-08 & 1.359108e-06 & NEUROG2:CREB5  \\\\\n",
       "\t  21.4463328 &  3.0736303 & 0.3753876 &  8.187884 & 2.658584e-16 & 1.322646e-13 & NEUROG2:CRTC1  \\\\\n",
       "\t  25.0991981 &  1.0297938 & 0.2791177 &  3.689461 & 2.247297e-04 & 2.236061e-03 & NEUROG2:CSDE1  \\\\\n",
       "\t  23.9548273 &  1.0985393 & 0.2833147 &  3.877452 & 1.055561e-04 & 1.347966e-03 & NEUROG2:CTDP1  \\\\\n",
       "\t   2.2530419 &  3.1731445 & 1.0864754 &  2.920586 & 3.493739e-03 & 1.879065e-02 & NEUROG2:DDIT3  \\\\\n",
       "\t  26.3053281 &  1.1546460 & 0.2630616 &  4.389261 & 1.137367e-05 & 1.909856e-04 & NEUROG2:DIP2C  \\\\\n",
       "\t  14.2386073 & -2.0873776 & 0.5267847 & -3.962487 & 7.417308e-05 & 9.840295e-04 & NEUROG2:DMRT1  \\\\\n",
       "\t   6.3282580 &  2.9667126 & 0.6334511 &  4.683412 & 2.821380e-06 & 5.848486e-05 & NEUROG2:DNMT1  \\\\\n",
       "\t  21.7196799 &  1.0505104 & 0.3039375 &  3.456336 & 5.475713e-04 & 4.223515e-03 & NEUROG2:DPF3   \\\\\n",
       "\t   9.0338606 &  3.5250052 & 0.5739339 &  6.141831 & 8.157569e-10 & 8.116781e-08 & NEUROG2:EED    \\\\\n",
       "\t  12.5411988 & -1.9036648 & 0.5647834 & -3.370610 & 7.500192e-04 & 5.527919e-03 & NEUROG2:ELAVL2 \\\\\n",
       "\t  20.7264194 & -1.2931627 & 0.3843276 & -3.364741 & 7.661565e-04 & 5.564421e-03 & NEUROG2:ELF2   \\\\\n",
       "\t  61.8832100 &  1.2580083 & 0.1911206 &  6.582274 & 4.633054e-11 & 7.683148e-09 & NEUROG2:ELL    \\\\\n",
       "\t   0.8506744 &  4.7088737 & 1.5305314 &  3.076627 & 2.093574e-03 & 1.197187e-02 & NEUROG2:EPAS1  \\\\\n",
       "\t  19.8381720 &  1.0116833 & 0.3142074 &  3.219795 & 1.282824e-03 & 8.228867e-03 & NEUROG2:ESRRB  \\\\\n",
       "\t  18.4303515 &  1.0873059 & 0.3311302 &  3.283621 & 1.024828e-03 & 7.032438e-03 & NEUROG2:ETS1   \\\\\n",
       "\t ⋮ & ⋮ & ⋮ & ⋮ & ⋮ & ⋮ & ⋮\\\\\n",
       "\t  9.958473 &  3.2662655 & 0.5419286 &  6.027114 & 1.669131e-09 & 1.277527e-07 & ZBTB18:PRRX2  \\\\\n",
       "\t 55.893021 &  0.7580943 & 0.1951500 &  3.884675 & 1.024669e-04 & 1.341507e-03 & ZBTB18:RAI1   \\\\\n",
       "\t 16.166559 &  0.9139855 & 0.3386151 &  2.699187 & 6.950903e-03 & 3.262962e-02 & ZBTB18:RBM15B \\\\\n",
       "\t 52.399651 &  1.0828887 & 0.1951682 &  5.548488 & 2.881504e-08 & 1.469213e-06 & ZBTB18:RBM7   \\\\\n",
       "\t  7.363498 & -1.8712285 & 0.7154551 & -2.615438 & 8.911308e-03 & 3.871944e-02 & ZBTB18:RBMX   \\\\\n",
       "\t 21.911648 &  1.0032200 & 0.2939132 &  3.413321 & 6.417628e-04 & 4.837530e-03 & ZBTB18:RLF    \\\\\n",
       "\t 71.077170 & -0.5475739 & 0.1880331 & -2.912114 & 3.589916e-03 & 1.920412e-02 & ZBTB18:SETBP1 \\\\\n",
       "\t  3.612384 &  2.1731547 & 0.8124621 &  2.674777 & 7.477905e-03 & 3.390656e-02 & ZBTB18:SHOX2  \\\\\n",
       "\t  7.733888 &  3.0736142 & 0.6904603 &  4.451544 & 8.525511e-06 & 1.542342e-04 & ZBTB18:SMARCC1\\\\\n",
       "\t 33.044148 &  1.0736114 & 0.2437202 &  4.405098 & 1.057362e-05 & 1.845746e-04 & ZBTB18:SNAI2  \\\\\n",
       "\t 51.171179 &  1.0065977 & 0.2003232 &  5.024868 & 5.037796e-07 & 1.432173e-05 & ZBTB18:SOX6   \\\\\n",
       "\t 33.501951 & -1.0468863 & 0.2990678 & -3.500498 & 4.643905e-04 & 3.850571e-03 & ZBTB18:TCF7L1 \\\\\n",
       "\t 27.780079 &  0.8792375 & 0.2616983 &  3.359738 & 7.801655e-04 & 5.625107e-03 & ZBTB18:TCF7L2 \\\\\n",
       "\t 96.588998 &  1.1027270 & 0.1485746 &  7.422042 & 1.153280e-13 & 2.868785e-11 & ZBTB18:TEAD1  \\\\\n",
       "\t 16.101167 & -2.3966749 & 0.6345553 & -3.776936 & 1.587693e-04 & 1.717125e-03 & ZBTB18:THRB   \\\\\n",
       "\t  8.108433 &  3.1731636 & 0.6278089 &  5.054347 & 4.318667e-07 & 1.263845e-05 & ZBTB18:TP73   \\\\\n",
       "\t 30.141208 &  0.7012094 & 0.2608639 &  2.688028 & 7.187539e-03 & 3.341870e-02 & ZBTB18:TRIM15 \\\\\n",
       "\t  7.393162 &  1.7068420 & 0.6386539 &  2.672562 & 7.527455e-03 & 3.390656e-02 & ZBTB18:TRIP11 \\\\\n",
       "\t 49.928352 &  0.6001844 & 0.1996669 &  3.005929 & 2.647710e-03 & 1.463595e-02 & ZBTB18:TSHZ3  \\\\\n",
       "\t 18.259516 &  1.0963220 & 0.3484833 &  3.145981 & 1.655306e-03 & 1.004286e-02 & ZBTB18:WWTR1  \\\\\n",
       "\t 16.139600 &  1.0894012 & 0.3553784 &  3.065468 & 2.173295e-03 & 1.235674e-02 & ZBTB18:XRCC3  \\\\\n",
       "\t 15.658935 & -1.1056957 & 0.4131935 & -2.675976 & 7.451209e-03 & 3.390656e-02 & ZBTB18:ZBTB16 \\\\\n",
       "\t 21.472000 & -1.6463139 & 0.3949028 & -4.168909 & 3.060611e-05 & 4.614104e-04 & ZBTB18:ZBTB20 \\\\\n",
       "\t 30.522894 &  0.9784724 & 0.2688943 &  3.638873 & 2.738334e-04 & 2.523943e-03 & ZBTB18:ZDHHC9 \\\\\n",
       "\t 29.200250 &  0.8696115 & 0.2595417 &  3.350566 & 8.064662e-04 & 5.772905e-03 & ZBTB18:ZNF136 \\\\\n",
       "\t  2.409414 &  2.5881942 & 0.9129858 &  2.834868 & 4.584464e-03 & 2.375806e-02 & ZBTB18:ZNF169 \\\\\n",
       "\t  6.169782 &  2.4679033 & 0.7125759 &  3.463355 & 5.334843e-04 & 4.147060e-03 & ZBTB18:ZNF18  \\\\\n",
       "\t 10.487847 & -3.9816452 & 1.0471034 & -3.802533 & 1.432242e-04 & 1.629858e-03 & ZBTB18:ZNF253 \\\\\n",
       "\t  3.723992 &  2.7256951 & 0.7848214 &  3.473013 & 5.146498e-04 & 4.088833e-03 & ZBTB18:ZNF254 \\\\\n",
       "\t 33.896997 &  0.6696029 & 0.2448346 &  2.734919 & 6.239557e-03 & 3.085788e-02 & ZBTB18:ZNF407 \\\\\n",
       "\\end{tabular}\n"
      ],
      "text/markdown": [
       "\n",
       "A data.frame: 235 × 7\n",
       "\n",
       "| baseMean &lt;dbl&gt; | log2FoldChange &lt;dbl&gt; | lfcSE &lt;dbl&gt; | stat &lt;dbl&gt; | pvalue &lt;dbl&gt; | padj &lt;dbl&gt; | tf.pair &lt;chr&gt; |\n",
       "|---|---|---|---|---|---|---|\n",
       "| 146.6622431 |  0.4286594 | 0.1232722 |  3.477340 | 5.064160e-04 | 4.088833e-03 | NEUROG2:AFF3    |\n",
       "|  26.3350362 | -1.2742763 | 0.3579525 | -3.559904 | 3.709909e-04 | 3.238035e-03 | NEUROG2:AHR     |\n",
       "|   8.0479035 | -2.9036434 | 1.0757727 | -2.699123 | 6.952240e-03 | 3.262962e-02 | NEUROG2:ANKRD42 |\n",
       "|   8.8090902 |  1.6142051 | 0.5143416 |  3.138391 | 1.698779e-03 | 1.012147e-02 | NEUROG2:ANKS1A  |\n",
       "|  47.6285014 |  1.4059792 | 0.2286268 |  6.149669 | 7.764504e-10 | 8.116781e-08 | NEUROG2:ARID1A  |\n",
       "|  20.2296244 | -0.9561344 | 0.3533861 | -2.705637 | 6.817353e-03 | 3.261186e-02 | NEUROG2:ASCC3   |\n",
       "|   4.6876782 |  2.1407404 | 0.6652061 |  3.218161 | 1.290154e-03 | 8.228867e-03 | NEUROG2:ATF3    |\n",
       "|   1.0132321 |  4.7088744 | 1.5305313 |  3.076627 | 2.093569e-03 | 1.197187e-02 | NEUROG2:ATF6    |\n",
       "|  35.6538932 |  0.6310421 | 0.2272533 |  2.776823 | 5.489310e-03 | 2.772520e-02 | NEUROG2:BAZ1B   |\n",
       "|  16.6357106 | -1.1260717 | 0.4250101 | -2.649518 | 8.060677e-03 | 3.612781e-02 | NEUROG2:BIN1    |\n",
       "|  23.9641397 |  0.8155940 | 0.2940181 |  2.773958 | 5.537882e-03 | 2.782925e-02 | NEUROG2:BRF1    |\n",
       "|  43.0085343 |  1.3442559 | 0.2228734 |  6.031477 | 1.624673e-09 | 1.277527e-07 | NEUROG2:CDX1    |\n",
       "|  71.7559769 |  0.8700040 | 0.1678055 |  5.184598 | 2.164810e-07 | 7.179952e-06 | NEUROG2:CHD2    |\n",
       "|   8.1233642 | -3.2573037 | 1.0640245 | -3.061305 | 2.203742e-03 | 1.238827e-02 | NEUROG2:COIL    |\n",
       "|  80.4975813 |  0.9075057 | 0.1627471 |  5.576172 | 2.458687e-08 | 1.359108e-06 | NEUROG2:CREB5   |\n",
       "|  21.4463328 |  3.0736303 | 0.3753876 |  8.187884 | 2.658584e-16 | 1.322646e-13 | NEUROG2:CRTC1   |\n",
       "|  25.0991981 |  1.0297938 | 0.2791177 |  3.689461 | 2.247297e-04 | 2.236061e-03 | NEUROG2:CSDE1   |\n",
       "|  23.9548273 |  1.0985393 | 0.2833147 |  3.877452 | 1.055561e-04 | 1.347966e-03 | NEUROG2:CTDP1   |\n",
       "|   2.2530419 |  3.1731445 | 1.0864754 |  2.920586 | 3.493739e-03 | 1.879065e-02 | NEUROG2:DDIT3   |\n",
       "|  26.3053281 |  1.1546460 | 0.2630616 |  4.389261 | 1.137367e-05 | 1.909856e-04 | NEUROG2:DIP2C   |\n",
       "|  14.2386073 | -2.0873776 | 0.5267847 | -3.962487 | 7.417308e-05 | 9.840295e-04 | NEUROG2:DMRT1   |\n",
       "|   6.3282580 |  2.9667126 | 0.6334511 |  4.683412 | 2.821380e-06 | 5.848486e-05 | NEUROG2:DNMT1   |\n",
       "|  21.7196799 |  1.0505104 | 0.3039375 |  3.456336 | 5.475713e-04 | 4.223515e-03 | NEUROG2:DPF3    |\n",
       "|   9.0338606 |  3.5250052 | 0.5739339 |  6.141831 | 8.157569e-10 | 8.116781e-08 | NEUROG2:EED     |\n",
       "|  12.5411988 | -1.9036648 | 0.5647834 | -3.370610 | 7.500192e-04 | 5.527919e-03 | NEUROG2:ELAVL2  |\n",
       "|  20.7264194 | -1.2931627 | 0.3843276 | -3.364741 | 7.661565e-04 | 5.564421e-03 | NEUROG2:ELF2    |\n",
       "|  61.8832100 |  1.2580083 | 0.1911206 |  6.582274 | 4.633054e-11 | 7.683148e-09 | NEUROG2:ELL     |\n",
       "|   0.8506744 |  4.7088737 | 1.5305314 |  3.076627 | 2.093574e-03 | 1.197187e-02 | NEUROG2:EPAS1   |\n",
       "|  19.8381720 |  1.0116833 | 0.3142074 |  3.219795 | 1.282824e-03 | 8.228867e-03 | NEUROG2:ESRRB   |\n",
       "|  18.4303515 |  1.0873059 | 0.3311302 |  3.283621 | 1.024828e-03 | 7.032438e-03 | NEUROG2:ETS1    |\n",
       "| ⋮ | ⋮ | ⋮ | ⋮ | ⋮ | ⋮ | ⋮ |\n",
       "|  9.958473 |  3.2662655 | 0.5419286 |  6.027114 | 1.669131e-09 | 1.277527e-07 | ZBTB18:PRRX2   |\n",
       "| 55.893021 |  0.7580943 | 0.1951500 |  3.884675 | 1.024669e-04 | 1.341507e-03 | ZBTB18:RAI1    |\n",
       "| 16.166559 |  0.9139855 | 0.3386151 |  2.699187 | 6.950903e-03 | 3.262962e-02 | ZBTB18:RBM15B  |\n",
       "| 52.399651 |  1.0828887 | 0.1951682 |  5.548488 | 2.881504e-08 | 1.469213e-06 | ZBTB18:RBM7    |\n",
       "|  7.363498 | -1.8712285 | 0.7154551 | -2.615438 | 8.911308e-03 | 3.871944e-02 | ZBTB18:RBMX    |\n",
       "| 21.911648 |  1.0032200 | 0.2939132 |  3.413321 | 6.417628e-04 | 4.837530e-03 | ZBTB18:RLF     |\n",
       "| 71.077170 | -0.5475739 | 0.1880331 | -2.912114 | 3.589916e-03 | 1.920412e-02 | ZBTB18:SETBP1  |\n",
       "|  3.612384 |  2.1731547 | 0.8124621 |  2.674777 | 7.477905e-03 | 3.390656e-02 | ZBTB18:SHOX2   |\n",
       "|  7.733888 |  3.0736142 | 0.6904603 |  4.451544 | 8.525511e-06 | 1.542342e-04 | ZBTB18:SMARCC1 |\n",
       "| 33.044148 |  1.0736114 | 0.2437202 |  4.405098 | 1.057362e-05 | 1.845746e-04 | ZBTB18:SNAI2   |\n",
       "| 51.171179 |  1.0065977 | 0.2003232 |  5.024868 | 5.037796e-07 | 1.432173e-05 | ZBTB18:SOX6    |\n",
       "| 33.501951 | -1.0468863 | 0.2990678 | -3.500498 | 4.643905e-04 | 3.850571e-03 | ZBTB18:TCF7L1  |\n",
       "| 27.780079 |  0.8792375 | 0.2616983 |  3.359738 | 7.801655e-04 | 5.625107e-03 | ZBTB18:TCF7L2  |\n",
       "| 96.588998 |  1.1027270 | 0.1485746 |  7.422042 | 1.153280e-13 | 2.868785e-11 | ZBTB18:TEAD1   |\n",
       "| 16.101167 | -2.3966749 | 0.6345553 | -3.776936 | 1.587693e-04 | 1.717125e-03 | ZBTB18:THRB    |\n",
       "|  8.108433 |  3.1731636 | 0.6278089 |  5.054347 | 4.318667e-07 | 1.263845e-05 | ZBTB18:TP73    |\n",
       "| 30.141208 |  0.7012094 | 0.2608639 |  2.688028 | 7.187539e-03 | 3.341870e-02 | ZBTB18:TRIM15  |\n",
       "|  7.393162 |  1.7068420 | 0.6386539 |  2.672562 | 7.527455e-03 | 3.390656e-02 | ZBTB18:TRIP11  |\n",
       "| 49.928352 |  0.6001844 | 0.1996669 |  3.005929 | 2.647710e-03 | 1.463595e-02 | ZBTB18:TSHZ3   |\n",
       "| 18.259516 |  1.0963220 | 0.3484833 |  3.145981 | 1.655306e-03 | 1.004286e-02 | ZBTB18:WWTR1   |\n",
       "| 16.139600 |  1.0894012 | 0.3553784 |  3.065468 | 2.173295e-03 | 1.235674e-02 | ZBTB18:XRCC3   |\n",
       "| 15.658935 | -1.1056957 | 0.4131935 | -2.675976 | 7.451209e-03 | 3.390656e-02 | ZBTB18:ZBTB16  |\n",
       "| 21.472000 | -1.6463139 | 0.3949028 | -4.168909 | 3.060611e-05 | 4.614104e-04 | ZBTB18:ZBTB20  |\n",
       "| 30.522894 |  0.9784724 | 0.2688943 |  3.638873 | 2.738334e-04 | 2.523943e-03 | ZBTB18:ZDHHC9  |\n",
       "| 29.200250 |  0.8696115 | 0.2595417 |  3.350566 | 8.064662e-04 | 5.772905e-03 | ZBTB18:ZNF136  |\n",
       "|  2.409414 |  2.5881942 | 0.9129858 |  2.834868 | 4.584464e-03 | 2.375806e-02 | ZBTB18:ZNF169  |\n",
       "|  6.169782 |  2.4679033 | 0.7125759 |  3.463355 | 5.334843e-04 | 4.147060e-03 | ZBTB18:ZNF18   |\n",
       "| 10.487847 | -3.9816452 | 1.0471034 | -3.802533 | 1.432242e-04 | 1.629858e-03 | ZBTB18:ZNF253  |\n",
       "|  3.723992 |  2.7256951 | 0.7848214 |  3.473013 | 5.146498e-04 | 4.088833e-03 | ZBTB18:ZNF254  |\n",
       "| 33.896997 |  0.6696029 | 0.2448346 |  2.734919 | 6.239557e-03 | 3.085788e-02 | ZBTB18:ZNF407  |\n",
       "\n"
      ],
      "text/plain": [
       "    baseMean    log2FoldChange lfcSE     stat      pvalue       padj        \n",
       "1   146.6622431  0.4286594     0.1232722  3.477340 5.064160e-04 4.088833e-03\n",
       "2    26.3350362 -1.2742763     0.3579525 -3.559904 3.709909e-04 3.238035e-03\n",
       "3     8.0479035 -2.9036434     1.0757727 -2.699123 6.952240e-03 3.262962e-02\n",
       "4     8.8090902  1.6142051     0.5143416  3.138391 1.698779e-03 1.012147e-02\n",
       "5    47.6285014  1.4059792     0.2286268  6.149669 7.764504e-10 8.116781e-08\n",
       "6    20.2296244 -0.9561344     0.3533861 -2.705637 6.817353e-03 3.261186e-02\n",
       "7     4.6876782  2.1407404     0.6652061  3.218161 1.290154e-03 8.228867e-03\n",
       "8     1.0132321  4.7088744     1.5305313  3.076627 2.093569e-03 1.197187e-02\n",
       "9    35.6538932  0.6310421     0.2272533  2.776823 5.489310e-03 2.772520e-02\n",
       "10   16.6357106 -1.1260717     0.4250101 -2.649518 8.060677e-03 3.612781e-02\n",
       "11   23.9641397  0.8155940     0.2940181  2.773958 5.537882e-03 2.782925e-02\n",
       "12   43.0085343  1.3442559     0.2228734  6.031477 1.624673e-09 1.277527e-07\n",
       "13   71.7559769  0.8700040     0.1678055  5.184598 2.164810e-07 7.179952e-06\n",
       "14    8.1233642 -3.2573037     1.0640245 -3.061305 2.203742e-03 1.238827e-02\n",
       "15   80.4975813  0.9075057     0.1627471  5.576172 2.458687e-08 1.359108e-06\n",
       "16   21.4463328  3.0736303     0.3753876  8.187884 2.658584e-16 1.322646e-13\n",
       "17   25.0991981  1.0297938     0.2791177  3.689461 2.247297e-04 2.236061e-03\n",
       "18   23.9548273  1.0985393     0.2833147  3.877452 1.055561e-04 1.347966e-03\n",
       "19    2.2530419  3.1731445     1.0864754  2.920586 3.493739e-03 1.879065e-02\n",
       "20   26.3053281  1.1546460     0.2630616  4.389261 1.137367e-05 1.909856e-04\n",
       "21   14.2386073 -2.0873776     0.5267847 -3.962487 7.417308e-05 9.840295e-04\n",
       "22    6.3282580  2.9667126     0.6334511  4.683412 2.821380e-06 5.848486e-05\n",
       "23   21.7196799  1.0505104     0.3039375  3.456336 5.475713e-04 4.223515e-03\n",
       "24    9.0338606  3.5250052     0.5739339  6.141831 8.157569e-10 8.116781e-08\n",
       "25   12.5411988 -1.9036648     0.5647834 -3.370610 7.500192e-04 5.527919e-03\n",
       "26   20.7264194 -1.2931627     0.3843276 -3.364741 7.661565e-04 5.564421e-03\n",
       "27   61.8832100  1.2580083     0.1911206  6.582274 4.633054e-11 7.683148e-09\n",
       "28    0.8506744  4.7088737     1.5305314  3.076627 2.093574e-03 1.197187e-02\n",
       "29   19.8381720  1.0116833     0.3142074  3.219795 1.282824e-03 8.228867e-03\n",
       "30   18.4303515  1.0873059     0.3311302  3.283621 1.024828e-03 7.032438e-03\n",
       "⋮   ⋮           ⋮              ⋮         ⋮         ⋮            ⋮           \n",
       "206  9.958473    3.2662655     0.5419286  6.027114 1.669131e-09 1.277527e-07\n",
       "207 55.893021    0.7580943     0.1951500  3.884675 1.024669e-04 1.341507e-03\n",
       "208 16.166559    0.9139855     0.3386151  2.699187 6.950903e-03 3.262962e-02\n",
       "209 52.399651    1.0828887     0.1951682  5.548488 2.881504e-08 1.469213e-06\n",
       "210  7.363498   -1.8712285     0.7154551 -2.615438 8.911308e-03 3.871944e-02\n",
       "211 21.911648    1.0032200     0.2939132  3.413321 6.417628e-04 4.837530e-03\n",
       "212 71.077170   -0.5475739     0.1880331 -2.912114 3.589916e-03 1.920412e-02\n",
       "213  3.612384    2.1731547     0.8124621  2.674777 7.477905e-03 3.390656e-02\n",
       "214  7.733888    3.0736142     0.6904603  4.451544 8.525511e-06 1.542342e-04\n",
       "215 33.044148    1.0736114     0.2437202  4.405098 1.057362e-05 1.845746e-04\n",
       "216 51.171179    1.0065977     0.2003232  5.024868 5.037796e-07 1.432173e-05\n",
       "217 33.501951   -1.0468863     0.2990678 -3.500498 4.643905e-04 3.850571e-03\n",
       "218 27.780079    0.8792375     0.2616983  3.359738 7.801655e-04 5.625107e-03\n",
       "219 96.588998    1.1027270     0.1485746  7.422042 1.153280e-13 2.868785e-11\n",
       "220 16.101167   -2.3966749     0.6345553 -3.776936 1.587693e-04 1.717125e-03\n",
       "221  8.108433    3.1731636     0.6278089  5.054347 4.318667e-07 1.263845e-05\n",
       "222 30.141208    0.7012094     0.2608639  2.688028 7.187539e-03 3.341870e-02\n",
       "223  7.393162    1.7068420     0.6386539  2.672562 7.527455e-03 3.390656e-02\n",
       "224 49.928352    0.6001844     0.1996669  3.005929 2.647710e-03 1.463595e-02\n",
       "225 18.259516    1.0963220     0.3484833  3.145981 1.655306e-03 1.004286e-02\n",
       "226 16.139600    1.0894012     0.3553784  3.065468 2.173295e-03 1.235674e-02\n",
       "227 15.658935   -1.1056957     0.4131935 -2.675976 7.451209e-03 3.390656e-02\n",
       "228 21.472000   -1.6463139     0.3949028 -4.168909 3.060611e-05 4.614104e-04\n",
       "229 30.522894    0.9784724     0.2688943  3.638873 2.738334e-04 2.523943e-03\n",
       "230 29.200250    0.8696115     0.2595417  3.350566 8.064662e-04 5.772905e-03\n",
       "231  2.409414    2.5881942     0.9129858  2.834868 4.584464e-03 2.375806e-02\n",
       "232  6.169782    2.4679033     0.7125759  3.463355 5.334843e-04 4.147060e-03\n",
       "233 10.487847   -3.9816452     1.0471034 -3.802533 1.432242e-04 1.629858e-03\n",
       "234  3.723992    2.7256951     0.7848214  3.473013 5.146498e-04 4.088833e-03\n",
       "235 33.896997    0.6696029     0.2448346  2.734919 6.239557e-03 3.085788e-02\n",
       "    tf.pair        \n",
       "1   NEUROG2:AFF3   \n",
       "2   NEUROG2:AHR    \n",
       "3   NEUROG2:ANKRD42\n",
       "4   NEUROG2:ANKS1A \n",
       "5   NEUROG2:ARID1A \n",
       "6   NEUROG2:ASCC3  \n",
       "7   NEUROG2:ATF3   \n",
       "8   NEUROG2:ATF6   \n",
       "9   NEUROG2:BAZ1B  \n",
       "10  NEUROG2:BIN1   \n",
       "11  NEUROG2:BRF1   \n",
       "12  NEUROG2:CDX1   \n",
       "13  NEUROG2:CHD2   \n",
       "14  NEUROG2:COIL   \n",
       "15  NEUROG2:CREB5  \n",
       "16  NEUROG2:CRTC1  \n",
       "17  NEUROG2:CSDE1  \n",
       "18  NEUROG2:CTDP1  \n",
       "19  NEUROG2:DDIT3  \n",
       "20  NEUROG2:DIP2C  \n",
       "21  NEUROG2:DMRT1  \n",
       "22  NEUROG2:DNMT1  \n",
       "23  NEUROG2:DPF3   \n",
       "24  NEUROG2:EED    \n",
       "25  NEUROG2:ELAVL2 \n",
       "26  NEUROG2:ELF2   \n",
       "27  NEUROG2:ELL    \n",
       "28  NEUROG2:EPAS1  \n",
       "29  NEUROG2:ESRRB  \n",
       "30  NEUROG2:ETS1   \n",
       "⋮   ⋮              \n",
       "206 ZBTB18:PRRX2   \n",
       "207 ZBTB18:RAI1    \n",
       "208 ZBTB18:RBM15B  \n",
       "209 ZBTB18:RBM7    \n",
       "210 ZBTB18:RBMX    \n",
       "211 ZBTB18:RLF     \n",
       "212 ZBTB18:SETBP1  \n",
       "213 ZBTB18:SHOX2   \n",
       "214 ZBTB18:SMARCC1 \n",
       "215 ZBTB18:SNAI2   \n",
       "216 ZBTB18:SOX6    \n",
       "217 ZBTB18:TCF7L1  \n",
       "218 ZBTB18:TCF7L2  \n",
       "219 ZBTB18:TEAD1   \n",
       "220 ZBTB18:THRB    \n",
       "221 ZBTB18:TP73    \n",
       "222 ZBTB18:TRIM15  \n",
       "223 ZBTB18:TRIP11  \n",
       "224 ZBTB18:TSHZ3   \n",
       "225 ZBTB18:WWTR1   \n",
       "226 ZBTB18:XRCC3   \n",
       "227 ZBTB18:ZBTB16  \n",
       "228 ZBTB18:ZBTB20  \n",
       "229 ZBTB18:ZDHHC9  \n",
       "230 ZBTB18:ZNF136  \n",
       "231 ZBTB18:ZNF169  \n",
       "232 ZBTB18:ZNF18   \n",
       "233 ZBTB18:ZNF253  \n",
       "234 ZBTB18:ZNF254  \n",
       "235 ZBTB18:ZNF407  "
      ]
     },
     "metadata": {},
     "output_type": "display_data"
    }
   ],
   "source": [
    "fdr <- 0.05\n",
    "res.targets.a[which(res.targets.a$padj < fdr), ] %>% as.data.frame %>% add_column(\"tf.pair\"=FOUND_TARGETS.deseq$tf.pair[which(res.targets.a$padj < fdr)])"
   ]
  },
  {
   "cell_type": "markdown",
   "metadata": {},
   "source": [
    "---\n",
    "\n",
    "## Get normalized read counts per gene from consensus peaks\n",
    "\n",
    "Wrote a script for this: \n",
    "- path: `/gpfs/commons/groups/sanjana_lab/cdai/TFscreen/atac`\n",
    "- Rscript: `getATACseqReadcountsPerGene.R`\n",
    "- Resulted read counts in: `ATAC-seq_readcounts_per_Gene.csv`"
   ]
  },
  {
   "cell_type": "code",
   "execution_count": 84,
   "metadata": {
    "ExecuteTime": {
     "end_time": "2019-11-17T18:05:43.095962Z",
     "start_time": "2019-11-17T18:05:42.223Z"
    }
   },
   "outputs": [],
   "source": [
    "atac.counts.perGene <- read.csv(\"ATAC-seq_readcounts_per_Gene.csv\")"
   ]
  },
  {
   "cell_type": "code",
   "execution_count": 138,
   "metadata": {
    "ExecuteTime": {
     "end_time": "2019-11-17T18:05:50.458883Z",
     "start_time": "2019-11-17T18:05:50.388Z"
    }
   },
   "outputs": [
    {
     "data": {
      "text/html": [
       "<table>\n",
       "<caption>A data.frame: 6 × 16</caption>\n",
       "<thead>\n",
       "\t<tr><th scope=col>gene_id</th><th scope=col>gene_name</th><th scope=col>A1</th><th scope=col>A2</th><th scope=col>A3</th><th scope=col>A4</th><th scope=col>A5</th><th scope=col>A6</th><th scope=col>A7</th><th scope=col>A8</th><th scope=col>A9</th><th scope=col>A10</th><th scope=col>A11</th><th scope=col>A12</th><th scope=col>is.hit</th><th scope=col>is.tf</th></tr>\n",
       "\t<tr><th scope=col>&lt;fct&gt;</th><th scope=col>&lt;fct&gt;</th><th scope=col>&lt;dbl&gt;</th><th scope=col>&lt;dbl&gt;</th><th scope=col>&lt;dbl&gt;</th><th scope=col>&lt;dbl&gt;</th><th scope=col>&lt;dbl&gt;</th><th scope=col>&lt;dbl&gt;</th><th scope=col>&lt;dbl&gt;</th><th scope=col>&lt;dbl&gt;</th><th scope=col>&lt;dbl&gt;</th><th scope=col>&lt;dbl&gt;</th><th scope=col>&lt;dbl&gt;</th><th scope=col>&lt;dbl&gt;</th><th scope=col>&lt;fct&gt;</th><th scope=col>&lt;fct&gt;</th></tr>\n",
       "</thead>\n",
       "<tbody>\n",
       "\t<tr><td>ENSG00000187634.12</td><td>SAMD11 </td><td>37.05117</td><td>48.28275</td><td>48.34592</td><td>46.38992</td><td>57.55629</td><td>36.61381</td><td>44.668209</td><td>40.636427</td><td>47.89563</td><td>51.54180</td><td>102.757889</td><td>88.552702</td><td>No</td><td>No </td></tr>\n",
       "\t<tr><td>ENSG00000188976.11</td><td>NOC2L  </td><td>30.63141</td><td>29.18424</td><td>39.61115</td><td>41.06997</td><td>41.96813</td><td>23.09486</td><td>28.382925</td><td>30.646639</td><td>37.87524</td><td>33.66843</td><td> 54.703833</td><td>58.036956</td><td>No</td><td>No </td></tr>\n",
       "\t<tr><td>ENSG00000187961.14</td><td>KLHL17 </td><td>23.29455</td><td>20.17146</td><td>27.21997</td><td>31.91967</td><td>28.17860</td><td>17.46197</td><td>21.636164</td><td>20.995487</td><td>24.36150</td><td>20.64443</td><td> 19.321996</td><td>24.954465</td><td>No</td><td>No </td></tr>\n",
       "\t<tr><td>ENSG00000187583.10</td><td>PLEKHN1</td><td>11.55556</td><td>17.38179</td><td>15.23506</td><td>13.61906</td><td>12.79029</td><td>10.84332</td><td> 8.142642</td><td>14.900023</td><td>11.49127</td><td>12.46979</td><td>  5.896973</td><td> 5.418684</td><td>No</td><td>No </td></tr>\n",
       "\t<tr><td>ENSG00000187642.9 </td><td>PERM1  </td><td>14.85715</td><td>13.30458</td><td>17.26640</td><td>16.38543</td><td>13.58968</td><td>10.56168</td><td>15.819991</td><td> 8.465922</td><td>10.75583</td><td>13.02400</td><td> 12.421283</td><td> 5.703878</td><td>No</td><td>No </td></tr>\n",
       "\t<tr><td>ENSG00000188290.10</td><td>HES4   </td><td>46.03883</td><td>51.50160</td><td>43.87697</td><td>46.38992</td><td>54.55857</td><td>38.86697</td><td>41.876446</td><td>45.885299</td><td>41.27666</td><td>44.05993</td><td> 38.142122</td><td>39.641950</td><td>No</td><td>Yes</td></tr>\n",
       "</tbody>\n",
       "</table>\n"
      ],
      "text/latex": [
       "A data.frame: 6 × 16\n",
       "\\begin{tabular}{r|llllllllllllllll}\n",
       " gene\\_id & gene\\_name & A1 & A2 & A3 & A4 & A5 & A6 & A7 & A8 & A9 & A10 & A11 & A12 & is.hit & is.tf\\\\\n",
       " <fct> & <fct> & <dbl> & <dbl> & <dbl> & <dbl> & <dbl> & <dbl> & <dbl> & <dbl> & <dbl> & <dbl> & <dbl> & <dbl> & <fct> & <fct>\\\\\n",
       "\\hline\n",
       "\t ENSG00000187634.12 & SAMD11  & 37.05117 & 48.28275 & 48.34592 & 46.38992 & 57.55629 & 36.61381 & 44.668209 & 40.636427 & 47.89563 & 51.54180 & 102.757889 & 88.552702 & No & No \\\\\n",
       "\t ENSG00000188976.11 & NOC2L   & 30.63141 & 29.18424 & 39.61115 & 41.06997 & 41.96813 & 23.09486 & 28.382925 & 30.646639 & 37.87524 & 33.66843 &  54.703833 & 58.036956 & No & No \\\\\n",
       "\t ENSG00000187961.14 & KLHL17  & 23.29455 & 20.17146 & 27.21997 & 31.91967 & 28.17860 & 17.46197 & 21.636164 & 20.995487 & 24.36150 & 20.64443 &  19.321996 & 24.954465 & No & No \\\\\n",
       "\t ENSG00000187583.10 & PLEKHN1 & 11.55556 & 17.38179 & 15.23506 & 13.61906 & 12.79029 & 10.84332 &  8.142642 & 14.900023 & 11.49127 & 12.46979 &   5.896973 &  5.418684 & No & No \\\\\n",
       "\t ENSG00000187642.9  & PERM1   & 14.85715 & 13.30458 & 17.26640 & 16.38543 & 13.58968 & 10.56168 & 15.819991 &  8.465922 & 10.75583 & 13.02400 &  12.421283 &  5.703878 & No & No \\\\\n",
       "\t ENSG00000188290.10 & HES4    & 46.03883 & 51.50160 & 43.87697 & 46.38992 & 54.55857 & 38.86697 & 41.876446 & 45.885299 & 41.27666 & 44.05993 &  38.142122 & 39.641950 & No & Yes\\\\\n",
       "\\end{tabular}\n"
      ],
      "text/markdown": [
       "\n",
       "A data.frame: 6 × 16\n",
       "\n",
       "| gene_id &lt;fct&gt; | gene_name &lt;fct&gt; | A1 &lt;dbl&gt; | A2 &lt;dbl&gt; | A3 &lt;dbl&gt; | A4 &lt;dbl&gt; | A5 &lt;dbl&gt; | A6 &lt;dbl&gt; | A7 &lt;dbl&gt; | A8 &lt;dbl&gt; | A9 &lt;dbl&gt; | A10 &lt;dbl&gt; | A11 &lt;dbl&gt; | A12 &lt;dbl&gt; | is.hit &lt;fct&gt; | is.tf &lt;fct&gt; |\n",
       "|---|---|---|---|---|---|---|---|---|---|---|---|---|---|---|---|\n",
       "| ENSG00000187634.12 | SAMD11  | 37.05117 | 48.28275 | 48.34592 | 46.38992 | 57.55629 | 36.61381 | 44.668209 | 40.636427 | 47.89563 | 51.54180 | 102.757889 | 88.552702 | No | No  |\n",
       "| ENSG00000188976.11 | NOC2L   | 30.63141 | 29.18424 | 39.61115 | 41.06997 | 41.96813 | 23.09486 | 28.382925 | 30.646639 | 37.87524 | 33.66843 |  54.703833 | 58.036956 | No | No  |\n",
       "| ENSG00000187961.14 | KLHL17  | 23.29455 | 20.17146 | 27.21997 | 31.91967 | 28.17860 | 17.46197 | 21.636164 | 20.995487 | 24.36150 | 20.64443 |  19.321996 | 24.954465 | No | No  |\n",
       "| ENSG00000187583.10 | PLEKHN1 | 11.55556 | 17.38179 | 15.23506 | 13.61906 | 12.79029 | 10.84332 |  8.142642 | 14.900023 | 11.49127 | 12.46979 |   5.896973 |  5.418684 | No | No  |\n",
       "| ENSG00000187642.9  | PERM1   | 14.85715 | 13.30458 | 17.26640 | 16.38543 | 13.58968 | 10.56168 | 15.819991 |  8.465922 | 10.75583 | 13.02400 |  12.421283 |  5.703878 | No | No  |\n",
       "| ENSG00000188290.10 | HES4    | 46.03883 | 51.50160 | 43.87697 | 46.38992 | 54.55857 | 38.86697 | 41.876446 | 45.885299 | 41.27666 | 44.05993 |  38.142122 | 39.641950 | No | Yes |\n",
       "\n"
      ],
      "text/plain": [
       "  gene_id            gene_name A1       A2       A3       A4       A5      \n",
       "1 ENSG00000187634.12 SAMD11    37.05117 48.28275 48.34592 46.38992 57.55629\n",
       "2 ENSG00000188976.11 NOC2L     30.63141 29.18424 39.61115 41.06997 41.96813\n",
       "3 ENSG00000187961.14 KLHL17    23.29455 20.17146 27.21997 31.91967 28.17860\n",
       "4 ENSG00000187583.10 PLEKHN1   11.55556 17.38179 15.23506 13.61906 12.79029\n",
       "5 ENSG00000187642.9  PERM1     14.85715 13.30458 17.26640 16.38543 13.58968\n",
       "6 ENSG00000188290.10 HES4      46.03883 51.50160 43.87697 46.38992 54.55857\n",
       "  A6       A7        A8        A9       A10      A11        A12       is.hit\n",
       "1 36.61381 44.668209 40.636427 47.89563 51.54180 102.757889 88.552702 No    \n",
       "2 23.09486 28.382925 30.646639 37.87524 33.66843  54.703833 58.036956 No    \n",
       "3 17.46197 21.636164 20.995487 24.36150 20.64443  19.321996 24.954465 No    \n",
       "4 10.84332  8.142642 14.900023 11.49127 12.46979   5.896973  5.418684 No    \n",
       "5 10.56168 15.819991  8.465922 10.75583 13.02400  12.421283  5.703878 No    \n",
       "6 38.86697 41.876446 45.885299 41.27666 44.05993  38.142122 39.641950 No    \n",
       "  is.tf\n",
       "1 No   \n",
       "2 No   \n",
       "3 No   \n",
       "4 No   \n",
       "5 No   \n",
       "6 Yes  "
      ]
     },
     "metadata": {},
     "output_type": "display_data"
    }
   ],
   "source": [
    "atac.counts.perGene %>% head\n"
   ]
  },
  {
   "cell_type": "code",
   "execution_count": 139,
   "metadata": {
    "ExecuteTime": {
     "end_time": "2019-11-17T18:06:31.920908Z",
     "start_time": "2019-11-17T18:06:31.884Z"
    }
   },
   "outputs": [],
   "source": [
    "sample.anno <- data.frame(\"sample\" = paste0(rep(\"A\",12),1:12), \n",
    "                          \"condition\" = c(rep(\"ES\",2), rep(\"H1\",2), rep(\"H4\",2), rep(\"H16\",2), rep(\"H24\",2), rep(\"D5\",2)))"
   ]
  },
  {
   "cell_type": "code",
   "execution_count": 140,
   "metadata": {
    "ExecuteTime": {
     "end_time": "2019-11-17T18:14:56.906909Z",
     "start_time": "2019-11-17T18:14:56.856Z"
    }
   },
   "outputs": [],
   "source": [
    "atac.counts <- select(atac.counts.perGene, A1:A12) %>% apply(., 2, as.integer)"
   ]
  },
  {
   "cell_type": "code",
   "execution_count": 147,
   "metadata": {
    "ExecuteTime": {
     "end_time": "2019-11-17T18:14:58.823206Z",
     "start_time": "2019-11-17T18:14:58.588Z"
    }
   },
   "outputs": [],
   "source": [
    "dds.atac <- DESeqDataSetFromMatrix(countData = atac.counts, colData = sample.anno, design = ~ condition)"
   ]
  },
  {
   "cell_type": "code",
   "execution_count": 148,
   "metadata": {
    "ExecuteTime": {
     "end_time": "2019-11-17T18:15:13.549274Z",
     "start_time": "2019-11-17T18:15:00.055Z"
    }
   },
   "outputs": [
    {
     "name": "stderr",
     "output_type": "stream",
     "text": [
      "estimating size factors\n",
      "estimating dispersions\n",
      "gene-wise dispersion estimates\n",
      "mean-dispersion relationship\n",
      "final dispersion estimates\n",
      "fitting model and testing\n"
     ]
    }
   ],
   "source": [
    "dds.atac <- DESeq(dds.atac)"
   ]
  },
  {
   "cell_type": "code",
   "execution_count": 153,
   "metadata": {
    "ExecuteTime": {
     "end_time": "2019-11-17T18:15:13.572316Z",
     "start_time": "2019-11-17T18:15:01.891Z"
    }
   },
   "outputs": [
    {
     "data": {
      "text/html": [
       "<table>\n",
       "<caption>A matrix: 2 × 12 of type chr</caption>\n",
       "<tbody>\n",
       "\t<tr><th scope=row>sample</th><td>A1</td><td>A2</td><td>A3</td><td>A4</td><td>A5</td><td>A6</td><td>A7 </td><td>A8 </td><td>A9 </td><td>A10</td><td>A11</td><td>A12</td></tr>\n",
       "\t<tr><th scope=row>condition</th><td>ES</td><td>ES</td><td>H1</td><td>H1</td><td>H4</td><td>H4</td><td>H16</td><td>H16</td><td>H24</td><td>H24</td><td>D5 </td><td>D5 </td></tr>\n",
       "</tbody>\n",
       "</table>\n"
      ],
      "text/latex": [
       "A matrix: 2 × 12 of type chr\n",
       "\\begin{tabular}{r|llllllllllll}\n",
       "\tsample & A1 & A2 & A3 & A4 & A5 & A6 & A7  & A8  & A9  & A10 & A11 & A12\\\\\n",
       "\tcondition & ES & ES & H1 & H1 & H4 & H4 & H16 & H16 & H24 & H24 & D5  & D5 \\\\\n",
       "\\end{tabular}\n"
      ],
      "text/markdown": [
       "\n",
       "A matrix: 2 × 12 of type chr\n",
       "\n",
       "| sample | A1 | A2 | A3 | A4 | A5 | A6 | A7  | A8  | A9  | A10 | A11 | A12 |\n",
       "| condition | ES | ES | H1 | H1 | H4 | H4 | H16 | H16 | H24 | H24 | D5  | D5  |\n",
       "\n"
      ],
      "text/plain": [
       "          [,1] [,2] [,3] [,4] [,5] [,6] [,7] [,8] [,9] [,10] [,11] [,12]\n",
       "sample    A1   A2   A3   A4   A5   A6   A7   A8   A9   A10   A11   A12  \n",
       "condition ES   ES   H1   H1   H4   H4   H16  H16  H24  H24   D5    D5   "
      ]
     },
     "metadata": {},
     "output_type": "display_data"
    }
   ],
   "source": [
    "sample.anno %>% t"
   ]
  },
  {
   "cell_type": "code",
   "execution_count": 156,
   "metadata": {
    "ExecuteTime": {
     "end_time": "2019-11-17T18:21:26.341587Z",
     "start_time": "2019-11-17T18:21:25.295Z"
    }
   },
   "outputs": [],
   "source": [
    "res.atac.a <- results(dds.atac, contrast = c(\"condition\", \"D5\", \"ES\"))"
   ]
  },
  {
   "cell_type": "code",
   "execution_count": 157,
   "metadata": {
    "ExecuteTime": {
     "end_time": "2019-11-17T18:21:27.115202Z",
     "start_time": "2019-11-17T18:21:27.008Z"
    }
   },
   "outputs": [
    {
     "data": {
      "text/html": [
       "<table>\n",
       "<caption>A data.frame: 1422 × 19</caption>\n",
       "<thead>\n",
       "\t<tr><th scope=col>baseMean</th><th scope=col>log2FoldChange</th><th scope=col>lfcSE</th><th scope=col>stat</th><th scope=col>pvalue</th><th scope=col>padj</th><th scope=col>gene_name</th><th scope=col>A1</th><th scope=col>A2</th><th scope=col>A3</th><th scope=col>A4</th><th scope=col>A5</th><th scope=col>A6</th><th scope=col>A7</th><th scope=col>A8</th><th scope=col>A9</th><th scope=col>A10</th><th scope=col>A11</th><th scope=col>A12</th></tr>\n",
       "\t<tr><th scope=col>&lt;dbl&gt;</th><th scope=col>&lt;dbl&gt;</th><th scope=col>&lt;dbl&gt;</th><th scope=col>&lt;dbl&gt;</th><th scope=col>&lt;dbl&gt;</th><th scope=col>&lt;dbl&gt;</th><th scope=col>&lt;fct&gt;</th><th scope=col>&lt;int&gt;</th><th scope=col>&lt;int&gt;</th><th scope=col>&lt;int&gt;</th><th scope=col>&lt;int&gt;</th><th scope=col>&lt;int&gt;</th><th scope=col>&lt;int&gt;</th><th scope=col>&lt;int&gt;</th><th scope=col>&lt;int&gt;</th><th scope=col>&lt;int&gt;</th><th scope=col>&lt;int&gt;</th><th scope=col>&lt;int&gt;</th><th scope=col>&lt;int&gt;</th></tr>\n",
       "</thead>\n",
       "<tbody>\n",
       "\t<tr><td> 53.96597</td><td> 1.2859206</td><td>0.2555272</td><td> 5.032421</td><td>4.843235e-07</td><td>4.171176e-05</td><td>SAMD11  </td><td> 37</td><td> 48</td><td> 48</td><td> 46</td><td> 57</td><td> 36</td><td> 44</td><td> 40</td><td> 47</td><td> 51</td><td>102</td><td> 88</td></tr>\n",
       "\t<tr><td> 36.98419</td><td> 1.0500669</td><td>0.3035926</td><td> 3.458802</td><td>5.425834e-04</td><td>7.509406e-03</td><td>NOC2L   </td><td> 30</td><td> 29</td><td> 39</td><td> 41</td><td> 41</td><td> 23</td><td> 28</td><td> 30</td><td> 37</td><td> 33</td><td> 54</td><td> 58</td></tr>\n",
       "\t<tr><td> 85.93123</td><td> 1.3913771</td><td>0.2120123</td><td> 6.562719</td><td>5.283528e-11</td><td>2.881085e-08</td><td>ACAP3   </td><td> 61</td><td> 60</td><td> 50</td><td> 66</td><td> 95</td><td> 75</td><td> 67</td><td> 79</td><td> 89</td><td> 93</td><td>141</td><td>150</td></tr>\n",
       "\t<tr><td> 41.82490</td><td> 1.0333660</td><td>0.2768952</td><td> 3.731975</td><td>1.899846e-04</td><td>3.502703e-03</td><td>PRXL2B  </td><td> 42</td><td> 31</td><td> 33</td><td> 37</td><td> 37</td><td> 35</td><td> 31</td><td> 40</td><td> 35</td><td> 42</td><td> 69</td><td> 68</td></tr>\n",
       "\t<tr><td> 43.65750</td><td>-1.3623490</td><td>0.3017304</td><td>-4.515121</td><td>6.328074e-06</td><td>2.844690e-04</td><td>ARHGEF16</td><td> 67</td><td> 62</td><td> 54</td><td> 57</td><td> 51</td><td> 46</td><td> 40</td><td> 36</td><td> 36</td><td> 36</td><td> 21</td><td> 25</td></tr>\n",
       "\t<tr><td> 49.64993</td><td> 0.9224558</td><td>0.2622441</td><td> 3.517546</td><td>4.355565e-04</td><td>6.426952e-03</td><td>PARK7   </td><td> 37</td><td> 43</td><td> 47</td><td> 37</td><td> 38</td><td> 39</td><td> 54</td><td> 51</td><td> 50</td><td> 61</td><td> 69</td><td> 70</td></tr>\n",
       "\t<tr><td>186.76433</td><td> 0.5528684</td><td>0.1481239</td><td> 3.732473</td><td>1.896094e-04</td><td>3.502703e-03</td><td>RERE    </td><td>171</td><td>174</td><td>187</td><td>171</td><td>167</td><td>175</td><td>165</td><td>180</td><td>189</td><td>204</td><td>239</td><td>225</td></tr>\n",
       "\t<tr><td> 44.46515</td><td> 1.0083677</td><td>0.2684577</td><td> 3.756152</td><td>1.725463e-04</td><td>3.269921e-03</td><td>PGD     </td><td> 37</td><td> 40</td><td> 29</td><td> 37</td><td> 38</td><td> 34</td><td> 50</td><td> 43</td><td> 37</td><td> 45</td><td> 70</td><td> 72</td></tr>\n",
       "\t<tr><td> 27.16807</td><td> 1.1758202</td><td>0.3428771</td><td> 3.429276</td><td>6.051942e-04</td><td>8.100341e-03</td><td>UBIAD1  </td><td> 24</td><td> 18</td><td> 22</td><td> 24</td><td> 26</td><td> 24</td><td> 24</td><td> 23</td><td> 27</td><td> 26</td><td> 44</td><td> 43</td></tr>\n",
       "\t<tr><td> 99.67772</td><td>-1.0762933</td><td>0.2093694</td><td>-5.140642</td><td>2.738011e-07</td><td>2.617207e-05</td><td>DHRS3   </td><td>130</td><td>123</td><td>127</td><td>114</td><td>119</td><td>115</td><td>102</td><td> 97</td><td> 82</td><td> 93</td><td> 50</td><td> 60</td></tr>\n",
       "\t<tr><td> 15.88361</td><td> 2.0687709</td><td>0.5226288</td><td> 3.958395</td><td>7.545518e-05</td><td>1.778914e-03</td><td>CELA2B  </td><td>  7</td><td>  6</td><td>  8</td><td>  7</td><td> 10</td><td>  9</td><td> 14</td><td> 13</td><td> 32</td><td> 34</td><td> 23</td><td> 27</td></tr>\n",
       "\t<tr><td> 60.50632</td><td> 0.8774022</td><td>0.2408885</td><td> 3.642359</td><td>2.701512e-04</td><td>4.550088e-03</td><td>SZRD1   </td><td> 49</td><td> 46</td><td> 57</td><td> 57</td><td> 57</td><td> 49</td><td> 60</td><td> 58</td><td> 63</td><td> 71</td><td> 78</td><td> 82</td></tr>\n",
       "\t<tr><td>107.17865</td><td> 1.0509486</td><td>0.1926673</td><td> 5.454733</td><td>4.904638e-08</td><td>7.028862e-06</td><td>IFFO2   </td><td> 74</td><td> 85</td><td> 93</td><td> 95</td><td> 96</td><td> 86</td><td>100</td><td>103</td><td>111</td><td>141</td><td>154</td><td>148</td></tr>\n",
       "\t<tr><td> 37.35139</td><td> 1.1501634</td><td>0.3075962</td><td> 3.739199</td><td>1.846076e-04</td><td>3.438564e-03</td><td>DDOST   </td><td> 33</td><td> 24</td><td> 25</td><td> 33</td><td> 34</td><td> 27</td><td> 29</td><td> 42</td><td> 44</td><td> 40</td><td> 65</td><td> 51</td></tr>\n",
       "\t<tr><td> 65.69243</td><td> 0.9501392</td><td>0.2349417</td><td> 4.044149</td><td>5.251358e-05</td><td>1.373803e-03</td><td>KIF17   </td><td> 56</td><td> 49</td><td> 44</td><td> 58</td><td> 51</td><td> 53</td><td> 60</td><td> 74</td><td> 73</td><td> 84</td><td> 98</td><td> 88</td></tr>\n",
       "\t<tr><td>112.21058</td><td>-0.8366484</td><td>0.1984463</td><td>-4.215994</td><td>2.486801e-05</td><td>7.756339e-04</td><td>RAP1GAP </td><td>123</td><td>140</td><td>119</td><td>138</td><td>143</td><td>130</td><td>112</td><td>105</td><td>105</td><td>113</td><td> 68</td><td> 67</td></tr>\n",
       "\t<tr><td>142.45909</td><td> 0.7142902</td><td>0.1673883</td><td> 4.267265</td><td>1.978837e-05</td><td>6.569815e-04</td><td>EPHB2   </td><td>115</td><td>133</td><td>131</td><td>127</td><td>155</td><td>139</td><td>138</td><td>114</td><td>146</td><td>141</td><td>188</td><td>185</td></tr>\n",
       "\t<tr><td> 56.44530</td><td> 1.1677585</td><td>0.2473905</td><td> 4.720305</td><td>2.354916e-06</td><td>1.343229e-04</td><td>HNRNPR  </td><td> 40</td><td> 44</td><td> 45</td><td> 50</td><td> 50</td><td> 47</td><td> 55</td><td> 54</td><td> 58</td><td> 60</td><td> 81</td><td> 92</td></tr>\n",
       "\t<tr><td> 63.87136</td><td> 0.8209089</td><td>0.2298516</td><td> 3.571474</td><td>3.549778e-04</td><td>5.543581e-03</td><td>ZNF436  </td><td> 56</td><td> 57</td><td> 52</td><td> 56</td><td> 56</td><td> 49</td><td> 54</td><td> 67</td><td> 71</td><td> 65</td><td> 88</td><td> 95</td></tr>\n",
       "\t<tr><td> 72.59056</td><td> 0.7405375</td><td>0.2187796</td><td> 3.384855</td><td>7.121574e-04</td><td>9.082158e-03</td><td>NIPAL3  </td><td> 63</td><td> 63</td><td> 56</td><td> 70</td><td> 65</td><td> 63</td><td> 70</td><td> 75</td><td> 79</td><td> 75</td><td> 95</td><td> 98</td></tr>\n",
       "\t<tr><td> 44.12946</td><td> 0.9670802</td><td>0.2731032</td><td> 3.541080</td><td>3.984925e-04</td><td>6.044093e-03</td><td>SRRM1   </td><td> 40</td><td> 37</td><td> 27</td><td> 38</td><td> 42</td><td> 36</td><td> 33</td><td> 44</td><td> 49</td><td> 44</td><td> 65</td><td> 73</td></tr>\n",
       "\t<tr><td> 51.52313</td><td> 0.9772425</td><td>0.2555053</td><td> 3.824744</td><td>1.309078e-04</td><td>2.704755e-03</td><td>CLIC4   </td><td> 41</td><td> 41</td><td> 43</td><td> 37</td><td> 44</td><td> 47</td><td> 52</td><td> 58</td><td> 52</td><td> 55</td><td> 75</td><td> 73</td></tr>\n",
       "\t<tr><td> 16.27546</td><td>-2.9044254</td><td>0.6788083</td><td>-4.278712</td><td>1.879779e-05</td><td>6.337696e-04</td><td>CNKSR1  </td><td> 25</td><td> 24</td><td> 24</td><td> 16</td><td> 23</td><td> 23</td><td> 16</td><td> 14</td><td> 13</td><td> 15</td><td>  3</td><td>  3</td></tr>\n",
       "\t<tr><td>107.33248</td><td> 0.9043873</td><td>0.1872643</td><td> 4.829471</td><td>1.368965e-06</td><td>8.878907e-05</td><td>ARID1A  </td><td> 84</td><td> 85</td><td> 89</td><td> 96</td><td> 96</td><td> 95</td><td>105</td><td>103</td><td>114</td><td>132</td><td>145</td><td>145</td></tr>\n",
       "\t<tr><td> 16.96421</td><td>-2.3484750</td><td>0.5883024</td><td>-3.991952</td><td>6.553167e-05</td><td>1.607975e-03</td><td>SFN     </td><td> 23</td><td> 27</td><td> 19</td><td> 23</td><td> 29</td><td> 19</td><td> 14</td><td> 18</td><td> 11</td><td> 15</td><td>  5</td><td>  4</td></tr>\n",
       "\t<tr><td> 53.13859</td><td>-1.1147580</td><td>0.2766296</td><td>-4.029786</td><td>5.582767e-05</td><td>1.435340e-03</td><td>SYTL1   </td><td> 71</td><td> 66</td><td> 57</td><td> 63</td><td> 60</td><td> 58</td><td> 50</td><td> 56</td><td> 51</td><td> 56</td><td> 29</td><td> 29</td></tr>\n",
       "\t<tr><td> 49.44926</td><td> 0.9814976</td><td>0.2598357</td><td> 3.777377</td><td>1.584886e-04</td><td>3.092989e-03</td><td>FAM76A  </td><td> 38</td><td> 41</td><td> 37</td><td> 38</td><td> 44</td><td> 39</td><td> 56</td><td> 56</td><td> 53</td><td> 48</td><td> 70</td><td> 73</td></tr>\n",
       "\t<tr><td> 14.96940</td><td>-2.6820254</td><td>0.6888532</td><td>-3.893464</td><td>9.882273e-05</td><td>2.176227e-03</td><td>SMPDL3B </td><td> 22</td><td> 20</td><td> 21</td><td> 26</td><td> 17</td><td> 19</td><td> 13</td><td> 17</td><td>  9</td><td> 13</td><td>  2</td><td>  4</td></tr>\n",
       "\t<tr><td>104.69407</td><td> 0.9436213</td><td>0.1881776</td><td> 5.014525</td><td>5.316464e-07</td><td>4.556183e-05</td><td>EPB41   </td><td> 99</td><td> 87</td><td> 87</td><td> 95</td><td> 92</td><td> 78</td><td> 80</td><td>103</td><td> 99</td><td>105</td><td>169</td><td>159</td></tr>\n",
       "\t<tr><td>189.06372</td><td>-1.2447939</td><td>0.1674920</td><td>-7.431961</td><td>1.069995e-13</td><td>3.102450e-10</td><td>PTPRU   </td><td>230</td><td>212</td><td>212</td><td>222</td><td>215</td><td>216</td><td>208</td><td>210</td><td>198</td><td>208</td><td> 89</td><td> 82</td></tr>\n",
       "\t<tr><td>⋮</td><td>⋮</td><td>⋮</td><td>⋮</td><td>⋮</td><td>⋮</td><td>⋮</td><td>⋮</td><td>⋮</td><td>⋮</td><td>⋮</td><td>⋮</td><td>⋮</td><td>⋮</td><td>⋮</td><td>⋮</td><td>⋮</td><td>⋮</td><td>⋮</td></tr>\n",
       "\t<tr><td> 20.279387</td><td> 1.7999256</td><td>0.4044062</td><td> 4.450786</td><td>8.555645e-06</td><td>3.518736e-04</td><td>SPIN4         </td><td>14</td><td>12</td><td>12</td><td> 9</td><td> 11</td><td> 15</td><td> 22</td><td> 18</td><td> 23</td><td> 22</td><td> 39</td><td> 44</td></tr>\n",
       "\t<tr><td> 53.813531</td><td> 1.0045143</td><td>0.2601935</td><td> 3.860643</td><td>1.130892e-04</td><td>2.405151e-03</td><td>ARHGEF9       </td><td>44</td><td>37</td><td>48</td><td>43</td><td> 46</td><td> 58</td><td> 48</td><td> 64</td><td> 56</td><td> 53</td><td> 80</td><td> 69</td></tr>\n",
       "\t<tr><td> 33.290991</td><td> 1.3557663</td><td>0.3127844</td><td> 4.334508</td><td>1.460865e-05</td><td>5.207925e-04</td><td>AMER1         </td><td>23</td><td>29</td><td>33</td><td>19</td><td> 24</td><td> 22</td><td> 30</td><td> 34</td><td> 32</td><td> 29</td><td> 62</td><td> 60</td></tr>\n",
       "\t<tr><td> 39.256523</td><td> 1.0257558</td><td>0.2923486</td><td> 3.508673</td><td>4.503477e-04</td><td>6.573123e-03</td><td>ZC4H2         </td><td>31</td><td>29</td><td>33</td><td>30</td><td> 30</td><td> 32</td><td> 45</td><td> 52</td><td> 39</td><td> 38</td><td> 58</td><td> 54</td></tr>\n",
       "\t<tr><td> 46.000946</td><td> 1.0543697</td><td>0.2730961</td><td> 3.860800</td><td>1.130162e-04</td><td>2.405151e-03</td><td>HMGN5         </td><td>39</td><td>34</td><td>26</td><td>37</td><td> 34</td><td> 42</td><td> 44</td><td> 56</td><td> 50</td><td> 50</td><td> 71</td><td> 68</td></tr>\n",
       "\t<tr><td> 26.144800</td><td> 1.7102472</td><td>0.3744471</td><td> 4.567394</td><td>4.938261e-06</td><td>2.328209e-04</td><td>PABPC5        </td><td>17</td><td>14</td><td>19</td><td>12</td><td> 14</td><td> 23</td><td> 26</td><td> 29</td><td> 37</td><td> 28</td><td> 45</td><td> 48</td></tr>\n",
       "\t<tr><td> 32.745771</td><td> 1.4051361</td><td>0.3328875</td><td> 4.221054</td><td>2.431627e-05</td><td>7.649731e-04</td><td>NAP1L3        </td><td>27</td><td>15</td><td>26</td><td>21</td><td> 25</td><td> 25</td><td> 33</td><td> 38</td><td> 40</td><td> 40</td><td> 54</td><td> 48</td></tr>\n",
       "\t<tr><td> 32.745771</td><td> 1.4051361</td><td>0.3328875</td><td> 4.221054</td><td>2.431627e-05</td><td>7.649731e-04</td><td>FAM133A       </td><td>27</td><td>15</td><td>26</td><td>21</td><td> 25</td><td> 25</td><td> 33</td><td> 38</td><td> 40</td><td> 40</td><td> 54</td><td> 48</td></tr>\n",
       "\t<tr><td> 79.127675</td><td> 0.7103221</td><td>0.2104659</td><td> 3.374999</td><td>7.381585e-04</td><td>9.353054e-03</td><td>RPL36A-HNRNPH2</td><td>69</td><td>69</td><td>72</td><td>73</td><td> 63</td><td> 72</td><td> 69</td><td> 82</td><td> 87</td><td> 88</td><td>102</td><td>105</td></tr>\n",
       "\t<tr><td> 31.799803</td><td> 1.0956519</td><td>0.3213160</td><td> 3.409889</td><td>6.498927e-04</td><td>8.532969e-03</td><td>HNRNPH2       </td><td>24</td><td>25</td><td>28</td><td>28</td><td> 23</td><td> 27</td><td> 25</td><td> 33</td><td> 35</td><td> 37</td><td> 46</td><td> 50</td></tr>\n",
       "\t<tr><td> 87.341227</td><td> 0.8760303</td><td>0.2058676</td><td> 4.255308</td><td>2.087612e-05</td><td>6.788446e-04</td><td>SLC25A53      </td><td>81</td><td>64</td><td>63</td><td>62</td><td> 81</td><td> 82</td><td> 88</td><td>107</td><td> 94</td><td> 82</td><td>120</td><td>124</td></tr>\n",
       "\t<tr><td>  8.580433</td><td> 2.6488754</td><td>0.6585998</td><td> 4.021980</td><td>5.771093e-05</td><td>1.469981e-03</td><td>RIPPLY1       </td><td> 4</td><td> 4</td><td> 5</td><td> 4</td><td>  1</td><td>  2</td><td>  8</td><td>  7</td><td> 11</td><td>  9</td><td> 24</td><td> 22</td></tr>\n",
       "\t<tr><td> 47.038566</td><td> 1.1136952</td><td>0.2831945</td><td> 3.932617</td><td>8.402616e-05</td><td>1.926305e-03</td><td>PRPS1         </td><td>37</td><td>26</td><td>32</td><td>34</td><td> 40</td><td> 49</td><td> 48</td><td> 59</td><td> 61</td><td> 54</td><td> 60</td><td> 65</td></tr>\n",
       "\t<tr><td> 53.073363</td><td> 1.0210726</td><td>0.2697462</td><td> 3.785309</td><td>1.535177e-04</td><td>3.034941e-03</td><td>PSMD10        </td><td>43</td><td>36</td><td>38</td><td>29</td><td> 44</td><td> 54</td><td> 54</td><td> 73</td><td> 70</td><td> 49</td><td> 79</td><td> 68</td></tr>\n",
       "\t<tr><td> 36.834712</td><td> 1.1253595</td><td>0.2981704</td><td> 3.774216</td><td>1.605114e-04</td><td>3.123508e-03</td><td>NXT2          </td><td>27</td><td>30</td><td>25</td><td>24</td><td> 33</td><td> 29</td><td> 40</td><td> 40</td><td> 41</td><td> 38</td><td> 61</td><td> 53</td></tr>\n",
       "\t<tr><td>109.334407</td><td> 0.6212934</td><td>0.1821717</td><td> 3.410482</td><td>6.484805e-04</td><td>8.520857e-03</td><td>PAK3          </td><td>99</td><td>96</td><td>94</td><td>86</td><td>101</td><td>102</td><td>118</td><td>125</td><td>109</td><td>110</td><td>136</td><td>139</td></tr>\n",
       "\t<tr><td> 60.620757</td><td> 1.0950419</td><td>0.2383037</td><td> 4.595153</td><td>4.324311e-06</td><td>2.131162e-04</td><td>DCX           </td><td>46</td><td>50</td><td>56</td><td>44</td><td> 44</td><td> 50</td><td> 59</td><td> 68</td><td> 64</td><td> 57</td><td> 92</td><td> 96</td></tr>\n",
       "\t<tr><td> 66.947300</td><td> 0.8838059</td><td>0.2309809</td><td> 3.826316</td><td>1.300754e-04</td><td>2.693955e-03</td><td>AMOT          </td><td>49</td><td>58</td><td>54</td><td>52</td><td> 55</td><td> 57</td><td> 65</td><td> 78</td><td> 83</td><td> 72</td><td> 94</td><td> 87</td></tr>\n",
       "\t<tr><td> 51.584148</td><td>-1.2933491</td><td>0.2913036</td><td>-4.439866</td><td>9.001491e-06</td><td>3.613966e-04</td><td>HTR2C         </td><td>64</td><td>67</td><td>65</td><td>72</td><td> 61</td><td> 73</td><td> 46</td><td> 49</td><td> 39</td><td> 43</td><td> 26</td><td> 23</td></tr>\n",
       "\t<tr><td> 16.915813</td><td> 2.0480859</td><td>0.4230051</td><td> 4.841752</td><td>1.286995e-06</td><td>8.448999e-05</td><td>TEX13D        </td><td>14</td><td>10</td><td>10</td><td>11</td><td>  8</td><td>  8</td><td> 11</td><td> 12</td><td> 11</td><td> 13</td><td> 42</td><td> 49</td></tr>\n",
       "\t<tr><td> 51.576518</td><td>-1.0935540</td><td>0.2849482</td><td>-3.837729</td><td>1.241772e-04</td><td>2.596528e-03</td><td>XPNPEP2       </td><td>72</td><td>63</td><td>54</td><td>58</td><td> 46</td><td> 60</td><td> 50</td><td> 55</td><td> 65</td><td> 46</td><td> 26</td><td> 32</td></tr>\n",
       "\t<tr><td> 54.400695</td><td>-0.9406726</td><td>0.2703728</td><td>-3.479168</td><td>5.029730e-04</td><td>7.085199e-03</td><td>ELF4          </td><td>64</td><td>70</td><td>63</td><td>68</td><td> 65</td><td> 63</td><td> 50</td><td> 54</td><td> 46</td><td> 54</td><td> 32</td><td> 32</td></tr>\n",
       "\t<tr><td>106.456984</td><td> 1.1662178</td><td>0.1816040</td><td> 6.421764</td><td>1.347042e-10</td><td>6.333645e-08</td><td>ENOX2         </td><td>87</td><td>87</td><td>84</td><td>80</td><td> 92</td><td> 91</td><td> 90</td><td> 97</td><td>102</td><td>104</td><td>180</td><td>178</td></tr>\n",
       "\t<tr><td> 29.344417</td><td> 1.1726033</td><td>0.3393678</td><td> 3.455258</td><td>5.497657e-04</td><td>7.554719e-03</td><td>PHF6          </td><td>24</td><td>21</td><td>22</td><td>23</td><td> 33</td><td> 17</td><td> 28</td><td> 29</td><td> 32</td><td> 29</td><td> 45</td><td> 48</td></tr>\n",
       "\t<tr><td> 65.213178</td><td> 0.8825996</td><td>0.2259725</td><td> 3.905784</td><td>9.392056e-05</td><td>2.098370e-03</td><td>ZNF75D        </td><td>57</td><td>56</td><td>60</td><td>54</td><td> 51</td><td> 62</td><td> 59</td><td> 60</td><td> 67</td><td> 65</td><td> 94</td><td> 97</td></tr>\n",
       "\t<tr><td> 27.741765</td><td> 1.2272694</td><td>0.3428764</td><td> 3.579335</td><td>3.444696e-04</td><td>5.428204e-03</td><td>ZNF449        </td><td>20</td><td>21</td><td>22</td><td>22</td><td> 23</td><td> 29</td><td> 25</td><td> 28</td><td> 28</td><td> 26</td><td> 43</td><td> 45</td></tr>\n",
       "\t<tr><td> 14.102020</td><td> 4.2409726</td><td>0.9047002</td><td> 4.687710</td><td>2.762786e-06</td><td>1.488055e-04</td><td>CD40LG        </td><td> 1</td><td> 2</td><td> 3</td><td> 2</td><td> 11</td><td> 12</td><td> 20</td><td> 25</td><td> 23</td><td> 17</td><td> 23</td><td> 29</td></tr>\n",
       "\t<tr><td> 40.161192</td><td> 1.0338069</td><td>0.2875038</td><td> 3.595803</td><td>3.233922e-04</td><td>5.178288e-03</td><td>EMD           </td><td>31</td><td>34</td><td>26</td><td>28</td><td> 36</td><td> 39</td><td> 38</td><td> 43</td><td> 49</td><td> 35</td><td> 58</td><td> 64</td></tr>\n",
       "\t<tr><td> 30.863713</td><td>-1.6400197</td><td>0.3892195</td><td>-4.213612</td><td>2.513193e-05</td><td>7.793586e-04</td><td>DNASE1L1      </td><td>39</td><td>46</td><td>31</td><td>43</td><td> 41</td><td> 33</td><td> 35</td><td> 27</td><td> 27</td><td> 29</td><td> 11</td><td> 14</td></tr>\n",
       "\t<tr><td> 29.720984</td><td>-1.4596059</td><td>0.3885743</td><td>-3.756311</td><td>1.724363e-04</td><td>3.269921e-03</td><td>TAZ           </td><td>40</td><td>38</td><td>32</td><td>38</td><td> 37</td><td> 34</td><td> 39</td><td> 25</td><td> 26</td><td> 27</td><td> 11</td><td> 15</td></tr>\n",
       "</tbody>\n",
       "</table>\n"
      ],
      "text/latex": [
       "A data.frame: 1422 × 19\n",
       "\\begin{tabular}{r|lllllllllllllllllll}\n",
       " baseMean & log2FoldChange & lfcSE & stat & pvalue & padj & gene\\_name & A1 & A2 & A3 & A4 & A5 & A6 & A7 & A8 & A9 & A10 & A11 & A12\\\\\n",
       " <dbl> & <dbl> & <dbl> & <dbl> & <dbl> & <dbl> & <fct> & <int> & <int> & <int> & <int> & <int> & <int> & <int> & <int> & <int> & <int> & <int> & <int>\\\\\n",
       "\\hline\n",
       "\t  53.96597 &  1.2859206 & 0.2555272 &  5.032421 & 4.843235e-07 & 4.171176e-05 & SAMD11   &  37 &  48 &  48 &  46 &  57 &  36 &  44 &  40 &  47 &  51 & 102 &  88\\\\\n",
       "\t  36.98419 &  1.0500669 & 0.3035926 &  3.458802 & 5.425834e-04 & 7.509406e-03 & NOC2L    &  30 &  29 &  39 &  41 &  41 &  23 &  28 &  30 &  37 &  33 &  54 &  58\\\\\n",
       "\t  85.93123 &  1.3913771 & 0.2120123 &  6.562719 & 5.283528e-11 & 2.881085e-08 & ACAP3    &  61 &  60 &  50 &  66 &  95 &  75 &  67 &  79 &  89 &  93 & 141 & 150\\\\\n",
       "\t  41.82490 &  1.0333660 & 0.2768952 &  3.731975 & 1.899846e-04 & 3.502703e-03 & PRXL2B   &  42 &  31 &  33 &  37 &  37 &  35 &  31 &  40 &  35 &  42 &  69 &  68\\\\\n",
       "\t  43.65750 & -1.3623490 & 0.3017304 & -4.515121 & 6.328074e-06 & 2.844690e-04 & ARHGEF16 &  67 &  62 &  54 &  57 &  51 &  46 &  40 &  36 &  36 &  36 &  21 &  25\\\\\n",
       "\t  49.64993 &  0.9224558 & 0.2622441 &  3.517546 & 4.355565e-04 & 6.426952e-03 & PARK7    &  37 &  43 &  47 &  37 &  38 &  39 &  54 &  51 &  50 &  61 &  69 &  70\\\\\n",
       "\t 186.76433 &  0.5528684 & 0.1481239 &  3.732473 & 1.896094e-04 & 3.502703e-03 & RERE     & 171 & 174 & 187 & 171 & 167 & 175 & 165 & 180 & 189 & 204 & 239 & 225\\\\\n",
       "\t  44.46515 &  1.0083677 & 0.2684577 &  3.756152 & 1.725463e-04 & 3.269921e-03 & PGD      &  37 &  40 &  29 &  37 &  38 &  34 &  50 &  43 &  37 &  45 &  70 &  72\\\\\n",
       "\t  27.16807 &  1.1758202 & 0.3428771 &  3.429276 & 6.051942e-04 & 8.100341e-03 & UBIAD1   &  24 &  18 &  22 &  24 &  26 &  24 &  24 &  23 &  27 &  26 &  44 &  43\\\\\n",
       "\t  99.67772 & -1.0762933 & 0.2093694 & -5.140642 & 2.738011e-07 & 2.617207e-05 & DHRS3    & 130 & 123 & 127 & 114 & 119 & 115 & 102 &  97 &  82 &  93 &  50 &  60\\\\\n",
       "\t  15.88361 &  2.0687709 & 0.5226288 &  3.958395 & 7.545518e-05 & 1.778914e-03 & CELA2B   &   7 &   6 &   8 &   7 &  10 &   9 &  14 &  13 &  32 &  34 &  23 &  27\\\\\n",
       "\t  60.50632 &  0.8774022 & 0.2408885 &  3.642359 & 2.701512e-04 & 4.550088e-03 & SZRD1    &  49 &  46 &  57 &  57 &  57 &  49 &  60 &  58 &  63 &  71 &  78 &  82\\\\\n",
       "\t 107.17865 &  1.0509486 & 0.1926673 &  5.454733 & 4.904638e-08 & 7.028862e-06 & IFFO2    &  74 &  85 &  93 &  95 &  96 &  86 & 100 & 103 & 111 & 141 & 154 & 148\\\\\n",
       "\t  37.35139 &  1.1501634 & 0.3075962 &  3.739199 & 1.846076e-04 & 3.438564e-03 & DDOST    &  33 &  24 &  25 &  33 &  34 &  27 &  29 &  42 &  44 &  40 &  65 &  51\\\\\n",
       "\t  65.69243 &  0.9501392 & 0.2349417 &  4.044149 & 5.251358e-05 & 1.373803e-03 & KIF17    &  56 &  49 &  44 &  58 &  51 &  53 &  60 &  74 &  73 &  84 &  98 &  88\\\\\n",
       "\t 112.21058 & -0.8366484 & 0.1984463 & -4.215994 & 2.486801e-05 & 7.756339e-04 & RAP1GAP  & 123 & 140 & 119 & 138 & 143 & 130 & 112 & 105 & 105 & 113 &  68 &  67\\\\\n",
       "\t 142.45909 &  0.7142902 & 0.1673883 &  4.267265 & 1.978837e-05 & 6.569815e-04 & EPHB2    & 115 & 133 & 131 & 127 & 155 & 139 & 138 & 114 & 146 & 141 & 188 & 185\\\\\n",
       "\t  56.44530 &  1.1677585 & 0.2473905 &  4.720305 & 2.354916e-06 & 1.343229e-04 & HNRNPR   &  40 &  44 &  45 &  50 &  50 &  47 &  55 &  54 &  58 &  60 &  81 &  92\\\\\n",
       "\t  63.87136 &  0.8209089 & 0.2298516 &  3.571474 & 3.549778e-04 & 5.543581e-03 & ZNF436   &  56 &  57 &  52 &  56 &  56 &  49 &  54 &  67 &  71 &  65 &  88 &  95\\\\\n",
       "\t  72.59056 &  0.7405375 & 0.2187796 &  3.384855 & 7.121574e-04 & 9.082158e-03 & NIPAL3   &  63 &  63 &  56 &  70 &  65 &  63 &  70 &  75 &  79 &  75 &  95 &  98\\\\\n",
       "\t  44.12946 &  0.9670802 & 0.2731032 &  3.541080 & 3.984925e-04 & 6.044093e-03 & SRRM1    &  40 &  37 &  27 &  38 &  42 &  36 &  33 &  44 &  49 &  44 &  65 &  73\\\\\n",
       "\t  51.52313 &  0.9772425 & 0.2555053 &  3.824744 & 1.309078e-04 & 2.704755e-03 & CLIC4    &  41 &  41 &  43 &  37 &  44 &  47 &  52 &  58 &  52 &  55 &  75 &  73\\\\\n",
       "\t  16.27546 & -2.9044254 & 0.6788083 & -4.278712 & 1.879779e-05 & 6.337696e-04 & CNKSR1   &  25 &  24 &  24 &  16 &  23 &  23 &  16 &  14 &  13 &  15 &   3 &   3\\\\\n",
       "\t 107.33248 &  0.9043873 & 0.1872643 &  4.829471 & 1.368965e-06 & 8.878907e-05 & ARID1A   &  84 &  85 &  89 &  96 &  96 &  95 & 105 & 103 & 114 & 132 & 145 & 145\\\\\n",
       "\t  16.96421 & -2.3484750 & 0.5883024 & -3.991952 & 6.553167e-05 & 1.607975e-03 & SFN      &  23 &  27 &  19 &  23 &  29 &  19 &  14 &  18 &  11 &  15 &   5 &   4\\\\\n",
       "\t  53.13859 & -1.1147580 & 0.2766296 & -4.029786 & 5.582767e-05 & 1.435340e-03 & SYTL1    &  71 &  66 &  57 &  63 &  60 &  58 &  50 &  56 &  51 &  56 &  29 &  29\\\\\n",
       "\t  49.44926 &  0.9814976 & 0.2598357 &  3.777377 & 1.584886e-04 & 3.092989e-03 & FAM76A   &  38 &  41 &  37 &  38 &  44 &  39 &  56 &  56 &  53 &  48 &  70 &  73\\\\\n",
       "\t  14.96940 & -2.6820254 & 0.6888532 & -3.893464 & 9.882273e-05 & 2.176227e-03 & SMPDL3B  &  22 &  20 &  21 &  26 &  17 &  19 &  13 &  17 &   9 &  13 &   2 &   4\\\\\n",
       "\t 104.69407 &  0.9436213 & 0.1881776 &  5.014525 & 5.316464e-07 & 4.556183e-05 & EPB41    &  99 &  87 &  87 &  95 &  92 &  78 &  80 & 103 &  99 & 105 & 169 & 159\\\\\n",
       "\t 189.06372 & -1.2447939 & 0.1674920 & -7.431961 & 1.069995e-13 & 3.102450e-10 & PTPRU    & 230 & 212 & 212 & 222 & 215 & 216 & 208 & 210 & 198 & 208 &  89 &  82\\\\\n",
       "\t ⋮ & ⋮ & ⋮ & ⋮ & ⋮ & ⋮ & ⋮ & ⋮ & ⋮ & ⋮ & ⋮ & ⋮ & ⋮ & ⋮ & ⋮ & ⋮ & ⋮ & ⋮ & ⋮\\\\\n",
       "\t  20.279387 &  1.7999256 & 0.4044062 &  4.450786 & 8.555645e-06 & 3.518736e-04 & SPIN4          & 14 & 12 & 12 &  9 &  11 &  15 &  22 &  18 &  23 &  22 &  39 &  44\\\\\n",
       "\t  53.813531 &  1.0045143 & 0.2601935 &  3.860643 & 1.130892e-04 & 2.405151e-03 & ARHGEF9        & 44 & 37 & 48 & 43 &  46 &  58 &  48 &  64 &  56 &  53 &  80 &  69\\\\\n",
       "\t  33.290991 &  1.3557663 & 0.3127844 &  4.334508 & 1.460865e-05 & 5.207925e-04 & AMER1          & 23 & 29 & 33 & 19 &  24 &  22 &  30 &  34 &  32 &  29 &  62 &  60\\\\\n",
       "\t  39.256523 &  1.0257558 & 0.2923486 &  3.508673 & 4.503477e-04 & 6.573123e-03 & ZC4H2          & 31 & 29 & 33 & 30 &  30 &  32 &  45 &  52 &  39 &  38 &  58 &  54\\\\\n",
       "\t  46.000946 &  1.0543697 & 0.2730961 &  3.860800 & 1.130162e-04 & 2.405151e-03 & HMGN5          & 39 & 34 & 26 & 37 &  34 &  42 &  44 &  56 &  50 &  50 &  71 &  68\\\\\n",
       "\t  26.144800 &  1.7102472 & 0.3744471 &  4.567394 & 4.938261e-06 & 2.328209e-04 & PABPC5         & 17 & 14 & 19 & 12 &  14 &  23 &  26 &  29 &  37 &  28 &  45 &  48\\\\\n",
       "\t  32.745771 &  1.4051361 & 0.3328875 &  4.221054 & 2.431627e-05 & 7.649731e-04 & NAP1L3         & 27 & 15 & 26 & 21 &  25 &  25 &  33 &  38 &  40 &  40 &  54 &  48\\\\\n",
       "\t  32.745771 &  1.4051361 & 0.3328875 &  4.221054 & 2.431627e-05 & 7.649731e-04 & FAM133A        & 27 & 15 & 26 & 21 &  25 &  25 &  33 &  38 &  40 &  40 &  54 &  48\\\\\n",
       "\t  79.127675 &  0.7103221 & 0.2104659 &  3.374999 & 7.381585e-04 & 9.353054e-03 & RPL36A-HNRNPH2 & 69 & 69 & 72 & 73 &  63 &  72 &  69 &  82 &  87 &  88 & 102 & 105\\\\\n",
       "\t  31.799803 &  1.0956519 & 0.3213160 &  3.409889 & 6.498927e-04 & 8.532969e-03 & HNRNPH2        & 24 & 25 & 28 & 28 &  23 &  27 &  25 &  33 &  35 &  37 &  46 &  50\\\\\n",
       "\t  87.341227 &  0.8760303 & 0.2058676 &  4.255308 & 2.087612e-05 & 6.788446e-04 & SLC25A53       & 81 & 64 & 63 & 62 &  81 &  82 &  88 & 107 &  94 &  82 & 120 & 124\\\\\n",
       "\t   8.580433 &  2.6488754 & 0.6585998 &  4.021980 & 5.771093e-05 & 1.469981e-03 & RIPPLY1        &  4 &  4 &  5 &  4 &   1 &   2 &   8 &   7 &  11 &   9 &  24 &  22\\\\\n",
       "\t  47.038566 &  1.1136952 & 0.2831945 &  3.932617 & 8.402616e-05 & 1.926305e-03 & PRPS1          & 37 & 26 & 32 & 34 &  40 &  49 &  48 &  59 &  61 &  54 &  60 &  65\\\\\n",
       "\t  53.073363 &  1.0210726 & 0.2697462 &  3.785309 & 1.535177e-04 & 3.034941e-03 & PSMD10         & 43 & 36 & 38 & 29 &  44 &  54 &  54 &  73 &  70 &  49 &  79 &  68\\\\\n",
       "\t  36.834712 &  1.1253595 & 0.2981704 &  3.774216 & 1.605114e-04 & 3.123508e-03 & NXT2           & 27 & 30 & 25 & 24 &  33 &  29 &  40 &  40 &  41 &  38 &  61 &  53\\\\\n",
       "\t 109.334407 &  0.6212934 & 0.1821717 &  3.410482 & 6.484805e-04 & 8.520857e-03 & PAK3           & 99 & 96 & 94 & 86 & 101 & 102 & 118 & 125 & 109 & 110 & 136 & 139\\\\\n",
       "\t  60.620757 &  1.0950419 & 0.2383037 &  4.595153 & 4.324311e-06 & 2.131162e-04 & DCX            & 46 & 50 & 56 & 44 &  44 &  50 &  59 &  68 &  64 &  57 &  92 &  96\\\\\n",
       "\t  66.947300 &  0.8838059 & 0.2309809 &  3.826316 & 1.300754e-04 & 2.693955e-03 & AMOT           & 49 & 58 & 54 & 52 &  55 &  57 &  65 &  78 &  83 &  72 &  94 &  87\\\\\n",
       "\t  51.584148 & -1.2933491 & 0.2913036 & -4.439866 & 9.001491e-06 & 3.613966e-04 & HTR2C          & 64 & 67 & 65 & 72 &  61 &  73 &  46 &  49 &  39 &  43 &  26 &  23\\\\\n",
       "\t  16.915813 &  2.0480859 & 0.4230051 &  4.841752 & 1.286995e-06 & 8.448999e-05 & TEX13D         & 14 & 10 & 10 & 11 &   8 &   8 &  11 &  12 &  11 &  13 &  42 &  49\\\\\n",
       "\t  51.576518 & -1.0935540 & 0.2849482 & -3.837729 & 1.241772e-04 & 2.596528e-03 & XPNPEP2        & 72 & 63 & 54 & 58 &  46 &  60 &  50 &  55 &  65 &  46 &  26 &  32\\\\\n",
       "\t  54.400695 & -0.9406726 & 0.2703728 & -3.479168 & 5.029730e-04 & 7.085199e-03 & ELF4           & 64 & 70 & 63 & 68 &  65 &  63 &  50 &  54 &  46 &  54 &  32 &  32\\\\\n",
       "\t 106.456984 &  1.1662178 & 0.1816040 &  6.421764 & 1.347042e-10 & 6.333645e-08 & ENOX2          & 87 & 87 & 84 & 80 &  92 &  91 &  90 &  97 & 102 & 104 & 180 & 178\\\\\n",
       "\t  29.344417 &  1.1726033 & 0.3393678 &  3.455258 & 5.497657e-04 & 7.554719e-03 & PHF6           & 24 & 21 & 22 & 23 &  33 &  17 &  28 &  29 &  32 &  29 &  45 &  48\\\\\n",
       "\t  65.213178 &  0.8825996 & 0.2259725 &  3.905784 & 9.392056e-05 & 2.098370e-03 & ZNF75D         & 57 & 56 & 60 & 54 &  51 &  62 &  59 &  60 &  67 &  65 &  94 &  97\\\\\n",
       "\t  27.741765 &  1.2272694 & 0.3428764 &  3.579335 & 3.444696e-04 & 5.428204e-03 & ZNF449         & 20 & 21 & 22 & 22 &  23 &  29 &  25 &  28 &  28 &  26 &  43 &  45\\\\\n",
       "\t  14.102020 &  4.2409726 & 0.9047002 &  4.687710 & 2.762786e-06 & 1.488055e-04 & CD40LG         &  1 &  2 &  3 &  2 &  11 &  12 &  20 &  25 &  23 &  17 &  23 &  29\\\\\n",
       "\t  40.161192 &  1.0338069 & 0.2875038 &  3.595803 & 3.233922e-04 & 5.178288e-03 & EMD            & 31 & 34 & 26 & 28 &  36 &  39 &  38 &  43 &  49 &  35 &  58 &  64\\\\\n",
       "\t  30.863713 & -1.6400197 & 0.3892195 & -4.213612 & 2.513193e-05 & 7.793586e-04 & DNASE1L1       & 39 & 46 & 31 & 43 &  41 &  33 &  35 &  27 &  27 &  29 &  11 &  14\\\\\n",
       "\t  29.720984 & -1.4596059 & 0.3885743 & -3.756311 & 1.724363e-04 & 3.269921e-03 & TAZ            & 40 & 38 & 32 & 38 &  37 &  34 &  39 &  25 &  26 &  27 &  11 &  15\\\\\n",
       "\\end{tabular}\n"
      ],
      "text/markdown": [
       "\n",
       "A data.frame: 1422 × 19\n",
       "\n",
       "| baseMean &lt;dbl&gt; | log2FoldChange &lt;dbl&gt; | lfcSE &lt;dbl&gt; | stat &lt;dbl&gt; | pvalue &lt;dbl&gt; | padj &lt;dbl&gt; | gene_name &lt;fct&gt; | A1 &lt;int&gt; | A2 &lt;int&gt; | A3 &lt;int&gt; | A4 &lt;int&gt; | A5 &lt;int&gt; | A6 &lt;int&gt; | A7 &lt;int&gt; | A8 &lt;int&gt; | A9 &lt;int&gt; | A10 &lt;int&gt; | A11 &lt;int&gt; | A12 &lt;int&gt; |\n",
       "|---|---|---|---|---|---|---|---|---|---|---|---|---|---|---|---|---|---|---|\n",
       "|  53.96597 |  1.2859206 | 0.2555272 |  5.032421 | 4.843235e-07 | 4.171176e-05 | SAMD11   |  37 |  48 |  48 |  46 |  57 |  36 |  44 |  40 |  47 |  51 | 102 |  88 |\n",
       "|  36.98419 |  1.0500669 | 0.3035926 |  3.458802 | 5.425834e-04 | 7.509406e-03 | NOC2L    |  30 |  29 |  39 |  41 |  41 |  23 |  28 |  30 |  37 |  33 |  54 |  58 |\n",
       "|  85.93123 |  1.3913771 | 0.2120123 |  6.562719 | 5.283528e-11 | 2.881085e-08 | ACAP3    |  61 |  60 |  50 |  66 |  95 |  75 |  67 |  79 |  89 |  93 | 141 | 150 |\n",
       "|  41.82490 |  1.0333660 | 0.2768952 |  3.731975 | 1.899846e-04 | 3.502703e-03 | PRXL2B   |  42 |  31 |  33 |  37 |  37 |  35 |  31 |  40 |  35 |  42 |  69 |  68 |\n",
       "|  43.65750 | -1.3623490 | 0.3017304 | -4.515121 | 6.328074e-06 | 2.844690e-04 | ARHGEF16 |  67 |  62 |  54 |  57 |  51 |  46 |  40 |  36 |  36 |  36 |  21 |  25 |\n",
       "|  49.64993 |  0.9224558 | 0.2622441 |  3.517546 | 4.355565e-04 | 6.426952e-03 | PARK7    |  37 |  43 |  47 |  37 |  38 |  39 |  54 |  51 |  50 |  61 |  69 |  70 |\n",
       "| 186.76433 |  0.5528684 | 0.1481239 |  3.732473 | 1.896094e-04 | 3.502703e-03 | RERE     | 171 | 174 | 187 | 171 | 167 | 175 | 165 | 180 | 189 | 204 | 239 | 225 |\n",
       "|  44.46515 |  1.0083677 | 0.2684577 |  3.756152 | 1.725463e-04 | 3.269921e-03 | PGD      |  37 |  40 |  29 |  37 |  38 |  34 |  50 |  43 |  37 |  45 |  70 |  72 |\n",
       "|  27.16807 |  1.1758202 | 0.3428771 |  3.429276 | 6.051942e-04 | 8.100341e-03 | UBIAD1   |  24 |  18 |  22 |  24 |  26 |  24 |  24 |  23 |  27 |  26 |  44 |  43 |\n",
       "|  99.67772 | -1.0762933 | 0.2093694 | -5.140642 | 2.738011e-07 | 2.617207e-05 | DHRS3    | 130 | 123 | 127 | 114 | 119 | 115 | 102 |  97 |  82 |  93 |  50 |  60 |\n",
       "|  15.88361 |  2.0687709 | 0.5226288 |  3.958395 | 7.545518e-05 | 1.778914e-03 | CELA2B   |   7 |   6 |   8 |   7 |  10 |   9 |  14 |  13 |  32 |  34 |  23 |  27 |\n",
       "|  60.50632 |  0.8774022 | 0.2408885 |  3.642359 | 2.701512e-04 | 4.550088e-03 | SZRD1    |  49 |  46 |  57 |  57 |  57 |  49 |  60 |  58 |  63 |  71 |  78 |  82 |\n",
       "| 107.17865 |  1.0509486 | 0.1926673 |  5.454733 | 4.904638e-08 | 7.028862e-06 | IFFO2    |  74 |  85 |  93 |  95 |  96 |  86 | 100 | 103 | 111 | 141 | 154 | 148 |\n",
       "|  37.35139 |  1.1501634 | 0.3075962 |  3.739199 | 1.846076e-04 | 3.438564e-03 | DDOST    |  33 |  24 |  25 |  33 |  34 |  27 |  29 |  42 |  44 |  40 |  65 |  51 |\n",
       "|  65.69243 |  0.9501392 | 0.2349417 |  4.044149 | 5.251358e-05 | 1.373803e-03 | KIF17    |  56 |  49 |  44 |  58 |  51 |  53 |  60 |  74 |  73 |  84 |  98 |  88 |\n",
       "| 112.21058 | -0.8366484 | 0.1984463 | -4.215994 | 2.486801e-05 | 7.756339e-04 | RAP1GAP  | 123 | 140 | 119 | 138 | 143 | 130 | 112 | 105 | 105 | 113 |  68 |  67 |\n",
       "| 142.45909 |  0.7142902 | 0.1673883 |  4.267265 | 1.978837e-05 | 6.569815e-04 | EPHB2    | 115 | 133 | 131 | 127 | 155 | 139 | 138 | 114 | 146 | 141 | 188 | 185 |\n",
       "|  56.44530 |  1.1677585 | 0.2473905 |  4.720305 | 2.354916e-06 | 1.343229e-04 | HNRNPR   |  40 |  44 |  45 |  50 |  50 |  47 |  55 |  54 |  58 |  60 |  81 |  92 |\n",
       "|  63.87136 |  0.8209089 | 0.2298516 |  3.571474 | 3.549778e-04 | 5.543581e-03 | ZNF436   |  56 |  57 |  52 |  56 |  56 |  49 |  54 |  67 |  71 |  65 |  88 |  95 |\n",
       "|  72.59056 |  0.7405375 | 0.2187796 |  3.384855 | 7.121574e-04 | 9.082158e-03 | NIPAL3   |  63 |  63 |  56 |  70 |  65 |  63 |  70 |  75 |  79 |  75 |  95 |  98 |\n",
       "|  44.12946 |  0.9670802 | 0.2731032 |  3.541080 | 3.984925e-04 | 6.044093e-03 | SRRM1    |  40 |  37 |  27 |  38 |  42 |  36 |  33 |  44 |  49 |  44 |  65 |  73 |\n",
       "|  51.52313 |  0.9772425 | 0.2555053 |  3.824744 | 1.309078e-04 | 2.704755e-03 | CLIC4    |  41 |  41 |  43 |  37 |  44 |  47 |  52 |  58 |  52 |  55 |  75 |  73 |\n",
       "|  16.27546 | -2.9044254 | 0.6788083 | -4.278712 | 1.879779e-05 | 6.337696e-04 | CNKSR1   |  25 |  24 |  24 |  16 |  23 |  23 |  16 |  14 |  13 |  15 |   3 |   3 |\n",
       "| 107.33248 |  0.9043873 | 0.1872643 |  4.829471 | 1.368965e-06 | 8.878907e-05 | ARID1A   |  84 |  85 |  89 |  96 |  96 |  95 | 105 | 103 | 114 | 132 | 145 | 145 |\n",
       "|  16.96421 | -2.3484750 | 0.5883024 | -3.991952 | 6.553167e-05 | 1.607975e-03 | SFN      |  23 |  27 |  19 |  23 |  29 |  19 |  14 |  18 |  11 |  15 |   5 |   4 |\n",
       "|  53.13859 | -1.1147580 | 0.2766296 | -4.029786 | 5.582767e-05 | 1.435340e-03 | SYTL1    |  71 |  66 |  57 |  63 |  60 |  58 |  50 |  56 |  51 |  56 |  29 |  29 |\n",
       "|  49.44926 |  0.9814976 | 0.2598357 |  3.777377 | 1.584886e-04 | 3.092989e-03 | FAM76A   |  38 |  41 |  37 |  38 |  44 |  39 |  56 |  56 |  53 |  48 |  70 |  73 |\n",
       "|  14.96940 | -2.6820254 | 0.6888532 | -3.893464 | 9.882273e-05 | 2.176227e-03 | SMPDL3B  |  22 |  20 |  21 |  26 |  17 |  19 |  13 |  17 |   9 |  13 |   2 |   4 |\n",
       "| 104.69407 |  0.9436213 | 0.1881776 |  5.014525 | 5.316464e-07 | 4.556183e-05 | EPB41    |  99 |  87 |  87 |  95 |  92 |  78 |  80 | 103 |  99 | 105 | 169 | 159 |\n",
       "| 189.06372 | -1.2447939 | 0.1674920 | -7.431961 | 1.069995e-13 | 3.102450e-10 | PTPRU    | 230 | 212 | 212 | 222 | 215 | 216 | 208 | 210 | 198 | 208 |  89 |  82 |\n",
       "| ⋮ | ⋮ | ⋮ | ⋮ | ⋮ | ⋮ | ⋮ | ⋮ | ⋮ | ⋮ | ⋮ | ⋮ | ⋮ | ⋮ | ⋮ | ⋮ | ⋮ | ⋮ | ⋮ |\n",
       "|  20.279387 |  1.7999256 | 0.4044062 |  4.450786 | 8.555645e-06 | 3.518736e-04 | SPIN4          | 14 | 12 | 12 |  9 |  11 |  15 |  22 |  18 |  23 |  22 |  39 |  44 |\n",
       "|  53.813531 |  1.0045143 | 0.2601935 |  3.860643 | 1.130892e-04 | 2.405151e-03 | ARHGEF9        | 44 | 37 | 48 | 43 |  46 |  58 |  48 |  64 |  56 |  53 |  80 |  69 |\n",
       "|  33.290991 |  1.3557663 | 0.3127844 |  4.334508 | 1.460865e-05 | 5.207925e-04 | AMER1          | 23 | 29 | 33 | 19 |  24 |  22 |  30 |  34 |  32 |  29 |  62 |  60 |\n",
       "|  39.256523 |  1.0257558 | 0.2923486 |  3.508673 | 4.503477e-04 | 6.573123e-03 | ZC4H2          | 31 | 29 | 33 | 30 |  30 |  32 |  45 |  52 |  39 |  38 |  58 |  54 |\n",
       "|  46.000946 |  1.0543697 | 0.2730961 |  3.860800 | 1.130162e-04 | 2.405151e-03 | HMGN5          | 39 | 34 | 26 | 37 |  34 |  42 |  44 |  56 |  50 |  50 |  71 |  68 |\n",
       "|  26.144800 |  1.7102472 | 0.3744471 |  4.567394 | 4.938261e-06 | 2.328209e-04 | PABPC5         | 17 | 14 | 19 | 12 |  14 |  23 |  26 |  29 |  37 |  28 |  45 |  48 |\n",
       "|  32.745771 |  1.4051361 | 0.3328875 |  4.221054 | 2.431627e-05 | 7.649731e-04 | NAP1L3         | 27 | 15 | 26 | 21 |  25 |  25 |  33 |  38 |  40 |  40 |  54 |  48 |\n",
       "|  32.745771 |  1.4051361 | 0.3328875 |  4.221054 | 2.431627e-05 | 7.649731e-04 | FAM133A        | 27 | 15 | 26 | 21 |  25 |  25 |  33 |  38 |  40 |  40 |  54 |  48 |\n",
       "|  79.127675 |  0.7103221 | 0.2104659 |  3.374999 | 7.381585e-04 | 9.353054e-03 | RPL36A-HNRNPH2 | 69 | 69 | 72 | 73 |  63 |  72 |  69 |  82 |  87 |  88 | 102 | 105 |\n",
       "|  31.799803 |  1.0956519 | 0.3213160 |  3.409889 | 6.498927e-04 | 8.532969e-03 | HNRNPH2        | 24 | 25 | 28 | 28 |  23 |  27 |  25 |  33 |  35 |  37 |  46 |  50 |\n",
       "|  87.341227 |  0.8760303 | 0.2058676 |  4.255308 | 2.087612e-05 | 6.788446e-04 | SLC25A53       | 81 | 64 | 63 | 62 |  81 |  82 |  88 | 107 |  94 |  82 | 120 | 124 |\n",
       "|   8.580433 |  2.6488754 | 0.6585998 |  4.021980 | 5.771093e-05 | 1.469981e-03 | RIPPLY1        |  4 |  4 |  5 |  4 |   1 |   2 |   8 |   7 |  11 |   9 |  24 |  22 |\n",
       "|  47.038566 |  1.1136952 | 0.2831945 |  3.932617 | 8.402616e-05 | 1.926305e-03 | PRPS1          | 37 | 26 | 32 | 34 |  40 |  49 |  48 |  59 |  61 |  54 |  60 |  65 |\n",
       "|  53.073363 |  1.0210726 | 0.2697462 |  3.785309 | 1.535177e-04 | 3.034941e-03 | PSMD10         | 43 | 36 | 38 | 29 |  44 |  54 |  54 |  73 |  70 |  49 |  79 |  68 |\n",
       "|  36.834712 |  1.1253595 | 0.2981704 |  3.774216 | 1.605114e-04 | 3.123508e-03 | NXT2           | 27 | 30 | 25 | 24 |  33 |  29 |  40 |  40 |  41 |  38 |  61 |  53 |\n",
       "| 109.334407 |  0.6212934 | 0.1821717 |  3.410482 | 6.484805e-04 | 8.520857e-03 | PAK3           | 99 | 96 | 94 | 86 | 101 | 102 | 118 | 125 | 109 | 110 | 136 | 139 |\n",
       "|  60.620757 |  1.0950419 | 0.2383037 |  4.595153 | 4.324311e-06 | 2.131162e-04 | DCX            | 46 | 50 | 56 | 44 |  44 |  50 |  59 |  68 |  64 |  57 |  92 |  96 |\n",
       "|  66.947300 |  0.8838059 | 0.2309809 |  3.826316 | 1.300754e-04 | 2.693955e-03 | AMOT           | 49 | 58 | 54 | 52 |  55 |  57 |  65 |  78 |  83 |  72 |  94 |  87 |\n",
       "|  51.584148 | -1.2933491 | 0.2913036 | -4.439866 | 9.001491e-06 | 3.613966e-04 | HTR2C          | 64 | 67 | 65 | 72 |  61 |  73 |  46 |  49 |  39 |  43 |  26 |  23 |\n",
       "|  16.915813 |  2.0480859 | 0.4230051 |  4.841752 | 1.286995e-06 | 8.448999e-05 | TEX13D         | 14 | 10 | 10 | 11 |   8 |   8 |  11 |  12 |  11 |  13 |  42 |  49 |\n",
       "|  51.576518 | -1.0935540 | 0.2849482 | -3.837729 | 1.241772e-04 | 2.596528e-03 | XPNPEP2        | 72 | 63 | 54 | 58 |  46 |  60 |  50 |  55 |  65 |  46 |  26 |  32 |\n",
       "|  54.400695 | -0.9406726 | 0.2703728 | -3.479168 | 5.029730e-04 | 7.085199e-03 | ELF4           | 64 | 70 | 63 | 68 |  65 |  63 |  50 |  54 |  46 |  54 |  32 |  32 |\n",
       "| 106.456984 |  1.1662178 | 0.1816040 |  6.421764 | 1.347042e-10 | 6.333645e-08 | ENOX2          | 87 | 87 | 84 | 80 |  92 |  91 |  90 |  97 | 102 | 104 | 180 | 178 |\n",
       "|  29.344417 |  1.1726033 | 0.3393678 |  3.455258 | 5.497657e-04 | 7.554719e-03 | PHF6           | 24 | 21 | 22 | 23 |  33 |  17 |  28 |  29 |  32 |  29 |  45 |  48 |\n",
       "|  65.213178 |  0.8825996 | 0.2259725 |  3.905784 | 9.392056e-05 | 2.098370e-03 | ZNF75D         | 57 | 56 | 60 | 54 |  51 |  62 |  59 |  60 |  67 |  65 |  94 |  97 |\n",
       "|  27.741765 |  1.2272694 | 0.3428764 |  3.579335 | 3.444696e-04 | 5.428204e-03 | ZNF449         | 20 | 21 | 22 | 22 |  23 |  29 |  25 |  28 |  28 |  26 |  43 |  45 |\n",
       "|  14.102020 |  4.2409726 | 0.9047002 |  4.687710 | 2.762786e-06 | 1.488055e-04 | CD40LG         |  1 |  2 |  3 |  2 |  11 |  12 |  20 |  25 |  23 |  17 |  23 |  29 |\n",
       "|  40.161192 |  1.0338069 | 0.2875038 |  3.595803 | 3.233922e-04 | 5.178288e-03 | EMD            | 31 | 34 | 26 | 28 |  36 |  39 |  38 |  43 |  49 |  35 |  58 |  64 |\n",
       "|  30.863713 | -1.6400197 | 0.3892195 | -4.213612 | 2.513193e-05 | 7.793586e-04 | DNASE1L1       | 39 | 46 | 31 | 43 |  41 |  33 |  35 |  27 |  27 |  29 |  11 |  14 |\n",
       "|  29.720984 | -1.4596059 | 0.3885743 | -3.756311 | 1.724363e-04 | 3.269921e-03 | TAZ            | 40 | 38 | 32 | 38 |  37 |  34 |  39 |  25 |  26 |  27 |  11 |  15 |\n",
       "\n"
      ],
      "text/plain": [
       "     baseMean   log2FoldChange lfcSE     stat      pvalue       padj        \n",
       "1     53.96597   1.2859206     0.2555272  5.032421 4.843235e-07 4.171176e-05\n",
       "2     36.98419   1.0500669     0.3035926  3.458802 5.425834e-04 7.509406e-03\n",
       "3     85.93123   1.3913771     0.2120123  6.562719 5.283528e-11 2.881085e-08\n",
       "4     41.82490   1.0333660     0.2768952  3.731975 1.899846e-04 3.502703e-03\n",
       "5     43.65750  -1.3623490     0.3017304 -4.515121 6.328074e-06 2.844690e-04\n",
       "6     49.64993   0.9224558     0.2622441  3.517546 4.355565e-04 6.426952e-03\n",
       "7    186.76433   0.5528684     0.1481239  3.732473 1.896094e-04 3.502703e-03\n",
       "8     44.46515   1.0083677     0.2684577  3.756152 1.725463e-04 3.269921e-03\n",
       "9     27.16807   1.1758202     0.3428771  3.429276 6.051942e-04 8.100341e-03\n",
       "10    99.67772  -1.0762933     0.2093694 -5.140642 2.738011e-07 2.617207e-05\n",
       "11    15.88361   2.0687709     0.5226288  3.958395 7.545518e-05 1.778914e-03\n",
       "12    60.50632   0.8774022     0.2408885  3.642359 2.701512e-04 4.550088e-03\n",
       "13   107.17865   1.0509486     0.1926673  5.454733 4.904638e-08 7.028862e-06\n",
       "14    37.35139   1.1501634     0.3075962  3.739199 1.846076e-04 3.438564e-03\n",
       "15    65.69243   0.9501392     0.2349417  4.044149 5.251358e-05 1.373803e-03\n",
       "16   112.21058  -0.8366484     0.1984463 -4.215994 2.486801e-05 7.756339e-04\n",
       "17   142.45909   0.7142902     0.1673883  4.267265 1.978837e-05 6.569815e-04\n",
       "18    56.44530   1.1677585     0.2473905  4.720305 2.354916e-06 1.343229e-04\n",
       "19    63.87136   0.8209089     0.2298516  3.571474 3.549778e-04 5.543581e-03\n",
       "20    72.59056   0.7405375     0.2187796  3.384855 7.121574e-04 9.082158e-03\n",
       "21    44.12946   0.9670802     0.2731032  3.541080 3.984925e-04 6.044093e-03\n",
       "22    51.52313   0.9772425     0.2555053  3.824744 1.309078e-04 2.704755e-03\n",
       "23    16.27546  -2.9044254     0.6788083 -4.278712 1.879779e-05 6.337696e-04\n",
       "24   107.33248   0.9043873     0.1872643  4.829471 1.368965e-06 8.878907e-05\n",
       "25    16.96421  -2.3484750     0.5883024 -3.991952 6.553167e-05 1.607975e-03\n",
       "26    53.13859  -1.1147580     0.2766296 -4.029786 5.582767e-05 1.435340e-03\n",
       "27    49.44926   0.9814976     0.2598357  3.777377 1.584886e-04 3.092989e-03\n",
       "28    14.96940  -2.6820254     0.6888532 -3.893464 9.882273e-05 2.176227e-03\n",
       "29   104.69407   0.9436213     0.1881776  5.014525 5.316464e-07 4.556183e-05\n",
       "30   189.06372  -1.2447939     0.1674920 -7.431961 1.069995e-13 3.102450e-10\n",
       "⋮    ⋮          ⋮              ⋮         ⋮         ⋮            ⋮           \n",
       "1393  20.279387  1.7999256     0.4044062  4.450786 8.555645e-06 3.518736e-04\n",
       "1394  53.813531  1.0045143     0.2601935  3.860643 1.130892e-04 2.405151e-03\n",
       "1395  33.290991  1.3557663     0.3127844  4.334508 1.460865e-05 5.207925e-04\n",
       "1396  39.256523  1.0257558     0.2923486  3.508673 4.503477e-04 6.573123e-03\n",
       "1397  46.000946  1.0543697     0.2730961  3.860800 1.130162e-04 2.405151e-03\n",
       "1398  26.144800  1.7102472     0.3744471  4.567394 4.938261e-06 2.328209e-04\n",
       "1399  32.745771  1.4051361     0.3328875  4.221054 2.431627e-05 7.649731e-04\n",
       "1400  32.745771  1.4051361     0.3328875  4.221054 2.431627e-05 7.649731e-04\n",
       "1401  79.127675  0.7103221     0.2104659  3.374999 7.381585e-04 9.353054e-03\n",
       "1402  31.799803  1.0956519     0.3213160  3.409889 6.498927e-04 8.532969e-03\n",
       "1403  87.341227  0.8760303     0.2058676  4.255308 2.087612e-05 6.788446e-04\n",
       "1404   8.580433  2.6488754     0.6585998  4.021980 5.771093e-05 1.469981e-03\n",
       "1405  47.038566  1.1136952     0.2831945  3.932617 8.402616e-05 1.926305e-03\n",
       "1406  53.073363  1.0210726     0.2697462  3.785309 1.535177e-04 3.034941e-03\n",
       "1407  36.834712  1.1253595     0.2981704  3.774216 1.605114e-04 3.123508e-03\n",
       "1408 109.334407  0.6212934     0.1821717  3.410482 6.484805e-04 8.520857e-03\n",
       "1409  60.620757  1.0950419     0.2383037  4.595153 4.324311e-06 2.131162e-04\n",
       "1410  66.947300  0.8838059     0.2309809  3.826316 1.300754e-04 2.693955e-03\n",
       "1411  51.584148 -1.2933491     0.2913036 -4.439866 9.001491e-06 3.613966e-04\n",
       "1412  16.915813  2.0480859     0.4230051  4.841752 1.286995e-06 8.448999e-05\n",
       "1413  51.576518 -1.0935540     0.2849482 -3.837729 1.241772e-04 2.596528e-03\n",
       "1414  54.400695 -0.9406726     0.2703728 -3.479168 5.029730e-04 7.085199e-03\n",
       "1415 106.456984  1.1662178     0.1816040  6.421764 1.347042e-10 6.333645e-08\n",
       "1416  29.344417  1.1726033     0.3393678  3.455258 5.497657e-04 7.554719e-03\n",
       "1417  65.213178  0.8825996     0.2259725  3.905784 9.392056e-05 2.098370e-03\n",
       "1418  27.741765  1.2272694     0.3428764  3.579335 3.444696e-04 5.428204e-03\n",
       "1419  14.102020  4.2409726     0.9047002  4.687710 2.762786e-06 1.488055e-04\n",
       "1420  40.161192  1.0338069     0.2875038  3.595803 3.233922e-04 5.178288e-03\n",
       "1421  30.863713 -1.6400197     0.3892195 -4.213612 2.513193e-05 7.793586e-04\n",
       "1422  29.720984 -1.4596059     0.3885743 -3.756311 1.724363e-04 3.269921e-03\n",
       "     gene_name      A1  A2  A3  A4  A5  A6  A7  A8  A9  A10 A11 A12\n",
       "1    SAMD11          37  48  48  46  57  36  44  40  47  51 102  88\n",
       "2    NOC2L           30  29  39  41  41  23  28  30  37  33  54  58\n",
       "3    ACAP3           61  60  50  66  95  75  67  79  89  93 141 150\n",
       "4    PRXL2B          42  31  33  37  37  35  31  40  35  42  69  68\n",
       "5    ARHGEF16        67  62  54  57  51  46  40  36  36  36  21  25\n",
       "6    PARK7           37  43  47  37  38  39  54  51  50  61  69  70\n",
       "7    RERE           171 174 187 171 167 175 165 180 189 204 239 225\n",
       "8    PGD             37  40  29  37  38  34  50  43  37  45  70  72\n",
       "9    UBIAD1          24  18  22  24  26  24  24  23  27  26  44  43\n",
       "10   DHRS3          130 123 127 114 119 115 102  97  82  93  50  60\n",
       "11   CELA2B           7   6   8   7  10   9  14  13  32  34  23  27\n",
       "12   SZRD1           49  46  57  57  57  49  60  58  63  71  78  82\n",
       "13   IFFO2           74  85  93  95  96  86 100 103 111 141 154 148\n",
       "14   DDOST           33  24  25  33  34  27  29  42  44  40  65  51\n",
       "15   KIF17           56  49  44  58  51  53  60  74  73  84  98  88\n",
       "16   RAP1GAP        123 140 119 138 143 130 112 105 105 113  68  67\n",
       "17   EPHB2          115 133 131 127 155 139 138 114 146 141 188 185\n",
       "18   HNRNPR          40  44  45  50  50  47  55  54  58  60  81  92\n",
       "19   ZNF436          56  57  52  56  56  49  54  67  71  65  88  95\n",
       "20   NIPAL3          63  63  56  70  65  63  70  75  79  75  95  98\n",
       "21   SRRM1           40  37  27  38  42  36  33  44  49  44  65  73\n",
       "22   CLIC4           41  41  43  37  44  47  52  58  52  55  75  73\n",
       "23   CNKSR1          25  24  24  16  23  23  16  14  13  15   3   3\n",
       "24   ARID1A          84  85  89  96  96  95 105 103 114 132 145 145\n",
       "25   SFN             23  27  19  23  29  19  14  18  11  15   5   4\n",
       "26   SYTL1           71  66  57  63  60  58  50  56  51  56  29  29\n",
       "27   FAM76A          38  41  37  38  44  39  56  56  53  48  70  73\n",
       "28   SMPDL3B         22  20  21  26  17  19  13  17   9  13   2   4\n",
       "29   EPB41           99  87  87  95  92  78  80 103  99 105 169 159\n",
       "30   PTPRU          230 212 212 222 215 216 208 210 198 208  89  82\n",
       "⋮    ⋮              ⋮   ⋮   ⋮   ⋮   ⋮   ⋮   ⋮   ⋮   ⋮   ⋮   ⋮   ⋮  \n",
       "1393 SPIN4          14  12  12   9   11  15  22  18  23  22  39  44\n",
       "1394 ARHGEF9        44  37  48  43   46  58  48  64  56  53  80  69\n",
       "1395 AMER1          23  29  33  19   24  22  30  34  32  29  62  60\n",
       "1396 ZC4H2          31  29  33  30   30  32  45  52  39  38  58  54\n",
       "1397 HMGN5          39  34  26  37   34  42  44  56  50  50  71  68\n",
       "1398 PABPC5         17  14  19  12   14  23  26  29  37  28  45  48\n",
       "1399 NAP1L3         27  15  26  21   25  25  33  38  40  40  54  48\n",
       "1400 FAM133A        27  15  26  21   25  25  33  38  40  40  54  48\n",
       "1401 RPL36A-HNRNPH2 69  69  72  73   63  72  69  82  87  88 102 105\n",
       "1402 HNRNPH2        24  25  28  28   23  27  25  33  35  37  46  50\n",
       "1403 SLC25A53       81  64  63  62   81  82  88 107  94  82 120 124\n",
       "1404 RIPPLY1         4   4   5   4    1   2   8   7  11   9  24  22\n",
       "1405 PRPS1          37  26  32  34   40  49  48  59  61  54  60  65\n",
       "1406 PSMD10         43  36  38  29   44  54  54  73  70  49  79  68\n",
       "1407 NXT2           27  30  25  24   33  29  40  40  41  38  61  53\n",
       "1408 PAK3           99  96  94  86  101 102 118 125 109 110 136 139\n",
       "1409 DCX            46  50  56  44   44  50  59  68  64  57  92  96\n",
       "1410 AMOT           49  58  54  52   55  57  65  78  83  72  94  87\n",
       "1411 HTR2C          64  67  65  72   61  73  46  49  39  43  26  23\n",
       "1412 TEX13D         14  10  10  11    8   8  11  12  11  13  42  49\n",
       "1413 XPNPEP2        72  63  54  58   46  60  50  55  65  46  26  32\n",
       "1414 ELF4           64  70  63  68   65  63  50  54  46  54  32  32\n",
       "1415 ENOX2          87  87  84  80   92  91  90  97 102 104 180 178\n",
       "1416 PHF6           24  21  22  23   33  17  28  29  32  29  45  48\n",
       "1417 ZNF75D         57  56  60  54   51  62  59  60  67  65  94  97\n",
       "1418 ZNF449         20  21  22  22   23  29  25  28  28  26  43  45\n",
       "1419 CD40LG          1   2   3   2   11  12  20  25  23  17  23  29\n",
       "1420 EMD            31  34  26  28   36  39  38  43  49  35  58  64\n",
       "1421 DNASE1L1       39  46  31  43   41  33  35  27  27  29  11  14\n",
       "1422 TAZ            40  38  32  38   37  34  39  25  26  27  11  15"
      ]
     },
     "metadata": {},
     "output_type": "display_data"
    }
   ],
   "source": [
    "fdr <- 0.01\n",
    "res.atac.a[which(res.atac.a$padj < fdr), ] %>% as.data.frame %>% \n",
    "        add_column(\"gene_name\"=atac.counts.perGene$gene_name[which(res.atac.a$padj < fdr)]) %>%\n",
    "        cbind(counts(dds.atac)[which(res.atac.a$padj < fdr),])"
   ]
  },
  {
   "cell_type": "code",
   "execution_count": 134,
   "metadata": {
    "ExecuteTime": {
     "end_time": "2019-11-17T18:22:30.710335Z",
     "start_time": "2019-11-17T18:22:29.301Z"
    }
   },
   "outputs": [],
   "source": [
    "res.atac.b <- results(dds.atac, contrast = c(\"condition\", \"D5\", \"ES\"))"
   ]
  },
  {
   "cell_type": "code",
   "execution_count": 137,
   "metadata": {
    "ExecuteTime": {
     "end_time": "2019-11-17T18:22:49.949922Z",
     "start_time": "2019-11-17T18:22:49.700Z"
    },
    "scrolled": false
   },
   "outputs": [
    {
     "data": {
      "text/html": [
       "<table>\n",
       "<caption>A data.frame: 1422 × 19</caption>\n",
       "<thead>\n",
       "\t<tr><th scope=col>baseMean</th><th scope=col>log2FoldChange</th><th scope=col>lfcSE</th><th scope=col>stat</th><th scope=col>pvalue</th><th scope=col>padj</th><th scope=col>gene_name</th><th scope=col>A1</th><th scope=col>A2</th><th scope=col>A3</th><th scope=col>A4</th><th scope=col>A5</th><th scope=col>A6</th><th scope=col>A7</th><th scope=col>A8</th><th scope=col>A9</th><th scope=col>A10</th><th scope=col>A11</th><th scope=col>A12</th></tr>\n",
       "\t<tr><th scope=col>&lt;dbl&gt;</th><th scope=col>&lt;dbl&gt;</th><th scope=col>&lt;dbl&gt;</th><th scope=col>&lt;dbl&gt;</th><th scope=col>&lt;dbl&gt;</th><th scope=col>&lt;dbl&gt;</th><th scope=col>&lt;fct&gt;</th><th scope=col>&lt;int&gt;</th><th scope=col>&lt;int&gt;</th><th scope=col>&lt;int&gt;</th><th scope=col>&lt;int&gt;</th><th scope=col>&lt;int&gt;</th><th scope=col>&lt;int&gt;</th><th scope=col>&lt;int&gt;</th><th scope=col>&lt;int&gt;</th><th scope=col>&lt;int&gt;</th><th scope=col>&lt;int&gt;</th><th scope=col>&lt;int&gt;</th><th scope=col>&lt;int&gt;</th></tr>\n",
       "</thead>\n",
       "<tbody>\n",
       "\t<tr><td> 53.96597</td><td> 1.2859206</td><td>0.2555272</td><td> 5.032421</td><td>4.843235e-07</td><td>4.171176e-05</td><td>SAMD11  </td><td> 37</td><td> 48</td><td> 48</td><td> 46</td><td> 57</td><td> 36</td><td> 44</td><td> 40</td><td> 47</td><td> 51</td><td>102</td><td> 88</td></tr>\n",
       "\t<tr><td> 36.98419</td><td> 1.0500669</td><td>0.3035926</td><td> 3.458802</td><td>5.425834e-04</td><td>7.509406e-03</td><td>NOC2L   </td><td> 30</td><td> 29</td><td> 39</td><td> 41</td><td> 41</td><td> 23</td><td> 28</td><td> 30</td><td> 37</td><td> 33</td><td> 54</td><td> 58</td></tr>\n",
       "\t<tr><td> 85.93123</td><td> 1.3913771</td><td>0.2120123</td><td> 6.562719</td><td>5.283528e-11</td><td>2.881085e-08</td><td>ACAP3   </td><td> 61</td><td> 60</td><td> 50</td><td> 66</td><td> 95</td><td> 75</td><td> 67</td><td> 79</td><td> 89</td><td> 93</td><td>141</td><td>150</td></tr>\n",
       "\t<tr><td> 41.82490</td><td> 1.0333660</td><td>0.2768952</td><td> 3.731975</td><td>1.899846e-04</td><td>3.502703e-03</td><td>PRXL2B  </td><td> 42</td><td> 31</td><td> 33</td><td> 37</td><td> 37</td><td> 35</td><td> 31</td><td> 40</td><td> 35</td><td> 42</td><td> 69</td><td> 68</td></tr>\n",
       "\t<tr><td> 43.65750</td><td>-1.3623490</td><td>0.3017304</td><td>-4.515121</td><td>6.328074e-06</td><td>2.844690e-04</td><td>ARHGEF16</td><td> 67</td><td> 62</td><td> 54</td><td> 57</td><td> 51</td><td> 46</td><td> 40</td><td> 36</td><td> 36</td><td> 36</td><td> 21</td><td> 25</td></tr>\n",
       "\t<tr><td> 49.64993</td><td> 0.9224558</td><td>0.2622441</td><td> 3.517546</td><td>4.355565e-04</td><td>6.426952e-03</td><td>PARK7   </td><td> 37</td><td> 43</td><td> 47</td><td> 37</td><td> 38</td><td> 39</td><td> 54</td><td> 51</td><td> 50</td><td> 61</td><td> 69</td><td> 70</td></tr>\n",
       "\t<tr><td>186.76433</td><td> 0.5528684</td><td>0.1481239</td><td> 3.732473</td><td>1.896094e-04</td><td>3.502703e-03</td><td>RERE    </td><td>171</td><td>174</td><td>187</td><td>171</td><td>167</td><td>175</td><td>165</td><td>180</td><td>189</td><td>204</td><td>239</td><td>225</td></tr>\n",
       "\t<tr><td> 44.46515</td><td> 1.0083677</td><td>0.2684577</td><td> 3.756152</td><td>1.725463e-04</td><td>3.269921e-03</td><td>PGD     </td><td> 37</td><td> 40</td><td> 29</td><td> 37</td><td> 38</td><td> 34</td><td> 50</td><td> 43</td><td> 37</td><td> 45</td><td> 70</td><td> 72</td></tr>\n",
       "\t<tr><td> 27.16807</td><td> 1.1758202</td><td>0.3428771</td><td> 3.429276</td><td>6.051942e-04</td><td>8.100341e-03</td><td>UBIAD1  </td><td> 24</td><td> 18</td><td> 22</td><td> 24</td><td> 26</td><td> 24</td><td> 24</td><td> 23</td><td> 27</td><td> 26</td><td> 44</td><td> 43</td></tr>\n",
       "\t<tr><td> 99.67772</td><td>-1.0762933</td><td>0.2093694</td><td>-5.140642</td><td>2.738011e-07</td><td>2.617207e-05</td><td>DHRS3   </td><td>130</td><td>123</td><td>127</td><td>114</td><td>119</td><td>115</td><td>102</td><td> 97</td><td> 82</td><td> 93</td><td> 50</td><td> 60</td></tr>\n",
       "\t<tr><td> 15.88361</td><td> 2.0687709</td><td>0.5226288</td><td> 3.958395</td><td>7.545518e-05</td><td>1.778914e-03</td><td>CELA2B  </td><td>  7</td><td>  6</td><td>  8</td><td>  7</td><td> 10</td><td>  9</td><td> 14</td><td> 13</td><td> 32</td><td> 34</td><td> 23</td><td> 27</td></tr>\n",
       "\t<tr><td> 60.50632</td><td> 0.8774022</td><td>0.2408885</td><td> 3.642359</td><td>2.701512e-04</td><td>4.550088e-03</td><td>SZRD1   </td><td> 49</td><td> 46</td><td> 57</td><td> 57</td><td> 57</td><td> 49</td><td> 60</td><td> 58</td><td> 63</td><td> 71</td><td> 78</td><td> 82</td></tr>\n",
       "\t<tr><td>107.17865</td><td> 1.0509486</td><td>0.1926673</td><td> 5.454733</td><td>4.904638e-08</td><td>7.028862e-06</td><td>IFFO2   </td><td> 74</td><td> 85</td><td> 93</td><td> 95</td><td> 96</td><td> 86</td><td>100</td><td>103</td><td>111</td><td>141</td><td>154</td><td>148</td></tr>\n",
       "\t<tr><td> 37.35139</td><td> 1.1501634</td><td>0.3075962</td><td> 3.739199</td><td>1.846076e-04</td><td>3.438564e-03</td><td>DDOST   </td><td> 33</td><td> 24</td><td> 25</td><td> 33</td><td> 34</td><td> 27</td><td> 29</td><td> 42</td><td> 44</td><td> 40</td><td> 65</td><td> 51</td></tr>\n",
       "\t<tr><td> 65.69243</td><td> 0.9501392</td><td>0.2349417</td><td> 4.044149</td><td>5.251358e-05</td><td>1.373803e-03</td><td>KIF17   </td><td> 56</td><td> 49</td><td> 44</td><td> 58</td><td> 51</td><td> 53</td><td> 60</td><td> 74</td><td> 73</td><td> 84</td><td> 98</td><td> 88</td></tr>\n",
       "\t<tr><td>112.21058</td><td>-0.8366484</td><td>0.1984463</td><td>-4.215994</td><td>2.486801e-05</td><td>7.756339e-04</td><td>RAP1GAP </td><td>123</td><td>140</td><td>119</td><td>138</td><td>143</td><td>130</td><td>112</td><td>105</td><td>105</td><td>113</td><td> 68</td><td> 67</td></tr>\n",
       "\t<tr><td>142.45909</td><td> 0.7142902</td><td>0.1673883</td><td> 4.267265</td><td>1.978837e-05</td><td>6.569815e-04</td><td>EPHB2   </td><td>115</td><td>133</td><td>131</td><td>127</td><td>155</td><td>139</td><td>138</td><td>114</td><td>146</td><td>141</td><td>188</td><td>185</td></tr>\n",
       "\t<tr><td> 56.44530</td><td> 1.1677585</td><td>0.2473905</td><td> 4.720305</td><td>2.354916e-06</td><td>1.343229e-04</td><td>HNRNPR  </td><td> 40</td><td> 44</td><td> 45</td><td> 50</td><td> 50</td><td> 47</td><td> 55</td><td> 54</td><td> 58</td><td> 60</td><td> 81</td><td> 92</td></tr>\n",
       "\t<tr><td> 63.87136</td><td> 0.8209089</td><td>0.2298516</td><td> 3.571474</td><td>3.549778e-04</td><td>5.543581e-03</td><td>ZNF436  </td><td> 56</td><td> 57</td><td> 52</td><td> 56</td><td> 56</td><td> 49</td><td> 54</td><td> 67</td><td> 71</td><td> 65</td><td> 88</td><td> 95</td></tr>\n",
       "\t<tr><td> 72.59056</td><td> 0.7405375</td><td>0.2187796</td><td> 3.384855</td><td>7.121574e-04</td><td>9.082158e-03</td><td>NIPAL3  </td><td> 63</td><td> 63</td><td> 56</td><td> 70</td><td> 65</td><td> 63</td><td> 70</td><td> 75</td><td> 79</td><td> 75</td><td> 95</td><td> 98</td></tr>\n",
       "\t<tr><td> 44.12946</td><td> 0.9670802</td><td>0.2731032</td><td> 3.541080</td><td>3.984925e-04</td><td>6.044093e-03</td><td>SRRM1   </td><td> 40</td><td> 37</td><td> 27</td><td> 38</td><td> 42</td><td> 36</td><td> 33</td><td> 44</td><td> 49</td><td> 44</td><td> 65</td><td> 73</td></tr>\n",
       "\t<tr><td> 51.52313</td><td> 0.9772425</td><td>0.2555053</td><td> 3.824744</td><td>1.309078e-04</td><td>2.704755e-03</td><td>CLIC4   </td><td> 41</td><td> 41</td><td> 43</td><td> 37</td><td> 44</td><td> 47</td><td> 52</td><td> 58</td><td> 52</td><td> 55</td><td> 75</td><td> 73</td></tr>\n",
       "\t<tr><td> 16.27546</td><td>-2.9044254</td><td>0.6788083</td><td>-4.278712</td><td>1.879779e-05</td><td>6.337696e-04</td><td>CNKSR1  </td><td> 25</td><td> 24</td><td> 24</td><td> 16</td><td> 23</td><td> 23</td><td> 16</td><td> 14</td><td> 13</td><td> 15</td><td>  3</td><td>  3</td></tr>\n",
       "\t<tr><td>107.33248</td><td> 0.9043873</td><td>0.1872643</td><td> 4.829471</td><td>1.368965e-06</td><td>8.878907e-05</td><td>ARID1A  </td><td> 84</td><td> 85</td><td> 89</td><td> 96</td><td> 96</td><td> 95</td><td>105</td><td>103</td><td>114</td><td>132</td><td>145</td><td>145</td></tr>\n",
       "\t<tr><td> 16.96421</td><td>-2.3484750</td><td>0.5883024</td><td>-3.991952</td><td>6.553167e-05</td><td>1.607975e-03</td><td>SFN     </td><td> 23</td><td> 27</td><td> 19</td><td> 23</td><td> 29</td><td> 19</td><td> 14</td><td> 18</td><td> 11</td><td> 15</td><td>  5</td><td>  4</td></tr>\n",
       "\t<tr><td> 53.13859</td><td>-1.1147580</td><td>0.2766296</td><td>-4.029786</td><td>5.582767e-05</td><td>1.435340e-03</td><td>SYTL1   </td><td> 71</td><td> 66</td><td> 57</td><td> 63</td><td> 60</td><td> 58</td><td> 50</td><td> 56</td><td> 51</td><td> 56</td><td> 29</td><td> 29</td></tr>\n",
       "\t<tr><td> 49.44926</td><td> 0.9814976</td><td>0.2598357</td><td> 3.777377</td><td>1.584886e-04</td><td>3.092989e-03</td><td>FAM76A  </td><td> 38</td><td> 41</td><td> 37</td><td> 38</td><td> 44</td><td> 39</td><td> 56</td><td> 56</td><td> 53</td><td> 48</td><td> 70</td><td> 73</td></tr>\n",
       "\t<tr><td> 14.96940</td><td>-2.6820254</td><td>0.6888532</td><td>-3.893464</td><td>9.882273e-05</td><td>2.176227e-03</td><td>SMPDL3B </td><td> 22</td><td> 20</td><td> 21</td><td> 26</td><td> 17</td><td> 19</td><td> 13</td><td> 17</td><td>  9</td><td> 13</td><td>  2</td><td>  4</td></tr>\n",
       "\t<tr><td>104.69407</td><td> 0.9436213</td><td>0.1881776</td><td> 5.014525</td><td>5.316464e-07</td><td>4.556183e-05</td><td>EPB41   </td><td> 99</td><td> 87</td><td> 87</td><td> 95</td><td> 92</td><td> 78</td><td> 80</td><td>103</td><td> 99</td><td>105</td><td>169</td><td>159</td></tr>\n",
       "\t<tr><td>189.06372</td><td>-1.2447939</td><td>0.1674920</td><td>-7.431961</td><td>1.069995e-13</td><td>3.102450e-10</td><td>PTPRU   </td><td>230</td><td>212</td><td>212</td><td>222</td><td>215</td><td>216</td><td>208</td><td>210</td><td>198</td><td>208</td><td> 89</td><td> 82</td></tr>\n",
       "\t<tr><td>⋮</td><td>⋮</td><td>⋮</td><td>⋮</td><td>⋮</td><td>⋮</td><td>⋮</td><td>⋮</td><td>⋮</td><td>⋮</td><td>⋮</td><td>⋮</td><td>⋮</td><td>⋮</td><td>⋮</td><td>⋮</td><td>⋮</td><td>⋮</td><td>⋮</td></tr>\n",
       "\t<tr><td> 20.279387</td><td> 1.7999256</td><td>0.4044062</td><td> 4.450786</td><td>8.555645e-06</td><td>3.518736e-04</td><td>SPIN4         </td><td>14</td><td>12</td><td>12</td><td> 9</td><td> 11</td><td> 15</td><td> 22</td><td> 18</td><td> 23</td><td> 22</td><td> 39</td><td> 44</td></tr>\n",
       "\t<tr><td> 53.813531</td><td> 1.0045143</td><td>0.2601935</td><td> 3.860643</td><td>1.130892e-04</td><td>2.405151e-03</td><td>ARHGEF9       </td><td>44</td><td>37</td><td>48</td><td>43</td><td> 46</td><td> 58</td><td> 48</td><td> 64</td><td> 56</td><td> 53</td><td> 80</td><td> 69</td></tr>\n",
       "\t<tr><td> 33.290991</td><td> 1.3557663</td><td>0.3127844</td><td> 4.334508</td><td>1.460865e-05</td><td>5.207925e-04</td><td>AMER1         </td><td>23</td><td>29</td><td>33</td><td>19</td><td> 24</td><td> 22</td><td> 30</td><td> 34</td><td> 32</td><td> 29</td><td> 62</td><td> 60</td></tr>\n",
       "\t<tr><td> 39.256523</td><td> 1.0257558</td><td>0.2923486</td><td> 3.508673</td><td>4.503477e-04</td><td>6.573123e-03</td><td>ZC4H2         </td><td>31</td><td>29</td><td>33</td><td>30</td><td> 30</td><td> 32</td><td> 45</td><td> 52</td><td> 39</td><td> 38</td><td> 58</td><td> 54</td></tr>\n",
       "\t<tr><td> 46.000946</td><td> 1.0543697</td><td>0.2730961</td><td> 3.860800</td><td>1.130162e-04</td><td>2.405151e-03</td><td>HMGN5         </td><td>39</td><td>34</td><td>26</td><td>37</td><td> 34</td><td> 42</td><td> 44</td><td> 56</td><td> 50</td><td> 50</td><td> 71</td><td> 68</td></tr>\n",
       "\t<tr><td> 26.144800</td><td> 1.7102472</td><td>0.3744471</td><td> 4.567394</td><td>4.938261e-06</td><td>2.328209e-04</td><td>PABPC5        </td><td>17</td><td>14</td><td>19</td><td>12</td><td> 14</td><td> 23</td><td> 26</td><td> 29</td><td> 37</td><td> 28</td><td> 45</td><td> 48</td></tr>\n",
       "\t<tr><td> 32.745771</td><td> 1.4051361</td><td>0.3328875</td><td> 4.221054</td><td>2.431627e-05</td><td>7.649731e-04</td><td>NAP1L3        </td><td>27</td><td>15</td><td>26</td><td>21</td><td> 25</td><td> 25</td><td> 33</td><td> 38</td><td> 40</td><td> 40</td><td> 54</td><td> 48</td></tr>\n",
       "\t<tr><td> 32.745771</td><td> 1.4051361</td><td>0.3328875</td><td> 4.221054</td><td>2.431627e-05</td><td>7.649731e-04</td><td>FAM133A       </td><td>27</td><td>15</td><td>26</td><td>21</td><td> 25</td><td> 25</td><td> 33</td><td> 38</td><td> 40</td><td> 40</td><td> 54</td><td> 48</td></tr>\n",
       "\t<tr><td> 79.127675</td><td> 0.7103221</td><td>0.2104659</td><td> 3.374999</td><td>7.381585e-04</td><td>9.353054e-03</td><td>RPL36A-HNRNPH2</td><td>69</td><td>69</td><td>72</td><td>73</td><td> 63</td><td> 72</td><td> 69</td><td> 82</td><td> 87</td><td> 88</td><td>102</td><td>105</td></tr>\n",
       "\t<tr><td> 31.799803</td><td> 1.0956519</td><td>0.3213160</td><td> 3.409889</td><td>6.498927e-04</td><td>8.532969e-03</td><td>HNRNPH2       </td><td>24</td><td>25</td><td>28</td><td>28</td><td> 23</td><td> 27</td><td> 25</td><td> 33</td><td> 35</td><td> 37</td><td> 46</td><td> 50</td></tr>\n",
       "\t<tr><td> 87.341227</td><td> 0.8760303</td><td>0.2058676</td><td> 4.255308</td><td>2.087612e-05</td><td>6.788446e-04</td><td>SLC25A53      </td><td>81</td><td>64</td><td>63</td><td>62</td><td> 81</td><td> 82</td><td> 88</td><td>107</td><td> 94</td><td> 82</td><td>120</td><td>124</td></tr>\n",
       "\t<tr><td>  8.580433</td><td> 2.6488754</td><td>0.6585998</td><td> 4.021980</td><td>5.771093e-05</td><td>1.469981e-03</td><td>RIPPLY1       </td><td> 4</td><td> 4</td><td> 5</td><td> 4</td><td>  1</td><td>  2</td><td>  8</td><td>  7</td><td> 11</td><td>  9</td><td> 24</td><td> 22</td></tr>\n",
       "\t<tr><td> 47.038566</td><td> 1.1136952</td><td>0.2831945</td><td> 3.932617</td><td>8.402616e-05</td><td>1.926305e-03</td><td>PRPS1         </td><td>37</td><td>26</td><td>32</td><td>34</td><td> 40</td><td> 49</td><td> 48</td><td> 59</td><td> 61</td><td> 54</td><td> 60</td><td> 65</td></tr>\n",
       "\t<tr><td> 53.073363</td><td> 1.0210726</td><td>0.2697462</td><td> 3.785309</td><td>1.535177e-04</td><td>3.034941e-03</td><td>PSMD10        </td><td>43</td><td>36</td><td>38</td><td>29</td><td> 44</td><td> 54</td><td> 54</td><td> 73</td><td> 70</td><td> 49</td><td> 79</td><td> 68</td></tr>\n",
       "\t<tr><td> 36.834712</td><td> 1.1253595</td><td>0.2981704</td><td> 3.774216</td><td>1.605114e-04</td><td>3.123508e-03</td><td>NXT2          </td><td>27</td><td>30</td><td>25</td><td>24</td><td> 33</td><td> 29</td><td> 40</td><td> 40</td><td> 41</td><td> 38</td><td> 61</td><td> 53</td></tr>\n",
       "\t<tr><td>109.334407</td><td> 0.6212934</td><td>0.1821717</td><td> 3.410482</td><td>6.484805e-04</td><td>8.520857e-03</td><td>PAK3          </td><td>99</td><td>96</td><td>94</td><td>86</td><td>101</td><td>102</td><td>118</td><td>125</td><td>109</td><td>110</td><td>136</td><td>139</td></tr>\n",
       "\t<tr><td> 60.620757</td><td> 1.0950419</td><td>0.2383037</td><td> 4.595153</td><td>4.324311e-06</td><td>2.131162e-04</td><td>DCX           </td><td>46</td><td>50</td><td>56</td><td>44</td><td> 44</td><td> 50</td><td> 59</td><td> 68</td><td> 64</td><td> 57</td><td> 92</td><td> 96</td></tr>\n",
       "\t<tr><td> 66.947300</td><td> 0.8838059</td><td>0.2309809</td><td> 3.826316</td><td>1.300754e-04</td><td>2.693955e-03</td><td>AMOT          </td><td>49</td><td>58</td><td>54</td><td>52</td><td> 55</td><td> 57</td><td> 65</td><td> 78</td><td> 83</td><td> 72</td><td> 94</td><td> 87</td></tr>\n",
       "\t<tr><td> 51.584148</td><td>-1.2933491</td><td>0.2913036</td><td>-4.439866</td><td>9.001491e-06</td><td>3.613966e-04</td><td>HTR2C         </td><td>64</td><td>67</td><td>65</td><td>72</td><td> 61</td><td> 73</td><td> 46</td><td> 49</td><td> 39</td><td> 43</td><td> 26</td><td> 23</td></tr>\n",
       "\t<tr><td> 16.915813</td><td> 2.0480859</td><td>0.4230051</td><td> 4.841752</td><td>1.286995e-06</td><td>8.448999e-05</td><td>TEX13D        </td><td>14</td><td>10</td><td>10</td><td>11</td><td>  8</td><td>  8</td><td> 11</td><td> 12</td><td> 11</td><td> 13</td><td> 42</td><td> 49</td></tr>\n",
       "\t<tr><td> 51.576518</td><td>-1.0935540</td><td>0.2849482</td><td>-3.837729</td><td>1.241772e-04</td><td>2.596528e-03</td><td>XPNPEP2       </td><td>72</td><td>63</td><td>54</td><td>58</td><td> 46</td><td> 60</td><td> 50</td><td> 55</td><td> 65</td><td> 46</td><td> 26</td><td> 32</td></tr>\n",
       "\t<tr><td> 54.400695</td><td>-0.9406726</td><td>0.2703728</td><td>-3.479168</td><td>5.029730e-04</td><td>7.085199e-03</td><td>ELF4          </td><td>64</td><td>70</td><td>63</td><td>68</td><td> 65</td><td> 63</td><td> 50</td><td> 54</td><td> 46</td><td> 54</td><td> 32</td><td> 32</td></tr>\n",
       "\t<tr><td>106.456984</td><td> 1.1662178</td><td>0.1816040</td><td> 6.421764</td><td>1.347042e-10</td><td>6.333645e-08</td><td>ENOX2         </td><td>87</td><td>87</td><td>84</td><td>80</td><td> 92</td><td> 91</td><td> 90</td><td> 97</td><td>102</td><td>104</td><td>180</td><td>178</td></tr>\n",
       "\t<tr><td> 29.344417</td><td> 1.1726033</td><td>0.3393678</td><td> 3.455258</td><td>5.497657e-04</td><td>7.554719e-03</td><td>PHF6          </td><td>24</td><td>21</td><td>22</td><td>23</td><td> 33</td><td> 17</td><td> 28</td><td> 29</td><td> 32</td><td> 29</td><td> 45</td><td> 48</td></tr>\n",
       "\t<tr><td> 65.213178</td><td> 0.8825996</td><td>0.2259725</td><td> 3.905784</td><td>9.392056e-05</td><td>2.098370e-03</td><td>ZNF75D        </td><td>57</td><td>56</td><td>60</td><td>54</td><td> 51</td><td> 62</td><td> 59</td><td> 60</td><td> 67</td><td> 65</td><td> 94</td><td> 97</td></tr>\n",
       "\t<tr><td> 27.741765</td><td> 1.2272694</td><td>0.3428764</td><td> 3.579335</td><td>3.444696e-04</td><td>5.428204e-03</td><td>ZNF449        </td><td>20</td><td>21</td><td>22</td><td>22</td><td> 23</td><td> 29</td><td> 25</td><td> 28</td><td> 28</td><td> 26</td><td> 43</td><td> 45</td></tr>\n",
       "\t<tr><td> 14.102020</td><td> 4.2409726</td><td>0.9047002</td><td> 4.687710</td><td>2.762786e-06</td><td>1.488055e-04</td><td>CD40LG        </td><td> 1</td><td> 2</td><td> 3</td><td> 2</td><td> 11</td><td> 12</td><td> 20</td><td> 25</td><td> 23</td><td> 17</td><td> 23</td><td> 29</td></tr>\n",
       "\t<tr><td> 40.161192</td><td> 1.0338069</td><td>0.2875038</td><td> 3.595803</td><td>3.233922e-04</td><td>5.178288e-03</td><td>EMD           </td><td>31</td><td>34</td><td>26</td><td>28</td><td> 36</td><td> 39</td><td> 38</td><td> 43</td><td> 49</td><td> 35</td><td> 58</td><td> 64</td></tr>\n",
       "\t<tr><td> 30.863713</td><td>-1.6400197</td><td>0.3892195</td><td>-4.213612</td><td>2.513193e-05</td><td>7.793586e-04</td><td>DNASE1L1      </td><td>39</td><td>46</td><td>31</td><td>43</td><td> 41</td><td> 33</td><td> 35</td><td> 27</td><td> 27</td><td> 29</td><td> 11</td><td> 14</td></tr>\n",
       "\t<tr><td> 29.720984</td><td>-1.4596059</td><td>0.3885743</td><td>-3.756311</td><td>1.724363e-04</td><td>3.269921e-03</td><td>TAZ           </td><td>40</td><td>38</td><td>32</td><td>38</td><td> 37</td><td> 34</td><td> 39</td><td> 25</td><td> 26</td><td> 27</td><td> 11</td><td> 15</td></tr>\n",
       "</tbody>\n",
       "</table>\n"
      ],
      "text/latex": [
       "A data.frame: 1422 × 19\n",
       "\\begin{tabular}{r|lllllllllllllllllll}\n",
       " baseMean & log2FoldChange & lfcSE & stat & pvalue & padj & gene\\_name & A1 & A2 & A3 & A4 & A5 & A6 & A7 & A8 & A9 & A10 & A11 & A12\\\\\n",
       " <dbl> & <dbl> & <dbl> & <dbl> & <dbl> & <dbl> & <fct> & <int> & <int> & <int> & <int> & <int> & <int> & <int> & <int> & <int> & <int> & <int> & <int>\\\\\n",
       "\\hline\n",
       "\t  53.96597 &  1.2859206 & 0.2555272 &  5.032421 & 4.843235e-07 & 4.171176e-05 & SAMD11   &  37 &  48 &  48 &  46 &  57 &  36 &  44 &  40 &  47 &  51 & 102 &  88\\\\\n",
       "\t  36.98419 &  1.0500669 & 0.3035926 &  3.458802 & 5.425834e-04 & 7.509406e-03 & NOC2L    &  30 &  29 &  39 &  41 &  41 &  23 &  28 &  30 &  37 &  33 &  54 &  58\\\\\n",
       "\t  85.93123 &  1.3913771 & 0.2120123 &  6.562719 & 5.283528e-11 & 2.881085e-08 & ACAP3    &  61 &  60 &  50 &  66 &  95 &  75 &  67 &  79 &  89 &  93 & 141 & 150\\\\\n",
       "\t  41.82490 &  1.0333660 & 0.2768952 &  3.731975 & 1.899846e-04 & 3.502703e-03 & PRXL2B   &  42 &  31 &  33 &  37 &  37 &  35 &  31 &  40 &  35 &  42 &  69 &  68\\\\\n",
       "\t  43.65750 & -1.3623490 & 0.3017304 & -4.515121 & 6.328074e-06 & 2.844690e-04 & ARHGEF16 &  67 &  62 &  54 &  57 &  51 &  46 &  40 &  36 &  36 &  36 &  21 &  25\\\\\n",
       "\t  49.64993 &  0.9224558 & 0.2622441 &  3.517546 & 4.355565e-04 & 6.426952e-03 & PARK7    &  37 &  43 &  47 &  37 &  38 &  39 &  54 &  51 &  50 &  61 &  69 &  70\\\\\n",
       "\t 186.76433 &  0.5528684 & 0.1481239 &  3.732473 & 1.896094e-04 & 3.502703e-03 & RERE     & 171 & 174 & 187 & 171 & 167 & 175 & 165 & 180 & 189 & 204 & 239 & 225\\\\\n",
       "\t  44.46515 &  1.0083677 & 0.2684577 &  3.756152 & 1.725463e-04 & 3.269921e-03 & PGD      &  37 &  40 &  29 &  37 &  38 &  34 &  50 &  43 &  37 &  45 &  70 &  72\\\\\n",
       "\t  27.16807 &  1.1758202 & 0.3428771 &  3.429276 & 6.051942e-04 & 8.100341e-03 & UBIAD1   &  24 &  18 &  22 &  24 &  26 &  24 &  24 &  23 &  27 &  26 &  44 &  43\\\\\n",
       "\t  99.67772 & -1.0762933 & 0.2093694 & -5.140642 & 2.738011e-07 & 2.617207e-05 & DHRS3    & 130 & 123 & 127 & 114 & 119 & 115 & 102 &  97 &  82 &  93 &  50 &  60\\\\\n",
       "\t  15.88361 &  2.0687709 & 0.5226288 &  3.958395 & 7.545518e-05 & 1.778914e-03 & CELA2B   &   7 &   6 &   8 &   7 &  10 &   9 &  14 &  13 &  32 &  34 &  23 &  27\\\\\n",
       "\t  60.50632 &  0.8774022 & 0.2408885 &  3.642359 & 2.701512e-04 & 4.550088e-03 & SZRD1    &  49 &  46 &  57 &  57 &  57 &  49 &  60 &  58 &  63 &  71 &  78 &  82\\\\\n",
       "\t 107.17865 &  1.0509486 & 0.1926673 &  5.454733 & 4.904638e-08 & 7.028862e-06 & IFFO2    &  74 &  85 &  93 &  95 &  96 &  86 & 100 & 103 & 111 & 141 & 154 & 148\\\\\n",
       "\t  37.35139 &  1.1501634 & 0.3075962 &  3.739199 & 1.846076e-04 & 3.438564e-03 & DDOST    &  33 &  24 &  25 &  33 &  34 &  27 &  29 &  42 &  44 &  40 &  65 &  51\\\\\n",
       "\t  65.69243 &  0.9501392 & 0.2349417 &  4.044149 & 5.251358e-05 & 1.373803e-03 & KIF17    &  56 &  49 &  44 &  58 &  51 &  53 &  60 &  74 &  73 &  84 &  98 &  88\\\\\n",
       "\t 112.21058 & -0.8366484 & 0.1984463 & -4.215994 & 2.486801e-05 & 7.756339e-04 & RAP1GAP  & 123 & 140 & 119 & 138 & 143 & 130 & 112 & 105 & 105 & 113 &  68 &  67\\\\\n",
       "\t 142.45909 &  0.7142902 & 0.1673883 &  4.267265 & 1.978837e-05 & 6.569815e-04 & EPHB2    & 115 & 133 & 131 & 127 & 155 & 139 & 138 & 114 & 146 & 141 & 188 & 185\\\\\n",
       "\t  56.44530 &  1.1677585 & 0.2473905 &  4.720305 & 2.354916e-06 & 1.343229e-04 & HNRNPR   &  40 &  44 &  45 &  50 &  50 &  47 &  55 &  54 &  58 &  60 &  81 &  92\\\\\n",
       "\t  63.87136 &  0.8209089 & 0.2298516 &  3.571474 & 3.549778e-04 & 5.543581e-03 & ZNF436   &  56 &  57 &  52 &  56 &  56 &  49 &  54 &  67 &  71 &  65 &  88 &  95\\\\\n",
       "\t  72.59056 &  0.7405375 & 0.2187796 &  3.384855 & 7.121574e-04 & 9.082158e-03 & NIPAL3   &  63 &  63 &  56 &  70 &  65 &  63 &  70 &  75 &  79 &  75 &  95 &  98\\\\\n",
       "\t  44.12946 &  0.9670802 & 0.2731032 &  3.541080 & 3.984925e-04 & 6.044093e-03 & SRRM1    &  40 &  37 &  27 &  38 &  42 &  36 &  33 &  44 &  49 &  44 &  65 &  73\\\\\n",
       "\t  51.52313 &  0.9772425 & 0.2555053 &  3.824744 & 1.309078e-04 & 2.704755e-03 & CLIC4    &  41 &  41 &  43 &  37 &  44 &  47 &  52 &  58 &  52 &  55 &  75 &  73\\\\\n",
       "\t  16.27546 & -2.9044254 & 0.6788083 & -4.278712 & 1.879779e-05 & 6.337696e-04 & CNKSR1   &  25 &  24 &  24 &  16 &  23 &  23 &  16 &  14 &  13 &  15 &   3 &   3\\\\\n",
       "\t 107.33248 &  0.9043873 & 0.1872643 &  4.829471 & 1.368965e-06 & 8.878907e-05 & ARID1A   &  84 &  85 &  89 &  96 &  96 &  95 & 105 & 103 & 114 & 132 & 145 & 145\\\\\n",
       "\t  16.96421 & -2.3484750 & 0.5883024 & -3.991952 & 6.553167e-05 & 1.607975e-03 & SFN      &  23 &  27 &  19 &  23 &  29 &  19 &  14 &  18 &  11 &  15 &   5 &   4\\\\\n",
       "\t  53.13859 & -1.1147580 & 0.2766296 & -4.029786 & 5.582767e-05 & 1.435340e-03 & SYTL1    &  71 &  66 &  57 &  63 &  60 &  58 &  50 &  56 &  51 &  56 &  29 &  29\\\\\n",
       "\t  49.44926 &  0.9814976 & 0.2598357 &  3.777377 & 1.584886e-04 & 3.092989e-03 & FAM76A   &  38 &  41 &  37 &  38 &  44 &  39 &  56 &  56 &  53 &  48 &  70 &  73\\\\\n",
       "\t  14.96940 & -2.6820254 & 0.6888532 & -3.893464 & 9.882273e-05 & 2.176227e-03 & SMPDL3B  &  22 &  20 &  21 &  26 &  17 &  19 &  13 &  17 &   9 &  13 &   2 &   4\\\\\n",
       "\t 104.69407 &  0.9436213 & 0.1881776 &  5.014525 & 5.316464e-07 & 4.556183e-05 & EPB41    &  99 &  87 &  87 &  95 &  92 &  78 &  80 & 103 &  99 & 105 & 169 & 159\\\\\n",
       "\t 189.06372 & -1.2447939 & 0.1674920 & -7.431961 & 1.069995e-13 & 3.102450e-10 & PTPRU    & 230 & 212 & 212 & 222 & 215 & 216 & 208 & 210 & 198 & 208 &  89 &  82\\\\\n",
       "\t ⋮ & ⋮ & ⋮ & ⋮ & ⋮ & ⋮ & ⋮ & ⋮ & ⋮ & ⋮ & ⋮ & ⋮ & ⋮ & ⋮ & ⋮ & ⋮ & ⋮ & ⋮ & ⋮\\\\\n",
       "\t  20.279387 &  1.7999256 & 0.4044062 &  4.450786 & 8.555645e-06 & 3.518736e-04 & SPIN4          & 14 & 12 & 12 &  9 &  11 &  15 &  22 &  18 &  23 &  22 &  39 &  44\\\\\n",
       "\t  53.813531 &  1.0045143 & 0.2601935 &  3.860643 & 1.130892e-04 & 2.405151e-03 & ARHGEF9        & 44 & 37 & 48 & 43 &  46 &  58 &  48 &  64 &  56 &  53 &  80 &  69\\\\\n",
       "\t  33.290991 &  1.3557663 & 0.3127844 &  4.334508 & 1.460865e-05 & 5.207925e-04 & AMER1          & 23 & 29 & 33 & 19 &  24 &  22 &  30 &  34 &  32 &  29 &  62 &  60\\\\\n",
       "\t  39.256523 &  1.0257558 & 0.2923486 &  3.508673 & 4.503477e-04 & 6.573123e-03 & ZC4H2          & 31 & 29 & 33 & 30 &  30 &  32 &  45 &  52 &  39 &  38 &  58 &  54\\\\\n",
       "\t  46.000946 &  1.0543697 & 0.2730961 &  3.860800 & 1.130162e-04 & 2.405151e-03 & HMGN5          & 39 & 34 & 26 & 37 &  34 &  42 &  44 &  56 &  50 &  50 &  71 &  68\\\\\n",
       "\t  26.144800 &  1.7102472 & 0.3744471 &  4.567394 & 4.938261e-06 & 2.328209e-04 & PABPC5         & 17 & 14 & 19 & 12 &  14 &  23 &  26 &  29 &  37 &  28 &  45 &  48\\\\\n",
       "\t  32.745771 &  1.4051361 & 0.3328875 &  4.221054 & 2.431627e-05 & 7.649731e-04 & NAP1L3         & 27 & 15 & 26 & 21 &  25 &  25 &  33 &  38 &  40 &  40 &  54 &  48\\\\\n",
       "\t  32.745771 &  1.4051361 & 0.3328875 &  4.221054 & 2.431627e-05 & 7.649731e-04 & FAM133A        & 27 & 15 & 26 & 21 &  25 &  25 &  33 &  38 &  40 &  40 &  54 &  48\\\\\n",
       "\t  79.127675 &  0.7103221 & 0.2104659 &  3.374999 & 7.381585e-04 & 9.353054e-03 & RPL36A-HNRNPH2 & 69 & 69 & 72 & 73 &  63 &  72 &  69 &  82 &  87 &  88 & 102 & 105\\\\\n",
       "\t  31.799803 &  1.0956519 & 0.3213160 &  3.409889 & 6.498927e-04 & 8.532969e-03 & HNRNPH2        & 24 & 25 & 28 & 28 &  23 &  27 &  25 &  33 &  35 &  37 &  46 &  50\\\\\n",
       "\t  87.341227 &  0.8760303 & 0.2058676 &  4.255308 & 2.087612e-05 & 6.788446e-04 & SLC25A53       & 81 & 64 & 63 & 62 &  81 &  82 &  88 & 107 &  94 &  82 & 120 & 124\\\\\n",
       "\t   8.580433 &  2.6488754 & 0.6585998 &  4.021980 & 5.771093e-05 & 1.469981e-03 & RIPPLY1        &  4 &  4 &  5 &  4 &   1 &   2 &   8 &   7 &  11 &   9 &  24 &  22\\\\\n",
       "\t  47.038566 &  1.1136952 & 0.2831945 &  3.932617 & 8.402616e-05 & 1.926305e-03 & PRPS1          & 37 & 26 & 32 & 34 &  40 &  49 &  48 &  59 &  61 &  54 &  60 &  65\\\\\n",
       "\t  53.073363 &  1.0210726 & 0.2697462 &  3.785309 & 1.535177e-04 & 3.034941e-03 & PSMD10         & 43 & 36 & 38 & 29 &  44 &  54 &  54 &  73 &  70 &  49 &  79 &  68\\\\\n",
       "\t  36.834712 &  1.1253595 & 0.2981704 &  3.774216 & 1.605114e-04 & 3.123508e-03 & NXT2           & 27 & 30 & 25 & 24 &  33 &  29 &  40 &  40 &  41 &  38 &  61 &  53\\\\\n",
       "\t 109.334407 &  0.6212934 & 0.1821717 &  3.410482 & 6.484805e-04 & 8.520857e-03 & PAK3           & 99 & 96 & 94 & 86 & 101 & 102 & 118 & 125 & 109 & 110 & 136 & 139\\\\\n",
       "\t  60.620757 &  1.0950419 & 0.2383037 &  4.595153 & 4.324311e-06 & 2.131162e-04 & DCX            & 46 & 50 & 56 & 44 &  44 &  50 &  59 &  68 &  64 &  57 &  92 &  96\\\\\n",
       "\t  66.947300 &  0.8838059 & 0.2309809 &  3.826316 & 1.300754e-04 & 2.693955e-03 & AMOT           & 49 & 58 & 54 & 52 &  55 &  57 &  65 &  78 &  83 &  72 &  94 &  87\\\\\n",
       "\t  51.584148 & -1.2933491 & 0.2913036 & -4.439866 & 9.001491e-06 & 3.613966e-04 & HTR2C          & 64 & 67 & 65 & 72 &  61 &  73 &  46 &  49 &  39 &  43 &  26 &  23\\\\\n",
       "\t  16.915813 &  2.0480859 & 0.4230051 &  4.841752 & 1.286995e-06 & 8.448999e-05 & TEX13D         & 14 & 10 & 10 & 11 &   8 &   8 &  11 &  12 &  11 &  13 &  42 &  49\\\\\n",
       "\t  51.576518 & -1.0935540 & 0.2849482 & -3.837729 & 1.241772e-04 & 2.596528e-03 & XPNPEP2        & 72 & 63 & 54 & 58 &  46 &  60 &  50 &  55 &  65 &  46 &  26 &  32\\\\\n",
       "\t  54.400695 & -0.9406726 & 0.2703728 & -3.479168 & 5.029730e-04 & 7.085199e-03 & ELF4           & 64 & 70 & 63 & 68 &  65 &  63 &  50 &  54 &  46 &  54 &  32 &  32\\\\\n",
       "\t 106.456984 &  1.1662178 & 0.1816040 &  6.421764 & 1.347042e-10 & 6.333645e-08 & ENOX2          & 87 & 87 & 84 & 80 &  92 &  91 &  90 &  97 & 102 & 104 & 180 & 178\\\\\n",
       "\t  29.344417 &  1.1726033 & 0.3393678 &  3.455258 & 5.497657e-04 & 7.554719e-03 & PHF6           & 24 & 21 & 22 & 23 &  33 &  17 &  28 &  29 &  32 &  29 &  45 &  48\\\\\n",
       "\t  65.213178 &  0.8825996 & 0.2259725 &  3.905784 & 9.392056e-05 & 2.098370e-03 & ZNF75D         & 57 & 56 & 60 & 54 &  51 &  62 &  59 &  60 &  67 &  65 &  94 &  97\\\\\n",
       "\t  27.741765 &  1.2272694 & 0.3428764 &  3.579335 & 3.444696e-04 & 5.428204e-03 & ZNF449         & 20 & 21 & 22 & 22 &  23 &  29 &  25 &  28 &  28 &  26 &  43 &  45\\\\\n",
       "\t  14.102020 &  4.2409726 & 0.9047002 &  4.687710 & 2.762786e-06 & 1.488055e-04 & CD40LG         &  1 &  2 &  3 &  2 &  11 &  12 &  20 &  25 &  23 &  17 &  23 &  29\\\\\n",
       "\t  40.161192 &  1.0338069 & 0.2875038 &  3.595803 & 3.233922e-04 & 5.178288e-03 & EMD            & 31 & 34 & 26 & 28 &  36 &  39 &  38 &  43 &  49 &  35 &  58 &  64\\\\\n",
       "\t  30.863713 & -1.6400197 & 0.3892195 & -4.213612 & 2.513193e-05 & 7.793586e-04 & DNASE1L1       & 39 & 46 & 31 & 43 &  41 &  33 &  35 &  27 &  27 &  29 &  11 &  14\\\\\n",
       "\t  29.720984 & -1.4596059 & 0.3885743 & -3.756311 & 1.724363e-04 & 3.269921e-03 & TAZ            & 40 & 38 & 32 & 38 &  37 &  34 &  39 &  25 &  26 &  27 &  11 &  15\\\\\n",
       "\\end{tabular}\n"
      ],
      "text/markdown": [
       "\n",
       "A data.frame: 1422 × 19\n",
       "\n",
       "| baseMean &lt;dbl&gt; | log2FoldChange &lt;dbl&gt; | lfcSE &lt;dbl&gt; | stat &lt;dbl&gt; | pvalue &lt;dbl&gt; | padj &lt;dbl&gt; | gene_name &lt;fct&gt; | A1 &lt;int&gt; | A2 &lt;int&gt; | A3 &lt;int&gt; | A4 &lt;int&gt; | A5 &lt;int&gt; | A6 &lt;int&gt; | A7 &lt;int&gt; | A8 &lt;int&gt; | A9 &lt;int&gt; | A10 &lt;int&gt; | A11 &lt;int&gt; | A12 &lt;int&gt; |\n",
       "|---|---|---|---|---|---|---|---|---|---|---|---|---|---|---|---|---|---|---|\n",
       "|  53.96597 |  1.2859206 | 0.2555272 |  5.032421 | 4.843235e-07 | 4.171176e-05 | SAMD11   |  37 |  48 |  48 |  46 |  57 |  36 |  44 |  40 |  47 |  51 | 102 |  88 |\n",
       "|  36.98419 |  1.0500669 | 0.3035926 |  3.458802 | 5.425834e-04 | 7.509406e-03 | NOC2L    |  30 |  29 |  39 |  41 |  41 |  23 |  28 |  30 |  37 |  33 |  54 |  58 |\n",
       "|  85.93123 |  1.3913771 | 0.2120123 |  6.562719 | 5.283528e-11 | 2.881085e-08 | ACAP3    |  61 |  60 |  50 |  66 |  95 |  75 |  67 |  79 |  89 |  93 | 141 | 150 |\n",
       "|  41.82490 |  1.0333660 | 0.2768952 |  3.731975 | 1.899846e-04 | 3.502703e-03 | PRXL2B   |  42 |  31 |  33 |  37 |  37 |  35 |  31 |  40 |  35 |  42 |  69 |  68 |\n",
       "|  43.65750 | -1.3623490 | 0.3017304 | -4.515121 | 6.328074e-06 | 2.844690e-04 | ARHGEF16 |  67 |  62 |  54 |  57 |  51 |  46 |  40 |  36 |  36 |  36 |  21 |  25 |\n",
       "|  49.64993 |  0.9224558 | 0.2622441 |  3.517546 | 4.355565e-04 | 6.426952e-03 | PARK7    |  37 |  43 |  47 |  37 |  38 |  39 |  54 |  51 |  50 |  61 |  69 |  70 |\n",
       "| 186.76433 |  0.5528684 | 0.1481239 |  3.732473 | 1.896094e-04 | 3.502703e-03 | RERE     | 171 | 174 | 187 | 171 | 167 | 175 | 165 | 180 | 189 | 204 | 239 | 225 |\n",
       "|  44.46515 |  1.0083677 | 0.2684577 |  3.756152 | 1.725463e-04 | 3.269921e-03 | PGD      |  37 |  40 |  29 |  37 |  38 |  34 |  50 |  43 |  37 |  45 |  70 |  72 |\n",
       "|  27.16807 |  1.1758202 | 0.3428771 |  3.429276 | 6.051942e-04 | 8.100341e-03 | UBIAD1   |  24 |  18 |  22 |  24 |  26 |  24 |  24 |  23 |  27 |  26 |  44 |  43 |\n",
       "|  99.67772 | -1.0762933 | 0.2093694 | -5.140642 | 2.738011e-07 | 2.617207e-05 | DHRS3    | 130 | 123 | 127 | 114 | 119 | 115 | 102 |  97 |  82 |  93 |  50 |  60 |\n",
       "|  15.88361 |  2.0687709 | 0.5226288 |  3.958395 | 7.545518e-05 | 1.778914e-03 | CELA2B   |   7 |   6 |   8 |   7 |  10 |   9 |  14 |  13 |  32 |  34 |  23 |  27 |\n",
       "|  60.50632 |  0.8774022 | 0.2408885 |  3.642359 | 2.701512e-04 | 4.550088e-03 | SZRD1    |  49 |  46 |  57 |  57 |  57 |  49 |  60 |  58 |  63 |  71 |  78 |  82 |\n",
       "| 107.17865 |  1.0509486 | 0.1926673 |  5.454733 | 4.904638e-08 | 7.028862e-06 | IFFO2    |  74 |  85 |  93 |  95 |  96 |  86 | 100 | 103 | 111 | 141 | 154 | 148 |\n",
       "|  37.35139 |  1.1501634 | 0.3075962 |  3.739199 | 1.846076e-04 | 3.438564e-03 | DDOST    |  33 |  24 |  25 |  33 |  34 |  27 |  29 |  42 |  44 |  40 |  65 |  51 |\n",
       "|  65.69243 |  0.9501392 | 0.2349417 |  4.044149 | 5.251358e-05 | 1.373803e-03 | KIF17    |  56 |  49 |  44 |  58 |  51 |  53 |  60 |  74 |  73 |  84 |  98 |  88 |\n",
       "| 112.21058 | -0.8366484 | 0.1984463 | -4.215994 | 2.486801e-05 | 7.756339e-04 | RAP1GAP  | 123 | 140 | 119 | 138 | 143 | 130 | 112 | 105 | 105 | 113 |  68 |  67 |\n",
       "| 142.45909 |  0.7142902 | 0.1673883 |  4.267265 | 1.978837e-05 | 6.569815e-04 | EPHB2    | 115 | 133 | 131 | 127 | 155 | 139 | 138 | 114 | 146 | 141 | 188 | 185 |\n",
       "|  56.44530 |  1.1677585 | 0.2473905 |  4.720305 | 2.354916e-06 | 1.343229e-04 | HNRNPR   |  40 |  44 |  45 |  50 |  50 |  47 |  55 |  54 |  58 |  60 |  81 |  92 |\n",
       "|  63.87136 |  0.8209089 | 0.2298516 |  3.571474 | 3.549778e-04 | 5.543581e-03 | ZNF436   |  56 |  57 |  52 |  56 |  56 |  49 |  54 |  67 |  71 |  65 |  88 |  95 |\n",
       "|  72.59056 |  0.7405375 | 0.2187796 |  3.384855 | 7.121574e-04 | 9.082158e-03 | NIPAL3   |  63 |  63 |  56 |  70 |  65 |  63 |  70 |  75 |  79 |  75 |  95 |  98 |\n",
       "|  44.12946 |  0.9670802 | 0.2731032 |  3.541080 | 3.984925e-04 | 6.044093e-03 | SRRM1    |  40 |  37 |  27 |  38 |  42 |  36 |  33 |  44 |  49 |  44 |  65 |  73 |\n",
       "|  51.52313 |  0.9772425 | 0.2555053 |  3.824744 | 1.309078e-04 | 2.704755e-03 | CLIC4    |  41 |  41 |  43 |  37 |  44 |  47 |  52 |  58 |  52 |  55 |  75 |  73 |\n",
       "|  16.27546 | -2.9044254 | 0.6788083 | -4.278712 | 1.879779e-05 | 6.337696e-04 | CNKSR1   |  25 |  24 |  24 |  16 |  23 |  23 |  16 |  14 |  13 |  15 |   3 |   3 |\n",
       "| 107.33248 |  0.9043873 | 0.1872643 |  4.829471 | 1.368965e-06 | 8.878907e-05 | ARID1A   |  84 |  85 |  89 |  96 |  96 |  95 | 105 | 103 | 114 | 132 | 145 | 145 |\n",
       "|  16.96421 | -2.3484750 | 0.5883024 | -3.991952 | 6.553167e-05 | 1.607975e-03 | SFN      |  23 |  27 |  19 |  23 |  29 |  19 |  14 |  18 |  11 |  15 |   5 |   4 |\n",
       "|  53.13859 | -1.1147580 | 0.2766296 | -4.029786 | 5.582767e-05 | 1.435340e-03 | SYTL1    |  71 |  66 |  57 |  63 |  60 |  58 |  50 |  56 |  51 |  56 |  29 |  29 |\n",
       "|  49.44926 |  0.9814976 | 0.2598357 |  3.777377 | 1.584886e-04 | 3.092989e-03 | FAM76A   |  38 |  41 |  37 |  38 |  44 |  39 |  56 |  56 |  53 |  48 |  70 |  73 |\n",
       "|  14.96940 | -2.6820254 | 0.6888532 | -3.893464 | 9.882273e-05 | 2.176227e-03 | SMPDL3B  |  22 |  20 |  21 |  26 |  17 |  19 |  13 |  17 |   9 |  13 |   2 |   4 |\n",
       "| 104.69407 |  0.9436213 | 0.1881776 |  5.014525 | 5.316464e-07 | 4.556183e-05 | EPB41    |  99 |  87 |  87 |  95 |  92 |  78 |  80 | 103 |  99 | 105 | 169 | 159 |\n",
       "| 189.06372 | -1.2447939 | 0.1674920 | -7.431961 | 1.069995e-13 | 3.102450e-10 | PTPRU    | 230 | 212 | 212 | 222 | 215 | 216 | 208 | 210 | 198 | 208 |  89 |  82 |\n",
       "| ⋮ | ⋮ | ⋮ | ⋮ | ⋮ | ⋮ | ⋮ | ⋮ | ⋮ | ⋮ | ⋮ | ⋮ | ⋮ | ⋮ | ⋮ | ⋮ | ⋮ | ⋮ | ⋮ |\n",
       "|  20.279387 |  1.7999256 | 0.4044062 |  4.450786 | 8.555645e-06 | 3.518736e-04 | SPIN4          | 14 | 12 | 12 |  9 |  11 |  15 |  22 |  18 |  23 |  22 |  39 |  44 |\n",
       "|  53.813531 |  1.0045143 | 0.2601935 |  3.860643 | 1.130892e-04 | 2.405151e-03 | ARHGEF9        | 44 | 37 | 48 | 43 |  46 |  58 |  48 |  64 |  56 |  53 |  80 |  69 |\n",
       "|  33.290991 |  1.3557663 | 0.3127844 |  4.334508 | 1.460865e-05 | 5.207925e-04 | AMER1          | 23 | 29 | 33 | 19 |  24 |  22 |  30 |  34 |  32 |  29 |  62 |  60 |\n",
       "|  39.256523 |  1.0257558 | 0.2923486 |  3.508673 | 4.503477e-04 | 6.573123e-03 | ZC4H2          | 31 | 29 | 33 | 30 |  30 |  32 |  45 |  52 |  39 |  38 |  58 |  54 |\n",
       "|  46.000946 |  1.0543697 | 0.2730961 |  3.860800 | 1.130162e-04 | 2.405151e-03 | HMGN5          | 39 | 34 | 26 | 37 |  34 |  42 |  44 |  56 |  50 |  50 |  71 |  68 |\n",
       "|  26.144800 |  1.7102472 | 0.3744471 |  4.567394 | 4.938261e-06 | 2.328209e-04 | PABPC5         | 17 | 14 | 19 | 12 |  14 |  23 |  26 |  29 |  37 |  28 |  45 |  48 |\n",
       "|  32.745771 |  1.4051361 | 0.3328875 |  4.221054 | 2.431627e-05 | 7.649731e-04 | NAP1L3         | 27 | 15 | 26 | 21 |  25 |  25 |  33 |  38 |  40 |  40 |  54 |  48 |\n",
       "|  32.745771 |  1.4051361 | 0.3328875 |  4.221054 | 2.431627e-05 | 7.649731e-04 | FAM133A        | 27 | 15 | 26 | 21 |  25 |  25 |  33 |  38 |  40 |  40 |  54 |  48 |\n",
       "|  79.127675 |  0.7103221 | 0.2104659 |  3.374999 | 7.381585e-04 | 9.353054e-03 | RPL36A-HNRNPH2 | 69 | 69 | 72 | 73 |  63 |  72 |  69 |  82 |  87 |  88 | 102 | 105 |\n",
       "|  31.799803 |  1.0956519 | 0.3213160 |  3.409889 | 6.498927e-04 | 8.532969e-03 | HNRNPH2        | 24 | 25 | 28 | 28 |  23 |  27 |  25 |  33 |  35 |  37 |  46 |  50 |\n",
       "|  87.341227 |  0.8760303 | 0.2058676 |  4.255308 | 2.087612e-05 | 6.788446e-04 | SLC25A53       | 81 | 64 | 63 | 62 |  81 |  82 |  88 | 107 |  94 |  82 | 120 | 124 |\n",
       "|   8.580433 |  2.6488754 | 0.6585998 |  4.021980 | 5.771093e-05 | 1.469981e-03 | RIPPLY1        |  4 |  4 |  5 |  4 |   1 |   2 |   8 |   7 |  11 |   9 |  24 |  22 |\n",
       "|  47.038566 |  1.1136952 | 0.2831945 |  3.932617 | 8.402616e-05 | 1.926305e-03 | PRPS1          | 37 | 26 | 32 | 34 |  40 |  49 |  48 |  59 |  61 |  54 |  60 |  65 |\n",
       "|  53.073363 |  1.0210726 | 0.2697462 |  3.785309 | 1.535177e-04 | 3.034941e-03 | PSMD10         | 43 | 36 | 38 | 29 |  44 |  54 |  54 |  73 |  70 |  49 |  79 |  68 |\n",
       "|  36.834712 |  1.1253595 | 0.2981704 |  3.774216 | 1.605114e-04 | 3.123508e-03 | NXT2           | 27 | 30 | 25 | 24 |  33 |  29 |  40 |  40 |  41 |  38 |  61 |  53 |\n",
       "| 109.334407 |  0.6212934 | 0.1821717 |  3.410482 | 6.484805e-04 | 8.520857e-03 | PAK3           | 99 | 96 | 94 | 86 | 101 | 102 | 118 | 125 | 109 | 110 | 136 | 139 |\n",
       "|  60.620757 |  1.0950419 | 0.2383037 |  4.595153 | 4.324311e-06 | 2.131162e-04 | DCX            | 46 | 50 | 56 | 44 |  44 |  50 |  59 |  68 |  64 |  57 |  92 |  96 |\n",
       "|  66.947300 |  0.8838059 | 0.2309809 |  3.826316 | 1.300754e-04 | 2.693955e-03 | AMOT           | 49 | 58 | 54 | 52 |  55 |  57 |  65 |  78 |  83 |  72 |  94 |  87 |\n",
       "|  51.584148 | -1.2933491 | 0.2913036 | -4.439866 | 9.001491e-06 | 3.613966e-04 | HTR2C          | 64 | 67 | 65 | 72 |  61 |  73 |  46 |  49 |  39 |  43 |  26 |  23 |\n",
       "|  16.915813 |  2.0480859 | 0.4230051 |  4.841752 | 1.286995e-06 | 8.448999e-05 | TEX13D         | 14 | 10 | 10 | 11 |   8 |   8 |  11 |  12 |  11 |  13 |  42 |  49 |\n",
       "|  51.576518 | -1.0935540 | 0.2849482 | -3.837729 | 1.241772e-04 | 2.596528e-03 | XPNPEP2        | 72 | 63 | 54 | 58 |  46 |  60 |  50 |  55 |  65 |  46 |  26 |  32 |\n",
       "|  54.400695 | -0.9406726 | 0.2703728 | -3.479168 | 5.029730e-04 | 7.085199e-03 | ELF4           | 64 | 70 | 63 | 68 |  65 |  63 |  50 |  54 |  46 |  54 |  32 |  32 |\n",
       "| 106.456984 |  1.1662178 | 0.1816040 |  6.421764 | 1.347042e-10 | 6.333645e-08 | ENOX2          | 87 | 87 | 84 | 80 |  92 |  91 |  90 |  97 | 102 | 104 | 180 | 178 |\n",
       "|  29.344417 |  1.1726033 | 0.3393678 |  3.455258 | 5.497657e-04 | 7.554719e-03 | PHF6           | 24 | 21 | 22 | 23 |  33 |  17 |  28 |  29 |  32 |  29 |  45 |  48 |\n",
       "|  65.213178 |  0.8825996 | 0.2259725 |  3.905784 | 9.392056e-05 | 2.098370e-03 | ZNF75D         | 57 | 56 | 60 | 54 |  51 |  62 |  59 |  60 |  67 |  65 |  94 |  97 |\n",
       "|  27.741765 |  1.2272694 | 0.3428764 |  3.579335 | 3.444696e-04 | 5.428204e-03 | ZNF449         | 20 | 21 | 22 | 22 |  23 |  29 |  25 |  28 |  28 |  26 |  43 |  45 |\n",
       "|  14.102020 |  4.2409726 | 0.9047002 |  4.687710 | 2.762786e-06 | 1.488055e-04 | CD40LG         |  1 |  2 |  3 |  2 |  11 |  12 |  20 |  25 |  23 |  17 |  23 |  29 |\n",
       "|  40.161192 |  1.0338069 | 0.2875038 |  3.595803 | 3.233922e-04 | 5.178288e-03 | EMD            | 31 | 34 | 26 | 28 |  36 |  39 |  38 |  43 |  49 |  35 |  58 |  64 |\n",
       "|  30.863713 | -1.6400197 | 0.3892195 | -4.213612 | 2.513193e-05 | 7.793586e-04 | DNASE1L1       | 39 | 46 | 31 | 43 |  41 |  33 |  35 |  27 |  27 |  29 |  11 |  14 |\n",
       "|  29.720984 | -1.4596059 | 0.3885743 | -3.756311 | 1.724363e-04 | 3.269921e-03 | TAZ            | 40 | 38 | 32 | 38 |  37 |  34 |  39 |  25 |  26 |  27 |  11 |  15 |\n",
       "\n"
      ],
      "text/plain": [
       "     baseMean   log2FoldChange lfcSE     stat      pvalue       padj        \n",
       "1     53.96597   1.2859206     0.2555272  5.032421 4.843235e-07 4.171176e-05\n",
       "2     36.98419   1.0500669     0.3035926  3.458802 5.425834e-04 7.509406e-03\n",
       "3     85.93123   1.3913771     0.2120123  6.562719 5.283528e-11 2.881085e-08\n",
       "4     41.82490   1.0333660     0.2768952  3.731975 1.899846e-04 3.502703e-03\n",
       "5     43.65750  -1.3623490     0.3017304 -4.515121 6.328074e-06 2.844690e-04\n",
       "6     49.64993   0.9224558     0.2622441  3.517546 4.355565e-04 6.426952e-03\n",
       "7    186.76433   0.5528684     0.1481239  3.732473 1.896094e-04 3.502703e-03\n",
       "8     44.46515   1.0083677     0.2684577  3.756152 1.725463e-04 3.269921e-03\n",
       "9     27.16807   1.1758202     0.3428771  3.429276 6.051942e-04 8.100341e-03\n",
       "10    99.67772  -1.0762933     0.2093694 -5.140642 2.738011e-07 2.617207e-05\n",
       "11    15.88361   2.0687709     0.5226288  3.958395 7.545518e-05 1.778914e-03\n",
       "12    60.50632   0.8774022     0.2408885  3.642359 2.701512e-04 4.550088e-03\n",
       "13   107.17865   1.0509486     0.1926673  5.454733 4.904638e-08 7.028862e-06\n",
       "14    37.35139   1.1501634     0.3075962  3.739199 1.846076e-04 3.438564e-03\n",
       "15    65.69243   0.9501392     0.2349417  4.044149 5.251358e-05 1.373803e-03\n",
       "16   112.21058  -0.8366484     0.1984463 -4.215994 2.486801e-05 7.756339e-04\n",
       "17   142.45909   0.7142902     0.1673883  4.267265 1.978837e-05 6.569815e-04\n",
       "18    56.44530   1.1677585     0.2473905  4.720305 2.354916e-06 1.343229e-04\n",
       "19    63.87136   0.8209089     0.2298516  3.571474 3.549778e-04 5.543581e-03\n",
       "20    72.59056   0.7405375     0.2187796  3.384855 7.121574e-04 9.082158e-03\n",
       "21    44.12946   0.9670802     0.2731032  3.541080 3.984925e-04 6.044093e-03\n",
       "22    51.52313   0.9772425     0.2555053  3.824744 1.309078e-04 2.704755e-03\n",
       "23    16.27546  -2.9044254     0.6788083 -4.278712 1.879779e-05 6.337696e-04\n",
       "24   107.33248   0.9043873     0.1872643  4.829471 1.368965e-06 8.878907e-05\n",
       "25    16.96421  -2.3484750     0.5883024 -3.991952 6.553167e-05 1.607975e-03\n",
       "26    53.13859  -1.1147580     0.2766296 -4.029786 5.582767e-05 1.435340e-03\n",
       "27    49.44926   0.9814976     0.2598357  3.777377 1.584886e-04 3.092989e-03\n",
       "28    14.96940  -2.6820254     0.6888532 -3.893464 9.882273e-05 2.176227e-03\n",
       "29   104.69407   0.9436213     0.1881776  5.014525 5.316464e-07 4.556183e-05\n",
       "30   189.06372  -1.2447939     0.1674920 -7.431961 1.069995e-13 3.102450e-10\n",
       "⋮    ⋮          ⋮              ⋮         ⋮         ⋮            ⋮           \n",
       "1393  20.279387  1.7999256     0.4044062  4.450786 8.555645e-06 3.518736e-04\n",
       "1394  53.813531  1.0045143     0.2601935  3.860643 1.130892e-04 2.405151e-03\n",
       "1395  33.290991  1.3557663     0.3127844  4.334508 1.460865e-05 5.207925e-04\n",
       "1396  39.256523  1.0257558     0.2923486  3.508673 4.503477e-04 6.573123e-03\n",
       "1397  46.000946  1.0543697     0.2730961  3.860800 1.130162e-04 2.405151e-03\n",
       "1398  26.144800  1.7102472     0.3744471  4.567394 4.938261e-06 2.328209e-04\n",
       "1399  32.745771  1.4051361     0.3328875  4.221054 2.431627e-05 7.649731e-04\n",
       "1400  32.745771  1.4051361     0.3328875  4.221054 2.431627e-05 7.649731e-04\n",
       "1401  79.127675  0.7103221     0.2104659  3.374999 7.381585e-04 9.353054e-03\n",
       "1402  31.799803  1.0956519     0.3213160  3.409889 6.498927e-04 8.532969e-03\n",
       "1403  87.341227  0.8760303     0.2058676  4.255308 2.087612e-05 6.788446e-04\n",
       "1404   8.580433  2.6488754     0.6585998  4.021980 5.771093e-05 1.469981e-03\n",
       "1405  47.038566  1.1136952     0.2831945  3.932617 8.402616e-05 1.926305e-03\n",
       "1406  53.073363  1.0210726     0.2697462  3.785309 1.535177e-04 3.034941e-03\n",
       "1407  36.834712  1.1253595     0.2981704  3.774216 1.605114e-04 3.123508e-03\n",
       "1408 109.334407  0.6212934     0.1821717  3.410482 6.484805e-04 8.520857e-03\n",
       "1409  60.620757  1.0950419     0.2383037  4.595153 4.324311e-06 2.131162e-04\n",
       "1410  66.947300  0.8838059     0.2309809  3.826316 1.300754e-04 2.693955e-03\n",
       "1411  51.584148 -1.2933491     0.2913036 -4.439866 9.001491e-06 3.613966e-04\n",
       "1412  16.915813  2.0480859     0.4230051  4.841752 1.286995e-06 8.448999e-05\n",
       "1413  51.576518 -1.0935540     0.2849482 -3.837729 1.241772e-04 2.596528e-03\n",
       "1414  54.400695 -0.9406726     0.2703728 -3.479168 5.029730e-04 7.085199e-03\n",
       "1415 106.456984  1.1662178     0.1816040  6.421764 1.347042e-10 6.333645e-08\n",
       "1416  29.344417  1.1726033     0.3393678  3.455258 5.497657e-04 7.554719e-03\n",
       "1417  65.213178  0.8825996     0.2259725  3.905784 9.392056e-05 2.098370e-03\n",
       "1418  27.741765  1.2272694     0.3428764  3.579335 3.444696e-04 5.428204e-03\n",
       "1419  14.102020  4.2409726     0.9047002  4.687710 2.762786e-06 1.488055e-04\n",
       "1420  40.161192  1.0338069     0.2875038  3.595803 3.233922e-04 5.178288e-03\n",
       "1421  30.863713 -1.6400197     0.3892195 -4.213612 2.513193e-05 7.793586e-04\n",
       "1422  29.720984 -1.4596059     0.3885743 -3.756311 1.724363e-04 3.269921e-03\n",
       "     gene_name      A1  A2  A3  A4  A5  A6  A7  A8  A9  A10 A11 A12\n",
       "1    SAMD11          37  48  48  46  57  36  44  40  47  51 102  88\n",
       "2    NOC2L           30  29  39  41  41  23  28  30  37  33  54  58\n",
       "3    ACAP3           61  60  50  66  95  75  67  79  89  93 141 150\n",
       "4    PRXL2B          42  31  33  37  37  35  31  40  35  42  69  68\n",
       "5    ARHGEF16        67  62  54  57  51  46  40  36  36  36  21  25\n",
       "6    PARK7           37  43  47  37  38  39  54  51  50  61  69  70\n",
       "7    RERE           171 174 187 171 167 175 165 180 189 204 239 225\n",
       "8    PGD             37  40  29  37  38  34  50  43  37  45  70  72\n",
       "9    UBIAD1          24  18  22  24  26  24  24  23  27  26  44  43\n",
       "10   DHRS3          130 123 127 114 119 115 102  97  82  93  50  60\n",
       "11   CELA2B           7   6   8   7  10   9  14  13  32  34  23  27\n",
       "12   SZRD1           49  46  57  57  57  49  60  58  63  71  78  82\n",
       "13   IFFO2           74  85  93  95  96  86 100 103 111 141 154 148\n",
       "14   DDOST           33  24  25  33  34  27  29  42  44  40  65  51\n",
       "15   KIF17           56  49  44  58  51  53  60  74  73  84  98  88\n",
       "16   RAP1GAP        123 140 119 138 143 130 112 105 105 113  68  67\n",
       "17   EPHB2          115 133 131 127 155 139 138 114 146 141 188 185\n",
       "18   HNRNPR          40  44  45  50  50  47  55  54  58  60  81  92\n",
       "19   ZNF436          56  57  52  56  56  49  54  67  71  65  88  95\n",
       "20   NIPAL3          63  63  56  70  65  63  70  75  79  75  95  98\n",
       "21   SRRM1           40  37  27  38  42  36  33  44  49  44  65  73\n",
       "22   CLIC4           41  41  43  37  44  47  52  58  52  55  75  73\n",
       "23   CNKSR1          25  24  24  16  23  23  16  14  13  15   3   3\n",
       "24   ARID1A          84  85  89  96  96  95 105 103 114 132 145 145\n",
       "25   SFN             23  27  19  23  29  19  14  18  11  15   5   4\n",
       "26   SYTL1           71  66  57  63  60  58  50  56  51  56  29  29\n",
       "27   FAM76A          38  41  37  38  44  39  56  56  53  48  70  73\n",
       "28   SMPDL3B         22  20  21  26  17  19  13  17   9  13   2   4\n",
       "29   EPB41           99  87  87  95  92  78  80 103  99 105 169 159\n",
       "30   PTPRU          230 212 212 222 215 216 208 210 198 208  89  82\n",
       "⋮    ⋮              ⋮   ⋮   ⋮   ⋮   ⋮   ⋮   ⋮   ⋮   ⋮   ⋮   ⋮   ⋮  \n",
       "1393 SPIN4          14  12  12   9   11  15  22  18  23  22  39  44\n",
       "1394 ARHGEF9        44  37  48  43   46  58  48  64  56  53  80  69\n",
       "1395 AMER1          23  29  33  19   24  22  30  34  32  29  62  60\n",
       "1396 ZC4H2          31  29  33  30   30  32  45  52  39  38  58  54\n",
       "1397 HMGN5          39  34  26  37   34  42  44  56  50  50  71  68\n",
       "1398 PABPC5         17  14  19  12   14  23  26  29  37  28  45  48\n",
       "1399 NAP1L3         27  15  26  21   25  25  33  38  40  40  54  48\n",
       "1400 FAM133A        27  15  26  21   25  25  33  38  40  40  54  48\n",
       "1401 RPL36A-HNRNPH2 69  69  72  73   63  72  69  82  87  88 102 105\n",
       "1402 HNRNPH2        24  25  28  28   23  27  25  33  35  37  46  50\n",
       "1403 SLC25A53       81  64  63  62   81  82  88 107  94  82 120 124\n",
       "1404 RIPPLY1         4   4   5   4    1   2   8   7  11   9  24  22\n",
       "1405 PRPS1          37  26  32  34   40  49  48  59  61  54  60  65\n",
       "1406 PSMD10         43  36  38  29   44  54  54  73  70  49  79  68\n",
       "1407 NXT2           27  30  25  24   33  29  40  40  41  38  61  53\n",
       "1408 PAK3           99  96  94  86  101 102 118 125 109 110 136 139\n",
       "1409 DCX            46  50  56  44   44  50  59  68  64  57  92  96\n",
       "1410 AMOT           49  58  54  52   55  57  65  78  83  72  94  87\n",
       "1411 HTR2C          64  67  65  72   61  73  46  49  39  43  26  23\n",
       "1412 TEX13D         14  10  10  11    8   8  11  12  11  13  42  49\n",
       "1413 XPNPEP2        72  63  54  58   46  60  50  55  65  46  26  32\n",
       "1414 ELF4           64  70  63  68   65  63  50  54  46  54  32  32\n",
       "1415 ENOX2          87  87  84  80   92  91  90  97 102 104 180 178\n",
       "1416 PHF6           24  21  22  23   33  17  28  29  32  29  45  48\n",
       "1417 ZNF75D         57  56  60  54   51  62  59  60  67  65  94  97\n",
       "1418 ZNF449         20  21  22  22   23  29  25  28  28  26  43  45\n",
       "1419 CD40LG          1   2   3   2   11  12  20  25  23  17  23  29\n",
       "1420 EMD            31  34  26  28   36  39  38  43  49  35  58  64\n",
       "1421 DNASE1L1       39  46  31  43   41  33  35  27  27  29  11  14\n",
       "1422 TAZ            40  38  32  38   37  34  39  25  26  27  11  15"
      ]
     },
     "metadata": {},
     "output_type": "display_data"
    }
   ],
   "source": [
    "fdr <- 0.01\n",
    "res.atac.b[which(res.atac.b$padj < fdr), ] %>% as.data.frame %>% \n",
    "        add_column(\"gene_name\"=atac.counts.perGene$gene_name[which(res.atac.b$padj < fdr)]) %>%\n",
    "        cbind(counts(dds.atac)[which(res.atac.b$padj < fdr),])"
   ]
  },
  {
   "cell_type": "code",
   "execution_count": 1,
   "metadata": {},
   "outputs": [
    {
     "data": {
      "text/html": [
       "0.100012501562695"
      ],
      "text/latex": [
       "0.100012501562695"
      ],
      "text/markdown": [
       "0.100012501562695"
      ],
      "text/plain": [
       "[1] 0.1000125"
      ]
     },
     "metadata": {},
     "output_type": "display_data"
    }
   ],
   "source": [
    "(966957 - 966157)/(969309 - 961310)"
   ]
  },
  {
   "cell_type": "code",
   "execution_count": null,
   "metadata": {},
   "outputs": [],
   "source": []
  }
 ],
 "metadata": {
  "kernelspec": {
   "display_name": "R3.6",
   "language": "R",
   "name": "ir36"
  },
  "language_info": {
   "codemirror_mode": "r",
   "file_extension": ".r",
   "mimetype": "text/x-r-source",
   "name": "R",
   "pygments_lexer": "r",
   "version": "3.6.1"
  }
 },
 "nbformat": 4,
 "nbformat_minor": 2
}
