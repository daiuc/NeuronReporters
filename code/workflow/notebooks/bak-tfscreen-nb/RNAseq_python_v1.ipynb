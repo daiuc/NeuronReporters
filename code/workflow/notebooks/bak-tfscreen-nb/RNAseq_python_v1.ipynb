{
 "cells": [
  {
   "cell_type": "code",
   "execution_count": 2,
   "metadata": {
    "ExecuteTime": {
     "end_time": "2019-09-23T14:30:58.687431Z",
     "start_time": "2019-09-23T14:30:55.887409Z"
    }
   },
   "outputs": [],
   "source": [
    "#housekeeping and essential imports\n",
    "import pandas as pd\n",
    "import os\n",
    "\n",
    "pd.set_option('display.max_rows', 500)\n",
    "pd.set_option('display.width', 1800)\n",
    "pd.set_option ('display.max_colwidth', 150)\n",
    "pd.set_option('display.max_columns', 50)\n",
    "\n",
    "from IPython.core.interactiveshell import InteractiveShell\n",
    "InteractiveShell.ast_node_interactivity = \"all\""
   ]
  },
  {
   "cell_type": "code",
   "execution_count": 3,
   "metadata": {
    "ExecuteTime": {
     "end_time": "2019-09-23T14:30:58.693009Z",
     "start_time": "2019-09-23T14:30:58.690158Z"
    }
   },
   "outputs": [],
   "source": [
    "# surpress warnings\n",
    "import warnings\n",
    "warnings.filterwarnings('ignore')"
   ]
  },
  {
   "cell_type": "code",
   "execution_count": 4,
   "metadata": {
    "ExecuteTime": {
     "end_time": "2019-09-23T14:30:58.715659Z",
     "start_time": "2019-09-23T14:30:58.695587Z"
    }
   },
   "outputs": [
    {
     "data": {
      "text/html": [
       "<style type=\"text/css\">\n",
       "table.dataframe td, table.dataframe th {\n",
       "    border: None#1px dotted lightgrey;\n",
       "}"
      ],
      "text/plain": [
       "<IPython.core.display.HTML object>"
      ]
     },
     "metadata": {},
     "output_type": "display_data"
    }
   ],
   "source": [
    "%%HTML\n",
    "<style type=\"text/css\">\n",
    "table.dataframe td, table.dataframe th {\n",
    "    border: None#1px dotted lightgrey;\n",
    "}"
   ]
  },
  {
   "cell_type": "code",
   "execution_count": 5,
   "metadata": {
    "ExecuteTime": {
     "end_time": "2019-09-23T14:30:59.462508Z",
     "start_time": "2019-09-23T14:30:58.718386Z"
    }
   },
   "outputs": [],
   "source": [
    "import matplotlib.pyplot as plt\n",
    "from matplotlib.ticker import FuncFormatter\n",
    "%matplotlib inline\n",
    "import seaborn as sns\n",
    "plt.style.use('seaborn-dark-palette')\n",
    "#plt.style.use('seaborn')"
   ]
  },
  {
   "cell_type": "markdown",
   "metadata": {
    "heading_collapsed": true
   },
   "source": [
    "# Get readcounts from `STAR quantmode`"
   ]
  },
  {
   "cell_type": "code",
   "execution_count": 6,
   "metadata": {
    "ExecuteTime": {
     "end_time": "2019-08-23T01:01:33.152013Z",
     "start_time": "2019-08-23T01:01:33.143640Z"
    },
    "hidden": true
   },
   "outputs": [],
   "source": [
    "os.chdir('/gpfs/commons/groups/sanjana_lab/cdai/TFscreen/data/20190816/star/counts/')"
   ]
  },
  {
   "cell_type": "code",
   "execution_count": 8,
   "metadata": {
    "ExecuteTime": {
     "end_time": "2019-08-23T01:02:02.862281Z",
     "start_time": "2019-08-23T01:02:02.859305Z"
    },
    "hidden": true
   },
   "outputs": [],
   "source": [
    "import glob"
   ]
  },
  {
   "cell_type": "code",
   "execution_count": 17,
   "metadata": {
    "ExecuteTime": {
     "end_time": "2019-08-23T01:03:01.141741Z",
     "start_time": "2019-08-23T01:03:01.138297Z"
    },
    "hidden": true
   },
   "outputs": [],
   "source": [
    "count_tab = glob.glob('*.ReadsPerGene.out.tab')\n",
    "count_tab.sort()"
   ]
  },
  {
   "cell_type": "code",
   "execution_count": 18,
   "metadata": {
    "ExecuteTime": {
     "end_time": "2019-08-23T01:03:02.579840Z",
     "start_time": "2019-08-23T01:03:02.575611Z"
    },
    "hidden": true
   },
   "outputs": [
    {
     "data": {
      "text/plain": [
       "['S01.ReadsPerGene.out.tab',\n",
       " 'S02.ReadsPerGene.out.tab',\n",
       " 'S03.ReadsPerGene.out.tab',\n",
       " 'S04.ReadsPerGene.out.tab',\n",
       " 'S05.ReadsPerGene.out.tab',\n",
       " 'S06.ReadsPerGene.out.tab',\n",
       " 'S07.ReadsPerGene.out.tab',\n",
       " 'S08.ReadsPerGene.out.tab',\n",
       " 'S09.ReadsPerGene.out.tab',\n",
       " 'S10.ReadsPerGene.out.tab',\n",
       " 'S11.ReadsPerGene.out.tab',\n",
       " 'S12.ReadsPerGene.out.tab',\n",
       " 'S13.ReadsPerGene.out.tab',\n",
       " 'S14.ReadsPerGene.out.tab',\n",
       " 'S15.ReadsPerGene.out.tab',\n",
       " 'S16.ReadsPerGene.out.tab',\n",
       " 'S17.ReadsPerGene.out.tab',\n",
       " 'S18.ReadsPerGene.out.tab',\n",
       " 'S19.ReadsPerGene.out.tab',\n",
       " 'S20.ReadsPerGene.out.tab',\n",
       " 'S21.ReadsPerGene.out.tab',\n",
       " 'S22.ReadsPerGene.out.tab',\n",
       " 'S23.ReadsPerGene.out.tab',\n",
       " 'S24.ReadsPerGene.out.tab',\n",
       " 'S25.ReadsPerGene.out.tab',\n",
       " 'S26.ReadsPerGene.out.tab',\n",
       " 'S27.ReadsPerGene.out.tab']"
      ]
     },
     "execution_count": 18,
     "metadata": {},
     "output_type": "execute_result"
    }
   ],
   "source": [
    "count_tab"
   ]
  },
  {
   "cell_type": "code",
   "execution_count": 124,
   "metadata": {
    "ExecuteTime": {
     "end_time": "2019-08-23T02:01:22.631520Z",
     "start_time": "2019-08-23T02:01:20.683488Z"
    },
    "hidden": true
   },
   "outputs": [],
   "source": [
    "# read in readcounts and save all in dataframe\n",
    "cnts=pd.DataFrame([])\n",
    "for tab in count_tab:\n",
    "    sample_name = tab.split('.')[0]\n",
    "    df = pd.read_csv(tab, sep='\\t', skiprows=4, header=None, names=['gene_id','cnt','cnt1','cnt2'])\n",
    "    cnts[sample_name] = df.cnt\n",
    "    idx = df.gene_id\n",
    "cnts.set_index(idx, inplace=True)"
   ]
  },
  {
   "cell_type": "code",
   "execution_count": 184,
   "metadata": {
    "ExecuteTime": {
     "end_time": "2019-08-23T19:23:07.266416Z",
     "start_time": "2019-08-23T19:23:07.241438Z"
    },
    "hidden": true,
    "scrolled": true
   },
   "outputs": [
    {
     "data": {
      "text/html": [
       "<div>\n",
       "<style scoped>\n",
       "    .dataframe tbody tr th:only-of-type {\n",
       "        vertical-align: middle;\n",
       "    }\n",
       "\n",
       "    .dataframe tbody tr th {\n",
       "        vertical-align: top;\n",
       "    }\n",
       "\n",
       "    .dataframe thead th {\n",
       "        text-align: right;\n",
       "    }\n",
       "</style>\n",
       "<table border=\"1\" class=\"dataframe\">\n",
       "  <thead>\n",
       "    <tr style=\"text-align: right;\">\n",
       "      <th></th>\n",
       "      <th>S01</th>\n",
       "      <th>S02</th>\n",
       "      <th>S03</th>\n",
       "      <th>S04</th>\n",
       "      <th>S05</th>\n",
       "      <th>S06</th>\n",
       "      <th>S07</th>\n",
       "      <th>S08</th>\n",
       "      <th>S09</th>\n",
       "      <th>S10</th>\n",
       "      <th>S11</th>\n",
       "      <th>S12</th>\n",
       "      <th>S13</th>\n",
       "      <th>S14</th>\n",
       "      <th>S15</th>\n",
       "      <th>S16</th>\n",
       "      <th>S17</th>\n",
       "      <th>S18</th>\n",
       "      <th>S19</th>\n",
       "      <th>S20</th>\n",
       "      <th>S21</th>\n",
       "      <th>S22</th>\n",
       "      <th>S23</th>\n",
       "      <th>S24</th>\n",
       "      <th>S25</th>\n",
       "      <th>S26</th>\n",
       "      <th>S27</th>\n",
       "    </tr>\n",
       "    <tr>\n",
       "      <th>gene_id</th>\n",
       "      <th></th>\n",
       "      <th></th>\n",
       "      <th></th>\n",
       "      <th></th>\n",
       "      <th></th>\n",
       "      <th></th>\n",
       "      <th></th>\n",
       "      <th></th>\n",
       "      <th></th>\n",
       "      <th></th>\n",
       "      <th></th>\n",
       "      <th></th>\n",
       "      <th></th>\n",
       "      <th></th>\n",
       "      <th></th>\n",
       "      <th></th>\n",
       "      <th></th>\n",
       "      <th></th>\n",
       "      <th></th>\n",
       "      <th></th>\n",
       "      <th></th>\n",
       "      <th></th>\n",
       "      <th></th>\n",
       "      <th></th>\n",
       "      <th></th>\n",
       "      <th></th>\n",
       "      <th></th>\n",
       "    </tr>\n",
       "  </thead>\n",
       "  <tbody>\n",
       "    <tr>\n",
       "      <th>ENSG00000223972.5</th>\n",
       "      <td>0</td>\n",
       "      <td>0</td>\n",
       "      <td>0</td>\n",
       "      <td>0</td>\n",
       "      <td>0</td>\n",
       "      <td>0</td>\n",
       "      <td>0</td>\n",
       "      <td>0</td>\n",
       "      <td>0</td>\n",
       "      <td>0</td>\n",
       "      <td>0</td>\n",
       "      <td>0</td>\n",
       "      <td>0</td>\n",
       "      <td>0</td>\n",
       "      <td>0</td>\n",
       "      <td>0</td>\n",
       "      <td>0</td>\n",
       "      <td>0</td>\n",
       "      <td>0</td>\n",
       "      <td>0</td>\n",
       "      <td>0</td>\n",
       "      <td>0</td>\n",
       "      <td>0</td>\n",
       "      <td>0</td>\n",
       "      <td>0</td>\n",
       "      <td>0</td>\n",
       "      <td>0</td>\n",
       "    </tr>\n",
       "    <tr>\n",
       "      <th>ENSG00000227232.5</th>\n",
       "      <td>0</td>\n",
       "      <td>0</td>\n",
       "      <td>0</td>\n",
       "      <td>0</td>\n",
       "      <td>0</td>\n",
       "      <td>0</td>\n",
       "      <td>0</td>\n",
       "      <td>0</td>\n",
       "      <td>0</td>\n",
       "      <td>0</td>\n",
       "      <td>0</td>\n",
       "      <td>0</td>\n",
       "      <td>0</td>\n",
       "      <td>0</td>\n",
       "      <td>0</td>\n",
       "      <td>0</td>\n",
       "      <td>0</td>\n",
       "      <td>0</td>\n",
       "      <td>0</td>\n",
       "      <td>0</td>\n",
       "      <td>0</td>\n",
       "      <td>0</td>\n",
       "      <td>0</td>\n",
       "      <td>0</td>\n",
       "      <td>0</td>\n",
       "      <td>0</td>\n",
       "      <td>0</td>\n",
       "    </tr>\n",
       "    <tr>\n",
       "      <th>ENSG00000278267.1</th>\n",
       "      <td>0</td>\n",
       "      <td>0</td>\n",
       "      <td>0</td>\n",
       "      <td>0</td>\n",
       "      <td>0</td>\n",
       "      <td>0</td>\n",
       "      <td>0</td>\n",
       "      <td>0</td>\n",
       "      <td>0</td>\n",
       "      <td>0</td>\n",
       "      <td>0</td>\n",
       "      <td>0</td>\n",
       "      <td>0</td>\n",
       "      <td>0</td>\n",
       "      <td>0</td>\n",
       "      <td>0</td>\n",
       "      <td>0</td>\n",
       "      <td>0</td>\n",
       "      <td>0</td>\n",
       "      <td>0</td>\n",
       "      <td>0</td>\n",
       "      <td>0</td>\n",
       "      <td>0</td>\n",
       "      <td>0</td>\n",
       "      <td>0</td>\n",
       "      <td>0</td>\n",
       "      <td>0</td>\n",
       "    </tr>\n",
       "    <tr>\n",
       "      <th>ENSG00000243485.5</th>\n",
       "      <td>0</td>\n",
       "      <td>0</td>\n",
       "      <td>0</td>\n",
       "      <td>0</td>\n",
       "      <td>0</td>\n",
       "      <td>1</td>\n",
       "      <td>0</td>\n",
       "      <td>0</td>\n",
       "      <td>0</td>\n",
       "      <td>0</td>\n",
       "      <td>0</td>\n",
       "      <td>0</td>\n",
       "      <td>0</td>\n",
       "      <td>0</td>\n",
       "      <td>0</td>\n",
       "      <td>0</td>\n",
       "      <td>0</td>\n",
       "      <td>0</td>\n",
       "      <td>0</td>\n",
       "      <td>0</td>\n",
       "      <td>0</td>\n",
       "      <td>0</td>\n",
       "      <td>0</td>\n",
       "      <td>0</td>\n",
       "      <td>0</td>\n",
       "      <td>0</td>\n",
       "      <td>0</td>\n",
       "    </tr>\n",
       "    <tr>\n",
       "      <th>ENSG00000284332.1</th>\n",
       "      <td>0</td>\n",
       "      <td>0</td>\n",
       "      <td>0</td>\n",
       "      <td>0</td>\n",
       "      <td>0</td>\n",
       "      <td>0</td>\n",
       "      <td>0</td>\n",
       "      <td>0</td>\n",
       "      <td>0</td>\n",
       "      <td>0</td>\n",
       "      <td>0</td>\n",
       "      <td>0</td>\n",
       "      <td>0</td>\n",
       "      <td>0</td>\n",
       "      <td>0</td>\n",
       "      <td>0</td>\n",
       "      <td>0</td>\n",
       "      <td>0</td>\n",
       "      <td>0</td>\n",
       "      <td>0</td>\n",
       "      <td>0</td>\n",
       "      <td>0</td>\n",
       "      <td>0</td>\n",
       "      <td>0</td>\n",
       "      <td>0</td>\n",
       "      <td>0</td>\n",
       "      <td>0</td>\n",
       "    </tr>\n",
       "  </tbody>\n",
       "</table>\n",
       "</div>"
      ],
      "text/plain": [
       "                   S01  S02  S03  S04  S05  S06  S07  S08  S09  S10  S11  S12  S13  S14  S15  S16  S17  S18  S19  S20  S21  S22  S23  S24  S25  S26  S27\n",
       "gene_id                                                                                                                                                 \n",
       "ENSG00000223972.5    0    0    0    0    0    0    0    0    0    0    0    0    0    0    0    0    0    0    0    0    0    0    0    0    0    0    0\n",
       "ENSG00000227232.5    0    0    0    0    0    0    0    0    0    0    0    0    0    0    0    0    0    0    0    0    0    0    0    0    0    0    0\n",
       "ENSG00000278267.1    0    0    0    0    0    0    0    0    0    0    0    0    0    0    0    0    0    0    0    0    0    0    0    0    0    0    0\n",
       "ENSG00000243485.5    0    0    0    0    0    1    0    0    0    0    0    0    0    0    0    0    0    0    0    0    0    0    0    0    0    0    0\n",
       "ENSG00000284332.1    0    0    0    0    0    0    0    0    0    0    0    0    0    0    0    0    0    0    0    0    0    0    0    0    0    0    0"
      ]
     },
     "execution_count": 184,
     "metadata": {},
     "output_type": "execute_result"
    }
   ],
   "source": [
    "cnts.head()"
   ]
  },
  {
   "cell_type": "code",
   "execution_count": 138,
   "metadata": {
    "ExecuteTime": {
     "end_time": "2019-08-23T02:09:25.888850Z",
     "start_time": "2019-08-23T02:09:23.952603Z"
    },
    "hidden": true
   },
   "outputs": [],
   "source": [
    "cnts.iloc[:,0:22].to_csv('TFsc_rnaseq_cnts.csv') # save for Congyi's 22 samples"
   ]
  },
  {
   "cell_type": "code",
   "execution_count": 143,
   "metadata": {
    "ExecuteTime": {
     "end_time": "2019-08-23T02:11:34.065287Z",
     "start_time": "2019-08-23T02:11:33.637262Z"
    },
    "hidden": true
   },
   "outputs": [],
   "source": [
    "cnts.iloc[:,22:27].to_csv('rnaseq_flen.csv') # save for Chao's 5 samples"
   ]
  },
  {
   "cell_type": "code",
   "execution_count": 199,
   "metadata": {
    "ExecuteTime": {
     "end_time": "2019-08-23T19:26:34.426798Z",
     "start_time": "2019-08-23T19:26:34.423714Z"
    },
    "hidden": true
   },
   "outputs": [],
   "source": [
    "del(df2)"
   ]
  },
  {
   "cell_type": "code",
   "execution_count": 226,
   "metadata": {
    "ExecuteTime": {
     "end_time": "2019-08-23T19:37:25.693551Z",
     "start_time": "2019-08-23T19:37:25.630003Z"
    },
    "hidden": true
   },
   "outputs": [],
   "source": [
    "df2 = pd.read_csv('HighlyExpressedGenes.csv')"
   ]
  },
  {
   "cell_type": "code",
   "execution_count": 207,
   "metadata": {
    "ExecuteTime": {
     "end_time": "2019-08-23T19:28:10.691537Z",
     "start_time": "2019-08-23T19:28:10.686684Z"
    },
    "hidden": true
   },
   "outputs": [
    {
     "data": {
      "text/plain": [
       "'/gpfs/commons/groups/sanjana_lab/cdai/TFscreen/data/20190816/star/counts'"
      ]
     },
     "execution_count": 207,
     "metadata": {},
     "output_type": "execute_result"
    }
   ],
   "source": [
    "pwd"
   ]
  },
  {
   "cell_type": "code",
   "execution_count": 209,
   "metadata": {
    "ExecuteTime": {
     "end_time": "2019-08-23T19:30:26.920360Z",
     "start_time": "2019-08-23T19:30:26.692990Z"
    },
    "hidden": true
   },
   "outputs": [
    {
     "name": "stdout",
     "output_type": "stream",
     "text": [
      "-rw-rw-r-- 1 cdai nslab 1478037 Aug 23 15:30 HighlyExpressedGenes.csv\r\n",
      "-rw-rw-r-- 1 cdai nslab 1755724 Aug 22 22:11 rnaseq_flen.csv\r\n",
      "-rw-rw-r-- 1 cdai nslab 4150093 Aug 22 22:09 TFsc_rnaseq_cnts.csv\r\n"
     ]
    }
   ],
   "source": [
    "ls -l *.csv"
   ]
  },
  {
   "cell_type": "markdown",
   "metadata": {
    "heading_collapsed": true
   },
   "source": [
    "# read counts of genes meeting certain criteria (from R notebook, min 2 samples each having min 5 reads)"
   ]
  },
  {
   "cell_type": "code",
   "execution_count": 227,
   "metadata": {
    "ExecuteTime": {
     "end_time": "2019-08-23T19:37:29.885538Z",
     "start_time": "2019-08-23T19:37:29.864965Z"
    },
    "hidden": true
   },
   "outputs": [
    {
     "data": {
      "text/html": [
       "<div>\n",
       "<style scoped>\n",
       "    .dataframe tbody tr th:only-of-type {\n",
       "        vertical-align: middle;\n",
       "    }\n",
       "\n",
       "    .dataframe tbody tr th {\n",
       "        vertical-align: top;\n",
       "    }\n",
       "\n",
       "    .dataframe thead th {\n",
       "        text-align: right;\n",
       "    }\n",
       "</style>\n",
       "<table border=\"1\" class=\"dataframe\">\n",
       "  <thead>\n",
       "    <tr style=\"text-align: right;\">\n",
       "      <th></th>\n",
       "      <th>S01</th>\n",
       "      <th>S02</th>\n",
       "      <th>S03</th>\n",
       "      <th>S04</th>\n",
       "      <th>S05</th>\n",
       "      <th>S06</th>\n",
       "      <th>S07</th>\n",
       "      <th>S08</th>\n",
       "      <th>S09</th>\n",
       "      <th>S10</th>\n",
       "      <th>S11</th>\n",
       "      <th>S12</th>\n",
       "      <th>S13</th>\n",
       "      <th>S14</th>\n",
       "      <th>S15</th>\n",
       "      <th>S16</th>\n",
       "      <th>S17</th>\n",
       "      <th>S18</th>\n",
       "      <th>S19</th>\n",
       "      <th>S20</th>\n",
       "      <th>S21</th>\n",
       "      <th>S22</th>\n",
       "    </tr>\n",
       "  </thead>\n",
       "  <tbody>\n",
       "    <tr>\n",
       "      <th>ENSG00000268903.1</th>\n",
       "      <td>3</td>\n",
       "      <td>1</td>\n",
       "      <td>14</td>\n",
       "      <td>5</td>\n",
       "      <td>0</td>\n",
       "      <td>0</td>\n",
       "      <td>0</td>\n",
       "      <td>7</td>\n",
       "      <td>0</td>\n",
       "      <td>2</td>\n",
       "      <td>33</td>\n",
       "      <td>0</td>\n",
       "      <td>0</td>\n",
       "      <td>0</td>\n",
       "      <td>0</td>\n",
       "      <td>4</td>\n",
       "      <td>0</td>\n",
       "      <td>0</td>\n",
       "      <td>0</td>\n",
       "      <td>0</td>\n",
       "      <td>0</td>\n",
       "      <td>0</td>\n",
       "    </tr>\n",
       "    <tr>\n",
       "      <th>ENSG00000225972.1</th>\n",
       "      <td>7</td>\n",
       "      <td>1</td>\n",
       "      <td>9</td>\n",
       "      <td>1</td>\n",
       "      <td>4</td>\n",
       "      <td>1</td>\n",
       "      <td>1</td>\n",
       "      <td>5</td>\n",
       "      <td>3</td>\n",
       "      <td>1</td>\n",
       "      <td>6</td>\n",
       "      <td>3</td>\n",
       "      <td>7</td>\n",
       "      <td>35</td>\n",
       "      <td>0</td>\n",
       "      <td>18</td>\n",
       "      <td>3</td>\n",
       "      <td>1</td>\n",
       "      <td>4</td>\n",
       "      <td>1</td>\n",
       "      <td>2</td>\n",
       "      <td>6</td>\n",
       "    </tr>\n",
       "    <tr>\n",
       "      <th>ENSG00000225630.1</th>\n",
       "      <td>45</td>\n",
       "      <td>41</td>\n",
       "      <td>37</td>\n",
       "      <td>53</td>\n",
       "      <td>32</td>\n",
       "      <td>17</td>\n",
       "      <td>3</td>\n",
       "      <td>30</td>\n",
       "      <td>35</td>\n",
       "      <td>18</td>\n",
       "      <td>3</td>\n",
       "      <td>12</td>\n",
       "      <td>264</td>\n",
       "      <td>5</td>\n",
       "      <td>78</td>\n",
       "      <td>114</td>\n",
       "      <td>2</td>\n",
       "      <td>211</td>\n",
       "      <td>51</td>\n",
       "      <td>3</td>\n",
       "      <td>11</td>\n",
       "      <td>34</td>\n",
       "    </tr>\n",
       "    <tr>\n",
       "      <th>ENSG00000248527.1</th>\n",
       "      <td>5157</td>\n",
       "      <td>7617</td>\n",
       "      <td>7441</td>\n",
       "      <td>4834</td>\n",
       "      <td>4620</td>\n",
       "      <td>4847</td>\n",
       "      <td>1766</td>\n",
       "      <td>3031</td>\n",
       "      <td>2902</td>\n",
       "      <td>1532</td>\n",
       "      <td>4335</td>\n",
       "      <td>5296</td>\n",
       "      <td>5244</td>\n",
       "      <td>2241</td>\n",
       "      <td>3428</td>\n",
       "      <td>6053</td>\n",
       "      <td>4469</td>\n",
       "      <td>5969</td>\n",
       "      <td>2882</td>\n",
       "      <td>1574</td>\n",
       "      <td>2425</td>\n",
       "      <td>2708</td>\n",
       "    </tr>\n",
       "    <tr>\n",
       "      <th>ENSG00000198744.5</th>\n",
       "      <td>3</td>\n",
       "      <td>7</td>\n",
       "      <td>8</td>\n",
       "      <td>4</td>\n",
       "      <td>5</td>\n",
       "      <td>2</td>\n",
       "      <td>1</td>\n",
       "      <td>2</td>\n",
       "      <td>1</td>\n",
       "      <td>1</td>\n",
       "      <td>2</td>\n",
       "      <td>6</td>\n",
       "      <td>3</td>\n",
       "      <td>0</td>\n",
       "      <td>24</td>\n",
       "      <td>4</td>\n",
       "      <td>0</td>\n",
       "      <td>0</td>\n",
       "      <td>4</td>\n",
       "      <td>4</td>\n",
       "      <td>0</td>\n",
       "      <td>2</td>\n",
       "    </tr>\n",
       "  </tbody>\n",
       "</table>\n",
       "</div>"
      ],
      "text/plain": [
       "                    S01   S02   S03   S04   S05   S06   S07   S08   S09   S10   S11   S12   S13   S14   S15   S16   S17   S18   S19   S20   S21   S22\n",
       "ENSG00000268903.1     3     1    14     5     0     0     0     7     0     2    33     0     0     0     0     4     0     0     0     0     0     0\n",
       "ENSG00000225972.1     7     1     9     1     4     1     1     5     3     1     6     3     7    35     0    18     3     1     4     1     2     6\n",
       "ENSG00000225630.1    45    41    37    53    32    17     3    30    35    18     3    12   264     5    78   114     2   211    51     3    11    34\n",
       "ENSG00000248527.1  5157  7617  7441  4834  4620  4847  1766  3031  2902  1532  4335  5296  5244  2241  3428  6053  4469  5969  2882  1574  2425  2708\n",
       "ENSG00000198744.5     3     7     8     4     5     2     1     2     1     1     2     6     3     0    24     4     0     0     4     4     0     2"
      ]
     },
     "execution_count": 227,
     "metadata": {},
     "output_type": "execute_result"
    },
    {
     "data": {
      "text/plain": [
       "(17688, 22)"
      ]
     },
     "execution_count": 227,
     "metadata": {},
     "output_type": "execute_result"
    }
   ],
   "source": [
    "df2.head()\n",
    "df2.shape"
   ]
  },
  {
   "cell_type": "code",
   "execution_count": 228,
   "metadata": {
    "ExecuteTime": {
     "end_time": "2019-08-23T19:37:33.843315Z",
     "start_time": "2019-08-23T19:37:33.838990Z"
    },
    "hidden": true
   },
   "outputs": [],
   "source": [
    "df2.reset_index(inplace=True)"
   ]
  },
  {
   "cell_type": "code",
   "execution_count": 229,
   "metadata": {
    "ExecuteTime": {
     "end_time": "2019-08-23T19:37:34.533202Z",
     "start_time": "2019-08-23T19:37:34.526805Z"
    },
    "hidden": true
   },
   "outputs": [],
   "source": [
    "df2.rename(columns={'index':'gene_id'}, inplace=True)"
   ]
  },
  {
   "cell_type": "code",
   "execution_count": 27,
   "metadata": {
    "ExecuteTime": {
     "end_time": "2019-09-04T03:33:09.530737Z",
     "start_time": "2019-09-04T03:33:09.505250Z"
    },
    "hidden": true
   },
   "outputs": [
    {
     "ename": "NameError",
     "evalue": "name 'gene_lookup' is not defined",
     "output_type": "error",
     "traceback": [
      "\u001b[0;31m---------------------------------------------------------------------------\u001b[0m",
      "\u001b[0;31mNameError\u001b[0m                                 Traceback (most recent call last)",
      "\u001b[0;32m<ipython-input-27-b83dca0bdefd>\u001b[0m in \u001b[0;36m<module>\u001b[0;34m()\u001b[0m\n\u001b[0;32m----> 1\u001b[0;31m \u001b[0mgene_lookup\u001b[0m\u001b[0;34m.\u001b[0m\u001b[0mhead\u001b[0m\u001b[0;34m(\u001b[0m\u001b[0;34m)\u001b[0m\u001b[0;34m\u001b[0m\u001b[0m\n\u001b[0m",
      "\u001b[0;31mNameError\u001b[0m: name 'gene_lookup' is not defined"
     ]
    }
   ],
   "source": [
    "gene_lookup.head()"
   ]
  },
  {
   "cell_type": "code",
   "execution_count": 231,
   "metadata": {
    "ExecuteTime": {
     "end_time": "2019-08-23T19:37:42.243910Z",
     "start_time": "2019-08-23T19:37:42.204457Z"
    },
    "hidden": true
   },
   "outputs": [],
   "source": [
    "df2 = pd.merge(df2,gene_lookup, how='inner', on='gene_id')"
   ]
  },
  {
   "cell_type": "code",
   "execution_count": 232,
   "metadata": {
    "ExecuteTime": {
     "end_time": "2019-08-23T19:37:44.966845Z",
     "start_time": "2019-08-23T19:37:44.962276Z"
    },
    "hidden": true
   },
   "outputs": [
    {
     "data": {
      "text/plain": [
       "Index(['gene_id', 'S01', 'S02', 'S03', 'S04', 'S05', 'S06', 'S07', 'S08', 'S09', 'S10', 'S11', 'S12', 'S13', 'S14', 'S15', 'S16', 'S17', 'S18', 'S19', 'S20', 'S21', 'S22', 'gene_name'], dtype='object')"
      ]
     },
     "execution_count": 232,
     "metadata": {},
     "output_type": "execute_result"
    }
   ],
   "source": [
    "df2.columns"
   ]
  },
  {
   "cell_type": "code",
   "execution_count": 233,
   "metadata": {
    "ExecuteTime": {
     "end_time": "2019-08-23T19:37:50.572594Z",
     "start_time": "2019-08-23T19:37:50.562253Z"
    },
    "hidden": true
   },
   "outputs": [],
   "source": [
    "df2=df2[['gene_id','gene_name', 'S01', 'S02', 'S03', 'S04', 'S05', 'S06', 'S07', 'S08', 'S09', 'S10', 'S11', \n",
    "         'S12', 'S13', 'S14', 'S15', 'S16', 'S17', 'S18', 'S19', 'S20', 'S21', 'S22']]"
   ]
  },
  {
   "cell_type": "code",
   "execution_count": 224,
   "metadata": {
    "ExecuteTime": {
     "end_time": "2019-08-23T19:33:50.908286Z",
     "start_time": "2019-08-23T19:33:50.898407Z"
    },
    "hidden": true
   },
   "outputs": [
    {
     "name": "stdout",
     "output_type": "stream",
     "text": [
      "/gpfs/commons/groups/sanjana_lab/cdai/TFscreen/data/20190816/star/counts\n"
     ]
    }
   ],
   "source": [
    "cd counts/"
   ]
  },
  {
   "cell_type": "code",
   "execution_count": 235,
   "metadata": {
    "ExecuteTime": {
     "end_time": "2019-08-23T19:38:17.796020Z",
     "start_time": "2019-08-23T19:38:17.206617Z"
    },
    "hidden": true
   },
   "outputs": [],
   "source": [
    "df2.to_csv('HighlyExpressedGenes.csv', index=False)"
   ]
  },
  {
   "cell_type": "code",
   "execution_count": 234,
   "metadata": {
    "ExecuteTime": {
     "end_time": "2019-08-23T19:38:14.371267Z",
     "start_time": "2019-08-23T19:38:14.338767Z"
    },
    "hidden": true
   },
   "outputs": [
    {
     "data": {
      "text/html": [
       "<div>\n",
       "<style scoped>\n",
       "    .dataframe tbody tr th:only-of-type {\n",
       "        vertical-align: middle;\n",
       "    }\n",
       "\n",
       "    .dataframe tbody tr th {\n",
       "        vertical-align: top;\n",
       "    }\n",
       "\n",
       "    .dataframe thead th {\n",
       "        text-align: right;\n",
       "    }\n",
       "</style>\n",
       "<table border=\"1\" class=\"dataframe\">\n",
       "  <thead>\n",
       "    <tr style=\"text-align: right;\">\n",
       "      <th></th>\n",
       "      <th>gene_id</th>\n",
       "      <th>gene_name</th>\n",
       "      <th>S01</th>\n",
       "      <th>S02</th>\n",
       "      <th>S03</th>\n",
       "      <th>S04</th>\n",
       "      <th>S05</th>\n",
       "      <th>S06</th>\n",
       "      <th>S07</th>\n",
       "      <th>S08</th>\n",
       "      <th>S09</th>\n",
       "      <th>S10</th>\n",
       "      <th>S11</th>\n",
       "      <th>S12</th>\n",
       "      <th>S13</th>\n",
       "      <th>S14</th>\n",
       "      <th>S15</th>\n",
       "      <th>S16</th>\n",
       "      <th>S17</th>\n",
       "      <th>S18</th>\n",
       "      <th>S19</th>\n",
       "      <th>S20</th>\n",
       "      <th>S21</th>\n",
       "      <th>S22</th>\n",
       "    </tr>\n",
       "  </thead>\n",
       "  <tbody>\n",
       "    <tr>\n",
       "      <th>0</th>\n",
       "      <td>ENSG00000268903.1</td>\n",
       "      <td>AL627309.6</td>\n",
       "      <td>3</td>\n",
       "      <td>1</td>\n",
       "      <td>14</td>\n",
       "      <td>5</td>\n",
       "      <td>0</td>\n",
       "      <td>0</td>\n",
       "      <td>0</td>\n",
       "      <td>7</td>\n",
       "      <td>0</td>\n",
       "      <td>2</td>\n",
       "      <td>33</td>\n",
       "      <td>0</td>\n",
       "      <td>0</td>\n",
       "      <td>0</td>\n",
       "      <td>0</td>\n",
       "      <td>4</td>\n",
       "      <td>0</td>\n",
       "      <td>0</td>\n",
       "      <td>0</td>\n",
       "      <td>0</td>\n",
       "      <td>0</td>\n",
       "      <td>0</td>\n",
       "    </tr>\n",
       "    <tr>\n",
       "      <th>1</th>\n",
       "      <td>ENSG00000225972.1</td>\n",
       "      <td>MTND1P23</td>\n",
       "      <td>7</td>\n",
       "      <td>1</td>\n",
       "      <td>9</td>\n",
       "      <td>1</td>\n",
       "      <td>4</td>\n",
       "      <td>1</td>\n",
       "      <td>1</td>\n",
       "      <td>5</td>\n",
       "      <td>3</td>\n",
       "      <td>1</td>\n",
       "      <td>6</td>\n",
       "      <td>3</td>\n",
       "      <td>7</td>\n",
       "      <td>35</td>\n",
       "      <td>0</td>\n",
       "      <td>18</td>\n",
       "      <td>3</td>\n",
       "      <td>1</td>\n",
       "      <td>4</td>\n",
       "      <td>1</td>\n",
       "      <td>2</td>\n",
       "      <td>6</td>\n",
       "    </tr>\n",
       "    <tr>\n",
       "      <th>2</th>\n",
       "      <td>ENSG00000225630.1</td>\n",
       "      <td>MTND2P28</td>\n",
       "      <td>45</td>\n",
       "      <td>41</td>\n",
       "      <td>37</td>\n",
       "      <td>53</td>\n",
       "      <td>32</td>\n",
       "      <td>17</td>\n",
       "      <td>3</td>\n",
       "      <td>30</td>\n",
       "      <td>35</td>\n",
       "      <td>18</td>\n",
       "      <td>3</td>\n",
       "      <td>12</td>\n",
       "      <td>264</td>\n",
       "      <td>5</td>\n",
       "      <td>78</td>\n",
       "      <td>114</td>\n",
       "      <td>2</td>\n",
       "      <td>211</td>\n",
       "      <td>51</td>\n",
       "      <td>3</td>\n",
       "      <td>11</td>\n",
       "      <td>34</td>\n",
       "    </tr>\n",
       "    <tr>\n",
       "      <th>3</th>\n",
       "      <td>ENSG00000248527.1</td>\n",
       "      <td>MTATP6P1</td>\n",
       "      <td>5157</td>\n",
       "      <td>7617</td>\n",
       "      <td>7441</td>\n",
       "      <td>4834</td>\n",
       "      <td>4620</td>\n",
       "      <td>4847</td>\n",
       "      <td>1766</td>\n",
       "      <td>3031</td>\n",
       "      <td>2902</td>\n",
       "      <td>1532</td>\n",
       "      <td>4335</td>\n",
       "      <td>5296</td>\n",
       "      <td>5244</td>\n",
       "      <td>2241</td>\n",
       "      <td>3428</td>\n",
       "      <td>6053</td>\n",
       "      <td>4469</td>\n",
       "      <td>5969</td>\n",
       "      <td>2882</td>\n",
       "      <td>1574</td>\n",
       "      <td>2425</td>\n",
       "      <td>2708</td>\n",
       "    </tr>\n",
       "    <tr>\n",
       "      <th>4</th>\n",
       "      <td>ENSG00000198744.5</td>\n",
       "      <td>MTCO3P12</td>\n",
       "      <td>3</td>\n",
       "      <td>7</td>\n",
       "      <td>8</td>\n",
       "      <td>4</td>\n",
       "      <td>5</td>\n",
       "      <td>2</td>\n",
       "      <td>1</td>\n",
       "      <td>2</td>\n",
       "      <td>1</td>\n",
       "      <td>1</td>\n",
       "      <td>2</td>\n",
       "      <td>6</td>\n",
       "      <td>3</td>\n",
       "      <td>0</td>\n",
       "      <td>24</td>\n",
       "      <td>4</td>\n",
       "      <td>0</td>\n",
       "      <td>0</td>\n",
       "      <td>4</td>\n",
       "      <td>4</td>\n",
       "      <td>0</td>\n",
       "      <td>2</td>\n",
       "    </tr>\n",
       "  </tbody>\n",
       "</table>\n",
       "</div>"
      ],
      "text/plain": [
       "             gene_id   gene_name   S01   S02   S03   S04   S05   S06   S07   S08   S09   S10   S11   S12   S13   S14   S15   S16   S17   S18   S19   S20   S21   S22\n",
       "0  ENSG00000268903.1  AL627309.6     3     1    14     5     0     0     0     7     0     2    33     0     0     0     0     4     0     0     0     0     0     0\n",
       "1  ENSG00000225972.1    MTND1P23     7     1     9     1     4     1     1     5     3     1     6     3     7    35     0    18     3     1     4     1     2     6\n",
       "2  ENSG00000225630.1    MTND2P28    45    41    37    53    32    17     3    30    35    18     3    12   264     5    78   114     2   211    51     3    11    34\n",
       "3  ENSG00000248527.1    MTATP6P1  5157  7617  7441  4834  4620  4847  1766  3031  2902  1532  4335  5296  5244  2241  3428  6053  4469  5969  2882  1574  2425  2708\n",
       "4  ENSG00000198744.5    MTCO3P12     3     7     8     4     5     2     1     2     1     1     2     6     3     0    24     4     0     0     4     4     0     2"
      ]
     },
     "execution_count": 234,
     "metadata": {},
     "output_type": "execute_result"
    }
   ],
   "source": [
    "df2.head()"
   ]
  },
  {
   "cell_type": "code",
   "execution_count": 181,
   "metadata": {
    "ExecuteTime": {
     "end_time": "2019-08-23T03:22:17.146889Z",
     "start_time": "2019-08-23T03:22:17.111111Z"
    },
    "hidden": true
   },
   "outputs": [
    {
     "data": {
      "text/html": [
       "<div>\n",
       "<style scoped>\n",
       "    .dataframe tbody tr th:only-of-type {\n",
       "        vertical-align: middle;\n",
       "    }\n",
       "\n",
       "    .dataframe tbody tr th {\n",
       "        vertical-align: top;\n",
       "    }\n",
       "\n",
       "    .dataframe thead th {\n",
       "        text-align: right;\n",
       "    }\n",
       "</style>\n",
       "<table border=\"1\" class=\"dataframe\">\n",
       "  <thead>\n",
       "    <tr style=\"text-align: right;\">\n",
       "      <th></th>\n",
       "      <th>S01</th>\n",
       "      <th>S02</th>\n",
       "      <th>S03</th>\n",
       "      <th>S04</th>\n",
       "      <th>S05</th>\n",
       "      <th>S06</th>\n",
       "      <th>S07</th>\n",
       "      <th>S08</th>\n",
       "      <th>S09</th>\n",
       "      <th>S10</th>\n",
       "      <th>S11</th>\n",
       "      <th>S12</th>\n",
       "      <th>S13</th>\n",
       "      <th>S14</th>\n",
       "      <th>S15</th>\n",
       "      <th>S16</th>\n",
       "      <th>S17</th>\n",
       "      <th>S18</th>\n",
       "      <th>S19</th>\n",
       "      <th>S20</th>\n",
       "      <th>S21</th>\n",
       "      <th>S22</th>\n",
       "    </tr>\n",
       "    <tr>\n",
       "      <th>gene_name</th>\n",
       "      <th></th>\n",
       "      <th></th>\n",
       "      <th></th>\n",
       "      <th></th>\n",
       "      <th></th>\n",
       "      <th></th>\n",
       "      <th></th>\n",
       "      <th></th>\n",
       "      <th></th>\n",
       "      <th></th>\n",
       "      <th></th>\n",
       "      <th></th>\n",
       "      <th></th>\n",
       "      <th></th>\n",
       "      <th></th>\n",
       "      <th></th>\n",
       "      <th></th>\n",
       "      <th></th>\n",
       "      <th></th>\n",
       "      <th></th>\n",
       "      <th></th>\n",
       "      <th></th>\n",
       "    </tr>\n",
       "  </thead>\n",
       "  <tbody>\n",
       "    <tr>\n",
       "      <th>AAAS</th>\n",
       "      <td>169</td>\n",
       "      <td>200</td>\n",
       "      <td>113</td>\n",
       "      <td>48</td>\n",
       "      <td>178</td>\n",
       "      <td>168</td>\n",
       "      <td>80</td>\n",
       "      <td>97</td>\n",
       "      <td>135</td>\n",
       "      <td>68</td>\n",
       "      <td>168</td>\n",
       "      <td>149</td>\n",
       "      <td>92</td>\n",
       "      <td>92</td>\n",
       "      <td>62</td>\n",
       "      <td>117</td>\n",
       "      <td>19</td>\n",
       "      <td>55</td>\n",
       "      <td>51</td>\n",
       "      <td>78</td>\n",
       "      <td>85</td>\n",
       "      <td>34</td>\n",
       "    </tr>\n",
       "    <tr>\n",
       "      <th>AACS</th>\n",
       "      <td>126</td>\n",
       "      <td>170</td>\n",
       "      <td>140</td>\n",
       "      <td>126</td>\n",
       "      <td>97</td>\n",
       "      <td>180</td>\n",
       "      <td>158</td>\n",
       "      <td>205</td>\n",
       "      <td>181</td>\n",
       "      <td>39</td>\n",
       "      <td>132</td>\n",
       "      <td>137</td>\n",
       "      <td>161</td>\n",
       "      <td>171</td>\n",
       "      <td>104</td>\n",
       "      <td>157</td>\n",
       "      <td>41</td>\n",
       "      <td>72</td>\n",
       "      <td>201</td>\n",
       "      <td>263</td>\n",
       "      <td>87</td>\n",
       "      <td>94</td>\n",
       "    </tr>\n",
       "    <tr>\n",
       "      <th>AAGAB</th>\n",
       "      <td>180</td>\n",
       "      <td>96</td>\n",
       "      <td>107</td>\n",
       "      <td>94</td>\n",
       "      <td>99</td>\n",
       "      <td>95</td>\n",
       "      <td>197</td>\n",
       "      <td>118</td>\n",
       "      <td>125</td>\n",
       "      <td>49</td>\n",
       "      <td>165</td>\n",
       "      <td>136</td>\n",
       "      <td>220</td>\n",
       "      <td>293</td>\n",
       "      <td>231</td>\n",
       "      <td>120</td>\n",
       "      <td>212</td>\n",
       "      <td>237</td>\n",
       "      <td>220</td>\n",
       "      <td>319</td>\n",
       "      <td>120</td>\n",
       "      <td>240</td>\n",
       "    </tr>\n",
       "    <tr>\n",
       "      <th>AAK1</th>\n",
       "      <td>44</td>\n",
       "      <td>48</td>\n",
       "      <td>75</td>\n",
       "      <td>44</td>\n",
       "      <td>39</td>\n",
       "      <td>59</td>\n",
       "      <td>164</td>\n",
       "      <td>177</td>\n",
       "      <td>84</td>\n",
       "      <td>48</td>\n",
       "      <td>221</td>\n",
       "      <td>139</td>\n",
       "      <td>98</td>\n",
       "      <td>45</td>\n",
       "      <td>49</td>\n",
       "      <td>40</td>\n",
       "      <td>120</td>\n",
       "      <td>118</td>\n",
       "      <td>34</td>\n",
       "      <td>122</td>\n",
       "      <td>286</td>\n",
       "      <td>228</td>\n",
       "    </tr>\n",
       "    <tr>\n",
       "      <th>AAMDC</th>\n",
       "      <td>88</td>\n",
       "      <td>77</td>\n",
       "      <td>55</td>\n",
       "      <td>58</td>\n",
       "      <td>126</td>\n",
       "      <td>130</td>\n",
       "      <td>105</td>\n",
       "      <td>119</td>\n",
       "      <td>71</td>\n",
       "      <td>36</td>\n",
       "      <td>48</td>\n",
       "      <td>46</td>\n",
       "      <td>101</td>\n",
       "      <td>142</td>\n",
       "      <td>145</td>\n",
       "      <td>67</td>\n",
       "      <td>87</td>\n",
       "      <td>83</td>\n",
       "      <td>78</td>\n",
       "      <td>81</td>\n",
       "      <td>49</td>\n",
       "      <td>12</td>\n",
       "    </tr>\n",
       "  </tbody>\n",
       "</table>\n",
       "</div>"
      ],
      "text/plain": [
       "           S01  S02  S03  S04  S05  S06  S07  S08  S09  S10  S11  S12  S13  S14  S15  S16  S17  S18  S19  S20  S21  S22\n",
       "gene_name                                                                                                              \n",
       "AAAS       169  200  113   48  178  168   80   97  135   68  168  149   92   92   62  117   19   55   51   78   85   34\n",
       "AACS       126  170  140  126   97  180  158  205  181   39  132  137  161  171  104  157   41   72  201  263   87   94\n",
       "AAGAB      180   96  107   94   99   95  197  118  125   49  165  136  220  293  231  120  212  237  220  319  120  240\n",
       "AAK1        44   48   75   44   39   59  164  177   84   48  221  139   98   45   49   40  120  118   34  122  286  228\n",
       "AAMDC       88   77   55   58  126  130  105  119   71   36   48   46  101  142  145   67   87   83   78   81   49   12"
      ]
     },
     "execution_count": 181,
     "metadata": {},
     "output_type": "execute_result"
    }
   ],
   "source": [
    "df2.groupby('gene_name').sum().head()"
   ]
  },
  {
   "cell_type": "code",
   "execution_count": 174,
   "metadata": {
    "ExecuteTime": {
     "end_time": "2019-08-23T03:18:14.038581Z",
     "start_time": "2019-08-23T03:18:14.010596Z"
    },
    "hidden": true
   },
   "outputs": [
    {
     "data": {
      "text/plain": [
       "gene_name\n",
       "HSPA14     2\n",
       "ZYX        1\n",
       "GORASP2    1\n",
       "GOLGA8A    1\n",
       "GOLGB1     1\n",
       "          ..\n",
       "PUM3       1\n",
       "PURB       1\n",
       "PUS1       1\n",
       "PUS3       1\n",
       "AAAS       1\n",
       "Name: gene_id, Length: 7008, dtype: int64"
      ]
     },
     "execution_count": 174,
     "metadata": {},
     "output_type": "execute_result"
    }
   ],
   "source": [
    "df2.groupby('gene_name')['gene_id'].size().sort_values(ascending=False)"
   ]
  },
  {
   "cell_type": "markdown",
   "metadata": {
    "heading_collapsed": true
   },
   "source": [
    "# All read counts adding gene names, export to csv"
   ]
  },
  {
   "cell_type": "code",
   "execution_count": 237,
   "metadata": {
    "ExecuteTime": {
     "end_time": "2019-08-23T19:57:40.472883Z",
     "start_time": "2019-08-23T19:57:40.330835Z"
    },
    "hidden": true
   },
   "outputs": [],
   "source": [
    "df3 = pd.read_csv('TFsc_rnaseq_cnts.csv')"
   ]
  },
  {
   "cell_type": "code",
   "execution_count": 249,
   "metadata": {
    "ExecuteTime": {
     "end_time": "2019-08-23T20:11:57.491547Z",
     "start_time": "2019-08-23T20:11:57.472847Z"
    },
    "hidden": true
   },
   "outputs": [
    {
     "data": {
      "text/html": [
       "<div>\n",
       "<style scoped>\n",
       "    .dataframe tbody tr th:only-of-type {\n",
       "        vertical-align: middle;\n",
       "    }\n",
       "\n",
       "    .dataframe tbody tr th {\n",
       "        vertical-align: top;\n",
       "    }\n",
       "\n",
       "    .dataframe thead th {\n",
       "        text-align: right;\n",
       "    }\n",
       "</style>\n",
       "<table border=\"1\" class=\"dataframe\">\n",
       "  <thead>\n",
       "    <tr style=\"text-align: right;\">\n",
       "      <th></th>\n",
       "      <th>gene_id</th>\n",
       "      <th>gene_name</th>\n",
       "      <th>S01</th>\n",
       "      <th>S02</th>\n",
       "      <th>S03</th>\n",
       "      <th>S04</th>\n",
       "      <th>S05</th>\n",
       "      <th>S06</th>\n",
       "      <th>S07</th>\n",
       "      <th>S08</th>\n",
       "      <th>S09</th>\n",
       "      <th>S10</th>\n",
       "      <th>S11</th>\n",
       "      <th>S12</th>\n",
       "      <th>S13</th>\n",
       "      <th>S14</th>\n",
       "      <th>S15</th>\n",
       "      <th>S16</th>\n",
       "      <th>S17</th>\n",
       "      <th>S18</th>\n",
       "      <th>S19</th>\n",
       "      <th>S20</th>\n",
       "      <th>S21</th>\n",
       "      <th>S22</th>\n",
       "    </tr>\n",
       "  </thead>\n",
       "  <tbody>\n",
       "    <tr>\n",
       "      <th>0</th>\n",
       "      <td>ENSG00000223972.5</td>\n",
       "      <td>DDX11L1</td>\n",
       "      <td>0</td>\n",
       "      <td>0</td>\n",
       "      <td>0</td>\n",
       "      <td>0</td>\n",
       "      <td>0</td>\n",
       "      <td>0</td>\n",
       "      <td>0</td>\n",
       "      <td>0</td>\n",
       "      <td>0</td>\n",
       "      <td>0</td>\n",
       "      <td>0</td>\n",
       "      <td>0</td>\n",
       "      <td>0</td>\n",
       "      <td>0</td>\n",
       "      <td>0</td>\n",
       "      <td>0</td>\n",
       "      <td>0</td>\n",
       "      <td>0</td>\n",
       "      <td>0</td>\n",
       "      <td>0</td>\n",
       "      <td>0</td>\n",
       "      <td>0</td>\n",
       "    </tr>\n",
       "    <tr>\n",
       "      <th>1</th>\n",
       "      <td>ENSG00000227232.5</td>\n",
       "      <td>WASH7P</td>\n",
       "      <td>0</td>\n",
       "      <td>0</td>\n",
       "      <td>0</td>\n",
       "      <td>0</td>\n",
       "      <td>0</td>\n",
       "      <td>0</td>\n",
       "      <td>0</td>\n",
       "      <td>0</td>\n",
       "      <td>0</td>\n",
       "      <td>0</td>\n",
       "      <td>0</td>\n",
       "      <td>0</td>\n",
       "      <td>0</td>\n",
       "      <td>0</td>\n",
       "      <td>0</td>\n",
       "      <td>0</td>\n",
       "      <td>0</td>\n",
       "      <td>0</td>\n",
       "      <td>0</td>\n",
       "      <td>0</td>\n",
       "      <td>0</td>\n",
       "      <td>0</td>\n",
       "    </tr>\n",
       "    <tr>\n",
       "      <th>2</th>\n",
       "      <td>ENSG00000278267.1</td>\n",
       "      <td>MIR6859-1</td>\n",
       "      <td>0</td>\n",
       "      <td>0</td>\n",
       "      <td>0</td>\n",
       "      <td>0</td>\n",
       "      <td>0</td>\n",
       "      <td>0</td>\n",
       "      <td>0</td>\n",
       "      <td>0</td>\n",
       "      <td>0</td>\n",
       "      <td>0</td>\n",
       "      <td>0</td>\n",
       "      <td>0</td>\n",
       "      <td>0</td>\n",
       "      <td>0</td>\n",
       "      <td>0</td>\n",
       "      <td>0</td>\n",
       "      <td>0</td>\n",
       "      <td>0</td>\n",
       "      <td>0</td>\n",
       "      <td>0</td>\n",
       "      <td>0</td>\n",
       "      <td>0</td>\n",
       "    </tr>\n",
       "    <tr>\n",
       "      <th>3</th>\n",
       "      <td>ENSG00000243485.5</td>\n",
       "      <td>MIR1302-2HG</td>\n",
       "      <td>0</td>\n",
       "      <td>0</td>\n",
       "      <td>0</td>\n",
       "      <td>0</td>\n",
       "      <td>0</td>\n",
       "      <td>1</td>\n",
       "      <td>0</td>\n",
       "      <td>0</td>\n",
       "      <td>0</td>\n",
       "      <td>0</td>\n",
       "      <td>0</td>\n",
       "      <td>0</td>\n",
       "      <td>0</td>\n",
       "      <td>0</td>\n",
       "      <td>0</td>\n",
       "      <td>0</td>\n",
       "      <td>0</td>\n",
       "      <td>0</td>\n",
       "      <td>0</td>\n",
       "      <td>0</td>\n",
       "      <td>0</td>\n",
       "      <td>0</td>\n",
       "    </tr>\n",
       "    <tr>\n",
       "      <th>4</th>\n",
       "      <td>ENSG00000284332.1</td>\n",
       "      <td>MIR1302-2</td>\n",
       "      <td>0</td>\n",
       "      <td>0</td>\n",
       "      <td>0</td>\n",
       "      <td>0</td>\n",
       "      <td>0</td>\n",
       "      <td>0</td>\n",
       "      <td>0</td>\n",
       "      <td>0</td>\n",
       "      <td>0</td>\n",
       "      <td>0</td>\n",
       "      <td>0</td>\n",
       "      <td>0</td>\n",
       "      <td>0</td>\n",
       "      <td>0</td>\n",
       "      <td>0</td>\n",
       "      <td>0</td>\n",
       "      <td>0</td>\n",
       "      <td>0</td>\n",
       "      <td>0</td>\n",
       "      <td>0</td>\n",
       "      <td>0</td>\n",
       "      <td>0</td>\n",
       "    </tr>\n",
       "  </tbody>\n",
       "</table>\n",
       "</div>"
      ],
      "text/plain": [
       "             gene_id    gene_name  S01  S02  S03  S04  S05  S06  S07  S08  S09  S10  S11  S12  S13  S14  S15  S16  S17  S18  S19  S20  S21  S22\n",
       "0  ENSG00000223972.5      DDX11L1    0    0    0    0    0    0    0    0    0    0    0    0    0    0    0    0    0    0    0    0    0    0\n",
       "1  ENSG00000227232.5       WASH7P    0    0    0    0    0    0    0    0    0    0    0    0    0    0    0    0    0    0    0    0    0    0\n",
       "2  ENSG00000278267.1    MIR6859-1    0    0    0    0    0    0    0    0    0    0    0    0    0    0    0    0    0    0    0    0    0    0\n",
       "3  ENSG00000243485.5  MIR1302-2HG    0    0    0    0    0    1    0    0    0    0    0    0    0    0    0    0    0    0    0    0    0    0\n",
       "4  ENSG00000284332.1    MIR1302-2    0    0    0    0    0    0    0    0    0    0    0    0    0    0    0    0    0    0    0    0    0    0"
      ]
     },
     "execution_count": 249,
     "metadata": {},
     "output_type": "execute_result"
    }
   ],
   "source": [
    "df3.head()"
   ]
  },
  {
   "cell_type": "code",
   "execution_count": 239,
   "metadata": {
    "ExecuteTime": {
     "end_time": "2019-08-23T20:01:03.997404Z",
     "start_time": "2019-08-23T20:01:03.993269Z"
    },
    "hidden": true
   },
   "outputs": [],
   "source": [
    "df3.reset_index(inplace=True)"
   ]
  },
  {
   "cell_type": "code",
   "execution_count": 240,
   "metadata": {
    "ExecuteTime": {
     "end_time": "2019-08-23T20:01:13.346049Z",
     "start_time": "2019-08-23T20:01:13.336211Z"
    },
    "hidden": true
   },
   "outputs": [],
   "source": [
    "df3.rename(columns={'index':'gene_id'}, inplace=True)"
   ]
  },
  {
   "cell_type": "code",
   "execution_count": 241,
   "metadata": {
    "ExecuteTime": {
     "end_time": "2019-08-23T20:03:09.557314Z",
     "start_time": "2019-08-23T20:03:09.492491Z"
    },
    "hidden": true
   },
   "outputs": [],
   "source": [
    "df3 = pd.merge(df3,gene_lookup, how='inner', on='gene_id')"
   ]
  },
  {
   "cell_type": "code",
   "execution_count": 244,
   "metadata": {
    "ExecuteTime": {
     "end_time": "2019-08-23T20:07:14.916300Z",
     "start_time": "2019-08-23T20:07:14.898565Z"
    },
    "hidden": true
   },
   "outputs": [],
   "source": [
    "df3=df3[['gene_id','gene_name', 'S01', 'S02', 'S03', 'S04', 'S05', 'S06', 'S07', 'S08', 'S09', 'S10', 'S11', \n",
    "         'S12', 'S13', 'S14', 'S15', 'S16', 'S17', 'S18', 'S19', 'S20', 'S21', 'S22']]"
   ]
  },
  {
   "cell_type": "code",
   "execution_count": 247,
   "metadata": {
    "ExecuteTime": {
     "end_time": "2019-08-23T20:08:00.686091Z",
     "start_time": "2019-08-23T20:08:00.577851Z"
    },
    "hidden": true
   },
   "outputs": [
    {
     "data": {
      "text/plain": [
       "gene_name\n",
       "RF00019     758\n",
       "RF00017     170\n",
       "RF00012      51\n",
       "RF00026      37\n",
       "RF02271      36\n",
       "           ... \n",
       "MRFAP1L1      1\n",
       "MRFAP1        1\n",
       "MREGP1        1\n",
       "MREG          1\n",
       "A1BG          1\n",
       "Name: gene_id, Length: 59087, dtype: int64"
      ]
     },
     "execution_count": 247,
     "metadata": {},
     "output_type": "execute_result"
    }
   ],
   "source": [
    "df3.groupby('gene_name')['gene_id'].size().sort_values(ascending=False)"
   ]
  },
  {
   "cell_type": "code",
   "execution_count": 250,
   "metadata": {
    "ExecuteTime": {
     "end_time": "2019-08-23T20:12:41.797389Z",
     "start_time": "2019-08-23T20:12:39.927525Z"
    },
    "hidden": true
   },
   "outputs": [],
   "source": [
    "df3.to_csv('RNAseq_allgene_cnts.csv', index=False)"
   ]
  },
  {
   "cell_type": "markdown",
   "metadata": {
    "heading_collapsed": true
   },
   "source": [
    "# read counts for genes in the intersection of td-/td+ vs. td-/dox 120 genes, export csv"
   ]
  },
  {
   "cell_type": "code",
   "execution_count": 263,
   "metadata": {
    "ExecuteTime": {
     "end_time": "2019-08-23T20:26:19.647980Z",
     "start_time": "2019-08-23T20:26:19.636870Z"
    },
    "hidden": true
   },
   "outputs": [],
   "source": [
    "intersection120_genes = pd.read_csv('/c/groups/sanjana_lab/cdai/TFscreen/HS_td-VStd+_td-VSdox120.csv', header=None)[0]"
   ]
  },
  {
   "cell_type": "code",
   "execution_count": 282,
   "metadata": {
    "ExecuteTime": {
     "end_time": "2019-08-23T20:32:51.610065Z",
     "start_time": "2019-08-23T20:32:51.602603Z"
    },
    "hidden": true
   },
   "outputs": [],
   "source": [
    "df4 = df3[df3.gene_name.isin(intersection120_genes)]"
   ]
  },
  {
   "cell_type": "code",
   "execution_count": 285,
   "metadata": {
    "ExecuteTime": {
     "end_time": "2019-08-23T20:33:09.504626Z",
     "start_time": "2019-08-23T20:33:09.485846Z"
    },
    "hidden": true
   },
   "outputs": [
    {
     "data": {
      "text/html": [
       "<div>\n",
       "<style scoped>\n",
       "    .dataframe tbody tr th:only-of-type {\n",
       "        vertical-align: middle;\n",
       "    }\n",
       "\n",
       "    .dataframe tbody tr th {\n",
       "        vertical-align: top;\n",
       "    }\n",
       "\n",
       "    .dataframe thead th {\n",
       "        text-align: right;\n",
       "    }\n",
       "</style>\n",
       "<table border=\"1\" class=\"dataframe\">\n",
       "  <thead>\n",
       "    <tr style=\"text-align: right;\">\n",
       "      <th></th>\n",
       "      <th>gene_id</th>\n",
       "      <th>gene_name</th>\n",
       "      <th>S01</th>\n",
       "      <th>S02</th>\n",
       "      <th>S03</th>\n",
       "      <th>S04</th>\n",
       "      <th>S05</th>\n",
       "      <th>S06</th>\n",
       "      <th>S07</th>\n",
       "      <th>S08</th>\n",
       "      <th>S09</th>\n",
       "      <th>S10</th>\n",
       "      <th>S11</th>\n",
       "      <th>S12</th>\n",
       "      <th>S13</th>\n",
       "      <th>S14</th>\n",
       "      <th>S15</th>\n",
       "      <th>S16</th>\n",
       "      <th>S17</th>\n",
       "      <th>S18</th>\n",
       "      <th>S19</th>\n",
       "      <th>S20</th>\n",
       "      <th>S21</th>\n",
       "      <th>S22</th>\n",
       "    </tr>\n",
       "  </thead>\n",
       "  <tbody>\n",
       "    <tr>\n",
       "      <th>152</th>\n",
       "      <td>ENSG00000157933.10</td>\n",
       "      <td>SKI</td>\n",
       "      <td>117</td>\n",
       "      <td>151</td>\n",
       "      <td>128</td>\n",
       "      <td>135</td>\n",
       "      <td>185</td>\n",
       "      <td>123</td>\n",
       "      <td>99</td>\n",
       "      <td>183</td>\n",
       "      <td>109</td>\n",
       "      <td>81</td>\n",
       "      <td>47</td>\n",
       "      <td>78</td>\n",
       "      <td>141</td>\n",
       "      <td>180</td>\n",
       "      <td>119</td>\n",
       "      <td>84</td>\n",
       "      <td>35</td>\n",
       "      <td>93</td>\n",
       "      <td>122</td>\n",
       "      <td>161</td>\n",
       "      <td>37</td>\n",
       "      <td>132</td>\n",
       "    </tr>\n",
       "    <tr>\n",
       "      <th>234</th>\n",
       "      <td>ENSG00000116254.18</td>\n",
       "      <td>CHD5</td>\n",
       "      <td>0</td>\n",
       "      <td>0</td>\n",
       "      <td>1</td>\n",
       "      <td>0</td>\n",
       "      <td>0</td>\n",
       "      <td>1</td>\n",
       "      <td>0</td>\n",
       "      <td>0</td>\n",
       "      <td>0</td>\n",
       "      <td>0</td>\n",
       "      <td>4</td>\n",
       "      <td>2</td>\n",
       "      <td>2</td>\n",
       "      <td>1</td>\n",
       "      <td>0</td>\n",
       "      <td>2</td>\n",
       "      <td>0</td>\n",
       "      <td>0</td>\n",
       "      <td>0</td>\n",
       "      <td>0</td>\n",
       "      <td>0</td>\n",
       "      <td>2</td>\n",
       "    </tr>\n",
       "    <tr>\n",
       "      <th>618</th>\n",
       "      <td>ENSG00000009709.12</td>\n",
       "      <td>PAX7</td>\n",
       "      <td>0</td>\n",
       "      <td>0</td>\n",
       "      <td>1</td>\n",
       "      <td>0</td>\n",
       "      <td>0</td>\n",
       "      <td>0</td>\n",
       "      <td>0</td>\n",
       "      <td>0</td>\n",
       "      <td>0</td>\n",
       "      <td>0</td>\n",
       "      <td>0</td>\n",
       "      <td>7</td>\n",
       "      <td>0</td>\n",
       "      <td>0</td>\n",
       "      <td>0</td>\n",
       "      <td>0</td>\n",
       "      <td>0</td>\n",
       "      <td>0</td>\n",
       "      <td>0</td>\n",
       "      <td>3</td>\n",
       "      <td>1</td>\n",
       "      <td>0</td>\n",
       "    </tr>\n",
       "    <tr>\n",
       "      <th>4079</th>\n",
       "      <td>ENSG00000121454.6</td>\n",
       "      <td>LHX4</td>\n",
       "      <td>11</td>\n",
       "      <td>0</td>\n",
       "      <td>12</td>\n",
       "      <td>0</td>\n",
       "      <td>13</td>\n",
       "      <td>0</td>\n",
       "      <td>76</td>\n",
       "      <td>41</td>\n",
       "      <td>17</td>\n",
       "      <td>15</td>\n",
       "      <td>57</td>\n",
       "      <td>22</td>\n",
       "      <td>0</td>\n",
       "      <td>1</td>\n",
       "      <td>6</td>\n",
       "      <td>0</td>\n",
       "      <td>0</td>\n",
       "      <td>0</td>\n",
       "      <td>12</td>\n",
       "      <td>0</td>\n",
       "      <td>60</td>\n",
       "      <td>103</td>\n",
       "    </tr>\n",
       "    <tr>\n",
       "      <th>5300</th>\n",
       "      <td>ENSG00000179456.10</td>\n",
       "      <td>ZBTB18</td>\n",
       "      <td>60</td>\n",
       "      <td>44</td>\n",
       "      <td>43</td>\n",
       "      <td>13</td>\n",
       "      <td>32</td>\n",
       "      <td>101</td>\n",
       "      <td>648</td>\n",
       "      <td>813</td>\n",
       "      <td>1312</td>\n",
       "      <td>369</td>\n",
       "      <td>883</td>\n",
       "      <td>1237</td>\n",
       "      <td>6</td>\n",
       "      <td>0</td>\n",
       "      <td>594</td>\n",
       "      <td>533</td>\n",
       "      <td>549</td>\n",
       "      <td>532</td>\n",
       "      <td>862</td>\n",
       "      <td>1261</td>\n",
       "      <td>363</td>\n",
       "      <td>534</td>\n",
       "    </tr>\n",
       "  </tbody>\n",
       "</table>\n",
       "</div>"
      ],
      "text/plain": [
       "                 gene_id gene_name  S01  S02  S03  S04  S05  S06  S07  S08   S09  S10  S11   S12  S13  S14  S15  S16  S17  S18  S19   S20  S21  S22\n",
       "152   ENSG00000157933.10       SKI  117  151  128  135  185  123   99  183   109   81   47    78  141  180  119   84   35   93  122   161   37  132\n",
       "234   ENSG00000116254.18      CHD5    0    0    1    0    0    1    0    0     0    0    4     2    2    1    0    2    0    0    0     0    0    2\n",
       "618   ENSG00000009709.12      PAX7    0    0    1    0    0    0    0    0     0    0    0     7    0    0    0    0    0    0    0     3    1    0\n",
       "4079   ENSG00000121454.6      LHX4   11    0   12    0   13    0   76   41    17   15   57    22    0    1    6    0    0    0   12     0   60  103\n",
       "5300  ENSG00000179456.10    ZBTB18   60   44   43   13   32  101  648  813  1312  369  883  1237    6    0  594  533  549  532  862  1261  363  534"
      ]
     },
     "execution_count": 285,
     "metadata": {},
     "output_type": "execute_result"
    }
   ],
   "source": [
    "df4.head()"
   ]
  },
  {
   "cell_type": "code",
   "execution_count": 289,
   "metadata": {
    "ExecuteTime": {
     "end_time": "2019-08-23T20:34:14.397658Z",
     "start_time": "2019-08-23T20:34:14.389117Z"
    },
    "hidden": true
   },
   "outputs": [
    {
     "data": {
      "text/plain": [
       "{'NBPF24', 'ZZZ3'}"
      ]
     },
     "execution_count": 289,
     "metadata": {},
     "output_type": "execute_result"
    }
   ],
   "source": [
    "a=set(df3[df3.gene_name.isin(intersection120_genes)].gene_name)\n",
    "b=set(intersection120_genes)\n",
    "\n",
    "b.difference(a) # notice two genes are have no reads (not passing filter) in RNAseq"
   ]
  },
  {
   "cell_type": "code",
   "execution_count": 288,
   "metadata": {
    "ExecuteTime": {
     "end_time": "2019-08-23T20:34:10.884946Z",
     "start_time": "2019-08-23T20:34:10.859135Z"
    },
    "hidden": true
   },
   "outputs": [],
   "source": [
    "df4.to_csv('RNAseq_tdNeg_120GeneSet_counts.csv', index=False)"
   ]
  },
  {
   "cell_type": "markdown",
   "metadata": {
    "hidden": true
   },
   "source": [
    "---"
   ]
  },
  {
   "cell_type": "code",
   "execution_count": 290,
   "metadata": {
    "ExecuteTime": {
     "end_time": "2019-08-23T20:34:59.543699Z",
     "start_time": "2019-08-23T20:34:59.311412Z"
    },
    "hidden": true
   },
   "outputs": [],
   "source": [
    "!cp 'RNAseq_tdNeg_120GeneSet_counts.csv' /c/groups/sanjana_lab/cdai/TFscreen/syncClusterCloud/"
   ]
  },
  {
   "cell_type": "code",
   "execution_count": 291,
   "metadata": {
    "ExecuteTime": {
     "end_time": "2019-08-23T20:35:09.177396Z",
     "start_time": "2019-08-23T20:35:01.039115Z"
    },
    "hidden": true
   },
   "outputs": [],
   "source": [
    "!bash /c/groups/sanjana_lab/cdai/TFscreen/pushDropbox.sh"
   ]
  },
  {
   "cell_type": "code",
   "execution_count": 299,
   "metadata": {
    "ExecuteTime": {
     "end_time": "2019-08-25T03:47:46.970240Z",
     "start_time": "2019-08-25T03:47:46.487140Z"
    },
    "hidden": true,
    "scrolled": true
   },
   "outputs": [
    {
     "name": "stdout",
     "output_type": "stream",
     "text": [
      "ENCODE_STAR_RSEM_pipeline.sh  \u001b[0m\u001b[4;1;94mS04.stat\u001b[0m/             S08.time\r\n",
      "RSEM.out                      S04.time              S09.genes.results\r\n",
      "rsem.sh                       S05.genes.results     S09.isoforms.results\r\n",
      "S01.genes.results             S05.isoforms.results  \u001b[4;1;94mS09.stat\u001b[0m/\r\n",
      "S01.isoforms.results          \u001b[4;1;94mS05.stat\u001b[0m/             S09.time\r\n",
      "\u001b[4;1;94mS01.stat\u001b[0m/                     S05.time              S10.genes.results\r\n",
      "S01.time                      S06.genes.results     S10.isoforms.results\r\n",
      "S02.genes.results             S06.isoforms.results  \u001b[4;1;94mS10.stat\u001b[0m/\r\n",
      "S02.isoforms.results          \u001b[4;1;94mS06.stat\u001b[0m/             S10.time\r\n",
      "\u001b[4;1;94mS02.stat\u001b[0m/                     S06.time              S11.genes.results\r\n",
      "S02.time                      S07.genes.results     S11.isoforms.results\r\n",
      "S03.genes.results             S07.isoforms.results  \u001b[4;1;94mS11.stat\u001b[0m/\r\n",
      "S03.isoforms.results          \u001b[4;1;94mS07.stat\u001b[0m/             S11.time\r\n",
      "\u001b[4;1;94mS03.stat\u001b[0m/                     S07.time              \u001b[4;1;94mS12.stat\u001b[0m/\r\n",
      "S03.time                      S08.genes.results     \u001b[4;1;94mS12.temp\u001b[0m/\r\n",
      "S04.genes.results             S08.isoforms.results  star_rsem.sh\r\n",
      "S04.isoforms.results          \u001b[4;1;94mS08.stat\u001b[0m/\r\n"
     ]
    }
   ],
   "source": [
    "ls ../../rsem/"
   ]
  },
  {
   "cell_type": "code",
   "execution_count": 300,
   "metadata": {
    "ExecuteTime": {
     "end_time": "2019-08-25T03:48:25.284281Z",
     "start_time": "2019-08-25T03:48:24.995775Z"
    },
    "hidden": true
   },
   "outputs": [],
   "source": [
    "r1 = pd.read_csv('../../rsem/S01.genes.results', sep='\\t')"
   ]
  },
  {
   "cell_type": "code",
   "execution_count": 356,
   "metadata": {
    "ExecuteTime": {
     "end_time": "2019-08-25T04:36:50.748943Z",
     "start_time": "2019-08-25T04:36:50.733071Z"
    },
    "hidden": true,
    "scrolled": false
   },
   "outputs": [
    {
     "data": {
      "text/html": [
       "<div>\n",
       "<style scoped>\n",
       "    .dataframe tbody tr th:only-of-type {\n",
       "        vertical-align: middle;\n",
       "    }\n",
       "\n",
       "    .dataframe tbody tr th {\n",
       "        vertical-align: top;\n",
       "    }\n",
       "\n",
       "    .dataframe thead th {\n",
       "        text-align: right;\n",
       "    }\n",
       "</style>\n",
       "<table border=\"1\" class=\"dataframe\">\n",
       "  <thead>\n",
       "    <tr style=\"text-align: right;\">\n",
       "      <th></th>\n",
       "      <th>gene_id</th>\n",
       "      <th>length</th>\n",
       "      <th>effective_length</th>\n",
       "      <th>expected_count</th>\n",
       "      <th>TPM</th>\n",
       "    </tr>\n",
       "  </thead>\n",
       "  <tbody>\n",
       "    <tr>\n",
       "      <th>0</th>\n",
       "      <td>ENSG00000000003.14</td>\n",
       "      <td>2231.13</td>\n",
       "      <td>2182.98</td>\n",
       "      <td>684.70</td>\n",
       "      <td>62.66</td>\n",
       "    </tr>\n",
       "    <tr>\n",
       "      <th>1</th>\n",
       "      <td>ENSG00000000005.6</td>\n",
       "      <td>1205.00</td>\n",
       "      <td>1156.85</td>\n",
       "      <td>7.00</td>\n",
       "      <td>1.21</td>\n",
       "    </tr>\n",
       "    <tr>\n",
       "      <th>2</th>\n",
       "      <td>ENSG00000000419.12</td>\n",
       "      <td>837.27</td>\n",
       "      <td>789.13</td>\n",
       "      <td>643.05</td>\n",
       "      <td>162.79</td>\n",
       "    </tr>\n",
       "    <tr>\n",
       "      <th>3</th>\n",
       "      <td>ENSG00000000457.14</td>\n",
       "      <td>6308.00</td>\n",
       "      <td>6259.85</td>\n",
       "      <td>10.46</td>\n",
       "      <td>0.33</td>\n",
       "    </tr>\n",
       "    <tr>\n",
       "      <th>4</th>\n",
       "      <td>ENSG00000000460.17</td>\n",
       "      <td>3321.11</td>\n",
       "      <td>3272.96</td>\n",
       "      <td>97.54</td>\n",
       "      <td>5.95</td>\n",
       "    </tr>\n",
       "    <tr>\n",
       "      <th>5</th>\n",
       "      <td>ENSG00000000938.13</td>\n",
       "      <td>1722.14</td>\n",
       "      <td>1673.99</td>\n",
       "      <td>0.00</td>\n",
       "      <td>0.00</td>\n",
       "    </tr>\n",
       "    <tr>\n",
       "      <th>6</th>\n",
       "      <td>ENSG00000000971.15</td>\n",
       "      <td>2587.83</td>\n",
       "      <td>2539.68</td>\n",
       "      <td>0.00</td>\n",
       "      <td>0.00</td>\n",
       "    </tr>\n",
       "    <tr>\n",
       "      <th>7</th>\n",
       "      <td>ENSG00000001036.13</td>\n",
       "      <td>2291.67</td>\n",
       "      <td>2243.52</td>\n",
       "      <td>175.01</td>\n",
       "      <td>15.58</td>\n",
       "    </tr>\n",
       "    <tr>\n",
       "      <th>8</th>\n",
       "      <td>ENSG00000001084.13</td>\n",
       "      <td>3592.32</td>\n",
       "      <td>3544.17</td>\n",
       "      <td>94.00</td>\n",
       "      <td>5.30</td>\n",
       "    </tr>\n",
       "    <tr>\n",
       "      <th>9</th>\n",
       "      <td>ENSG00000001167.14</td>\n",
       "      <td>3811.00</td>\n",
       "      <td>3762.85</td>\n",
       "      <td>105.00</td>\n",
       "      <td>5.57</td>\n",
       "    </tr>\n",
       "  </tbody>\n",
       "</table>\n",
       "</div>"
      ],
      "text/plain": [
       "              gene_id   length  effective_length  expected_count     TPM\n",
       "0  ENSG00000000003.14  2231.13           2182.98          684.70   62.66\n",
       "1   ENSG00000000005.6  1205.00           1156.85            7.00    1.21\n",
       "2  ENSG00000000419.12   837.27            789.13          643.05  162.79\n",
       "3  ENSG00000000457.14  6308.00           6259.85           10.46    0.33\n",
       "4  ENSG00000000460.17  3321.11           3272.96           97.54    5.95\n",
       "5  ENSG00000000938.13  1722.14           1673.99            0.00    0.00\n",
       "6  ENSG00000000971.15  2587.83           2539.68            0.00    0.00\n",
       "7  ENSG00000001036.13  2291.67           2243.52          175.01   15.58\n",
       "8  ENSG00000001084.13  3592.32           3544.17           94.00    5.30\n",
       "9  ENSG00000001167.14  3811.00           3762.85          105.00    5.57"
      ]
     },
     "execution_count": 356,
     "metadata": {},
     "output_type": "execute_result"
    }
   ],
   "source": [
    "r1[['gene_id','length','effective_length','expected_count','TPM']].head(10)"
   ]
  },
  {
   "cell_type": "code",
   "execution_count": 352,
   "metadata": {
    "ExecuteTime": {
     "end_time": "2019-08-25T04:35:03.406583Z",
     "start_time": "2019-08-25T04:35:03.006884Z"
    },
    "hidden": true
   },
   "outputs": [],
   "source": [
    "r2 = pd.read_csv('../../rsem/S02.genes.results', sep='\\t')"
   ]
  },
  {
   "cell_type": "code",
   "execution_count": 357,
   "metadata": {
    "ExecuteTime": {
     "end_time": "2019-08-25T04:36:57.545468Z",
     "start_time": "2019-08-25T04:36:57.518074Z"
    },
    "hidden": true
   },
   "outputs": [
    {
     "data": {
      "text/html": [
       "<div>\n",
       "<style scoped>\n",
       "    .dataframe tbody tr th:only-of-type {\n",
       "        vertical-align: middle;\n",
       "    }\n",
       "\n",
       "    .dataframe tbody tr th {\n",
       "        vertical-align: top;\n",
       "    }\n",
       "\n",
       "    .dataframe thead th {\n",
       "        text-align: right;\n",
       "    }\n",
       "</style>\n",
       "<table border=\"1\" class=\"dataframe\">\n",
       "  <thead>\n",
       "    <tr style=\"text-align: right;\">\n",
       "      <th></th>\n",
       "      <th>gene_id</th>\n",
       "      <th>length</th>\n",
       "      <th>effective_length</th>\n",
       "      <th>expected_count</th>\n",
       "      <th>TPM</th>\n",
       "    </tr>\n",
       "  </thead>\n",
       "  <tbody>\n",
       "    <tr>\n",
       "      <th>0</th>\n",
       "      <td>ENSG00000000003.14</td>\n",
       "      <td>2209.99</td>\n",
       "      <td>2161.58</td>\n",
       "      <td>607.00</td>\n",
       "      <td>59.38</td>\n",
       "    </tr>\n",
       "    <tr>\n",
       "      <th>1</th>\n",
       "      <td>ENSG00000000005.6</td>\n",
       "      <td>873.50</td>\n",
       "      <td>825.09</td>\n",
       "      <td>0.00</td>\n",
       "      <td>0.00</td>\n",
       "    </tr>\n",
       "    <tr>\n",
       "      <th>2</th>\n",
       "      <td>ENSG00000000419.12</td>\n",
       "      <td>987.72</td>\n",
       "      <td>939.31</td>\n",
       "      <td>618.98</td>\n",
       "      <td>139.34</td>\n",
       "    </tr>\n",
       "    <tr>\n",
       "      <th>3</th>\n",
       "      <td>ENSG00000000457.14</td>\n",
       "      <td>6308.00</td>\n",
       "      <td>6259.59</td>\n",
       "      <td>33.44</td>\n",
       "      <td>1.13</td>\n",
       "    </tr>\n",
       "    <tr>\n",
       "      <th>4</th>\n",
       "      <td>ENSG00000000460.17</td>\n",
       "      <td>2322.68</td>\n",
       "      <td>2274.27</td>\n",
       "      <td>93.56</td>\n",
       "      <td>8.70</td>\n",
       "    </tr>\n",
       "    <tr>\n",
       "      <th>5</th>\n",
       "      <td>ENSG00000000938.13</td>\n",
       "      <td>1722.14</td>\n",
       "      <td>1673.74</td>\n",
       "      <td>0.00</td>\n",
       "      <td>0.00</td>\n",
       "    </tr>\n",
       "    <tr>\n",
       "      <th>6</th>\n",
       "      <td>ENSG00000000971.15</td>\n",
       "      <td>2587.83</td>\n",
       "      <td>2539.43</td>\n",
       "      <td>0.00</td>\n",
       "      <td>0.00</td>\n",
       "    </tr>\n",
       "    <tr>\n",
       "      <th>7</th>\n",
       "      <td>ENSG00000001036.13</td>\n",
       "      <td>2315.03</td>\n",
       "      <td>2266.62</td>\n",
       "      <td>170.00</td>\n",
       "      <td>15.86</td>\n",
       "    </tr>\n",
       "    <tr>\n",
       "      <th>8</th>\n",
       "      <td>ENSG00000001084.13</td>\n",
       "      <td>2436.60</td>\n",
       "      <td>2388.20</td>\n",
       "      <td>139.00</td>\n",
       "      <td>12.31</td>\n",
       "    </tr>\n",
       "    <tr>\n",
       "      <th>9</th>\n",
       "      <td>ENSG00000001167.14</td>\n",
       "      <td>3811.00</td>\n",
       "      <td>3762.59</td>\n",
       "      <td>127.00</td>\n",
       "      <td>7.14</td>\n",
       "    </tr>\n",
       "  </tbody>\n",
       "</table>\n",
       "</div>"
      ],
      "text/plain": [
       "              gene_id   length  effective_length  expected_count     TPM\n",
       "0  ENSG00000000003.14  2209.99           2161.58          607.00   59.38\n",
       "1   ENSG00000000005.6   873.50            825.09            0.00    0.00\n",
       "2  ENSG00000000419.12   987.72            939.31          618.98  139.34\n",
       "3  ENSG00000000457.14  6308.00           6259.59           33.44    1.13\n",
       "4  ENSG00000000460.17  2322.68           2274.27           93.56    8.70\n",
       "5  ENSG00000000938.13  1722.14           1673.74            0.00    0.00\n",
       "6  ENSG00000000971.15  2587.83           2539.43            0.00    0.00\n",
       "7  ENSG00000001036.13  2315.03           2266.62          170.00   15.86\n",
       "8  ENSG00000001084.13  2436.60           2388.20          139.00   12.31\n",
       "9  ENSG00000001167.14  3811.00           3762.59          127.00    7.14"
      ]
     },
     "execution_count": 357,
     "metadata": {},
     "output_type": "execute_result"
    }
   ],
   "source": [
    "r2[['gene_id','length','effective_length','expected_count','TPM']].head(10)"
   ]
  },
  {
   "cell_type": "code",
   "execution_count": 358,
   "metadata": {
    "ExecuteTime": {
     "end_time": "2019-08-25T04:39:24.083494Z",
     "start_time": "2019-08-25T04:39:23.478169Z"
    },
    "hidden": true
   },
   "outputs": [],
   "source": [
    "t1 = pd.read_csv('../../rsem/S01.isoforms.results', sep='\\t')"
   ]
  },
  {
   "cell_type": "code",
   "execution_count": null,
   "metadata": {
    "hidden": true
   },
   "outputs": [],
   "source": []
  },
  {
   "cell_type": "markdown",
   "metadata": {},
   "source": [
    "# RSEM read counts"
   ]
  },
  {
   "cell_type": "markdown",
   "metadata": {},
   "source": [
    "Gene_id to Gene_name lookup table"
   ]
  },
  {
   "cell_type": "code",
   "execution_count": 6,
   "metadata": {
    "ExecuteTime": {
     "end_time": "2019-09-23T14:31:01.100550Z",
     "start_time": "2019-09-23T14:31:00.978242Z"
    }
   },
   "outputs": [],
   "source": [
    "gene_lookup = pd.read_csv('/c/groups/sanjana_lab/cdai/ref_genome/gencode.v31.primary_assembly.annotation.gene_idTOgene_name.txt')"
   ]
  },
  {
   "cell_type": "code",
   "execution_count": 8,
   "metadata": {
    "ExecuteTime": {
     "end_time": "2019-09-23T14:31:16.474984Z",
     "start_time": "2019-09-23T14:31:16.465792Z"
    }
   },
   "outputs": [],
   "source": [
    "os.chdir('/gpfs/commons/groups/sanjana_lab/cdai/TFscreen/data/HFJM7BGXC/rsem_output/')"
   ]
  },
  {
   "cell_type": "code",
   "execution_count": 37,
   "metadata": {
    "ExecuteTime": {
     "end_time": "2019-09-23T14:40:01.606106Z",
     "start_time": "2019-09-23T14:40:01.293379Z"
    }
   },
   "outputs": [
    {
     "name": "stdout",
     "output_type": "stream",
     "text": [
      "S10.genes.results  S16.genes.results  S21.genes.results  S6.genes.results\r\n",
      "S11.genes.results  S17.genes.results  S22.genes.results  S7.genes.results\r\n",
      "S12.genes.results  S18.genes.results  S2.genes.results   S8.genes.results\r\n",
      "S13.genes.results  S19.genes.results  S3.genes.results   S9.genes.results\r\n",
      "S14.genes.results  S1.genes.results   S4.genes.results\r\n",
      "S15.genes.results  S20.genes.results  S5.genes.results\r\n"
     ]
    }
   ],
   "source": [
    "ls *.genes.results"
   ]
  },
  {
   "cell_type": "code",
   "execution_count": 47,
   "metadata": {
    "ExecuteTime": {
     "end_time": "2019-09-23T14:43:36.738549Z",
     "start_time": "2019-09-23T14:43:36.732875Z"
    }
   },
   "outputs": [],
   "source": [
    "import glob"
   ]
  },
  {
   "cell_type": "code",
   "execution_count": 60,
   "metadata": {
    "ExecuteTime": {
     "end_time": "2019-09-23T14:46:10.196787Z",
     "start_time": "2019-09-23T14:46:10.193464Z"
    }
   },
   "outputs": [],
   "source": [
    "rsems = glob.glob('*.genes.results')\n",
    "rsems.sort()"
   ]
  },
  {
   "cell_type": "code",
   "execution_count": 61,
   "metadata": {
    "ExecuteTime": {
     "end_time": "2019-09-23T14:46:14.196627Z",
     "start_time": "2019-09-23T14:46:14.189204Z"
    }
   },
   "outputs": [
    {
     "data": {
      "text/plain": [
       "['S1.genes.results', 'S10.genes.results', 'S11.genes.results']"
      ]
     },
     "execution_count": 61,
     "metadata": {},
     "output_type": "execute_result"
    },
    {
     "data": {
      "text/plain": [
       "['S7.genes.results', 'S8.genes.results', 'S9.genes.results']"
      ]
     },
     "execution_count": 61,
     "metadata": {},
     "output_type": "execute_result"
    },
    {
     "data": {
      "text/plain": [
       "22"
      ]
     },
     "execution_count": 61,
     "metadata": {},
     "output_type": "execute_result"
    }
   ],
   "source": [
    "rsems[0:3]\n",
    "rsems[19:22]\n",
    "len(rsems)"
   ]
  },
  {
   "cell_type": "markdown",
   "metadata": {},
   "source": [
    "RSEM read counts"
   ]
  },
  {
   "cell_type": "code",
   "execution_count": 111,
   "metadata": {
    "ExecuteTime": {
     "end_time": "2019-09-23T15:02:55.981300Z",
     "start_time": "2019-09-23T15:02:50.572958Z"
    }
   },
   "outputs": [],
   "source": [
    "# read in RSEM readcounts and save all in dataframe\n",
    "rsem_cnts=pd.DataFrame([])\n",
    "for rsem in rsems:\n",
    "    sample_name = rsem.split('.')[0] # adding 'b' to sample name for 2nd RNAseq batch\n",
    "    df = pd.read_csv(rsem, sep='\\t')[['gene_id','expected_count']]\n",
    "    rsem_cnts[sample_name] = df.expected_count\n",
    "    idx = df.gene_id\n",
    "rsem_cnts.set_index(idx, inplace=True)"
   ]
  },
  {
   "cell_type": "code",
   "execution_count": 112,
   "metadata": {
    "ExecuteTime": {
     "end_time": "2019-09-23T15:02:57.804205Z",
     "start_time": "2019-09-23T15:02:57.781390Z"
    }
   },
   "outputs": [],
   "source": [
    "if 'HFJM7BGXC' in os.getcwd():\n",
    "    # processing specific to 'HFJM7BGXC' batch\n",
    "    colNames=list(rsem_cnts.columns)\n",
    "    newColNames=[s.replace('S', 'S0') if len(s)==2 else s for s in colNames]\n",
    "    rsem_cnts.rename(columns=dict(zip(colNames, newColNames)), inplace=True)\n",
    "    rsem_cnts = rsem_cnts[rsem_cnts.columns.sort_values()]"
   ]
  },
  {
   "cell_type": "code",
   "execution_count": 116,
   "metadata": {
    "ExecuteTime": {
     "end_time": "2019-09-23T15:03:07.748014Z",
     "start_time": "2019-09-23T15:03:07.715538Z"
    }
   },
   "outputs": [
    {
     "data": {
      "text/html": [
       "<div>\n",
       "<style scoped>\n",
       "    .dataframe tbody tr th:only-of-type {\n",
       "        vertical-align: middle;\n",
       "    }\n",
       "\n",
       "    .dataframe tbody tr th {\n",
       "        vertical-align: top;\n",
       "    }\n",
       "\n",
       "    .dataframe thead th {\n",
       "        text-align: right;\n",
       "    }\n",
       "</style>\n",
       "<table border=\"1\" class=\"dataframe\">\n",
       "  <thead>\n",
       "    <tr style=\"text-align: right;\">\n",
       "      <th></th>\n",
       "      <th>gene_id</th>\n",
       "      <th>S01</th>\n",
       "      <th>S02</th>\n",
       "      <th>S03</th>\n",
       "      <th>S04</th>\n",
       "      <th>S05</th>\n",
       "      <th>S06</th>\n",
       "      <th>S07</th>\n",
       "      <th>S08</th>\n",
       "      <th>S09</th>\n",
       "      <th>S10</th>\n",
       "      <th>S11</th>\n",
       "      <th>S12</th>\n",
       "      <th>S13</th>\n",
       "      <th>S14</th>\n",
       "      <th>S15</th>\n",
       "      <th>S16</th>\n",
       "      <th>S17</th>\n",
       "      <th>S18</th>\n",
       "      <th>S19</th>\n",
       "      <th>S20</th>\n",
       "      <th>S21</th>\n",
       "      <th>S22</th>\n",
       "      <th>gene_name</th>\n",
       "    </tr>\n",
       "  </thead>\n",
       "  <tbody>\n",
       "    <tr>\n",
       "      <th>0</th>\n",
       "      <td>ENSG00000000003.14</td>\n",
       "      <td>966.0001</td>\n",
       "      <td>1226.0001</td>\n",
       "      <td>723.0001</td>\n",
       "      <td>1400.0001</td>\n",
       "      <td>1732.0001</td>\n",
       "      <td>2456.0001</td>\n",
       "      <td>359.0001</td>\n",
       "      <td>1247.0001</td>\n",
       "      <td>1344.0001</td>\n",
       "      <td>1677.0001</td>\n",
       "      <td>1004.0001</td>\n",
       "      <td>2009.0001</td>\n",
       "      <td>1891.0001</td>\n",
       "      <td>1879.0001</td>\n",
       "      <td>2179.0001</td>\n",
       "      <td>1967.0001</td>\n",
       "      <td>1871.0001</td>\n",
       "      <td>2215.0001</td>\n",
       "      <td>2076.0001</td>\n",
       "      <td>2301.0001</td>\n",
       "      <td>457.0001</td>\n",
       "      <td>584.0001</td>\n",
       "      <td>TSPAN6</td>\n",
       "    </tr>\n",
       "    <tr>\n",
       "      <th>1</th>\n",
       "      <td>ENSG00000000005.6</td>\n",
       "      <td>0.0001</td>\n",
       "      <td>11.0001</td>\n",
       "      <td>14.0001</td>\n",
       "      <td>11.0001</td>\n",
       "      <td>14.0001</td>\n",
       "      <td>19.0001</td>\n",
       "      <td>0.0001</td>\n",
       "      <td>1.0001</td>\n",
       "      <td>0.0001</td>\n",
       "      <td>0.0001</td>\n",
       "      <td>0.0001</td>\n",
       "      <td>1.0001</td>\n",
       "      <td>36.0001</td>\n",
       "      <td>6.0001</td>\n",
       "      <td>0.0001</td>\n",
       "      <td>14.0001</td>\n",
       "      <td>11.0001</td>\n",
       "      <td>2.0001</td>\n",
       "      <td>0.0001</td>\n",
       "      <td>1.0001</td>\n",
       "      <td>0.0001</td>\n",
       "      <td>0.0001</td>\n",
       "      <td>TNMD</td>\n",
       "    </tr>\n",
       "    <tr>\n",
       "      <th>2</th>\n",
       "      <td>ENSG00000000419.12</td>\n",
       "      <td>731.0001</td>\n",
       "      <td>908.0001</td>\n",
       "      <td>644.0001</td>\n",
       "      <td>1264.0001</td>\n",
       "      <td>1031.0001</td>\n",
       "      <td>1772.0001</td>\n",
       "      <td>235.0001</td>\n",
       "      <td>774.0001</td>\n",
       "      <td>1046.0001</td>\n",
       "      <td>551.0001</td>\n",
       "      <td>522.0001</td>\n",
       "      <td>1289.0001</td>\n",
       "      <td>932.0001</td>\n",
       "      <td>693.0001</td>\n",
       "      <td>471.0001</td>\n",
       "      <td>774.0001</td>\n",
       "      <td>723.0001</td>\n",
       "      <td>901.0001</td>\n",
       "      <td>791.0001</td>\n",
       "      <td>1147.0001</td>\n",
       "      <td>400.0001</td>\n",
       "      <td>567.0001</td>\n",
       "      <td>DPM1</td>\n",
       "    </tr>\n",
       "    <tr>\n",
       "      <th>3</th>\n",
       "      <td>ENSG00000000457.14</td>\n",
       "      <td>67.4201</td>\n",
       "      <td>70.2001</td>\n",
       "      <td>27.2601</td>\n",
       "      <td>14.3201</td>\n",
       "      <td>37.3601</td>\n",
       "      <td>41.3701</td>\n",
       "      <td>29.6001</td>\n",
       "      <td>43.3901</td>\n",
       "      <td>71.6301</td>\n",
       "      <td>26.3201</td>\n",
       "      <td>60.1401</td>\n",
       "      <td>119.8801</td>\n",
       "      <td>96.8201</td>\n",
       "      <td>4.6601</td>\n",
       "      <td>68.6101</td>\n",
       "      <td>65.4901</td>\n",
       "      <td>60.1201</td>\n",
       "      <td>58.1201</td>\n",
       "      <td>46.1601</td>\n",
       "      <td>80.7301</td>\n",
       "      <td>31.0001</td>\n",
       "      <td>124.8201</td>\n",
       "      <td>SCYL3</td>\n",
       "    </tr>\n",
       "    <tr>\n",
       "      <th>4</th>\n",
       "      <td>ENSG00000000460.17</td>\n",
       "      <td>211.6401</td>\n",
       "      <td>266.8001</td>\n",
       "      <td>145.7401</td>\n",
       "      <td>253.6701</td>\n",
       "      <td>271.6401</td>\n",
       "      <td>361.6301</td>\n",
       "      <td>14.4001</td>\n",
       "      <td>38.6101</td>\n",
       "      <td>114.6901</td>\n",
       "      <td>16.6801</td>\n",
       "      <td>58.8601</td>\n",
       "      <td>155.1201</td>\n",
       "      <td>368.1801</td>\n",
       "      <td>274.3901</td>\n",
       "      <td>282.3901</td>\n",
       "      <td>305.5101</td>\n",
       "      <td>148.8801</td>\n",
       "      <td>165.8801</td>\n",
       "      <td>187.8401</td>\n",
       "      <td>126.2701</td>\n",
       "      <td>0.0001</td>\n",
       "      <td>1.1801</td>\n",
       "      <td>C1orf112</td>\n",
       "    </tr>\n",
       "  </tbody>\n",
       "</table>\n",
       "</div>"
      ],
      "text/plain": [
       "              gene_id       S01        S02       S03        S04        S05        S06       S07        S08        S09        S10        S11        S12        S13        S14        S15        S16        S17        S18        S19        S20       S21       S22 gene_name\n",
       "0  ENSG00000000003.14  966.0001  1226.0001  723.0001  1400.0001  1732.0001  2456.0001  359.0001  1247.0001  1344.0001  1677.0001  1004.0001  2009.0001  1891.0001  1879.0001  2179.0001  1967.0001  1871.0001  2215.0001  2076.0001  2301.0001  457.0001  584.0001    TSPAN6\n",
       "1   ENSG00000000005.6    0.0001    11.0001   14.0001    11.0001    14.0001    19.0001    0.0001     1.0001     0.0001     0.0001     0.0001     1.0001    36.0001     6.0001     0.0001    14.0001    11.0001     2.0001     0.0001     1.0001    0.0001    0.0001      TNMD\n",
       "2  ENSG00000000419.12  731.0001   908.0001  644.0001  1264.0001  1031.0001  1772.0001  235.0001   774.0001  1046.0001   551.0001   522.0001  1289.0001   932.0001   693.0001   471.0001   774.0001   723.0001   901.0001   791.0001  1147.0001  400.0001  567.0001      DPM1\n",
       "3  ENSG00000000457.14   67.4201    70.2001   27.2601    14.3201    37.3601    41.3701   29.6001    43.3901    71.6301    26.3201    60.1401   119.8801    96.8201     4.6601    68.6101    65.4901    60.1201    58.1201    46.1601    80.7301   31.0001  124.8201     SCYL3\n",
       "4  ENSG00000000460.17  211.6401   266.8001  145.7401   253.6701   271.6401   361.6301   14.4001    38.6101   114.6901    16.6801    58.8601   155.1201   368.1801   274.3901   282.3901   305.5101   148.8801   165.8801   187.8401   126.2701    0.0001    1.1801  C1orf112"
      ]
     },
     "execution_count": 116,
     "metadata": {},
     "output_type": "execute_result"
    }
   ],
   "source": [
    "rsem_cnts.head()"
   ]
  },
  {
   "cell_type": "code",
   "execution_count": 114,
   "metadata": {
    "ExecuteTime": {
     "end_time": "2019-09-23T15:03:03.697610Z",
     "start_time": "2019-09-23T15:03:03.323794Z"
    }
   },
   "outputs": [],
   "source": [
    "rsem_cnts.iloc[:,0:23] = rsem_cnts.iloc[:,0:23].applymap(lambda x: x+0.0001)"
   ]
  },
  {
   "cell_type": "code",
   "execution_count": 115,
   "metadata": {
    "ExecuteTime": {
     "end_time": "2019-09-23T15:03:05.554992Z",
     "start_time": "2019-09-23T15:03:05.489732Z"
    }
   },
   "outputs": [],
   "source": [
    "rsem_cnts = pd.merge(rsem_cnts,gene_lookup,how='left',on='gene_id')"
   ]
  },
  {
   "cell_type": "code",
   "execution_count": 25,
   "metadata": {
    "ExecuteTime": {
     "end_time": "2019-09-23T14:34:47.452777Z",
     "start_time": "2019-09-23T14:34:47.448020Z"
    }
   },
   "outputs": [
    {
     "data": {
      "text/plain": [
       "(60662, 24)"
      ]
     },
     "execution_count": 25,
     "metadata": {},
     "output_type": "execute_result"
    }
   ],
   "source": [
    "rsem_cnts.shape"
   ]
  },
  {
   "cell_type": "code",
   "execution_count": 9,
   "metadata": {
    "ExecuteTime": {
     "end_time": "2019-09-04T15:45:27.735944Z",
     "start_time": "2019-09-04T15:45:27.421616Z"
    }
   },
   "outputs": [],
   "source": [
    "rsem_cnts = pd.read_csv('rsem_counts.csv')"
   ]
  },
  {
   "cell_type": "code",
   "execution_count": 117,
   "metadata": {
    "ExecuteTime": {
     "end_time": "2019-09-23T15:03:20.672680Z",
     "start_time": "2019-09-23T15:03:19.146725Z"
    }
   },
   "outputs": [],
   "source": [
    "rsem_cnts.to_csv('rsem_counts.csv', index=False)"
   ]
  },
  {
   "cell_type": "markdown",
   "metadata": {},
   "source": [
    "RSEM TPM "
   ]
  },
  {
   "cell_type": "code",
   "execution_count": 26,
   "metadata": {
    "ExecuteTime": {
     "end_time": "2019-09-23T14:35:16.658313Z",
     "start_time": "2019-09-23T14:35:11.308855Z"
    }
   },
   "outputs": [],
   "source": [
    "# read in RSEM readcounts and save all in dataframe\n",
    "rsem_tpm = pd.DataFrame([])\n",
    "for rsem in rsems:\n",
    "    sample_name = rsem.split('.')[0] + 'b' # adding 'b' to sample name for 2nd batch of RNAseq\n",
    "    df = pd.read_csv(rsem, sep='\\t')[['gene_id','TPM']]\n",
    "    rsem_tpm[sample_name] = df.TPM\n",
    "    idx = df.gene_id\n",
    "rsem_tpm.set_index(idx, inplace=True)"
   ]
  },
  {
   "cell_type": "code",
   "execution_count": null,
   "metadata": {},
   "outputs": [],
   "source": [
    "if 'HFJM7BGXC' in os.getcwd():\n",
    "    # processing specific to 'HFJM7BGXC' batch\n",
    "    colNames=list(rsem_tpm.columns)\n",
    "    newColNames=[s.replace('S', 'S0') if len(s)==2 else s for s in colNames]\n",
    "    rsem_tpm.rename(columns=dict(zip(colNames, newColNames)), inplace=True)\n",
    "    rsem_tpm = rsem_tpm[rsem_tpm.columns.sort_values()]"
   ]
  },
  {
   "cell_type": "code",
   "execution_count": 27,
   "metadata": {
    "ExecuteTime": {
     "end_time": "2019-09-23T14:35:17.080685Z",
     "start_time": "2019-09-23T14:35:16.661856Z"
    }
   },
   "outputs": [],
   "source": [
    "rsem_tpm.iloc[:,0:23] = rsem_tpm.iloc[:,0:23].applymap(lambda x: x+0.0001)"
   ]
  },
  {
   "cell_type": "code",
   "execution_count": 28,
   "metadata": {
    "ExecuteTime": {
     "end_time": "2019-09-23T14:35:18.056723Z",
     "start_time": "2019-09-23T14:35:17.962914Z"
    }
   },
   "outputs": [],
   "source": [
    "rsem_tpm = pd.merge(rsem_tpm,gene_lookup,how='left',on='gene_id')"
   ]
  },
  {
   "cell_type": "code",
   "execution_count": 29,
   "metadata": {
    "ExecuteTime": {
     "end_time": "2019-09-23T14:35:22.476613Z",
     "start_time": "2019-09-23T14:35:20.906147Z"
    }
   },
   "outputs": [],
   "source": [
    "rsem_tpm.to_csv('rsem_TPM.csv', index=False)"
   ]
  },
  {
   "cell_type": "code",
   "execution_count": 76,
   "metadata": {
    "ExecuteTime": {
     "end_time": "2019-09-04T03:43:13.625133Z",
     "start_time": "2019-09-04T03:43:13.406785Z"
    }
   },
   "outputs": [],
   "source": [
    "rsem_tpm = pd.read_csv('rsem_TPM.csv')"
   ]
  },
  {
   "cell_type": "code",
   "execution_count": 30,
   "metadata": {
    "ExecuteTime": {
     "end_time": "2019-09-23T14:35:24.290000Z",
     "start_time": "2019-09-23T14:35:24.253690Z"
    }
   },
   "outputs": [
    {
     "data": {
      "text/html": [
       "<div>\n",
       "<style scoped>\n",
       "    .dataframe tbody tr th:only-of-type {\n",
       "        vertical-align: middle;\n",
       "    }\n",
       "\n",
       "    .dataframe tbody tr th {\n",
       "        vertical-align: top;\n",
       "    }\n",
       "\n",
       "    .dataframe thead th {\n",
       "        text-align: right;\n",
       "    }\n",
       "</style>\n",
       "<table border=\"1\" class=\"dataframe\">\n",
       "  <thead>\n",
       "    <tr style=\"text-align: right;\">\n",
       "      <th></th>\n",
       "      <th>gene_id</th>\n",
       "      <th>S1b</th>\n",
       "      <th>S10b</th>\n",
       "      <th>S11b</th>\n",
       "      <th>S12b</th>\n",
       "      <th>S13b</th>\n",
       "      <th>S14b</th>\n",
       "      <th>S15b</th>\n",
       "      <th>S16b</th>\n",
       "      <th>S17b</th>\n",
       "      <th>S18b</th>\n",
       "      <th>S19b</th>\n",
       "      <th>S2b</th>\n",
       "      <th>S20b</th>\n",
       "      <th>S21b</th>\n",
       "      <th>S22b</th>\n",
       "      <th>S3b</th>\n",
       "      <th>S4b</th>\n",
       "      <th>S5b</th>\n",
       "      <th>S6b</th>\n",
       "      <th>S7b</th>\n",
       "      <th>S8b</th>\n",
       "      <th>S9b</th>\n",
       "      <th>gene_name</th>\n",
       "    </tr>\n",
       "  </thead>\n",
       "  <tbody>\n",
       "    <tr>\n",
       "      <th>60657</th>\n",
       "      <td>ENSG00000288107.1</td>\n",
       "      <td>0.4801</td>\n",
       "      <td>0.0001</td>\n",
       "      <td>0.2401</td>\n",
       "      <td>0.0001</td>\n",
       "      <td>0.0401</td>\n",
       "      <td>0.0001</td>\n",
       "      <td>0.0001</td>\n",
       "      <td>0.1201</td>\n",
       "      <td>0.1601</td>\n",
       "      <td>0.0501</td>\n",
       "      <td>0.0001</td>\n",
       "      <td>0.3601</td>\n",
       "      <td>0.0501</td>\n",
       "      <td>0.0801</td>\n",
       "      <td>0.2401</td>\n",
       "      <td>0.0001</td>\n",
       "      <td>0.0001</td>\n",
       "      <td>0.0001</td>\n",
       "      <td>0.5201</td>\n",
       "      <td>0.0001</td>\n",
       "      <td>0.1301</td>\n",
       "      <td>0.0701</td>\n",
       "      <td>AL731769.2</td>\n",
       "    </tr>\n",
       "    <tr>\n",
       "      <th>60658</th>\n",
       "      <td>ENSG00000288108.1</td>\n",
       "      <td>0.0001</td>\n",
       "      <td>0.0001</td>\n",
       "      <td>0.0001</td>\n",
       "      <td>0.0001</td>\n",
       "      <td>0.0001</td>\n",
       "      <td>0.0001</td>\n",
       "      <td>0.0001</td>\n",
       "      <td>0.0001</td>\n",
       "      <td>0.0001</td>\n",
       "      <td>0.0001</td>\n",
       "      <td>0.0001</td>\n",
       "      <td>0.0001</td>\n",
       "      <td>0.0001</td>\n",
       "      <td>0.0001</td>\n",
       "      <td>0.0001</td>\n",
       "      <td>0.0001</td>\n",
       "      <td>0.0001</td>\n",
       "      <td>0.0001</td>\n",
       "      <td>0.0001</td>\n",
       "      <td>0.0001</td>\n",
       "      <td>0.0001</td>\n",
       "      <td>0.0001</td>\n",
       "      <td>AC126768.3</td>\n",
       "    </tr>\n",
       "    <tr>\n",
       "      <th>60659</th>\n",
       "      <td>ENSG00000288109.1</td>\n",
       "      <td>0.0001</td>\n",
       "      <td>0.0001</td>\n",
       "      <td>0.0001</td>\n",
       "      <td>0.0001</td>\n",
       "      <td>0.0001</td>\n",
       "      <td>0.0001</td>\n",
       "      <td>0.0001</td>\n",
       "      <td>0.0001</td>\n",
       "      <td>0.0001</td>\n",
       "      <td>0.0001</td>\n",
       "      <td>0.0001</td>\n",
       "      <td>0.0001</td>\n",
       "      <td>0.0001</td>\n",
       "      <td>0.0001</td>\n",
       "      <td>0.0001</td>\n",
       "      <td>0.0001</td>\n",
       "      <td>0.0001</td>\n",
       "      <td>0.0001</td>\n",
       "      <td>0.0001</td>\n",
       "      <td>0.0001</td>\n",
       "      <td>0.0001</td>\n",
       "      <td>0.0001</td>\n",
       "      <td>AC079331.3</td>\n",
       "    </tr>\n",
       "    <tr>\n",
       "      <th>60660</th>\n",
       "      <td>ENSG00000288110.1</td>\n",
       "      <td>0.0001</td>\n",
       "      <td>0.0001</td>\n",
       "      <td>0.0001</td>\n",
       "      <td>0.0001</td>\n",
       "      <td>0.0001</td>\n",
       "      <td>0.0001</td>\n",
       "      <td>0.0001</td>\n",
       "      <td>0.0001</td>\n",
       "      <td>0.0001</td>\n",
       "      <td>0.1601</td>\n",
       "      <td>0.0001</td>\n",
       "      <td>0.0001</td>\n",
       "      <td>0.0001</td>\n",
       "      <td>0.0001</td>\n",
       "      <td>0.0001</td>\n",
       "      <td>0.0001</td>\n",
       "      <td>0.0001</td>\n",
       "      <td>0.0001</td>\n",
       "      <td>0.0001</td>\n",
       "      <td>0.0001</td>\n",
       "      <td>0.0001</td>\n",
       "      <td>0.0001</td>\n",
       "      <td>AC010941.1</td>\n",
       "    </tr>\n",
       "    <tr>\n",
       "      <th>60661</th>\n",
       "      <td>ENSG00000288111.1</td>\n",
       "      <td>0.0001</td>\n",
       "      <td>0.0001</td>\n",
       "      <td>4.9501</td>\n",
       "      <td>1.1801</td>\n",
       "      <td>0.0001</td>\n",
       "      <td>0.0001</td>\n",
       "      <td>0.6301</td>\n",
       "      <td>0.7101</td>\n",
       "      <td>0.0001</td>\n",
       "      <td>0.0001</td>\n",
       "      <td>3.4901</td>\n",
       "      <td>0.3001</td>\n",
       "      <td>0.0001</td>\n",
       "      <td>1.9701</td>\n",
       "      <td>0.9401</td>\n",
       "      <td>0.0001</td>\n",
       "      <td>0.0001</td>\n",
       "      <td>0.2801</td>\n",
       "      <td>0.0001</td>\n",
       "      <td>0.0001</td>\n",
       "      <td>0.3701</td>\n",
       "      <td>5.0401</td>\n",
       "      <td>AC130888.1</td>\n",
       "    </tr>\n",
       "  </tbody>\n",
       "</table>\n",
       "</div>"
      ],
      "text/plain": [
       "                 gene_id     S1b    S10b    S11b    S12b    S13b    S14b    S15b    S16b    S17b    S18b    S19b     S2b    S20b    S21b    S22b     S3b     S4b     S5b     S6b     S7b     S8b     S9b   gene_name\n",
       "60657  ENSG00000288107.1  0.4801  0.0001  0.2401  0.0001  0.0401  0.0001  0.0001  0.1201  0.1601  0.0501  0.0001  0.3601  0.0501  0.0801  0.2401  0.0001  0.0001  0.0001  0.5201  0.0001  0.1301  0.0701  AL731769.2\n",
       "60658  ENSG00000288108.1  0.0001  0.0001  0.0001  0.0001  0.0001  0.0001  0.0001  0.0001  0.0001  0.0001  0.0001  0.0001  0.0001  0.0001  0.0001  0.0001  0.0001  0.0001  0.0001  0.0001  0.0001  0.0001  AC126768.3\n",
       "60659  ENSG00000288109.1  0.0001  0.0001  0.0001  0.0001  0.0001  0.0001  0.0001  0.0001  0.0001  0.0001  0.0001  0.0001  0.0001  0.0001  0.0001  0.0001  0.0001  0.0001  0.0001  0.0001  0.0001  0.0001  AC079331.3\n",
       "60660  ENSG00000288110.1  0.0001  0.0001  0.0001  0.0001  0.0001  0.0001  0.0001  0.0001  0.0001  0.1601  0.0001  0.0001  0.0001  0.0001  0.0001  0.0001  0.0001  0.0001  0.0001  0.0001  0.0001  0.0001  AC010941.1\n",
       "60661  ENSG00000288111.1  0.0001  0.0001  4.9501  1.1801  0.0001  0.0001  0.6301  0.7101  0.0001  0.0001  3.4901  0.3001  0.0001  1.9701  0.9401  0.0001  0.0001  0.2801  0.0001  0.0001  0.3701  5.0401  AC130888.1"
      ]
     },
     "execution_count": 30,
     "metadata": {},
     "output_type": "execute_result"
    }
   ],
   "source": [
    "rsem_tpm.tail()"
   ]
  },
  {
   "cell_type": "markdown",
   "metadata": {
    "heading_collapsed": true
   },
   "source": [
    "# Compare RSEM and STAR counts"
   ]
  },
  {
   "cell_type": "code",
   "execution_count": 411,
   "metadata": {
    "ExecuteTime": {
     "end_time": "2019-08-25T19:09:17.779033Z",
     "start_time": "2019-08-25T19:09:17.770670Z"
    },
    "hidden": true
   },
   "outputs": [],
   "source": [
    "S01_star = cnts.S01.reset_index()"
   ]
  },
  {
   "cell_type": "code",
   "execution_count": 414,
   "metadata": {
    "ExecuteTime": {
     "end_time": "2019-08-25T19:09:52.949467Z",
     "start_time": "2019-08-25T19:09:52.941353Z"
    },
    "hidden": true
   },
   "outputs": [],
   "source": [
    "S01_rsem = rsem_cnts.S01.reset_index()"
   ]
  },
  {
   "cell_type": "code",
   "execution_count": 419,
   "metadata": {
    "ExecuteTime": {
     "end_time": "2019-08-25T19:11:53.184274Z",
     "start_time": "2019-08-25T19:11:53.162194Z"
    },
    "hidden": true
   },
   "outputs": [
    {
     "data": {
      "text/html": [
       "<div>\n",
       "<style scoped>\n",
       "    .dataframe tbody tr th:only-of-type {\n",
       "        vertical-align: middle;\n",
       "    }\n",
       "\n",
       "    .dataframe tbody tr th {\n",
       "        vertical-align: top;\n",
       "    }\n",
       "\n",
       "    .dataframe thead th {\n",
       "        text-align: right;\n",
       "    }\n",
       "</style>\n",
       "<table border=\"1\" class=\"dataframe\">\n",
       "  <thead>\n",
       "    <tr style=\"text-align: right;\">\n",
       "      <th></th>\n",
       "      <th>gene_id</th>\n",
       "      <th>S01</th>\n",
       "    </tr>\n",
       "  </thead>\n",
       "  <tbody>\n",
       "    <tr>\n",
       "      <th>0</th>\n",
       "      <td>ENSG00000000003.14</td>\n",
       "      <td>684.70</td>\n",
       "    </tr>\n",
       "    <tr>\n",
       "      <th>1</th>\n",
       "      <td>ENSG00000000005.6</td>\n",
       "      <td>7.00</td>\n",
       "    </tr>\n",
       "    <tr>\n",
       "      <th>2</th>\n",
       "      <td>ENSG00000000419.12</td>\n",
       "      <td>643.05</td>\n",
       "    </tr>\n",
       "    <tr>\n",
       "      <th>3</th>\n",
       "      <td>ENSG00000000457.14</td>\n",
       "      <td>10.46</td>\n",
       "    </tr>\n",
       "    <tr>\n",
       "      <th>4</th>\n",
       "      <td>ENSG00000000460.17</td>\n",
       "      <td>97.54</td>\n",
       "    </tr>\n",
       "  </tbody>\n",
       "</table>\n",
       "</div>"
      ],
      "text/plain": [
       "              gene_id     S01\n",
       "0  ENSG00000000003.14  684.70\n",
       "1   ENSG00000000005.6    7.00\n",
       "2  ENSG00000000419.12  643.05\n",
       "3  ENSG00000000457.14   10.46\n",
       "4  ENSG00000000460.17   97.54"
      ]
     },
     "execution_count": 419,
     "metadata": {},
     "output_type": "execute_result"
    },
    {
     "data": {
      "text/plain": [
       "(60662, 2)"
      ]
     },
     "execution_count": 419,
     "metadata": {},
     "output_type": "execute_result"
    },
    {
     "data": {
      "text/html": [
       "<div>\n",
       "<style scoped>\n",
       "    .dataframe tbody tr th:only-of-type {\n",
       "        vertical-align: middle;\n",
       "    }\n",
       "\n",
       "    .dataframe tbody tr th {\n",
       "        vertical-align: top;\n",
       "    }\n",
       "\n",
       "    .dataframe thead th {\n",
       "        text-align: right;\n",
       "    }\n",
       "</style>\n",
       "<table border=\"1\" class=\"dataframe\">\n",
       "  <thead>\n",
       "    <tr style=\"text-align: right;\">\n",
       "      <th></th>\n",
       "      <th>gene_id</th>\n",
       "      <th>S01</th>\n",
       "    </tr>\n",
       "  </thead>\n",
       "  <tbody>\n",
       "    <tr>\n",
       "      <th>0</th>\n",
       "      <td>ENSG00000223972.5</td>\n",
       "      <td>0</td>\n",
       "    </tr>\n",
       "    <tr>\n",
       "      <th>1</th>\n",
       "      <td>ENSG00000227232.5</td>\n",
       "      <td>0</td>\n",
       "    </tr>\n",
       "    <tr>\n",
       "      <th>2</th>\n",
       "      <td>ENSG00000278267.1</td>\n",
       "      <td>0</td>\n",
       "    </tr>\n",
       "    <tr>\n",
       "      <th>3</th>\n",
       "      <td>ENSG00000243485.5</td>\n",
       "      <td>0</td>\n",
       "    </tr>\n",
       "    <tr>\n",
       "      <th>4</th>\n",
       "      <td>ENSG00000284332.1</td>\n",
       "      <td>0</td>\n",
       "    </tr>\n",
       "  </tbody>\n",
       "</table>\n",
       "</div>"
      ],
      "text/plain": [
       "             gene_id  S01\n",
       "0  ENSG00000223972.5    0\n",
       "1  ENSG00000227232.5    0\n",
       "2  ENSG00000278267.1    0\n",
       "3  ENSG00000243485.5    0\n",
       "4  ENSG00000284332.1    0"
      ]
     },
     "execution_count": 419,
     "metadata": {},
     "output_type": "execute_result"
    },
    {
     "data": {
      "text/plain": [
       "(60662, 2)"
      ]
     },
     "execution_count": 419,
     "metadata": {},
     "output_type": "execute_result"
    }
   ],
   "source": [
    "S01_rsem.head()\n",
    "S01_rsem.shape\n",
    "S01_star.head()\n",
    "S01_star.shape"
   ]
  },
  {
   "cell_type": "code",
   "execution_count": 423,
   "metadata": {
    "ExecuteTime": {
     "end_time": "2019-08-25T19:12:48.899672Z",
     "start_time": "2019-08-25T19:12:48.832406Z"
    },
    "hidden": true
   },
   "outputs": [],
   "source": [
    "compare = pd.merge(S01_star, S01_rsem, how='inner', on='gene_id', suffixes=('_star','_rsem'))"
   ]
  },
  {
   "cell_type": "code",
   "execution_count": 425,
   "metadata": {
    "ExecuteTime": {
     "end_time": "2019-08-25T19:13:03.730553Z",
     "start_time": "2019-08-25T19:13:03.709707Z"
    },
    "hidden": true
   },
   "outputs": [
    {
     "data": {
      "text/plain": [
       "(60662, 3)"
      ]
     },
     "execution_count": 425,
     "metadata": {},
     "output_type": "execute_result"
    },
    {
     "data": {
      "text/html": [
       "<div>\n",
       "<style scoped>\n",
       "    .dataframe tbody tr th:only-of-type {\n",
       "        vertical-align: middle;\n",
       "    }\n",
       "\n",
       "    .dataframe tbody tr th {\n",
       "        vertical-align: top;\n",
       "    }\n",
       "\n",
       "    .dataframe thead th {\n",
       "        text-align: right;\n",
       "    }\n",
       "</style>\n",
       "<table border=\"1\" class=\"dataframe\">\n",
       "  <thead>\n",
       "    <tr style=\"text-align: right;\">\n",
       "      <th></th>\n",
       "      <th>gene_id</th>\n",
       "      <th>S01_star</th>\n",
       "      <th>S01_rsem</th>\n",
       "    </tr>\n",
       "  </thead>\n",
       "  <tbody>\n",
       "    <tr>\n",
       "      <th>60587</th>\n",
       "      <td>ENSG00000198899.2</td>\n",
       "      <td>32639</td>\n",
       "      <td>46581.49</td>\n",
       "    </tr>\n",
       "    <tr>\n",
       "      <th>60588</th>\n",
       "      <td>ENSG00000198938.2</td>\n",
       "      <td>27933</td>\n",
       "      <td>29339.37</td>\n",
       "    </tr>\n",
       "    <tr>\n",
       "      <th>28905</th>\n",
       "      <td>ENSG00000136942.15</td>\n",
       "      <td>25651</td>\n",
       "      <td>28394.62</td>\n",
       "    </tr>\n",
       "    <tr>\n",
       "      <th>60569</th>\n",
       "      <td>ENSG00000210082.2</td>\n",
       "      <td>25093</td>\n",
       "      <td>40209.76</td>\n",
       "    </tr>\n",
       "    <tr>\n",
       "      <th>60600</th>\n",
       "      <td>ENSG00000198727.2</td>\n",
       "      <td>21974</td>\n",
       "      <td>21604.54</td>\n",
       "    </tr>\n",
       "    <tr>\n",
       "      <th>53101</th>\n",
       "      <td>ENSG00000087086.15</td>\n",
       "      <td>19335</td>\n",
       "      <td>24379.32</td>\n",
       "    </tr>\n",
       "    <tr>\n",
       "      <th>60584</th>\n",
       "      <td>ENSG00000198712.1</td>\n",
       "      <td>16356</td>\n",
       "      <td>18691.48</td>\n",
       "    </tr>\n",
       "    <tr>\n",
       "      <th>27289</th>\n",
       "      <td>ENSG00000137154.12</td>\n",
       "      <td>14936</td>\n",
       "      <td>15359.50</td>\n",
       "    </tr>\n",
       "    <tr>\n",
       "      <th>49520</th>\n",
       "      <td>ENSG00000184009.12</td>\n",
       "      <td>13753</td>\n",
       "      <td>15006.50</td>\n",
       "    </tr>\n",
       "    <tr>\n",
       "      <th>16131</th>\n",
       "      <td>ENSG00000145592.14</td>\n",
       "      <td>13646</td>\n",
       "      <td>17555.93</td>\n",
       "    </tr>\n",
       "    <tr>\n",
       "      <th>1452</th>\n",
       "      <td>ENSG00000142937.12</td>\n",
       "      <td>13266</td>\n",
       "      <td>25410.84</td>\n",
       "    </tr>\n",
       "    <tr>\n",
       "      <th>43156</th>\n",
       "      <td>ENSG00000137818.12</td>\n",
       "      <td>12834</td>\n",
       "      <td>14274.58</td>\n",
       "    </tr>\n",
       "    <tr>\n",
       "      <th>60593</th>\n",
       "      <td>ENSG00000198886.2</td>\n",
       "      <td>12326</td>\n",
       "      <td>11892.24</td>\n",
       "    </tr>\n",
       "    <tr>\n",
       "      <th>9098</th>\n",
       "      <td>ENSG00000197756.9</td>\n",
       "      <td>12229</td>\n",
       "      <td>14785.43</td>\n",
       "    </tr>\n",
       "    <tr>\n",
       "      <th>48291</th>\n",
       "      <td>ENSG00000131469.14</td>\n",
       "      <td>12091</td>\n",
       "      <td>11964.56</td>\n",
       "    </tr>\n",
       "    <tr>\n",
       "      <th>27026</th>\n",
       "      <td>ENSG00000161016.17</td>\n",
       "      <td>11535</td>\n",
       "      <td>11344.73</td>\n",
       "    </tr>\n",
       "    <tr>\n",
       "      <th>31767</th>\n",
       "      <td>ENSG00000177600.9</td>\n",
       "      <td>11531</td>\n",
       "      <td>11409.03</td>\n",
       "    </tr>\n",
       "    <tr>\n",
       "      <th>52738</th>\n",
       "      <td>ENSG00000105372.7</td>\n",
       "      <td>11254</td>\n",
       "      <td>13130.52</td>\n",
       "    </tr>\n",
       "    <tr>\n",
       "      <th>21668</th>\n",
       "      <td>ENSG00000075624.16</td>\n",
       "      <td>11082</td>\n",
       "      <td>20074.26</td>\n",
       "    </tr>\n",
       "    <tr>\n",
       "      <th>19507</th>\n",
       "      <td>ENSG00000137309.19</td>\n",
       "      <td>9932</td>\n",
       "      <td>12969.09</td>\n",
       "    </tr>\n",
       "  </tbody>\n",
       "</table>\n",
       "</div>"
      ],
      "text/plain": [
       "                  gene_id  S01_star  S01_rsem\n",
       "60587   ENSG00000198899.2     32639  46581.49\n",
       "60588   ENSG00000198938.2     27933  29339.37\n",
       "28905  ENSG00000136942.15     25651  28394.62\n",
       "60569   ENSG00000210082.2     25093  40209.76\n",
       "60600   ENSG00000198727.2     21974  21604.54\n",
       "53101  ENSG00000087086.15     19335  24379.32\n",
       "60584   ENSG00000198712.1     16356  18691.48\n",
       "27289  ENSG00000137154.12     14936  15359.50\n",
       "49520  ENSG00000184009.12     13753  15006.50\n",
       "16131  ENSG00000145592.14     13646  17555.93\n",
       "1452   ENSG00000142937.12     13266  25410.84\n",
       "43156  ENSG00000137818.12     12834  14274.58\n",
       "60593   ENSG00000198886.2     12326  11892.24\n",
       "9098    ENSG00000197756.9     12229  14785.43\n",
       "48291  ENSG00000131469.14     12091  11964.56\n",
       "27026  ENSG00000161016.17     11535  11344.73\n",
       "31767   ENSG00000177600.9     11531  11409.03\n",
       "52738   ENSG00000105372.7     11254  13130.52\n",
       "21668  ENSG00000075624.16     11082  20074.26\n",
       "19507  ENSG00000137309.19      9932  12969.09"
      ]
     },
     "execution_count": 425,
     "metadata": {},
     "output_type": "execute_result"
    }
   ],
   "source": [
    "compare.shape\n",
    "compare.sort_values('S01_star', ascending=False).head(20)"
   ]
  },
  {
   "cell_type": "code",
   "execution_count": 446,
   "metadata": {
    "ExecuteTime": {
     "end_time": "2019-08-25T19:25:02.058379Z",
     "start_time": "2019-08-25T19:25:01.151296Z"
    },
    "hidden": true
   },
   "outputs": [
    {
     "data": {
      "image/png": "[encoded data removed]",
      "text/plain": [
       "<Figure size 576x432 with 1 Axes>"
      ]
     },
     "metadata": {
      "needs_background": "light"
     },
     "output_type": "display_data"
    }
   ],
   "source": [
    "fig, ax = plt.subplots(nrows=1, ncols=1, figsize=(8,6))\n",
    "sns.scatterplot(x=compare.S01_star,y=compare.S01_rsem, alpha=0.4,ax=ax)\n",
    "ax.axis(xmin=0,xmax=2000, ymin=0, ymax=2000);\n"
   ]
  },
  {
   "cell_type": "code",
   "execution_count": 431,
   "metadata": {
    "ExecuteTime": {
     "end_time": "2019-08-25T19:15:40.534397Z",
     "start_time": "2019-08-25T19:15:40.531736Z"
    },
    "hidden": true
   },
   "outputs": [],
   "source": [
    "import numpy as np"
   ]
  },
  {
   "cell_type": "code",
   "execution_count": 434,
   "metadata": {
    "ExecuteTime": {
     "end_time": "2019-08-25T19:16:10.526260Z",
     "start_time": "2019-08-25T19:16:10.255839Z"
    },
    "hidden": true
   },
   "outputs": [
    {
     "data": {
      "image/png": "[encoded data removed]",
      "text/plain": [
       "<Figure size 432x288 with 1 Axes>"
      ]
     },
     "metadata": {
      "needs_background": "light"
     },
     "output_type": "display_data"
    }
   ],
   "source": [
    "sns.distplot(a=np.log10(compare.S01_star+1), kde=False);"
   ]
  },
  {
   "cell_type": "code",
   "execution_count": 435,
   "metadata": {
    "ExecuteTime": {
     "end_time": "2019-08-25T19:16:23.933613Z",
     "start_time": "2019-08-25T19:16:23.655108Z"
    },
    "hidden": true
   },
   "outputs": [
    {
     "data": {
      "image/png": "[encoded data removed]",
      "text/plain": [
       "<Figure size 432x288 with 1 Axes>"
      ]
     },
     "metadata": {
      "needs_background": "light"
     },
     "output_type": "display_data"
    }
   ],
   "source": [
    "sns.distplot(a=np.log10(compare.S01_rsem+1), kde=False);"
   ]
  },
  {
   "cell_type": "markdown",
   "metadata": {
    "heading_collapsed": true
   },
   "source": [
    "# Extract barcodes from undetermined R1 reads"
   ]
  },
  {
   "cell_type": "code",
   "execution_count": 5,
   "metadata": {
    "ExecuteTime": {
     "end_time": "2019-08-27T15:59:34.183237Z",
     "start_time": "2019-08-27T15:59:34.171949Z"
    },
    "hidden": true
   },
   "outputs": [],
   "source": [
    "os.chdir('/gpfs/commons/groups/sanjana_lab/cdai/TFscreen/data/20190816/original_fastq/Undetermined_fastq/')"
   ]
  },
  {
   "cell_type": "code",
   "execution_count": 6,
   "metadata": {
    "ExecuteTime": {
     "end_time": "2019-08-27T15:59:35.116616Z",
     "start_time": "2019-08-27T15:59:34.900597Z"
    },
    "hidden": true
   },
   "outputs": [
    {
     "name": "stdout",
     "output_type": "stream",
     "text": [
      "toy.fastq                           Undetermined_R1_sans_polyG.tr.fastq\r\n",
      "Undetermined_R1_sans_Phix.fastq     Undetermined_S0_R1_001.fastq\r\n",
      "Undetermined_R1_sans_Phix.tr.fastq  Undetermined_S0_R2_001.fastq\r\n",
      "Undetermined_R1_sans_polyG.fastq\r\n"
     ]
    }
   ],
   "source": [
    "ls *.fastq"
   ]
  },
  {
   "cell_type": "raw",
   "metadata": {
    "ExecuteTime": {
     "end_time": "2019-08-27T16:06:22.555483Z",
     "start_time": "2019-08-27T16:06:22.551202Z"
    },
    "hidden": true
   },
   "source": [
    "# %load get_undetermined_barcode_counts.py\n",
    "import pandas as pd\n",
    "\n",
    "fastq = 'Undetermined_R1_sans_polyG.fastq'\n",
    "\n",
    "barcodes = []\n",
    "with open(fastq) as fq:\n",
    "    line = fq.readline()\n",
    "    cnt = 1\n",
    "    while line:\n",
    "        if cnt % 4 == 1:\n",
    "            barcode = line.strip()[-17:]\n",
    "            barcodes.append(barcode)\n",
    "        \n",
    "        line = fq.readline()\n",
    "        cnt +=1\n",
    "\n",
    "\n",
    "df = pd.DataFrame({'barcode':barcodes})\n",
    "df.to_csv('barcode_extraction_result.csv')\n",
    "\n",
    "barcode_counts = df.groupby('barcode').size().reset_index().rename(columns={0:'reads'})\n",
    "barcode_counts = barcode_counts.sort_values('reads', ascending=False)\n",
    "barcode_counts.to_csv('undetermined_barcode_counts.csv', index=False)"
   ]
  },
  {
   "cell_type": "markdown",
   "metadata": {
    "heading_collapsed": true
   },
   "source": [
    "# Recover undetermined R1 reads"
   ]
  },
  {
   "cell_type": "code",
   "execution_count": 13,
   "metadata": {
    "ExecuteTime": {
     "end_time": "2019-08-27T16:21:12.748481Z",
     "start_time": "2019-08-27T16:21:12.062164Z"
    },
    "hidden": true
   },
   "outputs": [],
   "source": [
    "barcodes = pd.read_csv('undetermined_barcode_counts.csv')"
   ]
  },
  {
   "cell_type": "code",
   "execution_count": 41,
   "metadata": {
    "ExecuteTime": {
     "end_time": "2019-09-03T17:48:23.150459Z",
     "start_time": "2019-09-03T17:48:23.140706Z"
    },
    "hidden": true
   },
   "outputs": [
    {
     "data": {
      "text/html": [
       "<div>\n",
       "<style scoped>\n",
       "    .dataframe tbody tr th:only-of-type {\n",
       "        vertical-align: middle;\n",
       "    }\n",
       "\n",
       "    .dataframe tbody tr th {\n",
       "        vertical-align: top;\n",
       "    }\n",
       "\n",
       "    .dataframe thead th {\n",
       "        text-align: right;\n",
       "    }\n",
       "</style>\n",
       "<table border=\"1\" class=\"dataframe\">\n",
       "  <thead>\n",
       "    <tr style=\"text-align: right;\">\n",
       "      <th></th>\n",
       "      <th>barcode</th>\n",
       "      <th>reads</th>\n",
       "    </tr>\n",
       "  </thead>\n",
       "  <tbody>\n",
       "    <tr>\n",
       "      <th>0</th>\n",
       "      <td>ACGTTCTA+TTTGAGAG</td>\n",
       "      <td>2717247</td>\n",
       "    </tr>\n",
       "    <tr>\n",
       "      <th>1</th>\n",
       "      <td>ACGTTCTA+TGTGGATA</td>\n",
       "      <td>2375002</td>\n",
       "    </tr>\n",
       "    <tr>\n",
       "      <th>2</th>\n",
       "      <td>AACCAGTT+TTTGAGAG</td>\n",
       "      <td>2243638</td>\n",
       "    </tr>\n",
       "    <tr>\n",
       "      <th>3</th>\n",
       "      <td>TTCCATCC+TGTGGATA</td>\n",
       "      <td>1979287</td>\n",
       "    </tr>\n",
       "    <tr>\n",
       "      <th>4</th>\n",
       "      <td>CTCTGGTA+TGTGGATA</td>\n",
       "      <td>1924574</td>\n",
       "    </tr>\n",
       "  </tbody>\n",
       "</table>\n",
       "</div>"
      ],
      "text/plain": [
       "             barcode    reads\n",
       "0  ACGTTCTA+TTTGAGAG  2717247\n",
       "1  ACGTTCTA+TGTGGATA  2375002\n",
       "2  AACCAGTT+TTTGAGAG  2243638\n",
       "3  TTCCATCC+TGTGGATA  1979287\n",
       "4  CTCTGGTA+TGTGGATA  1924574"
      ]
     },
     "execution_count": 41,
     "metadata": {},
     "output_type": "execute_result"
    }
   ],
   "source": [
    "barcodes.head()"
   ]
  },
  {
   "cell_type": "code",
   "execution_count": 28,
   "metadata": {
    "ExecuteTime": {
     "end_time": "2019-08-27T16:23:44.544337Z",
     "start_time": "2019-08-27T16:23:41.781849Z"
    },
    "hidden": true
   },
   "outputs": [],
   "source": [
    "i7 = barcodes.barcode.str.split('+', expand=True)[0].unique()"
   ]
  },
  {
   "cell_type": "code",
   "execution_count": 29,
   "metadata": {
    "ExecuteTime": {
     "end_time": "2019-08-27T16:23:48.448004Z",
     "start_time": "2019-08-27T16:23:45.139925Z"
    },
    "hidden": true
   },
   "outputs": [],
   "source": [
    "i5 = barcodes.barcode.str.split('+', expand=True)[1].unique()"
   ]
  },
  {
   "cell_type": "code",
   "execution_count": 42,
   "metadata": {
    "ExecuteTime": {
     "end_time": "2019-09-03T17:48:34.064755Z",
     "start_time": "2019-09-03T17:48:34.058455Z"
    },
    "hidden": true
   },
   "outputs": [
    {
     "data": {
      "text/plain": [
       "(36211,)"
      ]
     },
     "execution_count": 42,
     "metadata": {},
     "output_type": "execute_result"
    },
    {
     "data": {
      "text/plain": [
       "(14879,)"
      ]
     },
     "execution_count": 42,
     "metadata": {},
     "output_type": "execute_result"
    }
   ],
   "source": [
    "i7.shape\n",
    "i5.shape"
   ]
  },
  {
   "cell_type": "code",
   "execution_count": 43,
   "metadata": {
    "ExecuteTime": {
     "end_time": "2019-09-03T17:48:40.387899Z",
     "start_time": "2019-09-03T17:48:40.383975Z"
    },
    "hidden": true
   },
   "outputs": [
    {
     "data": {
      "text/plain": [
       "array(['TCAACCTA', 'TTAGCCTC', 'TTATCCTA', 'GTGTGGTG', 'TAACTGTA',\n",
       "       'GGGGGGGT', 'ACGTTCGA', 'AACCAGGT', 'TCCTAAAT', 'AAGAACTT',\n",
       "       'TTGTGGTT', 'GTGTTGTT', 'TAACGGTA', 'AACCAACT', 'GAACTGTA',\n",
       "       'TTATACTA', 'AACCACTT', 'GGGGGGTG', 'ATCTTGTA'], dtype=object)"
      ]
     },
     "execution_count": 43,
     "metadata": {},
     "output_type": "execute_result"
    }
   ],
   "source": [
    "i7[21:40]"
   ]
  },
  {
   "cell_type": "code",
   "execution_count": 44,
   "metadata": {
    "ExecuteTime": {
     "end_time": "2019-09-03T17:48:53.506174Z",
     "start_time": "2019-09-03T17:48:53.496056Z"
    },
    "hidden": true,
    "scrolled": true
   },
   "outputs": [
    {
     "data": {
      "text/plain": [
       "['TTTGAGAG',\n",
       " 'ATAGAGAG',\n",
       " 'TTAGAGAG',\n",
       " 'TGTGAGAG',\n",
       " 'ATTGAGAG',\n",
       " 'TGAGAGAG',\n",
       " 'NTAGAGAG',\n",
       " 'GTTGAGAG',\n",
       " 'TTGGAGAG',\n",
       " 'NNAGAGAG',\n",
       " 'AAAGAGAG',\n",
       " 'NTTGAGAG',\n",
       " 'NNTGAGAG',\n",
       " 'NNNGAGAG',\n",
       " 'TCTGAGAG',\n",
       " 'TATGAGAG',\n",
       " 'NTNGAGAG',\n",
       " 'AGAGAGAG',\n",
       " 'TCAGAGAG',\n",
       " 'GTAGAGAG',\n",
       " 'ANAGAGAG',\n",
       " 'TAAGAGAG',\n",
       " 'ATNGAGAG',\n",
       " 'GAGGAGAG',\n",
       " 'ATGGAGAG',\n",
       " 'AATGAGAG',\n",
       " 'TGGGAGAG',\n",
       " 'TTCGAGAG',\n",
       " 'TNTGAGAG',\n",
       " 'TAGGAGAG',\n",
       " 'ACAGAGAG',\n",
       " 'CTTGAGAG',\n",
       " 'GGTGAGAG',\n",
       " 'TTNGAGAG',\n",
       " 'TNAGAGAG',\n",
       " 'GTGGAGAG',\n",
       " 'GGAGAGAG',\n",
       " 'AGTGAGAG',\n",
       " 'CTAGAGAG',\n",
       " 'ANNGAGAG',\n",
       " 'GGGGAGAG',\n",
       " 'TNNGAGAG',\n",
       " 'NGTGAGAG',\n",
       " 'TGCGAGAG',\n",
       " 'AGGGAGAG',\n",
       " 'AAGGAGAG',\n",
       " 'CGTGAGAG',\n",
       " 'NGAGAGAG',\n",
       " 'ACTGAGAG',\n",
       " 'CGAGAGAG',\n",
       " 'ATCGAGAG',\n",
       " 'CGCGAGAG',\n",
       " 'CTCGAGAG',\n",
       " 'NAAGAGAG',\n",
       " 'NGNGAGAG',\n",
       " 'CACGAGAG',\n",
       " 'GATGAGAG',\n",
       " 'GAAGAGAG',\n",
       " 'TCCGAGAG',\n",
       " 'ANTGAGAG',\n",
       " 'GCTGAGAG',\n",
       " 'GCAGAGAG',\n",
       " 'NATGAGAG',\n",
       " 'GGCGAGAG',\n",
       " 'NANGAGAG',\n",
       " 'ACGGAGAG',\n",
       " 'TGNGAGAG',\n",
       " 'AANGAGAG',\n",
       " 'NTGGAGAG',\n",
       " 'TCGGAGAG',\n",
       " 'TNGGAGAG',\n",
       " 'GTNGAGAG',\n",
       " 'NNGGAGAG',\n",
       " 'CCTGAGAG',\n",
       " 'TACGAGAG',\n",
       " 'CCAGAGAG',\n",
       " 'CTGGAGAG',\n",
       " 'CATGAGAG',\n",
       " 'AGCGAGAG',\n",
       " 'CAAGAGAG',\n",
       " 'GCGGAGAG',\n",
       " 'CGGGAGAG',\n",
       " 'ACCGAGAG',\n",
       " 'GTCGAGAG',\n",
       " 'CCCGAGAG',\n",
       " 'AACGAGAG',\n",
       " 'AGNGAGAG',\n",
       " 'CNNGAGAG',\n",
       " 'NTCGAGAG',\n",
       " 'NCAGAGAG',\n",
       " 'GNNGAGAG',\n",
       " 'NAGGAGAG',\n",
       " 'NCTGAGAG']"
      ]
     },
     "execution_count": 44,
     "metadata": {},
     "output_type": "execute_result"
    }
   ],
   "source": [
    "[x for x in i5 if x[-5:]=='GAGAG']"
   ]
  },
  {
   "cell_type": "code",
   "execution_count": 39,
   "metadata": {
    "ExecuteTime": {
     "end_time": "2019-08-27T16:38:27.804492Z",
     "start_time": "2019-08-27T16:38:27.783746Z"
    },
    "hidden": true
   },
   "outputs": [
    {
     "data": {
      "text/plain": [
       "['TCTATCCG',\n",
       " 'TCGTTCCG',\n",
       " 'TCGCTCCG',\n",
       " 'TCTTTCCG',\n",
       " 'AAGCTCCG',\n",
       " 'TTGCTCCG',\n",
       " 'TCAATCCG',\n",
       " 'GCGTTCCG',\n",
       " 'TCGATCCG',\n",
       " 'ACGCTCCG',\n",
       " 'GCGCTCCG',\n",
       " 'ATGCTCCG',\n",
       " 'TATATCCG',\n",
       " 'CCGCTCCG',\n",
       " 'TAGCTCCG',\n",
       " 'TCTCTCCG',\n",
       " 'GCGATCCG',\n",
       " 'ACTATCCG',\n",
       " 'GCTTTCCG',\n",
       " 'ACAATCCG',\n",
       " 'NNTATCCG',\n",
       " 'CTGCTCCG',\n",
       " 'ACGTTCCG',\n",
       " 'TTGGTCCG',\n",
       " 'NCTATCCG',\n",
       " 'GTGCTCCG',\n",
       " 'TCGGTCCG',\n",
       " 'GCTCTCCG',\n",
       " 'NNNATCCG',\n",
       " 'NNNNTCCG',\n",
       " 'TCCCTCCG',\n",
       " 'GTGTTCCG',\n",
       " 'TTTATCCG',\n",
       " 'TTGTTCCG',\n",
       " 'GCTATCCG',\n",
       " 'GGGTTCCG',\n",
       " 'CAGCTCCG',\n",
       " 'TAAATCCG',\n",
       " 'AATATCCG',\n",
       " 'TGGTTCCG',\n",
       " 'TCCATCCG',\n",
       " 'GTGGTCCG',\n",
       " 'TCCTTCCG',\n",
       " 'TGTTTCCG',\n",
       " 'GCGGTCCG',\n",
       " 'ATGGTCCG',\n",
       " 'ACGGTCCG',\n",
       " 'CCTATCCG',\n",
       " 'TCACTCCG',\n",
       " 'TGTATCCG',\n",
       " 'TCTGTCCG',\n",
       " 'ACGATCCG',\n",
       " 'CCGGTCCG',\n",
       " 'TCTNTCCG',\n",
       " 'GTCTTCCG',\n",
       " 'GGGGTCCG',\n",
       " 'TTTTTCCG',\n",
       " 'TCATTCCG',\n",
       " 'GCCCTCCG',\n",
       " 'GCCTTCCG',\n",
       " 'CCGTTCCG',\n",
       " 'ATGTTCCG',\n",
       " 'TGGCTCCG',\n",
       " 'AAGGTCCG',\n",
       " 'NNTNTCCG',\n",
       " 'TTCCTCCG',\n",
       " 'CTGGTCCG',\n",
       " 'ACCATCCG',\n",
       " 'GGGCTCCG',\n",
       " 'CCGATCCG',\n",
       " 'NCNATCCG',\n",
       " 'GAGCTCCG',\n",
       " 'GCCATCCG',\n",
       " 'TGGGTCCG',\n",
       " 'AAAATCCG',\n",
       " 'ACTCTCCG',\n",
       " 'TTCTTCCG',\n",
       " 'TAGATCCG',\n",
       " 'NCGCTCCG',\n",
       " 'NCGATCCG',\n",
       " 'AACCTCCG',\n",
       " 'ACCCTCCG',\n",
       " 'TNTATCCG',\n",
       " 'TGTCTCCG',\n",
       " 'GGTTTCCG',\n",
       " 'TTTCTCCG',\n",
       " 'ACTTTCCG',\n",
       " 'TATCTCCG',\n",
       " 'CCCCTCCG',\n",
       " 'GCAATCCG',\n",
       " 'TATTTCCG',\n",
       " 'NCTNTCCG',\n",
       " 'NCAATCCG',\n",
       " 'NCTTTCCG',\n",
       " 'AAGTTCCG',\n",
       " 'NNAATCCG',\n",
       " 'TCNNTCCG',\n",
       " 'NNGCTCCG',\n",
       " 'TAGGTCCG',\n",
       " 'TAGTTCCG',\n",
       " 'NCTCTCCG',\n",
       " 'TTCATCCG',\n",
       " 'NCGTTCCG',\n",
       " 'CCTTTCCG',\n",
       " 'CCCTTCCG',\n",
       " 'GTCCTCCG',\n",
       " 'TTAATCCG',\n",
       " 'NNNTTCCG',\n",
       " 'NNTTTCCG',\n",
       " 'TACCTCCG',\n",
       " 'CAGATCCG',\n",
       " 'ACCTTCCG',\n",
       " 'AAGATCCG',\n",
       " 'NCNNTCCG',\n",
       " 'GCACTCCG',\n",
       " 'AATCTCCG',\n",
       " 'AGGCTCCG',\n",
       " 'CTTATCCG',\n",
       " 'CTGTTCCG',\n",
       " 'NNGTTCCG',\n",
       " 'TNTNTCCG',\n",
       " 'TTACTCCG',\n",
       " 'CATCTCCG',\n",
       " 'CTCCTCCG',\n",
       " 'CCAATCCG',\n",
       " 'NNGATCCG',\n",
       " 'GGCTTCCG',\n",
       " 'CCTCTCCG',\n",
       " 'NNNCTCCG',\n",
       " 'CGGCTCCG',\n",
       " 'TTGATCCG',\n",
       " 'TTATTCCG',\n",
       " 'NTGCTCCG',\n",
       " 'TGGATCCG',\n",
       " 'GCATTCCG',\n",
       " 'TGCCTCCG',\n",
       " 'TCAGTCCG',\n",
       " 'CAGTTCCG',\n",
       " 'TNNNTCCG',\n",
       " 'CCCATCCG',\n",
       " 'NATATCCG',\n",
       " 'GGTATCCG',\n",
       " 'GGTCTCCG',\n",
       " 'GTCGTCCG',\n",
       " 'GCCGTCCG',\n",
       " 'GAGATCCG',\n",
       " 'ACACTCCG',\n",
       " 'AGCCTCCG',\n",
       " 'ATTATCCG',\n",
       " 'CAGGTCCG',\n",
       " 'TNGATCCG',\n",
       " 'TNNATCCG',\n",
       " 'AGGGTCCG',\n",
       " 'TGAATCCG',\n",
       " 'GAGTTCCG',\n",
       " 'TACATCCG',\n",
       " 'AACATCCG',\n",
       " 'AACTTCCG',\n",
       " 'ATCCTCCG',\n",
       " 'GGCGTCCG',\n",
       " 'GCTGTCCG',\n",
       " 'TCCGTCCG',\n",
       " 'TCNATCCG',\n",
       " 'CATATCCG',\n",
       " 'TTCGTCCG',\n",
       " 'NNGNTCCG',\n",
       " 'ACCGTCCG',\n",
       " 'CTCTTCCG',\n",
       " 'CTCATCCG',\n",
       " 'NNTCTCCG',\n",
       " 'CGGTTCCG',\n",
       " 'CTATTCCG',\n",
       " 'CGGGTCCG',\n",
       " 'CCTGTCCG',\n",
       " 'GTTTTCCG',\n",
       " 'TAACTCCG',\n",
       " 'ACATTCCG',\n",
       " 'ACAGTCCG',\n",
       " 'AATTTCCG',\n",
       " 'TAATTCCG',\n",
       " 'NTNCTCCG',\n",
       " 'NTTATCCG',\n",
       " 'NTGGTCCG',\n",
       " 'NTGNTCCG',\n",
       " 'NTGTTCCG',\n",
       " 'TATGTCCG',\n",
       " 'TACTTCCG',\n",
       " 'AAACTCCG',\n",
       " 'TTTGTCCG',\n",
       " 'TCGNTCCG',\n",
       " 'TCNTTCCG',\n",
       " 'AACGTCCG',\n",
       " 'TNGTTCCG',\n",
       " 'TNGCTCCG',\n",
       " 'TNAATCCG',\n",
       " 'TGTGTCCG',\n",
       " 'TNTTTCCG',\n",
       " 'TNTCTCCG',\n",
       " 'TNNTTCCG',\n",
       " 'TGCGTCCG',\n",
       " 'TGCTTCCG',\n",
       " 'CACGTCCG',\n",
       " 'GAGGTCCG',\n",
       " 'GATCTCCG',\n",
       " 'GATATCCG',\n",
       " 'CACCTCCG',\n",
       " 'GATTTCCG',\n",
       " 'GATGTCCG',\n",
       " 'GACCTCCG',\n",
       " 'GACATCCG',\n",
       " 'CACTTCCG',\n",
       " 'CGCCTCCG',\n",
       " 'CGTGTCCG',\n",
       " 'CTAATCCG',\n",
       " 'CTACTCCG',\n",
       " 'CTTCTCCG',\n",
       " 'CTCGTCCG',\n",
       " 'AGGTTCCG',\n",
       " 'AGTATCCG',\n",
       " 'GTGATCCG',\n",
       " 'ACTGTCCG',\n",
       " 'NNANTCCG',\n",
       " 'NCNTTCCG',\n",
       " 'NCTGTCCG',\n",
       " 'NCGNTCCG',\n",
       " 'NCNCTCCG',\n",
       " 'NGTATCCG',\n",
       " 'NGGTTCCG',\n",
       " 'NNNGTCCG',\n",
       " 'NAGCTCCG',\n",
       " 'NCGGTCCG',\n",
       " 'NCANTCCG',\n",
       " 'NCCATCCG',\n",
       " 'GTTCTCCG',\n",
       " 'GTTATCCG',\n",
       " 'ATCTTCCG',\n",
       " 'ATTCTCCG',\n",
       " 'ATGATCCG',\n",
       " 'ANGATCCG',\n",
       " 'ANTATCCG',\n",
       " 'GTACTCCG',\n",
       " 'GTCATCCG',\n",
       " 'ATAATCCG',\n",
       " 'GGGATCCG']"
      ]
     },
     "execution_count": 39,
     "metadata": {},
     "output_type": "execute_result"
    }
   ],
   "source": [
    "[x for x in i7 if x[-4:]=='TCCG']"
   ]
  },
  {
   "cell_type": "markdown",
   "metadata": {},
   "source": [
    "# combining 2 batches of RNAseq read counts"
   ]
  },
  {
   "cell_type": "code",
   "execution_count": 177,
   "metadata": {
    "ExecuteTime": {
     "end_time": "2019-09-23T15:26:15.678785Z",
     "start_time": "2019-09-23T15:26:14.627788Z"
    }
   },
   "outputs": [
    {
     "data": {
      "text/plain": [
       "True"
      ]
     },
     "execution_count": 177,
     "metadata": {},
     "output_type": "execute_result"
    }
   ],
   "source": [
    "cnt_batch1 = pd.read_csv('/c/groups/sanjana_lab/cdai/TFscreen/data/H2HY7BGXC/rsem_results/rsem_counts.csv')\n",
    "cnt_batch2 = pd.read_csv('/c/groups/sanjana_lab/cdai/TFscreen/data/HFJM7BGXC/rsem_output/rsem_counts.csv')\n",
    "all(cnt_batch1.gene_id == cnt_batch2.gene_id) # check if gene_ids are the same\n",
    "\n",
    "#combining counts\n",
    "cnt_combined = pd.merge(cnt_batch1.iloc[:, 0:23], cnt_batch2, 'inner', on='gene_id', suffixes=('_B1', '_B2'))\n",
    "#reorder columns\n",
    "names = ['gene_id', 'gene_name'] + list(cnt_combined.columns[1:45].sort_values()) \n",
    "cnt_combined = cnt_combined[names]"
   ]
  },
  {
   "cell_type": "code",
   "execution_count": 178,
   "metadata": {
    "ExecuteTime": {
     "end_time": "2019-09-23T15:26:16.465936Z",
     "start_time": "2019-09-23T15:26:16.419617Z"
    }
   },
   "outputs": [
    {
     "data": {
      "text/html": [
       "<div>\n",
       "<style scoped>\n",
       "    .dataframe tbody tr th:only-of-type {\n",
       "        vertical-align: middle;\n",
       "    }\n",
       "\n",
       "    .dataframe tbody tr th {\n",
       "        vertical-align: top;\n",
       "    }\n",
       "\n",
       "    .dataframe thead th {\n",
       "        text-align: right;\n",
       "    }\n",
       "</style>\n",
       "<table border=\"1\" class=\"dataframe\">\n",
       "  <thead>\n",
       "    <tr style=\"text-align: right;\">\n",
       "      <th></th>\n",
       "      <th>gene_id</th>\n",
       "      <th>gene_name</th>\n",
       "      <th>S01_B1</th>\n",
       "      <th>S01_B2</th>\n",
       "      <th>S02_B1</th>\n",
       "      <th>S02_B2</th>\n",
       "      <th>S03_B1</th>\n",
       "      <th>S03_B2</th>\n",
       "      <th>S04_B1</th>\n",
       "      <th>S04_B2</th>\n",
       "      <th>S05_B1</th>\n",
       "      <th>S05_B2</th>\n",
       "      <th>S06_B1</th>\n",
       "      <th>S06_B2</th>\n",
       "      <th>S07_B1</th>\n",
       "      <th>S07_B2</th>\n",
       "      <th>S08_B1</th>\n",
       "      <th>S08_B2</th>\n",
       "      <th>S09_B1</th>\n",
       "      <th>S09_B2</th>\n",
       "      <th>S10_B1</th>\n",
       "      <th>S10_B2</th>\n",
       "      <th>S11_B1</th>\n",
       "      <th>S11_B2</th>\n",
       "      <th>S12_B1</th>\n",
       "      <th>S12_B2</th>\n",
       "      <th>S13_B1</th>\n",
       "      <th>S13_B2</th>\n",
       "      <th>S14_B1</th>\n",
       "      <th>S14_B2</th>\n",
       "      <th>S15_B1</th>\n",
       "      <th>S15_B2</th>\n",
       "      <th>S16_B1</th>\n",
       "      <th>S16_B2</th>\n",
       "      <th>S17_B1</th>\n",
       "      <th>S17_B2</th>\n",
       "      <th>S18_B1</th>\n",
       "      <th>S18_B2</th>\n",
       "      <th>S19_B1</th>\n",
       "      <th>S19_B2</th>\n",
       "      <th>S20_B1</th>\n",
       "      <th>S20_B2</th>\n",
       "      <th>S21_B1</th>\n",
       "      <th>S21_B2</th>\n",
       "      <th>S22_B1</th>\n",
       "      <th>S22_B2</th>\n",
       "    </tr>\n",
       "  </thead>\n",
       "  <tbody>\n",
       "    <tr>\n",
       "      <th>60657</th>\n",
       "      <td>ENSG00000288107.1</td>\n",
       "      <td>AL731769.2</td>\n",
       "      <td>3.0001</td>\n",
       "      <td>10.0001</td>\n",
       "      <td>0.0001</td>\n",
       "      <td>7.0001</td>\n",
       "      <td>0.0001</td>\n",
       "      <td>0.0001</td>\n",
       "      <td>0.0001</td>\n",
       "      <td>0.0001</td>\n",
       "      <td>0.0001</td>\n",
       "      <td>0.0001</td>\n",
       "      <td>0.0001</td>\n",
       "      <td>17.0001</td>\n",
       "      <td>0.0001</td>\n",
       "      <td>0.0001</td>\n",
       "      <td>1.0001</td>\n",
       "      <td>2.0001</td>\n",
       "      <td>2.0001</td>\n",
       "      <td>1.0001</td>\n",
       "      <td>0.0001</td>\n",
       "      <td>0.0001</td>\n",
       "      <td>1.0001</td>\n",
       "      <td>3.0001</td>\n",
       "      <td>1.0001</td>\n",
       "      <td>0.0001</td>\n",
       "      <td>2.0001</td>\n",
       "      <td>1.0501</td>\n",
       "      <td>0.0001</td>\n",
       "      <td>0.0001</td>\n",
       "      <td>3.0001</td>\n",
       "      <td>0.0001</td>\n",
       "      <td>0.0001</td>\n",
       "      <td>2.0001</td>\n",
       "      <td>0.0001</td>\n",
       "      <td>3.0001</td>\n",
       "      <td>2.0001</td>\n",
       "      <td>1.0001</td>\n",
       "      <td>1.0001</td>\n",
       "      <td>0.0001</td>\n",
       "      <td>0.0001</td>\n",
       "      <td>1.0001</td>\n",
       "      <td>7.0001</td>\n",
       "      <td>1.0001</td>\n",
       "      <td>16.0001</td>\n",
       "      <td>3.0001</td>\n",
       "    </tr>\n",
       "    <tr>\n",
       "      <th>60658</th>\n",
       "      <td>ENSG00000288108.1</td>\n",
       "      <td>AC126768.3</td>\n",
       "      <td>0.0001</td>\n",
       "      <td>0.0001</td>\n",
       "      <td>0.0001</td>\n",
       "      <td>0.0001</td>\n",
       "      <td>0.0001</td>\n",
       "      <td>0.0001</td>\n",
       "      <td>0.0001</td>\n",
       "      <td>0.0001</td>\n",
       "      <td>0.0001</td>\n",
       "      <td>0.0001</td>\n",
       "      <td>0.0001</td>\n",
       "      <td>0.0001</td>\n",
       "      <td>0.0001</td>\n",
       "      <td>0.0001</td>\n",
       "      <td>0.0001</td>\n",
       "      <td>0.0001</td>\n",
       "      <td>0.0001</td>\n",
       "      <td>0.0001</td>\n",
       "      <td>0.0001</td>\n",
       "      <td>0.0001</td>\n",
       "      <td>0.0001</td>\n",
       "      <td>0.0001</td>\n",
       "      <td>0.0001</td>\n",
       "      <td>0.0001</td>\n",
       "      <td>0.0001</td>\n",
       "      <td>0.0001</td>\n",
       "      <td>0.0001</td>\n",
       "      <td>0.0001</td>\n",
       "      <td>0.0001</td>\n",
       "      <td>0.0001</td>\n",
       "      <td>0.0001</td>\n",
       "      <td>0.0001</td>\n",
       "      <td>0.0001</td>\n",
       "      <td>0.0001</td>\n",
       "      <td>0.0001</td>\n",
       "      <td>0.0001</td>\n",
       "      <td>0.0001</td>\n",
       "      <td>0.0001</td>\n",
       "      <td>0.0001</td>\n",
       "      <td>0.0001</td>\n",
       "      <td>0.0001</td>\n",
       "      <td>0.0001</td>\n",
       "      <td>0.0001</td>\n",
       "      <td>0.0001</td>\n",
       "    </tr>\n",
       "    <tr>\n",
       "      <th>60659</th>\n",
       "      <td>ENSG00000288109.1</td>\n",
       "      <td>AC079331.3</td>\n",
       "      <td>0.0001</td>\n",
       "      <td>0.0001</td>\n",
       "      <td>0.0001</td>\n",
       "      <td>0.0001</td>\n",
       "      <td>0.0001</td>\n",
       "      <td>0.0001</td>\n",
       "      <td>0.0001</td>\n",
       "      <td>0.0001</td>\n",
       "      <td>0.0001</td>\n",
       "      <td>0.0001</td>\n",
       "      <td>0.0001</td>\n",
       "      <td>0.0001</td>\n",
       "      <td>0.0001</td>\n",
       "      <td>0.0001</td>\n",
       "      <td>0.0001</td>\n",
       "      <td>0.0001</td>\n",
       "      <td>0.0001</td>\n",
       "      <td>0.0001</td>\n",
       "      <td>0.0001</td>\n",
       "      <td>0.0001</td>\n",
       "      <td>0.0001</td>\n",
       "      <td>0.0001</td>\n",
       "      <td>0.0001</td>\n",
       "      <td>0.0001</td>\n",
       "      <td>0.0001</td>\n",
       "      <td>0.0001</td>\n",
       "      <td>0.0001</td>\n",
       "      <td>0.0001</td>\n",
       "      <td>0.0001</td>\n",
       "      <td>0.0001</td>\n",
       "      <td>0.0001</td>\n",
       "      <td>0.0001</td>\n",
       "      <td>0.0001</td>\n",
       "      <td>0.0001</td>\n",
       "      <td>0.0001</td>\n",
       "      <td>0.0001</td>\n",
       "      <td>0.0001</td>\n",
       "      <td>0.0001</td>\n",
       "      <td>0.0001</td>\n",
       "      <td>0.0001</td>\n",
       "      <td>0.0001</td>\n",
       "      <td>0.0001</td>\n",
       "      <td>0.0001</td>\n",
       "      <td>0.0001</td>\n",
       "    </tr>\n",
       "    <tr>\n",
       "      <th>60660</th>\n",
       "      <td>ENSG00000288110.1</td>\n",
       "      <td>AC010941.1</td>\n",
       "      <td>0.0001</td>\n",
       "      <td>0.0001</td>\n",
       "      <td>0.0001</td>\n",
       "      <td>0.0001</td>\n",
       "      <td>0.0001</td>\n",
       "      <td>0.0001</td>\n",
       "      <td>0.0001</td>\n",
       "      <td>0.0001</td>\n",
       "      <td>0.0001</td>\n",
       "      <td>0.0001</td>\n",
       "      <td>0.0001</td>\n",
       "      <td>0.0001</td>\n",
       "      <td>0.0001</td>\n",
       "      <td>0.0001</td>\n",
       "      <td>0.0001</td>\n",
       "      <td>0.0001</td>\n",
       "      <td>0.0001</td>\n",
       "      <td>0.0001</td>\n",
       "      <td>0.0001</td>\n",
       "      <td>0.0001</td>\n",
       "      <td>0.0001</td>\n",
       "      <td>0.0001</td>\n",
       "      <td>0.0001</td>\n",
       "      <td>0.0001</td>\n",
       "      <td>0.0001</td>\n",
       "      <td>0.0001</td>\n",
       "      <td>0.0001</td>\n",
       "      <td>0.0001</td>\n",
       "      <td>0.0001</td>\n",
       "      <td>0.0001</td>\n",
       "      <td>0.0001</td>\n",
       "      <td>0.0001</td>\n",
       "      <td>0.0001</td>\n",
       "      <td>0.0001</td>\n",
       "      <td>0.0001</td>\n",
       "      <td>3.0001</td>\n",
       "      <td>0.0001</td>\n",
       "      <td>0.0001</td>\n",
       "      <td>0.0001</td>\n",
       "      <td>0.0001</td>\n",
       "      <td>0.0001</td>\n",
       "      <td>0.0001</td>\n",
       "      <td>0.0001</td>\n",
       "      <td>0.0001</td>\n",
       "    </tr>\n",
       "    <tr>\n",
       "      <th>60661</th>\n",
       "      <td>ENSG00000288111.1</td>\n",
       "      <td>AC130888.1</td>\n",
       "      <td>0.0001</td>\n",
       "      <td>0.0001</td>\n",
       "      <td>0.0001</td>\n",
       "      <td>1.0001</td>\n",
       "      <td>8.0001</td>\n",
       "      <td>0.0001</td>\n",
       "      <td>0.0001</td>\n",
       "      <td>0.0001</td>\n",
       "      <td>0.0001</td>\n",
       "      <td>1.0001</td>\n",
       "      <td>0.0001</td>\n",
       "      <td>0.0001</td>\n",
       "      <td>0.0001</td>\n",
       "      <td>0.0001</td>\n",
       "      <td>3.0001</td>\n",
       "      <td>1.0001</td>\n",
       "      <td>5.0001</td>\n",
       "      <td>13.0001</td>\n",
       "      <td>3.7101</td>\n",
       "      <td>0.0001</td>\n",
       "      <td>3.0001</td>\n",
       "      <td>10.4401</td>\n",
       "      <td>5.2301</td>\n",
       "      <td>4.0001</td>\n",
       "      <td>4.0001</td>\n",
       "      <td>0.0001</td>\n",
       "      <td>0.0001</td>\n",
       "      <td>0.0001</td>\n",
       "      <td>2.0001</td>\n",
       "      <td>2.0001</td>\n",
       "      <td>14.0001</td>\n",
       "      <td>2.0001</td>\n",
       "      <td>0.0001</td>\n",
       "      <td>0.0001</td>\n",
       "      <td>9.0001</td>\n",
       "      <td>0.0001</td>\n",
       "      <td>0.0001</td>\n",
       "      <td>8.9901</td>\n",
       "      <td>0.0001</td>\n",
       "      <td>0.0001</td>\n",
       "      <td>0.0001</td>\n",
       "      <td>3.0001</td>\n",
       "      <td>5.0001</td>\n",
       "      <td>2.0001</td>\n",
       "    </tr>\n",
       "  </tbody>\n",
       "</table>\n",
       "</div>"
      ],
      "text/plain": [
       "                 gene_id   gene_name  S01_B1   S01_B2  S02_B1  S02_B2  S03_B1  S03_B2  S04_B1  S04_B2  S05_B1  S05_B2  S06_B1   S06_B2  S07_B1  S07_B2  S08_B1  S08_B2  S09_B1   S09_B2  S10_B1  S10_B2  S11_B1   S11_B2  S12_B1  S12_B2  S13_B1  S13_B2  S14_B1  S14_B2  S15_B1  S15_B2   S16_B1  S16_B2  S17_B1  S17_B2  S18_B1  S18_B2  S19_B1  S19_B2  S20_B1  S20_B2  S21_B1  S21_B2   S22_B1  S22_B2\n",
       "60657  ENSG00000288107.1  AL731769.2  3.0001  10.0001  0.0001  7.0001  0.0001  0.0001  0.0001  0.0001  0.0001  0.0001  0.0001  17.0001  0.0001  0.0001  1.0001  2.0001  2.0001   1.0001  0.0001  0.0001  1.0001   3.0001  1.0001  0.0001  2.0001  1.0501  0.0001  0.0001  3.0001  0.0001   0.0001  2.0001  0.0001  3.0001  2.0001  1.0001  1.0001  0.0001  0.0001  1.0001  7.0001  1.0001  16.0001  3.0001\n",
       "60658  ENSG00000288108.1  AC126768.3  0.0001   0.0001  0.0001  0.0001  0.0001  0.0001  0.0001  0.0001  0.0001  0.0001  0.0001   0.0001  0.0001  0.0001  0.0001  0.0001  0.0001   0.0001  0.0001  0.0001  0.0001   0.0001  0.0001  0.0001  0.0001  0.0001  0.0001  0.0001  0.0001  0.0001   0.0001  0.0001  0.0001  0.0001  0.0001  0.0001  0.0001  0.0001  0.0001  0.0001  0.0001  0.0001   0.0001  0.0001\n",
       "60659  ENSG00000288109.1  AC079331.3  0.0001   0.0001  0.0001  0.0001  0.0001  0.0001  0.0001  0.0001  0.0001  0.0001  0.0001   0.0001  0.0001  0.0001  0.0001  0.0001  0.0001   0.0001  0.0001  0.0001  0.0001   0.0001  0.0001  0.0001  0.0001  0.0001  0.0001  0.0001  0.0001  0.0001   0.0001  0.0001  0.0001  0.0001  0.0001  0.0001  0.0001  0.0001  0.0001  0.0001  0.0001  0.0001   0.0001  0.0001\n",
       "60660  ENSG00000288110.1  AC010941.1  0.0001   0.0001  0.0001  0.0001  0.0001  0.0001  0.0001  0.0001  0.0001  0.0001  0.0001   0.0001  0.0001  0.0001  0.0001  0.0001  0.0001   0.0001  0.0001  0.0001  0.0001   0.0001  0.0001  0.0001  0.0001  0.0001  0.0001  0.0001  0.0001  0.0001   0.0001  0.0001  0.0001  0.0001  0.0001  3.0001  0.0001  0.0001  0.0001  0.0001  0.0001  0.0001   0.0001  0.0001\n",
       "60661  ENSG00000288111.1  AC130888.1  0.0001   0.0001  0.0001  1.0001  8.0001  0.0001  0.0001  0.0001  0.0001  1.0001  0.0001   0.0001  0.0001  0.0001  3.0001  1.0001  5.0001  13.0001  3.7101  0.0001  3.0001  10.4401  5.2301  4.0001  4.0001  0.0001  0.0001  0.0001  2.0001  2.0001  14.0001  2.0001  0.0001  0.0001  9.0001  0.0001  0.0001  8.9901  0.0001  0.0001  0.0001  3.0001   5.0001  2.0001"
      ]
     },
     "execution_count": 178,
     "metadata": {},
     "output_type": "execute_result"
    }
   ],
   "source": [
    "cnt_combined.tail()"
   ]
  },
  {
   "cell_type": "code",
   "execution_count": 179,
   "metadata": {
    "ExecuteTime": {
     "end_time": "2019-09-23T15:27:39.076779Z",
     "start_time": "2019-09-23T15:27:35.719671Z"
    }
   },
   "outputs": [],
   "source": [
    "cnt_combined.to_csv('/c/groups/sanjana_lab/cdai/TFscreen/rsem_counts_B1B2_combined.csv', index=False)"
   ]
  },
  {
   "cell_type": "code",
   "execution_count": 182,
   "metadata": {
    "ExecuteTime": {
     "end_time": "2019-09-23T15:29:28.239588Z",
     "start_time": "2019-09-23T15:29:05.926918Z"
    }
   },
   "outputs": [],
   "source": [
    "!bash ../../../syncDropbox"
   ]
  },
  {
   "cell_type": "code",
   "execution_count": null,
   "metadata": {},
   "outputs": [],
   "source": []
  }
 ],
 "metadata": {
  "kernelspec": {
   "display_name": "Python 3",
   "language": "python",
   "name": "python3"
  },
  "language_info": {
   "codemirror_mode": {
    "name": "ipython",
    "version": 3
   },
   "file_extension": ".py",
   "mimetype": "text/x-python",
   "name": "python",
   "nbconvert_exporter": "python",
   "pygments_lexer": "ipython3",
   "version": "3.7.0"
  },
  "toc": {
   "base_numbering": 1,
   "nav_menu": {},
   "number_sections": true,
   "sideBar": true,
   "skip_h1_title": false,
   "title_cell": "Table of Contents",
   "title_sidebar": "Contents",
   "toc_cell": false,
   "toc_position": {},
   "toc_section_display": true,
   "toc_window_display": false
  }
 },
 "nbformat": 4,
 "nbformat_minor": 2
}
