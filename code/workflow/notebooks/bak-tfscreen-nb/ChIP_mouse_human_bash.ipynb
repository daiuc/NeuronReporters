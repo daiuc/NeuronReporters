{
 "cells": [
  {
   "cell_type": "markdown",
   "metadata": {},
   "source": [
    "# Bash notes for analyzing ChIP data for mouse and human"
   ]
  },
  {
   "cell_type": "markdown",
   "metadata": {},
   "source": [
    "## 1. mouse ChIP"
   ]
  },
  {
   "cell_type": "code",
   "execution_count": 2,
   "metadata": {},
   "outputs": [],
   "source": [
    "cd /gpfs/commons/groups/sanjana_lab/cdai/TFscreen/mouse_chip_mazzoni"
   ]
  },
  {
   "cell_type": "code",
   "execution_count": 12,
   "metadata": {},
   "outputs": [
    {
     "name": "stdout",
     "output_type": "stream",
     "text": [
      "File\t\t\t\t\tChIP\t\tReplicate\tGenotype\n",
      "HJY7YBGX2_n01_ba65.fastq.gz\t\tINPUT\n",
      "\n",
      "H7KNHBGX3_n01_ba67.fastq.gz\t\tNeurog2\t\t1\t\tiNeurog2 Wildtype\n",
      "HL2NTBGX3_n01_ba108.fastq.gz\t\tNeurog2\t\t2\t\tiNeurog2 Wildtype\n",
      "\t\t\t\n",
      "HKLCTDRXX_n01_GG088.fastq.gz\t\tNeurog2\t\t1\t\tiNeurog2 Zbtb18KO\n",
      "HKLCTDRXX_n01_GG089.fastq.gz\t\tNeurog2\t\t2\t\tiNeurog2 Zbtb18KO\n",
      "\n",
      "HKLCTDRXX_n01_GG090.fastq.gz\t\tZbtb18\t\t1\t\tiNeurog2 Wildtype\n",
      "HKLCTDRXX_n01_GG091.fastq.gz\t\tZbtb18\t\t2\t\tiNeurog2 Wildtype\n",
      "\n"
     ]
    }
   ],
   "source": [
    "cat README"
   ]
  },
  {
   "cell_type": "code",
   "execution_count": 26,
   "metadata": {},
   "outputs": [
    {
     "name": "stdout",
     "output_type": "stream",
     "text": [
      "33289426 reads; of these:\n",
      "  33289426 (100.00%) were unpaired; of these:\n",
      "    1782250 (5.35%) aligned 0 times\n",
      "    25940568 (77.92%) aligned exactly 1 time\n",
      "    5566608 (16.72%) aligned >1 times\n",
      "94.65% overall alignment rate\n"
     ]
    }
   ],
   "source": [
    "cat bowtie2_logs/bowtie2.e823545"
   ]
  },
  {
   "cell_type": "code",
   "execution_count": 29,
   "metadata": {
    "scrolled": false
   },
   "outputs": [
    {
     "name": "stdout",
     "output_type": "stream",
     "text": [
      "5566608\n",
      "7196568\n",
      "16168694\n",
      "9902406\n",
      "7400001\n",
      "11001905\n",
      "9246092\n"
     ]
    }
   ],
   "source": [
    "cat bowtie2_logs/bowtie2.e8235* | grep \"aligned >1\" | awk '{print $1}'"
   ]
  },
  {
   "cell_type": "code",
   "execution_count": 25,
   "metadata": {},
   "outputs": [
    {
     "name": "stdout",
     "output_type": "stream",
     "text": [
      "HL2NTBGX3_n01_ba108.sam\n",
      "H7KNHBGX3_n01_ba67.sam\n",
      "HJY7YBGX2_n01_ba65.sam\n",
      "HKLCTDRXX_n01_GG088.sam\n",
      "HKLCTDRXX_n01_GG089.sam\n",
      "HKLCTDRXX_n01_GG090.sam\n",
      "HKLCTDRXX_n01_GG091.sam\n"
     ]
    }
   ],
   "source": [
    "cat bowtie2_logs/bowtie2.o82* | awk '$1 ~ /bowtie2/ {print $10}'"
   ]
  },
  {
   "cell_type": "markdown",
   "metadata": {},
   "source": [
    "---\n",
    "\n",
    "## human ChIP"
   ]
  },
  {
   "cell_type": "code",
   "execution_count": 33,
   "metadata": {},
   "outputs": [],
   "source": [
    "cd /gpfs/commons/groups/sanjana_lab/cdai/TFscreen/human_chip_Zhang_stemCell"
   ]
  },
  {
   "cell_type": "code",
   "execution_count": 35,
   "metadata": {},
   "outputs": [
    {
     "name": "stdout",
     "output_type": "stream",
     "text": [
      "bowtie.o10852130.1   bowtie.o10852130.18  trim.o10852128.1   trim.o10852128.18\n",
      "bowtie.o10852130.10  bowtie.o10852130.2   trim.o10852128.10  trim.o10852128.2\n",
      "bowtie.o10852130.11  bowtie.o10852130.3   trim.o10852128.11  trim.o10852128.3\n",
      "bowtie.o10852130.12  bowtie.o10852130.4   trim.o10852128.12  trim.o10852128.4\n",
      "bowtie.o10852130.13  bowtie.o10852130.5   trim.o10852128.13  trim.o10852128.5\n",
      "bowtie.o10852130.14  bowtie.o10852130.6   trim.o10852128.14  trim.o10852128.6\n",
      "bowtie.o10852130.15  bowtie.o10852130.7   trim.o10852128.15  trim.o10852128.7\n",
      "bowtie.o10852130.16  bowtie.o10852130.8   trim.o10852128.16  trim.o10852128.8\n",
      "bowtie.o10852130.17  bowtie.o10852130.9   trim.o10852128.17  trim.o10852128.9\n"
     ]
    }
   ],
   "source": [
    "ls logs"
   ]
  },
  {
   "cell_type": "code",
   "execution_count": 38,
   "metadata": {},
   "outputs": [
    {
     "name": "stdout",
     "output_type": "stream",
     "text": [
      " \n",
      "Sat May  2 22:34:38 EDT 2020\n",
      "Task_ID: 1: \n",
      "------------------------\n",
      "running bowtie2\n",
      "bowtie2 --phred33 \t-p 20 \t-x /gpfs/commons/groups/sanjana_lab/cdai/ref_genome/bowtie2_human/gencode_GRCh38.primary_assembly.genome \t-U /gpfs/commons/groups/sanjana_lab/cdai/TFscreen/human_chip_Zhang_stemCell/fastq/SRR2989126.trim.fastq \t-S SRR2989126.sam\n",
      "63539421 reads; of these:\n",
      "  63539421 (100.00%) were unpaired; of these:\n",
      "    728728 (1.15%) aligned 0 times\n",
      "    42479798 (66.86%) aligned exactly 1 time\n",
      "    20330895 (32.00%) aligned >1 times\n",
      "98.85% overall alignment rate\n",
      " \n",
      "------------------------\n",
      "Running samtools\n",
      "samtools view -b -q 20 -F 4 -@ 20 -o SRR2989126.unsorted.bam SRR2989126.sam\n",
      "samtools sort -@ 20 -o SRR2989126.sorted.bam SRR2989126.unsorted.bam\n",
      "[bam_sort_core] merging from 0 files and 20 in-memory blocks...\n",
      " samtools index SRR2989126.sorted.bam \n",
      "All done. Success! @ Sat May  2 22:46:43 EDT 2020\n"
     ]
    }
   ],
   "source": [
    "cat logs/bowtie.o10852130.1"
   ]
  },
  {
   "cell_type": "code",
   "execution_count": 45,
   "metadata": {
    "scrolled": false
   },
   "outputs": [
    {
     "name": "stdout",
     "output_type": "stream",
     "text": [
      "20330895\n",
      "15358608\n",
      "15291267\n",
      "15317268\n",
      "14182729\n",
      "13915301\n",
      "13861719\n",
      "14258594\n",
      "15207826\n",
      "13782678\n",
      "17109676\n",
      "16256312\n",
      "18831902\n",
      "17848048\n",
      "18051392\n",
      "15725507\n",
      "16553757\n",
      "14757746\n"
     ]
    }
   ],
   "source": [
    "cat logs/bowtie.o* | grep \">1\" | awk '{print $1}'"
   ]
  },
  {
   "cell_type": "code",
   "execution_count": null,
   "metadata": {},
   "outputs": [],
   "source": []
  },
  {
   "cell_type": "markdown",
   "metadata": {},
   "source": [
    "# overlapping ChIP peaks between NGN2 and ZBTB18"
   ]
  },
  {
   "cell_type": "code",
   "execution_count": 46,
   "metadata": {},
   "outputs": [],
   "source": [
    "cd /gpfs/commons/groups/sanjana_lab/cdai/TFscreen/mouse_chip_mazzoni/macs2"
   ]
  },
  {
   "cell_type": "code",
   "execution_count": 67,
   "metadata": {},
   "outputs": [
    {
     "name": "stdout",
     "output_type": "stream",
     "text": [
      "NGN2_WT_rmChr_rmBlack_FC10_summits.bed  ZB18_WT_rmChr_rmBlack_FC10_summits.bed\n"
     ]
    }
   ],
   "source": [
    "ls *FC10_summits.bed"
   ]
  },
  {
   "cell_type": "code",
   "execution_count": 139,
   "metadata": {},
   "outputs": [
    {
     "name": "stdout",
     "output_type": "stream",
     "text": [
      "GL456359.1\t19811\t20273\tNGN2_WT_peak_1\t54\t.\t5.25609\t7.82980\t5.49612\t401\n",
      "JH584299.1\t507846\t508184\tNGN2_WT_peak_2\t348\t.\t14.87588\t37.78546\t34.80893\t171\n",
      "JH584304.1\t2044\t2360\tNGN2_WT_peak_3\t85\t.\t2.96683\t10.96903\t8.51873\t146\n",
      "JH584304.1\t36763\t37484\tNGN2_WT_peak_4\t341\t.\t4.38411\t37.13146\t34.16594\t532\n",
      "JH584304.1\t38240\t38673\tNGN2_WT_peak_5\t90\t.\t2.60098\t11.56033\t9.09858\t117\n",
      "JH584304.1\t39170\t39598\tNGN2_WT_peak_6\t236\t.\t3.28308\t26.43129\t23.62946\t143\n",
      "JH584304.1\t40069\t40422\tNGN2_WT_peak_7\t241\t.\t4.03684\t26.91676\t24.10773\t151\n",
      "JH584304.1\t41287\t41482\tNGN2_WT_peak_8\t23\t.\t1.91554\t4.45160\t2.31105\t166\n",
      "JH584304.1\t43919\t44262\tNGN2_WT_peak_9\t143\t.\t2.90362\t16.94700\t14.33598\t168\n",
      "JH584304.1\t58806\t59222\tNGN2_WT_peak_10\t86\t.\t1.76379\t11.06051\t8.60844\t275\n"
     ]
    }
   ],
   "source": [
    "head NGN2_WT_peaks.narrowPeak"
   ]
  },
  {
   "cell_type": "code",
   "execution_count": 53,
   "metadata": {},
   "outputs": [
    {
     "name": "stdout",
     "output_type": "stream",
     "text": [
      "chr1\t3198709\t3198710\tNGN2_WT_peak_12\t14.16330\n",
      "chr1\t4154399\t4154400\tNGN2_WT_peak_18\t20.89378\n",
      "chr1\t4424877\t4424878\tNGN2_WT_peak_20\t20.45773\n",
      "chr1\t4427030\t4427031\tNGN2_WT_peak_21\t13.09444\n",
      "chr1\t4430515\t4430516\tNGN2_WT_peak_22\t46.22927\n",
      "chr1\t4520091\t4520092\tNGN2_WT_peak_25\t13.56949\n",
      "chr1\t4667164\t4667165\tNGN2_WT_peak_28\t18.08248\n",
      "chr1\t4766935\t4766936\tNGN2_WT_peak_29\t10.05593\n",
      "chr1\t4802726\t4802727\tNGN2_WT_peak_32\t17.19268\n",
      "chr1\t4970868\t4970869\tNGN2_WT_peak_38\t26.52352\n"
     ]
    }
   ],
   "source": [
    "head NGN2_WT_rmChr_rmBlack_FC10_summits.bed"
   ]
  },
  {
   "cell_type": "markdown",
   "metadata": {},
   "source": [
    "#### Get NGN2 and ZBTB18 binding sites\n",
    "flank peak summit 10 bp on either end"
   ]
  },
  {
   "cell_type": "raw",
   "metadata": {},
   "source": [
    "slopBed \\\n",
    "        -i NGN2_WT_rmChr_rmBlack_FC10_summits.bed \\\n",
    "        -g ../GRCm38.primary_assembly.genome.chrom.size \\\n",
    "        -b 10 \\\n",
    "        > NGN2_WT_FC10_20bpSite.bed"
   ]
  },
  {
   "cell_type": "raw",
   "metadata": {},
   "source": [
    "slopBed \\\n",
    "        -i ZB18_WT_rmChr_rmBlack_FC10_summits.bed \\\n",
    "        -g ../GRCm38.primary_assembly.genome.chrom.size \\\n",
    "        -b 10 \\\n",
    "        > ZB18_WT_FC10_20bpSite.bed"
   ]
  },
  {
   "cell_type": "code",
   "execution_count": 69,
   "metadata": {},
   "outputs": [
    {
     "name": "stdout",
     "output_type": "stream",
     "text": [
      "  19177 NGN2_WT_FC10_20bpSite.bed\n",
      "  16203 ZB18_WT_FC10_20bpSite.bed\n",
      "  35380 total\n"
     ]
    }
   ],
   "source": [
    "wc -l *_WT_FC10_20bpSite.bed"
   ]
  },
  {
   "cell_type": "markdown",
   "metadata": {},
   "source": [
    "### Find overlapping binding sites between NGN2 and ZBTB18 (minimum 15bp overlap reciprocally)"
   ]
  },
  {
   "cell_type": "raw",
   "metadata": {},
   "source": [
    "intersectBed -wo -f 0.75 -r \\\n",
    "        -a NGN2_WT_FC10_20bpSite.bed \\\n",
    "        -b ZB18_WT_FC10_20bpSite.bed \\\n",
    "        > NGN2_ZB18_overlap_Sites.bed\n",
    "\n",
    "intersectBed -wo -f 0.75 -r \\\n",
    "        -a ZB18_WT_FC10_20bpSite.bed \\\n",
    "        -b NGN2_WT_FC10_20bpSite.bed \\\n",
    "        > ZB18_NGN2_overlap_Sites.bed"
   ]
  },
  {
   "cell_type": "markdown",
   "metadata": {},
   "source": [
    "### What about the non-overlapping peaks? Are they adjacent?\n",
    "\n",
    "\n",
    "Definition of adjacent binding sites, \n",
    "\n",
    "e.g. for NGN2: \n",
    "- NGN2 binding site must **not** be directly overlapping with ZBTB18 binding site (aka. not in NGN2_ZB18_overlap_Sites.bed)\n",
    "- NGN2 binding site must overlap with ZBTB18's peaks\n",
    "\n",
    "vice versa for ZBTB18"
   ]
  },
  {
   "cell_type": "code",
   "execution_count": 155,
   "metadata": {},
   "outputs": [],
   "source": [
    "# first intersectBed gets the NGN2 binding sites that do not overlap with ZB18 binding sites (less than 75% overlap)\n",
    "# second intersectBed gets the ZB18 binding sites that do not overlap with NGN binding sites (lesss than 75% overlap)\n",
    "\n",
    "intersectBed -wa -v -a NGN2_WT_FC10_20bpSite.bed -b NGN2_ZB18_overlap_Sites.bed  \\\n",
    "    > NGN2_NONoverlap_Sites.bed\n",
    "\n",
    "intersectBed -wa -v -a ZB18_WT_FC10_20bpSite.bed -b ZB18_NGN2_overlap_Sites.bed  \\\n",
    "    > ZB18_NONoverlap_Sites.bed"
   ]
  },
  {
   "cell_type": "code",
   "execution_count": 170,
   "metadata": {},
   "outputs": [],
   "source": [
    "# closestBed find the non-overlapping features in NGN2 and ZB18 non-overlapping binding site: adjacent binding sites\n",
    "# only select distance less than 700. 700 is about third quartile of peak width of NGN2 and ZB18's FC filteed peak file\n",
    "closestBed  -d -io \\\n",
    "    -a NGN2_NONoverlap_Sites.bed \\\n",
    "    -b ZB18_NONoverlap_Sites.bed | \\\n",
    "    awk 'BEGIN {OFS=\"\\t\"}; $11 < 700 {print}' \\\n",
    "    > NGN2_ZB18_adjacent_sites.bed"
   ]
  },
  {
   "cell_type": "code",
   "execution_count": 172,
   "metadata": {},
   "outputs": [
    {
     "name": "stdout",
     "output_type": "stream",
     "text": [
      "chr1\t4424867\t4424888\tNGN2_WT_peak_20\t20.45773\tchr1\t4424841\t4424862\tZB18_WT_peak_22\t26.58280\t6\n",
      "chr1\t4427020\t4427041\tNGN2_WT_peak_21\t13.09444\tchr1\t4427090\t4427111\tZB18_WT_peak_23\t72.89090\t50\n",
      "chr1\t4430505\t4430526\tNGN2_WT_peak_22\t46.22927\tchr1\t4430560\t4430581\tZB18_WT_peak_24\t18.76882\t35\n",
      "chr1\t4766925\t4766946\tNGN2_WT_peak_29\t10.05593\tchr1\t4767157\t4767178\tZB18_WT_peak_27\t28.31010\t212\n",
      "chr1\t7105321\t7105342\tNGN2_WT_peak_59\t41.00370\tchr1\t7105300\t7105321\tZB18_WT_peak_57\t31.51794\t1\n",
      "chr1\t7313587\t7313608\tNGN2_WT_peak_60\t15.80353\tchr1\t7313635\t7313656\tZB18_WT_peak_59\t18.62057\t28\n",
      "chr1\t9032891\t9032912\tNGN2_WT_peak_64\t18.44806\tchr1\t9032859\t9032880\tZB18_WT_peak_64\t13.63276\t12\n",
      "chr1\t9578908\t9578929\tNGN2_WT_peak_68\t37.20329\tchr1\t9578934\t9578955\tZB18_WT_peak_68\t18.19305\t6\n",
      "chr1\t9649374\t9649395\tNGN2_WT_peak_74\t32.66060\tchr1\t9649314\t9649335\tZB18_WT_peak_73\t11.03041\t40\n",
      "chr1\t10489555\t10489576\tNGN2_WT_peak_89\t13.68825\tchr1\t10490222\t10490243\tZB18_WT_peak_83\t16.13674\t647\n"
     ]
    }
   ],
   "source": [
    "head NGN2_ZB18_adjacent_sites.bed"
   ]
  },
  {
   "cell_type": "markdown",
   "metadata": {},
   "source": [
    "### Annotate overlapping sites and adjacent sites\n"
   ]
  },
  {
   "cell_type": "raw",
   "metadata": {},
   "source": [
    "# annotate overlapping sites with gene names (overlapping with gene_body + up2k)\n",
    "intersectBed -wo -f 0.9 \\\n",
    "        -a NGN2_ZB18_overlap_Sites.bed \\\n",
    "        -b ../mm10_gencode_geneOnly_up2k.bed | \\\n",
    "        cut -f 1,2,3,4,5,6,7,8,9,10,11,15 > NGN2_ZB18_overlap_Sites_anno.bed"
   ]
  },
  {
   "cell_type": "code",
   "execution_count": 176,
   "metadata": {},
   "outputs": [],
   "source": [
    "# annotate adjacent sites with gene names\n",
    "\n",
    "intersectBed -wo -f 0.9 \\\n",
    "        -a NGN2_ZB18_adjacent_sites.bed \\\n",
    "        -b ../mm10_gencode_geneOnly_up2k.bed | \\\n",
    "        cut -f 1,2,3,4,5,6,7,8,9,10,11,15 \\\n",
    "        > NGN2_ZB18_adjacent_sites_anno.bed"
   ]
  },
  {
   "cell_type": "code",
   "execution_count": 177,
   "metadata": {},
   "outputs": [
    {
     "name": "stdout",
     "output_type": "stream",
     "text": [
      "chr1\t7105321\t7105342\tNGN2_WT_peak_59\t41.00370\tchr1\t7105300\t7105321\tZB18_WT_peak_57\t31.51794\t1\tPCMTD1\n",
      "chr1\t9032891\t9032912\tNGN2_WT_peak_64\t18.44806\tchr1\t9032859\t9032880\tZB18_WT_peak_64\t13.63276\t12\tSNTG1\n",
      "chr1\t9578908\t9578929\tNGN2_WT_peak_68\t37.20329\tchr1\t9578934\t9578955\tZB18_WT_peak_68\t18.19305\t6\tADHFE1\n",
      "chr1\t10489555\t10489576\tNGN2_WT_peak_89\t13.68825\tchr1\t10490222\t10490243\tZB18_WT_peak_83\t16.13674\t647\tCPA6\n",
      "chr1\t14185982\t14186003\tNGN2_WT_peak_156\t25.88853\tchr1\t14186023\t14186044\tZB18_WT_peak_154\t10.48332\t21\tEYA1\n",
      "chr1\t15349278\t15349299\tNGN2_WT_peak_173\t58.34308\tchr1\t15349324\t15349345\tZB18_WT_peak_170\t19.09783\t26\tKCNB2\n",
      "chr1\t20351935\t20351956\tNGN2_WT_peak_223\t11.66928\tchr1\t20351878\t20351899\tZB18_WT_peak_210\t10.46133\t37\tPKHD1\n",
      "chr1\t21460968\t21460989\tNGN2_WT_peak_252\t16.50354\tchr1\t21461094\t21461115\tZB18_WT_peak_229\t17.13679\t106\tKCNQ5\n",
      "chr1\t22475261\t22475282\tNGN2_WT_peak_260\t23.25819\tchr1\t22475790\t22475811\tZB18_WT_peak_239\t15.56098\t509\tRIMS1\n",
      "chr1\t34041575\t34041596\tNGN2_WT_peak_382\t34.82804\tchr1\t34041505\t34041526\tZB18_WT_peak_336\t21.48315\t50\tDST\n"
     ]
    }
   ],
   "source": [
    "head NGN2_ZB18_adjacent_sites_anno.bed"
   ]
  },
  {
   "cell_type": "code",
   "execution_count": null,
   "metadata": {},
   "outputs": [],
   "source": []
  },
  {
   "cell_type": "markdown",
   "metadata": {},
   "source": [
    "# motif matchr for ZBTB18 and Neurog2"
   ]
  },
  {
   "cell_type": "code",
   "execution_count": 61,
   "metadata": {},
   "outputs": [],
   "source": [
    "cd /gpfs/commons/groups/sanjana_lab/cdai/TFscreen/neuron_tf"
   ]
  },
  {
   "cell_type": "code",
   "execution_count": 96,
   "metadata": {},
   "outputs": [
    {
     "name": "stdout",
     "output_type": "stream",
     "text": [
      "-rw-rw-r-- 1 cdai nslab 2647 Jun  1 13:36 NEUROG2_motifMatchr_coords.bed\n",
      "-rw-rw-r-- 1 cdai nslab 5283 Jun  1 13:36 ZBTB18_motifMatchr_coords.bed\n",
      "-rw-rw-r-- 1 cdai nslab 1561 Jun  1 12:53 NGN_ZB18_adjacent-overlap_sites.bed\n",
      "-rw-rw-r-- 1 cdai nslab 2330 Jun  1 12:53 ZB18_NGN_adjacent-overlap_sites.bed\n"
     ]
    }
   ],
   "source": [
    "ll *.bed"
   ]
  },
  {
   "cell_type": "raw",
   "metadata": {},
   "source": [
    "intersectBed -loj -f 0.9 -a ZBTB18_motifMatchr_coords.bed -b ../human_chip_Zhang_stemCell/gencode_GRCh38_pri_geneOnly_up2k.bed  | \\\n",
    "    awk 'BEGIN {OFS=\"\\t\"}; {print $1, $2, $3, $10, $5, $6}' > ZBTB18_motifMatchr_coords_anno.bed"
   ]
  },
  {
   "cell_type": "raw",
   "metadata": {},
   "source": [
    "intersectBed -loj -f 0.9 -a NEUROG2_motifMatchr_coords.bed -b ../human_chip_Zhang_stemCell/gencode_GRCh38_pri_geneOnly_up2k.bed  | \\\n",
    "    awk 'BEGIN {OFS=\"\\t\"}; {print $1, $2, $3, $10, $5, $6}' > NEUROG2_motifMatchr_coords_anno.bed"
   ]
  },
  {
   "cell_type": "code",
   "execution_count": 105,
   "metadata": {},
   "outputs": [],
   "source": [
    "sort -k1 -k2 -V NEUROG2_motifMatchr_coords.bed > NEUROG2_motifMatchr_coords.bed\n",
    "sort -k1 -k2 -V ZBTB18_motifMatchr_coords.bed > ZBTB18_motifMatchr_coords.bed"
   ]
  },
  {
   "cell_type": "code",
   "execution_count": 108,
   "metadata": {},
   "outputs": [],
   "source": [
    "cat NEUROG2_motifMatchr_coords.bed"
   ]
  },
  {
   "cell_type": "code",
   "execution_count": 112,
   "metadata": {},
   "outputs": [],
   "source": [
    "# closestBed find adjacent binding sites\n",
    "# only select distance less than 700. 700 is about third quartile of peak width of NGN2 and ZB18's FC filteed peak file\n",
    "closestBed  -d \\\n",
    "    -a ZBTB18_motifMatchr_coords.bed \\\n",
    "    -b NEUROG2_motifMatchr_coords.bed \\\n",
    "    -g /gpfs/commons/groups/sanjana_lab/cdai/ref_genome/gencode_GRCh38.primary_assembly.genome.chrom.size | \\\n",
    "    awk 'BEGIN {OFS=\"\\t\"}; $13 < 700 && $13 >= 0 {print}' \\\n",
    "    > ZB18_NGN_adjacent-overlap_sites.bed\n",
    "    \n",
    "    closestBed  -d \\\n",
    "    -a NEUROG2_motifMatchr_coords.bed \\\n",
    "    -b ZBTB18_motifMatchr_coords.bed \\\n",
    "    -g /gpfs/commons/groups/sanjana_lab/cdai/ref_genome/gencode_GRCh38.primary_assembly.genome.chrom.size | \\\n",
    "    awk 'BEGIN {OFS=\"\\t\"}; $13 < 700 && $13 >= 0 {print}' \\\n",
    "    > NGN_ZB18_adjacent-overlap_sites.bed"
   ]
  },
  {
   "cell_type": "markdown",
   "metadata": {},
   "source": [
    "#### now find which of those adjacent/overlap Bsites overlap with ATAC peaks"
   ]
  },
  {
   "cell_type": "code",
   "execution_count": 115,
   "metadata": {},
   "outputs": [
    {
     "name": "stdout",
     "output_type": "stream",
     "text": [
      "chr5\t158812503\t158812512\t.\t11.7560987664637\t-\tchr5\t158812501\t158812513\t.\t14.156851964135898\t+\t0\n"
     ]
    }
   ],
   "source": [
    "intersectBed -u \\\n",
    "        -a NGN_ZB18_adjacent-overlap_sites.bed \\\n",
    "        -b ../atac/macs2/v7/ATAC_11+12_merged_peaks.narrowPeak ../atac/macs2/v7/ATAC_11+12_merged_peaks.narrowPeak"
   ]
  },
  {
   "cell_type": "code",
   "execution_count": 116,
   "metadata": {},
   "outputs": [
    {
     "name": "stdout",
     "output_type": "stream",
     "text": [
      "chr5\t158812501\t158812513\t.\t14.156851964135898\t+\tchr5\t158812503\t158812512\t.\t11.7560987664637\t-\t0\n"
     ]
    }
   ],
   "source": [
    "intersectBed -u \\\n",
    "        -a ZB18_NGN_adjacent-overlap_sites.bed \\\n",
    "        -b ../atac/macs2/v7/ATAC_11+12_merged_peaks.narrowPeak ../atac/macs2/v7/ATAC_11+12_merged_peaks.narrowPeak"
   ]
  }
 ],
 "metadata": {
  "kernelspec": {
   "display_name": "Bash",
   "language": "bash",
   "name": "bash"
  },
  "language_info": {
   "codemirror_mode": "shell",
   "file_extension": ".sh",
   "mimetype": "text/x-sh",
   "name": "bash"
  }
 },
 "nbformat": 4,
 "nbformat_minor": 2
}
