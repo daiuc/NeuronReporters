{
 "cells": [
  {
   "cell_type": "code",
   "execution_count": 1,
   "id": "6789948a-bf99-4b25-a088-30c8176fd9bc",
   "metadata": {},
   "outputs": [
    {
     "name": "stderr",
     "output_type": "stream",
     "text": [
      "── \u001b[1mAttaching packages\u001b[22m ───────────────────────────────────────────────────────────────────────────────────────────────────────────────────────────────────────────────────────────────────────────────────────────────────── tidyverse 1.3.0 ──\n",
      "\n",
      "\u001b[32m✔\u001b[39m \u001b[34mggplot2\u001b[39m 3.3.5     \u001b[32m✔\u001b[39m \u001b[34mpurrr  \u001b[39m 0.3.4\n",
      "\u001b[32m✔\u001b[39m \u001b[34mtibble \u001b[39m 3.1.3     \u001b[32m✔\u001b[39m \u001b[34mdplyr  \u001b[39m 1.0.7\n",
      "\u001b[32m✔\u001b[39m \u001b[34mtidyr  \u001b[39m 1.1.3     \u001b[32m✔\u001b[39m \u001b[34mstringr\u001b[39m 1.4.0\n",
      "\u001b[32m✔\u001b[39m \u001b[34mreadr  \u001b[39m 2.0.0     \u001b[32m✔\u001b[39m \u001b[34mforcats\u001b[39m 0.5.1\n",
      "\n",
      "── \u001b[1mConflicts\u001b[22m ──────────────────────────────────────────────────────────────────────────────────────────────────────────────────────────────────────────────────────────────────────────────────────────────────────── tidyverse_conflicts() ──\n",
      "\u001b[31m✖\u001b[39m \u001b[34mdplyr\u001b[39m::\u001b[32mfilter()\u001b[39m masks \u001b[34mstats\u001b[39m::filter()\n",
      "\u001b[31m✖\u001b[39m \u001b[34mdplyr\u001b[39m::\u001b[32mlag()\u001b[39m    masks \u001b[34mstats\u001b[39m::lag()\n",
      "\n"
     ]
    }
   ],
   "source": [
    "library(tidyverse)"
   ]
  },
  {
   "cell_type": "code",
   "execution_count": 3,
   "id": "707fac33-61de-4325-921e-cbed738430af",
   "metadata": {},
   "outputs": [],
   "source": [
    "a=data.table::fread(\"~/cdai/Neurons/Results/RNAseq/RSEM/H2HY7BGXC_S01.genes.results\")"
   ]
  },
  {
   "cell_type": "code",
   "execution_count": 4,
   "id": "cec7fd12-e556-48d6-bc78-08a3cf79cc98",
   "metadata": {},
   "outputs": [
    {
     "data": {
      "text/html": [
       "<table class=\"dataframe\">\n",
       "<caption>A data.table: 6 × 15</caption>\n",
       "<thead>\n",
       "\t<tr><th scope=col>gene_id</th><th scope=col>transcript_id(s)</th><th scope=col>length</th><th scope=col>effective_length</th><th scope=col>expected_count</th><th scope=col>TPM</th><th scope=col>FPKM</th><th scope=col>posterior_mean_count</th><th scope=col>posterior_standard_deviation_of_count</th><th scope=col>pme_TPM</th><th scope=col>pme_FPKM</th><th scope=col>TPM_ci_lower_bound</th><th scope=col>TPM_ci_upper_bound</th><th scope=col>FPKM_ci_lower_bound</th><th scope=col>FPKM_ci_upper_bound</th></tr>\n",
       "\t<tr><th scope=col>&lt;chr&gt;</th><th scope=col>&lt;chr&gt;</th><th scope=col>&lt;dbl&gt;</th><th scope=col>&lt;dbl&gt;</th><th scope=col>&lt;dbl&gt;</th><th scope=col>&lt;dbl&gt;</th><th scope=col>&lt;dbl&gt;</th><th scope=col>&lt;dbl&gt;</th><th scope=col>&lt;dbl&gt;</th><th scope=col>&lt;dbl&gt;</th><th scope=col>&lt;dbl&gt;</th><th scope=col>&lt;dbl&gt;</th><th scope=col>&lt;dbl&gt;</th><th scope=col>&lt;dbl&gt;</th><th scope=col>&lt;dbl&gt;</th></tr>\n",
       "</thead>\n",
       "<tbody>\n",
       "\t<tr><td>ENSG00000000003.14</td><td>ENST00000373020.8,ENST00000494424.1,ENST00000496771.5,ENST00000612152.4,ENST00000614008.4                                                                         </td><td>2226.73</td><td>2178.70</td><td>817.00</td><td> 56.94</td><td> 66.54</td><td>817.00</td><td>0.00</td><td> 53.62</td><td> 64.69</td><td> 49.985000</td><td> 57.31260</td><td> 60.267000</td><td> 69.09780</td></tr>\n",
       "\t<tr><td>ENSG00000000005.6 </td><td>ENST00000373031.5,ENST00000485971.1                                                                                                                               </td><td>1205.00</td><td>1156.97</td><td> 19.00</td><td>  2.49</td><td>  2.91</td><td> 19.00</td><td>0.00</td><td>  2.73</td><td>  3.29</td><td>  1.597760</td><td>  3.96408</td><td>  1.928410</td><td>  4.78412</td></tr>\n",
       "\t<tr><td>ENSG00000000419.12</td><td>ENST00000371582.8,ENST00000371584.8,ENST00000371588.9,ENST00000413082.1,ENST00000466152.5,ENST00000494752.1                                                       </td><td> 817.62</td><td> 769.59</td><td>762.00</td><td>150.36</td><td>175.69</td><td>762.00</td><td>0.00</td><td>140.24</td><td>169.19</td><td>129.951000</td><td>150.46400</td><td>156.965000</td><td>181.72000</td></tr>\n",
       "\t<tr><td>ENSG00000000457.14</td><td>ENST00000367770.5,ENST00000367771.11,ENST00000367772.8,ENST00000423670.1,ENST00000470238.1                                                                        </td><td>6308.00</td><td>6259.97</td><td> 20.48</td><td>  0.50</td><td>  0.58</td><td> 23.58</td><td>2.84</td><td>  0.89</td><td>  1.08</td><td>  0.483722</td><td>  1.33506</td><td>  0.582067</td><td>  1.60906</td></tr>\n",
       "\t<tr><td>ENSG00000000460.17</td><td>ENST00000286031.10,ENST00000359326.9,ENST00000413811.3,ENST00000459772.5,ENST00000466580.6,ENST00000472795.5,ENST00000481744.5,ENST00000496973.5,ENST00000498289.5</td><td>3075.24</td><td>3027.21</td><td>114.52</td><td>  5.74</td><td>  6.71</td><td>111.42</td><td>2.84</td><td>  6.29</td><td>  7.59</td><td>  4.890610</td><td>  7.77844</td><td>  5.896500</td><td>  9.38019</td></tr>\n",
       "\t<tr><td>ENSG00000000938.13</td><td>ENST00000374003.7,ENST00000374004.5,ENST00000374005.8,ENST00000399173.5,ENST00000457296.5,ENST00000468038.1,ENST00000475472.5                                     </td><td>1722.14</td><td>1674.12</td><td>  0.00</td><td>  0.00</td><td>  0.00</td><td>  0.00</td><td>0.00</td><td>  0.80</td><td>  0.96</td><td>  0.215923</td><td>  1.48620</td><td>  0.258422</td><td>  1.79115</td></tr>\n",
       "</tbody>\n",
       "</table>\n"
      ],
      "text/latex": [
       "A data.table: 6 × 15\n",
       "\\begin{tabular}{lllllllllllllll}\n",
       " gene\\_id & transcript\\_id(s) & length & effective\\_length & expected\\_count & TPM & FPKM & posterior\\_mean\\_count & posterior\\_standard\\_deviation\\_of\\_count & pme\\_TPM & pme\\_FPKM & TPM\\_ci\\_lower\\_bound & TPM\\_ci\\_upper\\_bound & FPKM\\_ci\\_lower\\_bound & FPKM\\_ci\\_upper\\_bound\\\\\n",
       " <chr> & <chr> & <dbl> & <dbl> & <dbl> & <dbl> & <dbl> & <dbl> & <dbl> & <dbl> & <dbl> & <dbl> & <dbl> & <dbl> & <dbl>\\\\\n",
       "\\hline\n",
       "\t ENSG00000000003.14 & ENST00000373020.8,ENST00000494424.1,ENST00000496771.5,ENST00000612152.4,ENST00000614008.4                                                                          & 2226.73 & 2178.70 & 817.00 &  56.94 &  66.54 & 817.00 & 0.00 &  53.62 &  64.69 &  49.985000 &  57.31260 &  60.267000 &  69.09780\\\\\n",
       "\t ENSG00000000005.6  & ENST00000373031.5,ENST00000485971.1                                                                                                                                & 1205.00 & 1156.97 &  19.00 &   2.49 &   2.91 &  19.00 & 0.00 &   2.73 &   3.29 &   1.597760 &   3.96408 &   1.928410 &   4.78412\\\\\n",
       "\t ENSG00000000419.12 & ENST00000371582.8,ENST00000371584.8,ENST00000371588.9,ENST00000413082.1,ENST00000466152.5,ENST00000494752.1                                                        &  817.62 &  769.59 & 762.00 & 150.36 & 175.69 & 762.00 & 0.00 & 140.24 & 169.19 & 129.951000 & 150.46400 & 156.965000 & 181.72000\\\\\n",
       "\t ENSG00000000457.14 & ENST00000367770.5,ENST00000367771.11,ENST00000367772.8,ENST00000423670.1,ENST00000470238.1                                                                         & 6308.00 & 6259.97 &  20.48 &   0.50 &   0.58 &  23.58 & 2.84 &   0.89 &   1.08 &   0.483722 &   1.33506 &   0.582067 &   1.60906\\\\\n",
       "\t ENSG00000000460.17 & ENST00000286031.10,ENST00000359326.9,ENST00000413811.3,ENST00000459772.5,ENST00000466580.6,ENST00000472795.5,ENST00000481744.5,ENST00000496973.5,ENST00000498289.5 & 3075.24 & 3027.21 & 114.52 &   5.74 &   6.71 & 111.42 & 2.84 &   6.29 &   7.59 &   4.890610 &   7.77844 &   5.896500 &   9.38019\\\\\n",
       "\t ENSG00000000938.13 & ENST00000374003.7,ENST00000374004.5,ENST00000374005.8,ENST00000399173.5,ENST00000457296.5,ENST00000468038.1,ENST00000475472.5                                      & 1722.14 & 1674.12 &   0.00 &   0.00 &   0.00 &   0.00 & 0.00 &   0.80 &   0.96 &   0.215923 &   1.48620 &   0.258422 &   1.79115\\\\\n",
       "\\end{tabular}\n"
      ],
      "text/markdown": [
       "\n",
       "A data.table: 6 × 15\n",
       "\n",
       "| gene_id &lt;chr&gt; | transcript_id(s) &lt;chr&gt; | length &lt;dbl&gt; | effective_length &lt;dbl&gt; | expected_count &lt;dbl&gt; | TPM &lt;dbl&gt; | FPKM &lt;dbl&gt; | posterior_mean_count &lt;dbl&gt; | posterior_standard_deviation_of_count &lt;dbl&gt; | pme_TPM &lt;dbl&gt; | pme_FPKM &lt;dbl&gt; | TPM_ci_lower_bound &lt;dbl&gt; | TPM_ci_upper_bound &lt;dbl&gt; | FPKM_ci_lower_bound &lt;dbl&gt; | FPKM_ci_upper_bound &lt;dbl&gt; |\n",
       "|---|---|---|---|---|---|---|---|---|---|---|---|---|---|---|\n",
       "| ENSG00000000003.14 | ENST00000373020.8,ENST00000494424.1,ENST00000496771.5,ENST00000612152.4,ENST00000614008.4                                                                          | 2226.73 | 2178.70 | 817.00 |  56.94 |  66.54 | 817.00 | 0.00 |  53.62 |  64.69 |  49.985000 |  57.31260 |  60.267000 |  69.09780 |\n",
       "| ENSG00000000005.6  | ENST00000373031.5,ENST00000485971.1                                                                                                                                | 1205.00 | 1156.97 |  19.00 |   2.49 |   2.91 |  19.00 | 0.00 |   2.73 |   3.29 |   1.597760 |   3.96408 |   1.928410 |   4.78412 |\n",
       "| ENSG00000000419.12 | ENST00000371582.8,ENST00000371584.8,ENST00000371588.9,ENST00000413082.1,ENST00000466152.5,ENST00000494752.1                                                        |  817.62 |  769.59 | 762.00 | 150.36 | 175.69 | 762.00 | 0.00 | 140.24 | 169.19 | 129.951000 | 150.46400 | 156.965000 | 181.72000 |\n",
       "| ENSG00000000457.14 | ENST00000367770.5,ENST00000367771.11,ENST00000367772.8,ENST00000423670.1,ENST00000470238.1                                                                         | 6308.00 | 6259.97 |  20.48 |   0.50 |   0.58 |  23.58 | 2.84 |   0.89 |   1.08 |   0.483722 |   1.33506 |   0.582067 |   1.60906 |\n",
       "| ENSG00000000460.17 | ENST00000286031.10,ENST00000359326.9,ENST00000413811.3,ENST00000459772.5,ENST00000466580.6,ENST00000472795.5,ENST00000481744.5,ENST00000496973.5,ENST00000498289.5 | 3075.24 | 3027.21 | 114.52 |   5.74 |   6.71 | 111.42 | 2.84 |   6.29 |   7.59 |   4.890610 |   7.77844 |   5.896500 |   9.38019 |\n",
       "| ENSG00000000938.13 | ENST00000374003.7,ENST00000374004.5,ENST00000374005.8,ENST00000399173.5,ENST00000457296.5,ENST00000468038.1,ENST00000475472.5                                      | 1722.14 | 1674.12 |   0.00 |   0.00 |   0.00 |   0.00 | 0.00 |   0.80 |   0.96 |   0.215923 |   1.48620 |   0.258422 |   1.79115 |\n",
       "\n"
      ],
      "text/plain": [
       "  gene_id           \n",
       "1 ENSG00000000003.14\n",
       "2 ENSG00000000005.6 \n",
       "3 ENSG00000000419.12\n",
       "4 ENSG00000000457.14\n",
       "5 ENSG00000000460.17\n",
       "6 ENSG00000000938.13\n",
       "  transcript_id(s)                                                                                                                                                  \n",
       "1 ENST00000373020.8,ENST00000494424.1,ENST00000496771.5,ENST00000612152.4,ENST00000614008.4                                                                         \n",
       "2 ENST00000373031.5,ENST00000485971.1                                                                                                                               \n",
       "3 ENST00000371582.8,ENST00000371584.8,ENST00000371588.9,ENST00000413082.1,ENST00000466152.5,ENST00000494752.1                                                       \n",
       "4 ENST00000367770.5,ENST00000367771.11,ENST00000367772.8,ENST00000423670.1,ENST00000470238.1                                                                        \n",
       "5 ENST00000286031.10,ENST00000359326.9,ENST00000413811.3,ENST00000459772.5,ENST00000466580.6,ENST00000472795.5,ENST00000481744.5,ENST00000496973.5,ENST00000498289.5\n",
       "6 ENST00000374003.7,ENST00000374004.5,ENST00000374005.8,ENST00000399173.5,ENST00000457296.5,ENST00000468038.1,ENST00000475472.5                                     \n",
       "  length  effective_length expected_count TPM    FPKM   posterior_mean_count\n",
       "1 2226.73 2178.70          817.00          56.94  66.54 817.00              \n",
       "2 1205.00 1156.97           19.00           2.49   2.91  19.00              \n",
       "3  817.62  769.59          762.00         150.36 175.69 762.00              \n",
       "4 6308.00 6259.97           20.48           0.50   0.58  23.58              \n",
       "5 3075.24 3027.21          114.52           5.74   6.71 111.42              \n",
       "6 1722.14 1674.12            0.00           0.00   0.00   0.00              \n",
       "  posterior_standard_deviation_of_count pme_TPM pme_FPKM TPM_ci_lower_bound\n",
       "1 0.00                                   53.62   64.69    49.985000        \n",
       "2 0.00                                    2.73    3.29     1.597760        \n",
       "3 0.00                                  140.24  169.19   129.951000        \n",
       "4 2.84                                    0.89    1.08     0.483722        \n",
       "5 2.84                                    6.29    7.59     4.890610        \n",
       "6 0.00                                    0.80    0.96     0.215923        \n",
       "  TPM_ci_upper_bound FPKM_ci_lower_bound FPKM_ci_upper_bound\n",
       "1  57.31260           60.267000           69.09780          \n",
       "2   3.96408            1.928410            4.78412          \n",
       "3 150.46400          156.965000          181.72000          \n",
       "4   1.33506            0.582067            1.60906          \n",
       "5   7.77844            5.896500            9.38019          \n",
       "6   1.48620            0.258422            1.79115          "
      ]
     },
     "metadata": {},
     "output_type": "display_data"
    }
   ],
   "source": [
    "head(a)"
   ]
  },
  {
   "cell_type": "code",
   "execution_count": 5,
   "id": "2faf41b6-a77f-4814-a951-6fdc44045869",
   "metadata": {},
   "outputs": [],
   "source": [
    "library(tximport)"
   ]
  },
  {
   "cell_type": "code",
   "execution_count": 6,
   "id": "773222c3-25c5-4726-9584-aa8d52ef4121",
   "metadata": {},
   "outputs": [
    {
     "name": "stderr",
     "output_type": "stream",
     "text": [
      "reading in files with read_tsv\n",
      "\n",
      "1 \n"
     ]
    }
   ],
   "source": [
    "count.table = tximport(\"~/cdai/Neurons/Results/RNAseq/RSEM/H2HY7BGXC_S01.genes.results\", type = \"rsem\", txIn = F, txOut = F)"
   ]
  },
  {
   "cell_type": "code",
   "execution_count": 9,
   "id": "f60d7d24-0455-445f-b052-56fbe4a045e5",
   "metadata": {},
   "outputs": [
    {
     "name": "stdout",
     "output_type": "stream",
     "text": [
      "List of 4\n",
      " $ abundance          : num [1:60662, 1] 56.94 2.49 150.36 0.5 5.74 ...\n",
      "  ..- attr(*, \"dimnames\")=List of 2\n",
      "  .. ..$ : chr [1:60662] \"ENSG00000000003.14\" \"ENSG00000000005.6\" \"ENSG00000000419.12\" \"ENSG00000000457.14\" ...\n",
      "  .. ..$ : NULL\n",
      " $ counts             : num [1:60662, 1] 817 19 762 20.5 114.5 ...\n",
      "  ..- attr(*, \"dimnames\")=List of 2\n",
      "  .. ..$ : chr [1:60662] \"ENSG00000000003.14\" \"ENSG00000000005.6\" \"ENSG00000000419.12\" \"ENSG00000000457.14\" ...\n",
      "  .. ..$ : NULL\n",
      " $ length             : num [1:60662, 1] 2179 1157 770 6260 3027 ...\n",
      "  ..- attr(*, \"dimnames\")=List of 2\n",
      "  .. ..$ : chr [1:60662] \"ENSG00000000003.14\" \"ENSG00000000005.6\" \"ENSG00000000419.12\" \"ENSG00000000457.14\" ...\n",
      "  .. ..$ : NULL\n",
      " $ countsFromAbundance: chr \"no\"\n"
     ]
    }
   ],
   "source": [
    "count.table %>% "
   ]
  },
  {
   "cell_type": "code",
   "execution_count": null,
   "id": "2df2d18a-0e44-4234-9e19-bca9fc588e66",
   "metadata": {},
   "outputs": [],
   "source": []
  }
 ],
 "metadata": {
  "kernelspec": {
   "display_name": "R3.6",
   "language": "R",
   "name": "ir36"
  },
  "language_info": {
   "codemirror_mode": "r",
   "file_extension": ".r",
   "mimetype": "text/x-r-source",
   "name": "R",
   "pygments_lexer": "r",
   "version": "3.6.1"
  }
 },
 "nbformat": 4,
 "nbformat_minor": 5
}
