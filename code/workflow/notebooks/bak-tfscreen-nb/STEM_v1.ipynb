{
 "cells": [
  {
   "cell_type": "code",
   "execution_count": 1,
   "metadata": {
    "ExecuteTime": {
     "end_time": "2019-08-25T15:04:46.924741Z",
     "start_time": "2019-08-25T15:04:43.658099Z"
    }
   },
   "outputs": [
    {
     "data": {
      "text/html": [
       "<style>.container { width:99% !important; }</style>"
      ],
      "text/plain": [
       "<IPython.core.display.HTML object>"
      ]
     },
     "metadata": {},
     "output_type": "display_data"
    }
   ],
   "source": [
    "#housekeeping and essential imports\n",
    "import pandas as pd\n",
    "import os\n",
    "from IPython.core.display import display, HTML\n",
    "display(HTML(\"<style>.container { width:99% !important; }</style>\"))\n",
    "pd.set_option('display.max_rows', 500)\n",
    "pd.set_option('display.width', 1800)\n",
    "pd.set_option ('display.max_colwidth', 150)\n",
    "pd.set_option('display.max_columns', 50)\n",
    "\n",
    "from IPython.core.interactiveshell import InteractiveShell\n",
    "InteractiveShell.ast_node_interactivity = \"all\""
   ]
  },
  {
   "cell_type": "code",
   "execution_count": 325,
   "metadata": {
    "ExecuteTime": {
     "end_time": "2019-08-05T22:48:05.022854Z",
     "start_time": "2019-08-05T22:48:05.018561Z"
    },
    "hide_input": false
   },
   "outputs": [
    {
     "data": {
      "text/html": [
       "<style type=\"text/css\">\n",
       "table.dataframe td, table.dataframe th {\n",
       "    border: None#1px dotted lightgrey;\n",
       "}"
      ],
      "text/plain": [
       "<IPython.core.display.HTML object>"
      ]
     },
     "metadata": {},
     "output_type": "display_data"
    }
   ],
   "source": [
    "%%HTML\n",
    "<style type=\"text/css\">\n",
    "table.dataframe td, table.dataframe th {\n",
    "    border: None#1px dotted lightgrey;\n",
    "}"
   ]
  },
  {
   "cell_type": "code",
   "execution_count": 2,
   "metadata": {
    "ExecuteTime": {
     "end_time": "2019-08-25T15:04:48.274658Z",
     "start_time": "2019-08-25T15:04:47.144095Z"
    }
   },
   "outputs": [],
   "source": [
    "import matplotlib.pyplot as plt\n",
    "from matplotlib.ticker import FuncFormatter\n",
    "%matplotlib inline\n",
    "import seaborn as sns\n",
    "plt.style.use('seaborn-dark-palette')\n",
    "#plt.style.use('seaborn')"
   ]
  },
  {
   "cell_type": "code",
   "execution_count": 1,
   "metadata": {
    "ExecuteTime": {
     "end_time": "2019-08-09T14:52:30.754609Z",
     "start_time": "2019-08-09T14:52:27.733777Z"
    }
   },
   "outputs": [],
   "source": [
    "%load_ext rpy2.ipython"
   ]
  },
  {
   "cell_type": "code",
   "execution_count": 4,
   "metadata": {
    "ExecuteTime": {
     "end_time": "2019-08-05T16:39:13.432880Z",
     "start_time": "2019-08-05T16:39:13.428697Z"
    }
   },
   "outputs": [],
   "source": [
    "from multiprocessing import Pool\n",
    "num_partitions, num_cores = (300, 30)\n",
    "\n",
    "def parallelize_dataframe(df, func):\n",
    "    \"\"\"Multi core processing\"\"\"\n",
    "    print(\"Parallelizing into {} parts, processsing with {} threads\".format(num_partitions, num_cores))\n",
    "    df_split = np.array_split(df, num_partitions)\n",
    "    pool = Pool(num_cores)\n",
    "    df = pd.concat(pool.map(func, df_split))\n",
    "    pool.close()\n",
    "    pool.join()\n",
    "    return df"
   ]
  },
  {
   "cell_type": "code",
   "execution_count": 5,
   "metadata": {
    "ExecuteTime": {
     "end_time": "2019-08-05T16:39:14.086516Z",
     "start_time": "2019-08-05T16:39:13.993233Z"
    }
   },
   "outputs": [
    {
     "data": {
      "image/png": "[encoded data removed]",
      "text/plain": [
       "<Figure size 792x72 with 1 Axes>"
      ]
     },
     "metadata": {
      "needs_background": "light"
     },
     "output_type": "display_data"
    }
   ],
   "source": [
    "# seaborn setting\n",
    "flatui = [\"#9b59b6\", \"#3498db\", \"#004F99\", \"#250352\", \"#95a5a6\", \"#e74c3c\", \"#ECE59A\", \"#34495e\", \"#2ecc71\", \"#5B9E00\", \"#A71812\"]\n",
    "sns.palplot(sns.color_palette(flatui))"
   ]
  },
  {
   "cell_type": "markdown",
   "metadata": {},
   "source": [
    "## Questions on alignments:\n",
    "\n",
    "**Mapped reads**\n",
    "- how many are uniquely mapped vs muti-loci mapped?\n",
    "- **Uniquely Mapped*:\n",
    "    - Where are they mapped to? what categories?\n",
    "    - How many of them and % mapped outside of chr1-23?\n",
    "    - what are teh multi-loci reads?\n",
    "   \n",
    "- **unmapped**:\n",
    "    - where are they mapped to?\n",
    "    - How many unmapped reads mapped to intergenic region vs introns?"
   ]
  },
  {
   "cell_type": "markdown",
   "metadata": {},
   "source": [
    "### Reads that uniquely mapped to transcriptome"
   ]
  },
  {
   "cell_type": "markdown",
   "metadata": {},
   "source": [
    "### Reads that non-uniquely (multi-loci, typically low mapq) mapped to transcriptome"
   ]
  },
  {
   "cell_type": "markdown",
   "metadata": {},
   "source": [
    "### Reads NOT mapped to transcriptome but can be mapped to whole genome"
   ]
  },
  {
   "cell_type": "markdown",
   "metadata": {},
   "source": [
    "#### Unmapped reads that are mapped to *genes*"
   ]
  },
  {
   "cell_type": "markdown",
   "metadata": {},
   "source": [
    "#### Unmapped reads that are mapped *intergenic regions*"
   ]
  },
  {
   "cell_type": "code",
   "execution_count": 16,
   "metadata": {
    "ExecuteTime": {
     "end_time": "2019-08-05T16:40:53.336049Z",
     "start_time": "2019-08-05T16:40:53.333345Z"
    }
   },
   "outputs": [],
   "source": [
    "import pysam as ps\n",
    "import glob\n",
    "import re"
   ]
  },
  {
   "cell_type": "code",
   "execution_count": 7,
   "metadata": {
    "ExecuteTime": {
     "end_time": "2019-08-05T16:39:17.942256Z",
     "start_time": "2019-08-05T16:39:17.938217Z"
    }
   },
   "outputs": [
    {
     "data": {
      "text/plain": [
       "'/gpfs/commons/home/cdai/notebooks'"
      ]
     },
     "execution_count": 7,
     "metadata": {},
     "output_type": "execute_result"
    }
   ],
   "source": [
    "pwd"
   ]
  },
  {
   "cell_type": "code",
   "execution_count": 8,
   "metadata": {
    "ExecuteTime": {
     "end_time": "2019-08-05T16:39:19.672201Z",
     "start_time": "2019-08-05T16:39:19.668537Z"
    }
   },
   "outputs": [],
   "source": [
    "ES = [str(x) for x in [1,2,5,6,9,10]]\n",
    "NEU = [str(x) for x in [3,4,7,8,11,12]]\n",
    "ES = ['Congyi' + x for x in ES]\n",
    "NEU = ['Congyi' + x for x in NEU]"
   ]
  },
  {
   "cell_type": "code",
   "execution_count": 9,
   "metadata": {
    "ExecuteTime": {
     "end_time": "2019-08-05T16:39:20.650455Z",
     "start_time": "2019-08-05T16:39:20.644200Z"
    }
   },
   "outputs": [
    {
     "data": {
      "text/plain": [
       "['Congyi1', 'Congyi2', 'Congyi5', 'Congyi6', 'Congyi9', 'Congyi10']"
      ]
     },
     "execution_count": 9,
     "metadata": {},
     "output_type": "execute_result"
    },
    {
     "data": {
      "text/plain": [
       "['Congyi3', 'Congyi4', 'Congyi7', 'Congyi8', 'Congyi11', 'Congyi12']"
      ]
     },
     "execution_count": 9,
     "metadata": {},
     "output_type": "execute_result"
    }
   ],
   "source": [
    "ES\n",
    "NEU"
   ]
  },
  {
   "cell_type": "markdown",
   "metadata": {
    "ExecuteTime": {
     "end_time": "2019-08-05T05:36:36.519310Z",
     "start_time": "2019-08-05T05:36:36.516797Z"
    }
   },
   "source": [
    "## Mapped reads (reads that are mapped to transcriptome)"
   ]
  },
  {
   "cell_type": "code",
   "execution_count": 327,
   "metadata": {
    "ExecuteTime": {
     "end_time": "2019-08-05T22:48:42.659707Z",
     "start_time": "2019-08-05T22:48:42.651576Z"
    }
   },
   "outputs": [],
   "source": [
    "os.chdir('/gpfs/commons/groups/sanjana_lab/cdai/TFscreen/data/20190730_083004/Fastq/bwa/bwa_gencode_transcript_align/')"
   ]
  },
  {
   "cell_type": "code",
   "execution_count": 11,
   "metadata": {
    "ExecuteTime": {
     "end_time": "2019-08-05T16:39:22.774226Z",
     "start_time": "2019-08-05T16:39:22.768989Z"
    }
   },
   "outputs": [
    {
     "data": {
      "text/plain": [
       "['Congyi1.sorted.bam',\n",
       " 'Congyi10.sorted.bam',\n",
       " 'Congyi11.sorted.bam',\n",
       " 'Congyi12.sorted.bam',\n",
       " 'Congyi2.sorted.bam',\n",
       " 'Congyi3.sorted.bam',\n",
       " 'Congyi4.sorted.bam',\n",
       " 'Congyi5.sorted.bam',\n",
       " 'Congyi6.sorted.bam',\n",
       " 'Congyi7.sorted.bam',\n",
       " 'Congyi8.sorted.bam',\n",
       " 'Congyi9.sorted.bam']"
      ]
     },
     "execution_count": 11,
     "metadata": {},
     "output_type": "execute_result"
    }
   ],
   "source": [
    "bams = glob.glob('Congyi*.sorted.bam')\n",
    "bams.sort()\n",
    "bams"
   ]
  },
  {
   "cell_type": "code",
   "execution_count": 12,
   "metadata": {
    "ExecuteTime": {
     "end_time": "2019-08-05T16:39:23.940319Z",
     "start_time": "2019-08-05T16:39:23.932024Z"
    }
   },
   "outputs": [],
   "source": [
    "def bam2df(bams):\n",
    "    dfs = []\n",
    "    for bam in bams:\n",
    "        #sample = bam[0:8].strip('_')\n",
    "        print(\"processing {}\".format(bam))\n",
    "        bamfile = ps.AlignmentFile(bam)\n",
    "        qnames, flags, chroms, starts, ends, mapqs, cigars, XAs = [],[],[],[],[],[],[], []\n",
    "        df=pd.DataFrame([])\n",
    "        \n",
    "        for read in bamfile.fetch():\n",
    "            qname, flag, chrom, start, end, mapq, cigar, has_XA = read.qname, read.flag, read.reference_name, read.reference_start,read.reference_start + read.query_alignment_length, \\\n",
    "                    read.mapping_quality, read.cigarstring, read.has_tag('XA')\n",
    "            if has_XA:\n",
    "                XA = read.get_tag('XA')\n",
    "            else:\n",
    "                XA = ''\n",
    "            if flag != 4 and flag != 20:\n",
    "                qnames.append(qname)\n",
    "                flags.append(flag)\n",
    "                chroms.append(chrom)\n",
    "                starts.append(start)\n",
    "                ends.append(end)\n",
    "                mapqs.append(mapq)\n",
    "                cigars.append(cigar)\n",
    "                XAs.append(XA)\n",
    "\n",
    "        df['qname'] = qnames\n",
    "        df['flag'] = flags\n",
    "        df['chr'] = chroms\n",
    "        df['start'] = starts\n",
    "        df['end'] = ends\n",
    "        df['mapqs'] = mapqs\n",
    "        df['cigars'] = cigars\n",
    "        df['XA'] = XAs\n",
    "        df['sample'] = bam\n",
    "\n",
    "        dfs.append(df)\n",
    "    \n",
    "    df2 = pd.concat(dfs)\n",
    "    return(df2)"
   ]
  },
  {
   "cell_type": "code",
   "execution_count": 13,
   "metadata": {
    "ExecuteTime": {
     "end_time": "2019-08-05T16:40:38.397347Z",
     "start_time": "2019-08-05T16:39:25.280473Z"
    }
   },
   "outputs": [
    {
     "name": "stdout",
     "output_type": "stream",
     "text": [
      "processing Congyi1.sorted.bam\n",
      "processing Congyi10.sorted.bam\n",
      "processing Congyi11.sorted.bam\n",
      "processing Congyi12.sorted.bam\n",
      "processing Congyi2.sorted.bam\n",
      "processing Congyi3.sorted.bam\n",
      "processing Congyi4.sorted.bam\n",
      "processing Congyi5.sorted.bam\n",
      "processing Congyi6.sorted.bam\n",
      "processing Congyi7.sorted.bam\n",
      "processing Congyi8.sorted.bam\n",
      "processing Congyi9.sorted.bam\n"
     ]
    }
   ],
   "source": [
    "mapped_reads = bam2df(bams)"
   ]
  },
  {
   "cell_type": "code",
   "execution_count": 14,
   "metadata": {
    "ExecuteTime": {
     "end_time": "2019-08-05T16:40:38.803953Z",
     "start_time": "2019-08-05T16:40:38.400484Z"
    }
   },
   "outputs": [],
   "source": [
    "mapped_reads['chr'] = mapped_reads['chr'].str.extract('(ENST[\\w\\d\\._\\-]+)\\|.+', expand=False)\n",
    "mapped_reads['XA'] = mapped_reads['XA'].str.extract('(ENST[\\w\\d\\._\\-]+)\\|.+', expand=False)"
   ]
  },
  {
   "cell_type": "code",
   "execution_count": 17,
   "metadata": {
    "ExecuteTime": {
     "end_time": "2019-08-05T16:40:59.046242Z",
     "start_time": "2019-08-05T16:40:58.657198Z"
    }
   },
   "outputs": [],
   "source": [
    "mapped_reads['group'] = mapped_reads['sample'].map(lambda x: 'ES' if re.findall('(Congyi\\d+)\\.+', x)[0] in ES else 'NEU')"
   ]
  },
  {
   "cell_type": "code",
   "execution_count": 18,
   "metadata": {
    "ExecuteTime": {
     "end_time": "2019-08-05T16:41:01.901086Z",
     "start_time": "2019-08-05T16:41:01.809088Z"
    }
   },
   "outputs": [],
   "source": [
    "mapped_reads.rename(columns={'chr':'transcript_id'}, inplace=True)"
   ]
  },
  {
   "cell_type": "code",
   "execution_count": 19,
   "metadata": {
    "ExecuteTime": {
     "end_time": "2019-08-05T16:41:02.977576Z",
     "start_time": "2019-08-05T16:41:02.932779Z"
    }
   },
   "outputs": [
    {
     "data": {
      "text/plain": [
       "(145141, 10)"
      ]
     },
     "execution_count": 19,
     "metadata": {},
     "output_type": "execute_result"
    },
    {
     "data": {
      "text/html": [
       "<div>\n",
       "<style scoped>\n",
       "    .dataframe tbody tr th:only-of-type {\n",
       "        vertical-align: middle;\n",
       "    }\n",
       "\n",
       "    .dataframe tbody tr th {\n",
       "        vertical-align: top;\n",
       "    }\n",
       "\n",
       "    .dataframe thead th {\n",
       "        text-align: right;\n",
       "    }\n",
       "</style>\n",
       "<table border=\"1\" class=\"dataframe\">\n",
       "  <thead>\n",
       "    <tr style=\"text-align: right;\">\n",
       "      <th></th>\n",
       "      <th>qname</th>\n",
       "      <th>flag</th>\n",
       "      <th>transcript_id</th>\n",
       "      <th>start</th>\n",
       "      <th>end</th>\n",
       "      <th>mapqs</th>\n",
       "      <th>cigars</th>\n",
       "      <th>XA</th>\n",
       "      <th>sample</th>\n",
       "      <th>group</th>\n",
       "    </tr>\n",
       "  </thead>\n",
       "  <tbody>\n",
       "    <tr>\n",
       "      <th>0</th>\n",
       "      <td>M00911:259:000000000-G43JP:1:1102:19844:13568</td>\n",
       "      <td>0</td>\n",
       "      <td>ENST00000416931.1</td>\n",
       "      <td>217</td>\n",
       "      <td>364</td>\n",
       "      <td>0</td>\n",
       "      <td>147M</td>\n",
       "      <td>ENST00000361390.2</td>\n",
       "      <td>Congyi1.sorted.bam</td>\n",
       "      <td>ES</td>\n",
       "    </tr>\n",
       "    <tr>\n",
       "      <th>1</th>\n",
       "      <td>M00911:259:000000000-G43JP:1:1104:21921:18019</td>\n",
       "      <td>0</td>\n",
       "      <td>ENST00000416931.1</td>\n",
       "      <td>217</td>\n",
       "      <td>368</td>\n",
       "      <td>0</td>\n",
       "      <td>151M</td>\n",
       "      <td>ENST00000361390.2</td>\n",
       "      <td>Congyi1.sorted.bam</td>\n",
       "      <td>ES</td>\n",
       "    </tr>\n",
       "  </tbody>\n",
       "</table>\n",
       "</div>"
      ],
      "text/plain": [
       "                                           qname  flag      transcript_id  start  end  mapqs cigars                 XA              sample group\n",
       "0  M00911:259:000000000-G43JP:1:1102:19844:13568     0  ENST00000416931.1    217  364      0   147M  ENST00000361390.2  Congyi1.sorted.bam    ES\n",
       "1  M00911:259:000000000-G43JP:1:1104:21921:18019     0  ENST00000416931.1    217  368      0   151M  ENST00000361390.2  Congyi1.sorted.bam    ES"
      ]
     },
     "execution_count": 19,
     "metadata": {},
     "output_type": "execute_result"
    }
   ],
   "source": [
    "mapped_reads.shape\n",
    "mapped_reads.head(2)"
   ]
  },
  {
   "cell_type": "code",
   "execution_count": 20,
   "metadata": {
    "ExecuteTime": {
     "end_time": "2019-08-05T16:41:05.725533Z",
     "start_time": "2019-08-05T16:41:05.720550Z"
    }
   },
   "outputs": [],
   "source": [
    "chr1_24 = ['chr1', 'chr2', 'chr3', 'chr4', 'chr5', 'chr6', 'chr7', 'chr8',\\\n",
    "       'chr9', 'chr10', 'chr11', 'chr12', 'chr13', 'chr14', 'chr15',\\\n",
    "       'chr16', 'chr17', 'chr18', 'chr19', 'chr20', 'chr21', 'chr22',\\\n",
    "       'chrX', 'chrY']\n",
    "chrM = ['chrM']"
   ]
  },
  {
   "cell_type": "markdown",
   "metadata": {},
   "source": [
    "### uniquely mapped reads"
   ]
  },
  {
   "cell_type": "code",
   "execution_count": 21,
   "metadata": {
    "ExecuteTime": {
     "end_time": "2019-08-05T16:41:10.102205Z",
     "start_time": "2019-08-05T16:41:10.082835Z"
    }
   },
   "outputs": [],
   "source": [
    "unique_mapped_reads = mapped_reads[mapped_reads.XA.isna()]"
   ]
  },
  {
   "cell_type": "code",
   "execution_count": 22,
   "metadata": {
    "ExecuteTime": {
     "end_time": "2019-08-05T16:41:11.136297Z",
     "start_time": "2019-08-05T16:41:11.119967Z"
    }
   },
   "outputs": [
    {
     "data": {
      "text/html": [
       "<div>\n",
       "<style scoped>\n",
       "    .dataframe tbody tr th:only-of-type {\n",
       "        vertical-align: middle;\n",
       "    }\n",
       "\n",
       "    .dataframe tbody tr th {\n",
       "        vertical-align: top;\n",
       "    }\n",
       "\n",
       "    .dataframe thead th {\n",
       "        text-align: right;\n",
       "    }\n",
       "</style>\n",
       "<table border=\"1\" class=\"dataframe\">\n",
       "  <thead>\n",
       "    <tr style=\"text-align: right;\">\n",
       "      <th></th>\n",
       "      <th>qname</th>\n",
       "      <th>flag</th>\n",
       "      <th>transcript_id</th>\n",
       "      <th>start</th>\n",
       "      <th>end</th>\n",
       "      <th>mapqs</th>\n",
       "      <th>cigars</th>\n",
       "      <th>XA</th>\n",
       "      <th>sample</th>\n",
       "      <th>group</th>\n",
       "    </tr>\n",
       "  </thead>\n",
       "  <tbody>\n",
       "    <tr>\n",
       "      <th>38</th>\n",
       "      <td>M00911:259:000000000-G43JP:1:1103:23874:16312</td>\n",
       "      <td>0</td>\n",
       "      <td>ENST00000607307.1</td>\n",
       "      <td>1137</td>\n",
       "      <td>1288</td>\n",
       "      <td>37</td>\n",
       "      <td>151M</td>\n",
       "      <td>NaN</td>\n",
       "      <td>Congyi1.sorted.bam</td>\n",
       "      <td>ES</td>\n",
       "    </tr>\n",
       "    <tr>\n",
       "      <th>40</th>\n",
       "      <td>M00911:259:000000000-G43JP:1:2101:10399:6850</td>\n",
       "      <td>0</td>\n",
       "      <td>ENST00000615951.4</td>\n",
       "      <td>377</td>\n",
       "      <td>419</td>\n",
       "      <td>0</td>\n",
       "      <td>42M</td>\n",
       "      <td>NaN</td>\n",
       "      <td>Congyi1.sorted.bam</td>\n",
       "      <td>ES</td>\n",
       "    </tr>\n",
       "    <tr>\n",
       "      <th>41</th>\n",
       "      <td>M00911:259:000000000-G43JP:1:2104:12742:18560</td>\n",
       "      <td>0</td>\n",
       "      <td>ENST00000481276.1</td>\n",
       "      <td>1936</td>\n",
       "      <td>2034</td>\n",
       "      <td>25</td>\n",
       "      <td>98M</td>\n",
       "      <td>NaN</td>\n",
       "      <td>Congyi1.sorted.bam</td>\n",
       "      <td>ES</td>\n",
       "    </tr>\n",
       "    <tr>\n",
       "      <th>49</th>\n",
       "      <td>M00911:259:000000000-G43JP:1:2104:17211:14418</td>\n",
       "      <td>16</td>\n",
       "      <td>ENST00000400919.7</td>\n",
       "      <td>486</td>\n",
       "      <td>612</td>\n",
       "      <td>0</td>\n",
       "      <td>126M</td>\n",
       "      <td>NaN</td>\n",
       "      <td>Congyi1.sorted.bam</td>\n",
       "      <td>ES</td>\n",
       "    </tr>\n",
       "    <tr>\n",
       "      <th>50</th>\n",
       "      <td>M00911:259:000000000-G43JP:1:1103:15229:11252</td>\n",
       "      <td>16</td>\n",
       "      <td>ENST00000378536.5</td>\n",
       "      <td>3575</td>\n",
       "      <td>3632</td>\n",
       "      <td>37</td>\n",
       "      <td>57M</td>\n",
       "      <td>NaN</td>\n",
       "      <td>Congyi1.sorted.bam</td>\n",
       "      <td>ES</td>\n",
       "    </tr>\n",
       "  </tbody>\n",
       "</table>\n",
       "</div>"
      ],
      "text/plain": [
       "                                            qname  flag      transcript_id  start   end  mapqs cigars   XA              sample group\n",
       "38  M00911:259:000000000-G43JP:1:1103:23874:16312     0  ENST00000607307.1   1137  1288     37   151M  NaN  Congyi1.sorted.bam    ES\n",
       "40   M00911:259:000000000-G43JP:1:2101:10399:6850     0  ENST00000615951.4    377   419      0    42M  NaN  Congyi1.sorted.bam    ES\n",
       "41  M00911:259:000000000-G43JP:1:2104:12742:18560     0  ENST00000481276.1   1936  2034     25    98M  NaN  Congyi1.sorted.bam    ES\n",
       "49  M00911:259:000000000-G43JP:1:2104:17211:14418    16  ENST00000400919.7    486   612      0   126M  NaN  Congyi1.sorted.bam    ES\n",
       "50  M00911:259:000000000-G43JP:1:1103:15229:11252    16  ENST00000378536.5   3575  3632     37    57M  NaN  Congyi1.sorted.bam    ES"
      ]
     },
     "execution_count": 22,
     "metadata": {},
     "output_type": "execute_result"
    }
   ],
   "source": [
    "unique_mapped_reads.head()"
   ]
  },
  {
   "cell_type": "code",
   "execution_count": 410,
   "metadata": {
    "ExecuteTime": {
     "end_time": "2019-08-06T03:46:54.655008Z",
     "start_time": "2019-08-06T03:46:54.611246Z"
    }
   },
   "outputs": [
    {
     "data": {
      "text/plain": [
       "80367"
      ]
     },
     "execution_count": 410,
     "metadata": {},
     "output_type": "execute_result"
    },
    {
     "data": {
      "text/plain": [
       "80367"
      ]
     },
     "execution_count": 410,
     "metadata": {},
     "output_type": "execute_result"
    },
    {
     "data": {
      "text/plain": [
       "0.5537167306274589"
      ]
     },
     "execution_count": 410,
     "metadata": {},
     "output_type": "execute_result"
    }
   ],
   "source": [
    "# uniquely maped reads\n",
    "unique_mapped_reads.shape[0]\n",
    "unique_mapped_reads.qname.unique().shape[0]\n",
    "# uniquely mapped reads / total mapped reads %\n",
    "unique_mapped_reads.shape[0] / mapped_reads.shape[0]"
   ]
  },
  {
   "cell_type": "code",
   "execution_count": 28,
   "metadata": {
    "ExecuteTime": {
     "end_time": "2019-08-05T16:43:58.077743Z",
     "start_time": "2019-08-05T16:43:57.747041Z"
    }
   },
   "outputs": [],
   "source": [
    "# categories of uniquely mapped reads\n",
    "unique_mapped_reads = pd.merge(unique_mapped_reads, transcripts[['transcript_id', 'seqname', 'gene_type', 'gene_name', 'gene_id']], \\\n",
    "         how='inner', on='transcript_id')"
   ]
  },
  {
   "cell_type": "code",
   "execution_count": 29,
   "metadata": {
    "ExecuteTime": {
     "end_time": "2019-08-05T16:43:59.751442Z",
     "start_time": "2019-08-05T16:43:59.734584Z"
    }
   },
   "outputs": [
    {
     "data": {
      "text/html": [
       "<div>\n",
       "<style scoped>\n",
       "    .dataframe tbody tr th:only-of-type {\n",
       "        vertical-align: middle;\n",
       "    }\n",
       "\n",
       "    .dataframe tbody tr th {\n",
       "        vertical-align: top;\n",
       "    }\n",
       "\n",
       "    .dataframe thead th {\n",
       "        text-align: right;\n",
       "    }\n",
       "</style>\n",
       "<table border=\"1\" class=\"dataframe\">\n",
       "  <thead>\n",
       "    <tr style=\"text-align: right;\">\n",
       "      <th></th>\n",
       "      <th>qname</th>\n",
       "      <th>flag</th>\n",
       "      <th>transcript_id</th>\n",
       "      <th>start</th>\n",
       "      <th>end</th>\n",
       "      <th>mapqs</th>\n",
       "      <th>cigars</th>\n",
       "      <th>XA</th>\n",
       "      <th>sample</th>\n",
       "      <th>group</th>\n",
       "      <th>seqname</th>\n",
       "      <th>gene_type</th>\n",
       "      <th>gene_name</th>\n",
       "      <th>gene_id</th>\n",
       "    </tr>\n",
       "  </thead>\n",
       "  <tbody>\n",
       "    <tr>\n",
       "      <th>0</th>\n",
       "      <td>M00911:259:000000000-G43JP:1:1103:23874:16312</td>\n",
       "      <td>0</td>\n",
       "      <td>ENST00000607307.1</td>\n",
       "      <td>1137</td>\n",
       "      <td>1288</td>\n",
       "      <td>37</td>\n",
       "      <td>151M</td>\n",
       "      <td>NaN</td>\n",
       "      <td>Congyi1.sorted.bam</td>\n",
       "      <td>ES</td>\n",
       "      <td>chr1</td>\n",
       "      <td>lncRNA</td>\n",
       "      <td>AL391244.2</td>\n",
       "      <td>ENSG00000272455.1</td>\n",
       "    </tr>\n",
       "    <tr>\n",
       "      <th>1</th>\n",
       "      <td>M00911:259:000000000-G43JP:1:2101:10399:6850</td>\n",
       "      <td>0</td>\n",
       "      <td>ENST00000615951.4</td>\n",
       "      <td>377</td>\n",
       "      <td>419</td>\n",
       "      <td>0</td>\n",
       "      <td>42M</td>\n",
       "      <td>NaN</td>\n",
       "      <td>Congyi1.sorted.bam</td>\n",
       "      <td>ES</td>\n",
       "      <td>chr1</td>\n",
       "      <td>protein_coding</td>\n",
       "      <td>CDK11B</td>\n",
       "      <td>ENSG00000248333.8</td>\n",
       "    </tr>\n",
       "  </tbody>\n",
       "</table>\n",
       "</div>"
      ],
      "text/plain": [
       "                                           qname  flag      transcript_id  start   end  mapqs cigars   XA              sample group seqname       gene_type   gene_name            gene_id\n",
       "0  M00911:259:000000000-G43JP:1:1103:23874:16312     0  ENST00000607307.1   1137  1288     37   151M  NaN  Congyi1.sorted.bam    ES    chr1          lncRNA  AL391244.2  ENSG00000272455.1\n",
       "1   M00911:259:000000000-G43JP:1:2101:10399:6850     0  ENST00000615951.4    377   419      0    42M  NaN  Congyi1.sorted.bam    ES    chr1  protein_coding      CDK11B  ENSG00000248333.8"
      ]
     },
     "execution_count": 29,
     "metadata": {},
     "output_type": "execute_result"
    }
   ],
   "source": [
    "unique_mapped_reads.head(2)"
   ]
  },
  {
   "cell_type": "code",
   "execution_count": 30,
   "metadata": {
    "ExecuteTime": {
     "end_time": "2019-08-05T16:44:03.023195Z",
     "start_time": "2019-08-05T16:44:02.913938Z"
    }
   },
   "outputs": [
    {
     "data": {
      "text/plain": [
       "gene_type\n",
       "protein_coding                        73868\n",
       "lncRNA                                 3350\n",
       "Mt_rRNA                                1694\n",
       "processed_pseudogene                    671\n",
       "TEC                                     189\n",
       "transcribed_unprocessed_pseudogene      151\n",
       "transcribed_processed_pseudogene        130\n",
       "Mt_tRNA                                 127\n",
       "misc_RNA                                 97\n",
       "transcribed_unitary_pseudogene           44\n",
       "unprocessed_pseudogene                   21\n",
       "scRNA                                    11\n",
       "snRNA                                     3\n",
       "pseudogene                                3\n",
       "unitary_pseudogene                        3\n",
       "snoRNA                                    2\n",
       "polymorphic_pseudogene                    1\n",
       "miRNA                                     1\n",
       "TR_C_gene                                 1\n",
       "Name: qname, dtype: int64"
      ]
     },
     "execution_count": 30,
     "metadata": {},
     "output_type": "execute_result"
    },
    {
     "data": {
      "text/plain": [
       "seqname\n",
       "chr12    6307\n",
       "chr1     6127\n",
       "chr6     5959\n",
       "chr2     5582\n",
       "chr17    5317\n",
       "chr19    4968\n",
       "chrM     4613\n",
       "chr5     4025\n",
       "chr3     3880\n",
       "chr11    3664\n",
       "chrX     3190\n",
       "chr16    2986\n",
       "chr8     2829\n",
       "chr7     2806\n",
       "chr4     2781\n",
       "chr10    2285\n",
       "chr15    2125\n",
       "chr14    1932\n",
       "chr20    1931\n",
       "chr9     1919\n",
       "chr13    1490\n",
       "chr18    1435\n",
       "chr22    1403\n",
       "chr21     783\n",
       "chrY       30\n",
       "Name: qname, dtype: int64"
      ]
     },
     "execution_count": 30,
     "metadata": {},
     "output_type": "execute_result"
    }
   ],
   "source": [
    "unique_mapped_reads.groupby(by='gene_type')['qname'].size().sort_values(ascending=False)\n",
    "unique_mapped_reads.groupby(by='seqname')['qname'].size().sort_values(ascending=False)"
   ]
  },
  {
   "cell_type": "markdown",
   "metadata": {},
   "source": [
    "#### Uniquely mapped reads (to transcriptome) read counts by genes"
   ]
  },
  {
   "cell_type": "code",
   "execution_count": 31,
   "metadata": {
    "ExecuteTime": {
     "end_time": "2019-08-05T16:44:21.982238Z",
     "start_time": "2019-08-05T16:44:21.787037Z"
    }
   },
   "outputs": [],
   "source": [
    "cts_gene_uniq_to_trans = unique_mapped_reads[(unique_mapped_reads.mapqs > 0)].groupby(by=['gene_id', 'gene_name'])['qname'].size().sort_values(ascending=False)\n",
    "ES_cts_gene_uniq_to_trans = unique_mapped_reads[(unique_mapped_reads.mapqs > 0) & (unique_mapped_reads.group == 'ES')].groupby(by=['group', 'gene_id', 'gene_name'])['qname'].size().sort_values(ascending=False)\n",
    "NEU_cts_gene_uniq_to_trans = unique_mapped_reads[(unique_mapped_reads.mapqs > 0) & (unique_mapped_reads.group == 'NEU')].groupby(by=['group','gene_id', 'gene_name'])['qname'].size().sort_values(ascending=False)"
   ]
  },
  {
   "cell_type": "code",
   "execution_count": 415,
   "metadata": {
    "ExecuteTime": {
     "end_time": "2019-08-06T03:47:55.759739Z",
     "start_time": "2019-08-06T03:47:55.754979Z"
    }
   },
   "outputs": [
    {
     "data": {
      "text/plain": [
       "34383"
      ]
     },
     "execution_count": 415,
     "metadata": {},
     "output_type": "execute_result"
    }
   ],
   "source": [
    "x.qname.sum()"
   ]
  },
  {
   "cell_type": "code",
   "execution_count": 413,
   "metadata": {
    "ExecuteTime": {
     "end_time": "2019-08-06T03:47:42.410009Z",
     "start_time": "2019-08-06T03:47:42.384474Z"
    }
   },
   "outputs": [
    {
     "data": {
      "text/html": [
       "<div>\n",
       "<style scoped>\n",
       "    .dataframe tbody tr th:only-of-type {\n",
       "        vertical-align: middle;\n",
       "    }\n",
       "\n",
       "    .dataframe tbody tr th {\n",
       "        vertical-align: top;\n",
       "    }\n",
       "\n",
       "    .dataframe thead th {\n",
       "        text-align: right;\n",
       "    }\n",
       "</style>\n",
       "<table border=\"1\" class=\"dataframe\">\n",
       "  <thead>\n",
       "    <tr style=\"text-align: right;\">\n",
       "      <th></th>\n",
       "      <th>gene_id</th>\n",
       "      <th>gene_name</th>\n",
       "      <th>qname</th>\n",
       "    </tr>\n",
       "  </thead>\n",
       "  <tbody>\n",
       "    <tr>\n",
       "      <th>0</th>\n",
       "      <td>ENSG00000210082.2</td>\n",
       "      <td>MT-RNR2</td>\n",
       "      <td>1310</td>\n",
       "    </tr>\n",
       "    <tr>\n",
       "      <th>2</th>\n",
       "      <td>ENSG00000198938.2</td>\n",
       "      <td>MT-CO3</td>\n",
       "      <td>691</td>\n",
       "    </tr>\n",
       "    <tr>\n",
       "      <th>3</th>\n",
       "      <td>ENSG00000198899.2</td>\n",
       "      <td>MT-ATP6</td>\n",
       "      <td>662</td>\n",
       "    </tr>\n",
       "    <tr>\n",
       "      <th>5</th>\n",
       "      <td>ENSG00000198727.2</td>\n",
       "      <td>MT-CYB</td>\n",
       "      <td>443</td>\n",
       "    </tr>\n",
       "    <tr>\n",
       "      <th>6</th>\n",
       "      <td>ENSG00000211459.2</td>\n",
       "      <td>MT-RNR1</td>\n",
       "      <td>384</td>\n",
       "    </tr>\n",
       "    <tr>\n",
       "      <th>7</th>\n",
       "      <td>ENSG00000198712.1</td>\n",
       "      <td>MT-CO2</td>\n",
       "      <td>360</td>\n",
       "    </tr>\n",
       "    <tr>\n",
       "      <th>9</th>\n",
       "      <td>ENSG00000198886.2</td>\n",
       "      <td>MT-ND4</td>\n",
       "      <td>192</td>\n",
       "    </tr>\n",
       "    <tr>\n",
       "      <th>13</th>\n",
       "      <td>ENSG00000198840.2</td>\n",
       "      <td>MT-ND3</td>\n",
       "      <td>124</td>\n",
       "    </tr>\n",
       "    <tr>\n",
       "      <th>15</th>\n",
       "      <td>ENSG00000198888.2</td>\n",
       "      <td>MT-ND1</td>\n",
       "      <td>121</td>\n",
       "    </tr>\n",
       "    <tr>\n",
       "      <th>18</th>\n",
       "      <td>ENSG00000210151.2</td>\n",
       "      <td>MT-TS1</td>\n",
       "      <td>109</td>\n",
       "    </tr>\n",
       "    <tr>\n",
       "      <th>23</th>\n",
       "      <td>ENSG00000198763.3</td>\n",
       "      <td>MT-ND2</td>\n",
       "      <td>95</td>\n",
       "    </tr>\n",
       "    <tr>\n",
       "      <th>56</th>\n",
       "      <td>ENSG00000198804.2</td>\n",
       "      <td>MT-CO1</td>\n",
       "      <td>48</td>\n",
       "    </tr>\n",
       "    <tr>\n",
       "      <th>189</th>\n",
       "      <td>ENSG00000198786.2</td>\n",
       "      <td>MT-ND5</td>\n",
       "      <td>24</td>\n",
       "    </tr>\n",
       "    <tr>\n",
       "      <th>207</th>\n",
       "      <td>ENSG00000198695.2</td>\n",
       "      <td>MT-ND6</td>\n",
       "      <td>23</td>\n",
       "    </tr>\n",
       "    <tr>\n",
       "      <th>371</th>\n",
       "      <td>ENSG00000210107.1</td>\n",
       "      <td>MT-TQ</td>\n",
       "      <td>15</td>\n",
       "    </tr>\n",
       "    <tr>\n",
       "      <th>1459</th>\n",
       "      <td>ENSG00000228253.1</td>\n",
       "      <td>MT-ATP8</td>\n",
       "      <td>5</td>\n",
       "    </tr>\n",
       "    <tr>\n",
       "      <th>1883</th>\n",
       "      <td>ENSG00000212907.2</td>\n",
       "      <td>MT-ND4L</td>\n",
       "      <td>4</td>\n",
       "    </tr>\n",
       "    <tr>\n",
       "      <th>4811</th>\n",
       "      <td>ENSG00000210194.1</td>\n",
       "      <td>MT-TE</td>\n",
       "      <td>1</td>\n",
       "    </tr>\n",
       "    <tr>\n",
       "      <th>4812</th>\n",
       "      <td>ENSG00000210156.1</td>\n",
       "      <td>MT-TK</td>\n",
       "      <td>1</td>\n",
       "    </tr>\n",
       "    <tr>\n",
       "      <th>4813</th>\n",
       "      <td>ENSG00000210100.1</td>\n",
       "      <td>MT-TI</td>\n",
       "      <td>1</td>\n",
       "    </tr>\n",
       "  </tbody>\n",
       "</table>\n",
       "</div>"
      ],
      "text/plain": [
       "                gene_id gene_name  qname\n",
       "0     ENSG00000210082.2   MT-RNR2   1310\n",
       "2     ENSG00000198938.2    MT-CO3    691\n",
       "3     ENSG00000198899.2   MT-ATP6    662\n",
       "5     ENSG00000198727.2    MT-CYB    443\n",
       "6     ENSG00000211459.2   MT-RNR1    384\n",
       "7     ENSG00000198712.1    MT-CO2    360\n",
       "9     ENSG00000198886.2    MT-ND4    192\n",
       "13    ENSG00000198840.2    MT-ND3    124\n",
       "15    ENSG00000198888.2    MT-ND1    121\n",
       "18    ENSG00000210151.2    MT-TS1    109\n",
       "23    ENSG00000198763.3    MT-ND2     95\n",
       "56    ENSG00000198804.2    MT-CO1     48\n",
       "189   ENSG00000198786.2    MT-ND5     24\n",
       "207   ENSG00000198695.2    MT-ND6     23\n",
       "371   ENSG00000210107.1     MT-TQ     15\n",
       "1459  ENSG00000228253.1   MT-ATP8      5\n",
       "1883  ENSG00000212907.2   MT-ND4L      4\n",
       "4811  ENSG00000210194.1     MT-TE      1\n",
       "4812  ENSG00000210156.1     MT-TK      1\n",
       "4813  ENSG00000210100.1     MT-TI      1"
      ]
     },
     "execution_count": 413,
     "metadata": {},
     "output_type": "execute_result"
    }
   ],
   "source": [
    "x = cts_gene_uniq_to_trans.reset_index()\n",
    "x[x.gene_name.str.contains('MT-')]\n"
   ]
  },
  {
   "cell_type": "code",
   "execution_count": 32,
   "metadata": {
    "ExecuteTime": {
     "end_time": "2019-08-05T16:44:24.988344Z",
     "start_time": "2019-08-05T16:44:24.972612Z"
    }
   },
   "outputs": [
    {
     "data": {
      "text/plain": [
       "gene_id             gene_name\n",
       "ENSG00000210082.2   MT-RNR2      1310\n",
       "ENSG00000167552.14  TUBA1A       1000\n",
       "ENSG00000198938.2   MT-CO3        691\n",
       "ENSG00000198899.2   MT-ATP6       662\n",
       "ENSG00000087086.15  FTL           461\n",
       "ENSG00000198727.2   MT-CYB        443\n",
       "ENSG00000211459.2   MT-RNR1       384\n",
       "ENSG00000198712.1   MT-CO2        360\n",
       "ENSG00000005022.6   SLC25A5       201\n",
       "ENSG00000198886.2   MT-ND4        192\n",
       "ENSG00000171858.18  RPS21         160\n",
       "ENSG00000198034.11  RPS4X         126\n",
       "ENSG00000034510.6   TMSB10        124\n",
       "ENSG00000198840.2   MT-ND3        124\n",
       "ENSG00000130741.11  EIF2S3        123\n",
       "ENSG00000198888.2   MT-ND1        121\n",
       "ENSG00000213190.3   MLLT11        117\n",
       "ENSG00000277443.3   MARCKS        113\n",
       "ENSG00000210151.2   MT-TS1        109\n",
       "ENSG00000137267.6   TUBB2A        103\n",
       "Name: qname, dtype: int64"
      ]
     },
     "execution_count": 32,
     "metadata": {},
     "output_type": "execute_result"
    },
    {
     "data": {
      "text/plain": [
       "group  gene_id             gene_name\n",
       "ES     ENSG00000210082.2   MT-RNR2      635\n",
       "       ENSG00000198899.2   MT-ATP6      369\n",
       "       ENSG00000198938.2   MT-CO3       321\n",
       "       ENSG00000087086.15  FTL          303\n",
       "       ENSG00000167552.14  TUBA1A       265\n",
       "       ENSG00000211459.2   MT-RNR1      199\n",
       "       ENSG00000198727.2   MT-CYB       178\n",
       "       ENSG00000198712.1   MT-CO2       163\n",
       "       ENSG00000005022.6   SLC25A5      112\n",
       "       ENSG00000198886.2   MT-ND4       102\n",
       "       ENSG00000171858.18  RPS21         88\n",
       "       ENSG00000198840.2   MT-ND3        72\n",
       "       ENSG00000198034.11  RPS4X         63\n",
       "       ENSG00000188612.12  SUMO2         61\n",
       "       ENSG00000034510.6   TMSB10        57\n",
       "       ENSG00000165502.6   RPL36AL       56\n",
       "       ENSG00000130741.11  EIF2S3        53\n",
       "       ENSG00000171314.9   PGAM1         53\n",
       "       ENSG00000198888.2   MT-ND1        47\n",
       "       ENSG00000137267.6   TUBB2A        46\n",
       "Name: qname, dtype: int64"
      ]
     },
     "execution_count": 32,
     "metadata": {},
     "output_type": "execute_result"
    },
    {
     "data": {
      "text/plain": [
       "group  gene_id             gene_name\n",
       "NEU    ENSG00000167552.14  TUBA1A       735\n",
       "       ENSG00000210082.2   MT-RNR2      675\n",
       "       ENSG00000198938.2   MT-CO3       370\n",
       "       ENSG00000198899.2   MT-ATP6      293\n",
       "       ENSG00000198727.2   MT-CYB       265\n",
       "       ENSG00000198712.1   MT-CO2       197\n",
       "       ENSG00000211459.2   MT-RNR1      185\n",
       "       ENSG00000087086.15  FTL          158\n",
       "       ENSG00000213190.3   MLLT11        91\n",
       "       ENSG00000198886.2   MT-ND4        90\n",
       "       ENSG00000005022.6   SLC25A5       89\n",
       "       ENSG00000277443.3   MARCKS        83\n",
       "       ENSG00000157005.4   SST           76\n",
       "       ENSG00000198888.2   MT-ND1        74\n",
       "       ENSG00000171858.18  RPS21         72\n",
       "       ENSG00000130741.11  EIF2S3        70\n",
       "       ENSG00000131711.15  MAP1B         69\n",
       "       ENSG00000210151.2   MT-TS1        68\n",
       "       ENSG00000034510.6   TMSB10        67\n",
       "       ENSG00000198034.11  RPS4X         63\n",
       "Name: qname, dtype: int64"
      ]
     },
     "execution_count": 32,
     "metadata": {},
     "output_type": "execute_result"
    }
   ],
   "source": [
    "cts_gene_uniq_to_trans.head(20)\n",
    "ES_cts_gene_uniq_to_trans.head(20)\n",
    "NEU_cts_gene_uniq_to_trans.head(20)"
   ]
  },
  {
   "cell_type": "raw",
   "metadata": {
    "ExecuteTime": {
     "end_time": "2019-08-05T15:48:20.922567Z",
     "start_time": "2019-08-05T15:48:18.786986Z"
    }
   },
   "source": [
    "with pd.ExcelWriter('cts_uniq_map_mRNA.xlsx') as writer:\n",
    "    cts_gene_uniq_to_trans.to_excel(writer, sheet_name='BothGroupsUniqMappedGeneReadCts', header=True, index=True)\n",
    "    ES_cts_gene_uniq_to_trans.to_excel(writer, sheet_name='ES_UniqMappedGeneReadCts', header=True, index=True)\n",
    "    NEU_cts_gene_uniq_to_trans.to_excel(writer, sheet_name='NEURON_UniqMappedGeneReadCts', header=True, index=True)"
   ]
  },
  {
   "cell_type": "code",
   "execution_count": 33,
   "metadata": {
    "ExecuteTime": {
     "end_time": "2019-08-05T16:44:34.847542Z",
     "start_time": "2019-08-05T16:44:34.808351Z"
    }
   },
   "outputs": [
    {
     "data": {
      "text/html": [
       "<div>\n",
       "<style scoped>\n",
       "    .dataframe tbody tr th:only-of-type {\n",
       "        vertical-align: middle;\n",
       "    }\n",
       "\n",
       "    .dataframe tbody tr th {\n",
       "        vertical-align: top;\n",
       "    }\n",
       "\n",
       "    .dataframe thead th {\n",
       "        text-align: right;\n",
       "    }\n",
       "</style>\n",
       "<table border=\"1\" class=\"dataframe\">\n",
       "  <thead>\n",
       "    <tr style=\"text-align: right;\">\n",
       "      <th></th>\n",
       "      <th>qname</th>\n",
       "      <th>flag</th>\n",
       "      <th>transcript_id</th>\n",
       "      <th>start</th>\n",
       "      <th>end</th>\n",
       "      <th>mapqs</th>\n",
       "      <th>cigars</th>\n",
       "      <th>XA</th>\n",
       "      <th>sample</th>\n",
       "      <th>group</th>\n",
       "      <th>seqname</th>\n",
       "      <th>gene_type</th>\n",
       "      <th>gene_name</th>\n",
       "      <th>gene_id</th>\n",
       "    </tr>\n",
       "  </thead>\n",
       "  <tbody>\n",
       "    <tr>\n",
       "      <th>57040</th>\n",
       "      <td>M00911:259:000000000-G43JP:1:1102:24293:9359</td>\n",
       "      <td>16</td>\n",
       "      <td>ENST00000341376.10</td>\n",
       "      <td>3585</td>\n",
       "      <td>3736</td>\n",
       "      <td>37</td>\n",
       "      <td>151M</td>\n",
       "      <td>NaN</td>\n",
       "      <td>Congyi11.sorted.bam</td>\n",
       "      <td>NEU</td>\n",
       "      <td>chr6</td>\n",
       "      <td>protein_coding</td>\n",
       "      <td>NFYA</td>\n",
       "      <td>ENSG00000001167.14</td>\n",
       "    </tr>\n",
       "    <tr>\n",
       "      <th>57041</th>\n",
       "      <td>M00911:259:000000000-G43JP:1:1102:25931:9787</td>\n",
       "      <td>0</td>\n",
       "      <td>ENST00000341376.10</td>\n",
       "      <td>3726</td>\n",
       "      <td>3802</td>\n",
       "      <td>37</td>\n",
       "      <td>76M</td>\n",
       "      <td>NaN</td>\n",
       "      <td>Congyi4.sorted.bam</td>\n",
       "      <td>NEU</td>\n",
       "      <td>chr6</td>\n",
       "      <td>protein_coding</td>\n",
       "      <td>NFYA</td>\n",
       "      <td>ENSG00000001167.14</td>\n",
       "    </tr>\n",
       "    <tr>\n",
       "      <th>57042</th>\n",
       "      <td>M00911:259:000000000-G43JP:1:2101:9994:27453</td>\n",
       "      <td>16</td>\n",
       "      <td>ENST00000341376.10</td>\n",
       "      <td>29</td>\n",
       "      <td>99</td>\n",
       "      <td>37</td>\n",
       "      <td>70M</td>\n",
       "      <td>NaN</td>\n",
       "      <td>Congyi8.sorted.bam</td>\n",
       "      <td>NEU</td>\n",
       "      <td>chr6</td>\n",
       "      <td>protein_coding</td>\n",
       "      <td>NFYA</td>\n",
       "      <td>ENSG00000001167.14</td>\n",
       "    </tr>\n",
       "    <tr>\n",
       "      <th>57043</th>\n",
       "      <td>M00911:259:000000000-G43JP:1:2102:22016:3952</td>\n",
       "      <td>16</td>\n",
       "      <td>ENST00000341376.10</td>\n",
       "      <td>3567</td>\n",
       "      <td>3639</td>\n",
       "      <td>37</td>\n",
       "      <td>72M</td>\n",
       "      <td>NaN</td>\n",
       "      <td>Congyi8.sorted.bam</td>\n",
       "      <td>NEU</td>\n",
       "      <td>chr6</td>\n",
       "      <td>protein_coding</td>\n",
       "      <td>NFYA</td>\n",
       "      <td>ENSG00000001167.14</td>\n",
       "    </tr>\n",
       "  </tbody>\n",
       "</table>\n",
       "</div>"
      ],
      "text/plain": [
       "                                              qname  flag       transcript_id  start   end  mapqs cigars   XA               sample group seqname       gene_type gene_name             gene_id\n",
       "57040  M00911:259:000000000-G43JP:1:1102:24293:9359    16  ENST00000341376.10   3585  3736     37   151M  NaN  Congyi11.sorted.bam   NEU    chr6  protein_coding      NFYA  ENSG00000001167.14\n",
       "57041  M00911:259:000000000-G43JP:1:1102:25931:9787     0  ENST00000341376.10   3726  3802     37    76M  NaN   Congyi4.sorted.bam   NEU    chr6  protein_coding      NFYA  ENSG00000001167.14\n",
       "57042  M00911:259:000000000-G43JP:1:2101:9994:27453    16  ENST00000341376.10     29    99     37    70M  NaN   Congyi8.sorted.bam   NEU    chr6  protein_coding      NFYA  ENSG00000001167.14\n",
       "57043  M00911:259:000000000-G43JP:1:2102:22016:3952    16  ENST00000341376.10   3567  3639     37    72M  NaN   Congyi8.sorted.bam   NEU    chr6  protein_coding      NFYA  ENSG00000001167.14"
      ]
     },
     "execution_count": 33,
     "metadata": {},
     "output_type": "execute_result"
    }
   ],
   "source": [
    "unique_mapped_reads[unique_mapped_reads.gene_id == 'ENSG00000001167.14']"
   ]
  },
  {
   "cell_type": "markdown",
   "metadata": {},
   "source": [
    "#### Compare ES vs. Neville's ES readcounts"
   ]
  },
  {
   "cell_type": "code",
   "execution_count": 45,
   "metadata": {
    "ExecuteTime": {
     "end_time": "2019-08-05T16:46:16.238562Z",
     "start_time": "2019-08-05T16:46:13.909201Z"
    }
   },
   "outputs": [],
   "source": [
    "stemdata=pd.read_excel('/gpfs/commons/groups/sanjana_lab/cdai/TFscreen/data/RNAseq_human_neurons_stem_cell.xlsx')"
   ]
  },
  {
   "cell_type": "code",
   "execution_count": 46,
   "metadata": {
    "ExecuteTime": {
     "end_time": "2019-08-05T16:46:17.242268Z",
     "start_time": "2019-08-05T16:46:17.235312Z"
    }
   },
   "outputs": [],
   "source": [
    "ES_stemdata = stemdata['ctrl_StemCell'].sort_values(ascending=False)"
   ]
  },
  {
   "cell_type": "code",
   "execution_count": 47,
   "metadata": {
    "ExecuteTime": {
     "end_time": "2019-08-05T16:46:19.116625Z",
     "start_time": "2019-08-05T16:46:19.110881Z"
    }
   },
   "outputs": [],
   "source": [
    "ES_stemdata = ES_stemdata.reset_index()"
   ]
  },
  {
   "cell_type": "code",
   "execution_count": 48,
   "metadata": {
    "ExecuteTime": {
     "end_time": "2019-08-05T16:46:20.181294Z",
     "start_time": "2019-08-05T16:46:20.173390Z"
    }
   },
   "outputs": [
    {
     "data": {
      "text/html": [
       "<div>\n",
       "<style scoped>\n",
       "    .dataframe tbody tr th:only-of-type {\n",
       "        vertical-align: middle;\n",
       "    }\n",
       "\n",
       "    .dataframe tbody tr th {\n",
       "        vertical-align: top;\n",
       "    }\n",
       "\n",
       "    .dataframe thead th {\n",
       "        text-align: right;\n",
       "    }\n",
       "</style>\n",
       "<table border=\"1\" class=\"dataframe\">\n",
       "  <thead>\n",
       "    <tr style=\"text-align: right;\">\n",
       "      <th></th>\n",
       "      <th>index</th>\n",
       "      <th>ctrl_StemCell</th>\n",
       "    </tr>\n",
       "  </thead>\n",
       "  <tbody>\n",
       "    <tr>\n",
       "      <th>0</th>\n",
       "      <td>EEF1A1</td>\n",
       "      <td>17.376351</td>\n",
       "    </tr>\n",
       "    <tr>\n",
       "      <th>1</th>\n",
       "      <td>TMSB4X</td>\n",
       "      <td>16.900372</td>\n",
       "    </tr>\n",
       "    <tr>\n",
       "      <th>2</th>\n",
       "      <td>RPL41</td>\n",
       "      <td>16.708217</td>\n",
       "    </tr>\n",
       "    <tr>\n",
       "      <th>3</th>\n",
       "      <td>RPS6</td>\n",
       "      <td>16.438755</td>\n",
       "    </tr>\n",
       "    <tr>\n",
       "      <th>4</th>\n",
       "      <td>HSP90AB1</td>\n",
       "      <td>16.430288</td>\n",
       "    </tr>\n",
       "  </tbody>\n",
       "</table>\n",
       "</div>"
      ],
      "text/plain": [
       "      index  ctrl_StemCell\n",
       "0    EEF1A1      17.376351\n",
       "1    TMSB4X      16.900372\n",
       "2     RPL41      16.708217\n",
       "3      RPS6      16.438755\n",
       "4  HSP90AB1      16.430288"
      ]
     },
     "execution_count": 48,
     "metadata": {},
     "output_type": "execute_result"
    }
   ],
   "source": [
    "ES_stemdata.head()"
   ]
  },
  {
   "cell_type": "code",
   "execution_count": 49,
   "metadata": {
    "ExecuteTime": {
     "end_time": "2019-08-05T16:46:29.582996Z",
     "start_time": "2019-08-05T16:46:29.572177Z"
    }
   },
   "outputs": [],
   "source": [
    "ES_cts_gene_uniq_to_trans = ES_cts_gene_uniq_to_trans.reset_index()"
   ]
  },
  {
   "cell_type": "code",
   "execution_count": 50,
   "metadata": {
    "ExecuteTime": {
     "end_time": "2019-08-05T16:46:30.771183Z",
     "start_time": "2019-08-05T16:46:30.761574Z"
    }
   },
   "outputs": [
    {
     "data": {
      "text/html": [
       "<div>\n",
       "<style scoped>\n",
       "    .dataframe tbody tr th:only-of-type {\n",
       "        vertical-align: middle;\n",
       "    }\n",
       "\n",
       "    .dataframe tbody tr th {\n",
       "        vertical-align: top;\n",
       "    }\n",
       "\n",
       "    .dataframe thead th {\n",
       "        text-align: right;\n",
       "    }\n",
       "</style>\n",
       "<table border=\"1\" class=\"dataframe\">\n",
       "  <thead>\n",
       "    <tr style=\"text-align: right;\">\n",
       "      <th></th>\n",
       "      <th>index</th>\n",
       "      <th>group</th>\n",
       "      <th>gene_id</th>\n",
       "      <th>gene_name</th>\n",
       "      <th>qname</th>\n",
       "    </tr>\n",
       "  </thead>\n",
       "  <tbody>\n",
       "    <tr>\n",
       "      <th>0</th>\n",
       "      <td>0</td>\n",
       "      <td>ES</td>\n",
       "      <td>ENSG00000210082.2</td>\n",
       "      <td>MT-RNR2</td>\n",
       "      <td>635</td>\n",
       "    </tr>\n",
       "    <tr>\n",
       "      <th>1</th>\n",
       "      <td>1</td>\n",
       "      <td>ES</td>\n",
       "      <td>ENSG00000198899.2</td>\n",
       "      <td>MT-ATP6</td>\n",
       "      <td>369</td>\n",
       "    </tr>\n",
       "  </tbody>\n",
       "</table>\n",
       "</div>"
      ],
      "text/plain": [
       "   index group            gene_id gene_name  qname\n",
       "0      0    ES  ENSG00000210082.2   MT-RNR2    635\n",
       "1      1    ES  ENSG00000198899.2   MT-ATP6    369"
      ]
     },
     "execution_count": 50,
     "metadata": {},
     "output_type": "execute_result"
    }
   ],
   "source": [
    "ES_cts_gene_uniq_to_trans.head(2)"
   ]
  },
  {
   "cell_type": "code",
   "execution_count": 54,
   "metadata": {
    "ExecuteTime": {
     "end_time": "2019-08-05T16:47:28.766340Z",
     "start_time": "2019-08-05T16:47:28.760309Z"
    }
   },
   "outputs": [
    {
     "data": {
      "text/plain": [
       "array(['MT-RNR2', 'MT-ATP6', 'MT-CO3', ..., 'STAT5B', 'ALPK3', 'ZNF358'],\n",
       "      dtype=object)"
      ]
     },
     "execution_count": 54,
     "metadata": {},
     "output_type": "execute_result"
    }
   ],
   "source": [
    "ES_stemdata['']"
   ]
  },
  {
   "cell_type": "code",
   "execution_count": 58,
   "metadata": {
    "ExecuteTime": {
     "end_time": "2019-08-05T16:48:39.673384Z",
     "start_time": "2019-08-05T16:48:36.186209Z"
    }
   },
   "outputs": [],
   "source": [
    "Shared_genes = [x for x in list(ES_cts_gene_uniq_to_trans.gene_name.unique()) if x in list(ES_stemdata['index'])]"
   ]
  },
  {
   "cell_type": "code",
   "execution_count": 60,
   "metadata": {
    "ExecuteTime": {
     "end_time": "2019-08-05T16:48:44.545523Z",
     "start_time": "2019-08-05T16:48:44.512167Z"
    }
   },
   "outputs": [
    {
     "data": {
      "text/html": [
       "<div>\n",
       "<style scoped>\n",
       "    .dataframe tbody tr th:only-of-type {\n",
       "        vertical-align: middle;\n",
       "    }\n",
       "\n",
       "    .dataframe tbody tr th {\n",
       "        vertical-align: top;\n",
       "    }\n",
       "\n",
       "    .dataframe thead th {\n",
       "        text-align: right;\n",
       "    }\n",
       "</style>\n",
       "<table border=\"1\" class=\"dataframe\">\n",
       "  <thead>\n",
       "    <tr style=\"text-align: right;\">\n",
       "      <th></th>\n",
       "      <th>index</th>\n",
       "      <th>ctrl_StemCell</th>\n",
       "    </tr>\n",
       "  </thead>\n",
       "  <tbody>\n",
       "    <tr>\n",
       "      <th>11140</th>\n",
       "      <td>A1BG</td>\n",
       "      <td>4.480680</td>\n",
       "    </tr>\n",
       "    <tr>\n",
       "      <th>3849</th>\n",
       "      <td>AARS</td>\n",
       "      <td>8.604559</td>\n",
       "    </tr>\n",
       "    <tr>\n",
       "      <th>3537</th>\n",
       "      <td>AARS2</td>\n",
       "      <td>8.781500</td>\n",
       "    </tr>\n",
       "    <tr>\n",
       "      <th>16742</th>\n",
       "      <td>AARSD1</td>\n",
       "      <td>0.979578</td>\n",
       "    </tr>\n",
       "    <tr>\n",
       "      <th>298</th>\n",
       "      <td>AASS</td>\n",
       "      <td>12.346631</td>\n",
       "    </tr>\n",
       "  </tbody>\n",
       "</table>\n",
       "</div>"
      ],
      "text/plain": [
       "        index  ctrl_StemCell\n",
       "11140    A1BG       4.480680\n",
       "3849     AARS       8.604559\n",
       "3537    AARS2       8.781500\n",
       "16742  AARSD1       0.979578\n",
       "298      AASS      12.346631"
      ]
     },
     "execution_count": 60,
     "metadata": {},
     "output_type": "execute_result"
    },
    {
     "data": {
      "text/html": [
       "<div>\n",
       "<style scoped>\n",
       "    .dataframe tbody tr th:only-of-type {\n",
       "        vertical-align: middle;\n",
       "    }\n",
       "\n",
       "    .dataframe tbody tr th {\n",
       "        vertical-align: top;\n",
       "    }\n",
       "\n",
       "    .dataframe thead th {\n",
       "        text-align: right;\n",
       "    }\n",
       "</style>\n",
       "<table border=\"1\" class=\"dataframe\">\n",
       "  <thead>\n",
       "    <tr style=\"text-align: right;\">\n",
       "      <th></th>\n",
       "      <th>gene_name</th>\n",
       "      <th>qname</th>\n",
       "    </tr>\n",
       "  </thead>\n",
       "  <tbody>\n",
       "    <tr>\n",
       "      <th>2476</th>\n",
       "      <td>A1BG</td>\n",
       "      <td>1</td>\n",
       "    </tr>\n",
       "    <tr>\n",
       "      <th>119</th>\n",
       "      <td>AARS</td>\n",
       "      <td>16</td>\n",
       "    </tr>\n",
       "    <tr>\n",
       "      <th>4088</th>\n",
       "      <td>AARS2</td>\n",
       "      <td>1</td>\n",
       "    </tr>\n",
       "    <tr>\n",
       "      <th>2612</th>\n",
       "      <td>AARSD1</td>\n",
       "      <td>1</td>\n",
       "    </tr>\n",
       "    <tr>\n",
       "      <th>182</th>\n",
       "      <td>AASS</td>\n",
       "      <td>12</td>\n",
       "    </tr>\n",
       "  </tbody>\n",
       "</table>\n",
       "</div>"
      ],
      "text/plain": [
       "     gene_name  qname\n",
       "2476      A1BG      1\n",
       "119       AARS     16\n",
       "4088     AARS2      1\n",
       "2612    AARSD1      1\n",
       "182       AASS     12"
      ]
     },
     "execution_count": 60,
     "metadata": {},
     "output_type": "execute_result"
    }
   ],
   "source": [
    "ES_stemdata[ES_stemdata['index'].isin(Shared_genes)].sort_values('index').head()\n",
    "ES_cts_gene_uniq_to_trans[ES_cts_gene_uniq_to_trans.gene_name.isin(Shared_genes)][['gene_name', 'qname']].sort_values('gene_name').head()"
   ]
  },
  {
   "cell_type": "code",
   "execution_count": 61,
   "metadata": {
    "ExecuteTime": {
     "end_time": "2019-08-05T16:49:04.574307Z",
     "start_time": "2019-08-05T16:49:04.561157Z"
    }
   },
   "outputs": [],
   "source": [
    "df1 = ES_stemdata[ES_stemdata['index'].isin(Shared_genes)].sort_values('index')\n",
    "df1['group'] = 'Neville ES'\n",
    "df1.rename(columns={'index':'x','ctrl_StemCell':'y'}, inplace=True)"
   ]
  },
  {
   "cell_type": "code",
   "execution_count": 62,
   "metadata": {
    "ExecuteTime": {
     "end_time": "2019-08-05T16:49:06.187560Z",
     "start_time": "2019-08-05T16:49:06.173363Z"
    }
   },
   "outputs": [],
   "source": [
    "df2 = ES_cts_gene_uniq_to_trans[ES_cts_gene_uniq_to_trans.gene_name.isin(Shared_genes)][['gene_name', 'qname']].sort_values('gene_name')\n",
    "df2['group'] = 'Congyi ES'\n",
    "df2.rename(columns={'gene_name':'x', 'qname':'y'}, inplace=True)"
   ]
  },
  {
   "cell_type": "code",
   "execution_count": 63,
   "metadata": {
    "ExecuteTime": {
     "end_time": "2019-08-05T16:49:08.503361Z",
     "start_time": "2019-08-05T16:49:08.473190Z"
    }
   },
   "outputs": [],
   "source": [
    "df1['y_norm'] = df1.y.transform(lambda x: x/x.mean())\n",
    "df2['y_norm'] = df2.y.transform(lambda x: x/x.mean())"
   ]
  },
  {
   "cell_type": "code",
   "execution_count": 287,
   "metadata": {
    "ExecuteTime": {
     "end_time": "2019-08-05T19:18:15.333940Z",
     "start_time": "2019-08-05T19:18:15.327934Z"
    }
   },
   "outputs": [],
   "source": [
    "df1['rrank'] = df1.y.transform(lambda x: x.rank(method='max', ascending=False))\n",
    "df2['rrank'] = df2.y.transform(lambda x: x.rank(method='max', ascending=False))"
   ]
  },
  {
   "cell_type": "code",
   "execution_count": 289,
   "metadata": {
    "ExecuteTime": {
     "end_time": "2019-08-05T19:18:24.157082Z",
     "start_time": "2019-08-05T19:18:24.135509Z"
    }
   },
   "outputs": [
    {
     "data": {
      "text/html": [
       "<div>\n",
       "<style scoped>\n",
       "    .dataframe tbody tr th:only-of-type {\n",
       "        vertical-align: middle;\n",
       "    }\n",
       "\n",
       "    .dataframe tbody tr th {\n",
       "        vertical-align: top;\n",
       "    }\n",
       "\n",
       "    .dataframe thead th {\n",
       "        text-align: right;\n",
       "    }\n",
       "</style>\n",
       "<table border=\"1\" class=\"dataframe\">\n",
       "  <thead>\n",
       "    <tr style=\"text-align: right;\">\n",
       "      <th></th>\n",
       "      <th>x</th>\n",
       "      <th>y</th>\n",
       "      <th>group</th>\n",
       "      <th>y_norm</th>\n",
       "      <th>rrank</th>\n",
       "    </tr>\n",
       "  </thead>\n",
       "  <tbody>\n",
       "    <tr>\n",
       "      <th>11140</th>\n",
       "      <td>A1BG</td>\n",
       "      <td>4.480680</td>\n",
       "      <td>Neville ES</td>\n",
       "      <td>0.574862</td>\n",
       "      <td>3120.0</td>\n",
       "    </tr>\n",
       "    <tr>\n",
       "      <th>3849</th>\n",
       "      <td>AARS</td>\n",
       "      <td>8.604559</td>\n",
       "      <td>Neville ES</td>\n",
       "      <td>1.103947</td>\n",
       "      <td>1489.0</td>\n",
       "    </tr>\n",
       "    <tr>\n",
       "      <th>3537</th>\n",
       "      <td>AARS2</td>\n",
       "      <td>8.781500</td>\n",
       "      <td>Neville ES</td>\n",
       "      <td>1.126648</td>\n",
       "      <td>1395.0</td>\n",
       "    </tr>\n",
       "    <tr>\n",
       "      <th>16742</th>\n",
       "      <td>AARSD1</td>\n",
       "      <td>0.979578</td>\n",
       "      <td>Neville ES</td>\n",
       "      <td>0.125678</td>\n",
       "      <td>3592.0</td>\n",
       "    </tr>\n",
       "    <tr>\n",
       "      <th>298</th>\n",
       "      <td>AASS</td>\n",
       "      <td>12.346631</td>\n",
       "      <td>Neville ES</td>\n",
       "      <td>1.584047</td>\n",
       "      <td>150.0</td>\n",
       "    </tr>\n",
       "  </tbody>\n",
       "</table>\n",
       "</div>"
      ],
      "text/plain": [
       "            x          y       group    y_norm   rrank\n",
       "11140    A1BG   4.480680  Neville ES  0.574862  3120.0\n",
       "3849     AARS   8.604559  Neville ES  1.103947  1489.0\n",
       "3537    AARS2   8.781500  Neville ES  1.126648  1395.0\n",
       "16742  AARSD1   0.979578  Neville ES  0.125678  3592.0\n",
       "298      AASS  12.346631  Neville ES  1.584047   150.0"
      ]
     },
     "execution_count": 289,
     "metadata": {},
     "output_type": "execute_result"
    },
    {
     "data": {
      "text/html": [
       "<div>\n",
       "<style scoped>\n",
       "    .dataframe tbody tr th:only-of-type {\n",
       "        vertical-align: middle;\n",
       "    }\n",
       "\n",
       "    .dataframe tbody tr th {\n",
       "        vertical-align: top;\n",
       "    }\n",
       "\n",
       "    .dataframe thead th {\n",
       "        text-align: right;\n",
       "    }\n",
       "</style>\n",
       "<table border=\"1\" class=\"dataframe\">\n",
       "  <thead>\n",
       "    <tr style=\"text-align: right;\">\n",
       "      <th></th>\n",
       "      <th>x</th>\n",
       "      <th>y</th>\n",
       "      <th>group</th>\n",
       "      <th>y_norm</th>\n",
       "      <th>rrank</th>\n",
       "    </tr>\n",
       "  </thead>\n",
       "  <tbody>\n",
       "    <tr>\n",
       "      <th>2476</th>\n",
       "      <td>A1BG</td>\n",
       "      <td>1</td>\n",
       "      <td>Congyi ES</td>\n",
       "      <td>0.293414</td>\n",
       "      <td>3680.0</td>\n",
       "    </tr>\n",
       "    <tr>\n",
       "      <th>119</th>\n",
       "      <td>AARS</td>\n",
       "      <td>16</td>\n",
       "      <td>Congyi ES</td>\n",
       "      <td>4.694626</td>\n",
       "      <td>104.0</td>\n",
       "    </tr>\n",
       "    <tr>\n",
       "      <th>4088</th>\n",
       "      <td>AARS2</td>\n",
       "      <td>1</td>\n",
       "      <td>Congyi ES</td>\n",
       "      <td>0.293414</td>\n",
       "      <td>3680.0</td>\n",
       "    </tr>\n",
       "    <tr>\n",
       "      <th>2612</th>\n",
       "      <td>AARSD1</td>\n",
       "      <td>1</td>\n",
       "      <td>Congyi ES</td>\n",
       "      <td>0.293414</td>\n",
       "      <td>3680.0</td>\n",
       "    </tr>\n",
       "    <tr>\n",
       "      <th>182</th>\n",
       "      <td>AASS</td>\n",
       "      <td>12</td>\n",
       "      <td>Congyi ES</td>\n",
       "      <td>3.520970</td>\n",
       "      <td>169.0</td>\n",
       "    </tr>\n",
       "  </tbody>\n",
       "</table>\n",
       "</div>"
      ],
      "text/plain": [
       "           x   y      group    y_norm   rrank\n",
       "2476    A1BG   1  Congyi ES  0.293414  3680.0\n",
       "119     AARS  16  Congyi ES  4.694626   104.0\n",
       "4088   AARS2   1  Congyi ES  0.293414  3680.0\n",
       "2612  AARSD1   1  Congyi ES  0.293414  3680.0\n",
       "182     AASS  12  Congyi ES  3.520970   169.0"
      ]
     },
     "execution_count": 289,
     "metadata": {},
     "output_type": "execute_result"
    }
   ],
   "source": [
    "df1.head()\n",
    "df2.head()"
   ]
  },
  {
   "cell_type": "code",
   "execution_count": 291,
   "metadata": {
    "ExecuteTime": {
     "end_time": "2019-08-05T19:18:53.070859Z",
     "start_time": "2019-08-05T19:18:53.059603Z"
    }
   },
   "outputs": [
    {
     "data": {
      "text/html": [
       "<div>\n",
       "<style scoped>\n",
       "    .dataframe tbody tr th:only-of-type {\n",
       "        vertical-align: middle;\n",
       "    }\n",
       "\n",
       "    .dataframe tbody tr th {\n",
       "        vertical-align: top;\n",
       "    }\n",
       "\n",
       "    .dataframe thead th {\n",
       "        text-align: right;\n",
       "    }\n",
       "</style>\n",
       "<table border=\"1\" class=\"dataframe\">\n",
       "  <thead>\n",
       "    <tr style=\"text-align: right;\">\n",
       "      <th></th>\n",
       "      <th>x</th>\n",
       "      <th>y</th>\n",
       "      <th>group</th>\n",
       "      <th>y_norm</th>\n",
       "      <th>rrank</th>\n",
       "    </tr>\n",
       "  </thead>\n",
       "  <tbody>\n",
       "    <tr>\n",
       "      <th>3</th>\n",
       "      <td>FTL</td>\n",
       "      <td>303</td>\n",
       "      <td>Congyi ES</td>\n",
       "      <td>88.904481</td>\n",
       "      <td>1.0</td>\n",
       "    </tr>\n",
       "    <tr>\n",
       "      <th>4</th>\n",
       "      <td>TUBA1A</td>\n",
       "      <td>265</td>\n",
       "      <td>Congyi ES</td>\n",
       "      <td>77.754744</td>\n",
       "      <td>2.0</td>\n",
       "    </tr>\n",
       "    <tr>\n",
       "      <th>8</th>\n",
       "      <td>SLC25A5</td>\n",
       "      <td>112</td>\n",
       "      <td>Congyi ES</td>\n",
       "      <td>32.862382</td>\n",
       "      <td>3.0</td>\n",
       "    </tr>\n",
       "    <tr>\n",
       "      <th>10</th>\n",
       "      <td>RPS21</td>\n",
       "      <td>88</td>\n",
       "      <td>Congyi ES</td>\n",
       "      <td>25.820443</td>\n",
       "      <td>4.0</td>\n",
       "    </tr>\n",
       "    <tr>\n",
       "      <th>12</th>\n",
       "      <td>RPS4X</td>\n",
       "      <td>63</td>\n",
       "      <td>Congyi ES</td>\n",
       "      <td>18.485090</td>\n",
       "      <td>5.0</td>\n",
       "    </tr>\n",
       "  </tbody>\n",
       "</table>\n",
       "</div>"
      ],
      "text/plain": [
       "          x    y      group     y_norm  rrank\n",
       "3       FTL  303  Congyi ES  88.904481    1.0\n",
       "4    TUBA1A  265  Congyi ES  77.754744    2.0\n",
       "8   SLC25A5  112  Congyi ES  32.862382    3.0\n",
       "10    RPS21   88  Congyi ES  25.820443    4.0\n",
       "12    RPS4X   63  Congyi ES  18.485090    5.0"
      ]
     },
     "execution_count": 291,
     "metadata": {},
     "output_type": "execute_result"
    }
   ],
   "source": [
    "df2.sort_values('rrank').head()"
   ]
  },
  {
   "cell_type": "code",
   "execution_count": 292,
   "metadata": {
    "ExecuteTime": {
     "end_time": "2019-08-05T19:18:57.680620Z",
     "start_time": "2019-08-05T19:18:57.668575Z"
    }
   },
   "outputs": [],
   "source": [
    "neville_top50_genes = list(df1.sort_values('y', ascending=False)['x'].head(50))\n",
    "neville_top100_genes = list(df1.sort_values('y', ascending=False)['x'].head(100))\n",
    "neville_top1000_genes = list(df1.sort_values('y', ascending=False)['x'].head(1000))\n",
    "congyi_top50_genes = list(df2.sort_values('y', ascending=False)['x'].head(50))\n",
    "congyi_top100_genes = list(df2.sort_values('y', ascending=False)['x'].head(100))\n",
    "congyi_top1000_genes = list(df2.sort_values('y', ascending=False)['x'].head(1000))"
   ]
  },
  {
   "cell_type": "code",
   "execution_count": 293,
   "metadata": {
    "ExecuteTime": {
     "end_time": "2019-08-05T19:18:59.177025Z",
     "start_time": "2019-08-05T19:18:59.171566Z"
    }
   },
   "outputs": [
    {
     "data": {
      "text/plain": [
       "['RPL41',\n",
       " 'RPS3A',\n",
       " 'RPL34',\n",
       " 'RPL7',\n",
       " 'RPLP1',\n",
       " 'HSP90AA1',\n",
       " 'RPS4X',\n",
       " 'RPL31',\n",
       " 'CALM2',\n",
       " 'RPL9']"
      ]
     },
     "execution_count": 293,
     "metadata": {},
     "output_type": "execute_result"
    },
    {
     "data": {
      "text/plain": [
       "['FTL',\n",
       " 'TUBA1A',\n",
       " 'SLC25A5',\n",
       " 'RPS21',\n",
       " 'RPS4X',\n",
       " 'SUMO2',\n",
       " 'TMSB10',\n",
       " 'RPL36AL',\n",
       " 'EIF2S3',\n",
       " 'PGAM1']"
      ]
     },
     "execution_count": 293,
     "metadata": {},
     "output_type": "execute_result"
    }
   ],
   "source": [
    "neville_top50_genes[0:10]\n",
    "congyi_top50_genes[0:10]"
   ]
  },
  {
   "cell_type": "markdown",
   "metadata": {},
   "source": [
    "## Number of genes intersects between two dataset"
   ]
  },
  {
   "cell_type": "code",
   "execution_count": 294,
   "metadata": {
    "ExecuteTime": {
     "end_time": "2019-08-05T19:19:03.763187Z",
     "start_time": "2019-08-05T19:19:03.717670Z"
    }
   },
   "outputs": [
    {
     "data": {
      "text/plain": [
       "4"
      ]
     },
     "execution_count": 294,
     "metadata": {},
     "output_type": "execute_result"
    },
    {
     "data": {
      "text/plain": [
       "['RPS4X', 'SUMO2', 'EIF2S3', 'NDUFA4']"
      ]
     },
     "execution_count": 294,
     "metadata": {},
     "output_type": "execute_result"
    },
    {
     "data": {
      "text/plain": [
       "21"
      ]
     },
     "execution_count": 294,
     "metadata": {},
     "output_type": "execute_result"
    },
    {
     "data": {
      "text/plain": [
       "['FTL', 'RPS4X', 'SUMO2', 'RPL36AL', 'EIF2S3']"
      ]
     },
     "execution_count": 294,
     "metadata": {},
     "output_type": "execute_result"
    },
    {
     "data": {
      "text/plain": [
       "452"
      ]
     },
     "execution_count": 294,
     "metadata": {},
     "output_type": "execute_result"
    },
    {
     "data": {
      "text/plain": [
       "['FTL', 'TUBA1A', 'SLC25A5', 'RPS21', 'RPS4X']"
      ]
     },
     "execution_count": 294,
     "metadata": {},
     "output_type": "execute_result"
    }
   ],
   "source": [
    "len([x for x in congyi_top50_genes if x in neville_top50_genes])\n",
    "a = [x for x in congyi_top50_genes if x in neville_top50_genes]\n",
    "a\n",
    "\n",
    "len([x for x in congyi_top100_genes if x in neville_top100_genes])\n",
    "b=[x for x in congyi_top100_genes if x in neville_top100_genes]\n",
    "b[0:5]\n",
    "len([x for x in congyi_top1000_genes if x in neville_top1000_genes])\n",
    "c=[x for x in congyi_top1000_genes if x in neville_top1000_genes]\n",
    "c[0:5]"
   ]
  },
  {
   "cell_type": "code",
   "execution_count": 295,
   "metadata": {
    "ExecuteTime": {
     "end_time": "2019-08-05T19:19:06.112529Z",
     "start_time": "2019-08-05T19:19:06.104098Z"
    }
   },
   "outputs": [
    {
     "data": {
      "text/plain": [
       "[]"
      ]
     },
     "execution_count": 295,
     "metadata": {},
     "output_type": "execute_result"
    },
    {
     "data": {
      "text/plain": [
       "[]"
      ]
     },
     "execution_count": 295,
     "metadata": {},
     "output_type": "execute_result"
    },
    {
     "data": {
      "text/plain": [
       "[]"
      ]
     },
     "execution_count": 295,
     "metadata": {},
     "output_type": "execute_result"
    }
   ],
   "source": [
    "#a\n",
    "[x for x in a if x in MT_genes]\n",
    "#b\n",
    "[x for x in b if x in MT_genes]\n",
    "#c\n",
    "[x for x in c if x in MT_genes]"
   ]
  },
  {
   "cell_type": "code",
   "execution_count": 296,
   "metadata": {
    "ExecuteTime": {
     "end_time": "2019-08-05T19:19:07.217647Z",
     "start_time": "2019-08-05T19:19:07.206895Z"
    }
   },
   "outputs": [
    {
     "data": {
      "text/plain": [
       "[]"
      ]
     },
     "execution_count": 296,
     "metadata": {},
     "output_type": "execute_result"
    },
    {
     "data": {
      "text/plain": [
       "[]"
      ]
     },
     "execution_count": 296,
     "metadata": {},
     "output_type": "execute_result"
    }
   ],
   "source": [
    "[x for x in df1.x if x in MT_genes]\n",
    "[x for x in df2.x if x in MT_genes]"
   ]
  },
  {
   "cell_type": "code",
   "execution_count": 297,
   "metadata": {
    "ExecuteTime": {
     "end_time": "2019-08-05T19:19:08.250617Z",
     "start_time": "2019-08-05T19:19:08.240344Z"
    }
   },
   "outputs": [
    {
     "data": {
      "text/html": [
       "<div>\n",
       "<style scoped>\n",
       "    .dataframe tbody tr th:only-of-type {\n",
       "        vertical-align: middle;\n",
       "    }\n",
       "\n",
       "    .dataframe tbody tr th {\n",
       "        vertical-align: top;\n",
       "    }\n",
       "\n",
       "    .dataframe thead th {\n",
       "        text-align: right;\n",
       "    }\n",
       "</style>\n",
       "<table border=\"1\" class=\"dataframe\">\n",
       "  <thead>\n",
       "    <tr style=\"text-align: right;\">\n",
       "      <th></th>\n",
       "      <th>x</th>\n",
       "      <th>y</th>\n",
       "      <th>group</th>\n",
       "      <th>y_norm</th>\n",
       "      <th>rrank</th>\n",
       "    </tr>\n",
       "  </thead>\n",
       "  <tbody>\n",
       "  </tbody>\n",
       "</table>\n",
       "</div>"
      ],
      "text/plain": [
       "Empty DataFrame\n",
       "Columns: [x, y, group, y_norm, rrank]\n",
       "Index: []"
      ]
     },
     "execution_count": 297,
     "metadata": {},
     "output_type": "execute_result"
    }
   ],
   "source": [
    "df2[df2.x.str.contains('MT-')]"
   ]
  },
  {
   "cell_type": "code",
   "execution_count": 321,
   "metadata": {
    "ExecuteTime": {
     "end_time": "2019-08-05T20:24:16.876547Z",
     "start_time": "2019-08-05T20:24:16.858354Z"
    }
   },
   "outputs": [
    {
     "data": {
      "text/html": [
       "<div>\n",
       "<style scoped>\n",
       "    .dataframe tbody tr th:only-of-type {\n",
       "        vertical-align: middle;\n",
       "    }\n",
       "\n",
       "    .dataframe tbody tr th {\n",
       "        vertical-align: top;\n",
       "    }\n",
       "\n",
       "    .dataframe thead th {\n",
       "        text-align: right;\n",
       "    }\n",
       "</style>\n",
       "<table border=\"1\" class=\"dataframe\">\n",
       "  <thead>\n",
       "    <tr style=\"text-align: right;\">\n",
       "      <th></th>\n",
       "      <th>x</th>\n",
       "      <th>y</th>\n",
       "      <th>group</th>\n",
       "      <th>y_norm</th>\n",
       "      <th>rrank</th>\n",
       "    </tr>\n",
       "  </thead>\n",
       "  <tbody>\n",
       "    <tr>\n",
       "      <th>11140</th>\n",
       "      <td>A1BG</td>\n",
       "      <td>4.480680</td>\n",
       "      <td>Neville ES</td>\n",
       "      <td>0.574862</td>\n",
       "      <td>3120.0</td>\n",
       "    </tr>\n",
       "    <tr>\n",
       "      <th>3849</th>\n",
       "      <td>AARS</td>\n",
       "      <td>8.604559</td>\n",
       "      <td>Neville ES</td>\n",
       "      <td>1.103947</td>\n",
       "      <td>1489.0</td>\n",
       "    </tr>\n",
       "    <tr>\n",
       "      <th>3537</th>\n",
       "      <td>AARS2</td>\n",
       "      <td>8.781500</td>\n",
       "      <td>Neville ES</td>\n",
       "      <td>1.126648</td>\n",
       "      <td>1395.0</td>\n",
       "    </tr>\n",
       "    <tr>\n",
       "      <th>16742</th>\n",
       "      <td>AARSD1</td>\n",
       "      <td>0.979578</td>\n",
       "      <td>Neville ES</td>\n",
       "      <td>0.125678</td>\n",
       "      <td>3592.0</td>\n",
       "    </tr>\n",
       "    <tr>\n",
       "      <th>298</th>\n",
       "      <td>AASS</td>\n",
       "      <td>12.346631</td>\n",
       "      <td>Neville ES</td>\n",
       "      <td>1.584047</td>\n",
       "      <td>150.0</td>\n",
       "    </tr>\n",
       "  </tbody>\n",
       "</table>\n",
       "</div>"
      ],
      "text/plain": [
       "            x          y       group    y_norm   rrank\n",
       "11140    A1BG   4.480680  Neville ES  0.574862  3120.0\n",
       "3849     AARS   8.604559  Neville ES  1.103947  1489.0\n",
       "3537    AARS2   8.781500  Neville ES  1.126648  1395.0\n",
       "16742  AARSD1   0.979578  Neville ES  0.125678  3592.0\n",
       "298      AASS  12.346631  Neville ES  1.584047   150.0"
      ]
     },
     "execution_count": 321,
     "metadata": {},
     "output_type": "execute_result"
    },
    {
     "data": {
      "text/html": [
       "<div>\n",
       "<style scoped>\n",
       "    .dataframe tbody tr th:only-of-type {\n",
       "        vertical-align: middle;\n",
       "    }\n",
       "\n",
       "    .dataframe tbody tr th {\n",
       "        vertical-align: top;\n",
       "    }\n",
       "\n",
       "    .dataframe thead th {\n",
       "        text-align: right;\n",
       "    }\n",
       "</style>\n",
       "<table border=\"1\" class=\"dataframe\">\n",
       "  <thead>\n",
       "    <tr style=\"text-align: right;\">\n",
       "      <th></th>\n",
       "      <th>x</th>\n",
       "      <th>y</th>\n",
       "      <th>group</th>\n",
       "      <th>y_norm</th>\n",
       "      <th>rrank</th>\n",
       "    </tr>\n",
       "  </thead>\n",
       "  <tbody>\n",
       "    <tr>\n",
       "      <th>2476</th>\n",
       "      <td>A1BG</td>\n",
       "      <td>1</td>\n",
       "      <td>Congyi ES</td>\n",
       "      <td>0.293414</td>\n",
       "      <td>3680.0</td>\n",
       "    </tr>\n",
       "    <tr>\n",
       "      <th>119</th>\n",
       "      <td>AARS</td>\n",
       "      <td>16</td>\n",
       "      <td>Congyi ES</td>\n",
       "      <td>4.694626</td>\n",
       "      <td>104.0</td>\n",
       "    </tr>\n",
       "    <tr>\n",
       "      <th>4088</th>\n",
       "      <td>AARS2</td>\n",
       "      <td>1</td>\n",
       "      <td>Congyi ES</td>\n",
       "      <td>0.293414</td>\n",
       "      <td>3680.0</td>\n",
       "    </tr>\n",
       "    <tr>\n",
       "      <th>2612</th>\n",
       "      <td>AARSD1</td>\n",
       "      <td>1</td>\n",
       "      <td>Congyi ES</td>\n",
       "      <td>0.293414</td>\n",
       "      <td>3680.0</td>\n",
       "    </tr>\n",
       "    <tr>\n",
       "      <th>182</th>\n",
       "      <td>AASS</td>\n",
       "      <td>12</td>\n",
       "      <td>Congyi ES</td>\n",
       "      <td>3.520970</td>\n",
       "      <td>169.0</td>\n",
       "    </tr>\n",
       "  </tbody>\n",
       "</table>\n",
       "</div>"
      ],
      "text/plain": [
       "           x   y      group    y_norm   rrank\n",
       "2476    A1BG   1  Congyi ES  0.293414  3680.0\n",
       "119     AARS  16  Congyi ES  4.694626   104.0\n",
       "4088   AARS2   1  Congyi ES  0.293414  3680.0\n",
       "2612  AARSD1   1  Congyi ES  0.293414  3680.0\n",
       "182     AASS  12  Congyi ES  3.520970   169.0"
      ]
     },
     "execution_count": 321,
     "metadata": {},
     "output_type": "execute_result"
    }
   ],
   "source": [
    "df1.head()\n",
    "df2.head()"
   ]
  },
  {
   "cell_type": "code",
   "execution_count": 322,
   "metadata": {
    "ExecuteTime": {
     "end_time": "2019-08-05T20:24:18.592760Z",
     "start_time": "2019-08-05T20:24:18.574108Z"
    }
   },
   "outputs": [
    {
     "data": {
      "text/plain": [
       "(100, 5)"
      ]
     },
     "execution_count": 322,
     "metadata": {},
     "output_type": "execute_result"
    },
    {
     "data": {
      "text/html": [
       "<div>\n",
       "<style scoped>\n",
       "    .dataframe tbody tr th:only-of-type {\n",
       "        vertical-align: middle;\n",
       "    }\n",
       "\n",
       "    .dataframe tbody tr th {\n",
       "        vertical-align: top;\n",
       "    }\n",
       "\n",
       "    .dataframe thead th {\n",
       "        text-align: right;\n",
       "    }\n",
       "</style>\n",
       "<table border=\"1\" class=\"dataframe\">\n",
       "  <thead>\n",
       "    <tr style=\"text-align: right;\">\n",
       "      <th></th>\n",
       "      <th>x</th>\n",
       "      <th>y</th>\n",
       "      <th>group</th>\n",
       "      <th>y_norm</th>\n",
       "      <th>rrank</th>\n",
       "    </tr>\n",
       "  </thead>\n",
       "  <tbody>\n",
       "    <tr>\n",
       "      <th>41</th>\n",
       "      <td>ACTB</td>\n",
       "      <td>14.723481</td>\n",
       "      <td>Neville ES</td>\n",
       "      <td>1.888992</td>\n",
       "      <td>22.0</td>\n",
       "    </tr>\n",
       "    <tr>\n",
       "      <th>24</th>\n",
       "      <td>CALM2</td>\n",
       "      <td>15.181237</td>\n",
       "      <td>Neville ES</td>\n",
       "      <td>1.947721</td>\n",
       "      <td>9.0</td>\n",
       "    </tr>\n",
       "    <tr>\n",
       "      <th>65</th>\n",
       "      <td>CKS2</td>\n",
       "      <td>14.264337</td>\n",
       "      <td>Neville ES</td>\n",
       "      <td>1.830085</td>\n",
       "      <td>38.0</td>\n",
       "    </tr>\n",
       "    <tr>\n",
       "      <th>64</th>\n",
       "      <td>CYCS</td>\n",
       "      <td>14.282746</td>\n",
       "      <td>Neville ES</td>\n",
       "      <td>1.832447</td>\n",
       "      <td>37.0</td>\n",
       "    </tr>\n",
       "    <tr>\n",
       "      <th>36</th>\n",
       "      <td>EIF2S3</td>\n",
       "      <td>14.845350</td>\n",
       "      <td>Neville ES</td>\n",
       "      <td>1.904628</td>\n",
       "      <td>19.0</td>\n",
       "    </tr>\n",
       "  </tbody>\n",
       "</table>\n",
       "</div>"
      ],
      "text/plain": [
       "         x          y       group    y_norm  rrank\n",
       "41    ACTB  14.723481  Neville ES  1.888992   22.0\n",
       "24   CALM2  15.181237  Neville ES  1.947721    9.0\n",
       "65    CKS2  14.264337  Neville ES  1.830085   38.0\n",
       "64    CYCS  14.282746  Neville ES  1.832447   37.0\n",
       "36  EIF2S3  14.845350  Neville ES  1.904628   19.0"
      ]
     },
     "execution_count": 322,
     "metadata": {},
     "output_type": "execute_result"
    }
   ],
   "source": [
    "plot2_top50_df = pd.concat([df1[df1.x.isin(neville_top50_genes)], df2[df2.x.isin(neville_top50_genes)]])\n",
    "plot2_top50_df.shape\n",
    "plot2_top50_df.head()"
   ]
  },
  {
   "cell_type": "code",
   "execution_count": 320,
   "metadata": {
    "ExecuteTime": {
     "end_time": "2019-08-05T20:24:13.729245Z",
     "start_time": "2019-08-05T20:24:13.703429Z"
    }
   },
   "outputs": [
    {
     "data": {
      "text/html": [
       "<div>\n",
       "<style scoped>\n",
       "    .dataframe tbody tr th:only-of-type {\n",
       "        vertical-align: middle;\n",
       "    }\n",
       "\n",
       "    .dataframe tbody tr th {\n",
       "        vertical-align: top;\n",
       "    }\n",
       "\n",
       "    .dataframe thead th {\n",
       "        text-align: right;\n",
       "    }\n",
       "</style>\n",
       "<table border=\"1\" class=\"dataframe\">\n",
       "  <thead>\n",
       "    <tr style=\"text-align: right;\">\n",
       "      <th></th>\n",
       "      <th>x</th>\n",
       "      <th>y</th>\n",
       "      <th>group</th>\n",
       "      <th>y_norm</th>\n",
       "      <th>rrank</th>\n",
       "    </tr>\n",
       "  </thead>\n",
       "  <tbody>\n",
       "    <tr>\n",
       "      <th>36</th>\n",
       "      <td>EIF2S3</td>\n",
       "      <td>14.845350</td>\n",
       "      <td>Neville ES</td>\n",
       "      <td>1.904628</td>\n",
       "      <td>19.0</td>\n",
       "    </tr>\n",
       "    <tr>\n",
       "      <th>39</th>\n",
       "      <td>NDUFA4</td>\n",
       "      <td>14.738945</td>\n",
       "      <td>Neville ES</td>\n",
       "      <td>1.890976</td>\n",
       "      <td>21.0</td>\n",
       "    </tr>\n",
       "    <tr>\n",
       "      <th>21</th>\n",
       "      <td>RPS4X</td>\n",
       "      <td>15.239412</td>\n",
       "      <td>Neville ES</td>\n",
       "      <td>1.955185</td>\n",
       "      <td>7.0</td>\n",
       "    </tr>\n",
       "    <tr>\n",
       "      <th>67</th>\n",
       "      <td>SUMO2</td>\n",
       "      <td>14.199945</td>\n",
       "      <td>Neville ES</td>\n",
       "      <td>1.821824</td>\n",
       "      <td>39.0</td>\n",
       "    </tr>\n",
       "  </tbody>\n",
       "</table>\n",
       "</div>"
      ],
      "text/plain": [
       "         x          y       group    y_norm  rrank\n",
       "36  EIF2S3  14.845350  Neville ES  1.904628   19.0\n",
       "39  NDUFA4  14.738945  Neville ES  1.890976   21.0\n",
       "21   RPS4X  15.239412  Neville ES  1.955185    7.0\n",
       "67   SUMO2  14.199945  Neville ES  1.821824   39.0"
      ]
     },
     "execution_count": 320,
     "metadata": {},
     "output_type": "execute_result"
    },
    {
     "data": {
      "text/html": [
       "<div>\n",
       "<style scoped>\n",
       "    .dataframe tbody tr th:only-of-type {\n",
       "        vertical-align: middle;\n",
       "    }\n",
       "\n",
       "    .dataframe tbody tr th {\n",
       "        vertical-align: top;\n",
       "    }\n",
       "\n",
       "    .dataframe thead th {\n",
       "        text-align: right;\n",
       "    }\n",
       "</style>\n",
       "<table border=\"1\" class=\"dataframe\">\n",
       "  <thead>\n",
       "    <tr style=\"text-align: right;\">\n",
       "      <th></th>\n",
       "      <th>x</th>\n",
       "      <th>y</th>\n",
       "      <th>group</th>\n",
       "      <th>y_norm</th>\n",
       "      <th>rrank</th>\n",
       "    </tr>\n",
       "  </thead>\n",
       "  <tbody>\n",
       "    <tr>\n",
       "      <th>16</th>\n",
       "      <td>EIF2S3</td>\n",
       "      <td>53</td>\n",
       "      <td>Congyi ES</td>\n",
       "      <td>15.550949</td>\n",
       "      <td>10.0</td>\n",
       "    </tr>\n",
       "    <tr>\n",
       "      <th>24</th>\n",
       "      <td>NDUFA4</td>\n",
       "      <td>37</td>\n",
       "      <td>Congyi ES</td>\n",
       "      <td>10.856323</td>\n",
       "      <td>16.0</td>\n",
       "    </tr>\n",
       "    <tr>\n",
       "      <th>12</th>\n",
       "      <td>RPS4X</td>\n",
       "      <td>63</td>\n",
       "      <td>Congyi ES</td>\n",
       "      <td>18.485090</td>\n",
       "      <td>5.0</td>\n",
       "    </tr>\n",
       "    <tr>\n",
       "      <th>13</th>\n",
       "      <td>SUMO2</td>\n",
       "      <td>61</td>\n",
       "      <td>Congyi ES</td>\n",
       "      <td>17.898262</td>\n",
       "      <td>6.0</td>\n",
       "    </tr>\n",
       "  </tbody>\n",
       "</table>\n",
       "</div>"
      ],
      "text/plain": [
       "         x   y      group     y_norm  rrank\n",
       "16  EIF2S3  53  Congyi ES  15.550949   10.0\n",
       "24  NDUFA4  37  Congyi ES  10.856323   16.0\n",
       "12   RPS4X  63  Congyi ES  18.485090    5.0\n",
       "13   SUMO2  61  Congyi ES  17.898262    6.0"
      ]
     },
     "execution_count": 320,
     "metadata": {},
     "output_type": "execute_result"
    }
   ],
   "source": [
    "df1[(df1.x.isin(neville_top50_genes) & (df1.x.isin(congyi_top50_genes)))]\n",
    "df2[(df2.x.isin(neville_top50_genes) & (df2.x.isin(congyi_top50_genes)))]"
   ]
  },
  {
   "cell_type": "code",
   "execution_count": 301,
   "metadata": {
    "ExecuteTime": {
     "end_time": "2019-08-05T19:19:30.391612Z",
     "start_time": "2019-08-05T19:19:30.358882Z"
    }
   },
   "outputs": [],
   "source": [
    "plot3_scatter_top50 = pd.merge(df1[(df1.x.isin(neville_top50_genes) & (df1.x.isin(congyi_top50_genes)))][['x','y','y_norm','rrank']], \\\n",
    "                              df2[(df2.x.isin(neville_top50_genes) & (df2.x.isin(congyi_top50_genes)))][['x','y','y_norm','rrank']],\\\n",
    "                              how='inner', on='x', suffixes=('_neville_top50', '_congyi_top50'))\n",
    "plot3_scatter_top100 = pd.merge(df1[(df1.x.isin(neville_top100_genes) & (df1.x.isin(congyi_top100_genes)))][['x','y','y_norm','rrank']], \\\n",
    "                              df2[(df2.x.isin(neville_top100_genes) & (df2.x.isin(congyi_top100_genes)))][['x','y','y_norm','rrank']],\\\n",
    "                              how='inner', on='x', suffixes=('_neville_top100', '_congyi_top100'))\n",
    "plot3_scatter_top1000 = pd.merge(df1[(df1.x.isin(neville_top1000_genes) & (df1.x.isin(congyi_top1000_genes)))][['x','y','y_norm','rrank']], \\\n",
    "                              df2[(df2.x.isin(neville_top1000_genes) & (df2.x.isin(congyi_top1000_genes)))][['x','y','y_norm','rrank']],\\\n",
    "                              how='inner', on='x', suffixes=('_neville_top1000', '_congyi_top1000'))"
   ]
  },
  {
   "cell_type": "code",
   "execution_count": 302,
   "metadata": {
    "ExecuteTime": {
     "end_time": "2019-08-05T19:19:30.929732Z",
     "start_time": "2019-08-05T19:19:30.902533Z"
    }
   },
   "outputs": [],
   "source": [
    "plot2_scatter_top50 = pd.merge(df1[df1.x.isin(neville_top50_genes)][['x', 'y','y_norm','rrank']], df2[df2.x.isin(neville_top50_genes)][['x','y','y_norm','rrank']], \\\n",
    "                               how='inner', on='x', suffixes=('_neville_top50', '_congyi_top50') )\n",
    "plot2_scatter_top100 = pd.merge(df1[df1.x.isin(neville_top100_genes)][['x','y', 'y_norm', 'rrank']], df2[df2.x.isin(neville_top100_genes)][['x','y','y_norm','rrank']], \\\n",
    "                               how='inner', on='x', suffixes=('_neville_top100', '_congyi_top100') )\n",
    "plot2_scatter_top1000 = pd.merge(df1[df1.x.isin(neville_top1000_genes)][['x','y', 'y_norm', 'rrank']], df2[df2.x.isin(neville_top1000_genes)][['x','y','y_norm','rrank']], \\\n",
    "                               how='inner', on='x', suffixes=('_neville_top1000', '_congyi_top1000') )"
   ]
  },
  {
   "cell_type": "code",
   "execution_count": 319,
   "metadata": {
    "ExecuteTime": {
     "end_time": "2019-08-05T20:24:04.045002Z",
     "start_time": "2019-08-05T20:24:04.021914Z"
    }
   },
   "outputs": [
    {
     "data": {
      "text/html": [
       "<div>\n",
       "<style scoped>\n",
       "    .dataframe tbody tr th:only-of-type {\n",
       "        vertical-align: middle;\n",
       "    }\n",
       "\n",
       "    .dataframe tbody tr th {\n",
       "        vertical-align: top;\n",
       "    }\n",
       "\n",
       "    .dataframe thead th {\n",
       "        text-align: right;\n",
       "    }\n",
       "</style>\n",
       "<table border=\"1\" class=\"dataframe\">\n",
       "  <thead>\n",
       "    <tr style=\"text-align: right;\">\n",
       "      <th></th>\n",
       "      <th>x</th>\n",
       "      <th>y_neville_top100</th>\n",
       "      <th>y_norm_neville_top100</th>\n",
       "      <th>rrank_neville_top100</th>\n",
       "      <th>y_congyi_top100</th>\n",
       "      <th>y_norm_congyi_top100</th>\n",
       "      <th>rrank_congyi_top100</th>\n",
       "    </tr>\n",
       "  </thead>\n",
       "  <tbody>\n",
       "    <tr>\n",
       "      <th>95</th>\n",
       "      <td>UBA52</td>\n",
       "      <td>13.724566</td>\n",
       "      <td>1.760834</td>\n",
       "      <td>67.0</td>\n",
       "      <td>4</td>\n",
       "      <td>1.173657</td>\n",
       "      <td>873.0</td>\n",
       "    </tr>\n",
       "    <tr>\n",
       "      <th>96</th>\n",
       "      <td>UBE2V2</td>\n",
       "      <td>12.936477</td>\n",
       "      <td>1.659723</td>\n",
       "      <td>95.0</td>\n",
       "      <td>5</td>\n",
       "      <td>1.467071</td>\n",
       "      <td>623.0</td>\n",
       "    </tr>\n",
       "    <tr>\n",
       "      <th>97</th>\n",
       "      <td>UGP2</td>\n",
       "      <td>13.420849</td>\n",
       "      <td>1.721867</td>\n",
       "      <td>79.0</td>\n",
       "      <td>1</td>\n",
       "      <td>0.293414</td>\n",
       "      <td>3680.0</td>\n",
       "    </tr>\n",
       "    <tr>\n",
       "      <th>98</th>\n",
       "      <td>UQCR10</td>\n",
       "      <td>13.504620</td>\n",
       "      <td>1.732615</td>\n",
       "      <td>77.0</td>\n",
       "      <td>6</td>\n",
       "      <td>1.760485</td>\n",
       "      <td>499.0</td>\n",
       "    </tr>\n",
       "    <tr>\n",
       "      <th>99</th>\n",
       "      <td>UQCRH</td>\n",
       "      <td>12.884412</td>\n",
       "      <td>1.653043</td>\n",
       "      <td>98.0</td>\n",
       "      <td>1</td>\n",
       "      <td>0.293414</td>\n",
       "      <td>3680.0</td>\n",
       "    </tr>\n",
       "  </tbody>\n",
       "</table>\n",
       "</div>"
      ],
      "text/plain": [
       "         x  y_neville_top100  y_norm_neville_top100  rrank_neville_top100  y_congyi_top100  y_norm_congyi_top100  rrank_congyi_top100\n",
       "95   UBA52         13.724566               1.760834                  67.0                4              1.173657                873.0\n",
       "96  UBE2V2         12.936477               1.659723                  95.0                5              1.467071                623.0\n",
       "97    UGP2         13.420849               1.721867                  79.0                1              0.293414               3680.0\n",
       "98  UQCR10         13.504620               1.732615                  77.0                6              1.760485                499.0\n",
       "99   UQCRH         12.884412               1.653043                  98.0                1              0.293414               3680.0"
      ]
     },
     "execution_count": 319,
     "metadata": {},
     "output_type": "execute_result"
    },
    {
     "data": {
      "text/html": [
       "<div>\n",
       "<style scoped>\n",
       "    .dataframe tbody tr th:only-of-type {\n",
       "        vertical-align: middle;\n",
       "    }\n",
       "\n",
       "    .dataframe tbody tr th {\n",
       "        vertical-align: top;\n",
       "    }\n",
       "\n",
       "    .dataframe thead th {\n",
       "        text-align: right;\n",
       "    }\n",
       "</style>\n",
       "<table border=\"1\" class=\"dataframe\">\n",
       "  <thead>\n",
       "    <tr style=\"text-align: right;\">\n",
       "      <th></th>\n",
       "      <th>x</th>\n",
       "      <th>y_neville_top100</th>\n",
       "      <th>y_norm_neville_top100</th>\n",
       "      <th>rrank_neville_top100</th>\n",
       "      <th>y_congyi_top100</th>\n",
       "      <th>y_norm_congyi_top100</th>\n",
       "      <th>rrank_congyi_top100</th>\n",
       "    </tr>\n",
       "  </thead>\n",
       "  <tbody>\n",
       "    <tr>\n",
       "      <th>16</th>\n",
       "      <td>RPS4X</td>\n",
       "      <td>15.239412</td>\n",
       "      <td>1.955185</td>\n",
       "      <td>7.0</td>\n",
       "      <td>63</td>\n",
       "      <td>18.485090</td>\n",
       "      <td>5.0</td>\n",
       "    </tr>\n",
       "    <tr>\n",
       "      <th>17</th>\n",
       "      <td>RSL24D1</td>\n",
       "      <td>13.137162</td>\n",
       "      <td>1.685471</td>\n",
       "      <td>88.0</td>\n",
       "      <td>17</td>\n",
       "      <td>4.988040</td>\n",
       "      <td>90.0</td>\n",
       "    </tr>\n",
       "    <tr>\n",
       "      <th>18</th>\n",
       "      <td>SOX4</td>\n",
       "      <td>13.144060</td>\n",
       "      <td>1.686356</td>\n",
       "      <td>86.0</td>\n",
       "      <td>29</td>\n",
       "      <td>8.509010</td>\n",
       "      <td>27.0</td>\n",
       "    </tr>\n",
       "    <tr>\n",
       "      <th>19</th>\n",
       "      <td>SUMO2</td>\n",
       "      <td>14.199945</td>\n",
       "      <td>1.821824</td>\n",
       "      <td>39.0</td>\n",
       "      <td>61</td>\n",
       "      <td>17.898262</td>\n",
       "      <td>6.0</td>\n",
       "    </tr>\n",
       "    <tr>\n",
       "      <th>20</th>\n",
       "      <td>TXN</td>\n",
       "      <td>13.692401</td>\n",
       "      <td>1.756707</td>\n",
       "      <td>70.0</td>\n",
       "      <td>23</td>\n",
       "      <td>6.748525</td>\n",
       "      <td>45.0</td>\n",
       "    </tr>\n",
       "  </tbody>\n",
       "</table>\n",
       "</div>"
      ],
      "text/plain": [
       "          x  y_neville_top100  y_norm_neville_top100  rrank_neville_top100  y_congyi_top100  y_norm_congyi_top100  rrank_congyi_top100\n",
       "16    RPS4X         15.239412               1.955185                   7.0               63             18.485090                  5.0\n",
       "17  RSL24D1         13.137162               1.685471                  88.0               17              4.988040                 90.0\n",
       "18     SOX4         13.144060               1.686356                  86.0               29              8.509010                 27.0\n",
       "19    SUMO2         14.199945               1.821824                  39.0               61             17.898262                  6.0\n",
       "20      TXN         13.692401               1.756707                  70.0               23              6.748525                 45.0"
      ]
     },
     "execution_count": 319,
     "metadata": {},
     "output_type": "execute_result"
    }
   ],
   "source": [
    "plot2_scatter_top100.tail()\n",
    "plot3_scatter_top100.tail()"
   ]
  },
  {
   "cell_type": "raw",
   "metadata": {
    "ExecuteTime": {
     "end_time": "2019-08-05T18:12:48.946751Z",
     "start_time": "2019-08-05T18:12:47.764876Z"
    }
   },
   "source": [
    "fig, ax = plt.subplots(ncols=1, nrows=1, figsize=(25,6))\n",
    "sns.barplot(x='x', y='y_norm', data=plot2_df, hue='group', palette=flatui)\n",
    "plt.xticks(rotation=75);"
   ]
  },
  {
   "cell_type": "markdown",
   "metadata": {},
   "source": [
    "### For genes that are part of Neville's top 50/100/1000, what are their counts in Congyi's data set?"
   ]
  },
  {
   "cell_type": "markdown",
   "metadata": {
    "ExecuteTime": {
     "end_time": "2019-08-05T18:46:55.590070Z",
     "start_time": "2019-08-05T18:46:55.585895Z"
    }
   },
   "source": [
    "**Plot2 on normalized read counts**"
   ]
  },
  {
   "cell_type": "code",
   "execution_count": 308,
   "metadata": {
    "ExecuteTime": {
     "end_time": "2019-08-05T19:20:27.708053Z",
     "start_time": "2019-08-05T19:20:27.103991Z"
    },
    "hide_input": false
   },
   "outputs": [
    {
     "data": {
      "image/png": "[encoded data removed]",
      "text/plain": [
       "<Figure size 1728x432 with 3 Axes>"
      ]
     },
     "metadata": {
      "needs_background": "light"
     },
     "output_type": "display_data"
    }
   ],
   "source": [
    "fig, (ax1, ax2, ax3) = plt.subplots(ncols=3, nrows=1, figsize=(24,6))\n",
    "sns.scatterplot(x='y_neville_top50', y='y_congyi_top50', data=plot2_scatter_top50, ax=ax1, alpha=0.5, color=flatui[0])\n",
    "sns.scatterplot(x='y_neville_top100', y='y_congyi_top100', data=plot2_scatter_top100, ax=ax2, alpha=0.5, color=flatui[2])\n",
    "sns.scatterplot(x='y_neville_top1000', y='y_congyi_top1000', data=plot2_scatter_top1000, ax=ax3, alpha=0.5, color=flatui[5]);"
   ]
  },
  {
   "cell_type": "markdown",
   "metadata": {},
   "source": [
    "**Plot2 on ranks**"
   ]
  },
  {
   "cell_type": "code",
   "execution_count": 305,
   "metadata": {
    "ExecuteTime": {
     "end_time": "2019-08-05T19:20:05.859738Z",
     "start_time": "2019-08-05T19:20:05.374540Z"
    },
    "hide_input": false
   },
   "outputs": [
    {
     "data": {
      "image/png": "[encoded data removed]",
      "text/plain": [
       "<Figure size 1728x432 with 3 Axes>"
      ]
     },
     "metadata": {
      "needs_background": "light"
     },
     "output_type": "display_data"
    }
   ],
   "source": [
    "fig, (ax1, ax2, ax3) = plt.subplots(ncols=3, nrows=1, figsize=(24,6))\n",
    "sns.scatterplot(x='rrank_neville_top50', y='rrank_congyi_top50', data=plot2_scatter_top50, ax=ax1, alpha=0.7, color=flatui[0])\n",
    "sns.scatterplot(x='rrank_neville_top100', y='rrank_congyi_top100', data=plot2_scatter_top100, ax=ax2, alpha=0.5, color=flatui[2])\n",
    "sns.scatterplot(x='rrank_neville_top1000', y='rrank_congyi_top1000', data=plot2_scatter_top1000, ax=ax3, alpha=0.5, color=flatui[5]);"
   ]
  },
  {
   "cell_type": "markdown",
   "metadata": {},
   "source": [
    "## Shared genes in both dataset (top 50/100/1000)"
   ]
  },
  {
   "cell_type": "markdown",
   "metadata": {},
   "source": [
    "**Plot3 on normalized counts**"
   ]
  },
  {
   "cell_type": "code",
   "execution_count": 306,
   "metadata": {
    "ExecuteTime": {
     "end_time": "2019-08-05T19:20:08.674122Z",
     "start_time": "2019-08-05T19:20:08.222527Z"
    },
    "hide_input": false
   },
   "outputs": [
    {
     "data": {
      "image/png": "[encoded data removed]",
      "text/plain": [
       "<Figure size 1728x432 with 3 Axes>"
      ]
     },
     "metadata": {
      "needs_background": "light"
     },
     "output_type": "display_data"
    }
   ],
   "source": [
    "fig, (ax1, ax2, ax3) = plt.subplots(ncols=3, nrows=1, figsize=(24,6))\n",
    "sns.scatterplot(x='y_neville_top50', y='y_congyi_top50', data=plot3_scatter_top50, ax=ax1, alpha=0.5, color=flatui[0])\n",
    "sns.scatterplot(x='y_neville_top100', y='y_congyi_top100', data=plot3_scatter_top100, ax=ax2, alpha=0.5, color=flatui[2])\n",
    "sns.scatterplot(x='y_neville_top1000', y='y_congyi_top1000', data=plot3_scatter_top1000, ax=ax3, alpha=0.5, color=flatui[5]);"
   ]
  },
  {
   "cell_type": "code",
   "execution_count": 307,
   "metadata": {
    "ExecuteTime": {
     "end_time": "2019-08-05T19:20:10.076423Z",
     "start_time": "2019-08-05T19:20:09.573576Z"
    },
    "hide_input": false
   },
   "outputs": [
    {
     "data": {
      "image/png": "[encoded data removed]",
      "text/plain": [
       "<Figure size 1728x432 with 3 Axes>"
      ]
     },
     "metadata": {
      "needs_background": "light"
     },
     "output_type": "display_data"
    }
   ],
   "source": [
    "fig, (ax1, ax2, ax3) = plt.subplots(ncols=3, nrows=1, figsize=(24,6))\n",
    "sns.scatterplot(x='rrank_neville_top50', y='rrank_congyi_top50', data=plot3_scatter_top50, ax=ax1, alpha=0.7, color=flatui[0])\n",
    "sns.scatterplot(x='rrank_neville_top100', y='rrank_congyi_top100', data=plot3_scatter_top100, ax=ax2, alpha=0.5, color=flatui[2])\n",
    "sns.scatterplot(x='rrank_neville_top1000', y='rrank_congyi_top1000', data=plot3_scatter_top1000, ax=ax3, alpha=0.5, color=flatui[5]);"
   ]
  },
  {
   "cell_type": "markdown",
   "metadata": {},
   "source": [
    "Church's data set"
   ]
  },
  {
   "cell_type": "markdown",
   "metadata": {},
   "source": [
    "### multi-loci mapped reads"
   ]
  },
  {
   "cell_type": "code",
   "execution_count": 220,
   "metadata": {
    "ExecuteTime": {
     "end_time": "2019-08-05T05:48:18.924554Z",
     "start_time": "2019-08-05T05:48:18.901310Z"
    }
   },
   "outputs": [],
   "source": [
    "multi_mapped_reads = mapped_reads[~mapped_reads.XA.isna()]"
   ]
  },
  {
   "cell_type": "code",
   "execution_count": 323,
   "metadata": {
    "ExecuteTime": {
     "end_time": "2019-08-05T20:26:20.148633Z",
     "start_time": "2019-08-05T20:26:20.137508Z"
    }
   },
   "outputs": [
    {
     "ename": "NameError",
     "evalue": "name 'multi_mapped_reads' is not defined",
     "output_type": "error",
     "traceback": [
      "\u001b[0;31m---------------------------------------------------------------------------\u001b[0m",
      "\u001b[0;31mNameError\u001b[0m                                 Traceback (most recent call last)",
      "\u001b[0;32m<ipython-input-323-e7f4e127bf7e>\u001b[0m in \u001b[0;36m<module>\u001b[0;34m()\u001b[0m\n\u001b[0;32m----> 1\u001b[0;31m \u001b[0mmulti_mapped_reads\u001b[0m\u001b[0;34m.\u001b[0m\u001b[0mhead\u001b[0m\u001b[0;34m(\u001b[0m\u001b[0;36m2\u001b[0m\u001b[0;34m)\u001b[0m\u001b[0;34m\u001b[0m\u001b[0m\n\u001b[0m",
      "\u001b[0;31mNameError\u001b[0m: name 'multi_mapped_reads' is not defined"
     ]
    }
   ],
   "source": [
    "multi_mapped_reads.head(2)"
   ]
  },
  {
   "cell_type": "code",
   "execution_count": 222,
   "metadata": {
    "ExecuteTime": {
     "end_time": "2019-08-05T05:48:25.700193Z",
     "start_time": "2019-08-05T05:48:25.694495Z"
    }
   },
   "outputs": [
    {
     "data": {
      "text/plain": [
       "64774"
      ]
     },
     "execution_count": 222,
     "metadata": {},
     "output_type": "execute_result"
    },
    {
     "data": {
      "text/plain": [
       "0.4462832693725412"
      ]
     },
     "execution_count": 222,
     "metadata": {},
     "output_type": "execute_result"
    }
   ],
   "source": [
    "# multi loci mapped reads\n",
    "multi_mapped_reads.shape[0]\n",
    "# multi loci mapped reads / total mapped reads %\n",
    "multi_mapped_reads.shape[0] / mapped_reads.shape[0]"
   ]
  },
  {
   "cell_type": "code",
   "execution_count": 223,
   "metadata": {
    "ExecuteTime": {
     "end_time": "2019-08-05T05:48:27.401362Z",
     "start_time": "2019-08-05T05:48:27.123718Z"
    }
   },
   "outputs": [],
   "source": [
    "# categories of uniquely mapped reads\n",
    "multi_mapped_reads = pd.merge(multi_mapped_reads, transcripts[['transcript_id', 'seqname', 'gene_type', 'gene_name', 'gene_id']], \\\n",
    "         how='inner', on='transcript_id')"
   ]
  },
  {
   "cell_type": "code",
   "execution_count": 224,
   "metadata": {
    "ExecuteTime": {
     "end_time": "2019-08-05T05:48:30.262492Z",
     "start_time": "2019-08-05T05:48:30.243289Z"
    }
   },
   "outputs": [
    {
     "data": {
      "text/html": [
       "<div>\n",
       "<style scoped>\n",
       "    .dataframe tbody tr th:only-of-type {\n",
       "        vertical-align: middle;\n",
       "    }\n",
       "\n",
       "    .dataframe tbody tr th {\n",
       "        vertical-align: top;\n",
       "    }\n",
       "\n",
       "    .dataframe thead th {\n",
       "        text-align: right;\n",
       "    }\n",
       "</style>\n",
       "<table border=\"1\" class=\"dataframe\">\n",
       "  <thead>\n",
       "    <tr style=\"text-align: right;\">\n",
       "      <th></th>\n",
       "      <th>qname</th>\n",
       "      <th>flag</th>\n",
       "      <th>transcript_id</th>\n",
       "      <th>start</th>\n",
       "      <th>end</th>\n",
       "      <th>mapqs</th>\n",
       "      <th>cigars</th>\n",
       "      <th>XA</th>\n",
       "      <th>sample</th>\n",
       "      <th>seqname</th>\n",
       "      <th>gene_type</th>\n",
       "      <th>gene_name</th>\n",
       "      <th>gene_id</th>\n",
       "    </tr>\n",
       "  </thead>\n",
       "  <tbody>\n",
       "    <tr>\n",
       "      <th>0</th>\n",
       "      <td>M00911:259:000000000-G43JP:1:1102:19844:13568</td>\n",
       "      <td>0</td>\n",
       "      <td>ENST00000416931.1</td>\n",
       "      <td>217</td>\n",
       "      <td>364</td>\n",
       "      <td>0</td>\n",
       "      <td>147M</td>\n",
       "      <td>ENST00000361390.2</td>\n",
       "      <td>Congyi1.sorted.bam</td>\n",
       "      <td>chr1</td>\n",
       "      <td>unprocessed_pseudogene</td>\n",
       "      <td>MTND1P23</td>\n",
       "      <td>ENSG00000225972.1</td>\n",
       "    </tr>\n",
       "    <tr>\n",
       "      <th>1</th>\n",
       "      <td>M00911:259:000000000-G43JP:1:1104:21921:18019</td>\n",
       "      <td>0</td>\n",
       "      <td>ENST00000416931.1</td>\n",
       "      <td>217</td>\n",
       "      <td>368</td>\n",
       "      <td>0</td>\n",
       "      <td>151M</td>\n",
       "      <td>ENST00000361390.2</td>\n",
       "      <td>Congyi1.sorted.bam</td>\n",
       "      <td>chr1</td>\n",
       "      <td>unprocessed_pseudogene</td>\n",
       "      <td>MTND1P23</td>\n",
       "      <td>ENSG00000225972.1</td>\n",
       "    </tr>\n",
       "  </tbody>\n",
       "</table>\n",
       "</div>"
      ],
      "text/plain": [
       "                                           qname  flag      transcript_id  start  end  mapqs cigars                 XA              sample seqname               gene_type gene_name            gene_id\n",
       "0  M00911:259:000000000-G43JP:1:1102:19844:13568     0  ENST00000416931.1    217  364      0   147M  ENST00000361390.2  Congyi1.sorted.bam    chr1  unprocessed_pseudogene  MTND1P23  ENSG00000225972.1\n",
       "1  M00911:259:000000000-G43JP:1:1104:21921:18019     0  ENST00000416931.1    217  368      0   151M  ENST00000361390.2  Congyi1.sorted.bam    chr1  unprocessed_pseudogene  MTND1P23  ENSG00000225972.1"
      ]
     },
     "execution_count": 224,
     "metadata": {},
     "output_type": "execute_result"
    }
   ],
   "source": [
    "multi_mapped_reads.head(2)"
   ]
  },
  {
   "cell_type": "code",
   "execution_count": 225,
   "metadata": {
    "ExecuteTime": {
     "end_time": "2019-08-05T05:48:31.907247Z",
     "start_time": "2019-08-05T05:48:31.799987Z"
    }
   },
   "outputs": [
    {
     "data": {
      "text/plain": [
       "gene_type\n",
       "protein_coding                        62242\n",
       "lncRNA                                 1683\n",
       "unprocessed_pseudogene                  264\n",
       "transcribed_processed_pseudogene        162\n",
       "processed_pseudogene                    122\n",
       "transcribed_unprocessed_pseudogene      107\n",
       "TEC                                      65\n",
       "Mt_rRNA                                  48\n",
       "polymorphic_pseudogene                   24\n",
       "misc_RNA                                 23\n",
       "transcribed_unitary_pseudogene           18\n",
       "scRNA                                     8\n",
       "unitary_pseudogene                        3\n",
       "rRNA                                      2\n",
       "snoRNA                                    1\n",
       "TR_V_gene                                 1\n",
       "pseudogene                                1\n",
       "Name: qname, dtype: int64"
      ]
     },
     "execution_count": 225,
     "metadata": {},
     "output_type": "execute_result"
    },
    {
     "data": {
      "text/plain": [
       "seqname\n",
       "chr1     7331\n",
       "chr2     4745\n",
       "chr12    4651\n",
       "chr5     3568\n",
       "chr6     3548\n",
       "chr17    3374\n",
       "chr9     3280\n",
       "chr19    3276\n",
       "chr3     3238\n",
       "chr7     3078\n",
       "chrX     3073\n",
       "chr11    3015\n",
       "chr8     2546\n",
       "chr4     2169\n",
       "chr15    2106\n",
       "chr16    2054\n",
       "chr10    1940\n",
       "chr14    1913\n",
       "chr20    1540\n",
       "chr22    1157\n",
       "chr13     955\n",
       "chr18     892\n",
       "chrM      776\n",
       "chr21     494\n",
       "chrY       55\n",
       "Name: qname, dtype: int64"
      ]
     },
     "execution_count": 225,
     "metadata": {},
     "output_type": "execute_result"
    }
   ],
   "source": [
    "multi_mapped_reads.groupby('gene_type')['qname'].size().sort_values(ascending=False)\n",
    "multi_mapped_reads.groupby('seqname')['qname'].size().sort_values(ascending=False)"
   ]
  },
  {
   "cell_type": "markdown",
   "metadata": {},
   "source": [
    "**Total number of reads mapped to Mitochondria within mapped reads**"
   ]
  },
  {
   "cell_type": "code",
   "execution_count": 226,
   "metadata": {
    "ExecuteTime": {
     "end_time": "2019-08-05T05:48:34.030301Z",
     "start_time": "2019-08-05T05:48:34.014354Z"
    }
   },
   "outputs": [
    {
     "data": {
      "text/plain": [
       "5389"
      ]
     },
     "execution_count": 226,
     "metadata": {},
     "output_type": "execute_result"
    },
    {
     "data": {
      "text/plain": [
       "0.03712941208893421"
      ]
     },
     "execution_count": 226,
     "metadata": {},
     "output_type": "execute_result"
    }
   ],
   "source": [
    "# total reads mapped to chrM within mapped reads\n",
    "total_chrM_transcripts = unique_mapped_reads.groupby(by='seqname')['qname'].size()['chrM'] + multi_mapped_reads.groupby('seqname')['qname'].size()['chrM']\n",
    "total_chrM_transcripts\n",
    "total_chrM_transcripts / mapped_reads.shape[0]"
   ]
  },
  {
   "cell_type": "markdown",
   "metadata": {},
   "source": [
    "---"
   ]
  },
  {
   "cell_type": "markdown",
   "metadata": {},
   "source": [
    "## Unmapped reads (reads not mapped to transcriptome)"
   ]
  },
  {
   "cell_type": "code",
   "execution_count": 227,
   "metadata": {
    "ExecuteTime": {
     "end_time": "2019-08-05T05:48:42.775797Z",
     "start_time": "2019-08-05T05:48:42.768131Z"
    }
   },
   "outputs": [],
   "source": [
    "os.chdir('/gpfs/commons/groups/sanjana_lab/cdai/TFscreen/data/20190730_083004/Fastq/unmapped/')"
   ]
  },
  {
   "cell_type": "code",
   "execution_count": 228,
   "metadata": {
    "ExecuteTime": {
     "end_time": "2019-08-05T05:48:44.484776Z",
     "start_time": "2019-08-05T05:48:44.480972Z"
    }
   },
   "outputs": [
    {
     "data": {
      "text/plain": [
       "'/gpfs/commons/groups/sanjana_lab/cdai/TFscreen/data/20190730_083004/Fastq/unmapped'"
      ]
     },
     "execution_count": 228,
     "metadata": {},
     "output_type": "execute_result"
    }
   ],
   "source": [
    "pwd"
   ]
  },
  {
   "cell_type": "code",
   "execution_count": 229,
   "metadata": {
    "ExecuteTime": {
     "end_time": "2019-08-05T05:48:48.414303Z",
     "start_time": "2019-08-05T05:48:48.409383Z"
    }
   },
   "outputs": [
    {
     "data": {
      "text/plain": [
       "['All.unmap.sorted.bam']"
      ]
     },
     "execution_count": 229,
     "metadata": {},
     "output_type": "execute_result"
    }
   ],
   "source": [
    "bams2 = glob.glob('*.sorted.bam')\n",
    "bams2.sort()\n",
    "bams2"
   ]
  },
  {
   "cell_type": "code",
   "execution_count": 230,
   "metadata": {
    "ExecuteTime": {
     "end_time": "2019-08-05T05:48:51.507576Z",
     "start_time": "2019-08-05T05:48:50.900621Z"
    }
   },
   "outputs": [
    {
     "name": "stdout",
     "output_type": "stream",
     "text": [
      "processing All.unmap.sorted.bam\n"
     ]
    }
   ],
   "source": [
    "# NOTE This is not the full set of reads unmapped to transcriptome. Reads that are not mapped (flag=4/20) to genome are not included\n",
    "genome_reads = bam2df(bams2)"
   ]
  },
  {
   "cell_type": "code",
   "execution_count": 244,
   "metadata": {
    "ExecuteTime": {
     "end_time": "2019-08-05T05:52:09.495127Z",
     "start_time": "2019-08-05T05:52:09.468628Z"
    }
   },
   "outputs": [
    {
     "data": {
      "text/plain": [
       "(49900, 9)"
      ]
     },
     "execution_count": 244,
     "metadata": {},
     "output_type": "execute_result"
    },
    {
     "data": {
      "text/html": [
       "<div>\n",
       "<style scoped>\n",
       "    .dataframe tbody tr th:only-of-type {\n",
       "        vertical-align: middle;\n",
       "    }\n",
       "\n",
       "    .dataframe tbody tr th {\n",
       "        vertical-align: top;\n",
       "    }\n",
       "\n",
       "    .dataframe thead th {\n",
       "        text-align: right;\n",
       "    }\n",
       "</style>\n",
       "<table border=\"1\" class=\"dataframe\">\n",
       "  <thead>\n",
       "    <tr style=\"text-align: right;\">\n",
       "      <th></th>\n",
       "      <th>qname</th>\n",
       "      <th>flag</th>\n",
       "      <th>chr</th>\n",
       "      <th>start</th>\n",
       "      <th>end</th>\n",
       "      <th>mapqs</th>\n",
       "      <th>cigars</th>\n",
       "      <th>XA</th>\n",
       "      <th>sample</th>\n",
       "    </tr>\n",
       "  </thead>\n",
       "  <tbody>\n",
       "    <tr>\n",
       "      <th>0</th>\n",
       "      <td>M00911:259:000000000-G43JP:1:2101:19010:15067</td>\n",
       "      <td>0</td>\n",
       "      <td>chr1</td>\n",
       "      <td>51747</td>\n",
       "      <td>51864</td>\n",
       "      <td>0</td>\n",
       "      <td>117M</td>\n",
       "      <td>chr15,-101939081,117M,4;</td>\n",
       "      <td>All.unmap.sorted.bam</td>\n",
       "    </tr>\n",
       "    <tr>\n",
       "      <th>1</th>\n",
       "      <td>M00911:259:000000000-G43JP:1:2101:10617:21155</td>\n",
       "      <td>0</td>\n",
       "      <td>chr1</td>\n",
       "      <td>92589</td>\n",
       "      <td>92657</td>\n",
       "      <td>37</td>\n",
       "      <td>68M</td>\n",
       "      <td></td>\n",
       "      <td>All.unmap.sorted.bam</td>\n",
       "    </tr>\n",
       "  </tbody>\n",
       "</table>\n",
       "</div>"
      ],
      "text/plain": [
       "                                           qname  flag   chr  start    end  mapqs cigars                        XA                sample\n",
       "0  M00911:259:000000000-G43JP:1:2101:19010:15067     0  chr1  51747  51864      0   117M  chr15,-101939081,117M,4;  All.unmap.sorted.bam\n",
       "1  M00911:259:000000000-G43JP:1:2101:10617:21155     0  chr1  92589  92657     37    68M                            All.unmap.sorted.bam"
      ]
     },
     "execution_count": 244,
     "metadata": {},
     "output_type": "execute_result"
    },
    {
     "data": {
      "text/html": [
       "<div>\n",
       "<style scoped>\n",
       "    .dataframe tbody tr th:only-of-type {\n",
       "        vertical-align: middle;\n",
       "    }\n",
       "\n",
       "    .dataframe tbody tr th {\n",
       "        vertical-align: top;\n",
       "    }\n",
       "\n",
       "    .dataframe thead th {\n",
       "        text-align: right;\n",
       "    }\n",
       "</style>\n",
       "<table border=\"1\" class=\"dataframe\">\n",
       "  <thead>\n",
       "    <tr style=\"text-align: right;\">\n",
       "      <th></th>\n",
       "      <th>qname</th>\n",
       "      <th>flag</th>\n",
       "      <th>chr</th>\n",
       "      <th>start</th>\n",
       "      <th>end</th>\n",
       "      <th>mapqs</th>\n",
       "      <th>cigars</th>\n",
       "      <th>XA</th>\n",
       "      <th>sample</th>\n",
       "    </tr>\n",
       "  </thead>\n",
       "  <tbody>\n",
       "    <tr>\n",
       "      <th>49898</th>\n",
       "      <td>M00911:259:000000000-G43JP:1:2104:14860:29237</td>\n",
       "      <td>16</td>\n",
       "      <td>KI270751.1</td>\n",
       "      <td>88106</td>\n",
       "      <td>88247</td>\n",
       "      <td>0</td>\n",
       "      <td>141M</td>\n",
       "      <td>GL000214.1,+15828,141M,5;</td>\n",
       "      <td>All.unmap.sorted.bam</td>\n",
       "    </tr>\n",
       "    <tr>\n",
       "      <th>49899</th>\n",
       "      <td>M00911:259:000000000-G43JP:1:1102:18597:14109</td>\n",
       "      <td>0</td>\n",
       "      <td>KI270755.1</td>\n",
       "      <td>5618</td>\n",
       "      <td>5769</td>\n",
       "      <td>0</td>\n",
       "      <td>151M</td>\n",
       "      <td>chr4,-189697234,151M,3;</td>\n",
       "      <td>All.unmap.sorted.bam</td>\n",
       "    </tr>\n",
       "  </tbody>\n",
       "</table>\n",
       "</div>"
      ],
      "text/plain": [
       "                                               qname  flag         chr  start    end  mapqs cigars                         XA                sample\n",
       "49898  M00911:259:000000000-G43JP:1:2104:14860:29237    16  KI270751.1  88106  88247      0   141M  GL000214.1,+15828,141M,5;  All.unmap.sorted.bam\n",
       "49899  M00911:259:000000000-G43JP:1:1102:18597:14109     0  KI270755.1   5618   5769      0   151M    chr4,-189697234,151M,3;  All.unmap.sorted.bam"
      ]
     },
     "execution_count": 244,
     "metadata": {},
     "output_type": "execute_result"
    }
   ],
   "source": [
    "genome_reads.shape\n",
    "genome_reads.head(2)\n",
    "genome_reads.tail(2)"
   ]
  },
  {
   "cell_type": "code",
   "execution_count": 246,
   "metadata": {
    "ExecuteTime": {
     "end_time": "2019-08-05T05:53:22.180173Z",
     "start_time": "2019-08-05T05:53:22.172818Z"
    }
   },
   "outputs": [
    {
     "data": {
      "text/plain": [
       "array(['chr1', 'chr2', 'chr3', 'chr4', 'chr5', 'chr6', 'chr7', 'chr8',\n",
       "       'chr9', 'chr10', 'chr11', 'chr12', 'chr13', 'chr14', 'chr15',\n",
       "       'chr16', 'chr17', 'chr18', 'chr19', 'chr20', 'chr21', 'chr22',\n",
       "       'chrX', 'chrY', 'chrM', 'GL000009.2', 'GL000194.1', 'GL000195.1',\n",
       "       'GL000205.2', 'GL000214.1', 'GL000216.2', 'GL000218.1',\n",
       "       'GL000219.1', 'GL000220.1', 'GL000221.1', 'GL000224.1',\n",
       "       'GL000225.1', 'KI270442.1', 'KI270467.1', 'KI270706.1',\n",
       "       'KI270712.1', 'KI270717.1', 'KI270719.1', 'KI270725.1',\n",
       "       'KI270727.1', 'KI270728.1', 'KI270731.1', 'KI270733.1',\n",
       "       'KI270741.1', 'KI270742.1', 'KI270743.1', 'KI270746.1',\n",
       "       'KI270748.1', 'KI270751.1', 'KI270755.1'], dtype=object)"
      ]
     },
     "execution_count": 246,
     "metadata": {},
     "output_type": "execute_result"
    }
   ],
   "source": [
    "genome_reads['chr'].unique()"
   ]
  },
  {
   "cell_type": "code",
   "execution_count": 249,
   "metadata": {
    "ExecuteTime": {
     "end_time": "2019-08-05T05:55:56.982484Z",
     "start_time": "2019-08-05T05:55:56.963063Z"
    }
   },
   "outputs": [
    {
     "data": {
      "text/plain": [
       "484"
      ]
     },
     "execution_count": 249,
     "metadata": {},
     "output_type": "execute_result"
    },
    {
     "data": {
      "text/plain": [
       "686"
      ]
     },
     "execution_count": 249,
     "metadata": {},
     "output_type": "execute_result"
    }
   ],
   "source": [
    "# total number of reads mapped to mitochondria\n",
    "genome_reads[genome_reads['chr'] == 'chrM'].shape[0]\n",
    "# total number of reads mapped to non chromosome 1 - Y\n",
    "genome_reads[~genome_reads['chr'].isin(chr1_24)].shape[0]"
   ]
  },
  {
   "cell_type": "markdown",
   "metadata": {},
   "source": [
    "### reads that are uniquely mapped to genome (but not transcriptome)"
   ]
  },
  {
   "cell_type": "code",
   "execution_count": 240,
   "metadata": {
    "ExecuteTime": {
     "end_time": "2019-08-05T05:50:41.911133Z",
     "start_time": "2019-08-05T05:50:41.886753Z"
    }
   },
   "outputs": [],
   "source": [
    "genome_unique_map_reads = genome_reads[genome_reads.XA.str.len() < 1]"
   ]
  },
  {
   "cell_type": "code",
   "execution_count": 253,
   "metadata": {
    "ExecuteTime": {
     "end_time": "2019-08-05T05:59:06.967749Z",
     "start_time": "2019-08-05T05:59:06.946015Z"
    }
   },
   "outputs": [
    {
     "data": {
      "text/plain": [
       "(47958, 9)"
      ]
     },
     "execution_count": 253,
     "metadata": {},
     "output_type": "execute_result"
    },
    {
     "data": {
      "text/html": [
       "<div>\n",
       "<style scoped>\n",
       "    .dataframe tbody tr th:only-of-type {\n",
       "        vertical-align: middle;\n",
       "    }\n",
       "\n",
       "    .dataframe tbody tr th {\n",
       "        vertical-align: top;\n",
       "    }\n",
       "\n",
       "    .dataframe thead th {\n",
       "        text-align: right;\n",
       "    }\n",
       "</style>\n",
       "<table border=\"1\" class=\"dataframe\">\n",
       "  <thead>\n",
       "    <tr style=\"text-align: right;\">\n",
       "      <th></th>\n",
       "      <th>qname</th>\n",
       "      <th>flag</th>\n",
       "      <th>chr</th>\n",
       "      <th>start</th>\n",
       "      <th>end</th>\n",
       "      <th>mapqs</th>\n",
       "      <th>cigars</th>\n",
       "      <th>XA</th>\n",
       "      <th>sample</th>\n",
       "    </tr>\n",
       "  </thead>\n",
       "  <tbody>\n",
       "    <tr>\n",
       "      <th>1</th>\n",
       "      <td>M00911:259:000000000-G43JP:1:2101:10617:21155</td>\n",
       "      <td>0</td>\n",
       "      <td>chr1</td>\n",
       "      <td>92589</td>\n",
       "      <td>92657</td>\n",
       "      <td>37</td>\n",
       "      <td>68M</td>\n",
       "      <td></td>\n",
       "      <td>All.unmap.sorted.bam</td>\n",
       "    </tr>\n",
       "    <tr>\n",
       "      <th>2</th>\n",
       "      <td>M00911:259:000000000-G43JP:1:2104:25432:17640</td>\n",
       "      <td>0</td>\n",
       "      <td>chr1</td>\n",
       "      <td>101223</td>\n",
       "      <td>101335</td>\n",
       "      <td>0</td>\n",
       "      <td>112M</td>\n",
       "      <td></td>\n",
       "      <td>All.unmap.sorted.bam</td>\n",
       "    </tr>\n",
       "    <tr>\n",
       "      <th>3</th>\n",
       "      <td>M00911:259:000000000-G43JP:1:2101:23171:16911</td>\n",
       "      <td>16</td>\n",
       "      <td>chr1</td>\n",
       "      <td>272011</td>\n",
       "      <td>272162</td>\n",
       "      <td>0</td>\n",
       "      <td>151M</td>\n",
       "      <td></td>\n",
       "      <td>All.unmap.sorted.bam</td>\n",
       "    </tr>\n",
       "    <tr>\n",
       "      <th>5</th>\n",
       "      <td>M00911:259:000000000-G43JP:1:2103:14539:8854</td>\n",
       "      <td>16</td>\n",
       "      <td>chr1</td>\n",
       "      <td>490827</td>\n",
       "      <td>490978</td>\n",
       "      <td>0</td>\n",
       "      <td>151M</td>\n",
       "      <td></td>\n",
       "      <td>All.unmap.sorted.bam</td>\n",
       "    </tr>\n",
       "    <tr>\n",
       "      <th>36</th>\n",
       "      <td>M00911:259:000000000-G43JP:1:1102:19896:18134</td>\n",
       "      <td>0</td>\n",
       "      <td>chr1</td>\n",
       "      <td>632639</td>\n",
       "      <td>632693</td>\n",
       "      <td>25</td>\n",
       "      <td>54M</td>\n",
       "      <td></td>\n",
       "      <td>All.unmap.sorted.bam</td>\n",
       "    </tr>\n",
       "  </tbody>\n",
       "</table>\n",
       "</div>"
      ],
      "text/plain": [
       "                                            qname  flag   chr   start     end  mapqs cigars XA                sample\n",
       "1   M00911:259:000000000-G43JP:1:2101:10617:21155     0  chr1   92589   92657     37    68M     All.unmap.sorted.bam\n",
       "2   M00911:259:000000000-G43JP:1:2104:25432:17640     0  chr1  101223  101335      0   112M     All.unmap.sorted.bam\n",
       "3   M00911:259:000000000-G43JP:1:2101:23171:16911    16  chr1  272011  272162      0   151M     All.unmap.sorted.bam\n",
       "5    M00911:259:000000000-G43JP:1:2103:14539:8854    16  chr1  490827  490978      0   151M     All.unmap.sorted.bam\n",
       "36  M00911:259:000000000-G43JP:1:1102:19896:18134     0  chr1  632639  632693     25    54M     All.unmap.sorted.bam"
      ]
     },
     "execution_count": 253,
     "metadata": {},
     "output_type": "execute_result"
    }
   ],
   "source": [
    "genome_unique_map_reads.shape\n",
    "genome_unique_map_reads.head(5)"
   ]
  },
  {
   "cell_type": "code",
   "execution_count": null,
   "metadata": {},
   "outputs": [],
   "source": [
    "# How many mapped to chrM?\n",
    "genome_unique_map_reads"
   ]
  },
  {
   "cell_type": "markdown",
   "metadata": {},
   "source": [
    "### reads that are multi-loci mapped to genome (but not transcriptome)"
   ]
  },
  {
   "cell_type": "code",
   "execution_count": 256,
   "metadata": {
    "ExecuteTime": {
     "end_time": "2019-08-05T06:01:35.474959Z",
     "start_time": "2019-08-05T06:01:35.435247Z"
    }
   },
   "outputs": [
    {
     "data": {
      "text/plain": [
       "(1942, 9)"
      ]
     },
     "execution_count": 256,
     "metadata": {},
     "output_type": "execute_result"
    },
    {
     "data": {
      "text/html": [
       "<div>\n",
       "<style scoped>\n",
       "    .dataframe tbody tr th:only-of-type {\n",
       "        vertical-align: middle;\n",
       "    }\n",
       "\n",
       "    .dataframe tbody tr th {\n",
       "        vertical-align: top;\n",
       "    }\n",
       "\n",
       "    .dataframe thead th {\n",
       "        text-align: right;\n",
       "    }\n",
       "</style>\n",
       "<table border=\"1\" class=\"dataframe\">\n",
       "  <thead>\n",
       "    <tr style=\"text-align: right;\">\n",
       "      <th></th>\n",
       "      <th>qname</th>\n",
       "      <th>flag</th>\n",
       "      <th>chr</th>\n",
       "      <th>start</th>\n",
       "      <th>end</th>\n",
       "      <th>mapqs</th>\n",
       "      <th>cigars</th>\n",
       "      <th>XA</th>\n",
       "      <th>sample</th>\n",
       "    </tr>\n",
       "  </thead>\n",
       "  <tbody>\n",
       "    <tr>\n",
       "      <th>49890</th>\n",
       "      <td>M00911:259:000000000-G43JP:1:2101:20093:18238</td>\n",
       "      <td>16</td>\n",
       "      <td>KI270742.1</td>\n",
       "      <td>81675</td>\n",
       "      <td>81776</td>\n",
       "      <td>0</td>\n",
       "      <td>101M</td>\n",
       "      <td>GL000221.1,-51740,101M,0;chr21,+9353239,101M,0;</td>\n",
       "      <td>All.unmap.sorted.bam</td>\n",
       "    </tr>\n",
       "    <tr>\n",
       "      <th>49891</th>\n",
       "      <td>M00911:259:000000000-G43JP:1:2101:21643:25026</td>\n",
       "      <td>0</td>\n",
       "      <td>KI270742.1</td>\n",
       "      <td>82234</td>\n",
       "      <td>82312</td>\n",
       "      <td>0</td>\n",
       "      <td>78M</td>\n",
       "      <td>chr21,-9352703,78M,0;GL000221.1,+52298,78M,1;</td>\n",
       "      <td>All.unmap.sorted.bam</td>\n",
       "    </tr>\n",
       "    <tr>\n",
       "      <th>49893</th>\n",
       "      <td>M00911:259:000000000-G43JP:1:1103:15650:10532</td>\n",
       "      <td>0</td>\n",
       "      <td>KI270743.1</td>\n",
       "      <td>57078</td>\n",
       "      <td>57223</td>\n",
       "      <td>20</td>\n",
       "      <td>145M</td>\n",
       "      <td>chr22,+12086776,145M,1;GL000008.2,+72218,145M,1;</td>\n",
       "      <td>All.unmap.sorted.bam</td>\n",
       "    </tr>\n",
       "    <tr>\n",
       "      <th>49898</th>\n",
       "      <td>M00911:259:000000000-G43JP:1:2104:14860:29237</td>\n",
       "      <td>16</td>\n",
       "      <td>KI270751.1</td>\n",
       "      <td>88106</td>\n",
       "      <td>88247</td>\n",
       "      <td>0</td>\n",
       "      <td>141M</td>\n",
       "      <td>GL000214.1,+15828,141M,5;</td>\n",
       "      <td>All.unmap.sorted.bam</td>\n",
       "    </tr>\n",
       "    <tr>\n",
       "      <th>49899</th>\n",
       "      <td>M00911:259:000000000-G43JP:1:1102:18597:14109</td>\n",
       "      <td>0</td>\n",
       "      <td>KI270755.1</td>\n",
       "      <td>5618</td>\n",
       "      <td>5769</td>\n",
       "      <td>0</td>\n",
       "      <td>151M</td>\n",
       "      <td>chr4,-189697234,151M,3;</td>\n",
       "      <td>All.unmap.sorted.bam</td>\n",
       "    </tr>\n",
       "  </tbody>\n",
       "</table>\n",
       "</div>"
      ],
      "text/plain": [
       "                                               qname  flag         chr  start    end  mapqs cigars                                                XA                sample\n",
       "49890  M00911:259:000000000-G43JP:1:2101:20093:18238    16  KI270742.1  81675  81776      0   101M   GL000221.1,-51740,101M,0;chr21,+9353239,101M,0;  All.unmap.sorted.bam\n",
       "49891  M00911:259:000000000-G43JP:1:2101:21643:25026     0  KI270742.1  82234  82312      0    78M     chr21,-9352703,78M,0;GL000221.1,+52298,78M,1;  All.unmap.sorted.bam\n",
       "49893  M00911:259:000000000-G43JP:1:1103:15650:10532     0  KI270743.1  57078  57223     20   145M  chr22,+12086776,145M,1;GL000008.2,+72218,145M,1;  All.unmap.sorted.bam\n",
       "49898  M00911:259:000000000-G43JP:1:2104:14860:29237    16  KI270751.1  88106  88247      0   141M                         GL000214.1,+15828,141M,5;  All.unmap.sorted.bam\n",
       "49899  M00911:259:000000000-G43JP:1:1102:18597:14109     0  KI270755.1   5618   5769      0   151M                           chr4,-189697234,151M,3;  All.unmap.sorted.bam"
      ]
     },
     "execution_count": 256,
     "metadata": {},
     "output_type": "execute_result"
    }
   ],
   "source": [
    "genome_multi_map_reads = genome_reads[genome_reads.XA.str.len() > 1]\n",
    "genome_multi_map_reads.shape\n",
    "genome_multi_map_reads.tail()"
   ]
  },
  {
   "cell_type": "code",
   "execution_count": null,
   "metadata": {},
   "outputs": [],
   "source": []
  },
  {
   "cell_type": "markdown",
   "metadata": {},
   "source": [
    "## Unmapped reads\n",
    "\n",
    "*Total 257474 reads aligned to transcriptome, 140183 are aligned, 117291 unaligned, 80368 uniquely mapped.*\n",
    "\n",
    "Within unaligned reads, 49900 are aligned to genome, 47958 are uniquely aligned to whole genome.\n",
    "\n",
    "Within unaligned reads that are mapped to genome:\n",
    "    - 15434 reads are intergenic (13% of all unaligned to transcriptome)\n",
    "    - 32712 reads are introns (28% of all unaligned to transcriptome)\n",
    "    - 67391 reads cannot be mapped to neither transcriptome nor genome (57% of all unaligned to transcriptome)\n"
   ]
  },
  {
   "cell_type": "code",
   "execution_count": 371,
   "metadata": {
    "ExecuteTime": {
     "end_time": "2019-08-06T02:33:15.842576Z",
     "start_time": "2019-08-06T02:33:15.637137Z"
    }
   },
   "outputs": [],
   "source": [
    "intron_intergenic = pd.read_csv('/gpfs/commons/groups/sanjana_lab/cdai/TFscreen/data/20190730_083004/Fastq/unmapped/unmap_intersect_intron_intergenic.bed',\\\n",
    "                               sep='\\t', header=None)"
   ]
  },
  {
   "cell_type": "code",
   "execution_count": 373,
   "metadata": {
    "ExecuteTime": {
     "end_time": "2019-08-06T02:39:19.575736Z",
     "start_time": "2019-08-06T02:39:19.559685Z"
    }
   },
   "outputs": [],
   "source": [
    "intron_intergenic.rename(columns={0:'chrom', 1:'start', 2:'end', 3:'qname', 4:'mapq', 5:'strand', 6:'cigar', 11:'feature'}, inplace=True)"
   ]
  },
  {
   "cell_type": "code",
   "execution_count": 374,
   "metadata": {
    "ExecuteTime": {
     "end_time": "2019-08-06T02:39:21.034854Z",
     "start_time": "2019-08-06T02:39:21.017823Z"
    }
   },
   "outputs": [
    {
     "data": {
      "text/html": [
       "<div>\n",
       "<style scoped>\n",
       "    .dataframe tbody tr th:only-of-type {\n",
       "        vertical-align: middle;\n",
       "    }\n",
       "\n",
       "    .dataframe tbody tr th {\n",
       "        vertical-align: top;\n",
       "    }\n",
       "\n",
       "    .dataframe thead th {\n",
       "        text-align: right;\n",
       "    }\n",
       "</style>\n",
       "<table border=\"1\" class=\"dataframe\">\n",
       "  <thead>\n",
       "    <tr style=\"text-align: right;\">\n",
       "      <th></th>\n",
       "      <th>chrom</th>\n",
       "      <th>start</th>\n",
       "      <th>end</th>\n",
       "      <th>qname</th>\n",
       "      <th>mapq</th>\n",
       "      <th>strand</th>\n",
       "      <th>cigar</th>\n",
       "      <th>7</th>\n",
       "      <th>8</th>\n",
       "      <th>9</th>\n",
       "      <th>10</th>\n",
       "      <th>feature</th>\n",
       "      <th>12</th>\n",
       "    </tr>\n",
       "  </thead>\n",
       "  <tbody>\n",
       "    <tr>\n",
       "      <th>0</th>\n",
       "      <td>chr1</td>\n",
       "      <td>51747</td>\n",
       "      <td>51864</td>\n",
       "      <td>M00911:259:000000000-G43JP:1:2101:19010:15067</td>\n",
       "      <td>0</td>\n",
       "      <td>+</td>\n",
       "      <td>117M</td>\n",
       "      <td>1</td>\n",
       "      <td>chr1</td>\n",
       "      <td>36081</td>\n",
       "      <td>52473</td>\n",
       "      <td>intergenic</td>\n",
       "      <td>117</td>\n",
       "    </tr>\n",
       "    <tr>\n",
       "      <th>1</th>\n",
       "      <td>chr1</td>\n",
       "      <td>92589</td>\n",
       "      <td>92657</td>\n",
       "      <td>M00911:259:000000000-G43JP:1:2101:10617:21155</td>\n",
       "      <td>37</td>\n",
       "      <td>+</td>\n",
       "      <td>68M</td>\n",
       "      <td>2</td>\n",
       "      <td>chr1</td>\n",
       "      <td>92240</td>\n",
       "      <td>110953</td>\n",
       "      <td>ENSG00000238009.6</td>\n",
       "      <td>68</td>\n",
       "    </tr>\n",
       "    <tr>\n",
       "      <th>2</th>\n",
       "      <td>chr1</td>\n",
       "      <td>101223</td>\n",
       "      <td>101335</td>\n",
       "      <td>M00911:259:000000000-G43JP:1:2104:25432:17640</td>\n",
       "      <td>0</td>\n",
       "      <td>+</td>\n",
       "      <td>112M</td>\n",
       "      <td>2</td>\n",
       "      <td>chr1</td>\n",
       "      <td>92240</td>\n",
       "      <td>110953</td>\n",
       "      <td>ENSG00000238009.6</td>\n",
       "      <td>112</td>\n",
       "    </tr>\n",
       "    <tr>\n",
       "      <th>3</th>\n",
       "      <td>chr1</td>\n",
       "      <td>272011</td>\n",
       "      <td>272162</td>\n",
       "      <td>M00911:259:000000000-G43JP:1:2101:23171:16911</td>\n",
       "      <td>0</td>\n",
       "      <td>-</td>\n",
       "      <td>151M</td>\n",
       "      <td>2</td>\n",
       "      <td>chr1</td>\n",
       "      <td>268816</td>\n",
       "      <td>289266</td>\n",
       "      <td>ENSG00000228463.10</td>\n",
       "      <td>151</td>\n",
       "    </tr>\n",
       "    <tr>\n",
       "      <th>4</th>\n",
       "      <td>chr1</td>\n",
       "      <td>275679</td>\n",
       "      <td>275792</td>\n",
       "      <td>M00911:259:000000000-G43JP:1:2102:23568:18695</td>\n",
       "      <td>20</td>\n",
       "      <td>-</td>\n",
       "      <td>113M</td>\n",
       "      <td>2</td>\n",
       "      <td>chr1</td>\n",
       "      <td>268816</td>\n",
       "      <td>289266</td>\n",
       "      <td>ENSG00000228463.10</td>\n",
       "      <td>113</td>\n",
       "    </tr>\n",
       "  </tbody>\n",
       "</table>\n",
       "</div>"
      ],
      "text/plain": [
       "  chrom   start     end                                          qname  mapq strand cigar  7     8       9      10             feature   12\n",
       "0  chr1   51747   51864  M00911:259:000000000-G43JP:1:2101:19010:15067     0      +  117M  1  chr1   36081   52473          intergenic  117\n",
       "1  chr1   92589   92657  M00911:259:000000000-G43JP:1:2101:10617:21155    37      +   68M  2  chr1   92240  110953   ENSG00000238009.6   68\n",
       "2  chr1  101223  101335  M00911:259:000000000-G43JP:1:2104:25432:17640     0      +  112M  2  chr1   92240  110953   ENSG00000238009.6  112\n",
       "3  chr1  272011  272162  M00911:259:000000000-G43JP:1:2101:23171:16911     0      -  151M  2  chr1  268816  289266  ENSG00000228463.10  151\n",
       "4  chr1  275679  275792  M00911:259:000000000-G43JP:1:2102:23568:18695    20      -  113M  2  chr1  268816  289266  ENSG00000228463.10  113"
      ]
     },
     "execution_count": 374,
     "metadata": {},
     "output_type": "execute_result"
    }
   ],
   "source": [
    "intron_intergenic.head()"
   ]
  },
  {
   "cell_type": "code",
   "execution_count": 378,
   "metadata": {
    "ExecuteTime": {
     "end_time": "2019-08-06T02:41:24.164017Z",
     "start_time": "2019-08-06T02:41:24.119984Z"
    }
   },
   "outputs": [
    {
     "data": {
      "text/plain": [
       "(15434, 13)"
      ]
     },
     "execution_count": 378,
     "metadata": {},
     "output_type": "execute_result"
    },
    {
     "data": {
      "text/plain": [
       "(15434,)"
      ]
     },
     "execution_count": 378,
     "metadata": {},
     "output_type": "execute_result"
    },
    {
     "data": {
      "text/html": [
       "<div>\n",
       "<style scoped>\n",
       "    .dataframe tbody tr th:only-of-type {\n",
       "        vertical-align: middle;\n",
       "    }\n",
       "\n",
       "    .dataframe tbody tr th {\n",
       "        vertical-align: top;\n",
       "    }\n",
       "\n",
       "    .dataframe thead th {\n",
       "        text-align: right;\n",
       "    }\n",
       "</style>\n",
       "<table border=\"1\" class=\"dataframe\">\n",
       "  <thead>\n",
       "    <tr style=\"text-align: right;\">\n",
       "      <th></th>\n",
       "      <th>chrom</th>\n",
       "      <th>start</th>\n",
       "      <th>end</th>\n",
       "      <th>qname</th>\n",
       "      <th>mapq</th>\n",
       "      <th>strand</th>\n",
       "      <th>cigar</th>\n",
       "      <th>7</th>\n",
       "      <th>8</th>\n",
       "      <th>9</th>\n",
       "      <th>10</th>\n",
       "      <th>feature</th>\n",
       "      <th>12</th>\n",
       "    </tr>\n",
       "  </thead>\n",
       "  <tbody>\n",
       "    <tr>\n",
       "      <th>0</th>\n",
       "      <td>chr1</td>\n",
       "      <td>51747</td>\n",
       "      <td>51864</td>\n",
       "      <td>M00911:259:000000000-G43JP:1:2101:19010:15067</td>\n",
       "      <td>0</td>\n",
       "      <td>+</td>\n",
       "      <td>117M</td>\n",
       "      <td>1</td>\n",
       "      <td>chr1</td>\n",
       "      <td>36081</td>\n",
       "      <td>52473</td>\n",
       "      <td>intergenic</td>\n",
       "      <td>117</td>\n",
       "    </tr>\n",
       "    <tr>\n",
       "      <th>21</th>\n",
       "      <td>chr1</td>\n",
       "      <td>883123</td>\n",
       "      <td>883274</td>\n",
       "      <td>M00911:259:000000000-G43JP:1:2103:9730:13056</td>\n",
       "      <td>37</td>\n",
       "      <td>+</td>\n",
       "      <td>151M</td>\n",
       "      <td>1</td>\n",
       "      <td>chr1</td>\n",
       "      <td>877234</td>\n",
       "      <td>904834</td>\n",
       "      <td>intergenic</td>\n",
       "      <td>151</td>\n",
       "    </tr>\n",
       "    <tr>\n",
       "      <th>22</th>\n",
       "      <td>chr1</td>\n",
       "      <td>883190</td>\n",
       "      <td>883341</td>\n",
       "      <td>M00911:259:000000000-G43JP:1:1101:15565:21059</td>\n",
       "      <td>37</td>\n",
       "      <td>+</td>\n",
       "      <td>151M</td>\n",
       "      <td>1</td>\n",
       "      <td>chr1</td>\n",
       "      <td>877234</td>\n",
       "      <td>904834</td>\n",
       "      <td>intergenic</td>\n",
       "      <td>151</td>\n",
       "    </tr>\n",
       "    <tr>\n",
       "      <th>23</th>\n",
       "      <td>chr1</td>\n",
       "      <td>883190</td>\n",
       "      <td>883341</td>\n",
       "      <td>M00911:259:000000000-G43JP:1:2103:5234:22126</td>\n",
       "      <td>37</td>\n",
       "      <td>+</td>\n",
       "      <td>151M</td>\n",
       "      <td>1</td>\n",
       "      <td>chr1</td>\n",
       "      <td>877234</td>\n",
       "      <td>904834</td>\n",
       "      <td>intergenic</td>\n",
       "      <td>151</td>\n",
       "    </tr>\n",
       "    <tr>\n",
       "      <th>24</th>\n",
       "      <td>chr1</td>\n",
       "      <td>883200</td>\n",
       "      <td>883351</td>\n",
       "      <td>M00911:259:000000000-G43JP:1:1104:7098:10907</td>\n",
       "      <td>37</td>\n",
       "      <td>+</td>\n",
       "      <td>151M</td>\n",
       "      <td>1</td>\n",
       "      <td>chr1</td>\n",
       "      <td>877234</td>\n",
       "      <td>904834</td>\n",
       "      <td>intergenic</td>\n",
       "      <td>151</td>\n",
       "    </tr>\n",
       "  </tbody>\n",
       "</table>\n",
       "</div>"
      ],
      "text/plain": [
       "   chrom   start     end                                          qname  mapq strand cigar  7     8       9      10     feature   12\n",
       "0   chr1   51747   51864  M00911:259:000000000-G43JP:1:2101:19010:15067     0      +  117M  1  chr1   36081   52473  intergenic  117\n",
       "21  chr1  883123  883274   M00911:259:000000000-G43JP:1:2103:9730:13056    37      +  151M  1  chr1  877234  904834  intergenic  151\n",
       "22  chr1  883190  883341  M00911:259:000000000-G43JP:1:1101:15565:21059    37      +  151M  1  chr1  877234  904834  intergenic  151\n",
       "23  chr1  883190  883341   M00911:259:000000000-G43JP:1:2103:5234:22126    37      +  151M  1  chr1  877234  904834  intergenic  151\n",
       "24  chr1  883200  883351   M00911:259:000000000-G43JP:1:1104:7098:10907    37      +  151M  1  chr1  877234  904834  intergenic  151"
      ]
     },
     "execution_count": 378,
     "metadata": {},
     "output_type": "execute_result"
    }
   ],
   "source": [
    "# how many reads are aligned to intergenic region?\n",
    "intron_intergenic[intron_intergenic['feature'] == 'intergenic'].shape\n",
    "intron_intergenic[intron_intergenic['feature'] == 'intergenic'].qname.unique().shape\n",
    "intron_intergenic[intron_intergenic['feature'] == 'intergenic'].head()"
   ]
  },
  {
   "cell_type": "code",
   "execution_count": 380,
   "metadata": {
    "ExecuteTime": {
     "end_time": "2019-08-06T02:43:24.227160Z",
     "start_time": "2019-08-06T02:43:24.175961Z"
    }
   },
   "outputs": [
    {
     "data": {
      "text/plain": [
       "(36838, 13)"
      ]
     },
     "execution_count": 380,
     "metadata": {},
     "output_type": "execute_result"
    },
    {
     "data": {
      "text/plain": [
       "(32712,)"
      ]
     },
     "execution_count": 380,
     "metadata": {},
     "output_type": "execute_result"
    },
    {
     "data": {
      "text/html": [
       "<div>\n",
       "<style scoped>\n",
       "    .dataframe tbody tr th:only-of-type {\n",
       "        vertical-align: middle;\n",
       "    }\n",
       "\n",
       "    .dataframe tbody tr th {\n",
       "        vertical-align: top;\n",
       "    }\n",
       "\n",
       "    .dataframe thead th {\n",
       "        text-align: right;\n",
       "    }\n",
       "</style>\n",
       "<table border=\"1\" class=\"dataframe\">\n",
       "  <thead>\n",
       "    <tr style=\"text-align: right;\">\n",
       "      <th></th>\n",
       "      <th>chrom</th>\n",
       "      <th>start</th>\n",
       "      <th>end</th>\n",
       "      <th>qname</th>\n",
       "      <th>mapq</th>\n",
       "      <th>strand</th>\n",
       "      <th>cigar</th>\n",
       "      <th>7</th>\n",
       "      <th>8</th>\n",
       "      <th>9</th>\n",
       "      <th>10</th>\n",
       "      <th>feature</th>\n",
       "      <th>12</th>\n",
       "    </tr>\n",
       "  </thead>\n",
       "  <tbody>\n",
       "    <tr>\n",
       "      <th>52178</th>\n",
       "      <td>chrY</td>\n",
       "      <td>2627120</td>\n",
       "      <td>2627271</td>\n",
       "      <td>M00911:259:000000000-G43JP:1:1101:12954:7874</td>\n",
       "      <td>0</td>\n",
       "      <td>+</td>\n",
       "      <td>151M</td>\n",
       "      <td>2</td>\n",
       "      <td>chrY</td>\n",
       "      <td>2626642</td>\n",
       "      <td>2637974</td>\n",
       "      <td>ENSG00000223773.7_PAR_Y</td>\n",
       "      <td>151</td>\n",
       "    </tr>\n",
       "    <tr>\n",
       "      <th>52179</th>\n",
       "      <td>chrY</td>\n",
       "      <td>2710888</td>\n",
       "      <td>2711002</td>\n",
       "      <td>M00911:259:000000000-G43JP:1:2103:11317:8539</td>\n",
       "      <td>0</td>\n",
       "      <td>-</td>\n",
       "      <td>114M</td>\n",
       "      <td>2</td>\n",
       "      <td>chrY</td>\n",
       "      <td>2692253</td>\n",
       "      <td>2714422</td>\n",
       "      <td>ENSG00000002586.20_PAR_Y</td>\n",
       "      <td>114</td>\n",
       "    </tr>\n",
       "    <tr>\n",
       "      <th>52182</th>\n",
       "      <td>chrY</td>\n",
       "      <td>5323859</td>\n",
       "      <td>5323982</td>\n",
       "      <td>M00911:259:000000000-G43JP:1:1101:18568:15101</td>\n",
       "      <td>0</td>\n",
       "      <td>-</td>\n",
       "      <td>123M</td>\n",
       "      <td>2</td>\n",
       "      <td>chrY</td>\n",
       "      <td>5208069</td>\n",
       "      <td>5337745</td>\n",
       "      <td>ENSG00000099715.14</td>\n",
       "      <td>123</td>\n",
       "    </tr>\n",
       "    <tr>\n",
       "      <th>52183</th>\n",
       "      <td>chrY</td>\n",
       "      <td>5519964</td>\n",
       "      <td>5520047</td>\n",
       "      <td>M00911:259:000000000-G43JP:1:1104:8708:22358</td>\n",
       "      <td>0</td>\n",
       "      <td>+</td>\n",
       "      <td>83M</td>\n",
       "      <td>2</td>\n",
       "      <td>chrY</td>\n",
       "      <td>5501255</td>\n",
       "      <td>5573145</td>\n",
       "      <td>ENSG00000099715.14</td>\n",
       "      <td>83</td>\n",
       "    </tr>\n",
       "    <tr>\n",
       "      <th>52186</th>\n",
       "      <td>chrY</td>\n",
       "      <td>13845942</td>\n",
       "      <td>13846011</td>\n",
       "      <td>M00911:259:000000000-G43JP:1:1104:8816:3906</td>\n",
       "      <td>0</td>\n",
       "      <td>-</td>\n",
       "      <td>69M</td>\n",
       "      <td>2</td>\n",
       "      <td>chrY</td>\n",
       "      <td>13790966</td>\n",
       "      <td>13854444</td>\n",
       "      <td>ENSG00000241859.7</td>\n",
       "      <td>69</td>\n",
       "    </tr>\n",
       "  </tbody>\n",
       "</table>\n",
       "</div>"
      ],
      "text/plain": [
       "      chrom     start       end                                          qname  mapq strand cigar  7     8         9        10                   feature   12\n",
       "52178  chrY   2627120   2627271   M00911:259:000000000-G43JP:1:1101:12954:7874     0      +  151M  2  chrY   2626642   2637974   ENSG00000223773.7_PAR_Y  151\n",
       "52179  chrY   2710888   2711002   M00911:259:000000000-G43JP:1:2103:11317:8539     0      -  114M  2  chrY   2692253   2714422  ENSG00000002586.20_PAR_Y  114\n",
       "52182  chrY   5323859   5323982  M00911:259:000000000-G43JP:1:1101:18568:15101     0      -  123M  2  chrY   5208069   5337745        ENSG00000099715.14  123\n",
       "52183  chrY   5519964   5520047   M00911:259:000000000-G43JP:1:1104:8708:22358     0      +   83M  2  chrY   5501255   5573145        ENSG00000099715.14   83\n",
       "52186  chrY  13845942  13846011    M00911:259:000000000-G43JP:1:1104:8816:3906     0      -   69M  2  chrY  13790966  13854444         ENSG00000241859.7   69"
      ]
     },
     "execution_count": 380,
     "metadata": {},
     "output_type": "execute_result"
    }
   ],
   "source": [
    "# how many reads are aligned to introns?\n",
    "intron_intergenic[intron_intergenic['feature'] != 'intergenic'].shape\n",
    "intron_intergenic[intron_intergenic['feature'] != 'intergenic'].qname.unique().shape\n",
    "intron_intergenic[intron_intergenic['feature'] != 'intergenic'].tail()"
   ]
  },
  {
   "cell_type": "code",
   "execution_count": 400,
   "metadata": {
    "ExecuteTime": {
     "end_time": "2019-08-06T02:54:49.136955Z",
     "start_time": "2019-08-06T02:54:49.103650Z"
    }
   },
   "outputs": [
    {
     "data": {
      "text/plain": [
       "feature\n",
       "ENSG00000287001.1     78\n",
       "ENSG00000236780.7     72\n",
       "ENSG00000280441.3     45\n",
       "ENSG00000078328.20    40\n",
       "ENSG00000278996.1     40\n",
       "ENSG00000158321.17    40\n",
       "ENSG00000174469.23    37\n",
       "ENSG00000153707.17    36\n",
       "ENSG00000144724.20    34\n",
       "ENSG00000105426.16    33\n",
       "Name: qname, dtype: int64"
      ]
     },
     "execution_count": 400,
     "metadata": {},
     "output_type": "execute_result"
    }
   ],
   "source": [
    "# which genes have the most intron retained?\n",
    "introns = intron_intergenic[intron_intergenic['feature'] != 'intergenic']\n",
    "mostintrons = introns.groupby('feature')['qname'].size().sort_values(ascending=False)\n",
    "mostintrons.head(10)"
   ]
  },
  {
   "cell_type": "code",
   "execution_count": 409,
   "metadata": {
    "ExecuteTime": {
     "end_time": "2019-08-06T02:57:19.319213Z",
     "start_time": "2019-08-06T02:57:18.920214Z"
    }
   },
   "outputs": [
    {
     "data": {
      "text/html": [
       "<div>\n",
       "<style scoped>\n",
       "    .dataframe tbody tr th:only-of-type {\n",
       "        vertical-align: middle;\n",
       "    }\n",
       "\n",
       "    .dataframe tbody tr th {\n",
       "        vertical-align: top;\n",
       "    }\n",
       "\n",
       "    .dataframe thead th {\n",
       "        text-align: right;\n",
       "    }\n",
       "</style>\n",
       "<table border=\"1\" class=\"dataframe\">\n",
       "  <thead>\n",
       "    <tr style=\"text-align: right;\">\n",
       "      <th></th>\n",
       "      <th>seqname</th>\n",
       "      <th>source</th>\n",
       "      <th>feature</th>\n",
       "      <th>start</th>\n",
       "      <th>end</th>\n",
       "      <th>score</th>\n",
       "      <th>strand</th>\n",
       "      <th>frame</th>\n",
       "      <th>gene_id</th>\n",
       "      <th>gene_type</th>\n",
       "      <th>gene_name</th>\n",
       "      <th>level</th>\n",
       "      <th>hgnc_id</th>\n",
       "      <th>havana_gene</th>\n",
       "      <th>transcript_id</th>\n",
       "      <th>transcript_type</th>\n",
       "      <th>transcript_name</th>\n",
       "      <th>transcript_support_level</th>\n",
       "      <th>tag</th>\n",
       "      <th>havana_transcript</th>\n",
       "      <th>exon_number</th>\n",
       "      <th>exon_id</th>\n",
       "      <th>ont</th>\n",
       "      <th>protein_id</th>\n",
       "      <th>ccdsid</th>\n",
       "    </tr>\n",
       "  </thead>\n",
       "  <tbody>\n",
       "    <tr>\n",
       "      <th>319076</th>\n",
       "      <td>chr2</td>\n",
       "      <td>HAVANA</td>\n",
       "      <td>gene</td>\n",
       "      <td>67123357</td>\n",
       "      <td>67397980</td>\n",
       "      <td>NaN</td>\n",
       "      <td>-</td>\n",
       "      <td>0</td>\n",
       "      <td>ENSG00000236780.7</td>\n",
       "      <td>lncRNA</td>\n",
       "      <td>LINC01829</td>\n",
       "      <td>2</td>\n",
       "      <td>HGNC:52635</td>\n",
       "      <td>OTTHUMG00000152856.5</td>\n",
       "      <td></td>\n",
       "      <td></td>\n",
       "      <td></td>\n",
       "      <td></td>\n",
       "      <td></td>\n",
       "      <td></td>\n",
       "      <td></td>\n",
       "      <td></td>\n",
       "      <td></td>\n",
       "      <td></td>\n",
       "      <td></td>\n",
       "    </tr>\n",
       "    <tr>\n",
       "      <th>557423</th>\n",
       "      <td>chr3</td>\n",
       "      <td>HAVANA</td>\n",
       "      <td>gene</td>\n",
       "      <td>61561569</td>\n",
       "      <td>62297609</td>\n",
       "      <td>NaN</td>\n",
       "      <td>+</td>\n",
       "      <td>0</td>\n",
       "      <td>ENSG00000144724.20</td>\n",
       "      <td>protein_coding</td>\n",
       "      <td>PTPRG</td>\n",
       "      <td>2</td>\n",
       "      <td>HGNC:9671</td>\n",
       "      <td>OTTHUMG00000158660.2</td>\n",
       "      <td></td>\n",
       "      <td></td>\n",
       "      <td></td>\n",
       "      <td></td>\n",
       "      <td></td>\n",
       "      <td></td>\n",
       "      <td></td>\n",
       "      <td></td>\n",
       "      <td></td>\n",
       "      <td></td>\n",
       "      <td></td>\n",
       "    </tr>\n",
       "    <tr>\n",
       "      <th>1088010</th>\n",
       "      <td>chr7</td>\n",
       "      <td>HAVANA</td>\n",
       "      <td>gene</td>\n",
       "      <td>69598296</td>\n",
       "      <td>70793495</td>\n",
       "      <td>NaN</td>\n",
       "      <td>+</td>\n",
       "      <td>0</td>\n",
       "      <td>ENSG00000158321.17</td>\n",
       "      <td>protein_coding</td>\n",
       "      <td>AUTS2</td>\n",
       "      <td>2</td>\n",
       "      <td>HGNC:14262</td>\n",
       "      <td>OTTHUMG00000023865.11</td>\n",
       "      <td></td>\n",
       "      <td></td>\n",
       "      <td></td>\n",
       "      <td></td>\n",
       "      <td></td>\n",
       "      <td></td>\n",
       "      <td></td>\n",
       "      <td></td>\n",
       "      <td></td>\n",
       "      <td></td>\n",
       "      <td></td>\n",
       "    </tr>\n",
       "    <tr>\n",
       "      <th>1166141</th>\n",
       "      <td>chr7</td>\n",
       "      <td>HAVANA</td>\n",
       "      <td>gene</td>\n",
       "      <td>146116002</td>\n",
       "      <td>148420998</td>\n",
       "      <td>NaN</td>\n",
       "      <td>+</td>\n",
       "      <td>0</td>\n",
       "      <td>ENSG00000174469.23</td>\n",
       "      <td>protein_coding</td>\n",
       "      <td>CNTNAP2</td>\n",
       "      <td>1</td>\n",
       "      <td>HGNC:13830</td>\n",
       "      <td>OTTHUMG00000152743.11</td>\n",
       "      <td></td>\n",
       "      <td></td>\n",
       "      <td></td>\n",
       "      <td></td>\n",
       "      <td>ncRNA_host,overlapping_locus</td>\n",
       "      <td></td>\n",
       "      <td></td>\n",
       "      <td></td>\n",
       "      <td></td>\n",
       "      <td></td>\n",
       "      <td></td>\n",
       "    </tr>\n",
       "    <tr>\n",
       "      <th>1291009</th>\n",
       "      <td>chr9</td>\n",
       "      <td>HAVANA</td>\n",
       "      <td>gene</td>\n",
       "      <td>8314246</td>\n",
       "      <td>10612723</td>\n",
       "      <td>NaN</td>\n",
       "      <td>-</td>\n",
       "      <td>0</td>\n",
       "      <td>ENSG00000153707.17</td>\n",
       "      <td>protein_coding</td>\n",
       "      <td>PTPRD</td>\n",
       "      <td>2</td>\n",
       "      <td>HGNC:9668</td>\n",
       "      <td>OTTHUMG00000021005.6</td>\n",
       "      <td></td>\n",
       "      <td></td>\n",
       "      <td></td>\n",
       "      <td></td>\n",
       "      <td>overlapping_locus</td>\n",
       "      <td></td>\n",
       "      <td></td>\n",
       "      <td></td>\n",
       "      <td></td>\n",
       "      <td></td>\n",
       "      <td></td>\n",
       "    </tr>\n",
       "    <tr>\n",
       "      <th>2112658</th>\n",
       "      <td>chr16</td>\n",
       "      <td>HAVANA</td>\n",
       "      <td>gene</td>\n",
       "      <td>5239802</td>\n",
       "      <td>7713338</td>\n",
       "      <td>NaN</td>\n",
       "      <td>+</td>\n",
       "      <td>0</td>\n",
       "      <td>ENSG00000078328.20</td>\n",
       "      <td>protein_coding</td>\n",
       "      <td>RBFOX1</td>\n",
       "      <td>1</td>\n",
       "      <td>HGNC:18222</td>\n",
       "      <td>OTTHUMG00000129551.12</td>\n",
       "      <td></td>\n",
       "      <td></td>\n",
       "      <td></td>\n",
       "      <td></td>\n",
       "      <td>ncRNA_host</td>\n",
       "      <td></td>\n",
       "      <td></td>\n",
       "      <td></td>\n",
       "      <td></td>\n",
       "      <td></td>\n",
       "      <td></td>\n",
       "    </tr>\n",
       "    <tr>\n",
       "      <th>2463617</th>\n",
       "      <td>chr19</td>\n",
       "      <td>HAVANA</td>\n",
       "      <td>gene</td>\n",
       "      <td>5158495</td>\n",
       "      <td>5340803</td>\n",
       "      <td>NaN</td>\n",
       "      <td>-</td>\n",
       "      <td>0</td>\n",
       "      <td>ENSG00000105426.16</td>\n",
       "      <td>protein_coding</td>\n",
       "      <td>PTPRS</td>\n",
       "      <td>2</td>\n",
       "      <td>HGNC:9681</td>\n",
       "      <td>OTTHUMG00000180325.5</td>\n",
       "      <td></td>\n",
       "      <td></td>\n",
       "      <td></td>\n",
       "      <td></td>\n",
       "      <td></td>\n",
       "      <td></td>\n",
       "      <td></td>\n",
       "      <td></td>\n",
       "      <td></td>\n",
       "      <td></td>\n",
       "      <td></td>\n",
       "    </tr>\n",
       "    <tr>\n",
       "      <th>2588979</th>\n",
       "      <td>chr19</td>\n",
       "      <td>HAVANA</td>\n",
       "      <td>gene</td>\n",
       "      <td>50136859</td>\n",
       "      <td>50148230</td>\n",
       "      <td>NaN</td>\n",
       "      <td>-</td>\n",
       "      <td>0</td>\n",
       "      <td>ENSG00000287001.1</td>\n",
       "      <td>lncRNA</td>\n",
       "      <td>AC010624.5</td>\n",
       "      <td>2</td>\n",
       "      <td></td>\n",
       "      <td>OTTHUMG00000195792.1</td>\n",
       "      <td></td>\n",
       "      <td></td>\n",
       "      <td></td>\n",
       "      <td></td>\n",
       "      <td></td>\n",
       "      <td></td>\n",
       "      <td></td>\n",
       "      <td></td>\n",
       "      <td></td>\n",
       "      <td></td>\n",
       "      <td></td>\n",
       "    </tr>\n",
       "    <tr>\n",
       "      <th>2685979</th>\n",
       "      <td>chr21</td>\n",
       "      <td>HAVANA</td>\n",
       "      <td>gene</td>\n",
       "      <td>8197620</td>\n",
       "      <td>8227646</td>\n",
       "      <td>NaN</td>\n",
       "      <td>+</td>\n",
       "      <td>0</td>\n",
       "      <td>ENSG00000278996.1</td>\n",
       "      <td>lncRNA</td>\n",
       "      <td>FP671120.2</td>\n",
       "      <td>2</td>\n",
       "      <td></td>\n",
       "      <td>OTTHUMG00000189417.1</td>\n",
       "      <td></td>\n",
       "      <td></td>\n",
       "      <td></td>\n",
       "      <td></td>\n",
       "      <td>ncRNA_host</td>\n",
       "      <td></td>\n",
       "      <td></td>\n",
       "      <td></td>\n",
       "      <td></td>\n",
       "      <td></td>\n",
       "      <td></td>\n",
       "    </tr>\n",
       "    <tr>\n",
       "      <th>2686030</th>\n",
       "      <td>chr21</td>\n",
       "      <td>HAVANA</td>\n",
       "      <td>gene</td>\n",
       "      <td>8380643</td>\n",
       "      <td>8454792</td>\n",
       "      <td>NaN</td>\n",
       "      <td>+</td>\n",
       "      <td>0</td>\n",
       "      <td>ENSG00000280441.3</td>\n",
       "      <td>lncRNA</td>\n",
       "      <td>FP236383.1</td>\n",
       "      <td>2</td>\n",
       "      <td></td>\n",
       "      <td>OTTHUMG00000189419.3</td>\n",
       "      <td></td>\n",
       "      <td></td>\n",
       "      <td></td>\n",
       "      <td></td>\n",
       "      <td>ncRNA_host</td>\n",
       "      <td></td>\n",
       "      <td></td>\n",
       "      <td></td>\n",
       "      <td></td>\n",
       "      <td></td>\n",
       "      <td></td>\n",
       "    </tr>\n",
       "  </tbody>\n",
       "</table>\n",
       "</div>"
      ],
      "text/plain": [
       "        seqname  source feature      start        end  score strand frame             gene_id       gene_type   gene_name level     hgnc_id            havana_gene transcript_id transcript_type transcript_name transcript_support_level                           tag havana_transcript exon_number exon_id ont protein_id ccdsid\n",
       "319076     chr2  HAVANA    gene   67123357   67397980    NaN      -     0   ENSG00000236780.7          lncRNA   LINC01829     2  HGNC:52635   OTTHUMG00000152856.5                                                                                                                                                                 \n",
       "557423     chr3  HAVANA    gene   61561569   62297609    NaN      +     0  ENSG00000144724.20  protein_coding       PTPRG     2   HGNC:9671   OTTHUMG00000158660.2                                                                                                                                                                 \n",
       "1088010    chr7  HAVANA    gene   69598296   70793495    NaN      +     0  ENSG00000158321.17  protein_coding       AUTS2     2  HGNC:14262  OTTHUMG00000023865.11                                                                                                                                                                 \n",
       "1166141    chr7  HAVANA    gene  146116002  148420998    NaN      +     0  ENSG00000174469.23  protein_coding     CNTNAP2     1  HGNC:13830  OTTHUMG00000152743.11                                                                         ncRNA_host,overlapping_locus                                                            \n",
       "1291009    chr9  HAVANA    gene    8314246   10612723    NaN      -     0  ENSG00000153707.17  protein_coding       PTPRD     2   HGNC:9668   OTTHUMG00000021005.6                                                                                    overlapping_locus                                                            \n",
       "2112658   chr16  HAVANA    gene    5239802    7713338    NaN      +     0  ENSG00000078328.20  protein_coding      RBFOX1     1  HGNC:18222  OTTHUMG00000129551.12                                                                                           ncRNA_host                                                            \n",
       "2463617   chr19  HAVANA    gene    5158495    5340803    NaN      -     0  ENSG00000105426.16  protein_coding       PTPRS     2   HGNC:9681   OTTHUMG00000180325.5                                                                                                                                                                 \n",
       "2588979   chr19  HAVANA    gene   50136859   50148230    NaN      -     0   ENSG00000287001.1          lncRNA  AC010624.5     2               OTTHUMG00000195792.1                                                                                                                                                                 \n",
       "2685979   chr21  HAVANA    gene    8197620    8227646    NaN      +     0   ENSG00000278996.1          lncRNA  FP671120.2     2               OTTHUMG00000189417.1                                                                                           ncRNA_host                                                            \n",
       "2686030   chr21  HAVANA    gene    8380643    8454792    NaN      +     0   ENSG00000280441.3          lncRNA  FP236383.1     2               OTTHUMG00000189419.3                                                                                           ncRNA_host                                                            "
      ]
     },
     "execution_count": 409,
     "metadata": {},
     "output_type": "execute_result"
    }
   ],
   "source": [
    "gtf[(gtf.gene_id.isin(mostintrons.head(10).index)) & (gtf.feature == 'gene')]"
   ]
  },
  {
   "cell_type": "markdown",
   "metadata": {},
   "source": [
    "## GTF"
   ]
  },
  {
   "cell_type": "code",
   "execution_count": 24,
   "metadata": {
    "ExecuteTime": {
     "end_time": "2019-08-05T16:41:29.448159Z",
     "start_time": "2019-08-05T16:41:29.407146Z"
    }
   },
   "outputs": [],
   "source": [
    "import gtfparse as gpar"
   ]
  },
  {
   "cell_type": "code",
   "execution_count": 25,
   "metadata": {
    "ExecuteTime": {
     "end_time": "2019-08-05T16:43:22.177070Z",
     "start_time": "2019-08-05T16:41:29.895045Z"
    }
   },
   "outputs": [
    {
     "name": "stderr",
     "output_type": "stream",
     "text": [
      "INFO:root:Extracted GTF attributes: ['gene_id', 'gene_type', 'gene_name', 'level', 'hgnc_id', 'havana_gene', 'transcript_id', 'transcript_type', 'transcript_name', 'transcript_support_level', 'tag', 'havana_transcript', 'exon_number', 'exon_id', 'ont', 'protein_id', 'ccdsid']\n"
     ]
    }
   ],
   "source": [
    "gtf = gpar.read_gtf('/gpfs/commons/groups/sanjana_lab/cdai/ref_genome/gencode.v31.primary_assembly.annotation.gtf')"
   ]
  },
  {
   "cell_type": "code",
   "execution_count": 329,
   "metadata": {
    "ExecuteTime": {
     "end_time": "2019-08-05T22:50:49.814333Z",
     "start_time": "2019-08-05T22:50:16.309077Z"
    }
   },
   "outputs": [],
   "source": [
    "gtf.to_csv('/gpfs/commons/groups/sanjana_lab/cdai/ref_genome/gencode.v31.primary_assembly.annotation.pandas.df.gtf', sep='\\t', header=True, index=False)"
   ]
  },
  {
   "cell_type": "code",
   "execution_count": 328,
   "metadata": {
    "ExecuteTime": {
     "end_time": "2019-08-05T22:48:54.668852Z",
     "start_time": "2019-08-05T22:48:54.396565Z"
    }
   },
   "outputs": [
    {
     "data": {
      "text/html": [
       "<div>\n",
       "<style scoped>\n",
       "    .dataframe tbody tr th:only-of-type {\n",
       "        vertical-align: middle;\n",
       "    }\n",
       "\n",
       "    .dataframe tbody tr th {\n",
       "        vertical-align: top;\n",
       "    }\n",
       "\n",
       "    .dataframe thead th {\n",
       "        text-align: right;\n",
       "    }\n",
       "</style>\n",
       "<table border=\"1\" class=\"dataframe\">\n",
       "  <thead>\n",
       "    <tr style=\"text-align: right;\">\n",
       "      <th></th>\n",
       "      <th>seqname</th>\n",
       "      <th>source</th>\n",
       "      <th>feature</th>\n",
       "      <th>start</th>\n",
       "      <th>end</th>\n",
       "      <th>score</th>\n",
       "      <th>strand</th>\n",
       "      <th>frame</th>\n",
       "      <th>gene_id</th>\n",
       "      <th>gene_type</th>\n",
       "      <th>gene_name</th>\n",
       "      <th>level</th>\n",
       "      <th>hgnc_id</th>\n",
       "      <th>havana_gene</th>\n",
       "      <th>transcript_id</th>\n",
       "      <th>transcript_type</th>\n",
       "      <th>transcript_name</th>\n",
       "      <th>transcript_support_level</th>\n",
       "      <th>tag</th>\n",
       "      <th>havana_transcript</th>\n",
       "      <th>exon_number</th>\n",
       "      <th>exon_id</th>\n",
       "      <th>ont</th>\n",
       "      <th>protein_id</th>\n",
       "      <th>ccdsid</th>\n",
       "    </tr>\n",
       "  </thead>\n",
       "  <tbody>\n",
       "    <tr>\n",
       "      <th>57</th>\n",
       "      <td>chr1</td>\n",
       "      <td>HAVANA</td>\n",
       "      <td>gene</td>\n",
       "      <td>65419</td>\n",
       "      <td>71585</td>\n",
       "      <td>NaN</td>\n",
       "      <td>+</td>\n",
       "      <td>0</td>\n",
       "      <td>ENSG00000186092.6</td>\n",
       "      <td>protein_coding</td>\n",
       "      <td>OR4F5</td>\n",
       "      <td>2</td>\n",
       "      <td>HGNC:14825</td>\n",
       "      <td>OTTHUMG00000001094.4</td>\n",
       "      <td></td>\n",
       "      <td></td>\n",
       "      <td></td>\n",
       "      <td></td>\n",
       "      <td></td>\n",
       "      <td></td>\n",
       "      <td></td>\n",
       "      <td></td>\n",
       "      <td></td>\n",
       "      <td></td>\n",
       "      <td></td>\n",
       "    </tr>\n",
       "    <tr>\n",
       "      <th>58</th>\n",
       "      <td>chr1</td>\n",
       "      <td>HAVANA</td>\n",
       "      <td>transcript</td>\n",
       "      <td>65419</td>\n",
       "      <td>71585</td>\n",
       "      <td>NaN</td>\n",
       "      <td>+</td>\n",
       "      <td>0</td>\n",
       "      <td>ENSG00000186092.6</td>\n",
       "      <td>protein_coding</td>\n",
       "      <td>OR4F5</td>\n",
       "      <td>2</td>\n",
       "      <td>HGNC:14825</td>\n",
       "      <td>OTTHUMG00000001094.4</td>\n",
       "      <td>ENST00000641515.2</td>\n",
       "      <td>protein_coding</td>\n",
       "      <td>OR4F5-202</td>\n",
       "      <td></td>\n",
       "      <td>RNA_Seq_supported_partial,basic</td>\n",
       "      <td>OTTHUMT00000003223.4</td>\n",
       "      <td></td>\n",
       "      <td></td>\n",
       "      <td></td>\n",
       "      <td>ENSP00000493376.2</td>\n",
       "      <td></td>\n",
       "    </tr>\n",
       "    <tr>\n",
       "      <th>59</th>\n",
       "      <td>chr1</td>\n",
       "      <td>HAVANA</td>\n",
       "      <td>exon</td>\n",
       "      <td>65419</td>\n",
       "      <td>65433</td>\n",
       "      <td>NaN</td>\n",
       "      <td>+</td>\n",
       "      <td>0</td>\n",
       "      <td>ENSG00000186092.6</td>\n",
       "      <td>protein_coding</td>\n",
       "      <td>OR4F5</td>\n",
       "      <td>2</td>\n",
       "      <td>HGNC:14825</td>\n",
       "      <td>OTTHUMG00000001094.4</td>\n",
       "      <td>ENST00000641515.2</td>\n",
       "      <td>protein_coding</td>\n",
       "      <td>OR4F5-202</td>\n",
       "      <td></td>\n",
       "      <td>RNA_Seq_supported_partial,basic</td>\n",
       "      <td>OTTHUMT00000003223.4</td>\n",
       "      <td>1</td>\n",
       "      <td>ENSE00003812156.1</td>\n",
       "      <td></td>\n",
       "      <td>ENSP00000493376.2</td>\n",
       "      <td></td>\n",
       "    </tr>\n",
       "    <tr>\n",
       "      <th>60</th>\n",
       "      <td>chr1</td>\n",
       "      <td>HAVANA</td>\n",
       "      <td>exon</td>\n",
       "      <td>65520</td>\n",
       "      <td>65573</td>\n",
       "      <td>NaN</td>\n",
       "      <td>+</td>\n",
       "      <td>0</td>\n",
       "      <td>ENSG00000186092.6</td>\n",
       "      <td>protein_coding</td>\n",
       "      <td>OR4F5</td>\n",
       "      <td>2</td>\n",
       "      <td>HGNC:14825</td>\n",
       "      <td>OTTHUMG00000001094.4</td>\n",
       "      <td>ENST00000641515.2</td>\n",
       "      <td>protein_coding</td>\n",
       "      <td>OR4F5-202</td>\n",
       "      <td></td>\n",
       "      <td>RNA_Seq_supported_partial,basic</td>\n",
       "      <td>OTTHUMT00000003223.4</td>\n",
       "      <td>2</td>\n",
       "      <td>ENSE00003813641.1</td>\n",
       "      <td></td>\n",
       "      <td>ENSP00000493376.2</td>\n",
       "      <td></td>\n",
       "    </tr>\n",
       "    <tr>\n",
       "      <th>61</th>\n",
       "      <td>chr1</td>\n",
       "      <td>HAVANA</td>\n",
       "      <td>CDS</td>\n",
       "      <td>65565</td>\n",
       "      <td>65573</td>\n",
       "      <td>NaN</td>\n",
       "      <td>+</td>\n",
       "      <td>0</td>\n",
       "      <td>ENSG00000186092.6</td>\n",
       "      <td>protein_coding</td>\n",
       "      <td>OR4F5</td>\n",
       "      <td>2</td>\n",
       "      <td>HGNC:14825</td>\n",
       "      <td>OTTHUMG00000001094.4</td>\n",
       "      <td>ENST00000641515.2</td>\n",
       "      <td>protein_coding</td>\n",
       "      <td>OR4F5-202</td>\n",
       "      <td></td>\n",
       "      <td>RNA_Seq_supported_partial,basic</td>\n",
       "      <td>OTTHUMT00000003223.4</td>\n",
       "      <td>2</td>\n",
       "      <td>ENSE00003813641.1</td>\n",
       "      <td></td>\n",
       "      <td>ENSP00000493376.2</td>\n",
       "      <td></td>\n",
       "    </tr>\n",
       "    <tr>\n",
       "      <th>62</th>\n",
       "      <td>chr1</td>\n",
       "      <td>HAVANA</td>\n",
       "      <td>start_codon</td>\n",
       "      <td>65565</td>\n",
       "      <td>65567</td>\n",
       "      <td>NaN</td>\n",
       "      <td>+</td>\n",
       "      <td>0</td>\n",
       "      <td>ENSG00000186092.6</td>\n",
       "      <td>protein_coding</td>\n",
       "      <td>OR4F5</td>\n",
       "      <td>2</td>\n",
       "      <td>HGNC:14825</td>\n",
       "      <td>OTTHUMG00000001094.4</td>\n",
       "      <td>ENST00000641515.2</td>\n",
       "      <td>protein_coding</td>\n",
       "      <td>OR4F5-202</td>\n",
       "      <td></td>\n",
       "      <td>RNA_Seq_supported_partial,basic</td>\n",
       "      <td>OTTHUMT00000003223.4</td>\n",
       "      <td>2</td>\n",
       "      <td>ENSE00003813641.1</td>\n",
       "      <td></td>\n",
       "      <td>ENSP00000493376.2</td>\n",
       "      <td></td>\n",
       "    </tr>\n",
       "    <tr>\n",
       "      <th>63</th>\n",
       "      <td>chr1</td>\n",
       "      <td>HAVANA</td>\n",
       "      <td>exon</td>\n",
       "      <td>69037</td>\n",
       "      <td>71585</td>\n",
       "      <td>NaN</td>\n",
       "      <td>+</td>\n",
       "      <td>0</td>\n",
       "      <td>ENSG00000186092.6</td>\n",
       "      <td>protein_coding</td>\n",
       "      <td>OR4F5</td>\n",
       "      <td>2</td>\n",
       "      <td>HGNC:14825</td>\n",
       "      <td>OTTHUMG00000001094.4</td>\n",
       "      <td>ENST00000641515.2</td>\n",
       "      <td>protein_coding</td>\n",
       "      <td>OR4F5-202</td>\n",
       "      <td></td>\n",
       "      <td>RNA_Seq_supported_partial,basic</td>\n",
       "      <td>OTTHUMT00000003223.4</td>\n",
       "      <td>3</td>\n",
       "      <td>ENSE00003813949.1</td>\n",
       "      <td></td>\n",
       "      <td>ENSP00000493376.2</td>\n",
       "      <td></td>\n",
       "    </tr>\n",
       "    <tr>\n",
       "      <th>64</th>\n",
       "      <td>chr1</td>\n",
       "      <td>HAVANA</td>\n",
       "      <td>CDS</td>\n",
       "      <td>69037</td>\n",
       "      <td>70005</td>\n",
       "      <td>NaN</td>\n",
       "      <td>+</td>\n",
       "      <td>0</td>\n",
       "      <td>ENSG00000186092.6</td>\n",
       "      <td>protein_coding</td>\n",
       "      <td>OR4F5</td>\n",
       "      <td>2</td>\n",
       "      <td>HGNC:14825</td>\n",
       "      <td>OTTHUMG00000001094.4</td>\n",
       "      <td>ENST00000641515.2</td>\n",
       "      <td>protein_coding</td>\n",
       "      <td>OR4F5-202</td>\n",
       "      <td></td>\n",
       "      <td>RNA_Seq_supported_partial,basic</td>\n",
       "      <td>OTTHUMT00000003223.4</td>\n",
       "      <td>3</td>\n",
       "      <td>ENSE00003813949.1</td>\n",
       "      <td></td>\n",
       "      <td>ENSP00000493376.2</td>\n",
       "      <td></td>\n",
       "    </tr>\n",
       "    <tr>\n",
       "      <th>65</th>\n",
       "      <td>chr1</td>\n",
       "      <td>HAVANA</td>\n",
       "      <td>stop_codon</td>\n",
       "      <td>70006</td>\n",
       "      <td>70008</td>\n",
       "      <td>NaN</td>\n",
       "      <td>+</td>\n",
       "      <td>0</td>\n",
       "      <td>ENSG00000186092.6</td>\n",
       "      <td>protein_coding</td>\n",
       "      <td>OR4F5</td>\n",
       "      <td>2</td>\n",
       "      <td>HGNC:14825</td>\n",
       "      <td>OTTHUMG00000001094.4</td>\n",
       "      <td>ENST00000641515.2</td>\n",
       "      <td>protein_coding</td>\n",
       "      <td>OR4F5-202</td>\n",
       "      <td></td>\n",
       "      <td>RNA_Seq_supported_partial,basic</td>\n",
       "      <td>OTTHUMT00000003223.4</td>\n",
       "      <td>3</td>\n",
       "      <td>ENSE00003813949.1</td>\n",
       "      <td></td>\n",
       "      <td>ENSP00000493376.2</td>\n",
       "      <td></td>\n",
       "    </tr>\n",
       "    <tr>\n",
       "      <th>66</th>\n",
       "      <td>chr1</td>\n",
       "      <td>HAVANA</td>\n",
       "      <td>UTR</td>\n",
       "      <td>65419</td>\n",
       "      <td>65433</td>\n",
       "      <td>NaN</td>\n",
       "      <td>+</td>\n",
       "      <td>0</td>\n",
       "      <td>ENSG00000186092.6</td>\n",
       "      <td>protein_coding</td>\n",
       "      <td>OR4F5</td>\n",
       "      <td>2</td>\n",
       "      <td>HGNC:14825</td>\n",
       "      <td>OTTHUMG00000001094.4</td>\n",
       "      <td>ENST00000641515.2</td>\n",
       "      <td>protein_coding</td>\n",
       "      <td>OR4F5-202</td>\n",
       "      <td></td>\n",
       "      <td>RNA_Seq_supported_partial,basic</td>\n",
       "      <td>OTTHUMT00000003223.4</td>\n",
       "      <td>1</td>\n",
       "      <td>ENSE00003812156.1</td>\n",
       "      <td></td>\n",
       "      <td>ENSP00000493376.2</td>\n",
       "      <td></td>\n",
       "    </tr>\n",
       "    <tr>\n",
       "      <th>67</th>\n",
       "      <td>chr1</td>\n",
       "      <td>HAVANA</td>\n",
       "      <td>UTR</td>\n",
       "      <td>65520</td>\n",
       "      <td>65564</td>\n",
       "      <td>NaN</td>\n",
       "      <td>+</td>\n",
       "      <td>0</td>\n",
       "      <td>ENSG00000186092.6</td>\n",
       "      <td>protein_coding</td>\n",
       "      <td>OR4F5</td>\n",
       "      <td>2</td>\n",
       "      <td>HGNC:14825</td>\n",
       "      <td>OTTHUMG00000001094.4</td>\n",
       "      <td>ENST00000641515.2</td>\n",
       "      <td>protein_coding</td>\n",
       "      <td>OR4F5-202</td>\n",
       "      <td></td>\n",
       "      <td>RNA_Seq_supported_partial,basic</td>\n",
       "      <td>OTTHUMT00000003223.4</td>\n",
       "      <td>2</td>\n",
       "      <td>ENSE00003813641.1</td>\n",
       "      <td></td>\n",
       "      <td>ENSP00000493376.2</td>\n",
       "      <td></td>\n",
       "    </tr>\n",
       "    <tr>\n",
       "      <th>68</th>\n",
       "      <td>chr1</td>\n",
       "      <td>HAVANA</td>\n",
       "      <td>UTR</td>\n",
       "      <td>70006</td>\n",
       "      <td>71585</td>\n",
       "      <td>NaN</td>\n",
       "      <td>+</td>\n",
       "      <td>0</td>\n",
       "      <td>ENSG00000186092.6</td>\n",
       "      <td>protein_coding</td>\n",
       "      <td>OR4F5</td>\n",
       "      <td>2</td>\n",
       "      <td>HGNC:14825</td>\n",
       "      <td>OTTHUMG00000001094.4</td>\n",
       "      <td>ENST00000641515.2</td>\n",
       "      <td>protein_coding</td>\n",
       "      <td>OR4F5-202</td>\n",
       "      <td></td>\n",
       "      <td>RNA_Seq_supported_partial,basic</td>\n",
       "      <td>OTTHUMT00000003223.4</td>\n",
       "      <td>3</td>\n",
       "      <td>ENSE00003813949.1</td>\n",
       "      <td></td>\n",
       "      <td>ENSP00000493376.2</td>\n",
       "      <td></td>\n",
       "    </tr>\n",
       "    <tr>\n",
       "      <th>69</th>\n",
       "      <td>chr1</td>\n",
       "      <td>ENSEMBL</td>\n",
       "      <td>transcript</td>\n",
       "      <td>69055</td>\n",
       "      <td>70108</td>\n",
       "      <td>NaN</td>\n",
       "      <td>+</td>\n",
       "      <td>0</td>\n",
       "      <td>ENSG00000186092.6</td>\n",
       "      <td>protein_coding</td>\n",
       "      <td>OR4F5</td>\n",
       "      <td>3</td>\n",
       "      <td>HGNC:14825</td>\n",
       "      <td>OTTHUMG00000001094.4</td>\n",
       "      <td>ENST00000335137.4</td>\n",
       "      <td>protein_coding</td>\n",
       "      <td>OR4F5-201</td>\n",
       "      <td>NA</td>\n",
       "      <td>basic,appris_principal_1,CCDS</td>\n",
       "      <td></td>\n",
       "      <td></td>\n",
       "      <td></td>\n",
       "      <td></td>\n",
       "      <td>ENSP00000334393.3</td>\n",
       "      <td>CCDS30547.1</td>\n",
       "    </tr>\n",
       "    <tr>\n",
       "      <th>70</th>\n",
       "      <td>chr1</td>\n",
       "      <td>ENSEMBL</td>\n",
       "      <td>exon</td>\n",
       "      <td>69055</td>\n",
       "      <td>70108</td>\n",
       "      <td>NaN</td>\n",
       "      <td>+</td>\n",
       "      <td>0</td>\n",
       "      <td>ENSG00000186092.6</td>\n",
       "      <td>protein_coding</td>\n",
       "      <td>OR4F5</td>\n",
       "      <td>3</td>\n",
       "      <td>HGNC:14825</td>\n",
       "      <td>OTTHUMG00000001094.4</td>\n",
       "      <td>ENST00000335137.4</td>\n",
       "      <td>protein_coding</td>\n",
       "      <td>OR4F5-201</td>\n",
       "      <td>NA</td>\n",
       "      <td>basic,appris_principal_1,CCDS</td>\n",
       "      <td></td>\n",
       "      <td>1</td>\n",
       "      <td>ENSE00002319515.2</td>\n",
       "      <td></td>\n",
       "      <td>ENSP00000334393.3</td>\n",
       "      <td>CCDS30547.1</td>\n",
       "    </tr>\n",
       "    <tr>\n",
       "      <th>71</th>\n",
       "      <td>chr1</td>\n",
       "      <td>ENSEMBL</td>\n",
       "      <td>CDS</td>\n",
       "      <td>69091</td>\n",
       "      <td>70005</td>\n",
       "      <td>NaN</td>\n",
       "      <td>+</td>\n",
       "      <td>0</td>\n",
       "      <td>ENSG00000186092.6</td>\n",
       "      <td>protein_coding</td>\n",
       "      <td>OR4F5</td>\n",
       "      <td>3</td>\n",
       "      <td>HGNC:14825</td>\n",
       "      <td>OTTHUMG00000001094.4</td>\n",
       "      <td>ENST00000335137.4</td>\n",
       "      <td>protein_coding</td>\n",
       "      <td>OR4F5-201</td>\n",
       "      <td>NA</td>\n",
       "      <td>basic,appris_principal_1,CCDS</td>\n",
       "      <td></td>\n",
       "      <td>1</td>\n",
       "      <td>ENSE00002319515.2</td>\n",
       "      <td></td>\n",
       "      <td>ENSP00000334393.3</td>\n",
       "      <td>CCDS30547.1</td>\n",
       "    </tr>\n",
       "    <tr>\n",
       "      <th>72</th>\n",
       "      <td>chr1</td>\n",
       "      <td>ENSEMBL</td>\n",
       "      <td>start_codon</td>\n",
       "      <td>69091</td>\n",
       "      <td>69093</td>\n",
       "      <td>NaN</td>\n",
       "      <td>+</td>\n",
       "      <td>0</td>\n",
       "      <td>ENSG00000186092.6</td>\n",
       "      <td>protein_coding</td>\n",
       "      <td>OR4F5</td>\n",
       "      <td>3</td>\n",
       "      <td>HGNC:14825</td>\n",
       "      <td>OTTHUMG00000001094.4</td>\n",
       "      <td>ENST00000335137.4</td>\n",
       "      <td>protein_coding</td>\n",
       "      <td>OR4F5-201</td>\n",
       "      <td>NA</td>\n",
       "      <td>basic,appris_principal_1,CCDS</td>\n",
       "      <td></td>\n",
       "      <td>1</td>\n",
       "      <td>ENSE00002319515.2</td>\n",
       "      <td></td>\n",
       "      <td>ENSP00000334393.3</td>\n",
       "      <td>CCDS30547.1</td>\n",
       "    </tr>\n",
       "    <tr>\n",
       "      <th>73</th>\n",
       "      <td>chr1</td>\n",
       "      <td>ENSEMBL</td>\n",
       "      <td>stop_codon</td>\n",
       "      <td>70006</td>\n",
       "      <td>70008</td>\n",
       "      <td>NaN</td>\n",
       "      <td>+</td>\n",
       "      <td>0</td>\n",
       "      <td>ENSG00000186092.6</td>\n",
       "      <td>protein_coding</td>\n",
       "      <td>OR4F5</td>\n",
       "      <td>3</td>\n",
       "      <td>HGNC:14825</td>\n",
       "      <td>OTTHUMG00000001094.4</td>\n",
       "      <td>ENST00000335137.4</td>\n",
       "      <td>protein_coding</td>\n",
       "      <td>OR4F5-201</td>\n",
       "      <td>NA</td>\n",
       "      <td>basic,appris_principal_1,CCDS</td>\n",
       "      <td></td>\n",
       "      <td>1</td>\n",
       "      <td>ENSE00002319515.2</td>\n",
       "      <td></td>\n",
       "      <td>ENSP00000334393.3</td>\n",
       "      <td>CCDS30547.1</td>\n",
       "    </tr>\n",
       "    <tr>\n",
       "      <th>74</th>\n",
       "      <td>chr1</td>\n",
       "      <td>ENSEMBL</td>\n",
       "      <td>UTR</td>\n",
       "      <td>69055</td>\n",
       "      <td>69090</td>\n",
       "      <td>NaN</td>\n",
       "      <td>+</td>\n",
       "      <td>0</td>\n",
       "      <td>ENSG00000186092.6</td>\n",
       "      <td>protein_coding</td>\n",
       "      <td>OR4F5</td>\n",
       "      <td>3</td>\n",
       "      <td>HGNC:14825</td>\n",
       "      <td>OTTHUMG00000001094.4</td>\n",
       "      <td>ENST00000335137.4</td>\n",
       "      <td>protein_coding</td>\n",
       "      <td>OR4F5-201</td>\n",
       "      <td>NA</td>\n",
       "      <td>basic,appris_principal_1,CCDS</td>\n",
       "      <td></td>\n",
       "      <td>1</td>\n",
       "      <td>ENSE00002319515.2</td>\n",
       "      <td></td>\n",
       "      <td>ENSP00000334393.3</td>\n",
       "      <td>CCDS30547.1</td>\n",
       "    </tr>\n",
       "    <tr>\n",
       "      <th>75</th>\n",
       "      <td>chr1</td>\n",
       "      <td>ENSEMBL</td>\n",
       "      <td>UTR</td>\n",
       "      <td>70006</td>\n",
       "      <td>70108</td>\n",
       "      <td>NaN</td>\n",
       "      <td>+</td>\n",
       "      <td>0</td>\n",
       "      <td>ENSG00000186092.6</td>\n",
       "      <td>protein_coding</td>\n",
       "      <td>OR4F5</td>\n",
       "      <td>3</td>\n",
       "      <td>HGNC:14825</td>\n",
       "      <td>OTTHUMG00000001094.4</td>\n",
       "      <td>ENST00000335137.4</td>\n",
       "      <td>protein_coding</td>\n",
       "      <td>OR4F5-201</td>\n",
       "      <td>NA</td>\n",
       "      <td>basic,appris_principal_1,CCDS</td>\n",
       "      <td></td>\n",
       "      <td>1</td>\n",
       "      <td>ENSE00002319515.2</td>\n",
       "      <td></td>\n",
       "      <td>ENSP00000334393.3</td>\n",
       "      <td>CCDS30547.1</td>\n",
       "    </tr>\n",
       "  </tbody>\n",
       "</table>\n",
       "</div>"
      ],
      "text/plain": [
       "   seqname   source      feature  start    end  score strand frame            gene_id       gene_type gene_name level     hgnc_id           havana_gene      transcript_id transcript_type transcript_name transcript_support_level                              tag     havana_transcript exon_number            exon_id ont         protein_id       ccdsid\n",
       "57    chr1   HAVANA         gene  65419  71585    NaN      +     0  ENSG00000186092.6  protein_coding     OR4F5     2  HGNC:14825  OTTHUMG00000001094.4                                                                                                                                                                                                      \n",
       "58    chr1   HAVANA   transcript  65419  71585    NaN      +     0  ENSG00000186092.6  protein_coding     OR4F5     2  HGNC:14825  OTTHUMG00000001094.4  ENST00000641515.2  protein_coding       OR4F5-202                           RNA_Seq_supported_partial,basic  OTTHUMT00000003223.4                                     ENSP00000493376.2             \n",
       "59    chr1   HAVANA         exon  65419  65433    NaN      +     0  ENSG00000186092.6  protein_coding     OR4F5     2  HGNC:14825  OTTHUMG00000001094.4  ENST00000641515.2  protein_coding       OR4F5-202                           RNA_Seq_supported_partial,basic  OTTHUMT00000003223.4           1  ENSE00003812156.1      ENSP00000493376.2             \n",
       "60    chr1   HAVANA         exon  65520  65573    NaN      +     0  ENSG00000186092.6  protein_coding     OR4F5     2  HGNC:14825  OTTHUMG00000001094.4  ENST00000641515.2  protein_coding       OR4F5-202                           RNA_Seq_supported_partial,basic  OTTHUMT00000003223.4           2  ENSE00003813641.1      ENSP00000493376.2             \n",
       "61    chr1   HAVANA          CDS  65565  65573    NaN      +     0  ENSG00000186092.6  protein_coding     OR4F5     2  HGNC:14825  OTTHUMG00000001094.4  ENST00000641515.2  protein_coding       OR4F5-202                           RNA_Seq_supported_partial,basic  OTTHUMT00000003223.4           2  ENSE00003813641.1      ENSP00000493376.2             \n",
       "62    chr1   HAVANA  start_codon  65565  65567    NaN      +     0  ENSG00000186092.6  protein_coding     OR4F5     2  HGNC:14825  OTTHUMG00000001094.4  ENST00000641515.2  protein_coding       OR4F5-202                           RNA_Seq_supported_partial,basic  OTTHUMT00000003223.4           2  ENSE00003813641.1      ENSP00000493376.2             \n",
       "63    chr1   HAVANA         exon  69037  71585    NaN      +     0  ENSG00000186092.6  protein_coding     OR4F5     2  HGNC:14825  OTTHUMG00000001094.4  ENST00000641515.2  protein_coding       OR4F5-202                           RNA_Seq_supported_partial,basic  OTTHUMT00000003223.4           3  ENSE00003813949.1      ENSP00000493376.2             \n",
       "64    chr1   HAVANA          CDS  69037  70005    NaN      +     0  ENSG00000186092.6  protein_coding     OR4F5     2  HGNC:14825  OTTHUMG00000001094.4  ENST00000641515.2  protein_coding       OR4F5-202                           RNA_Seq_supported_partial,basic  OTTHUMT00000003223.4           3  ENSE00003813949.1      ENSP00000493376.2             \n",
       "65    chr1   HAVANA   stop_codon  70006  70008    NaN      +     0  ENSG00000186092.6  protein_coding     OR4F5     2  HGNC:14825  OTTHUMG00000001094.4  ENST00000641515.2  protein_coding       OR4F5-202                           RNA_Seq_supported_partial,basic  OTTHUMT00000003223.4           3  ENSE00003813949.1      ENSP00000493376.2             \n",
       "66    chr1   HAVANA          UTR  65419  65433    NaN      +     0  ENSG00000186092.6  protein_coding     OR4F5     2  HGNC:14825  OTTHUMG00000001094.4  ENST00000641515.2  protein_coding       OR4F5-202                           RNA_Seq_supported_partial,basic  OTTHUMT00000003223.4           1  ENSE00003812156.1      ENSP00000493376.2             \n",
       "67    chr1   HAVANA          UTR  65520  65564    NaN      +     0  ENSG00000186092.6  protein_coding     OR4F5     2  HGNC:14825  OTTHUMG00000001094.4  ENST00000641515.2  protein_coding       OR4F5-202                           RNA_Seq_supported_partial,basic  OTTHUMT00000003223.4           2  ENSE00003813641.1      ENSP00000493376.2             \n",
       "68    chr1   HAVANA          UTR  70006  71585    NaN      +     0  ENSG00000186092.6  protein_coding     OR4F5     2  HGNC:14825  OTTHUMG00000001094.4  ENST00000641515.2  protein_coding       OR4F5-202                           RNA_Seq_supported_partial,basic  OTTHUMT00000003223.4           3  ENSE00003813949.1      ENSP00000493376.2             \n",
       "69    chr1  ENSEMBL   transcript  69055  70108    NaN      +     0  ENSG00000186092.6  protein_coding     OR4F5     3  HGNC:14825  OTTHUMG00000001094.4  ENST00000335137.4  protein_coding       OR4F5-201                       NA    basic,appris_principal_1,CCDS                                                           ENSP00000334393.3  CCDS30547.1\n",
       "70    chr1  ENSEMBL         exon  69055  70108    NaN      +     0  ENSG00000186092.6  protein_coding     OR4F5     3  HGNC:14825  OTTHUMG00000001094.4  ENST00000335137.4  protein_coding       OR4F5-201                       NA    basic,appris_principal_1,CCDS                                 1  ENSE00002319515.2      ENSP00000334393.3  CCDS30547.1\n",
       "71    chr1  ENSEMBL          CDS  69091  70005    NaN      +     0  ENSG00000186092.6  protein_coding     OR4F5     3  HGNC:14825  OTTHUMG00000001094.4  ENST00000335137.4  protein_coding       OR4F5-201                       NA    basic,appris_principal_1,CCDS                                 1  ENSE00002319515.2      ENSP00000334393.3  CCDS30547.1\n",
       "72    chr1  ENSEMBL  start_codon  69091  69093    NaN      +     0  ENSG00000186092.6  protein_coding     OR4F5     3  HGNC:14825  OTTHUMG00000001094.4  ENST00000335137.4  protein_coding       OR4F5-201                       NA    basic,appris_principal_1,CCDS                                 1  ENSE00002319515.2      ENSP00000334393.3  CCDS30547.1\n",
       "73    chr1  ENSEMBL   stop_codon  70006  70008    NaN      +     0  ENSG00000186092.6  protein_coding     OR4F5     3  HGNC:14825  OTTHUMG00000001094.4  ENST00000335137.4  protein_coding       OR4F5-201                       NA    basic,appris_principal_1,CCDS                                 1  ENSE00002319515.2      ENSP00000334393.3  CCDS30547.1\n",
       "74    chr1  ENSEMBL          UTR  69055  69090    NaN      +     0  ENSG00000186092.6  protein_coding     OR4F5     3  HGNC:14825  OTTHUMG00000001094.4  ENST00000335137.4  protein_coding       OR4F5-201                       NA    basic,appris_principal_1,CCDS                                 1  ENSE00002319515.2      ENSP00000334393.3  CCDS30547.1\n",
       "75    chr1  ENSEMBL          UTR  70006  70108    NaN      +     0  ENSG00000186092.6  protein_coding     OR4F5     3  HGNC:14825  OTTHUMG00000001094.4  ENST00000335137.4  protein_coding       OR4F5-201                       NA    basic,appris_principal_1,CCDS                                 1  ENSE00002319515.2      ENSP00000334393.3  CCDS30547.1"
      ]
     },
     "execution_count": 328,
     "metadata": {},
     "output_type": "execute_result"
    }
   ],
   "source": [
    "gtf[gtf.gene_id == 'ENSG00000186092.6']"
   ]
  },
  {
   "cell_type": "code",
   "execution_count": 47,
   "metadata": {
    "ExecuteTime": {
     "end_time": "2019-08-05T04:28:04.772304Z",
     "start_time": "2019-08-05T04:28:02.940054Z"
    }
   },
   "outputs": [],
   "source": [
    "chroms = gtf[gtf.seqname.str.len() < 6].seqname.unique()"
   ]
  },
  {
   "cell_type": "code",
   "execution_count": 48,
   "metadata": {
    "ExecuteTime": {
     "end_time": "2019-08-05T04:28:08.280395Z",
     "start_time": "2019-08-05T04:28:08.275883Z"
    }
   },
   "outputs": [
    {
     "data": {
      "text/plain": [
       "array(['chr1', 'chr2', 'chr3', 'chr4', 'chr5', 'chr6', 'chr7', 'chr8',\n",
       "       'chr9', 'chr10', 'chr11', 'chr12', 'chr13', 'chr14', 'chr15',\n",
       "       'chr16', 'chr17', 'chr18', 'chr19', 'chr20', 'chr21', 'chr22',\n",
       "       'chrX', 'chrY', 'chrM'], dtype=object)"
      ]
     },
     "execution_count": 48,
     "metadata": {},
     "output_type": "execute_result"
    }
   ],
   "source": [
    "chroms"
   ]
  },
  {
   "cell_type": "code",
   "execution_count": 49,
   "metadata": {
    "ExecuteTime": {
     "end_time": "2019-08-05T04:29:28.225771Z",
     "start_time": "2019-08-05T04:29:27.547580Z"
    }
   },
   "outputs": [],
   "source": [
    "gtf_short = gtf[gtf.seqname.isin(chroms)]"
   ]
  },
  {
   "cell_type": "code",
   "execution_count": 26,
   "metadata": {
    "ExecuteTime": {
     "end_time": "2019-08-05T16:43:26.227090Z",
     "start_time": "2019-08-05T16:43:22.180707Z"
    }
   },
   "outputs": [],
   "source": [
    "transcripts = gtf[gtf.feature == 'transcript'][['seqname', 'source', 'feature', 'start', 'end', 'strand', 'gene_id', 'gene_type',\\\n",
    "                                               'gene_name', 'transcript_id']].drop_duplicates()"
   ]
  },
  {
   "cell_type": "code",
   "execution_count": 121,
   "metadata": {
    "ExecuteTime": {
     "end_time": "2019-08-05T05:07:46.411348Z",
     "start_time": "2019-08-05T05:07:46.398488Z"
    }
   },
   "outputs": [
    {
     "data": {
      "text/plain": [
       "array(['chr1', 'chr2', 'chr3', 'chr4', 'chr5', 'chr6', 'chr7', 'chr8',\n",
       "       'chr9', 'chr10', 'chr11', 'chr12', 'chr13', 'chr14', 'chr15',\n",
       "       'chr16', 'chr17', 'chr18', 'chr19', 'chr20', 'chr21', 'chr22',\n",
       "       'chrX', 'chrY', 'chrM', 'GL000009.2', 'GL000194.1', 'GL000195.1',\n",
       "       'GL000205.2', 'GL000213.1', 'GL000216.2', 'GL000218.1',\n",
       "       'GL000219.1', 'GL000220.1', 'GL000225.1', 'KI270442.1',\n",
       "       'KI270711.1', 'KI270713.1', 'KI270721.1', 'KI270726.1',\n",
       "       'KI270727.1', 'KI270728.1', 'KI270731.1', 'KI270733.1',\n",
       "       'KI270734.1', 'KI270744.1', 'KI270750.1'], dtype=object)"
      ]
     },
     "execution_count": 121,
     "metadata": {},
     "output_type": "execute_result"
    }
   ],
   "source": [
    "transcripts.seqname.unique()"
   ]
  },
  {
   "cell_type": "code",
   "execution_count": 59,
   "metadata": {
    "ExecuteTime": {
     "end_time": "2019-08-05T04:35:32.700102Z",
     "start_time": "2019-08-05T04:35:32.327600Z"
    }
   },
   "outputs": [],
   "source": [
    "genes = gtf[gtf.feature == 'gene'][['seqname', 'source', 'feature', 'start', 'end', 'strand', 'gene_id', 'gene_type',\\\n",
    "                                               'gene_name']].drop_duplicates()"
   ]
  },
  {
   "cell_type": "code",
   "execution_count": 61,
   "metadata": {
    "ExecuteTime": {
     "end_time": "2019-08-05T04:35:42.997240Z",
     "start_time": "2019-08-05T04:35:42.983519Z"
    }
   },
   "outputs": [
    {
     "data": {
      "text/html": [
       "<div>\n",
       "<style scoped>\n",
       "    .dataframe tbody tr th:only-of-type {\n",
       "        vertical-align: middle;\n",
       "    }\n",
       "\n",
       "    .dataframe tbody tr th {\n",
       "        vertical-align: top;\n",
       "    }\n",
       "\n",
       "    .dataframe thead th {\n",
       "        text-align: right;\n",
       "    }\n",
       "</style>\n",
       "<table border=\"1\" class=\"dataframe\">\n",
       "  <thead>\n",
       "    <tr style=\"text-align: right;\">\n",
       "      <th></th>\n",
       "      <th>seqname</th>\n",
       "      <th>source</th>\n",
       "      <th>feature</th>\n",
       "      <th>start</th>\n",
       "      <th>end</th>\n",
       "      <th>strand</th>\n",
       "      <th>gene_id</th>\n",
       "      <th>gene_type</th>\n",
       "      <th>gene_name</th>\n",
       "    </tr>\n",
       "  </thead>\n",
       "  <tbody>\n",
       "    <tr>\n",
       "      <th>0</th>\n",
       "      <td>chr1</td>\n",
       "      <td>HAVANA</td>\n",
       "      <td>gene</td>\n",
       "      <td>11869</td>\n",
       "      <td>14409</td>\n",
       "      <td>+</td>\n",
       "      <td>ENSG00000223972.5</td>\n",
       "      <td>transcribed_unprocessed_pseudogene</td>\n",
       "      <td>DDX11L1</td>\n",
       "    </tr>\n",
       "    <tr>\n",
       "      <th>12</th>\n",
       "      <td>chr1</td>\n",
       "      <td>HAVANA</td>\n",
       "      <td>gene</td>\n",
       "      <td>14404</td>\n",
       "      <td>29570</td>\n",
       "      <td>-</td>\n",
       "      <td>ENSG00000227232.5</td>\n",
       "      <td>unprocessed_pseudogene</td>\n",
       "      <td>WASH7P</td>\n",
       "    </tr>\n",
       "  </tbody>\n",
       "</table>\n",
       "</div>"
      ],
      "text/plain": [
       "   seqname  source feature  start    end strand            gene_id                           gene_type gene_name\n",
       "0     chr1  HAVANA    gene  11869  14409      +  ENSG00000223972.5  transcribed_unprocessed_pseudogene   DDX11L1\n",
       "12    chr1  HAVANA    gene  14404  29570      -  ENSG00000227232.5              unprocessed_pseudogene    WASH7P"
      ]
     },
     "execution_count": 61,
     "metadata": {},
     "output_type": "execute_result"
    },
    {
     "data": {
      "text/plain": [
       "(60662, 9)"
      ]
     },
     "execution_count": 61,
     "metadata": {},
     "output_type": "execute_result"
    }
   ],
   "source": [
    "genes.head(2)\n",
    "genes.shape"
   ]
  },
  {
   "cell_type": "code",
   "execution_count": 268,
   "metadata": {
    "ExecuteTime": {
     "end_time": "2019-08-05T14:55:45.789963Z",
     "start_time": "2019-08-05T14:55:45.762826Z"
    }
   },
   "outputs": [
    {
     "data": {
      "text/html": [
       "<div>\n",
       "<style scoped>\n",
       "    .dataframe tbody tr th:only-of-type {\n",
       "        vertical-align: middle;\n",
       "    }\n",
       "\n",
       "    .dataframe tbody tr th {\n",
       "        vertical-align: top;\n",
       "    }\n",
       "\n",
       "    .dataframe thead th {\n",
       "        text-align: right;\n",
       "    }\n",
       "</style>\n",
       "<table border=\"1\" class=\"dataframe\">\n",
       "  <thead>\n",
       "    <tr style=\"text-align: right;\">\n",
       "      <th></th>\n",
       "      <th>seqname</th>\n",
       "      <th>source</th>\n",
       "      <th>feature</th>\n",
       "      <th>start</th>\n",
       "      <th>end</th>\n",
       "      <th>score</th>\n",
       "      <th>strand</th>\n",
       "      <th>frame</th>\n",
       "      <th>gene_id</th>\n",
       "      <th>gene_type</th>\n",
       "      <th>gene_name</th>\n",
       "      <th>level</th>\n",
       "      <th>hgnc_id</th>\n",
       "      <th>havana_gene</th>\n",
       "      <th>transcript_id</th>\n",
       "      <th>transcript_type</th>\n",
       "      <th>transcript_name</th>\n",
       "      <th>transcript_support_level</th>\n",
       "      <th>tag</th>\n",
       "      <th>havana_transcript</th>\n",
       "      <th>exon_number</th>\n",
       "      <th>exon_id</th>\n",
       "      <th>ont</th>\n",
       "      <th>protein_id</th>\n",
       "      <th>ccdsid</th>\n",
       "    </tr>\n",
       "  </thead>\n",
       "  <tbody>\n",
       "    <tr>\n",
       "      <th>0</th>\n",
       "      <td>chr1</td>\n",
       "      <td>HAVANA</td>\n",
       "      <td>gene</td>\n",
       "      <td>11869</td>\n",
       "      <td>14409</td>\n",
       "      <td>NaN</td>\n",
       "      <td>+</td>\n",
       "      <td>0</td>\n",
       "      <td>ENSG00000223972.5</td>\n",
       "      <td>transcribed_unprocessed_pseudogene</td>\n",
       "      <td>DDX11L1</td>\n",
       "      <td>2</td>\n",
       "      <td>HGNC:37102</td>\n",
       "      <td>OTTHUMG00000000961.2</td>\n",
       "      <td></td>\n",
       "      <td></td>\n",
       "      <td></td>\n",
       "      <td></td>\n",
       "      <td></td>\n",
       "      <td></td>\n",
       "      <td></td>\n",
       "      <td></td>\n",
       "      <td></td>\n",
       "      <td></td>\n",
       "      <td></td>\n",
       "    </tr>\n",
       "    <tr>\n",
       "      <th>1</th>\n",
       "      <td>chr1</td>\n",
       "      <td>HAVANA</td>\n",
       "      <td>transcript</td>\n",
       "      <td>11869</td>\n",
       "      <td>14409</td>\n",
       "      <td>NaN</td>\n",
       "      <td>+</td>\n",
       "      <td>0</td>\n",
       "      <td>ENSG00000223972.5</td>\n",
       "      <td>transcribed_unprocessed_pseudogene</td>\n",
       "      <td>DDX11L1</td>\n",
       "      <td>2</td>\n",
       "      <td>HGNC:37102</td>\n",
       "      <td>OTTHUMG00000000961.2</td>\n",
       "      <td>ENST00000456328.2</td>\n",
       "      <td>lncRNA</td>\n",
       "      <td>DDX11L1-202</td>\n",
       "      <td>1</td>\n",
       "      <td>basic</td>\n",
       "      <td>OTTHUMT00000362751.1</td>\n",
       "      <td></td>\n",
       "      <td></td>\n",
       "      <td></td>\n",
       "      <td></td>\n",
       "      <td></td>\n",
       "    </tr>\n",
       "    <tr>\n",
       "      <th>2</th>\n",
       "      <td>chr1</td>\n",
       "      <td>HAVANA</td>\n",
       "      <td>exon</td>\n",
       "      <td>11869</td>\n",
       "      <td>12227</td>\n",
       "      <td>NaN</td>\n",
       "      <td>+</td>\n",
       "      <td>0</td>\n",
       "      <td>ENSG00000223972.5</td>\n",
       "      <td>transcribed_unprocessed_pseudogene</td>\n",
       "      <td>DDX11L1</td>\n",
       "      <td>2</td>\n",
       "      <td>HGNC:37102</td>\n",
       "      <td>OTTHUMG00000000961.2</td>\n",
       "      <td>ENST00000456328.2</td>\n",
       "      <td>lncRNA</td>\n",
       "      <td>DDX11L1-202</td>\n",
       "      <td>1</td>\n",
       "      <td>basic</td>\n",
       "      <td>OTTHUMT00000362751.1</td>\n",
       "      <td>1</td>\n",
       "      <td>ENSE00002234944.1</td>\n",
       "      <td></td>\n",
       "      <td></td>\n",
       "      <td></td>\n",
       "    </tr>\n",
       "    <tr>\n",
       "      <th>3</th>\n",
       "      <td>chr1</td>\n",
       "      <td>HAVANA</td>\n",
       "      <td>exon</td>\n",
       "      <td>12613</td>\n",
       "      <td>12721</td>\n",
       "      <td>NaN</td>\n",
       "      <td>+</td>\n",
       "      <td>0</td>\n",
       "      <td>ENSG00000223972.5</td>\n",
       "      <td>transcribed_unprocessed_pseudogene</td>\n",
       "      <td>DDX11L1</td>\n",
       "      <td>2</td>\n",
       "      <td>HGNC:37102</td>\n",
       "      <td>OTTHUMG00000000961.2</td>\n",
       "      <td>ENST00000456328.2</td>\n",
       "      <td>lncRNA</td>\n",
       "      <td>DDX11L1-202</td>\n",
       "      <td>1</td>\n",
       "      <td>basic</td>\n",
       "      <td>OTTHUMT00000362751.1</td>\n",
       "      <td>2</td>\n",
       "      <td>ENSE00003582793.1</td>\n",
       "      <td></td>\n",
       "      <td></td>\n",
       "      <td></td>\n",
       "    </tr>\n",
       "    <tr>\n",
       "      <th>4</th>\n",
       "      <td>chr1</td>\n",
       "      <td>HAVANA</td>\n",
       "      <td>exon</td>\n",
       "      <td>13221</td>\n",
       "      <td>14409</td>\n",
       "      <td>NaN</td>\n",
       "      <td>+</td>\n",
       "      <td>0</td>\n",
       "      <td>ENSG00000223972.5</td>\n",
       "      <td>transcribed_unprocessed_pseudogene</td>\n",
       "      <td>DDX11L1</td>\n",
       "      <td>2</td>\n",
       "      <td>HGNC:37102</td>\n",
       "      <td>OTTHUMG00000000961.2</td>\n",
       "      <td>ENST00000456328.2</td>\n",
       "      <td>lncRNA</td>\n",
       "      <td>DDX11L1-202</td>\n",
       "      <td>1</td>\n",
       "      <td>basic</td>\n",
       "      <td>OTTHUMT00000362751.1</td>\n",
       "      <td>3</td>\n",
       "      <td>ENSE00002312635.1</td>\n",
       "      <td></td>\n",
       "      <td></td>\n",
       "      <td></td>\n",
       "    </tr>\n",
       "  </tbody>\n",
       "</table>\n",
       "</div>"
      ],
      "text/plain": [
       "  seqname  source     feature  start    end  score strand frame            gene_id                           gene_type gene_name level     hgnc_id           havana_gene      transcript_id transcript_type transcript_name transcript_support_level    tag     havana_transcript exon_number            exon_id ont protein_id ccdsid\n",
       "0    chr1  HAVANA        gene  11869  14409    NaN      +     0  ENSG00000223972.5  transcribed_unprocessed_pseudogene   DDX11L1     2  HGNC:37102  OTTHUMG00000000961.2                                                                                                                                                              \n",
       "1    chr1  HAVANA  transcript  11869  14409    NaN      +     0  ENSG00000223972.5  transcribed_unprocessed_pseudogene   DDX11L1     2  HGNC:37102  OTTHUMG00000000961.2  ENST00000456328.2          lncRNA     DDX11L1-202                        1  basic  OTTHUMT00000362751.1                                                     \n",
       "2    chr1  HAVANA        exon  11869  12227    NaN      +     0  ENSG00000223972.5  transcribed_unprocessed_pseudogene   DDX11L1     2  HGNC:37102  OTTHUMG00000000961.2  ENST00000456328.2          lncRNA     DDX11L1-202                        1  basic  OTTHUMT00000362751.1           1  ENSE00002234944.1                      \n",
       "3    chr1  HAVANA        exon  12613  12721    NaN      +     0  ENSG00000223972.5  transcribed_unprocessed_pseudogene   DDX11L1     2  HGNC:37102  OTTHUMG00000000961.2  ENST00000456328.2          lncRNA     DDX11L1-202                        1  basic  OTTHUMT00000362751.1           2  ENSE00003582793.1                      \n",
       "4    chr1  HAVANA        exon  13221  14409    NaN      +     0  ENSG00000223972.5  transcribed_unprocessed_pseudogene   DDX11L1     2  HGNC:37102  OTTHUMG00000000961.2  ENST00000456328.2          lncRNA     DDX11L1-202                        1  basic  OTTHUMT00000362751.1           3  ENSE00002312635.1                      "
      ]
     },
     "execution_count": 268,
     "metadata": {},
     "output_type": "execute_result"
    }
   ],
   "source": [
    "gtf.head()"
   ]
  },
  {
   "cell_type": "code",
   "execution_count": 263,
   "metadata": {
    "ExecuteTime": {
     "end_time": "2019-08-05T12:57:52.578016Z",
     "start_time": "2019-08-05T12:57:52.425967Z"
    }
   },
   "outputs": [
    {
     "data": {
      "text/plain": [
       "array(['gene', 'transcript', 'exon', 'CDS', 'start_codon', 'stop_codon',\n",
       "       'UTR', 'Selenocysteine'], dtype=object)"
      ]
     },
     "execution_count": 263,
     "metadata": {},
     "output_type": "execute_result"
    }
   ],
   "source": [
    "gtf.feature.unique()"
   ]
  },
  {
   "cell_type": "code",
   "execution_count": 270,
   "metadata": {
    "ExecuteTime": {
     "end_time": "2019-08-05T19:01:52.684051Z",
     "start_time": "2019-08-05T19:01:52.212663Z"
    }
   },
   "outputs": [],
   "source": [
    "MT_genes = list(gtf[(gtf.feature=='gene') & (gtf.seqname=='chrM')].gene_name)"
   ]
  },
  {
   "cell_type": "code",
   "execution_count": 357,
   "metadata": {
    "ExecuteTime": {
     "end_time": "2019-08-06T00:04:40.706545Z",
     "start_time": "2019-08-06T00:04:38.866558Z"
    }
   },
   "outputs": [],
   "source": [
    "exons = gtf[gtf.feature == 'exon'][['seqname', 'start', 'end', 'exon_id', 'gene_id', 'strand']].drop_duplicates()"
   ]
  },
  {
   "cell_type": "code",
   "execution_count": 358,
   "metadata": {
    "ExecuteTime": {
     "end_time": "2019-08-06T00:04:41.050893Z",
     "start_time": "2019-08-06T00:04:40.709581Z"
    }
   },
   "outputs": [],
   "source": [
    "genes = gtf[gtf.feature == 'gene'][['seqname', 'start', 'end', 'gene_id', 'score', 'strand']].drop_duplicates()"
   ]
  },
  {
   "cell_type": "code",
   "execution_count": 368,
   "metadata": {
    "ExecuteTime": {
     "end_time": "2019-08-06T00:38:01.477649Z",
     "start_time": "2019-08-06T00:37:57.996106Z"
    }
   },
   "outputs": [],
   "source": [
    "exons[['seqname','start','end','exon_id']].to_csv('exons.bed', sep='\\t', header=False, index=False)\n",
    "#genes[['seqname','start','end','gene_id']].to_csv('genes.bed', sep='\\t', header=False, index=False)"
   ]
  },
  {
   "cell_type": "code",
   "execution_count": 359,
   "metadata": {
    "ExecuteTime": {
     "end_time": "2019-08-06T00:04:45.158406Z",
     "start_time": "2019-08-06T00:04:45.138743Z"
    }
   },
   "outputs": [
    {
     "data": {
      "text/html": [
       "<div>\n",
       "<style scoped>\n",
       "    .dataframe tbody tr th:only-of-type {\n",
       "        vertical-align: middle;\n",
       "    }\n",
       "\n",
       "    .dataframe tbody tr th {\n",
       "        vertical-align: top;\n",
       "    }\n",
       "\n",
       "    .dataframe thead th {\n",
       "        text-align: right;\n",
       "    }\n",
       "</style>\n",
       "<table border=\"1\" class=\"dataframe\">\n",
       "  <thead>\n",
       "    <tr style=\"text-align: right;\">\n",
       "      <th></th>\n",
       "      <th>seqname</th>\n",
       "      <th>start</th>\n",
       "      <th>end</th>\n",
       "      <th>exon_id</th>\n",
       "      <th>gene_id</th>\n",
       "      <th>strand</th>\n",
       "    </tr>\n",
       "  </thead>\n",
       "  <tbody>\n",
       "    <tr>\n",
       "      <th>2</th>\n",
       "      <td>chr1</td>\n",
       "      <td>11869</td>\n",
       "      <td>12227</td>\n",
       "      <td>ENSE00002234944.1</td>\n",
       "      <td>ENSG00000223972.5</td>\n",
       "      <td>+</td>\n",
       "    </tr>\n",
       "    <tr>\n",
       "      <th>3</th>\n",
       "      <td>chr1</td>\n",
       "      <td>12613</td>\n",
       "      <td>12721</td>\n",
       "      <td>ENSE00003582793.1</td>\n",
       "      <td>ENSG00000223972.5</td>\n",
       "      <td>+</td>\n",
       "    </tr>\n",
       "    <tr>\n",
       "      <th>4</th>\n",
       "      <td>chr1</td>\n",
       "      <td>13221</td>\n",
       "      <td>14409</td>\n",
       "      <td>ENSE00002312635.1</td>\n",
       "      <td>ENSG00000223972.5</td>\n",
       "      <td>+</td>\n",
       "    </tr>\n",
       "    <tr>\n",
       "      <th>6</th>\n",
       "      <td>chr1</td>\n",
       "      <td>12010</td>\n",
       "      <td>12057</td>\n",
       "      <td>ENSE00001948541.1</td>\n",
       "      <td>ENSG00000223972.5</td>\n",
       "      <td>+</td>\n",
       "    </tr>\n",
       "    <tr>\n",
       "      <th>7</th>\n",
       "      <td>chr1</td>\n",
       "      <td>12179</td>\n",
       "      <td>12227</td>\n",
       "      <td>ENSE00001671638.2</td>\n",
       "      <td>ENSG00000223972.5</td>\n",
       "      <td>+</td>\n",
       "    </tr>\n",
       "  </tbody>\n",
       "</table>\n",
       "</div>"
      ],
      "text/plain": [
       "  seqname  start    end            exon_id            gene_id strand\n",
       "2    chr1  11869  12227  ENSE00002234944.1  ENSG00000223972.5      +\n",
       "3    chr1  12613  12721  ENSE00003582793.1  ENSG00000223972.5      +\n",
       "4    chr1  13221  14409  ENSE00002312635.1  ENSG00000223972.5      +\n",
       "6    chr1  12010  12057  ENSE00001948541.1  ENSG00000223972.5      +\n",
       "7    chr1  12179  12227  ENSE00001671638.2  ENSG00000223972.5      +"
      ]
     },
     "execution_count": 359,
     "metadata": {},
     "output_type": "execute_result"
    },
    {
     "data": {
      "text/html": [
       "<div>\n",
       "<style scoped>\n",
       "    .dataframe tbody tr th:only-of-type {\n",
       "        vertical-align: middle;\n",
       "    }\n",
       "\n",
       "    .dataframe tbody tr th {\n",
       "        vertical-align: top;\n",
       "    }\n",
       "\n",
       "    .dataframe thead th {\n",
       "        text-align: right;\n",
       "    }\n",
       "</style>\n",
       "<table border=\"1\" class=\"dataframe\">\n",
       "  <thead>\n",
       "    <tr style=\"text-align: right;\">\n",
       "      <th></th>\n",
       "      <th>seqname</th>\n",
       "      <th>start</th>\n",
       "      <th>end</th>\n",
       "      <th>gene_id</th>\n",
       "      <th>score</th>\n",
       "      <th>strand</th>\n",
       "    </tr>\n",
       "  </thead>\n",
       "  <tbody>\n",
       "    <tr>\n",
       "      <th>0</th>\n",
       "      <td>chr1</td>\n",
       "      <td>11869</td>\n",
       "      <td>14409</td>\n",
       "      <td>ENSG00000223972.5</td>\n",
       "      <td>NaN</td>\n",
       "      <td>+</td>\n",
       "    </tr>\n",
       "    <tr>\n",
       "      <th>12</th>\n",
       "      <td>chr1</td>\n",
       "      <td>14404</td>\n",
       "      <td>29570</td>\n",
       "      <td>ENSG00000227232.5</td>\n",
       "      <td>NaN</td>\n",
       "      <td>-</td>\n",
       "    </tr>\n",
       "    <tr>\n",
       "      <th>25</th>\n",
       "      <td>chr1</td>\n",
       "      <td>17369</td>\n",
       "      <td>17436</td>\n",
       "      <td>ENSG00000278267.1</td>\n",
       "      <td>NaN</td>\n",
       "      <td>-</td>\n",
       "    </tr>\n",
       "    <tr>\n",
       "      <th>28</th>\n",
       "      <td>chr1</td>\n",
       "      <td>29554</td>\n",
       "      <td>31109</td>\n",
       "      <td>ENSG00000243485.5</td>\n",
       "      <td>NaN</td>\n",
       "      <td>+</td>\n",
       "    </tr>\n",
       "    <tr>\n",
       "      <th>36</th>\n",
       "      <td>chr1</td>\n",
       "      <td>30366</td>\n",
       "      <td>30503</td>\n",
       "      <td>ENSG00000284332.1</td>\n",
       "      <td>NaN</td>\n",
       "      <td>+</td>\n",
       "    </tr>\n",
       "  </tbody>\n",
       "</table>\n",
       "</div>"
      ],
      "text/plain": [
       "   seqname  start    end            gene_id  score strand\n",
       "0     chr1  11869  14409  ENSG00000223972.5    NaN      +\n",
       "12    chr1  14404  29570  ENSG00000227232.5    NaN      -\n",
       "25    chr1  17369  17436  ENSG00000278267.1    NaN      -\n",
       "28    chr1  29554  31109  ENSG00000243485.5    NaN      +\n",
       "36    chr1  30366  30503  ENSG00000284332.1    NaN      +"
      ]
     },
     "execution_count": 359,
     "metadata": {},
     "output_type": "execute_result"
    }
   ],
   "source": [
    "exons.head()\n",
    "genes.head()"
   ]
  },
  {
   "cell_type": "code",
   "execution_count": 362,
   "metadata": {
    "ExecuteTime": {
     "end_time": "2019-08-06T00:05:11.074817Z",
     "start_time": "2019-08-06T00:05:11.062993Z"
    }
   },
   "outputs": [
    {
     "data": {
      "text/html": [
       "<div>\n",
       "<style scoped>\n",
       "    .dataframe tbody tr th:only-of-type {\n",
       "        vertical-align: middle;\n",
       "    }\n",
       "\n",
       "    .dataframe tbody tr th {\n",
       "        vertical-align: top;\n",
       "    }\n",
       "\n",
       "    .dataframe thead th {\n",
       "        text-align: right;\n",
       "    }\n",
       "</style>\n",
       "<table border=\"1\" class=\"dataframe\">\n",
       "  <thead>\n",
       "    <tr style=\"text-align: right;\">\n",
       "      <th></th>\n",
       "      <th>seqname</th>\n",
       "      <th>start</th>\n",
       "      <th>end</th>\n",
       "      <th>gene_id</th>\n",
       "      <th>score</th>\n",
       "      <th>strand</th>\n",
       "      <th>size</th>\n",
       "    </tr>\n",
       "  </thead>\n",
       "  <tbody>\n",
       "    <tr>\n",
       "      <th>0</th>\n",
       "      <td>chr1</td>\n",
       "      <td>11869</td>\n",
       "      <td>14409</td>\n",
       "      <td>ENSG00000223972.5</td>\n",
       "      <td>NaN</td>\n",
       "      <td>+</td>\n",
       "      <td>2540</td>\n",
       "    </tr>\n",
       "    <tr>\n",
       "      <th>12</th>\n",
       "      <td>chr1</td>\n",
       "      <td>14404</td>\n",
       "      <td>29570</td>\n",
       "      <td>ENSG00000227232.5</td>\n",
       "      <td>NaN</td>\n",
       "      <td>-</td>\n",
       "      <td>15166</td>\n",
       "    </tr>\n",
       "    <tr>\n",
       "      <th>25</th>\n",
       "      <td>chr1</td>\n",
       "      <td>17369</td>\n",
       "      <td>17436</td>\n",
       "      <td>ENSG00000278267.1</td>\n",
       "      <td>NaN</td>\n",
       "      <td>-</td>\n",
       "      <td>67</td>\n",
       "    </tr>\n",
       "    <tr>\n",
       "      <th>28</th>\n",
       "      <td>chr1</td>\n",
       "      <td>29554</td>\n",
       "      <td>31109</td>\n",
       "      <td>ENSG00000243485.5</td>\n",
       "      <td>NaN</td>\n",
       "      <td>+</td>\n",
       "      <td>1555</td>\n",
       "    </tr>\n",
       "    <tr>\n",
       "      <th>36</th>\n",
       "      <td>chr1</td>\n",
       "      <td>30366</td>\n",
       "      <td>30503</td>\n",
       "      <td>ENSG00000284332.1</td>\n",
       "      <td>NaN</td>\n",
       "      <td>+</td>\n",
       "      <td>137</td>\n",
       "    </tr>\n",
       "  </tbody>\n",
       "</table>\n",
       "</div>"
      ],
      "text/plain": [
       "   seqname  start    end            gene_id  score strand   size\n",
       "0     chr1  11869  14409  ENSG00000223972.5    NaN      +   2540\n",
       "12    chr1  14404  29570  ENSG00000227232.5    NaN      -  15166\n",
       "25    chr1  17369  17436  ENSG00000278267.1    NaN      -     67\n",
       "28    chr1  29554  31109  ENSG00000243485.5    NaN      +   1555\n",
       "36    chr1  30366  30503  ENSG00000284332.1    NaN      +    137"
      ]
     },
     "execution_count": 362,
     "metadata": {},
     "output_type": "execute_result"
    }
   ],
   "source": [
    "genes.head()"
   ]
  },
  {
   "cell_type": "code",
   "execution_count": 361,
   "metadata": {
    "ExecuteTime": {
     "end_time": "2019-08-06T00:05:09.580651Z",
     "start_time": "2019-08-06T00:05:09.575812Z"
    }
   },
   "outputs": [],
   "source": [
    "genes['size'] = genes.end - genes.start"
   ]
  },
  {
   "cell_type": "code",
   "execution_count": 367,
   "metadata": {
    "ExecuteTime": {
     "end_time": "2019-08-06T00:31:52.242371Z",
     "start_time": "2019-08-06T00:31:52.035771Z"
    }
   },
   "outputs": [],
   "source": [
    "genes[['gene_id', 'size']].to_csv('hg38_gene_size.txt', sep='\\t', header=False, index=False)"
   ]
  },
  {
   "cell_type": "code",
   "execution_count": 365,
   "metadata": {
    "ExecuteTime": {
     "end_time": "2019-08-06T00:05:59.546540Z",
     "start_time": "2019-08-06T00:05:59.495868Z"
    }
   },
   "outputs": [
    {
     "data": {
      "text/plain": [
       "array(['GL000009.2', 'GL000194.1', 'GL000195.1', 'GL000205.2',\n",
       "       'GL000213.1', 'GL000216.2', 'GL000218.1', 'GL000219.1',\n",
       "       'GL000220.1', 'GL000225.1', 'KI270442.1', 'KI270711.1',\n",
       "       'KI270713.1', 'KI270721.1', 'KI270726.1', 'KI270727.1',\n",
       "       'KI270728.1', 'KI270731.1', 'KI270733.1', 'KI270734.1',\n",
       "       'KI270744.1', 'KI270750.1', 'chr1', 'chr10', 'chr11', 'chr12',\n",
       "       'chr13', 'chr14', 'chr15', 'chr16', 'chr17', 'chr18', 'chr19',\n",
       "       'chr2', 'chr20', 'chr21', 'chr22', 'chr3', 'chr4', 'chr5', 'chr6',\n",
       "       'chr7', 'chr8', 'chr9', 'chrM', 'chrX', 'chrY'], dtype=object)"
      ]
     },
     "execution_count": 365,
     "metadata": {},
     "output_type": "execute_result"
    }
   ],
   "source": [
    "genes['seqname'].sort_values().unique()"
   ]
  },
  {
   "cell_type": "code",
   "execution_count": 5,
   "metadata": {
    "ExecuteTime": {
     "end_time": "2019-08-09T14:53:50.222996Z",
     "start_time": "2019-08-09T14:53:50.204492Z"
    }
   },
   "outputs": [
    {
     "name": "stderr",
     "output_type": "stream",
     "text": [
      "R[write to console]: Installing package into ‘/gpfs/commons/home/cdai/R/x86_64-redhat-linux-gnu-library/3.4’\n",
      "(as ‘lib’ is unspecified)\n",
      "\n",
      "R[write to console]: Error in contrib.url(repos, type) : \n",
      "  trying to use CRAN without setting a mirror\n",
      "Calls: <Anonymous> ... withVisible -> install.packages -> grep -> contrib.url\n",
      "\n"
     ]
    },
    {
     "name": "stdout",
     "output_type": "stream",
     "text": [
      "\n",
      "Error in contrib.url(repos, type) : \n",
      "  trying to use CRAN without setting a mirror\n",
      "Calls: <Anonymous> ... withVisible -> install.packages -> grep -> contrib.url\n"
     ]
    }
   ],
   "source": [
    "%%R\n",
    "install.packages('ggplot2')"
   ]
  },
  {
   "cell_type": "code",
   "execution_count": null,
   "metadata": {},
   "outputs": [],
   "source": []
  },
  {
   "cell_type": "markdown",
   "metadata": {},
   "source": [
    "fastq extraction"
   ]
  },
  {
   "cell_type": "code",
   "execution_count": 3,
   "metadata": {
    "ExecuteTime": {
     "end_time": "2019-08-25T15:06:07.406550Z",
     "start_time": "2019-08-25T15:06:07.400231Z"
    }
   },
   "outputs": [],
   "source": [
    "os.chdir('/c/groups/sanjana_lab/cdai/TFscreen/data/20190816/original_fastq/')"
   ]
  },
  {
   "cell_type": "code",
   "execution_count": 4,
   "metadata": {
    "ExecuteTime": {
     "end_time": "2019-08-25T15:06:13.903615Z",
     "start_time": "2019-08-25T15:06:13.691504Z"
    }
   },
   "outputs": [
    {
     "name": "stdout",
     "output_type": "stream",
     "text": [
      "toy.fastq\r\n"
     ]
    }
   ],
   "source": [
    "ls *.fastq"
   ]
  },
  {
   "cell_type": "code",
   "execution_count": 122,
   "metadata": {
    "ExecuteTime": {
     "end_time": "2019-08-25T16:19:40.243923Z",
     "start_time": "2019-08-25T16:19:40.241323Z"
    }
   },
   "outputs": [],
   "source": [
    "import sys"
   ]
  },
  {
   "cell_type": "code",
   "execution_count": 129,
   "metadata": {
    "ExecuteTime": {
     "end_time": "2019-08-25T16:45:18.028014Z",
     "start_time": "2019-08-25T16:45:18.022306Z"
    }
   },
   "outputs": [],
   "source": [
    "with open('Undetermined_fastq/barcodes_to_remove.txt') as f_barcodes: # firt argument for the file of barcode removal list\n",
    "    barcodes = f_barcodes.readlines()\n",
    "    barcodes = [s.strip() for s in barcodes]"
   ]
  },
  {
   "cell_type": "code",
   "execution_count": 130,
   "metadata": {
    "ExecuteTime": {
     "end_time": "2019-08-25T16:45:25.930172Z",
     "start_time": "2019-08-25T16:45:25.925794Z"
    }
   },
   "outputs": [
    {
     "data": {
      "text/plain": [
       "['GGGGGGGG+AGATCTCG', 'GGGGGGGG+NGATCTCG', 'GGGGGGGG+GGGGGGGG']"
      ]
     },
     "execution_count": 130,
     "metadata": {},
     "output_type": "execute_result"
    }
   ],
   "source": [
    "barcodes"
   ]
  },
  {
   "cell_type": "code",
   "execution_count": 139,
   "metadata": {
    "ExecuteTime": {
     "end_time": "2019-08-25T17:16:08.349625Z",
     "start_time": "2019-08-25T17:16:08.344539Z"
    }
   },
   "outputs": [
    {
     "name": "stdout",
     "output_type": "stream",
     "text": [
      "Overwriting Undetermined_fastq/extractSeq.sh\n"
     ]
    }
   ],
   "source": [
    "%%file Undetermined_fastq/extractSeq.sh\n",
    "#!/bin/bash\n",
    "\n",
    "barcode=$1\n",
    "inFASTQ=$2\n",
    "outFASTQ=$3\n",
    "\n",
    "module remove python\n",
    "module load python/3.7.1\n",
    "\n",
    "echo \"Started at $(date)\" &>> log\n",
    "echo \"python xfastq.py $barcode $inFASTQ $outFASTQ\" $>> log\n",
    "python xfastq.py $barcode $inFASTQ $outFASTQ\n",
    "echo \"Ended at $(date)\" &>> log"
   ]
  },
  {
   "cell_type": "code",
   "execution_count": null,
   "metadata": {
    "ExecuteTime": {
     "end_time": "2019-08-25T17:53:54.379534Z",
     "start_time": "2019-08-25T17:53:54.373971Z"
    }
   },
   "outputs": [],
   "source": [
    "# %load Undetermined_fastq/xfastq.py\n",
    "\n",
    "# Chao Dai\n",
    "# remove fastq sequences\n",
    "# How to: python xfastq.py [barcode to remove list file] [input fastq] [output fastq]\n",
    "\n",
    "import sys\n",
    "\n",
    "print(\"python {} {} {} {}\".format(sys.argv[0], sys.argv[1], sys.argv[2], sys.argv[3]))\n",
    "\n",
    "with open(sys.argv[1]) as f_barcodes: # firt argument for the file of barcode removal list\n",
    "    barcodes = f_barcodes.readlines()\n",
    "    barcodes = [s.strip() for s in barcodes] # remove hidden characters\n",
    "\n",
    "outFile = open(sys.argv[3], 'w') # output file\n",
    "outFile.truncate()\n",
    "\n",
    "with open(sys.argv[2]) as fq: # input fastq file\n",
    "    line = fq.readline()\n",
    "    cnt = 1\n",
    "    while line:\n",
    "        if cnt % 4 == 1:\n",
    "            barcode = line.strip()[-17:]\n",
    "            L1 = line.strip()\n",
    "            if barcode not in barcodes:\n",
    "                _ = outFile.write(\"{}\\n\".format(L1))\n",
    "        if cnt % 4 == 2 and barcode not in barcodes:\n",
    "            L2 = line.strip()\n",
    "            _ = outFile.write(\"{}\\n\".format(L2))\n",
    "        if cnt % 4 == 3 and barcode not in barcodes:\n",
    "            L3 = line.strip()\n",
    "            _ = outFile.write(\"{}\\n\".format(L3))\n",
    "        if cnt % 4 == 0 and barcode not in barcodes:\n",
    "            L4 = line.strip()\n",
    "            _ = outFile.write(\"{}\\n\".format(L4))\n",
    "        \n",
    "        line = fq.readline()\n",
    "        cnt +=1\n",
    "\n",
    "outFile.close()"
   ]
  },
  {
   "cell_type": "code",
   "execution_count": 149,
   "metadata": {
    "ExecuteTime": {
     "end_time": "2019-08-25T18:00:02.539741Z",
     "start_time": "2019-08-25T18:00:02.534387Z"
    }
   },
   "outputs": [
    {
     "name": "stdout",
     "output_type": "stream",
     "text": [
      "Writing Undetermined_fastq/removePolyG.py\n"
     ]
    }
   ],
   "source": [
    "%%file Undetermined_fastq/removePolyG.py\n",
    "# Chao Dai\n",
    "# remove fastq sequences that have GGGGGGGG in barcode (in readname)\n",
    "# How to: python removePolyG.py [input fastq] [output fastq]\n",
    "\n",
    "import sys\n",
    "\n",
    "print(\"python {} {} {}\".format(sys.argv[0], sys.argv[1], sys.argv[2]))\n",
    "\n",
    "outFile = open(sys.argv[2], 'w') # output file\n",
    "outFile.truncate()\n",
    "\n",
    "with open(sys.argv[1]) as fq: # input fastq file\n",
    "    line = fq.readline()\n",
    "    cnt = 1\n",
    "    while line:\n",
    "        if cnt % 4 == 1:\n",
    "            barcode = line.strip()[-17:]\n",
    "            L1 = line.strip()\n",
    "            if 'GGGGGGGG' not in barcode:\n",
    "                _ = outFile.write(\"{}\\n\".format(L1))\n",
    "        if cnt % 4 == 2 and 'GGGGGGGG' not in barcode:\n",
    "            L2 = line.strip()\n",
    "            _ = outFile.write(\"{}\\n\".format(L2))\n",
    "        if cnt % 4 == 3 and 'GGGGGGGG' not in barcode:\n",
    "            L3 = line.strip()\n",
    "            _ = outFile.write(\"{}\\n\".format(L3))\n",
    "        if cnt % 4 == 0 and 'GGGGGGGG' not in barcode:\n",
    "            L4 = line.strip()\n",
    "            _ = outFile.write(\"{}\\n\".format(L4))\n",
    "        \n",
    "        line = fq.readline()\n",
    "        cnt +=1\n",
    "\n",
    "outFile.close()"
   ]
  },
  {
   "cell_type": "code",
   "execution_count": 147,
   "metadata": {
    "ExecuteTime": {
     "end_time": "2019-08-25T17:58:33.848860Z",
     "start_time": "2019-08-25T17:58:33.844783Z"
    }
   },
   "outputs": [
    {
     "data": {
      "text/plain": [
       "True"
      ]
     },
     "execution_count": 147,
     "metadata": {},
     "output_type": "execute_result"
    }
   ],
   "source": [
    "\n",
    "'GGGGGGGG' in 'agcekajd+GGGGGGGG'"
   ]
  },
  {
   "cell_type": "code",
   "execution_count": null,
   "metadata": {},
   "outputs": [],
   "source": []
  }
 ],
 "metadata": {
  "kernelspec": {
   "display_name": "Python 3",
   "language": "python",
   "name": "python3"
  },
  "language_info": {
   "codemirror_mode": {
    "name": "ipython",
    "version": 3
   },
   "file_extension": ".py",
   "mimetype": "text/x-python",
   "name": "python",
   "nbconvert_exporter": "python",
   "pygments_lexer": "ipython3",
   "version": "3.7.0"
  },
  "toc": {
   "base_numbering": 1,
   "nav_menu": {},
   "number_sections": true,
   "sideBar": true,
   "skip_h1_title": false,
   "title_cell": "Table of Contents",
   "title_sidebar": "Contents",
   "toc_cell": false,
   "toc_position": {},
   "toc_section_display": true,
   "toc_window_display": false
  }
 },
 "nbformat": 4,
 "nbformat_minor": 2
}
