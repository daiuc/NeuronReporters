{
 "cells": [
  {
   "cell_type": "code",
   "execution_count": 1,
   "metadata": {
    "ExecuteTime": {
     "end_time": "2019-09-17T02:15:50.661046Z",
     "start_time": "2019-09-17T02:15:50.627Z"
    }
   },
   "outputs": [],
   "source": [
    "library(repr)\n",
    "options(repr.plot.width=14, repr.plot.height=12)"
   ]
  },
  {
   "cell_type": "code",
   "execution_count": 109,
   "metadata": {
    "ExecuteTime": {
     "end_time": "2019-10-28T21:30:01.402010Z",
     "start_time": "2019-10-28T21:29:56.949Z"
    }
   },
   "outputs": [],
   "source": [
    "suppressMessages(library(tidyverse))\n",
    "suppressMessages(library(data.table))\n",
    "suppressMessages(library(GenomicRanges))"
   ]
  },
  {
   "cell_type": "code",
   "execution_count": 58,
   "metadata": {
    "ExecuteTime": {
     "end_time": "2019-10-28T21:30:24.879154Z",
     "start_time": "2019-10-28T21:30:22.899Z"
    }
   },
   "outputs": [],
   "source": [
    "base_url = '/gpfs/commons/groups/sanjana_lab/cdai/TFscreen/'"
   ]
  },
  {
   "cell_type": "code",
   "execution_count": 59,
   "metadata": {
    "ExecuteTime": {
     "end_time": "2019-10-28T21:30:25.657925Z",
     "start_time": "2019-10-28T21:30:23.885Z"
    }
   },
   "outputs": [
    {
     "data": {
      "text/html": [
       "'rsem_counts_B1B2_combined.csv'"
      ],
      "text/latex": [
       "'rsem\\_counts\\_B1B2\\_combined.csv'"
      ],
      "text/markdown": [
       "'rsem_counts_B1B2_combined.csv'"
      ],
      "text/plain": [
       "[1] \"rsem_counts_B1B2_combined.csv\""
      ]
     },
     "metadata": {},
     "output_type": "display_data"
    }
   ],
   "source": [
    "list.files(base_url, 'rsem')"
   ]
  },
  {
   "cell_type": "code",
   "execution_count": 60,
   "metadata": {},
   "outputs": [],
   "source": [
    "# read in counts\n",
    "cnts <- fread(file = paste0(base_url, '/rsem_counts_B1B2_combined.csv'))"
   ]
  },
  {
   "cell_type": "code",
   "execution_count": 61,
   "metadata": {},
   "outputs": [],
   "source": [
    "# remove some gene_ids\n",
    "remove_gene_ids <- fread(paste0(base_url, \"/RNAseq_remove_gene_id_list.txt\"), header = F) %>% pull(V1)\n",
    "cnts <- cnts[!gene_id %in% remove_gene_ids]"
   ]
  },
  {
   "cell_type": "code",
   "execution_count": 62,
   "metadata": {},
   "outputs": [
    {
     "data": {
      "text/html": [
       "<style>\n",
       ".list-inline {list-style: none; margin:0; padding: 0}\n",
       ".list-inline>li {display: inline-block}\n",
       ".list-inline>li:not(:last-child)::after {content: \"\\00b7\"; padding: 0 .5ex}\n",
       "</style>\n",
       "<ol class=list-inline><li>58762</li><li>46</li></ol>\n"
      ],
      "text/latex": [
       "\\begin{enumerate*}\n",
       "\\item 58762\n",
       "\\item 46\n",
       "\\end{enumerate*}\n"
      ],
      "text/markdown": [
       "1. 58762\n",
       "2. 46\n",
       "\n",
       "\n"
      ],
      "text/plain": [
       "[1] 58762    46"
      ]
     },
     "metadata": {},
     "output_type": "display_data"
    }
   ],
   "source": [
    "cnts %>% dim"
   ]
  },
  {
   "cell_type": "code",
   "execution_count": 63,
   "metadata": {
    "ExecuteTime": {
     "end_time": "2019-10-28T21:30:31.553286Z",
     "start_time": "2019-10-28T21:30:27.050Z"
    }
   },
   "outputs": [
    {
     "data": {
      "text/html": [
       "<table class=\"dataframe\">\n",
       "<caption>A data.table: 6 × 46</caption>\n",
       "<thead>\n",
       "\t<tr><th scope=col>gene_id</th><th scope=col>gene_name</th><th scope=col>S01_B1</th><th scope=col>S01_B2</th><th scope=col>S02_B1</th><th scope=col>S02_B2</th><th scope=col>S03_B1</th><th scope=col>S03_B2</th><th scope=col>S04_B1</th><th scope=col>S04_B2</th><th scope=col>⋯</th><th scope=col>S18_B1</th><th scope=col>S18_B2</th><th scope=col>S19_B1</th><th scope=col>S19_B2</th><th scope=col>S20_B1</th><th scope=col>S20_B2</th><th scope=col>S21_B1</th><th scope=col>S21_B2</th><th scope=col>S22_B1</th><th scope=col>S22_B2</th></tr>\n",
       "\t<tr><th scope=col>&lt;chr&gt;</th><th scope=col>&lt;chr&gt;</th><th scope=col>&lt;dbl&gt;</th><th scope=col>&lt;dbl&gt;</th><th scope=col>&lt;dbl&gt;</th><th scope=col>&lt;dbl&gt;</th><th scope=col>&lt;dbl&gt;</th><th scope=col>&lt;dbl&gt;</th><th scope=col>&lt;dbl&gt;</th><th scope=col>&lt;dbl&gt;</th><th scope=col>⋯</th><th scope=col>&lt;dbl&gt;</th><th scope=col>&lt;dbl&gt;</th><th scope=col>&lt;dbl&gt;</th><th scope=col>&lt;dbl&gt;</th><th scope=col>&lt;dbl&gt;</th><th scope=col>&lt;dbl&gt;</th><th scope=col>&lt;dbl&gt;</th><th scope=col>&lt;dbl&gt;</th><th scope=col>&lt;dbl&gt;</th><th scope=col>&lt;dbl&gt;</th></tr>\n",
       "</thead>\n",
       "<tbody>\n",
       "\t<tr><td>ENSG00000000003.14</td><td>TSPAN6  </td><td>817.0001</td><td>966.0001</td><td>789.0001</td><td>1226.0001</td><td>757.0001</td><td>723.0001</td><td>991.0001</td><td>1400.0001</td><td>⋯</td><td>1262.0001</td><td>2215.0001</td><td>1604.0001</td><td>2076.0001</td><td>1064.0001</td><td>2301.0001</td><td>175.0001</td><td>457.0001</td><td>294.0001</td><td>584.0001</td></tr>\n",
       "\t<tr><td>ENSG00000000005.6 </td><td>TNMD    </td><td> 19.0001</td><td>  0.0001</td><td>  0.0001</td><td>  11.0001</td><td> 11.0001</td><td> 14.0001</td><td>  1.0001</td><td>  11.0001</td><td>⋯</td><td>   0.0001</td><td>   2.0001</td><td>   0.0001</td><td>   0.0001</td><td>   0.0001</td><td>   1.0001</td><td>  0.0001</td><td>  0.0001</td><td>  0.0001</td><td>  0.0001</td></tr>\n",
       "\t<tr><td>ENSG00000000419.12</td><td>DPM1    </td><td>762.0001</td><td>731.0001</td><td>746.0001</td><td> 908.0001</td><td>809.0001</td><td>644.0001</td><td>516.0001</td><td>1264.0001</td><td>⋯</td><td> 853.0001</td><td> 901.0001</td><td> 797.0001</td><td> 791.0001</td><td> 345.0001</td><td>1147.0001</td><td>378.0001</td><td>400.0001</td><td>255.0001</td><td>567.0001</td></tr>\n",
       "\t<tr><td>ENSG00000000457.14</td><td>SCYL3   </td><td> 20.5201</td><td> 67.4201</td><td> 49.0501</td><td>  70.2001</td><td> 28.5701</td><td> 27.2601</td><td> 56.7901</td><td>  14.3201</td><td>⋯</td><td>   0.0001</td><td>  58.1201</td><td> 129.1501</td><td>  46.1601</td><td>  82.9401</td><td>  80.7301</td><td> 46.0801</td><td> 31.0001</td><td>111.0001</td><td>124.8201</td></tr>\n",
       "\t<tr><td>ENSG00000000460.17</td><td>C1orf112</td><td>114.4801</td><td>211.6401</td><td>160.9501</td><td> 266.8001</td><td>153.4301</td><td>145.7401</td><td>101.2101</td><td> 253.6701</td><td>⋯</td><td> 146.0001</td><td> 165.8801</td><td> 114.8501</td><td> 187.8401</td><td> 118.0601</td><td> 126.2701</td><td> 54.9201</td><td>  0.0001</td><td>  0.0001</td><td>  1.1801</td></tr>\n",
       "\t<tr><td>ENSG00000000938.13</td><td>FGR     </td><td>  0.0001</td><td>  0.0001</td><td>  0.0001</td><td>   0.0001</td><td>  0.0001</td><td>  0.0001</td><td>  0.0001</td><td>   0.0001</td><td>⋯</td><td>   0.0001</td><td>   0.0001</td><td>   0.0001</td><td>   0.0001</td><td>   0.0001</td><td>   2.0001</td><td>  0.0001</td><td>  0.0001</td><td>  0.0001</td><td>  0.0001</td></tr>\n",
       "</tbody>\n",
       "</table>\n"
      ],
      "text/latex": [
       "A data.table: 6 × 46\n",
       "\\begin{tabular}{lllllllllllllllllllll}\n",
       " gene\\_id & gene\\_name & S01\\_B1 & S01\\_B2 & S02\\_B1 & S02\\_B2 & S03\\_B1 & S03\\_B2 & S04\\_B1 & S04\\_B2 & ⋯ & S18\\_B1 & S18\\_B2 & S19\\_B1 & S19\\_B2 & S20\\_B1 & S20\\_B2 & S21\\_B1 & S21\\_B2 & S22\\_B1 & S22\\_B2\\\\\n",
       " <chr> & <chr> & <dbl> & <dbl> & <dbl> & <dbl> & <dbl> & <dbl> & <dbl> & <dbl> & ⋯ & <dbl> & <dbl> & <dbl> & <dbl> & <dbl> & <dbl> & <dbl> & <dbl> & <dbl> & <dbl>\\\\\n",
       "\\hline\n",
       "\t ENSG00000000003.14 & TSPAN6   & 817.0001 & 966.0001 & 789.0001 & 1226.0001 & 757.0001 & 723.0001 & 991.0001 & 1400.0001 & ⋯ & 1262.0001 & 2215.0001 & 1604.0001 & 2076.0001 & 1064.0001 & 2301.0001 & 175.0001 & 457.0001 & 294.0001 & 584.0001\\\\\n",
       "\t ENSG00000000005.6  & TNMD     &  19.0001 &   0.0001 &   0.0001 &   11.0001 &  11.0001 &  14.0001 &   1.0001 &   11.0001 & ⋯ &    0.0001 &    2.0001 &    0.0001 &    0.0001 &    0.0001 &    1.0001 &   0.0001 &   0.0001 &   0.0001 &   0.0001\\\\\n",
       "\t ENSG00000000419.12 & DPM1     & 762.0001 & 731.0001 & 746.0001 &  908.0001 & 809.0001 & 644.0001 & 516.0001 & 1264.0001 & ⋯ &  853.0001 &  901.0001 &  797.0001 &  791.0001 &  345.0001 & 1147.0001 & 378.0001 & 400.0001 & 255.0001 & 567.0001\\\\\n",
       "\t ENSG00000000457.14 & SCYL3    &  20.5201 &  67.4201 &  49.0501 &   70.2001 &  28.5701 &  27.2601 &  56.7901 &   14.3201 & ⋯ &    0.0001 &   58.1201 &  129.1501 &   46.1601 &   82.9401 &   80.7301 &  46.0801 &  31.0001 & 111.0001 & 124.8201\\\\\n",
       "\t ENSG00000000460.17 & C1orf112 & 114.4801 & 211.6401 & 160.9501 &  266.8001 & 153.4301 & 145.7401 & 101.2101 &  253.6701 & ⋯ &  146.0001 &  165.8801 &  114.8501 &  187.8401 &  118.0601 &  126.2701 &  54.9201 &   0.0001 &   0.0001 &   1.1801\\\\\n",
       "\t ENSG00000000938.13 & FGR      &   0.0001 &   0.0001 &   0.0001 &    0.0001 &   0.0001 &   0.0001 &   0.0001 &    0.0001 & ⋯ &    0.0001 &    0.0001 &    0.0001 &    0.0001 &    0.0001 &    2.0001 &   0.0001 &   0.0001 &   0.0001 &   0.0001\\\\\n",
       "\\end{tabular}\n"
      ],
      "text/markdown": [
       "\n",
       "A data.table: 6 × 46\n",
       "\n",
       "| gene_id &lt;chr&gt; | gene_name &lt;chr&gt; | S01_B1 &lt;dbl&gt; | S01_B2 &lt;dbl&gt; | S02_B1 &lt;dbl&gt; | S02_B2 &lt;dbl&gt; | S03_B1 &lt;dbl&gt; | S03_B2 &lt;dbl&gt; | S04_B1 &lt;dbl&gt; | S04_B2 &lt;dbl&gt; | ⋯ ⋯ | S18_B1 &lt;dbl&gt; | S18_B2 &lt;dbl&gt; | S19_B1 &lt;dbl&gt; | S19_B2 &lt;dbl&gt; | S20_B1 &lt;dbl&gt; | S20_B2 &lt;dbl&gt; | S21_B1 &lt;dbl&gt; | S21_B2 &lt;dbl&gt; | S22_B1 &lt;dbl&gt; | S22_B2 &lt;dbl&gt; |\n",
       "|---|---|---|---|---|---|---|---|---|---|---|---|---|---|---|---|---|---|---|---|---|\n",
       "| ENSG00000000003.14 | TSPAN6   | 817.0001 | 966.0001 | 789.0001 | 1226.0001 | 757.0001 | 723.0001 | 991.0001 | 1400.0001 | ⋯ | 1262.0001 | 2215.0001 | 1604.0001 | 2076.0001 | 1064.0001 | 2301.0001 | 175.0001 | 457.0001 | 294.0001 | 584.0001 |\n",
       "| ENSG00000000005.6  | TNMD     |  19.0001 |   0.0001 |   0.0001 |   11.0001 |  11.0001 |  14.0001 |   1.0001 |   11.0001 | ⋯ |    0.0001 |    2.0001 |    0.0001 |    0.0001 |    0.0001 |    1.0001 |   0.0001 |   0.0001 |   0.0001 |   0.0001 |\n",
       "| ENSG00000000419.12 | DPM1     | 762.0001 | 731.0001 | 746.0001 |  908.0001 | 809.0001 | 644.0001 | 516.0001 | 1264.0001 | ⋯ |  853.0001 |  901.0001 |  797.0001 |  791.0001 |  345.0001 | 1147.0001 | 378.0001 | 400.0001 | 255.0001 | 567.0001 |\n",
       "| ENSG00000000457.14 | SCYL3    |  20.5201 |  67.4201 |  49.0501 |   70.2001 |  28.5701 |  27.2601 |  56.7901 |   14.3201 | ⋯ |    0.0001 |   58.1201 |  129.1501 |   46.1601 |   82.9401 |   80.7301 |  46.0801 |  31.0001 | 111.0001 | 124.8201 |\n",
       "| ENSG00000000460.17 | C1orf112 | 114.4801 | 211.6401 | 160.9501 |  266.8001 | 153.4301 | 145.7401 | 101.2101 |  253.6701 | ⋯ |  146.0001 |  165.8801 |  114.8501 |  187.8401 |  118.0601 |  126.2701 |  54.9201 |   0.0001 |   0.0001 |   1.1801 |\n",
       "| ENSG00000000938.13 | FGR      |   0.0001 |   0.0001 |   0.0001 |    0.0001 |   0.0001 |   0.0001 |   0.0001 |    0.0001 | ⋯ |    0.0001 |    0.0001 |    0.0001 |    0.0001 |    0.0001 |    2.0001 |   0.0001 |   0.0001 |   0.0001 |   0.0001 |\n",
       "\n"
      ],
      "text/plain": [
       "  gene_id            gene_name S01_B1   S01_B2   S02_B1   S02_B2    S03_B1  \n",
       "1 ENSG00000000003.14 TSPAN6    817.0001 966.0001 789.0001 1226.0001 757.0001\n",
       "2 ENSG00000000005.6  TNMD       19.0001   0.0001   0.0001   11.0001  11.0001\n",
       "3 ENSG00000000419.12 DPM1      762.0001 731.0001 746.0001  908.0001 809.0001\n",
       "4 ENSG00000000457.14 SCYL3      20.5201  67.4201  49.0501   70.2001  28.5701\n",
       "5 ENSG00000000460.17 C1orf112  114.4801 211.6401 160.9501  266.8001 153.4301\n",
       "6 ENSG00000000938.13 FGR         0.0001   0.0001   0.0001    0.0001   0.0001\n",
       "  S03_B2   S04_B1   S04_B2    ⋯ S18_B1    S18_B2    S19_B1    S19_B2   \n",
       "1 723.0001 991.0001 1400.0001 ⋯ 1262.0001 2215.0001 1604.0001 2076.0001\n",
       "2  14.0001   1.0001   11.0001 ⋯    0.0001    2.0001    0.0001    0.0001\n",
       "3 644.0001 516.0001 1264.0001 ⋯  853.0001  901.0001  797.0001  791.0001\n",
       "4  27.2601  56.7901   14.3201 ⋯    0.0001   58.1201  129.1501   46.1601\n",
       "5 145.7401 101.2101  253.6701 ⋯  146.0001  165.8801  114.8501  187.8401\n",
       "6   0.0001   0.0001    0.0001 ⋯    0.0001    0.0001    0.0001    0.0001\n",
       "  S20_B1    S20_B2    S21_B1   S21_B2   S22_B1   S22_B2  \n",
       "1 1064.0001 2301.0001 175.0001 457.0001 294.0001 584.0001\n",
       "2    0.0001    1.0001   0.0001   0.0001   0.0001   0.0001\n",
       "3  345.0001 1147.0001 378.0001 400.0001 255.0001 567.0001\n",
       "4   82.9401   80.7301  46.0801  31.0001 111.0001 124.8201\n",
       "5  118.0601  126.2701  54.9201   0.0001   0.0001   1.1801\n",
       "6    0.0001    2.0001   0.0001   0.0001   0.0001   0.0001"
      ]
     },
     "metadata": {},
     "output_type": "display_data"
    }
   ],
   "source": [
    "cnts %>% head"
   ]
  },
  {
   "cell_type": "code",
   "execution_count": 64,
   "metadata": {},
   "outputs": [],
   "source": [
    "cols1 = names(cnts)[str_detect(names(cnts), \"^S.+_B.$\")]"
   ]
  },
  {
   "cell_type": "code",
   "execution_count": 65,
   "metadata": {},
   "outputs": [],
   "source": [
    "cnts = cnts[, c(list(gene_id = gene_id, gene_name = gene_name),\n",
    "         lapply(.SD, as.integer)),\n",
    "     .SDcols = cols1]"
   ]
  },
  {
   "cell_type": "code",
   "execution_count": 66,
   "metadata": {},
   "outputs": [
    {
     "data": {
      "text/html": [
       "<table class=\"dataframe\">\n",
       "<caption>A data.table: 6 × 46</caption>\n",
       "<thead>\n",
       "\t<tr><th scope=col>gene_id</th><th scope=col>gene_name</th><th scope=col>S01_B1</th><th scope=col>S01_B2</th><th scope=col>S02_B1</th><th scope=col>S02_B2</th><th scope=col>S03_B1</th><th scope=col>S03_B2</th><th scope=col>S04_B1</th><th scope=col>S04_B2</th><th scope=col>⋯</th><th scope=col>S18_B1</th><th scope=col>S18_B2</th><th scope=col>S19_B1</th><th scope=col>S19_B2</th><th scope=col>S20_B1</th><th scope=col>S20_B2</th><th scope=col>S21_B1</th><th scope=col>S21_B2</th><th scope=col>S22_B1</th><th scope=col>S22_B2</th></tr>\n",
       "\t<tr><th scope=col>&lt;chr&gt;</th><th scope=col>&lt;chr&gt;</th><th scope=col>&lt;int&gt;</th><th scope=col>&lt;int&gt;</th><th scope=col>&lt;int&gt;</th><th scope=col>&lt;int&gt;</th><th scope=col>&lt;int&gt;</th><th scope=col>&lt;int&gt;</th><th scope=col>&lt;int&gt;</th><th scope=col>&lt;int&gt;</th><th scope=col>⋯</th><th scope=col>&lt;int&gt;</th><th scope=col>&lt;int&gt;</th><th scope=col>&lt;int&gt;</th><th scope=col>&lt;int&gt;</th><th scope=col>&lt;int&gt;</th><th scope=col>&lt;int&gt;</th><th scope=col>&lt;int&gt;</th><th scope=col>&lt;int&gt;</th><th scope=col>&lt;int&gt;</th><th scope=col>&lt;int&gt;</th></tr>\n",
       "</thead>\n",
       "<tbody>\n",
       "\t<tr><td>ENSG00000000003.14</td><td>TSPAN6  </td><td>817</td><td>966</td><td>789</td><td>1226</td><td>757</td><td>723</td><td>991</td><td>1400</td><td>⋯</td><td>1262</td><td>2215</td><td>1604</td><td>2076</td><td>1064</td><td>2301</td><td>175</td><td>457</td><td>294</td><td>584</td></tr>\n",
       "\t<tr><td>ENSG00000000005.6 </td><td>TNMD    </td><td> 19</td><td>  0</td><td>  0</td><td>  11</td><td> 11</td><td> 14</td><td>  1</td><td>  11</td><td>⋯</td><td>   0</td><td>   2</td><td>   0</td><td>   0</td><td>   0</td><td>   1</td><td>  0</td><td>  0</td><td>  0</td><td>  0</td></tr>\n",
       "\t<tr><td>ENSG00000000419.12</td><td>DPM1    </td><td>762</td><td>731</td><td>746</td><td> 908</td><td>809</td><td>644</td><td>516</td><td>1264</td><td>⋯</td><td> 853</td><td> 901</td><td> 797</td><td> 791</td><td> 345</td><td>1147</td><td>378</td><td>400</td><td>255</td><td>567</td></tr>\n",
       "\t<tr><td>ENSG00000000457.14</td><td>SCYL3   </td><td> 20</td><td> 67</td><td> 49</td><td>  70</td><td> 28</td><td> 27</td><td> 56</td><td>  14</td><td>⋯</td><td>   0</td><td>  58</td><td> 129</td><td>  46</td><td>  82</td><td>  80</td><td> 46</td><td> 31</td><td>111</td><td>124</td></tr>\n",
       "\t<tr><td>ENSG00000000460.17</td><td>C1orf112</td><td>114</td><td>211</td><td>160</td><td> 266</td><td>153</td><td>145</td><td>101</td><td> 253</td><td>⋯</td><td> 146</td><td> 165</td><td> 114</td><td> 187</td><td> 118</td><td> 126</td><td> 54</td><td>  0</td><td>  0</td><td>  1</td></tr>\n",
       "\t<tr><td>ENSG00000000938.13</td><td>FGR     </td><td>  0</td><td>  0</td><td>  0</td><td>   0</td><td>  0</td><td>  0</td><td>  0</td><td>   0</td><td>⋯</td><td>   0</td><td>   0</td><td>   0</td><td>   0</td><td>   0</td><td>   2</td><td>  0</td><td>  0</td><td>  0</td><td>  0</td></tr>\n",
       "</tbody>\n",
       "</table>\n"
      ],
      "text/latex": [
       "A data.table: 6 × 46\n",
       "\\begin{tabular}{lllllllllllllllllllll}\n",
       " gene\\_id & gene\\_name & S01\\_B1 & S01\\_B2 & S02\\_B1 & S02\\_B2 & S03\\_B1 & S03\\_B2 & S04\\_B1 & S04\\_B2 & ⋯ & S18\\_B1 & S18\\_B2 & S19\\_B1 & S19\\_B2 & S20\\_B1 & S20\\_B2 & S21\\_B1 & S21\\_B2 & S22\\_B1 & S22\\_B2\\\\\n",
       " <chr> & <chr> & <int> & <int> & <int> & <int> & <int> & <int> & <int> & <int> & ⋯ & <int> & <int> & <int> & <int> & <int> & <int> & <int> & <int> & <int> & <int>\\\\\n",
       "\\hline\n",
       "\t ENSG00000000003.14 & TSPAN6   & 817 & 966 & 789 & 1226 & 757 & 723 & 991 & 1400 & ⋯ & 1262 & 2215 & 1604 & 2076 & 1064 & 2301 & 175 & 457 & 294 & 584\\\\\n",
       "\t ENSG00000000005.6  & TNMD     &  19 &   0 &   0 &   11 &  11 &  14 &   1 &   11 & ⋯ &    0 &    2 &    0 &    0 &    0 &    1 &   0 &   0 &   0 &   0\\\\\n",
       "\t ENSG00000000419.12 & DPM1     & 762 & 731 & 746 &  908 & 809 & 644 & 516 & 1264 & ⋯ &  853 &  901 &  797 &  791 &  345 & 1147 & 378 & 400 & 255 & 567\\\\\n",
       "\t ENSG00000000457.14 & SCYL3    &  20 &  67 &  49 &   70 &  28 &  27 &  56 &   14 & ⋯ &    0 &   58 &  129 &   46 &   82 &   80 &  46 &  31 & 111 & 124\\\\\n",
       "\t ENSG00000000460.17 & C1orf112 & 114 & 211 & 160 &  266 & 153 & 145 & 101 &  253 & ⋯ &  146 &  165 &  114 &  187 &  118 &  126 &  54 &   0 &   0 &   1\\\\\n",
       "\t ENSG00000000938.13 & FGR      &   0 &   0 &   0 &    0 &   0 &   0 &   0 &    0 & ⋯ &    0 &    0 &    0 &    0 &    0 &    2 &   0 &   0 &   0 &   0\\\\\n",
       "\\end{tabular}\n"
      ],
      "text/markdown": [
       "\n",
       "A data.table: 6 × 46\n",
       "\n",
       "| gene_id &lt;chr&gt; | gene_name &lt;chr&gt; | S01_B1 &lt;int&gt; | S01_B2 &lt;int&gt; | S02_B1 &lt;int&gt; | S02_B2 &lt;int&gt; | S03_B1 &lt;int&gt; | S03_B2 &lt;int&gt; | S04_B1 &lt;int&gt; | S04_B2 &lt;int&gt; | ⋯ ⋯ | S18_B1 &lt;int&gt; | S18_B2 &lt;int&gt; | S19_B1 &lt;int&gt; | S19_B2 &lt;int&gt; | S20_B1 &lt;int&gt; | S20_B2 &lt;int&gt; | S21_B1 &lt;int&gt; | S21_B2 &lt;int&gt; | S22_B1 &lt;int&gt; | S22_B2 &lt;int&gt; |\n",
       "|---|---|---|---|---|---|---|---|---|---|---|---|---|---|---|---|---|---|---|---|---|\n",
       "| ENSG00000000003.14 | TSPAN6   | 817 | 966 | 789 | 1226 | 757 | 723 | 991 | 1400 | ⋯ | 1262 | 2215 | 1604 | 2076 | 1064 | 2301 | 175 | 457 | 294 | 584 |\n",
       "| ENSG00000000005.6  | TNMD     |  19 |   0 |   0 |   11 |  11 |  14 |   1 |   11 | ⋯ |    0 |    2 |    0 |    0 |    0 |    1 |   0 |   0 |   0 |   0 |\n",
       "| ENSG00000000419.12 | DPM1     | 762 | 731 | 746 |  908 | 809 | 644 | 516 | 1264 | ⋯ |  853 |  901 |  797 |  791 |  345 | 1147 | 378 | 400 | 255 | 567 |\n",
       "| ENSG00000000457.14 | SCYL3    |  20 |  67 |  49 |   70 |  28 |  27 |  56 |   14 | ⋯ |    0 |   58 |  129 |   46 |   82 |   80 |  46 |  31 | 111 | 124 |\n",
       "| ENSG00000000460.17 | C1orf112 | 114 | 211 | 160 |  266 | 153 | 145 | 101 |  253 | ⋯ |  146 |  165 |  114 |  187 |  118 |  126 |  54 |   0 |   0 |   1 |\n",
       "| ENSG00000000938.13 | FGR      |   0 |   0 |   0 |    0 |   0 |   0 |   0 |    0 | ⋯ |    0 |    0 |    0 |    0 |    0 |    2 |   0 |   0 |   0 |   0 |\n",
       "\n"
      ],
      "text/plain": [
       "  gene_id            gene_name S01_B1 S01_B2 S02_B1 S02_B2 S03_B1 S03_B2 S04_B1\n",
       "1 ENSG00000000003.14 TSPAN6    817    966    789    1226   757    723    991   \n",
       "2 ENSG00000000005.6  TNMD       19      0      0      11    11     14      1   \n",
       "3 ENSG00000000419.12 DPM1      762    731    746     908   809    644    516   \n",
       "4 ENSG00000000457.14 SCYL3      20     67     49      70    28     27     56   \n",
       "5 ENSG00000000460.17 C1orf112  114    211    160     266   153    145    101   \n",
       "6 ENSG00000000938.13 FGR         0      0      0       0     0      0      0   \n",
       "  S04_B2 ⋯ S18_B1 S18_B2 S19_B1 S19_B2 S20_B1 S20_B2 S21_B1 S21_B2 S22_B1\n",
       "1 1400   ⋯ 1262   2215   1604   2076   1064   2301   175    457    294   \n",
       "2   11   ⋯    0      2      0      0      0      1     0      0      0   \n",
       "3 1264   ⋯  853    901    797    791    345   1147   378    400    255   \n",
       "4   14   ⋯    0     58    129     46     82     80    46     31    111   \n",
       "5  253   ⋯  146    165    114    187    118    126    54      0      0   \n",
       "6    0   ⋯    0      0      0      0      0      2     0      0      0   \n",
       "  S22_B2\n",
       "1 584   \n",
       "2   0   \n",
       "3 567   \n",
       "4 124   \n",
       "5   1   \n",
       "6   0   "
      ]
     },
     "metadata": {},
     "output_type": "display_data"
    }
   ],
   "source": [
    "cnts %>% head"
   ]
  },
  {
   "cell_type": "code",
   "execution_count": 67,
   "metadata": {
    "ExecuteTime": {
     "end_time": "2019-10-28T21:30:38.633667Z",
     "start_time": "2019-10-28T21:30:36.861Z"
    }
   },
   "outputs": [],
   "source": [
    "all.sample.annotation <- fread(paste0(base_url, '/RNASeqSampleNames.csv'))"
   ]
  },
  {
   "cell_type": "code",
   "execution_count": 68,
   "metadata": {
    "ExecuteTime": {
     "end_time": "2019-10-28T21:30:39.439991Z",
     "start_time": "2019-10-28T21:30:37.664Z"
    }
   },
   "outputs": [
    {
     "data": {
      "text/html": [
       "<table class=\"dataframe\">\n",
       "<caption>A data.table: 6 × 3</caption>\n",
       "<thead>\n",
       "\t<tr><th scope=col>sample</th><th scope=col>condition</th><th scope=col>group</th></tr>\n",
       "\t<tr><th scope=col>&lt;chr&gt;</th><th scope=col>&lt;chr&gt;</th><th scope=col>&lt;chr&gt;</th></tr>\n",
       "</thead>\n",
       "<tbody>\n",
       "\t<tr><td>S01_B1</td><td>WT.ES  </td><td>ES   </td></tr>\n",
       "\t<tr><td>S01_B2</td><td>WT.ES  </td><td>ES   </td></tr>\n",
       "\t<tr><td>S02_B1</td><td>WT.ES  </td><td>ES   </td></tr>\n",
       "\t<tr><td>S02_B2</td><td>WT.ES  </td><td>ES   </td></tr>\n",
       "\t<tr><td>S03_B1</td><td>K108.ES</td><td>KO.ES</td></tr>\n",
       "\t<tr><td>S03_B2</td><td>K108.ES</td><td>KO.ES</td></tr>\n",
       "</tbody>\n",
       "</table>\n"
      ],
      "text/latex": [
       "A data.table: 6 × 3\n",
       "\\begin{tabular}{lll}\n",
       " sample & condition & group\\\\\n",
       " <chr> & <chr> & <chr>\\\\\n",
       "\\hline\n",
       "\t S01\\_B1 & WT.ES   & ES   \\\\\n",
       "\t S01\\_B2 & WT.ES   & ES   \\\\\n",
       "\t S02\\_B1 & WT.ES   & ES   \\\\\n",
       "\t S02\\_B2 & WT.ES   & ES   \\\\\n",
       "\t S03\\_B1 & K108.ES & KO.ES\\\\\n",
       "\t S03\\_B2 & K108.ES & KO.ES\\\\\n",
       "\\end{tabular}\n"
      ],
      "text/markdown": [
       "\n",
       "A data.table: 6 × 3\n",
       "\n",
       "| sample &lt;chr&gt; | condition &lt;chr&gt; | group &lt;chr&gt; |\n",
       "|---|---|---|\n",
       "| S01_B1 | WT.ES   | ES    |\n",
       "| S01_B2 | WT.ES   | ES    |\n",
       "| S02_B1 | WT.ES   | ES    |\n",
       "| S02_B2 | WT.ES   | ES    |\n",
       "| S03_B1 | K108.ES | KO.ES |\n",
       "| S03_B2 | K108.ES | KO.ES |\n",
       "\n"
      ],
      "text/plain": [
       "  sample condition group\n",
       "1 S01_B1 WT.ES     ES   \n",
       "2 S01_B2 WT.ES     ES   \n",
       "3 S02_B1 WT.ES     ES   \n",
       "4 S02_B2 WT.ES     ES   \n",
       "5 S03_B1 K108.ES   KO.ES\n",
       "6 S03_B2 K108.ES   KO.ES"
      ]
     },
     "metadata": {},
     "output_type": "display_data"
    }
   ],
   "source": [
    "all.sample.annotation %>% head"
   ]
  },
  {
   "cell_type": "code",
   "execution_count": 74,
   "metadata": {
    "ExecuteTime": {
     "end_time": "2019-10-28T21:30:54.649921Z",
     "start_time": "2019-10-28T21:30:52.862Z"
    }
   },
   "outputs": [],
   "source": [
    "cols2 = all.sample.annotation[!str_detect(group, \"KO\")]$sample"
   ]
  },
  {
   "cell_type": "code",
   "execution_count": 85,
   "metadata": {},
   "outputs": [],
   "source": [
    "mx = cnts[, ..cols2]\n"
   ]
  },
  {
   "cell_type": "code",
   "execution_count": 91,
   "metadata": {},
   "outputs": [
    {
     "data": {
      "text/html": [
       "<style>\n",
       ".list-inline {list-style: none; margin:0; padding: 0}\n",
       ".list-inline>li {display: inline-block}\n",
       ".list-inline>li:not(:last-child)::after {content: \"\\00b7\"; padding: 0 .5ex}\n",
       "</style>\n",
       "<ol class=list-inline><li>0.1</li><li>0.2</li><li>0.3</li><li>0.4</li></ol>\n"
      ],
      "text/latex": [
       "\\begin{enumerate*}\n",
       "\\item 0.1\n",
       "\\item 0.2\n",
       "\\item 0.3\n",
       "\\item 0.4\n",
       "\\end{enumerate*}\n"
      ],
      "text/markdown": [
       "1. 0.1\n",
       "2. 0.2\n",
       "3. 0.3\n",
       "4. 0.4\n",
       "\n",
       "\n"
      ],
      "text/plain": [
       "[1] 0.1 0.2 0.3 0.4"
      ]
     },
     "metadata": {},
     "output_type": "display_data"
    }
   ],
   "source": [
    "x = c(1, 2, 3, 4)\n",
    "x/sum(x)"
   ]
  },
  {
   "cell_type": "code",
   "execution_count": 95,
   "metadata": {},
   "outputs": [],
   "source": [
    "cnts2 = cnts[, c(list(gene_id = gene_id, gene_name = gene_name),\n",
    "    lapply(.SD, function(x) 1e6*x/sum(x))\n",
    "), .SDcols = cols2]"
   ]
  },
  {
   "cell_type": "code",
   "execution_count": 99,
   "metadata": {},
   "outputs": [],
   "source": [
    "row_means = cnts2[, ..cols2] %>% rowMeans\n",
    "row_means = cnts2[, .(gene_id, gene_name, mean_rpm = row_means)]"
   ]
  },
  {
   "cell_type": "code",
   "execution_count": 113,
   "metadata": {},
   "outputs": [],
   "source": [
    "top_5k_genes = row_means[order(-mean_rpm)][1:5000, gene_name]"
   ]
  },
  {
   "cell_type": "code",
   "execution_count": 136,
   "metadata": {},
   "outputs": [],
   "source": [
    "top_5k_tss_region = fread('../../resources/annotations/hs38/gencode_v31_protein_tss_u1k_d1k.bed')\n",
    "top_5k_tss_region = top_5k_tss_region[V4 %in% top_5k_genes]"
   ]
  },
  {
   "cell_type": "code",
   "execution_count": 138,
   "metadata": {},
   "outputs": [],
   "source": [
    "fwrite(top_5k_tss_region, sep = '\\t', col.names = F, \n",
    "       file = \"../../results/reviews/top5k_byRNA_proteincoding_tss_u1k_d1k.bed\", \n",
    "       )"
   ]
  },
  {
   "cell_type": "code",
   "execution_count": null,
   "metadata": {},
   "outputs": [],
   "source": []
  }
 ],
 "metadata": {
  "kernelspec": {
   "display_name": "R 4.1.0",
   "language": "R",
   "name": "r41"
  },
  "language_info": {
   "codemirror_mode": "r",
   "file_extension": ".r",
   "mimetype": "text/x-r-source",
   "name": "R",
   "pygments_lexer": "r",
   "version": "4.1.0"
  },
  "toc": {
   "base_numbering": 1,
   "nav_menu": {},
   "number_sections": true,
   "sideBar": true,
   "skip_h1_title": false,
   "title_cell": "Table of Contents",
   "title_sidebar": "Contents",
   "toc_cell": false,
   "toc_position": {},
   "toc_section_display": true,
   "toc_window_display": false
  }
 },
 "nbformat": 4,
 "nbformat_minor": 4
}
