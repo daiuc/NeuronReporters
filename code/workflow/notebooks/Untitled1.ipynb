{
 "cells": [
  {
   "cell_type": "code",
   "execution_count": 1,
   "id": "aa95aa18-1316-4130-9373-d7ed7cde4381",
   "metadata": {},
   "outputs": [],
   "source": [
    "import glob"
   ]
  },
  {
   "cell_type": "code",
   "execution_count": 2,
   "id": "b2904a1c-fe86-4886-9407-219770798357",
   "metadata": {},
   "outputs": [],
   "source": [
    "import os"
   ]
  },
  {
   "cell_type": "code",
   "execution_count": 5,
   "id": "c43238d7-3670-45ab-b7a1-07051e80dda8",
   "metadata": {},
   "outputs": [],
   "source": [
    "os.chdir('../../')"
   ]
  },
  {
   "cell_type": "code",
   "execution_count": 6,
   "id": "8bfd358e-b675-42ce-9f28-a01e9ee6cd1f",
   "metadata": {},
   "outputs": [
    {
     "data": {
      "text/plain": [
       "'/gpfs/commons/groups/sanjana_lab/cdai/NeuronReporters/code'"
      ]
     },
     "execution_count": 6,
     "metadata": {},
     "output_type": "execute_result"
    }
   ],
   "source": [
    "os.getcwd()"
   ]
  },
  {
   "cell_type": "code",
   "execution_count": 11,
   "id": "65b127f6-ead0-42e8-a781-50abf6352846",
   "metadata": {},
   "outputs": [
    {
     "data": {
      "text/plain": [
       "['SRR8660358.fastq.gz']"
      ]
     },
     "execution_count": 11,
     "metadata": {},
     "output_type": "execute_result"
    }
   ],
   "source": [
    "glob.glob1('resources/ChIP/ZEB1', '*fastq.gz')"
   ]
  },
  {
   "cell_type": "code",
   "execution_count": 10,
   "id": "e47e279b-75f5-4868-8bae-d9a9cad006dd",
   "metadata": {},
   "outputs": [
    {
     "data": {
      "text/plain": [
       "'resources/ChIP/ZEB1'"
      ]
     },
     "execution_count": 10,
     "metadata": {},
     "output_type": "execute_result"
    }
   ],
   "source": [
    "'resources/ChIP/' + 'ZEB1'"
   ]
  },
  {
   "cell_type": "code",
   "execution_count": null,
   "id": "6ecdd40a-bf5e-4022-ba54-67c2a9b56c45",
   "metadata": {},
   "outputs": [],
   "source": []
  }
 ],
 "metadata": {
  "kernelspec": {
   "display_name": "Python 3 (ipykernel)",
   "language": "python",
   "name": "python3"
  },
  "language_info": {
   "codemirror_mode": {
    "name": "ipython",
    "version": 3
   },
   "file_extension": ".py",
   "mimetype": "text/x-python",
   "name": "python",
   "nbconvert_exporter": "python",
   "pygments_lexer": "ipython3",
   "version": "3.9.7"
  }
 },
 "nbformat": 4,
 "nbformat_minor": 5
}
