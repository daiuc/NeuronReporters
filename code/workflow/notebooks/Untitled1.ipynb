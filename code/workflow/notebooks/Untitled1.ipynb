{
 "cells": [
  {
   "cell_type": "code",
   "execution_count": 1,
   "id": "df52a1d8-5ce2-4ddf-95a1-103881c0731e",
   "metadata": {},
   "outputs": [],
   "source": [
    "import pandas as pd"
   ]
  },
  {
   "cell_type": "code",
   "execution_count": 2,
   "id": "b649af43-bd95-4085-88a4-af6d96775406",
   "metadata": {},
   "outputs": [],
   "source": [
    "import seaborn"
   ]
  },
  {
   "cell_type": "code",
   "execution_count": 3,
   "id": "73ce6415-de9b-4095-9312-4e2a76a7e213",
   "metadata": {},
   "outputs": [],
   "source": [
    "import numpy"
   ]
  },
  {
   "cell_type": "code",
   "execution_count": 4,
   "id": "447987e0-522b-4db6-8a0c-238f8869a34c",
   "metadata": {},
   "outputs": [],
   "source": [
    "import igv"
   ]
  },
  {
   "cell_type": "code",
   "execution_count": 1,
   "id": "7607b876-72d2-4de9-a454-c8f30c3b91df",
   "metadata": {},
   "outputs": [
    {
     "name": "stderr",
     "output_type": "stream",
     "text": [
      "── \u001b[1mAttaching packages\u001b[22m ─────────────────────────────────────── tidyverse 1.3.0 ──\n",
      "\n",
      "\u001b[32m✔\u001b[39m \u001b[34mggplot2\u001b[39m 3.3.5     \u001b[32m✔\u001b[39m \u001b[34mpurrr  \u001b[39m 0.3.4\n",
      "\u001b[32m✔\u001b[39m \u001b[34mtibble \u001b[39m 3.1.3     \u001b[32m✔\u001b[39m \u001b[34mdplyr  \u001b[39m 1.0.7\n",
      "\u001b[32m✔\u001b[39m \u001b[34mtidyr  \u001b[39m 1.1.3     \u001b[32m✔\u001b[39m \u001b[34mstringr\u001b[39m 1.4.0\n",
      "\u001b[32m✔\u001b[39m \u001b[34mreadr  \u001b[39m 2.0.0     \u001b[32m✔\u001b[39m \u001b[34mforcats\u001b[39m 0.5.1\n",
      "\n",
      "── \u001b[1mConflicts\u001b[22m ────────────────────────────────────────── tidyverse_conflicts() ──\n",
      "\u001b[31m✖\u001b[39m \u001b[34mdplyr\u001b[39m::\u001b[32mfilter()\u001b[39m masks \u001b[34mstats\u001b[39m::filter()\n",
      "\u001b[31m✖\u001b[39m \u001b[34mdplyr\u001b[39m::\u001b[32mlag()\u001b[39m    masks \u001b[34mstats\u001b[39m::lag()\n",
      "\n"
     ]
    }
   ],
   "source": [
    "library(tidyverse)"
   ]
  },
  {
   "cell_type": "code",
   "execution_count": 2,
   "id": "f3427a71-7bdd-4cac-8624-f6143b7b813c",
   "metadata": {
    "execution": {
     "iopub.execute_input": "2022-01-16T19:28:18.571319Z",
     "iopub.status.busy": "2022-01-16T19:28:18.500203Z",
     "iopub.status.idle": "2022-01-16T19:28:18.594119Z",
     "shell.execute_reply": "2022-01-16T19:28:18.591076Z"
    }
   },
   "outputs": [
    {
     "data": {
      "text/html": [
       "'/gpfs/commons/home/cdai/miniconda3/envs/nb/lib/R/library'"
      ],
      "text/latex": [
       "'/gpfs/commons/home/cdai/miniconda3/envs/nb/lib/R/library'"
      ],
      "text/markdown": [
       "'/gpfs/commons/home/cdai/miniconda3/envs/nb/lib/R/library'"
      ],
      "text/plain": [
       "[1] \"/gpfs/commons/home/cdai/miniconda3/envs/nb/lib/R/library\""
      ]
     },
     "metadata": {},
     "output_type": "display_data"
    }
   ],
   "source": [
    ".libPaths()"
   ]
  },
  {
   "cell_type": "code",
   "execution_count": 3,
   "id": "dc2b2da9-59a8-446b-a1f2-59860031cde3",
   "metadata": {
    "execution": {
     "iopub.execute_input": "2022-01-16T19:28:20.090035Z",
     "iopub.status.busy": "2022-01-16T19:28:20.087120Z",
     "iopub.status.idle": "2022-01-16T19:28:20.115964Z",
     "shell.execute_reply": "2022-01-16T19:28:20.113207Z"
    }
   },
   "outputs": [
    {
     "ename": "ERROR",
     "evalue": "Error in library(\"\"): invalid package name\n",
     "output_type": "error",
     "traceback": [
      "Error in library(\"\"): invalid package name\nTraceback:\n",
      "1. library(\"\")",
      "2. stop(\"invalid package name\")"
     ]
    }
   ],
   "source": [
    "library('')"
   ]
  },
  {
   "cell_type": "code",
   "execution_count": 1,
   "id": "64ac542a-71c8-4120-bd5b-0f176e5d39dc",
   "metadata": {
    "execution": {
     "iopub.execute_input": "2022-01-16T19:30:05.085028Z",
     "iopub.status.busy": "2022-01-16T19:30:05.084608Z",
     "iopub.status.idle": "2022-01-16T19:30:05.094769Z",
     "shell.execute_reply": "2022-01-16T19:30:05.094052Z",
     "shell.execute_reply.started": "2022-01-16T19:30:05.084937Z"
    },
    "tags": []
   },
   "outputs": [],
   "source": [
    "%timeit\n"
   ]
  },
  {
   "cell_type": "code",
   "execution_count": 5,
   "id": "d577e7f0-4587-4615-9c3a-889123225d93",
   "metadata": {
    "execution": {
     "iopub.execute_input": "2022-01-16T19:29:52.213783Z",
     "iopub.status.busy": "2022-01-16T19:29:52.211752Z",
     "iopub.status.idle": "2022-01-16T19:29:52.226925Z",
     "shell.execute_reply": "2022-01-16T19:29:52.224797Z"
    }
   },
   "outputs": [
    {
     "ename": "ERROR",
     "evalue": "Error in parse(text = x, srcfile = src): <text>:1:1: unexpected input\n1: %path\n    ^\n",
     "output_type": "error",
     "traceback": [
      "Error in parse(text = x, srcfile = src): <text>:1:1: unexpected input\n1: %path\n    ^\nTraceback:\n"
     ]
    }
   ],
   "source": [
    "%path"
   ]
  },
  {
   "cell_type": "code",
   "execution_count": null,
   "id": "818e85a6-8e7f-49af-bd99-a20018bf2b89",
   "metadata": {},
   "outputs": [],
   "source": []
  }
 ],
 "metadata": {
  "kernelspec": {
   "display_name": "Python 3 (conda -n nb)",
   "language": "python",
   "name": "python3"
  },
  "language_info": {
   "codemirror_mode": {
    "name": "ipython",
    "version": 3
   },
   "file_extension": ".py",
   "mimetype": "text/x-python",
   "name": "python",
   "nbconvert_exporter": "python",
   "pygments_lexer": "ipython3",
   "version": "3.9.6"
  }
 },
 "nbformat": 4,
 "nbformat_minor": 5
}
