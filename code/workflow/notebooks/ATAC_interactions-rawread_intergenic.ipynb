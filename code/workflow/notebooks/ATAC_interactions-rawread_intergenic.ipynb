{
 "cells": [
  {
   "cell_type": "markdown",
   "metadata": {},
   "source": [
    "# Use ChromVAR analyze varability of chromatin accessibility"
   ]
  },
  {
   "cell_type": "code",
   "execution_count": 1,
   "metadata": {
    "ExecuteTime": {
     "end_time": "2019-11-17T17:29:10.006928Z",
     "start_time": "2019-11-17T17:29:08.419Z"
    }
   },
   "outputs": [],
   "source": [
    "library(repr)\n",
    "options(repr.plot.width=4, repr.plot.height=3)"
   ]
  },
  {
   "cell_type": "code",
   "execution_count": 2,
   "metadata": {
    "ExecuteTime": {
     "end_time": "2019-12-18T23:30:36.590800Z",
     "start_time": "2019-12-18T23:30:09.238Z"
    }
   },
   "outputs": [
    {
     "name": "stderr",
     "output_type": "stream",
     "text": [
      "── \u001b[1mAttaching packages\u001b[22m ─────────────────────────────────────────────────────────────────────────────────────────────────────────────────── tidyverse 1.3.2 ──\n",
      "\u001b[32m✔\u001b[39m \u001b[34mggplot2\u001b[39m 3.3.6     \u001b[32m✔\u001b[39m \u001b[34mpurrr  \u001b[39m 0.3.4\n",
      "\u001b[32m✔\u001b[39m \u001b[34mtibble \u001b[39m 3.1.8     \u001b[32m✔\u001b[39m \u001b[34mdplyr  \u001b[39m 1.0.9\n",
      "\u001b[32m✔\u001b[39m \u001b[34mtidyr  \u001b[39m 1.2.0     \u001b[32m✔\u001b[39m \u001b[34mstringr\u001b[39m 1.4.0\n",
      "\u001b[32m✔\u001b[39m \u001b[34mreadr  \u001b[39m 2.1.2     \u001b[32m✔\u001b[39m \u001b[34mforcats\u001b[39m 0.5.1\n",
      "── \u001b[1mConflicts\u001b[22m ────────────────────────────────────────────────────────────────────────────────────────────────────────────────────── tidyverse_conflicts() ──\n",
      "\u001b[31m✖\u001b[39m \u001b[34mdplyr\u001b[39m::\u001b[32mfilter()\u001b[39m masks \u001b[34mstats\u001b[39m::filter()\n",
      "\u001b[31m✖\u001b[39m \u001b[34mdplyr\u001b[39m::\u001b[32mlag()\u001b[39m    masks \u001b[34mstats\u001b[39m::lag()\n",
      "\n",
      "\n"
     ]
    }
   ],
   "source": [
    "library(tidyverse)\n",
    "library(TFBSTools)"
   ]
  },
  {
   "cell_type": "code",
   "execution_count": 3,
   "metadata": {
    "ExecuteTime": {
     "end_time": "2019-12-18T23:30:36.590800Z",
     "start_time": "2019-12-18T23:30:09.238Z"
    },
    "collapsed": true,
    "jupyter": {
     "outputs_hidden": true
    },
    "tags": []
   },
   "outputs": [
    {
     "name": "stderr",
     "output_type": "stream",
     "text": [
      "\n",
      "Attaching package: ‘Matrix’\n",
      "\n",
      "\n",
      "The following object is masked from ‘package:TFBSTools’:\n",
      "\n",
      "    Matrix\n",
      "\n",
      "\n",
      "The following objects are masked from ‘package:tidyr’:\n",
      "\n",
      "    expand, pack, unpack\n",
      "\n",
      "\n",
      "Loading required package: MatrixGenerics\n",
      "\n",
      "Loading required package: matrixStats\n",
      "\n",
      "\n",
      "Attaching package: ‘matrixStats’\n",
      "\n",
      "\n",
      "The following object is masked from ‘package:dplyr’:\n",
      "\n",
      "    count\n",
      "\n",
      "\n",
      "\n",
      "Attaching package: ‘MatrixGenerics’\n",
      "\n",
      "\n",
      "The following objects are masked from ‘package:matrixStats’:\n",
      "\n",
      "    colAlls, colAnyNAs, colAnys, colAvgsPerRowSet, colCollapse,\n",
      "    colCounts, colCummaxs, colCummins, colCumprods, colCumsums,\n",
      "    colDiffs, colIQRDiffs, colIQRs, colLogSumExps, colMadDiffs,\n",
      "    colMads, colMaxs, colMeans2, colMedians, colMins, colOrderStats,\n",
      "    colProds, colQuantiles, colRanges, colRanks, colSdDiffs, colSds,\n",
      "    colSums2, colTabulates, colVarDiffs, colVars, colWeightedMads,\n",
      "    colWeightedMeans, colWeightedMedians, colWeightedSds,\n",
      "    colWeightedVars, rowAlls, rowAnyNAs, rowAnys, rowAvgsPerColSet,\n",
      "    rowCollapse, rowCounts, rowCummaxs, rowCummins, rowCumprods,\n",
      "    rowCumsums, rowDiffs, rowIQRDiffs, rowIQRs, rowLogSumExps,\n",
      "    rowMadDiffs, rowMads, rowMaxs, rowMeans2, rowMedians, rowMins,\n",
      "    rowOrderStats, rowProds, rowQuantiles, rowRanges, rowRanks,\n",
      "    rowSdDiffs, rowSds, rowSums2, rowTabulates, rowVarDiffs, rowVars,\n",
      "    rowWeightedMads, rowWeightedMeans, rowWeightedMedians,\n",
      "    rowWeightedSds, rowWeightedVars\n",
      "\n",
      "\n",
      "Loading required package: GenomicRanges\n",
      "\n",
      "Loading required package: stats4\n",
      "\n",
      "Loading required package: BiocGenerics\n",
      "\n",
      "\n",
      "Attaching package: ‘BiocGenerics’\n",
      "\n",
      "\n",
      "The following objects are masked from ‘package:dplyr’:\n",
      "\n",
      "    combine, intersect, setdiff, union\n",
      "\n",
      "\n",
      "The following objects are masked from ‘package:stats’:\n",
      "\n",
      "    IQR, mad, sd, var, xtabs\n",
      "\n",
      "\n",
      "The following objects are masked from ‘package:base’:\n",
      "\n",
      "    anyDuplicated, append, as.data.frame, basename, cbind, colnames,\n",
      "    dirname, do.call, duplicated, eval, evalq, Filter, Find, get, grep,\n",
      "    grepl, intersect, is.unsorted, lapply, Map, mapply, match, mget,\n",
      "    order, paste, pmax, pmax.int, pmin, pmin.int, Position, rank,\n",
      "    rbind, Reduce, rownames, sapply, setdiff, sort, table, tapply,\n",
      "    union, unique, unsplit, which.max, which.min\n",
      "\n",
      "\n",
      "Loading required package: S4Vectors\n",
      "\n",
      "\n",
      "Attaching package: ‘S4Vectors’\n",
      "\n",
      "\n",
      "The following objects are masked from ‘package:Matrix’:\n",
      "\n",
      "    expand, unname\n",
      "\n",
      "\n",
      "The following objects are masked from ‘package:dplyr’:\n",
      "\n",
      "    first, rename\n",
      "\n",
      "\n",
      "The following object is masked from ‘package:tidyr’:\n",
      "\n",
      "    expand\n",
      "\n",
      "\n",
      "The following objects are masked from ‘package:base’:\n",
      "\n",
      "    expand.grid, I, unname\n",
      "\n",
      "\n",
      "Loading required package: IRanges\n",
      "\n",
      "\n",
      "Attaching package: ‘IRanges’\n",
      "\n",
      "\n",
      "The following objects are masked from ‘package:dplyr’:\n",
      "\n",
      "    collapse, desc, slice\n",
      "\n",
      "\n",
      "The following object is masked from ‘package:purrr’:\n",
      "\n",
      "    reduce\n",
      "\n",
      "\n",
      "Loading required package: GenomeInfoDb\n",
      "\n",
      "Loading required package: Biobase\n",
      "\n",
      "Welcome to Bioconductor\n",
      "\n",
      "    Vignettes contain introductory material; view with\n",
      "    'browseVignettes()'. To cite Bioconductor, see\n",
      "    'citation(\"Biobase\")', and for packages 'citation(\"pkgname\")'.\n",
      "\n",
      "\n",
      "\n",
      "Attaching package: ‘Biobase’\n",
      "\n",
      "\n",
      "The following object is masked from ‘package:MatrixGenerics’:\n",
      "\n",
      "    rowMedians\n",
      "\n",
      "\n",
      "The following objects are masked from ‘package:matrixStats’:\n",
      "\n",
      "    anyMissing, rowMedians\n",
      "\n",
      "\n",
      "Loading required package: BSgenome\n",
      "\n",
      "Loading required package: Biostrings\n",
      "\n",
      "Loading required package: XVector\n",
      "\n",
      "\n",
      "Attaching package: ‘XVector’\n",
      "\n",
      "\n",
      "The following object is masked from ‘package:purrr’:\n",
      "\n",
      "    compact\n",
      "\n",
      "\n",
      "\n",
      "Attaching package: ‘Biostrings’\n",
      "\n",
      "\n",
      "The following object is masked from ‘package:base’:\n",
      "\n",
      "    strsplit\n",
      "\n",
      "\n",
      "Loading required package: rtracklayer\n",
      "\n"
     ]
    }
   ],
   "source": [
    "library(chromVAR)\n",
    "library(motifmatchr)\n",
    "library(Matrix)\n",
    "library(SummarizedExperiment)\n",
    "library(BSgenome.Hsapiens.UCSC.hg38)\n",
    "library(BiocParallel)\n",
    "register(MulticoreParam(16))\n",
    "set.seed(2019)"
   ]
  },
  {
   "cell_type": "code",
   "execution_count": 4,
   "metadata": {
    "ExecuteTime": {
     "end_time": "2019-12-18T23:30:36.590800Z",
     "start_time": "2019-12-18T23:30:09.238Z"
    }
   },
   "outputs": [],
   "source": [
    "library(tictoc)\n",
    "library(naturalsort)\n",
    "library(parallel)\n",
    "library(WriteXLS)"
   ]
  },
  {
   "cell_type": "code",
   "execution_count": 5,
   "metadata": {
    "ExecuteTime": {
     "end_time": "2019-12-18T23:30:36.613119Z",
     "start_time": "2019-12-18T23:30:09.685Z"
    }
   },
   "outputs": [],
   "source": [
    "setwd(\"/gpfs/commons/groups/sanjana_lab/cdai/NeuronReporters/code\")"
   ]
  },
  {
   "cell_type": "raw",
   "metadata": {},
   "source": [
    "source(\"/gpfs/commons/groups/sanjana_lab/cdai/TFscreen/R/Interactions.R\")"
   ]
  },
  {
   "cell_type": "raw",
   "metadata": {
    "ExecuteTime": {
     "end_time": "2019-12-18T23:30:36.635781Z",
     "start_time": "2019-12-18T23:30:11.244Z"
    }
   },
   "source": [
    "figure_dir <- \"/gpfs/commons/groups/sanjana_lab/cdai/TFscreen/figures\""
   ]
  },
  {
   "cell_type": "markdown",
   "metadata": {},
   "source": [
    "## Varability of Chromatin Accessibility\n",
    "Use chromVAR and Jaspar 2020\n",
    "\n",
    "**Inputs**\n",
    "1. **Peaks**: Peaks are consensus peaks (min 2 overlap), centered at summit with uniform width of 500 bp as recommended by chromVAR. First 3 columns are standard bed, the 4th column is peak intensity as calculated from MACS2. Peak file: <br>\n",
    "`/gpfs/commons/groups/sanjana_lab/cdai/TFscreen/atac/diffbind_consensu_min2overlap.bed`. <br>\n",
    " <br>\n",
    "2. **Read count per peaks**: \n",
    "`/gpfs/commons/groups/sanjana_lab/cdai/TFscreen/atac/diffbind_consensu_min2overlap_readcounts.txt` <br>\n",
    "See **`DiffBind-R.ipynb`** on how these the consensus peaks dataset is produced. <br>\n",
    "<br>**Note:** read counts are consenus peak set, where a peak must appear in at least 2 dataset. Only peaks in `chr[0-9XY]+` are saved, meaning peaks that are in contig region or chrM are not kept in chromVAR analysis.<br><br>\n",
    "2. **Annovation**\n",
    ": Jaspar 2020 motifs"
   ]
  },
  {
   "cell_type": "code",
   "execution_count": 6,
   "metadata": {
    "ExecuteTime": {
     "end_time": "2019-12-18T23:30:36.715879Z",
     "start_time": "2019-12-18T23:30:17.246Z"
    }
   },
   "outputs": [],
   "source": [
    "suppressMessages({samplesheet <- read_csv(\"../../TFscreen/atac/samplesheet2.csv\")})"
   ]
  },
  {
   "cell_type": "markdown",
   "metadata": {},
   "source": [
    "---\n",
    "\n",
    "#### Support functions"
   ]
  },
  {
   "cell_type": "code",
   "execution_count": 7,
   "metadata": {},
   "outputs": [],
   "source": [
    "# custom function to check if a motifname contains a hit gene name or TF gene name\n",
    "# the reason is motifname sometimes contains \"(var.2)\" or other characters\n",
    "mystrfunc <- function(motifname, target_match) {\n",
    "    # motifname: scalar string value, name of the motif: eg. TFAP4(var.2)\n",
    "    # target_match: vector, either Tf list of Hit list, or any gene list\n",
    "    # returns T/F\n",
    "    checkname <- function(x) {\n",
    "        if (str_detect(motifname, paste0(\"^\", x, \"$\"))) {\n",
    "            check <- TRUE\n",
    "        } else if (str_detect(motifname, paste0(\":\", x, \"$\"))) {\n",
    "            check <- TRUE\n",
    "        } else if (str_detect(motifname, paste0(\"^\", x, \":\"))) {\n",
    "            check <- TRUE\n",
    "        } else {\n",
    "            check <- FALSE\n",
    "        }\n",
    "    }\n",
    "    test <- map_lgl(target_match, ~ checkname(.x)) %>% any\n",
    "    #test <- map_lgl(target_match, ~ if (str_detect(motifname, paste0(\"^\", .x, \"$\"))) {TRUE} else if (str_detect(motifname, paste0(\":\", .x, \"$\"))) {TRUE} else if (str_detect(motifname, paste0(\"^\", .x, \":\"))) {TRUE} else {FALSE})\n",
    "    #test <- map_lgl(target_match, ~ str_detect(string = motifname, pattern = paste0(\"^\", .x, \"$\")) | str_detect(string = motifname, pattern = paste0(\":\", .x, \"$\")) | str_detect(string = motifname, pattern = paste0(\"^\", .x, \":\")))\n",
    "    return(test)\n",
    "}"
   ]
  },
  {
   "cell_type": "code",
   "execution_count": 8,
   "metadata": {
    "ExecuteTime": {
     "end_time": "2019-11-17T17:31:24.637970Z",
     "start_time": "2019-11-17T17:31:23.838Z"
    }
   },
   "outputs": [],
   "source": [
    "getTargetsFromMotif <- function(motif_name, motif.matches, genomic.features, min.overlap = 10, genelist) {\n",
    "    # Given a motif name (JASPAR), find its binding targets with read counts, observed in ATAC-seq\n",
    "    #--------------- INPUT: -----------------\n",
    "    # motif_name: string, this is the jaspar motif name, not gene name\n",
    "    # motif.matches: matchMotif object, e.g. motifMatch() result of peaks and jaspar 2020 motifs\n",
    "    # genomic.features: GenomicRanges object, e.g. a bed formated promoter region coordinates, converted into GRanges object\n",
    "    # min.overlap: integer, minimum overlap in base pairs\n",
    "    # genelist: vector, a list of gene_names. Note these gene names are some times not the same as motif names, hence the need of motif_lookup\n",
    "    #--------------- OUTPUT: -----------------\n",
    "    # overlapped.target.readcount: dataframe, containing read counts of genes that are targets of a given regulator. \n",
    "    # Read counts sum of all peaks that match to the regulator's motif.\n",
    "    # -----------------------------------------\n",
    "    \n",
    "    # Get motif matches matrix (rows are peak coordianes, columns are each motif name, values are logical values indicating match)\n",
    "    match.matrix <- motifMatches(motif.matches)\n",
    "    \n",
    "    # Get peaks that have binding sites matching given motif, each GRange also include read count columns\n",
    "    GRanges.index <- which(match.matrix[ , motif_name]) \n",
    "    matched.target.GRanges <- rowRanges(motif.matches)[GRanges.index]\n",
    "    \n",
    "    # Find overlaps between: \n",
    "    # 1. peaks that match binding sites of a given motif, and \n",
    "    # 2. coordinates of gene annotation\n",
    "    target.intersect.feature <- GenomicRanges::findOverlaps(query = matched.target.GRanges, \n",
    "                                                            subject = genomic.features,\n",
    "                                                           minoverlap = min.overlap, ignore.strand = T)\n",
    "    \n",
    "    # Get the genes (from annoation) that overlap with peaks (that have binding sites of given motif)\n",
    "    overlapped.gene_names <- genomic.features[subjectHits(target.intersect.feature), ] %>% as.data.frame %>% pull(gene_name) \n",
    "    \n",
    "    # Summarize the read counts of matching peaks into read counts per gene for a given motif\n",
    "    overlapped.target.readcount <- matched.target.GRanges[queryHits(target.intersect.feature), ] %>%\n",
    "                                mcols %>% as.data.frame %>%\n",
    "                                add_column(\"target_gene\" = overlapped.gene_names) %>% # add gene_name to matched ranges\n",
    "                                dplyr::select(target_gene,A1:A12) %>% # selecct read count columns only\n",
    "                                filter(target_gene %in% genelist) %>% # keep rows with genes in the genelist\n",
    "                                group_by(target_gene) %>% summarise_all(sum) # sum read counts per gene, as multiple peaks can fall into one gene\n",
    "                                \n",
    "    return(overlapped.target.readcount) # return a dataframe\n",
    "}"
   ]
  },
  {
   "cell_type": "code",
   "execution_count": 9,
   "metadata": {
    "ExecuteTime": {
     "end_time": "2019-11-17T17:31:24.637970Z",
     "start_time": "2019-11-17T17:31:23.838Z"
    }
   },
   "outputs": [],
   "source": [
    "getRegulatorsOfGene <- function(gene_name, motif.matches, genomic.features, min.overlap = 10, motif.list) {\n",
    "    ###### INPUTS: #####\n",
    "    # gene_name: string, gene name\n",
    "    # motif.matches: matchMotif object, e.g. motifMatch() result of peaks and jaspar 2020 motifs\n",
    "    # countGRanges: GenomicRanges object, e.g. a normalized read matrix, converted into GRanges object\n",
    "    # genomic.features: GenomicRanges object, e.g. a bed formated promoter region coordinates, converted into GRanges object\n",
    "    # min.overlap: integer, minimum overlap in base pairs\n",
    "    # motif.list: vector, a list of motif names. Only return results if found motifs are part of this list\n",
    "    \n",
    "    ##### OUTPUTS: #####\n",
    "    # regulators.readcount: list, each element's name is a regulator's motif name, the values are\n",
    "    # summarised readcounts of matching/overlapping peaks for this regulator\n",
    "    \n",
    "    match.matrix <- motifMatches(motif.matches) # motif match logic matrix\n",
    "    match.matrix.GRanges <- rowRanges(motif.matches) # peak coordiantes, including read counts in mcols\n",
    "    \n",
    "    # target gene's annotation coordinates\n",
    "    gene.GRanges <- genomic.features[genomic.features$gene_name == gene_name]\n",
    "    \n",
    "    # intersect peak coordinates with target gene's annotation coordinates\n",
    "    # to get peaks that belong to target gene\n",
    "    match.intersect.gene <- GenomicRanges::findOverlaps(query = match.matrix.GRanges, subject = gene.GRanges,\n",
    "                                                       minoverlap = min.overlap, ignore.strand = T)\n",
    "    # row index of peaks that fall in target gene coordinates\n",
    "    overlapped.match.index <- queryHits(match.intersect.gene) \n",
    "    \n",
    "    # Once extracted peaks that fall into target gene region, get the motifs that bind to these peaks.\n",
    "    # Note slight difference in extracting motif names when there are only 1 peak versus more than 1 peaks\n",
    "    if (length(overlapped.match.index) == 1) { # if only one peak in target gene\n",
    "        gene.regulators <- match.matrix[overlapped.match.index, ] %>% .[.] %>% names \n",
    "    } else { # if multiple peaks in target gene\n",
    "        gene.regulators <- match.matrix[overlapped.match.index, ] %>% colSums %>% .[.>0] %>% names\n",
    "    }\n",
    "    \n",
    "    # Only keep motifs that are part of a given list\n",
    "    gene.regulators <- gene.regulators[gene.regulators %in% motif.list] \n",
    "    \n",
    "    # Get the read counts of the binding sites for each motif (regulator)\n",
    "    regulators.readcount <- list()\n",
    "    for (regulator in gene.regulators) {\n",
    "        readcount <- match.matrix.GRanges[overlapped.match.index, ] %>% # readcount of each peak in target gene region\n",
    "                        as.data.frame %>% select(A1:A12) %>% # extract read counts columns\n",
    "                        `*`(match.matrix[overlapped.match.index, regulator]) %>% # multiply 0 or 1 based on if the peak has a match to this regulator or not\n",
    "                        colSums() # sum up all the reads from peaks that match to the regulator binding site\n",
    "        regulators.readcount[[regulator]] <- readcount\n",
    "    }\n",
    "    \n",
    "    # Return a dataframe, each row gives the name of the motif that binds to the target gene, \n",
    "    # along with observed read count assciated with the matching peaks. Some genes may have no matches\n",
    "    if (length(regulators.readcount) > 0) {\n",
    "        regulators.readcount <- do.call(rbind, regulators.readcount) %>% \n",
    "                                as.data.frame %>% \n",
    "                                add_column(\"target_gene\" = gene_name, .before = \"A1\") %>%\n",
    "                                rownames_to_column(\"regulator_motif\")\n",
    "        return(regulators.readcount)\n",
    "    }\n",
    "}"
   ]
  },
  {
   "cell_type": "markdown",
   "metadata": {},
   "source": [
    "---"
   ]
  },
  {
   "cell_type": "markdown",
   "metadata": {},
   "source": [
    "### Why did you decide to not make each peak width 500?\n",
    "\n",
    "For ATAC seq, the peak width reflects open chromatin. Naturally, peak width will vary. More open area would have wider peaks. Our next analysis is to look for TF binding sites in the open chromatin region, we would have erroneously lost (when actual peak width is wider than 500) or gained (when actual peak width is less than 500) some TF binding sites if we force consistent peak width.\n"
   ]
  },
  {
   "cell_type": "code",
   "execution_count": 10,
   "metadata": {
    "ExecuteTime": {
     "end_time": "2019-12-18T20:28:51.068341Z",
     "start_time": "2019-12-18T20:28:49.420Z"
    }
   },
   "outputs": [
    {
     "name": "stderr",
     "output_type": "stream",
     "text": [
      "Warning message in getPeaks(peak.file, sort_peaks = F):\n",
      "“Peaks are not equal width!Use resize(peaks, width = x, fix = \"center\") to make peaks equal in size, where x is the desired size of the peaks)”\n",
      "Warning message in getPeaks(peak.file, sort_peaks = F):\n",
      "“Peaks not sorted”\n"
     ]
    }
   ],
   "source": [
    "# Consensus peaks\n",
    "peak.file <- \"/c/groups/sanjana_lab/cdai/TFscreen/atac/diffbind/diffbind_consensu_min2overlap.bed\"\n",
    "peaks <- getPeaks(peak.file, sort_peaks = F)"
   ]
  },
  {
   "cell_type": "code",
   "execution_count": 11,
   "metadata": {
    "ExecuteTime": {
     "end_time": "2019-12-19T04:19:24.763018Z",
     "start_time": "2019-12-19T04:19:23.939Z"
    },
    "scrolled": true
   },
   "outputs": [],
   "source": [
    "# Consensus peaks read counts\n",
    "raw_counts <- read.table(\"/c/groups/sanjana_lab/cdai/TFscreen/atac/diffbind/diffbind_consensu_min2overlap_NO_RECENTER.txt\", \n",
    "                               header = T, stringsAsFactor = F)"
   ]
  },
  {
   "cell_type": "code",
   "execution_count": 12,
   "metadata": {
    "ExecuteTime": {
     "end_time": "2019-12-19T04:19:24.801442Z",
     "start_time": "2019-12-19T04:19:24.358Z"
    }
   },
   "outputs": [],
   "source": [
    "# each peak must> 15 reads across all samples\n",
    "keep_rows <- which(rowSums(select(raw_counts, A1:A12)) > 15 ) # changed to 50 in rstudio version 6/10/2020, doesn't change anything though "
   ]
  },
  {
   "cell_type": "code",
   "execution_count": 13,
   "metadata": {
    "ExecuteTime": {
     "end_time": "2019-12-19T04:19:25.590868Z",
     "start_time": "2019-12-19T04:19:25.520Z"
    }
   },
   "outputs": [],
   "source": [
    "raw_counts <- raw_counts[keep_rows, ]"
   ]
  },
  {
   "cell_type": "code",
   "execution_count": 14,
   "metadata": {
    "ExecuteTime": {
     "end_time": "2019-12-19T04:19:26.760993Z",
     "start_time": "2019-12-19T04:19:26.723Z"
    }
   },
   "outputs": [],
   "source": [
    "# peak coordinates\n",
    "peaks <- raw_counts %>% select(Chr, Start, End)"
   ]
  },
  {
   "cell_type": "raw",
   "metadata": {
    "ExecuteTime": {
     "end_time": "2019-12-19T04:30:14.829211Z",
     "start_time": "2019-12-19T04:30:13.358Z"
    }
   },
   "source": [
    "# normalized counts: first calc counts per million then log2\n",
    "norm_counts <- select(raw_counts, A1:A12) %>% \n",
    "                as.matrix %>% \n",
    "                apply(., 2, function(x) sqrt(x * 1000000 / sum(x)) ) %>% \n",
    "                as.data.frame"
   ]
  },
  {
   "cell_type": "raw",
   "metadata": {
    "ExecuteTime": {
     "end_time": "2019-12-19T04:32:50.895345Z",
     "start_time": "2019-12-19T04:32:50.582Z"
    }
   },
   "source": [
    "norm_peak_counts <- cbind(peaks, norm_counts) %>% \n",
    "                    makeGRangesFromDataFrame(., keep.extra.columns = T)"
   ]
  },
  {
   "cell_type": "code",
   "execution_count": 15,
   "metadata": {},
   "outputs": [],
   "source": [
    "raw_peak_counts <- makeGRangesFromDataFrame(raw_counts, keep.extra.columns = T)"
   ]
  },
  {
   "cell_type": "markdown",
   "metadata": {},
   "source": [
    "#### Annotations\n",
    "\n",
    "Get JASPAR2020 motifs. Then construct a motif - gene_name lookup table. In addition, add columns to indicate if a motif is a TF or hit TF."
   ]
  },
  {
   "cell_type": "code",
   "execution_count": 16,
   "metadata": {},
   "outputs": [],
   "source": [
    "# New method: use downloaded JASPAR2020\n",
    "jaspar_2020 <- readJASPARMatrix(\"../../TFscreen/atac/JASPAR2020_combined_matrices_20191030.txt\", matrixClass = \"PFM\")\n",
    "\n",
    "# read in hit list and TF list, note the gene names are matched and transformed to be consistent with approved symbols according to HGNC genenames.org\n",
    "# hit list from crispr screen\n",
    "hitlist <- read.csv('/c/groups/sanjana_lab/cdai/TFscreen/Hitlist_20191230.csv', stringsAsFactors=F) %>% pull(hgnc_symbol)\n",
    "# genomewide TF list\n",
    "tflist <- read.csv('/c/groups/sanjana_lab/cdai/TFscreen/TFlist_20191230.csv', stringsAsFactors=F) %>% pull(hgnc_symbol)\n",
    "\n",
    "# construct base motif_lookup table\n",
    "motif_lookup <- TFBSTools::name(jaspar_2020) %>% \n",
    "                data.frame(stringsAsFactors = F) %>% \n",
    "                rownames_to_column(\"motif\") %>% \n",
    "                mutate(gene_name=str_extract(`.`, \"[a-zA-Z:0-9\\\\-]+\")) %>%\n",
    "                select(motif, gene_name)\n",
    "\n",
    "# add two columns to indicate whether the motif is a TF or is a Hit\n",
    "motif_lookup <- motif_lookup %>% mutate(is_hit = map_chr(gene_name, ~ if_else(mystrfunc(.x, hitlist), \"Yes\", \"No\"))) %>%\n",
    "        mutate(is_tf = map_chr(gene_name, ~ if_else(mystrfunc(.x, tflist), \"Yes\", \"No\")))\n",
    "# motif names of (almost) all TFs\n",
    "tf.motif.list <- motif_lookup %>% filter(is_tf == \"Yes\") %>% pull(motif)"
   ]
  },
  {
   "cell_type": "code",
   "execution_count": 17,
   "metadata": {
    "ExecuteTime": {
     "end_time": "2019-12-19T00:05:55.454440Z",
     "start_time": "2019-12-19T00:04:12.180Z"
    }
   },
   "outputs": [],
   "source": [
    "# get motif matches with peaks, (takes about 97 seconds to run)\n",
    "Jaspar_ix <- matchMotifs(jaspar_2020, raw_peak_counts, \n",
    "                        genome = BSgenome.Hsapiens.UCSC.hg38,\n",
    "                        out = \"matches\", p.cutoff = 5e-5)"
   ]
  },
  {
   "cell_type": "code",
   "execution_count": 18,
   "metadata": {
    "ExecuteTime": {
     "end_time": "2019-12-19T00:05:55.801531Z",
     "start_time": "2019-12-19T00:04:18.245Z"
    }
   },
   "outputs": [],
   "source": [
    "Jaspar_matches <- motifMatches(Jaspar_ix)"
   ]
  },
  {
   "cell_type": "code",
   "execution_count": 19,
   "metadata": {},
   "outputs": [
    {
     "data": {
      "text/plain": [
       "GRanges object with 6 ranges and 2 metadata columns:\n",
       "      seqnames        ranges strand |        A1        A2\n",
       "         <Rle>     <IRanges>  <Rle> | <integer> <integer>\n",
       "  [1]     chr1 629565-630002      * |     31494     24404\n",
       "  [2]     chr1 633829-634392      * |     47145     33130\n",
       "  [3]     chr1 778398-779290      * |       110        92\n",
       "  [4]     chr1 826900-827802      * |        70        57\n",
       "  [5]     chr1 869615-870166      * |        37        42\n",
       "  [6]     chr1 876554-876951      * |        26        22\n",
       "  -------\n",
       "  seqinfo: 24 sequences from an unspecified genome; no seqlengths"
      ]
     },
     "metadata": {},
     "output_type": "display_data"
    }
   ],
   "source": [
    "raw_peak_counts[, 1:2] %>% head"
   ]
  },
  {
   "cell_type": "code",
   "execution_count": 20,
   "metadata": {
    "ExecuteTime": {
     "end_time": "2019-12-19T04:38:42.099024Z",
     "start_time": "2019-12-19T04:38:42.025Z"
    }
   },
   "outputs": [
    {
     "data": {
      "text/plain": [
       "5 x 5 sparse Matrix of class \"lgCMatrix\"\n",
       "     THRB THAP11 TFAP4(var.2) TFAP2E TGIF2LY\n",
       "[1,]    .      .            .      .       .\n",
       "[2,]    .      .            .      .       .\n",
       "[3,]    .      .            .      .       .\n",
       "[4,]    .      .            .      .       .\n",
       "[5,]    |      |            .      .       ."
      ]
     },
     "metadata": {},
     "output_type": "display_data"
    }
   ],
   "source": [
    "Jaspar_matches[1:5, 1:5]"
   ]
  },
  {
   "cell_type": "code",
   "execution_count": 21,
   "metadata": {
    "ExecuteTime": {
     "end_time": "2019-12-19T04:56:56.215753Z",
     "start_time": "2019-12-19T04:56:04.544Z"
    }
   },
   "outputs": [],
   "source": [
    "# for each jaspar motif in motif_lookup, get its respective read counts observed in atac-seq data\n",
    "Jaspar_counts <- map(motif_lookup$motif, ~ raw_peak_counts[which(Jaspar_matches[, .x]), ]) %>% \n",
    "    map(~mcols(.x) %>% as.matrix %>% colSums)"
   ]
  },
  {
   "cell_type": "code",
   "execution_count": 22,
   "metadata": {
    "ExecuteTime": {
     "end_time": "2019-12-19T05:08:41.092693Z",
     "start_time": "2019-12-19T05:08:40.911Z"
    }
   },
   "outputs": [],
   "source": [
    "# convert list into data frame\n",
    "Jaspar_counts <- do.call(rbind, Jaspar_counts) %>% as.data.frame %>% \n",
    "        add_column(gene_name = motif_lookup$gene_name, .before = \"A1\") %>%\n",
    "        group_by(gene_name) %>% summarise_all(mean)"
   ]
  },
  {
   "cell_type": "code",
   "execution_count": 23,
   "metadata": {
    "ExecuteTime": {
     "end_time": "2019-12-19T05:20:48.234283Z",
     "start_time": "2019-12-19T05:20:48.082Z"
    }
   },
   "outputs": [
    {
     "data": {
      "text/html": [
       "<table class=\"dataframe\">\n",
       "<caption>A matrix: 6 × 12 of type dbl</caption>\n",
       "<thead>\n",
       "\t<tr><th></th><th scope=col>A1</th><th scope=col>A2</th><th scope=col>A3</th><th scope=col>A4</th><th scope=col>A5</th><th scope=col>A6</th><th scope=col>A7</th><th scope=col>A8</th><th scope=col>A9</th><th scope=col>A10</th><th scope=col>A11</th><th scope=col>A12</th></tr>\n",
       "</thead>\n",
       "<tbody>\n",
       "\t<tr><th scope=row>ALX3</th><td>-0.4807611</td><td>-0.4922085</td><td>-0.4836909</td><td>-0.4823163</td><td>-0.4950695</td><td>-0.4898261</td><td>-0.4762696</td><td>-0.4869891</td><td>-0.4770646</td><td>-0.4872151</td><td>-0.4435823</td><td>-0.4509154</td></tr>\n",
       "\t<tr><th scope=row>AR</th><td> 0.1580290</td><td> 0.1715849</td><td> 0.1833000</td><td> 0.1704066</td><td> 0.1537694</td><td> 0.1682365</td><td> 0.1626164</td><td> 0.1388816</td><td> 0.1614267</td><td> 0.1620886</td><td> 0.1059482</td><td> 0.1011546</td></tr>\n",
       "\t<tr><th scope=row>ARGFX</th><td>-0.5245539</td><td>-0.5305741</td><td>-0.5236492</td><td>-0.5127966</td><td>-0.5391520</td><td>-0.5337648</td><td>-0.5004463</td><td>-0.5141496</td><td>-0.5059872</td><td>-0.5095521</td><td>-0.4662876</td><td>-0.4723474</td></tr>\n",
       "\t<tr><th scope=row>ARNT::HIF1A</th><td>-0.7720200</td><td>-0.7647860</td><td>-0.7729967</td><td>-0.7744975</td><td>-0.7630934</td><td>-0.7739690</td><td>-0.7970579</td><td>-0.7891908</td><td>-0.7930368</td><td>-0.7884161</td><td>-0.7745124</td><td>-0.7691255</td></tr>\n",
       "\t<tr><th scope=row>ARNT2</th><td>-0.5977327</td><td>-0.5938041</td><td>-0.6056408</td><td>-0.5981779</td><td>-0.5864600</td><td>-0.5990379</td><td>-0.6191276</td><td>-0.5977703</td><td>-0.6036864</td><td>-0.5943136</td><td>-0.5526561</td><td>-0.5434807</td></tr>\n",
       "\t<tr><th scope=row>ASCL1</th><td> 1.1307654</td><td> 1.1563968</td><td> 1.1812053</td><td> 1.1492826</td><td> 1.1566828</td><td> 1.1610696</td><td> 1.1175597</td><td> 1.0743644</td><td> 1.1055702</td><td> 1.1070546</td><td> 1.0572784</td><td> 1.0595204</td></tr>\n",
       "</tbody>\n",
       "</table>\n"
      ],
      "text/latex": [
       "A matrix: 6 × 12 of type dbl\n",
       "\\begin{tabular}{r|llllllllllll}\n",
       "  & A1 & A2 & A3 & A4 & A5 & A6 & A7 & A8 & A9 & A10 & A11 & A12\\\\\n",
       "\\hline\n",
       "\tALX3 & -0.4807611 & -0.4922085 & -0.4836909 & -0.4823163 & -0.4950695 & -0.4898261 & -0.4762696 & -0.4869891 & -0.4770646 & -0.4872151 & -0.4435823 & -0.4509154\\\\\n",
       "\tAR &  0.1580290 &  0.1715849 &  0.1833000 &  0.1704066 &  0.1537694 &  0.1682365 &  0.1626164 &  0.1388816 &  0.1614267 &  0.1620886 &  0.1059482 &  0.1011546\\\\\n",
       "\tARGFX & -0.5245539 & -0.5305741 & -0.5236492 & -0.5127966 & -0.5391520 & -0.5337648 & -0.5004463 & -0.5141496 & -0.5059872 & -0.5095521 & -0.4662876 & -0.4723474\\\\\n",
       "\tARNT::HIF1A & -0.7720200 & -0.7647860 & -0.7729967 & -0.7744975 & -0.7630934 & -0.7739690 & -0.7970579 & -0.7891908 & -0.7930368 & -0.7884161 & -0.7745124 & -0.7691255\\\\\n",
       "\tARNT2 & -0.5977327 & -0.5938041 & -0.6056408 & -0.5981779 & -0.5864600 & -0.5990379 & -0.6191276 & -0.5977703 & -0.6036864 & -0.5943136 & -0.5526561 & -0.5434807\\\\\n",
       "\tASCL1 &  1.1307654 &  1.1563968 &  1.1812053 &  1.1492826 &  1.1566828 &  1.1610696 &  1.1175597 &  1.0743644 &  1.1055702 &  1.1070546 &  1.0572784 &  1.0595204\\\\\n",
       "\\end{tabular}\n"
      ],
      "text/markdown": [
       "\n",
       "A matrix: 6 × 12 of type dbl\n",
       "\n",
       "| <!--/--> | A1 | A2 | A3 | A4 | A5 | A6 | A7 | A8 | A9 | A10 | A11 | A12 |\n",
       "|---|---|---|---|---|---|---|---|---|---|---|---|---|\n",
       "| ALX3 | -0.4807611 | -0.4922085 | -0.4836909 | -0.4823163 | -0.4950695 | -0.4898261 | -0.4762696 | -0.4869891 | -0.4770646 | -0.4872151 | -0.4435823 | -0.4509154 |\n",
       "| AR |  0.1580290 |  0.1715849 |  0.1833000 |  0.1704066 |  0.1537694 |  0.1682365 |  0.1626164 |  0.1388816 |  0.1614267 |  0.1620886 |  0.1059482 |  0.1011546 |\n",
       "| ARGFX | -0.5245539 | -0.5305741 | -0.5236492 | -0.5127966 | -0.5391520 | -0.5337648 | -0.5004463 | -0.5141496 | -0.5059872 | -0.5095521 | -0.4662876 | -0.4723474 |\n",
       "| ARNT::HIF1A | -0.7720200 | -0.7647860 | -0.7729967 | -0.7744975 | -0.7630934 | -0.7739690 | -0.7970579 | -0.7891908 | -0.7930368 | -0.7884161 | -0.7745124 | -0.7691255 |\n",
       "| ARNT2 | -0.5977327 | -0.5938041 | -0.6056408 | -0.5981779 | -0.5864600 | -0.5990379 | -0.6191276 | -0.5977703 | -0.6036864 | -0.5943136 | -0.5526561 | -0.5434807 |\n",
       "| ASCL1 |  1.1307654 |  1.1563968 |  1.1812053 |  1.1492826 |  1.1566828 |  1.1610696 |  1.1175597 |  1.0743644 |  1.1055702 |  1.1070546 |  1.0572784 |  1.0595204 |\n",
       "\n"
      ],
      "text/plain": [
       "            A1         A2         A3         A4         A5         A6        \n",
       "ALX3        -0.4807611 -0.4922085 -0.4836909 -0.4823163 -0.4950695 -0.4898261\n",
       "AR           0.1580290  0.1715849  0.1833000  0.1704066  0.1537694  0.1682365\n",
       "ARGFX       -0.5245539 -0.5305741 -0.5236492 -0.5127966 -0.5391520 -0.5337648\n",
       "ARNT::HIF1A -0.7720200 -0.7647860 -0.7729967 -0.7744975 -0.7630934 -0.7739690\n",
       "ARNT2       -0.5977327 -0.5938041 -0.6056408 -0.5981779 -0.5864600 -0.5990379\n",
       "ASCL1        1.1307654  1.1563968  1.1812053  1.1492826  1.1566828  1.1610696\n",
       "            A7         A8         A9         A10        A11        A12       \n",
       "ALX3        -0.4762696 -0.4869891 -0.4770646 -0.4872151 -0.4435823 -0.4509154\n",
       "AR           0.1626164  0.1388816  0.1614267  0.1620886  0.1059482  0.1011546\n",
       "ARGFX       -0.5004463 -0.5141496 -0.5059872 -0.5095521 -0.4662876 -0.4723474\n",
       "ARNT::HIF1A -0.7970579 -0.7891908 -0.7930368 -0.7884161 -0.7745124 -0.7691255\n",
       "ARNT2       -0.6191276 -0.5977703 -0.6036864 -0.5943136 -0.5526561 -0.5434807\n",
       "ASCL1        1.1175597  1.0743644  1.1055702  1.1070546  1.0572784  1.0595204"
      ]
     },
     "metadata": {},
     "output_type": "display_data"
    }
   ],
   "source": [
    "Jaspar_counts %>% column_to_rownames(\"gene_name\") %>% scale %>% head"
   ]
  },
  {
   "cell_type": "code",
   "execution_count": 24,
   "metadata": {
    "ExecuteTime": {
     "end_time": "2019-11-17T17:31:26.545195Z",
     "start_time": "2019-11-17T17:31:25.588Z"
    }
   },
   "outputs": [],
   "source": [
    "# get annotated promoter region bed\n",
    "# note the latest protein coding genes are updated with gene names and gene_id to be consistent with hgnc\n",
    "gene_region <- read.table(\"resources/annotations/hs38/gencode_v31_protein_u100k_d1k.bed\",\n",
    "                          header = T, \n",
    "                          col.names = c(\"seqname\",\"start\",\"end\",\"gene_name\", \"score\",\"strand\")) %>% \n",
    "    dplyr::select(seqname, start, end, strand, gene_name)\n",
    "# convert to GRanges object\n",
    "gene_region <- GenomicRanges::makeGRangesFromDataFrame(gene_region, keep.extra.columns = T)"
   ]
  },
  {
   "cell_type": "code",
   "execution_count": 25,
   "metadata": {},
   "outputs": [
    {
     "data": {
      "text/plain": [
       "GRanges object with 19943 ranges and 1 metadata column:\n",
       "          seqnames            ranges strand |   gene_name\n",
       "             <Rle>         <IRanges>  <Rle> | <character>\n",
       "      [1]     chr1     449703-551697      - |      OR4F29\n",
       "      [2]     chr1     684679-786673      - |      OR4F16\n",
       "      [3]     chr1     823928-945581      + |      SAMD11\n",
       "      [4]     chr1     860584-966719      + |      KLHL17\n",
       "      [5]     chr1     866497-976865      + |     PLEKHN1\n",
       "      ...      ...               ...    ... .         ...\n",
       "  [19939]     chrY 24507560-24640207      + |       BPY2B\n",
       "  [19940]     chrY 24733843-24908040      + |        DAZ4\n",
       "  [19941]     chrY 24762069-24913492      - |        DAZ3\n",
       "  [19942]     chrY 25029901-25162548      - |       BPY2C\n",
       "  [19943]     chrY 25522162-25625902      + |        CDY1\n",
       "  -------\n",
       "  seqinfo: 24 sequences from an unspecified genome; no seqlengths"
      ]
     },
     "metadata": {},
     "output_type": "display_data"
    }
   ],
   "source": [
    "gene_region"
   ]
  },
  {
   "cell_type": "raw",
   "metadata": {},
   "source": [
    "#eg.\n",
    "getTargetsFromMotif(\"ZBTB18\", Jaspar_ix, gene_region, min.overlap= 10, hitlist) %>% head"
   ]
  },
  {
   "cell_type": "raw",
   "metadata": {},
   "source": [
    "#eg.\n",
    "zb8 <- getRegulatorsOfGene(\"ZBTB18\", Jaspar_ix, gene_region, min.overlap = 10, tf.motif.list)"
   ]
  },
  {
   "cell_type": "markdown",
   "metadata": {
    "jp-MarkdownHeadingCollapsed": true,
    "tags": []
   },
   "source": [
    "---\n",
    "\n",
    "### Limit search within hit TFs\n",
    "\n",
    "#### 1. Out of 58 hit TF motifs, find their targets.\n",
    "\n",
    "Note some motif names such as `BHLHA15(var.2), FOS::JUNB`"
   ]
  },
  {
   "cell_type": "code",
   "execution_count": 26,
   "metadata": {},
   "outputs": [
    {
     "name": "stdout",
     "output_type": "stream",
     "text": [
      "  [1] \"AFF4\"     \"AHR\"      \"AIP\"      \"APBB2\"    \"ARID1B\"   \"ARNTL\"   \n",
      "  [7] \"ASB1\"     \"BHLHA15\"  \"BRWD1\"    \"CBX4\"     \"CDX4\"     \"CEBPA\"   \n",
      " [13] \"CHD5\"     \"CNOT6\"    \"CREBZF\"   \"CRY1\"     \"CTDP1\"    \"CTNNB1\"  \n",
      " [19] \"DLX5\"     \"E2F1\"     \"EBF1\"     \"EGR3\"     \"EHF\"      \"ELK3\"    \n",
      " [25] \"EMX1\"     \"FOXN2\"    \"FOXQ1\"    \"GATA1\"    \"GTF2A2\"   \"H1-4\"    \n",
      " [31] \"H2BC4\"    \"HIF3A\"    \"HOXB3\"    \"HOXC13\"   \"HSFY1\"    \"HTATIP2\" \n",
      " [37] \"INSM1\"    \"ISL2\"     \"JADE3\"    \"JUNB\"     \"JUND\"     \"KLF10\"   \n",
      " [43] \"KLF14\"    \"LHX4\"     \"MECP2\"    \"MEOX2\"    \"MLLT6\"    \"MPHOSPH8\"\n",
      " [49] \"NBPF24\"   \"NEUROG1\"  \"NEUROG2\"  \"NEUROG3\"  \"NFAT5\"    \"NFKBIB\"  \n",
      " [55] \"NKRF\"     \"NKX3-2\"   \"NR1D2\"    \"NR1I2\"    \"PAX2\"     \"PAX7\"    \n",
      " [61] \"PHF12\"    \"PHOX2A\"   \"POLR2B\"   \"POLR2J\"   \"POU2F3\"   \"POU3F2\"  \n",
      " [67] \"PRDM5\"    \"PRDM6\"    \"RAI14\"    \"RBPJ\"     \"RCOR2\"    \"RORB\"    \n",
      " [73] \"SCRT2\"    \"SIX5\"     \"SKI\"      \"SLA2\"     \"SMAD3\"    \"SNAI2\"   \n",
      " [79] \"SOX15\"    \"TAF1L\"    \"TAF5\"     \"TBPL1\"    \"TCEA2\"    \"TFEB\"    \n",
      " [85] \"THRA\"     \"TOX4\"     \"TSC22D3\"  \"TSHZ3\"    \"UBE2K\"    \"VAX2\"    \n",
      " [91] \"VGLL2\"    \"ZBTB18\"   \"ZBTB43\"   \"ZFP2\"     \"ZFPM1\"    \"ZFY\"     \n",
      " [97] \"ZIC1\"     \"ZIM3\"     \"ZKSCAN3\"  \"ZNF107\"   \"ZNF136\"   \"ZNF141\"  \n",
      "[103] \"ZNF200\"   \"ZNF239\"   \"ZNF250\"   \"ZNF282\"   \"ZNF3\"     \"ZNF311\"  \n",
      "[109] \"ZNF324\"   \"ZNF34\"    \"ZNF440\"   \"ZNF441\"   \"ZNF502\"   \"ZNF510\"  \n",
      "[115] \"ZNF547\"   \"ZNF554\"   \"ZNF563\"   \"ZNF573\"   \"ZNF639\"   \"ZNF671\"  \n",
      "[121] \"ZNF92\"    \"ZZZ3\"    \n"
     ]
    }
   ],
   "source": [
    "hitlist %>% sort %>% print"
   ]
  },
  {
   "cell_type": "raw",
   "metadata": {},
   "source": [
    "# get a list of hit motif names\n",
    "hit_motifs <- filter(motif_lookup, is_hit == \"Yes\") %>% pull(motif) %>% sort\n",
    "names(hit_motifs) <- hit_motifs\n",
    "\n",
    "# Given a list of motifs, find their binding target genes\n",
    "reg2tar <- imap_dfr(hit_motifs, ~ getTargetsFromMotif(.x, Jaspar_ix, gene_region, 100, tflist) %>% \n",
    "                            add_column(\"regulator_motif\" = .y, .before = \"target_gene\"))\n",
    "\n",
    "reg2tar <- left_join(reg2tar, motif_lookup[, 1:2], by = c(\"regulator_motif\" = \"motif\")) %>% \n",
    "                        rename(\"gene_name\" = \"regulator_gene\") %>%\n",
    "                        select(regulator_gene, target_gene, A1:A12) %>% \n",
    "                        group_by(regulator_gene, target_gene) %>% \n",
    "                        summarise_all(sum)"
   ]
  },
  {
   "cell_type": "raw",
   "metadata": {},
   "source": [
    "# Combine replicate 1 and replicate 2 by taking the mean\n",
    "# Result in just ES and 5 time points\n",
    "rep1 <- paste0(rep(\"A\", 6), seq(1, 11, 2))\n",
    "rep2 <- paste0(rep(\"A\", 6), seq(2, 12, 2))\n",
    "reg2tar <- map2_df(reg2tar[, rep1], reg2tar[, rep2], ~ map2_dbl(.x, .y, ~ mean(c(.x, .y))) ) %>% \n",
    "    add_column(\"regulator_gene\" = reg2tar$regulator_gene, \"target_gene\" = reg2tar$target_gene, .before = \"A1\")\n",
    "names(reg2tar) <- c(\"regulator_gene\", \"target_gene\", \"ES\", \"H1\", \"H4\", \"H16\", \"D1\", \"D4\")"
   ]
  },
  {
   "cell_type": "markdown",
   "metadata": {},
   "source": [
    "#### 2. Out of 120 hit TFs, find their regulators."
   ]
  },
  {
   "cell_type": "raw",
   "metadata": {},
   "source": [
    "hitlist %>% str"
   ]
  },
  {
   "cell_type": "raw",
   "metadata": {},
   "source": [
    "tic()\n",
    "# given a list of gene, find the regulators of each gene\n",
    "tar2reg <- mclapply(hitlist, function(x) getRegulatorsOfGene(x, Jaspar_ix, gene_region, 100, tf.motif.list), mc.cores = 16)\n",
    "toc()\n",
    "\n",
    "# remove null elements\n",
    "tar2reg <- map_lgl(tar2reg, ~ ! is_null(.x)) %>% which %>% tar2reg[.]\n",
    "# combine into one dataframe\n",
    "tar2reg<- do.call(rbind, tar2reg)\n",
    "\n",
    "# combine replicate 1 and replicate 2 by taking the mean\n",
    "tar2reg <- map2_df(tar2reg[, rep1], tar2reg[, rep2], ~ map2_dbl(.x, .y, ~ mean(c(.x, .y)))) %>% \n",
    "    add_column(\"regulator_motif\" = tar2reg$regulator_motif, \"target_gene\" = tar2reg$target_gene, .before = \"A1\")\n",
    "names(tar2reg) <- c(\"regulator_motif\", \"target_gene\", \"ES\", \"H1\", \"H4\", \"H16\", \"D1\", \"D4\")\n",
    "\n",
    "# replace motif names with gene names\n",
    "tar2reg <- left_join(tar2reg, motif_lookup[, 1:2], by = c(\"regulator_motif\" = \"motif\")) %>% \n",
    "                select(gene_name, target_gene: D4) %>%\n",
    "                group_by(gene_name, target_gene) %>% summarise_all(sum) %>%\n",
    "                rename(\"gene_name\" = \"regulator_gene\")\n",
    "\n",
    "tar2reg <- ungroup(tar2reg)"
   ]
  },
  {
   "cell_type": "markdown",
   "metadata": {
    "jp-MarkdownHeadingCollapsed": true,
    "tags": []
   },
   "source": [
    "#### 1. & 2. write out result"
   ]
  },
  {
   "cell_type": "raw",
   "metadata": {},
   "source": [
    "WriteXLS(c(\"reg2tar\" , \"tar2reg\"), \"../Interactions_HitTF_ATAC_20200104.xlsx\",\n",
    "        c(\"Regulator_to_Target\", \"Target_to_Regulator\"))"
   ]
  },
  {
   "cell_type": "markdown",
   "metadata": {},
   "source": [
    "---"
   ]
  },
  {
   "cell_type": "markdown",
   "metadata": {},
   "source": [
    "### Limit search within TFs (~ 1800 TFs)\n",
    "\n",
    "### 3. Out of all TF motifs ( ~ 578), find their targets."
   ]
  },
  {
   "cell_type": "code",
   "execution_count": 27,
   "metadata": {
    "ExecuteTime": {
     "end_time": "2020-01-06T00:22:04.230055Z",
     "start_time": "2020-01-06T00:22:04.186Z"
    }
   },
   "outputs": [],
   "source": [
    "# get a list of hit motif names\n",
    "tf_motifs <- filter(motif_lookup, is_tf == \"Yes\") %>% pull(motif) %>% sort\n",
    "names(tf_motifs) <- tf_motifs"
   ]
  },
  {
   "cell_type": "code",
   "execution_count": 28,
   "metadata": {
    "ExecuteTime": {
     "end_time": "2020-01-06T00:22:28.067561Z",
     "start_time": "2020-01-06T00:22:28.030Z"
    }
   },
   "outputs": [],
   "source": [
    "tic()"
   ]
  },
  {
   "cell_type": "code",
   "execution_count": 29,
   "metadata": {},
   "outputs": [],
   "source": [
    "# Given a list of motifs, find their binding target genes\n",
    "reg2tar_tf <- imap_dfr(tf_motifs, ~ getTargetsFromMotif(.x, Jaspar_ix, gene_region, 100, tflist) %>% \n",
    "                            add_column(\"regulator_motif\" = .y, .before = \"target_gene\"))\n",
    "\n",
    "# Get gene name from motif name and summarize read counts per interaction (regulator - target combinations)\n",
    "reg2tar_tf <- left_join(reg2tar_tf, motif_lookup[, 1:2], by = c(\"regulator_motif\" = \"motif\")) %>% \n",
    "                        rename(\"gene_name\" = \"regulator_gene\") %>%\n",
    "                        select(regulator_gene, target_gene, A1:A12) %>% \n",
    "                        group_by(regulator_gene, target_gene) %>% \n",
    "                        summarise_all(sum)\n",
    "\n",
    "# Combine replicate 1 and replicate 2 by taking the mean\n",
    "# Result in just ES and 5 time points\n",
    "rep1 <- paste0(rep(\"A\", 6), seq(1, 11, 2))\n",
    "rep2 <- paste0(rep(\"A\", 6), seq(2, 12, 2))\n",
    "reg2tar_tf <- map2_df(reg2tar_tf[, rep1], reg2tar_tf[, rep2], ~ map2_dbl(.x, .y, ~ mean(c(.x, .y))) ) %>% \n",
    "    add_column(\"regulator_gene\" = reg2tar_tf$regulator_gene, \"target_gene\" = reg2tar_tf$target_gene, .before = \"A1\")\n",
    "names(reg2tar_tf) <- c(\"regulator_gene\", \"target_gene\", \"ES\", \"H1\", \"H4\", \"H16\", \"D1\", \"D4\")\n",
    "# Ungroup\n",
    "reg2tar_tf <- ungroup(reg2tar_tf)\n",
    "# Round digits to integers\n",
    "reg2tar_tf =  mutate_at(reg2tar_tf, .vars = c(\"ES\", \"H1\", \"H4\", \"H16\", \"D1\", \"D4\"), .funs = list(round))"
   ]
  },
  {
   "cell_type": "code",
   "execution_count": 30,
   "metadata": {
    "ExecuteTime": {
     "end_time": "2020-01-06T00:23:41.944553Z",
     "start_time": "2020-01-06T00:22:28.034Z"
    }
   },
   "outputs": [
    {
     "name": "stdout",
     "output_type": "stream",
     "text": [
      "145.997 sec elapsed\n"
     ]
    }
   ],
   "source": [
    "toc()"
   ]
  },
  {
   "cell_type": "markdown",
   "metadata": {},
   "source": [
    "### 4. Out of ~ 1800 TFs, find their regulators. (time consuming! 30 min with 16 cores)"
   ]
  },
  {
   "cell_type": "code",
   "execution_count": 31,
   "metadata": {},
   "outputs": [
    {
     "name": "stdout",
     "output_type": "stream",
     "text": [
      " chr [1:1889] \"ABL1\" \"ABT1\" \"ABTB1\" \"ADNP\" \"ADNP2\" \"AEBP1\" \"AEBP2\" \"AFF1\" ...\n"
     ]
    }
   ],
   "source": [
    "tflist %>% str"
   ]
  },
  {
   "cell_type": "code",
   "execution_count": 32,
   "metadata": {},
   "outputs": [],
   "source": [
    "tic()"
   ]
  },
  {
   "cell_type": "code",
   "execution_count": 33,
   "metadata": {},
   "outputs": [],
   "source": [
    "# given a list of gene, find the regulators of each gene\n",
    "tar2reg_tf <- mclapply(tflist, function(x) getRegulatorsOfGene(x, Jaspar_ix, gene_region, 100, tf.motif.list), mc.cores = 16)\n",
    "\n",
    "# remove null elements\n",
    "tar2reg_tf <- map_lgl(tar2reg_tf, ~ ! is_null(.x)) %>% which %>% tar2reg_tf[.]\n",
    "# combine into one dataframe\n",
    "tar2reg_tf <- do.call(rbind, tar2reg_tf)\n",
    "                       \n",
    "# combine replicate 1 and replicate 2 by taking the mean\n",
    "# Result in just ES and 5 time points\n",
    "rep1 <- paste0(rep(\"A\", 6), seq(1, 11, 2))\n",
    "rep2 <- paste0(rep(\"A\", 6), seq(2, 12, 2))\n",
    "                       \n",
    "tar2reg_tf <- map2_df(tar2reg_tf[, rep1], tar2reg_tf[, rep2], ~ map2_dbl(.x, .y, ~ mean(c(.x, .y)))) %>% \n",
    "    add_column(\"regulator_motif\" = tar2reg_tf$regulator_motif, \"target_gene\" = tar2reg_tf$target_gene, .before = \"A1\")\n",
    "names(tar2reg_tf) <- c(\"regulator_motif\", \"target_gene\", \"ES\", \"H1\", \"H4\", \"H16\", \"D1\", \"D4\")\n",
    "\n",
    "# replace motif names with gene names\n",
    "tar2reg_tf <- left_join(tar2reg_tf, motif_lookup[, 1:2], by = c(\"regulator_motif\" = \"motif\")) %>% \n",
    "                select(gene_name, target_gene: D4) %>%\n",
    "                group_by(gene_name, target_gene) %>% summarise_all(sum) %>%\n",
    "                rename(\"gene_name\" = \"regulator_gene\")\n",
    "tar2reg_tf <- ungroup(tar2reg_tf)"
   ]
  },
  {
   "cell_type": "code",
   "execution_count": 34,
   "metadata": {},
   "outputs": [],
   "source": [
    "tar2reg_tf = mutate_at(tar2reg_tf, c(\"ES\", \"H1\", \"H4\", \"H16\", \"D1\", \"D4\"), list(round))"
   ]
  },
  {
   "cell_type": "code",
   "execution_count": 35,
   "metadata": {},
   "outputs": [
    {
     "name": "stdout",
     "output_type": "stream",
     "text": [
      "2770.224 sec elapsed\n"
     ]
    }
   ],
   "source": [
    "toc()"
   ]
  },
  {
   "cell_type": "code",
   "execution_count": 36,
   "metadata": {
    "ExecuteTime": {
     "end_time": "2020-01-06T00:26:19.716748Z",
     "start_time": "2020-01-06T00:26:19.670Z"
    }
   },
   "outputs": [
    {
     "data": {
      "text/html": [
       "<style>\n",
       ".list-inline {list-style: none; margin:0; padding: 0}\n",
       ".list-inline>li {display: inline-block}\n",
       ".list-inline>li:not(:last-child)::after {content: \"\\00b7\"; padding: 0 .5ex}\n",
       "</style>\n",
       "<ol class=list-inline><li>477288</li><li>8</li></ol>\n"
      ],
      "text/latex": [
       "\\begin{enumerate*}\n",
       "\\item 477288\n",
       "\\item 8\n",
       "\\end{enumerate*}\n"
      ],
      "text/markdown": [
       "1. 477288\n",
       "2. 8\n",
       "\n",
       "\n"
      ],
      "text/plain": [
       "[1] 477288      8"
      ]
     },
     "metadata": {},
     "output_type": "display_data"
    },
    {
     "data": {
      "text/html": [
       "<style>\n",
       ".list-inline {list-style: none; margin:0; padding: 0}\n",
       ".list-inline>li {display: inline-block}\n",
       ".list-inline>li:not(:last-child)::after {content: \"\\00b7\"; padding: 0 .5ex}\n",
       "</style>\n",
       "<ol class=list-inline><li>477288</li><li>8</li></ol>\n"
      ],
      "text/latex": [
       "\\begin{enumerate*}\n",
       "\\item 477288\n",
       "\\item 8\n",
       "\\end{enumerate*}\n"
      ],
      "text/markdown": [
       "1. 477288\n",
       "2. 8\n",
       "\n",
       "\n"
      ],
      "text/plain": [
       "[1] 477288      8"
      ]
     },
     "metadata": {},
     "output_type": "display_data"
    }
   ],
   "source": [
    "reg2tar_tf %>% dim\n",
    "tar2reg_tf %>% dim"
   ]
  },
  {
   "cell_type": "code",
   "execution_count": 70,
   "metadata": {
    "ExecuteTime": {
     "end_time": "2020-01-06T00:26:19.716748Z",
     "start_time": "2020-01-06T00:26:19.670Z"
    }
   },
   "outputs": [
    {
     "data": {
      "text/html": [
       "<ol class=list-inline>\n",
       "\t<li>254876</li>\n",
       "\t<li>8</li>\n",
       "</ol>\n"
      ],
      "text/latex": [
       "\\begin{enumerate*}\n",
       "\\item 254876\n",
       "\\item 8\n",
       "\\end{enumerate*}\n"
      ],
      "text/markdown": [
       "1. 254876\n",
       "2. 8\n",
       "\n",
       "\n"
      ],
      "text/plain": [
       "[1] 254876      8"
      ]
     },
     "metadata": {},
     "output_type": "display_data"
    },
    {
     "data": {
      "text/html": [
       "<ol class=list-inline>\n",
       "\t<li>254876</li>\n",
       "\t<li>8</li>\n",
       "</ol>\n"
      ],
      "text/latex": [
       "\\begin{enumerate*}\n",
       "\\item 254876\n",
       "\\item 8\n",
       "\\end{enumerate*}\n"
      ],
      "text/markdown": [
       "1. 254876\n",
       "2. 8\n",
       "\n",
       "\n"
      ],
      "text/plain": [
       "[1] 254876      8"
      ]
     },
     "metadata": {},
     "output_type": "display_data"
    }
   ],
   "source": [
    "reg2tar_tf %>% dim\n",
    "tar2reg_tf %>% dim"
   ]
  },
  {
   "cell_type": "markdown",
   "metadata": {},
   "source": [
    "### 3. & 4. write out result"
   ]
  },
  {
   "cell_type": "code",
   "execution_count": 73,
   "metadata": {},
   "outputs": [
    {
     "data": {
      "text/html": [
       "'/gpfs/commons/groups/sanjana_lab/cdai/TFscreen/atac'"
      ],
      "text/latex": [
       "'/gpfs/commons/groups/sanjana\\_lab/cdai/TFscreen/atac'"
      ],
      "text/markdown": [
       "'/gpfs/commons/groups/sanjana_lab/cdai/TFscreen/atac'"
      ],
      "text/plain": [
       "[1] \"/gpfs/commons/groups/sanjana_lab/cdai/TFscreen/atac\""
      ]
     },
     "metadata": {},
     "output_type": "display_data"
    }
   ],
   "source": [
    "getwd()"
   ]
  },
  {
   "cell_type": "raw",
   "metadata": {},
   "source": [
    "WriteXLS(c(\"reg2tar_tf\" , \"tar2reg_tf\"), \"results/notebook_results/rawCounts_intergenic_AllTF_interactions_20220108.xlsx\",\n",
    "        c(\"Regulator_to_Target\", \"Target_to_Regulator\"))"
   ]
  },
  {
   "cell_type": "markdown",
   "metadata": {},
   "source": [
    "### 5. Combine reg2tar and tar2reg dataset?\n",
    "\n",
    "Identical interactions such as `NEUROG2 -> ZBTB18` should have the same number of read counts in either dataset."
   ]
  },
  {
   "cell_type": "markdown",
   "metadata": {},
   "source": [
    "Code cell below checks if identical interactions in reg2tar_tf (reg2tar) and tar2reg_tf(tar2reg) have the same read counts, in general they do. For some reason, there are discrepances in the `*_tf` datasets. But these are mostlly `JUNB:FOS`, which will be filtered out in the end. So not a concern. "
   ]
  },
  {
   "cell_type": "raw",
   "metadata": {},
   "source": [
    "# Check if the same interaction has the same read counts in reg2tar vs. tar2reg\n",
    "x <- reg2tar_tf %>% as.data.frame %>% mutate(\"new\" = paste0(regulator_gene, target_gene))\n",
    "y <- tar2reg_tf %>% as.data.frame %>% mutate(\"new\" = paste0(regulator_gene, target_gene))\n",
    "\n",
    "for (tt in c(\"ES\", \"H16\", \"D1\", \"D4\")) {\n",
    "    inner_join(x,y, by = \"new\", suffix = c(\".x\",\".y\")) %>% apply(1, function(z) {z[[paste0(tt, \".x\")]] == z[[paste0(tt, \".y\")]]} ) %>% all %>% print\n",
    "    idx <- inner_join(x,y, by = \"new\", suffix = c(\".x\",\".y\"))  %>% select_at(vars(starts_with(tt))) %>% apply(1, function(z) z[1] != z[2]) %>% which\n",
    "    idx2 <- inner_join(x,y, by = \"new\", suffix = c(\".x\",\".y\")) %>% .[idx,] %>% select_at(vars(starts_with(\"ES\"))) %>% rownames_to_column(\"rowID\") %>% mutate(\"sub\" = abs(ES.y - ES.x)) %>% filter(sub > 1e-6) %>%\n",
    "        pull(rowID) %>% as.integer\n",
    "    inner_join(x,y, by = \"new\", suffix = c(\".x\",\".y\")) %>% .[idx2,] %>% print\n",
    "}"
   ]
  },
  {
   "cell_type": "markdown",
   "metadata": {},
   "source": [
    "##### merge reg2tar and tar2reg dataset, at this point, we an use either the hit dataset or the all TF dataset"
   ]
  },
  {
   "cell_type": "code",
   "execution_count": 37,
   "metadata": {
    "ExecuteTime": {
     "end_time": "2020-01-06T00:18:51.446235Z",
     "start_time": "2020-01-06T00:18:51.060Z"
    }
   },
   "outputs": [],
   "source": [
    "# Concatenate regulator and target, used as key\n",
    "reg2tar_tf <- mutate(reg2tar_tf, \"interaction\" = paste0(regulator_gene, \"_\", target_gene))\n",
    "tar2reg_tf <- mutate(tar2reg_tf, \"interaction\" = paste0(regulator_gene, \"_\", target_gene))\n",
    "\n",
    "keys1 <- paste0(reg2tar_tf$regulator_gene, \"_\", reg2tar_tf$target_gene)\n",
    "keys2 <- paste0(tar2reg_tf$regulator_gene, \"_\", tar2reg_tf$target_gene)\n",
    "\n",
    "common_keys <- intersect(keys1, keys2) # interactions shared between 2 datasets\n",
    "keys1 <- setdiff(keys1, common_keys) # interactions in reg2tar only\n",
    "keys2 <- setdiff(keys2, common_keys) # interactions in tar2reg only\n",
    "\n",
    "# Combine the two datasets such that overlapping interactions are only stored once\n",
    "interactions <- rbind(filter(reg2tar_tf, interaction %in% c(keys1, common_keys)), filter(tar2reg_tf, interaction %in% c(keys2)))"
   ]
  },
  {
   "cell_type": "raw",
   "metadata": {
    "ExecuteTime": {
     "end_time": "2020-01-05T20:52:16.868806Z",
     "start_time": "2020-01-05T20:52:16.818Z"
    }
   },
   "source": [
    "interactions %>% write.table(\"results/notebook_results/Interactions_ATAC_rawCounts_AllTF_intergenic_20220919.csv\", quote = F, sep = \",\", row.names = F, col.names = T)"
   ]
  },
  {
   "cell_type": "markdown",
   "metadata": {},
   "source": [
    "---"
   ]
  },
  {
   "cell_type": "markdown",
   "metadata": {},
   "source": [
    "### 6. Integrate interaction ATAC read counts with target gene expression, calculate correlations.\n",
    "\n",
    "Comparing time points are: `ES, H16, D1, D4` *(H16 is H15 in RNA-seq data)*"
   ]
  },
  {
   "cell_type": "code",
   "execution_count": 39,
   "metadata": {
    "ExecuteTime": {
     "end_time": "2020-01-05T21:31:59.148723Z",
     "start_time": "2020-01-05T21:31:59.048Z"
    }
   },
   "outputs": [],
   "source": [
    "#### Read in gene expression raw read counts, select only interested time poins, normalize, \n",
    "#### then create a nested dataframe making it ready for correlation calculation.\n",
    "#### Finally calculate correlations\n",
    "\n",
    "library(readxl)\n",
    "\n",
    "dge.file <- \"../../TFscreen//RNA-seq_timepoint_deseq_result_20200102.xlsx\"\n",
    "# also sheet name for raw readcounts \"rawCounts\"\n",
    "sheets <- c(\"H15_vs_ES\", \"D1_vs_ES\", \"D4_vs_ES\")\n",
    "\n",
    "dge <- map(sheets, ~ read_excel(dge.file, .x) %>% select(gene_id, gene_name, log2FoldChange, pvalue, padj))\n",
    "names(dge) <- factor(c(\"H16\", \"D1\", \"D4\"), levels = c(\"H16\", \"D1\", \"D4\"))\n",
    "dge <- map(dge, ~ drop_na(.x, gene_name)) # remove rows with no gene name"
   ]
  },
  {
   "cell_type": "code",
   "execution_count": 40,
   "metadata": {
    "ExecuteTime": {
     "end_time": "2020-01-05T21:31:59.148723Z",
     "start_time": "2020-01-05T21:31:59.048Z"
    }
   },
   "outputs": [],
   "source": [
    "dge.rawCounts <- read_excel(dge.file, \"rawCounts\")\n",
    "\n",
    "suppressMessages(rna_sample_anno <- read_csv('../../TFscreen/RNASeqSampleNames.csv'))\n",
    "\n",
    "rna_sample <- c(\"S01_B1\", \"S01_B2\", \"S02_B1\", \"S02_B2\", \"S15_B1\", \"S15_B2\", \"S16_B1\", \"S16_B2\", \n",
    "                \"S17_B1\", \"S17_B2\", \"S18_B1\", \"S18_B2\", \"S07_B1\", \"S07_B2\", \"S08_B1\", \"S08_B2\")"
   ]
  },
  {
   "cell_type": "code",
   "execution_count": 41,
   "metadata": {
    "ExecuteTime": {
     "end_time": "2020-01-05T20:50:49.999051Z",
     "start_time": "2020-01-05T20:50:49.936Z"
    },
    "scrolled": true
   },
   "outputs": [
    {
     "data": {
      "text/html": [
       "<table class=\"dataframe\">\n",
       "<caption>A matrix: 2 × 16 of type chr</caption>\n",
       "<tbody>\n",
       "\t<tr><th scope=row>sample</th><td>S01_B1</td><td>S01_B2</td><td>S02_B1</td><td>S02_B2</td><td>S07_B1</td><td>S07_B2</td><td>S08_B1</td><td>S08_B2</td><td>S15_B1</td><td>S15_B2</td><td>S16_B1</td><td>S16_B2</td><td>S17_B1</td><td>S17_B2</td><td>S18_B1</td><td>S18_B2</td></tr>\n",
       "\t<tr><th scope=row>group</th><td>ES    </td><td>ES    </td><td>ES    </td><td>ES    </td><td>D4    </td><td>D4    </td><td>D4    </td><td>D4    </td><td>H15   </td><td>H15   </td><td>H15   </td><td>H15   </td><td>D1    </td><td>D1    </td><td>D1    </td><td>D1    </td></tr>\n",
       "</tbody>\n",
       "</table>\n"
      ],
      "text/latex": [
       "A matrix: 2 × 16 of type chr\n",
       "\\begin{tabular}{r|llllllllllllllll}\n",
       "\tsample & S01\\_B1 & S01\\_B2 & S02\\_B1 & S02\\_B2 & S07\\_B1 & S07\\_B2 & S08\\_B1 & S08\\_B2 & S15\\_B1 & S15\\_B2 & S16\\_B1 & S16\\_B2 & S17\\_B1 & S17\\_B2 & S18\\_B1 & S18\\_B2\\\\\n",
       "\tgroup & ES     & ES     & ES     & ES     & D4     & D4     & D4     & D4     & H15    & H15    & H15    & H15    & D1     & D1     & D1     & D1    \\\\\n",
       "\\end{tabular}\n"
      ],
      "text/markdown": [
       "\n",
       "A matrix: 2 × 16 of type chr\n",
       "\n",
       "| sample | S01_B1 | S01_B2 | S02_B1 | S02_B2 | S07_B1 | S07_B2 | S08_B1 | S08_B2 | S15_B1 | S15_B2 | S16_B1 | S16_B2 | S17_B1 | S17_B2 | S18_B1 | S18_B2 |\n",
       "| group | ES     | ES     | ES     | ES     | D4     | D4     | D4     | D4     | H15    | H15    | H15    | H15    | D1     | D1     | D1     | D1     |\n",
       "\n"
      ],
      "text/plain": [
       "       [,1]   [,2]   [,3]   [,4]   [,5]   [,6]   [,7]   [,8]   [,9]   [,10] \n",
       "sample S01_B1 S01_B2 S02_B1 S02_B2 S07_B1 S07_B2 S08_B1 S08_B2 S15_B1 S15_B2\n",
       "group  ES     ES     ES     ES     D4     D4     D4     D4     H15    H15   \n",
       "       [,11]  [,12]  [,13]  [,14]  [,15]  [,16] \n",
       "sample S16_B1 S16_B2 S17_B1 S17_B2 S18_B1 S18_B2\n",
       "group  H15    H15    D1     D1     D1     D1    "
      ]
     },
     "metadata": {},
     "output_type": "display_data"
    }
   ],
   "source": [
    "# Check rna samples (not needed for analysis)\n",
    "rna_sample_anno %>% filter(sample %in% rna_sample) %>% select(sample, group) %>% t"
   ]
  },
  {
   "cell_type": "code",
   "execution_count": 42,
   "metadata": {},
   "outputs": [],
   "source": [
    "# Normalize read counts: first calc reads per million then take sqrt\n",
    "dge.normCounts <- select(dge.rawCounts, - gene_id, - gene_name) %>% apply(2, function(x) sqrt(x * 1e6 / sum(x)) ) %>% as.data.frame\n",
    "\n",
    "# replicate names\n",
    "rna.rep1 <- c(\"S01_B1\", \"S15_B1\", \"S17_B1\", \"S07_B1\")\n",
    "rna.rep2 <- c(\"S01_B2\", \"S15_B2\", \"S17_B2\", \"S07_B2\")\n",
    "rna.rep3 <- c(\"S02_B1\", \"S16_B1\", \"S18_B1\", \"S08_B1\")\n",
    "rna.rep4 <- c(\"S02_B2\", \"S16_B2\", \"S18_B2\", \"S08_B2\")\n",
    "\n",
    "# combine 4 replicates into 1, using average\n",
    "dge.normCounts <- pmap_df(list(dge.normCounts[, rna.rep1], dge.normCounts[, rna.rep2], dge.normCounts[, rna.rep3], dge.normCounts[, rna.rep4]), \n",
    "                            ~ pmap_dbl(list(..1, ..2, ..3, ..4), ~ mean(c(..1, ..2, ..3, ..4)))) %>%\n",
    "                        add_column(\"gene_id\" = dge.rawCounts$gene_id, \"gene_name\" = dge.rawCounts$gene_name, .before= \"S01_B1\")\n",
    "names(dge.normCounts) <- c(\"gene_id\", \"gene_name\", \"ES\", \"H16\", \"D1\", \"D4\")\n",
    "\n",
    "# some gene_ids correspond to multiple or NA gene names, remove these ~ 211 gene ids\n",
    "remove.gene.idx <- dge.normCounts[, 1:2] %>% group_by(gene_name) %>% tally %>% filter(n > 1) %>% pull(gene_name)\n",
    "remove.gene.id <- dge.normCounts %>% filter(gene_name %in% remove.gene.idx) %>% pull(gene_id)\n",
    "dge.normCounts <- filter(dge.normCounts, ! gene_id %in% remove.gene.id)\n",
    "\n",
    "# Create nested dataframe with each time point expression values in a list\n",
    "dge.byGene <- select(dge.normCounts, - gene_id) %>% group_by(gene_name) %>% nest(tar.ge = c(ES, H16, D1, D4))\n",
    "\n",
    "# do the same for raw counts (useful later for regulator count filters)\n",
    "dge.rawCounts <- pmap_df(list(dge.rawCounts[, rna.rep1], dge.rawCounts[, rna.rep2], dge.rawCounts[, rna.rep3], dge.rawCounts[, rna.rep4]), \n",
    "                            ~ pmap_dbl(list(..1, ..2, ..3, ..4), ~ mean(c(..1, ..2, ..3, ..4)))) %>%\n",
    "                        add_column(\"gene_id\" = dge.rawCounts$gene_id, \"gene_name\" = dge.rawCounts$gene_name, .before= \"S01_B1\")\n",
    "names(dge.rawCounts) <- c(\"gene_id\", \"gene_name\", \"ES\", \"H16\", \"D1\", \"D4\")\n",
    "\n",
    "dge.rawCounts <- filter(dge.rawCounts, ! gene_id %in% remove.gene.id) %>%\n",
    "                        select( - gene_id) %>% mutate_at(c(\"ES\", \"H16\", \"D1\", \"D4\"), ~ as.integer(.)) %>% nest(reg.cnt = c(ES, H16, D1, D4))"
   ]
  },
  {
   "cell_type": "code",
   "execution_count": 43,
   "metadata": {
    "ExecuteTime": {
     "end_time": "2020-01-05T23:08:32.613112Z",
     "start_time": "2020-01-05T23:08:21.132Z"
    }
   },
   "outputs": [],
   "source": [
    "# Get read counts of ATAC-seq for interactions at intersted time points, store in nested dataframe\n",
    "interactions <- as.data.frame(interactions) %>% select(-H1, -H4, -interaction) %>% group_by(regulator_gene, target_gene) %>%\n",
    "            nest(atac = c(ES, H16, D1, D4))\n",
    "\n",
    "# Combine ATAC-seq and RNA-seq data of selected interactions at time points.\n",
    "atac_dge <- inner_join(interactions, dge.byGene, by = c(\"target_gene\" = \"gene_name\"))\n",
    "\n",
    "# Run correlation test on ATAC-seq read counts and RNA-seq read counts\n",
    "suppressWarnings(cor_test <- map2(atac_dge$atac, atac_dge$tar.ge, ~ cor.test(unlist(.x), unlist(.y), method = \"p\")))\n",
    "\n",
    "# Extract pearson correlation and p-values and store along with read counts for each interactions\n",
    "inter_corr <- add_column(atac_dge, \"corr\" = map_dbl(cor_test, ~.x$estimate)) %>%\n",
    "            add_column(\"cor_p\" = map_dbl(cor_test, ~.x$p.value))"
   ]
  },
  {
   "cell_type": "code",
   "execution_count": 44,
   "metadata": {
    "ExecuteTime": {
     "end_time": "2020-01-05T23:08:35.147070Z",
     "start_time": "2020-01-05T23:08:33.475Z"
    }
   },
   "outputs": [
    {
     "data": {
      "text/html": [
       "<table class=\"dataframe\">\n",
       "<caption>A grouped_df: 6 × 6</caption>\n",
       "<thead>\n",
       "\t<tr><th scope=col>regulator_gene</th><th scope=col>target_gene</th><th scope=col>atac</th><th scope=col>tar.ge</th><th scope=col>corr</th><th scope=col>cor_p</th></tr>\n",
       "\t<tr><th scope=col>&lt;chr&gt;</th><th scope=col>&lt;chr&gt;</th><th scope=col>&lt;list&gt;</th><th scope=col>&lt;list&gt;</th><th scope=col>&lt;dbl&gt;</th><th scope=col>&lt;dbl&gt;</th></tr>\n",
       "</thead>\n",
       "<tbody>\n",
       "\t<tr><td>NEUROG2</td><td>AEBP1 </td><td>132, 110, 200, 96</td><td>3.164558, 2.780241, 4.209366, 2.022166</td><td> 0.9674061</td><td>0.032593850</td></tr>\n",
       "\t<tr><td>NEUROG2</td><td>ANKZF1</td><td>200, 262, 454, 360</td><td>5.865387, 5.536853, 4.507372, 4.831147</td><td>-0.9902439</td><td>0.009756150</td></tr>\n",
       "\t<tr><td>NEUROG2</td><td>ASB6  </td><td>424, 453, 786, 836</td><td>5.818059, 6.609648, 8.058946, 9.049867</td><td> 0.9668239</td><td>0.033176118</td></tr>\n",
       "\t<tr><td>NEUROG2</td><td>ASCC1 </td><td>232, 244, 534, 264</td><td>4.182794, 4.271233, 2.227073, 3.979258</td><td>-0.9968055</td><td>0.003194537</td></tr>\n",
       "\t<tr><td>NEUROG2</td><td>BARX2 </td><td>171, 188, 384, 374</td><td>0.1054361, 0.3021371, 0.6228801, 0.6747453</td><td> 0.9643166</td><td>0.035683447</td></tr>\n",
       "\t<tr><td>NEUROG2</td><td>BTF3  </td><td>110, 121, 169, 265</td><td>24.83077, 25.67861, 24.19530, 21.96138</td><td>-0.9595156</td><td>0.040484440</td></tr>\n",
       "</tbody>\n",
       "</table>\n"
      ],
      "text/latex": [
       "A grouped\\_df: 6 × 6\n",
       "\\begin{tabular}{llllll}\n",
       " regulator\\_gene & target\\_gene & atac & tar.ge & corr & cor\\_p\\\\\n",
       " <chr> & <chr> & <list> & <list> & <dbl> & <dbl>\\\\\n",
       "\\hline\n",
       "\t NEUROG2 & AEBP1  & 132, 110, 200, 96 & 3.164558, 2.780241, 4.209366, 2.022166 &  0.9674061 & 0.032593850\\\\\n",
       "\t NEUROG2 & ANKZF1 & 200, 262, 454, 360 & 5.865387, 5.536853, 4.507372, 4.831147 & -0.9902439 & 0.009756150\\\\\n",
       "\t NEUROG2 & ASB6   & 424, 453, 786, 836 & 5.818059, 6.609648, 8.058946, 9.049867 &  0.9668239 & 0.033176118\\\\\n",
       "\t NEUROG2 & ASCC1  & 232, 244, 534, 264 & 4.182794, 4.271233, 2.227073, 3.979258 & -0.9968055 & 0.003194537\\\\\n",
       "\t NEUROG2 & BARX2  & 171, 188, 384, 374 & 0.1054361, 0.3021371, 0.6228801, 0.6747453 &  0.9643166 & 0.035683447\\\\\n",
       "\t NEUROG2 & BTF3   & 110, 121, 169, 265 & 24.83077, 25.67861, 24.19530, 21.96138 & -0.9595156 & 0.040484440\\\\\n",
       "\\end{tabular}\n"
      ],
      "text/markdown": [
       "\n",
       "A grouped_df: 6 × 6\n",
       "\n",
       "| regulator_gene &lt;chr&gt; | target_gene &lt;chr&gt; | atac &lt;list&gt; | tar.ge &lt;list&gt; | corr &lt;dbl&gt; | cor_p &lt;dbl&gt; |\n",
       "|---|---|---|---|---|---|\n",
       "| NEUROG2 | AEBP1  | 132, 110, 200, 96 | 3.164558, 2.780241, 4.209366, 2.022166 |  0.9674061 | 0.032593850 |\n",
       "| NEUROG2 | ANKZF1 | 200, 262, 454, 360 | 5.865387, 5.536853, 4.507372, 4.831147 | -0.9902439 | 0.009756150 |\n",
       "| NEUROG2 | ASB6   | 424, 453, 786, 836 | 5.818059, 6.609648, 8.058946, 9.049867 |  0.9668239 | 0.033176118 |\n",
       "| NEUROG2 | ASCC1  | 232, 244, 534, 264 | 4.182794, 4.271233, 2.227073, 3.979258 | -0.9968055 | 0.003194537 |\n",
       "| NEUROG2 | BARX2  | 171, 188, 384, 374 | 0.1054361, 0.3021371, 0.6228801, 0.6747453 |  0.9643166 | 0.035683447 |\n",
       "| NEUROG2 | BTF3   | 110, 121, 169, 265 | 24.83077, 25.67861, 24.19530, 21.96138 | -0.9595156 | 0.040484440 |\n",
       "\n"
      ],
      "text/plain": [
       "  regulator_gene target_gene atac              \n",
       "1 NEUROG2        AEBP1       132, 110, 200, 96 \n",
       "2 NEUROG2        ANKZF1      200, 262, 454, 360\n",
       "3 NEUROG2        ASB6        424, 453, 786, 836\n",
       "4 NEUROG2        ASCC1       232, 244, 534, 264\n",
       "5 NEUROG2        BARX2       171, 188, 384, 374\n",
       "6 NEUROG2        BTF3        110, 121, 169, 265\n",
       "  tar.ge                                     corr       cor_p      \n",
       "1 3.164558, 2.780241, 4.209366, 2.022166      0.9674061 0.032593850\n",
       "2 5.865387, 5.536853, 4.507372, 4.831147     -0.9902439 0.009756150\n",
       "3 5.818059, 6.609648, 8.058946, 9.049867      0.9668239 0.033176118\n",
       "4 4.182794, 4.271233, 2.227073, 3.979258     -0.9968055 0.003194537\n",
       "5 0.1054361, 0.3021371, 0.6228801, 0.6747453  0.9643166 0.035683447\n",
       "6 24.83077, 25.67861, 24.19530, 21.96138     -0.9595156 0.040484440"
      ]
     },
     "metadata": {},
     "output_type": "display_data"
    }
   ],
   "source": [
    "inter_corr %>% filter(cor_p < .05 & abs(corr) > .6 & str_detect(regulator_gene, \"NEUROG2\")) %>% head"
   ]
  },
  {
   "cell_type": "code",
   "execution_count": 45,
   "metadata": {
    "ExecuteTime": {
     "end_time": "2020-01-05T23:08:40.383251Z",
     "start_time": "2020-01-05T23:08:40.345Z"
    }
   },
   "outputs": [
    {
     "data": {
      "text/html": [
       "<style>\n",
       ".list-inline {list-style: none; margin:0; padding: 0}\n",
       ".list-inline>li {display: inline-block}\n",
       ".list-inline>li:not(:last-child)::after {content: \"\\00b7\"; padding: 0 .5ex}\n",
       "</style>\n",
       "<ol class=list-inline><li>459390</li><li>6</li></ol>\n"
      ],
      "text/latex": [
       "\\begin{enumerate*}\n",
       "\\item 459390\n",
       "\\item 6\n",
       "\\end{enumerate*}\n"
      ],
      "text/markdown": [
       "1. 459390\n",
       "2. 6\n",
       "\n",
       "\n"
      ],
      "text/plain": [
       "[1] 459390      6"
      ]
     },
     "metadata": {},
     "output_type": "display_data"
    }
   ],
   "source": [
    "dim(inter_corr)"
   ]
  },
  {
   "cell_type": "markdown",
   "metadata": {},
   "source": [
    "### 7. Integrate target gene's DESeq2 differential experession `FC` and `FDR` at (`H16, D1, D4`) against `ES`."
   ]
  },
  {
   "cell_type": "code",
   "execution_count": 46,
   "metadata": {
    "ExecuteTime": {
     "end_time": "2020-01-05T22:36:57.575862Z",
     "start_time": "2020-01-05T22:36:57.521Z"
    }
   },
   "outputs": [],
   "source": [
    "# Remove gene_ids, for the same reason as above for dge.normCounts\n",
    "# dge stores DESeq2 differential gene expression analysis results\n",
    "dge <- map(dge, ~ filter(.x, ! gene_id %in% remove.gene.id))\n",
    "\n",
    "# Extract Log2FoldChange and FDR (padj)\n",
    "l2fc <- data.frame(\"gene_name\" = dge$H16$gene_name,\n",
    "                    \"H16\" = dge$H16$log2FoldChange, \n",
    "                   \"D1\" = dge$D1$log2FoldChange, \n",
    "                   \"D4\" = dge$D4$log2FoldChange,\n",
    "                    stringsAsFactors = F) %>%\n",
    "            nest(l2fc = c(H16, D1, D4))\n",
    "fdr <- data.frame(\"gene_name\" = dge$H16$gene_name,\n",
    "                    \"H16\" = dge$H16$padj, \n",
    "                  \"D1\" = dge$D1$padj, \n",
    "                  \"D4\" = dge$D4$padj,\n",
    "                    stringsAsFactors = F) %>%\n",
    "            nest(fdr = c(H16, D1, D4))\n",
    "fc_fdr <- cbind(l2fc, fdr[,2])\n",
    "\n",
    "# Interaction matrix that include previous \n",
    "inter_matrix <- inner_join(inter_corr, fc_fdr, by = c(\"target_gene\" = \"gene_name\"))"
   ]
  },
  {
   "cell_type": "code",
   "execution_count": 47,
   "metadata": {},
   "outputs": [
    {
     "data": {
      "text/html": [
       "<table class=\"dataframe\">\n",
       "<caption>A grouped_df: 6 × 8</caption>\n",
       "<thead>\n",
       "\t<tr><th scope=col>regulator_gene</th><th scope=col>target_gene</th><th scope=col>atac</th><th scope=col>tar.ge</th><th scope=col>corr</th><th scope=col>cor_p</th><th scope=col>l2fc</th><th scope=col>fdr</th></tr>\n",
       "\t<tr><th scope=col>&lt;chr&gt;</th><th scope=col>&lt;chr&gt;</th><th scope=col>&lt;list&gt;</th><th scope=col>&lt;list&gt;</th><th scope=col>&lt;dbl&gt;</th><th scope=col>&lt;dbl&gt;</th><th scope=col>&lt;list&gt;</th><th scope=col>&lt;list&gt;</th></tr>\n",
       "</thead>\n",
       "<tbody>\n",
       "\t<tr><td>ALX3</td><td>ABL1 </td><td>58, 55, 87, 70</td><td>5.173194, 6.529207, 5.723459, 8.246673</td><td> 0.02506234</td><td>0.9749377</td><td>0.6320782, 0.2170690, 1.1849099</td><td>0.262886079, 0.740634623, 0.001499175</td></tr>\n",
       "\t<tr><td>ALX3</td><td>ABT1 </td><td>30, 35, 38, 12</td><td>7.872756, 7.348605, 7.966006, 7.344911</td><td> 0.55294242</td><td>0.4470576</td><td>0.01694428, 0.17787550, -0.13382753</td><td>0.9942557, 0.7615942, 0.7876390</td></tr>\n",
       "\t<tr><td>ALX3</td><td>ABTB1</td><td>284, 242, 415, 354</td><td>1.593805, 1.140030, 0.914218, 2.234686</td><td>-0.04142582</td><td>0.9585742</td><td>-0.2050566, -0.6785848, 1.1371586</td><td>0.9588951, 0.7137269, 0.3841130</td></tr>\n",
       "\t<tr><td>ALX3</td><td>ADNP </td><td>120, 96, 201, 208</td><td>10.49540, 10.76583, 10.66034, 12.07038</td><td> 0.59044179</td><td>0.4095582</td><td>0.08503511, 0.01793032, 0.32433211</td><td>0.9030131, 0.9736239, 0.2440713</td></tr>\n",
       "\t<tr><td>ALX3</td><td>AFF1 </td><td>190, 208, 274, 64</td><td>6.782081, 7.869602, 5.009183, 5.381708</td><td> 0.09976717</td><td>0.9002328</td><td>0.05826006, -0.82964306, -1.14271842</td><td>0.9831020, 0.3664824, 0.1072623</td></tr>\n",
       "\t<tr><td>ALX3</td><td>AFF4 </td><td>288, 340, 612, 549</td><td>9.71868, 10.85117, 11.69826, 14.29276</td><td> 0.72926826</td><td>0.2707317</td><td>0.2163915, 0.4003539, 0.9217811</td><td>0.76682514, 0.38390812, 0.00364119</td></tr>\n",
       "</tbody>\n",
       "</table>\n"
      ],
      "text/latex": [
       "A grouped\\_df: 6 × 8\n",
       "\\begin{tabular}{llllllll}\n",
       " regulator\\_gene & target\\_gene & atac & tar.ge & corr & cor\\_p & l2fc & fdr\\\\\n",
       " <chr> & <chr> & <list> & <list> & <dbl> & <dbl> & <list> & <list>\\\\\n",
       "\\hline\n",
       "\t ALX3 & ABL1  & 58, 55, 87, 70 & 5.173194, 6.529207, 5.723459, 8.246673 &  0.02506234 & 0.9749377 & 0.6320782, 0.2170690, 1.1849099 & 0.262886079, 0.740634623, 0.001499175\\\\\n",
       "\t ALX3 & ABT1  & 30, 35, 38, 12 & 7.872756, 7.348605, 7.966006, 7.344911 &  0.55294242 & 0.4470576 & 0.01694428, 0.17787550, -0.13382753 & 0.9942557, 0.7615942, 0.7876390\\\\\n",
       "\t ALX3 & ABTB1 & 284, 242, 415, 354 & 1.593805, 1.140030, 0.914218, 2.234686 & -0.04142582 & 0.9585742 & -0.2050566, -0.6785848, 1.1371586 & 0.9588951, 0.7137269, 0.3841130\\\\\n",
       "\t ALX3 & ADNP  & 120, 96, 201, 208 & 10.49540, 10.76583, 10.66034, 12.07038 &  0.59044179 & 0.4095582 & 0.08503511, 0.01793032, 0.32433211 & 0.9030131, 0.9736239, 0.2440713\\\\\n",
       "\t ALX3 & AFF1  & 190, 208, 274, 64 & 6.782081, 7.869602, 5.009183, 5.381708 &  0.09976717 & 0.9002328 & 0.05826006, -0.82964306, -1.14271842 & 0.9831020, 0.3664824, 0.1072623\\\\\n",
       "\t ALX3 & AFF4  & 288, 340, 612, 549 & 9.71868, 10.85117, 11.69826, 14.29276 &  0.72926826 & 0.2707317 & 0.2163915, 0.4003539, 0.9217811 & 0.76682514, 0.38390812, 0.00364119\\\\\n",
       "\\end{tabular}\n"
      ],
      "text/markdown": [
       "\n",
       "A grouped_df: 6 × 8\n",
       "\n",
       "| regulator_gene &lt;chr&gt; | target_gene &lt;chr&gt; | atac &lt;list&gt; | tar.ge &lt;list&gt; | corr &lt;dbl&gt; | cor_p &lt;dbl&gt; | l2fc &lt;list&gt; | fdr &lt;list&gt; |\n",
       "|---|---|---|---|---|---|---|---|\n",
       "| ALX3 | ABL1  | 58, 55, 87, 70 | 5.173194, 6.529207, 5.723459, 8.246673 |  0.02506234 | 0.9749377 | 0.6320782, 0.2170690, 1.1849099 | 0.262886079, 0.740634623, 0.001499175 |\n",
       "| ALX3 | ABT1  | 30, 35, 38, 12 | 7.872756, 7.348605, 7.966006, 7.344911 |  0.55294242 | 0.4470576 | 0.01694428, 0.17787550, -0.13382753 | 0.9942557, 0.7615942, 0.7876390 |\n",
       "| ALX3 | ABTB1 | 284, 242, 415, 354 | 1.593805, 1.140030, 0.914218, 2.234686 | -0.04142582 | 0.9585742 | -0.2050566, -0.6785848, 1.1371586 | 0.9588951, 0.7137269, 0.3841130 |\n",
       "| ALX3 | ADNP  | 120, 96, 201, 208 | 10.49540, 10.76583, 10.66034, 12.07038 |  0.59044179 | 0.4095582 | 0.08503511, 0.01793032, 0.32433211 | 0.9030131, 0.9736239, 0.2440713 |\n",
       "| ALX3 | AFF1  | 190, 208, 274, 64 | 6.782081, 7.869602, 5.009183, 5.381708 |  0.09976717 | 0.9002328 | 0.05826006, -0.82964306, -1.14271842 | 0.9831020, 0.3664824, 0.1072623 |\n",
       "| ALX3 | AFF4  | 288, 340, 612, 549 | 9.71868, 10.85117, 11.69826, 14.29276 |  0.72926826 | 0.2707317 | 0.2163915, 0.4003539, 0.9217811 | 0.76682514, 0.38390812, 0.00364119 |\n",
       "\n"
      ],
      "text/plain": [
       "  regulator_gene target_gene atac              \n",
       "1 ALX3           ABL1        58, 55, 87, 70    \n",
       "2 ALX3           ABT1        30, 35, 38, 12    \n",
       "3 ALX3           ABTB1       284, 242, 415, 354\n",
       "4 ALX3           ADNP        120, 96, 201, 208 \n",
       "5 ALX3           AFF1        190, 208, 274, 64 \n",
       "6 ALX3           AFF4        288, 340, 612, 549\n",
       "  tar.ge                                 corr        cor_p    \n",
       "1 5.173194, 6.529207, 5.723459, 8.246673  0.02506234 0.9749377\n",
       "2 7.872756, 7.348605, 7.966006, 7.344911  0.55294242 0.4470576\n",
       "3 1.593805, 1.140030, 0.914218, 2.234686 -0.04142582 0.9585742\n",
       "4 10.49540, 10.76583, 10.66034, 12.07038  0.59044179 0.4095582\n",
       "5 6.782081, 7.869602, 5.009183, 5.381708  0.09976717 0.9002328\n",
       "6 9.71868, 10.85117, 11.69826, 14.29276   0.72926826 0.2707317\n",
       "  l2fc                                 fdr                                  \n",
       "1 0.6320782, 0.2170690, 1.1849099      0.262886079, 0.740634623, 0.001499175\n",
       "2 0.01694428, 0.17787550, -0.13382753  0.9942557, 0.7615942, 0.7876390      \n",
       "3 -0.2050566, -0.6785848, 1.1371586    0.9588951, 0.7137269, 0.3841130      \n",
       "4 0.08503511, 0.01793032, 0.32433211   0.9030131, 0.9736239, 0.2440713      \n",
       "5 0.05826006, -0.82964306, -1.14271842 0.9831020, 0.3664824, 0.1072623      \n",
       "6 0.2163915, 0.4003539, 0.9217811      0.76682514, 0.38390812, 0.00364119   "
      ]
     },
     "metadata": {},
     "output_type": "display_data"
    },
    {
     "data": {
      "text/html": [
       "<style>\n",
       ".list-inline {list-style: none; margin:0; padding: 0}\n",
       ".list-inline>li {display: inline-block}\n",
       ".list-inline>li:not(:last-child)::after {content: \"\\00b7\"; padding: 0 .5ex}\n",
       "</style>\n",
       "<ol class=list-inline><li>459390</li><li>8</li></ol>\n"
      ],
      "text/latex": [
       "\\begin{enumerate*}\n",
       "\\item 459390\n",
       "\\item 8\n",
       "\\end{enumerate*}\n"
      ],
      "text/markdown": [
       "1. 459390\n",
       "2. 8\n",
       "\n",
       "\n"
      ],
      "text/plain": [
       "[1] 459390      8"
      ]
     },
     "metadata": {},
     "output_type": "display_data"
    }
   ],
   "source": [
    "head(inter_matrix)\n",
    "dim(inter_matrix)"
   ]
  },
  {
   "cell_type": "markdown",
   "metadata": {},
   "source": [
    "### 8. Integrate regulator gene expression\n",
    "\n",
    "##### Note: read counts for regulator gene expression is raw read counts, while for target gene expression is sqrt(reads per million) normalized, because we need to raw read counts to filter regulator while we used normalized reads of target to calculate correlation with ATAC seq read counts."
   ]
  },
  {
   "cell_type": "code",
   "execution_count": 48,
   "metadata": {},
   "outputs": [],
   "source": [
    "tic()"
   ]
  },
  {
   "cell_type": "code",
   "execution_count": 49,
   "metadata": {
    "ExecuteTime": {
     "end_time": "2020-01-05T23:56:11.900879Z",
     "start_time": "2020-01-05T23:55:30.957Z"
    }
   },
   "outputs": [],
   "source": [
    "# Add regulator gene expression\n",
    "inter_matrix <- inner_join(inter_matrix, dge.rawCounts, by = c(\"regulator_gene\" = \"gene_name\"))"
   ]
  },
  {
   "cell_type": "code",
   "execution_count": 50,
   "metadata": {
    "ExecuteTime": {
     "end_time": "2020-01-05T23:56:11.900879Z",
     "start_time": "2020-01-05T23:55:30.957Z"
    }
   },
   "outputs": [],
   "source": [
    "# Add explanation for ouput columns\n",
    "column_explanation <- tribble(~name, ~notes,\n",
    "       \"regulator_gene\", \"regulator gene name\",\n",
    "       \"target_gene\",\"target gene name\",\n",
    "       \"atac\", \"ATAC-seq observed read counts of regulator-target interaction, normalized log2(reads per million)\",\n",
    "       \"tar.ge\", \"gene expression read counts of target gene (normalized to sqrt(reads per million))\",\n",
    "       \"corr\", \"Pearson correlation between atac and tar.ge\",\n",
    "       \"cor_p\", \"p value of correlation\", \n",
    "       \"l2fc\", \"log2 fold change of target gene expression, all against ES\",\n",
    "       \"fdr\", \"fdr or adjusted p value of target gene being differentially expressed, all against ES\",\n",
    "       \"reg.ge\", \"gene expression read counts of regulator gene (normalized to sqrt(reads per million))\",\n",
    "       \"ES, H16, D1, D4\", \"conditions: ES, 16 Hour, 1 Day, and 4 Day\")"
   ]
  },
  {
   "cell_type": "code",
   "execution_count": 51,
   "metadata": {},
   "outputs": [
    {
     "name": "stdout",
     "output_type": "stream",
     "text": [
      "0.882 sec elapsed\n"
     ]
    }
   ],
   "source": [
    "toc()"
   ]
  },
  {
   "cell_type": "code",
   "execution_count": 52,
   "metadata": {},
   "outputs": [
    {
     "data": {
      "text/html": [
       "<table class=\"dataframe\">\n",
       "<caption>A grouped_df: 6 × 9</caption>\n",
       "<thead>\n",
       "\t<tr><th scope=col>regulator_gene</th><th scope=col>target_gene</th><th scope=col>atac</th><th scope=col>tar.ge</th><th scope=col>corr</th><th scope=col>cor_p</th><th scope=col>l2fc</th><th scope=col>fdr</th><th scope=col>reg.cnt</th></tr>\n",
       "\t<tr><th scope=col>&lt;chr&gt;</th><th scope=col>&lt;chr&gt;</th><th scope=col>&lt;list&gt;</th><th scope=col>&lt;list&gt;</th><th scope=col>&lt;dbl&gt;</th><th scope=col>&lt;dbl&gt;</th><th scope=col>&lt;list&gt;</th><th scope=col>&lt;list&gt;</th><th scope=col>&lt;list&gt;</th></tr>\n",
       "</thead>\n",
       "<tbody>\n",
       "\t<tr><td>AR</td><td>ABTB1</td><td>284, 242, 415, 354</td><td>1.593805, 1.140030, 0.914218, 2.234686</td><td>-0.04142582</td><td>0.95857418</td><td>-0.2050566, -0.6785848, 1.1371586</td><td>0.9588951, 0.7137269, 0.3841130</td><td>68, 47, 46, 7</td></tr>\n",
       "\t<tr><td>AR</td><td>ADNP </td><td>163, 152, 246, 164</td><td>10.49540, 10.76583, 10.66034, 12.07038</td><td>-0.25835573</td><td>0.74164427</td><td>0.08503511, 0.01793032, 0.32433211</td><td>0.9030131, 0.9736239, 0.2440713</td><td>68, 47, 46, 7</td></tr>\n",
       "\t<tr><td>AR</td><td>ADNP2</td><td>102, 94, 154, 170</td><td>9.098495, 9.291882, 11.298799, 5.948209</td><td>-0.32093994</td><td>0.67906006</td><td>-0.1498182, 0.3723243, -1.5241753</td><td>8.564070e-01, 4.118791e-01, 2.430913e-07</td><td>68, 47, 46, 7</td></tr>\n",
       "\t<tr><td>AR</td><td>AEBP2</td><td>50, 34, 60, 31</td><td>8.107459, 6.034633, 5.254064, 4.774380</td><td> 0.27076490</td><td>0.72923510</td><td>-0.7205395, -0.9770126, -1.4987059</td><td>0.31629824, 0.09203261, 0.00122416</td><td>68, 47, 46, 7</td></tr>\n",
       "\t<tr><td>AR</td><td>AFF1 </td><td>74, 55, 89, 34</td><td>6.782081, 7.869602, 5.009183, 5.381708</td><td>-0.15078816</td><td>0.84921184</td><td>0.05826006, -0.82964306, -1.14271842</td><td>0.9831020, 0.3664824, 0.1072623</td><td>68, 47, 46, 7</td></tr>\n",
       "\t<tr><td>AR</td><td>AFF3 </td><td>136, 150, 242, 348</td><td>0.8340168, 2.1015446, 2.5902853, 8.4704284</td><td> 0.93941698</td><td>0.06058302</td><td>1.489448, 2.391791, 5.331861</td><td>1.779774e-01, 5.448725e-03, 2.535322e-14</td><td>68, 47, 46, 7</td></tr>\n",
       "</tbody>\n",
       "</table>\n"
      ],
      "text/latex": [
       "A grouped\\_df: 6 × 9\n",
       "\\begin{tabular}{lllllllll}\n",
       " regulator\\_gene & target\\_gene & atac & tar.ge & corr & cor\\_p & l2fc & fdr & reg.cnt\\\\\n",
       " <chr> & <chr> & <list> & <list> & <dbl> & <dbl> & <list> & <list> & <list>\\\\\n",
       "\\hline\n",
       "\t AR & ABTB1 & 284, 242, 415, 354 & 1.593805, 1.140030, 0.914218, 2.234686 & -0.04142582 & 0.95857418 & -0.2050566, -0.6785848, 1.1371586 & 0.9588951, 0.7137269, 0.3841130 & 68, 47, 46, 7\\\\\n",
       "\t AR & ADNP  & 163, 152, 246, 164 & 10.49540, 10.76583, 10.66034, 12.07038 & -0.25835573 & 0.74164427 & 0.08503511, 0.01793032, 0.32433211 & 0.9030131, 0.9736239, 0.2440713 & 68, 47, 46, 7\\\\\n",
       "\t AR & ADNP2 & 102, 94, 154, 170 & 9.098495, 9.291882, 11.298799, 5.948209 & -0.32093994 & 0.67906006 & -0.1498182, 0.3723243, -1.5241753 & 8.564070e-01, 4.118791e-01, 2.430913e-07 & 68, 47, 46, 7\\\\\n",
       "\t AR & AEBP2 & 50, 34, 60, 31 & 8.107459, 6.034633, 5.254064, 4.774380 &  0.27076490 & 0.72923510 & -0.7205395, -0.9770126, -1.4987059 & 0.31629824, 0.09203261, 0.00122416 & 68, 47, 46, 7\\\\\n",
       "\t AR & AFF1  & 74, 55, 89, 34 & 6.782081, 7.869602, 5.009183, 5.381708 & -0.15078816 & 0.84921184 & 0.05826006, -0.82964306, -1.14271842 & 0.9831020, 0.3664824, 0.1072623 & 68, 47, 46, 7\\\\\n",
       "\t AR & AFF3  & 136, 150, 242, 348 & 0.8340168, 2.1015446, 2.5902853, 8.4704284 &  0.93941698 & 0.06058302 & 1.489448, 2.391791, 5.331861 & 1.779774e-01, 5.448725e-03, 2.535322e-14 & 68, 47, 46, 7\\\\\n",
       "\\end{tabular}\n"
      ],
      "text/markdown": [
       "\n",
       "A grouped_df: 6 × 9\n",
       "\n",
       "| regulator_gene &lt;chr&gt; | target_gene &lt;chr&gt; | atac &lt;list&gt; | tar.ge &lt;list&gt; | corr &lt;dbl&gt; | cor_p &lt;dbl&gt; | l2fc &lt;list&gt; | fdr &lt;list&gt; | reg.cnt &lt;list&gt; |\n",
       "|---|---|---|---|---|---|---|---|---|\n",
       "| AR | ABTB1 | 284, 242, 415, 354 | 1.593805, 1.140030, 0.914218, 2.234686 | -0.04142582 | 0.95857418 | -0.2050566, -0.6785848, 1.1371586 | 0.9588951, 0.7137269, 0.3841130 | 68, 47, 46, 7 |\n",
       "| AR | ADNP  | 163, 152, 246, 164 | 10.49540, 10.76583, 10.66034, 12.07038 | -0.25835573 | 0.74164427 | 0.08503511, 0.01793032, 0.32433211 | 0.9030131, 0.9736239, 0.2440713 | 68, 47, 46, 7 |\n",
       "| AR | ADNP2 | 102, 94, 154, 170 | 9.098495, 9.291882, 11.298799, 5.948209 | -0.32093994 | 0.67906006 | -0.1498182, 0.3723243, -1.5241753 | 8.564070e-01, 4.118791e-01, 2.430913e-07 | 68, 47, 46, 7 |\n",
       "| AR | AEBP2 | 50, 34, 60, 31 | 8.107459, 6.034633, 5.254064, 4.774380 |  0.27076490 | 0.72923510 | -0.7205395, -0.9770126, -1.4987059 | 0.31629824, 0.09203261, 0.00122416 | 68, 47, 46, 7 |\n",
       "| AR | AFF1  | 74, 55, 89, 34 | 6.782081, 7.869602, 5.009183, 5.381708 | -0.15078816 | 0.84921184 | 0.05826006, -0.82964306, -1.14271842 | 0.9831020, 0.3664824, 0.1072623 | 68, 47, 46, 7 |\n",
       "| AR | AFF3  | 136, 150, 242, 348 | 0.8340168, 2.1015446, 2.5902853, 8.4704284 |  0.93941698 | 0.06058302 | 1.489448, 2.391791, 5.331861 | 1.779774e-01, 5.448725e-03, 2.535322e-14 | 68, 47, 46, 7 |\n",
       "\n"
      ],
      "text/plain": [
       "  regulator_gene target_gene atac              \n",
       "1 AR             ABTB1       284, 242, 415, 354\n",
       "2 AR             ADNP        163, 152, 246, 164\n",
       "3 AR             ADNP2       102, 94, 154, 170 \n",
       "4 AR             AEBP2       50, 34, 60, 31    \n",
       "5 AR             AFF1        74, 55, 89, 34    \n",
       "6 AR             AFF3        136, 150, 242, 348\n",
       "  tar.ge                                     corr        cor_p     \n",
       "1 1.593805, 1.140030, 0.914218, 2.234686     -0.04142582 0.95857418\n",
       "2 10.49540, 10.76583, 10.66034, 12.07038     -0.25835573 0.74164427\n",
       "3 9.098495, 9.291882, 11.298799, 5.948209    -0.32093994 0.67906006\n",
       "4 8.107459, 6.034633, 5.254064, 4.774380      0.27076490 0.72923510\n",
       "5 6.782081, 7.869602, 5.009183, 5.381708     -0.15078816 0.84921184\n",
       "6 0.8340168, 2.1015446, 2.5902853, 8.4704284  0.93941698 0.06058302\n",
       "  l2fc                                 fdr                                     \n",
       "1 -0.2050566, -0.6785848, 1.1371586    0.9588951, 0.7137269, 0.3841130         \n",
       "2 0.08503511, 0.01793032, 0.32433211   0.9030131, 0.9736239, 0.2440713         \n",
       "3 -0.1498182, 0.3723243, -1.5241753    8.564070e-01, 4.118791e-01, 2.430913e-07\n",
       "4 -0.7205395, -0.9770126, -1.4987059   0.31629824, 0.09203261, 0.00122416      \n",
       "5 0.05826006, -0.82964306, -1.14271842 0.9831020, 0.3664824, 0.1072623         \n",
       "6 1.489448, 2.391791, 5.331861         1.779774e-01, 5.448725e-03, 2.535322e-14\n",
       "  reg.cnt      \n",
       "1 68, 47, 46, 7\n",
       "2 68, 47, 46, 7\n",
       "3 68, 47, 46, 7\n",
       "4 68, 47, 46, 7\n",
       "5 68, 47, 46, 7\n",
       "6 68, 47, 46, 7"
      ]
     },
     "metadata": {},
     "output_type": "display_data"
    }
   ],
   "source": [
    "inter_matrix %>% head"
   ]
  },
  {
   "cell_type": "code",
   "execution_count": 53,
   "metadata": {},
   "outputs": [
    {
     "data": {
      "text/html": [
       "<table class=\"dataframe\">\n",
       "<caption>A grouped_df: 6 × 22</caption>\n",
       "<thead>\n",
       "\t<tr><th scope=col>regulator_gene</th><th scope=col>target_gene</th><th scope=col>atac.ES</th><th scope=col>atac.H16</th><th scope=col>atac.D1</th><th scope=col>atac.D4</th><th scope=col>tar.ge.ES</th><th scope=col>tar.ge.H16</th><th scope=col>tar.ge.D1</th><th scope=col>tar.ge.D4</th><th scope=col>⋯</th><th scope=col>l2fc.H16</th><th scope=col>l2fc.D1</th><th scope=col>l2fc.D4</th><th scope=col>fdr.H16</th><th scope=col>fdr.D1</th><th scope=col>fdr.D4</th><th scope=col>reg.cnt.ES</th><th scope=col>reg.cnt.H16</th><th scope=col>reg.cnt.D1</th><th scope=col>reg.cnt.D4</th></tr>\n",
       "\t<tr><th scope=col>&lt;chr&gt;</th><th scope=col>&lt;chr&gt;</th><th scope=col>&lt;dbl&gt;</th><th scope=col>&lt;dbl&gt;</th><th scope=col>&lt;dbl&gt;</th><th scope=col>&lt;dbl&gt;</th><th scope=col>&lt;dbl&gt;</th><th scope=col>&lt;dbl&gt;</th><th scope=col>&lt;dbl&gt;</th><th scope=col>&lt;dbl&gt;</th><th scope=col>⋯</th><th scope=col>&lt;dbl&gt;</th><th scope=col>&lt;dbl&gt;</th><th scope=col>&lt;dbl&gt;</th><th scope=col>&lt;dbl&gt;</th><th scope=col>&lt;dbl&gt;</th><th scope=col>&lt;dbl&gt;</th><th scope=col>&lt;int&gt;</th><th scope=col>&lt;int&gt;</th><th scope=col>&lt;int&gt;</th><th scope=col>&lt;int&gt;</th></tr>\n",
       "</thead>\n",
       "<tbody>\n",
       "\t<tr><td>AR</td><td>ABTB1</td><td>284</td><td>242</td><td>415</td><td>354</td><td> 1.5938046</td><td> 1.140030</td><td> 0.914218</td><td> 2.234686</td><td>⋯</td><td>-0.20505660</td><td>-0.67858479</td><td> 1.1371586</td><td>0.9588951</td><td>0.713726938</td><td>3.841130e-01</td><td>68</td><td>47</td><td>46</td><td>7</td></tr>\n",
       "\t<tr><td>AR</td><td>ADNP </td><td>163</td><td>152</td><td>246</td><td>164</td><td>10.4953998</td><td>10.765826</td><td>10.660336</td><td>12.070383</td><td>⋯</td><td> 0.08503511</td><td> 0.01793032</td><td> 0.3243321</td><td>0.9030131</td><td>0.973623901</td><td>2.440713e-01</td><td>68</td><td>47</td><td>46</td><td>7</td></tr>\n",
       "\t<tr><td>AR</td><td>ADNP2</td><td>102</td><td> 94</td><td>154</td><td>170</td><td> 9.0984955</td><td> 9.291882</td><td>11.298799</td><td> 5.948209</td><td>⋯</td><td>-0.14981816</td><td> 0.37232433</td><td>-1.5241753</td><td>0.8564070</td><td>0.411879075</td><td>2.430913e-07</td><td>68</td><td>47</td><td>46</td><td>7</td></tr>\n",
       "\t<tr><td>AR</td><td>AEBP2</td><td> 50</td><td> 34</td><td> 60</td><td> 31</td><td> 8.1074589</td><td> 6.034633</td><td> 5.254064</td><td> 4.774380</td><td>⋯</td><td>-0.72053945</td><td>-0.97701259</td><td>-1.4987059</td><td>0.3162982</td><td>0.092032606</td><td>1.224160e-03</td><td>68</td><td>47</td><td>46</td><td>7</td></tr>\n",
       "\t<tr><td>AR</td><td>AFF1 </td><td> 74</td><td> 55</td><td> 89</td><td> 34</td><td> 6.7820813</td><td> 7.869602</td><td> 5.009183</td><td> 5.381708</td><td>⋯</td><td> 0.05826006</td><td>-0.82964306</td><td>-1.1427184</td><td>0.9831020</td><td>0.366482409</td><td>1.072623e-01</td><td>68</td><td>47</td><td>46</td><td>7</td></tr>\n",
       "\t<tr><td>AR</td><td>AFF3 </td><td>136</td><td>150</td><td>242</td><td>348</td><td> 0.8340168</td><td> 2.101545</td><td> 2.590285</td><td> 8.470428</td><td>⋯</td><td> 1.48944816</td><td> 2.39179062</td><td> 5.3318608</td><td>0.1779774</td><td>0.005448725</td><td>2.535322e-14</td><td>68</td><td>47</td><td>46</td><td>7</td></tr>\n",
       "</tbody>\n",
       "</table>\n"
      ],
      "text/latex": [
       "A grouped\\_df: 6 × 22\n",
       "\\begin{tabular}{lllllllllllllllllllll}\n",
       " regulator\\_gene & target\\_gene & atac.ES & atac.H16 & atac.D1 & atac.D4 & tar.ge.ES & tar.ge.H16 & tar.ge.D1 & tar.ge.D4 & ⋯ & l2fc.H16 & l2fc.D1 & l2fc.D4 & fdr.H16 & fdr.D1 & fdr.D4 & reg.cnt.ES & reg.cnt.H16 & reg.cnt.D1 & reg.cnt.D4\\\\\n",
       " <chr> & <chr> & <dbl> & <dbl> & <dbl> & <dbl> & <dbl> & <dbl> & <dbl> & <dbl> & ⋯ & <dbl> & <dbl> & <dbl> & <dbl> & <dbl> & <dbl> & <int> & <int> & <int> & <int>\\\\\n",
       "\\hline\n",
       "\t AR & ABTB1 & 284 & 242 & 415 & 354 &  1.5938046 &  1.140030 &  0.914218 &  2.234686 & ⋯ & -0.20505660 & -0.67858479 &  1.1371586 & 0.9588951 & 0.713726938 & 3.841130e-01 & 68 & 47 & 46 & 7\\\\\n",
       "\t AR & ADNP  & 163 & 152 & 246 & 164 & 10.4953998 & 10.765826 & 10.660336 & 12.070383 & ⋯ &  0.08503511 &  0.01793032 &  0.3243321 & 0.9030131 & 0.973623901 & 2.440713e-01 & 68 & 47 & 46 & 7\\\\\n",
       "\t AR & ADNP2 & 102 &  94 & 154 & 170 &  9.0984955 &  9.291882 & 11.298799 &  5.948209 & ⋯ & -0.14981816 &  0.37232433 & -1.5241753 & 0.8564070 & 0.411879075 & 2.430913e-07 & 68 & 47 & 46 & 7\\\\\n",
       "\t AR & AEBP2 &  50 &  34 &  60 &  31 &  8.1074589 &  6.034633 &  5.254064 &  4.774380 & ⋯ & -0.72053945 & -0.97701259 & -1.4987059 & 0.3162982 & 0.092032606 & 1.224160e-03 & 68 & 47 & 46 & 7\\\\\n",
       "\t AR & AFF1  &  74 &  55 &  89 &  34 &  6.7820813 &  7.869602 &  5.009183 &  5.381708 & ⋯ &  0.05826006 & -0.82964306 & -1.1427184 & 0.9831020 & 0.366482409 & 1.072623e-01 & 68 & 47 & 46 & 7\\\\\n",
       "\t AR & AFF3  & 136 & 150 & 242 & 348 &  0.8340168 &  2.101545 &  2.590285 &  8.470428 & ⋯ &  1.48944816 &  2.39179062 &  5.3318608 & 0.1779774 & 0.005448725 & 2.535322e-14 & 68 & 47 & 46 & 7\\\\\n",
       "\\end{tabular}\n"
      ],
      "text/markdown": [
       "\n",
       "A grouped_df: 6 × 22\n",
       "\n",
       "| regulator_gene &lt;chr&gt; | target_gene &lt;chr&gt; | atac.ES &lt;dbl&gt; | atac.H16 &lt;dbl&gt; | atac.D1 &lt;dbl&gt; | atac.D4 &lt;dbl&gt; | tar.ge.ES &lt;dbl&gt; | tar.ge.H16 &lt;dbl&gt; | tar.ge.D1 &lt;dbl&gt; | tar.ge.D4 &lt;dbl&gt; | ⋯ ⋯ | l2fc.H16 &lt;dbl&gt; | l2fc.D1 &lt;dbl&gt; | l2fc.D4 &lt;dbl&gt; | fdr.H16 &lt;dbl&gt; | fdr.D1 &lt;dbl&gt; | fdr.D4 &lt;dbl&gt; | reg.cnt.ES &lt;int&gt; | reg.cnt.H16 &lt;int&gt; | reg.cnt.D1 &lt;int&gt; | reg.cnt.D4 &lt;int&gt; |\n",
       "|---|---|---|---|---|---|---|---|---|---|---|---|---|---|---|---|---|---|---|---|---|\n",
       "| AR | ABTB1 | 284 | 242 | 415 | 354 |  1.5938046 |  1.140030 |  0.914218 |  2.234686 | ⋯ | -0.20505660 | -0.67858479 |  1.1371586 | 0.9588951 | 0.713726938 | 3.841130e-01 | 68 | 47 | 46 | 7 |\n",
       "| AR | ADNP  | 163 | 152 | 246 | 164 | 10.4953998 | 10.765826 | 10.660336 | 12.070383 | ⋯ |  0.08503511 |  0.01793032 |  0.3243321 | 0.9030131 | 0.973623901 | 2.440713e-01 | 68 | 47 | 46 | 7 |\n",
       "| AR | ADNP2 | 102 |  94 | 154 | 170 |  9.0984955 |  9.291882 | 11.298799 |  5.948209 | ⋯ | -0.14981816 |  0.37232433 | -1.5241753 | 0.8564070 | 0.411879075 | 2.430913e-07 | 68 | 47 | 46 | 7 |\n",
       "| AR | AEBP2 |  50 |  34 |  60 |  31 |  8.1074589 |  6.034633 |  5.254064 |  4.774380 | ⋯ | -0.72053945 | -0.97701259 | -1.4987059 | 0.3162982 | 0.092032606 | 1.224160e-03 | 68 | 47 | 46 | 7 |\n",
       "| AR | AFF1  |  74 |  55 |  89 |  34 |  6.7820813 |  7.869602 |  5.009183 |  5.381708 | ⋯ |  0.05826006 | -0.82964306 | -1.1427184 | 0.9831020 | 0.366482409 | 1.072623e-01 | 68 | 47 | 46 | 7 |\n",
       "| AR | AFF3  | 136 | 150 | 242 | 348 |  0.8340168 |  2.101545 |  2.590285 |  8.470428 | ⋯ |  1.48944816 |  2.39179062 |  5.3318608 | 0.1779774 | 0.005448725 | 2.535322e-14 | 68 | 47 | 46 | 7 |\n",
       "\n"
      ],
      "text/plain": [
       "  regulator_gene target_gene atac.ES atac.H16 atac.D1 atac.D4 tar.ge.ES \n",
       "1 AR             ABTB1       284     242      415     354      1.5938046\n",
       "2 AR             ADNP        163     152      246     164     10.4953998\n",
       "3 AR             ADNP2       102      94      154     170      9.0984955\n",
       "4 AR             AEBP2        50      34       60      31      8.1074589\n",
       "5 AR             AFF1         74      55       89      34      6.7820813\n",
       "6 AR             AFF3        136     150      242     348      0.8340168\n",
       "  tar.ge.H16 tar.ge.D1 tar.ge.D4 ⋯ l2fc.H16    l2fc.D1     l2fc.D4    fdr.H16  \n",
       "1  1.140030   0.914218  2.234686 ⋯ -0.20505660 -0.67858479  1.1371586 0.9588951\n",
       "2 10.765826  10.660336 12.070383 ⋯  0.08503511  0.01793032  0.3243321 0.9030131\n",
       "3  9.291882  11.298799  5.948209 ⋯ -0.14981816  0.37232433 -1.5241753 0.8564070\n",
       "4  6.034633   5.254064  4.774380 ⋯ -0.72053945 -0.97701259 -1.4987059 0.3162982\n",
       "5  7.869602   5.009183  5.381708 ⋯  0.05826006 -0.82964306 -1.1427184 0.9831020\n",
       "6  2.101545   2.590285  8.470428 ⋯  1.48944816  2.39179062  5.3318608 0.1779774\n",
       "  fdr.D1      fdr.D4       reg.cnt.ES reg.cnt.H16 reg.cnt.D1 reg.cnt.D4\n",
       "1 0.713726938 3.841130e-01 68         47          46         7         \n",
       "2 0.973623901 2.440713e-01 68         47          46         7         \n",
       "3 0.411879075 2.430913e-07 68         47          46         7         \n",
       "4 0.092032606 1.224160e-03 68         47          46         7         \n",
       "5 0.366482409 1.072623e-01 68         47          46         7         \n",
       "6 0.005448725 2.535322e-14 68         47          46         7         "
      ]
     },
     "metadata": {},
     "output_type": "display_data"
    }
   ],
   "source": [
    "inter_matrix %>% head() %>% unnest( cols = c(atac, tar.ge, fdr, l2fc, reg.cnt), names_sep = \".\") "
   ]
  },
  {
   "cell_type": "code",
   "execution_count": 54,
   "metadata": {},
   "outputs": [],
   "source": [
    "tic()"
   ]
  },
  {
   "cell_type": "code",
   "execution_count": 55,
   "metadata": {
    "ExecuteTime": {
     "end_time": "2020-01-05T23:56:11.900879Z",
     "start_time": "2020-01-05T23:55:30.957Z"
    }
   },
   "outputs": [],
   "source": [
    "# Unnest interaction matrix dataframe to expand the columns, ready for csv write out\n",
    "inter_matrix_unnested <- unnest(inter_matrix, cols = c(atac, tar.ge, fdr, l2fc, reg.cnt), names_sep = \".\")"
   ]
  },
  {
   "cell_type": "code",
   "execution_count": 56,
   "metadata": {},
   "outputs": [
    {
     "name": "stdout",
     "output_type": "stream",
     "text": [
      "16.195 sec elapsed\n"
     ]
    }
   ],
   "source": [
    "toc()"
   ]
  },
  {
   "cell_type": "raw",
   "metadata": {},
   "source": []
  },
  {
   "cell_type": "raw",
   "metadata": {},
   "source": [
    "# using data.table rbindlist is much faster\n",
    "x <- data.table::as.data.table(inter_matrix)\n",
    "\n",
    "cbind(x[,.(regulator_gene, target_gene)], \n",
    "      x[,data.table::rbindlist(c(reg.cnt))], \n",
    "      x[,data.table::rbindlist(c(atac))]) #%>% x[,data.table::rbindlist(c(reg.cnt))] #%>% x[,data.table::rbindlist(c(atac))] #%>% x[,data.table::rbindlist(c(tar.ge))] "
   ]
  },
  {
   "cell_type": "code",
   "execution_count": null,
   "metadata": {},
   "outputs": [],
   "source": []
  },
  {
   "cell_type": "raw",
   "metadata": {},
   "source": [
    "inter_matrix_unnested <- read_excel(\"../Interaction_matrix_nofilter_AllTF_20200104.xlsx\", \"interactions\")"
   ]
  },
  {
   "cell_type": "code",
   "execution_count": 58,
   "metadata": {},
   "outputs": [
    {
     "name": "stdout",
     "output_type": "stream",
     "text": [
      "412.349 sec elapsed\n"
     ]
    }
   ],
   "source": [
    "tic()\n",
    "WriteXLS(list(\"interactions\" = inter_matrix_unnested, \"notes\" = column_explanation), \n",
    "         \"results/notebook_results/Interaction_matrix_nofilter_AllTF-intergenic-raw_20220919.xlsx\")\n",
    "toc()"
   ]
  },
  {
   "cell_type": "code",
   "execution_count": 59,
   "metadata": {},
   "outputs": [
    {
     "name": "stdout",
     "output_type": "stream",
     "text": [
      "11.29 sec elapsed\n"
     ]
    }
   ],
   "source": [
    "tic()\n",
    "write.table(inter_matrix_unnested, \n",
    "            \"results/notebook_results/Interaction_matrix_nofilter_AllTF-intergenic-raw_20220919.csv\", \n",
    "            sep=\",\", quote=F, row.names=F, col.names=T)\n",
    "toc()"
   ]
  },
  {
   "cell_type": "markdown",
   "metadata": {},
   "source": [
    "### 9. Analyze / filter interaction matrix"
   ]
  },
  {
   "cell_type": "raw",
   "metadata": {},
   "source": [
    "suppressMessages(inter_matrix_unnested <- read_csv(\"../Interaction_matrix_nofilter_AllTF_20200107.csv\"))"
   ]
  },
  {
   "cell_type": "markdown",
   "metadata": {},
   "source": [
    "# Approach 1: NGN initiated TF networks. \n",
    "\n",
    "- NGN1/2 start at the top\n",
    "- Level 1: targets are significantly differentially expressed at H16, includes:\n",
    "    - targets directly regulated by NGN1/2 (Group A)\n",
    "- Level 2: targes are significantly differentially expressed at D1, includes:\n",
    "    - targets directly regulated by NGN1/2 at D1 (Group B)\n",
    "    - or targets regulated by NGN1/2's level 1 objects (Grouop A1)\n",
    "- Level 3: targets are significantly differentially expressed at D4, includes:\n",
    "    - targets directly regulated by NGN1/2 at D4 (Group C)\n",
    "    - or targets regulated by NGN1/2's level 1 objects (Group A2)\n",
    "    - or targets regulated by NGN1/2's level 2 objects (Group B1)\n",
    "    - or targets regulated by other level 2 objects, not directly regulated by NGN1/2 (Group A1B1)"
   ]
  },
  {
   "cell_type": "markdown",
   "metadata": {},
   "source": [
    "## 1. Find NGN -> targets in: \n",
    "\n",
    "- GroupA: interactions started with H16\n",
    "- GroupB: interactions started with D1\n",
    "- GroupC: interactions started with D4"
   ]
  },
  {
   "cell_type": "code",
   "execution_count": 260,
   "metadata": {},
   "outputs": [],
   "source": [
    "# add regulator total read count across H16 - D4, used for filtering regulators\n",
    "reg.cnt.sum <- apply(select(inter_matrix_unnested, reg.cnt.H16:reg.cnt.D4), 1, sum) # regulator H16 - D4 read sum\n",
    "base_set <- mutate(inter_matrix_unnested, \"reg.cnt.sum\" = reg.cnt.sum)"
   ]
  },
  {
   "cell_type": "markdown",
   "metadata": {},
   "source": [
    "### Group A: NGN initiated regulations starting from H16\n",
    "\n",
    "Criteria:<br>\n",
    "`abs(corr) > 0.55` & <br> `corr. p-val < 0.2` & <br> `Target differentially expressed at H16, fdr.H16 < 0.05` & <br> `Target expression change abs(l2fc.H16) > 1` & <br> `reg.cnt.sum > 30`"
   ]
  },
  {
   "cell_type": "code",
   "execution_count": 261,
   "metadata": {},
   "outputs": [
    {
     "data": {
      "text/html": [
       "<table>\n",
       "<caption>A tibble: 2 × 35</caption>\n",
       "<thead>\n",
       "\t<tr><th scope=col>regulator_gene</th><th scope=col>target_gene</th><th scope=col>atac.ES</th><th scope=col>atac.H16</th><th scope=col>atac.D1</th><th scope=col>atac.D4</th><th scope=col>tar.ge.ES</th><th scope=col>tar.ge.H16</th><th scope=col>tar.ge.D1</th><th scope=col>tar.ge.D4</th><th scope=col>⋯</th><th scope=col>tar.cnt.D4</th><th scope=col>reg.l2fc.H16</th><th scope=col>reg.l2fc.D1</th><th scope=col>reg.l2fc.D4</th><th scope=col>reg.fdr.H16</th><th scope=col>reg.fdr.D1</th><th scope=col>reg.fdr.D4</th><th scope=col>reg.isHit</th><th scope=col>tar.isHit</th><th scope=col>reg.cnt.sum</th></tr>\n",
       "\t<tr><th scope=col>&lt;chr&gt;</th><th scope=col>&lt;chr&gt;</th><th scope=col>&lt;dbl&gt;</th><th scope=col>&lt;dbl&gt;</th><th scope=col>&lt;dbl&gt;</th><th scope=col>&lt;dbl&gt;</th><th scope=col>&lt;dbl&gt;</th><th scope=col>&lt;dbl&gt;</th><th scope=col>&lt;dbl&gt;</th><th scope=col>&lt;dbl&gt;</th><th scope=col>⋯</th><th scope=col>&lt;int&gt;</th><th scope=col>&lt;dbl&gt;</th><th scope=col>&lt;dbl&gt;</th><th scope=col>&lt;dbl&gt;</th><th scope=col>&lt;dbl&gt;</th><th scope=col>&lt;dbl&gt;</th><th scope=col>&lt;dbl&gt;</th><th scope=col>&lt;lgl&gt;</th><th scope=col>&lt;lgl&gt;</th><th scope=col>&lt;dbl&gt;</th></tr>\n",
       "</thead>\n",
       "<tbody>\n",
       "\t<tr><td>AR</td><td>ABTB1</td><td>6.585393</td><td>6.045427</td><td>6.030358</td><td>6.084846</td><td>1.593805</td><td>1.140030</td><td> 0.914218</td><td>2.234686</td><td>⋯</td><td> 27</td><td>-0.507919</td><td>-0.4858691</td><td>-3.236964</td><td>0.7647186</td><td>0.6979496</td><td>3.529782e-05</td><td>FALSE</td><td>FALSE</td><td>100</td></tr>\n",
       "\t<tr><td>AR</td><td>ADNP2</td><td>3.945854</td><td>3.821774</td><td>3.677170</td><td>4.218503</td><td>9.098495</td><td>9.291882</td><td>11.298799</td><td>5.948209</td><td>⋯</td><td>180</td><td>-0.507919</td><td>-0.4858691</td><td>-3.236964</td><td>0.7647186</td><td>0.6979496</td><td>3.529782e-05</td><td>FALSE</td><td>FALSE</td><td>100</td></tr>\n",
       "</tbody>\n",
       "</table>\n"
      ],
      "text/latex": [
       "A tibble: 2 × 35\n",
       "\\begin{tabular}{r|lllllllllllllllllllllllllllllllllll}\n",
       " regulator\\_gene & target\\_gene & atac.ES & atac.H16 & atac.D1 & atac.D4 & tar.ge.ES & tar.ge.H16 & tar.ge.D1 & tar.ge.D4 & corr & cor\\_p & l2fc.H16 & l2fc.D1 & l2fc.D4 & fdr.H16 & fdr.D1 & fdr.D4 & reg.cnt.ES & reg.cnt.H16 & reg.cnt.D1 & reg.cnt.D4 & tar.cnt.ES & tar.cnt.H16 & tar.cnt.D1 & tar.cnt.D4 & reg.l2fc.H16 & reg.l2fc.D1 & reg.l2fc.D4 & reg.fdr.H16 & reg.fdr.D1 & reg.fdr.D4 & reg.isHit & tar.isHit & reg.cnt.sum\\\\\n",
       " <chr> & <chr> & <dbl> & <dbl> & <dbl> & <dbl> & <dbl> & <dbl> & <dbl> & <dbl> & <dbl> & <dbl> & <dbl> & <dbl> & <dbl> & <dbl> & <dbl> & <dbl> & <dbl> & <dbl> & <dbl> & <dbl> & <int> & <int> & <int> & <int> & <dbl> & <dbl> & <dbl> & <dbl> & <dbl> & <dbl> & <lgl> & <lgl> & <dbl>\\\\\n",
       "\\hline\n",
       "\t AR & ABTB1 & 6.585393 & 6.045427 & 6.030358 & 6.084846 & 1.593805 & 1.140030 &  0.914218 & 2.234686 &  0.2250825 & 0.77491751 & -0.2050566 & -0.6785848 &  1.137159 & 0.9588951 & 0.7137269 & 3.841130e-01 & 68 & 47 & 46 & 7 &  16 &  11 &  10 &  27 & -0.507919 & -0.4858691 & -3.236964 & 0.7647186 & 0.6979496 & 3.529782e-05 & FALSE & FALSE & 100\\\\\n",
       "\t AR & ADNP2 & 3.945854 & 3.821774 & 3.677170 & 4.218503 & 9.098495 & 9.291882 & 11.298799 & 5.948209 & -0.9825175 & 0.01748247 & -0.1498182 &  0.3723243 & -1.524175 & 0.8564070 & 0.4118791 & 2.430913e-07 & 68 & 47 & 46 & 7 & 512 & 573 & 805 & 180 & -0.507919 & -0.4858691 & -3.236964 & 0.7647186 & 0.6979496 & 3.529782e-05 & FALSE & FALSE & 100\\\\\n",
       "\\end{tabular}\n"
      ],
      "text/markdown": [
       "\n",
       "A tibble: 2 × 35\n",
       "\n",
       "| regulator_gene &lt;chr&gt; | target_gene &lt;chr&gt; | atac.ES &lt;dbl&gt; | atac.H16 &lt;dbl&gt; | atac.D1 &lt;dbl&gt; | atac.D4 &lt;dbl&gt; | tar.ge.ES &lt;dbl&gt; | tar.ge.H16 &lt;dbl&gt; | tar.ge.D1 &lt;dbl&gt; | tar.ge.D4 &lt;dbl&gt; | ⋯ ⋯ | tar.cnt.D4 &lt;int&gt; | reg.l2fc.H16 &lt;dbl&gt; | reg.l2fc.D1 &lt;dbl&gt; | reg.l2fc.D4 &lt;dbl&gt; | reg.fdr.H16 &lt;dbl&gt; | reg.fdr.D1 &lt;dbl&gt; | reg.fdr.D4 &lt;dbl&gt; | reg.isHit &lt;lgl&gt; | tar.isHit &lt;lgl&gt; | reg.cnt.sum &lt;dbl&gt; |\n",
       "|---|---|---|---|---|---|---|---|---|---|---|---|---|---|---|---|---|---|---|---|---|\n",
       "| AR | ABTB1 | 6.585393 | 6.045427 | 6.030358 | 6.084846 | 1.593805 | 1.140030 |  0.914218 | 2.234686 | ⋯ |  27 | -0.507919 | -0.4858691 | -3.236964 | 0.7647186 | 0.6979496 | 3.529782e-05 | FALSE | FALSE | 100 |\n",
       "| AR | ADNP2 | 3.945854 | 3.821774 | 3.677170 | 4.218503 | 9.098495 | 9.291882 | 11.298799 | 5.948209 | ⋯ | 180 | -0.507919 | -0.4858691 | -3.236964 | 0.7647186 | 0.6979496 | 3.529782e-05 | FALSE | FALSE | 100 |\n",
       "\n"
      ],
      "text/plain": [
       "  regulator_gene target_gene atac.ES  atac.H16 atac.D1  atac.D4  tar.ge.ES\n",
       "1 AR             ABTB1       6.585393 6.045427 6.030358 6.084846 1.593805 \n",
       "2 AR             ADNP2       3.945854 3.821774 3.677170 4.218503 9.098495 \n",
       "  tar.ge.H16 tar.ge.D1 tar.ge.D4 ⋯ tar.cnt.D4 reg.l2fc.H16 reg.l2fc.D1\n",
       "1 1.140030    0.914218 2.234686  ⋯  27        -0.507919    -0.4858691 \n",
       "2 9.291882   11.298799 5.948209  ⋯ 180        -0.507919    -0.4858691 \n",
       "  reg.l2fc.D4 reg.fdr.H16 reg.fdr.D1 reg.fdr.D4   reg.isHit tar.isHit\n",
       "1 -3.236964   0.7647186   0.6979496  3.529782e-05 FALSE     FALSE    \n",
       "2 -3.236964   0.7647186   0.6979496  3.529782e-05 FALSE     FALSE    \n",
       "  reg.cnt.sum\n",
       "1 100        \n",
       "2 100        "
      ]
     },
     "metadata": {},
     "output_type": "display_data"
    }
   ],
   "source": [
    "base_set %>% head(2)"
   ]
  },
  {
   "cell_type": "code",
   "execution_count": 262,
   "metadata": {},
   "outputs": [],
   "source": [
    "NGN.interaction.H16 <- filter(base_set, regulator_gene %in% c(\"NEUROG1\", \"NEUROG2\") & # NGN as regulator\n",
    "       abs(corr) > .55 & cor_p < .2 & # correlation filter\n",
    "       fdr.H16 < .05 & abs(l2fc.H16 > 1) &\n",
    "       reg.cnt.sum > 30)  # FDR and FC filter"
   ]
  },
  {
   "cell_type": "code",
   "execution_count": 263,
   "metadata": {},
   "outputs": [
    {
     "name": "stdout",
     "output_type": "stream",
     "text": [
      " [1] \"AGAP3\"   \"CBFA2T2\" \"CHD7\"    \"EBF1\"    \"EBF2\"    \"EBF3\"    \"EYA2\"   \n",
      " [8] \"EZH2\"    \"HES6\"    \"HIVEP3\"  \"MSL3\"    \"NEUROD1\" \"NHLH1\"   \"NKX6-1\" \n",
      "[15] \"NR5A2\"   \"PAX3\"    \"POU3F2\"  \"POU6F2\"  \"PRDM13\"  \"RCOR2\"   \"RUNX1T1\"\n",
      "[22] \"SIM1\"    \"ST18\"    \"TBC1D2B\" \"TP53BP1\" \"ZBTB18\"  \"ZEB1\"    \"ZEB2\"   \n"
     ]
    }
   ],
   "source": [
    "NGN.interaction.H16$target_gene %>% unique %>% sort %>% print"
   ]
  },
  {
   "cell_type": "markdown",
   "metadata": {},
   "source": [
    "of those, these These are hits"
   ]
  },
  {
   "cell_type": "code",
   "execution_count": 264,
   "metadata": {},
   "outputs": [
    {
     "name": "stdout",
     "output_type": "stream",
     "text": [
      "[1] \"EBF1\"   \"POU3F2\" \"RCOR2\"  \"ZBTB18\"\n"
     ]
    }
   ],
   "source": [
    "NGN.interaction.H16$target_gene %>% intersect(hitlist)  %>% sort %>% print"
   ]
  },
  {
   "cell_type": "markdown",
   "metadata": {},
   "source": [
    "### Group B: NGN initiated regulations starting from D1\n",
    "\n",
    "Criteria:<br>\n",
    "`abs(corr) > 0.55` & <br> `corr. p-val < 0.2` & <br> `Target differentially expressed at D1: fdr.H16 > 0.05 & fdr.D1 < 0.05` & <br> `Target expression change abs(l2fc.D1) > 1` & <br> `reg.cnt.sum > 30`"
   ]
  },
  {
   "cell_type": "code",
   "execution_count": 265,
   "metadata": {},
   "outputs": [],
   "source": [
    "NGN.interaction.D1 <- filter(base_set, regulator_gene %in% c(\"NEUROG1\", \"NEUROG2\") & # NGN as regulator\n",
    "       abs(corr) > .55 & cor_p < .2 & # correlation filter\n",
    "       fdr.D1 < .05 & fdr.H16 > .05 & abs(l2fc.D1 > 1) &\n",
    "       reg.cnt.sum > 30)   # FDR and FC filter"
   ]
  },
  {
   "cell_type": "code",
   "execution_count": 266,
   "metadata": {},
   "outputs": [
    {
     "name": "stdout",
     "output_type": "stream",
     "text": [
      " [1] \"AFF3\"   \"BACH2\"  \"CELF3\"  \"GATA6\"  \"HOMEZ\"  \"NHLH2\"  \"POU2F2\" \"PRDM2\" \n",
      " [9] \"TCF15\"  \"TCF4\"   \"TRIP4\"  \"VAX2\"  \n"
     ]
    }
   ],
   "source": [
    "NGN.interaction.D1$target_gene %>% unique %>% sort %>% print"
   ]
  },
  {
   "cell_type": "raw",
   "metadata": {},
   "source": [
    "NGN.interaction.D1"
   ]
  },
  {
   "cell_type": "markdown",
   "metadata": {},
   "source": [
    "New targets emerge in D1, but not in H16"
   ]
  },
  {
   "cell_type": "code",
   "execution_count": 267,
   "metadata": {},
   "outputs": [
    {
     "name": "stdout",
     "output_type": "stream",
     "text": [
      " [1] \"AFF3\"   \"BACH2\"  \"CELF3\"  \"GATA6\"  \"HOMEZ\"  \"NHLH2\"  \"POU2F2\" \"PRDM2\" \n",
      " [9] \"TCF15\"  \"TCF4\"   \"TRIP4\"  \"VAX2\"  \n"
     ]
    }
   ],
   "source": [
    "setdiff(NGN.interaction.D1$target_gene, NGN.interaction.H16$target_gene) %>% sort %>% print"
   ]
  },
  {
   "cell_type": "markdown",
   "metadata": {},
   "source": [
    "Of D1 targets, these are hits, **`VAX2` is new D1**"
   ]
  },
  {
   "cell_type": "code",
   "execution_count": 268,
   "metadata": {},
   "outputs": [
    {
     "name": "stdout",
     "output_type": "stream",
     "text": [
      "[1] \"VAX2\"\n"
     ]
    }
   ],
   "source": [
    "NGN.interaction.D1$target_gene %>% intersect(hitlist)  %>% sort %>% print"
   ]
  },
  {
   "cell_type": "markdown",
   "metadata": {},
   "source": [
    "### Group C: NGN initiated regulations starting from D4\n",
    "Criteria:<br>\n",
    "`abs(corr) > 0.55` & <br> `corr. p-val < 0.2` & <br> `Target differentially expressed at D4: fdr.H16 > 0.05 & fdr.D1 > 0.05 & fdr.D4 < 0.05` & <br> `Target expression change abs(l2fc.D4) > 1` & <br> `reg.cnt.sum > 30`"
   ]
  },
  {
   "cell_type": "code",
   "execution_count": 269,
   "metadata": {},
   "outputs": [],
   "source": [
    "NGN.interaction.D4 <- filter(base_set, regulator_gene %in% c(\"NEUROG1\", \"NEUROG2\") & # NGN as regulator\n",
    "       abs(corr) > .55 & cor_p < .2 & # correlation filter\n",
    "       fdr.D4 < .05 & fdr.D1 > .05 & fdr.H16 > .05 & abs(l2fc.D4 > 1) &\n",
    "       reg.cnt.sum > 30)  # FDR and FC filter"
   ]
  },
  {
   "cell_type": "code",
   "execution_count": 270,
   "metadata": {},
   "outputs": [
    {
     "name": "stdout",
     "output_type": "stream",
     "text": [
      " [1] \"ARX\"    \"BTG1\"   \"CASZ1\"  \"CBFB\"   \"DIP2C\"  \"ELAVL2\" \"ESRRG\"  \"GTF2B\" \n",
      " [9] \"HDAC5\"  \"KAT2B\"  \"KLF12\"  \"KLF7\"   \"MAML3\"  \"MEF2C\"  \"MEIS2\"  \"MYT1\"  \n",
      "[17] \"MYT1L\"  \"NFIA\"   \"NKX6-2\" \"NPAS3\"  \"PAX6\"   \"PBX3\"   \"PBX4\"   \"PROX1\" \n",
      "[25] \"RB1\"    \"RORA\"   \"SATB2\"  \"SCRT1\"  \"SIX1\"   \"SMAD9\"  \"SSBP2\"  \"TLE1\"  \n",
      "[33] \"TLX1\"   \"TSHZ2\"  \"ZNF611\" \"ZNF83\"  \"ZNF862\"\n"
     ]
    }
   ],
   "source": [
    "NGN.interaction.D4$target_gene %>% unique %>% sort %>% print"
   ]
  },
  {
   "cell_type": "markdown",
   "metadata": {},
   "source": [
    "New targets emerge in D4, but not in H16 or D1. "
   ]
  },
  {
   "cell_type": "code",
   "execution_count": 271,
   "metadata": {},
   "outputs": [
    {
     "name": "stdout",
     "output_type": "stream",
     "text": [
      " [1] \"ARX\"    \"BTG1\"   \"CASZ1\"  \"CBFB\"   \"DIP2C\"  \"ELAVL2\" \"ESRRG\"  \"GTF2B\" \n",
      " [9] \"HDAC5\"  \"KAT2B\"  \"KLF12\"  \"KLF7\"   \"MAML3\"  \"MEF2C\"  \"MEIS2\"  \"MYT1\"  \n",
      "[17] \"MYT1L\"  \"NFIA\"   \"NKX6-2\" \"NPAS3\"  \"PAX6\"   \"PBX3\"   \"PBX4\"   \"PROX1\" \n",
      "[25] \"RB1\"    \"RORA\"   \"SATB2\"  \"SCRT1\"  \"SIX1\"   \"SMAD9\"  \"SSBP2\"  \"TLE1\"  \n",
      "[33] \"TLX1\"   \"TSHZ2\"  \"ZNF611\" \"ZNF83\"  \"ZNF862\"\n"
     ]
    }
   ],
   "source": [
    "setdiff(NGN.interaction.D4$target_gene, union(NGN.interaction.H16$target_gene, NGN.interaction.D1$target_gene)) %>% sort %>% print"
   ]
  },
  {
   "cell_type": "markdown",
   "metadata": {},
   "source": [
    "Of D4 targets, no hit TF targets."
   ]
  },
  {
   "cell_type": "code",
   "execution_count": 272,
   "metadata": {},
   "outputs": [
    {
     "name": "stdout",
     "output_type": "stream",
     "text": [
      "character(0)\n"
     ]
    }
   ],
   "source": [
    "NGN.interaction.D4$target_gene %>% intersect(hitlist)  %>% sort %>% print"
   ]
  },
  {
   "cell_type": "raw",
   "metadata": {},
   "source": [
    "NGN.interaction.D4"
   ]
  },
  {
   "cell_type": "markdown",
   "metadata": {},
   "source": [
    "## 2. Find level 2 targets of NGN H16 targets. These are: NGN -> H16 targets -> level 2 targets"
   ]
  },
  {
   "cell_type": "markdown",
   "metadata": {},
   "source": [
    "### Group A1: targets differentially expressed at *D1*, regulated by NGN's direct level 1 targets\n",
    "\n",
    "Criteria:<br>\n",
    "`regulators are targets of NGN1/2's direct target at level1 (H16)` & <br> `abs(corr) > 0.55` & <br> `corr. p-val < 0.2` & <br> `Target differentially expressed at D1: fdr.H16 > 0.05 & fdr.D1 < 0.05` & <br> `Target expression change abs(l2fc.D1) > 1` & <br> `reg.cnt.sum > 30`"
   ]
  },
  {
   "cell_type": "code",
   "execution_count": 273,
   "metadata": {},
   "outputs": [],
   "source": [
    "NGN.interaction.H16.toD1 <- filter(base_set, regulator_gene %in% NGN.interaction.H16$target_gene & # targets of TFs that are regulated by NGN at H16\n",
    "       abs(corr) > .55 & cor_p < .2 & # correlation filter\n",
    "       fdr.D1 < .05 & fdr.H16 > .05 & abs(l2fc.D1 > 1) &\n",
    "       reg.cnt.sum > 30)  # FDR and FC filter"
   ]
  },
  {
   "cell_type": "markdown",
   "metadata": {},
   "source": [
    "Group A1: interactions started with D1, targets of NGN H16 targets"
   ]
  },
  {
   "cell_type": "code",
   "execution_count": 274,
   "metadata": {},
   "outputs": [
    {
     "name": "stdout",
     "output_type": "stream",
     "text": [
      " [1] \"AFF3\"    \"BACH2\"   \"CELF3\"   \"DENND4A\" \"ESRRA\"   \"FXR2\"    \"GATA6\"  \n",
      " [8] \"HOMEZ\"   \"HSF2\"    \"INSM2\"   \"KLF13\"   \"LHX9\"    \"LMO1\"    \"MEIS1\"  \n",
      "[15] \"NHLH2\"   \"NRL\"     \"ONECUT2\" \"PHF21B\"  \"POU2F2\"  \"PRDM2\"   \"RARA\"   \n",
      "[22] \"TAF13\"   \"TCF15\"   \"TCF4\"    \"TLX2\"    \"TRIP4\"   \"TSHZ1\"   \"VAX2\"   \n",
      "[29] \"ZFHX3\"   \"ZHX3\"    \"ZNF160\"  \"ZNF197\"  \"ZNF491\"  \"ZNF75D\" \n"
     ]
    }
   ],
   "source": [
    "NGN.interaction.H16.toD1$target_gene %>% unique %>% sort %>% print"
   ]
  },
  {
   "cell_type": "markdown",
   "metadata": {},
   "source": [
    "of those, these These are hits"
   ]
  },
  {
   "cell_type": "code",
   "execution_count": 275,
   "metadata": {},
   "outputs": [
    {
     "name": "stdout",
     "output_type": "stream",
     "text": [
      "[1] \"VAX2\"\n"
     ]
    }
   ],
   "source": [
    "NGN.interaction.H16.toD1$target_gene %>% intersect(hitlist)  %>% sort %>% print"
   ]
  },
  {
   "cell_type": "raw",
   "metadata": {},
   "source": [
    "NGN.interaction.H16.toD1"
   ]
  },
  {
   "cell_type": "markdown",
   "metadata": {},
   "source": [
    "### Group A2: targets differentially expressed at *D4*, regulated by NGN's direct level 1 targets\n",
    "\n",
    "Criteria:<br>\n",
    "`regulators are targets of NGN1/2's direct target at level1 (H16)` & <br> `abs(corr) > 0.55` & <br> `corr. p-val < 0.2` & <br> `Target differentially expressed at D4: fdr.H16 > 0.05 & fdr.D1 > 0.05 & fdr.D4 < 0.05` & <br> `Target expression change abs(l2fc.D4) > 1` & <br> `reg.cnt.sum > 30`"
   ]
  },
  {
   "cell_type": "code",
   "execution_count": 276,
   "metadata": {},
   "outputs": [],
   "source": [
    "NGN.interaction.H16.toD4 <- filter(base_set, regulator_gene %in% NGN.interaction.H16$target_gene & # targets of TFs that are regulated by NGN at H16\n",
    "       abs(corr) > .55 & cor_p < .2 & # correlation filter\n",
    "       fdr.D4 < .05 & fdr.H16 > .05 & fdr.D1 > .05 & abs(l2fc.D4 > 1) &\n",
    "       reg.cnt.sum > 30) # FDR and FC filter"
   ]
  },
  {
   "cell_type": "code",
   "execution_count": 277,
   "metadata": {},
   "outputs": [
    {
     "data": {
      "text/html": [
       "<table>\n",
       "<caption>A matrix: 1 × 100 of type chr</caption>\n",
       "<tbody>\n",
       "\t<tr><td>ABL1</td><td>APBB1</td><td>APC</td><td>ARNT2</td><td>ARX</td><td>ASB8</td><td>BAZ2B</td><td>BIN1</td><td>BTG1</td><td>CALCOCO1</td><td>⋯</td><td>ZNF512</td><td>ZNF568</td><td>ZNF611</td><td>ZNF688</td><td>ZNF708</td><td>ZNF764</td><td>ZNF785</td><td>ZNF83</td><td>ZNF862</td><td>ZNHIT3</td></tr>\n",
       "</tbody>\n",
       "</table>\n"
      ],
      "text/latex": [
       "A matrix: 1 × 100 of type chr\n",
       "\\begin{tabular}{llllllllllllllllllllllllllllllllllllllllllllllllllllllllllllllllllllllllllllllllllllllllllllllllllll}\n",
       "\t ABL1 & APBB1 & APC & ARNT2 & ARX & ASB8 & BAZ2B & BIN1 & BTG1 & CALCOCO1 & CASZ1 & CBFB & CBX4 & CBX8 & CEBPG & CRTC1 & DIP2C & ELAVL2 & EPC1 & ESRRG & FOXP4 & GTF2B & GZF1 & HDAC4 & HDAC5 & HDAC9 & HEY1 & HLX & JUN & JUNB & KAT2B & KAT6A & KLF12 & KLF7 & KMT2E & LHX2 & LHX4 & MAML3 & MED17 & MEF2C & MEIS2 & MYT1 & MYT1L & NCOA1 & NFIA & NKX6-2 & NPAS3 & NRIP1 & PAX6 & PBX3 & PBX4 & PHF21A & PHOX2A & PHTF1 & POLR1E & POU3F3 & PRDM6 & PROX1 & PYGO1 & RB1 & RELA & RORA & SATB2 & SCML2 & SCRT1 & SIRT2 & SIX1 & SMAD9 & SOX5 & SOX7 & SSBP2 & SSBP3 & TBX3 & THRA & TLE1 & TLX1 & TOX3 & TSC22D1 & TSG101 & TSHZ2 & TULP4 & ZBTB20 & ZFP90 & ZHX1 & ZKSCAN1 & ZNF248 & ZNF25 & ZNF250 & ZNF436 & ZNF446 & ZNF512 & ZNF568 & ZNF611 & ZNF688 & ZNF708 & ZNF764 & ZNF785 & ZNF83 & ZNF862 & ZNHIT3\\\\\n",
       "\\end{tabular}\n"
      ],
      "text/markdown": [
       "\n",
       "A matrix: 1 × 100 of type chr\n",
       "\n",
       "| ABL1 | APBB1 | APC | ARNT2 | ARX | ASB8 | BAZ2B | BIN1 | BTG1 | CALCOCO1 | ⋯ | ZNF512 | ZNF568 | ZNF611 | ZNF688 | ZNF708 | ZNF764 | ZNF785 | ZNF83 | ZNF862 | ZNHIT3 |\n",
       "\n"
      ],
      "text/plain": [
       "     [,1] [,2]  [,3] [,4]  [,5] [,6] [,7]  [,8] [,9] [,10]    [,11] [,12] \n",
       "[1,] ABL1 APBB1 APC  ARNT2 ARX  ASB8 BAZ2B BIN1 BTG1 CALCOCO1 ⋯     ZNF512\n",
       "     [,13]  [,14]  [,15]  [,16]  [,17]  [,18]  [,19] [,20]  [,21] \n",
       "[1,] ZNF568 ZNF611 ZNF688 ZNF708 ZNF764 ZNF785 ZNF83 ZNF862 ZNHIT3"
      ]
     },
     "metadata": {},
     "output_type": "display_data"
    }
   ],
   "source": [
    "NGN.interaction.H16.toD4$target_gene %>% unique %>% sort %>% t"
   ]
  },
  {
   "cell_type": "markdown",
   "metadata": {},
   "source": [
    "New targets emerge in D4, but not in  D1. "
   ]
  },
  {
   "cell_type": "raw",
   "metadata": {},
   "source": [
    "NGN.interaction.H16.toD4"
   ]
  },
  {
   "cell_type": "markdown",
   "metadata": {},
   "source": [
    "### Group B1: targets differentially expressed at D4, regulated by NGN's direct level 2 targets\n",
    "\n",
    "Criteria:<br>\n",
    "`regulators are targets of NGN1/2's direct target at level2 (D1)` & <br> `abs(corr) > 0.55` & <br> `corr. p-val < 0.2` & <br> `Target differentially expressed at D4: fdr.H16 > 0.05 & fdr.D1 > 0.05 & fdr.D4 < 0.05` & <br> `Target expression change abs(l2fc.D4) > 1` & <br> `reg.cnt.sum > 30`"
   ]
  },
  {
   "cell_type": "code",
   "execution_count": 278,
   "metadata": {},
   "outputs": [],
   "source": [
    "NGN.interaction.D1.toD4 <- filter(base_set, regulator_gene %in% NGN.interaction.D1$target_gene & # targets of TFs that are regulated by NGN at H16\n",
    "       abs(corr) > .55 & cor_p < .2 & # correlation filter\n",
    "       fdr.D4 < .05 & fdr.H16 > .05 & fdr.D1 > .05 & abs(l2fc.D4 > 1) &\n",
    "       reg.cnt.sum > 30) # FDR and FC filter"
   ]
  },
  {
   "cell_type": "code",
   "execution_count": 279,
   "metadata": {},
   "outputs": [
    {
     "data": {
      "text/html": [
       "<table>\n",
       "<caption>A matrix: 1 × 85 of type chr</caption>\n",
       "<tbody>\n",
       "\t<tr><td>ABL1</td><td>APC</td><td>ASB8</td><td>BAZ2B</td><td>BIN1</td><td>CASZ1</td><td>CBFB</td><td>CBX4</td><td>CBX8</td><td>CEBPG</td><td>⋯</td><td>ZNF382</td><td>ZNF410</td><td>ZNF436</td><td>ZNF568</td><td>ZNF611</td><td>ZNF641</td><td>ZNF688</td><td>ZNF764</td><td>ZNF83</td><td>ZNF862</td></tr>\n",
       "</tbody>\n",
       "</table>\n"
      ],
      "text/latex": [
       "A matrix: 1 × 85 of type chr\n",
       "\\begin{tabular}{lllllllllllllllllllllllllllllllllllllllllllllllllllllllllllllllllllllllllllllllllllll}\n",
       "\t ABL1 & APC & ASB8 & BAZ2B & BIN1 & CASZ1 & CBFB & CBX4 & CBX8 & CEBPG & CRTC1 & DAZAP2 & DIP2C & ELAVL2 & EPC1 & ESRRG & FOXP4 & GZF1 & HDAC4 & HDAC5 & HDAC9 & HEY1 & ING4 & JUN & KAT2B & KAT6A & KLF12 & KLF7 & KMT2E & KRBOX4 & LHX2 & LHX4 & MAML3 & MED17 & MEF2C & MEIS2 & MYT1 & MYT1L & NCOA1 & NKX6-2 & NPAS3 & PAX6 & PBX4 & PHOX2A & PHTF1 & POLR1E & POU3F3 & PRDM6 & PROX1 & PYGO1 & RB1 & RELA & RORA & SCML2 & SCRT1 & SIRT2 & SIX1 & SOX5 & SOX7 & SSBP2 & SSBP3 & TAF9B & TBX3 & THRA & TLE1 & TLX1 & TOX3 & TSC22D1 & TSG101 & TSHZ2 & TULP4 & ZBTB20 & ZKSCAN1 & ZNF25 & ZNF250 & ZNF382 & ZNF410 & ZNF436 & ZNF568 & ZNF611 & ZNF641 & ZNF688 & ZNF764 & ZNF83 & ZNF862\\\\\n",
       "\\end{tabular}\n"
      ],
      "text/markdown": [
       "\n",
       "A matrix: 1 × 85 of type chr\n",
       "\n",
       "| ABL1 | APC | ASB8 | BAZ2B | BIN1 | CASZ1 | CBFB | CBX4 | CBX8 | CEBPG | ⋯ | ZNF382 | ZNF410 | ZNF436 | ZNF568 | ZNF611 | ZNF641 | ZNF688 | ZNF764 | ZNF83 | ZNF862 |\n",
       "\n"
      ],
      "text/plain": [
       "     [,1] [,2] [,3] [,4]  [,5] [,6]  [,7] [,8] [,9] [,10] [,11] [,12]  [,13] \n",
       "[1,] ABL1 APC  ASB8 BAZ2B BIN1 CASZ1 CBFB CBX4 CBX8 CEBPG ⋯     ZNF382 ZNF410\n",
       "     [,14]  [,15]  [,16]  [,17]  [,18]  [,19]  [,20] [,21] \n",
       "[1,] ZNF436 ZNF568 ZNF611 ZNF641 ZNF688 ZNF764 ZNF83 ZNF862"
      ]
     },
     "metadata": {},
     "output_type": "display_data"
    }
   ],
   "source": [
    "NGN.interaction.D1.toD4$target_gene %>% unique %>% sort %>% t"
   ]
  },
  {
   "cell_type": "markdown",
   "metadata": {},
   "source": [
    "of those, these These are hits"
   ]
  },
  {
   "cell_type": "code",
   "execution_count": 280,
   "metadata": {},
   "outputs": [
    {
     "name": "stdout",
     "output_type": "stream",
     "text": [
      "[1] \"CBX4\"   \"LHX4\"   \"PHOX2A\" \"PRDM6\"  \"THRA\"   \"ZNF250\"\n"
     ]
    }
   ],
   "source": [
    "NGN.interaction.D1.toD4$target_gene %>% intersect(hitlist)  %>% sort %>% print"
   ]
  },
  {
   "cell_type": "raw",
   "metadata": {},
   "source": [
    "NGN.interaction.D1.toD4"
   ]
  },
  {
   "cell_type": "markdown",
   "metadata": {},
   "source": [
    "### Group A1B11: targets differentially expressed at D4, regulated by (Group A1) NGN -> H16 targets -> D1 targets\n",
    "\n",
    "Criteria:<br>\n",
    "`regulators are targets of NGN1/2's level 1 (H16) indirect targets' level 2 (D1) targets` & <br> `abs(corr) > 0.55` & <br> `corr. p-val < 0.2` & <br> `Target differentially expressed at D4: fdr.H16 > 0.05 & fdr.D1 > 0.05 & fdr.D4 < 0.05` & <br> `Target expression change abs(l2fc.D4) > 1` & <br> `reg.cnt.sum > 30`"
   ]
  },
  {
   "cell_type": "code",
   "execution_count": 281,
   "metadata": {},
   "outputs": [],
   "source": [
    "NGN.interaction.H16.toD1.toD4 <- filter(base_set, regulator_gene %in% NGN.interaction.H16.toD1$target_gene & # targets of TFs that are regulated by NGN at H16\n",
    "       abs(corr) > .55 & cor_p < .2 & # correlation filter\n",
    "       fdr.D4 < .05 & fdr.H16 > .05 & fdr.D1 > .05 & abs(l2fc.D4 > 1) &\n",
    "       reg.cnt.sum > 30) # FDR and FC filter"
   ]
  },
  {
   "cell_type": "code",
   "execution_count": 282,
   "metadata": {},
   "outputs": [
    {
     "data": {
      "text/html": [
       "<table>\n",
       "<caption>A matrix: 1 × 108 of type chr</caption>\n",
       "<tbody>\n",
       "\t<tr><td>ABL1</td><td>APBB1</td><td>APC</td><td>ARNT2</td><td>ARX</td><td>ASB8</td><td>BAZ2B</td><td>BIN1</td><td>BTG1</td><td>CALCOCO1</td><td>⋯</td><td>ZNF599</td><td>ZNF611</td><td>ZNF641</td><td>ZNF688</td><td>ZNF708</td><td>ZNF764</td><td>ZNF785</td><td>ZNF83</td><td>ZNF862</td><td>ZNHIT3</td></tr>\n",
       "</tbody>\n",
       "</table>\n"
      ],
      "text/latex": [
       "A matrix: 1 × 108 of type chr\n",
       "\\begin{tabular}{llllllllllllllllllllllllllllllllllllllllllllllllllllllllllllllllllllllllllllllllllllllllllllllllllllllllllll}\n",
       "\t ABL1 & APBB1 & APC & ARNT2 & ARX & ASB8 & BAZ2B & BIN1 & BTG1 & CALCOCO1 & CASZ1 & CBFB & CBX4 & CBX8 & CEBPG & CRTC1 & DAZAP2 & DIP2C & ELAVL2 & EPC1 & ESRRG & FOXP4 & GTF2B & GZF1 & HDAC4 & HDAC5 & HDAC9 & HEY1 & ING4 & JUN & JUNB & KAT2B & KAT6A & KLF12 & KLF7 & KMT2E & KRBOX4 & LHX2 & LHX4 & MAML3 & MED17 & MEF2C & MEIS2 & MLLT6 & MXD4 & MYT1 & MYT1L & NCOA1 & NFIA & NKX6-2 & NPAS3 & NRIP1 & PAX6 & PBX3 & PBX4 & PHF21A & PHOX2A & PHTF1 & POLR1E & POU3F3 & PRDM6 & PROX1 & PYGO1 & RB1 & RELA & RORA & SATB2 & SCML2 & SCRT1 & SIRT2 & SIX1 & SMAD9 & SOX5 & SOX7 & SSBP2 & SSBP3 & TAF9B & TBX3 & THRA & TLE1 & TLX1 & TOX3 & TSC22D1 & TSG101 & TSHZ2 & TULP4 & ZBTB20 & ZFP90 & ZHX1 & ZKSCAN1 & ZNF248 & ZNF25 & ZNF250 & ZNF382 & ZNF410 & ZNF436 & ZNF446 & ZNF568 & ZNF599 & ZNF611 & ZNF641 & ZNF688 & ZNF708 & ZNF764 & ZNF785 & ZNF83 & ZNF862 & ZNHIT3\\\\\n",
       "\\end{tabular}\n"
      ],
      "text/markdown": [
       "\n",
       "A matrix: 1 × 108 of type chr\n",
       "\n",
       "| ABL1 | APBB1 | APC | ARNT2 | ARX | ASB8 | BAZ2B | BIN1 | BTG1 | CALCOCO1 | ⋯ | ZNF599 | ZNF611 | ZNF641 | ZNF688 | ZNF708 | ZNF764 | ZNF785 | ZNF83 | ZNF862 | ZNHIT3 |\n",
       "\n"
      ],
      "text/plain": [
       "     [,1] [,2]  [,3] [,4]  [,5] [,6] [,7]  [,8] [,9] [,10]    [,11] [,12] \n",
       "[1,] ABL1 APBB1 APC  ARNT2 ARX  ASB8 BAZ2B BIN1 BTG1 CALCOCO1 ⋯     ZNF599\n",
       "     [,13]  [,14]  [,15]  [,16]  [,17]  [,18]  [,19] [,20]  [,21] \n",
       "[1,] ZNF611 ZNF641 ZNF688 ZNF708 ZNF764 ZNF785 ZNF83 ZNF862 ZNHIT3"
      ]
     },
     "metadata": {},
     "output_type": "display_data"
    }
   ],
   "source": [
    "NGN.interaction.H16.toD1.toD4$target_gene %>% unique %>% sort %>% t"
   ]
  },
  {
   "cell_type": "markdown",
   "metadata": {},
   "source": [
    "## construct interaction table for cyberscope"
   ]
  },
  {
   "cell_type": "markdown",
   "metadata": {},
   "source": [
    "- lev1: NGN.interaction.H16\n",
    "- lev2: NGN.interaction.D1   \n",
    "- lev3: NGN.interaction.D4   \n",
    "- lev2: NGN.interaction.H16.toD1  \n",
    "- lev3: NGN.interaction.H16.toD4  \n",
    "- lev3: NGN.interaction.D1.toD4   \n",
    "- lev3: NGN.interaction.H16.toD1.toD4   "
   ]
  },
  {
   "cell_type": "code",
   "execution_count": 283,
   "metadata": {},
   "outputs": [],
   "source": [
    "NGN.started.network <- list(\"NGN.interaction.H16\"=NGN.interaction.H16, \"NGN.interaction.D1\"=NGN.interaction.D1, \n",
    "                            \"NGN.interaction.D4\"=NGN.interaction.D4, \"NGN.interaction.H16.toD1\"=NGN.interaction.H16.toD1, \n",
    "                            \"NGN.interaction.H16.toD4\" = NGN.interaction.H16.toD4, \"NGN.interaction.D1.toD4\"=NGN.interaction.D1.toD4,\n",
    "                            \"NGN.interaction.H16.toD1.toD4\"=NGN.interaction.H16.toD1.toD4)\n",
    "NGN.started.network.levels <- c(\"lev1\", \"lev2\", \"lev3\", \"lev2\", \"lev3\", \"lev3\", \"lev3\")"
   ]
  },
  {
   "cell_type": "code",
   "execution_count": 284,
   "metadata": {},
   "outputs": [],
   "source": [
    "NGN.started.network.df <- map2_df(NGN.started.network, NGN.started.network.levels, ~ add_column(.x, \"lev\" = .y))"
   ]
  },
  {
   "cell_type": "code",
   "execution_count": 288,
   "metadata": {},
   "outputs": [],
   "source": [
    "NGN.started.network.df %>% write.table(\"../NGN_started_network_20200107.csv\", quote=F, sep=\",\", col.names=T, row.names=F)"
   ]
  },
  {
   "cell_type": "raw",
   "metadata": {},
   "source": [
    "NGN.started.network.df <- NGN.started.network.df %>% \n",
    "        left_join(dge$H16[,c(2,3,5)], by = c(\"regulator_gene\" = \"gene_name\")) %>% \n",
    "        rename(\"log2FoldChange\" = \"reg.l2fc.H16\", \"padj\" = \"reg.padj.H16\") %>%\n",
    "        left_join(dge$D1[,c(2,3,5)], by = c(\"regulator_gene\" = \"gene_name\")) %>% \n",
    "        rename(\"log2FoldChange\" = \"reg.l2fc.D1\", \"padj\" = \"reg.padj.D1\") %>%\n",
    "        left_join(dge$D4[,c(2,3,5)], by = c(\"regulator_gene\" = \"gene_name\")) %>% \n",
    "        rename(\"log2FoldChange\" = \"reg.l2fc.D4\", \"padj\" = \"reg.padj.D4\")"
   ]
  },
  {
   "cell_type": "code",
   "execution_count": 291,
   "metadata": {},
   "outputs": [
    {
     "data": {
      "text/html": [
       "<table>\n",
       "<caption>A tibble: 65 × 36</caption>\n",
       "<thead>\n",
       "\t<tr><th scope=col>regulator_gene</th><th scope=col>target_gene</th><th scope=col>atac.ES</th><th scope=col>atac.H16</th><th scope=col>atac.D1</th><th scope=col>atac.D4</th><th scope=col>tar.ge.ES</th><th scope=col>tar.ge.H16</th><th scope=col>tar.ge.D1</th><th scope=col>tar.ge.D4</th><th scope=col>⋯</th><th scope=col>reg.l2fc.H16</th><th scope=col>reg.l2fc.D1</th><th scope=col>reg.l2fc.D4</th><th scope=col>reg.fdr.H16</th><th scope=col>reg.fdr.D1</th><th scope=col>reg.fdr.D4</th><th scope=col>reg.isHit</th><th scope=col>tar.isHit</th><th scope=col>reg.cnt.sum</th><th scope=col>lev</th></tr>\n",
       "\t<tr><th scope=col>&lt;chr&gt;</th><th scope=col>&lt;chr&gt;</th><th scope=col>&lt;dbl&gt;</th><th scope=col>&lt;dbl&gt;</th><th scope=col>&lt;dbl&gt;</th><th scope=col>&lt;dbl&gt;</th><th scope=col>&lt;dbl&gt;</th><th scope=col>&lt;dbl&gt;</th><th scope=col>&lt;dbl&gt;</th><th scope=col>&lt;dbl&gt;</th><th scope=col>⋯</th><th scope=col>&lt;dbl&gt;</th><th scope=col>&lt;dbl&gt;</th><th scope=col>&lt;dbl&gt;</th><th scope=col>&lt;dbl&gt;</th><th scope=col>&lt;dbl&gt;</th><th scope=col>&lt;dbl&gt;</th><th scope=col>&lt;lgl&gt;</th><th scope=col>&lt;lgl&gt;</th><th scope=col>&lt;dbl&gt;</th><th scope=col>&lt;chr&gt;</th></tr>\n",
       "</thead>\n",
       "<tbody>\n",
       "\t<tr><td>NEUROG1</td><td>EBF1  </td><td> 4.591357</td><td> 6.043470</td><td> 6.011842</td><td> 9.017202</td><td>0.6696824</td><td> 1.4371240</td><td> 3.8997900</td><td>20.301545</td><td>⋯</td><td>8.170744</td><td>9.6348898</td><td>11.116910</td><td>7.875081e-22</td><td>5.935372e-31</td><td> 5.633972e-42</td><td> TRUE</td><td>TRUE</td><td>  539</td><td>lev1</td></tr>\n",
       "\t<tr><td>NEUROG2</td><td>EBF1  </td><td>18.885112</td><td>22.733444</td><td>22.733617</td><td>28.581881</td><td>0.6696824</td><td> 1.4371240</td><td> 3.8997900</td><td>20.301545</td><td>⋯</td><td>7.088920</td><td>7.9901132</td><td> 9.893931</td><td>3.985811e-09</td><td>7.743982e-12</td><td> 8.486055e-19</td><td> TRUE</td><td>TRUE</td><td>  207</td><td>lev1</td></tr>\n",
       "\t<tr><td>NEUROG2</td><td>POU3F2</td><td> 6.351503</td><td> 7.253477</td><td> 7.200895</td><td> 9.575558</td><td>0.1609897</td><td> 2.8551875</td><td> 4.1576482</td><td>12.963583</td><td>⋯</td><td>7.088920</td><td>7.9901132</td><td> 9.893931</td><td>3.985811e-09</td><td>7.743982e-12</td><td> 8.486055e-19</td><td> TRUE</td><td>TRUE</td><td>  207</td><td>lev1</td></tr>\n",
       "\t<tr><td>NEUROG2</td><td>RCOR2 </td><td>10.116665</td><td>10.779594</td><td>10.950813</td><td>11.168362</td><td>7.2018173</td><td>17.3199422</td><td>18.2898296</td><td>16.572379</td><td>⋯</td><td>7.088920</td><td>7.9901132</td><td> 9.893931</td><td>3.985811e-09</td><td>7.743982e-12</td><td> 8.486055e-19</td><td> TRUE</td><td>TRUE</td><td>  207</td><td>lev1</td></tr>\n",
       "\t<tr><td>NEUROG2</td><td>ZBTB18</td><td> 3.166601</td><td> 4.770543</td><td> 4.652431</td><td> 5.911644</td><td>2.8316239</td><td>11.0424247</td><td>11.1503921</td><td>12.374454</td><td>⋯</td><td>7.088920</td><td>7.9901132</td><td> 9.893931</td><td>3.985811e-09</td><td>7.743982e-12</td><td> 8.486055e-19</td><td> TRUE</td><td>TRUE</td><td>  207</td><td>lev1</td></tr>\n",
       "\t<tr><td>NEUROG2</td><td>VAX2  </td><td> 9.887712</td><td> 9.670370</td><td> 9.880845</td><td>10.416721</td><td>0.2078368</td><td> 0.3528202</td><td> 1.0458451</td><td> 3.172412</td><td>⋯</td><td>7.088920</td><td>7.9901132</td><td> 9.893931</td><td>3.985811e-09</td><td>7.743982e-12</td><td> 8.486055e-19</td><td> TRUE</td><td>TRUE</td><td>  207</td><td>lev2</td></tr>\n",
       "\t<tr><td>EBF1   </td><td>VAX2  </td><td>12.833548</td><td>13.420957</td><td>14.064004</td><td>15.171356</td><td>0.2078368</td><td> 0.3528202</td><td> 1.0458451</td><td> 3.172412</td><td>⋯</td><td>2.514547</td><td>5.0491582</td><td> 9.726408</td><td>5.891332e-05</td><td>5.672568e-22</td><td> 3.335348e-84</td><td> TRUE</td><td>TRUE</td><td> 2308</td><td>lev2</td></tr>\n",
       "\t<tr><td>EBF3   </td><td>VAX2  </td><td>10.281116</td><td>10.226842</td><td>10.327152</td><td>10.769148</td><td>0.2078368</td><td> 0.3528202</td><td> 1.0458451</td><td> 3.172412</td><td>⋯</td><td>5.541898</td><td>6.6627546</td><td> 9.147850</td><td>1.203497e-24</td><td>3.641239e-36</td><td> 3.460202e-69</td><td>FALSE</td><td>TRUE</td><td> 2878</td><td>lev2</td></tr>\n",
       "\t<tr><td>NEUROD1</td><td>VAX2  </td><td> 9.887712</td><td> 9.670370</td><td> 9.880845</td><td>10.416721</td><td>0.2078368</td><td> 0.3528202</td><td> 1.0458451</td><td> 3.172412</td><td>⋯</td><td>3.176489</td><td>0.9474577</td><td>11.894240</td><td>5.611389e-06</td><td>4.596942e-01</td><td> 1.609459e-99</td><td>FALSE</td><td>TRUE</td><td> 3704</td><td>lev2</td></tr>\n",
       "\t<tr><td>NHLH1  </td><td>VAX2  </td><td>10.010747</td><td>10.900004</td><td>11.482029</td><td>13.118007</td><td>0.2078368</td><td> 0.3528202</td><td> 1.0458451</td><td> 3.172412</td><td>⋯</td><td>8.349374</td><td>8.5751674</td><td>11.586282</td><td>4.889849e-58</td><td>2.070067e-61</td><td>1.834385e-113</td><td>FALSE</td><td>TRUE</td><td> 4329</td><td>lev2</td></tr>\n",
       "\t<tr><td>PAX3   </td><td>VAX2  </td><td> 2.437150</td><td> 2.017455</td><td> 2.177221</td><td> 1.747631</td><td>0.2078368</td><td> 0.3528202</td><td> 1.0458451</td><td> 3.172412</td><td>⋯</td><td>3.375887</td><td>5.0502666</td><td> 7.396766</td><td>2.800632e-02</td><td>9.779089e-05</td><td> 1.639753e-10</td><td>FALSE</td><td>TRUE</td><td>  352</td><td>lev2</td></tr>\n",
       "\t<tr><td>ZEB1   </td><td>VAX2  </td><td> 4.117493</td><td> 3.597116</td><td> 3.263319</td><td> 2.382539</td><td>0.2078368</td><td> 0.3528202</td><td> 1.0458451</td><td> 3.172412</td><td>⋯</td><td>6.818574</td><td>8.7580193</td><td>10.311714</td><td>9.536600e-17</td><td>3.166121e-28</td><td> 8.820628e-40</td><td>FALSE</td><td>TRUE</td><td> 1059</td><td>lev2</td></tr>\n",
       "\t<tr><td>EBF1   </td><td>JUNB  </td><td> 5.666814</td><td> 5.272281</td><td> 5.248707</td><td> 4.185558</td><td>0.7473370</td><td> 1.1245405</td><td> 1.2370294</td><td> 2.797669</td><td>⋯</td><td>2.514547</td><td>5.0491582</td><td> 9.726408</td><td>5.891332e-05</td><td>5.672568e-22</td><td> 3.335348e-84</td><td> TRUE</td><td>TRUE</td><td> 2308</td><td>lev3</td></tr>\n",
       "\t<tr><td>EBF1   </td><td>LHX4  </td><td>10.148966</td><td> 8.958018</td><td> 8.987330</td><td> 7.665843</td><td>0.6094769</td><td> 0.4484792</td><td> 0.4683389</td><td> 3.681642</td><td>⋯</td><td>2.514547</td><td>5.0491582</td><td> 9.726408</td><td>5.891332e-05</td><td>5.672568e-22</td><td> 3.335348e-84</td><td> TRUE</td><td>TRUE</td><td> 2308</td><td>lev3</td></tr>\n",
       "\t<tr><td>EBF1   </td><td>THRA  </td><td> 4.082232</td><td> 4.237987</td><td> 4.461391</td><td> 5.424876</td><td>1.8151078</td><td> 1.6203347</td><td> 0.9806174</td><td> 4.353753</td><td>⋯</td><td>2.514547</td><td>5.0491582</td><td> 9.726408</td><td>5.891332e-05</td><td>5.672568e-22</td><td> 3.335348e-84</td><td> TRUE</td><td>TRUE</td><td> 2308</td><td>lev3</td></tr>\n",
       "\t<tr><td>EBF1   </td><td>ZNF250</td><td> 8.093489</td><td> 8.027487</td><td> 8.373344</td><td> 9.115512</td><td>2.0346106</td><td> 3.3967702</td><td> 2.5620881</td><td> 5.500890</td><td>⋯</td><td>2.514547</td><td>5.0491582</td><td> 9.726408</td><td>5.891332e-05</td><td>5.672568e-22</td><td> 3.335348e-84</td><td> TRUE</td><td>TRUE</td><td> 2308</td><td>lev3</td></tr>\n",
       "\t<tr><td>EBF3   </td><td>THRA  </td><td> 4.082232</td><td> 4.237987</td><td> 4.461391</td><td> 5.424876</td><td>1.8151078</td><td> 1.6203347</td><td> 0.9806174</td><td> 4.353753</td><td>⋯</td><td>5.541898</td><td>6.6627546</td><td> 9.147850</td><td>1.203497e-24</td><td>3.641239e-36</td><td> 3.460202e-69</td><td>FALSE</td><td>TRUE</td><td> 2878</td><td>lev3</td></tr>\n",
       "\t<tr><td>EBF3   </td><td>ZNF250</td><td> 6.590952</td><td> 6.539985</td><td> 6.495266</td><td> 7.828030</td><td>2.0346106</td><td> 3.3967702</td><td> 2.5620881</td><td> 5.500890</td><td>⋯</td><td>5.541898</td><td>6.6627546</td><td> 9.147850</td><td>1.203497e-24</td><td>3.641239e-36</td><td> 3.460202e-69</td><td>FALSE</td><td>TRUE</td><td> 2878</td><td>lev3</td></tr>\n",
       "\t<tr><td>HES6   </td><td>ZNF250</td><td> 6.590952</td><td> 6.539985</td><td> 6.495266</td><td> 7.828030</td><td>2.0346106</td><td> 3.3967702</td><td> 2.5620881</td><td> 5.500890</td><td>⋯</td><td>5.036169</td><td>5.2758090</td><td> 4.965684</td><td>1.812275e-81</td><td>1.419549e-89</td><td> 8.439989e-80</td><td>FALSE</td><td>TRUE</td><td>22471</td><td>lev3</td></tr>\n",
       "\t<tr><td>NHLH1  </td><td>LHX4  </td><td> 5.807694</td><td> 5.551629</td><td> 4.917014</td><td> 3.492239</td><td>0.6094769</td><td> 0.4484792</td><td> 0.4683389</td><td> 3.681642</td><td>⋯</td><td>8.349374</td><td>8.5751674</td><td>11.586282</td><td>4.889849e-58</td><td>2.070067e-61</td><td>1.834385e-113</td><td>FALSE</td><td>TRUE</td><td> 4329</td><td>lev3</td></tr>\n",
       "\t<tr><td>NHLH1  </td><td>PRDM6 </td><td> 6.308628</td><td> 5.981635</td><td> 5.627980</td><td> 4.852432</td><td>0.0000000</td><td> 0.4559344</td><td> 0.0000000</td><td> 1.578606</td><td>⋯</td><td>8.349374</td><td>8.5751674</td><td>11.586282</td><td>4.889849e-58</td><td>2.070067e-61</td><td>1.834385e-113</td><td>FALSE</td><td>TRUE</td><td> 4329</td><td>lev3</td></tr>\n",
       "\t<tr><td>POU3F2 </td><td>LHX4  </td><td> 1.030161</td><td> 1.148773</td><td> 1.596801</td><td> 2.349040</td><td>0.6094769</td><td> 0.4484792</td><td> 0.4683389</td><td> 3.681642</td><td>⋯</td><td>6.939589</td><td>8.0227274</td><td>11.058454</td><td>7.566588e-14</td><td>7.819149e-19</td><td> 1.483580e-36</td><td> TRUE</td><td>TRUE</td><td> 1052</td><td>lev3</td></tr>\n",
       "\t<tr><td>POU3F2 </td><td>THRA  </td><td> 4.082232</td><td> 4.237987</td><td> 4.461391</td><td> 5.424876</td><td>1.8151078</td><td> 1.6203347</td><td> 0.9806174</td><td> 4.353753</td><td>⋯</td><td>6.939589</td><td>8.0227274</td><td>11.058454</td><td>7.566588e-14</td><td>7.819149e-19</td><td> 1.483580e-36</td><td> TRUE</td><td>TRUE</td><td> 1052</td><td>lev3</td></tr>\n",
       "\t<tr><td>POU6F2 </td><td>LHX4  </td><td> 1.030161</td><td> 1.148773</td><td> 1.596801</td><td> 2.349040</td><td>0.6094769</td><td> 0.4484792</td><td> 0.4683389</td><td> 3.681642</td><td>⋯</td><td>4.226290</td><td>3.9748940</td><td> 2.919401</td><td>2.409371e-02</td><td>3.064723e-02</td><td> 9.443954e-02</td><td>FALSE</td><td>TRUE</td><td>   48</td><td>lev3</td></tr>\n",
       "\t<tr><td>ZEB1   </td><td>CBX4  </td><td> 6.171616</td><td> 6.140931</td><td> 5.954387</td><td> 4.659730</td><td>1.6300527</td><td> 1.4902080</td><td> 1.0441909</td><td> 2.855361</td><td>⋯</td><td>6.818574</td><td>8.7580193</td><td>10.311714</td><td>9.536600e-17</td><td>3.166121e-28</td><td> 8.820628e-40</td><td>FALSE</td><td>TRUE</td><td> 1059</td><td>lev3</td></tr>\n",
       "\t<tr><td>ZEB1   </td><td>LHX4  </td><td> 3.649294</td><td> 3.351725</td><td> 3.130058</td><td> 2.196628</td><td>0.6094769</td><td> 0.4484792</td><td> 0.4683389</td><td> 3.681642</td><td>⋯</td><td>6.818574</td><td>8.7580193</td><td>10.311714</td><td>9.536600e-17</td><td>3.166121e-28</td><td> 8.820628e-40</td><td>FALSE</td><td>TRUE</td><td> 1059</td><td>lev3</td></tr>\n",
       "\t<tr><td>ZEB1   </td><td>PHOX2A</td><td> 4.134909</td><td> 3.523498</td><td> 3.808360</td><td> 4.843225</td><td>0.6666836</td><td> 0.0000000</td><td> 0.2440930</td><td> 9.839293</td><td>⋯</td><td>6.818574</td><td>8.7580193</td><td>10.311714</td><td>9.536600e-17</td><td>3.166121e-28</td><td> 8.820628e-40</td><td>FALSE</td><td>TRUE</td><td> 1059</td><td>lev3</td></tr>\n",
       "\t<tr><td>ZEB1   </td><td>ZNF250</td><td> 6.590952</td><td> 6.539985</td><td> 6.495266</td><td> 7.828030</td><td>2.0346106</td><td> 3.3967702</td><td> 2.5620881</td><td> 5.500890</td><td>⋯</td><td>6.818574</td><td>8.7580193</td><td>10.311714</td><td>9.536600e-17</td><td>3.166121e-28</td><td> 8.820628e-40</td><td>FALSE</td><td>TRUE</td><td> 1059</td><td>lev3</td></tr>\n",
       "\t<tr><td>NHLH2  </td><td>LHX4  </td><td> 5.807694</td><td> 5.551629</td><td> 4.917014</td><td> 3.492239</td><td>0.6094769</td><td> 0.4484792</td><td> 0.4683389</td><td> 3.681642</td><td>⋯</td><td>1.461086</td><td>3.5272457</td><td> 8.723931</td><td>2.330842e-01</td><td>2.377622e-05</td><td> 5.134920e-33</td><td>FALSE</td><td>TRUE</td><td> 3860</td><td>lev3</td></tr>\n",
       "\t<tr><td>NHLH2  </td><td>PHOX2A</td><td> 4.134909</td><td> 3.523498</td><td> 3.808360</td><td> 4.843225</td><td>0.6666836</td><td> 0.0000000</td><td> 0.2440930</td><td> 9.839293</td><td>⋯</td><td>1.461086</td><td>3.5272457</td><td> 8.723931</td><td>2.330842e-01</td><td>2.377622e-05</td><td> 5.134920e-33</td><td>FALSE</td><td>TRUE</td><td> 3860</td><td>lev3</td></tr>\n",
       "\t<tr><td>⋮</td><td>⋮</td><td>⋮</td><td>⋮</td><td>⋮</td><td>⋮</td><td>⋮</td><td>⋮</td><td>⋮</td><td>⋮</td><td>⋱</td><td>⋮</td><td>⋮</td><td>⋮</td><td>⋮</td><td>⋮</td><td>⋮</td><td>⋮</td><td>⋮</td><td>⋮</td><td>⋮</td></tr>\n",
       "\t<tr><td>TCF4  </td><td>CBX4  </td><td> 2.215395</td><td> 2.271225</td><td> 2.553559</td><td> 2.0030731</td><td>1.6300527</td><td>1.4902080</td><td>1.0441909</td><td>2.855361</td><td>⋯</td><td> 0.3354729</td><td>1.007863</td><td>1.8637301</td><td>0.40306281</td><td>4.507059e-05</td><td>1.533468e-17</td><td>FALSE</td><td>TRUE</td><td>2016</td><td>lev3</td></tr>\n",
       "\t<tr><td>TCF4  </td><td>PHOX2A</td><td> 4.134909</td><td> 3.523498</td><td> 3.808360</td><td> 4.8432255</td><td>0.6666836</td><td>0.0000000</td><td>0.2440930</td><td>9.839293</td><td>⋯</td><td> 0.3354729</td><td>1.007863</td><td>1.8637301</td><td>0.40306281</td><td>4.507059e-05</td><td>1.533468e-17</td><td>FALSE</td><td>TRUE</td><td>2016</td><td>lev3</td></tr>\n",
       "\t<tr><td>TCF4  </td><td>PRDM6 </td><td>10.490040</td><td> 9.578751</td><td> 9.181984</td><td> 8.0563789</td><td>0.0000000</td><td>0.4559344</td><td>0.0000000</td><td>1.578606</td><td>⋯</td><td> 0.3354729</td><td>1.007863</td><td>1.8637301</td><td>0.40306281</td><td>4.507059e-05</td><td>1.533468e-17</td><td>FALSE</td><td>TRUE</td><td>2016</td><td>lev3</td></tr>\n",
       "\t<tr><td>TCF4  </td><td>ZNF250</td><td> 6.590952</td><td> 6.539985</td><td> 6.495266</td><td> 7.8280299</td><td>2.0346106</td><td>3.3967702</td><td>2.5620881</td><td>5.500890</td><td>⋯</td><td> 0.3354729</td><td>1.007863</td><td>1.8637301</td><td>0.40306281</td><td>4.507059e-05</td><td>1.533468e-17</td><td>FALSE</td><td>TRUE</td><td>2016</td><td>lev3</td></tr>\n",
       "\t<tr><td>ESRRA </td><td>JUNB  </td><td> 3.699888</td><td> 3.422686</td><td> 3.536483</td><td> 4.3328999</td><td>0.7473370</td><td>1.1245405</td><td>1.2370294</td><td>2.797669</td><td>⋯</td><td> 3.5086013</td><td>4.379121</td><td>3.9898833</td><td>0.10655935</td><td>1.984880e-02</td><td>1.803943e-02</td><td>FALSE</td><td>TRUE</td><td>  75</td><td>lev3</td></tr>\n",
       "\t<tr><td>ESRRA </td><td>MLLT6 </td><td> 3.926857</td><td> 3.562224</td><td> 3.367381</td><td> 2.2017181</td><td>1.9468207</td><td>1.6537179</td><td>1.4004558</td><td>3.994732</td><td>⋯</td><td> 3.5086013</td><td>4.379121</td><td>3.9898833</td><td>0.10655935</td><td>1.984880e-02</td><td>1.803943e-02</td><td>FALSE</td><td>TRUE</td><td>  75</td><td>lev3</td></tr>\n",
       "\t<tr><td>ESRRA </td><td>PRDM6 </td><td>12.233971</td><td>11.687122</td><td>11.232524</td><td>10.3757204</td><td>0.0000000</td><td>0.4559344</td><td>0.0000000</td><td>1.578606</td><td>⋯</td><td> 3.5086013</td><td>4.379121</td><td>3.9898833</td><td>0.10655935</td><td>1.984880e-02</td><td>1.803943e-02</td><td>FALSE</td><td>TRUE</td><td>  75</td><td>lev3</td></tr>\n",
       "\t<tr><td>ESRRA </td><td>THRA  </td><td> 3.174947</td><td> 3.177073</td><td> 3.154523</td><td> 2.9151028</td><td>1.8151078</td><td>1.6203347</td><td>0.9806174</td><td>4.353753</td><td>⋯</td><td> 3.5086013</td><td>4.379121</td><td>3.9898833</td><td>0.10655935</td><td>1.984880e-02</td><td>1.803943e-02</td><td>FALSE</td><td>TRUE</td><td>  75</td><td>lev3</td></tr>\n",
       "\t<tr><td>ESRRA </td><td>ZNF250</td><td> 6.590952</td><td> 6.539985</td><td> 6.495266</td><td> 7.8280299</td><td>2.0346106</td><td>3.3967702</td><td>2.5620881</td><td>5.500890</td><td>⋯</td><td> 3.5086013</td><td>4.379121</td><td>3.9898833</td><td>0.10655935</td><td>1.984880e-02</td><td>1.803943e-02</td><td>FALSE</td><td>TRUE</td><td>  75</td><td>lev3</td></tr>\n",
       "\t<tr><td>LHX9  </td><td>MLLT6 </td><td> 3.330324</td><td> 3.666252</td><td> 3.447483</td><td> 1.9707248</td><td>1.9468207</td><td>1.6537179</td><td>1.4004558</td><td>3.994732</td><td>⋯</td><td> 2.6553161</td><td>3.498781</td><td>8.3698231</td><td>0.23030632</td><td>4.790405e-02</td><td>1.332180e-10</td><td>FALSE</td><td>TRUE</td><td> 126</td><td>lev3</td></tr>\n",
       "\t<tr><td>MEIS1 </td><td>CBX4  </td><td> 3.477261</td><td> 3.458257</td><td> 3.580975</td><td> 4.4586217</td><td>1.6300527</td><td>1.4902080</td><td>1.0441909</td><td>2.855361</td><td>⋯</td><td> 3.1356413</td><td>6.854428</td><td>7.9064674</td><td>0.20413237</td><td>4.456058e-05</td><td>3.086344e-07</td><td>FALSE</td><td>TRUE</td><td>  88</td><td>lev3</td></tr>\n",
       "\t<tr><td>NHLH2 </td><td>LHX4  </td><td> 5.807694</td><td> 5.551629</td><td> 4.917014</td><td> 3.4922389</td><td>0.6094769</td><td>0.4484792</td><td>0.4683389</td><td>3.681642</td><td>⋯</td><td> 1.4610859</td><td>3.527246</td><td>8.7239313</td><td>0.23308416</td><td>2.377622e-05</td><td>5.134920e-33</td><td>FALSE</td><td>TRUE</td><td>3860</td><td>lev3</td></tr>\n",
       "\t<tr><td>NHLH2 </td><td>PHOX2A</td><td> 4.134909</td><td> 3.523498</td><td> 3.808360</td><td> 4.8432255</td><td>0.6666836</td><td>0.0000000</td><td>0.2440930</td><td>9.839293</td><td>⋯</td><td> 1.4610859</td><td>3.527246</td><td>8.7239313</td><td>0.23308416</td><td>2.377622e-05</td><td>5.134920e-33</td><td>FALSE</td><td>TRUE</td><td>3860</td><td>lev3</td></tr>\n",
       "\t<tr><td>NHLH2 </td><td>PRDM6 </td><td> 6.308628</td><td> 5.981635</td><td> 5.627980</td><td> 4.8524321</td><td>0.0000000</td><td>0.4559344</td><td>0.0000000</td><td>1.578606</td><td>⋯</td><td> 1.4610859</td><td>3.527246</td><td>8.7239313</td><td>0.23308416</td><td>2.377622e-05</td><td>5.134920e-33</td><td>FALSE</td><td>TRUE</td><td>3860</td><td>lev3</td></tr>\n",
       "\t<tr><td>NRL   </td><td>LHX4  </td><td>12.208885</td><td>10.625141</td><td>10.415262</td><td> 8.4258220</td><td>0.6094769</td><td>0.4484792</td><td>0.4683389</td><td>3.681642</td><td>⋯</td><td> 0.8402539</td><td>2.978302</td><td>1.5821818</td><td>0.52620965</td><td>4.507059e-05</td><td>4.124306e-02</td><td>FALSE</td><td>TRUE</td><td> 126</td><td>lev3</td></tr>\n",
       "\t<tr><td>NRL   </td><td>PRDM6 </td><td> 6.041150</td><td> 6.844553</td><td> 6.269896</td><td> 3.3073256</td><td>0.0000000</td><td>0.4559344</td><td>0.0000000</td><td>1.578606</td><td>⋯</td><td> 0.8402539</td><td>2.978302</td><td>1.5821818</td><td>0.52620965</td><td>4.507059e-05</td><td>4.124306e-02</td><td>FALSE</td><td>TRUE</td><td> 126</td><td>lev3</td></tr>\n",
       "\t<tr><td>POU2F2</td><td>CBX4  </td><td> 3.477261</td><td> 3.458257</td><td> 3.580975</td><td> 4.4586217</td><td>1.6300527</td><td>1.4902080</td><td>1.0441909</td><td>2.855361</td><td>⋯</td><td>-0.5481766</td><td>1.041719</td><td>1.5716121</td><td>0.44866815</td><td>3.124673e-02</td><td>6.978162e-05</td><td>FALSE</td><td>TRUE</td><td> 288</td><td>lev3</td></tr>\n",
       "\t<tr><td>POU2F2</td><td>LHX4  </td><td> 2.158401</td><td> 2.199905</td><td> 1.786956</td><td> 1.2956112</td><td>0.6094769</td><td>0.4484792</td><td>0.4683389</td><td>3.681642</td><td>⋯</td><td>-0.5481766</td><td>1.041719</td><td>1.5716121</td><td>0.44866815</td><td>3.124673e-02</td><td>6.978162e-05</td><td>FALSE</td><td>TRUE</td><td> 288</td><td>lev3</td></tr>\n",
       "\t<tr><td>POU2F2</td><td>PRDM6 </td><td> 2.354803</td><td> 2.139076</td><td> 1.630261</td><td> 0.7600103</td><td>0.0000000</td><td>0.4559344</td><td>0.0000000</td><td>1.578606</td><td>⋯</td><td>-0.5481766</td><td>1.041719</td><td>1.5716121</td><td>0.44866815</td><td>3.124673e-02</td><td>6.978162e-05</td><td>FALSE</td><td>TRUE</td><td> 288</td><td>lev3</td></tr>\n",
       "\t<tr><td>POU2F2</td><td>THRA  </td><td> 4.082232</td><td> 4.237987</td><td> 4.461391</td><td> 5.4248758</td><td>1.8151078</td><td>1.6203347</td><td>0.9806174</td><td>4.353753</td><td>⋯</td><td>-0.5481766</td><td>1.041719</td><td>1.5716121</td><td>0.44866815</td><td>3.124673e-02</td><td>6.978162e-05</td><td>FALSE</td><td>TRUE</td><td> 288</td><td>lev3</td></tr>\n",
       "\t<tr><td>RARA  </td><td>PRDM6 </td><td> 5.294830</td><td> 4.671187</td><td> 4.138290</td><td> 2.6790360</td><td>0.0000000</td><td>0.4559344</td><td>0.0000000</td><td>1.578606</td><td>⋯</td><td> 1.7230850</td><td>1.685598</td><td>0.5316055</td><td>0.05374587</td><td>4.793239e-02</td><td>5.794647e-01</td><td>FALSE</td><td>TRUE</td><td> 251</td><td>lev3</td></tr>\n",
       "\t<tr><td>RARA  </td><td>THRA  </td><td> 3.174947</td><td> 3.177073</td><td> 3.154523</td><td> 2.9151028</td><td>1.8151078</td><td>1.6203347</td><td>0.9806174</td><td>4.353753</td><td>⋯</td><td> 1.7230850</td><td>1.685598</td><td>0.5316055</td><td>0.05374587</td><td>4.793239e-02</td><td>5.794647e-01</td><td>FALSE</td><td>TRUE</td><td> 251</td><td>lev3</td></tr>\n",
       "\t<tr><td>TCF4  </td><td>CBX4  </td><td> 2.215395</td><td> 2.271225</td><td> 2.553559</td><td> 2.0030731</td><td>1.6300527</td><td>1.4902080</td><td>1.0441909</td><td>2.855361</td><td>⋯</td><td> 0.3354729</td><td>1.007863</td><td>1.8637301</td><td>0.40306281</td><td>4.507059e-05</td><td>1.533468e-17</td><td>FALSE</td><td>TRUE</td><td>2016</td><td>lev3</td></tr>\n",
       "\t<tr><td>TCF4  </td><td>PHOX2A</td><td> 4.134909</td><td> 3.523498</td><td> 3.808360</td><td> 4.8432255</td><td>0.6666836</td><td>0.0000000</td><td>0.2440930</td><td>9.839293</td><td>⋯</td><td> 0.3354729</td><td>1.007863</td><td>1.8637301</td><td>0.40306281</td><td>4.507059e-05</td><td>1.533468e-17</td><td>FALSE</td><td>TRUE</td><td>2016</td><td>lev3</td></tr>\n",
       "\t<tr><td>TCF4  </td><td>PRDM6 </td><td>10.490040</td><td> 9.578751</td><td> 9.181984</td><td> 8.0563789</td><td>0.0000000</td><td>0.4559344</td><td>0.0000000</td><td>1.578606</td><td>⋯</td><td> 0.3354729</td><td>1.007863</td><td>1.8637301</td><td>0.40306281</td><td>4.507059e-05</td><td>1.533468e-17</td><td>FALSE</td><td>TRUE</td><td>2016</td><td>lev3</td></tr>\n",
       "\t<tr><td>TCF4  </td><td>ZNF250</td><td> 6.590952</td><td> 6.539985</td><td> 6.495266</td><td> 7.8280299</td><td>2.0346106</td><td>3.3967702</td><td>2.5620881</td><td>5.500890</td><td>⋯</td><td> 0.3354729</td><td>1.007863</td><td>1.8637301</td><td>0.40306281</td><td>4.507059e-05</td><td>1.533468e-17</td><td>FALSE</td><td>TRUE</td><td>2016</td><td>lev3</td></tr>\n",
       "\t<tr><td>TLX2  </td><td>MLLT6 </td><td> 3.330324</td><td> 3.666252</td><td> 3.447483</td><td> 1.9707248</td><td>1.9468207</td><td>1.6537179</td><td>1.4004558</td><td>3.994732</td><td>⋯</td><td> 0.0000000</td><td>6.604394</td><td>7.3297502</td><td>1.00000000</td><td>6.464144e-05</td><td>1.466372e-06</td><td>FALSE</td><td>TRUE</td><td>  48</td><td>lev3</td></tr>\n",
       "\t<tr><td>TLX2  </td><td>THRA  </td><td> 4.082232</td><td> 4.237987</td><td> 4.461391</td><td> 5.4248758</td><td>1.8151078</td><td>1.6203347</td><td>0.9806174</td><td>4.353753</td><td>⋯</td><td> 0.0000000</td><td>6.604394</td><td>7.3297502</td><td>1.00000000</td><td>6.464144e-05</td><td>1.466372e-06</td><td>FALSE</td><td>TRUE</td><td>  48</td><td>lev3</td></tr>\n",
       "\t<tr><td>ZNF75D</td><td>LHX4  </td><td> 3.649294</td><td> 3.351725</td><td> 3.130058</td><td> 2.1966276</td><td>0.6094769</td><td>0.4484792</td><td>0.4683389</td><td>3.681642</td><td>⋯</td><td> 0.6717951</td><td>1.438905</td><td>1.2924028</td><td>0.15563799</td><td>2.681761e-05</td><td>7.986804e-05</td><td>FALSE</td><td>TRUE</td><td> 729</td><td>lev3</td></tr>\n",
       "\t<tr><td>ZNF75D</td><td>PRDM6 </td><td> 3.672592</td><td> 3.109131</td><td> 3.111782</td><td> 2.6471962</td><td>0.0000000</td><td>0.4559344</td><td>0.0000000</td><td>1.578606</td><td>⋯</td><td> 0.6717951</td><td>1.438905</td><td>1.2924028</td><td>0.15563799</td><td>2.681761e-05</td><td>7.986804e-05</td><td>FALSE</td><td>TRUE</td><td> 729</td><td>lev3</td></tr>\n",
       "</tbody>\n",
       "</table>\n"
      ],
      "text/latex": [
       "A tibble: 65 × 36\n",
       "\\begin{tabular}{r|llllllllllllllllllllllllllllllllllll}\n",
       " regulator\\_gene & target\\_gene & atac.ES & atac.H16 & atac.D1 & atac.D4 & tar.ge.ES & tar.ge.H16 & tar.ge.D1 & tar.ge.D4 & corr & cor\\_p & l2fc.H16 & l2fc.D1 & l2fc.D4 & fdr.H16 & fdr.D1 & fdr.D4 & reg.cnt.ES & reg.cnt.H16 & reg.cnt.D1 & reg.cnt.D4 & tar.cnt.ES & tar.cnt.H16 & tar.cnt.D1 & tar.cnt.D4 & reg.l2fc.H16 & reg.l2fc.D1 & reg.l2fc.D4 & reg.fdr.H16 & reg.fdr.D1 & reg.fdr.D4 & reg.isHit & tar.isHit & reg.cnt.sum & lev\\\\\n",
       " <chr> & <chr> & <dbl> & <dbl> & <dbl> & <dbl> & <dbl> & <dbl> & <dbl> & <dbl> & <dbl> & <dbl> & <dbl> & <dbl> & <dbl> & <dbl> & <dbl> & <dbl> & <dbl> & <dbl> & <dbl> & <dbl> & <int> & <int> & <int> & <int> & <dbl> & <dbl> & <dbl> & <dbl> & <dbl> & <dbl> & <lgl> & <lgl> & <dbl> & <chr>\\\\\n",
       "\\hline\n",
       "\t NEUROG1 & EBF1   &  4.591357 &  6.043470 &  6.011842 &  9.017202 & 0.6696824 &  1.4371240 &  3.8997900 & 20.301545 &  0.9573897 & 0.042610345 &  2.5145465 &  5.0491582 &  9.726408 & 5.891332e-05 & 5.672568e-22 & 3.335348e-84 &   0 &   52 &  140 &  347 &   4 &   17 &   95 & 2196 & 8.170744 & 9.6348898 & 11.116910 & 7.875081e-22 & 5.935372e-31 &  5.633972e-42 &  TRUE & TRUE &   539 & lev1\\\\\n",
       "\t NEUROG2 & EBF1   & 18.885112 & 22.733444 & 22.733617 & 28.581881 & 0.6696824 &  1.4371240 &  3.8997900 & 20.301545 &  0.9275107 & 0.072489267 &  2.5145465 &  5.0491582 &  9.726408 & 5.891332e-05 & 5.672568e-22 & 3.335348e-84 &   0 &   26 &   41 &  140 &   4 &   17 &   95 & 2196 & 7.088920 & 7.9901132 &  9.893931 & 3.985811e-09 & 7.743982e-12 &  8.486055e-19 &  TRUE & TRUE &   207 & lev1\\\\\n",
       "\t NEUROG2 & POU3F2 &  6.351503 &  7.253477 &  7.200895 &  9.575558 & 0.1609897 &  2.8551875 &  4.1576482 & 12.963583 &  0.9936920 & 0.006308025 &  6.9395885 &  8.0227274 & 11.058454 & 7.566588e-14 & 7.819149e-19 & 1.483580e-36 &   0 &   26 &   41 &  140 &   0 &   64 &  114 &  874 & 7.088920 & 7.9901132 &  9.893931 & 3.985811e-09 & 7.743982e-12 &  8.486055e-19 &  TRUE & TRUE &   207 & lev1\\\\\n",
       "\t NEUROG2 & RCOR2  & 10.116665 & 10.779594 & 10.950813 & 11.168362 & 7.2018173 & 17.3199422 & 18.2898296 & 16.572379 &  0.9039715 & 0.096028502 &  1.9771171 &  2.1994868 &  1.722456 & 1.180518e-04 & 8.251510e-06 & 3.246978e-04 &   0 &   26 &   41 &  140 & 317 & 1979 & 2079 & 1479 & 7.088920 & 7.9901132 &  9.893931 & 3.985811e-09 & 7.743982e-12 &  8.486055e-19 &  TRUE & TRUE &   207 & lev1\\\\\n",
       "\t NEUROG2 & ZBTB18 &  3.166601 &  4.770543 &  4.652431 &  5.911644 & 2.8316239 & 11.0424247 & 11.1503921 & 12.374454 &  0.9239091 & 0.076090943 &  4.2415286 &  4.2392123 &  4.482369 & 1.051955e-27 & 6.274857e-28 & 1.060066e-31 &   0 &   26 &   41 &  140 &  49 &  807 &  779 &  827 & 7.088920 & 7.9901132 &  9.893931 & 3.985811e-09 & 7.743982e-12 &  8.486055e-19 &  TRUE & TRUE &   207 & lev1\\\\\n",
       "\t NEUROG2 & VAX2   &  9.887712 &  9.670370 &  9.880845 & 10.416721 & 0.2078368 &  0.3528202 &  1.0458451 &  3.172412 &  0.9416501 & 0.058349886 &  2.4873863 &  4.6928596 &  6.828472 & 3.902213e-01 & 1.833749e-02 & 3.359724e-05 &   0 &   26 &   41 &  140 &   1 &    3 &   13 &   47 & 7.088920 & 7.9901132 &  9.893931 & 3.985811e-09 & 7.743982e-12 &  8.486055e-19 &  TRUE & TRUE &   207 & lev2\\\\\n",
       "\t EBF1    & VAX2   & 12.833548 & 13.420957 & 14.064004 & 15.171356 & 0.2078368 &  0.3528202 &  1.0458451 &  3.172412 &  0.9601457 & 0.039854315 &  2.4873863 &  4.6928596 &  6.828472 & 3.902213e-01 & 1.833749e-02 & 3.359724e-05 &   4 &   17 &   95 & 2196 &   1 &    3 &   13 &   47 & 2.514547 & 5.0491582 &  9.726408 & 5.891332e-05 & 5.672568e-22 &  3.335348e-84 &  TRUE & TRUE &  2308 & lev2\\\\\n",
       "\t EBF3    & VAX2   & 10.281116 & 10.226842 & 10.327152 & 10.769148 & 0.2078368 &  0.3528202 &  1.0458451 &  3.172412 &  0.9831629 & 0.016837082 &  2.4873863 &  4.6928596 &  6.828472 & 3.902213e-01 & 1.833749e-02 & 3.359724e-05 &   8 &  200 &  455 & 2223 &   1 &    3 &   13 &   47 & 5.541898 & 6.6627546 &  9.147850 & 1.203497e-24 & 3.641239e-36 &  3.460202e-69 & FALSE & TRUE &  2878 & lev2\\\\\n",
       "\t NEUROD1 & VAX2   &  9.887712 &  9.670370 &  9.880845 & 10.416721 & 0.2078368 &  0.3528202 &  1.0458451 &  3.172412 &  0.9416501 & 0.058349886 &  2.4873863 &  4.6928596 &  6.828472 & 3.902213e-01 & 1.833749e-02 & 3.359724e-05 &   1 &   10 &    2 & 3692 &   1 &    3 &   13 &   47 & 3.176489 & 0.9474577 & 11.894240 & 5.611389e-06 & 4.596942e-01 &  1.609459e-99 & FALSE & TRUE &  3704 & lev2\\\\\n",
       "\t NHLH1   & VAX2   & 10.010747 & 10.900004 & 11.482029 & 13.118007 & 0.2078368 &  0.3528202 &  1.0458451 &  3.172412 &  0.9639864 & 0.036013550 &  2.4873863 &  4.6928596 &  6.828472 & 3.902213e-01 & 1.833749e-02 & 3.359724e-05 &   1 &  399 &  501 & 3429 &   1 &    3 &   13 &   47 & 8.349374 & 8.5751674 & 11.586282 & 4.889849e-58 & 2.070067e-61 & 1.834385e-113 & FALSE & TRUE &  4329 & lev2\\\\\n",
       "\t PAX3    & VAX2   &  2.437150 &  2.017455 &  2.177221 &  1.747631 & 0.2078368 &  0.3528202 &  1.0458451 &  3.172412 & -0.8191471 & 0.180852934 &  2.4873863 &  4.6928596 &  6.828472 & 3.902213e-01 & 1.833749e-02 & 3.359724e-05 &   3 &   22 &   70 &  260 &   1 &    3 &   13 &   47 & 3.375887 & 5.0502666 &  7.396766 & 2.800632e-02 & 9.779089e-05 &  1.639753e-10 & FALSE & TRUE &   352 & lev2\\\\\n",
       "\t ZEB1    & VAX2   &  4.117493 &  3.597116 &  3.263319 &  2.382539 & 0.2078368 &  0.3528202 &  1.0458451 &  3.172412 & -0.9580875 & 0.041912523 &  2.4873863 &  4.6928596 &  6.828472 & 3.902213e-01 & 1.833749e-02 & 3.359724e-05 &   0 &   69 &  273 &  717 &   1 &    3 &   13 &   47 & 6.818574 & 8.7580193 & 10.311714 & 9.536600e-17 & 3.166121e-28 &  8.820628e-40 & FALSE & TRUE &  1059 & lev2\\\\\n",
       "\t EBF1    & JUNB   &  5.666814 &  5.272281 &  5.248707 &  4.185558 & 0.7473370 &  1.1245405 &  1.2370294 &  2.797669 & -0.9962879 & 0.003712105 &  0.5273980 &  0.7209061 &  2.586160 & 8.720517e-01 & 7.272934e-01 & 3.967357e-02 &   4 &   17 &   95 & 2196 &   5 &   11 &   13 &   44 & 2.514547 & 5.0491582 &  9.726408 & 5.891332e-05 & 5.672568e-22 &  3.335348e-84 &  TRUE & TRUE &  2308 & lev3\\\\\n",
       "\t EBF1    & LHX4   & 10.148966 &  8.958018 &  8.987330 &  7.665843 & 0.6094769 &  0.4484792 &  0.4683389 &  3.681642 & -0.8118975 & 0.188102500 & -1.2878878 & -1.1848350 &  3.795125 & 6.260252e-01 & 5.776343e-01 & 2.364031e-03 &   4 &   17 &   95 & 2196 &   6 &    2 &    3 &   86 & 2.514547 & 5.0491582 &  9.726408 & 5.891332e-05 & 5.672568e-22 &  3.335348e-84 &  TRUE & TRUE &  2308 & lev3\\\\\n",
       "\t EBF1    & THRA   &  4.082232 &  4.237987 &  4.461391 &  5.424876 & 1.8151078 &  1.6203347 &  0.9806174 &  4.353753 &  0.8769859 & 0.123014082 & -0.6907521 & -1.5512595 &  1.976897 & 6.397248e-01 & 1.084030e-01 & 6.926210e-03 &   4 &   17 &   95 & 2196 &  23 &   17 &   11 &  100 & 2.514547 & 5.0491582 &  9.726408 & 5.891332e-05 & 5.672568e-22 &  3.335348e-84 &  TRUE & TRUE &  2308 & lev3\\\\\n",
       "\t EBF1    & ZNF250 &  8.093489 &  8.027487 &  8.373344 &  9.115512 & 2.0346106 &  3.3967702 &  2.5620881 &  5.500890 &  0.8531143 & 0.146885709 &  1.2274466 &  0.7253098 &  2.526525 & 2.789552e-01 & 5.347656e-01 & 5.644870e-04 &   4 &   17 &   95 & 2196 &  31 &   78 &   58 &  172 & 2.514547 & 5.0491582 &  9.726408 & 5.891332e-05 & 5.672568e-22 &  3.335348e-84 &  TRUE & TRUE &  2308 & lev3\\\\\n",
       "\t EBF3    & THRA   &  4.082232 &  4.237987 &  4.461391 &  5.424876 & 1.8151078 &  1.6203347 &  0.9806174 &  4.353753 &  0.8769859 & 0.123014082 & -0.6907521 & -1.5512595 &  1.976897 & 6.397248e-01 & 1.084030e-01 & 6.926210e-03 &   8 &  200 &  455 & 2223 &  23 &   17 &   11 &  100 & 5.541898 & 6.6627546 &  9.147850 & 1.203497e-24 & 3.641239e-36 &  3.460202e-69 & FALSE & TRUE &  2878 & lev3\\\\\n",
       "\t EBF3    & ZNF250 &  6.590952 &  6.539985 &  6.495266 &  7.828030 & 2.0346106 &  3.3967702 &  2.5620881 &  5.500890 &  0.9188832 & 0.081116783 &  1.2274466 &  0.7253098 &  2.526525 & 2.789552e-01 & 5.347656e-01 & 5.644870e-04 &   8 &  200 &  455 & 2223 &  31 &   78 &   58 &  172 & 5.541898 & 6.6627546 &  9.147850 & 1.203497e-24 & 3.641239e-36 &  3.460202e-69 & FALSE & TRUE &  2878 & lev3\\\\\n",
       "\t HES6    & ZNF250 &  6.590952 &  6.539985 &  6.495266 &  7.828030 & 2.0346106 &  3.3967702 &  2.5620881 &  5.500890 &  0.9188832 & 0.081116783 &  1.2274466 &  0.7253098 &  2.526525 & 2.789552e-01 & 5.347656e-01 & 5.644870e-04 & 190 & 7795 & 8550 & 6126 &  31 &   78 &   58 &  172 & 5.036169 & 5.2758090 &  4.965684 & 1.812275e-81 & 1.419549e-89 &  8.439989e-80 & FALSE & TRUE & 22471 & lev3\\\\\n",
       "\t NHLH1   & LHX4   &  5.807694 &  5.551629 &  4.917014 &  3.492239 & 0.6094769 &  0.4484792 &  0.4683389 &  3.681642 & -0.9211241 & 0.078875941 & -1.2878878 & -1.1848350 &  3.795125 & 6.260252e-01 & 5.776343e-01 & 2.364031e-03 &   1 &  399 &  501 & 3429 &   6 &    2 &    3 &   86 & 8.349374 & 8.5751674 & 11.586282 & 4.889849e-58 & 2.070067e-61 & 1.834385e-113 & FALSE & TRUE &  4329 & lev3\\\\\n",
       "\t NHLH1   & PRDM6  &  6.308628 &  5.981635 &  5.627980 &  4.852432 & 0.0000000 &  0.4559344 &  0.0000000 &  1.578606 & -0.8548003 & 0.145199728 &  4.8934378 &  0.0000000 &  6.852073 & 2.322740e-01 & 1.000000e+00 & 1.692200e-02 &   1 &  399 &  501 & 3429 &   0 &    5 &    0 &   15 & 8.349374 & 8.5751674 & 11.586282 & 4.889849e-58 & 2.070067e-61 & 1.834385e-113 & FALSE & TRUE &  4329 & lev3\\\\\n",
       "\t POU3F2  & LHX4   &  1.030161 &  1.148773 &  1.596801 &  2.349040 & 0.6094769 &  0.4484792 &  0.4683389 &  3.681642 &  0.9012679 & 0.098732113 & -1.2878878 & -1.1848350 &  3.795125 & 6.260252e-01 & 5.776343e-01 & 2.364031e-03 &   0 &   64 &  114 &  874 &   6 &    2 &    3 &   86 & 6.939589 & 8.0227274 & 11.058454 & 7.566588e-14 & 7.819149e-19 &  1.483580e-36 &  TRUE & TRUE &  1052 & lev3\\\\\n",
       "\t POU3F2  & THRA   &  4.082232 &  4.237987 &  4.461391 &  5.424876 & 1.8151078 &  1.6203347 &  0.9806174 &  4.353753 &  0.8769859 & 0.123014082 & -0.6907521 & -1.5512595 &  1.976897 & 6.397248e-01 & 1.084030e-01 & 6.926210e-03 &   0 &   64 &  114 &  874 &  23 &   17 &   11 &  100 & 6.939589 & 8.0227274 & 11.058454 & 7.566588e-14 & 7.819149e-19 &  1.483580e-36 &  TRUE & TRUE &  1052 & lev3\\\\\n",
       "\t POU6F2  & LHX4   &  1.030161 &  1.148773 &  1.596801 &  2.349040 & 0.6094769 &  0.4484792 &  0.4683389 &  3.681642 &  0.9012679 & 0.098732113 & -1.2878878 & -1.1848350 &  3.795125 & 6.260252e-01 & 5.776343e-01 & 2.364031e-03 &   2 &   20 &   20 &    8 &   6 &    2 &    3 &   86 & 4.226290 & 3.9748940 &  2.919401 & 2.409371e-02 & 3.064723e-02 &  9.443954e-02 & FALSE & TRUE &    48 & lev3\\\\\n",
       "\t ZEB1    & CBX4   &  6.171616 &  6.140931 &  5.954387 &  4.659730 & 1.6300527 &  1.4902080 &  1.0441909 &  2.855361 & -0.8954858 & 0.104514236 &  0.2259707 & -0.8437541 &  1.997072 & 9.312944e-01 & 5.120583e-01 & 1.394957e-02 &   0 &   69 &  273 &  717 &  18 &   15 &    7 &   47 & 6.818574 & 8.7580193 & 10.311714 & 9.536600e-17 & 3.166121e-28 &  8.820628e-40 & FALSE & TRUE &  1059 & lev3\\\\\n",
       "\t ZEB1    & LHX4   &  3.649294 &  3.351725 &  3.130058 &  2.196628 & 0.6094769 &  0.4484792 &  0.4683389 &  3.681642 & -0.9267722 & 0.073227763 & -1.2878878 & -1.1848350 &  3.795125 & 6.260252e-01 & 5.776343e-01 & 2.364031e-03 &   0 &   69 &  273 &  717 &   6 &    2 &    3 &   86 & 6.818574 & 8.7580193 & 10.311714 & 9.536600e-17 & 3.166121e-28 &  8.820628e-40 & FALSE & TRUE &  1059 & lev3\\\\\n",
       "\t ZEB1    & PHOX2A &  4.134909 &  3.523498 &  3.808360 &  4.843225 & 0.6666836 &  0.0000000 &  0.2440930 &  9.839293 &  0.9219116 & 0.078088362 & -4.3113613 & -2.0986542 &  7.359456 & 6.639296e-02 & 3.884121e-01 & 1.695888e-08 &   0 &   69 &  273 &  717 &   6 &    0 &    1 &  498 & 6.818574 & 8.7580193 & 10.311714 & 9.536600e-17 & 3.166121e-28 &  8.820628e-40 & FALSE & TRUE &  1059 & lev3\\\\\n",
       "\t ZEB1    & ZNF250 &  6.590952 &  6.539985 &  6.495266 &  7.828030 & 2.0346106 &  3.3967702 &  2.5620881 &  5.500890 &  0.9188832 & 0.081116783 &  1.2274466 &  0.7253098 &  2.526525 & 2.789552e-01 & 5.347656e-01 & 5.644870e-04 &   0 &   69 &  273 &  717 &  31 &   78 &   58 &  172 & 6.818574 & 8.7580193 & 10.311714 & 9.536600e-17 & 3.166121e-28 &  8.820628e-40 & FALSE & TRUE &  1059 & lev3\\\\\n",
       "\t NHLH2   & LHX4   &  5.807694 &  5.551629 &  4.917014 &  3.492239 & 0.6094769 &  0.4484792 &  0.4683389 &  3.681642 & -0.9211241 & 0.078875941 & -1.2878878 & -1.1848350 &  3.795125 & 6.260252e-01 & 5.776343e-01 & 2.364031e-03 &  14 &   27 &  120 & 3713 &   6 &    2 &    3 &   86 & 1.461086 & 3.5272457 &  8.723931 & 2.330842e-01 & 2.377622e-05 &  5.134920e-33 & FALSE & TRUE &  3860 & lev3\\\\\n",
       "\t NHLH2   & PHOX2A &  4.134909 &  3.523498 &  3.808360 &  4.843225 & 0.6666836 &  0.0000000 &  0.2440930 &  9.839293 &  0.9219116 & 0.078088362 & -4.3113613 & -2.0986542 &  7.359456 & 6.639296e-02 & 3.884121e-01 & 1.695888e-08 &  14 &   27 &  120 & 3713 &   6 &    0 &    1 &  498 & 1.461086 & 3.5272457 &  8.723931 & 2.330842e-01 & 2.377622e-05 &  5.134920e-33 & FALSE & TRUE &  3860 & lev3\\\\\n",
       "\t ⋮ & ⋮ & ⋮ & ⋮ & ⋮ & ⋮ & ⋮ & ⋮ & ⋮ & ⋮ & ⋮ & ⋮ & ⋮ & ⋮ & ⋮ & ⋮ & ⋮ & ⋮ & ⋮ & ⋮ & ⋮ & ⋮ & ⋮ & ⋮ & ⋮ & ⋮ & ⋮ & ⋮ & ⋮ & ⋮ & ⋮ & ⋮ & ⋮ & ⋮ & ⋮ & ⋮\\\\\n",
       "\t TCF4   & CBX4   &  2.215395 &  2.271225 &  2.553559 &  2.0030731 & 1.6300527 & 1.4902080 & 1.0441909 & 2.855361 & -0.9269898 & 0.07301015 &  0.2259707 & -0.8437541 & 1.997072 & 0.93129442 & 0.5120583 & 1.394957e-02 & 309 & 396 & 627 &  993 & 18 & 15 &  7 &  47 &  0.3354729 & 1.007863 & 1.8637301 & 0.40306281 & 4.507059e-05 & 1.533468e-17 & FALSE & TRUE & 2016 & lev3\\\\\n",
       "\t TCF4   & PHOX2A &  4.134909 &  3.523498 &  3.808360 &  4.8432255 & 0.6666836 & 0.0000000 & 0.2440930 & 9.839293 &  0.9219116 & 0.07808836 & -4.3113613 & -2.0986542 & 7.359456 & 0.06639296 & 0.3884121 & 1.695888e-08 & 309 & 396 & 627 &  993 &  6 &  0 &  1 & 498 &  0.3354729 & 1.007863 & 1.8637301 & 0.40306281 & 4.507059e-05 & 1.533468e-17 & FALSE & TRUE & 2016 & lev3\\\\\n",
       "\t TCF4   & PRDM6  & 10.490040 &  9.578751 &  9.181984 &  8.0563789 & 0.0000000 & 0.4559344 & 0.0000000 & 1.578606 & -0.8387401 & 0.16125992 &  4.8934378 &  0.0000000 & 6.852073 & 0.23227398 & 1.0000000 & 1.692200e-02 & 309 & 396 & 627 &  993 &  0 &  5 &  0 &  15 &  0.3354729 & 1.007863 & 1.8637301 & 0.40306281 & 4.507059e-05 & 1.533468e-17 & FALSE & TRUE & 2016 & lev3\\\\\n",
       "\t TCF4   & ZNF250 &  6.590952 &  6.539985 &  6.495266 &  7.8280299 & 2.0346106 & 3.3967702 & 2.5620881 & 5.500890 &  0.9188832 & 0.08111678 &  1.2274466 &  0.7253098 & 2.526525 & 0.27895518 & 0.5347656 & 5.644870e-04 & 309 & 396 & 627 &  993 & 31 & 78 & 58 & 172 &  0.3354729 & 1.007863 & 1.8637301 & 0.40306281 & 4.507059e-05 & 1.533468e-17 & FALSE & TRUE & 2016 & lev3\\\\\n",
       "\t ESRRA  & JUNB   &  3.699888 &  3.422686 &  3.536483 &  4.3328999 & 0.7473370 & 1.1245405 & 1.2370294 & 2.797669 &  0.8820253 & 0.11797474 &  0.5273980 &  0.7209061 & 2.586160 & 0.87205172 & 0.7272934 & 3.967357e-02 &   3 &  19 &  43 &   13 &  5 & 11 & 13 &  44 &  3.5086013 & 4.379121 & 3.9898833 & 0.10655935 & 1.984880e-02 & 1.803943e-02 & FALSE & TRUE &   75 & lev3\\\\\n",
       "\t ESRRA  & MLLT6  &  3.926857 &  3.562224 &  3.367381 &  2.2017181 & 1.9468207 & 1.6537179 & 1.4004558 & 3.994732 & -0.8752942 & 0.12470576 & -0.1157216 & -0.2956671 & 2.280463 & 0.96441483 & 0.8160137 & 5.455409e-04 &   3 &  19 &  43 &   13 & 24 & 18 & 18 &  90 &  3.5086013 & 4.379121 & 3.9898833 & 0.10655935 & 1.984880e-02 & 1.803943e-02 & FALSE & TRUE &   75 & lev3\\\\\n",
       "\t ESRRA  & PRDM6  & 12.233971 & 11.687122 & 11.232524 & 10.3757204 & 0.0000000 & 0.4559344 & 0.0000000 & 1.578606 & -0.8253515 & 0.17464852 &  4.8934378 &  0.0000000 & 6.852073 & 0.23227398 & 1.0000000 & 1.692200e-02 &   3 &  19 &  43 &   13 &  0 &  5 &  0 &  15 &  3.5086013 & 4.379121 & 3.9898833 & 0.10655935 & 1.984880e-02 & 1.803943e-02 & FALSE & TRUE &   75 & lev3\\\\\n",
       "\t ESRRA  & THRA   &  3.174947 &  3.177073 &  3.154523 &  2.9151028 & 1.8151078 & 1.6203347 & 0.9806174 & 4.353753 & -0.9493698 & 0.05063022 & -0.6907521 & -1.5512595 & 1.976897 & 0.63972477 & 0.1084030 & 6.926210e-03 &   3 &  19 &  43 &   13 & 23 & 17 & 11 & 100 &  3.5086013 & 4.379121 & 3.9898833 & 0.10655935 & 1.984880e-02 & 1.803943e-02 & FALSE & TRUE &   75 & lev3\\\\\n",
       "\t ESRRA  & ZNF250 &  6.590952 &  6.539985 &  6.495266 &  7.8280299 & 2.0346106 & 3.3967702 & 2.5620881 & 5.500890 &  0.9188832 & 0.08111678 &  1.2274466 &  0.7253098 & 2.526525 & 0.27895518 & 0.5347656 & 5.644870e-04 &   3 &  19 &  43 &   13 & 31 & 78 & 58 & 172 &  3.5086013 & 4.379121 & 3.9898833 & 0.10655935 & 1.984880e-02 & 1.803943e-02 & FALSE & TRUE &   75 & lev3\\\\\n",
       "\t LHX9   & MLLT6  &  3.330324 &  3.666252 &  3.447483 &  1.9707248 & 1.9468207 & 1.6537179 & 1.4004558 & 3.994732 & -0.9788968 & 0.02110323 & -0.1157216 & -0.2956671 & 2.280463 & 0.96441483 & 0.8160137 & 5.455409e-04 &   0 &   2 &   5 &  119 & 24 & 18 & 18 &  90 &  2.6553161 & 3.498781 & 8.3698231 & 0.23030632 & 4.790405e-02 & 1.332180e-10 & FALSE & TRUE &  126 & lev3\\\\\n",
       "\t MEIS1  & CBX4   &  3.477261 &  3.458257 &  3.580975 &  4.4586217 & 1.6300527 & 1.4902080 & 1.0441909 & 2.855361 &  0.9068784 & 0.09312161 &  0.2259707 & -0.8437541 & 1.997072 & 0.93129442 & 0.5120583 & 1.394957e-02 &   0 &   2 &  26 &   60 & 18 & 15 &  7 &  47 &  3.1356413 & 6.854428 & 7.9064674 & 0.20413237 & 4.456058e-05 & 3.086344e-07 & FALSE & TRUE &   88 & lev3\\\\\n",
       "\t NHLH2  & LHX4   &  5.807694 &  5.551629 &  4.917014 &  3.4922389 & 0.6094769 & 0.4484792 & 0.4683389 & 3.681642 & -0.9211241 & 0.07887594 & -1.2878878 & -1.1848350 & 3.795125 & 0.62602521 & 0.5776343 & 2.364031e-03 &  14 &  27 & 120 & 3713 &  6 &  2 &  3 &  86 &  1.4610859 & 3.527246 & 8.7239313 & 0.23308416 & 2.377622e-05 & 5.134920e-33 & FALSE & TRUE & 3860 & lev3\\\\\n",
       "\t NHLH2  & PHOX2A &  4.134909 &  3.523498 &  3.808360 &  4.8432255 & 0.6666836 & 0.0000000 & 0.2440930 & 9.839293 &  0.9219116 & 0.07808836 & -4.3113613 & -2.0986542 & 7.359456 & 0.06639296 & 0.3884121 & 1.695888e-08 &  14 &  27 & 120 & 3713 &  6 &  0 &  1 & 498 &  1.4610859 & 3.527246 & 8.7239313 & 0.23308416 & 2.377622e-05 & 5.134920e-33 & FALSE & TRUE & 3860 & lev3\\\\\n",
       "\t NHLH2  & PRDM6  &  6.308628 &  5.981635 &  5.627980 &  4.8524321 & 0.0000000 & 0.4559344 & 0.0000000 & 1.578606 & -0.8548003 & 0.14519973 &  4.8934378 &  0.0000000 & 6.852073 & 0.23227398 & 1.0000000 & 1.692200e-02 &  14 &  27 & 120 & 3713 &  0 &  5 &  0 &  15 &  1.4610859 & 3.527246 & 8.7239313 & 0.23308416 & 2.377622e-05 & 5.134920e-33 & FALSE & TRUE & 3860 & lev3\\\\\n",
       "\t NRL    & LHX4   & 12.208885 & 10.625141 & 10.415262 &  8.4258220 & 0.6094769 & 0.4484792 & 0.4683389 & 3.681642 & -0.8329014 & 0.16709858 & -1.2878878 & -1.1848350 & 3.795125 & 0.62602521 & 0.5776343 & 2.364031e-03 &   8 &  20 &  81 &   25 &  6 &  2 &  3 &  86 &  0.8402539 & 2.978302 & 1.5821818 & 0.52620965 & 4.507059e-05 & 4.124306e-02 & FALSE & TRUE &  126 & lev3\\\\\n",
       "\t NRL    & PRDM6  &  6.041150 &  6.844553 &  6.269896 &  3.3073256 & 0.0000000 & 0.4559344 & 0.0000000 & 1.578606 & -0.8757194 & 0.12428055 &  4.8934378 &  0.0000000 & 6.852073 & 0.23227398 & 1.0000000 & 1.692200e-02 &   8 &  20 &  81 &   25 &  0 &  5 &  0 &  15 &  0.8402539 & 2.978302 & 1.5821818 & 0.52620965 & 4.507059e-05 & 4.124306e-02 & FALSE & TRUE &  126 & lev3\\\\\n",
       "\t POU2F2 & CBX4   &  3.477261 &  3.458257 &  3.580975 &  4.4586217 & 1.6300527 & 1.4902080 & 1.0441909 & 2.855361 &  0.9068784 & 0.09312161 &  0.2259707 & -0.8437541 & 1.997072 & 0.93129442 & 0.5120583 & 1.394957e-02 &  68 &  36 & 109 &  143 & 18 & 15 &  7 &  47 & -0.5481766 & 1.041719 & 1.5716121 & 0.44866815 & 3.124673e-02 & 6.978162e-05 & FALSE & TRUE &  288 & lev3\\\\\n",
       "\t POU2F2 & LHX4   &  2.158401 &  2.199905 &  1.786956 &  1.2956112 & 0.6094769 & 0.4484792 & 0.4683389 & 3.681642 & -0.8896666 & 0.11033339 & -1.2878878 & -1.1848350 & 3.795125 & 0.62602521 & 0.5776343 & 2.364031e-03 &  68 &  36 & 109 &  143 &  6 &  2 &  3 &  86 & -0.5481766 & 1.041719 & 1.5716121 & 0.44866815 & 3.124673e-02 & 6.978162e-05 & FALSE & TRUE &  288 & lev3\\\\\n",
       "\t POU2F2 & PRDM6  &  2.354803 &  2.139076 &  1.630261 &  0.7600103 & 0.0000000 & 0.4559344 & 0.0000000 & 1.578606 & -0.8370614 & 0.16293857 &  4.8934378 &  0.0000000 & 6.852073 & 0.23227398 & 1.0000000 & 1.692200e-02 &  68 &  36 & 109 &  143 &  0 &  5 &  0 &  15 & -0.5481766 & 1.041719 & 1.5716121 & 0.44866815 & 3.124673e-02 & 6.978162e-05 & FALSE & TRUE &  288 & lev3\\\\\n",
       "\t POU2F2 & THRA   &  4.082232 &  4.237987 &  4.461391 &  5.4248758 & 1.8151078 & 1.6203347 & 0.9806174 & 4.353753 &  0.8769859 & 0.12301408 & -0.6907521 & -1.5512595 & 1.976897 & 0.63972477 & 0.1084030 & 6.926210e-03 &  68 &  36 & 109 &  143 & 23 & 17 & 11 & 100 & -0.5481766 & 1.041719 & 1.5716121 & 0.44866815 & 3.124673e-02 & 6.978162e-05 & FALSE & TRUE &  288 & lev3\\\\\n",
       "\t RARA   & PRDM6  &  5.294830 &  4.671187 &  4.138290 &  2.6790360 & 0.0000000 & 0.4559344 & 0.0000000 & 1.578606 & -0.8729350 & 0.12706500 &  4.8934378 &  0.0000000 & 6.852073 & 0.23227398 & 1.0000000 & 1.692200e-02 &  29 & 109 &  99 &   43 &  0 &  5 &  0 &  15 &  1.7230850 & 1.685598 & 0.5316055 & 0.05374587 & 4.793239e-02 & 5.794647e-01 & FALSE & TRUE &  251 & lev3\\\\\n",
       "\t RARA   & THRA   &  3.174947 &  3.177073 &  3.154523 &  2.9151028 & 1.8151078 & 1.6203347 & 0.9806174 & 4.353753 & -0.9493698 & 0.05063022 & -0.6907521 & -1.5512595 & 1.976897 & 0.63972477 & 0.1084030 & 6.926210e-03 &  29 & 109 &  99 &   43 & 23 & 17 & 11 & 100 &  1.7230850 & 1.685598 & 0.5316055 & 0.05374587 & 4.793239e-02 & 5.794647e-01 & FALSE & TRUE &  251 & lev3\\\\\n",
       "\t TCF4   & CBX4   &  2.215395 &  2.271225 &  2.553559 &  2.0030731 & 1.6300527 & 1.4902080 & 1.0441909 & 2.855361 & -0.9269898 & 0.07301015 &  0.2259707 & -0.8437541 & 1.997072 & 0.93129442 & 0.5120583 & 1.394957e-02 & 309 & 396 & 627 &  993 & 18 & 15 &  7 &  47 &  0.3354729 & 1.007863 & 1.8637301 & 0.40306281 & 4.507059e-05 & 1.533468e-17 & FALSE & TRUE & 2016 & lev3\\\\\n",
       "\t TCF4   & PHOX2A &  4.134909 &  3.523498 &  3.808360 &  4.8432255 & 0.6666836 & 0.0000000 & 0.2440930 & 9.839293 &  0.9219116 & 0.07808836 & -4.3113613 & -2.0986542 & 7.359456 & 0.06639296 & 0.3884121 & 1.695888e-08 & 309 & 396 & 627 &  993 &  6 &  0 &  1 & 498 &  0.3354729 & 1.007863 & 1.8637301 & 0.40306281 & 4.507059e-05 & 1.533468e-17 & FALSE & TRUE & 2016 & lev3\\\\\n",
       "\t TCF4   & PRDM6  & 10.490040 &  9.578751 &  9.181984 &  8.0563789 & 0.0000000 & 0.4559344 & 0.0000000 & 1.578606 & -0.8387401 & 0.16125992 &  4.8934378 &  0.0000000 & 6.852073 & 0.23227398 & 1.0000000 & 1.692200e-02 & 309 & 396 & 627 &  993 &  0 &  5 &  0 &  15 &  0.3354729 & 1.007863 & 1.8637301 & 0.40306281 & 4.507059e-05 & 1.533468e-17 & FALSE & TRUE & 2016 & lev3\\\\\n",
       "\t TCF4   & ZNF250 &  6.590952 &  6.539985 &  6.495266 &  7.8280299 & 2.0346106 & 3.3967702 & 2.5620881 & 5.500890 &  0.9188832 & 0.08111678 &  1.2274466 &  0.7253098 & 2.526525 & 0.27895518 & 0.5347656 & 5.644870e-04 & 309 & 396 & 627 &  993 & 31 & 78 & 58 & 172 &  0.3354729 & 1.007863 & 1.8637301 & 0.40306281 & 4.507059e-05 & 1.533468e-17 & FALSE & TRUE & 2016 & lev3\\\\\n",
       "\t TLX2   & MLLT6  &  3.330324 &  3.666252 &  3.447483 &  1.9707248 & 1.9468207 & 1.6537179 & 1.4004558 & 3.994732 & -0.9788968 & 0.02110323 & -0.1157216 & -0.2956671 & 2.280463 & 0.96441483 & 0.8160137 & 5.455409e-04 &   0 &   0 &  22 &   26 & 24 & 18 & 18 &  90 &  0.0000000 & 6.604394 & 7.3297502 & 1.00000000 & 6.464144e-05 & 1.466372e-06 & FALSE & TRUE &   48 & lev3\\\\\n",
       "\t TLX2   & THRA   &  4.082232 &  4.237987 &  4.461391 &  5.4248758 & 1.8151078 & 1.6203347 & 0.9806174 & 4.353753 &  0.8769859 & 0.12301408 & -0.6907521 & -1.5512595 & 1.976897 & 0.63972477 & 0.1084030 & 6.926210e-03 &   0 &   0 &  22 &   26 & 23 & 17 & 11 & 100 &  0.0000000 & 6.604394 & 7.3297502 & 1.00000000 & 6.464144e-05 & 1.466372e-06 & FALSE & TRUE &   48 & lev3\\\\\n",
       "\t ZNF75D & LHX4   &  3.649294 &  3.351725 &  3.130058 &  2.1966276 & 0.6094769 & 0.4484792 & 0.4683389 & 3.681642 & -0.9267722 & 0.07322776 & -1.2878878 & -1.1848350 & 3.795125 & 0.62602521 & 0.5776343 & 2.364031e-03 &  90 & 176 & 295 &  258 &  6 &  2 &  3 &  86 &  0.6717951 & 1.438905 & 1.2924028 & 0.15563799 & 2.681761e-05 & 7.986804e-05 & FALSE & TRUE &  729 & lev3\\\\\n",
       "\t ZNF75D & PRDM6  &  3.672592 &  3.109131 &  3.111782 &  2.6471962 & 0.0000000 & 0.4559344 & 0.0000000 & 1.578606 & -0.8341067 & 0.16589332 &  4.8934378 &  0.0000000 & 6.852073 & 0.23227398 & 1.0000000 & 1.692200e-02 &  90 & 176 & 295 &  258 &  0 &  5 &  0 &  15 &  0.6717951 & 1.438905 & 1.2924028 & 0.15563799 & 2.681761e-05 & 7.986804e-05 & FALSE & TRUE &  729 & lev3\\\\\n",
       "\\end{tabular}\n"
      ],
      "text/markdown": [
       "\n",
       "A tibble: 65 × 36\n",
       "\n",
       "| regulator_gene &lt;chr&gt; | target_gene &lt;chr&gt; | atac.ES &lt;dbl&gt; | atac.H16 &lt;dbl&gt; | atac.D1 &lt;dbl&gt; | atac.D4 &lt;dbl&gt; | tar.ge.ES &lt;dbl&gt; | tar.ge.H16 &lt;dbl&gt; | tar.ge.D1 &lt;dbl&gt; | tar.ge.D4 &lt;dbl&gt; | ⋯ ⋯ | reg.l2fc.H16 &lt;dbl&gt; | reg.l2fc.D1 &lt;dbl&gt; | reg.l2fc.D4 &lt;dbl&gt; | reg.fdr.H16 &lt;dbl&gt; | reg.fdr.D1 &lt;dbl&gt; | reg.fdr.D4 &lt;dbl&gt; | reg.isHit &lt;lgl&gt; | tar.isHit &lt;lgl&gt; | reg.cnt.sum &lt;dbl&gt; | lev &lt;chr&gt; |\n",
       "|---|---|---|---|---|---|---|---|---|---|---|---|---|---|---|---|---|---|---|---|---|\n",
       "| NEUROG1 | EBF1   |  4.591357 |  6.043470 |  6.011842 |  9.017202 | 0.6696824 |  1.4371240 |  3.8997900 | 20.301545 | ⋯ | 8.170744 | 9.6348898 | 11.116910 | 7.875081e-22 | 5.935372e-31 |  5.633972e-42 |  TRUE | TRUE |   539 | lev1 |\n",
       "| NEUROG2 | EBF1   | 18.885112 | 22.733444 | 22.733617 | 28.581881 | 0.6696824 |  1.4371240 |  3.8997900 | 20.301545 | ⋯ | 7.088920 | 7.9901132 |  9.893931 | 3.985811e-09 | 7.743982e-12 |  8.486055e-19 |  TRUE | TRUE |   207 | lev1 |\n",
       "| NEUROG2 | POU3F2 |  6.351503 |  7.253477 |  7.200895 |  9.575558 | 0.1609897 |  2.8551875 |  4.1576482 | 12.963583 | ⋯ | 7.088920 | 7.9901132 |  9.893931 | 3.985811e-09 | 7.743982e-12 |  8.486055e-19 |  TRUE | TRUE |   207 | lev1 |\n",
       "| NEUROG2 | RCOR2  | 10.116665 | 10.779594 | 10.950813 | 11.168362 | 7.2018173 | 17.3199422 | 18.2898296 | 16.572379 | ⋯ | 7.088920 | 7.9901132 |  9.893931 | 3.985811e-09 | 7.743982e-12 |  8.486055e-19 |  TRUE | TRUE |   207 | lev1 |\n",
       "| NEUROG2 | ZBTB18 |  3.166601 |  4.770543 |  4.652431 |  5.911644 | 2.8316239 | 11.0424247 | 11.1503921 | 12.374454 | ⋯ | 7.088920 | 7.9901132 |  9.893931 | 3.985811e-09 | 7.743982e-12 |  8.486055e-19 |  TRUE | TRUE |   207 | lev1 |\n",
       "| NEUROG2 | VAX2   |  9.887712 |  9.670370 |  9.880845 | 10.416721 | 0.2078368 |  0.3528202 |  1.0458451 |  3.172412 | ⋯ | 7.088920 | 7.9901132 |  9.893931 | 3.985811e-09 | 7.743982e-12 |  8.486055e-19 |  TRUE | TRUE |   207 | lev2 |\n",
       "| EBF1    | VAX2   | 12.833548 | 13.420957 | 14.064004 | 15.171356 | 0.2078368 |  0.3528202 |  1.0458451 |  3.172412 | ⋯ | 2.514547 | 5.0491582 |  9.726408 | 5.891332e-05 | 5.672568e-22 |  3.335348e-84 |  TRUE | TRUE |  2308 | lev2 |\n",
       "| EBF3    | VAX2   | 10.281116 | 10.226842 | 10.327152 | 10.769148 | 0.2078368 |  0.3528202 |  1.0458451 |  3.172412 | ⋯ | 5.541898 | 6.6627546 |  9.147850 | 1.203497e-24 | 3.641239e-36 |  3.460202e-69 | FALSE | TRUE |  2878 | lev2 |\n",
       "| NEUROD1 | VAX2   |  9.887712 |  9.670370 |  9.880845 | 10.416721 | 0.2078368 |  0.3528202 |  1.0458451 |  3.172412 | ⋯ | 3.176489 | 0.9474577 | 11.894240 | 5.611389e-06 | 4.596942e-01 |  1.609459e-99 | FALSE | TRUE |  3704 | lev2 |\n",
       "| NHLH1   | VAX2   | 10.010747 | 10.900004 | 11.482029 | 13.118007 | 0.2078368 |  0.3528202 |  1.0458451 |  3.172412 | ⋯ | 8.349374 | 8.5751674 | 11.586282 | 4.889849e-58 | 2.070067e-61 | 1.834385e-113 | FALSE | TRUE |  4329 | lev2 |\n",
       "| PAX3    | VAX2   |  2.437150 |  2.017455 |  2.177221 |  1.747631 | 0.2078368 |  0.3528202 |  1.0458451 |  3.172412 | ⋯ | 3.375887 | 5.0502666 |  7.396766 | 2.800632e-02 | 9.779089e-05 |  1.639753e-10 | FALSE | TRUE |   352 | lev2 |\n",
       "| ZEB1    | VAX2   |  4.117493 |  3.597116 |  3.263319 |  2.382539 | 0.2078368 |  0.3528202 |  1.0458451 |  3.172412 | ⋯ | 6.818574 | 8.7580193 | 10.311714 | 9.536600e-17 | 3.166121e-28 |  8.820628e-40 | FALSE | TRUE |  1059 | lev2 |\n",
       "| EBF1    | JUNB   |  5.666814 |  5.272281 |  5.248707 |  4.185558 | 0.7473370 |  1.1245405 |  1.2370294 |  2.797669 | ⋯ | 2.514547 | 5.0491582 |  9.726408 | 5.891332e-05 | 5.672568e-22 |  3.335348e-84 |  TRUE | TRUE |  2308 | lev3 |\n",
       "| EBF1    | LHX4   | 10.148966 |  8.958018 |  8.987330 |  7.665843 | 0.6094769 |  0.4484792 |  0.4683389 |  3.681642 | ⋯ | 2.514547 | 5.0491582 |  9.726408 | 5.891332e-05 | 5.672568e-22 |  3.335348e-84 |  TRUE | TRUE |  2308 | lev3 |\n",
       "| EBF1    | THRA   |  4.082232 |  4.237987 |  4.461391 |  5.424876 | 1.8151078 |  1.6203347 |  0.9806174 |  4.353753 | ⋯ | 2.514547 | 5.0491582 |  9.726408 | 5.891332e-05 | 5.672568e-22 |  3.335348e-84 |  TRUE | TRUE |  2308 | lev3 |\n",
       "| EBF1    | ZNF250 |  8.093489 |  8.027487 |  8.373344 |  9.115512 | 2.0346106 |  3.3967702 |  2.5620881 |  5.500890 | ⋯ | 2.514547 | 5.0491582 |  9.726408 | 5.891332e-05 | 5.672568e-22 |  3.335348e-84 |  TRUE | TRUE |  2308 | lev3 |\n",
       "| EBF3    | THRA   |  4.082232 |  4.237987 |  4.461391 |  5.424876 | 1.8151078 |  1.6203347 |  0.9806174 |  4.353753 | ⋯ | 5.541898 | 6.6627546 |  9.147850 | 1.203497e-24 | 3.641239e-36 |  3.460202e-69 | FALSE | TRUE |  2878 | lev3 |\n",
       "| EBF3    | ZNF250 |  6.590952 |  6.539985 |  6.495266 |  7.828030 | 2.0346106 |  3.3967702 |  2.5620881 |  5.500890 | ⋯ | 5.541898 | 6.6627546 |  9.147850 | 1.203497e-24 | 3.641239e-36 |  3.460202e-69 | FALSE | TRUE |  2878 | lev3 |\n",
       "| HES6    | ZNF250 |  6.590952 |  6.539985 |  6.495266 |  7.828030 | 2.0346106 |  3.3967702 |  2.5620881 |  5.500890 | ⋯ | 5.036169 | 5.2758090 |  4.965684 | 1.812275e-81 | 1.419549e-89 |  8.439989e-80 | FALSE | TRUE | 22471 | lev3 |\n",
       "| NHLH1   | LHX4   |  5.807694 |  5.551629 |  4.917014 |  3.492239 | 0.6094769 |  0.4484792 |  0.4683389 |  3.681642 | ⋯ | 8.349374 | 8.5751674 | 11.586282 | 4.889849e-58 | 2.070067e-61 | 1.834385e-113 | FALSE | TRUE |  4329 | lev3 |\n",
       "| NHLH1   | PRDM6  |  6.308628 |  5.981635 |  5.627980 |  4.852432 | 0.0000000 |  0.4559344 |  0.0000000 |  1.578606 | ⋯ | 8.349374 | 8.5751674 | 11.586282 | 4.889849e-58 | 2.070067e-61 | 1.834385e-113 | FALSE | TRUE |  4329 | lev3 |\n",
       "| POU3F2  | LHX4   |  1.030161 |  1.148773 |  1.596801 |  2.349040 | 0.6094769 |  0.4484792 |  0.4683389 |  3.681642 | ⋯ | 6.939589 | 8.0227274 | 11.058454 | 7.566588e-14 | 7.819149e-19 |  1.483580e-36 |  TRUE | TRUE |  1052 | lev3 |\n",
       "| POU3F2  | THRA   |  4.082232 |  4.237987 |  4.461391 |  5.424876 | 1.8151078 |  1.6203347 |  0.9806174 |  4.353753 | ⋯ | 6.939589 | 8.0227274 | 11.058454 | 7.566588e-14 | 7.819149e-19 |  1.483580e-36 |  TRUE | TRUE |  1052 | lev3 |\n",
       "| POU6F2  | LHX4   |  1.030161 |  1.148773 |  1.596801 |  2.349040 | 0.6094769 |  0.4484792 |  0.4683389 |  3.681642 | ⋯ | 4.226290 | 3.9748940 |  2.919401 | 2.409371e-02 | 3.064723e-02 |  9.443954e-02 | FALSE | TRUE |    48 | lev3 |\n",
       "| ZEB1    | CBX4   |  6.171616 |  6.140931 |  5.954387 |  4.659730 | 1.6300527 |  1.4902080 |  1.0441909 |  2.855361 | ⋯ | 6.818574 | 8.7580193 | 10.311714 | 9.536600e-17 | 3.166121e-28 |  8.820628e-40 | FALSE | TRUE |  1059 | lev3 |\n",
       "| ZEB1    | LHX4   |  3.649294 |  3.351725 |  3.130058 |  2.196628 | 0.6094769 |  0.4484792 |  0.4683389 |  3.681642 | ⋯ | 6.818574 | 8.7580193 | 10.311714 | 9.536600e-17 | 3.166121e-28 |  8.820628e-40 | FALSE | TRUE |  1059 | lev3 |\n",
       "| ZEB1    | PHOX2A |  4.134909 |  3.523498 |  3.808360 |  4.843225 | 0.6666836 |  0.0000000 |  0.2440930 |  9.839293 | ⋯ | 6.818574 | 8.7580193 | 10.311714 | 9.536600e-17 | 3.166121e-28 |  8.820628e-40 | FALSE | TRUE |  1059 | lev3 |\n",
       "| ZEB1    | ZNF250 |  6.590952 |  6.539985 |  6.495266 |  7.828030 | 2.0346106 |  3.3967702 |  2.5620881 |  5.500890 | ⋯ | 6.818574 | 8.7580193 | 10.311714 | 9.536600e-17 | 3.166121e-28 |  8.820628e-40 | FALSE | TRUE |  1059 | lev3 |\n",
       "| NHLH2   | LHX4   |  5.807694 |  5.551629 |  4.917014 |  3.492239 | 0.6094769 |  0.4484792 |  0.4683389 |  3.681642 | ⋯ | 1.461086 | 3.5272457 |  8.723931 | 2.330842e-01 | 2.377622e-05 |  5.134920e-33 | FALSE | TRUE |  3860 | lev3 |\n",
       "| NHLH2   | PHOX2A |  4.134909 |  3.523498 |  3.808360 |  4.843225 | 0.6666836 |  0.0000000 |  0.2440930 |  9.839293 | ⋯ | 1.461086 | 3.5272457 |  8.723931 | 2.330842e-01 | 2.377622e-05 |  5.134920e-33 | FALSE | TRUE |  3860 | lev3 |\n",
       "| ⋮ | ⋮ | ⋮ | ⋮ | ⋮ | ⋮ | ⋮ | ⋮ | ⋮ | ⋮ | ⋱ | ⋮ | ⋮ | ⋮ | ⋮ | ⋮ | ⋮ | ⋮ | ⋮ | ⋮ | ⋮ |\n",
       "| TCF4   | CBX4   |  2.215395 |  2.271225 |  2.553559 |  2.0030731 | 1.6300527 | 1.4902080 | 1.0441909 | 2.855361 | ⋯ |  0.3354729 | 1.007863 | 1.8637301 | 0.40306281 | 4.507059e-05 | 1.533468e-17 | FALSE | TRUE | 2016 | lev3 |\n",
       "| TCF4   | PHOX2A |  4.134909 |  3.523498 |  3.808360 |  4.8432255 | 0.6666836 | 0.0000000 | 0.2440930 | 9.839293 | ⋯ |  0.3354729 | 1.007863 | 1.8637301 | 0.40306281 | 4.507059e-05 | 1.533468e-17 | FALSE | TRUE | 2016 | lev3 |\n",
       "| TCF4   | PRDM6  | 10.490040 |  9.578751 |  9.181984 |  8.0563789 | 0.0000000 | 0.4559344 | 0.0000000 | 1.578606 | ⋯ |  0.3354729 | 1.007863 | 1.8637301 | 0.40306281 | 4.507059e-05 | 1.533468e-17 | FALSE | TRUE | 2016 | lev3 |\n",
       "| TCF4   | ZNF250 |  6.590952 |  6.539985 |  6.495266 |  7.8280299 | 2.0346106 | 3.3967702 | 2.5620881 | 5.500890 | ⋯ |  0.3354729 | 1.007863 | 1.8637301 | 0.40306281 | 4.507059e-05 | 1.533468e-17 | FALSE | TRUE | 2016 | lev3 |\n",
       "| ESRRA  | JUNB   |  3.699888 |  3.422686 |  3.536483 |  4.3328999 | 0.7473370 | 1.1245405 | 1.2370294 | 2.797669 | ⋯ |  3.5086013 | 4.379121 | 3.9898833 | 0.10655935 | 1.984880e-02 | 1.803943e-02 | FALSE | TRUE |   75 | lev3 |\n",
       "| ESRRA  | MLLT6  |  3.926857 |  3.562224 |  3.367381 |  2.2017181 | 1.9468207 | 1.6537179 | 1.4004558 | 3.994732 | ⋯ |  3.5086013 | 4.379121 | 3.9898833 | 0.10655935 | 1.984880e-02 | 1.803943e-02 | FALSE | TRUE |   75 | lev3 |\n",
       "| ESRRA  | PRDM6  | 12.233971 | 11.687122 | 11.232524 | 10.3757204 | 0.0000000 | 0.4559344 | 0.0000000 | 1.578606 | ⋯ |  3.5086013 | 4.379121 | 3.9898833 | 0.10655935 | 1.984880e-02 | 1.803943e-02 | FALSE | TRUE |   75 | lev3 |\n",
       "| ESRRA  | THRA   |  3.174947 |  3.177073 |  3.154523 |  2.9151028 | 1.8151078 | 1.6203347 | 0.9806174 | 4.353753 | ⋯ |  3.5086013 | 4.379121 | 3.9898833 | 0.10655935 | 1.984880e-02 | 1.803943e-02 | FALSE | TRUE |   75 | lev3 |\n",
       "| ESRRA  | ZNF250 |  6.590952 |  6.539985 |  6.495266 |  7.8280299 | 2.0346106 | 3.3967702 | 2.5620881 | 5.500890 | ⋯ |  3.5086013 | 4.379121 | 3.9898833 | 0.10655935 | 1.984880e-02 | 1.803943e-02 | FALSE | TRUE |   75 | lev3 |\n",
       "| LHX9   | MLLT6  |  3.330324 |  3.666252 |  3.447483 |  1.9707248 | 1.9468207 | 1.6537179 | 1.4004558 | 3.994732 | ⋯ |  2.6553161 | 3.498781 | 8.3698231 | 0.23030632 | 4.790405e-02 | 1.332180e-10 | FALSE | TRUE |  126 | lev3 |\n",
       "| MEIS1  | CBX4   |  3.477261 |  3.458257 |  3.580975 |  4.4586217 | 1.6300527 | 1.4902080 | 1.0441909 | 2.855361 | ⋯ |  3.1356413 | 6.854428 | 7.9064674 | 0.20413237 | 4.456058e-05 | 3.086344e-07 | FALSE | TRUE |   88 | lev3 |\n",
       "| NHLH2  | LHX4   |  5.807694 |  5.551629 |  4.917014 |  3.4922389 | 0.6094769 | 0.4484792 | 0.4683389 | 3.681642 | ⋯ |  1.4610859 | 3.527246 | 8.7239313 | 0.23308416 | 2.377622e-05 | 5.134920e-33 | FALSE | TRUE | 3860 | lev3 |\n",
       "| NHLH2  | PHOX2A |  4.134909 |  3.523498 |  3.808360 |  4.8432255 | 0.6666836 | 0.0000000 | 0.2440930 | 9.839293 | ⋯ |  1.4610859 | 3.527246 | 8.7239313 | 0.23308416 | 2.377622e-05 | 5.134920e-33 | FALSE | TRUE | 3860 | lev3 |\n",
       "| NHLH2  | PRDM6  |  6.308628 |  5.981635 |  5.627980 |  4.8524321 | 0.0000000 | 0.4559344 | 0.0000000 | 1.578606 | ⋯ |  1.4610859 | 3.527246 | 8.7239313 | 0.23308416 | 2.377622e-05 | 5.134920e-33 | FALSE | TRUE | 3860 | lev3 |\n",
       "| NRL    | LHX4   | 12.208885 | 10.625141 | 10.415262 |  8.4258220 | 0.6094769 | 0.4484792 | 0.4683389 | 3.681642 | ⋯ |  0.8402539 | 2.978302 | 1.5821818 | 0.52620965 | 4.507059e-05 | 4.124306e-02 | FALSE | TRUE |  126 | lev3 |\n",
       "| NRL    | PRDM6  |  6.041150 |  6.844553 |  6.269896 |  3.3073256 | 0.0000000 | 0.4559344 | 0.0000000 | 1.578606 | ⋯ |  0.8402539 | 2.978302 | 1.5821818 | 0.52620965 | 4.507059e-05 | 4.124306e-02 | FALSE | TRUE |  126 | lev3 |\n",
       "| POU2F2 | CBX4   |  3.477261 |  3.458257 |  3.580975 |  4.4586217 | 1.6300527 | 1.4902080 | 1.0441909 | 2.855361 | ⋯ | -0.5481766 | 1.041719 | 1.5716121 | 0.44866815 | 3.124673e-02 | 6.978162e-05 | FALSE | TRUE |  288 | lev3 |\n",
       "| POU2F2 | LHX4   |  2.158401 |  2.199905 |  1.786956 |  1.2956112 | 0.6094769 | 0.4484792 | 0.4683389 | 3.681642 | ⋯ | -0.5481766 | 1.041719 | 1.5716121 | 0.44866815 | 3.124673e-02 | 6.978162e-05 | FALSE | TRUE |  288 | lev3 |\n",
       "| POU2F2 | PRDM6  |  2.354803 |  2.139076 |  1.630261 |  0.7600103 | 0.0000000 | 0.4559344 | 0.0000000 | 1.578606 | ⋯ | -0.5481766 | 1.041719 | 1.5716121 | 0.44866815 | 3.124673e-02 | 6.978162e-05 | FALSE | TRUE |  288 | lev3 |\n",
       "| POU2F2 | THRA   |  4.082232 |  4.237987 |  4.461391 |  5.4248758 | 1.8151078 | 1.6203347 | 0.9806174 | 4.353753 | ⋯ | -0.5481766 | 1.041719 | 1.5716121 | 0.44866815 | 3.124673e-02 | 6.978162e-05 | FALSE | TRUE |  288 | lev3 |\n",
       "| RARA   | PRDM6  |  5.294830 |  4.671187 |  4.138290 |  2.6790360 | 0.0000000 | 0.4559344 | 0.0000000 | 1.578606 | ⋯ |  1.7230850 | 1.685598 | 0.5316055 | 0.05374587 | 4.793239e-02 | 5.794647e-01 | FALSE | TRUE |  251 | lev3 |\n",
       "| RARA   | THRA   |  3.174947 |  3.177073 |  3.154523 |  2.9151028 | 1.8151078 | 1.6203347 | 0.9806174 | 4.353753 | ⋯ |  1.7230850 | 1.685598 | 0.5316055 | 0.05374587 | 4.793239e-02 | 5.794647e-01 | FALSE | TRUE |  251 | lev3 |\n",
       "| TCF4   | CBX4   |  2.215395 |  2.271225 |  2.553559 |  2.0030731 | 1.6300527 | 1.4902080 | 1.0441909 | 2.855361 | ⋯ |  0.3354729 | 1.007863 | 1.8637301 | 0.40306281 | 4.507059e-05 | 1.533468e-17 | FALSE | TRUE | 2016 | lev3 |\n",
       "| TCF4   | PHOX2A |  4.134909 |  3.523498 |  3.808360 |  4.8432255 | 0.6666836 | 0.0000000 | 0.2440930 | 9.839293 | ⋯ |  0.3354729 | 1.007863 | 1.8637301 | 0.40306281 | 4.507059e-05 | 1.533468e-17 | FALSE | TRUE | 2016 | lev3 |\n",
       "| TCF4   | PRDM6  | 10.490040 |  9.578751 |  9.181984 |  8.0563789 | 0.0000000 | 0.4559344 | 0.0000000 | 1.578606 | ⋯ |  0.3354729 | 1.007863 | 1.8637301 | 0.40306281 | 4.507059e-05 | 1.533468e-17 | FALSE | TRUE | 2016 | lev3 |\n",
       "| TCF4   | ZNF250 |  6.590952 |  6.539985 |  6.495266 |  7.8280299 | 2.0346106 | 3.3967702 | 2.5620881 | 5.500890 | ⋯ |  0.3354729 | 1.007863 | 1.8637301 | 0.40306281 | 4.507059e-05 | 1.533468e-17 | FALSE | TRUE | 2016 | lev3 |\n",
       "| TLX2   | MLLT6  |  3.330324 |  3.666252 |  3.447483 |  1.9707248 | 1.9468207 | 1.6537179 | 1.4004558 | 3.994732 | ⋯ |  0.0000000 | 6.604394 | 7.3297502 | 1.00000000 | 6.464144e-05 | 1.466372e-06 | FALSE | TRUE |   48 | lev3 |\n",
       "| TLX2   | THRA   |  4.082232 |  4.237987 |  4.461391 |  5.4248758 | 1.8151078 | 1.6203347 | 0.9806174 | 4.353753 | ⋯ |  0.0000000 | 6.604394 | 7.3297502 | 1.00000000 | 6.464144e-05 | 1.466372e-06 | FALSE | TRUE |   48 | lev3 |\n",
       "| ZNF75D | LHX4   |  3.649294 |  3.351725 |  3.130058 |  2.1966276 | 0.6094769 | 0.4484792 | 0.4683389 | 3.681642 | ⋯ |  0.6717951 | 1.438905 | 1.2924028 | 0.15563799 | 2.681761e-05 | 7.986804e-05 | FALSE | TRUE |  729 | lev3 |\n",
       "| ZNF75D | PRDM6  |  3.672592 |  3.109131 |  3.111782 |  2.6471962 | 0.0000000 | 0.4559344 | 0.0000000 | 1.578606 | ⋯ |  0.6717951 | 1.438905 | 1.2924028 | 0.15563799 | 2.681761e-05 | 7.986804e-05 | FALSE | TRUE |  729 | lev3 |\n",
       "\n"
      ],
      "text/plain": [
       "   regulator_gene target_gene atac.ES   atac.H16  atac.D1   atac.D4   \n",
       "1  NEUROG1        EBF1         4.591357  6.043470  6.011842  9.017202 \n",
       "2  NEUROG2        EBF1        18.885112 22.733444 22.733617 28.581881 \n",
       "3  NEUROG2        POU3F2       6.351503  7.253477  7.200895  9.575558 \n",
       "4  NEUROG2        RCOR2       10.116665 10.779594 10.950813 11.168362 \n",
       "5  NEUROG2        ZBTB18       3.166601  4.770543  4.652431  5.911644 \n",
       "6  NEUROG2        VAX2         9.887712  9.670370  9.880845 10.416721 \n",
       "7  EBF1           VAX2        12.833548 13.420957 14.064004 15.171356 \n",
       "8  EBF3           VAX2        10.281116 10.226842 10.327152 10.769148 \n",
       "9  NEUROD1        VAX2         9.887712  9.670370  9.880845 10.416721 \n",
       "10 NHLH1          VAX2        10.010747 10.900004 11.482029 13.118007 \n",
       "11 PAX3           VAX2         2.437150  2.017455  2.177221  1.747631 \n",
       "12 ZEB1           VAX2         4.117493  3.597116  3.263319  2.382539 \n",
       "13 EBF1           JUNB         5.666814  5.272281  5.248707  4.185558 \n",
       "14 EBF1           LHX4        10.148966  8.958018  8.987330  7.665843 \n",
       "15 EBF1           THRA         4.082232  4.237987  4.461391  5.424876 \n",
       "16 EBF1           ZNF250       8.093489  8.027487  8.373344  9.115512 \n",
       "17 EBF3           THRA         4.082232  4.237987  4.461391  5.424876 \n",
       "18 EBF3           ZNF250       6.590952  6.539985  6.495266  7.828030 \n",
       "19 HES6           ZNF250       6.590952  6.539985  6.495266  7.828030 \n",
       "20 NHLH1          LHX4         5.807694  5.551629  4.917014  3.492239 \n",
       "21 NHLH1          PRDM6        6.308628  5.981635  5.627980  4.852432 \n",
       "22 POU3F2         LHX4         1.030161  1.148773  1.596801  2.349040 \n",
       "23 POU3F2         THRA         4.082232  4.237987  4.461391  5.424876 \n",
       "24 POU6F2         LHX4         1.030161  1.148773  1.596801  2.349040 \n",
       "25 ZEB1           CBX4         6.171616  6.140931  5.954387  4.659730 \n",
       "26 ZEB1           LHX4         3.649294  3.351725  3.130058  2.196628 \n",
       "27 ZEB1           PHOX2A       4.134909  3.523498  3.808360  4.843225 \n",
       "28 ZEB1           ZNF250       6.590952  6.539985  6.495266  7.828030 \n",
       "29 NHLH2          LHX4         5.807694  5.551629  4.917014  3.492239 \n",
       "30 NHLH2          PHOX2A       4.134909  3.523498  3.808360  4.843225 \n",
       "⋮  ⋮              ⋮           ⋮         ⋮         ⋮         ⋮         \n",
       "36 TCF4           CBX4         2.215395  2.271225  2.553559  2.0030731\n",
       "37 TCF4           PHOX2A       4.134909  3.523498  3.808360  4.8432255\n",
       "38 TCF4           PRDM6       10.490040  9.578751  9.181984  8.0563789\n",
       "39 TCF4           ZNF250       6.590952  6.539985  6.495266  7.8280299\n",
       "40 ESRRA          JUNB         3.699888  3.422686  3.536483  4.3328999\n",
       "41 ESRRA          MLLT6        3.926857  3.562224  3.367381  2.2017181\n",
       "42 ESRRA          PRDM6       12.233971 11.687122 11.232524 10.3757204\n",
       "43 ESRRA          THRA         3.174947  3.177073  3.154523  2.9151028\n",
       "44 ESRRA          ZNF250       6.590952  6.539985  6.495266  7.8280299\n",
       "45 LHX9           MLLT6        3.330324  3.666252  3.447483  1.9707248\n",
       "46 MEIS1          CBX4         3.477261  3.458257  3.580975  4.4586217\n",
       "47 NHLH2          LHX4         5.807694  5.551629  4.917014  3.4922389\n",
       "48 NHLH2          PHOX2A       4.134909  3.523498  3.808360  4.8432255\n",
       "49 NHLH2          PRDM6        6.308628  5.981635  5.627980  4.8524321\n",
       "50 NRL            LHX4        12.208885 10.625141 10.415262  8.4258220\n",
       "51 NRL            PRDM6        6.041150  6.844553  6.269896  3.3073256\n",
       "52 POU2F2         CBX4         3.477261  3.458257  3.580975  4.4586217\n",
       "53 POU2F2         LHX4         2.158401  2.199905  1.786956  1.2956112\n",
       "54 POU2F2         PRDM6        2.354803  2.139076  1.630261  0.7600103\n",
       "55 POU2F2         THRA         4.082232  4.237987  4.461391  5.4248758\n",
       "56 RARA           PRDM6        5.294830  4.671187  4.138290  2.6790360\n",
       "57 RARA           THRA         3.174947  3.177073  3.154523  2.9151028\n",
       "58 TCF4           CBX4         2.215395  2.271225  2.553559  2.0030731\n",
       "59 TCF4           PHOX2A       4.134909  3.523498  3.808360  4.8432255\n",
       "60 TCF4           PRDM6       10.490040  9.578751  9.181984  8.0563789\n",
       "61 TCF4           ZNF250       6.590952  6.539985  6.495266  7.8280299\n",
       "62 TLX2           MLLT6        3.330324  3.666252  3.447483  1.9707248\n",
       "63 TLX2           THRA         4.082232  4.237987  4.461391  5.4248758\n",
       "64 ZNF75D         LHX4         3.649294  3.351725  3.130058  2.1966276\n",
       "65 ZNF75D         PRDM6        3.672592  3.109131  3.111782  2.6471962\n",
       "   tar.ge.ES tar.ge.H16 tar.ge.D1  tar.ge.D4 ⋯ reg.l2fc.H16 reg.l2fc.D1\n",
       "1  0.6696824  1.4371240  3.8997900 20.301545 ⋯ 8.170744     9.6348898  \n",
       "2  0.6696824  1.4371240  3.8997900 20.301545 ⋯ 7.088920     7.9901132  \n",
       "3  0.1609897  2.8551875  4.1576482 12.963583 ⋯ 7.088920     7.9901132  \n",
       "4  7.2018173 17.3199422 18.2898296 16.572379 ⋯ 7.088920     7.9901132  \n",
       "5  2.8316239 11.0424247 11.1503921 12.374454 ⋯ 7.088920     7.9901132  \n",
       "6  0.2078368  0.3528202  1.0458451  3.172412 ⋯ 7.088920     7.9901132  \n",
       "7  0.2078368  0.3528202  1.0458451  3.172412 ⋯ 2.514547     5.0491582  \n",
       "8  0.2078368  0.3528202  1.0458451  3.172412 ⋯ 5.541898     6.6627546  \n",
       "9  0.2078368  0.3528202  1.0458451  3.172412 ⋯ 3.176489     0.9474577  \n",
       "10 0.2078368  0.3528202  1.0458451  3.172412 ⋯ 8.349374     8.5751674  \n",
       "11 0.2078368  0.3528202  1.0458451  3.172412 ⋯ 3.375887     5.0502666  \n",
       "12 0.2078368  0.3528202  1.0458451  3.172412 ⋯ 6.818574     8.7580193  \n",
       "13 0.7473370  1.1245405  1.2370294  2.797669 ⋯ 2.514547     5.0491582  \n",
       "14 0.6094769  0.4484792  0.4683389  3.681642 ⋯ 2.514547     5.0491582  \n",
       "15 1.8151078  1.6203347  0.9806174  4.353753 ⋯ 2.514547     5.0491582  \n",
       "16 2.0346106  3.3967702  2.5620881  5.500890 ⋯ 2.514547     5.0491582  \n",
       "17 1.8151078  1.6203347  0.9806174  4.353753 ⋯ 5.541898     6.6627546  \n",
       "18 2.0346106  3.3967702  2.5620881  5.500890 ⋯ 5.541898     6.6627546  \n",
       "19 2.0346106  3.3967702  2.5620881  5.500890 ⋯ 5.036169     5.2758090  \n",
       "20 0.6094769  0.4484792  0.4683389  3.681642 ⋯ 8.349374     8.5751674  \n",
       "21 0.0000000  0.4559344  0.0000000  1.578606 ⋯ 8.349374     8.5751674  \n",
       "22 0.6094769  0.4484792  0.4683389  3.681642 ⋯ 6.939589     8.0227274  \n",
       "23 1.8151078  1.6203347  0.9806174  4.353753 ⋯ 6.939589     8.0227274  \n",
       "24 0.6094769  0.4484792  0.4683389  3.681642 ⋯ 4.226290     3.9748940  \n",
       "25 1.6300527  1.4902080  1.0441909  2.855361 ⋯ 6.818574     8.7580193  \n",
       "26 0.6094769  0.4484792  0.4683389  3.681642 ⋯ 6.818574     8.7580193  \n",
       "27 0.6666836  0.0000000  0.2440930  9.839293 ⋯ 6.818574     8.7580193  \n",
       "28 2.0346106  3.3967702  2.5620881  5.500890 ⋯ 6.818574     8.7580193  \n",
       "29 0.6094769  0.4484792  0.4683389  3.681642 ⋯ 1.461086     3.5272457  \n",
       "30 0.6666836  0.0000000  0.2440930  9.839293 ⋯ 1.461086     3.5272457  \n",
       "⋮  ⋮         ⋮          ⋮          ⋮         ⋱ ⋮            ⋮          \n",
       "36 1.6300527 1.4902080  1.0441909  2.855361  ⋯  0.3354729   1.007863   \n",
       "37 0.6666836 0.0000000  0.2440930  9.839293  ⋯  0.3354729   1.007863   \n",
       "38 0.0000000 0.4559344  0.0000000  1.578606  ⋯  0.3354729   1.007863   \n",
       "39 2.0346106 3.3967702  2.5620881  5.500890  ⋯  0.3354729   1.007863   \n",
       "40 0.7473370 1.1245405  1.2370294  2.797669  ⋯  3.5086013   4.379121   \n",
       "41 1.9468207 1.6537179  1.4004558  3.994732  ⋯  3.5086013   4.379121   \n",
       "42 0.0000000 0.4559344  0.0000000  1.578606  ⋯  3.5086013   4.379121   \n",
       "43 1.8151078 1.6203347  0.9806174  4.353753  ⋯  3.5086013   4.379121   \n",
       "44 2.0346106 3.3967702  2.5620881  5.500890  ⋯  3.5086013   4.379121   \n",
       "45 1.9468207 1.6537179  1.4004558  3.994732  ⋯  2.6553161   3.498781   \n",
       "46 1.6300527 1.4902080  1.0441909  2.855361  ⋯  3.1356413   6.854428   \n",
       "47 0.6094769 0.4484792  0.4683389  3.681642  ⋯  1.4610859   3.527246   \n",
       "48 0.6666836 0.0000000  0.2440930  9.839293  ⋯  1.4610859   3.527246   \n",
       "49 0.0000000 0.4559344  0.0000000  1.578606  ⋯  1.4610859   3.527246   \n",
       "50 0.6094769 0.4484792  0.4683389  3.681642  ⋯  0.8402539   2.978302   \n",
       "51 0.0000000 0.4559344  0.0000000  1.578606  ⋯  0.8402539   2.978302   \n",
       "52 1.6300527 1.4902080  1.0441909  2.855361  ⋯ -0.5481766   1.041719   \n",
       "53 0.6094769 0.4484792  0.4683389  3.681642  ⋯ -0.5481766   1.041719   \n",
       "54 0.0000000 0.4559344  0.0000000  1.578606  ⋯ -0.5481766   1.041719   \n",
       "55 1.8151078 1.6203347  0.9806174  4.353753  ⋯ -0.5481766   1.041719   \n",
       "56 0.0000000 0.4559344  0.0000000  1.578606  ⋯  1.7230850   1.685598   \n",
       "57 1.8151078 1.6203347  0.9806174  4.353753  ⋯  1.7230850   1.685598   \n",
       "58 1.6300527 1.4902080  1.0441909  2.855361  ⋯  0.3354729   1.007863   \n",
       "59 0.6666836 0.0000000  0.2440930  9.839293  ⋯  0.3354729   1.007863   \n",
       "60 0.0000000 0.4559344  0.0000000  1.578606  ⋯  0.3354729   1.007863   \n",
       "61 2.0346106 3.3967702  2.5620881  5.500890  ⋯  0.3354729   1.007863   \n",
       "62 1.9468207 1.6537179  1.4004558  3.994732  ⋯  0.0000000   6.604394   \n",
       "63 1.8151078 1.6203347  0.9806174  4.353753  ⋯  0.0000000   6.604394   \n",
       "64 0.6094769 0.4484792  0.4683389  3.681642  ⋯  0.6717951   1.438905   \n",
       "65 0.0000000 0.4559344  0.0000000  1.578606  ⋯  0.6717951   1.438905   \n",
       "   reg.l2fc.D4 reg.fdr.H16  reg.fdr.D1   reg.fdr.D4    reg.isHit tar.isHit\n",
       "1  11.116910   7.875081e-22 5.935372e-31  5.633972e-42  TRUE     TRUE     \n",
       "2   9.893931   3.985811e-09 7.743982e-12  8.486055e-19  TRUE     TRUE     \n",
       "3   9.893931   3.985811e-09 7.743982e-12  8.486055e-19  TRUE     TRUE     \n",
       "4   9.893931   3.985811e-09 7.743982e-12  8.486055e-19  TRUE     TRUE     \n",
       "5   9.893931   3.985811e-09 7.743982e-12  8.486055e-19  TRUE     TRUE     \n",
       "6   9.893931   3.985811e-09 7.743982e-12  8.486055e-19  TRUE     TRUE     \n",
       "7   9.726408   5.891332e-05 5.672568e-22  3.335348e-84  TRUE     TRUE     \n",
       "8   9.147850   1.203497e-24 3.641239e-36  3.460202e-69 FALSE     TRUE     \n",
       "9  11.894240   5.611389e-06 4.596942e-01  1.609459e-99 FALSE     TRUE     \n",
       "10 11.586282   4.889849e-58 2.070067e-61 1.834385e-113 FALSE     TRUE     \n",
       "11  7.396766   2.800632e-02 9.779089e-05  1.639753e-10 FALSE     TRUE     \n",
       "12 10.311714   9.536600e-17 3.166121e-28  8.820628e-40 FALSE     TRUE     \n",
       "13  9.726408   5.891332e-05 5.672568e-22  3.335348e-84  TRUE     TRUE     \n",
       "14  9.726408   5.891332e-05 5.672568e-22  3.335348e-84  TRUE     TRUE     \n",
       "15  9.726408   5.891332e-05 5.672568e-22  3.335348e-84  TRUE     TRUE     \n",
       "16  9.726408   5.891332e-05 5.672568e-22  3.335348e-84  TRUE     TRUE     \n",
       "17  9.147850   1.203497e-24 3.641239e-36  3.460202e-69 FALSE     TRUE     \n",
       "18  9.147850   1.203497e-24 3.641239e-36  3.460202e-69 FALSE     TRUE     \n",
       "19  4.965684   1.812275e-81 1.419549e-89  8.439989e-80 FALSE     TRUE     \n",
       "20 11.586282   4.889849e-58 2.070067e-61 1.834385e-113 FALSE     TRUE     \n",
       "21 11.586282   4.889849e-58 2.070067e-61 1.834385e-113 FALSE     TRUE     \n",
       "22 11.058454   7.566588e-14 7.819149e-19  1.483580e-36  TRUE     TRUE     \n",
       "23 11.058454   7.566588e-14 7.819149e-19  1.483580e-36  TRUE     TRUE     \n",
       "24  2.919401   2.409371e-02 3.064723e-02  9.443954e-02 FALSE     TRUE     \n",
       "25 10.311714   9.536600e-17 3.166121e-28  8.820628e-40 FALSE     TRUE     \n",
       "26 10.311714   9.536600e-17 3.166121e-28  8.820628e-40 FALSE     TRUE     \n",
       "27 10.311714   9.536600e-17 3.166121e-28  8.820628e-40 FALSE     TRUE     \n",
       "28 10.311714   9.536600e-17 3.166121e-28  8.820628e-40 FALSE     TRUE     \n",
       "29  8.723931   2.330842e-01 2.377622e-05  5.134920e-33 FALSE     TRUE     \n",
       "30  8.723931   2.330842e-01 2.377622e-05  5.134920e-33 FALSE     TRUE     \n",
       "⋮  ⋮           ⋮            ⋮            ⋮             ⋮         ⋮        \n",
       "36 1.8637301   0.40306281   4.507059e-05 1.533468e-17  FALSE     TRUE     \n",
       "37 1.8637301   0.40306281   4.507059e-05 1.533468e-17  FALSE     TRUE     \n",
       "38 1.8637301   0.40306281   4.507059e-05 1.533468e-17  FALSE     TRUE     \n",
       "39 1.8637301   0.40306281   4.507059e-05 1.533468e-17  FALSE     TRUE     \n",
       "40 3.9898833   0.10655935   1.984880e-02 1.803943e-02  FALSE     TRUE     \n",
       "41 3.9898833   0.10655935   1.984880e-02 1.803943e-02  FALSE     TRUE     \n",
       "42 3.9898833   0.10655935   1.984880e-02 1.803943e-02  FALSE     TRUE     \n",
       "43 3.9898833   0.10655935   1.984880e-02 1.803943e-02  FALSE     TRUE     \n",
       "44 3.9898833   0.10655935   1.984880e-02 1.803943e-02  FALSE     TRUE     \n",
       "45 8.3698231   0.23030632   4.790405e-02 1.332180e-10  FALSE     TRUE     \n",
       "46 7.9064674   0.20413237   4.456058e-05 3.086344e-07  FALSE     TRUE     \n",
       "47 8.7239313   0.23308416   2.377622e-05 5.134920e-33  FALSE     TRUE     \n",
       "48 8.7239313   0.23308416   2.377622e-05 5.134920e-33  FALSE     TRUE     \n",
       "49 8.7239313   0.23308416   2.377622e-05 5.134920e-33  FALSE     TRUE     \n",
       "50 1.5821818   0.52620965   4.507059e-05 4.124306e-02  FALSE     TRUE     \n",
       "51 1.5821818   0.52620965   4.507059e-05 4.124306e-02  FALSE     TRUE     \n",
       "52 1.5716121   0.44866815   3.124673e-02 6.978162e-05  FALSE     TRUE     \n",
       "53 1.5716121   0.44866815   3.124673e-02 6.978162e-05  FALSE     TRUE     \n",
       "54 1.5716121   0.44866815   3.124673e-02 6.978162e-05  FALSE     TRUE     \n",
       "55 1.5716121   0.44866815   3.124673e-02 6.978162e-05  FALSE     TRUE     \n",
       "56 0.5316055   0.05374587   4.793239e-02 5.794647e-01  FALSE     TRUE     \n",
       "57 0.5316055   0.05374587   4.793239e-02 5.794647e-01  FALSE     TRUE     \n",
       "58 1.8637301   0.40306281   4.507059e-05 1.533468e-17  FALSE     TRUE     \n",
       "59 1.8637301   0.40306281   4.507059e-05 1.533468e-17  FALSE     TRUE     \n",
       "60 1.8637301   0.40306281   4.507059e-05 1.533468e-17  FALSE     TRUE     \n",
       "61 1.8637301   0.40306281   4.507059e-05 1.533468e-17  FALSE     TRUE     \n",
       "62 7.3297502   1.00000000   6.464144e-05 1.466372e-06  FALSE     TRUE     \n",
       "63 7.3297502   1.00000000   6.464144e-05 1.466372e-06  FALSE     TRUE     \n",
       "64 1.2924028   0.15563799   2.681761e-05 7.986804e-05  FALSE     TRUE     \n",
       "65 1.2924028   0.15563799   2.681761e-05 7.986804e-05  FALSE     TRUE     \n",
       "   reg.cnt.sum lev \n",
       "1    539       lev1\n",
       "2    207       lev1\n",
       "3    207       lev1\n",
       "4    207       lev1\n",
       "5    207       lev1\n",
       "6    207       lev2\n",
       "7   2308       lev2\n",
       "8   2878       lev2\n",
       "9   3704       lev2\n",
       "10  4329       lev2\n",
       "11   352       lev2\n",
       "12  1059       lev2\n",
       "13  2308       lev3\n",
       "14  2308       lev3\n",
       "15  2308       lev3\n",
       "16  2308       lev3\n",
       "17  2878       lev3\n",
       "18  2878       lev3\n",
       "19 22471       lev3\n",
       "20  4329       lev3\n",
       "21  4329       lev3\n",
       "22  1052       lev3\n",
       "23  1052       lev3\n",
       "24    48       lev3\n",
       "25  1059       lev3\n",
       "26  1059       lev3\n",
       "27  1059       lev3\n",
       "28  1059       lev3\n",
       "29  3860       lev3\n",
       "30  3860       lev3\n",
       "⋮  ⋮           ⋮   \n",
       "36 2016        lev3\n",
       "37 2016        lev3\n",
       "38 2016        lev3\n",
       "39 2016        lev3\n",
       "40   75        lev3\n",
       "41   75        lev3\n",
       "42   75        lev3\n",
       "43   75        lev3\n",
       "44   75        lev3\n",
       "45  126        lev3\n",
       "46   88        lev3\n",
       "47 3860        lev3\n",
       "48 3860        lev3\n",
       "49 3860        lev3\n",
       "50  126        lev3\n",
       "51  126        lev3\n",
       "52  288        lev3\n",
       "53  288        lev3\n",
       "54  288        lev3\n",
       "55  288        lev3\n",
       "56  251        lev3\n",
       "57  251        lev3\n",
       "58 2016        lev3\n",
       "59 2016        lev3\n",
       "60 2016        lev3\n",
       "61 2016        lev3\n",
       "62   48        lev3\n",
       "63   48        lev3\n",
       "64  729        lev3\n",
       "65  729        lev3"
      ]
     },
     "metadata": {},
     "output_type": "display_data"
    }
   ],
   "source": [
    "NGN.started.network.df %>% filter( tar.isHit)"
   ]
  },
  {
   "cell_type": "code",
   "execution_count": 286,
   "metadata": {},
   "outputs": [
    {
     "data": {
      "text/html": [
       "<table>\n",
       "<caption>A tibble: 1004 × 18</caption>\n",
       "<thead>\n",
       "\t<tr><th scope=col>regulator_gene</th><th scope=col>target_gene</th><th scope=col>corr</th><th scope=col>cor_p</th><th scope=col>l2fc.H16</th><th scope=col>l2fc.D1</th><th scope=col>l2fc.D4</th><th scope=col>fdr.H16</th><th scope=col>fdr.D1</th><th scope=col>fdr.D4</th><th scope=col>tar.cnt.ES</th><th scope=col>tar.cnt.H16</th><th scope=col>tar.cnt.D1</th><th scope=col>tar.cnt.D4</th><th scope=col>reg.isHit</th><th scope=col>tar.isHit</th><th scope=col>reg.cnt.sum</th><th scope=col>lev</th></tr>\n",
       "\t<tr><th scope=col>&lt;chr&gt;</th><th scope=col>&lt;chr&gt;</th><th scope=col>&lt;dbl&gt;</th><th scope=col>&lt;dbl&gt;</th><th scope=col>&lt;dbl&gt;</th><th scope=col>&lt;dbl&gt;</th><th scope=col>&lt;dbl&gt;</th><th scope=col>&lt;dbl&gt;</th><th scope=col>&lt;dbl&gt;</th><th scope=col>&lt;dbl&gt;</th><th scope=col>&lt;int&gt;</th><th scope=col>&lt;int&gt;</th><th scope=col>&lt;int&gt;</th><th scope=col>&lt;int&gt;</th><th scope=col>&lt;lgl&gt;</th><th scope=col>&lt;lgl&gt;</th><th scope=col>&lt;dbl&gt;</th><th scope=col>&lt;chr&gt;</th></tr>\n",
       "</thead>\n",
       "<tbody>\n",
       "\t<tr><td>NEUROG1</td><td>CASZ1 </td><td> 0.9491921</td><td>0.050807886</td><td>-1.10372204</td><td> 0.5747946</td><td>2.082050</td><td>0.56178808</td><td>0.73938018</td><td>4.911382e-02</td><td> 27</td><td>  8</td><td> 29</td><td>  76</td><td>TRUE</td><td>FALSE</td><td>539</td><td>lev3</td></tr>\n",
       "\t<tr><td>NEUROG1</td><td>CBFB  </td><td> 0.9546171</td><td>0.045382920</td><td> 0.40514723</td><td> 0.4671792</td><td>1.854964</td><td>0.52026316</td><td>0.34906771</td><td>1.124080e-08</td><td>307</td><td>389</td><td>429</td><td> 923</td><td>TRUE</td><td>FALSE</td><td>539</td><td>lev3</td></tr>\n",
       "\t<tr><td>NEUROG1</td><td>ESRRG </td><td> 0.8793330</td><td>0.120667016</td><td> 0.69731594</td><td> 1.8804745</td><td>2.889741</td><td>0.83248842</td><td>0.29323364</td><td>3.285278e-02</td><td> 10</td><td>  9</td><td> 21</td><td>  43</td><td>TRUE</td><td>FALSE</td><td>539</td><td>lev3</td></tr>\n",
       "\t<tr><td>NEUROG1</td><td>KLF12 </td><td> 0.9060244</td><td>0.093975637</td><td> 0.92154959</td><td> 0.6942953</td><td>2.106188</td><td>0.43896102</td><td>0.52525032</td><td>2.728186e-03</td><td> 25</td><td>118</td><td> 93</td><td> 248</td><td>TRUE</td><td>FALSE</td><td>539</td><td>lev3</td></tr>\n",
       "\t<tr><td>NEUROG1</td><td>MAML3 </td><td> 0.8707537</td><td>0.129246272</td><td>-1.12875645</td><td> 0.5249655</td><td>3.403921</td><td>0.37111119</td><td>0.68125739</td><td>1.736630e-06</td><td> 28</td><td> 13</td><td> 47</td><td> 277</td><td>TRUE</td><td>FALSE</td><td>539</td><td>lev3</td></tr>\n",
       "\t<tr><td>NEUROG1</td><td>MEF2C </td><td> 0.8507371</td><td>0.149262864</td><td>-3.36475141</td><td> 3.2790285</td><td>6.020716</td><td>0.24142611</td><td>0.08977080</td><td>5.211778e-05</td><td>  0</td><td>  0</td><td> 28</td><td> 174</td><td>TRUE</td><td>FALSE</td><td>539</td><td>lev3</td></tr>\n",
       "\t<tr><td>NEUROG1</td><td>MYT1  </td><td>-0.8621385</td><td>0.137861541</td><td>-1.01368610</td><td>-0.2975204</td><td>5.768915</td><td>0.68255937</td><td>0.89640182</td><td>7.977172e-09</td><td>  7</td><td>  2</td><td>  5</td><td> 256</td><td>TRUE</td><td>FALSE</td><td>539</td><td>lev3</td></tr>\n",
       "\t<tr><td>NEUROG1</td><td>MYT1L </td><td> 0.9809500</td><td>0.019049992</td><td> 0.03255222</td><td> 0.5141626</td><td>2.935981</td><td>0.99893057</td><td>0.77365234</td><td>2.733817e-03</td><td>  5</td><td>  8</td><td> 12</td><td>  59</td><td>TRUE</td><td>FALSE</td><td>539</td><td>lev3</td></tr>\n",
       "\t<tr><td>NEUROG1</td><td>PAX6  </td><td>-0.8354846</td><td>0.164515440</td><td>-0.82201666</td><td> 0.2225106</td><td>3.200247</td><td>0.82325780</td><td>0.94130854</td><td>3.028417e-02</td><td>  5</td><td>  3</td><td>  7</td><td>  55</td><td>TRUE</td><td>FALSE</td><td>539</td><td>lev3</td></tr>\n",
       "\t<tr><td>NEUROG1</td><td>RORA  </td><td>-0.9526933</td><td>0.047306714</td><td> 0.47126498</td><td> 0.6080620</td><td>2.047648</td><td>0.82977118</td><td>0.67585612</td><td>2.302845e-02</td><td> 34</td><td> 36</td><td> 42</td><td>  98</td><td>TRUE</td><td>FALSE</td><td>539</td><td>lev3</td></tr>\n",
       "\t<tr><td>NEUROG1</td><td>SIX1  </td><td> 0.9863244</td><td>0.013675630</td><td> 0.17694785</td><td>-1.9413795</td><td>7.260153</td><td>0.94758054</td><td>0.11322215</td><td>1.273018e-28</td><td>  8</td><td>  8</td><td>  2</td><td> 921</td><td>TRUE</td><td>FALSE</td><td>539</td><td>lev3</td></tr>\n",
       "\t<tr><td>NEUROG1</td><td>SSBP2 </td><td> 0.8726381</td><td>0.127361933</td><td>-0.81790231</td><td> 0.3186308</td><td>2.573405</td><td>0.17852063</td><td>0.64535205</td><td>1.797793e-11</td><td>130</td><td> 53</td><td>119</td><td> 538</td><td>TRUE</td><td>FALSE</td><td>539</td><td>lev3</td></tr>\n",
       "\t<tr><td>NEUROG2</td><td>ARX   </td><td>-0.8494374</td><td>0.150562607</td><td> 2.84636144</td><td> 3.9455376</td><td>5.116799</td><td>0.44342751</td><td>0.16232431</td><td>2.256249e-02</td><td>  0</td><td>  3</td><td>  7</td><td>  14</td><td>TRUE</td><td>FALSE</td><td>207</td><td>lev3</td></tr>\n",
       "\t<tr><td>NEUROG2</td><td>BTG1  </td><td> 0.9643878</td><td>0.035612167</td><td> 0.48522019</td><td> 0.3744812</td><td>1.241116</td><td>0.24519645</td><td>0.35304221</td><td>3.431690e-06</td><td>445</td><td>694</td><td>641</td><td> 923</td><td>TRUE</td><td>FALSE</td><td>207</td><td>lev3</td></tr>\n",
       "\t<tr><td>NEUROG2</td><td>CASZ1 </td><td> 0.9481788</td><td>0.051821169</td><td>-1.10372204</td><td> 0.5747946</td><td>2.082050</td><td>0.56178808</td><td>0.73938018</td><td>4.911382e-02</td><td> 27</td><td>  8</td><td> 29</td><td>  76</td><td>TRUE</td><td>FALSE</td><td>207</td><td>lev3</td></tr>\n",
       "\t<tr><td>NEUROG2</td><td>CBFB  </td><td> 0.9089765</td><td>0.091023485</td><td> 0.40514723</td><td> 0.4671792</td><td>1.854964</td><td>0.52026316</td><td>0.34906771</td><td>1.124080e-08</td><td>307</td><td>389</td><td>429</td><td> 923</td><td>TRUE</td><td>FALSE</td><td>207</td><td>lev3</td></tr>\n",
       "\t<tr><td>NEUROG2</td><td>DIP2C </td><td> 0.9135615</td><td>0.086438453</td><td>-0.02857920</td><td> 0.3695593</td><td>2.236420</td><td>0.99836635</td><td>0.80155743</td><td>6.284674e-03</td><td> 84</td><td> 64</td><td> 92</td><td> 286</td><td>TRUE</td><td>FALSE</td><td>207</td><td>lev3</td></tr>\n",
       "\t<tr><td>NEUROG2</td><td>ELAVL2</td><td> 0.9270084</td><td>0.072991637</td><td>-0.51249934</td><td> 1.2795345</td><td>5.446960</td><td>0.68927706</td><td>0.08871051</td><td>4.457495e-24</td><td> 65</td><td> 40</td><td>163</td><td>2223</td><td>TRUE</td><td>FALSE</td><td>207</td><td>lev3</td></tr>\n",
       "\t<tr><td>NEUROG2</td><td>GTF2B </td><td> 0.8151924</td><td>0.184807563</td><td> 1.08109828</td><td> 0.5894460</td><td>1.244473</td><td>0.09810339</td><td>0.41938047</td><td>1.444856e-02</td><td>116</td><td>255</td><td>199</td><td> 251</td><td>TRUE</td><td>FALSE</td><td>207</td><td>lev3</td></tr>\n",
       "\t<tr><td>NEUROG2</td><td>HDAC5 </td><td> 0.8951019</td><td>0.104898092</td><td>-0.06546504</td><td> 0.5163047</td><td>1.514638</td><td>0.96309427</td><td>0.32125193</td><td>1.783828e-05</td><td>120</td><td>102</td><td>159</td><td> 279</td><td>TRUE</td><td>FALSE</td><td>207</td><td>lev3</td></tr>\n",
       "\t<tr><td>NEUROG2</td><td>KAT2B </td><td>-0.8872340</td><td>0.112766004</td><td>-0.62799208</td><td> 0.3702730</td><td>2.893458</td><td>0.86355620</td><td>0.88891141</td><td>3.963486e-02</td><td> 11</td><td>  8</td><td> 22</td><td>  73</td><td>TRUE</td><td>FALSE</td><td>207</td><td>lev3</td></tr>\n",
       "\t<tr><td>NEUROG2</td><td>KLF12 </td><td> 0.8980180</td><td>0.101982038</td><td> 0.92154959</td><td> 0.6942953</td><td>2.106188</td><td>0.43896102</td><td>0.52525032</td><td>2.728186e-03</td><td> 25</td><td>118</td><td> 93</td><td> 248</td><td>TRUE</td><td>FALSE</td><td>207</td><td>lev3</td></tr>\n",
       "\t<tr><td>NEUROG2</td><td>KLF7  </td><td> 0.9982503</td><td>0.001749670</td><td>-0.01445852</td><td> 0.5362762</td><td>1.861693</td><td>0.99727049</td><td>0.29627848</td><td>6.354278e-08</td><td>124</td><td>172</td><td>272</td><td> 583</td><td>TRUE</td><td>FALSE</td><td>207</td><td>lev3</td></tr>\n",
       "\t<tr><td>NEUROG2</td><td>MEIS2 </td><td> 0.8250737</td><td>0.174926315</td><td> 0.90604304</td><td>-1.6160302</td><td>3.498057</td><td>0.80663619</td><td>0.56051381</td><td>2.318192e-02</td><td>  0</td><td>  4</td><td>  0</td><td>  28</td><td>TRUE</td><td>FALSE</td><td>207</td><td>lev3</td></tr>\n",
       "\t<tr><td>NEUROG2</td><td>MYT1  </td><td> 0.9816427</td><td>0.018357253</td><td>-1.01368610</td><td>-0.2975204</td><td>5.768915</td><td>0.68255937</td><td>0.89640182</td><td>7.977172e-09</td><td>  7</td><td>  2</td><td>  5</td><td> 256</td><td>TRUE</td><td>FALSE</td><td>207</td><td>lev3</td></tr>\n",
       "\t<tr><td>NEUROG2</td><td>MYT1L </td><td> 0.9683864</td><td>0.031613571</td><td> 0.03255222</td><td> 0.5141626</td><td>2.935981</td><td>0.99893057</td><td>0.77365234</td><td>2.733817e-03</td><td>  5</td><td>  8</td><td> 12</td><td>  59</td><td>TRUE</td><td>FALSE</td><td>207</td><td>lev3</td></tr>\n",
       "\t<tr><td>NEUROG2</td><td>NFIA  </td><td> 0.8603614</td><td>0.139638553</td><td> 0.25473244</td><td> 1.0785559</td><td>1.187099</td><td>0.86179026</td><td>0.11451990</td><td>3.778576e-02</td><td> 45</td><td> 63</td><td>110</td><td> 111</td><td>TRUE</td><td>FALSE</td><td>207</td><td>lev3</td></tr>\n",
       "\t<tr><td>NEUROG2</td><td>NKX6-2</td><td>-0.8929382</td><td>0.107061797</td><td>-0.27200119</td><td> 2.0146344</td><td>3.986713</td><td>0.95651440</td><td>0.28639045</td><td>3.539474e-03</td><td> 41</td><td> 48</td><td>189</td><td> 827</td><td>TRUE</td><td>FALSE</td><td>207</td><td>lev3</td></tr>\n",
       "\t<tr><td>NEUROG2</td><td>NPAS3 </td><td> 0.9974646</td><td>0.002535424</td><td> 1.25186860</td><td> 0.8957054</td><td>4.018330</td><td>0.76096282</td><td>0.78365667</td><td>3.094568e-02</td><td>  0</td><td>  4</td><td>  5</td><td>  35</td><td>TRUE</td><td>FALSE</td><td>207</td><td>lev3</td></tr>\n",
       "\t<tr><td>NEUROG2</td><td>PAX6  </td><td>-0.8354846</td><td>0.164515440</td><td>-0.82201666</td><td> 0.2225106</td><td>3.200247</td><td>0.82325780</td><td>0.94130854</td><td>3.028417e-02</td><td>  5</td><td>  3</td><td>  7</td><td>  55</td><td>TRUE</td><td>FALSE</td><td>207</td><td>lev3</td></tr>\n",
       "\t<tr><td>⋮</td><td>⋮</td><td>⋮</td><td>⋮</td><td>⋮</td><td>⋮</td><td>⋮</td><td>⋮</td><td>⋮</td><td>⋮</td><td>⋮</td><td>⋮</td><td>⋮</td><td>⋮</td><td>⋮</td><td>⋮</td><td>⋮</td><td>⋮</td></tr>\n",
       "\t<tr><td>ZNF75D</td><td>KMT2E </td><td> 0.9489518</td><td>0.051048249</td><td> 0.180637991</td><td> 0.28985175</td><td>1.427255</td><td>0.82228459</td><td>0.56816866</td><td>2.700447e-06</td><td>206</td><td>260</td><td>269</td><td> 506</td><td>FALSE</td><td>FALSE</td><td>729</td><td>lev3</td></tr>\n",
       "\t<tr><td>ZNF75D</td><td>LHX4  </td><td>-0.9267722</td><td>0.073227763</td><td>-1.287887774</td><td>-1.18483502</td><td>3.795125</td><td>0.62602521</td><td>0.57763433</td><td>2.364031e-03</td><td>  6</td><td>  2</td><td>  3</td><td>  86</td><td>FALSE</td><td> TRUE</td><td>729</td><td>lev3</td></tr>\n",
       "\t<tr><td>ZNF75D</td><td>MAML3 </td><td> 0.8805398</td><td>0.119460243</td><td>-1.128756451</td><td> 0.52496545</td><td>3.403921</td><td>0.37111119</td><td>0.68125739</td><td>1.736630e-06</td><td> 28</td><td> 13</td><td> 47</td><td> 277</td><td>FALSE</td><td>FALSE</td><td>729</td><td>lev3</td></tr>\n",
       "\t<tr><td>ZNF75D</td><td>MEF2C </td><td> 0.9150439</td><td>0.084956053</td><td>-3.364751406</td><td> 3.27902853</td><td>6.020716</td><td>0.24142611</td><td>0.08977080</td><td>5.211778e-05</td><td>  0</td><td>  0</td><td> 28</td><td> 174</td><td>FALSE</td><td>FALSE</td><td>729</td><td>lev3</td></tr>\n",
       "\t<tr><td>ZNF75D</td><td>MYT1L </td><td>-0.8951799</td><td>0.104820109</td><td> 0.032552221</td><td> 0.51416258</td><td>2.935981</td><td>0.99893057</td><td>0.77365234</td><td>2.733817e-03</td><td>  5</td><td>  8</td><td> 12</td><td>  59</td><td>FALSE</td><td>FALSE</td><td>729</td><td>lev3</td></tr>\n",
       "\t<tr><td>ZNF75D</td><td>NCOA1 </td><td> 0.8709908</td><td>0.129009214</td><td> 1.018002731</td><td> 0.42914476</td><td>1.941386</td><td>0.30371755</td><td>0.69488473</td><td>2.451406e-03</td><td> 85</td><td>148</td><td>121</td><td> 243</td><td>FALSE</td><td>FALSE</td><td>729</td><td>lev3</td></tr>\n",
       "\t<tr><td>ZNF75D</td><td>NKX6-2</td><td>-0.8929382</td><td>0.107061797</td><td>-0.272001194</td><td> 2.01463437</td><td>3.986713</td><td>0.95651440</td><td>0.28639045</td><td>3.539474e-03</td><td> 41</td><td> 48</td><td>189</td><td> 827</td><td>FALSE</td><td>FALSE</td><td>729</td><td>lev3</td></tr>\n",
       "\t<tr><td>ZNF75D</td><td>NPAS3 </td><td> 0.8062716</td><td>0.193728429</td><td> 1.251868604</td><td> 0.89570544</td><td>4.018330</td><td>0.76096282</td><td>0.78365667</td><td>3.094568e-02</td><td>  0</td><td>  4</td><td>  5</td><td>  35</td><td>FALSE</td><td>FALSE</td><td>729</td><td>lev3</td></tr>\n",
       "\t<tr><td>ZNF75D</td><td>PBX4  </td><td>-0.8490901</td><td>0.150909886</td><td> 1.036882918</td><td> 0.46556326</td><td>4.096796</td><td>0.77659689</td><td>0.87948125</td><td>8.608218e-03</td><td>  6</td><td>  8</td><td>  6</td><td>  62</td><td>FALSE</td><td>FALSE</td><td>729</td><td>lev3</td></tr>\n",
       "\t<tr><td>ZNF75D</td><td>PHF21A</td><td> 0.9884672</td><td>0.011532763</td><td> 0.833957188</td><td> 0.63710155</td><td>1.191215</td><td>0.09748577</td><td>0.21223770</td><td>1.613691e-03</td><td> 75</td><td>172</td><td>155</td><td> 201</td><td>FALSE</td><td>FALSE</td><td>729</td><td>lev3</td></tr>\n",
       "\t<tr><td>ZNF75D</td><td>POLR1E</td><td> 0.8253292</td><td>0.174670846</td><td>-0.068886398</td><td> 0.07775341</td><td>1.046761</td><td>0.96227024</td><td>0.92161549</td><td>7.690168e-03</td><td>173</td><td>152</td><td>161</td><td> 312</td><td>FALSE</td><td>FALSE</td><td>729</td><td>lev3</td></tr>\n",
       "\t<tr><td>ZNF75D</td><td>POU3F3</td><td> 0.8837189</td><td>0.116281069</td><td> 3.183001297</td><td> 1.75824540</td><td>7.049930</td><td>0.50274112</td><td>0.71442544</td><td>7.690168e-03</td><td>  0</td><td>  1</td><td>  0</td><td>  15</td><td>FALSE</td><td>FALSE</td><td>729</td><td>lev3</td></tr>\n",
       "\t<tr><td>ZNF75D</td><td>PRDM6 </td><td>-0.8341067</td><td>0.165893321</td><td> 4.893437838</td><td> 0.00000000</td><td>6.852073</td><td>0.23227398</td><td>1.00000000</td><td>1.692200e-02</td><td>  0</td><td>  5</td><td>  0</td><td>  15</td><td>FALSE</td><td> TRUE</td><td>729</td><td>lev3</td></tr>\n",
       "\t<tr><td>ZNF75D</td><td>PROX1 </td><td> 0.9859350</td><td>0.014064974</td><td>-0.054414212</td><td> 2.31461471</td><td>3.418580</td><td>0.99601775</td><td>0.13121324</td><td>4.310877e-03</td><td>  5</td><td>  5</td><td> 26</td><td>  50</td><td>FALSE</td><td>FALSE</td><td>729</td><td>lev3</td></tr>\n",
       "\t<tr><td>ZNF75D</td><td>PYGO1 </td><td> 0.9236828</td><td>0.076317156</td><td> 2.789965109</td><td> 2.22936487</td><td>4.794998</td><td>0.08126872</td><td>0.16610636</td><td>4.629582e-05</td><td>  3</td><td> 41</td><td> 35</td><td> 148</td><td>FALSE</td><td>FALSE</td><td>729</td><td>lev3</td></tr>\n",
       "\t<tr><td>ZNF75D</td><td>RB1   </td><td> 0.9949973</td><td>0.005002715</td><td> 0.611249819</td><td> 0.52130745</td><td>1.673178</td><td>0.63915978</td><td>0.62319971</td><td>1.297581e-02</td><td>174</td><td>347</td><td>365</td><td> 633</td><td>FALSE</td><td>FALSE</td><td>729</td><td>lev3</td></tr>\n",
       "\t<tr><td>ZNF75D</td><td>SATB2 </td><td>-0.8063493</td><td>0.193650684</td><td> 0.674633718</td><td> 0.62909807</td><td>2.907965</td><td>0.72900180</td><td>0.67405664</td><td>8.202713e-04</td><td> 16</td><td> 24</td><td> 28</td><td> 106</td><td>FALSE</td><td>FALSE</td><td>729</td><td>lev3</td></tr>\n",
       "\t<tr><td>ZNF75D</td><td>SCML2 </td><td> 0.8571201</td><td>0.142879884</td><td>-0.344672365</td><td> 0.21661708</td><td>1.383166</td><td>0.59283891</td><td>0.70576067</td><td>1.669320e-05</td><td>299</td><td>287</td><td>449</td><td> 898</td><td>FALSE</td><td>FALSE</td><td>729</td><td>lev3</td></tr>\n",
       "\t<tr><td>ZNF75D</td><td>SIRT2 </td><td>-0.8916603</td><td>0.108339660</td><td>-0.341380033</td><td>-0.02168585</td><td>2.819098</td><td>0.85661603</td><td>0.99163146</td><td>1.677397e-05</td><td> 33</td><td> 21</td><td> 29</td><td> 152</td><td>FALSE</td><td>FALSE</td><td>729</td><td>lev3</td></tr>\n",
       "\t<tr><td>ZNF75D</td><td>SSBP2 </td><td>-0.8095335</td><td>0.190466520</td><td>-0.817902310</td><td> 0.31863082</td><td>2.573405</td><td>0.17852063</td><td>0.64535205</td><td>1.797793e-11</td><td>130</td><td> 53</td><td>119</td><td> 538</td><td>FALSE</td><td>FALSE</td><td>729</td><td>lev3</td></tr>\n",
       "\t<tr><td>ZNF75D</td><td>SSBP3 </td><td> 0.8416246</td><td>0.158375370</td><td>-0.244885485</td><td> 0.36244450</td><td>1.775435</td><td>0.67892447</td><td>0.38393888</td><td>1.284297e-11</td><td>538</td><td>468</td><td>812</td><td>1672</td><td>FALSE</td><td>FALSE</td><td>729</td><td>lev3</td></tr>\n",
       "\t<tr><td>ZNF75D</td><td>TBX3  </td><td>-0.9095301</td><td>0.090469911</td><td>-1.454579633</td><td> 0.80465469</td><td>6.901386</td><td>0.70408800</td><td>0.78380080</td><td>7.157882e-08</td><td>  0</td><td>  0</td><td>  1</td><td>  52</td><td>FALSE</td><td>FALSE</td><td>729</td><td>lev3</td></tr>\n",
       "\t<tr><td>ZNF75D</td><td>TLE1  </td><td> 0.9591698</td><td>0.040830235</td><td>-0.315926032</td><td> 0.09770991</td><td>1.909410</td><td>0.41129433</td><td>0.81666800</td><td>3.867156e-20</td><td>571</td><td>639</td><td>899</td><td>2621</td><td>FALSE</td><td>FALSE</td><td>729</td><td>lev3</td></tr>\n",
       "\t<tr><td>ZNF75D</td><td>TSG101</td><td>-0.9424011</td><td>0.057598946</td><td> 0.399426011</td><td> 0.38154840</td><td>1.089299</td><td>0.05666731</td><td>0.05743041</td><td>5.242140e-13</td><td>657</td><td>991</td><td>991</td><td>1384</td><td>FALSE</td><td>FALSE</td><td>729</td><td>lev3</td></tr>\n",
       "\t<tr><td>ZNF75D</td><td>TSHZ2 </td><td> 0.8235173</td><td>0.176482671</td><td> 0.087169232</td><td> 1.54378916</td><td>3.607676</td><td>0.98450724</td><td>0.21103929</td><td>2.428051e-05</td><td>  4</td><td>  3</td><td> 10</td><td>  37</td><td>FALSE</td><td>FALSE</td><td>729</td><td>lev3</td></tr>\n",
       "\t<tr><td>ZNF75D</td><td>TULP4 </td><td>-0.9809630</td><td>0.019036975</td><td>-0.095237463</td><td> 0.40520716</td><td>2.429147</td><td>0.96416642</td><td>0.65959476</td><td>3.635554e-06</td><td>134</td><td>113</td><td>187</td><td> 596</td><td>FALSE</td><td>FALSE</td><td>729</td><td>lev3</td></tr>\n",
       "\t<tr><td>ZNF75D</td><td>ZNF248</td><td> 0.9593985</td><td>0.040601520</td><td> 0.615336138</td><td> 0.34640484</td><td>1.687707</td><td>0.67551760</td><td>0.78863921</td><td>2.331370e-02</td><td> 77</td><td>105</td><td>101</td><td> 229</td><td>FALSE</td><td>FALSE</td><td>729</td><td>lev3</td></tr>\n",
       "\t<tr><td>ZNF75D</td><td>ZNF708</td><td> 0.9864810</td><td>0.013519013</td><td>-0.002340671</td><td>-0.23600561</td><td>1.238306</td><td>1.00000000</td><td>0.81308947</td><td>3.087320e-02</td><td>113</td><td>155</td><td>150</td><td> 321</td><td>FALSE</td><td>FALSE</td><td>729</td><td>lev3</td></tr>\n",
       "\t<tr><td>ZNF75D</td><td>ZNF83 </td><td>-0.9544487</td><td>0.045551321</td><td>-0.094925607</td><td> 0.09315394</td><td>1.803219</td><td>0.97329983</td><td>0.95237922</td><td>1.568195e-02</td><td> 53</td><td> 42</td><td> 49</td><td> 148</td><td>FALSE</td><td>FALSE</td><td>729</td><td>lev3</td></tr>\n",
       "\t<tr><td>ZNF75D</td><td>ZNF862</td><td>-0.9553459</td><td>0.044654146</td><td>-1.960248356</td><td> 1.21134023</td><td>3.716424</td><td>0.51749416</td><td>0.55043650</td><td>2.969966e-03</td><td>  0</td><td>  0</td><td>  5</td><td>  25</td><td>FALSE</td><td>FALSE</td><td>729</td><td>lev3</td></tr>\n",
       "</tbody>\n",
       "</table>\n"
      ],
      "text/latex": [
       "A tibble: 1004 × 18\n",
       "\\begin{tabular}{r|llllllllllllllllll}\n",
       " regulator\\_gene & target\\_gene & corr & cor\\_p & l2fc.H16 & l2fc.D1 & l2fc.D4 & fdr.H16 & fdr.D1 & fdr.D4 & tar.cnt.ES & tar.cnt.H16 & tar.cnt.D1 & tar.cnt.D4 & reg.isHit & tar.isHit & reg.cnt.sum & lev\\\\\n",
       " <chr> & <chr> & <dbl> & <dbl> & <dbl> & <dbl> & <dbl> & <dbl> & <dbl> & <dbl> & <int> & <int> & <int> & <int> & <lgl> & <lgl> & <dbl> & <chr>\\\\\n",
       "\\hline\n",
       "\t NEUROG1 & CASZ1  &  0.9491921 & 0.050807886 & -1.10372204 &  0.5747946 & 2.082050 & 0.56178808 & 0.73938018 & 4.911382e-02 &  27 &   8 &  29 &   76 & TRUE & FALSE & 539 & lev3\\\\\n",
       "\t NEUROG1 & CBFB   &  0.9546171 & 0.045382920 &  0.40514723 &  0.4671792 & 1.854964 & 0.52026316 & 0.34906771 & 1.124080e-08 & 307 & 389 & 429 &  923 & TRUE & FALSE & 539 & lev3\\\\\n",
       "\t NEUROG1 & ESRRG  &  0.8793330 & 0.120667016 &  0.69731594 &  1.8804745 & 2.889741 & 0.83248842 & 0.29323364 & 3.285278e-02 &  10 &   9 &  21 &   43 & TRUE & FALSE & 539 & lev3\\\\\n",
       "\t NEUROG1 & KLF12  &  0.9060244 & 0.093975637 &  0.92154959 &  0.6942953 & 2.106188 & 0.43896102 & 0.52525032 & 2.728186e-03 &  25 & 118 &  93 &  248 & TRUE & FALSE & 539 & lev3\\\\\n",
       "\t NEUROG1 & MAML3  &  0.8707537 & 0.129246272 & -1.12875645 &  0.5249655 & 3.403921 & 0.37111119 & 0.68125739 & 1.736630e-06 &  28 &  13 &  47 &  277 & TRUE & FALSE & 539 & lev3\\\\\n",
       "\t NEUROG1 & MEF2C  &  0.8507371 & 0.149262864 & -3.36475141 &  3.2790285 & 6.020716 & 0.24142611 & 0.08977080 & 5.211778e-05 &   0 &   0 &  28 &  174 & TRUE & FALSE & 539 & lev3\\\\\n",
       "\t NEUROG1 & MYT1   & -0.8621385 & 0.137861541 & -1.01368610 & -0.2975204 & 5.768915 & 0.68255937 & 0.89640182 & 7.977172e-09 &   7 &   2 &   5 &  256 & TRUE & FALSE & 539 & lev3\\\\\n",
       "\t NEUROG1 & MYT1L  &  0.9809500 & 0.019049992 &  0.03255222 &  0.5141626 & 2.935981 & 0.99893057 & 0.77365234 & 2.733817e-03 &   5 &   8 &  12 &   59 & TRUE & FALSE & 539 & lev3\\\\\n",
       "\t NEUROG1 & PAX6   & -0.8354846 & 0.164515440 & -0.82201666 &  0.2225106 & 3.200247 & 0.82325780 & 0.94130854 & 3.028417e-02 &   5 &   3 &   7 &   55 & TRUE & FALSE & 539 & lev3\\\\\n",
       "\t NEUROG1 & RORA   & -0.9526933 & 0.047306714 &  0.47126498 &  0.6080620 & 2.047648 & 0.82977118 & 0.67585612 & 2.302845e-02 &  34 &  36 &  42 &   98 & TRUE & FALSE & 539 & lev3\\\\\n",
       "\t NEUROG1 & SIX1   &  0.9863244 & 0.013675630 &  0.17694785 & -1.9413795 & 7.260153 & 0.94758054 & 0.11322215 & 1.273018e-28 &   8 &   8 &   2 &  921 & TRUE & FALSE & 539 & lev3\\\\\n",
       "\t NEUROG1 & SSBP2  &  0.8726381 & 0.127361933 & -0.81790231 &  0.3186308 & 2.573405 & 0.17852063 & 0.64535205 & 1.797793e-11 & 130 &  53 & 119 &  538 & TRUE & FALSE & 539 & lev3\\\\\n",
       "\t NEUROG2 & ARX    & -0.8494374 & 0.150562607 &  2.84636144 &  3.9455376 & 5.116799 & 0.44342751 & 0.16232431 & 2.256249e-02 &   0 &   3 &   7 &   14 & TRUE & FALSE & 207 & lev3\\\\\n",
       "\t NEUROG2 & BTG1   &  0.9643878 & 0.035612167 &  0.48522019 &  0.3744812 & 1.241116 & 0.24519645 & 0.35304221 & 3.431690e-06 & 445 & 694 & 641 &  923 & TRUE & FALSE & 207 & lev3\\\\\n",
       "\t NEUROG2 & CASZ1  &  0.9481788 & 0.051821169 & -1.10372204 &  0.5747946 & 2.082050 & 0.56178808 & 0.73938018 & 4.911382e-02 &  27 &   8 &  29 &   76 & TRUE & FALSE & 207 & lev3\\\\\n",
       "\t NEUROG2 & CBFB   &  0.9089765 & 0.091023485 &  0.40514723 &  0.4671792 & 1.854964 & 0.52026316 & 0.34906771 & 1.124080e-08 & 307 & 389 & 429 &  923 & TRUE & FALSE & 207 & lev3\\\\\n",
       "\t NEUROG2 & DIP2C  &  0.9135615 & 0.086438453 & -0.02857920 &  0.3695593 & 2.236420 & 0.99836635 & 0.80155743 & 6.284674e-03 &  84 &  64 &  92 &  286 & TRUE & FALSE & 207 & lev3\\\\\n",
       "\t NEUROG2 & ELAVL2 &  0.9270084 & 0.072991637 & -0.51249934 &  1.2795345 & 5.446960 & 0.68927706 & 0.08871051 & 4.457495e-24 &  65 &  40 & 163 & 2223 & TRUE & FALSE & 207 & lev3\\\\\n",
       "\t NEUROG2 & GTF2B  &  0.8151924 & 0.184807563 &  1.08109828 &  0.5894460 & 1.244473 & 0.09810339 & 0.41938047 & 1.444856e-02 & 116 & 255 & 199 &  251 & TRUE & FALSE & 207 & lev3\\\\\n",
       "\t NEUROG2 & HDAC5  &  0.8951019 & 0.104898092 & -0.06546504 &  0.5163047 & 1.514638 & 0.96309427 & 0.32125193 & 1.783828e-05 & 120 & 102 & 159 &  279 & TRUE & FALSE & 207 & lev3\\\\\n",
       "\t NEUROG2 & KAT2B  & -0.8872340 & 0.112766004 & -0.62799208 &  0.3702730 & 2.893458 & 0.86355620 & 0.88891141 & 3.963486e-02 &  11 &   8 &  22 &   73 & TRUE & FALSE & 207 & lev3\\\\\n",
       "\t NEUROG2 & KLF12  &  0.8980180 & 0.101982038 &  0.92154959 &  0.6942953 & 2.106188 & 0.43896102 & 0.52525032 & 2.728186e-03 &  25 & 118 &  93 &  248 & TRUE & FALSE & 207 & lev3\\\\\n",
       "\t NEUROG2 & KLF7   &  0.9982503 & 0.001749670 & -0.01445852 &  0.5362762 & 1.861693 & 0.99727049 & 0.29627848 & 6.354278e-08 & 124 & 172 & 272 &  583 & TRUE & FALSE & 207 & lev3\\\\\n",
       "\t NEUROG2 & MEIS2  &  0.8250737 & 0.174926315 &  0.90604304 & -1.6160302 & 3.498057 & 0.80663619 & 0.56051381 & 2.318192e-02 &   0 &   4 &   0 &   28 & TRUE & FALSE & 207 & lev3\\\\\n",
       "\t NEUROG2 & MYT1   &  0.9816427 & 0.018357253 & -1.01368610 & -0.2975204 & 5.768915 & 0.68255937 & 0.89640182 & 7.977172e-09 &   7 &   2 &   5 &  256 & TRUE & FALSE & 207 & lev3\\\\\n",
       "\t NEUROG2 & MYT1L  &  0.9683864 & 0.031613571 &  0.03255222 &  0.5141626 & 2.935981 & 0.99893057 & 0.77365234 & 2.733817e-03 &   5 &   8 &  12 &   59 & TRUE & FALSE & 207 & lev3\\\\\n",
       "\t NEUROG2 & NFIA   &  0.8603614 & 0.139638553 &  0.25473244 &  1.0785559 & 1.187099 & 0.86179026 & 0.11451990 & 3.778576e-02 &  45 &  63 & 110 &  111 & TRUE & FALSE & 207 & lev3\\\\\n",
       "\t NEUROG2 & NKX6-2 & -0.8929382 & 0.107061797 & -0.27200119 &  2.0146344 & 3.986713 & 0.95651440 & 0.28639045 & 3.539474e-03 &  41 &  48 & 189 &  827 & TRUE & FALSE & 207 & lev3\\\\\n",
       "\t NEUROG2 & NPAS3  &  0.9974646 & 0.002535424 &  1.25186860 &  0.8957054 & 4.018330 & 0.76096282 & 0.78365667 & 3.094568e-02 &   0 &   4 &   5 &   35 & TRUE & FALSE & 207 & lev3\\\\\n",
       "\t NEUROG2 & PAX6   & -0.8354846 & 0.164515440 & -0.82201666 &  0.2225106 & 3.200247 & 0.82325780 & 0.94130854 & 3.028417e-02 &   5 &   3 &   7 &   55 & TRUE & FALSE & 207 & lev3\\\\\n",
       "\t ⋮ & ⋮ & ⋮ & ⋮ & ⋮ & ⋮ & ⋮ & ⋮ & ⋮ & ⋮ & ⋮ & ⋮ & ⋮ & ⋮ & ⋮ & ⋮ & ⋮ & ⋮\\\\\n",
       "\t ZNF75D & KMT2E  &  0.9489518 & 0.051048249 &  0.180637991 &  0.28985175 & 1.427255 & 0.82228459 & 0.56816866 & 2.700447e-06 & 206 & 260 & 269 &  506 & FALSE & FALSE & 729 & lev3\\\\\n",
       "\t ZNF75D & LHX4   & -0.9267722 & 0.073227763 & -1.287887774 & -1.18483502 & 3.795125 & 0.62602521 & 0.57763433 & 2.364031e-03 &   6 &   2 &   3 &   86 & FALSE &  TRUE & 729 & lev3\\\\\n",
       "\t ZNF75D & MAML3  &  0.8805398 & 0.119460243 & -1.128756451 &  0.52496545 & 3.403921 & 0.37111119 & 0.68125739 & 1.736630e-06 &  28 &  13 &  47 &  277 & FALSE & FALSE & 729 & lev3\\\\\n",
       "\t ZNF75D & MEF2C  &  0.9150439 & 0.084956053 & -3.364751406 &  3.27902853 & 6.020716 & 0.24142611 & 0.08977080 & 5.211778e-05 &   0 &   0 &  28 &  174 & FALSE & FALSE & 729 & lev3\\\\\n",
       "\t ZNF75D & MYT1L  & -0.8951799 & 0.104820109 &  0.032552221 &  0.51416258 & 2.935981 & 0.99893057 & 0.77365234 & 2.733817e-03 &   5 &   8 &  12 &   59 & FALSE & FALSE & 729 & lev3\\\\\n",
       "\t ZNF75D & NCOA1  &  0.8709908 & 0.129009214 &  1.018002731 &  0.42914476 & 1.941386 & 0.30371755 & 0.69488473 & 2.451406e-03 &  85 & 148 & 121 &  243 & FALSE & FALSE & 729 & lev3\\\\\n",
       "\t ZNF75D & NKX6-2 & -0.8929382 & 0.107061797 & -0.272001194 &  2.01463437 & 3.986713 & 0.95651440 & 0.28639045 & 3.539474e-03 &  41 &  48 & 189 &  827 & FALSE & FALSE & 729 & lev3\\\\\n",
       "\t ZNF75D & NPAS3  &  0.8062716 & 0.193728429 &  1.251868604 &  0.89570544 & 4.018330 & 0.76096282 & 0.78365667 & 3.094568e-02 &   0 &   4 &   5 &   35 & FALSE & FALSE & 729 & lev3\\\\\n",
       "\t ZNF75D & PBX4   & -0.8490901 & 0.150909886 &  1.036882918 &  0.46556326 & 4.096796 & 0.77659689 & 0.87948125 & 8.608218e-03 &   6 &   8 &   6 &   62 & FALSE & FALSE & 729 & lev3\\\\\n",
       "\t ZNF75D & PHF21A &  0.9884672 & 0.011532763 &  0.833957188 &  0.63710155 & 1.191215 & 0.09748577 & 0.21223770 & 1.613691e-03 &  75 & 172 & 155 &  201 & FALSE & FALSE & 729 & lev3\\\\\n",
       "\t ZNF75D & POLR1E &  0.8253292 & 0.174670846 & -0.068886398 &  0.07775341 & 1.046761 & 0.96227024 & 0.92161549 & 7.690168e-03 & 173 & 152 & 161 &  312 & FALSE & FALSE & 729 & lev3\\\\\n",
       "\t ZNF75D & POU3F3 &  0.8837189 & 0.116281069 &  3.183001297 &  1.75824540 & 7.049930 & 0.50274112 & 0.71442544 & 7.690168e-03 &   0 &   1 &   0 &   15 & FALSE & FALSE & 729 & lev3\\\\\n",
       "\t ZNF75D & PRDM6  & -0.8341067 & 0.165893321 &  4.893437838 &  0.00000000 & 6.852073 & 0.23227398 & 1.00000000 & 1.692200e-02 &   0 &   5 &   0 &   15 & FALSE &  TRUE & 729 & lev3\\\\\n",
       "\t ZNF75D & PROX1  &  0.9859350 & 0.014064974 & -0.054414212 &  2.31461471 & 3.418580 & 0.99601775 & 0.13121324 & 4.310877e-03 &   5 &   5 &  26 &   50 & FALSE & FALSE & 729 & lev3\\\\\n",
       "\t ZNF75D & PYGO1  &  0.9236828 & 0.076317156 &  2.789965109 &  2.22936487 & 4.794998 & 0.08126872 & 0.16610636 & 4.629582e-05 &   3 &  41 &  35 &  148 & FALSE & FALSE & 729 & lev3\\\\\n",
       "\t ZNF75D & RB1    &  0.9949973 & 0.005002715 &  0.611249819 &  0.52130745 & 1.673178 & 0.63915978 & 0.62319971 & 1.297581e-02 & 174 & 347 & 365 &  633 & FALSE & FALSE & 729 & lev3\\\\\n",
       "\t ZNF75D & SATB2  & -0.8063493 & 0.193650684 &  0.674633718 &  0.62909807 & 2.907965 & 0.72900180 & 0.67405664 & 8.202713e-04 &  16 &  24 &  28 &  106 & FALSE & FALSE & 729 & lev3\\\\\n",
       "\t ZNF75D & SCML2  &  0.8571201 & 0.142879884 & -0.344672365 &  0.21661708 & 1.383166 & 0.59283891 & 0.70576067 & 1.669320e-05 & 299 & 287 & 449 &  898 & FALSE & FALSE & 729 & lev3\\\\\n",
       "\t ZNF75D & SIRT2  & -0.8916603 & 0.108339660 & -0.341380033 & -0.02168585 & 2.819098 & 0.85661603 & 0.99163146 & 1.677397e-05 &  33 &  21 &  29 &  152 & FALSE & FALSE & 729 & lev3\\\\\n",
       "\t ZNF75D & SSBP2  & -0.8095335 & 0.190466520 & -0.817902310 &  0.31863082 & 2.573405 & 0.17852063 & 0.64535205 & 1.797793e-11 & 130 &  53 & 119 &  538 & FALSE & FALSE & 729 & lev3\\\\\n",
       "\t ZNF75D & SSBP3  &  0.8416246 & 0.158375370 & -0.244885485 &  0.36244450 & 1.775435 & 0.67892447 & 0.38393888 & 1.284297e-11 & 538 & 468 & 812 & 1672 & FALSE & FALSE & 729 & lev3\\\\\n",
       "\t ZNF75D & TBX3   & -0.9095301 & 0.090469911 & -1.454579633 &  0.80465469 & 6.901386 & 0.70408800 & 0.78380080 & 7.157882e-08 &   0 &   0 &   1 &   52 & FALSE & FALSE & 729 & lev3\\\\\n",
       "\t ZNF75D & TLE1   &  0.9591698 & 0.040830235 & -0.315926032 &  0.09770991 & 1.909410 & 0.41129433 & 0.81666800 & 3.867156e-20 & 571 & 639 & 899 & 2621 & FALSE & FALSE & 729 & lev3\\\\\n",
       "\t ZNF75D & TSG101 & -0.9424011 & 0.057598946 &  0.399426011 &  0.38154840 & 1.089299 & 0.05666731 & 0.05743041 & 5.242140e-13 & 657 & 991 & 991 & 1384 & FALSE & FALSE & 729 & lev3\\\\\n",
       "\t ZNF75D & TSHZ2  &  0.8235173 & 0.176482671 &  0.087169232 &  1.54378916 & 3.607676 & 0.98450724 & 0.21103929 & 2.428051e-05 &   4 &   3 &  10 &   37 & FALSE & FALSE & 729 & lev3\\\\\n",
       "\t ZNF75D & TULP4  & -0.9809630 & 0.019036975 & -0.095237463 &  0.40520716 & 2.429147 & 0.96416642 & 0.65959476 & 3.635554e-06 & 134 & 113 & 187 &  596 & FALSE & FALSE & 729 & lev3\\\\\n",
       "\t ZNF75D & ZNF248 &  0.9593985 & 0.040601520 &  0.615336138 &  0.34640484 & 1.687707 & 0.67551760 & 0.78863921 & 2.331370e-02 &  77 & 105 & 101 &  229 & FALSE & FALSE & 729 & lev3\\\\\n",
       "\t ZNF75D & ZNF708 &  0.9864810 & 0.013519013 & -0.002340671 & -0.23600561 & 1.238306 & 1.00000000 & 0.81308947 & 3.087320e-02 & 113 & 155 & 150 &  321 & FALSE & FALSE & 729 & lev3\\\\\n",
       "\t ZNF75D & ZNF83  & -0.9544487 & 0.045551321 & -0.094925607 &  0.09315394 & 1.803219 & 0.97329983 & 0.95237922 & 1.568195e-02 &  53 &  42 &  49 &  148 & FALSE & FALSE & 729 & lev3\\\\\n",
       "\t ZNF75D & ZNF862 & -0.9553459 & 0.044654146 & -1.960248356 &  1.21134023 & 3.716424 & 0.51749416 & 0.55043650 & 2.969966e-03 &   0 &   0 &   5 &   25 & FALSE & FALSE & 729 & lev3\\\\\n",
       "\\end{tabular}\n"
      ],
      "text/markdown": [
       "\n",
       "A tibble: 1004 × 18\n",
       "\n",
       "| regulator_gene &lt;chr&gt; | target_gene &lt;chr&gt; | corr &lt;dbl&gt; | cor_p &lt;dbl&gt; | l2fc.H16 &lt;dbl&gt; | l2fc.D1 &lt;dbl&gt; | l2fc.D4 &lt;dbl&gt; | fdr.H16 &lt;dbl&gt; | fdr.D1 &lt;dbl&gt; | fdr.D4 &lt;dbl&gt; | tar.cnt.ES &lt;int&gt; | tar.cnt.H16 &lt;int&gt; | tar.cnt.D1 &lt;int&gt; | tar.cnt.D4 &lt;int&gt; | reg.isHit &lt;lgl&gt; | tar.isHit &lt;lgl&gt; | reg.cnt.sum &lt;dbl&gt; | lev &lt;chr&gt; |\n",
       "|---|---|---|---|---|---|---|---|---|---|---|---|---|---|---|---|---|---|\n",
       "| NEUROG1 | CASZ1  |  0.9491921 | 0.050807886 | -1.10372204 |  0.5747946 | 2.082050 | 0.56178808 | 0.73938018 | 4.911382e-02 |  27 |   8 |  29 |   76 | TRUE | FALSE | 539 | lev3 |\n",
       "| NEUROG1 | CBFB   |  0.9546171 | 0.045382920 |  0.40514723 |  0.4671792 | 1.854964 | 0.52026316 | 0.34906771 | 1.124080e-08 | 307 | 389 | 429 |  923 | TRUE | FALSE | 539 | lev3 |\n",
       "| NEUROG1 | ESRRG  |  0.8793330 | 0.120667016 |  0.69731594 |  1.8804745 | 2.889741 | 0.83248842 | 0.29323364 | 3.285278e-02 |  10 |   9 |  21 |   43 | TRUE | FALSE | 539 | lev3 |\n",
       "| NEUROG1 | KLF12  |  0.9060244 | 0.093975637 |  0.92154959 |  0.6942953 | 2.106188 | 0.43896102 | 0.52525032 | 2.728186e-03 |  25 | 118 |  93 |  248 | TRUE | FALSE | 539 | lev3 |\n",
       "| NEUROG1 | MAML3  |  0.8707537 | 0.129246272 | -1.12875645 |  0.5249655 | 3.403921 | 0.37111119 | 0.68125739 | 1.736630e-06 |  28 |  13 |  47 |  277 | TRUE | FALSE | 539 | lev3 |\n",
       "| NEUROG1 | MEF2C  |  0.8507371 | 0.149262864 | -3.36475141 |  3.2790285 | 6.020716 | 0.24142611 | 0.08977080 | 5.211778e-05 |   0 |   0 |  28 |  174 | TRUE | FALSE | 539 | lev3 |\n",
       "| NEUROG1 | MYT1   | -0.8621385 | 0.137861541 | -1.01368610 | -0.2975204 | 5.768915 | 0.68255937 | 0.89640182 | 7.977172e-09 |   7 |   2 |   5 |  256 | TRUE | FALSE | 539 | lev3 |\n",
       "| NEUROG1 | MYT1L  |  0.9809500 | 0.019049992 |  0.03255222 |  0.5141626 | 2.935981 | 0.99893057 | 0.77365234 | 2.733817e-03 |   5 |   8 |  12 |   59 | TRUE | FALSE | 539 | lev3 |\n",
       "| NEUROG1 | PAX6   | -0.8354846 | 0.164515440 | -0.82201666 |  0.2225106 | 3.200247 | 0.82325780 | 0.94130854 | 3.028417e-02 |   5 |   3 |   7 |   55 | TRUE | FALSE | 539 | lev3 |\n",
       "| NEUROG1 | RORA   | -0.9526933 | 0.047306714 |  0.47126498 |  0.6080620 | 2.047648 | 0.82977118 | 0.67585612 | 2.302845e-02 |  34 |  36 |  42 |   98 | TRUE | FALSE | 539 | lev3 |\n",
       "| NEUROG1 | SIX1   |  0.9863244 | 0.013675630 |  0.17694785 | -1.9413795 | 7.260153 | 0.94758054 | 0.11322215 | 1.273018e-28 |   8 |   8 |   2 |  921 | TRUE | FALSE | 539 | lev3 |\n",
       "| NEUROG1 | SSBP2  |  0.8726381 | 0.127361933 | -0.81790231 |  0.3186308 | 2.573405 | 0.17852063 | 0.64535205 | 1.797793e-11 | 130 |  53 | 119 |  538 | TRUE | FALSE | 539 | lev3 |\n",
       "| NEUROG2 | ARX    | -0.8494374 | 0.150562607 |  2.84636144 |  3.9455376 | 5.116799 | 0.44342751 | 0.16232431 | 2.256249e-02 |   0 |   3 |   7 |   14 | TRUE | FALSE | 207 | lev3 |\n",
       "| NEUROG2 | BTG1   |  0.9643878 | 0.035612167 |  0.48522019 |  0.3744812 | 1.241116 | 0.24519645 | 0.35304221 | 3.431690e-06 | 445 | 694 | 641 |  923 | TRUE | FALSE | 207 | lev3 |\n",
       "| NEUROG2 | CASZ1  |  0.9481788 | 0.051821169 | -1.10372204 |  0.5747946 | 2.082050 | 0.56178808 | 0.73938018 | 4.911382e-02 |  27 |   8 |  29 |   76 | TRUE | FALSE | 207 | lev3 |\n",
       "| NEUROG2 | CBFB   |  0.9089765 | 0.091023485 |  0.40514723 |  0.4671792 | 1.854964 | 0.52026316 | 0.34906771 | 1.124080e-08 | 307 | 389 | 429 |  923 | TRUE | FALSE | 207 | lev3 |\n",
       "| NEUROG2 | DIP2C  |  0.9135615 | 0.086438453 | -0.02857920 |  0.3695593 | 2.236420 | 0.99836635 | 0.80155743 | 6.284674e-03 |  84 |  64 |  92 |  286 | TRUE | FALSE | 207 | lev3 |\n",
       "| NEUROG2 | ELAVL2 |  0.9270084 | 0.072991637 | -0.51249934 |  1.2795345 | 5.446960 | 0.68927706 | 0.08871051 | 4.457495e-24 |  65 |  40 | 163 | 2223 | TRUE | FALSE | 207 | lev3 |\n",
       "| NEUROG2 | GTF2B  |  0.8151924 | 0.184807563 |  1.08109828 |  0.5894460 | 1.244473 | 0.09810339 | 0.41938047 | 1.444856e-02 | 116 | 255 | 199 |  251 | TRUE | FALSE | 207 | lev3 |\n",
       "| NEUROG2 | HDAC5  |  0.8951019 | 0.104898092 | -0.06546504 |  0.5163047 | 1.514638 | 0.96309427 | 0.32125193 | 1.783828e-05 | 120 | 102 | 159 |  279 | TRUE | FALSE | 207 | lev3 |\n",
       "| NEUROG2 | KAT2B  | -0.8872340 | 0.112766004 | -0.62799208 |  0.3702730 | 2.893458 | 0.86355620 | 0.88891141 | 3.963486e-02 |  11 |   8 |  22 |   73 | TRUE | FALSE | 207 | lev3 |\n",
       "| NEUROG2 | KLF12  |  0.8980180 | 0.101982038 |  0.92154959 |  0.6942953 | 2.106188 | 0.43896102 | 0.52525032 | 2.728186e-03 |  25 | 118 |  93 |  248 | TRUE | FALSE | 207 | lev3 |\n",
       "| NEUROG2 | KLF7   |  0.9982503 | 0.001749670 | -0.01445852 |  0.5362762 | 1.861693 | 0.99727049 | 0.29627848 | 6.354278e-08 | 124 | 172 | 272 |  583 | TRUE | FALSE | 207 | lev3 |\n",
       "| NEUROG2 | MEIS2  |  0.8250737 | 0.174926315 |  0.90604304 | -1.6160302 | 3.498057 | 0.80663619 | 0.56051381 | 2.318192e-02 |   0 |   4 |   0 |   28 | TRUE | FALSE | 207 | lev3 |\n",
       "| NEUROG2 | MYT1   |  0.9816427 | 0.018357253 | -1.01368610 | -0.2975204 | 5.768915 | 0.68255937 | 0.89640182 | 7.977172e-09 |   7 |   2 |   5 |  256 | TRUE | FALSE | 207 | lev3 |\n",
       "| NEUROG2 | MYT1L  |  0.9683864 | 0.031613571 |  0.03255222 |  0.5141626 | 2.935981 | 0.99893057 | 0.77365234 | 2.733817e-03 |   5 |   8 |  12 |   59 | TRUE | FALSE | 207 | lev3 |\n",
       "| NEUROG2 | NFIA   |  0.8603614 | 0.139638553 |  0.25473244 |  1.0785559 | 1.187099 | 0.86179026 | 0.11451990 | 3.778576e-02 |  45 |  63 | 110 |  111 | TRUE | FALSE | 207 | lev3 |\n",
       "| NEUROG2 | NKX6-2 | -0.8929382 | 0.107061797 | -0.27200119 |  2.0146344 | 3.986713 | 0.95651440 | 0.28639045 | 3.539474e-03 |  41 |  48 | 189 |  827 | TRUE | FALSE | 207 | lev3 |\n",
       "| NEUROG2 | NPAS3  |  0.9974646 | 0.002535424 |  1.25186860 |  0.8957054 | 4.018330 | 0.76096282 | 0.78365667 | 3.094568e-02 |   0 |   4 |   5 |   35 | TRUE | FALSE | 207 | lev3 |\n",
       "| NEUROG2 | PAX6   | -0.8354846 | 0.164515440 | -0.82201666 |  0.2225106 | 3.200247 | 0.82325780 | 0.94130854 | 3.028417e-02 |   5 |   3 |   7 |   55 | TRUE | FALSE | 207 | lev3 |\n",
       "| ⋮ | ⋮ | ⋮ | ⋮ | ⋮ | ⋮ | ⋮ | ⋮ | ⋮ | ⋮ | ⋮ | ⋮ | ⋮ | ⋮ | ⋮ | ⋮ | ⋮ | ⋮ |\n",
       "| ZNF75D | KMT2E  |  0.9489518 | 0.051048249 |  0.180637991 |  0.28985175 | 1.427255 | 0.82228459 | 0.56816866 | 2.700447e-06 | 206 | 260 | 269 |  506 | FALSE | FALSE | 729 | lev3 |\n",
       "| ZNF75D | LHX4   | -0.9267722 | 0.073227763 | -1.287887774 | -1.18483502 | 3.795125 | 0.62602521 | 0.57763433 | 2.364031e-03 |   6 |   2 |   3 |   86 | FALSE |  TRUE | 729 | lev3 |\n",
       "| ZNF75D | MAML3  |  0.8805398 | 0.119460243 | -1.128756451 |  0.52496545 | 3.403921 | 0.37111119 | 0.68125739 | 1.736630e-06 |  28 |  13 |  47 |  277 | FALSE | FALSE | 729 | lev3 |\n",
       "| ZNF75D | MEF2C  |  0.9150439 | 0.084956053 | -3.364751406 |  3.27902853 | 6.020716 | 0.24142611 | 0.08977080 | 5.211778e-05 |   0 |   0 |  28 |  174 | FALSE | FALSE | 729 | lev3 |\n",
       "| ZNF75D | MYT1L  | -0.8951799 | 0.104820109 |  0.032552221 |  0.51416258 | 2.935981 | 0.99893057 | 0.77365234 | 2.733817e-03 |   5 |   8 |  12 |   59 | FALSE | FALSE | 729 | lev3 |\n",
       "| ZNF75D | NCOA1  |  0.8709908 | 0.129009214 |  1.018002731 |  0.42914476 | 1.941386 | 0.30371755 | 0.69488473 | 2.451406e-03 |  85 | 148 | 121 |  243 | FALSE | FALSE | 729 | lev3 |\n",
       "| ZNF75D | NKX6-2 | -0.8929382 | 0.107061797 | -0.272001194 |  2.01463437 | 3.986713 | 0.95651440 | 0.28639045 | 3.539474e-03 |  41 |  48 | 189 |  827 | FALSE | FALSE | 729 | lev3 |\n",
       "| ZNF75D | NPAS3  |  0.8062716 | 0.193728429 |  1.251868604 |  0.89570544 | 4.018330 | 0.76096282 | 0.78365667 | 3.094568e-02 |   0 |   4 |   5 |   35 | FALSE | FALSE | 729 | lev3 |\n",
       "| ZNF75D | PBX4   | -0.8490901 | 0.150909886 |  1.036882918 |  0.46556326 | 4.096796 | 0.77659689 | 0.87948125 | 8.608218e-03 |   6 |   8 |   6 |   62 | FALSE | FALSE | 729 | lev3 |\n",
       "| ZNF75D | PHF21A |  0.9884672 | 0.011532763 |  0.833957188 |  0.63710155 | 1.191215 | 0.09748577 | 0.21223770 | 1.613691e-03 |  75 | 172 | 155 |  201 | FALSE | FALSE | 729 | lev3 |\n",
       "| ZNF75D | POLR1E |  0.8253292 | 0.174670846 | -0.068886398 |  0.07775341 | 1.046761 | 0.96227024 | 0.92161549 | 7.690168e-03 | 173 | 152 | 161 |  312 | FALSE | FALSE | 729 | lev3 |\n",
       "| ZNF75D | POU3F3 |  0.8837189 | 0.116281069 |  3.183001297 |  1.75824540 | 7.049930 | 0.50274112 | 0.71442544 | 7.690168e-03 |   0 |   1 |   0 |   15 | FALSE | FALSE | 729 | lev3 |\n",
       "| ZNF75D | PRDM6  | -0.8341067 | 0.165893321 |  4.893437838 |  0.00000000 | 6.852073 | 0.23227398 | 1.00000000 | 1.692200e-02 |   0 |   5 |   0 |   15 | FALSE |  TRUE | 729 | lev3 |\n",
       "| ZNF75D | PROX1  |  0.9859350 | 0.014064974 | -0.054414212 |  2.31461471 | 3.418580 | 0.99601775 | 0.13121324 | 4.310877e-03 |   5 |   5 |  26 |   50 | FALSE | FALSE | 729 | lev3 |\n",
       "| ZNF75D | PYGO1  |  0.9236828 | 0.076317156 |  2.789965109 |  2.22936487 | 4.794998 | 0.08126872 | 0.16610636 | 4.629582e-05 |   3 |  41 |  35 |  148 | FALSE | FALSE | 729 | lev3 |\n",
       "| ZNF75D | RB1    |  0.9949973 | 0.005002715 |  0.611249819 |  0.52130745 | 1.673178 | 0.63915978 | 0.62319971 | 1.297581e-02 | 174 | 347 | 365 |  633 | FALSE | FALSE | 729 | lev3 |\n",
       "| ZNF75D | SATB2  | -0.8063493 | 0.193650684 |  0.674633718 |  0.62909807 | 2.907965 | 0.72900180 | 0.67405664 | 8.202713e-04 |  16 |  24 |  28 |  106 | FALSE | FALSE | 729 | lev3 |\n",
       "| ZNF75D | SCML2  |  0.8571201 | 0.142879884 | -0.344672365 |  0.21661708 | 1.383166 | 0.59283891 | 0.70576067 | 1.669320e-05 | 299 | 287 | 449 |  898 | FALSE | FALSE | 729 | lev3 |\n",
       "| ZNF75D | SIRT2  | -0.8916603 | 0.108339660 | -0.341380033 | -0.02168585 | 2.819098 | 0.85661603 | 0.99163146 | 1.677397e-05 |  33 |  21 |  29 |  152 | FALSE | FALSE | 729 | lev3 |\n",
       "| ZNF75D | SSBP2  | -0.8095335 | 0.190466520 | -0.817902310 |  0.31863082 | 2.573405 | 0.17852063 | 0.64535205 | 1.797793e-11 | 130 |  53 | 119 |  538 | FALSE | FALSE | 729 | lev3 |\n",
       "| ZNF75D | SSBP3  |  0.8416246 | 0.158375370 | -0.244885485 |  0.36244450 | 1.775435 | 0.67892447 | 0.38393888 | 1.284297e-11 | 538 | 468 | 812 | 1672 | FALSE | FALSE | 729 | lev3 |\n",
       "| ZNF75D | TBX3   | -0.9095301 | 0.090469911 | -1.454579633 |  0.80465469 | 6.901386 | 0.70408800 | 0.78380080 | 7.157882e-08 |   0 |   0 |   1 |   52 | FALSE | FALSE | 729 | lev3 |\n",
       "| ZNF75D | TLE1   |  0.9591698 | 0.040830235 | -0.315926032 |  0.09770991 | 1.909410 | 0.41129433 | 0.81666800 | 3.867156e-20 | 571 | 639 | 899 | 2621 | FALSE | FALSE | 729 | lev3 |\n",
       "| ZNF75D | TSG101 | -0.9424011 | 0.057598946 |  0.399426011 |  0.38154840 | 1.089299 | 0.05666731 | 0.05743041 | 5.242140e-13 | 657 | 991 | 991 | 1384 | FALSE | FALSE | 729 | lev3 |\n",
       "| ZNF75D | TSHZ2  |  0.8235173 | 0.176482671 |  0.087169232 |  1.54378916 | 3.607676 | 0.98450724 | 0.21103929 | 2.428051e-05 |   4 |   3 |  10 |   37 | FALSE | FALSE | 729 | lev3 |\n",
       "| ZNF75D | TULP4  | -0.9809630 | 0.019036975 | -0.095237463 |  0.40520716 | 2.429147 | 0.96416642 | 0.65959476 | 3.635554e-06 | 134 | 113 | 187 |  596 | FALSE | FALSE | 729 | lev3 |\n",
       "| ZNF75D | ZNF248 |  0.9593985 | 0.040601520 |  0.615336138 |  0.34640484 | 1.687707 | 0.67551760 | 0.78863921 | 2.331370e-02 |  77 | 105 | 101 |  229 | FALSE | FALSE | 729 | lev3 |\n",
       "| ZNF75D | ZNF708 |  0.9864810 | 0.013519013 | -0.002340671 | -0.23600561 | 1.238306 | 1.00000000 | 0.81308947 | 3.087320e-02 | 113 | 155 | 150 |  321 | FALSE | FALSE | 729 | lev3 |\n",
       "| ZNF75D | ZNF83  | -0.9544487 | 0.045551321 | -0.094925607 |  0.09315394 | 1.803219 | 0.97329983 | 0.95237922 | 1.568195e-02 |  53 |  42 |  49 |  148 | FALSE | FALSE | 729 | lev3 |\n",
       "| ZNF75D | ZNF862 | -0.9553459 | 0.044654146 | -1.960248356 |  1.21134023 | 3.716424 | 0.51749416 | 0.55043650 | 2.969966e-03 |   0 |   0 |   5 |   25 | FALSE | FALSE | 729 | lev3 |\n",
       "\n"
      ],
      "text/plain": [
       "     regulator_gene target_gene corr       cor_p       l2fc.H16     l2fc.D1    \n",
       "1    NEUROG1        CASZ1        0.9491921 0.050807886 -1.10372204   0.5747946 \n",
       "2    NEUROG1        CBFB         0.9546171 0.045382920  0.40514723   0.4671792 \n",
       "3    NEUROG1        ESRRG        0.8793330 0.120667016  0.69731594   1.8804745 \n",
       "4    NEUROG1        KLF12        0.9060244 0.093975637  0.92154959   0.6942953 \n",
       "5    NEUROG1        MAML3        0.8707537 0.129246272 -1.12875645   0.5249655 \n",
       "6    NEUROG1        MEF2C        0.8507371 0.149262864 -3.36475141   3.2790285 \n",
       "7    NEUROG1        MYT1        -0.8621385 0.137861541 -1.01368610  -0.2975204 \n",
       "8    NEUROG1        MYT1L        0.9809500 0.019049992  0.03255222   0.5141626 \n",
       "9    NEUROG1        PAX6        -0.8354846 0.164515440 -0.82201666   0.2225106 \n",
       "10   NEUROG1        RORA        -0.9526933 0.047306714  0.47126498   0.6080620 \n",
       "11   NEUROG1        SIX1         0.9863244 0.013675630  0.17694785  -1.9413795 \n",
       "12   NEUROG1        SSBP2        0.8726381 0.127361933 -0.81790231   0.3186308 \n",
       "13   NEUROG2        ARX         -0.8494374 0.150562607  2.84636144   3.9455376 \n",
       "14   NEUROG2        BTG1         0.9643878 0.035612167  0.48522019   0.3744812 \n",
       "15   NEUROG2        CASZ1        0.9481788 0.051821169 -1.10372204   0.5747946 \n",
       "16   NEUROG2        CBFB         0.9089765 0.091023485  0.40514723   0.4671792 \n",
       "17   NEUROG2        DIP2C        0.9135615 0.086438453 -0.02857920   0.3695593 \n",
       "18   NEUROG2        ELAVL2       0.9270084 0.072991637 -0.51249934   1.2795345 \n",
       "19   NEUROG2        GTF2B        0.8151924 0.184807563  1.08109828   0.5894460 \n",
       "20   NEUROG2        HDAC5        0.8951019 0.104898092 -0.06546504   0.5163047 \n",
       "21   NEUROG2        KAT2B       -0.8872340 0.112766004 -0.62799208   0.3702730 \n",
       "22   NEUROG2        KLF12        0.8980180 0.101982038  0.92154959   0.6942953 \n",
       "23   NEUROG2        KLF7         0.9982503 0.001749670 -0.01445852   0.5362762 \n",
       "24   NEUROG2        MEIS2        0.8250737 0.174926315  0.90604304  -1.6160302 \n",
       "25   NEUROG2        MYT1         0.9816427 0.018357253 -1.01368610  -0.2975204 \n",
       "26   NEUROG2        MYT1L        0.9683864 0.031613571  0.03255222   0.5141626 \n",
       "27   NEUROG2        NFIA         0.8603614 0.139638553  0.25473244   1.0785559 \n",
       "28   NEUROG2        NKX6-2      -0.8929382 0.107061797 -0.27200119   2.0146344 \n",
       "29   NEUROG2        NPAS3        0.9974646 0.002535424  1.25186860   0.8957054 \n",
       "30   NEUROG2        PAX6        -0.8354846 0.164515440 -0.82201666   0.2225106 \n",
       "⋮    ⋮              ⋮           ⋮          ⋮           ⋮            ⋮          \n",
       "975  ZNF75D         KMT2E        0.9489518 0.051048249  0.180637991  0.28985175\n",
       "976  ZNF75D         LHX4        -0.9267722 0.073227763 -1.287887774 -1.18483502\n",
       "977  ZNF75D         MAML3        0.8805398 0.119460243 -1.128756451  0.52496545\n",
       "978  ZNF75D         MEF2C        0.9150439 0.084956053 -3.364751406  3.27902853\n",
       "979  ZNF75D         MYT1L       -0.8951799 0.104820109  0.032552221  0.51416258\n",
       "980  ZNF75D         NCOA1        0.8709908 0.129009214  1.018002731  0.42914476\n",
       "981  ZNF75D         NKX6-2      -0.8929382 0.107061797 -0.272001194  2.01463437\n",
       "982  ZNF75D         NPAS3        0.8062716 0.193728429  1.251868604  0.89570544\n",
       "983  ZNF75D         PBX4        -0.8490901 0.150909886  1.036882918  0.46556326\n",
       "984  ZNF75D         PHF21A       0.9884672 0.011532763  0.833957188  0.63710155\n",
       "985  ZNF75D         POLR1E       0.8253292 0.174670846 -0.068886398  0.07775341\n",
       "986  ZNF75D         POU3F3       0.8837189 0.116281069  3.183001297  1.75824540\n",
       "987  ZNF75D         PRDM6       -0.8341067 0.165893321  4.893437838  0.00000000\n",
       "988  ZNF75D         PROX1        0.9859350 0.014064974 -0.054414212  2.31461471\n",
       "989  ZNF75D         PYGO1        0.9236828 0.076317156  2.789965109  2.22936487\n",
       "990  ZNF75D         RB1          0.9949973 0.005002715  0.611249819  0.52130745\n",
       "991  ZNF75D         SATB2       -0.8063493 0.193650684  0.674633718  0.62909807\n",
       "992  ZNF75D         SCML2        0.8571201 0.142879884 -0.344672365  0.21661708\n",
       "993  ZNF75D         SIRT2       -0.8916603 0.108339660 -0.341380033 -0.02168585\n",
       "994  ZNF75D         SSBP2       -0.8095335 0.190466520 -0.817902310  0.31863082\n",
       "995  ZNF75D         SSBP3        0.8416246 0.158375370 -0.244885485  0.36244450\n",
       "996  ZNF75D         TBX3        -0.9095301 0.090469911 -1.454579633  0.80465469\n",
       "997  ZNF75D         TLE1         0.9591698 0.040830235 -0.315926032  0.09770991\n",
       "998  ZNF75D         TSG101      -0.9424011 0.057598946  0.399426011  0.38154840\n",
       "999  ZNF75D         TSHZ2        0.8235173 0.176482671  0.087169232  1.54378916\n",
       "1000 ZNF75D         TULP4       -0.9809630 0.019036975 -0.095237463  0.40520716\n",
       "1001 ZNF75D         ZNF248       0.9593985 0.040601520  0.615336138  0.34640484\n",
       "1002 ZNF75D         ZNF708       0.9864810 0.013519013 -0.002340671 -0.23600561\n",
       "1003 ZNF75D         ZNF83       -0.9544487 0.045551321 -0.094925607  0.09315394\n",
       "1004 ZNF75D         ZNF862      -0.9553459 0.044654146 -1.960248356  1.21134023\n",
       "     l2fc.D4  fdr.H16    fdr.D1     fdr.D4       tar.cnt.ES tar.cnt.H16\n",
       "1    2.082050 0.56178808 0.73938018 4.911382e-02  27          8        \n",
       "2    1.854964 0.52026316 0.34906771 1.124080e-08 307        389        \n",
       "3    2.889741 0.83248842 0.29323364 3.285278e-02  10          9        \n",
       "4    2.106188 0.43896102 0.52525032 2.728186e-03  25        118        \n",
       "5    3.403921 0.37111119 0.68125739 1.736630e-06  28         13        \n",
       "6    6.020716 0.24142611 0.08977080 5.211778e-05   0          0        \n",
       "7    5.768915 0.68255937 0.89640182 7.977172e-09   7          2        \n",
       "8    2.935981 0.99893057 0.77365234 2.733817e-03   5          8        \n",
       "9    3.200247 0.82325780 0.94130854 3.028417e-02   5          3        \n",
       "10   2.047648 0.82977118 0.67585612 2.302845e-02  34         36        \n",
       "11   7.260153 0.94758054 0.11322215 1.273018e-28   8          8        \n",
       "12   2.573405 0.17852063 0.64535205 1.797793e-11 130         53        \n",
       "13   5.116799 0.44342751 0.16232431 2.256249e-02   0          3        \n",
       "14   1.241116 0.24519645 0.35304221 3.431690e-06 445        694        \n",
       "15   2.082050 0.56178808 0.73938018 4.911382e-02  27          8        \n",
       "16   1.854964 0.52026316 0.34906771 1.124080e-08 307        389        \n",
       "17   2.236420 0.99836635 0.80155743 6.284674e-03  84         64        \n",
       "18   5.446960 0.68927706 0.08871051 4.457495e-24  65         40        \n",
       "19   1.244473 0.09810339 0.41938047 1.444856e-02 116        255        \n",
       "20   1.514638 0.96309427 0.32125193 1.783828e-05 120        102        \n",
       "21   2.893458 0.86355620 0.88891141 3.963486e-02  11          8        \n",
       "22   2.106188 0.43896102 0.52525032 2.728186e-03  25        118        \n",
       "23   1.861693 0.99727049 0.29627848 6.354278e-08 124        172        \n",
       "24   3.498057 0.80663619 0.56051381 2.318192e-02   0          4        \n",
       "25   5.768915 0.68255937 0.89640182 7.977172e-09   7          2        \n",
       "26   2.935981 0.99893057 0.77365234 2.733817e-03   5          8        \n",
       "27   1.187099 0.86179026 0.11451990 3.778576e-02  45         63        \n",
       "28   3.986713 0.95651440 0.28639045 3.539474e-03  41         48        \n",
       "29   4.018330 0.76096282 0.78365667 3.094568e-02   0          4        \n",
       "30   3.200247 0.82325780 0.94130854 3.028417e-02   5          3        \n",
       "⋮    ⋮        ⋮          ⋮          ⋮            ⋮          ⋮          \n",
       "975  1.427255 0.82228459 0.56816866 2.700447e-06 206        260        \n",
       "976  3.795125 0.62602521 0.57763433 2.364031e-03   6          2        \n",
       "977  3.403921 0.37111119 0.68125739 1.736630e-06  28         13        \n",
       "978  6.020716 0.24142611 0.08977080 5.211778e-05   0          0        \n",
       "979  2.935981 0.99893057 0.77365234 2.733817e-03   5          8        \n",
       "980  1.941386 0.30371755 0.69488473 2.451406e-03  85        148        \n",
       "981  3.986713 0.95651440 0.28639045 3.539474e-03  41         48        \n",
       "982  4.018330 0.76096282 0.78365667 3.094568e-02   0          4        \n",
       "983  4.096796 0.77659689 0.87948125 8.608218e-03   6          8        \n",
       "984  1.191215 0.09748577 0.21223770 1.613691e-03  75        172        \n",
       "985  1.046761 0.96227024 0.92161549 7.690168e-03 173        152        \n",
       "986  7.049930 0.50274112 0.71442544 7.690168e-03   0          1        \n",
       "987  6.852073 0.23227398 1.00000000 1.692200e-02   0          5        \n",
       "988  3.418580 0.99601775 0.13121324 4.310877e-03   5          5        \n",
       "989  4.794998 0.08126872 0.16610636 4.629582e-05   3         41        \n",
       "990  1.673178 0.63915978 0.62319971 1.297581e-02 174        347        \n",
       "991  2.907965 0.72900180 0.67405664 8.202713e-04  16         24        \n",
       "992  1.383166 0.59283891 0.70576067 1.669320e-05 299        287        \n",
       "993  2.819098 0.85661603 0.99163146 1.677397e-05  33         21        \n",
       "994  2.573405 0.17852063 0.64535205 1.797793e-11 130         53        \n",
       "995  1.775435 0.67892447 0.38393888 1.284297e-11 538        468        \n",
       "996  6.901386 0.70408800 0.78380080 7.157882e-08   0          0        \n",
       "997  1.909410 0.41129433 0.81666800 3.867156e-20 571        639        \n",
       "998  1.089299 0.05666731 0.05743041 5.242140e-13 657        991        \n",
       "999  3.607676 0.98450724 0.21103929 2.428051e-05   4          3        \n",
       "1000 2.429147 0.96416642 0.65959476 3.635554e-06 134        113        \n",
       "1001 1.687707 0.67551760 0.78863921 2.331370e-02  77        105        \n",
       "1002 1.238306 1.00000000 0.81308947 3.087320e-02 113        155        \n",
       "1003 1.803219 0.97329983 0.95237922 1.568195e-02  53         42        \n",
       "1004 3.716424 0.51749416 0.55043650 2.969966e-03   0          0        \n",
       "     tar.cnt.D1 tar.cnt.D4 reg.isHit tar.isHit reg.cnt.sum lev \n",
       "1     29          76       TRUE      FALSE     539         lev3\n",
       "2    429         923       TRUE      FALSE     539         lev3\n",
       "3     21          43       TRUE      FALSE     539         lev3\n",
       "4     93         248       TRUE      FALSE     539         lev3\n",
       "5     47         277       TRUE      FALSE     539         lev3\n",
       "6     28         174       TRUE      FALSE     539         lev3\n",
       "7      5         256       TRUE      FALSE     539         lev3\n",
       "8     12          59       TRUE      FALSE     539         lev3\n",
       "9      7          55       TRUE      FALSE     539         lev3\n",
       "10    42          98       TRUE      FALSE     539         lev3\n",
       "11     2         921       TRUE      FALSE     539         lev3\n",
       "12   119         538       TRUE      FALSE     539         lev3\n",
       "13     7          14       TRUE      FALSE     207         lev3\n",
       "14   641         923       TRUE      FALSE     207         lev3\n",
       "15    29          76       TRUE      FALSE     207         lev3\n",
       "16   429         923       TRUE      FALSE     207         lev3\n",
       "17    92         286       TRUE      FALSE     207         lev3\n",
       "18   163        2223       TRUE      FALSE     207         lev3\n",
       "19   199         251       TRUE      FALSE     207         lev3\n",
       "20   159         279       TRUE      FALSE     207         lev3\n",
       "21    22          73       TRUE      FALSE     207         lev3\n",
       "22    93         248       TRUE      FALSE     207         lev3\n",
       "23   272         583       TRUE      FALSE     207         lev3\n",
       "24     0          28       TRUE      FALSE     207         lev3\n",
       "25     5         256       TRUE      FALSE     207         lev3\n",
       "26    12          59       TRUE      FALSE     207         lev3\n",
       "27   110         111       TRUE      FALSE     207         lev3\n",
       "28   189         827       TRUE      FALSE     207         lev3\n",
       "29     5          35       TRUE      FALSE     207         lev3\n",
       "30     7          55       TRUE      FALSE     207         lev3\n",
       "⋮    ⋮          ⋮          ⋮         ⋮         ⋮           ⋮   \n",
       "975  269         506       FALSE     FALSE     729         lev3\n",
       "976    3          86       FALSE      TRUE     729         lev3\n",
       "977   47         277       FALSE     FALSE     729         lev3\n",
       "978   28         174       FALSE     FALSE     729         lev3\n",
       "979   12          59       FALSE     FALSE     729         lev3\n",
       "980  121         243       FALSE     FALSE     729         lev3\n",
       "981  189         827       FALSE     FALSE     729         lev3\n",
       "982    5          35       FALSE     FALSE     729         lev3\n",
       "983    6          62       FALSE     FALSE     729         lev3\n",
       "984  155         201       FALSE     FALSE     729         lev3\n",
       "985  161         312       FALSE     FALSE     729         lev3\n",
       "986    0          15       FALSE     FALSE     729         lev3\n",
       "987    0          15       FALSE      TRUE     729         lev3\n",
       "988   26          50       FALSE     FALSE     729         lev3\n",
       "989   35         148       FALSE     FALSE     729         lev3\n",
       "990  365         633       FALSE     FALSE     729         lev3\n",
       "991   28         106       FALSE     FALSE     729         lev3\n",
       "992  449         898       FALSE     FALSE     729         lev3\n",
       "993   29         152       FALSE     FALSE     729         lev3\n",
       "994  119         538       FALSE     FALSE     729         lev3\n",
       "995  812        1672       FALSE     FALSE     729         lev3\n",
       "996    1          52       FALSE     FALSE     729         lev3\n",
       "997  899        2621       FALSE     FALSE     729         lev3\n",
       "998  991        1384       FALSE     FALSE     729         lev3\n",
       "999   10          37       FALSE     FALSE     729         lev3\n",
       "1000 187         596       FALSE     FALSE     729         lev3\n",
       "1001 101         229       FALSE     FALSE     729         lev3\n",
       "1002 150         321       FALSE     FALSE     729         lev3\n",
       "1003  49         148       FALSE     FALSE     729         lev3\n",
       "1004   5          25       FALSE     FALSE     729         lev3"
      ]
     },
     "metadata": {},
     "output_type": "display_data"
    }
   ],
   "source": [
    "NGN.started.network.df %>% filter( lev == \"lev3\") %>% select(-(atac.ES:tar.ge.D4), -(reg.cnt.ES:reg.cnt.D4), -(reg.l2fc.H16:reg.fdr.D4))"
   ]
  },
  {
   "cell_type": "code",
   "execution_count": null,
   "metadata": {},
   "outputs": [],
   "source": []
  },
  {
   "cell_type": "code",
   "execution_count": null,
   "metadata": {},
   "outputs": [],
   "source": []
  },
  {
   "cell_type": "code",
   "execution_count": null,
   "metadata": {},
   "outputs": [],
   "source": []
  },
  {
   "cell_type": "code",
   "execution_count": null,
   "metadata": {},
   "outputs": [],
   "source": []
  },
  {
   "cell_type": "code",
   "execution_count": null,
   "metadata": {},
   "outputs": [],
   "source": []
  },
  {
   "cell_type": "markdown",
   "metadata": {
    "heading_collapsed": true
   },
   "source": [
    "---\n",
    "\n",
    "## Find TF targets or regulators\n",
    "\n",
    "Current method: \n",
    "\n",
    "1. Use `motifMatch` to match motif to each of the 116K peaks (each peak has its respective read counts).\n",
    "2. Select only ranges that have a match to motifs\n",
    "3. Get the read counts of a given regulator or target:\n",
    "    - For a given regulator, get read counts of all the peaks (ranges) that has this binding motif, sum normalized counts\n",
    "    - For a given target, get read counts of all the peaks (ranges) that ca bind to the motif, sum normalized counts"
   ]
  },
  {
   "cell_type": "markdown",
   "metadata": {
    "hidden": true
   },
   "source": [
    "---"
   ]
  },
  {
   "cell_type": "markdown",
   "metadata": {
    "hidden": true
   },
   "source": [
    "---\n",
    "\n",
    "## Differential analysis on targets:"
   ]
  },
  {
   "cell_type": "code",
   "execution_count": 19,
   "metadata": {
    "ExecuteTime": {
     "end_time": "2019-11-17T17:35:09.566180Z",
     "start_time": "2019-11-17T17:35:06.134Z"
    },
    "hidden": true
   },
   "outputs": [],
   "source": [
    "library(DESeq2)"
   ]
  },
  {
   "cell_type": "code",
   "execution_count": 158,
   "metadata": {
    "ExecuteTime": {
     "end_time": "2019-11-17T17:38:44.634585Z",
     "start_time": "2019-11-17T17:38:44.580Z"
    },
    "hidden": true
   },
   "outputs": [],
   "source": [
    "FOUND_TARGETS.deseq <- FOUND_TARGETS %>% mutate(\"tf.pair\" = paste(regulator,gene_name, sep = \":\")) %>%\n",
    "                select(tf.pair, A1:A12)"
   ]
  },
  {
   "cell_type": "code",
   "execution_count": 159,
   "metadata": {
    "ExecuteTime": {
     "end_time": "2019-11-17T17:41:23.040403Z",
     "start_time": "2019-11-17T17:41:22.971Z"
    },
    "hidden": true
   },
   "outputs": [
    {
     "data": {
      "text/html": [
       "<table>\n",
       "<caption>A tibble: 6 × 13</caption>\n",
       "<thead>\n",
       "\t<tr><th scope=col>tf.pair</th><th scope=col>A1</th><th scope=col>A2</th><th scope=col>A3</th><th scope=col>A4</th><th scope=col>A5</th><th scope=col>A6</th><th scope=col>A7</th><th scope=col>A8</th><th scope=col>A9</th><th scope=col>A10</th><th scope=col>A11</th><th scope=col>A12</th></tr>\n",
       "\t<tr><th scope=col>&lt;chr&gt;</th><th scope=col>&lt;dbl&gt;</th><th scope=col>&lt;dbl&gt;</th><th scope=col>&lt;dbl&gt;</th><th scope=col>&lt;dbl&gt;</th><th scope=col>&lt;dbl&gt;</th><th scope=col>&lt;dbl&gt;</th><th scope=col>&lt;dbl&gt;</th><th scope=col>&lt;dbl&gt;</th><th scope=col>&lt;dbl&gt;</th><th scope=col>&lt;dbl&gt;</th><th scope=col>&lt;dbl&gt;</th><th scope=col>&lt;dbl&gt;</th></tr>\n",
       "</thead>\n",
       "<tbody>\n",
       "\t<tr><td>NEUROG2:ABL1 </td><td> 59.612027</td><td> 60.728975</td><td> 49.15846</td><td> 69.372078</td><td> 52.360238</td><td> 53.93496</td><td> 41.17851</td><td> 54.68986</td><td> 44.86193</td><td> 52.234566</td><td> 61.353611</td><td> 63.027849</td></tr>\n",
       "\t<tr><td>NEUROG2:AEBP2</td><td> 12.656092</td><td>  9.656551</td><td> 13.60999</td><td>  6.383934</td><td>  7.993929</td><td> 11.54743</td><td> 16.51793</td><td> 11.85229</td><td> 10.38811</td><td>  6.512002</td><td>  4.893233</td><td>  4.563102</td></tr>\n",
       "\t<tr><td>NEUROG2:AFF1 </td><td> 26.229292</td><td> 33.261453</td><td> 31.89206</td><td> 38.516399</td><td> 26.979512</td><td> 30.55845</td><td> 25.59116</td><td> 26.92163</td><td> 28.22257</td><td> 27.710645</td><td> 24.340696</td><td> 23.671093</td></tr>\n",
       "\t<tr><td>NEUROG2:AFF3 </td><td>135.915421</td><td>142.487772</td><td>137.31866</td><td>144.276899</td><td>141.292702</td><td>140.68152</td><td>146.56756</td><td>165.25480</td><td>153.06377</td><td>153.655526</td><td>150.686477</td><td>160.991950</td></tr>\n",
       "\t<tr><td>NEUROG2:AHR  </td><td> 28.063508</td><td> 36.265713</td><td> 36.36101</td><td> 39.367591</td><td> 35.173289</td><td> 28.16447</td><td> 30.01145</td><td> 16.25457</td><td> 32.08364</td><td> 23.554048</td><td> 11.417543</td><td> 11.122562</td></tr>\n",
       "\t<tr><td>NEUROG2:ALX3 </td><td>  8.070551</td><td> 14.806711</td><td> 11.98491</td><td> 12.129474</td><td> 12.990135</td><td> 13.51894</td><td> 14.65676</td><td>  7.61933</td><td> 10.93969</td><td> 10.945705</td><td>  8.029920</td><td>  9.553995</td></tr>\n",
       "</tbody>\n",
       "</table>\n"
      ],
      "text/latex": [
       "A tibble: 6 × 13\n",
       "\\begin{tabular}{r|lllllllllllll}\n",
       " tf.pair & A1 & A2 & A3 & A4 & A5 & A6 & A7 & A8 & A9 & A10 & A11 & A12\\\\\n",
       " <chr> & <dbl> & <dbl> & <dbl> & <dbl> & <dbl> & <dbl> & <dbl> & <dbl> & <dbl> & <dbl> & <dbl> & <dbl>\\\\\n",
       "\\hline\n",
       "\t NEUROG2:ABL1  &  59.612027 &  60.728975 &  49.15846 &  69.372078 &  52.360238 &  53.93496 &  41.17851 &  54.68986 &  44.86193 &  52.234566 &  61.353611 &  63.027849\\\\\n",
       "\t NEUROG2:AEBP2 &  12.656092 &   9.656551 &  13.60999 &   6.383934 &   7.993929 &  11.54743 &  16.51793 &  11.85229 &  10.38811 &   6.512002 &   4.893233 &   4.563102\\\\\n",
       "\t NEUROG2:AFF1  &  26.229292 &  33.261453 &  31.89206 &  38.516399 &  26.979512 &  30.55845 &  25.59116 &  26.92163 &  28.22257 &  27.710645 &  24.340696 &  23.671093\\\\\n",
       "\t NEUROG2:AFF3  & 135.915421 & 142.487772 & 137.31866 & 144.276899 & 141.292702 & 140.68152 & 146.56756 & 165.25480 & 153.06377 & 153.655526 & 150.686477 & 160.991950\\\\\n",
       "\t NEUROG2:AHR   &  28.063508 &  36.265713 &  36.36101 &  39.367591 &  35.173289 &  28.16447 &  30.01145 &  16.25457 &  32.08364 &  23.554048 &  11.417543 &  11.122562\\\\\n",
       "\t NEUROG2:ALX3  &   8.070551 &  14.806711 &  11.98491 &  12.129474 &  12.990135 &  13.51894 &  14.65676 &   7.61933 &  10.93969 &  10.945705 &   8.029920 &   9.553995\\\\\n",
       "\\end{tabular}\n"
      ],
      "text/markdown": [
       "\n",
       "A tibble: 6 × 13\n",
       "\n",
       "| tf.pair &lt;chr&gt; | A1 &lt;dbl&gt; | A2 &lt;dbl&gt; | A3 &lt;dbl&gt; | A4 &lt;dbl&gt; | A5 &lt;dbl&gt; | A6 &lt;dbl&gt; | A7 &lt;dbl&gt; | A8 &lt;dbl&gt; | A9 &lt;dbl&gt; | A10 &lt;dbl&gt; | A11 &lt;dbl&gt; | A12 &lt;dbl&gt; |\n",
       "|---|---|---|---|---|---|---|---|---|---|---|---|---|\n",
       "| NEUROG2:ABL1  |  59.612027 |  60.728975 |  49.15846 |  69.372078 |  52.360238 |  53.93496 |  41.17851 |  54.68986 |  44.86193 |  52.234566 |  61.353611 |  63.027849 |\n",
       "| NEUROG2:AEBP2 |  12.656092 |   9.656551 |  13.60999 |   6.383934 |   7.993929 |  11.54743 |  16.51793 |  11.85229 |  10.38811 |   6.512002 |   4.893233 |   4.563102 |\n",
       "| NEUROG2:AFF1  |  26.229292 |  33.261453 |  31.89206 |  38.516399 |  26.979512 |  30.55845 |  25.59116 |  26.92163 |  28.22257 |  27.710645 |  24.340696 |  23.671093 |\n",
       "| NEUROG2:AFF3  | 135.915421 | 142.487772 | 137.31866 | 144.276899 | 141.292702 | 140.68152 | 146.56756 | 165.25480 | 153.06377 | 153.655526 | 150.686477 | 160.991950 |\n",
       "| NEUROG2:AHR   |  28.063508 |  36.265713 |  36.36101 |  39.367591 |  35.173289 |  28.16447 |  30.01145 |  16.25457 |  32.08364 |  23.554048 |  11.417543 |  11.122562 |\n",
       "| NEUROG2:ALX3  |   8.070551 |  14.806711 |  11.98491 |  12.129474 |  12.990135 |  13.51894 |  14.65676 |   7.61933 |  10.93969 |  10.945705 |   8.029920 |   9.553995 |\n",
       "\n"
      ],
      "text/plain": [
       "  tf.pair       A1         A2         A3        A4         A5         A6       \n",
       "1 NEUROG2:ABL1   59.612027  60.728975  49.15846  69.372078  52.360238  53.93496\n",
       "2 NEUROG2:AEBP2  12.656092   9.656551  13.60999   6.383934   7.993929  11.54743\n",
       "3 NEUROG2:AFF1   26.229292  33.261453  31.89206  38.516399  26.979512  30.55845\n",
       "4 NEUROG2:AFF3  135.915421 142.487772 137.31866 144.276899 141.292702 140.68152\n",
       "5 NEUROG2:AHR    28.063508  36.265713  36.36101  39.367591  35.173289  28.16447\n",
       "6 NEUROG2:ALX3    8.070551  14.806711  11.98491  12.129474  12.990135  13.51894\n",
       "  A7        A8        A9        A10        A11        A12       \n",
       "1  41.17851  54.68986  44.86193  52.234566  61.353611  63.027849\n",
       "2  16.51793  11.85229  10.38811   6.512002   4.893233   4.563102\n",
       "3  25.59116  26.92163  28.22257  27.710645  24.340696  23.671093\n",
       "4 146.56756 165.25480 153.06377 153.655526 150.686477 160.991950\n",
       "5  30.01145  16.25457  32.08364  23.554048  11.417543  11.122562\n",
       "6  14.65676   7.61933  10.93969  10.945705   8.029920   9.553995"
      ]
     },
     "metadata": {},
     "output_type": "display_data"
    }
   ],
   "source": [
    "head(FOUND_TARGETS.deseq)"
   ]
  },
  {
   "cell_type": "code",
   "execution_count": 160,
   "metadata": {
    "ExecuteTime": {
     "end_time": "2019-11-17T17:41:18.773406Z",
     "start_time": "2019-11-17T17:41:18.726Z"
    },
    "hidden": true
   },
   "outputs": [],
   "source": [
    "FOUND_TARGETS.deseq[,2:13] <- apply(FOUND_TARGETS.deseq[,2:13], 2, as.integer)"
   ]
  },
  {
   "cell_type": "code",
   "execution_count": 161,
   "metadata": {
    "ExecuteTime": {
     "end_time": "2019-11-17T17:46:10.311866Z",
     "start_time": "2019-11-17T17:46:10.271Z"
    },
    "hidden": true
   },
   "outputs": [],
   "source": [
    "sample.anno <- data.frame(\"sample\" = paste0(rep(\"A\",12),1:12), \n",
    "                          \"condition\" = c(rep(\"ES\",2), rep(\"H1\",2), rep(\"H4\",2), rep(\"H16\",2), rep(\"H24\",2), rep(\"D5\",2)))"
   ]
  },
  {
   "cell_type": "code",
   "execution_count": 162,
   "metadata": {
    "ExecuteTime": {
     "end_time": "2019-11-17T17:46:45.460399Z",
     "start_time": "2019-11-17T17:46:45.417Z"
    },
    "hidden": true
   },
   "outputs": [
    {
     "data": {
      "text/html": [
       "<table>\n",
       "<caption>A matrix: 2 × 12 of type chr</caption>\n",
       "<tbody>\n",
       "\t<tr><th scope=row>sample</th><td>A1</td><td>A2</td><td>A3</td><td>A4</td><td>A5</td><td>A6</td><td>A7 </td><td>A8 </td><td>A9 </td><td>A10</td><td>A11</td><td>A12</td></tr>\n",
       "\t<tr><th scope=row>condition</th><td>ES</td><td>ES</td><td>H1</td><td>H1</td><td>H4</td><td>H4</td><td>H16</td><td>H16</td><td>H24</td><td>H24</td><td>D5 </td><td>D5 </td></tr>\n",
       "</tbody>\n",
       "</table>\n"
      ],
      "text/latex": [
       "A matrix: 2 × 12 of type chr\n",
       "\\begin{tabular}{r|llllllllllll}\n",
       "\tsample & A1 & A2 & A3 & A4 & A5 & A6 & A7  & A8  & A9  & A10 & A11 & A12\\\\\n",
       "\tcondition & ES & ES & H1 & H1 & H4 & H4 & H16 & H16 & H24 & H24 & D5  & D5 \\\\\n",
       "\\end{tabular}\n"
      ],
      "text/markdown": [
       "\n",
       "A matrix: 2 × 12 of type chr\n",
       "\n",
       "| sample | A1 | A2 | A3 | A4 | A5 | A6 | A7  | A8  | A9  | A10 | A11 | A12 |\n",
       "| condition | ES | ES | H1 | H1 | H4 | H4 | H16 | H16 | H24 | H24 | D5  | D5  |\n",
       "\n"
      ],
      "text/plain": [
       "          [,1] [,2] [,3] [,4] [,5] [,6] [,7] [,8] [,9] [,10] [,11] [,12]\n",
       "sample    A1   A2   A3   A4   A5   A6   A7   A8   A9   A10   A11   A12  \n",
       "condition ES   ES   H1   H1   H4   H4   H16  H16  H24  H24   D5    D5   "
      ]
     },
     "metadata": {},
     "output_type": "display_data"
    }
   ],
   "source": [
    "sample.anno %>% t"
   ]
  },
  {
   "cell_type": "code",
   "execution_count": 163,
   "metadata": {
    "ExecuteTime": {
     "end_time": "2019-11-17T17:52:18.150812Z",
     "start_time": "2019-11-17T17:52:17.976Z"
    },
    "hidden": true
   },
   "outputs": [],
   "source": [
    "dds.targets <- DESeqDataSetFromMatrix(countData = FOUND_TARGETS.deseq[,2:13], colData = sample.anno, design = ~ condition)"
   ]
  },
  {
   "cell_type": "code",
   "execution_count": 164,
   "metadata": {
    "ExecuteTime": {
     "end_time": "2019-11-17T17:54:42.570911Z",
     "start_time": "2019-11-17T17:54:42.460Z"
    },
    "hidden": true
   },
   "outputs": [],
   "source": [
    "mcols(dds.targets) <- cbind(mcols(dds.targets), \"tf.pair\"=FOUND_TARGETS.deseq$tf.pair)"
   ]
  },
  {
   "cell_type": "code",
   "execution_count": 165,
   "metadata": {
    "ExecuteTime": {
     "end_time": "2019-11-17T17:55:32.881380Z",
     "start_time": "2019-11-17T17:55:31.214Z"
    },
    "hidden": true
   },
   "outputs": [
    {
     "name": "stderr",
     "output_type": "stream",
     "text": [
      "estimating size factors\n",
      "estimating dispersions\n",
      "gene-wise dispersion estimates\n",
      "mean-dispersion relationship\n",
      "-- note: fitType='parametric', but the dispersion trend was not well captured by the\n",
      "   function: y = a/x + b, and a local regression fit was automatically substituted.\n",
      "   specify fitType='local' or 'mean' to avoid this message next time.\n",
      "Warning message in lfproc(x, y, weights = weights, cens = cens, base = base, geth = geth, :\n",
      "“Estimated rdf < 1.0; not estimating variance”final dispersion estimates\n",
      "fitting model and testing\n"
     ]
    }
   ],
   "source": [
    "dds.targets <- DESeq(dds.targets)"
   ]
  },
  {
   "cell_type": "code",
   "execution_count": 166,
   "metadata": {
    "ExecuteTime": {
     "end_time": "2019-11-17T17:55:48.564578Z",
     "start_time": "2019-11-17T17:55:48.507Z"
    },
    "hidden": true
   },
   "outputs": [
    {
     "data": {
      "text/html": [
       "<ol class=list-inline>\n",
       "\t<li>'Intercept'</li>\n",
       "\t<li>'condition_ES_vs_D5'</li>\n",
       "\t<li>'condition_H1_vs_D5'</li>\n",
       "\t<li>'condition_H16_vs_D5'</li>\n",
       "\t<li>'condition_H24_vs_D5'</li>\n",
       "\t<li>'condition_H4_vs_D5'</li>\n",
       "</ol>\n"
      ],
      "text/latex": [
       "\\begin{enumerate*}\n",
       "\\item 'Intercept'\n",
       "\\item 'condition\\_ES\\_vs\\_D5'\n",
       "\\item 'condition\\_H1\\_vs\\_D5'\n",
       "\\item 'condition\\_H16\\_vs\\_D5'\n",
       "\\item 'condition\\_H24\\_vs\\_D5'\n",
       "\\item 'condition\\_H4\\_vs\\_D5'\n",
       "\\end{enumerate*}\n"
      ],
      "text/markdown": [
       "1. 'Intercept'\n",
       "2. 'condition_ES_vs_D5'\n",
       "3. 'condition_H1_vs_D5'\n",
       "4. 'condition_H16_vs_D5'\n",
       "5. 'condition_H24_vs_D5'\n",
       "6. 'condition_H4_vs_D5'\n",
       "\n",
       "\n"
      ],
      "text/plain": [
       "[1] \"Intercept\"           \"condition_ES_vs_D5\"  \"condition_H1_vs_D5\" \n",
       "[4] \"condition_H16_vs_D5\" \"condition_H24_vs_D5\" \"condition_H4_vs_D5\" "
      ]
     },
     "metadata": {},
     "output_type": "display_data"
    }
   ],
   "source": [
    "resultsNames(dds.targets)"
   ]
  },
  {
   "cell_type": "code",
   "execution_count": 169,
   "metadata": {
    "ExecuteTime": {
     "end_time": "2019-11-17T17:56:42.947735Z",
     "start_time": "2019-11-17T17:56:42.493Z"
    },
    "hidden": true
   },
   "outputs": [],
   "source": [
    "res.targets.a <- results(dds.targets, contrast = c(\"condition\", \"D5\", \"ES\"))"
   ]
  },
  {
   "cell_type": "code",
   "execution_count": 171,
   "metadata": {
    "ExecuteTime": {
     "end_time": "2019-11-17T18:05:07.626439Z",
     "start_time": "2019-11-17T18:05:07.447Z"
    },
    "hidden": true
   },
   "outputs": [
    {
     "data": {
      "text/html": [
       "<table>\n",
       "<caption>A data.frame: 235 × 7</caption>\n",
       "<thead>\n",
       "\t<tr><th scope=col>baseMean</th><th scope=col>log2FoldChange</th><th scope=col>lfcSE</th><th scope=col>stat</th><th scope=col>pvalue</th><th scope=col>padj</th><th scope=col>tf.pair</th></tr>\n",
       "\t<tr><th scope=col>&lt;dbl&gt;</th><th scope=col>&lt;dbl&gt;</th><th scope=col>&lt;dbl&gt;</th><th scope=col>&lt;dbl&gt;</th><th scope=col>&lt;dbl&gt;</th><th scope=col>&lt;dbl&gt;</th><th scope=col>&lt;chr&gt;</th></tr>\n",
       "</thead>\n",
       "<tbody>\n",
       "\t<tr><td>146.6622431</td><td> 0.4286594</td><td>0.1232722</td><td> 3.477340</td><td>5.064160e-04</td><td>4.088833e-03</td><td>NEUROG2:AFF3   </td></tr>\n",
       "\t<tr><td> 26.3350362</td><td>-1.2742763</td><td>0.3579525</td><td>-3.559904</td><td>3.709909e-04</td><td>3.238035e-03</td><td>NEUROG2:AHR    </td></tr>\n",
       "\t<tr><td>  8.0479035</td><td>-2.9036434</td><td>1.0757727</td><td>-2.699123</td><td>6.952240e-03</td><td>3.262962e-02</td><td>NEUROG2:ANKRD42</td></tr>\n",
       "\t<tr><td>  8.8090902</td><td> 1.6142051</td><td>0.5143416</td><td> 3.138391</td><td>1.698779e-03</td><td>1.012147e-02</td><td>NEUROG2:ANKS1A </td></tr>\n",
       "\t<tr><td> 47.6285014</td><td> 1.4059792</td><td>0.2286268</td><td> 6.149669</td><td>7.764504e-10</td><td>8.116781e-08</td><td>NEUROG2:ARID1A </td></tr>\n",
       "\t<tr><td> 20.2296244</td><td>-0.9561344</td><td>0.3533861</td><td>-2.705637</td><td>6.817353e-03</td><td>3.261186e-02</td><td>NEUROG2:ASCC3  </td></tr>\n",
       "\t<tr><td>  4.6876782</td><td> 2.1407404</td><td>0.6652061</td><td> 3.218161</td><td>1.290154e-03</td><td>8.228867e-03</td><td>NEUROG2:ATF3   </td></tr>\n",
       "\t<tr><td>  1.0132321</td><td> 4.7088744</td><td>1.5305313</td><td> 3.076627</td><td>2.093569e-03</td><td>1.197187e-02</td><td>NEUROG2:ATF6   </td></tr>\n",
       "\t<tr><td> 35.6538932</td><td> 0.6310421</td><td>0.2272533</td><td> 2.776823</td><td>5.489310e-03</td><td>2.772520e-02</td><td>NEUROG2:BAZ1B  </td></tr>\n",
       "\t<tr><td> 16.6357106</td><td>-1.1260717</td><td>0.4250101</td><td>-2.649518</td><td>8.060677e-03</td><td>3.612781e-02</td><td>NEUROG2:BIN1   </td></tr>\n",
       "\t<tr><td> 23.9641397</td><td> 0.8155940</td><td>0.2940181</td><td> 2.773958</td><td>5.537882e-03</td><td>2.782925e-02</td><td>NEUROG2:BRF1   </td></tr>\n",
       "\t<tr><td> 43.0085343</td><td> 1.3442559</td><td>0.2228734</td><td> 6.031477</td><td>1.624673e-09</td><td>1.277527e-07</td><td>NEUROG2:CDX1   </td></tr>\n",
       "\t<tr><td> 71.7559769</td><td> 0.8700040</td><td>0.1678055</td><td> 5.184598</td><td>2.164810e-07</td><td>7.179952e-06</td><td>NEUROG2:CHD2   </td></tr>\n",
       "\t<tr><td>  8.1233642</td><td>-3.2573037</td><td>1.0640245</td><td>-3.061305</td><td>2.203742e-03</td><td>1.238827e-02</td><td>NEUROG2:COIL   </td></tr>\n",
       "\t<tr><td> 80.4975813</td><td> 0.9075057</td><td>0.1627471</td><td> 5.576172</td><td>2.458687e-08</td><td>1.359108e-06</td><td>NEUROG2:CREB5  </td></tr>\n",
       "\t<tr><td> 21.4463328</td><td> 3.0736303</td><td>0.3753876</td><td> 8.187884</td><td>2.658584e-16</td><td>1.322646e-13</td><td>NEUROG2:CRTC1  </td></tr>\n",
       "\t<tr><td> 25.0991981</td><td> 1.0297938</td><td>0.2791177</td><td> 3.689461</td><td>2.247297e-04</td><td>2.236061e-03</td><td>NEUROG2:CSDE1  </td></tr>\n",
       "\t<tr><td> 23.9548273</td><td> 1.0985393</td><td>0.2833147</td><td> 3.877452</td><td>1.055561e-04</td><td>1.347966e-03</td><td>NEUROG2:CTDP1  </td></tr>\n",
       "\t<tr><td>  2.2530419</td><td> 3.1731445</td><td>1.0864754</td><td> 2.920586</td><td>3.493739e-03</td><td>1.879065e-02</td><td>NEUROG2:DDIT3  </td></tr>\n",
       "\t<tr><td> 26.3053281</td><td> 1.1546460</td><td>0.2630616</td><td> 4.389261</td><td>1.137367e-05</td><td>1.909856e-04</td><td>NEUROG2:DIP2C  </td></tr>\n",
       "\t<tr><td> 14.2386073</td><td>-2.0873776</td><td>0.5267847</td><td>-3.962487</td><td>7.417308e-05</td><td>9.840295e-04</td><td>NEUROG2:DMRT1  </td></tr>\n",
       "\t<tr><td>  6.3282580</td><td> 2.9667126</td><td>0.6334511</td><td> 4.683412</td><td>2.821380e-06</td><td>5.848486e-05</td><td>NEUROG2:DNMT1  </td></tr>\n",
       "\t<tr><td> 21.7196799</td><td> 1.0505104</td><td>0.3039375</td><td> 3.456336</td><td>5.475713e-04</td><td>4.223515e-03</td><td>NEUROG2:DPF3   </td></tr>\n",
       "\t<tr><td>  9.0338606</td><td> 3.5250052</td><td>0.5739339</td><td> 6.141831</td><td>8.157569e-10</td><td>8.116781e-08</td><td>NEUROG2:EED    </td></tr>\n",
       "\t<tr><td> 12.5411988</td><td>-1.9036648</td><td>0.5647834</td><td>-3.370610</td><td>7.500192e-04</td><td>5.527919e-03</td><td>NEUROG2:ELAVL2 </td></tr>\n",
       "\t<tr><td> 20.7264194</td><td>-1.2931627</td><td>0.3843276</td><td>-3.364741</td><td>7.661565e-04</td><td>5.564421e-03</td><td>NEUROG2:ELF2   </td></tr>\n",
       "\t<tr><td> 61.8832100</td><td> 1.2580083</td><td>0.1911206</td><td> 6.582274</td><td>4.633054e-11</td><td>7.683148e-09</td><td>NEUROG2:ELL    </td></tr>\n",
       "\t<tr><td>  0.8506744</td><td> 4.7088737</td><td>1.5305314</td><td> 3.076627</td><td>2.093574e-03</td><td>1.197187e-02</td><td>NEUROG2:EPAS1  </td></tr>\n",
       "\t<tr><td> 19.8381720</td><td> 1.0116833</td><td>0.3142074</td><td> 3.219795</td><td>1.282824e-03</td><td>8.228867e-03</td><td>NEUROG2:ESRRB  </td></tr>\n",
       "\t<tr><td> 18.4303515</td><td> 1.0873059</td><td>0.3311302</td><td> 3.283621</td><td>1.024828e-03</td><td>7.032438e-03</td><td>NEUROG2:ETS1   </td></tr>\n",
       "\t<tr><td>⋮</td><td>⋮</td><td>⋮</td><td>⋮</td><td>⋮</td><td>⋮</td><td>⋮</td></tr>\n",
       "\t<tr><td> 9.958473</td><td> 3.2662655</td><td>0.5419286</td><td> 6.027114</td><td>1.669131e-09</td><td>1.277527e-07</td><td>ZBTB18:PRRX2  </td></tr>\n",
       "\t<tr><td>55.893021</td><td> 0.7580943</td><td>0.1951500</td><td> 3.884675</td><td>1.024669e-04</td><td>1.341507e-03</td><td>ZBTB18:RAI1   </td></tr>\n",
       "\t<tr><td>16.166559</td><td> 0.9139855</td><td>0.3386151</td><td> 2.699187</td><td>6.950903e-03</td><td>3.262962e-02</td><td>ZBTB18:RBM15B </td></tr>\n",
       "\t<tr><td>52.399651</td><td> 1.0828887</td><td>0.1951682</td><td> 5.548488</td><td>2.881504e-08</td><td>1.469213e-06</td><td>ZBTB18:RBM7   </td></tr>\n",
       "\t<tr><td> 7.363498</td><td>-1.8712285</td><td>0.7154551</td><td>-2.615438</td><td>8.911308e-03</td><td>3.871944e-02</td><td>ZBTB18:RBMX   </td></tr>\n",
       "\t<tr><td>21.911648</td><td> 1.0032200</td><td>0.2939132</td><td> 3.413321</td><td>6.417628e-04</td><td>4.837530e-03</td><td>ZBTB18:RLF    </td></tr>\n",
       "\t<tr><td>71.077170</td><td>-0.5475739</td><td>0.1880331</td><td>-2.912114</td><td>3.589916e-03</td><td>1.920412e-02</td><td>ZBTB18:SETBP1 </td></tr>\n",
       "\t<tr><td> 3.612384</td><td> 2.1731547</td><td>0.8124621</td><td> 2.674777</td><td>7.477905e-03</td><td>3.390656e-02</td><td>ZBTB18:SHOX2  </td></tr>\n",
       "\t<tr><td> 7.733888</td><td> 3.0736142</td><td>0.6904603</td><td> 4.451544</td><td>8.525511e-06</td><td>1.542342e-04</td><td>ZBTB18:SMARCC1</td></tr>\n",
       "\t<tr><td>33.044148</td><td> 1.0736114</td><td>0.2437202</td><td> 4.405098</td><td>1.057362e-05</td><td>1.845746e-04</td><td>ZBTB18:SNAI2  </td></tr>\n",
       "\t<tr><td>51.171179</td><td> 1.0065977</td><td>0.2003232</td><td> 5.024868</td><td>5.037796e-07</td><td>1.432173e-05</td><td>ZBTB18:SOX6   </td></tr>\n",
       "\t<tr><td>33.501951</td><td>-1.0468863</td><td>0.2990678</td><td>-3.500498</td><td>4.643905e-04</td><td>3.850571e-03</td><td>ZBTB18:TCF7L1 </td></tr>\n",
       "\t<tr><td>27.780079</td><td> 0.8792375</td><td>0.2616983</td><td> 3.359738</td><td>7.801655e-04</td><td>5.625107e-03</td><td>ZBTB18:TCF7L2 </td></tr>\n",
       "\t<tr><td>96.588998</td><td> 1.1027270</td><td>0.1485746</td><td> 7.422042</td><td>1.153280e-13</td><td>2.868785e-11</td><td>ZBTB18:TEAD1  </td></tr>\n",
       "\t<tr><td>16.101167</td><td>-2.3966749</td><td>0.6345553</td><td>-3.776936</td><td>1.587693e-04</td><td>1.717125e-03</td><td>ZBTB18:THRB   </td></tr>\n",
       "\t<tr><td> 8.108433</td><td> 3.1731636</td><td>0.6278089</td><td> 5.054347</td><td>4.318667e-07</td><td>1.263845e-05</td><td>ZBTB18:TP73   </td></tr>\n",
       "\t<tr><td>30.141208</td><td> 0.7012094</td><td>0.2608639</td><td> 2.688028</td><td>7.187539e-03</td><td>3.341870e-02</td><td>ZBTB18:TRIM15 </td></tr>\n",
       "\t<tr><td> 7.393162</td><td> 1.7068420</td><td>0.6386539</td><td> 2.672562</td><td>7.527455e-03</td><td>3.390656e-02</td><td>ZBTB18:TRIP11 </td></tr>\n",
       "\t<tr><td>49.928352</td><td> 0.6001844</td><td>0.1996669</td><td> 3.005929</td><td>2.647710e-03</td><td>1.463595e-02</td><td>ZBTB18:TSHZ3  </td></tr>\n",
       "\t<tr><td>18.259516</td><td> 1.0963220</td><td>0.3484833</td><td> 3.145981</td><td>1.655306e-03</td><td>1.004286e-02</td><td>ZBTB18:WWTR1  </td></tr>\n",
       "\t<tr><td>16.139600</td><td> 1.0894012</td><td>0.3553784</td><td> 3.065468</td><td>2.173295e-03</td><td>1.235674e-02</td><td>ZBTB18:XRCC3  </td></tr>\n",
       "\t<tr><td>15.658935</td><td>-1.1056957</td><td>0.4131935</td><td>-2.675976</td><td>7.451209e-03</td><td>3.390656e-02</td><td>ZBTB18:ZBTB16 </td></tr>\n",
       "\t<tr><td>21.472000</td><td>-1.6463139</td><td>0.3949028</td><td>-4.168909</td><td>3.060611e-05</td><td>4.614104e-04</td><td>ZBTB18:ZBTB20 </td></tr>\n",
       "\t<tr><td>30.522894</td><td> 0.9784724</td><td>0.2688943</td><td> 3.638873</td><td>2.738334e-04</td><td>2.523943e-03</td><td>ZBTB18:ZDHHC9 </td></tr>\n",
       "\t<tr><td>29.200250</td><td> 0.8696115</td><td>0.2595417</td><td> 3.350566</td><td>8.064662e-04</td><td>5.772905e-03</td><td>ZBTB18:ZNF136 </td></tr>\n",
       "\t<tr><td> 2.409414</td><td> 2.5881942</td><td>0.9129858</td><td> 2.834868</td><td>4.584464e-03</td><td>2.375806e-02</td><td>ZBTB18:ZNF169 </td></tr>\n",
       "\t<tr><td> 6.169782</td><td> 2.4679033</td><td>0.7125759</td><td> 3.463355</td><td>5.334843e-04</td><td>4.147060e-03</td><td>ZBTB18:ZNF18  </td></tr>\n",
       "\t<tr><td>10.487847</td><td>-3.9816452</td><td>1.0471034</td><td>-3.802533</td><td>1.432242e-04</td><td>1.629858e-03</td><td>ZBTB18:ZNF253 </td></tr>\n",
       "\t<tr><td> 3.723992</td><td> 2.7256951</td><td>0.7848214</td><td> 3.473013</td><td>5.146498e-04</td><td>4.088833e-03</td><td>ZBTB18:ZNF254 </td></tr>\n",
       "\t<tr><td>33.896997</td><td> 0.6696029</td><td>0.2448346</td><td> 2.734919</td><td>6.239557e-03</td><td>3.085788e-02</td><td>ZBTB18:ZNF407 </td></tr>\n",
       "</tbody>\n",
       "</table>\n"
      ],
      "text/latex": [
       "A data.frame: 235 × 7\n",
       "\\begin{tabular}{r|lllllll}\n",
       " baseMean & log2FoldChange & lfcSE & stat & pvalue & padj & tf.pair\\\\\n",
       " <dbl> & <dbl> & <dbl> & <dbl> & <dbl> & <dbl> & <chr>\\\\\n",
       "\\hline\n",
       "\t 146.6622431 &  0.4286594 & 0.1232722 &  3.477340 & 5.064160e-04 & 4.088833e-03 & NEUROG2:AFF3   \\\\\n",
       "\t  26.3350362 & -1.2742763 & 0.3579525 & -3.559904 & 3.709909e-04 & 3.238035e-03 & NEUROG2:AHR    \\\\\n",
       "\t   8.0479035 & -2.9036434 & 1.0757727 & -2.699123 & 6.952240e-03 & 3.262962e-02 & NEUROG2:ANKRD42\\\\\n",
       "\t   8.8090902 &  1.6142051 & 0.5143416 &  3.138391 & 1.698779e-03 & 1.012147e-02 & NEUROG2:ANKS1A \\\\\n",
       "\t  47.6285014 &  1.4059792 & 0.2286268 &  6.149669 & 7.764504e-10 & 8.116781e-08 & NEUROG2:ARID1A \\\\\n",
       "\t  20.2296244 & -0.9561344 & 0.3533861 & -2.705637 & 6.817353e-03 & 3.261186e-02 & NEUROG2:ASCC3  \\\\\n",
       "\t   4.6876782 &  2.1407404 & 0.6652061 &  3.218161 & 1.290154e-03 & 8.228867e-03 & NEUROG2:ATF3   \\\\\n",
       "\t   1.0132321 &  4.7088744 & 1.5305313 &  3.076627 & 2.093569e-03 & 1.197187e-02 & NEUROG2:ATF6   \\\\\n",
       "\t  35.6538932 &  0.6310421 & 0.2272533 &  2.776823 & 5.489310e-03 & 2.772520e-02 & NEUROG2:BAZ1B  \\\\\n",
       "\t  16.6357106 & -1.1260717 & 0.4250101 & -2.649518 & 8.060677e-03 & 3.612781e-02 & NEUROG2:BIN1   \\\\\n",
       "\t  23.9641397 &  0.8155940 & 0.2940181 &  2.773958 & 5.537882e-03 & 2.782925e-02 & NEUROG2:BRF1   \\\\\n",
       "\t  43.0085343 &  1.3442559 & 0.2228734 &  6.031477 & 1.624673e-09 & 1.277527e-07 & NEUROG2:CDX1   \\\\\n",
       "\t  71.7559769 &  0.8700040 & 0.1678055 &  5.184598 & 2.164810e-07 & 7.179952e-06 & NEUROG2:CHD2   \\\\\n",
       "\t   8.1233642 & -3.2573037 & 1.0640245 & -3.061305 & 2.203742e-03 & 1.238827e-02 & NEUROG2:COIL   \\\\\n",
       "\t  80.4975813 &  0.9075057 & 0.1627471 &  5.576172 & 2.458687e-08 & 1.359108e-06 & NEUROG2:CREB5  \\\\\n",
       "\t  21.4463328 &  3.0736303 & 0.3753876 &  8.187884 & 2.658584e-16 & 1.322646e-13 & NEUROG2:CRTC1  \\\\\n",
       "\t  25.0991981 &  1.0297938 & 0.2791177 &  3.689461 & 2.247297e-04 & 2.236061e-03 & NEUROG2:CSDE1  \\\\\n",
       "\t  23.9548273 &  1.0985393 & 0.2833147 &  3.877452 & 1.055561e-04 & 1.347966e-03 & NEUROG2:CTDP1  \\\\\n",
       "\t   2.2530419 &  3.1731445 & 1.0864754 &  2.920586 & 3.493739e-03 & 1.879065e-02 & NEUROG2:DDIT3  \\\\\n",
       "\t  26.3053281 &  1.1546460 & 0.2630616 &  4.389261 & 1.137367e-05 & 1.909856e-04 & NEUROG2:DIP2C  \\\\\n",
       "\t  14.2386073 & -2.0873776 & 0.5267847 & -3.962487 & 7.417308e-05 & 9.840295e-04 & NEUROG2:DMRT1  \\\\\n",
       "\t   6.3282580 &  2.9667126 & 0.6334511 &  4.683412 & 2.821380e-06 & 5.848486e-05 & NEUROG2:DNMT1  \\\\\n",
       "\t  21.7196799 &  1.0505104 & 0.3039375 &  3.456336 & 5.475713e-04 & 4.223515e-03 & NEUROG2:DPF3   \\\\\n",
       "\t   9.0338606 &  3.5250052 & 0.5739339 &  6.141831 & 8.157569e-10 & 8.116781e-08 & NEUROG2:EED    \\\\\n",
       "\t  12.5411988 & -1.9036648 & 0.5647834 & -3.370610 & 7.500192e-04 & 5.527919e-03 & NEUROG2:ELAVL2 \\\\\n",
       "\t  20.7264194 & -1.2931627 & 0.3843276 & -3.364741 & 7.661565e-04 & 5.564421e-03 & NEUROG2:ELF2   \\\\\n",
       "\t  61.8832100 &  1.2580083 & 0.1911206 &  6.582274 & 4.633054e-11 & 7.683148e-09 & NEUROG2:ELL    \\\\\n",
       "\t   0.8506744 &  4.7088737 & 1.5305314 &  3.076627 & 2.093574e-03 & 1.197187e-02 & NEUROG2:EPAS1  \\\\\n",
       "\t  19.8381720 &  1.0116833 & 0.3142074 &  3.219795 & 1.282824e-03 & 8.228867e-03 & NEUROG2:ESRRB  \\\\\n",
       "\t  18.4303515 &  1.0873059 & 0.3311302 &  3.283621 & 1.024828e-03 & 7.032438e-03 & NEUROG2:ETS1   \\\\\n",
       "\t ⋮ & ⋮ & ⋮ & ⋮ & ⋮ & ⋮ & ⋮\\\\\n",
       "\t  9.958473 &  3.2662655 & 0.5419286 &  6.027114 & 1.669131e-09 & 1.277527e-07 & ZBTB18:PRRX2  \\\\\n",
       "\t 55.893021 &  0.7580943 & 0.1951500 &  3.884675 & 1.024669e-04 & 1.341507e-03 & ZBTB18:RAI1   \\\\\n",
       "\t 16.166559 &  0.9139855 & 0.3386151 &  2.699187 & 6.950903e-03 & 3.262962e-02 & ZBTB18:RBM15B \\\\\n",
       "\t 52.399651 &  1.0828887 & 0.1951682 &  5.548488 & 2.881504e-08 & 1.469213e-06 & ZBTB18:RBM7   \\\\\n",
       "\t  7.363498 & -1.8712285 & 0.7154551 & -2.615438 & 8.911308e-03 & 3.871944e-02 & ZBTB18:RBMX   \\\\\n",
       "\t 21.911648 &  1.0032200 & 0.2939132 &  3.413321 & 6.417628e-04 & 4.837530e-03 & ZBTB18:RLF    \\\\\n",
       "\t 71.077170 & -0.5475739 & 0.1880331 & -2.912114 & 3.589916e-03 & 1.920412e-02 & ZBTB18:SETBP1 \\\\\n",
       "\t  3.612384 &  2.1731547 & 0.8124621 &  2.674777 & 7.477905e-03 & 3.390656e-02 & ZBTB18:SHOX2  \\\\\n",
       "\t  7.733888 &  3.0736142 & 0.6904603 &  4.451544 & 8.525511e-06 & 1.542342e-04 & ZBTB18:SMARCC1\\\\\n",
       "\t 33.044148 &  1.0736114 & 0.2437202 &  4.405098 & 1.057362e-05 & 1.845746e-04 & ZBTB18:SNAI2  \\\\\n",
       "\t 51.171179 &  1.0065977 & 0.2003232 &  5.024868 & 5.037796e-07 & 1.432173e-05 & ZBTB18:SOX6   \\\\\n",
       "\t 33.501951 & -1.0468863 & 0.2990678 & -3.500498 & 4.643905e-04 & 3.850571e-03 & ZBTB18:TCF7L1 \\\\\n",
       "\t 27.780079 &  0.8792375 & 0.2616983 &  3.359738 & 7.801655e-04 & 5.625107e-03 & ZBTB18:TCF7L2 \\\\\n",
       "\t 96.588998 &  1.1027270 & 0.1485746 &  7.422042 & 1.153280e-13 & 2.868785e-11 & ZBTB18:TEAD1  \\\\\n",
       "\t 16.101167 & -2.3966749 & 0.6345553 & -3.776936 & 1.587693e-04 & 1.717125e-03 & ZBTB18:THRB   \\\\\n",
       "\t  8.108433 &  3.1731636 & 0.6278089 &  5.054347 & 4.318667e-07 & 1.263845e-05 & ZBTB18:TP73   \\\\\n",
       "\t 30.141208 &  0.7012094 & 0.2608639 &  2.688028 & 7.187539e-03 & 3.341870e-02 & ZBTB18:TRIM15 \\\\\n",
       "\t  7.393162 &  1.7068420 & 0.6386539 &  2.672562 & 7.527455e-03 & 3.390656e-02 & ZBTB18:TRIP11 \\\\\n",
       "\t 49.928352 &  0.6001844 & 0.1996669 &  3.005929 & 2.647710e-03 & 1.463595e-02 & ZBTB18:TSHZ3  \\\\\n",
       "\t 18.259516 &  1.0963220 & 0.3484833 &  3.145981 & 1.655306e-03 & 1.004286e-02 & ZBTB18:WWTR1  \\\\\n",
       "\t 16.139600 &  1.0894012 & 0.3553784 &  3.065468 & 2.173295e-03 & 1.235674e-02 & ZBTB18:XRCC3  \\\\\n",
       "\t 15.658935 & -1.1056957 & 0.4131935 & -2.675976 & 7.451209e-03 & 3.390656e-02 & ZBTB18:ZBTB16 \\\\\n",
       "\t 21.472000 & -1.6463139 & 0.3949028 & -4.168909 & 3.060611e-05 & 4.614104e-04 & ZBTB18:ZBTB20 \\\\\n",
       "\t 30.522894 &  0.9784724 & 0.2688943 &  3.638873 & 2.738334e-04 & 2.523943e-03 & ZBTB18:ZDHHC9 \\\\\n",
       "\t 29.200250 &  0.8696115 & 0.2595417 &  3.350566 & 8.064662e-04 & 5.772905e-03 & ZBTB18:ZNF136 \\\\\n",
       "\t  2.409414 &  2.5881942 & 0.9129858 &  2.834868 & 4.584464e-03 & 2.375806e-02 & ZBTB18:ZNF169 \\\\\n",
       "\t  6.169782 &  2.4679033 & 0.7125759 &  3.463355 & 5.334843e-04 & 4.147060e-03 & ZBTB18:ZNF18  \\\\\n",
       "\t 10.487847 & -3.9816452 & 1.0471034 & -3.802533 & 1.432242e-04 & 1.629858e-03 & ZBTB18:ZNF253 \\\\\n",
       "\t  3.723992 &  2.7256951 & 0.7848214 &  3.473013 & 5.146498e-04 & 4.088833e-03 & ZBTB18:ZNF254 \\\\\n",
       "\t 33.896997 &  0.6696029 & 0.2448346 &  2.734919 & 6.239557e-03 & 3.085788e-02 & ZBTB18:ZNF407 \\\\\n",
       "\\end{tabular}\n"
      ],
      "text/markdown": [
       "\n",
       "A data.frame: 235 × 7\n",
       "\n",
       "| baseMean &lt;dbl&gt; | log2FoldChange &lt;dbl&gt; | lfcSE &lt;dbl&gt; | stat &lt;dbl&gt; | pvalue &lt;dbl&gt; | padj &lt;dbl&gt; | tf.pair &lt;chr&gt; |\n",
       "|---|---|---|---|---|---|---|\n",
       "| 146.6622431 |  0.4286594 | 0.1232722 |  3.477340 | 5.064160e-04 | 4.088833e-03 | NEUROG2:AFF3    |\n",
       "|  26.3350362 | -1.2742763 | 0.3579525 | -3.559904 | 3.709909e-04 | 3.238035e-03 | NEUROG2:AHR     |\n",
       "|   8.0479035 | -2.9036434 | 1.0757727 | -2.699123 | 6.952240e-03 | 3.262962e-02 | NEUROG2:ANKRD42 |\n",
       "|   8.8090902 |  1.6142051 | 0.5143416 |  3.138391 | 1.698779e-03 | 1.012147e-02 | NEUROG2:ANKS1A  |\n",
       "|  47.6285014 |  1.4059792 | 0.2286268 |  6.149669 | 7.764504e-10 | 8.116781e-08 | NEUROG2:ARID1A  |\n",
       "|  20.2296244 | -0.9561344 | 0.3533861 | -2.705637 | 6.817353e-03 | 3.261186e-02 | NEUROG2:ASCC3   |\n",
       "|   4.6876782 |  2.1407404 | 0.6652061 |  3.218161 | 1.290154e-03 | 8.228867e-03 | NEUROG2:ATF3    |\n",
       "|   1.0132321 |  4.7088744 | 1.5305313 |  3.076627 | 2.093569e-03 | 1.197187e-02 | NEUROG2:ATF6    |\n",
       "|  35.6538932 |  0.6310421 | 0.2272533 |  2.776823 | 5.489310e-03 | 2.772520e-02 | NEUROG2:BAZ1B   |\n",
       "|  16.6357106 | -1.1260717 | 0.4250101 | -2.649518 | 8.060677e-03 | 3.612781e-02 | NEUROG2:BIN1    |\n",
       "|  23.9641397 |  0.8155940 | 0.2940181 |  2.773958 | 5.537882e-03 | 2.782925e-02 | NEUROG2:BRF1    |\n",
       "|  43.0085343 |  1.3442559 | 0.2228734 |  6.031477 | 1.624673e-09 | 1.277527e-07 | NEUROG2:CDX1    |\n",
       "|  71.7559769 |  0.8700040 | 0.1678055 |  5.184598 | 2.164810e-07 | 7.179952e-06 | NEUROG2:CHD2    |\n",
       "|   8.1233642 | -3.2573037 | 1.0640245 | -3.061305 | 2.203742e-03 | 1.238827e-02 | NEUROG2:COIL    |\n",
       "|  80.4975813 |  0.9075057 | 0.1627471 |  5.576172 | 2.458687e-08 | 1.359108e-06 | NEUROG2:CREB5   |\n",
       "|  21.4463328 |  3.0736303 | 0.3753876 |  8.187884 | 2.658584e-16 | 1.322646e-13 | NEUROG2:CRTC1   |\n",
       "|  25.0991981 |  1.0297938 | 0.2791177 |  3.689461 | 2.247297e-04 | 2.236061e-03 | NEUROG2:CSDE1   |\n",
       "|  23.9548273 |  1.0985393 | 0.2833147 |  3.877452 | 1.055561e-04 | 1.347966e-03 | NEUROG2:CTDP1   |\n",
       "|   2.2530419 |  3.1731445 | 1.0864754 |  2.920586 | 3.493739e-03 | 1.879065e-02 | NEUROG2:DDIT3   |\n",
       "|  26.3053281 |  1.1546460 | 0.2630616 |  4.389261 | 1.137367e-05 | 1.909856e-04 | NEUROG2:DIP2C   |\n",
       "|  14.2386073 | -2.0873776 | 0.5267847 | -3.962487 | 7.417308e-05 | 9.840295e-04 | NEUROG2:DMRT1   |\n",
       "|   6.3282580 |  2.9667126 | 0.6334511 |  4.683412 | 2.821380e-06 | 5.848486e-05 | NEUROG2:DNMT1   |\n",
       "|  21.7196799 |  1.0505104 | 0.3039375 |  3.456336 | 5.475713e-04 | 4.223515e-03 | NEUROG2:DPF3    |\n",
       "|   9.0338606 |  3.5250052 | 0.5739339 |  6.141831 | 8.157569e-10 | 8.116781e-08 | NEUROG2:EED     |\n",
       "|  12.5411988 | -1.9036648 | 0.5647834 | -3.370610 | 7.500192e-04 | 5.527919e-03 | NEUROG2:ELAVL2  |\n",
       "|  20.7264194 | -1.2931627 | 0.3843276 | -3.364741 | 7.661565e-04 | 5.564421e-03 | NEUROG2:ELF2    |\n",
       "|  61.8832100 |  1.2580083 | 0.1911206 |  6.582274 | 4.633054e-11 | 7.683148e-09 | NEUROG2:ELL     |\n",
       "|   0.8506744 |  4.7088737 | 1.5305314 |  3.076627 | 2.093574e-03 | 1.197187e-02 | NEUROG2:EPAS1   |\n",
       "|  19.8381720 |  1.0116833 | 0.3142074 |  3.219795 | 1.282824e-03 | 8.228867e-03 | NEUROG2:ESRRB   |\n",
       "|  18.4303515 |  1.0873059 | 0.3311302 |  3.283621 | 1.024828e-03 | 7.032438e-03 | NEUROG2:ETS1    |\n",
       "| ⋮ | ⋮ | ⋮ | ⋮ | ⋮ | ⋮ | ⋮ |\n",
       "|  9.958473 |  3.2662655 | 0.5419286 |  6.027114 | 1.669131e-09 | 1.277527e-07 | ZBTB18:PRRX2   |\n",
       "| 55.893021 |  0.7580943 | 0.1951500 |  3.884675 | 1.024669e-04 | 1.341507e-03 | ZBTB18:RAI1    |\n",
       "| 16.166559 |  0.9139855 | 0.3386151 |  2.699187 | 6.950903e-03 | 3.262962e-02 | ZBTB18:RBM15B  |\n",
       "| 52.399651 |  1.0828887 | 0.1951682 |  5.548488 | 2.881504e-08 | 1.469213e-06 | ZBTB18:RBM7    |\n",
       "|  7.363498 | -1.8712285 | 0.7154551 | -2.615438 | 8.911308e-03 | 3.871944e-02 | ZBTB18:RBMX    |\n",
       "| 21.911648 |  1.0032200 | 0.2939132 |  3.413321 | 6.417628e-04 | 4.837530e-03 | ZBTB18:RLF     |\n",
       "| 71.077170 | -0.5475739 | 0.1880331 | -2.912114 | 3.589916e-03 | 1.920412e-02 | ZBTB18:SETBP1  |\n",
       "|  3.612384 |  2.1731547 | 0.8124621 |  2.674777 | 7.477905e-03 | 3.390656e-02 | ZBTB18:SHOX2   |\n",
       "|  7.733888 |  3.0736142 | 0.6904603 |  4.451544 | 8.525511e-06 | 1.542342e-04 | ZBTB18:SMARCC1 |\n",
       "| 33.044148 |  1.0736114 | 0.2437202 |  4.405098 | 1.057362e-05 | 1.845746e-04 | ZBTB18:SNAI2   |\n",
       "| 51.171179 |  1.0065977 | 0.2003232 |  5.024868 | 5.037796e-07 | 1.432173e-05 | ZBTB18:SOX6    |\n",
       "| 33.501951 | -1.0468863 | 0.2990678 | -3.500498 | 4.643905e-04 | 3.850571e-03 | ZBTB18:TCF7L1  |\n",
       "| 27.780079 |  0.8792375 | 0.2616983 |  3.359738 | 7.801655e-04 | 5.625107e-03 | ZBTB18:TCF7L2  |\n",
       "| 96.588998 |  1.1027270 | 0.1485746 |  7.422042 | 1.153280e-13 | 2.868785e-11 | ZBTB18:TEAD1   |\n",
       "| 16.101167 | -2.3966749 | 0.6345553 | -3.776936 | 1.587693e-04 | 1.717125e-03 | ZBTB18:THRB    |\n",
       "|  8.108433 |  3.1731636 | 0.6278089 |  5.054347 | 4.318667e-07 | 1.263845e-05 | ZBTB18:TP73    |\n",
       "| 30.141208 |  0.7012094 | 0.2608639 |  2.688028 | 7.187539e-03 | 3.341870e-02 | ZBTB18:TRIM15  |\n",
       "|  7.393162 |  1.7068420 | 0.6386539 |  2.672562 | 7.527455e-03 | 3.390656e-02 | ZBTB18:TRIP11  |\n",
       "| 49.928352 |  0.6001844 | 0.1996669 |  3.005929 | 2.647710e-03 | 1.463595e-02 | ZBTB18:TSHZ3   |\n",
       "| 18.259516 |  1.0963220 | 0.3484833 |  3.145981 | 1.655306e-03 | 1.004286e-02 | ZBTB18:WWTR1   |\n",
       "| 16.139600 |  1.0894012 | 0.3553784 |  3.065468 | 2.173295e-03 | 1.235674e-02 | ZBTB18:XRCC3   |\n",
       "| 15.658935 | -1.1056957 | 0.4131935 | -2.675976 | 7.451209e-03 | 3.390656e-02 | ZBTB18:ZBTB16  |\n",
       "| 21.472000 | -1.6463139 | 0.3949028 | -4.168909 | 3.060611e-05 | 4.614104e-04 | ZBTB18:ZBTB20  |\n",
       "| 30.522894 |  0.9784724 | 0.2688943 |  3.638873 | 2.738334e-04 | 2.523943e-03 | ZBTB18:ZDHHC9  |\n",
       "| 29.200250 |  0.8696115 | 0.2595417 |  3.350566 | 8.064662e-04 | 5.772905e-03 | ZBTB18:ZNF136  |\n",
       "|  2.409414 |  2.5881942 | 0.9129858 |  2.834868 | 4.584464e-03 | 2.375806e-02 | ZBTB18:ZNF169  |\n",
       "|  6.169782 |  2.4679033 | 0.7125759 |  3.463355 | 5.334843e-04 | 4.147060e-03 | ZBTB18:ZNF18   |\n",
       "| 10.487847 | -3.9816452 | 1.0471034 | -3.802533 | 1.432242e-04 | 1.629858e-03 | ZBTB18:ZNF253  |\n",
       "|  3.723992 |  2.7256951 | 0.7848214 |  3.473013 | 5.146498e-04 | 4.088833e-03 | ZBTB18:ZNF254  |\n",
       "| 33.896997 |  0.6696029 | 0.2448346 |  2.734919 | 6.239557e-03 | 3.085788e-02 | ZBTB18:ZNF407  |\n",
       "\n"
      ],
      "text/plain": [
       "    baseMean    log2FoldChange lfcSE     stat      pvalue       padj        \n",
       "1   146.6622431  0.4286594     0.1232722  3.477340 5.064160e-04 4.088833e-03\n",
       "2    26.3350362 -1.2742763     0.3579525 -3.559904 3.709909e-04 3.238035e-03\n",
       "3     8.0479035 -2.9036434     1.0757727 -2.699123 6.952240e-03 3.262962e-02\n",
       "4     8.8090902  1.6142051     0.5143416  3.138391 1.698779e-03 1.012147e-02\n",
       "5    47.6285014  1.4059792     0.2286268  6.149669 7.764504e-10 8.116781e-08\n",
       "6    20.2296244 -0.9561344     0.3533861 -2.705637 6.817353e-03 3.261186e-02\n",
       "7     4.6876782  2.1407404     0.6652061  3.218161 1.290154e-03 8.228867e-03\n",
       "8     1.0132321  4.7088744     1.5305313  3.076627 2.093569e-03 1.197187e-02\n",
       "9    35.6538932  0.6310421     0.2272533  2.776823 5.489310e-03 2.772520e-02\n",
       "10   16.6357106 -1.1260717     0.4250101 -2.649518 8.060677e-03 3.612781e-02\n",
       "11   23.9641397  0.8155940     0.2940181  2.773958 5.537882e-03 2.782925e-02\n",
       "12   43.0085343  1.3442559     0.2228734  6.031477 1.624673e-09 1.277527e-07\n",
       "13   71.7559769  0.8700040     0.1678055  5.184598 2.164810e-07 7.179952e-06\n",
       "14    8.1233642 -3.2573037     1.0640245 -3.061305 2.203742e-03 1.238827e-02\n",
       "15   80.4975813  0.9075057     0.1627471  5.576172 2.458687e-08 1.359108e-06\n",
       "16   21.4463328  3.0736303     0.3753876  8.187884 2.658584e-16 1.322646e-13\n",
       "17   25.0991981  1.0297938     0.2791177  3.689461 2.247297e-04 2.236061e-03\n",
       "18   23.9548273  1.0985393     0.2833147  3.877452 1.055561e-04 1.347966e-03\n",
       "19    2.2530419  3.1731445     1.0864754  2.920586 3.493739e-03 1.879065e-02\n",
       "20   26.3053281  1.1546460     0.2630616  4.389261 1.137367e-05 1.909856e-04\n",
       "21   14.2386073 -2.0873776     0.5267847 -3.962487 7.417308e-05 9.840295e-04\n",
       "22    6.3282580  2.9667126     0.6334511  4.683412 2.821380e-06 5.848486e-05\n",
       "23   21.7196799  1.0505104     0.3039375  3.456336 5.475713e-04 4.223515e-03\n",
       "24    9.0338606  3.5250052     0.5739339  6.141831 8.157569e-10 8.116781e-08\n",
       "25   12.5411988 -1.9036648     0.5647834 -3.370610 7.500192e-04 5.527919e-03\n",
       "26   20.7264194 -1.2931627     0.3843276 -3.364741 7.661565e-04 5.564421e-03\n",
       "27   61.8832100  1.2580083     0.1911206  6.582274 4.633054e-11 7.683148e-09\n",
       "28    0.8506744  4.7088737     1.5305314  3.076627 2.093574e-03 1.197187e-02\n",
       "29   19.8381720  1.0116833     0.3142074  3.219795 1.282824e-03 8.228867e-03\n",
       "30   18.4303515  1.0873059     0.3311302  3.283621 1.024828e-03 7.032438e-03\n",
       "⋮   ⋮           ⋮              ⋮         ⋮         ⋮            ⋮           \n",
       "206  9.958473    3.2662655     0.5419286  6.027114 1.669131e-09 1.277527e-07\n",
       "207 55.893021    0.7580943     0.1951500  3.884675 1.024669e-04 1.341507e-03\n",
       "208 16.166559    0.9139855     0.3386151  2.699187 6.950903e-03 3.262962e-02\n",
       "209 52.399651    1.0828887     0.1951682  5.548488 2.881504e-08 1.469213e-06\n",
       "210  7.363498   -1.8712285     0.7154551 -2.615438 8.911308e-03 3.871944e-02\n",
       "211 21.911648    1.0032200     0.2939132  3.413321 6.417628e-04 4.837530e-03\n",
       "212 71.077170   -0.5475739     0.1880331 -2.912114 3.589916e-03 1.920412e-02\n",
       "213  3.612384    2.1731547     0.8124621  2.674777 7.477905e-03 3.390656e-02\n",
       "214  7.733888    3.0736142     0.6904603  4.451544 8.525511e-06 1.542342e-04\n",
       "215 33.044148    1.0736114     0.2437202  4.405098 1.057362e-05 1.845746e-04\n",
       "216 51.171179    1.0065977     0.2003232  5.024868 5.037796e-07 1.432173e-05\n",
       "217 33.501951   -1.0468863     0.2990678 -3.500498 4.643905e-04 3.850571e-03\n",
       "218 27.780079    0.8792375     0.2616983  3.359738 7.801655e-04 5.625107e-03\n",
       "219 96.588998    1.1027270     0.1485746  7.422042 1.153280e-13 2.868785e-11\n",
       "220 16.101167   -2.3966749     0.6345553 -3.776936 1.587693e-04 1.717125e-03\n",
       "221  8.108433    3.1731636     0.6278089  5.054347 4.318667e-07 1.263845e-05\n",
       "222 30.141208    0.7012094     0.2608639  2.688028 7.187539e-03 3.341870e-02\n",
       "223  7.393162    1.7068420     0.6386539  2.672562 7.527455e-03 3.390656e-02\n",
       "224 49.928352    0.6001844     0.1996669  3.005929 2.647710e-03 1.463595e-02\n",
       "225 18.259516    1.0963220     0.3484833  3.145981 1.655306e-03 1.004286e-02\n",
       "226 16.139600    1.0894012     0.3553784  3.065468 2.173295e-03 1.235674e-02\n",
       "227 15.658935   -1.1056957     0.4131935 -2.675976 7.451209e-03 3.390656e-02\n",
       "228 21.472000   -1.6463139     0.3949028 -4.168909 3.060611e-05 4.614104e-04\n",
       "229 30.522894    0.9784724     0.2688943  3.638873 2.738334e-04 2.523943e-03\n",
       "230 29.200250    0.8696115     0.2595417  3.350566 8.064662e-04 5.772905e-03\n",
       "231  2.409414    2.5881942     0.9129858  2.834868 4.584464e-03 2.375806e-02\n",
       "232  6.169782    2.4679033     0.7125759  3.463355 5.334843e-04 4.147060e-03\n",
       "233 10.487847   -3.9816452     1.0471034 -3.802533 1.432242e-04 1.629858e-03\n",
       "234  3.723992    2.7256951     0.7848214  3.473013 5.146498e-04 4.088833e-03\n",
       "235 33.896997    0.6696029     0.2448346  2.734919 6.239557e-03 3.085788e-02\n",
       "    tf.pair        \n",
       "1   NEUROG2:AFF3   \n",
       "2   NEUROG2:AHR    \n",
       "3   NEUROG2:ANKRD42\n",
       "4   NEUROG2:ANKS1A \n",
       "5   NEUROG2:ARID1A \n",
       "6   NEUROG2:ASCC3  \n",
       "7   NEUROG2:ATF3   \n",
       "8   NEUROG2:ATF6   \n",
       "9   NEUROG2:BAZ1B  \n",
       "10  NEUROG2:BIN1   \n",
       "11  NEUROG2:BRF1   \n",
       "12  NEUROG2:CDX1   \n",
       "13  NEUROG2:CHD2   \n",
       "14  NEUROG2:COIL   \n",
       "15  NEUROG2:CREB5  \n",
       "16  NEUROG2:CRTC1  \n",
       "17  NEUROG2:CSDE1  \n",
       "18  NEUROG2:CTDP1  \n",
       "19  NEUROG2:DDIT3  \n",
       "20  NEUROG2:DIP2C  \n",
       "21  NEUROG2:DMRT1  \n",
       "22  NEUROG2:DNMT1  \n",
       "23  NEUROG2:DPF3   \n",
       "24  NEUROG2:EED    \n",
       "25  NEUROG2:ELAVL2 \n",
       "26  NEUROG2:ELF2   \n",
       "27  NEUROG2:ELL    \n",
       "28  NEUROG2:EPAS1  \n",
       "29  NEUROG2:ESRRB  \n",
       "30  NEUROG2:ETS1   \n",
       "⋮   ⋮              \n",
       "206 ZBTB18:PRRX2   \n",
       "207 ZBTB18:RAI1    \n",
       "208 ZBTB18:RBM15B  \n",
       "209 ZBTB18:RBM7    \n",
       "210 ZBTB18:RBMX    \n",
       "211 ZBTB18:RLF     \n",
       "212 ZBTB18:SETBP1  \n",
       "213 ZBTB18:SHOX2   \n",
       "214 ZBTB18:SMARCC1 \n",
       "215 ZBTB18:SNAI2   \n",
       "216 ZBTB18:SOX6    \n",
       "217 ZBTB18:TCF7L1  \n",
       "218 ZBTB18:TCF7L2  \n",
       "219 ZBTB18:TEAD1   \n",
       "220 ZBTB18:THRB    \n",
       "221 ZBTB18:TP73    \n",
       "222 ZBTB18:TRIM15  \n",
       "223 ZBTB18:TRIP11  \n",
       "224 ZBTB18:TSHZ3   \n",
       "225 ZBTB18:WWTR1   \n",
       "226 ZBTB18:XRCC3   \n",
       "227 ZBTB18:ZBTB16  \n",
       "228 ZBTB18:ZBTB20  \n",
       "229 ZBTB18:ZDHHC9  \n",
       "230 ZBTB18:ZNF136  \n",
       "231 ZBTB18:ZNF169  \n",
       "232 ZBTB18:ZNF18   \n",
       "233 ZBTB18:ZNF253  \n",
       "234 ZBTB18:ZNF254  \n",
       "235 ZBTB18:ZNF407  "
      ]
     },
     "metadata": {},
     "output_type": "display_data"
    }
   ],
   "source": [
    "fdr <- 0.05\n",
    "res.targets.a[which(res.targets.a$padj < fdr), ] %>% as.data.frame %>% add_column(\"tf.pair\"=FOUND_TARGETS.deseq$tf.pair[which(res.targets.a$padj < fdr)])"
   ]
  },
  {
   "cell_type": "markdown",
   "metadata": {
    "hidden": true
   },
   "source": [
    "---\n",
    "\n",
    "## Get normalized read counts per gene from consensus peaks\n",
    "\n",
    "Wrote a script for this: \n",
    "- path: `/gpfs/commons/groups/sanjana_lab/cdai/TFscreen/atac`\n",
    "- Rscript: `getATACseqReadcountsPerGene.R`\n",
    "- Resulted read counts in: `ATAC-seq_readcounts_per_Gene.csv`"
   ]
  },
  {
   "cell_type": "code",
   "execution_count": 84,
   "metadata": {
    "ExecuteTime": {
     "end_time": "2019-11-17T18:05:43.095962Z",
     "start_time": "2019-11-17T18:05:42.223Z"
    },
    "hidden": true
   },
   "outputs": [],
   "source": [
    "atac.counts.perGene <- read.csv(\"ATAC-seq_readcounts_per_Gene.csv\")"
   ]
  },
  {
   "cell_type": "code",
   "execution_count": 138,
   "metadata": {
    "ExecuteTime": {
     "end_time": "2019-11-17T18:05:50.458883Z",
     "start_time": "2019-11-17T18:05:50.388Z"
    },
    "hidden": true
   },
   "outputs": [
    {
     "data": {
      "text/html": [
       "<table>\n",
       "<caption>A data.frame: 6 × 16</caption>\n",
       "<thead>\n",
       "\t<tr><th scope=col>gene_id</th><th scope=col>gene_name</th><th scope=col>A1</th><th scope=col>A2</th><th scope=col>A3</th><th scope=col>A4</th><th scope=col>A5</th><th scope=col>A6</th><th scope=col>A7</th><th scope=col>A8</th><th scope=col>A9</th><th scope=col>A10</th><th scope=col>A11</th><th scope=col>A12</th><th scope=col>is.hit</th><th scope=col>is.tf</th></tr>\n",
       "\t<tr><th scope=col>&lt;fct&gt;</th><th scope=col>&lt;fct&gt;</th><th scope=col>&lt;dbl&gt;</th><th scope=col>&lt;dbl&gt;</th><th scope=col>&lt;dbl&gt;</th><th scope=col>&lt;dbl&gt;</th><th scope=col>&lt;dbl&gt;</th><th scope=col>&lt;dbl&gt;</th><th scope=col>&lt;dbl&gt;</th><th scope=col>&lt;dbl&gt;</th><th scope=col>&lt;dbl&gt;</th><th scope=col>&lt;dbl&gt;</th><th scope=col>&lt;dbl&gt;</th><th scope=col>&lt;dbl&gt;</th><th scope=col>&lt;fct&gt;</th><th scope=col>&lt;fct&gt;</th></tr>\n",
       "</thead>\n",
       "<tbody>\n",
       "\t<tr><td>ENSG00000187634.12</td><td>SAMD11 </td><td>37.05117</td><td>48.28275</td><td>48.34592</td><td>46.38992</td><td>57.55629</td><td>36.61381</td><td>44.668209</td><td>40.636427</td><td>47.89563</td><td>51.54180</td><td>102.757889</td><td>88.552702</td><td>No</td><td>No </td></tr>\n",
       "\t<tr><td>ENSG00000188976.11</td><td>NOC2L  </td><td>30.63141</td><td>29.18424</td><td>39.61115</td><td>41.06997</td><td>41.96813</td><td>23.09486</td><td>28.382925</td><td>30.646639</td><td>37.87524</td><td>33.66843</td><td> 54.703833</td><td>58.036956</td><td>No</td><td>No </td></tr>\n",
       "\t<tr><td>ENSG00000187961.14</td><td>KLHL17 </td><td>23.29455</td><td>20.17146</td><td>27.21997</td><td>31.91967</td><td>28.17860</td><td>17.46197</td><td>21.636164</td><td>20.995487</td><td>24.36150</td><td>20.64443</td><td> 19.321996</td><td>24.954465</td><td>No</td><td>No </td></tr>\n",
       "\t<tr><td>ENSG00000187583.10</td><td>PLEKHN1</td><td>11.55556</td><td>17.38179</td><td>15.23506</td><td>13.61906</td><td>12.79029</td><td>10.84332</td><td> 8.142642</td><td>14.900023</td><td>11.49127</td><td>12.46979</td><td>  5.896973</td><td> 5.418684</td><td>No</td><td>No </td></tr>\n",
       "\t<tr><td>ENSG00000187642.9 </td><td>PERM1  </td><td>14.85715</td><td>13.30458</td><td>17.26640</td><td>16.38543</td><td>13.58968</td><td>10.56168</td><td>15.819991</td><td> 8.465922</td><td>10.75583</td><td>13.02400</td><td> 12.421283</td><td> 5.703878</td><td>No</td><td>No </td></tr>\n",
       "\t<tr><td>ENSG00000188290.10</td><td>HES4   </td><td>46.03883</td><td>51.50160</td><td>43.87697</td><td>46.38992</td><td>54.55857</td><td>38.86697</td><td>41.876446</td><td>45.885299</td><td>41.27666</td><td>44.05993</td><td> 38.142122</td><td>39.641950</td><td>No</td><td>Yes</td></tr>\n",
       "</tbody>\n",
       "</table>\n"
      ],
      "text/latex": [
       "A data.frame: 6 × 16\n",
       "\\begin{tabular}{r|llllllllllllllll}\n",
       " gene\\_id & gene\\_name & A1 & A2 & A3 & A4 & A5 & A6 & A7 & A8 & A9 & A10 & A11 & A12 & is.hit & is.tf\\\\\n",
       " <fct> & <fct> & <dbl> & <dbl> & <dbl> & <dbl> & <dbl> & <dbl> & <dbl> & <dbl> & <dbl> & <dbl> & <dbl> & <dbl> & <fct> & <fct>\\\\\n",
       "\\hline\n",
       "\t ENSG00000187634.12 & SAMD11  & 37.05117 & 48.28275 & 48.34592 & 46.38992 & 57.55629 & 36.61381 & 44.668209 & 40.636427 & 47.89563 & 51.54180 & 102.757889 & 88.552702 & No & No \\\\\n",
       "\t ENSG00000188976.11 & NOC2L   & 30.63141 & 29.18424 & 39.61115 & 41.06997 & 41.96813 & 23.09486 & 28.382925 & 30.646639 & 37.87524 & 33.66843 &  54.703833 & 58.036956 & No & No \\\\\n",
       "\t ENSG00000187961.14 & KLHL17  & 23.29455 & 20.17146 & 27.21997 & 31.91967 & 28.17860 & 17.46197 & 21.636164 & 20.995487 & 24.36150 & 20.64443 &  19.321996 & 24.954465 & No & No \\\\\n",
       "\t ENSG00000187583.10 & PLEKHN1 & 11.55556 & 17.38179 & 15.23506 & 13.61906 & 12.79029 & 10.84332 &  8.142642 & 14.900023 & 11.49127 & 12.46979 &   5.896973 &  5.418684 & No & No \\\\\n",
       "\t ENSG00000187642.9  & PERM1   & 14.85715 & 13.30458 & 17.26640 & 16.38543 & 13.58968 & 10.56168 & 15.819991 &  8.465922 & 10.75583 & 13.02400 &  12.421283 &  5.703878 & No & No \\\\\n",
       "\t ENSG00000188290.10 & HES4    & 46.03883 & 51.50160 & 43.87697 & 46.38992 & 54.55857 & 38.86697 & 41.876446 & 45.885299 & 41.27666 & 44.05993 &  38.142122 & 39.641950 & No & Yes\\\\\n",
       "\\end{tabular}\n"
      ],
      "text/markdown": [
       "\n",
       "A data.frame: 6 × 16\n",
       "\n",
       "| gene_id &lt;fct&gt; | gene_name &lt;fct&gt; | A1 &lt;dbl&gt; | A2 &lt;dbl&gt; | A3 &lt;dbl&gt; | A4 &lt;dbl&gt; | A5 &lt;dbl&gt; | A6 &lt;dbl&gt; | A7 &lt;dbl&gt; | A8 &lt;dbl&gt; | A9 &lt;dbl&gt; | A10 &lt;dbl&gt; | A11 &lt;dbl&gt; | A12 &lt;dbl&gt; | is.hit &lt;fct&gt; | is.tf &lt;fct&gt; |\n",
       "|---|---|---|---|---|---|---|---|---|---|---|---|---|---|---|---|\n",
       "| ENSG00000187634.12 | SAMD11  | 37.05117 | 48.28275 | 48.34592 | 46.38992 | 57.55629 | 36.61381 | 44.668209 | 40.636427 | 47.89563 | 51.54180 | 102.757889 | 88.552702 | No | No  |\n",
       "| ENSG00000188976.11 | NOC2L   | 30.63141 | 29.18424 | 39.61115 | 41.06997 | 41.96813 | 23.09486 | 28.382925 | 30.646639 | 37.87524 | 33.66843 |  54.703833 | 58.036956 | No | No  |\n",
       "| ENSG00000187961.14 | KLHL17  | 23.29455 | 20.17146 | 27.21997 | 31.91967 | 28.17860 | 17.46197 | 21.636164 | 20.995487 | 24.36150 | 20.64443 |  19.321996 | 24.954465 | No | No  |\n",
       "| ENSG00000187583.10 | PLEKHN1 | 11.55556 | 17.38179 | 15.23506 | 13.61906 | 12.79029 | 10.84332 |  8.142642 | 14.900023 | 11.49127 | 12.46979 |   5.896973 |  5.418684 | No | No  |\n",
       "| ENSG00000187642.9  | PERM1   | 14.85715 | 13.30458 | 17.26640 | 16.38543 | 13.58968 | 10.56168 | 15.819991 |  8.465922 | 10.75583 | 13.02400 |  12.421283 |  5.703878 | No | No  |\n",
       "| ENSG00000188290.10 | HES4    | 46.03883 | 51.50160 | 43.87697 | 46.38992 | 54.55857 | 38.86697 | 41.876446 | 45.885299 | 41.27666 | 44.05993 |  38.142122 | 39.641950 | No | Yes |\n",
       "\n"
      ],
      "text/plain": [
       "  gene_id            gene_name A1       A2       A3       A4       A5      \n",
       "1 ENSG00000187634.12 SAMD11    37.05117 48.28275 48.34592 46.38992 57.55629\n",
       "2 ENSG00000188976.11 NOC2L     30.63141 29.18424 39.61115 41.06997 41.96813\n",
       "3 ENSG00000187961.14 KLHL17    23.29455 20.17146 27.21997 31.91967 28.17860\n",
       "4 ENSG00000187583.10 PLEKHN1   11.55556 17.38179 15.23506 13.61906 12.79029\n",
       "5 ENSG00000187642.9  PERM1     14.85715 13.30458 17.26640 16.38543 13.58968\n",
       "6 ENSG00000188290.10 HES4      46.03883 51.50160 43.87697 46.38992 54.55857\n",
       "  A6       A7        A8        A9       A10      A11        A12       is.hit\n",
       "1 36.61381 44.668209 40.636427 47.89563 51.54180 102.757889 88.552702 No    \n",
       "2 23.09486 28.382925 30.646639 37.87524 33.66843  54.703833 58.036956 No    \n",
       "3 17.46197 21.636164 20.995487 24.36150 20.64443  19.321996 24.954465 No    \n",
       "4 10.84332  8.142642 14.900023 11.49127 12.46979   5.896973  5.418684 No    \n",
       "5 10.56168 15.819991  8.465922 10.75583 13.02400  12.421283  5.703878 No    \n",
       "6 38.86697 41.876446 45.885299 41.27666 44.05993  38.142122 39.641950 No    \n",
       "  is.tf\n",
       "1 No   \n",
       "2 No   \n",
       "3 No   \n",
       "4 No   \n",
       "5 No   \n",
       "6 Yes  "
      ]
     },
     "metadata": {},
     "output_type": "display_data"
    }
   ],
   "source": [
    "atac.counts.perGene %>% head\n"
   ]
  },
  {
   "cell_type": "code",
   "execution_count": 139,
   "metadata": {
    "ExecuteTime": {
     "end_time": "2019-11-17T18:06:31.920908Z",
     "start_time": "2019-11-17T18:06:31.884Z"
    },
    "hidden": true
   },
   "outputs": [],
   "source": [
    "sample.anno <- data.frame(\"sample\" = paste0(rep(\"A\",12),1:12), \n",
    "                          \"condition\" = c(rep(\"ES\",2), rep(\"H1\",2), rep(\"H4\",2), rep(\"H16\",2), rep(\"H24\",2), rep(\"D5\",2)))"
   ]
  },
  {
   "cell_type": "code",
   "execution_count": 140,
   "metadata": {
    "ExecuteTime": {
     "end_time": "2019-11-17T18:14:56.906909Z",
     "start_time": "2019-11-17T18:14:56.856Z"
    },
    "hidden": true
   },
   "outputs": [],
   "source": [
    "atac.counts <- select(atac.counts.perGene, A1:A12) %>% apply(., 2, as.integer)"
   ]
  },
  {
   "cell_type": "code",
   "execution_count": 147,
   "metadata": {
    "ExecuteTime": {
     "end_time": "2019-11-17T18:14:58.823206Z",
     "start_time": "2019-11-17T18:14:58.588Z"
    },
    "hidden": true
   },
   "outputs": [],
   "source": [
    "dds.atac <- DESeqDataSetFromMatrix(countData = atac.counts, colData = sample.anno, design = ~ condition)"
   ]
  },
  {
   "cell_type": "code",
   "execution_count": 148,
   "metadata": {
    "ExecuteTime": {
     "end_time": "2019-11-17T18:15:13.549274Z",
     "start_time": "2019-11-17T18:15:00.055Z"
    },
    "hidden": true
   },
   "outputs": [
    {
     "name": "stderr",
     "output_type": "stream",
     "text": [
      "estimating size factors\n",
      "estimating dispersions\n",
      "gene-wise dispersion estimates\n",
      "mean-dispersion relationship\n",
      "final dispersion estimates\n",
      "fitting model and testing\n"
     ]
    }
   ],
   "source": [
    "dds.atac <- DESeq(dds.atac)"
   ]
  },
  {
   "cell_type": "code",
   "execution_count": 153,
   "metadata": {
    "ExecuteTime": {
     "end_time": "2019-11-17T18:15:13.572316Z",
     "start_time": "2019-11-17T18:15:01.891Z"
    },
    "hidden": true
   },
   "outputs": [
    {
     "data": {
      "text/html": [
       "<table>\n",
       "<caption>A matrix: 2 × 12 of type chr</caption>\n",
       "<tbody>\n",
       "\t<tr><th scope=row>sample</th><td>A1</td><td>A2</td><td>A3</td><td>A4</td><td>A5</td><td>A6</td><td>A7 </td><td>A8 </td><td>A9 </td><td>A10</td><td>A11</td><td>A12</td></tr>\n",
       "\t<tr><th scope=row>condition</th><td>ES</td><td>ES</td><td>H1</td><td>H1</td><td>H4</td><td>H4</td><td>H16</td><td>H16</td><td>H24</td><td>H24</td><td>D5 </td><td>D5 </td></tr>\n",
       "</tbody>\n",
       "</table>\n"
      ],
      "text/latex": [
       "A matrix: 2 × 12 of type chr\n",
       "\\begin{tabular}{r|llllllllllll}\n",
       "\tsample & A1 & A2 & A3 & A4 & A5 & A6 & A7  & A8  & A9  & A10 & A11 & A12\\\\\n",
       "\tcondition & ES & ES & H1 & H1 & H4 & H4 & H16 & H16 & H24 & H24 & D5  & D5 \\\\\n",
       "\\end{tabular}\n"
      ],
      "text/markdown": [
       "\n",
       "A matrix: 2 × 12 of type chr\n",
       "\n",
       "| sample | A1 | A2 | A3 | A4 | A5 | A6 | A7  | A8  | A9  | A10 | A11 | A12 |\n",
       "| condition | ES | ES | H1 | H1 | H4 | H4 | H16 | H16 | H24 | H24 | D5  | D5  |\n",
       "\n"
      ],
      "text/plain": [
       "          [,1] [,2] [,3] [,4] [,5] [,6] [,7] [,8] [,9] [,10] [,11] [,12]\n",
       "sample    A1   A2   A3   A4   A5   A6   A7   A8   A9   A10   A11   A12  \n",
       "condition ES   ES   H1   H1   H4   H4   H16  H16  H24  H24   D5    D5   "
      ]
     },
     "metadata": {},
     "output_type": "display_data"
    }
   ],
   "source": [
    "sample.anno %>% t"
   ]
  },
  {
   "cell_type": "code",
   "execution_count": 156,
   "metadata": {
    "ExecuteTime": {
     "end_time": "2019-11-17T18:21:26.341587Z",
     "start_time": "2019-11-17T18:21:25.295Z"
    },
    "hidden": true
   },
   "outputs": [],
   "source": [
    "res.atac.a <- results(dds.atac, contrast = c(\"condition\", \"D5\", \"ES\"))"
   ]
  },
  {
   "cell_type": "code",
   "execution_count": 157,
   "metadata": {
    "ExecuteTime": {
     "end_time": "2019-11-17T18:21:27.115202Z",
     "start_time": "2019-11-17T18:21:27.008Z"
    },
    "hidden": true
   },
   "outputs": [
    {
     "data": {
      "text/html": [
       "<table>\n",
       "<caption>A data.frame: 1422 × 19</caption>\n",
       "<thead>\n",
       "\t<tr><th scope=col>baseMean</th><th scope=col>log2FoldChange</th><th scope=col>lfcSE</th><th scope=col>stat</th><th scope=col>pvalue</th><th scope=col>padj</th><th scope=col>gene_name</th><th scope=col>A1</th><th scope=col>A2</th><th scope=col>A3</th><th scope=col>A4</th><th scope=col>A5</th><th scope=col>A6</th><th scope=col>A7</th><th scope=col>A8</th><th scope=col>A9</th><th scope=col>A10</th><th scope=col>A11</th><th scope=col>A12</th></tr>\n",
       "\t<tr><th scope=col>&lt;dbl&gt;</th><th scope=col>&lt;dbl&gt;</th><th scope=col>&lt;dbl&gt;</th><th scope=col>&lt;dbl&gt;</th><th scope=col>&lt;dbl&gt;</th><th scope=col>&lt;dbl&gt;</th><th scope=col>&lt;fct&gt;</th><th scope=col>&lt;int&gt;</th><th scope=col>&lt;int&gt;</th><th scope=col>&lt;int&gt;</th><th scope=col>&lt;int&gt;</th><th scope=col>&lt;int&gt;</th><th scope=col>&lt;int&gt;</th><th scope=col>&lt;int&gt;</th><th scope=col>&lt;int&gt;</th><th scope=col>&lt;int&gt;</th><th scope=col>&lt;int&gt;</th><th scope=col>&lt;int&gt;</th><th scope=col>&lt;int&gt;</th></tr>\n",
       "</thead>\n",
       "<tbody>\n",
       "\t<tr><td> 53.96597</td><td> 1.2859206</td><td>0.2555272</td><td> 5.032421</td><td>4.843235e-07</td><td>4.171176e-05</td><td>SAMD11  </td><td> 37</td><td> 48</td><td> 48</td><td> 46</td><td> 57</td><td> 36</td><td> 44</td><td> 40</td><td> 47</td><td> 51</td><td>102</td><td> 88</td></tr>\n",
       "\t<tr><td> 36.98419</td><td> 1.0500669</td><td>0.3035926</td><td> 3.458802</td><td>5.425834e-04</td><td>7.509406e-03</td><td>NOC2L   </td><td> 30</td><td> 29</td><td> 39</td><td> 41</td><td> 41</td><td> 23</td><td> 28</td><td> 30</td><td> 37</td><td> 33</td><td> 54</td><td> 58</td></tr>\n",
       "\t<tr><td> 85.93123</td><td> 1.3913771</td><td>0.2120123</td><td> 6.562719</td><td>5.283528e-11</td><td>2.881085e-08</td><td>ACAP3   </td><td> 61</td><td> 60</td><td> 50</td><td> 66</td><td> 95</td><td> 75</td><td> 67</td><td> 79</td><td> 89</td><td> 93</td><td>141</td><td>150</td></tr>\n",
       "\t<tr><td> 41.82490</td><td> 1.0333660</td><td>0.2768952</td><td> 3.731975</td><td>1.899846e-04</td><td>3.502703e-03</td><td>PRXL2B  </td><td> 42</td><td> 31</td><td> 33</td><td> 37</td><td> 37</td><td> 35</td><td> 31</td><td> 40</td><td> 35</td><td> 42</td><td> 69</td><td> 68</td></tr>\n",
       "\t<tr><td> 43.65750</td><td>-1.3623490</td><td>0.3017304</td><td>-4.515121</td><td>6.328074e-06</td><td>2.844690e-04</td><td>ARHGEF16</td><td> 67</td><td> 62</td><td> 54</td><td> 57</td><td> 51</td><td> 46</td><td> 40</td><td> 36</td><td> 36</td><td> 36</td><td> 21</td><td> 25</td></tr>\n",
       "\t<tr><td> 49.64993</td><td> 0.9224558</td><td>0.2622441</td><td> 3.517546</td><td>4.355565e-04</td><td>6.426952e-03</td><td>PARK7   </td><td> 37</td><td> 43</td><td> 47</td><td> 37</td><td> 38</td><td> 39</td><td> 54</td><td> 51</td><td> 50</td><td> 61</td><td> 69</td><td> 70</td></tr>\n",
       "\t<tr><td>186.76433</td><td> 0.5528684</td><td>0.1481239</td><td> 3.732473</td><td>1.896094e-04</td><td>3.502703e-03</td><td>RERE    </td><td>171</td><td>174</td><td>187</td><td>171</td><td>167</td><td>175</td><td>165</td><td>180</td><td>189</td><td>204</td><td>239</td><td>225</td></tr>\n",
       "\t<tr><td> 44.46515</td><td> 1.0083677</td><td>0.2684577</td><td> 3.756152</td><td>1.725463e-04</td><td>3.269921e-03</td><td>PGD     </td><td> 37</td><td> 40</td><td> 29</td><td> 37</td><td> 38</td><td> 34</td><td> 50</td><td> 43</td><td> 37</td><td> 45</td><td> 70</td><td> 72</td></tr>\n",
       "\t<tr><td> 27.16807</td><td> 1.1758202</td><td>0.3428771</td><td> 3.429276</td><td>6.051942e-04</td><td>8.100341e-03</td><td>UBIAD1  </td><td> 24</td><td> 18</td><td> 22</td><td> 24</td><td> 26</td><td> 24</td><td> 24</td><td> 23</td><td> 27</td><td> 26</td><td> 44</td><td> 43</td></tr>\n",
       "\t<tr><td> 99.67772</td><td>-1.0762933</td><td>0.2093694</td><td>-5.140642</td><td>2.738011e-07</td><td>2.617207e-05</td><td>DHRS3   </td><td>130</td><td>123</td><td>127</td><td>114</td><td>119</td><td>115</td><td>102</td><td> 97</td><td> 82</td><td> 93</td><td> 50</td><td> 60</td></tr>\n",
       "\t<tr><td> 15.88361</td><td> 2.0687709</td><td>0.5226288</td><td> 3.958395</td><td>7.545518e-05</td><td>1.778914e-03</td><td>CELA2B  </td><td>  7</td><td>  6</td><td>  8</td><td>  7</td><td> 10</td><td>  9</td><td> 14</td><td> 13</td><td> 32</td><td> 34</td><td> 23</td><td> 27</td></tr>\n",
       "\t<tr><td> 60.50632</td><td> 0.8774022</td><td>0.2408885</td><td> 3.642359</td><td>2.701512e-04</td><td>4.550088e-03</td><td>SZRD1   </td><td> 49</td><td> 46</td><td> 57</td><td> 57</td><td> 57</td><td> 49</td><td> 60</td><td> 58</td><td> 63</td><td> 71</td><td> 78</td><td> 82</td></tr>\n",
       "\t<tr><td>107.17865</td><td> 1.0509486</td><td>0.1926673</td><td> 5.454733</td><td>4.904638e-08</td><td>7.028862e-06</td><td>IFFO2   </td><td> 74</td><td> 85</td><td> 93</td><td> 95</td><td> 96</td><td> 86</td><td>100</td><td>103</td><td>111</td><td>141</td><td>154</td><td>148</td></tr>\n",
       "\t<tr><td> 37.35139</td><td> 1.1501634</td><td>0.3075962</td><td> 3.739199</td><td>1.846076e-04</td><td>3.438564e-03</td><td>DDOST   </td><td> 33</td><td> 24</td><td> 25</td><td> 33</td><td> 34</td><td> 27</td><td> 29</td><td> 42</td><td> 44</td><td> 40</td><td> 65</td><td> 51</td></tr>\n",
       "\t<tr><td> 65.69243</td><td> 0.9501392</td><td>0.2349417</td><td> 4.044149</td><td>5.251358e-05</td><td>1.373803e-03</td><td>KIF17   </td><td> 56</td><td> 49</td><td> 44</td><td> 58</td><td> 51</td><td> 53</td><td> 60</td><td> 74</td><td> 73</td><td> 84</td><td> 98</td><td> 88</td></tr>\n",
       "\t<tr><td>112.21058</td><td>-0.8366484</td><td>0.1984463</td><td>-4.215994</td><td>2.486801e-05</td><td>7.756339e-04</td><td>RAP1GAP </td><td>123</td><td>140</td><td>119</td><td>138</td><td>143</td><td>130</td><td>112</td><td>105</td><td>105</td><td>113</td><td> 68</td><td> 67</td></tr>\n",
       "\t<tr><td>142.45909</td><td> 0.7142902</td><td>0.1673883</td><td> 4.267265</td><td>1.978837e-05</td><td>6.569815e-04</td><td>EPHB2   </td><td>115</td><td>133</td><td>131</td><td>127</td><td>155</td><td>139</td><td>138</td><td>114</td><td>146</td><td>141</td><td>188</td><td>185</td></tr>\n",
       "\t<tr><td> 56.44530</td><td> 1.1677585</td><td>0.2473905</td><td> 4.720305</td><td>2.354916e-06</td><td>1.343229e-04</td><td>HNRNPR  </td><td> 40</td><td> 44</td><td> 45</td><td> 50</td><td> 50</td><td> 47</td><td> 55</td><td> 54</td><td> 58</td><td> 60</td><td> 81</td><td> 92</td></tr>\n",
       "\t<tr><td> 63.87136</td><td> 0.8209089</td><td>0.2298516</td><td> 3.571474</td><td>3.549778e-04</td><td>5.543581e-03</td><td>ZNF436  </td><td> 56</td><td> 57</td><td> 52</td><td> 56</td><td> 56</td><td> 49</td><td> 54</td><td> 67</td><td> 71</td><td> 65</td><td> 88</td><td> 95</td></tr>\n",
       "\t<tr><td> 72.59056</td><td> 0.7405375</td><td>0.2187796</td><td> 3.384855</td><td>7.121574e-04</td><td>9.082158e-03</td><td>NIPAL3  </td><td> 63</td><td> 63</td><td> 56</td><td> 70</td><td> 65</td><td> 63</td><td> 70</td><td> 75</td><td> 79</td><td> 75</td><td> 95</td><td> 98</td></tr>\n",
       "\t<tr><td> 44.12946</td><td> 0.9670802</td><td>0.2731032</td><td> 3.541080</td><td>3.984925e-04</td><td>6.044093e-03</td><td>SRRM1   </td><td> 40</td><td> 37</td><td> 27</td><td> 38</td><td> 42</td><td> 36</td><td> 33</td><td> 44</td><td> 49</td><td> 44</td><td> 65</td><td> 73</td></tr>\n",
       "\t<tr><td> 51.52313</td><td> 0.9772425</td><td>0.2555053</td><td> 3.824744</td><td>1.309078e-04</td><td>2.704755e-03</td><td>CLIC4   </td><td> 41</td><td> 41</td><td> 43</td><td> 37</td><td> 44</td><td> 47</td><td> 52</td><td> 58</td><td> 52</td><td> 55</td><td> 75</td><td> 73</td></tr>\n",
       "\t<tr><td> 16.27546</td><td>-2.9044254</td><td>0.6788083</td><td>-4.278712</td><td>1.879779e-05</td><td>6.337696e-04</td><td>CNKSR1  </td><td> 25</td><td> 24</td><td> 24</td><td> 16</td><td> 23</td><td> 23</td><td> 16</td><td> 14</td><td> 13</td><td> 15</td><td>  3</td><td>  3</td></tr>\n",
       "\t<tr><td>107.33248</td><td> 0.9043873</td><td>0.1872643</td><td> 4.829471</td><td>1.368965e-06</td><td>8.878907e-05</td><td>ARID1A  </td><td> 84</td><td> 85</td><td> 89</td><td> 96</td><td> 96</td><td> 95</td><td>105</td><td>103</td><td>114</td><td>132</td><td>145</td><td>145</td></tr>\n",
       "\t<tr><td> 16.96421</td><td>-2.3484750</td><td>0.5883024</td><td>-3.991952</td><td>6.553167e-05</td><td>1.607975e-03</td><td>SFN     </td><td> 23</td><td> 27</td><td> 19</td><td> 23</td><td> 29</td><td> 19</td><td> 14</td><td> 18</td><td> 11</td><td> 15</td><td>  5</td><td>  4</td></tr>\n",
       "\t<tr><td> 53.13859</td><td>-1.1147580</td><td>0.2766296</td><td>-4.029786</td><td>5.582767e-05</td><td>1.435340e-03</td><td>SYTL1   </td><td> 71</td><td> 66</td><td> 57</td><td> 63</td><td> 60</td><td> 58</td><td> 50</td><td> 56</td><td> 51</td><td> 56</td><td> 29</td><td> 29</td></tr>\n",
       "\t<tr><td> 49.44926</td><td> 0.9814976</td><td>0.2598357</td><td> 3.777377</td><td>1.584886e-04</td><td>3.092989e-03</td><td>FAM76A  </td><td> 38</td><td> 41</td><td> 37</td><td> 38</td><td> 44</td><td> 39</td><td> 56</td><td> 56</td><td> 53</td><td> 48</td><td> 70</td><td> 73</td></tr>\n",
       "\t<tr><td> 14.96940</td><td>-2.6820254</td><td>0.6888532</td><td>-3.893464</td><td>9.882273e-05</td><td>2.176227e-03</td><td>SMPDL3B </td><td> 22</td><td> 20</td><td> 21</td><td> 26</td><td> 17</td><td> 19</td><td> 13</td><td> 17</td><td>  9</td><td> 13</td><td>  2</td><td>  4</td></tr>\n",
       "\t<tr><td>104.69407</td><td> 0.9436213</td><td>0.1881776</td><td> 5.014525</td><td>5.316464e-07</td><td>4.556183e-05</td><td>EPB41   </td><td> 99</td><td> 87</td><td> 87</td><td> 95</td><td> 92</td><td> 78</td><td> 80</td><td>103</td><td> 99</td><td>105</td><td>169</td><td>159</td></tr>\n",
       "\t<tr><td>189.06372</td><td>-1.2447939</td><td>0.1674920</td><td>-7.431961</td><td>1.069995e-13</td><td>3.102450e-10</td><td>PTPRU   </td><td>230</td><td>212</td><td>212</td><td>222</td><td>215</td><td>216</td><td>208</td><td>210</td><td>198</td><td>208</td><td> 89</td><td> 82</td></tr>\n",
       "\t<tr><td>⋮</td><td>⋮</td><td>⋮</td><td>⋮</td><td>⋮</td><td>⋮</td><td>⋮</td><td>⋮</td><td>⋮</td><td>⋮</td><td>⋮</td><td>⋮</td><td>⋮</td><td>⋮</td><td>⋮</td><td>⋮</td><td>⋮</td><td>⋮</td><td>⋮</td></tr>\n",
       "\t<tr><td> 20.279387</td><td> 1.7999256</td><td>0.4044062</td><td> 4.450786</td><td>8.555645e-06</td><td>3.518736e-04</td><td>SPIN4         </td><td>14</td><td>12</td><td>12</td><td> 9</td><td> 11</td><td> 15</td><td> 22</td><td> 18</td><td> 23</td><td> 22</td><td> 39</td><td> 44</td></tr>\n",
       "\t<tr><td> 53.813531</td><td> 1.0045143</td><td>0.2601935</td><td> 3.860643</td><td>1.130892e-04</td><td>2.405151e-03</td><td>ARHGEF9       </td><td>44</td><td>37</td><td>48</td><td>43</td><td> 46</td><td> 58</td><td> 48</td><td> 64</td><td> 56</td><td> 53</td><td> 80</td><td> 69</td></tr>\n",
       "\t<tr><td> 33.290991</td><td> 1.3557663</td><td>0.3127844</td><td> 4.334508</td><td>1.460865e-05</td><td>5.207925e-04</td><td>AMER1         </td><td>23</td><td>29</td><td>33</td><td>19</td><td> 24</td><td> 22</td><td> 30</td><td> 34</td><td> 32</td><td> 29</td><td> 62</td><td> 60</td></tr>\n",
       "\t<tr><td> 39.256523</td><td> 1.0257558</td><td>0.2923486</td><td> 3.508673</td><td>4.503477e-04</td><td>6.573123e-03</td><td>ZC4H2         </td><td>31</td><td>29</td><td>33</td><td>30</td><td> 30</td><td> 32</td><td> 45</td><td> 52</td><td> 39</td><td> 38</td><td> 58</td><td> 54</td></tr>\n",
       "\t<tr><td> 46.000946</td><td> 1.0543697</td><td>0.2730961</td><td> 3.860800</td><td>1.130162e-04</td><td>2.405151e-03</td><td>HMGN5         </td><td>39</td><td>34</td><td>26</td><td>37</td><td> 34</td><td> 42</td><td> 44</td><td> 56</td><td> 50</td><td> 50</td><td> 71</td><td> 68</td></tr>\n",
       "\t<tr><td> 26.144800</td><td> 1.7102472</td><td>0.3744471</td><td> 4.567394</td><td>4.938261e-06</td><td>2.328209e-04</td><td>PABPC5        </td><td>17</td><td>14</td><td>19</td><td>12</td><td> 14</td><td> 23</td><td> 26</td><td> 29</td><td> 37</td><td> 28</td><td> 45</td><td> 48</td></tr>\n",
       "\t<tr><td> 32.745771</td><td> 1.4051361</td><td>0.3328875</td><td> 4.221054</td><td>2.431627e-05</td><td>7.649731e-04</td><td>NAP1L3        </td><td>27</td><td>15</td><td>26</td><td>21</td><td> 25</td><td> 25</td><td> 33</td><td> 38</td><td> 40</td><td> 40</td><td> 54</td><td> 48</td></tr>\n",
       "\t<tr><td> 32.745771</td><td> 1.4051361</td><td>0.3328875</td><td> 4.221054</td><td>2.431627e-05</td><td>7.649731e-04</td><td>FAM133A       </td><td>27</td><td>15</td><td>26</td><td>21</td><td> 25</td><td> 25</td><td> 33</td><td> 38</td><td> 40</td><td> 40</td><td> 54</td><td> 48</td></tr>\n",
       "\t<tr><td> 79.127675</td><td> 0.7103221</td><td>0.2104659</td><td> 3.374999</td><td>7.381585e-04</td><td>9.353054e-03</td><td>RPL36A-HNRNPH2</td><td>69</td><td>69</td><td>72</td><td>73</td><td> 63</td><td> 72</td><td> 69</td><td> 82</td><td> 87</td><td> 88</td><td>102</td><td>105</td></tr>\n",
       "\t<tr><td> 31.799803</td><td> 1.0956519</td><td>0.3213160</td><td> 3.409889</td><td>6.498927e-04</td><td>8.532969e-03</td><td>HNRNPH2       </td><td>24</td><td>25</td><td>28</td><td>28</td><td> 23</td><td> 27</td><td> 25</td><td> 33</td><td> 35</td><td> 37</td><td> 46</td><td> 50</td></tr>\n",
       "\t<tr><td> 87.341227</td><td> 0.8760303</td><td>0.2058676</td><td> 4.255308</td><td>2.087612e-05</td><td>6.788446e-04</td><td>SLC25A53      </td><td>81</td><td>64</td><td>63</td><td>62</td><td> 81</td><td> 82</td><td> 88</td><td>107</td><td> 94</td><td> 82</td><td>120</td><td>124</td></tr>\n",
       "\t<tr><td>  8.580433</td><td> 2.6488754</td><td>0.6585998</td><td> 4.021980</td><td>5.771093e-05</td><td>1.469981e-03</td><td>RIPPLY1       </td><td> 4</td><td> 4</td><td> 5</td><td> 4</td><td>  1</td><td>  2</td><td>  8</td><td>  7</td><td> 11</td><td>  9</td><td> 24</td><td> 22</td></tr>\n",
       "\t<tr><td> 47.038566</td><td> 1.1136952</td><td>0.2831945</td><td> 3.932617</td><td>8.402616e-05</td><td>1.926305e-03</td><td>PRPS1         </td><td>37</td><td>26</td><td>32</td><td>34</td><td> 40</td><td> 49</td><td> 48</td><td> 59</td><td> 61</td><td> 54</td><td> 60</td><td> 65</td></tr>\n",
       "\t<tr><td> 53.073363</td><td> 1.0210726</td><td>0.2697462</td><td> 3.785309</td><td>1.535177e-04</td><td>3.034941e-03</td><td>PSMD10        </td><td>43</td><td>36</td><td>38</td><td>29</td><td> 44</td><td> 54</td><td> 54</td><td> 73</td><td> 70</td><td> 49</td><td> 79</td><td> 68</td></tr>\n",
       "\t<tr><td> 36.834712</td><td> 1.1253595</td><td>0.2981704</td><td> 3.774216</td><td>1.605114e-04</td><td>3.123508e-03</td><td>NXT2          </td><td>27</td><td>30</td><td>25</td><td>24</td><td> 33</td><td> 29</td><td> 40</td><td> 40</td><td> 41</td><td> 38</td><td> 61</td><td> 53</td></tr>\n",
       "\t<tr><td>109.334407</td><td> 0.6212934</td><td>0.1821717</td><td> 3.410482</td><td>6.484805e-04</td><td>8.520857e-03</td><td>PAK3          </td><td>99</td><td>96</td><td>94</td><td>86</td><td>101</td><td>102</td><td>118</td><td>125</td><td>109</td><td>110</td><td>136</td><td>139</td></tr>\n",
       "\t<tr><td> 60.620757</td><td> 1.0950419</td><td>0.2383037</td><td> 4.595153</td><td>4.324311e-06</td><td>2.131162e-04</td><td>DCX           </td><td>46</td><td>50</td><td>56</td><td>44</td><td> 44</td><td> 50</td><td> 59</td><td> 68</td><td> 64</td><td> 57</td><td> 92</td><td> 96</td></tr>\n",
       "\t<tr><td> 66.947300</td><td> 0.8838059</td><td>0.2309809</td><td> 3.826316</td><td>1.300754e-04</td><td>2.693955e-03</td><td>AMOT          </td><td>49</td><td>58</td><td>54</td><td>52</td><td> 55</td><td> 57</td><td> 65</td><td> 78</td><td> 83</td><td> 72</td><td> 94</td><td> 87</td></tr>\n",
       "\t<tr><td> 51.584148</td><td>-1.2933491</td><td>0.2913036</td><td>-4.439866</td><td>9.001491e-06</td><td>3.613966e-04</td><td>HTR2C         </td><td>64</td><td>67</td><td>65</td><td>72</td><td> 61</td><td> 73</td><td> 46</td><td> 49</td><td> 39</td><td> 43</td><td> 26</td><td> 23</td></tr>\n",
       "\t<tr><td> 16.915813</td><td> 2.0480859</td><td>0.4230051</td><td> 4.841752</td><td>1.286995e-06</td><td>8.448999e-05</td><td>TEX13D        </td><td>14</td><td>10</td><td>10</td><td>11</td><td>  8</td><td>  8</td><td> 11</td><td> 12</td><td> 11</td><td> 13</td><td> 42</td><td> 49</td></tr>\n",
       "\t<tr><td> 51.576518</td><td>-1.0935540</td><td>0.2849482</td><td>-3.837729</td><td>1.241772e-04</td><td>2.596528e-03</td><td>XPNPEP2       </td><td>72</td><td>63</td><td>54</td><td>58</td><td> 46</td><td> 60</td><td> 50</td><td> 55</td><td> 65</td><td> 46</td><td> 26</td><td> 32</td></tr>\n",
       "\t<tr><td> 54.400695</td><td>-0.9406726</td><td>0.2703728</td><td>-3.479168</td><td>5.029730e-04</td><td>7.085199e-03</td><td>ELF4          </td><td>64</td><td>70</td><td>63</td><td>68</td><td> 65</td><td> 63</td><td> 50</td><td> 54</td><td> 46</td><td> 54</td><td> 32</td><td> 32</td></tr>\n",
       "\t<tr><td>106.456984</td><td> 1.1662178</td><td>0.1816040</td><td> 6.421764</td><td>1.347042e-10</td><td>6.333645e-08</td><td>ENOX2         </td><td>87</td><td>87</td><td>84</td><td>80</td><td> 92</td><td> 91</td><td> 90</td><td> 97</td><td>102</td><td>104</td><td>180</td><td>178</td></tr>\n",
       "\t<tr><td> 29.344417</td><td> 1.1726033</td><td>0.3393678</td><td> 3.455258</td><td>5.497657e-04</td><td>7.554719e-03</td><td>PHF6          </td><td>24</td><td>21</td><td>22</td><td>23</td><td> 33</td><td> 17</td><td> 28</td><td> 29</td><td> 32</td><td> 29</td><td> 45</td><td> 48</td></tr>\n",
       "\t<tr><td> 65.213178</td><td> 0.8825996</td><td>0.2259725</td><td> 3.905784</td><td>9.392056e-05</td><td>2.098370e-03</td><td>ZNF75D        </td><td>57</td><td>56</td><td>60</td><td>54</td><td> 51</td><td> 62</td><td> 59</td><td> 60</td><td> 67</td><td> 65</td><td> 94</td><td> 97</td></tr>\n",
       "\t<tr><td> 27.741765</td><td> 1.2272694</td><td>0.3428764</td><td> 3.579335</td><td>3.444696e-04</td><td>5.428204e-03</td><td>ZNF449        </td><td>20</td><td>21</td><td>22</td><td>22</td><td> 23</td><td> 29</td><td> 25</td><td> 28</td><td> 28</td><td> 26</td><td> 43</td><td> 45</td></tr>\n",
       "\t<tr><td> 14.102020</td><td> 4.2409726</td><td>0.9047002</td><td> 4.687710</td><td>2.762786e-06</td><td>1.488055e-04</td><td>CD40LG        </td><td> 1</td><td> 2</td><td> 3</td><td> 2</td><td> 11</td><td> 12</td><td> 20</td><td> 25</td><td> 23</td><td> 17</td><td> 23</td><td> 29</td></tr>\n",
       "\t<tr><td> 40.161192</td><td> 1.0338069</td><td>0.2875038</td><td> 3.595803</td><td>3.233922e-04</td><td>5.178288e-03</td><td>EMD           </td><td>31</td><td>34</td><td>26</td><td>28</td><td> 36</td><td> 39</td><td> 38</td><td> 43</td><td> 49</td><td> 35</td><td> 58</td><td> 64</td></tr>\n",
       "\t<tr><td> 30.863713</td><td>-1.6400197</td><td>0.3892195</td><td>-4.213612</td><td>2.513193e-05</td><td>7.793586e-04</td><td>DNASE1L1      </td><td>39</td><td>46</td><td>31</td><td>43</td><td> 41</td><td> 33</td><td> 35</td><td> 27</td><td> 27</td><td> 29</td><td> 11</td><td> 14</td></tr>\n",
       "\t<tr><td> 29.720984</td><td>-1.4596059</td><td>0.3885743</td><td>-3.756311</td><td>1.724363e-04</td><td>3.269921e-03</td><td>TAZ           </td><td>40</td><td>38</td><td>32</td><td>38</td><td> 37</td><td> 34</td><td> 39</td><td> 25</td><td> 26</td><td> 27</td><td> 11</td><td> 15</td></tr>\n",
       "</tbody>\n",
       "</table>\n"
      ],
      "text/latex": [
       "A data.frame: 1422 × 19\n",
       "\\begin{tabular}{r|lllllllllllllllllll}\n",
       " baseMean & log2FoldChange & lfcSE & stat & pvalue & padj & gene\\_name & A1 & A2 & A3 & A4 & A5 & A6 & A7 & A8 & A9 & A10 & A11 & A12\\\\\n",
       " <dbl> & <dbl> & <dbl> & <dbl> & <dbl> & <dbl> & <fct> & <int> & <int> & <int> & <int> & <int> & <int> & <int> & <int> & <int> & <int> & <int> & <int>\\\\\n",
       "\\hline\n",
       "\t  53.96597 &  1.2859206 & 0.2555272 &  5.032421 & 4.843235e-07 & 4.171176e-05 & SAMD11   &  37 &  48 &  48 &  46 &  57 &  36 &  44 &  40 &  47 &  51 & 102 &  88\\\\\n",
       "\t  36.98419 &  1.0500669 & 0.3035926 &  3.458802 & 5.425834e-04 & 7.509406e-03 & NOC2L    &  30 &  29 &  39 &  41 &  41 &  23 &  28 &  30 &  37 &  33 &  54 &  58\\\\\n",
       "\t  85.93123 &  1.3913771 & 0.2120123 &  6.562719 & 5.283528e-11 & 2.881085e-08 & ACAP3    &  61 &  60 &  50 &  66 &  95 &  75 &  67 &  79 &  89 &  93 & 141 & 150\\\\\n",
       "\t  41.82490 &  1.0333660 & 0.2768952 &  3.731975 & 1.899846e-04 & 3.502703e-03 & PRXL2B   &  42 &  31 &  33 &  37 &  37 &  35 &  31 &  40 &  35 &  42 &  69 &  68\\\\\n",
       "\t  43.65750 & -1.3623490 & 0.3017304 & -4.515121 & 6.328074e-06 & 2.844690e-04 & ARHGEF16 &  67 &  62 &  54 &  57 &  51 &  46 &  40 &  36 &  36 &  36 &  21 &  25\\\\\n",
       "\t  49.64993 &  0.9224558 & 0.2622441 &  3.517546 & 4.355565e-04 & 6.426952e-03 & PARK7    &  37 &  43 &  47 &  37 &  38 &  39 &  54 &  51 &  50 &  61 &  69 &  70\\\\\n",
       "\t 186.76433 &  0.5528684 & 0.1481239 &  3.732473 & 1.896094e-04 & 3.502703e-03 & RERE     & 171 & 174 & 187 & 171 & 167 & 175 & 165 & 180 & 189 & 204 & 239 & 225\\\\\n",
       "\t  44.46515 &  1.0083677 & 0.2684577 &  3.756152 & 1.725463e-04 & 3.269921e-03 & PGD      &  37 &  40 &  29 &  37 &  38 &  34 &  50 &  43 &  37 &  45 &  70 &  72\\\\\n",
       "\t  27.16807 &  1.1758202 & 0.3428771 &  3.429276 & 6.051942e-04 & 8.100341e-03 & UBIAD1   &  24 &  18 &  22 &  24 &  26 &  24 &  24 &  23 &  27 &  26 &  44 &  43\\\\\n",
       "\t  99.67772 & -1.0762933 & 0.2093694 & -5.140642 & 2.738011e-07 & 2.617207e-05 & DHRS3    & 130 & 123 & 127 & 114 & 119 & 115 & 102 &  97 &  82 &  93 &  50 &  60\\\\\n",
       "\t  15.88361 &  2.0687709 & 0.5226288 &  3.958395 & 7.545518e-05 & 1.778914e-03 & CELA2B   &   7 &   6 &   8 &   7 &  10 &   9 &  14 &  13 &  32 &  34 &  23 &  27\\\\\n",
       "\t  60.50632 &  0.8774022 & 0.2408885 &  3.642359 & 2.701512e-04 & 4.550088e-03 & SZRD1    &  49 &  46 &  57 &  57 &  57 &  49 &  60 &  58 &  63 &  71 &  78 &  82\\\\\n",
       "\t 107.17865 &  1.0509486 & 0.1926673 &  5.454733 & 4.904638e-08 & 7.028862e-06 & IFFO2    &  74 &  85 &  93 &  95 &  96 &  86 & 100 & 103 & 111 & 141 & 154 & 148\\\\\n",
       "\t  37.35139 &  1.1501634 & 0.3075962 &  3.739199 & 1.846076e-04 & 3.438564e-03 & DDOST    &  33 &  24 &  25 &  33 &  34 &  27 &  29 &  42 &  44 &  40 &  65 &  51\\\\\n",
       "\t  65.69243 &  0.9501392 & 0.2349417 &  4.044149 & 5.251358e-05 & 1.373803e-03 & KIF17    &  56 &  49 &  44 &  58 &  51 &  53 &  60 &  74 &  73 &  84 &  98 &  88\\\\\n",
       "\t 112.21058 & -0.8366484 & 0.1984463 & -4.215994 & 2.486801e-05 & 7.756339e-04 & RAP1GAP  & 123 & 140 & 119 & 138 & 143 & 130 & 112 & 105 & 105 & 113 &  68 &  67\\\\\n",
       "\t 142.45909 &  0.7142902 & 0.1673883 &  4.267265 & 1.978837e-05 & 6.569815e-04 & EPHB2    & 115 & 133 & 131 & 127 & 155 & 139 & 138 & 114 & 146 & 141 & 188 & 185\\\\\n",
       "\t  56.44530 &  1.1677585 & 0.2473905 &  4.720305 & 2.354916e-06 & 1.343229e-04 & HNRNPR   &  40 &  44 &  45 &  50 &  50 &  47 &  55 &  54 &  58 &  60 &  81 &  92\\\\\n",
       "\t  63.87136 &  0.8209089 & 0.2298516 &  3.571474 & 3.549778e-04 & 5.543581e-03 & ZNF436   &  56 &  57 &  52 &  56 &  56 &  49 &  54 &  67 &  71 &  65 &  88 &  95\\\\\n",
       "\t  72.59056 &  0.7405375 & 0.2187796 &  3.384855 & 7.121574e-04 & 9.082158e-03 & NIPAL3   &  63 &  63 &  56 &  70 &  65 &  63 &  70 &  75 &  79 &  75 &  95 &  98\\\\\n",
       "\t  44.12946 &  0.9670802 & 0.2731032 &  3.541080 & 3.984925e-04 & 6.044093e-03 & SRRM1    &  40 &  37 &  27 &  38 &  42 &  36 &  33 &  44 &  49 &  44 &  65 &  73\\\\\n",
       "\t  51.52313 &  0.9772425 & 0.2555053 &  3.824744 & 1.309078e-04 & 2.704755e-03 & CLIC4    &  41 &  41 &  43 &  37 &  44 &  47 &  52 &  58 &  52 &  55 &  75 &  73\\\\\n",
       "\t  16.27546 & -2.9044254 & 0.6788083 & -4.278712 & 1.879779e-05 & 6.337696e-04 & CNKSR1   &  25 &  24 &  24 &  16 &  23 &  23 &  16 &  14 &  13 &  15 &   3 &   3\\\\\n",
       "\t 107.33248 &  0.9043873 & 0.1872643 &  4.829471 & 1.368965e-06 & 8.878907e-05 & ARID1A   &  84 &  85 &  89 &  96 &  96 &  95 & 105 & 103 & 114 & 132 & 145 & 145\\\\\n",
       "\t  16.96421 & -2.3484750 & 0.5883024 & -3.991952 & 6.553167e-05 & 1.607975e-03 & SFN      &  23 &  27 &  19 &  23 &  29 &  19 &  14 &  18 &  11 &  15 &   5 &   4\\\\\n",
       "\t  53.13859 & -1.1147580 & 0.2766296 & -4.029786 & 5.582767e-05 & 1.435340e-03 & SYTL1    &  71 &  66 &  57 &  63 &  60 &  58 &  50 &  56 &  51 &  56 &  29 &  29\\\\\n",
       "\t  49.44926 &  0.9814976 & 0.2598357 &  3.777377 & 1.584886e-04 & 3.092989e-03 & FAM76A   &  38 &  41 &  37 &  38 &  44 &  39 &  56 &  56 &  53 &  48 &  70 &  73\\\\\n",
       "\t  14.96940 & -2.6820254 & 0.6888532 & -3.893464 & 9.882273e-05 & 2.176227e-03 & SMPDL3B  &  22 &  20 &  21 &  26 &  17 &  19 &  13 &  17 &   9 &  13 &   2 &   4\\\\\n",
       "\t 104.69407 &  0.9436213 & 0.1881776 &  5.014525 & 5.316464e-07 & 4.556183e-05 & EPB41    &  99 &  87 &  87 &  95 &  92 &  78 &  80 & 103 &  99 & 105 & 169 & 159\\\\\n",
       "\t 189.06372 & -1.2447939 & 0.1674920 & -7.431961 & 1.069995e-13 & 3.102450e-10 & PTPRU    & 230 & 212 & 212 & 222 & 215 & 216 & 208 & 210 & 198 & 208 &  89 &  82\\\\\n",
       "\t ⋮ & ⋮ & ⋮ & ⋮ & ⋮ & ⋮ & ⋮ & ⋮ & ⋮ & ⋮ & ⋮ & ⋮ & ⋮ & ⋮ & ⋮ & ⋮ & ⋮ & ⋮ & ⋮\\\\\n",
       "\t  20.279387 &  1.7999256 & 0.4044062 &  4.450786 & 8.555645e-06 & 3.518736e-04 & SPIN4          & 14 & 12 & 12 &  9 &  11 &  15 &  22 &  18 &  23 &  22 &  39 &  44\\\\\n",
       "\t  53.813531 &  1.0045143 & 0.2601935 &  3.860643 & 1.130892e-04 & 2.405151e-03 & ARHGEF9        & 44 & 37 & 48 & 43 &  46 &  58 &  48 &  64 &  56 &  53 &  80 &  69\\\\\n",
       "\t  33.290991 &  1.3557663 & 0.3127844 &  4.334508 & 1.460865e-05 & 5.207925e-04 & AMER1          & 23 & 29 & 33 & 19 &  24 &  22 &  30 &  34 &  32 &  29 &  62 &  60\\\\\n",
       "\t  39.256523 &  1.0257558 & 0.2923486 &  3.508673 & 4.503477e-04 & 6.573123e-03 & ZC4H2          & 31 & 29 & 33 & 30 &  30 &  32 &  45 &  52 &  39 &  38 &  58 &  54\\\\\n",
       "\t  46.000946 &  1.0543697 & 0.2730961 &  3.860800 & 1.130162e-04 & 2.405151e-03 & HMGN5          & 39 & 34 & 26 & 37 &  34 &  42 &  44 &  56 &  50 &  50 &  71 &  68\\\\\n",
       "\t  26.144800 &  1.7102472 & 0.3744471 &  4.567394 & 4.938261e-06 & 2.328209e-04 & PABPC5         & 17 & 14 & 19 & 12 &  14 &  23 &  26 &  29 &  37 &  28 &  45 &  48\\\\\n",
       "\t  32.745771 &  1.4051361 & 0.3328875 &  4.221054 & 2.431627e-05 & 7.649731e-04 & NAP1L3         & 27 & 15 & 26 & 21 &  25 &  25 &  33 &  38 &  40 &  40 &  54 &  48\\\\\n",
       "\t  32.745771 &  1.4051361 & 0.3328875 &  4.221054 & 2.431627e-05 & 7.649731e-04 & FAM133A        & 27 & 15 & 26 & 21 &  25 &  25 &  33 &  38 &  40 &  40 &  54 &  48\\\\\n",
       "\t  79.127675 &  0.7103221 & 0.2104659 &  3.374999 & 7.381585e-04 & 9.353054e-03 & RPL36A-HNRNPH2 & 69 & 69 & 72 & 73 &  63 &  72 &  69 &  82 &  87 &  88 & 102 & 105\\\\\n",
       "\t  31.799803 &  1.0956519 & 0.3213160 &  3.409889 & 6.498927e-04 & 8.532969e-03 & HNRNPH2        & 24 & 25 & 28 & 28 &  23 &  27 &  25 &  33 &  35 &  37 &  46 &  50\\\\\n",
       "\t  87.341227 &  0.8760303 & 0.2058676 &  4.255308 & 2.087612e-05 & 6.788446e-04 & SLC25A53       & 81 & 64 & 63 & 62 &  81 &  82 &  88 & 107 &  94 &  82 & 120 & 124\\\\\n",
       "\t   8.580433 &  2.6488754 & 0.6585998 &  4.021980 & 5.771093e-05 & 1.469981e-03 & RIPPLY1        &  4 &  4 &  5 &  4 &   1 &   2 &   8 &   7 &  11 &   9 &  24 &  22\\\\\n",
       "\t  47.038566 &  1.1136952 & 0.2831945 &  3.932617 & 8.402616e-05 & 1.926305e-03 & PRPS1          & 37 & 26 & 32 & 34 &  40 &  49 &  48 &  59 &  61 &  54 &  60 &  65\\\\\n",
       "\t  53.073363 &  1.0210726 & 0.2697462 &  3.785309 & 1.535177e-04 & 3.034941e-03 & PSMD10         & 43 & 36 & 38 & 29 &  44 &  54 &  54 &  73 &  70 &  49 &  79 &  68\\\\\n",
       "\t  36.834712 &  1.1253595 & 0.2981704 &  3.774216 & 1.605114e-04 & 3.123508e-03 & NXT2           & 27 & 30 & 25 & 24 &  33 &  29 &  40 &  40 &  41 &  38 &  61 &  53\\\\\n",
       "\t 109.334407 &  0.6212934 & 0.1821717 &  3.410482 & 6.484805e-04 & 8.520857e-03 & PAK3           & 99 & 96 & 94 & 86 & 101 & 102 & 118 & 125 & 109 & 110 & 136 & 139\\\\\n",
       "\t  60.620757 &  1.0950419 & 0.2383037 &  4.595153 & 4.324311e-06 & 2.131162e-04 & DCX            & 46 & 50 & 56 & 44 &  44 &  50 &  59 &  68 &  64 &  57 &  92 &  96\\\\\n",
       "\t  66.947300 &  0.8838059 & 0.2309809 &  3.826316 & 1.300754e-04 & 2.693955e-03 & AMOT           & 49 & 58 & 54 & 52 &  55 &  57 &  65 &  78 &  83 &  72 &  94 &  87\\\\\n",
       "\t  51.584148 & -1.2933491 & 0.2913036 & -4.439866 & 9.001491e-06 & 3.613966e-04 & HTR2C          & 64 & 67 & 65 & 72 &  61 &  73 &  46 &  49 &  39 &  43 &  26 &  23\\\\\n",
       "\t  16.915813 &  2.0480859 & 0.4230051 &  4.841752 & 1.286995e-06 & 8.448999e-05 & TEX13D         & 14 & 10 & 10 & 11 &   8 &   8 &  11 &  12 &  11 &  13 &  42 &  49\\\\\n",
       "\t  51.576518 & -1.0935540 & 0.2849482 & -3.837729 & 1.241772e-04 & 2.596528e-03 & XPNPEP2        & 72 & 63 & 54 & 58 &  46 &  60 &  50 &  55 &  65 &  46 &  26 &  32\\\\\n",
       "\t  54.400695 & -0.9406726 & 0.2703728 & -3.479168 & 5.029730e-04 & 7.085199e-03 & ELF4           & 64 & 70 & 63 & 68 &  65 &  63 &  50 &  54 &  46 &  54 &  32 &  32\\\\\n",
       "\t 106.456984 &  1.1662178 & 0.1816040 &  6.421764 & 1.347042e-10 & 6.333645e-08 & ENOX2          & 87 & 87 & 84 & 80 &  92 &  91 &  90 &  97 & 102 & 104 & 180 & 178\\\\\n",
       "\t  29.344417 &  1.1726033 & 0.3393678 &  3.455258 & 5.497657e-04 & 7.554719e-03 & PHF6           & 24 & 21 & 22 & 23 &  33 &  17 &  28 &  29 &  32 &  29 &  45 &  48\\\\\n",
       "\t  65.213178 &  0.8825996 & 0.2259725 &  3.905784 & 9.392056e-05 & 2.098370e-03 & ZNF75D         & 57 & 56 & 60 & 54 &  51 &  62 &  59 &  60 &  67 &  65 &  94 &  97\\\\\n",
       "\t  27.741765 &  1.2272694 & 0.3428764 &  3.579335 & 3.444696e-04 & 5.428204e-03 & ZNF449         & 20 & 21 & 22 & 22 &  23 &  29 &  25 &  28 &  28 &  26 &  43 &  45\\\\\n",
       "\t  14.102020 &  4.2409726 & 0.9047002 &  4.687710 & 2.762786e-06 & 1.488055e-04 & CD40LG         &  1 &  2 &  3 &  2 &  11 &  12 &  20 &  25 &  23 &  17 &  23 &  29\\\\\n",
       "\t  40.161192 &  1.0338069 & 0.2875038 &  3.595803 & 3.233922e-04 & 5.178288e-03 & EMD            & 31 & 34 & 26 & 28 &  36 &  39 &  38 &  43 &  49 &  35 &  58 &  64\\\\\n",
       "\t  30.863713 & -1.6400197 & 0.3892195 & -4.213612 & 2.513193e-05 & 7.793586e-04 & DNASE1L1       & 39 & 46 & 31 & 43 &  41 &  33 &  35 &  27 &  27 &  29 &  11 &  14\\\\\n",
       "\t  29.720984 & -1.4596059 & 0.3885743 & -3.756311 & 1.724363e-04 & 3.269921e-03 & TAZ            & 40 & 38 & 32 & 38 &  37 &  34 &  39 &  25 &  26 &  27 &  11 &  15\\\\\n",
       "\\end{tabular}\n"
      ],
      "text/markdown": [
       "\n",
       "A data.frame: 1422 × 19\n",
       "\n",
       "| baseMean &lt;dbl&gt; | log2FoldChange &lt;dbl&gt; | lfcSE &lt;dbl&gt; | stat &lt;dbl&gt; | pvalue &lt;dbl&gt; | padj &lt;dbl&gt; | gene_name &lt;fct&gt; | A1 &lt;int&gt; | A2 &lt;int&gt; | A3 &lt;int&gt; | A4 &lt;int&gt; | A5 &lt;int&gt; | A6 &lt;int&gt; | A7 &lt;int&gt; | A8 &lt;int&gt; | A9 &lt;int&gt; | A10 &lt;int&gt; | A11 &lt;int&gt; | A12 &lt;int&gt; |\n",
       "|---|---|---|---|---|---|---|---|---|---|---|---|---|---|---|---|---|---|---|\n",
       "|  53.96597 |  1.2859206 | 0.2555272 |  5.032421 | 4.843235e-07 | 4.171176e-05 | SAMD11   |  37 |  48 |  48 |  46 |  57 |  36 |  44 |  40 |  47 |  51 | 102 |  88 |\n",
       "|  36.98419 |  1.0500669 | 0.3035926 |  3.458802 | 5.425834e-04 | 7.509406e-03 | NOC2L    |  30 |  29 |  39 |  41 |  41 |  23 |  28 |  30 |  37 |  33 |  54 |  58 |\n",
       "|  85.93123 |  1.3913771 | 0.2120123 |  6.562719 | 5.283528e-11 | 2.881085e-08 | ACAP3    |  61 |  60 |  50 |  66 |  95 |  75 |  67 |  79 |  89 |  93 | 141 | 150 |\n",
       "|  41.82490 |  1.0333660 | 0.2768952 |  3.731975 | 1.899846e-04 | 3.502703e-03 | PRXL2B   |  42 |  31 |  33 |  37 |  37 |  35 |  31 |  40 |  35 |  42 |  69 |  68 |\n",
       "|  43.65750 | -1.3623490 | 0.3017304 | -4.515121 | 6.328074e-06 | 2.844690e-04 | ARHGEF16 |  67 |  62 |  54 |  57 |  51 |  46 |  40 |  36 |  36 |  36 |  21 |  25 |\n",
       "|  49.64993 |  0.9224558 | 0.2622441 |  3.517546 | 4.355565e-04 | 6.426952e-03 | PARK7    |  37 |  43 |  47 |  37 |  38 |  39 |  54 |  51 |  50 |  61 |  69 |  70 |\n",
       "| 186.76433 |  0.5528684 | 0.1481239 |  3.732473 | 1.896094e-04 | 3.502703e-03 | RERE     | 171 | 174 | 187 | 171 | 167 | 175 | 165 | 180 | 189 | 204 | 239 | 225 |\n",
       "|  44.46515 |  1.0083677 | 0.2684577 |  3.756152 | 1.725463e-04 | 3.269921e-03 | PGD      |  37 |  40 |  29 |  37 |  38 |  34 |  50 |  43 |  37 |  45 |  70 |  72 |\n",
       "|  27.16807 |  1.1758202 | 0.3428771 |  3.429276 | 6.051942e-04 | 8.100341e-03 | UBIAD1   |  24 |  18 |  22 |  24 |  26 |  24 |  24 |  23 |  27 |  26 |  44 |  43 |\n",
       "|  99.67772 | -1.0762933 | 0.2093694 | -5.140642 | 2.738011e-07 | 2.617207e-05 | DHRS3    | 130 | 123 | 127 | 114 | 119 | 115 | 102 |  97 |  82 |  93 |  50 |  60 |\n",
       "|  15.88361 |  2.0687709 | 0.5226288 |  3.958395 | 7.545518e-05 | 1.778914e-03 | CELA2B   |   7 |   6 |   8 |   7 |  10 |   9 |  14 |  13 |  32 |  34 |  23 |  27 |\n",
       "|  60.50632 |  0.8774022 | 0.2408885 |  3.642359 | 2.701512e-04 | 4.550088e-03 | SZRD1    |  49 |  46 |  57 |  57 |  57 |  49 |  60 |  58 |  63 |  71 |  78 |  82 |\n",
       "| 107.17865 |  1.0509486 | 0.1926673 |  5.454733 | 4.904638e-08 | 7.028862e-06 | IFFO2    |  74 |  85 |  93 |  95 |  96 |  86 | 100 | 103 | 111 | 141 | 154 | 148 |\n",
       "|  37.35139 |  1.1501634 | 0.3075962 |  3.739199 | 1.846076e-04 | 3.438564e-03 | DDOST    |  33 |  24 |  25 |  33 |  34 |  27 |  29 |  42 |  44 |  40 |  65 |  51 |\n",
       "|  65.69243 |  0.9501392 | 0.2349417 |  4.044149 | 5.251358e-05 | 1.373803e-03 | KIF17    |  56 |  49 |  44 |  58 |  51 |  53 |  60 |  74 |  73 |  84 |  98 |  88 |\n",
       "| 112.21058 | -0.8366484 | 0.1984463 | -4.215994 | 2.486801e-05 | 7.756339e-04 | RAP1GAP  | 123 | 140 | 119 | 138 | 143 | 130 | 112 | 105 | 105 | 113 |  68 |  67 |\n",
       "| 142.45909 |  0.7142902 | 0.1673883 |  4.267265 | 1.978837e-05 | 6.569815e-04 | EPHB2    | 115 | 133 | 131 | 127 | 155 | 139 | 138 | 114 | 146 | 141 | 188 | 185 |\n",
       "|  56.44530 |  1.1677585 | 0.2473905 |  4.720305 | 2.354916e-06 | 1.343229e-04 | HNRNPR   |  40 |  44 |  45 |  50 |  50 |  47 |  55 |  54 |  58 |  60 |  81 |  92 |\n",
       "|  63.87136 |  0.8209089 | 0.2298516 |  3.571474 | 3.549778e-04 | 5.543581e-03 | ZNF436   |  56 |  57 |  52 |  56 |  56 |  49 |  54 |  67 |  71 |  65 |  88 |  95 |\n",
       "|  72.59056 |  0.7405375 | 0.2187796 |  3.384855 | 7.121574e-04 | 9.082158e-03 | NIPAL3   |  63 |  63 |  56 |  70 |  65 |  63 |  70 |  75 |  79 |  75 |  95 |  98 |\n",
       "|  44.12946 |  0.9670802 | 0.2731032 |  3.541080 | 3.984925e-04 | 6.044093e-03 | SRRM1    |  40 |  37 |  27 |  38 |  42 |  36 |  33 |  44 |  49 |  44 |  65 |  73 |\n",
       "|  51.52313 |  0.9772425 | 0.2555053 |  3.824744 | 1.309078e-04 | 2.704755e-03 | CLIC4    |  41 |  41 |  43 |  37 |  44 |  47 |  52 |  58 |  52 |  55 |  75 |  73 |\n",
       "|  16.27546 | -2.9044254 | 0.6788083 | -4.278712 | 1.879779e-05 | 6.337696e-04 | CNKSR1   |  25 |  24 |  24 |  16 |  23 |  23 |  16 |  14 |  13 |  15 |   3 |   3 |\n",
       "| 107.33248 |  0.9043873 | 0.1872643 |  4.829471 | 1.368965e-06 | 8.878907e-05 | ARID1A   |  84 |  85 |  89 |  96 |  96 |  95 | 105 | 103 | 114 | 132 | 145 | 145 |\n",
       "|  16.96421 | -2.3484750 | 0.5883024 | -3.991952 | 6.553167e-05 | 1.607975e-03 | SFN      |  23 |  27 |  19 |  23 |  29 |  19 |  14 |  18 |  11 |  15 |   5 |   4 |\n",
       "|  53.13859 | -1.1147580 | 0.2766296 | -4.029786 | 5.582767e-05 | 1.435340e-03 | SYTL1    |  71 |  66 |  57 |  63 |  60 |  58 |  50 |  56 |  51 |  56 |  29 |  29 |\n",
       "|  49.44926 |  0.9814976 | 0.2598357 |  3.777377 | 1.584886e-04 | 3.092989e-03 | FAM76A   |  38 |  41 |  37 |  38 |  44 |  39 |  56 |  56 |  53 |  48 |  70 |  73 |\n",
       "|  14.96940 | -2.6820254 | 0.6888532 | -3.893464 | 9.882273e-05 | 2.176227e-03 | SMPDL3B  |  22 |  20 |  21 |  26 |  17 |  19 |  13 |  17 |   9 |  13 |   2 |   4 |\n",
       "| 104.69407 |  0.9436213 | 0.1881776 |  5.014525 | 5.316464e-07 | 4.556183e-05 | EPB41    |  99 |  87 |  87 |  95 |  92 |  78 |  80 | 103 |  99 | 105 | 169 | 159 |\n",
       "| 189.06372 | -1.2447939 | 0.1674920 | -7.431961 | 1.069995e-13 | 3.102450e-10 | PTPRU    | 230 | 212 | 212 | 222 | 215 | 216 | 208 | 210 | 198 | 208 |  89 |  82 |\n",
       "| ⋮ | ⋮ | ⋮ | ⋮ | ⋮ | ⋮ | ⋮ | ⋮ | ⋮ | ⋮ | ⋮ | ⋮ | ⋮ | ⋮ | ⋮ | ⋮ | ⋮ | ⋮ | ⋮ |\n",
       "|  20.279387 |  1.7999256 | 0.4044062 |  4.450786 | 8.555645e-06 | 3.518736e-04 | SPIN4          | 14 | 12 | 12 |  9 |  11 |  15 |  22 |  18 |  23 |  22 |  39 |  44 |\n",
       "|  53.813531 |  1.0045143 | 0.2601935 |  3.860643 | 1.130892e-04 | 2.405151e-03 | ARHGEF9        | 44 | 37 | 48 | 43 |  46 |  58 |  48 |  64 |  56 |  53 |  80 |  69 |\n",
       "|  33.290991 |  1.3557663 | 0.3127844 |  4.334508 | 1.460865e-05 | 5.207925e-04 | AMER1          | 23 | 29 | 33 | 19 |  24 |  22 |  30 |  34 |  32 |  29 |  62 |  60 |\n",
       "|  39.256523 |  1.0257558 | 0.2923486 |  3.508673 | 4.503477e-04 | 6.573123e-03 | ZC4H2          | 31 | 29 | 33 | 30 |  30 |  32 |  45 |  52 |  39 |  38 |  58 |  54 |\n",
       "|  46.000946 |  1.0543697 | 0.2730961 |  3.860800 | 1.130162e-04 | 2.405151e-03 | HMGN5          | 39 | 34 | 26 | 37 |  34 |  42 |  44 |  56 |  50 |  50 |  71 |  68 |\n",
       "|  26.144800 |  1.7102472 | 0.3744471 |  4.567394 | 4.938261e-06 | 2.328209e-04 | PABPC5         | 17 | 14 | 19 | 12 |  14 |  23 |  26 |  29 |  37 |  28 |  45 |  48 |\n",
       "|  32.745771 |  1.4051361 | 0.3328875 |  4.221054 | 2.431627e-05 | 7.649731e-04 | NAP1L3         | 27 | 15 | 26 | 21 |  25 |  25 |  33 |  38 |  40 |  40 |  54 |  48 |\n",
       "|  32.745771 |  1.4051361 | 0.3328875 |  4.221054 | 2.431627e-05 | 7.649731e-04 | FAM133A        | 27 | 15 | 26 | 21 |  25 |  25 |  33 |  38 |  40 |  40 |  54 |  48 |\n",
       "|  79.127675 |  0.7103221 | 0.2104659 |  3.374999 | 7.381585e-04 | 9.353054e-03 | RPL36A-HNRNPH2 | 69 | 69 | 72 | 73 |  63 |  72 |  69 |  82 |  87 |  88 | 102 | 105 |\n",
       "|  31.799803 |  1.0956519 | 0.3213160 |  3.409889 | 6.498927e-04 | 8.532969e-03 | HNRNPH2        | 24 | 25 | 28 | 28 |  23 |  27 |  25 |  33 |  35 |  37 |  46 |  50 |\n",
       "|  87.341227 |  0.8760303 | 0.2058676 |  4.255308 | 2.087612e-05 | 6.788446e-04 | SLC25A53       | 81 | 64 | 63 | 62 |  81 |  82 |  88 | 107 |  94 |  82 | 120 | 124 |\n",
       "|   8.580433 |  2.6488754 | 0.6585998 |  4.021980 | 5.771093e-05 | 1.469981e-03 | RIPPLY1        |  4 |  4 |  5 |  4 |   1 |   2 |   8 |   7 |  11 |   9 |  24 |  22 |\n",
       "|  47.038566 |  1.1136952 | 0.2831945 |  3.932617 | 8.402616e-05 | 1.926305e-03 | PRPS1          | 37 | 26 | 32 | 34 |  40 |  49 |  48 |  59 |  61 |  54 |  60 |  65 |\n",
       "|  53.073363 |  1.0210726 | 0.2697462 |  3.785309 | 1.535177e-04 | 3.034941e-03 | PSMD10         | 43 | 36 | 38 | 29 |  44 |  54 |  54 |  73 |  70 |  49 |  79 |  68 |\n",
       "|  36.834712 |  1.1253595 | 0.2981704 |  3.774216 | 1.605114e-04 | 3.123508e-03 | NXT2           | 27 | 30 | 25 | 24 |  33 |  29 |  40 |  40 |  41 |  38 |  61 |  53 |\n",
       "| 109.334407 |  0.6212934 | 0.1821717 |  3.410482 | 6.484805e-04 | 8.520857e-03 | PAK3           | 99 | 96 | 94 | 86 | 101 | 102 | 118 | 125 | 109 | 110 | 136 | 139 |\n",
       "|  60.620757 |  1.0950419 | 0.2383037 |  4.595153 | 4.324311e-06 | 2.131162e-04 | DCX            | 46 | 50 | 56 | 44 |  44 |  50 |  59 |  68 |  64 |  57 |  92 |  96 |\n",
       "|  66.947300 |  0.8838059 | 0.2309809 |  3.826316 | 1.300754e-04 | 2.693955e-03 | AMOT           | 49 | 58 | 54 | 52 |  55 |  57 |  65 |  78 |  83 |  72 |  94 |  87 |\n",
       "|  51.584148 | -1.2933491 | 0.2913036 | -4.439866 | 9.001491e-06 | 3.613966e-04 | HTR2C          | 64 | 67 | 65 | 72 |  61 |  73 |  46 |  49 |  39 |  43 |  26 |  23 |\n",
       "|  16.915813 |  2.0480859 | 0.4230051 |  4.841752 | 1.286995e-06 | 8.448999e-05 | TEX13D         | 14 | 10 | 10 | 11 |   8 |   8 |  11 |  12 |  11 |  13 |  42 |  49 |\n",
       "|  51.576518 | -1.0935540 | 0.2849482 | -3.837729 | 1.241772e-04 | 2.596528e-03 | XPNPEP2        | 72 | 63 | 54 | 58 |  46 |  60 |  50 |  55 |  65 |  46 |  26 |  32 |\n",
       "|  54.400695 | -0.9406726 | 0.2703728 | -3.479168 | 5.029730e-04 | 7.085199e-03 | ELF4           | 64 | 70 | 63 | 68 |  65 |  63 |  50 |  54 |  46 |  54 |  32 |  32 |\n",
       "| 106.456984 |  1.1662178 | 0.1816040 |  6.421764 | 1.347042e-10 | 6.333645e-08 | ENOX2          | 87 | 87 | 84 | 80 |  92 |  91 |  90 |  97 | 102 | 104 | 180 | 178 |\n",
       "|  29.344417 |  1.1726033 | 0.3393678 |  3.455258 | 5.497657e-04 | 7.554719e-03 | PHF6           | 24 | 21 | 22 | 23 |  33 |  17 |  28 |  29 |  32 |  29 |  45 |  48 |\n",
       "|  65.213178 |  0.8825996 | 0.2259725 |  3.905784 | 9.392056e-05 | 2.098370e-03 | ZNF75D         | 57 | 56 | 60 | 54 |  51 |  62 |  59 |  60 |  67 |  65 |  94 |  97 |\n",
       "|  27.741765 |  1.2272694 | 0.3428764 |  3.579335 | 3.444696e-04 | 5.428204e-03 | ZNF449         | 20 | 21 | 22 | 22 |  23 |  29 |  25 |  28 |  28 |  26 |  43 |  45 |\n",
       "|  14.102020 |  4.2409726 | 0.9047002 |  4.687710 | 2.762786e-06 | 1.488055e-04 | CD40LG         |  1 |  2 |  3 |  2 |  11 |  12 |  20 |  25 |  23 |  17 |  23 |  29 |\n",
       "|  40.161192 |  1.0338069 | 0.2875038 |  3.595803 | 3.233922e-04 | 5.178288e-03 | EMD            | 31 | 34 | 26 | 28 |  36 |  39 |  38 |  43 |  49 |  35 |  58 |  64 |\n",
       "|  30.863713 | -1.6400197 | 0.3892195 | -4.213612 | 2.513193e-05 | 7.793586e-04 | DNASE1L1       | 39 | 46 | 31 | 43 |  41 |  33 |  35 |  27 |  27 |  29 |  11 |  14 |\n",
       "|  29.720984 | -1.4596059 | 0.3885743 | -3.756311 | 1.724363e-04 | 3.269921e-03 | TAZ            | 40 | 38 | 32 | 38 |  37 |  34 |  39 |  25 |  26 |  27 |  11 |  15 |\n",
       "\n"
      ],
      "text/plain": [
       "     baseMean   log2FoldChange lfcSE     stat      pvalue       padj        \n",
       "1     53.96597   1.2859206     0.2555272  5.032421 4.843235e-07 4.171176e-05\n",
       "2     36.98419   1.0500669     0.3035926  3.458802 5.425834e-04 7.509406e-03\n",
       "3     85.93123   1.3913771     0.2120123  6.562719 5.283528e-11 2.881085e-08\n",
       "4     41.82490   1.0333660     0.2768952  3.731975 1.899846e-04 3.502703e-03\n",
       "5     43.65750  -1.3623490     0.3017304 -4.515121 6.328074e-06 2.844690e-04\n",
       "6     49.64993   0.9224558     0.2622441  3.517546 4.355565e-04 6.426952e-03\n",
       "7    186.76433   0.5528684     0.1481239  3.732473 1.896094e-04 3.502703e-03\n",
       "8     44.46515   1.0083677     0.2684577  3.756152 1.725463e-04 3.269921e-03\n",
       "9     27.16807   1.1758202     0.3428771  3.429276 6.051942e-04 8.100341e-03\n",
       "10    99.67772  -1.0762933     0.2093694 -5.140642 2.738011e-07 2.617207e-05\n",
       "11    15.88361   2.0687709     0.5226288  3.958395 7.545518e-05 1.778914e-03\n",
       "12    60.50632   0.8774022     0.2408885  3.642359 2.701512e-04 4.550088e-03\n",
       "13   107.17865   1.0509486     0.1926673  5.454733 4.904638e-08 7.028862e-06\n",
       "14    37.35139   1.1501634     0.3075962  3.739199 1.846076e-04 3.438564e-03\n",
       "15    65.69243   0.9501392     0.2349417  4.044149 5.251358e-05 1.373803e-03\n",
       "16   112.21058  -0.8366484     0.1984463 -4.215994 2.486801e-05 7.756339e-04\n",
       "17   142.45909   0.7142902     0.1673883  4.267265 1.978837e-05 6.569815e-04\n",
       "18    56.44530   1.1677585     0.2473905  4.720305 2.354916e-06 1.343229e-04\n",
       "19    63.87136   0.8209089     0.2298516  3.571474 3.549778e-04 5.543581e-03\n",
       "20    72.59056   0.7405375     0.2187796  3.384855 7.121574e-04 9.082158e-03\n",
       "21    44.12946   0.9670802     0.2731032  3.541080 3.984925e-04 6.044093e-03\n",
       "22    51.52313   0.9772425     0.2555053  3.824744 1.309078e-04 2.704755e-03\n",
       "23    16.27546  -2.9044254     0.6788083 -4.278712 1.879779e-05 6.337696e-04\n",
       "24   107.33248   0.9043873     0.1872643  4.829471 1.368965e-06 8.878907e-05\n",
       "25    16.96421  -2.3484750     0.5883024 -3.991952 6.553167e-05 1.607975e-03\n",
       "26    53.13859  -1.1147580     0.2766296 -4.029786 5.582767e-05 1.435340e-03\n",
       "27    49.44926   0.9814976     0.2598357  3.777377 1.584886e-04 3.092989e-03\n",
       "28    14.96940  -2.6820254     0.6888532 -3.893464 9.882273e-05 2.176227e-03\n",
       "29   104.69407   0.9436213     0.1881776  5.014525 5.316464e-07 4.556183e-05\n",
       "30   189.06372  -1.2447939     0.1674920 -7.431961 1.069995e-13 3.102450e-10\n",
       "⋮    ⋮          ⋮              ⋮         ⋮         ⋮            ⋮           \n",
       "1393  20.279387  1.7999256     0.4044062  4.450786 8.555645e-06 3.518736e-04\n",
       "1394  53.813531  1.0045143     0.2601935  3.860643 1.130892e-04 2.405151e-03\n",
       "1395  33.290991  1.3557663     0.3127844  4.334508 1.460865e-05 5.207925e-04\n",
       "1396  39.256523  1.0257558     0.2923486  3.508673 4.503477e-04 6.573123e-03\n",
       "1397  46.000946  1.0543697     0.2730961  3.860800 1.130162e-04 2.405151e-03\n",
       "1398  26.144800  1.7102472     0.3744471  4.567394 4.938261e-06 2.328209e-04\n",
       "1399  32.745771  1.4051361     0.3328875  4.221054 2.431627e-05 7.649731e-04\n",
       "1400  32.745771  1.4051361     0.3328875  4.221054 2.431627e-05 7.649731e-04\n",
       "1401  79.127675  0.7103221     0.2104659  3.374999 7.381585e-04 9.353054e-03\n",
       "1402  31.799803  1.0956519     0.3213160  3.409889 6.498927e-04 8.532969e-03\n",
       "1403  87.341227  0.8760303     0.2058676  4.255308 2.087612e-05 6.788446e-04\n",
       "1404   8.580433  2.6488754     0.6585998  4.021980 5.771093e-05 1.469981e-03\n",
       "1405  47.038566  1.1136952     0.2831945  3.932617 8.402616e-05 1.926305e-03\n",
       "1406  53.073363  1.0210726     0.2697462  3.785309 1.535177e-04 3.034941e-03\n",
       "1407  36.834712  1.1253595     0.2981704  3.774216 1.605114e-04 3.123508e-03\n",
       "1408 109.334407  0.6212934     0.1821717  3.410482 6.484805e-04 8.520857e-03\n",
       "1409  60.620757  1.0950419     0.2383037  4.595153 4.324311e-06 2.131162e-04\n",
       "1410  66.947300  0.8838059     0.2309809  3.826316 1.300754e-04 2.693955e-03\n",
       "1411  51.584148 -1.2933491     0.2913036 -4.439866 9.001491e-06 3.613966e-04\n",
       "1412  16.915813  2.0480859     0.4230051  4.841752 1.286995e-06 8.448999e-05\n",
       "1413  51.576518 -1.0935540     0.2849482 -3.837729 1.241772e-04 2.596528e-03\n",
       "1414  54.400695 -0.9406726     0.2703728 -3.479168 5.029730e-04 7.085199e-03\n",
       "1415 106.456984  1.1662178     0.1816040  6.421764 1.347042e-10 6.333645e-08\n",
       "1416  29.344417  1.1726033     0.3393678  3.455258 5.497657e-04 7.554719e-03\n",
       "1417  65.213178  0.8825996     0.2259725  3.905784 9.392056e-05 2.098370e-03\n",
       "1418  27.741765  1.2272694     0.3428764  3.579335 3.444696e-04 5.428204e-03\n",
       "1419  14.102020  4.2409726     0.9047002  4.687710 2.762786e-06 1.488055e-04\n",
       "1420  40.161192  1.0338069     0.2875038  3.595803 3.233922e-04 5.178288e-03\n",
       "1421  30.863713 -1.6400197     0.3892195 -4.213612 2.513193e-05 7.793586e-04\n",
       "1422  29.720984 -1.4596059     0.3885743 -3.756311 1.724363e-04 3.269921e-03\n",
       "     gene_name      A1  A2  A3  A4  A5  A6  A7  A8  A9  A10 A11 A12\n",
       "1    SAMD11          37  48  48  46  57  36  44  40  47  51 102  88\n",
       "2    NOC2L           30  29  39  41  41  23  28  30  37  33  54  58\n",
       "3    ACAP3           61  60  50  66  95  75  67  79  89  93 141 150\n",
       "4    PRXL2B          42  31  33  37  37  35  31  40  35  42  69  68\n",
       "5    ARHGEF16        67  62  54  57  51  46  40  36  36  36  21  25\n",
       "6    PARK7           37  43  47  37  38  39  54  51  50  61  69  70\n",
       "7    RERE           171 174 187 171 167 175 165 180 189 204 239 225\n",
       "8    PGD             37  40  29  37  38  34  50  43  37  45  70  72\n",
       "9    UBIAD1          24  18  22  24  26  24  24  23  27  26  44  43\n",
       "10   DHRS3          130 123 127 114 119 115 102  97  82  93  50  60\n",
       "11   CELA2B           7   6   8   7  10   9  14  13  32  34  23  27\n",
       "12   SZRD1           49  46  57  57  57  49  60  58  63  71  78  82\n",
       "13   IFFO2           74  85  93  95  96  86 100 103 111 141 154 148\n",
       "14   DDOST           33  24  25  33  34  27  29  42  44  40  65  51\n",
       "15   KIF17           56  49  44  58  51  53  60  74  73  84  98  88\n",
       "16   RAP1GAP        123 140 119 138 143 130 112 105 105 113  68  67\n",
       "17   EPHB2          115 133 131 127 155 139 138 114 146 141 188 185\n",
       "18   HNRNPR          40  44  45  50  50  47  55  54  58  60  81  92\n",
       "19   ZNF436          56  57  52  56  56  49  54  67  71  65  88  95\n",
       "20   NIPAL3          63  63  56  70  65  63  70  75  79  75  95  98\n",
       "21   SRRM1           40  37  27  38  42  36  33  44  49  44  65  73\n",
       "22   CLIC4           41  41  43  37  44  47  52  58  52  55  75  73\n",
       "23   CNKSR1          25  24  24  16  23  23  16  14  13  15   3   3\n",
       "24   ARID1A          84  85  89  96  96  95 105 103 114 132 145 145\n",
       "25   SFN             23  27  19  23  29  19  14  18  11  15   5   4\n",
       "26   SYTL1           71  66  57  63  60  58  50  56  51  56  29  29\n",
       "27   FAM76A          38  41  37  38  44  39  56  56  53  48  70  73\n",
       "28   SMPDL3B         22  20  21  26  17  19  13  17   9  13   2   4\n",
       "29   EPB41           99  87  87  95  92  78  80 103  99 105 169 159\n",
       "30   PTPRU          230 212 212 222 215 216 208 210 198 208  89  82\n",
       "⋮    ⋮              ⋮   ⋮   ⋮   ⋮   ⋮   ⋮   ⋮   ⋮   ⋮   ⋮   ⋮   ⋮  \n",
       "1393 SPIN4          14  12  12   9   11  15  22  18  23  22  39  44\n",
       "1394 ARHGEF9        44  37  48  43   46  58  48  64  56  53  80  69\n",
       "1395 AMER1          23  29  33  19   24  22  30  34  32  29  62  60\n",
       "1396 ZC4H2          31  29  33  30   30  32  45  52  39  38  58  54\n",
       "1397 HMGN5          39  34  26  37   34  42  44  56  50  50  71  68\n",
       "1398 PABPC5         17  14  19  12   14  23  26  29  37  28  45  48\n",
       "1399 NAP1L3         27  15  26  21   25  25  33  38  40  40  54  48\n",
       "1400 FAM133A        27  15  26  21   25  25  33  38  40  40  54  48\n",
       "1401 RPL36A-HNRNPH2 69  69  72  73   63  72  69  82  87  88 102 105\n",
       "1402 HNRNPH2        24  25  28  28   23  27  25  33  35  37  46  50\n",
       "1403 SLC25A53       81  64  63  62   81  82  88 107  94  82 120 124\n",
       "1404 RIPPLY1         4   4   5   4    1   2   8   7  11   9  24  22\n",
       "1405 PRPS1          37  26  32  34   40  49  48  59  61  54  60  65\n",
       "1406 PSMD10         43  36  38  29   44  54  54  73  70  49  79  68\n",
       "1407 NXT2           27  30  25  24   33  29  40  40  41  38  61  53\n",
       "1408 PAK3           99  96  94  86  101 102 118 125 109 110 136 139\n",
       "1409 DCX            46  50  56  44   44  50  59  68  64  57  92  96\n",
       "1410 AMOT           49  58  54  52   55  57  65  78  83  72  94  87\n",
       "1411 HTR2C          64  67  65  72   61  73  46  49  39  43  26  23\n",
       "1412 TEX13D         14  10  10  11    8   8  11  12  11  13  42  49\n",
       "1413 XPNPEP2        72  63  54  58   46  60  50  55  65  46  26  32\n",
       "1414 ELF4           64  70  63  68   65  63  50  54  46  54  32  32\n",
       "1415 ENOX2          87  87  84  80   92  91  90  97 102 104 180 178\n",
       "1416 PHF6           24  21  22  23   33  17  28  29  32  29  45  48\n",
       "1417 ZNF75D         57  56  60  54   51  62  59  60  67  65  94  97\n",
       "1418 ZNF449         20  21  22  22   23  29  25  28  28  26  43  45\n",
       "1419 CD40LG          1   2   3   2   11  12  20  25  23  17  23  29\n",
       "1420 EMD            31  34  26  28   36  39  38  43  49  35  58  64\n",
       "1421 DNASE1L1       39  46  31  43   41  33  35  27  27  29  11  14\n",
       "1422 TAZ            40  38  32  38   37  34  39  25  26  27  11  15"
      ]
     },
     "metadata": {},
     "output_type": "display_data"
    }
   ],
   "source": [
    "fdr <- 0.01\n",
    "res.atac.a[which(res.atac.a$padj < fdr), ] %>% as.data.frame %>% \n",
    "        add_column(\"gene_name\"=atac.counts.perGene$gene_name[which(res.atac.a$padj < fdr)]) %>%\n",
    "        cbind(counts(dds.atac)[which(res.atac.a$padj < fdr),])"
   ]
  },
  {
   "cell_type": "code",
   "execution_count": 134,
   "metadata": {
    "ExecuteTime": {
     "end_time": "2019-11-17T18:22:30.710335Z",
     "start_time": "2019-11-17T18:22:29.301Z"
    },
    "hidden": true
   },
   "outputs": [],
   "source": [
    "res.atac.b <- results(dds.atac, contrast = c(\"condition\", \"D5\", \"ES\"))"
   ]
  },
  {
   "cell_type": "code",
   "execution_count": 137,
   "metadata": {
    "ExecuteTime": {
     "end_time": "2019-11-17T18:22:49.949922Z",
     "start_time": "2019-11-17T18:22:49.700Z"
    },
    "hidden": true
   },
   "outputs": [
    {
     "data": {
      "text/html": [
       "<table>\n",
       "<caption>A data.frame: 1422 × 19</caption>\n",
       "<thead>\n",
       "\t<tr><th scope=col>baseMean</th><th scope=col>log2FoldChange</th><th scope=col>lfcSE</th><th scope=col>stat</th><th scope=col>pvalue</th><th scope=col>padj</th><th scope=col>gene_name</th><th scope=col>A1</th><th scope=col>A2</th><th scope=col>A3</th><th scope=col>A4</th><th scope=col>A5</th><th scope=col>A6</th><th scope=col>A7</th><th scope=col>A8</th><th scope=col>A9</th><th scope=col>A10</th><th scope=col>A11</th><th scope=col>A12</th></tr>\n",
       "\t<tr><th scope=col>&lt;dbl&gt;</th><th scope=col>&lt;dbl&gt;</th><th scope=col>&lt;dbl&gt;</th><th scope=col>&lt;dbl&gt;</th><th scope=col>&lt;dbl&gt;</th><th scope=col>&lt;dbl&gt;</th><th scope=col>&lt;fct&gt;</th><th scope=col>&lt;int&gt;</th><th scope=col>&lt;int&gt;</th><th scope=col>&lt;int&gt;</th><th scope=col>&lt;int&gt;</th><th scope=col>&lt;int&gt;</th><th scope=col>&lt;int&gt;</th><th scope=col>&lt;int&gt;</th><th scope=col>&lt;int&gt;</th><th scope=col>&lt;int&gt;</th><th scope=col>&lt;int&gt;</th><th scope=col>&lt;int&gt;</th><th scope=col>&lt;int&gt;</th></tr>\n",
       "</thead>\n",
       "<tbody>\n",
       "\t<tr><td> 53.96597</td><td> 1.2859206</td><td>0.2555272</td><td> 5.032421</td><td>4.843235e-07</td><td>4.171176e-05</td><td>SAMD11  </td><td> 37</td><td> 48</td><td> 48</td><td> 46</td><td> 57</td><td> 36</td><td> 44</td><td> 40</td><td> 47</td><td> 51</td><td>102</td><td> 88</td></tr>\n",
       "\t<tr><td> 36.98419</td><td> 1.0500669</td><td>0.3035926</td><td> 3.458802</td><td>5.425834e-04</td><td>7.509406e-03</td><td>NOC2L   </td><td> 30</td><td> 29</td><td> 39</td><td> 41</td><td> 41</td><td> 23</td><td> 28</td><td> 30</td><td> 37</td><td> 33</td><td> 54</td><td> 58</td></tr>\n",
       "\t<tr><td> 85.93123</td><td> 1.3913771</td><td>0.2120123</td><td> 6.562719</td><td>5.283528e-11</td><td>2.881085e-08</td><td>ACAP3   </td><td> 61</td><td> 60</td><td> 50</td><td> 66</td><td> 95</td><td> 75</td><td> 67</td><td> 79</td><td> 89</td><td> 93</td><td>141</td><td>150</td></tr>\n",
       "\t<tr><td> 41.82490</td><td> 1.0333660</td><td>0.2768952</td><td> 3.731975</td><td>1.899846e-04</td><td>3.502703e-03</td><td>PRXL2B  </td><td> 42</td><td> 31</td><td> 33</td><td> 37</td><td> 37</td><td> 35</td><td> 31</td><td> 40</td><td> 35</td><td> 42</td><td> 69</td><td> 68</td></tr>\n",
       "\t<tr><td> 43.65750</td><td>-1.3623490</td><td>0.3017304</td><td>-4.515121</td><td>6.328074e-06</td><td>2.844690e-04</td><td>ARHGEF16</td><td> 67</td><td> 62</td><td> 54</td><td> 57</td><td> 51</td><td> 46</td><td> 40</td><td> 36</td><td> 36</td><td> 36</td><td> 21</td><td> 25</td></tr>\n",
       "\t<tr><td> 49.64993</td><td> 0.9224558</td><td>0.2622441</td><td> 3.517546</td><td>4.355565e-04</td><td>6.426952e-03</td><td>PARK7   </td><td> 37</td><td> 43</td><td> 47</td><td> 37</td><td> 38</td><td> 39</td><td> 54</td><td> 51</td><td> 50</td><td> 61</td><td> 69</td><td> 70</td></tr>\n",
       "\t<tr><td>186.76433</td><td> 0.5528684</td><td>0.1481239</td><td> 3.732473</td><td>1.896094e-04</td><td>3.502703e-03</td><td>RERE    </td><td>171</td><td>174</td><td>187</td><td>171</td><td>167</td><td>175</td><td>165</td><td>180</td><td>189</td><td>204</td><td>239</td><td>225</td></tr>\n",
       "\t<tr><td> 44.46515</td><td> 1.0083677</td><td>0.2684577</td><td> 3.756152</td><td>1.725463e-04</td><td>3.269921e-03</td><td>PGD     </td><td> 37</td><td> 40</td><td> 29</td><td> 37</td><td> 38</td><td> 34</td><td> 50</td><td> 43</td><td> 37</td><td> 45</td><td> 70</td><td> 72</td></tr>\n",
       "\t<tr><td> 27.16807</td><td> 1.1758202</td><td>0.3428771</td><td> 3.429276</td><td>6.051942e-04</td><td>8.100341e-03</td><td>UBIAD1  </td><td> 24</td><td> 18</td><td> 22</td><td> 24</td><td> 26</td><td> 24</td><td> 24</td><td> 23</td><td> 27</td><td> 26</td><td> 44</td><td> 43</td></tr>\n",
       "\t<tr><td> 99.67772</td><td>-1.0762933</td><td>0.2093694</td><td>-5.140642</td><td>2.738011e-07</td><td>2.617207e-05</td><td>DHRS3   </td><td>130</td><td>123</td><td>127</td><td>114</td><td>119</td><td>115</td><td>102</td><td> 97</td><td> 82</td><td> 93</td><td> 50</td><td> 60</td></tr>\n",
       "\t<tr><td> 15.88361</td><td> 2.0687709</td><td>0.5226288</td><td> 3.958395</td><td>7.545518e-05</td><td>1.778914e-03</td><td>CELA2B  </td><td>  7</td><td>  6</td><td>  8</td><td>  7</td><td> 10</td><td>  9</td><td> 14</td><td> 13</td><td> 32</td><td> 34</td><td> 23</td><td> 27</td></tr>\n",
       "\t<tr><td> 60.50632</td><td> 0.8774022</td><td>0.2408885</td><td> 3.642359</td><td>2.701512e-04</td><td>4.550088e-03</td><td>SZRD1   </td><td> 49</td><td> 46</td><td> 57</td><td> 57</td><td> 57</td><td> 49</td><td> 60</td><td> 58</td><td> 63</td><td> 71</td><td> 78</td><td> 82</td></tr>\n",
       "\t<tr><td>107.17865</td><td> 1.0509486</td><td>0.1926673</td><td> 5.454733</td><td>4.904638e-08</td><td>7.028862e-06</td><td>IFFO2   </td><td> 74</td><td> 85</td><td> 93</td><td> 95</td><td> 96</td><td> 86</td><td>100</td><td>103</td><td>111</td><td>141</td><td>154</td><td>148</td></tr>\n",
       "\t<tr><td> 37.35139</td><td> 1.1501634</td><td>0.3075962</td><td> 3.739199</td><td>1.846076e-04</td><td>3.438564e-03</td><td>DDOST   </td><td> 33</td><td> 24</td><td> 25</td><td> 33</td><td> 34</td><td> 27</td><td> 29</td><td> 42</td><td> 44</td><td> 40</td><td> 65</td><td> 51</td></tr>\n",
       "\t<tr><td> 65.69243</td><td> 0.9501392</td><td>0.2349417</td><td> 4.044149</td><td>5.251358e-05</td><td>1.373803e-03</td><td>KIF17   </td><td> 56</td><td> 49</td><td> 44</td><td> 58</td><td> 51</td><td> 53</td><td> 60</td><td> 74</td><td> 73</td><td> 84</td><td> 98</td><td> 88</td></tr>\n",
       "\t<tr><td>112.21058</td><td>-0.8366484</td><td>0.1984463</td><td>-4.215994</td><td>2.486801e-05</td><td>7.756339e-04</td><td>RAP1GAP </td><td>123</td><td>140</td><td>119</td><td>138</td><td>143</td><td>130</td><td>112</td><td>105</td><td>105</td><td>113</td><td> 68</td><td> 67</td></tr>\n",
       "\t<tr><td>142.45909</td><td> 0.7142902</td><td>0.1673883</td><td> 4.267265</td><td>1.978837e-05</td><td>6.569815e-04</td><td>EPHB2   </td><td>115</td><td>133</td><td>131</td><td>127</td><td>155</td><td>139</td><td>138</td><td>114</td><td>146</td><td>141</td><td>188</td><td>185</td></tr>\n",
       "\t<tr><td> 56.44530</td><td> 1.1677585</td><td>0.2473905</td><td> 4.720305</td><td>2.354916e-06</td><td>1.343229e-04</td><td>HNRNPR  </td><td> 40</td><td> 44</td><td> 45</td><td> 50</td><td> 50</td><td> 47</td><td> 55</td><td> 54</td><td> 58</td><td> 60</td><td> 81</td><td> 92</td></tr>\n",
       "\t<tr><td> 63.87136</td><td> 0.8209089</td><td>0.2298516</td><td> 3.571474</td><td>3.549778e-04</td><td>5.543581e-03</td><td>ZNF436  </td><td> 56</td><td> 57</td><td> 52</td><td> 56</td><td> 56</td><td> 49</td><td> 54</td><td> 67</td><td> 71</td><td> 65</td><td> 88</td><td> 95</td></tr>\n",
       "\t<tr><td> 72.59056</td><td> 0.7405375</td><td>0.2187796</td><td> 3.384855</td><td>7.121574e-04</td><td>9.082158e-03</td><td>NIPAL3  </td><td> 63</td><td> 63</td><td> 56</td><td> 70</td><td> 65</td><td> 63</td><td> 70</td><td> 75</td><td> 79</td><td> 75</td><td> 95</td><td> 98</td></tr>\n",
       "\t<tr><td> 44.12946</td><td> 0.9670802</td><td>0.2731032</td><td> 3.541080</td><td>3.984925e-04</td><td>6.044093e-03</td><td>SRRM1   </td><td> 40</td><td> 37</td><td> 27</td><td> 38</td><td> 42</td><td> 36</td><td> 33</td><td> 44</td><td> 49</td><td> 44</td><td> 65</td><td> 73</td></tr>\n",
       "\t<tr><td> 51.52313</td><td> 0.9772425</td><td>0.2555053</td><td> 3.824744</td><td>1.309078e-04</td><td>2.704755e-03</td><td>CLIC4   </td><td> 41</td><td> 41</td><td> 43</td><td> 37</td><td> 44</td><td> 47</td><td> 52</td><td> 58</td><td> 52</td><td> 55</td><td> 75</td><td> 73</td></tr>\n",
       "\t<tr><td> 16.27546</td><td>-2.9044254</td><td>0.6788083</td><td>-4.278712</td><td>1.879779e-05</td><td>6.337696e-04</td><td>CNKSR1  </td><td> 25</td><td> 24</td><td> 24</td><td> 16</td><td> 23</td><td> 23</td><td> 16</td><td> 14</td><td> 13</td><td> 15</td><td>  3</td><td>  3</td></tr>\n",
       "\t<tr><td>107.33248</td><td> 0.9043873</td><td>0.1872643</td><td> 4.829471</td><td>1.368965e-06</td><td>8.878907e-05</td><td>ARID1A  </td><td> 84</td><td> 85</td><td> 89</td><td> 96</td><td> 96</td><td> 95</td><td>105</td><td>103</td><td>114</td><td>132</td><td>145</td><td>145</td></tr>\n",
       "\t<tr><td> 16.96421</td><td>-2.3484750</td><td>0.5883024</td><td>-3.991952</td><td>6.553167e-05</td><td>1.607975e-03</td><td>SFN     </td><td> 23</td><td> 27</td><td> 19</td><td> 23</td><td> 29</td><td> 19</td><td> 14</td><td> 18</td><td> 11</td><td> 15</td><td>  5</td><td>  4</td></tr>\n",
       "\t<tr><td> 53.13859</td><td>-1.1147580</td><td>0.2766296</td><td>-4.029786</td><td>5.582767e-05</td><td>1.435340e-03</td><td>SYTL1   </td><td> 71</td><td> 66</td><td> 57</td><td> 63</td><td> 60</td><td> 58</td><td> 50</td><td> 56</td><td> 51</td><td> 56</td><td> 29</td><td> 29</td></tr>\n",
       "\t<tr><td> 49.44926</td><td> 0.9814976</td><td>0.2598357</td><td> 3.777377</td><td>1.584886e-04</td><td>3.092989e-03</td><td>FAM76A  </td><td> 38</td><td> 41</td><td> 37</td><td> 38</td><td> 44</td><td> 39</td><td> 56</td><td> 56</td><td> 53</td><td> 48</td><td> 70</td><td> 73</td></tr>\n",
       "\t<tr><td> 14.96940</td><td>-2.6820254</td><td>0.6888532</td><td>-3.893464</td><td>9.882273e-05</td><td>2.176227e-03</td><td>SMPDL3B </td><td> 22</td><td> 20</td><td> 21</td><td> 26</td><td> 17</td><td> 19</td><td> 13</td><td> 17</td><td>  9</td><td> 13</td><td>  2</td><td>  4</td></tr>\n",
       "\t<tr><td>104.69407</td><td> 0.9436213</td><td>0.1881776</td><td> 5.014525</td><td>5.316464e-07</td><td>4.556183e-05</td><td>EPB41   </td><td> 99</td><td> 87</td><td> 87</td><td> 95</td><td> 92</td><td> 78</td><td> 80</td><td>103</td><td> 99</td><td>105</td><td>169</td><td>159</td></tr>\n",
       "\t<tr><td>189.06372</td><td>-1.2447939</td><td>0.1674920</td><td>-7.431961</td><td>1.069995e-13</td><td>3.102450e-10</td><td>PTPRU   </td><td>230</td><td>212</td><td>212</td><td>222</td><td>215</td><td>216</td><td>208</td><td>210</td><td>198</td><td>208</td><td> 89</td><td> 82</td></tr>\n",
       "\t<tr><td>⋮</td><td>⋮</td><td>⋮</td><td>⋮</td><td>⋮</td><td>⋮</td><td>⋮</td><td>⋮</td><td>⋮</td><td>⋮</td><td>⋮</td><td>⋮</td><td>⋮</td><td>⋮</td><td>⋮</td><td>⋮</td><td>⋮</td><td>⋮</td><td>⋮</td></tr>\n",
       "\t<tr><td> 20.279387</td><td> 1.7999256</td><td>0.4044062</td><td> 4.450786</td><td>8.555645e-06</td><td>3.518736e-04</td><td>SPIN4         </td><td>14</td><td>12</td><td>12</td><td> 9</td><td> 11</td><td> 15</td><td> 22</td><td> 18</td><td> 23</td><td> 22</td><td> 39</td><td> 44</td></tr>\n",
       "\t<tr><td> 53.813531</td><td> 1.0045143</td><td>0.2601935</td><td> 3.860643</td><td>1.130892e-04</td><td>2.405151e-03</td><td>ARHGEF9       </td><td>44</td><td>37</td><td>48</td><td>43</td><td> 46</td><td> 58</td><td> 48</td><td> 64</td><td> 56</td><td> 53</td><td> 80</td><td> 69</td></tr>\n",
       "\t<tr><td> 33.290991</td><td> 1.3557663</td><td>0.3127844</td><td> 4.334508</td><td>1.460865e-05</td><td>5.207925e-04</td><td>AMER1         </td><td>23</td><td>29</td><td>33</td><td>19</td><td> 24</td><td> 22</td><td> 30</td><td> 34</td><td> 32</td><td> 29</td><td> 62</td><td> 60</td></tr>\n",
       "\t<tr><td> 39.256523</td><td> 1.0257558</td><td>0.2923486</td><td> 3.508673</td><td>4.503477e-04</td><td>6.573123e-03</td><td>ZC4H2         </td><td>31</td><td>29</td><td>33</td><td>30</td><td> 30</td><td> 32</td><td> 45</td><td> 52</td><td> 39</td><td> 38</td><td> 58</td><td> 54</td></tr>\n",
       "\t<tr><td> 46.000946</td><td> 1.0543697</td><td>0.2730961</td><td> 3.860800</td><td>1.130162e-04</td><td>2.405151e-03</td><td>HMGN5         </td><td>39</td><td>34</td><td>26</td><td>37</td><td> 34</td><td> 42</td><td> 44</td><td> 56</td><td> 50</td><td> 50</td><td> 71</td><td> 68</td></tr>\n",
       "\t<tr><td> 26.144800</td><td> 1.7102472</td><td>0.3744471</td><td> 4.567394</td><td>4.938261e-06</td><td>2.328209e-04</td><td>PABPC5        </td><td>17</td><td>14</td><td>19</td><td>12</td><td> 14</td><td> 23</td><td> 26</td><td> 29</td><td> 37</td><td> 28</td><td> 45</td><td> 48</td></tr>\n",
       "\t<tr><td> 32.745771</td><td> 1.4051361</td><td>0.3328875</td><td> 4.221054</td><td>2.431627e-05</td><td>7.649731e-04</td><td>NAP1L3        </td><td>27</td><td>15</td><td>26</td><td>21</td><td> 25</td><td> 25</td><td> 33</td><td> 38</td><td> 40</td><td> 40</td><td> 54</td><td> 48</td></tr>\n",
       "\t<tr><td> 32.745771</td><td> 1.4051361</td><td>0.3328875</td><td> 4.221054</td><td>2.431627e-05</td><td>7.649731e-04</td><td>FAM133A       </td><td>27</td><td>15</td><td>26</td><td>21</td><td> 25</td><td> 25</td><td> 33</td><td> 38</td><td> 40</td><td> 40</td><td> 54</td><td> 48</td></tr>\n",
       "\t<tr><td> 79.127675</td><td> 0.7103221</td><td>0.2104659</td><td> 3.374999</td><td>7.381585e-04</td><td>9.353054e-03</td><td>RPL36A-HNRNPH2</td><td>69</td><td>69</td><td>72</td><td>73</td><td> 63</td><td> 72</td><td> 69</td><td> 82</td><td> 87</td><td> 88</td><td>102</td><td>105</td></tr>\n",
       "\t<tr><td> 31.799803</td><td> 1.0956519</td><td>0.3213160</td><td> 3.409889</td><td>6.498927e-04</td><td>8.532969e-03</td><td>HNRNPH2       </td><td>24</td><td>25</td><td>28</td><td>28</td><td> 23</td><td> 27</td><td> 25</td><td> 33</td><td> 35</td><td> 37</td><td> 46</td><td> 50</td></tr>\n",
       "\t<tr><td> 87.341227</td><td> 0.8760303</td><td>0.2058676</td><td> 4.255308</td><td>2.087612e-05</td><td>6.788446e-04</td><td>SLC25A53      </td><td>81</td><td>64</td><td>63</td><td>62</td><td> 81</td><td> 82</td><td> 88</td><td>107</td><td> 94</td><td> 82</td><td>120</td><td>124</td></tr>\n",
       "\t<tr><td>  8.580433</td><td> 2.6488754</td><td>0.6585998</td><td> 4.021980</td><td>5.771093e-05</td><td>1.469981e-03</td><td>RIPPLY1       </td><td> 4</td><td> 4</td><td> 5</td><td> 4</td><td>  1</td><td>  2</td><td>  8</td><td>  7</td><td> 11</td><td>  9</td><td> 24</td><td> 22</td></tr>\n",
       "\t<tr><td> 47.038566</td><td> 1.1136952</td><td>0.2831945</td><td> 3.932617</td><td>8.402616e-05</td><td>1.926305e-03</td><td>PRPS1         </td><td>37</td><td>26</td><td>32</td><td>34</td><td> 40</td><td> 49</td><td> 48</td><td> 59</td><td> 61</td><td> 54</td><td> 60</td><td> 65</td></tr>\n",
       "\t<tr><td> 53.073363</td><td> 1.0210726</td><td>0.2697462</td><td> 3.785309</td><td>1.535177e-04</td><td>3.034941e-03</td><td>PSMD10        </td><td>43</td><td>36</td><td>38</td><td>29</td><td> 44</td><td> 54</td><td> 54</td><td> 73</td><td> 70</td><td> 49</td><td> 79</td><td> 68</td></tr>\n",
       "\t<tr><td> 36.834712</td><td> 1.1253595</td><td>0.2981704</td><td> 3.774216</td><td>1.605114e-04</td><td>3.123508e-03</td><td>NXT2          </td><td>27</td><td>30</td><td>25</td><td>24</td><td> 33</td><td> 29</td><td> 40</td><td> 40</td><td> 41</td><td> 38</td><td> 61</td><td> 53</td></tr>\n",
       "\t<tr><td>109.334407</td><td> 0.6212934</td><td>0.1821717</td><td> 3.410482</td><td>6.484805e-04</td><td>8.520857e-03</td><td>PAK3          </td><td>99</td><td>96</td><td>94</td><td>86</td><td>101</td><td>102</td><td>118</td><td>125</td><td>109</td><td>110</td><td>136</td><td>139</td></tr>\n",
       "\t<tr><td> 60.620757</td><td> 1.0950419</td><td>0.2383037</td><td> 4.595153</td><td>4.324311e-06</td><td>2.131162e-04</td><td>DCX           </td><td>46</td><td>50</td><td>56</td><td>44</td><td> 44</td><td> 50</td><td> 59</td><td> 68</td><td> 64</td><td> 57</td><td> 92</td><td> 96</td></tr>\n",
       "\t<tr><td> 66.947300</td><td> 0.8838059</td><td>0.2309809</td><td> 3.826316</td><td>1.300754e-04</td><td>2.693955e-03</td><td>AMOT          </td><td>49</td><td>58</td><td>54</td><td>52</td><td> 55</td><td> 57</td><td> 65</td><td> 78</td><td> 83</td><td> 72</td><td> 94</td><td> 87</td></tr>\n",
       "\t<tr><td> 51.584148</td><td>-1.2933491</td><td>0.2913036</td><td>-4.439866</td><td>9.001491e-06</td><td>3.613966e-04</td><td>HTR2C         </td><td>64</td><td>67</td><td>65</td><td>72</td><td> 61</td><td> 73</td><td> 46</td><td> 49</td><td> 39</td><td> 43</td><td> 26</td><td> 23</td></tr>\n",
       "\t<tr><td> 16.915813</td><td> 2.0480859</td><td>0.4230051</td><td> 4.841752</td><td>1.286995e-06</td><td>8.448999e-05</td><td>TEX13D        </td><td>14</td><td>10</td><td>10</td><td>11</td><td>  8</td><td>  8</td><td> 11</td><td> 12</td><td> 11</td><td> 13</td><td> 42</td><td> 49</td></tr>\n",
       "\t<tr><td> 51.576518</td><td>-1.0935540</td><td>0.2849482</td><td>-3.837729</td><td>1.241772e-04</td><td>2.596528e-03</td><td>XPNPEP2       </td><td>72</td><td>63</td><td>54</td><td>58</td><td> 46</td><td> 60</td><td> 50</td><td> 55</td><td> 65</td><td> 46</td><td> 26</td><td> 32</td></tr>\n",
       "\t<tr><td> 54.400695</td><td>-0.9406726</td><td>0.2703728</td><td>-3.479168</td><td>5.029730e-04</td><td>7.085199e-03</td><td>ELF4          </td><td>64</td><td>70</td><td>63</td><td>68</td><td> 65</td><td> 63</td><td> 50</td><td> 54</td><td> 46</td><td> 54</td><td> 32</td><td> 32</td></tr>\n",
       "\t<tr><td>106.456984</td><td> 1.1662178</td><td>0.1816040</td><td> 6.421764</td><td>1.347042e-10</td><td>6.333645e-08</td><td>ENOX2         </td><td>87</td><td>87</td><td>84</td><td>80</td><td> 92</td><td> 91</td><td> 90</td><td> 97</td><td>102</td><td>104</td><td>180</td><td>178</td></tr>\n",
       "\t<tr><td> 29.344417</td><td> 1.1726033</td><td>0.3393678</td><td> 3.455258</td><td>5.497657e-04</td><td>7.554719e-03</td><td>PHF6          </td><td>24</td><td>21</td><td>22</td><td>23</td><td> 33</td><td> 17</td><td> 28</td><td> 29</td><td> 32</td><td> 29</td><td> 45</td><td> 48</td></tr>\n",
       "\t<tr><td> 65.213178</td><td> 0.8825996</td><td>0.2259725</td><td> 3.905784</td><td>9.392056e-05</td><td>2.098370e-03</td><td>ZNF75D        </td><td>57</td><td>56</td><td>60</td><td>54</td><td> 51</td><td> 62</td><td> 59</td><td> 60</td><td> 67</td><td> 65</td><td> 94</td><td> 97</td></tr>\n",
       "\t<tr><td> 27.741765</td><td> 1.2272694</td><td>0.3428764</td><td> 3.579335</td><td>3.444696e-04</td><td>5.428204e-03</td><td>ZNF449        </td><td>20</td><td>21</td><td>22</td><td>22</td><td> 23</td><td> 29</td><td> 25</td><td> 28</td><td> 28</td><td> 26</td><td> 43</td><td> 45</td></tr>\n",
       "\t<tr><td> 14.102020</td><td> 4.2409726</td><td>0.9047002</td><td> 4.687710</td><td>2.762786e-06</td><td>1.488055e-04</td><td>CD40LG        </td><td> 1</td><td> 2</td><td> 3</td><td> 2</td><td> 11</td><td> 12</td><td> 20</td><td> 25</td><td> 23</td><td> 17</td><td> 23</td><td> 29</td></tr>\n",
       "\t<tr><td> 40.161192</td><td> 1.0338069</td><td>0.2875038</td><td> 3.595803</td><td>3.233922e-04</td><td>5.178288e-03</td><td>EMD           </td><td>31</td><td>34</td><td>26</td><td>28</td><td> 36</td><td> 39</td><td> 38</td><td> 43</td><td> 49</td><td> 35</td><td> 58</td><td> 64</td></tr>\n",
       "\t<tr><td> 30.863713</td><td>-1.6400197</td><td>0.3892195</td><td>-4.213612</td><td>2.513193e-05</td><td>7.793586e-04</td><td>DNASE1L1      </td><td>39</td><td>46</td><td>31</td><td>43</td><td> 41</td><td> 33</td><td> 35</td><td> 27</td><td> 27</td><td> 29</td><td> 11</td><td> 14</td></tr>\n",
       "\t<tr><td> 29.720984</td><td>-1.4596059</td><td>0.3885743</td><td>-3.756311</td><td>1.724363e-04</td><td>3.269921e-03</td><td>TAZ           </td><td>40</td><td>38</td><td>32</td><td>38</td><td> 37</td><td> 34</td><td> 39</td><td> 25</td><td> 26</td><td> 27</td><td> 11</td><td> 15</td></tr>\n",
       "</tbody>\n",
       "</table>\n"
      ],
      "text/latex": [
       "A data.frame: 1422 × 19\n",
       "\\begin{tabular}{r|lllllllllllllllllll}\n",
       " baseMean & log2FoldChange & lfcSE & stat & pvalue & padj & gene\\_name & A1 & A2 & A3 & A4 & A5 & A6 & A7 & A8 & A9 & A10 & A11 & A12\\\\\n",
       " <dbl> & <dbl> & <dbl> & <dbl> & <dbl> & <dbl> & <fct> & <int> & <int> & <int> & <int> & <int> & <int> & <int> & <int> & <int> & <int> & <int> & <int>\\\\\n",
       "\\hline\n",
       "\t  53.96597 &  1.2859206 & 0.2555272 &  5.032421 & 4.843235e-07 & 4.171176e-05 & SAMD11   &  37 &  48 &  48 &  46 &  57 &  36 &  44 &  40 &  47 &  51 & 102 &  88\\\\\n",
       "\t  36.98419 &  1.0500669 & 0.3035926 &  3.458802 & 5.425834e-04 & 7.509406e-03 & NOC2L    &  30 &  29 &  39 &  41 &  41 &  23 &  28 &  30 &  37 &  33 &  54 &  58\\\\\n",
       "\t  85.93123 &  1.3913771 & 0.2120123 &  6.562719 & 5.283528e-11 & 2.881085e-08 & ACAP3    &  61 &  60 &  50 &  66 &  95 &  75 &  67 &  79 &  89 &  93 & 141 & 150\\\\\n",
       "\t  41.82490 &  1.0333660 & 0.2768952 &  3.731975 & 1.899846e-04 & 3.502703e-03 & PRXL2B   &  42 &  31 &  33 &  37 &  37 &  35 &  31 &  40 &  35 &  42 &  69 &  68\\\\\n",
       "\t  43.65750 & -1.3623490 & 0.3017304 & -4.515121 & 6.328074e-06 & 2.844690e-04 & ARHGEF16 &  67 &  62 &  54 &  57 &  51 &  46 &  40 &  36 &  36 &  36 &  21 &  25\\\\\n",
       "\t  49.64993 &  0.9224558 & 0.2622441 &  3.517546 & 4.355565e-04 & 6.426952e-03 & PARK7    &  37 &  43 &  47 &  37 &  38 &  39 &  54 &  51 &  50 &  61 &  69 &  70\\\\\n",
       "\t 186.76433 &  0.5528684 & 0.1481239 &  3.732473 & 1.896094e-04 & 3.502703e-03 & RERE     & 171 & 174 & 187 & 171 & 167 & 175 & 165 & 180 & 189 & 204 & 239 & 225\\\\\n",
       "\t  44.46515 &  1.0083677 & 0.2684577 &  3.756152 & 1.725463e-04 & 3.269921e-03 & PGD      &  37 &  40 &  29 &  37 &  38 &  34 &  50 &  43 &  37 &  45 &  70 &  72\\\\\n",
       "\t  27.16807 &  1.1758202 & 0.3428771 &  3.429276 & 6.051942e-04 & 8.100341e-03 & UBIAD1   &  24 &  18 &  22 &  24 &  26 &  24 &  24 &  23 &  27 &  26 &  44 &  43\\\\\n",
       "\t  99.67772 & -1.0762933 & 0.2093694 & -5.140642 & 2.738011e-07 & 2.617207e-05 & DHRS3    & 130 & 123 & 127 & 114 & 119 & 115 & 102 &  97 &  82 &  93 &  50 &  60\\\\\n",
       "\t  15.88361 &  2.0687709 & 0.5226288 &  3.958395 & 7.545518e-05 & 1.778914e-03 & CELA2B   &   7 &   6 &   8 &   7 &  10 &   9 &  14 &  13 &  32 &  34 &  23 &  27\\\\\n",
       "\t  60.50632 &  0.8774022 & 0.2408885 &  3.642359 & 2.701512e-04 & 4.550088e-03 & SZRD1    &  49 &  46 &  57 &  57 &  57 &  49 &  60 &  58 &  63 &  71 &  78 &  82\\\\\n",
       "\t 107.17865 &  1.0509486 & 0.1926673 &  5.454733 & 4.904638e-08 & 7.028862e-06 & IFFO2    &  74 &  85 &  93 &  95 &  96 &  86 & 100 & 103 & 111 & 141 & 154 & 148\\\\\n",
       "\t  37.35139 &  1.1501634 & 0.3075962 &  3.739199 & 1.846076e-04 & 3.438564e-03 & DDOST    &  33 &  24 &  25 &  33 &  34 &  27 &  29 &  42 &  44 &  40 &  65 &  51\\\\\n",
       "\t  65.69243 &  0.9501392 & 0.2349417 &  4.044149 & 5.251358e-05 & 1.373803e-03 & KIF17    &  56 &  49 &  44 &  58 &  51 &  53 &  60 &  74 &  73 &  84 &  98 &  88\\\\\n",
       "\t 112.21058 & -0.8366484 & 0.1984463 & -4.215994 & 2.486801e-05 & 7.756339e-04 & RAP1GAP  & 123 & 140 & 119 & 138 & 143 & 130 & 112 & 105 & 105 & 113 &  68 &  67\\\\\n",
       "\t 142.45909 &  0.7142902 & 0.1673883 &  4.267265 & 1.978837e-05 & 6.569815e-04 & EPHB2    & 115 & 133 & 131 & 127 & 155 & 139 & 138 & 114 & 146 & 141 & 188 & 185\\\\\n",
       "\t  56.44530 &  1.1677585 & 0.2473905 &  4.720305 & 2.354916e-06 & 1.343229e-04 & HNRNPR   &  40 &  44 &  45 &  50 &  50 &  47 &  55 &  54 &  58 &  60 &  81 &  92\\\\\n",
       "\t  63.87136 &  0.8209089 & 0.2298516 &  3.571474 & 3.549778e-04 & 5.543581e-03 & ZNF436   &  56 &  57 &  52 &  56 &  56 &  49 &  54 &  67 &  71 &  65 &  88 &  95\\\\\n",
       "\t  72.59056 &  0.7405375 & 0.2187796 &  3.384855 & 7.121574e-04 & 9.082158e-03 & NIPAL3   &  63 &  63 &  56 &  70 &  65 &  63 &  70 &  75 &  79 &  75 &  95 &  98\\\\\n",
       "\t  44.12946 &  0.9670802 & 0.2731032 &  3.541080 & 3.984925e-04 & 6.044093e-03 & SRRM1    &  40 &  37 &  27 &  38 &  42 &  36 &  33 &  44 &  49 &  44 &  65 &  73\\\\\n",
       "\t  51.52313 &  0.9772425 & 0.2555053 &  3.824744 & 1.309078e-04 & 2.704755e-03 & CLIC4    &  41 &  41 &  43 &  37 &  44 &  47 &  52 &  58 &  52 &  55 &  75 &  73\\\\\n",
       "\t  16.27546 & -2.9044254 & 0.6788083 & -4.278712 & 1.879779e-05 & 6.337696e-04 & CNKSR1   &  25 &  24 &  24 &  16 &  23 &  23 &  16 &  14 &  13 &  15 &   3 &   3\\\\\n",
       "\t 107.33248 &  0.9043873 & 0.1872643 &  4.829471 & 1.368965e-06 & 8.878907e-05 & ARID1A   &  84 &  85 &  89 &  96 &  96 &  95 & 105 & 103 & 114 & 132 & 145 & 145\\\\\n",
       "\t  16.96421 & -2.3484750 & 0.5883024 & -3.991952 & 6.553167e-05 & 1.607975e-03 & SFN      &  23 &  27 &  19 &  23 &  29 &  19 &  14 &  18 &  11 &  15 &   5 &   4\\\\\n",
       "\t  53.13859 & -1.1147580 & 0.2766296 & -4.029786 & 5.582767e-05 & 1.435340e-03 & SYTL1    &  71 &  66 &  57 &  63 &  60 &  58 &  50 &  56 &  51 &  56 &  29 &  29\\\\\n",
       "\t  49.44926 &  0.9814976 & 0.2598357 &  3.777377 & 1.584886e-04 & 3.092989e-03 & FAM76A   &  38 &  41 &  37 &  38 &  44 &  39 &  56 &  56 &  53 &  48 &  70 &  73\\\\\n",
       "\t  14.96940 & -2.6820254 & 0.6888532 & -3.893464 & 9.882273e-05 & 2.176227e-03 & SMPDL3B  &  22 &  20 &  21 &  26 &  17 &  19 &  13 &  17 &   9 &  13 &   2 &   4\\\\\n",
       "\t 104.69407 &  0.9436213 & 0.1881776 &  5.014525 & 5.316464e-07 & 4.556183e-05 & EPB41    &  99 &  87 &  87 &  95 &  92 &  78 &  80 & 103 &  99 & 105 & 169 & 159\\\\\n",
       "\t 189.06372 & -1.2447939 & 0.1674920 & -7.431961 & 1.069995e-13 & 3.102450e-10 & PTPRU    & 230 & 212 & 212 & 222 & 215 & 216 & 208 & 210 & 198 & 208 &  89 &  82\\\\\n",
       "\t ⋮ & ⋮ & ⋮ & ⋮ & ⋮ & ⋮ & ⋮ & ⋮ & ⋮ & ⋮ & ⋮ & ⋮ & ⋮ & ⋮ & ⋮ & ⋮ & ⋮ & ⋮ & ⋮\\\\\n",
       "\t  20.279387 &  1.7999256 & 0.4044062 &  4.450786 & 8.555645e-06 & 3.518736e-04 & SPIN4          & 14 & 12 & 12 &  9 &  11 &  15 &  22 &  18 &  23 &  22 &  39 &  44\\\\\n",
       "\t  53.813531 &  1.0045143 & 0.2601935 &  3.860643 & 1.130892e-04 & 2.405151e-03 & ARHGEF9        & 44 & 37 & 48 & 43 &  46 &  58 &  48 &  64 &  56 &  53 &  80 &  69\\\\\n",
       "\t  33.290991 &  1.3557663 & 0.3127844 &  4.334508 & 1.460865e-05 & 5.207925e-04 & AMER1          & 23 & 29 & 33 & 19 &  24 &  22 &  30 &  34 &  32 &  29 &  62 &  60\\\\\n",
       "\t  39.256523 &  1.0257558 & 0.2923486 &  3.508673 & 4.503477e-04 & 6.573123e-03 & ZC4H2          & 31 & 29 & 33 & 30 &  30 &  32 &  45 &  52 &  39 &  38 &  58 &  54\\\\\n",
       "\t  46.000946 &  1.0543697 & 0.2730961 &  3.860800 & 1.130162e-04 & 2.405151e-03 & HMGN5          & 39 & 34 & 26 & 37 &  34 &  42 &  44 &  56 &  50 &  50 &  71 &  68\\\\\n",
       "\t  26.144800 &  1.7102472 & 0.3744471 &  4.567394 & 4.938261e-06 & 2.328209e-04 & PABPC5         & 17 & 14 & 19 & 12 &  14 &  23 &  26 &  29 &  37 &  28 &  45 &  48\\\\\n",
       "\t  32.745771 &  1.4051361 & 0.3328875 &  4.221054 & 2.431627e-05 & 7.649731e-04 & NAP1L3         & 27 & 15 & 26 & 21 &  25 &  25 &  33 &  38 &  40 &  40 &  54 &  48\\\\\n",
       "\t  32.745771 &  1.4051361 & 0.3328875 &  4.221054 & 2.431627e-05 & 7.649731e-04 & FAM133A        & 27 & 15 & 26 & 21 &  25 &  25 &  33 &  38 &  40 &  40 &  54 &  48\\\\\n",
       "\t  79.127675 &  0.7103221 & 0.2104659 &  3.374999 & 7.381585e-04 & 9.353054e-03 & RPL36A-HNRNPH2 & 69 & 69 & 72 & 73 &  63 &  72 &  69 &  82 &  87 &  88 & 102 & 105\\\\\n",
       "\t  31.799803 &  1.0956519 & 0.3213160 &  3.409889 & 6.498927e-04 & 8.532969e-03 & HNRNPH2        & 24 & 25 & 28 & 28 &  23 &  27 &  25 &  33 &  35 &  37 &  46 &  50\\\\\n",
       "\t  87.341227 &  0.8760303 & 0.2058676 &  4.255308 & 2.087612e-05 & 6.788446e-04 & SLC25A53       & 81 & 64 & 63 & 62 &  81 &  82 &  88 & 107 &  94 &  82 & 120 & 124\\\\\n",
       "\t   8.580433 &  2.6488754 & 0.6585998 &  4.021980 & 5.771093e-05 & 1.469981e-03 & RIPPLY1        &  4 &  4 &  5 &  4 &   1 &   2 &   8 &   7 &  11 &   9 &  24 &  22\\\\\n",
       "\t  47.038566 &  1.1136952 & 0.2831945 &  3.932617 & 8.402616e-05 & 1.926305e-03 & PRPS1          & 37 & 26 & 32 & 34 &  40 &  49 &  48 &  59 &  61 &  54 &  60 &  65\\\\\n",
       "\t  53.073363 &  1.0210726 & 0.2697462 &  3.785309 & 1.535177e-04 & 3.034941e-03 & PSMD10         & 43 & 36 & 38 & 29 &  44 &  54 &  54 &  73 &  70 &  49 &  79 &  68\\\\\n",
       "\t  36.834712 &  1.1253595 & 0.2981704 &  3.774216 & 1.605114e-04 & 3.123508e-03 & NXT2           & 27 & 30 & 25 & 24 &  33 &  29 &  40 &  40 &  41 &  38 &  61 &  53\\\\\n",
       "\t 109.334407 &  0.6212934 & 0.1821717 &  3.410482 & 6.484805e-04 & 8.520857e-03 & PAK3           & 99 & 96 & 94 & 86 & 101 & 102 & 118 & 125 & 109 & 110 & 136 & 139\\\\\n",
       "\t  60.620757 &  1.0950419 & 0.2383037 &  4.595153 & 4.324311e-06 & 2.131162e-04 & DCX            & 46 & 50 & 56 & 44 &  44 &  50 &  59 &  68 &  64 &  57 &  92 &  96\\\\\n",
       "\t  66.947300 &  0.8838059 & 0.2309809 &  3.826316 & 1.300754e-04 & 2.693955e-03 & AMOT           & 49 & 58 & 54 & 52 &  55 &  57 &  65 &  78 &  83 &  72 &  94 &  87\\\\\n",
       "\t  51.584148 & -1.2933491 & 0.2913036 & -4.439866 & 9.001491e-06 & 3.613966e-04 & HTR2C          & 64 & 67 & 65 & 72 &  61 &  73 &  46 &  49 &  39 &  43 &  26 &  23\\\\\n",
       "\t  16.915813 &  2.0480859 & 0.4230051 &  4.841752 & 1.286995e-06 & 8.448999e-05 & TEX13D         & 14 & 10 & 10 & 11 &   8 &   8 &  11 &  12 &  11 &  13 &  42 &  49\\\\\n",
       "\t  51.576518 & -1.0935540 & 0.2849482 & -3.837729 & 1.241772e-04 & 2.596528e-03 & XPNPEP2        & 72 & 63 & 54 & 58 &  46 &  60 &  50 &  55 &  65 &  46 &  26 &  32\\\\\n",
       "\t  54.400695 & -0.9406726 & 0.2703728 & -3.479168 & 5.029730e-04 & 7.085199e-03 & ELF4           & 64 & 70 & 63 & 68 &  65 &  63 &  50 &  54 &  46 &  54 &  32 &  32\\\\\n",
       "\t 106.456984 &  1.1662178 & 0.1816040 &  6.421764 & 1.347042e-10 & 6.333645e-08 & ENOX2          & 87 & 87 & 84 & 80 &  92 &  91 &  90 &  97 & 102 & 104 & 180 & 178\\\\\n",
       "\t  29.344417 &  1.1726033 & 0.3393678 &  3.455258 & 5.497657e-04 & 7.554719e-03 & PHF6           & 24 & 21 & 22 & 23 &  33 &  17 &  28 &  29 &  32 &  29 &  45 &  48\\\\\n",
       "\t  65.213178 &  0.8825996 & 0.2259725 &  3.905784 & 9.392056e-05 & 2.098370e-03 & ZNF75D         & 57 & 56 & 60 & 54 &  51 &  62 &  59 &  60 &  67 &  65 &  94 &  97\\\\\n",
       "\t  27.741765 &  1.2272694 & 0.3428764 &  3.579335 & 3.444696e-04 & 5.428204e-03 & ZNF449         & 20 & 21 & 22 & 22 &  23 &  29 &  25 &  28 &  28 &  26 &  43 &  45\\\\\n",
       "\t  14.102020 &  4.2409726 & 0.9047002 &  4.687710 & 2.762786e-06 & 1.488055e-04 & CD40LG         &  1 &  2 &  3 &  2 &  11 &  12 &  20 &  25 &  23 &  17 &  23 &  29\\\\\n",
       "\t  40.161192 &  1.0338069 & 0.2875038 &  3.595803 & 3.233922e-04 & 5.178288e-03 & EMD            & 31 & 34 & 26 & 28 &  36 &  39 &  38 &  43 &  49 &  35 &  58 &  64\\\\\n",
       "\t  30.863713 & -1.6400197 & 0.3892195 & -4.213612 & 2.513193e-05 & 7.793586e-04 & DNASE1L1       & 39 & 46 & 31 & 43 &  41 &  33 &  35 &  27 &  27 &  29 &  11 &  14\\\\\n",
       "\t  29.720984 & -1.4596059 & 0.3885743 & -3.756311 & 1.724363e-04 & 3.269921e-03 & TAZ            & 40 & 38 & 32 & 38 &  37 &  34 &  39 &  25 &  26 &  27 &  11 &  15\\\\\n",
       "\\end{tabular}\n"
      ],
      "text/markdown": [
       "\n",
       "A data.frame: 1422 × 19\n",
       "\n",
       "| baseMean &lt;dbl&gt; | log2FoldChange &lt;dbl&gt; | lfcSE &lt;dbl&gt; | stat &lt;dbl&gt; | pvalue &lt;dbl&gt; | padj &lt;dbl&gt; | gene_name &lt;fct&gt; | A1 &lt;int&gt; | A2 &lt;int&gt; | A3 &lt;int&gt; | A4 &lt;int&gt; | A5 &lt;int&gt; | A6 &lt;int&gt; | A7 &lt;int&gt; | A8 &lt;int&gt; | A9 &lt;int&gt; | A10 &lt;int&gt; | A11 &lt;int&gt; | A12 &lt;int&gt; |\n",
       "|---|---|---|---|---|---|---|---|---|---|---|---|---|---|---|---|---|---|---|\n",
       "|  53.96597 |  1.2859206 | 0.2555272 |  5.032421 | 4.843235e-07 | 4.171176e-05 | SAMD11   |  37 |  48 |  48 |  46 |  57 |  36 |  44 |  40 |  47 |  51 | 102 |  88 |\n",
       "|  36.98419 |  1.0500669 | 0.3035926 |  3.458802 | 5.425834e-04 | 7.509406e-03 | NOC2L    |  30 |  29 |  39 |  41 |  41 |  23 |  28 |  30 |  37 |  33 |  54 |  58 |\n",
       "|  85.93123 |  1.3913771 | 0.2120123 |  6.562719 | 5.283528e-11 | 2.881085e-08 | ACAP3    |  61 |  60 |  50 |  66 |  95 |  75 |  67 |  79 |  89 |  93 | 141 | 150 |\n",
       "|  41.82490 |  1.0333660 | 0.2768952 |  3.731975 | 1.899846e-04 | 3.502703e-03 | PRXL2B   |  42 |  31 |  33 |  37 |  37 |  35 |  31 |  40 |  35 |  42 |  69 |  68 |\n",
       "|  43.65750 | -1.3623490 | 0.3017304 | -4.515121 | 6.328074e-06 | 2.844690e-04 | ARHGEF16 |  67 |  62 |  54 |  57 |  51 |  46 |  40 |  36 |  36 |  36 |  21 |  25 |\n",
       "|  49.64993 |  0.9224558 | 0.2622441 |  3.517546 | 4.355565e-04 | 6.426952e-03 | PARK7    |  37 |  43 |  47 |  37 |  38 |  39 |  54 |  51 |  50 |  61 |  69 |  70 |\n",
       "| 186.76433 |  0.5528684 | 0.1481239 |  3.732473 | 1.896094e-04 | 3.502703e-03 | RERE     | 171 | 174 | 187 | 171 | 167 | 175 | 165 | 180 | 189 | 204 | 239 | 225 |\n",
       "|  44.46515 |  1.0083677 | 0.2684577 |  3.756152 | 1.725463e-04 | 3.269921e-03 | PGD      |  37 |  40 |  29 |  37 |  38 |  34 |  50 |  43 |  37 |  45 |  70 |  72 |\n",
       "|  27.16807 |  1.1758202 | 0.3428771 |  3.429276 | 6.051942e-04 | 8.100341e-03 | UBIAD1   |  24 |  18 |  22 |  24 |  26 |  24 |  24 |  23 |  27 |  26 |  44 |  43 |\n",
       "|  99.67772 | -1.0762933 | 0.2093694 | -5.140642 | 2.738011e-07 | 2.617207e-05 | DHRS3    | 130 | 123 | 127 | 114 | 119 | 115 | 102 |  97 |  82 |  93 |  50 |  60 |\n",
       "|  15.88361 |  2.0687709 | 0.5226288 |  3.958395 | 7.545518e-05 | 1.778914e-03 | CELA2B   |   7 |   6 |   8 |   7 |  10 |   9 |  14 |  13 |  32 |  34 |  23 |  27 |\n",
       "|  60.50632 |  0.8774022 | 0.2408885 |  3.642359 | 2.701512e-04 | 4.550088e-03 | SZRD1    |  49 |  46 |  57 |  57 |  57 |  49 |  60 |  58 |  63 |  71 |  78 |  82 |\n",
       "| 107.17865 |  1.0509486 | 0.1926673 |  5.454733 | 4.904638e-08 | 7.028862e-06 | IFFO2    |  74 |  85 |  93 |  95 |  96 |  86 | 100 | 103 | 111 | 141 | 154 | 148 |\n",
       "|  37.35139 |  1.1501634 | 0.3075962 |  3.739199 | 1.846076e-04 | 3.438564e-03 | DDOST    |  33 |  24 |  25 |  33 |  34 |  27 |  29 |  42 |  44 |  40 |  65 |  51 |\n",
       "|  65.69243 |  0.9501392 | 0.2349417 |  4.044149 | 5.251358e-05 | 1.373803e-03 | KIF17    |  56 |  49 |  44 |  58 |  51 |  53 |  60 |  74 |  73 |  84 |  98 |  88 |\n",
       "| 112.21058 | -0.8366484 | 0.1984463 | -4.215994 | 2.486801e-05 | 7.756339e-04 | RAP1GAP  | 123 | 140 | 119 | 138 | 143 | 130 | 112 | 105 | 105 | 113 |  68 |  67 |\n",
       "| 142.45909 |  0.7142902 | 0.1673883 |  4.267265 | 1.978837e-05 | 6.569815e-04 | EPHB2    | 115 | 133 | 131 | 127 | 155 | 139 | 138 | 114 | 146 | 141 | 188 | 185 |\n",
       "|  56.44530 |  1.1677585 | 0.2473905 |  4.720305 | 2.354916e-06 | 1.343229e-04 | HNRNPR   |  40 |  44 |  45 |  50 |  50 |  47 |  55 |  54 |  58 |  60 |  81 |  92 |\n",
       "|  63.87136 |  0.8209089 | 0.2298516 |  3.571474 | 3.549778e-04 | 5.543581e-03 | ZNF436   |  56 |  57 |  52 |  56 |  56 |  49 |  54 |  67 |  71 |  65 |  88 |  95 |\n",
       "|  72.59056 |  0.7405375 | 0.2187796 |  3.384855 | 7.121574e-04 | 9.082158e-03 | NIPAL3   |  63 |  63 |  56 |  70 |  65 |  63 |  70 |  75 |  79 |  75 |  95 |  98 |\n",
       "|  44.12946 |  0.9670802 | 0.2731032 |  3.541080 | 3.984925e-04 | 6.044093e-03 | SRRM1    |  40 |  37 |  27 |  38 |  42 |  36 |  33 |  44 |  49 |  44 |  65 |  73 |\n",
       "|  51.52313 |  0.9772425 | 0.2555053 |  3.824744 | 1.309078e-04 | 2.704755e-03 | CLIC4    |  41 |  41 |  43 |  37 |  44 |  47 |  52 |  58 |  52 |  55 |  75 |  73 |\n",
       "|  16.27546 | -2.9044254 | 0.6788083 | -4.278712 | 1.879779e-05 | 6.337696e-04 | CNKSR1   |  25 |  24 |  24 |  16 |  23 |  23 |  16 |  14 |  13 |  15 |   3 |   3 |\n",
       "| 107.33248 |  0.9043873 | 0.1872643 |  4.829471 | 1.368965e-06 | 8.878907e-05 | ARID1A   |  84 |  85 |  89 |  96 |  96 |  95 | 105 | 103 | 114 | 132 | 145 | 145 |\n",
       "|  16.96421 | -2.3484750 | 0.5883024 | -3.991952 | 6.553167e-05 | 1.607975e-03 | SFN      |  23 |  27 |  19 |  23 |  29 |  19 |  14 |  18 |  11 |  15 |   5 |   4 |\n",
       "|  53.13859 | -1.1147580 | 0.2766296 | -4.029786 | 5.582767e-05 | 1.435340e-03 | SYTL1    |  71 |  66 |  57 |  63 |  60 |  58 |  50 |  56 |  51 |  56 |  29 |  29 |\n",
       "|  49.44926 |  0.9814976 | 0.2598357 |  3.777377 | 1.584886e-04 | 3.092989e-03 | FAM76A   |  38 |  41 |  37 |  38 |  44 |  39 |  56 |  56 |  53 |  48 |  70 |  73 |\n",
       "|  14.96940 | -2.6820254 | 0.6888532 | -3.893464 | 9.882273e-05 | 2.176227e-03 | SMPDL3B  |  22 |  20 |  21 |  26 |  17 |  19 |  13 |  17 |   9 |  13 |   2 |   4 |\n",
       "| 104.69407 |  0.9436213 | 0.1881776 |  5.014525 | 5.316464e-07 | 4.556183e-05 | EPB41    |  99 |  87 |  87 |  95 |  92 |  78 |  80 | 103 |  99 | 105 | 169 | 159 |\n",
       "| 189.06372 | -1.2447939 | 0.1674920 | -7.431961 | 1.069995e-13 | 3.102450e-10 | PTPRU    | 230 | 212 | 212 | 222 | 215 | 216 | 208 | 210 | 198 | 208 |  89 |  82 |\n",
       "| ⋮ | ⋮ | ⋮ | ⋮ | ⋮ | ⋮ | ⋮ | ⋮ | ⋮ | ⋮ | ⋮ | ⋮ | ⋮ | ⋮ | ⋮ | ⋮ | ⋮ | ⋮ | ⋮ |\n",
       "|  20.279387 |  1.7999256 | 0.4044062 |  4.450786 | 8.555645e-06 | 3.518736e-04 | SPIN4          | 14 | 12 | 12 |  9 |  11 |  15 |  22 |  18 |  23 |  22 |  39 |  44 |\n",
       "|  53.813531 |  1.0045143 | 0.2601935 |  3.860643 | 1.130892e-04 | 2.405151e-03 | ARHGEF9        | 44 | 37 | 48 | 43 |  46 |  58 |  48 |  64 |  56 |  53 |  80 |  69 |\n",
       "|  33.290991 |  1.3557663 | 0.3127844 |  4.334508 | 1.460865e-05 | 5.207925e-04 | AMER1          | 23 | 29 | 33 | 19 |  24 |  22 |  30 |  34 |  32 |  29 |  62 |  60 |\n",
       "|  39.256523 |  1.0257558 | 0.2923486 |  3.508673 | 4.503477e-04 | 6.573123e-03 | ZC4H2          | 31 | 29 | 33 | 30 |  30 |  32 |  45 |  52 |  39 |  38 |  58 |  54 |\n",
       "|  46.000946 |  1.0543697 | 0.2730961 |  3.860800 | 1.130162e-04 | 2.405151e-03 | HMGN5          | 39 | 34 | 26 | 37 |  34 |  42 |  44 |  56 |  50 |  50 |  71 |  68 |\n",
       "|  26.144800 |  1.7102472 | 0.3744471 |  4.567394 | 4.938261e-06 | 2.328209e-04 | PABPC5         | 17 | 14 | 19 | 12 |  14 |  23 |  26 |  29 |  37 |  28 |  45 |  48 |\n",
       "|  32.745771 |  1.4051361 | 0.3328875 |  4.221054 | 2.431627e-05 | 7.649731e-04 | NAP1L3         | 27 | 15 | 26 | 21 |  25 |  25 |  33 |  38 |  40 |  40 |  54 |  48 |\n",
       "|  32.745771 |  1.4051361 | 0.3328875 |  4.221054 | 2.431627e-05 | 7.649731e-04 | FAM133A        | 27 | 15 | 26 | 21 |  25 |  25 |  33 |  38 |  40 |  40 |  54 |  48 |\n",
       "|  79.127675 |  0.7103221 | 0.2104659 |  3.374999 | 7.381585e-04 | 9.353054e-03 | RPL36A-HNRNPH2 | 69 | 69 | 72 | 73 |  63 |  72 |  69 |  82 |  87 |  88 | 102 | 105 |\n",
       "|  31.799803 |  1.0956519 | 0.3213160 |  3.409889 | 6.498927e-04 | 8.532969e-03 | HNRNPH2        | 24 | 25 | 28 | 28 |  23 |  27 |  25 |  33 |  35 |  37 |  46 |  50 |\n",
       "|  87.341227 |  0.8760303 | 0.2058676 |  4.255308 | 2.087612e-05 | 6.788446e-04 | SLC25A53       | 81 | 64 | 63 | 62 |  81 |  82 |  88 | 107 |  94 |  82 | 120 | 124 |\n",
       "|   8.580433 |  2.6488754 | 0.6585998 |  4.021980 | 5.771093e-05 | 1.469981e-03 | RIPPLY1        |  4 |  4 |  5 |  4 |   1 |   2 |   8 |   7 |  11 |   9 |  24 |  22 |\n",
       "|  47.038566 |  1.1136952 | 0.2831945 |  3.932617 | 8.402616e-05 | 1.926305e-03 | PRPS1          | 37 | 26 | 32 | 34 |  40 |  49 |  48 |  59 |  61 |  54 |  60 |  65 |\n",
       "|  53.073363 |  1.0210726 | 0.2697462 |  3.785309 | 1.535177e-04 | 3.034941e-03 | PSMD10         | 43 | 36 | 38 | 29 |  44 |  54 |  54 |  73 |  70 |  49 |  79 |  68 |\n",
       "|  36.834712 |  1.1253595 | 0.2981704 |  3.774216 | 1.605114e-04 | 3.123508e-03 | NXT2           | 27 | 30 | 25 | 24 |  33 |  29 |  40 |  40 |  41 |  38 |  61 |  53 |\n",
       "| 109.334407 |  0.6212934 | 0.1821717 |  3.410482 | 6.484805e-04 | 8.520857e-03 | PAK3           | 99 | 96 | 94 | 86 | 101 | 102 | 118 | 125 | 109 | 110 | 136 | 139 |\n",
       "|  60.620757 |  1.0950419 | 0.2383037 |  4.595153 | 4.324311e-06 | 2.131162e-04 | DCX            | 46 | 50 | 56 | 44 |  44 |  50 |  59 |  68 |  64 |  57 |  92 |  96 |\n",
       "|  66.947300 |  0.8838059 | 0.2309809 |  3.826316 | 1.300754e-04 | 2.693955e-03 | AMOT           | 49 | 58 | 54 | 52 |  55 |  57 |  65 |  78 |  83 |  72 |  94 |  87 |\n",
       "|  51.584148 | -1.2933491 | 0.2913036 | -4.439866 | 9.001491e-06 | 3.613966e-04 | HTR2C          | 64 | 67 | 65 | 72 |  61 |  73 |  46 |  49 |  39 |  43 |  26 |  23 |\n",
       "|  16.915813 |  2.0480859 | 0.4230051 |  4.841752 | 1.286995e-06 | 8.448999e-05 | TEX13D         | 14 | 10 | 10 | 11 |   8 |   8 |  11 |  12 |  11 |  13 |  42 |  49 |\n",
       "|  51.576518 | -1.0935540 | 0.2849482 | -3.837729 | 1.241772e-04 | 2.596528e-03 | XPNPEP2        | 72 | 63 | 54 | 58 |  46 |  60 |  50 |  55 |  65 |  46 |  26 |  32 |\n",
       "|  54.400695 | -0.9406726 | 0.2703728 | -3.479168 | 5.029730e-04 | 7.085199e-03 | ELF4           | 64 | 70 | 63 | 68 |  65 |  63 |  50 |  54 |  46 |  54 |  32 |  32 |\n",
       "| 106.456984 |  1.1662178 | 0.1816040 |  6.421764 | 1.347042e-10 | 6.333645e-08 | ENOX2          | 87 | 87 | 84 | 80 |  92 |  91 |  90 |  97 | 102 | 104 | 180 | 178 |\n",
       "|  29.344417 |  1.1726033 | 0.3393678 |  3.455258 | 5.497657e-04 | 7.554719e-03 | PHF6           | 24 | 21 | 22 | 23 |  33 |  17 |  28 |  29 |  32 |  29 |  45 |  48 |\n",
       "|  65.213178 |  0.8825996 | 0.2259725 |  3.905784 | 9.392056e-05 | 2.098370e-03 | ZNF75D         | 57 | 56 | 60 | 54 |  51 |  62 |  59 |  60 |  67 |  65 |  94 |  97 |\n",
       "|  27.741765 |  1.2272694 | 0.3428764 |  3.579335 | 3.444696e-04 | 5.428204e-03 | ZNF449         | 20 | 21 | 22 | 22 |  23 |  29 |  25 |  28 |  28 |  26 |  43 |  45 |\n",
       "|  14.102020 |  4.2409726 | 0.9047002 |  4.687710 | 2.762786e-06 | 1.488055e-04 | CD40LG         |  1 |  2 |  3 |  2 |  11 |  12 |  20 |  25 |  23 |  17 |  23 |  29 |\n",
       "|  40.161192 |  1.0338069 | 0.2875038 |  3.595803 | 3.233922e-04 | 5.178288e-03 | EMD            | 31 | 34 | 26 | 28 |  36 |  39 |  38 |  43 |  49 |  35 |  58 |  64 |\n",
       "|  30.863713 | -1.6400197 | 0.3892195 | -4.213612 | 2.513193e-05 | 7.793586e-04 | DNASE1L1       | 39 | 46 | 31 | 43 |  41 |  33 |  35 |  27 |  27 |  29 |  11 |  14 |\n",
       "|  29.720984 | -1.4596059 | 0.3885743 | -3.756311 | 1.724363e-04 | 3.269921e-03 | TAZ            | 40 | 38 | 32 | 38 |  37 |  34 |  39 |  25 |  26 |  27 |  11 |  15 |\n",
       "\n"
      ],
      "text/plain": [
       "     baseMean   log2FoldChange lfcSE     stat      pvalue       padj        \n",
       "1     53.96597   1.2859206     0.2555272  5.032421 4.843235e-07 4.171176e-05\n",
       "2     36.98419   1.0500669     0.3035926  3.458802 5.425834e-04 7.509406e-03\n",
       "3     85.93123   1.3913771     0.2120123  6.562719 5.283528e-11 2.881085e-08\n",
       "4     41.82490   1.0333660     0.2768952  3.731975 1.899846e-04 3.502703e-03\n",
       "5     43.65750  -1.3623490     0.3017304 -4.515121 6.328074e-06 2.844690e-04\n",
       "6     49.64993   0.9224558     0.2622441  3.517546 4.355565e-04 6.426952e-03\n",
       "7    186.76433   0.5528684     0.1481239  3.732473 1.896094e-04 3.502703e-03\n",
       "8     44.46515   1.0083677     0.2684577  3.756152 1.725463e-04 3.269921e-03\n",
       "9     27.16807   1.1758202     0.3428771  3.429276 6.051942e-04 8.100341e-03\n",
       "10    99.67772  -1.0762933     0.2093694 -5.140642 2.738011e-07 2.617207e-05\n",
       "11    15.88361   2.0687709     0.5226288  3.958395 7.545518e-05 1.778914e-03\n",
       "12    60.50632   0.8774022     0.2408885  3.642359 2.701512e-04 4.550088e-03\n",
       "13   107.17865   1.0509486     0.1926673  5.454733 4.904638e-08 7.028862e-06\n",
       "14    37.35139   1.1501634     0.3075962  3.739199 1.846076e-04 3.438564e-03\n",
       "15    65.69243   0.9501392     0.2349417  4.044149 5.251358e-05 1.373803e-03\n",
       "16   112.21058  -0.8366484     0.1984463 -4.215994 2.486801e-05 7.756339e-04\n",
       "17   142.45909   0.7142902     0.1673883  4.267265 1.978837e-05 6.569815e-04\n",
       "18    56.44530   1.1677585     0.2473905  4.720305 2.354916e-06 1.343229e-04\n",
       "19    63.87136   0.8209089     0.2298516  3.571474 3.549778e-04 5.543581e-03\n",
       "20    72.59056   0.7405375     0.2187796  3.384855 7.121574e-04 9.082158e-03\n",
       "21    44.12946   0.9670802     0.2731032  3.541080 3.984925e-04 6.044093e-03\n",
       "22    51.52313   0.9772425     0.2555053  3.824744 1.309078e-04 2.704755e-03\n",
       "23    16.27546  -2.9044254     0.6788083 -4.278712 1.879779e-05 6.337696e-04\n",
       "24   107.33248   0.9043873     0.1872643  4.829471 1.368965e-06 8.878907e-05\n",
       "25    16.96421  -2.3484750     0.5883024 -3.991952 6.553167e-05 1.607975e-03\n",
       "26    53.13859  -1.1147580     0.2766296 -4.029786 5.582767e-05 1.435340e-03\n",
       "27    49.44926   0.9814976     0.2598357  3.777377 1.584886e-04 3.092989e-03\n",
       "28    14.96940  -2.6820254     0.6888532 -3.893464 9.882273e-05 2.176227e-03\n",
       "29   104.69407   0.9436213     0.1881776  5.014525 5.316464e-07 4.556183e-05\n",
       "30   189.06372  -1.2447939     0.1674920 -7.431961 1.069995e-13 3.102450e-10\n",
       "⋮    ⋮          ⋮              ⋮         ⋮         ⋮            ⋮           \n",
       "1393  20.279387  1.7999256     0.4044062  4.450786 8.555645e-06 3.518736e-04\n",
       "1394  53.813531  1.0045143     0.2601935  3.860643 1.130892e-04 2.405151e-03\n",
       "1395  33.290991  1.3557663     0.3127844  4.334508 1.460865e-05 5.207925e-04\n",
       "1396  39.256523  1.0257558     0.2923486  3.508673 4.503477e-04 6.573123e-03\n",
       "1397  46.000946  1.0543697     0.2730961  3.860800 1.130162e-04 2.405151e-03\n",
       "1398  26.144800  1.7102472     0.3744471  4.567394 4.938261e-06 2.328209e-04\n",
       "1399  32.745771  1.4051361     0.3328875  4.221054 2.431627e-05 7.649731e-04\n",
       "1400  32.745771  1.4051361     0.3328875  4.221054 2.431627e-05 7.649731e-04\n",
       "1401  79.127675  0.7103221     0.2104659  3.374999 7.381585e-04 9.353054e-03\n",
       "1402  31.799803  1.0956519     0.3213160  3.409889 6.498927e-04 8.532969e-03\n",
       "1403  87.341227  0.8760303     0.2058676  4.255308 2.087612e-05 6.788446e-04\n",
       "1404   8.580433  2.6488754     0.6585998  4.021980 5.771093e-05 1.469981e-03\n",
       "1405  47.038566  1.1136952     0.2831945  3.932617 8.402616e-05 1.926305e-03\n",
       "1406  53.073363  1.0210726     0.2697462  3.785309 1.535177e-04 3.034941e-03\n",
       "1407  36.834712  1.1253595     0.2981704  3.774216 1.605114e-04 3.123508e-03\n",
       "1408 109.334407  0.6212934     0.1821717  3.410482 6.484805e-04 8.520857e-03\n",
       "1409  60.620757  1.0950419     0.2383037  4.595153 4.324311e-06 2.131162e-04\n",
       "1410  66.947300  0.8838059     0.2309809  3.826316 1.300754e-04 2.693955e-03\n",
       "1411  51.584148 -1.2933491     0.2913036 -4.439866 9.001491e-06 3.613966e-04\n",
       "1412  16.915813  2.0480859     0.4230051  4.841752 1.286995e-06 8.448999e-05\n",
       "1413  51.576518 -1.0935540     0.2849482 -3.837729 1.241772e-04 2.596528e-03\n",
       "1414  54.400695 -0.9406726     0.2703728 -3.479168 5.029730e-04 7.085199e-03\n",
       "1415 106.456984  1.1662178     0.1816040  6.421764 1.347042e-10 6.333645e-08\n",
       "1416  29.344417  1.1726033     0.3393678  3.455258 5.497657e-04 7.554719e-03\n",
       "1417  65.213178  0.8825996     0.2259725  3.905784 9.392056e-05 2.098370e-03\n",
       "1418  27.741765  1.2272694     0.3428764  3.579335 3.444696e-04 5.428204e-03\n",
       "1419  14.102020  4.2409726     0.9047002  4.687710 2.762786e-06 1.488055e-04\n",
       "1420  40.161192  1.0338069     0.2875038  3.595803 3.233922e-04 5.178288e-03\n",
       "1421  30.863713 -1.6400197     0.3892195 -4.213612 2.513193e-05 7.793586e-04\n",
       "1422  29.720984 -1.4596059     0.3885743 -3.756311 1.724363e-04 3.269921e-03\n",
       "     gene_name      A1  A2  A3  A4  A5  A6  A7  A8  A9  A10 A11 A12\n",
       "1    SAMD11          37  48  48  46  57  36  44  40  47  51 102  88\n",
       "2    NOC2L           30  29  39  41  41  23  28  30  37  33  54  58\n",
       "3    ACAP3           61  60  50  66  95  75  67  79  89  93 141 150\n",
       "4    PRXL2B          42  31  33  37  37  35  31  40  35  42  69  68\n",
       "5    ARHGEF16        67  62  54  57  51  46  40  36  36  36  21  25\n",
       "6    PARK7           37  43  47  37  38  39  54  51  50  61  69  70\n",
       "7    RERE           171 174 187 171 167 175 165 180 189 204 239 225\n",
       "8    PGD             37  40  29  37  38  34  50  43  37  45  70  72\n",
       "9    UBIAD1          24  18  22  24  26  24  24  23  27  26  44  43\n",
       "10   DHRS3          130 123 127 114 119 115 102  97  82  93  50  60\n",
       "11   CELA2B           7   6   8   7  10   9  14  13  32  34  23  27\n",
       "12   SZRD1           49  46  57  57  57  49  60  58  63  71  78  82\n",
       "13   IFFO2           74  85  93  95  96  86 100 103 111 141 154 148\n",
       "14   DDOST           33  24  25  33  34  27  29  42  44  40  65  51\n",
       "15   KIF17           56  49  44  58  51  53  60  74  73  84  98  88\n",
       "16   RAP1GAP        123 140 119 138 143 130 112 105 105 113  68  67\n",
       "17   EPHB2          115 133 131 127 155 139 138 114 146 141 188 185\n",
       "18   HNRNPR          40  44  45  50  50  47  55  54  58  60  81  92\n",
       "19   ZNF436          56  57  52  56  56  49  54  67  71  65  88  95\n",
       "20   NIPAL3          63  63  56  70  65  63  70  75  79  75  95  98\n",
       "21   SRRM1           40  37  27  38  42  36  33  44  49  44  65  73\n",
       "22   CLIC4           41  41  43  37  44  47  52  58  52  55  75  73\n",
       "23   CNKSR1          25  24  24  16  23  23  16  14  13  15   3   3\n",
       "24   ARID1A          84  85  89  96  96  95 105 103 114 132 145 145\n",
       "25   SFN             23  27  19  23  29  19  14  18  11  15   5   4\n",
       "26   SYTL1           71  66  57  63  60  58  50  56  51  56  29  29\n",
       "27   FAM76A          38  41  37  38  44  39  56  56  53  48  70  73\n",
       "28   SMPDL3B         22  20  21  26  17  19  13  17   9  13   2   4\n",
       "29   EPB41           99  87  87  95  92  78  80 103  99 105 169 159\n",
       "30   PTPRU          230 212 212 222 215 216 208 210 198 208  89  82\n",
       "⋮    ⋮              ⋮   ⋮   ⋮   ⋮   ⋮   ⋮   ⋮   ⋮   ⋮   ⋮   ⋮   ⋮  \n",
       "1393 SPIN4          14  12  12   9   11  15  22  18  23  22  39  44\n",
       "1394 ARHGEF9        44  37  48  43   46  58  48  64  56  53  80  69\n",
       "1395 AMER1          23  29  33  19   24  22  30  34  32  29  62  60\n",
       "1396 ZC4H2          31  29  33  30   30  32  45  52  39  38  58  54\n",
       "1397 HMGN5          39  34  26  37   34  42  44  56  50  50  71  68\n",
       "1398 PABPC5         17  14  19  12   14  23  26  29  37  28  45  48\n",
       "1399 NAP1L3         27  15  26  21   25  25  33  38  40  40  54  48\n",
       "1400 FAM133A        27  15  26  21   25  25  33  38  40  40  54  48\n",
       "1401 RPL36A-HNRNPH2 69  69  72  73   63  72  69  82  87  88 102 105\n",
       "1402 HNRNPH2        24  25  28  28   23  27  25  33  35  37  46  50\n",
       "1403 SLC25A53       81  64  63  62   81  82  88 107  94  82 120 124\n",
       "1404 RIPPLY1         4   4   5   4    1   2   8   7  11   9  24  22\n",
       "1405 PRPS1          37  26  32  34   40  49  48  59  61  54  60  65\n",
       "1406 PSMD10         43  36  38  29   44  54  54  73  70  49  79  68\n",
       "1407 NXT2           27  30  25  24   33  29  40  40  41  38  61  53\n",
       "1408 PAK3           99  96  94  86  101 102 118 125 109 110 136 139\n",
       "1409 DCX            46  50  56  44   44  50  59  68  64  57  92  96\n",
       "1410 AMOT           49  58  54  52   55  57  65  78  83  72  94  87\n",
       "1411 HTR2C          64  67  65  72   61  73  46  49  39  43  26  23\n",
       "1412 TEX13D         14  10  10  11    8   8  11  12  11  13  42  49\n",
       "1413 XPNPEP2        72  63  54  58   46  60  50  55  65  46  26  32\n",
       "1414 ELF4           64  70  63  68   65  63  50  54  46  54  32  32\n",
       "1415 ENOX2          87  87  84  80   92  91  90  97 102 104 180 178\n",
       "1416 PHF6           24  21  22  23   33  17  28  29  32  29  45  48\n",
       "1417 ZNF75D         57  56  60  54   51  62  59  60  67  65  94  97\n",
       "1418 ZNF449         20  21  22  22   23  29  25  28  28  26  43  45\n",
       "1419 CD40LG          1   2   3   2   11  12  20  25  23  17  23  29\n",
       "1420 EMD            31  34  26  28   36  39  38  43  49  35  58  64\n",
       "1421 DNASE1L1       39  46  31  43   41  33  35  27  27  29  11  14\n",
       "1422 TAZ            40  38  32  38   37  34  39  25  26  27  11  15"
      ]
     },
     "metadata": {},
     "output_type": "display_data"
    }
   ],
   "source": [
    "fdr <- 0.01\n",
    "res.atac.b[which(res.atac.b$padj < fdr), ] %>% as.data.frame %>% \n",
    "        add_column(\"gene_name\"=atac.counts.perGene$gene_name[which(res.atac.b$padj < fdr)]) %>%\n",
    "        cbind(counts(dds.atac)[which(res.atac.b$padj < fdr),])"
   ]
  },
  {
   "cell_type": "code",
   "execution_count": 141,
   "metadata": {
    "hidden": true
   },
   "outputs": [
    {
     "name": "stderr",
     "output_type": "stream",
     "text": [
      "Parsed with column specification:\n",
      "cols(\n",
      "  `Approved symbol` = \u001b[31mcol_character()\u001b[39m,\n",
      "  `Previous symbols` = \u001b[31mcol_character()\u001b[39m,\n",
      "  Synonyms = \u001b[31mcol_character()\u001b[39m,\n",
      "  `RefSeq IDs` = \u001b[31mcol_character()\u001b[39m,\n",
      "  `Ensembl gene ID` = \u001b[31mcol_character()\u001b[39m\n",
      ")\n",
      "\n"
     ]
    }
   ],
   "source": [
    "gene.name.lookup <- read_delim(\"../gene_names_lookup.txt\", delim=\"\\t\")"
   ]
  },
  {
   "cell_type": "code",
   "execution_count": 143,
   "metadata": {
    "hidden": true
   },
   "outputs": [
    {
     "data": {
      "text/html": [
       "<table>\n",
       "<caption>A tibble: 6 × 5</caption>\n",
       "<thead>\n",
       "\t<tr><th scope=col>Approved symbol</th><th scope=col>Previous symbols</th><th scope=col>Synonyms</th><th scope=col>RefSeq IDs</th><th scope=col>Ensembl gene ID</th></tr>\n",
       "\t<tr><th scope=col>&lt;chr&gt;</th><th scope=col>&lt;chr&gt;</th><th scope=col>&lt;chr&gt;</th><th scope=col>&lt;chr&gt;</th><th scope=col>&lt;chr&gt;</th></tr>\n",
       "</thead>\n",
       "<tbody>\n",
       "\t<tr><td>A1BG    </td><td>NA                         </td><td>NA                               </td><td>NM_130786</td><td>ENSG00000121410</td></tr>\n",
       "\t<tr><td>A1BG-AS1</td><td>NCRNA00181, A1BGAS, A1BG-AS</td><td>FLJ23569                         </td><td>NR_015380</td><td>ENSG00000268895</td></tr>\n",
       "\t<tr><td>A1CF    </td><td>NA                         </td><td>ACF, ASP, ACF64, ACF65, APOBEC1CF</td><td>NM_014576</td><td>ENSG00000148584</td></tr>\n",
       "\t<tr><td>A1S9T   </td><td>NA                         </td><td>NA                               </td><td>NA       </td><td>NA             </td></tr>\n",
       "\t<tr><td>A2M     </td><td>NA                         </td><td>FWP007, S863-7, CPAMD5           </td><td>NM_000014</td><td>ENSG00000175899</td></tr>\n",
       "\t<tr><td>A2M-AS1 </td><td>NA                         </td><td>NA                               </td><td>NR_026971</td><td>ENSG00000245105</td></tr>\n",
       "</tbody>\n",
       "</table>\n"
      ],
      "text/latex": [
       "A tibble: 6 × 5\n",
       "\\begin{tabular}{r|lllll}\n",
       " Approved symbol & Previous symbols & Synonyms & RefSeq IDs & Ensembl gene ID\\\\\n",
       " <chr> & <chr> & <chr> & <chr> & <chr>\\\\\n",
       "\\hline\n",
       "\t A1BG     & NA                          & NA                                & NM\\_130786 & ENSG00000121410\\\\\n",
       "\t A1BG-AS1 & NCRNA00181, A1BGAS, A1BG-AS & FLJ23569                          & NR\\_015380 & ENSG00000268895\\\\\n",
       "\t A1CF     & NA                          & ACF, ASP, ACF64, ACF65, APOBEC1CF & NM\\_014576 & ENSG00000148584\\\\\n",
       "\t A1S9T    & NA                          & NA                                & NA        & NA             \\\\\n",
       "\t A2M      & NA                          & FWP007, S863-7, CPAMD5            & NM\\_000014 & ENSG00000175899\\\\\n",
       "\t A2M-AS1  & NA                          & NA                                & NR\\_026971 & ENSG00000245105\\\\\n",
       "\\end{tabular}\n"
      ],
      "text/markdown": [
       "\n",
       "A tibble: 6 × 5\n",
       "\n",
       "| Approved symbol &lt;chr&gt; | Previous symbols &lt;chr&gt; | Synonyms &lt;chr&gt; | RefSeq IDs &lt;chr&gt; | Ensembl gene ID &lt;chr&gt; |\n",
       "|---|---|---|---|---|\n",
       "| A1BG     | NA                          | NA                                | NM_130786 | ENSG00000121410 |\n",
       "| A1BG-AS1 | NCRNA00181, A1BGAS, A1BG-AS | FLJ23569                          | NR_015380 | ENSG00000268895 |\n",
       "| A1CF     | NA                          | ACF, ASP, ACF64, ACF65, APOBEC1CF | NM_014576 | ENSG00000148584 |\n",
       "| A1S9T    | NA                          | NA                                | NA        | NA              |\n",
       "| A2M      | NA                          | FWP007, S863-7, CPAMD5            | NM_000014 | ENSG00000175899 |\n",
       "| A2M-AS1  | NA                          | NA                                | NR_026971 | ENSG00000245105 |\n",
       "\n"
      ],
      "text/plain": [
       "  Approved symbol Previous symbols            Synonyms                         \n",
       "1 A1BG            NA                          NA                               \n",
       "2 A1BG-AS1        NCRNA00181, A1BGAS, A1BG-AS FLJ23569                         \n",
       "3 A1CF            NA                          ACF, ASP, ACF64, ACF65, APOBEC1CF\n",
       "4 A1S9T           NA                          NA                               \n",
       "5 A2M             NA                          FWP007, S863-7, CPAMD5           \n",
       "6 A2M-AS1         NA                          NA                               \n",
       "  RefSeq IDs Ensembl gene ID\n",
       "1 NM_130786  ENSG00000121410\n",
       "2 NR_015380  ENSG00000268895\n",
       "3 NM_014576  ENSG00000148584\n",
       "4 NA         NA             \n",
       "5 NM_000014  ENSG00000175899\n",
       "6 NR_026971  ENSG00000245105"
      ]
     },
     "metadata": {},
     "output_type": "display_data"
    }
   ],
   "source": [
    "gene.name.lookup %>% head"
   ]
  },
  {
   "cell_type": "code",
   "execution_count": 144,
   "metadata": {
    "hidden": true
   },
   "outputs": [
    {
     "data": {
      "text/html": [
       "<table>\n",
       "<caption>A data.frame: 6 × 4</caption>\n",
       "<thead>\n",
       "\t<tr><th scope=col>motif</th><th scope=col>gene_name</th><th scope=col>is_hit</th><th scope=col>is_tf</th></tr>\n",
       "\t<tr><th scope=col>&lt;chr&gt;</th><th scope=col>&lt;chr&gt;</th><th scope=col>&lt;chr&gt;</th><th scope=col>&lt;chr&gt;</th></tr>\n",
       "</thead>\n",
       "<tbody>\n",
       "\t<tr><td>THRB        </td><td>THRB   </td><td>No</td><td>Yes</td></tr>\n",
       "\t<tr><td>THAP11      </td><td>THAP11 </td><td>No</td><td>Yes</td></tr>\n",
       "\t<tr><td>TFAP4(var.2)</td><td>TFAP4  </td><td>No</td><td>Yes</td></tr>\n",
       "\t<tr><td>TFAP2E      </td><td>TFAP2E </td><td>No</td><td>Yes</td></tr>\n",
       "\t<tr><td>TGIF2LY     </td><td>TGIF2LY</td><td>No</td><td>Yes</td></tr>\n",
       "\t<tr><td>TGIF2LX     </td><td>TGIF2LX</td><td>No</td><td>Yes</td></tr>\n",
       "</tbody>\n",
       "</table>\n"
      ],
      "text/latex": [
       "A data.frame: 6 × 4\n",
       "\\begin{tabular}{r|llll}\n",
       " motif & gene\\_name & is\\_hit & is\\_tf\\\\\n",
       " <chr> & <chr> & <chr> & <chr>\\\\\n",
       "\\hline\n",
       "\t THRB         & THRB    & No & Yes\\\\\n",
       "\t THAP11       & THAP11  & No & Yes\\\\\n",
       "\t TFAP4(var.2) & TFAP4   & No & Yes\\\\\n",
       "\t TFAP2E       & TFAP2E  & No & Yes\\\\\n",
       "\t TGIF2LY      & TGIF2LY & No & Yes\\\\\n",
       "\t TGIF2LX      & TGIF2LX & No & Yes\\\\\n",
       "\\end{tabular}\n"
      ],
      "text/markdown": [
       "\n",
       "A data.frame: 6 × 4\n",
       "\n",
       "| motif &lt;chr&gt; | gene_name &lt;chr&gt; | is_hit &lt;chr&gt; | is_tf &lt;chr&gt; |\n",
       "|---|---|---|---|\n",
       "| THRB         | THRB    | No | Yes |\n",
       "| THAP11       | THAP11  | No | Yes |\n",
       "| TFAP4(var.2) | TFAP4   | No | Yes |\n",
       "| TFAP2E       | TFAP2E  | No | Yes |\n",
       "| TGIF2LY      | TGIF2LY | No | Yes |\n",
       "| TGIF2LX      | TGIF2LX | No | Yes |\n",
       "\n"
      ],
      "text/plain": [
       "  motif        gene_name is_hit is_tf\n",
       "1 THRB         THRB      No     Yes  \n",
       "2 THAP11       THAP11    No     Yes  \n",
       "3 TFAP4(var.2) TFAP4     No     Yes  \n",
       "4 TFAP2E       TFAP2E    No     Yes  \n",
       "5 TGIF2LY      TGIF2LY   No     Yes  \n",
       "6 TGIF2LX      TGIF2LX   No     Yes  "
      ]
     },
     "metadata": {},
     "output_type": "display_data"
    }
   ],
   "source": [
    "motif_lookup %>% head"
   ]
  },
  {
   "cell_type": "code",
   "execution_count": 167,
   "metadata": {
    "hidden": true
   },
   "outputs": [
    {
     "data": {
      "text/html": [
       "<ol class=list-inline>\n",
       "\t<li>'HIST1H2BC'</li>\n",
       "\t<li>'HIST1H1E'</li>\n",
       "</ol>\n"
      ],
      "text/latex": [
       "\\begin{enumerate*}\n",
       "\\item 'HIST1H2BC'\n",
       "\\item 'HIST1H1E'\n",
       "\\end{enumerate*}\n"
      ],
      "text/markdown": [
       "1. 'HIST1H2BC'\n",
       "2. 'HIST1H1E'\n",
       "\n",
       "\n"
      ],
      "text/plain": [
       "[1] \"HIST1H2BC\" \"HIST1H1E\" "
      ]
     },
     "metadata": {},
     "output_type": "display_data"
    }
   ],
   "source": [
    "map_lgl(hitlist, ~ ! .x %in% gene.name.lookup$`Approved symbol`) %>% hitlist[.]"
   ]
  },
  {
   "cell_type": "code",
   "execution_count": 234,
   "metadata": {},
   "outputs": [
    {
     "data": {
      "text/html": [
       "\n",
       "<table width=\"100%\" summary=\"page for mutate_all {dplyr}\"><tr><td>mutate_all {dplyr}</td><td style=\"text-align: right;\">R Documentation</td></tr></table>\n",
       "\n",
       "<h2>Mutate multiple columns</h2>\n",
       "\n",
       "<h3>Description</h3>\n",
       "\n",
       "<p>The scoped variants of <code>mutate()</code> and <code>transmute()</code> make it easy to apply\n",
       "the same transformation to multiple variables. There are three variants:\n",
       "</p>\n",
       "\n",
       "<ul>\n",
       "<li><p> _all affects every variable\n",
       "</p>\n",
       "</li>\n",
       "<li><p> _at affects variables selected with a character vector or vars()\n",
       "</p>\n",
       "</li>\n",
       "<li><p> _if affects variables selected with a predicate function:\n",
       "</p>\n",
       "</li></ul>\n",
       "\n",
       "\n",
       "\n",
       "<h3>Usage</h3>\n",
       "\n",
       "<pre>\n",
       "mutate_all(.tbl, .funs, ...)\n",
       "\n",
       "mutate_if(.tbl, .predicate, .funs, ...)\n",
       "\n",
       "mutate_at(.tbl, .vars, .funs, ..., .cols = NULL)\n",
       "\n",
       "transmute_all(.tbl, .funs, ...)\n",
       "\n",
       "transmute_if(.tbl, .predicate, .funs, ...)\n",
       "\n",
       "transmute_at(.tbl, .vars, .funs, ..., .cols = NULL)\n",
       "</pre>\n",
       "\n",
       "\n",
       "<h3>Arguments</h3>\n",
       "\n",
       "<table summary=\"R argblock\">\n",
       "<tr valign=\"top\"><td><code>.tbl</code></td>\n",
       "<td>\n",
       "<p>A <code>tbl</code> object.</p>\n",
       "</td></tr>\n",
       "<tr valign=\"top\"><td><code>.funs</code></td>\n",
       "<td>\n",
       "<p>A function <code>fun</code>, a quosure style lambda <code>~ fun(.)</code> or a list of either form.</p>\n",
       "</td></tr>\n",
       "<tr valign=\"top\"><td><code>...</code></td>\n",
       "<td>\n",
       "<p>Additional arguments for the function calls in\n",
       "<code>.funs</code>. These are evaluated only once, with tidy dots support.</p>\n",
       "</td></tr>\n",
       "<tr valign=\"top\"><td><code>.predicate</code></td>\n",
       "<td>\n",
       "<p>A predicate function to be applied to the columns\n",
       "or a logical vector. The variables for which <code>.predicate</code> is or\n",
       "returns <code>TRUE</code> are selected. This argument is passed to\n",
       "<code>rlang::as_function()</code> and thus supports quosure-style lambda\n",
       "functions and strings representing function names.</p>\n",
       "</td></tr>\n",
       "<tr valign=\"top\"><td><code>.vars</code></td>\n",
       "<td>\n",
       "<p>A list of columns generated by <code>vars()</code>,\n",
       "a character vector of column names, a numeric vector of column\n",
       "positions, or <code>NULL</code>.</p>\n",
       "</td></tr>\n",
       "<tr valign=\"top\"><td><code>.cols</code></td>\n",
       "<td>\n",
       "<p>This argument has been renamed to <code>.vars</code> to fit\n",
       "dplyr's terminology and is deprecated.</p>\n",
       "</td></tr>\n",
       "</table>\n",
       "\n",
       "\n",
       "<h3>Value</h3>\n",
       "\n",
       "<p>A data frame. By default, the newly created columns have the shortest\n",
       "names needed to uniquely identify the output. To force inclusion of a name,\n",
       "even when not needed, name the input (see examples for details).\n",
       "</p>\n",
       "\n",
       "\n",
       "<h3>Grouping variables</h3>\n",
       "\n",
       "<p>If applied on a grouped tibble, these operations are <em>not</em> applied\n",
       "to the grouping variables. The behaviour depends on whether the\n",
       "selection is <strong>implicit</strong> (<code>all</code> and <code>if</code> selections) or\n",
       "<strong>explicit</strong> (<code>at</code> selections).\n",
       "</p>\n",
       "\n",
       "<ul>\n",
       "<li><p> Grouping variables covered by explicit selections in\n",
       "<code>mutate_at()</code> and <code>transmute_at()</code> are always an error. Add\n",
       "<code>-group_cols()</code> to the <code>vars()</code> selection to avoid this:</p>\n",
       "<pre>data %&gt;% mutate_at(vars(-group_cols(), ...), myoperation)\n",
       "</pre>\n",
       "<p>Or remove <code>group_vars()</code> from the character vector of column names:</p>\n",
       "<pre>nms &lt;- setdiff(nms, group_vars(data))\n",
       "data %&gt;% mutate_at(vars, myoperation)\n",
       "</pre>\n",
       "</li>\n",
       "<li><p> Grouping variables covered by implicit selections are ignored by\n",
       "<code>mutate_all()</code>, <code>transmute_all()</code>, <code>mutate_if()</code>, and\n",
       "<code>transmute_if()</code>.\n",
       "</p>\n",
       "</li></ul>\n",
       "\n",
       "\n",
       "\n",
       "<h3>Naming</h3>\n",
       "\n",
       "<p>The names of the created columns is derived from the names of the\n",
       "input variables and the names of the functions.\n",
       "</p>\n",
       "\n",
       "<ul>\n",
       "<li><p> if there is only one unnamed function, the names of the input variables\n",
       "are used to name the created columns\n",
       "</p>\n",
       "</li>\n",
       "<li><p> if there is only one unnamed variable, the names of the functions\n",
       "are used to name the created columns.\n",
       "</p>\n",
       "</li>\n",
       "<li><p> otherwise in the most general case, the created names are created by\n",
       "concatenating the names of the input variables and the names of the functions.\n",
       "</p>\n",
       "</li></ul>\n",
       "\n",
       "<p>The names of the functions here means the names of the list of functions\n",
       "that is supplied. When needed and not supplied, the name of a function\n",
       "is the prefix &quot;fn&quot; followed by the index of this function within the\n",
       "unnamed functions in the list. Ultimately, names are made\n",
       "unique.\n",
       "</p>\n",
       "\n",
       "\n",
       "<h3>See Also</h3>\n",
       "\n",
       "<p>The other scoped verbs, <code>vars()</code>\n",
       "</p>\n",
       "\n",
       "\n",
       "<h3>Examples</h3>\n",
       "\n",
       "<pre>\n",
       "iris &lt;- as_tibble(iris)\n",
       "\n",
       "# All variants can be passed functions and additional arguments,\n",
       "# purrr-style. The _at() variants directly support strings. Here\n",
       "# we'll scale the variables `height` and `mass`:\n",
       "scale2 &lt;- function(x, na.rm = FALSE) (x - mean(x, na.rm = na.rm)) / sd(x, na.rm)\n",
       "starwars %&gt;% mutate_at(c(\"height\", \"mass\"), scale2)\n",
       "\n",
       "# You can pass additional arguments to the function:\n",
       "starwars %&gt;% mutate_at(c(\"height\", \"mass\"), scale2, na.rm = TRUE)\n",
       "\n",
       "# You can also pass formulas to create functions on the spot, purrr-style:\n",
       "starwars %&gt;% mutate_at(c(\"height\", \"mass\"), ~scale2(., na.rm = TRUE))\n",
       "\n",
       "# You can also supply selection helpers to _at() functions but you have\n",
       "# to quote them with vars():\n",
       "iris %&gt;% mutate_at(vars(matches(\"Sepal\")), log)\n",
       "\n",
       "# The _if() variants apply a predicate function (a function that\n",
       "# returns TRUE or FALSE) to determine the relevant subset of\n",
       "# columns. Here we divide all the numeric columns by 100:\n",
       "starwars %&gt;% mutate_if(is.numeric, scale2, na.rm = TRUE)\n",
       "\n",
       "# mutate_if() is particularly useful for transforming variables from\n",
       "# one type to another\n",
       "iris %&gt;% mutate_if(is.factor, as.character)\n",
       "iris %&gt;% mutate_if(is.double, as.integer)\n",
       "\n",
       "\n",
       "# Multiple transformations ----------------------------------------\n",
       "\n",
       "# If you want to apply multiple transformations, pass a list of\n",
       "# functions. When there are multiple functions, they create new\n",
       "# variables instead of modifying the variables in place:\n",
       "iris %&gt;% mutate_if(is.numeric, list(scale2, log))\n",
       "\n",
       "# The list can contain purrr-style formulas:\n",
       "iris %&gt;% mutate_if(is.numeric, list(~scale2(.), ~log(.)))\n",
       "\n",
       "# Note how the new variables include the function name, in order to\n",
       "# keep things distinct. The default names are not always helpful\n",
       "# but you can also supply explicit names:\n",
       "iris %&gt;% mutate_if(is.numeric, list(scale = scale2, log = log))\n",
       "\n",
       "# When there's only one function in the list, it modifies existing\n",
       "# variables in place. Give it a name to instead create new variables:\n",
       "iris %&gt;% mutate_if(is.numeric, list(scale2))\n",
       "iris %&gt;% mutate_if(is.numeric, list(scale = scale2))\n",
       "</pre>\n",
       "\n",
       "<hr /><div style=\"text-align: center;\">[Package <em>dplyr</em> version 0.8.3 ]</div>"
      ],
      "text/latex": [
       "\\inputencoding{utf8}\n",
       "\\HeaderA{mutate\\_all}{Mutate multiple columns}{mutate.Rul.all}\n",
       "\\aliasA{mutate\\_at}{mutate\\_all}{mutate.Rul.at}\n",
       "\\aliasA{mutate\\_if}{mutate\\_all}{mutate.Rul.if}\n",
       "\\aliasA{transmute\\_all}{mutate\\_all}{transmute.Rul.all}\n",
       "\\aliasA{transmute\\_at}{mutate\\_all}{transmute.Rul.at}\n",
       "\\aliasA{transmute\\_if}{mutate\\_all}{transmute.Rul.if}\n",
       "%\n",
       "\\begin{Description}\\relax\n",
       "The \\LinkA{scoped}{scoped} variants of \\code{\\LinkA{mutate()}{mutate}} and \\code{\\LinkA{transmute()}{transmute}} make it easy to apply\n",
       "the same transformation to multiple variables. There are three variants:\n",
       "\\begin{itemize}\n",
       "\n",
       "\\item{} \\_all affects every variable\n",
       "\\item{} \\_at affects variables selected with a character vector or vars()\n",
       "\\item{} \\_if affects variables selected with a predicate function:\n",
       "\n",
       "\\end{itemize}\n",
       "\n",
       "\\end{Description}\n",
       "%\n",
       "\\begin{Usage}\n",
       "\\begin{verbatim}\n",
       "mutate_all(.tbl, .funs, ...)\n",
       "\n",
       "mutate_if(.tbl, .predicate, .funs, ...)\n",
       "\n",
       "mutate_at(.tbl, .vars, .funs, ..., .cols = NULL)\n",
       "\n",
       "transmute_all(.tbl, .funs, ...)\n",
       "\n",
       "transmute_if(.tbl, .predicate, .funs, ...)\n",
       "\n",
       "transmute_at(.tbl, .vars, .funs, ..., .cols = NULL)\n",
       "\\end{verbatim}\n",
       "\\end{Usage}\n",
       "%\n",
       "\\begin{Arguments}\n",
       "\\begin{ldescription}\n",
       "\\item[\\code{.tbl}] A \\code{tbl} object.\n",
       "\n",
       "\\item[\\code{.funs}] A function \\code{fun}, a quosure style lambda \\code{\\textasciitilde{} fun(.)} or a list of either form.\n",
       "\n",
       "\\item[\\code{...}] Additional arguments for the function calls in\n",
       "\\code{.funs}. These are evaluated only once, with \\LinkA{tidy dots}{tidy dots} support.\n",
       "\n",
       "\\item[\\code{.predicate}] A predicate function to be applied to the columns\n",
       "or a logical vector. The variables for which \\code{.predicate} is or\n",
       "returns \\code{TRUE} are selected. This argument is passed to\n",
       "\\code{\\LinkA{rlang::as\\_function()}{rlang::as.Rul.function()}} and thus supports quosure-style lambda\n",
       "functions and strings representing function names.\n",
       "\n",
       "\\item[\\code{.vars}] A list of columns generated by \\code{\\LinkA{vars()}{vars}},\n",
       "a character vector of column names, a numeric vector of column\n",
       "positions, or \\code{NULL}.\n",
       "\n",
       "\\item[\\code{.cols}] This argument has been renamed to \\code{.vars} to fit\n",
       "dplyr's terminology and is deprecated.\n",
       "\\end{ldescription}\n",
       "\\end{Arguments}\n",
       "%\n",
       "\\begin{Value}\n",
       "A data frame. By default, the newly created columns have the shortest\n",
       "names needed to uniquely identify the output. To force inclusion of a name,\n",
       "even when not needed, name the input (see examples for details).\n",
       "\\end{Value}\n",
       "%\n",
       "\\begin{Section}{Grouping variables}\n",
       "\n",
       "\n",
       "If applied on a grouped tibble, these operations are \\emph{not} applied\n",
       "to the grouping variables. The behaviour depends on whether the\n",
       "selection is \\strong{implicit} (\\code{all} and \\code{if} selections) or\n",
       "\\strong{explicit} (\\code{at} selections).\n",
       "\\begin{itemize}\n",
       "\n",
       "\\item{} Grouping variables covered by explicit selections in\n",
       "\\code{mutate\\_at()} and \\code{transmute\\_at()} are always an error. Add\n",
       "\\code{-group\\_cols()} to the \\code{\\LinkA{vars()}{vars}} selection to avoid this:\\begin{alltt}data %>% mutate_at(vars(-group_cols(), ...), myoperation)\n",
       "\\end{alltt}\n",
       "\n",
       "\n",
       "Or remove \\code{group\\_vars()} from the character vector of column names:\\begin{alltt}nms <- setdiff(nms, group_vars(data))\n",
       "data %>% mutate_at(vars, myoperation)\n",
       "\\end{alltt}\n",
       "\n",
       "\\item{} Grouping variables covered by implicit selections are ignored by\n",
       "\\code{mutate\\_all()}, \\code{transmute\\_all()}, \\code{mutate\\_if()}, and\n",
       "\\code{transmute\\_if()}.\n",
       "\n",
       "\\end{itemize}\n",
       "\n",
       "\\end{Section}\n",
       "%\n",
       "\\begin{Section}{Naming}\n",
       "\n",
       "\n",
       "The names of the created columns is derived from the names of the\n",
       "input variables and the names of the functions.\n",
       "\\begin{itemize}\n",
       "\n",
       "\\item{} if there is only one unnamed function, the names of the input variables\n",
       "are used to name the created columns\n",
       "\\item{} if there is only one unnamed variable, the names of the functions\n",
       "are used to name the created columns.\n",
       "\\item{} otherwise in the most general case, the created names are created by\n",
       "concatenating the names of the input variables and the names of the functions.\n",
       "\n",
       "\\end{itemize}\n",
       "\n",
       "\n",
       "The names of the functions here means the names of the list of functions\n",
       "that is supplied. When needed and not supplied, the name of a function\n",
       "is the prefix \"fn\" followed by the index of this function within the\n",
       "unnamed functions in the list. Ultimately, names are made\n",
       "unique.\n",
       "\\end{Section}\n",
       "%\n",
       "\\begin{SeeAlso}\\relax\n",
       "\\LinkA{The other scoped verbs}{scoped}, \\code{\\LinkA{vars()}{vars}}\n",
       "\\end{SeeAlso}\n",
       "%\n",
       "\\begin{Examples}\n",
       "\\begin{ExampleCode}\n",
       "iris <- as_tibble(iris)\n",
       "\n",
       "# All variants can be passed functions and additional arguments,\n",
       "# purrr-style. The _at() variants directly support strings. Here\n",
       "# we'll scale the variables `height` and `mass`:\n",
       "scale2 <- function(x, na.rm = FALSE) (x - mean(x, na.rm = na.rm)) / sd(x, na.rm)\n",
       "starwars %>% mutate_at(c(\"height\", \"mass\"), scale2)\n",
       "\n",
       "# You can pass additional arguments to the function:\n",
       "starwars %>% mutate_at(c(\"height\", \"mass\"), scale2, na.rm = TRUE)\n",
       "\n",
       "# You can also pass formulas to create functions on the spot, purrr-style:\n",
       "starwars %>% mutate_at(c(\"height\", \"mass\"), ~scale2(., na.rm = TRUE))\n",
       "\n",
       "# You can also supply selection helpers to _at() functions but you have\n",
       "# to quote them with vars():\n",
       "iris %>% mutate_at(vars(matches(\"Sepal\")), log)\n",
       "\n",
       "# The _if() variants apply a predicate function (a function that\n",
       "# returns TRUE or FALSE) to determine the relevant subset of\n",
       "# columns. Here we divide all the numeric columns by 100:\n",
       "starwars %>% mutate_if(is.numeric, scale2, na.rm = TRUE)\n",
       "\n",
       "# mutate_if() is particularly useful for transforming variables from\n",
       "# one type to another\n",
       "iris %>% mutate_if(is.factor, as.character)\n",
       "iris %>% mutate_if(is.double, as.integer)\n",
       "\n",
       "\n",
       "# Multiple transformations ----------------------------------------\n",
       "\n",
       "# If you want to apply multiple transformations, pass a list of\n",
       "# functions. When there are multiple functions, they create new\n",
       "# variables instead of modifying the variables in place:\n",
       "iris %>% mutate_if(is.numeric, list(scale2, log))\n",
       "\n",
       "# The list can contain purrr-style formulas:\n",
       "iris %>% mutate_if(is.numeric, list(~scale2(.), ~log(.)))\n",
       "\n",
       "# Note how the new variables include the function name, in order to\n",
       "# keep things distinct. The default names are not always helpful\n",
       "# but you can also supply explicit names:\n",
       "iris %>% mutate_if(is.numeric, list(scale = scale2, log = log))\n",
       "\n",
       "# When there's only one function in the list, it modifies existing\n",
       "# variables in place. Give it a name to instead create new variables:\n",
       "iris %>% mutate_if(is.numeric, list(scale2))\n",
       "iris %>% mutate_if(is.numeric, list(scale = scale2))\n",
       "\\end{ExampleCode}\n",
       "\\end{Examples}"
      ],
      "text/plain": [
       "mutate_all                package:dplyr                R Documentation\n",
       "\n",
       "_\bM_\bu_\bt_\ba_\bt_\be _\bm_\bu_\bl_\bt_\bi_\bp_\bl_\be _\bc_\bo_\bl_\bu_\bm_\bn_\bs\n",
       "\n",
       "_\bD_\be_\bs_\bc_\br_\bi_\bp_\bt_\bi_\bo_\bn:\n",
       "\n",
       "     The scoped variants of ‘mutate()’ and ‘transmute()’ make it easy\n",
       "     to apply the same transformation to multiple variables. There are\n",
       "     three variants:\n",
       "\n",
       "        • _all affects every variable\n",
       "\n",
       "        • _at affects variables selected with a character vector or\n",
       "          vars()\n",
       "\n",
       "        • _if affects variables selected with a predicate function:\n",
       "\n",
       "_\bU_\bs_\ba_\bg_\be:\n",
       "\n",
       "     mutate_all(.tbl, .funs, ...)\n",
       "     \n",
       "     mutate_if(.tbl, .predicate, .funs, ...)\n",
       "     \n",
       "     mutate_at(.tbl, .vars, .funs, ..., .cols = NULL)\n",
       "     \n",
       "     transmute_all(.tbl, .funs, ...)\n",
       "     \n",
       "     transmute_if(.tbl, .predicate, .funs, ...)\n",
       "     \n",
       "     transmute_at(.tbl, .vars, .funs, ..., .cols = NULL)\n",
       "     \n",
       "_\bA_\br_\bg_\bu_\bm_\be_\bn_\bt_\bs:\n",
       "\n",
       "    .tbl: A ‘tbl’ object.\n",
       "\n",
       "   .funs: A function ‘fun’, a quosure style lambda ‘~ fun(.)’ or a list\n",
       "          of either form.\n",
       "\n",
       "     ...: Additional arguments for the function calls in ‘.funs’. These\n",
       "          are evaluated only once, with tidy dots support.\n",
       "\n",
       ".predicate: A predicate function to be applied to the columns or a\n",
       "          logical vector. The variables for which ‘.predicate’ is or\n",
       "          returns ‘TRUE’ are selected. This argument is passed to\n",
       "          ‘rlang::as_function()’ and thus supports quosure-style lambda\n",
       "          functions and strings representing function names.\n",
       "\n",
       "   .vars: A list of columns generated by ‘vars()’, a character vector\n",
       "          of column names, a numeric vector of column positions, or\n",
       "          ‘NULL’.\n",
       "\n",
       "   .cols: This argument has been renamed to ‘.vars’ to fit dplyr's\n",
       "          terminology and is deprecated.\n",
       "\n",
       "_\bV_\ba_\bl_\bu_\be:\n",
       "\n",
       "     A data frame. By default, the newly created columns have the\n",
       "     shortest names needed to uniquely identify the output. To force\n",
       "     inclusion of a name, even when not needed, name the input (see\n",
       "     examples for details).\n",
       "\n",
       "_\bG_\br_\bo_\bu_\bp_\bi_\bn_\bg _\bv_\ba_\br_\bi_\ba_\bb_\bl_\be_\bs:\n",
       "\n",
       "     If applied on a grouped tibble, these operations are _not_ applied\n",
       "     to the grouping variables. The behaviour depends on whether the\n",
       "     selection is *implicit* (‘all’ and ‘if’ selections) or *explicit*\n",
       "     (‘at’ selections).\n",
       "\n",
       "        • Grouping variables covered by explicit selections in\n",
       "          ‘mutate_at()’ and ‘transmute_at()’ are always an error. Add\n",
       "          ‘-group_cols()’ to the ‘vars()’ selection to avoid this:\n",
       "          \n",
       "          data %>% mutate_at(vars(-group_cols(), ...), myoperation)\n",
       "\n",
       "          Or remove ‘group_vars()’ from the character vector of column\n",
       "          names:\n",
       "          \n",
       "          nms <- setdiff(nms, group_vars(data))\n",
       "          data %>% mutate_at(vars, myoperation)\n",
       "\n",
       "        • Grouping variables covered by implicit selections are ignored\n",
       "          by ‘mutate_all()’, ‘transmute_all()’, ‘mutate_if()’, and\n",
       "          ‘transmute_if()’.\n",
       "\n",
       "_\bN_\ba_\bm_\bi_\bn_\bg:\n",
       "\n",
       "     The names of the created columns is derived from the names of the\n",
       "     input variables and the names of the functions.\n",
       "\n",
       "        • if there is only one unnamed function, the names of the input\n",
       "          variables are used to name the created columns\n",
       "\n",
       "        • if there is only one unnamed variable, the names of the\n",
       "          functions are used to name the created columns.\n",
       "\n",
       "        • otherwise in the most general case, the created names are\n",
       "          created by concatenating the names of the input variables and\n",
       "          the names of the functions.\n",
       "\n",
       "     The names of the functions here means the names of the list of\n",
       "     functions that is supplied. When needed and not supplied, the name\n",
       "     of a function is the prefix \"fn\" followed by the index of this\n",
       "     function within the unnamed functions in the list. Ultimately,\n",
       "     names are made unique.\n",
       "\n",
       "_\bS_\be_\be _\bA_\bl_\bs_\bo:\n",
       "\n",
       "     The other scoped verbs, ‘vars()’\n",
       "\n",
       "_\bE_\bx_\ba_\bm_\bp_\bl_\be_\bs:\n",
       "\n",
       "     iris <- as_tibble(iris)\n",
       "     \n",
       "     # All variants can be passed functions and additional arguments,\n",
       "     # purrr-style. The _at() variants directly support strings. Here\n",
       "     # we'll scale the variables `height` and `mass`:\n",
       "     scale2 <- function(x, na.rm = FALSE) (x - mean(x, na.rm = na.rm)) / sd(x, na.rm)\n",
       "     starwars %>% mutate_at(c(\"height\", \"mass\"), scale2)\n",
       "     \n",
       "     # You can pass additional arguments to the function:\n",
       "     starwars %>% mutate_at(c(\"height\", \"mass\"), scale2, na.rm = TRUE)\n",
       "     \n",
       "     # You can also pass formulas to create functions on the spot, purrr-style:\n",
       "     starwars %>% mutate_at(c(\"height\", \"mass\"), ~scale2(., na.rm = TRUE))\n",
       "     \n",
       "     # You can also supply selection helpers to _at() functions but you have\n",
       "     # to quote them with vars():\n",
       "     iris %>% mutate_at(vars(matches(\"Sepal\")), log)\n",
       "     \n",
       "     # The _if() variants apply a predicate function (a function that\n",
       "     # returns TRUE or FALSE) to determine the relevant subset of\n",
       "     # columns. Here we divide all the numeric columns by 100:\n",
       "     starwars %>% mutate_if(is.numeric, scale2, na.rm = TRUE)\n",
       "     \n",
       "     # mutate_if() is particularly useful for transforming variables from\n",
       "     # one type to another\n",
       "     iris %>% mutate_if(is.factor, as.character)\n",
       "     iris %>% mutate_if(is.double, as.integer)\n",
       "     \n",
       "     \n",
       "     # Multiple transformations ----------------------------------------\n",
       "     \n",
       "     # If you want to apply multiple transformations, pass a list of\n",
       "     # functions. When there are multiple functions, they create new\n",
       "     # variables instead of modifying the variables in place:\n",
       "     iris %>% mutate_if(is.numeric, list(scale2, log))\n",
       "     \n",
       "     # The list can contain purrr-style formulas:\n",
       "     iris %>% mutate_if(is.numeric, list(~scale2(.), ~log(.)))\n",
       "     \n",
       "     # Note how the new variables include the function name, in order to\n",
       "     # keep things distinct. The default names are not always helpful\n",
       "     # but you can also supply explicit names:\n",
       "     iris %>% mutate_if(is.numeric, list(scale = scale2, log = log))\n",
       "     \n",
       "     # When there's only one function in the list, it modifies existing\n",
       "     # variables in place. Give it a name to instead create new variables:\n",
       "     iris %>% mutate_if(is.numeric, list(scale2))\n",
       "     iris %>% mutate_if(is.numeric, list(scale = scale2))\n",
       "     "
      ]
     },
     "metadata": {},
     "output_type": "display_data"
    }
   ],
   "source": [
    "?mutate_at"
   ]
  },
  {
   "cell_type": "code",
   "execution_count": null,
   "metadata": {},
   "outputs": [],
   "source": []
  }
 ],
 "metadata": {
  "kernelspec": {
   "display_name": "R 4.1.0",
   "language": "R",
   "name": "r41"
  },
  "language_info": {
   "codemirror_mode": "r",
   "file_extension": ".r",
   "mimetype": "text/x-r-source",
   "name": "R",
   "pygments_lexer": "r",
   "version": "4.1.0"
  }
 },
 "nbformat": 4,
 "nbformat_minor": 4
}
